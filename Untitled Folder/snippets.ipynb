{
 "cells": [
  {
   "cell_type": "code",
   "execution_count": null,
   "id": "da012684",
   "metadata": {},
   "outputs": [],
   "source": [
    "from scrapy.http import HtmlResponse\n",
    "import requests\n",
    "\n",
    "l = {}\n",
    "for t in TICKERS:\n",
    "    it = requests.get(f'https://finance.yahoo.com/quote/{t}/profile?p={t}')\n",
    "    response = HtmlResponse(url=\"my HTML string\", body=it.content, encoding='utf-8')\n",
    "    industry = response.xpath('//span[contains(text(), \"Sector(s)\")]/following-sibling::span[1]/text()').get()\n",
    "    prev = l.get(industry, [])\n",
    "    prev.append(t)\n",
    "    l[industry] = prev\n",
    "    print(t, industry)\n",
    "    \n",
    "print(l)"
   ]
  },
  {
   "cell_type": "code",
   "execution_count": null,
   "id": "1b328aea",
   "metadata": {},
   "outputs": [],
   "source": [
    "for i in sorted([str(x) for x in l.keys()]):\n",
    "    print(i)"
   ]
  },
  {
   "cell_type": "code",
   "execution_count": null,
   "id": "1c4c3da6",
   "metadata": {},
   "outputs": [],
   "source": [
    "-=========================== from step 3 V"
   ]
  },
  {
   "cell_type": "code",
   "execution_count": null,
   "id": "8213702e",
   "metadata": {},
   "outputs": [],
   "source": [
    "for i in range(21):\n",
    "    year = f'20{i}' if i >= 10 else f'200{i}'\n",
    "    for j in range(1, 13):\n",
    "        month = f'{j}' if j >= 10 else f'0{j}'\n",
    "        ym = f'{year}-{month}'\n",
    "        print(ym, len(df[df['date'].str.contains(ym)]))\n",
    "        \n",
    "        \n",
    "# in df.iloc[0]['date'] \n"
   ]
  },
  {
   "cell_type": "code",
   "execution_count": null,
   "id": "2471460f",
   "metadata": {},
   "outputs": [],
   "source": [
    "# Compute graphs"
   ]
  },
  {
   "cell_type": "code",
   "execution_count": null,
   "id": "49927933",
   "metadata": {},
   "outputs": [],
   "source": [
    "tmp = df[['perc_change']]\n",
    "tmp['percentage change'] = tmp['perc_change']\n",
    "tmp = tmp.drop('perc_change', axis=1)\n",
    "tmp['periods'] = df['days_ago_close_period']"
   ]
  },
  {
   "cell_type": "code",
   "execution_count": null,
   "id": "ed22f40e",
   "metadata": {},
   "outputs": [],
   "source": [
    "a = tmp.groupby('periods')['percentage change'].mean()"
   ]
  },
  {
   "cell_type": "code",
   "execution_count": null,
   "id": "9f8b1b06",
   "metadata": {},
   "outputs": [],
   "source": [
    "a = a.reset_index()"
   ]
  },
  {
   "cell_type": "code",
   "execution_count": null,
   "id": "22546855",
   "metadata": {},
   "outputs": [],
   "source": [
    "import seaborn as sns\n",
    "\n",
    "sns.catplot(x=\"percentage change\", kind=\"count\", palette=\"ch:.25\", data=a)\n"
   ]
  },
  {
   "cell_type": "code",
   "execution_count": null,
   "id": "a00ce148",
   "metadata": {},
   "outputs": [],
   "source": [
    "a.plot.bar(x='periods', y='percentage change')"
   ]
  },
  {
   "cell_type": "code",
   "execution_count": null,
   "id": "1a0724b5",
   "metadata": {},
   "outputs": [],
   "source": [
    "tmp = df[['perc_change', 'stochastic8']]\n",
    "tmp['percentage change'] = tmp['perc_change']\n",
    "tmp['is_profitable'] = tmp['percentage change'] > 0\n",
    "tmp = tmp.drop('perc_change', axis=1)\n",
    "tmp['periods'] = df['days_ago_close_period']"
   ]
  },
  {
   "cell_type": "code",
   "execution_count": null,
   "id": "3ed9e715",
   "metadata": {},
   "outputs": [],
   "source": [
    "a4_dims = (12, 6)\n",
    "import matplotlib.pyplot as plt\n",
    "fig, ax = plt.subplots(figsize=a4_dims)\n",
    "\n",
    "sns.set_theme(style=\"dark\")\n",
    "sns.scatterplot(\n",
    "    ax=ax, data=tmp, x='periods', y='percentage change', hue=\"is_profitable\"\n",
    ")"
   ]
  },
  {
   "cell_type": "code",
   "execution_count": null,
   "id": "ab08b521",
   "metadata": {},
   "outputs": [],
   "source": [
    "a4_dims = (12, 6)\n",
    "import matplotlib.pyplot as plt\n",
    "fig, ax = plt.subplots(figsize=a4_dims)\n",
    "\n",
    "sns.set_theme(style=\"dark\")\n",
    "sns.scatterplot(\n",
    "    ax=ax, data=tmp, x='periods', y='stochastic8', hue=\"is_profitable\"\n",
    ")"
   ]
  },
  {
   "cell_type": "code",
   "execution_count": null,
   "id": "76693c35",
   "metadata": {},
   "outputs": [],
   "source": [
    "======================================================================="
   ]
  },
  {
   "cell_type": "code",
   "execution_count": null,
   "id": "d2d8af81",
   "metadata": {},
   "outputs": [],
   "source": [
    "!pip install dask tqdm\n",
    "!pip install python-dateutil\n",
    "!pip install git+https://github.com/trsvchn/calabar.git\n",
    "!pip3 install backtrader\n",
    "!pip3 install pyfolio\n",
    "!pip3 install tqdm\n",
    "!pip3 install wheel\n",
    "!pip3 install pandas\n",
    "!pip3 install dask\n",
    "!pip3 install graphviz\n",
    "!pip3 install python-dateutil"
   ]
  }
 ],
 "metadata": {
  "kernelspec": {
   "display_name": "Python 3",
   "language": "python",
   "name": "python3"
  },
  "language_info": {
   "codemirror_mode": {
    "name": "ipython",
    "version": 3
   },
   "file_extension": ".py",
   "mimetype": "text/x-python",
   "name": "python",
   "nbconvert_exporter": "python",
   "pygments_lexer": "ipython3",
   "version": "3.8.10"
  }
 },
 "nbformat": 4,
 "nbformat_minor": 5
}
