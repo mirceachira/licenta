{
 "cells": [
  {
   "cell_type": "markdown",
   "metadata": {},
   "source": [
    "### Automated backwards optimization\n",
    "\n",
    "Automate the discovery of strategy rules."
   ]
  },
  {
   "cell_type": "code",
   "execution_count": 2,
   "metadata": {},
   "outputs": [],
   "source": [
    "import datetime\n",
    "import json\n",
    "from datetime import timedelta\n",
    "from dateutil.relativedelta import relativedelta\n",
    "from dateutil import rrule\n",
    "from itertools import product, combinations\n",
    "\n",
    "import numpy as np\n",
    "\n",
    "import pandas as pd\n",
    "import tqdm\n",
    "from matplotlib import pyplot\n",
    "import seaborn as sns\n",
    "import dask.dataframe as dd\n",
    "\n",
    "# TIMEFRAME = 'daily'\n",
    "TIMEFRAME = \"weekly\"\n",
    "\n",
    "# FRAMEWORK = 'dask'\n",
    "FRAMEWORK = \"pandas\"\n",
    "\n",
    "FIRST_DATE = datetime.datetime(2000, 1, 1)\n",
    "LAST_DATE = datetime.datetime(2020, 12, 31)\n",
    "\n",
    "FORWARD_OPT_RESULTS_JSON = f\"results/{TIMEFRAME}/forward_opt_results.json\"\n",
    "BACKWARD_OPT_RESULTS_JSON = f\"results/{TIMEFRAME}/backward_opt_results.json\"\n",
    "\n",
    "# The minimum number of trades in a period for it to be considered.\n",
    "MIN_TRADES_REQUIRED = 10"
   ]
  },
  {
   "cell_type": "code",
   "execution_count": 3,
   "metadata": {},
   "outputs": [],
   "source": [
    "metrics_options = [\"adx\", \"ppo\", \"stochastic\"]\n",
    "\n",
    "\n",
    "if TIMEFRAME == \"daily\":\n",
    "    size_options = [8, 16, 32]\n",
    "    path = \"dataset/daily/\"\n",
    "    column_names = [\n",
    "        \"uid\",\n",
    "        \"ticker\",\n",
    "        \"date\",\n",
    "        \"price_open\",\n",
    "        \"maperiod\",\n",
    "        \"rsi_open_period\",\n",
    "        \"adx8\",\n",
    "        \"adx16\",\n",
    "        \"adx32\",\n",
    "        \"ppo8\",\n",
    "        \"ppo16\",\n",
    "        \"ppo32\",\n",
    "        \"stochastic8\",\n",
    "        \"stochastic16\",\n",
    "        \"stochastic32\",\n",
    "        \"price_sell\",\n",
    "        \"days_ago_close_period\",\n",
    "        \"rsi_close_period\",\n",
    "    ]\n",
    "elif TIMEFRAME == \"weekly\":\n",
    "    size_options = [3, 6, 9]\n",
    "    path = \"dataset/weekly/\"\n",
    "    column_names = [\n",
    "        \"uid\",\n",
    "        \"ticker\",\n",
    "        \"date\",\n",
    "        \"price_open\",\n",
    "        \"maperiod\",\n",
    "        \"rsi_open_period\",\n",
    "        \"adx3\",\n",
    "        \"adx6\",\n",
    "        \"adx9\",\n",
    "        \"ppo3\",\n",
    "        \"ppo6\",\n",
    "        \"ppo9\",\n",
    "        \"stochastic3\",\n",
    "        \"stochastic6\",\n",
    "        \"stochastic9\",\n",
    "        \"price_sell\",\n",
    "        \"days_ago_close_period\",\n",
    "        \"rsi_close_period\",\n",
    "    ]\n",
    "\n",
    "if FRAMEWORK == \"pandas\":\n",
    "    d = pd\n",
    "    f = f\"{path}/all_results.csv\"\n",
    "elif FRAMEWORK == \"dask\":\n",
    "    d = dd\n",
    "    f = f\"{path}/*.csv\"\n",
    "\n",
    "FULL_DF = d.read_csv(\n",
    "    f,\n",
    "    names=column_names,\n",
    ")\n",
    "\n",
    "\n",
    "def get_full_df():\n",
    "    return d.read_csv(\n",
    "        f,\n",
    "        names=column_names,\n",
    "    )"
   ]
  },
  {
   "cell_type": "code",
   "execution_count": 4,
   "metadata": {},
   "outputs": [
    {
     "data": {
      "text/html": [
       "<div>\n",
       "<style scoped>\n",
       "    .dataframe tbody tr th:only-of-type {\n",
       "        vertical-align: middle;\n",
       "    }\n",
       "\n",
       "    .dataframe tbody tr th {\n",
       "        vertical-align: top;\n",
       "    }\n",
       "\n",
       "    .dataframe thead th {\n",
       "        text-align: right;\n",
       "    }\n",
       "</style>\n",
       "<table border=\"1\" class=\"dataframe\">\n",
       "  <thead>\n",
       "    <tr style=\"text-align: right;\">\n",
       "      <th></th>\n",
       "      <th>uid</th>\n",
       "      <th>ticker</th>\n",
       "      <th>date</th>\n",
       "      <th>price_open</th>\n",
       "      <th>maperiod</th>\n",
       "      <th>rsi_open_period</th>\n",
       "      <th>adx3</th>\n",
       "      <th>adx6</th>\n",
       "      <th>adx9</th>\n",
       "      <th>ppo3</th>\n",
       "      <th>ppo6</th>\n",
       "      <th>ppo9</th>\n",
       "      <th>stochastic3</th>\n",
       "      <th>stochastic6</th>\n",
       "      <th>stochastic9</th>\n",
       "      <th>price_sell</th>\n",
       "      <th>days_ago_close_period</th>\n",
       "      <th>rsi_close_period</th>\n",
       "    </tr>\n",
       "  </thead>\n",
       "  <tbody>\n",
       "    <tr>\n",
       "      <th>0</th>\n",
       "      <td>48c17ecc-c05c-11eb-8547-95fa4750c8c5</td>\n",
       "      <td>ABT</td>\n",
       "      <td>1998-12-10</td>\n",
       "      <td>12.32</td>\n",
       "      <td>35</td>\n",
       "      <td>2</td>\n",
       "      <td>55.428198</td>\n",
       "      <td>24.777688</td>\n",
       "      <td>20.590541</td>\n",
       "      <td>11.332148</td>\n",
       "      <td>11.039301</td>\n",
       "      <td>9.796907</td>\n",
       "      <td>51.086957</td>\n",
       "      <td>60.635452</td>\n",
       "      <td>76.149917</td>\n",
       "      <td>12.93</td>\n",
       "      <td>0</td>\n",
       "      <td>61.107269</td>\n",
       "    </tr>\n",
       "    <tr>\n",
       "      <th>1</th>\n",
       "      <td>48c184da-c05c-11eb-8547-95fa4750c8c5</td>\n",
       "      <td>ABT</td>\n",
       "      <td>1998-10-01</td>\n",
       "      <td>11.13</td>\n",
       "      <td>30</td>\n",
       "      <td>2</td>\n",
       "      <td>34.046867</td>\n",
       "      <td>22.352198</td>\n",
       "      <td>23.652706</td>\n",
       "      <td>6.676282</td>\n",
       "      <td>6.655369</td>\n",
       "      <td>6.145646</td>\n",
       "      <td>61.615041</td>\n",
       "      <td>77.178423</td>\n",
       "      <td>77.178423</td>\n",
       "      <td>11.67</td>\n",
       "      <td>0</td>\n",
       "      <td>64.068306</td>\n",
       "    </tr>\n",
       "    <tr>\n",
       "      <th>2</th>\n",
       "      <td>48c1a488-c05c-11eb-8547-95fa4750c8c5</td>\n",
       "      <td>ABT</td>\n",
       "      <td>1999-01-21</td>\n",
       "      <td>12.26</td>\n",
       "      <td>30</td>\n",
       "      <td>4</td>\n",
       "      <td>60.347924</td>\n",
       "      <td>26.885536</td>\n",
       "      <td>19.231565</td>\n",
       "      <td>4.499533</td>\n",
       "      <td>5.571080</td>\n",
       "      <td>5.589020</td>\n",
       "      <td>48.482984</td>\n",
       "      <td>44.457008</td>\n",
       "      <td>44.124282</td>\n",
       "      <td>12.50</td>\n",
       "      <td>0</td>\n",
       "      <td>43.644592</td>\n",
       "    </tr>\n",
       "    <tr>\n",
       "      <th>3</th>\n",
       "      <td>48c17ecc-c05c-11eb-8547-95fa4750c8c5</td>\n",
       "      <td>ABT</td>\n",
       "      <td>1998-12-10</td>\n",
       "      <td>12.32</td>\n",
       "      <td>35</td>\n",
       "      <td>2</td>\n",
       "      <td>55.428198</td>\n",
       "      <td>24.777688</td>\n",
       "      <td>20.590541</td>\n",
       "      <td>11.332148</td>\n",
       "      <td>11.039301</td>\n",
       "      <td>9.796907</td>\n",
       "      <td>51.086957</td>\n",
       "      <td>60.635452</td>\n",
       "      <td>76.149917</td>\n",
       "      <td>12.99</td>\n",
       "      <td>1</td>\n",
       "      <td>64.866750</td>\n",
       "    </tr>\n",
       "    <tr>\n",
       "      <th>4</th>\n",
       "      <td>48c184da-c05c-11eb-8547-95fa4750c8c5</td>\n",
       "      <td>ABT</td>\n",
       "      <td>1998-10-01</td>\n",
       "      <td>11.13</td>\n",
       "      <td>30</td>\n",
       "      <td>2</td>\n",
       "      <td>34.046867</td>\n",
       "      <td>22.352198</td>\n",
       "      <td>23.652706</td>\n",
       "      <td>6.676282</td>\n",
       "      <td>6.655369</td>\n",
       "      <td>6.145646</td>\n",
       "      <td>61.615041</td>\n",
       "      <td>77.178423</td>\n",
       "      <td>77.178423</td>\n",
       "      <td>11.99</td>\n",
       "      <td>1</td>\n",
       "      <td>77.572977</td>\n",
       "    </tr>\n",
       "    <tr>\n",
       "      <th>...</th>\n",
       "      <td>...</td>\n",
       "      <td>...</td>\n",
       "      <td>...</td>\n",
       "      <td>...</td>\n",
       "      <td>...</td>\n",
       "      <td>...</td>\n",
       "      <td>...</td>\n",
       "      <td>...</td>\n",
       "      <td>...</td>\n",
       "      <td>...</td>\n",
       "      <td>...</td>\n",
       "      <td>...</td>\n",
       "      <td>...</td>\n",
       "      <td>...</td>\n",
       "      <td>...</td>\n",
       "      <td>...</td>\n",
       "      <td>...</td>\n",
       "      <td>...</td>\n",
       "    </tr>\n",
       "    <tr>\n",
       "      <th>42591</th>\n",
       "      <td>f63491be-c05d-11eb-8548-95fa4750c8c5</td>\n",
       "      <td>MO</td>\n",
       "      <td>2020-09-10</td>\n",
       "      <td>39.43</td>\n",
       "      <td>55</td>\n",
       "      <td>2</td>\n",
       "      <td>51.966974</td>\n",
       "      <td>37.774219</td>\n",
       "      <td>25.053262</td>\n",
       "      <td>1.285612</td>\n",
       "      <td>1.363133</td>\n",
       "      <td>0.626082</td>\n",
       "      <td>41.304850</td>\n",
       "      <td>58.722201</td>\n",
       "      <td>67.418177</td>\n",
       "      <td>37.22</td>\n",
       "      <td>1</td>\n",
       "      <td>27.583623</td>\n",
       "    </tr>\n",
       "    <tr>\n",
       "      <th>42592</th>\n",
       "      <td>f63491be-c05d-11eb-8548-95fa4750c8c5</td>\n",
       "      <td>MO</td>\n",
       "      <td>2020-09-10</td>\n",
       "      <td>39.43</td>\n",
       "      <td>55</td>\n",
       "      <td>2</td>\n",
       "      <td>51.966974</td>\n",
       "      <td>37.774219</td>\n",
       "      <td>25.053262</td>\n",
       "      <td>1.285612</td>\n",
       "      <td>1.363133</td>\n",
       "      <td>0.626082</td>\n",
       "      <td>41.304850</td>\n",
       "      <td>58.722201</td>\n",
       "      <td>67.418177</td>\n",
       "      <td>39.04</td>\n",
       "      <td>2</td>\n",
       "      <td>69.312192</td>\n",
       "    </tr>\n",
       "    <tr>\n",
       "      <th>42593</th>\n",
       "      <td>f63491be-c05d-11eb-8548-95fa4750c8c5</td>\n",
       "      <td>MO</td>\n",
       "      <td>2020-09-10</td>\n",
       "      <td>39.43</td>\n",
       "      <td>55</td>\n",
       "      <td>2</td>\n",
       "      <td>51.966974</td>\n",
       "      <td>37.774219</td>\n",
       "      <td>25.053262</td>\n",
       "      <td>1.285612</td>\n",
       "      <td>1.363133</td>\n",
       "      <td>0.626082</td>\n",
       "      <td>41.304850</td>\n",
       "      <td>58.722201</td>\n",
       "      <td>67.418177</td>\n",
       "      <td>38.10</td>\n",
       "      <td>3</td>\n",
       "      <td>43.449716</td>\n",
       "    </tr>\n",
       "    <tr>\n",
       "      <th>42594</th>\n",
       "      <td>f63491be-c05d-11eb-8548-95fa4750c8c5</td>\n",
       "      <td>MO</td>\n",
       "      <td>2020-09-10</td>\n",
       "      <td>39.43</td>\n",
       "      <td>55</td>\n",
       "      <td>2</td>\n",
       "      <td>51.966974</td>\n",
       "      <td>37.774219</td>\n",
       "      <td>25.053262</td>\n",
       "      <td>1.285612</td>\n",
       "      <td>1.363133</td>\n",
       "      <td>0.626082</td>\n",
       "      <td>41.304850</td>\n",
       "      <td>58.722201</td>\n",
       "      <td>67.418177</td>\n",
       "      <td>37.09</td>\n",
       "      <td>4</td>\n",
       "      <td>24.114173</td>\n",
       "    </tr>\n",
       "    <tr>\n",
       "      <th>42595</th>\n",
       "      <td>f63491be-c05d-11eb-8548-95fa4750c8c5</td>\n",
       "      <td>MO</td>\n",
       "      <td>2020-09-10</td>\n",
       "      <td>39.43</td>\n",
       "      <td>55</td>\n",
       "      <td>2</td>\n",
       "      <td>51.966974</td>\n",
       "      <td>37.774219</td>\n",
       "      <td>25.053262</td>\n",
       "      <td>1.285612</td>\n",
       "      <td>1.363133</td>\n",
       "      <td>0.626082</td>\n",
       "      <td>41.304850</td>\n",
       "      <td>58.722201</td>\n",
       "      <td>67.418177</td>\n",
       "      <td>35.37</td>\n",
       "      <td>5</td>\n",
       "      <td>9.585562</td>\n",
       "    </tr>\n",
       "  </tbody>\n",
       "</table>\n",
       "<p>42596 rows × 18 columns</p>\n",
       "</div>"
      ],
      "text/plain": [
       "                                        uid ticker        date  price_open  \\\n",
       "0      48c17ecc-c05c-11eb-8547-95fa4750c8c5    ABT  1998-12-10       12.32   \n",
       "1      48c184da-c05c-11eb-8547-95fa4750c8c5    ABT  1998-10-01       11.13   \n",
       "2      48c1a488-c05c-11eb-8547-95fa4750c8c5    ABT  1999-01-21       12.26   \n",
       "3      48c17ecc-c05c-11eb-8547-95fa4750c8c5    ABT  1998-12-10       12.32   \n",
       "4      48c184da-c05c-11eb-8547-95fa4750c8c5    ABT  1998-10-01       11.13   \n",
       "...                                     ...    ...         ...         ...   \n",
       "42591  f63491be-c05d-11eb-8548-95fa4750c8c5     MO  2020-09-10       39.43   \n",
       "42592  f63491be-c05d-11eb-8548-95fa4750c8c5     MO  2020-09-10       39.43   \n",
       "42593  f63491be-c05d-11eb-8548-95fa4750c8c5     MO  2020-09-10       39.43   \n",
       "42594  f63491be-c05d-11eb-8548-95fa4750c8c5     MO  2020-09-10       39.43   \n",
       "42595  f63491be-c05d-11eb-8548-95fa4750c8c5     MO  2020-09-10       39.43   \n",
       "\n",
       "       maperiod  rsi_open_period       adx3       adx6       adx9       ppo3  \\\n",
       "0            35                2  55.428198  24.777688  20.590541  11.332148   \n",
       "1            30                2  34.046867  22.352198  23.652706   6.676282   \n",
       "2            30                4  60.347924  26.885536  19.231565   4.499533   \n",
       "3            35                2  55.428198  24.777688  20.590541  11.332148   \n",
       "4            30                2  34.046867  22.352198  23.652706   6.676282   \n",
       "...         ...              ...        ...        ...        ...        ...   \n",
       "42591        55                2  51.966974  37.774219  25.053262   1.285612   \n",
       "42592        55                2  51.966974  37.774219  25.053262   1.285612   \n",
       "42593        55                2  51.966974  37.774219  25.053262   1.285612   \n",
       "42594        55                2  51.966974  37.774219  25.053262   1.285612   \n",
       "42595        55                2  51.966974  37.774219  25.053262   1.285612   \n",
       "\n",
       "            ppo6      ppo9  stochastic3  stochastic6  stochastic9  price_sell  \\\n",
       "0      11.039301  9.796907    51.086957    60.635452    76.149917       12.93   \n",
       "1       6.655369  6.145646    61.615041    77.178423    77.178423       11.67   \n",
       "2       5.571080  5.589020    48.482984    44.457008    44.124282       12.50   \n",
       "3      11.039301  9.796907    51.086957    60.635452    76.149917       12.99   \n",
       "4       6.655369  6.145646    61.615041    77.178423    77.178423       11.99   \n",
       "...          ...       ...          ...          ...          ...         ...   \n",
       "42591   1.363133  0.626082    41.304850    58.722201    67.418177       37.22   \n",
       "42592   1.363133  0.626082    41.304850    58.722201    67.418177       39.04   \n",
       "42593   1.363133  0.626082    41.304850    58.722201    67.418177       38.10   \n",
       "42594   1.363133  0.626082    41.304850    58.722201    67.418177       37.09   \n",
       "42595   1.363133  0.626082    41.304850    58.722201    67.418177       35.37   \n",
       "\n",
       "       days_ago_close_period  rsi_close_period  \n",
       "0                          0         61.107269  \n",
       "1                          0         64.068306  \n",
       "2                          0         43.644592  \n",
       "3                          1         64.866750  \n",
       "4                          1         77.572977  \n",
       "...                      ...               ...  \n",
       "42591                      1         27.583623  \n",
       "42592                      2         69.312192  \n",
       "42593                      3         43.449716  \n",
       "42594                      4         24.114173  \n",
       "42595                      5          9.585562  \n",
       "\n",
       "[42596 rows x 18 columns]"
      ]
     },
     "execution_count": 4,
     "metadata": {},
     "output_type": "execute_result"
    }
   ],
   "source": [
    "get_full_df()"
   ]
  },
  {
   "cell_type": "code",
   "execution_count": 5,
   "metadata": {},
   "outputs": [],
   "source": [
    "def get_forward_opt_json():\n",
    "    with open(FORWARD_OPT_RESULTS_JSON, \"r\") as f:\n",
    "        return json.loads(f.read())\n",
    "\n",
    "\n",
    "FORWARD_OPT_JSON = get_forward_opt_json()\n",
    "\n",
    "\n",
    "def get_pair_entry(start_date, end_date):\n",
    "    return (\n",
    "        f\"{start_date.strftime('%y-%m')}-to-{end_date.strftime('%y-%m')}\",\n",
    "        start_date,\n",
    "        end_date,\n",
    "    )\n",
    "\n",
    "\n",
    "def filter_df_by_dates(df, start_date, end_date):\n",
    "    return df[\n",
    "        (df[\"date\"] >= start_date.strftime(\"%Y-%m-%d\"))\n",
    "        & (df[\"date\"] <= end_date.strftime(\"%Y-%m-%d\"))\n",
    "    ]\n",
    "\n",
    "\n",
    "def get_filtered_df_by_key(key, range_name, func_type):\n",
    "    optimal_args = FORWARD_OPT_JSON[key][range_name][func_type]\n",
    "\n",
    "    all_date_ranges = generate_date_ranges()\n",
    "    _, start_date, end_date = all_date_ranges[key][range_name]\n",
    "\n",
    "    df = get_full_df()\n",
    "    df = filter_df_by_dates(df, start_date, end_date)\n",
    "\n",
    "    for k, v in optimal_args.items():\n",
    "        df = df[df[k] == v]\n",
    "\n",
    "    return df\n",
    "\n",
    "\n",
    "def generate_date_ranges():\n",
    "    resulting_dict = {}\n",
    "    for end_date in rrule.rrule(rrule.MONTHLY, dtstart=FIRST_DATE, until=LAST_DATE):\n",
    "        resulting_dict[end_date.strftime(\"%y-%m\")] = {\n",
    "            \"6-month\": get_pair_entry(end_date + relativedelta(months=-6), end_date),\n",
    "            \"12-month\": get_pair_entry(end_date + relativedelta(months=-12), end_date),\n",
    "            \"max\": get_pair_entry(datetime.datetime(1998, 1, 1), end_date),\n",
    "        }\n",
    "\n",
    "    return resulting_dict\n",
    "\n",
    "\n",
    "# get_filtered_df_by_key('13-10', '6-month', 'mean')"
   ]
  },
  {
   "cell_type": "code",
   "execution_count": 6,
   "metadata": {},
   "outputs": [],
   "source": [
    "keys = [\n",
    "    end_date.strftime(\"%y-%m\")\n",
    "    for end_date in rrule.rrule(rrule.MONTHLY, dtstart=FIRST_DATE, until=LAST_DATE)\n",
    "]\n",
    "range_values = [\n",
    "    \"6-month\",\n",
    "    \"12-month\",\n",
    "]\n",
    "func_values = [\"mean\", \"order\"]"
   ]
  },
  {
   "cell_type": "code",
   "execution_count": 7,
   "metadata": {},
   "outputs": [],
   "source": [
    "def get_backward_opt_json():\n",
    "    with open(BACKWARD_OPT_RESULTS_JSON, \"r\") as f:\n",
    "        return json.loads(f.read())\n",
    "\n",
    "\n",
    "BACKWARD_OPT_JSON = get_backward_opt_json()\n",
    "\n",
    "\n",
    "def is_pair_parsed(key, range_val, func_val):\n",
    "    if key not in BACKWARD_OPT_JSON:\n",
    "        return False\n",
    "\n",
    "    if range_val not in BACKWARD_OPT_JSON[key]:\n",
    "        return False\n",
    "\n",
    "    if func_val not in BACKWARD_OPT_JSON[key][range_val]:\n",
    "        return False\n",
    "\n",
    "    return True"
   ]
  },
  {
   "cell_type": "code",
   "execution_count": 9,
   "metadata": {},
   "outputs": [],
   "source": [
    "def save_pair_result(key, range_val, func_val, optimal_res):\n",
    "    with open(BACKWARD_OPT_RESULTS_JSON, \"r\") as f:\n",
    "        backward_opt_json = json.loads(f.read())\n",
    "\n",
    "    backward_opt_json[key] = backward_opt_json.get(key, {})\n",
    "    backward_opt_json[key][range_val] = backward_opt_json[key].get(range_val, {})\n",
    "    backward_opt_json[key][range_val][func_val] = optimal_res\n",
    "\n",
    "    with open(BACKWARD_OPT_RESULTS_JSON, \"w\") as f:\n",
    "        f.write(json.dumps(backward_opt_json))"
   ]
  },
  {
   "cell_type": "code",
   "execution_count": 10,
   "metadata": {},
   "outputs": [],
   "source": [
    "def mean_optimal_func(tmp_df):\n",
    "    max_value = tmp_df[\"perc_change\"].mean()\n",
    "\n",
    "    if FRAMEWORK == \"dask\":\n",
    "        max_value = max_value.compute()\n",
    "\n",
    "    return max_value\n",
    "\n",
    "\n",
    "def order_optimal_func(tmp_df):\n",
    "    l = []\n",
    "    for _, perc_change in tmp_df.sort_values([\"date\"])[\"perc_change\"].iteritems():\n",
    "        l.append(perc_change)\n",
    "\n",
    "    results = []\n",
    "    for i in range(len(l)):\n",
    "        res = 1\n",
    "        for j in range(i, len(l)):\n",
    "            res += (res * l[j]) / 100\n",
    "        results.append(res)\n",
    "\n",
    "    return sum(results) / len(results)"
   ]
  },
  {
   "cell_type": "code",
   "execution_count": 11,
   "metadata": {},
   "outputs": [],
   "source": [
    "def single_compute_optimal_res(df, func):\n",
    "    upper_barrier_results = []\n",
    "    lower_barrier_results = []\n",
    "    singles = [f\"{x[0]}{x[1]}\" for x in list(product(metrics_options, size_options))]\n",
    "\n",
    "    for indicator in singles:\n",
    "        max_val, min_val = int(df[indicator].max()), int(df[indicator].min())\n",
    "\n",
    "        for barrier in range(min_val, max_val + 2, 2):\n",
    "            filtered_df = df[df[indicator] <= barrier]\n",
    "            if filtered_df.shape[0] >= MIN_TRADES_REQUIRED:\n",
    "                outcome = func(filtered_df)\n",
    "                if outcome and outcome not in [np.nan]:\n",
    "                    upper_barrier_results.append([indicator, barrier, float(outcome)])\n",
    "\n",
    "            filtered_df = df[df[indicator] >= barrier]\n",
    "            if filtered_df.shape[0] >= MIN_TRADES_REQUIRED:\n",
    "                outcome = func(filtered_df)\n",
    "                if outcome and outcome not in [np.nan]:\n",
    "                    lower_barrier_results.append([indicator, barrier, float(outcome)])\n",
    "\n",
    "    upper_barrier_df = pd.DataFrame(\n",
    "        np.array(upper_barrier_results), columns=[\"indicator\", \"barrier\", \"value\"]\n",
    "    )\n",
    "    upper_barrier_res = upper_barrier_df[\n",
    "        upper_barrier_df[\"value\"] == upper_barrier_df[\"value\"].max()\n",
    "    ]\n",
    "\n",
    "    lower_barrier_df = pd.DataFrame(\n",
    "        np.array(lower_barrier_results), columns=[\"indicator\", \"barrier\", \"value\"]\n",
    "    )\n",
    "    lower_barrier_res = lower_barrier_df[\n",
    "        lower_barrier_df[\"value\"] == lower_barrier_df[\"value\"].max()\n",
    "    ]\n",
    "\n",
    "    if upper_barrier_df[\"value\"].max():\n",
    "        best_type = \"upper\"\n",
    "        best_indicator = upper_barrier_res.iloc[0][\"indicator\"]\n",
    "        best_barrier = int(upper_barrier_res.iloc[0][\"barrier\"])\n",
    "    else:\n",
    "        best_type = \"lower\"\n",
    "        best_indicator = lower_barrier_res.iloc[0][\"indicator\"]\n",
    "        best_barrier = int(lower_barrier_res.iloc[0][\"barrier\"])\n",
    "\n",
    "    return {\n",
    "        \"upper\": {\n",
    "            \"indicator\": upper_barrier_res.iloc[0][\"indicator\"],\n",
    "            \"barrier\": int(upper_barrier_res.iloc[0][\"barrier\"]),\n",
    "        },\n",
    "        \"lower\": {\n",
    "            \"indicator\": lower_barrier_res.iloc[0][\"indicator\"],\n",
    "            \"barrier\": int(lower_barrier_res.iloc[0][\"barrier\"]),\n",
    "        },\n",
    "        \"best\": {\n",
    "            \"type\": best_type,\n",
    "            \"indicator\": best_indicator,\n",
    "            \"barrier\": best_barrier,\n",
    "        },\n",
    "    }\n",
    "\n",
    "\n",
    "def double_compute_optimal_res(df, func):\n",
    "    pass\n",
    "\n",
    "\n",
    "def compute_optimal_res(df):\n",
    "    result = {}\n",
    "    for name, func in [(\"mean\", mean_optimal_func), (\"order\", order_optimal_func)]:\n",
    "        result[name] = {\n",
    "            \"single\": single_compute_optimal_res(df, func),\n",
    "            #             'double': double_compute_optimal_res(df, func),\n",
    "        }\n",
    "\n",
    "    return result"
   ]
  },
  {
   "cell_type": "code",
   "execution_count": 12,
   "metadata": {},
   "outputs": [
    {
     "data": {
      "text/plain": [
       "[]"
      ]
     },
     "execution_count": 12,
     "metadata": {},
     "output_type": "execute_result"
    }
   ],
   "source": [
    "all_pairs = list(product(keys, range_values, func_values))\n",
    "\n",
    "unparsed_pairs = [\n",
    "    (key, range_val, func_val)\n",
    "    for key, range_val, func_val in all_pairs\n",
    "    if not is_pair_parsed(key, range_val, func_val)\n",
    "]\n",
    "\n",
    "unparsed_pairs"
   ]
  },
  {
   "cell_type": "code",
   "execution_count": 31,
   "metadata": {
    "scrolled": true
   },
   "outputs": [
    {
     "name": "stderr",
     "output_type": "stream",
     "text": [
      "\r",
      "  0%|          | 0/996 [00:00<?, ?it/s]"
     ]
    },
    {
     "name": "stdout",
     "output_type": "stream",
     "text": [
      "Key in forward opt json 00-04 - 6-month - mean - 132\n"
     ]
    },
    {
     "name": "stderr",
     "output_type": "stream",
     "text": [
      "\r",
      "  0%|          | 1/996 [00:17<4:51:53, 17.60s/it]"
     ]
    },
    {
     "name": "stdout",
     "output_type": "stream",
     "text": [
      "00-04 - 6-month - mean\n",
      "{'mean': {'single': {'upper': {'indicator': 'stochastic8', 'barrier': 9}, 'lower': {'indicator': 'ppo8', 'barrier': 22}, 'best': {'type': 'upper', 'indicator': 'stochastic8', 'barrier': 9}}}, 'order': {'single': {'upper': {'indicator': 'stochastic32', 'barrier': 75}, 'lower': {'indicator': 'ppo8', 'barrier': 14}, 'best': {'type': 'upper', 'indicator': 'stochastic32', 'barrier': 75}}}}\n",
      "Key in forward opt json 00-04 - 6-month - order - 244\n"
     ]
    },
    {
     "name": "stderr",
     "output_type": "stream",
     "text": [
      "\r",
      "  0%|          | 2/996 [00:35<4:57:56, 17.98s/it]"
     ]
    },
    {
     "name": "stdout",
     "output_type": "stream",
     "text": [
      "00-04 - 6-month - order\n",
      "{'mean': {'single': {'upper': {'indicator': 'stochastic8', 'barrier': 13}, 'lower': {'indicator': 'ppo16', 'barrier': 45}, 'best': {'type': 'upper', 'indicator': 'stochastic8', 'barrier': 13}}}, 'order': {'single': {'upper': {'indicator': 'stochastic8', 'barrier': 69}, 'lower': {'indicator': 'stochastic32', 'barrier': 18}, 'best': {'type': 'upper', 'indicator': 'stochastic8', 'barrier': 69}}}}\n",
      "Key in forward opt json 00-04 - 12-month - mean - 275\n"
     ]
    },
    {
     "name": "stderr",
     "output_type": "stream",
     "text": [
      "\r",
      "  0%|          | 3/996 [00:54<5:03:38, 18.35s/it]"
     ]
    },
    {
     "name": "stdout",
     "output_type": "stream",
     "text": [
      "00-04 - 12-month - mean\n",
      "{'mean': {'single': {'upper': {'indicator': 'adx8', 'barrier': 20}, 'lower': {'indicator': 'ppo8', 'barrier': 25}, 'best': {'type': 'upper', 'indicator': 'adx8', 'barrier': 20}}}, 'order': {'single': {'upper': {'indicator': 'adx16', 'barrier': 20}, 'lower': {'indicator': 'adx16', 'barrier': 14}, 'best': {'type': 'upper', 'indicator': 'adx16', 'barrier': 20}}}}\n",
      "Key in forward opt json 00-04 - 12-month - order - 799\n"
     ]
    },
    {
     "name": "stderr",
     "output_type": "stream",
     "text": [
      "\r",
      "  0%|          | 4/996 [01:19<5:47:20, 21.01s/it]"
     ]
    },
    {
     "name": "stdout",
     "output_type": "stream",
     "text": [
      "00-04 - 12-month - order\n",
      "{'mean': {'single': {'upper': {'indicator': 'stochastic8', 'barrier': 7}, 'lower': {'indicator': 'ppo16', 'barrier': 64}, 'best': {'type': 'upper', 'indicator': 'stochastic8', 'barrier': 7}}}, 'order': {'single': {'upper': {'indicator': 'stochastic8', 'barrier': 69}, 'lower': {'indicator': 'stochastic32', 'barrier': 46}, 'best': {'type': 'upper', 'indicator': 'stochastic8', 'barrier': 69}}}}\n",
      "Key in forward opt json 00-05 - 6-month - mean - 72\n"
     ]
    },
    {
     "name": "stderr",
     "output_type": "stream",
     "text": [
      "\r",
      "  1%|          | 5/996 [01:37<5:24:58, 19.68s/it]"
     ]
    },
    {
     "name": "stdout",
     "output_type": "stream",
     "text": [
      "00-05 - 6-month - mean\n",
      "{'mean': {'single': {'upper': {'indicator': 'stochastic32', 'barrier': 28}, 'lower': {'indicator': 'ppo32', 'barrier': 16}, 'best': {'type': 'upper', 'indicator': 'stochastic32', 'barrier': 28}}}, 'order': {'single': {'upper': {'indicator': 'ppo16', 'barrier': 35}, 'lower': {'indicator': 'adx8', 'barrier': 20}, 'best': {'type': 'upper', 'indicator': 'ppo16', 'barrier': 35}}}}\n",
      "Key in forward opt json 00-05 - 6-month - order - 248\n"
     ]
    },
    {
     "name": "stderr",
     "output_type": "stream",
     "text": [
      "\r",
      "  1%|          | 6/996 [01:55<5:15:56, 19.15s/it]"
     ]
    },
    {
     "name": "stdout",
     "output_type": "stream",
     "text": [
      "00-05 - 6-month - order\n",
      "{'mean': {'single': {'upper': {'indicator': 'stochastic8', 'barrier': 13}, 'lower': {'indicator': 'ppo16', 'barrier': 33}, 'best': {'type': 'upper', 'indicator': 'stochastic8', 'barrier': 13}}}, 'order': {'single': {'upper': {'indicator': 'ppo32', 'barrier': 53}, 'lower': {'indicator': 'stochastic32', 'barrier': 54}, 'best': {'type': 'upper', 'indicator': 'ppo32', 'barrier': 53}}}}\n",
      "Key in forward opt json 00-05 - 12-month - mean - 270\n"
     ]
    },
    {
     "name": "stderr",
     "output_type": "stream",
     "text": [
      "\r",
      "  1%|          | 7/996 [02:13<5:10:23, 18.83s/it]"
     ]
    },
    {
     "name": "stdout",
     "output_type": "stream",
     "text": [
      "00-05 - 12-month - mean\n",
      "{'mean': {'single': {'upper': {'indicator': 'adx8', 'barrier': 20}, 'lower': {'indicator': 'ppo32', 'barrier': 28}, 'best': {'type': 'upper', 'indicator': 'adx8', 'barrier': 20}}}, 'order': {'single': {'upper': {'indicator': 'ppo16', 'barrier': 18}, 'lower': {'indicator': 'ppo32', 'barrier': 8}, 'best': {'type': 'upper', 'indicator': 'ppo16', 'barrier': 18}}}}\n",
      "Key in forward opt json 00-05 - 12-month - order - 782\n"
     ]
    },
    {
     "name": "stderr",
     "output_type": "stream",
     "text": [
      "\r",
      "  1%|          | 8/996 [02:38<5:42:43, 20.81s/it]"
     ]
    },
    {
     "name": "stdout",
     "output_type": "stream",
     "text": [
      "00-05 - 12-month - order\n",
      "{'mean': {'single': {'upper': {'indicator': 'stochastic8', 'barrier': 7}, 'lower': {'indicator': 'ppo8', 'barrier': 52}, 'best': {'type': 'upper', 'indicator': 'stochastic8', 'barrier': 7}}}, 'order': {'single': {'upper': {'indicator': 'stochastic8', 'barrier': 47}, 'lower': {'indicator': 'ppo16', 'barrier': 28}, 'best': {'type': 'upper', 'indicator': 'stochastic8', 'barrier': 47}}}}\n",
      "Key in forward opt json 00-06 - 6-month - mean - 80\n"
     ]
    },
    {
     "name": "stderr",
     "output_type": "stream",
     "text": [
      "\r",
      "  1%|          | 9/996 [02:56<5:27:00, 19.88s/it]"
     ]
    },
    {
     "name": "stdout",
     "output_type": "stream",
     "text": [
      "00-06 - 6-month - mean\n",
      "{'mean': {'single': {'upper': {'indicator': 'stochastic32', 'barrier': 12}, 'lower': {'indicator': 'ppo8', 'barrier': 25}, 'best': {'type': 'upper', 'indicator': 'stochastic32', 'barrier': 12}}}, 'order': {'single': {'upper': {'indicator': 'ppo32', 'barrier': 24}, 'lower': {'indicator': 'ppo8', 'barrier': 13}, 'best': {'type': 'upper', 'indicator': 'ppo32', 'barrier': 24}}}}\n",
      "Key in forward opt json 00-06 - 6-month - order - 254\n"
     ]
    },
    {
     "name": "stderr",
     "output_type": "stream",
     "text": [
      "\r",
      "  1%|          | 10/996 [03:14<5:17:37, 19.33s/it]"
     ]
    },
    {
     "name": "stdout",
     "output_type": "stream",
     "text": [
      "00-06 - 6-month - order\n",
      "{'mean': {'single': {'upper': {'indicator': 'stochastic8', 'barrier': 13}, 'lower': {'indicator': 'ppo32', 'barrier': 37}, 'best': {'type': 'upper', 'indicator': 'stochastic8', 'barrier': 13}}}, 'order': {'single': {'upper': {'indicator': 'adx32', 'barrier': 31}, 'lower': {'indicator': 'ppo16', 'barrier': 16}, 'best': {'type': 'upper', 'indicator': 'adx32', 'barrier': 31}}}}\n",
      "Key in forward opt json 00-06 - 12-month - mean - 228\n"
     ]
    },
    {
     "name": "stderr",
     "output_type": "stream",
     "text": [
      "\r",
      "  1%|          | 11/996 [03:32<5:09:05, 18.83s/it]"
     ]
    },
    {
     "name": "stdout",
     "output_type": "stream",
     "text": [
      "00-06 - 12-month - mean\n",
      "{'mean': {'single': {'upper': {'indicator': 'adx8', 'barrier': 20}, 'lower': {'indicator': 'ppo8', 'barrier': 29}, 'best': {'type': 'upper', 'indicator': 'adx8', 'barrier': 20}}}, 'order': {'single': {'upper': {'indicator': 'ppo8', 'barrier': 41}, 'lower': {'indicator': 'ppo8', 'barrier': 7}, 'best': {'type': 'upper', 'indicator': 'ppo8', 'barrier': 41}}}}\n",
      "Key in forward opt json 00-06 - 12-month - order - 676\n"
     ]
    },
    {
     "name": "stderr",
     "output_type": "stream",
     "text": [
      "\r",
      "  1%|          | 12/996 [03:55<5:29:52, 20.11s/it]"
     ]
    },
    {
     "name": "stdout",
     "output_type": "stream",
     "text": [
      "00-06 - 12-month - order\n",
      "{'mean': {'single': {'upper': {'indicator': 'stochastic8', 'barrier': 7}, 'lower': {'indicator': 'ppo8', 'barrier': 47}, 'best': {'type': 'upper', 'indicator': 'stochastic8', 'barrier': 7}}}, 'order': {'single': {'upper': {'indicator': 'ppo8', 'barrier': 59}, 'lower': {'indicator': 'stochastic8', 'barrier': 11}, 'best': {'type': 'upper', 'indicator': 'ppo8', 'barrier': 59}}}}\n",
      "Key in forward opt json 00-07 - 6-month - mean - 93\n"
     ]
    },
    {
     "name": "stderr",
     "output_type": "stream",
     "text": [
      "\r",
      "  1%|▏         | 13/996 [04:12<5:17:28, 19.38s/it]"
     ]
    },
    {
     "name": "stdout",
     "output_type": "stream",
     "text": [
      "00-07 - 6-month - mean\n",
      "{'mean': {'single': {'upper': {'indicator': 'stochastic32', 'barrier': 23}, 'lower': {'indicator': 'ppo16', 'barrier': 25}, 'best': {'type': 'upper', 'indicator': 'stochastic32', 'barrier': 23}}}, 'order': {'single': {'upper': {'indicator': 'ppo16', 'barrier': 27}, 'lower': {'indicator': 'adx32', 'barrier': 15}, 'best': {'type': 'upper', 'indicator': 'ppo16', 'barrier': 27}}}}\n",
      "Key in forward opt json 00-07 - 6-month - order - 314\n"
     ]
    },
    {
     "name": "stderr",
     "output_type": "stream",
     "text": [
      "\r",
      "  1%|▏         | 14/996 [04:32<5:19:35, 19.53s/it]"
     ]
    },
    {
     "name": "stdout",
     "output_type": "stream",
     "text": [
      "00-07 - 6-month - order\n",
      "{'mean': {'single': {'upper': {'indicator': 'stochastic8', 'barrier': 11}, 'lower': {'indicator': 'ppo32', 'barrier': 49}, 'best': {'type': 'upper', 'indicator': 'stochastic8', 'barrier': 11}}}, 'order': {'single': {'upper': {'indicator': 'stochastic16', 'barrier': 68}, 'lower': {'indicator': 'stochastic16', 'barrier': 16}, 'best': {'type': 'upper', 'indicator': 'stochastic16', 'barrier': 68}}}}\n",
      "Key in forward opt json 00-07 - 12-month - mean - 222\n"
     ]
    },
    {
     "name": "stderr",
     "output_type": "stream",
     "text": [
      "\r",
      "  2%|▏         | 15/996 [04:50<5:12:24, 19.11s/it]"
     ]
    },
    {
     "name": "stdout",
     "output_type": "stream",
     "text": [
      "00-07 - 12-month - mean\n",
      "{'mean': {'single': {'upper': {'indicator': 'adx8', 'barrier': 21}, 'lower': {'indicator': 'ppo32', 'barrier': 32}, 'best': {'type': 'upper', 'indicator': 'adx8', 'barrier': 21}}}, 'order': {'single': {'upper': {'indicator': 'ppo8', 'barrier': 32}, 'lower': {'indicator': 'ppo8', 'barrier': 8}, 'best': {'type': 'upper', 'indicator': 'ppo8', 'barrier': 32}}}}\n",
      "Key in forward opt json 00-07 - 12-month - order - 684\n"
     ]
    },
    {
     "name": "stderr",
     "output_type": "stream",
     "text": [
      "\r",
      "  2%|▏         | 16/996 [05:13<5:31:03, 20.27s/it]"
     ]
    },
    {
     "name": "stdout",
     "output_type": "stream",
     "text": [
      "00-07 - 12-month - order\n",
      "{'mean': {'single': {'upper': {'indicator': 'stochastic8', 'barrier': 7}, 'lower': {'indicator': 'ppo32', 'barrier': 55}, 'best': {'type': 'upper', 'indicator': 'stochastic8', 'barrier': 7}}}, 'order': {'single': {'upper': {'indicator': 'adx8', 'barrier': 42}, 'lower': {'indicator': 'stochastic8', 'barrier': 11}, 'best': {'type': 'upper', 'indicator': 'adx8', 'barrier': 42}}}}\n"
     ]
    },
    {
     "name": "stderr",
     "output_type": "stream",
     "text": [
      "\r",
      "  2%|▏         | 17/996 [05:30<5:15:01, 19.31s/it]"
     ]
    },
    {
     "name": "stdout",
     "output_type": "stream",
     "text": [
      "Key in forward opt json 00-08 - 6-month - mean - 3\n",
      "Not enough trades for 00-08 - 6-month - mean\n",
      "00-08 - 6-month - mean\n",
      "None\n",
      "Key in forward opt json 00-08 - 6-month - order - 321\n"
     ]
    },
    {
     "name": "stderr",
     "output_type": "stream",
     "text": [
      "\r",
      "  2%|▏         | 18/996 [05:49<5:13:20, 19.22s/it]"
     ]
    },
    {
     "name": "stdout",
     "output_type": "stream",
     "text": [
      "00-08 - 6-month - order\n",
      "{'mean': {'single': {'upper': {'indicator': 'ppo8', 'barrier': 3}, 'lower': {'indicator': 'ppo16', 'barrier': 49}, 'best': {'type': 'upper', 'indicator': 'ppo8', 'barrier': 3}}}, 'order': {'single': {'upper': {'indicator': 'ppo32', 'barrier': 49}, 'lower': {'indicator': 'stochastic32', 'barrier': 7}, 'best': {'type': 'upper', 'indicator': 'ppo32', 'barrier': 49}}}}\n",
      "Key in forward opt json 00-08 - 12-month - mean - 213\n"
     ]
    },
    {
     "name": "stderr",
     "output_type": "stream",
     "text": [
      "\r",
      "  2%|▏         | 19/996 [06:07<5:06:31, 18.82s/it]"
     ]
    },
    {
     "name": "stdout",
     "output_type": "stream",
     "text": [
      "00-08 - 12-month - mean\n",
      "{'mean': {'single': {'upper': {'indicator': 'adx8', 'barrier': 19}, 'lower': {'indicator': 'ppo32', 'barrier': 23}, 'best': {'type': 'upper', 'indicator': 'adx8', 'barrier': 19}}}, 'order': {'single': {'upper': {'indicator': 'ppo8', 'barrier': 30}, 'lower': {'indicator': 'adx32', 'barrier': 17}, 'best': {'type': 'upper', 'indicator': 'ppo8', 'barrier': 30}}}}\n",
      "Key in forward opt json 00-08 - 12-month - order - 656\n"
     ]
    },
    {
     "name": "stderr",
     "output_type": "stream",
     "text": [
      "\r",
      "  2%|▏         | 20/996 [06:30<5:27:12, 20.12s/it]"
     ]
    },
    {
     "name": "stdout",
     "output_type": "stream",
     "text": [
      "00-08 - 12-month - order\n",
      "{'mean': {'single': {'upper': {'indicator': 'stochastic8', 'barrier': 7}, 'lower': {'indicator': 'ppo8', 'barrier': 34}, 'best': {'type': 'upper', 'indicator': 'stochastic8', 'barrier': 7}}}, 'order': {'single': {'upper': {'indicator': 'adx16', 'barrier': 37}, 'lower': {'indicator': 'ppo32', 'barrier': 26}, 'best': {'type': 'upper', 'indicator': 'adx16', 'barrier': 37}}}}\n",
      "Key in forward opt json 00-09 - 6-month - mean - 16\n"
     ]
    },
    {
     "name": "stderr",
     "output_type": "stream",
     "text": [
      "\r",
      "  2%|▏         | 21/996 [06:48<5:15:25, 19.41s/it]"
     ]
    },
    {
     "name": "stdout",
     "output_type": "stream",
     "text": [
      "00-09 - 6-month - mean\n",
      "{'mean': {'single': {'upper': {'indicator': 'ppo8', 'barrier': 26}, 'lower': {'indicator': 'adx32', 'barrier': 11}, 'best': {'type': 'upper', 'indicator': 'ppo8', 'barrier': 26}}}, 'order': {'single': {'upper': {'indicator': 'stochastic8', 'barrier': 26}, 'lower': {'indicator': 'adx8', 'barrier': 22}, 'best': {'type': 'upper', 'indicator': 'stochastic8', 'barrier': 26}}}}\n",
      "Key in forward opt json 00-09 - 6-month - order - 355\n"
     ]
    },
    {
     "name": "stderr",
     "output_type": "stream",
     "text": [
      "\r",
      "  2%|▏         | 22/996 [07:07<5:13:10, 19.29s/it]"
     ]
    },
    {
     "name": "stdout",
     "output_type": "stream",
     "text": [
      "00-09 - 6-month - order\n",
      "{'mean': {'single': {'upper': {'indicator': 'stochastic32', 'barrier': 27}, 'lower': {'indicator': 'ppo16', 'barrier': 49}, 'best': {'type': 'upper', 'indicator': 'stochastic32', 'barrier': 27}}}, 'order': {'single': {'upper': {'indicator': 'ppo16', 'barrier': 43}, 'lower': {'indicator': 'ppo8', 'barrier': 17}, 'best': {'type': 'upper', 'indicator': 'ppo16', 'barrier': 43}}}}\n",
      "Key in forward opt json 00-09 - 12-month - mean - 189\n"
     ]
    },
    {
     "name": "stderr",
     "output_type": "stream",
     "text": [
      "\r",
      "  2%|▏         | 23/996 [07:25<5:07:44, 18.98s/it]"
     ]
    },
    {
     "name": "stdout",
     "output_type": "stream",
     "text": [
      "00-09 - 12-month - mean\n",
      "{'mean': {'single': {'upper': {'indicator': 'adx8', 'barrier': 21}, 'lower': {'indicator': 'ppo32', 'barrier': 23}, 'best': {'type': 'upper', 'indicator': 'adx8', 'barrier': 21}}}, 'order': {'single': {'upper': {'indicator': 'ppo8', 'barrier': 28}, 'lower': {'indicator': 'stochastic8', 'barrier': 10}, 'best': {'type': 'upper', 'indicator': 'ppo8', 'barrier': 28}}}}\n",
      "Key in forward opt json 00-09 - 12-month - order - 632\n"
     ]
    },
    {
     "name": "stderr",
     "output_type": "stream",
     "text": [
      "\r",
      "  2%|▏         | 24/996 [07:48<5:25:58, 20.12s/it]"
     ]
    },
    {
     "name": "stdout",
     "output_type": "stream",
     "text": [
      "00-09 - 12-month - order\n",
      "{'mean': {'single': {'upper': {'indicator': 'stochastic8', 'barrier': 9}, 'lower': {'indicator': 'adx8', 'barrier': 50}, 'best': {'type': 'upper', 'indicator': 'stochastic8', 'barrier': 9}}}, 'order': {'single': {'upper': {'indicator': 'stochastic32', 'barrier': 73}, 'lower': {'indicator': 'stochastic8', 'barrier': 19}, 'best': {'type': 'upper', 'indicator': 'stochastic32', 'barrier': 73}}}}\n",
      "Key in forward opt json 00-10 - 6-month - mean - 108\n"
     ]
    },
    {
     "name": "stderr",
     "output_type": "stream",
     "text": [
      "\r",
      "  3%|▎         | 25/996 [08:06<5:15:54, 19.52s/it]"
     ]
    },
    {
     "name": "stdout",
     "output_type": "stream",
     "text": [
      "00-10 - 6-month - mean\n",
      "{'mean': {'single': {'upper': {'indicator': 'stochastic32', 'barrier': 12}, 'lower': {'indicator': 'ppo8', 'barrier': 33}, 'best': {'type': 'upper', 'indicator': 'stochastic32', 'barrier': 12}}}, 'order': {'single': {'upper': {'indicator': 'stochastic32', 'barrier': 52}, 'lower': {'indicator': 'ppo8', 'barrier': 9}, 'best': {'type': 'upper', 'indicator': 'stochastic32', 'barrier': 52}}}}\n",
      "Key in forward opt json 00-10 - 6-month - order - 240\n"
     ]
    },
    {
     "name": "stderr",
     "output_type": "stream",
     "text": [
      "\r",
      "  3%|▎         | 26/996 [08:24<5:08:27, 19.08s/it]"
     ]
    },
    {
     "name": "stdout",
     "output_type": "stream",
     "text": [
      "00-10 - 6-month - order\n",
      "{'mean': {'single': {'upper': {'indicator': 'stochastic32', 'barrier': 29}, 'lower': {'indicator': 'ppo16', 'barrier': 32}, 'best': {'type': 'upper', 'indicator': 'stochastic32', 'barrier': 29}}}, 'order': {'single': {'upper': {'indicator': 'stochastic16', 'barrier': 46}, 'lower': {'indicator': 'stochastic32', 'barrier': 11}, 'best': {'type': 'upper', 'indicator': 'stochastic16', 'barrier': 46}}}}\n",
      "Key in forward opt json 00-10 - 12-month - mean - 366\n"
     ]
    },
    {
     "name": "stderr",
     "output_type": "stream",
     "text": [
      "\r",
      "  3%|▎         | 27/996 [08:43<5:08:14, 19.09s/it]"
     ]
    },
    {
     "name": "stdout",
     "output_type": "stream",
     "text": [
      "00-10 - 12-month - mean\n",
      "{'mean': {'single': {'upper': {'indicator': 'stochastic32', 'barrier': 13}, 'lower': {'indicator': 'ppo32', 'barrier': 33}, 'best': {'type': 'upper', 'indicator': 'stochastic32', 'barrier': 13}}}, 'order': {'single': {'upper': {'indicator': 'ppo8', 'barrier': 75}, 'lower': {'indicator': 'adx16', 'barrier': 17}, 'best': {'type': 'upper', 'indicator': 'ppo8', 'barrier': 75}}}}\n",
      "Key in forward opt json 00-10 - 12-month - order - 633\n"
     ]
    },
    {
     "name": "stderr",
     "output_type": "stream",
     "text": [
      "\r",
      "  3%|▎         | 28/996 [09:06<5:26:40, 20.25s/it]"
     ]
    },
    {
     "name": "stdout",
     "output_type": "stream",
     "text": [
      "00-10 - 12-month - order\n",
      "{'mean': {'single': {'upper': {'indicator': 'stochastic8', 'barrier': 7}, 'lower': {'indicator': 'adx32', 'barrier': 33}, 'best': {'type': 'upper', 'indicator': 'stochastic8', 'barrier': 7}}}, 'order': {'single': {'upper': {'indicator': 'stochastic8', 'barrier': 41}, 'lower': {'indicator': 'stochastic8', 'barrier': 23}, 'best': {'type': 'upper', 'indicator': 'stochastic8', 'barrier': 41}}}}\n",
      "Key in forward opt json 00-11 - 6-month - mean - 28\n"
     ]
    },
    {
     "name": "stderr",
     "output_type": "stream",
     "text": [
      "\r",
      "  3%|▎         | 29/996 [09:24<5:12:53, 19.41s/it]"
     ]
    },
    {
     "name": "stdout",
     "output_type": "stream",
     "text": [
      "00-11 - 6-month - mean\n",
      "{'mean': {'single': {'upper': {'indicator': 'stochastic16', 'barrier': 12}, 'lower': {'indicator': 'adx16', 'barrier': 22}, 'best': {'type': 'upper', 'indicator': 'stochastic16', 'barrier': 12}}}, 'order': {'single': {'upper': {'indicator': 'ppo16', 'barrier': 23}, 'lower': {'indicator': 'adx8', 'barrier': 30}, 'best': {'type': 'upper', 'indicator': 'ppo16', 'barrier': 23}}}}\n",
      "Key in forward opt json 00-11 - 6-month - order - 263\n"
     ]
    },
    {
     "name": "stderr",
     "output_type": "stream",
     "text": [
      "\r",
      "  3%|▎         | 30/996 [09:43<5:09:36, 19.23s/it]"
     ]
    },
    {
     "name": "stdout",
     "output_type": "stream",
     "text": [
      "00-11 - 6-month - order\n",
      "{'mean': {'single': {'upper': {'indicator': 'adx16', 'barrier': 11}, 'lower': {'indicator': 'ppo32', 'barrier': 30}, 'best': {'type': 'upper', 'indicator': 'adx16', 'barrier': 11}}}, 'order': {'single': {'upper': {'indicator': 'stochastic16', 'barrier': 54}, 'lower': {'indicator': 'stochastic8', 'barrier': 5}, 'best': {'type': 'upper', 'indicator': 'stochastic16', 'barrier': 54}}}}\n",
      "Key in forward opt json 00-11 - 12-month - mean - 204\n"
     ]
    },
    {
     "name": "stderr",
     "output_type": "stream",
     "text": [
      "\r",
      "  3%|▎         | 31/996 [10:01<5:02:46, 18.83s/it]"
     ]
    },
    {
     "name": "stdout",
     "output_type": "stream",
     "text": [
      "00-11 - 12-month - mean\n",
      "{'mean': {'single': {'upper': {'indicator': 'adx8', 'barrier': 21}, 'lower': {'indicator': 'ppo16', 'barrier': 35}, 'best': {'type': 'upper', 'indicator': 'adx8', 'barrier': 21}}}, 'order': {'single': {'upper': {'indicator': 'stochastic8', 'barrier': 22}, 'lower': {'indicator': 'ppo8', 'barrier': 8}, 'best': {'type': 'upper', 'indicator': 'stochastic8', 'barrier': 22}}}}\n",
      "Key in forward opt json 00-11 - 12-month - order - 673\n"
     ]
    },
    {
     "name": "stderr",
     "output_type": "stream",
     "text": [
      "\r",
      "  3%|▎         | 32/996 [10:23<5:21:56, 20.04s/it]"
     ]
    },
    {
     "name": "stdout",
     "output_type": "stream",
     "text": [
      "00-11 - 12-month - order\n",
      "{'mean': {'single': {'upper': {'indicator': 'stochastic8', 'barrier': 9}, 'lower': {'indicator': 'ppo16', 'barrier': 49}, 'best': {'type': 'upper', 'indicator': 'stochastic8', 'barrier': 9}}}, 'order': {'single': {'upper': {'indicator': 'stochastic32', 'barrier': 79}, 'lower': {'indicator': 'adx8', 'barrier': 24}, 'best': {'type': 'upper', 'indicator': 'stochastic32', 'barrier': 79}}}}\n",
      "Key in forward opt json 00-12 - 6-month - mean - 29\n"
     ]
    },
    {
     "name": "stderr",
     "output_type": "stream",
     "text": [
      "\r",
      "  3%|▎         | 33/996 [10:41<5:09:09, 19.26s/it]"
     ]
    },
    {
     "name": "stdout",
     "output_type": "stream",
     "text": [
      "00-12 - 6-month - mean\n",
      "{'mean': {'single': {'upper': {'indicator': 'ppo32', 'barrier': 21}, 'lower': {'indicator': 'adx16', 'barrier': 26}, 'best': {'type': 'upper', 'indicator': 'ppo32', 'barrier': 21}}}, 'order': {'single': {'upper': {'indicator': 'ppo16', 'barrier': 23}, 'lower': {'indicator': 'adx8', 'barrier': 30}, 'best': {'type': 'upper', 'indicator': 'ppo16', 'barrier': 23}}}}\n",
      "Key in forward opt json 00-12 - 6-month - order - 621\n"
     ]
    },
    {
     "name": "stderr",
     "output_type": "stream",
     "text": [
      "\r",
      "  3%|▎         | 34/996 [11:03<5:20:51, 20.01s/it]"
     ]
    },
    {
     "name": "stdout",
     "output_type": "stream",
     "text": [
      "00-12 - 6-month - order\n",
      "{'mean': {'single': {'upper': {'indicator': 'stochastic16', 'barrier': 10}, 'lower': {'indicator': 'ppo16', 'barrier': 40}, 'best': {'type': 'upper', 'indicator': 'stochastic16', 'barrier': 10}}}, 'order': {'single': {'upper': {'indicator': 'adx32', 'barrier': 27}, 'lower': {'indicator': 'adx32', 'barrier': 9}, 'best': {'type': 'upper', 'indicator': 'adx32', 'barrier': 27}}}}\n",
      "Key in forward opt json 00-12 - 12-month - mean - 41\n"
     ]
    },
    {
     "name": "stderr",
     "output_type": "stream",
     "text": [
      "\r",
      "  4%|▎         | 35/996 [11:20<5:08:48, 19.28s/it]"
     ]
    },
    {
     "name": "stdout",
     "output_type": "stream",
     "text": [
      "00-12 - 12-month - mean\n",
      "{'mean': {'single': {'upper': {'indicator': 'stochastic32', 'barrier': 12}, 'lower': {'indicator': 'adx16', 'barrier': 24}, 'best': {'type': 'upper', 'indicator': 'stochastic32', 'barrier': 12}}}, 'order': {'single': {'upper': {'indicator': 'ppo8', 'barrier': 18}, 'lower': {'indicator': 'adx8', 'barrier': 30}, 'best': {'type': 'upper', 'indicator': 'ppo8', 'barrier': 18}}}}\n",
      "Key in forward opt json 00-12 - 12-month - order - 704\n"
     ]
    },
    {
     "name": "stderr",
     "output_type": "stream",
     "text": [
      "\r",
      "  4%|▎         | 36/996 [11:43<5:26:09, 20.38s/it]"
     ]
    },
    {
     "name": "stdout",
     "output_type": "stream",
     "text": [
      "00-12 - 12-month - order\n",
      "{'mean': {'single': {'upper': {'indicator': 'stochastic32', 'barrier': 11}, 'lower': {'indicator': 'ppo8', 'barrier': 40}, 'best': {'type': 'upper', 'indicator': 'stochastic32', 'barrier': 11}}}, 'order': {'single': {'upper': {'indicator': 'ppo32', 'barrier': 45}, 'lower': {'indicator': 'stochastic16', 'barrier': 22}, 'best': {'type': 'upper', 'indicator': 'ppo32', 'barrier': 45}}}}\n",
      "Key in forward opt json 01-01 - 6-month - mean - 46\n"
     ]
    },
    {
     "name": "stderr",
     "output_type": "stream",
     "text": [
      "\r",
      "  4%|▎         | 37/996 [12:01<5:11:31, 19.49s/it]"
     ]
    },
    {
     "name": "stdout",
     "output_type": "stream",
     "text": [
      "01-01 - 6-month - mean\n",
      "{'mean': {'single': {'upper': {'indicator': 'ppo8', 'barrier': 12}, 'lower': {'indicator': 'stochastic8', 'barrier': 18}, 'best': {'type': 'upper', 'indicator': 'ppo8', 'barrier': 12}}}, 'order': {'single': {'upper': {'indicator': 'ppo8', 'barrier': 36}, 'lower': {'indicator': 'adx8', 'barrier': 29}, 'best': {'type': 'upper', 'indicator': 'ppo8', 'barrier': 36}}}}\n",
      "Key in forward opt json 01-01 - 6-month - order - 415\n"
     ]
    },
    {
     "name": "stderr",
     "output_type": "stream",
     "text": [
      "\r",
      "  4%|▍         | 38/996 [12:20<5:11:09, 19.49s/it]"
     ]
    },
    {
     "name": "stdout",
     "output_type": "stream",
     "text": [
      "01-01 - 6-month - order\n",
      "{'mean': {'single': {'upper': {'indicator': 'ppo16', 'barrier': 0}, 'lower': {'indicator': 'adx8', 'barrier': 47}, 'best': {'type': 'upper', 'indicator': 'ppo16', 'barrier': 0}}}, 'order': {'single': {'upper': {'indicator': 'stochastic16', 'barrier': 47}, 'lower': {'indicator': 'stochastic8', 'barrier': 16}, 'best': {'type': 'upper', 'indicator': 'stochastic16', 'barrier': 47}}}}\n",
      "Key in forward opt json 01-01 - 12-month - mean - 57\n"
     ]
    },
    {
     "name": "stderr",
     "output_type": "stream",
     "text": [
      "\r",
      "  4%|▍         | 39/996 [12:37<5:01:01, 18.87s/it]"
     ]
    },
    {
     "name": "stdout",
     "output_type": "stream",
     "text": [
      "01-01 - 12-month - mean\n",
      "{'mean': {'single': {'upper': {'indicator': 'stochastic32', 'barrier': 10}, 'lower': {'indicator': 'adx32', 'barrier': 24}, 'best': {'type': 'upper', 'indicator': 'stochastic32', 'barrier': 10}}}, 'order': {'single': {'upper': {'indicator': 'ppo8', 'barrier': 25}, 'lower': {'indicator': 'adx32', 'barrier': 12}, 'best': {'type': 'upper', 'indicator': 'ppo8', 'barrier': 25}}}}\n",
      "Key in forward opt json 01-01 - 12-month - order - 724\n"
     ]
    },
    {
     "name": "stderr",
     "output_type": "stream",
     "text": [
      "\r",
      "  4%|▍         | 40/996 [13:01<5:23:34, 20.31s/it]"
     ]
    },
    {
     "name": "stdout",
     "output_type": "stream",
     "text": [
      "01-01 - 12-month - order\n",
      "{'mean': {'single': {'upper': {'indicator': 'stochastic32', 'barrier': 11}, 'lower': {'indicator': 'ppo8', 'barrier': 49}, 'best': {'type': 'upper', 'indicator': 'stochastic32', 'barrier': 11}}}, 'order': {'single': {'upper': {'indicator': 'adx32', 'barrier': 35}, 'lower': {'indicator': 'stochastic32', 'barrier': 45}, 'best': {'type': 'upper', 'indicator': 'adx32', 'barrier': 35}}}}\n",
      "Key in forward opt json 01-02 - 6-month - mean - 68\n"
     ]
    },
    {
     "name": "stderr",
     "output_type": "stream",
     "text": [
      "\r",
      "  4%|▍         | 41/996 [13:20<5:15:26, 19.82s/it]"
     ]
    },
    {
     "name": "stdout",
     "output_type": "stream",
     "text": [
      "01-02 - 6-month - mean\n",
      "{'mean': {'single': {'upper': {'indicator': 'ppo8', 'barrier': 10}, 'lower': {'indicator': 'stochastic32', 'barrier': 26}, 'best': {'type': 'upper', 'indicator': 'ppo8', 'barrier': 10}}}, 'order': {'single': {'upper': {'indicator': 'adx8', 'barrier': 41}, 'lower': {'indicator': 'stochastic32', 'barrier': 8}, 'best': {'type': 'upper', 'indicator': 'adx8', 'barrier': 41}}}}\n",
      "Key in forward opt json 01-02 - 6-month - order - 453\n"
     ]
    },
    {
     "name": "stderr",
     "output_type": "stream",
     "text": [
      "\r",
      "  4%|▍         | 42/996 [13:40<5:16:09, 19.88s/it]"
     ]
    },
    {
     "name": "stdout",
     "output_type": "stream",
     "text": [
      "01-02 - 6-month - order\n",
      "{'mean': {'single': {'upper': {'indicator': 'ppo16', 'barrier': 2}, 'lower': {'indicator': 'adx8', 'barrier': 53}, 'best': {'type': 'upper', 'indicator': 'ppo16', 'barrier': 2}}}, 'order': {'single': {'upper': {'indicator': 'stochastic32', 'barrier': 87}, 'lower': {'indicator': 'adx8', 'barrier': 15}, 'best': {'type': 'upper', 'indicator': 'stochastic32', 'barrier': 87}}}}\n",
      "Key in forward opt json 01-02 - 12-month - mean - 77\n"
     ]
    },
    {
     "name": "stderr",
     "output_type": "stream",
     "text": [
      "\r",
      "  4%|▍         | 43/996 [13:58<5:09:27, 19.48s/it]"
     ]
    },
    {
     "name": "stdout",
     "output_type": "stream",
     "text": [
      "01-02 - 12-month - mean\n",
      "{'mean': {'single': {'upper': {'indicator': 'stochastic16', 'barrier': 12}, 'lower': {'indicator': 'adx16', 'barrier': 26}, 'best': {'type': 'upper', 'indicator': 'stochastic16', 'barrier': 12}}}, 'order': {'single': {'upper': {'indicator': 'adx8', 'barrier': 45}, 'lower': {'indicator': 'stochastic16', 'barrier': 6}, 'best': {'type': 'upper', 'indicator': 'adx8', 'barrier': 45}}}}\n",
      "Key in forward opt json 01-02 - 12-month - order - 799\n"
     ]
    },
    {
     "name": "stderr",
     "output_type": "stream",
     "text": [
      "\r",
      "  4%|▍         | 44/996 [14:23<5:34:09, 21.06s/it]"
     ]
    },
    {
     "name": "stdout",
     "output_type": "stream",
     "text": [
      "01-02 - 12-month - order\n",
      "{'mean': {'single': {'upper': {'indicator': 'ppo32', 'barrier': -1}, 'lower': {'indicator': 'ppo16', 'barrier': 44}, 'best': {'type': 'upper', 'indicator': 'ppo32', 'barrier': -1}}}, 'order': {'single': {'upper': {'indicator': 'stochastic16', 'barrier': 44}, 'lower': {'indicator': 'adx8', 'barrier': 17}, 'best': {'type': 'upper', 'indicator': 'stochastic16', 'barrier': 44}}}}\n",
      "Key in forward opt json 01-03 - 6-month - mean - 21\n"
     ]
    },
    {
     "name": "stderr",
     "output_type": "stream",
     "text": [
      "\r",
      "  5%|▍         | 45/996 [14:41<5:20:45, 20.24s/it]"
     ]
    },
    {
     "name": "stdout",
     "output_type": "stream",
     "text": [
      "01-03 - 6-month - mean\n",
      "{'mean': {'single': {'upper': {'indicator': 'stochastic16', 'barrier': 8}, 'lower': {'indicator': 'ppo32', 'barrier': 10}, 'best': {'type': 'upper', 'indicator': 'stochastic16', 'barrier': 8}}}, 'order': {'single': {'upper': {'indicator': 'stochastic16', 'barrier': 20}, 'lower': {'indicator': 'adx16', 'barrier': 15}, 'best': {'type': 'upper', 'indicator': 'stochastic16', 'barrier': 20}}}}\n",
      "Key in forward opt json 01-03 - 6-month - order - 487\n"
     ]
    },
    {
     "name": "stderr",
     "output_type": "stream",
     "text": [
      "\r",
      "  5%|▍         | 46/996 [15:02<5:23:16, 20.42s/it]"
     ]
    },
    {
     "name": "stdout",
     "output_type": "stream",
     "text": [
      "01-03 - 6-month - order\n",
      "{'mean': {'single': {'upper': {'indicator': 'ppo32', 'barrier': -1}, 'lower': {'indicator': 'ppo16', 'barrier': 39}, 'best': {'type': 'upper', 'indicator': 'ppo32', 'barrier': -1}}}, 'order': {'single': {'upper': {'indicator': 'stochastic8', 'barrier': 42}, 'lower': {'indicator': 'stochastic8', 'barrier': 12}, 'best': {'type': 'upper', 'indicator': 'stochastic8', 'barrier': 42}}}}\n",
      "Key in forward opt json 01-03 - 12-month - mean - 88\n"
     ]
    },
    {
     "name": "stderr",
     "output_type": "stream",
     "text": [
      "\r",
      "  5%|▍         | 47/996 [15:21<5:13:12, 19.80s/it]"
     ]
    },
    {
     "name": "stdout",
     "output_type": "stream",
     "text": [
      "01-03 - 12-month - mean\n",
      "{'mean': {'single': {'upper': {'indicator': 'stochastic32', 'barrier': 8}, 'lower': {'indicator': 'adx16', 'barrier': 26}, 'best': {'type': 'upper', 'indicator': 'stochastic32', 'barrier': 8}}}, 'order': {'single': {'upper': {'indicator': 'stochastic32', 'barrier': 44}, 'lower': {'indicator': 'adx32', 'barrier': 13}, 'best': {'type': 'upper', 'indicator': 'stochastic32', 'barrier': 44}}}}\n",
      "Key in forward opt json 01-03 - 12-month - order - 839\n"
     ]
    },
    {
     "name": "stderr",
     "output_type": "stream",
     "text": [
      "\r",
      "  5%|▍         | 48/996 [15:47<5:44:28, 21.80s/it]"
     ]
    },
    {
     "name": "stdout",
     "output_type": "stream",
     "text": [
      "01-03 - 12-month - order\n",
      "{'mean': {'single': {'upper': {'indicator': 'stochastic8', 'barrier': 8}, 'lower': {'indicator': 'adx8', 'barrier': 53}, 'best': {'type': 'upper', 'indicator': 'stochastic8', 'barrier': 8}}}, 'order': {'single': {'upper': {'indicator': 'ppo8', 'barrier': 49}, 'lower': {'indicator': 'stochastic8', 'barrier': 22}, 'best': {'type': 'upper', 'indicator': 'ppo8', 'barrier': 49}}}}\n",
      "Key in forward opt json 01-04 - 6-month - mean - 38\n"
     ]
    },
    {
     "name": "stderr",
     "output_type": "stream",
     "text": [
      "\r",
      "  5%|▍         | 49/996 [16:05<5:23:17, 20.48s/it]"
     ]
    },
    {
     "name": "stdout",
     "output_type": "stream",
     "text": [
      "01-04 - 6-month - mean\n",
      "{'mean': {'single': {'upper': {'indicator': 'ppo16', 'barrier': 9}, 'lower': {'indicator': 'stochastic16', 'barrier': 12}, 'best': {'type': 'upper', 'indicator': 'ppo16', 'barrier': 9}}}, 'order': {'single': {'upper': {'indicator': 'adx8', 'barrier': 54}, 'lower': {'indicator': 'adx8', 'barrier': 20}, 'best': {'type': 'upper', 'indicator': 'adx8', 'barrier': 54}}}}\n",
      "Key in forward opt json 01-04 - 6-month - order - 489\n"
     ]
    },
    {
     "name": "stderr",
     "output_type": "stream",
     "text": [
      "\r",
      "  5%|▌         | 50/996 [16:24<5:17:37, 20.15s/it]"
     ]
    },
    {
     "name": "stdout",
     "output_type": "stream",
     "text": [
      "01-04 - 6-month - order\n",
      "{'mean': {'single': {'upper': {'indicator': 'ppo8', 'barrier': 2}, 'lower': {'indicator': 'adx8', 'barrier': 47}, 'best': {'type': 'upper', 'indicator': 'ppo8', 'barrier': 2}}}, 'order': {'single': {'upper': {'indicator': 'stochastic8', 'barrier': 54}, 'lower': {'indicator': 'adx8', 'barrier': 13}, 'best': {'type': 'upper', 'indicator': 'stochastic8', 'barrier': 54}}}}\n",
      "Key in forward opt json 01-04 - 12-month - mean - 29\n"
     ]
    },
    {
     "name": "stderr",
     "output_type": "stream",
     "text": [
      "\r",
      "  5%|▌         | 51/996 [16:42<5:09:13, 19.63s/it]"
     ]
    },
    {
     "name": "stdout",
     "output_type": "stream",
     "text": [
      "01-04 - 12-month - mean\n",
      "{'mean': {'single': {'upper': {'indicator': 'stochastic8', 'barrier': 12}, 'lower': {'indicator': 'adx8', 'barrier': 30}, 'best': {'type': 'upper', 'indicator': 'stochastic8', 'barrier': 12}}}, 'order': {'single': {'upper': {'indicator': 'stochastic8', 'barrier': 28}, 'lower': {'indicator': 'ppo16', 'barrier': 8}, 'best': {'type': 'upper', 'indicator': 'stochastic8', 'barrier': 28}}}}\n",
      "Key in forward opt json 01-04 - 12-month - order - 907\n"
     ]
    },
    {
     "name": "stderr",
     "output_type": "stream",
     "text": [
      "\r",
      "  5%|▌         | 52/996 [17:10<5:44:40, 21.91s/it]"
     ]
    },
    {
     "name": "stdout",
     "output_type": "stream",
     "text": [
      "01-04 - 12-month - order\n",
      "{'mean': {'single': {'upper': {'indicator': 'ppo32', 'barrier': -1}, 'lower': {'indicator': 'ppo8', 'barrier': 38}, 'best': {'type': 'upper', 'indicator': 'ppo32', 'barrier': -1}}}, 'order': {'single': {'upper': {'indicator': 'ppo16', 'barrier': 16}, 'lower': {'indicator': 'stochastic16', 'barrier': 44}, 'best': {'type': 'upper', 'indicator': 'ppo16', 'barrier': 16}}}}\n",
      "Key in forward opt json 01-05 - 6-month - mean - 45\n"
     ]
    },
    {
     "name": "stderr",
     "output_type": "stream",
     "text": [
      "\r",
      "  5%|▌         | 53/996 [17:28<5:27:23, 20.83s/it]"
     ]
    },
    {
     "name": "stdout",
     "output_type": "stream",
     "text": [
      "01-05 - 6-month - mean\n",
      "{'mean': {'single': {'upper': {'indicator': 'ppo8', 'barrier': 12}, 'lower': {'indicator': 'adx16', 'barrier': 16}, 'best': {'type': 'upper', 'indicator': 'ppo8', 'barrier': 12}}}, 'order': {'single': {'upper': {'indicator': 'stochastic8', 'barrier': 25}, 'lower': {'indicator': 'adx16', 'barrier': 14}, 'best': {'type': 'upper', 'indicator': 'stochastic8', 'barrier': 25}}}}\n",
      "Key in forward opt json 01-05 - 6-month - order - 677\n"
     ]
    },
    {
     "name": "stderr",
     "output_type": "stream",
     "text": [
      "\r",
      "  5%|▌         | 54/996 [17:50<5:34:05, 21.28s/it]"
     ]
    },
    {
     "name": "stdout",
     "output_type": "stream",
     "text": [
      "01-05 - 6-month - order\n",
      "{'mean': {'single': {'upper': {'indicator': 'stochastic8', 'barrier': 11}, 'lower': {'indicator': 'adx8', 'barrier': 29}, 'best': {'type': 'upper', 'indicator': 'stochastic8', 'barrier': 11}}}, 'order': {'single': {'upper': {'indicator': 'stochastic8', 'barrier': 53}, 'lower': {'indicator': 'stochastic16', 'barrier': 26}, 'best': {'type': 'upper', 'indicator': 'stochastic8', 'barrier': 53}}}}\n",
      "Key in forward opt json 01-05 - 12-month - mean - 99\n"
     ]
    },
    {
     "name": "stderr",
     "output_type": "stream",
     "text": [
      "\r",
      "  6%|▌         | 55/996 [18:08<5:18:53, 20.33s/it]"
     ]
    },
    {
     "name": "stdout",
     "output_type": "stream",
     "text": [
      "01-05 - 12-month - mean\n",
      "{'mean': {'single': {'upper': {'indicator': 'ppo16', 'barrier': 6}, 'lower': {'indicator': 'stochastic8', 'barrier': 24}, 'best': {'type': 'upper', 'indicator': 'ppo16', 'barrier': 6}}}, 'order': {'single': {'upper': {'indicator': 'ppo16', 'barrier': 12}, 'lower': {'indicator': 'stochastic32', 'barrier': 14}, 'best': {'type': 'upper', 'indicator': 'ppo16', 'barrier': 12}}}}\n",
      "Key in forward opt json 01-05 - 12-month - order - 894\n"
     ]
    },
    {
     "name": "stderr",
     "output_type": "stream",
     "text": [
      "\r",
      "  6%|▌         | 56/996 [18:35<5:47:30, 22.18s/it]"
     ]
    },
    {
     "name": "stdout",
     "output_type": "stream",
     "text": [
      "01-05 - 12-month - order\n",
      "{'mean': {'single': {'upper': {'indicator': 'ppo16', 'barrier': 0}, 'lower': {'indicator': 'ppo16', 'barrier': 36}, 'best': {'type': 'upper', 'indicator': 'ppo16', 'barrier': 0}}}, 'order': {'single': {'upper': {'indicator': 'stochastic16', 'barrier': 52}, 'lower': {'indicator': 'stochastic8', 'barrier': 18}, 'best': {'type': 'upper', 'indicator': 'stochastic16', 'barrier': 52}}}}\n",
      "Key in forward opt json 01-06 - 6-month - mean - 44\n"
     ]
    },
    {
     "name": "stderr",
     "output_type": "stream",
     "text": [
      "\r",
      "  6%|▌         | 57/996 [18:53<5:26:46, 20.88s/it]"
     ]
    },
    {
     "name": "stdout",
     "output_type": "stream",
     "text": [
      "01-06 - 6-month - mean\n",
      "{'mean': {'single': {'upper': {'indicator': 'ppo8', 'barrier': 4}, 'lower': {'indicator': 'stochastic32', 'barrier': 13}, 'best': {'type': 'upper', 'indicator': 'ppo8', 'barrier': 4}}}, 'order': {'single': {'upper': {'indicator': 'adx8', 'barrier': 54}, 'lower': {'indicator': 'ppo8', 'barrier': -4}, 'best': {'type': 'upper', 'indicator': 'adx8', 'barrier': 54}}}}\n",
      "Key in forward opt json 01-06 - 6-month - order - 692\n"
     ]
    },
    {
     "name": "stderr",
     "output_type": "stream",
     "text": [
      "\r",
      "  6%|▌         | 58/996 [19:14<5:29:40, 21.09s/it]"
     ]
    },
    {
     "name": "stdout",
     "output_type": "stream",
     "text": [
      "01-06 - 6-month - order\n",
      "{'mean': {'single': {'upper': {'indicator': 'stochastic16', 'barrier': 12}, 'lower': {'indicator': 'adx8', 'barrier': 61}, 'best': {'type': 'upper', 'indicator': 'stochastic16', 'barrier': 12}}}, 'order': {'single': {'upper': {'indicator': 'adx8', 'barrier': 53}, 'lower': {'indicator': 'stochastic16', 'barrier': 10}, 'best': {'type': 'upper', 'indicator': 'adx8', 'barrier': 53}}}}\n",
      "Key in forward opt json 01-06 - 12-month - mean - 114\n"
     ]
    },
    {
     "name": "stderr",
     "output_type": "stream",
     "text": [
      "\r",
      "  6%|▌         | 59/996 [19:32<5:13:24, 20.07s/it]"
     ]
    },
    {
     "name": "stdout",
     "output_type": "stream",
     "text": [
      "01-06 - 12-month - mean\n",
      "{'mean': {'single': {'upper': {'indicator': 'ppo8', 'barrier': 8}, 'lower': {'indicator': 'stochastic32', 'barrier': 27}, 'best': {'type': 'upper', 'indicator': 'ppo8', 'barrier': 8}}}, 'order': {'single': {'upper': {'indicator': 'stochastic32', 'barrier': 37}, 'lower': {'indicator': 'adx8', 'barrier': 39}, 'best': {'type': 'upper', 'indicator': 'stochastic32', 'barrier': 37}}}}\n",
      "Key in forward opt json 01-06 - 12-month - order - 1307\n"
     ]
    },
    {
     "name": "stderr",
     "output_type": "stream",
     "text": [
      "\r",
      "  6%|▌         | 60/996 [20:05<6:15:56, 24.10s/it]"
     ]
    },
    {
     "name": "stdout",
     "output_type": "stream",
     "text": [
      "01-06 - 12-month - order\n",
      "{'mean': {'single': {'upper': {'indicator': 'stochastic16', 'barrier': 8}, 'lower': {'indicator': 'ppo16', 'barrier': 38}, 'best': {'type': 'upper', 'indicator': 'stochastic16', 'barrier': 8}}}, 'order': {'single': {'upper': {'indicator': 'stochastic8', 'barrier': 73}, 'lower': {'indicator': 'stochastic32', 'barrier': 39}, 'best': {'type': 'upper', 'indicator': 'stochastic8', 'barrier': 73}}}}\n",
      "Key in forward opt json 01-07 - 6-month - mean - 98\n"
     ]
    },
    {
     "name": "stderr",
     "output_type": "stream",
     "text": [
      "\r",
      "  6%|▌         | 61/996 [20:23<5:44:35, 22.11s/it]"
     ]
    },
    {
     "name": "stdout",
     "output_type": "stream",
     "text": [
      "01-07 - 6-month - mean\n",
      "{'mean': {'single': {'upper': {'indicator': 'adx16', 'barrier': 18}, 'lower': {'indicator': 'adx32', 'barrier': 19}, 'best': {'type': 'upper', 'indicator': 'adx16', 'barrier': 18}}}, 'order': {'single': {'upper': {'indicator': 'ppo8', 'barrier': 17}, 'lower': {'indicator': 'stochastic8', 'barrier': 8}, 'best': {'type': 'upper', 'indicator': 'ppo8', 'barrier': 17}}}}\n",
      "Key in forward opt json 01-07 - 6-month - order - 246\n"
     ]
    },
    {
     "name": "stderr",
     "output_type": "stream",
     "text": [
      "\r",
      "  6%|▌         | 62/996 [20:41<5:26:41, 20.99s/it]"
     ]
    },
    {
     "name": "stdout",
     "output_type": "stream",
     "text": [
      "01-07 - 6-month - order\n",
      "{'mean': {'single': {'upper': {'indicator': 'ppo16', 'barrier': 4}, 'lower': {'indicator': 'adx32', 'barrier': 24}, 'best': {'type': 'upper', 'indicator': 'ppo16', 'barrier': 4}}}, 'order': {'single': {'upper': {'indicator': 'stochastic8', 'barrier': 18}, 'lower': {'indicator': 'ppo32', 'barrier': 9}, 'best': {'type': 'upper', 'indicator': 'stochastic8', 'barrier': 18}}}}\n",
      "Key in forward opt json 01-07 - 12-month - mean - 149\n"
     ]
    },
    {
     "name": "stderr",
     "output_type": "stream",
     "text": [
      "\r",
      "  6%|▋         | 63/996 [20:59<5:11:33, 20.04s/it]"
     ]
    },
    {
     "name": "stdout",
     "output_type": "stream",
     "text": [
      "01-07 - 12-month - mean\n",
      "{'mean': {'single': {'upper': {'indicator': 'ppo8', 'barrier': 5}, 'lower': {'indicator': 'stochastic32', 'barrier': 27}, 'best': {'type': 'upper', 'indicator': 'ppo8', 'barrier': 5}}}, 'order': {'single': {'upper': {'indicator': 'adx8', 'barrier': 48}, 'lower': {'indicator': 'ppo32', 'barrier': 6}, 'best': {'type': 'upper', 'indicator': 'adx8', 'barrier': 48}}}}\n",
      "Key in forward opt json 01-07 - 12-month - order - 1289\n"
     ]
    },
    {
     "name": "stderr",
     "output_type": "stream",
     "text": [
      "\r",
      "  6%|▋         | 64/996 [21:31<6:08:35, 23.73s/it]"
     ]
    },
    {
     "name": "stdout",
     "output_type": "stream",
     "text": [
      "01-07 - 12-month - order\n",
      "{'mean': {'single': {'upper': {'indicator': 'stochastic16', 'barrier': 8}, 'lower': {'indicator': 'ppo16', 'barrier': 38}, 'best': {'type': 'upper', 'indicator': 'stochastic16', 'barrier': 8}}}, 'order': {'single': {'upper': {'indicator': 'adx8', 'barrier': 49}, 'lower': {'indicator': 'stochastic8', 'barrier': 15}, 'best': {'type': 'upper', 'indicator': 'adx8', 'barrier': 49}}}}\n",
      "Key in forward opt json 01-08 - 6-month - mean - 81\n"
     ]
    },
    {
     "name": "stderr",
     "output_type": "stream",
     "text": [
      "\r",
      "  7%|▋         | 65/996 [21:49<5:40:28, 21.94s/it]"
     ]
    },
    {
     "name": "stdout",
     "output_type": "stream",
     "text": [
      "01-08 - 6-month - mean\n",
      "{'mean': {'single': {'upper': {'indicator': 'ppo16', 'barrier': 5}, 'lower': {'indicator': 'stochastic32', 'barrier': 22}, 'best': {'type': 'upper', 'indicator': 'ppo16', 'barrier': 5}}}, 'order': {'single': {'upper': {'indicator': 'ppo32', 'barrier': 18}, 'lower': {'indicator': 'stochastic32', 'barrier': 6}, 'best': {'type': 'upper', 'indicator': 'ppo32', 'barrier': 18}}}}\n",
      "Key in forward opt json 01-08 - 6-month - order - 676\n"
     ]
    },
    {
     "name": "stderr",
     "output_type": "stream",
     "text": [
      "\r",
      "  7%|▋         | 66/996 [22:11<5:39:38, 21.91s/it]"
     ]
    },
    {
     "name": "stdout",
     "output_type": "stream",
     "text": [
      "01-08 - 6-month - order\n",
      "{'mean': {'single': {'upper': {'indicator': 'stochastic8', 'barrier': 12}, 'lower': {'indicator': 'adx8', 'barrier': 21}, 'best': {'type': 'upper', 'indicator': 'stochastic8', 'barrier': 12}}}, 'order': {'single': {'upper': {'indicator': 'adx8', 'barrier': 35}, 'lower': {'indicator': 'stochastic32', 'barrier': 11}, 'best': {'type': 'upper', 'indicator': 'adx8', 'barrier': 35}}}}\n",
      "Key in forward opt json 01-08 - 12-month - mean - 163\n"
     ]
    },
    {
     "name": "stderr",
     "output_type": "stream",
     "text": [
      "\r",
      "  7%|▋         | 67/996 [22:29<5:22:43, 20.84s/it]"
     ]
    },
    {
     "name": "stdout",
     "output_type": "stream",
     "text": [
      "01-08 - 12-month - mean\n",
      "{'mean': {'single': {'upper': {'indicator': 'ppo8', 'barrier': 7}, 'lower': {'indicator': 'adx32', 'barrier': 23}, 'best': {'type': 'upper', 'indicator': 'ppo8', 'barrier': 7}}}, 'order': {'single': {'upper': {'indicator': 'adx8', 'barrier': 40}, 'lower': {'indicator': 'ppo32', 'barrier': 10}, 'best': {'type': 'upper', 'indicator': 'adx8', 'barrier': 40}}}}\n",
      "Key in forward opt json 01-08 - 12-month - order - 905\n"
     ]
    },
    {
     "name": "stderr",
     "output_type": "stream",
     "text": [
      "\r",
      "  7%|▋         | 68/996 [22:54<5:40:29, 22.01s/it]"
     ]
    },
    {
     "name": "stdout",
     "output_type": "stream",
     "text": [
      "01-08 - 12-month - order\n",
      "{'mean': {'single': {'upper': {'indicator': 'ppo16', 'barrier': 0}, 'lower': {'indicator': 'adx32', 'barrier': 36}, 'best': {'type': 'upper', 'indicator': 'ppo16', 'barrier': 0}}}, 'order': {'single': {'upper': {'indicator': 'stochastic32', 'barrier': 76}, 'lower': {'indicator': 'adx32', 'barrier': 6}, 'best': {'type': 'upper', 'indicator': 'stochastic32', 'barrier': 76}}}}\n",
      "Key in forward opt json 01-09 - 6-month - mean - 59\n"
     ]
    },
    {
     "name": "stderr",
     "output_type": "stream",
     "text": [
      "\r",
      "  7%|▋         | 69/996 [23:12<5:22:10, 20.85s/it]"
     ]
    },
    {
     "name": "stdout",
     "output_type": "stream",
     "text": [
      "01-09 - 6-month - mean\n",
      "{'mean': {'single': {'upper': {'indicator': 'adx32', 'barrier': 12}, 'lower': {'indicator': 'stochastic32', 'barrier': 20}, 'best': {'type': 'upper', 'indicator': 'adx32', 'barrier': 12}}}, 'order': {'single': {'upper': {'indicator': 'stochastic16', 'barrier': 21}, 'lower': {'indicator': 'stochastic32', 'barrier': 4}, 'best': {'type': 'upper', 'indicator': 'stochastic16', 'barrier': 21}}}}\n",
      "Key in forward opt json 01-09 - 6-month - order - 647\n"
     ]
    },
    {
     "name": "stderr",
     "output_type": "stream",
     "text": [
      "\r",
      "  7%|▋         | 70/996 [23:33<5:22:51, 20.92s/it]"
     ]
    },
    {
     "name": "stdout",
     "output_type": "stream",
     "text": [
      "01-09 - 6-month - order\n",
      "{'mean': {'single': {'upper': {'indicator': 'stochastic32', 'barrier': 13}, 'lower': {'indicator': 'stochastic32', 'barrier': 93}, 'best': {'type': 'upper', 'indicator': 'stochastic32', 'barrier': 13}}}, 'order': {'single': {'upper': {'indicator': 'ppo32', 'barrier': 17}, 'lower': {'indicator': 'ppo32', 'barrier': -5}, 'best': {'type': 'upper', 'indicator': 'ppo32', 'barrier': 17}}}}\n",
      "Key in forward opt json 01-09 - 12-month - mean - 107\n"
     ]
    },
    {
     "name": "stderr",
     "output_type": "stream",
     "text": [
      "\r",
      "  7%|▋         | 71/996 [23:51<5:08:20, 20.00s/it]"
     ]
    },
    {
     "name": "stdout",
     "output_type": "stream",
     "text": [
      "01-09 - 12-month - mean\n",
      "{'mean': {'single': {'upper': {'indicator': 'stochastic16', 'barrier': 8}, 'lower': {'indicator': 'adx32', 'barrier': 22}, 'best': {'type': 'upper', 'indicator': 'stochastic16', 'barrier': 8}}}, 'order': {'single': {'upper': {'indicator': 'ppo8', 'barrier': 22}, 'lower': {'indicator': 'stochastic32', 'barrier': 6}, 'best': {'type': 'upper', 'indicator': 'ppo8', 'barrier': 22}}}}\n",
      "Key in forward opt json 01-09 - 12-month - order - 280\n"
     ]
    },
    {
     "name": "stderr",
     "output_type": "stream",
     "text": [
      "\r",
      "  7%|▋         | 72/996 [24:10<5:03:11, 19.69s/it]"
     ]
    },
    {
     "name": "stdout",
     "output_type": "stream",
     "text": [
      "01-09 - 12-month - order\n",
      "{'mean': {'single': {'upper': {'indicator': 'ppo32', 'barrier': 4}, 'lower': {'indicator': 'adx32', 'barrier': 24}, 'best': {'type': 'upper', 'indicator': 'ppo32', 'barrier': 4}}}, 'order': {'single': {'upper': {'indicator': 'stochastic8', 'barrier': 34}, 'lower': {'indicator': 'adx8', 'barrier': 26}, 'best': {'type': 'upper', 'indicator': 'stochastic8', 'barrier': 34}}}}\n",
      "Key in forward opt json 01-10 - 6-month - mean - 389\n"
     ]
    },
    {
     "name": "stderr",
     "output_type": "stream",
     "text": [
      "\r",
      "  7%|▋         | 73/996 [24:29<4:58:40, 19.42s/it]"
     ]
    },
    {
     "name": "stdout",
     "output_type": "stream",
     "text": [
      "01-10 - 6-month - mean\n",
      "{'mean': {'single': {'upper': {'indicator': 'ppo8', 'barrier': 2}, 'lower': {'indicator': 'ppo8', 'barrier': 26}, 'best': {'type': 'upper', 'indicator': 'ppo8', 'barrier': 2}}}, 'order': {'single': {'upper': {'indicator': 'stochastic16', 'barrier': 18}, 'lower': {'indicator': 'stochastic32', 'barrier': 84}, 'best': {'type': 'upper', 'indicator': 'stochastic16', 'barrier': 18}}}}\n",
      "Key in forward opt json 01-10 - 6-month - order - 66\n"
     ]
    },
    {
     "name": "stderr",
     "output_type": "stream",
     "text": [
      "\r",
      "  7%|▋         | 74/996 [24:47<4:51:03, 18.94s/it]"
     ]
    },
    {
     "name": "stdout",
     "output_type": "stream",
     "text": [
      "01-10 - 6-month - order\n",
      "{'mean': {'single': {'upper': {'indicator': 'adx8', 'barrier': 34}, 'lower': {'indicator': 'adx32', 'barrier': 17}, 'best': {'type': 'upper', 'indicator': 'adx8', 'barrier': 34}}}, 'order': {'single': {'upper': {'indicator': 'adx8', 'barrier': 58}, 'lower': {'indicator': 'ppo32', 'barrier': 9}, 'best': {'type': 'upper', 'indicator': 'adx8', 'barrier': 58}}}}\n",
      "Key in forward opt json 01-10 - 12-month - mean - 60\n"
     ]
    },
    {
     "name": "stderr",
     "output_type": "stream",
     "text": [
      "\r",
      "  8%|▊         | 75/996 [25:04<4:42:37, 18.41s/it]"
     ]
    },
    {
     "name": "stdout",
     "output_type": "stream",
     "text": [
      "01-10 - 12-month - mean\n",
      "{'mean': {'single': {'upper': {'indicator': 'adx8', 'barrier': 32}, 'lower': {'indicator': 'ppo16', 'barrier': 12}, 'best': {'type': 'upper', 'indicator': 'adx8', 'barrier': 32}}}, 'order': {'single': {'upper': {'indicator': 'adx8', 'barrier': 70}, 'lower': {'indicator': 'ppo32', 'barrier': 6}, 'best': {'type': 'upper', 'indicator': 'adx8', 'barrier': 70}}}}\n",
      "Key in forward opt json 01-10 - 12-month - order - 198\n"
     ]
    },
    {
     "name": "stderr",
     "output_type": "stream",
     "text": [
      "\r",
      "  8%|▊         | 76/996 [25:22<4:38:29, 18.16s/it]"
     ]
    },
    {
     "name": "stdout",
     "output_type": "stream",
     "text": [
      "01-10 - 12-month - order\n",
      "{'mean': {'single': {'upper': {'indicator': 'stochastic8', 'barrier': 8}, 'lower': {'indicator': 'adx32', 'barrier': 20}, 'best': {'type': 'upper', 'indicator': 'stochastic8', 'barrier': 8}}}, 'order': {'single': {'upper': {'indicator': 'ppo32', 'barrier': 26}, 'lower': {'indicator': 'stochastic8', 'barrier': 6}, 'best': {'type': 'upper', 'indicator': 'ppo32', 'barrier': 26}}}}\n",
      "Key in forward opt json 01-11 - 6-month - mean - 264\n"
     ]
    },
    {
     "name": "stderr",
     "output_type": "stream",
     "text": [
      "\r",
      "  8%|▊         | 77/996 [25:40<4:38:22, 18.17s/it]"
     ]
    },
    {
     "name": "stdout",
     "output_type": "stream",
     "text": [
      "01-11 - 6-month - mean\n",
      "{'mean': {'single': {'upper': {'indicator': 'ppo16', 'barrier': 2}, 'lower': {'indicator': 'stochastic32', 'barrier': 76}, 'best': {'type': 'upper', 'indicator': 'ppo16', 'barrier': 2}}}, 'order': {'single': {'upper': {'indicator': 'adx8', 'barrier': 20}, 'lower': {'indicator': 'stochastic32', 'barrier': 60}, 'best': {'type': 'upper', 'indicator': 'adx8', 'barrier': 20}}}}\n",
      "Key in forward opt json 01-11 - 6-month - order - 584\n"
     ]
    },
    {
     "name": "stderr",
     "output_type": "stream",
     "text": [
      "\r",
      "  8%|▊         | 78/996 [26:00<4:48:13, 18.84s/it]"
     ]
    },
    {
     "name": "stdout",
     "output_type": "stream",
     "text": [
      "01-11 - 6-month - order\n",
      "{'mean': {'single': {'upper': {'indicator': 'ppo16', 'barrier': -2}, 'lower': {'indicator': 'stochastic32', 'barrier': 94}, 'best': {'type': 'upper', 'indicator': 'ppo16', 'barrier': -2}}}, 'order': {'single': {'upper': {'indicator': 'ppo32', 'barrier': 11}, 'lower': {'indicator': 'adx32', 'barrier': 11}, 'best': {'type': 'upper', 'indicator': 'ppo32', 'barrier': 11}}}}\n",
      "Key in forward opt json 01-11 - 12-month - mean - 105\n"
     ]
    },
    {
     "name": "stderr",
     "output_type": "stream",
     "text": [
      "\r",
      "  8%|▊         | 79/996 [26:17<4:41:00, 18.39s/it]"
     ]
    },
    {
     "name": "stdout",
     "output_type": "stream",
     "text": [
      "01-11 - 12-month - mean\n",
      "{'mean': {'single': {'upper': {'indicator': 'stochastic32', 'barrier': 9}, 'lower': {'indicator': 'adx32', 'barrier': 19}, 'best': {'type': 'upper', 'indicator': 'stochastic32', 'barrier': 9}}}, 'order': {'single': {'upper': {'indicator': 'ppo32', 'barrier': 16}, 'lower': {'indicator': 'adx32', 'barrier': 13}, 'best': {'type': 'upper', 'indicator': 'ppo32', 'barrier': 16}}}}\n",
      "Key in forward opt json 01-11 - 12-month - order - 171\n"
     ]
    },
    {
     "name": "stderr",
     "output_type": "stream",
     "text": [
      "\r",
      "  8%|▊         | 80/996 [26:36<4:39:38, 18.32s/it]"
     ]
    },
    {
     "name": "stdout",
     "output_type": "stream",
     "text": [
      "01-11 - 12-month - order\n",
      "{'mean': {'single': {'upper': {'indicator': 'ppo8', 'barrier': 3}, 'lower': {'indicator': 'adx32', 'barrier': 20}, 'best': {'type': 'upper', 'indicator': 'ppo8', 'barrier': 3}}}, 'order': {'single': {'upper': {'indicator': 'stochastic8', 'barrier': 10}, 'lower': {'indicator': 'adx8', 'barrier': 20}, 'best': {'type': 'upper', 'indicator': 'stochastic8', 'barrier': 10}}}}\n"
     ]
    },
    {
     "name": "stderr",
     "output_type": "stream",
     "text": [
      "\r",
      "  8%|▊         | 81/996 [26:53<4:34:53, 18.03s/it]"
     ]
    },
    {
     "name": "stdout",
     "output_type": "stream",
     "text": [
      "Key in forward opt json 01-12 - 6-month - mean - 35\n",
      "01-12 - 6-month - mean\n",
      "{'mean': {'single': {'upper': {'indicator': 'adx8', 'barrier': 34}, 'lower': {'indicator': 'adx32', 'barrier': 17}, 'best': {'type': 'upper', 'indicator': 'adx8', 'barrier': 34}}}, 'order': {'single': {'upper': {'indicator': 'stochastic32', 'barrier': 24}, 'lower': {'indicator': 'ppo16', 'barrier': 5}, 'best': {'type': 'upper', 'indicator': 'stochastic32', 'barrier': 24}}}}\n",
      "Key in forward opt json 01-12 - 6-month - order - 542\n"
     ]
    },
    {
     "name": "stderr",
     "output_type": "stream",
     "text": [
      "\r",
      "  8%|▊         | 82/996 [27:14<4:46:27, 18.80s/it]"
     ]
    },
    {
     "name": "stdout",
     "output_type": "stream",
     "text": [
      "01-12 - 6-month - order\n",
      "{'mean': {'single': {'upper': {'indicator': 'ppo16', 'barrier': -2}, 'lower': {'indicator': 'stochastic32', 'barrier': 94}, 'best': {'type': 'upper', 'indicator': 'ppo16', 'barrier': -2}}}, 'order': {'single': {'upper': {'indicator': 'adx32', 'barrier': 25}, 'lower': {'indicator': 'stochastic16', 'barrier': 51}, 'best': {'type': 'upper', 'indicator': 'adx32', 'barrier': 25}}}}\n",
      "Key in forward opt json 01-12 - 12-month - mean - 104\n"
     ]
    },
    {
     "name": "stderr",
     "output_type": "stream",
     "text": [
      "\r",
      "  8%|▊         | 83/996 [27:32<4:42:23, 18.56s/it]"
     ]
    },
    {
     "name": "stdout",
     "output_type": "stream",
     "text": [
      "01-12 - 12-month - mean\n",
      "{'mean': {'single': {'upper': {'indicator': 'stochastic32', 'barrier': 9}, 'lower': {'indicator': 'adx32', 'barrier': 19}, 'best': {'type': 'upper', 'indicator': 'stochastic32', 'barrier': 9}}}, 'order': {'single': {'upper': {'indicator': 'ppo8', 'barrier': 21}, 'lower': {'indicator': 'adx32', 'barrier': 13}, 'best': {'type': 'upper', 'indicator': 'ppo8', 'barrier': 21}}}}\n",
      "Key in forward opt json 01-12 - 12-month - order - 168\n"
     ]
    },
    {
     "name": "stderr",
     "output_type": "stream",
     "text": [
      "\r",
      "  8%|▊         | 84/996 [27:50<4:40:44, 18.47s/it]"
     ]
    },
    {
     "name": "stdout",
     "output_type": "stream",
     "text": [
      "01-12 - 12-month - order\n",
      "{'mean': {'single': {'upper': {'indicator': 'ppo8', 'barrier': 3}, 'lower': {'indicator': 'adx32', 'barrier': 20}, 'best': {'type': 'upper', 'indicator': 'ppo8', 'barrier': 3}}}, 'order': {'single': {'upper': {'indicator': 'adx8', 'barrier': 52}, 'lower': {'indicator': 'adx8', 'barrier': 26}, 'best': {'type': 'upper', 'indicator': 'adx8', 'barrier': 52}}}}\n"
     ]
    },
    {
     "name": "stderr",
     "output_type": "stream",
     "text": [
      "\r",
      "  9%|▊         | 85/996 [28:07<4:36:16, 18.20s/it]"
     ]
    },
    {
     "name": "stdout",
     "output_type": "stream",
     "text": [
      "Key in forward opt json 02-01 - 6-month - mean - 27\n",
      "02-01 - 6-month - mean\n",
      "{'mean': {'single': {'upper': {'indicator': 'stochastic8', 'barrier': 9}, 'lower': {'indicator': 'adx32', 'barrier': 15}, 'best': {'type': 'upper', 'indicator': 'stochastic8', 'barrier': 9}}}, 'order': {'single': {'upper': {'indicator': 'stochastic16', 'barrier': 14}, 'lower': {'indicator': 'ppo32', 'barrier': 8}, 'best': {'type': 'upper', 'indicator': 'stochastic16', 'barrier': 14}}}}\n",
      "Key in forward opt json 02-01 - 6-month - order - 505\n"
     ]
    },
    {
     "name": "stderr",
     "output_type": "stream",
     "text": [
      "\r",
      "  9%|▊         | 86/996 [28:28<4:49:00, 19.06s/it]"
     ]
    },
    {
     "name": "stdout",
     "output_type": "stream",
     "text": [
      "02-01 - 6-month - order\n",
      "{'mean': {'single': {'upper': {'indicator': 'ppo32', 'barrier': -1}, 'lower': {'indicator': 'ppo8', 'barrier': 30}, 'best': {'type': 'upper', 'indicator': 'ppo32', 'barrier': -1}}}, 'order': {'single': {'upper': {'indicator': 'adx8', 'barrier': 39}, 'lower': {'indicator': 'stochastic32', 'barrier': 71}, 'best': {'type': 'upper', 'indicator': 'adx8', 'barrier': 39}}}}\n",
      "Key in forward opt json 02-01 - 12-month - mean - 56\n"
     ]
    },
    {
     "name": "stderr",
     "output_type": "stream",
     "text": [
      "\r",
      "  9%|▊         | 87/996 [28:47<4:45:47, 18.86s/it]"
     ]
    },
    {
     "name": "stdout",
     "output_type": "stream",
     "text": [
      "02-01 - 12-month - mean\n",
      "{'mean': {'single': {'upper': {'indicator': 'adx8', 'barrier': 32}, 'lower': {'indicator': 'ppo16', 'barrier': 12}, 'best': {'type': 'upper', 'indicator': 'adx8', 'barrier': 32}}}, 'order': {'single': {'upper': {'indicator': 'stochastic16', 'barrier': 22}, 'lower': {'indicator': 'ppo32', 'barrier': 7}, 'best': {'type': 'upper', 'indicator': 'stochastic16', 'barrier': 22}}}}\n",
      "Key in forward opt json 02-01 - 12-month - order - 165\n"
     ]
    },
    {
     "name": "stderr",
     "output_type": "stream",
     "text": [
      "\r",
      "  9%|▉         | 88/996 [29:05<4:41:20, 18.59s/it]"
     ]
    },
    {
     "name": "stdout",
     "output_type": "stream",
     "text": [
      "02-01 - 12-month - order\n",
      "{'mean': {'single': {'upper': {'indicator': 'ppo8', 'barrier': 3}, 'lower': {'indicator': 'ppo8', 'barrier': 17}, 'best': {'type': 'upper', 'indicator': 'ppo8', 'barrier': 3}}}, 'order': {'single': {'upper': {'indicator': 'adx8', 'barrier': 50}, 'lower': {'indicator': 'ppo16', 'barrier': 13}, 'best': {'type': 'upper', 'indicator': 'adx8', 'barrier': 50}}}}\n"
     ]
    },
    {
     "name": "stderr",
     "output_type": "stream",
     "text": [
      "\r",
      "  9%|▉         | 89/996 [29:23<4:37:25, 18.35s/it]"
     ]
    },
    {
     "name": "stdout",
     "output_type": "stream",
     "text": [
      "Key in forward opt json 02-02 - 6-month - mean - 25\n",
      "02-02 - 6-month - mean\n",
      "{'mean': {'single': {'upper': {'indicator': 'stochastic16', 'barrier': 9}, 'lower': {'indicator': 'adx32', 'barrier': 17}, 'best': {'type': 'upper', 'indicator': 'stochastic16', 'barrier': 9}}}, 'order': {'single': {'upper': {'indicator': 'adx8', 'barrier': 54}, 'lower': {'indicator': 'adx32', 'barrier': 9}, 'best': {'type': 'upper', 'indicator': 'adx8', 'barrier': 54}}}}\n",
      "Key in forward opt json 02-02 - 6-month - order - 498\n"
     ]
    },
    {
     "name": "stderr",
     "output_type": "stream",
     "text": [
      "\r",
      "  9%|▉         | 90/996 [29:43<4:48:36, 19.11s/it]"
     ]
    },
    {
     "name": "stdout",
     "output_type": "stream",
     "text": [
      "02-02 - 6-month - order\n",
      "{'mean': {'single': {'upper': {'indicator': 'ppo32', 'barrier': -1}, 'lower': {'indicator': 'ppo8', 'barrier': 32}, 'best': {'type': 'upper', 'indicator': 'ppo32', 'barrier': -1}}}, 'order': {'single': {'upper': {'indicator': 'stochastic32', 'barrier': 86}, 'lower': {'indicator': 'stochastic16', 'barrier': 51}, 'best': {'type': 'upper', 'indicator': 'stochastic32', 'barrier': 86}}}}\n",
      "Key in forward opt json 02-02 - 12-month - mean - 51\n"
     ]
    },
    {
     "name": "stderr",
     "output_type": "stream",
     "text": [
      "\r",
      "  9%|▉         | 91/996 [30:01<4:42:12, 18.71s/it]"
     ]
    },
    {
     "name": "stdout",
     "output_type": "stream",
     "text": [
      "02-02 - 12-month - mean\n",
      "{'mean': {'single': {'upper': {'indicator': 'stochastic8', 'barrier': 7}, 'lower': {'indicator': 'adx32', 'barrier': 17}, 'best': {'type': 'upper', 'indicator': 'stochastic8', 'barrier': 7}}}, 'order': {'single': {'upper': {'indicator': 'adx8', 'barrier': 54}, 'lower': {'indicator': 'ppo32', 'barrier': 7}, 'best': {'type': 'upper', 'indicator': 'adx8', 'barrier': 54}}}}\n",
      "Key in forward opt json 02-02 - 12-month - order - 1184\n"
     ]
    },
    {
     "name": "stderr",
     "output_type": "stream",
     "text": [
      "\r",
      "  9%|▉         | 92/996 [30:33<5:38:52, 22.49s/it]"
     ]
    },
    {
     "name": "stdout",
     "output_type": "stream",
     "text": [
      "02-02 - 12-month - order\n",
      "{'mean': {'single': {'upper': {'indicator': 'stochastic16', 'barrier': 7}, 'lower': {'indicator': 'ppo16', 'barrier': 34}, 'best': {'type': 'upper', 'indicator': 'stochastic16', 'barrier': 7}}}, 'order': {'single': {'upper': {'indicator': 'ppo16', 'barrier': 26}, 'lower': {'indicator': 'stochastic32', 'barrier': 11}, 'best': {'type': 'upper', 'indicator': 'ppo16', 'barrier': 26}}}}\n",
      "Key in forward opt json 02-03 - 6-month - mean - 37\n"
     ]
    },
    {
     "name": "stderr",
     "output_type": "stream",
     "text": [
      "\r",
      "  9%|▉         | 93/996 [30:50<5:16:09, 21.01s/it]"
     ]
    },
    {
     "name": "stdout",
     "output_type": "stream",
     "text": [
      "02-03 - 6-month - mean\n",
      "{'mean': {'single': {'upper': {'indicator': 'adx8', 'barrier': 44}, 'lower': {'indicator': 'adx16', 'barrier': 21}, 'best': {'type': 'upper', 'indicator': 'adx8', 'barrier': 44}}}, 'order': {'single': {'upper': {'indicator': 'adx8', 'barrier': 56}, 'lower': {'indicator': 'adx8', 'barrier': 24}, 'best': {'type': 'upper', 'indicator': 'adx8', 'barrier': 56}}}}\n",
      "Key in forward opt json 02-03 - 6-month - order - 483\n"
     ]
    },
    {
     "name": "stderr",
     "output_type": "stream",
     "text": [
      "\r",
      "  9%|▉         | 94/996 [31:10<5:11:08, 20.70s/it]"
     ]
    },
    {
     "name": "stdout",
     "output_type": "stream",
     "text": [
      "02-03 - 6-month - order\n",
      "{'mean': {'single': {'upper': {'indicator': 'stochastic32', 'barrier': 14}, 'lower': {'indicator': 'ppo8', 'barrier': 30}, 'best': {'type': 'upper', 'indicator': 'stochastic32', 'barrier': 14}}}, 'order': {'single': {'upper': {'indicator': 'stochastic8', 'barrier': 62}, 'lower': {'indicator': 'ppo8', 'barrier': -6}, 'best': {'type': 'upper', 'indicator': 'stochastic8', 'barrier': 62}}}}\n",
      "Key in forward opt json 02-03 - 12-month - mean - 83\n"
     ]
    },
    {
     "name": "stderr",
     "output_type": "stream",
     "text": [
      "\r",
      " 10%|▉         | 95/996 [31:28<4:57:13, 19.79s/it]"
     ]
    },
    {
     "name": "stdout",
     "output_type": "stream",
     "text": [
      "02-03 - 12-month - mean\n",
      "{'mean': {'single': {'upper': {'indicator': 'stochastic8', 'barrier': 6}, 'lower': {'indicator': 'adx32', 'barrier': 17}, 'best': {'type': 'upper', 'indicator': 'stochastic8', 'barrier': 6}}}, 'order': {'single': {'upper': {'indicator': 'adx8', 'barrier': 54}, 'lower': {'indicator': 'ppo8', 'barrier': -1}, 'best': {'type': 'upper', 'indicator': 'adx8', 'barrier': 54}}}}\n",
      "Key in forward opt json 02-03 - 12-month - order - 1136\n"
     ]
    },
    {
     "name": "stderr",
     "output_type": "stream",
     "text": [
      "\r",
      " 10%|▉         | 96/996 [31:58<5:42:21, 22.82s/it]"
     ]
    },
    {
     "name": "stdout",
     "output_type": "stream",
     "text": [
      "02-03 - 12-month - order\n",
      "{'mean': {'single': {'upper': {'indicator': 'stochastic16', 'barrier': 7}, 'lower': {'indicator': 'ppo16', 'barrier': 36}, 'best': {'type': 'upper', 'indicator': 'stochastic16', 'barrier': 7}}}, 'order': {'single': {'upper': {'indicator': 'stochastic8', 'barrier': 70}, 'lower': {'indicator': 'stochastic32', 'barrier': 35}, 'best': {'type': 'upper', 'indicator': 'stochastic8', 'barrier': 70}}}}\n"
     ]
    },
    {
     "name": "stderr",
     "output_type": "stream",
     "text": [
      "\r",
      " 10%|▉         | 97/996 [32:15<5:19:22, 21.32s/it]"
     ]
    },
    {
     "name": "stdout",
     "output_type": "stream",
     "text": [
      "Key in forward opt json 02-04 - 6-month - mean - 12\n",
      "02-04 - 6-month - mean\n",
      "{'mean': {'single': {'upper': {'indicator': 'adx8', 'barrier': 50}, 'lower': {'indicator': 'adx16', 'barrier': 17}, 'best': {'type': 'upper', 'indicator': 'adx8', 'barrier': 50}}}, 'order': {'single': {'upper': {'indicator': 'adx16', 'barrier': 31}, 'lower': {'indicator': 'adx8', 'barrier': 24}, 'best': {'type': 'upper', 'indicator': 'adx16', 'barrier': 31}}}}\n",
      "Key in forward opt json 02-04 - 6-month - order - 566\n"
     ]
    },
    {
     "name": "stderr",
     "output_type": "stream",
     "text": [
      "\r",
      " 10%|▉         | 98/996 [32:37<5:22:13, 21.53s/it]"
     ]
    },
    {
     "name": "stdout",
     "output_type": "stream",
     "text": [
      "02-04 - 6-month - order\n",
      "{'mean': {'single': {'upper': {'indicator': 'stochastic32', 'barrier': 18}, 'lower': {'indicator': 'ppo32', 'barrier': 25}, 'best': {'type': 'upper', 'indicator': 'stochastic32', 'barrier': 18}}}, 'order': {'single': {'upper': {'indicator': 'adx8', 'barrier': 47}, 'lower': {'indicator': 'adx16', 'barrier': 13}, 'best': {'type': 'upper', 'indicator': 'adx8', 'barrier': 47}}}}\n",
      "Key in forward opt json 02-04 - 12-month - mean - 48\n"
     ]
    },
    {
     "name": "stderr",
     "output_type": "stream",
     "text": [
      "\r",
      " 10%|▉         | 99/996 [32:56<5:06:43, 20.52s/it]"
     ]
    },
    {
     "name": "stdout",
     "output_type": "stream",
     "text": [
      "02-04 - 12-month - mean\n",
      "{'mean': {'single': {'upper': {'indicator': 'stochastic8', 'barrier': 7}, 'lower': {'indicator': 'adx32', 'barrier': 17}, 'best': {'type': 'upper', 'indicator': 'stochastic8', 'barrier': 7}}}, 'order': {'single': {'upper': {'indicator': 'adx8', 'barrier': 54}, 'lower': {'indicator': 'adx32', 'barrier': 9}, 'best': {'type': 'upper', 'indicator': 'adx8', 'barrier': 54}}}}\n",
      "Key in forward opt json 02-04 - 12-month - order - 1167\n"
     ]
    },
    {
     "name": "stderr",
     "output_type": "stream",
     "text": [
      "\r",
      " 10%|█         | 100/996 [33:26<5:49:40, 23.42s/it]"
     ]
    },
    {
     "name": "stdout",
     "output_type": "stream",
     "text": [
      "02-04 - 12-month - order\n",
      "{'mean': {'single': {'upper': {'indicator': 'stochastic16', 'barrier': 7}, 'lower': {'indicator': 'ppo16', 'barrier': 38}, 'best': {'type': 'upper', 'indicator': 'stochastic16', 'barrier': 7}}}, 'order': {'single': {'upper': {'indicator': 'ppo8', 'barrier': 20}, 'lower': {'indicator': 'adx16', 'barrier': 13}, 'best': {'type': 'upper', 'indicator': 'ppo8', 'barrier': 20}}}}\n"
     ]
    },
    {
     "name": "stderr",
     "output_type": "stream",
     "text": [
      "\r",
      " 10%|█         | 101/996 [33:44<5:25:23, 21.81s/it]"
     ]
    },
    {
     "name": "stdout",
     "output_type": "stream",
     "text": [
      "Key in forward opt json 02-05 - 6-month - mean - 20\n",
      "02-05 - 6-month - mean\n",
      "{'mean': {'single': {'upper': {'indicator': 'stochastic16', 'barrier': 9}, 'lower': {'indicator': 'adx16', 'barrier': 21}, 'best': {'type': 'upper', 'indicator': 'stochastic16', 'barrier': 9}}}, 'order': {'single': {'upper': {'indicator': 'adx8', 'barrier': 57}, 'lower': {'indicator': 'adx8', 'barrier': 19}, 'best': {'type': 'upper', 'indicator': 'adx8', 'barrier': 57}}}}\n",
      "Key in forward opt json 02-05 - 6-month - order - 642\n"
     ]
    },
    {
     "name": "stderr",
     "output_type": "stream",
     "text": [
      "\r",
      " 10%|█         | 102/996 [34:07<5:29:48, 22.13s/it]"
     ]
    },
    {
     "name": "stdout",
     "output_type": "stream",
     "text": [
      "02-05 - 6-month - order\n",
      "{'mean': {'single': {'upper': {'indicator': 'stochastic32', 'barrier': 10}, 'lower': {'indicator': 'ppo16', 'barrier': 30}, 'best': {'type': 'upper', 'indicator': 'stochastic32', 'barrier': 10}}}, 'order': {'single': {'upper': {'indicator': 'stochastic8', 'barrier': 72}, 'lower': {'indicator': 'stochastic32', 'barrier': 72}, 'best': {'type': 'upper', 'indicator': 'stochastic8', 'barrier': 72}}}}\n",
      "Key in forward opt json 02-05 - 12-month - mean - 82\n"
     ]
    },
    {
     "name": "stderr",
     "output_type": "stream",
     "text": [
      "\r",
      " 10%|█         | 103/996 [34:26<5:14:24, 21.13s/it]"
     ]
    },
    {
     "name": "stdout",
     "output_type": "stream",
     "text": [
      "02-05 - 12-month - mean\n",
      "{'mean': {'single': {'upper': {'indicator': 'stochastic8', 'barrier': 6}, 'lower': {'indicator': 'adx32', 'barrier': 17}, 'best': {'type': 'upper', 'indicator': 'stochastic8', 'barrier': 6}}}, 'order': {'single': {'upper': {'indicator': 'adx8', 'barrier': 55}, 'lower': {'indicator': 'adx8', 'barrier': 19}, 'best': {'type': 'upper', 'indicator': 'adx8', 'barrier': 55}}}}\n",
      "Key in forward opt json 02-05 - 12-month - order - 1215\n"
     ]
    },
    {
     "name": "stderr",
     "output_type": "stream",
     "text": [
      "\r",
      " 10%|█         | 104/996 [34:57<6:01:23, 24.31s/it]"
     ]
    },
    {
     "name": "stdout",
     "output_type": "stream",
     "text": [
      "02-05 - 12-month - order\n",
      "{'mean': {'single': {'upper': {'indicator': 'stochastic8', 'barrier': 6}, 'lower': {'indicator': 'ppo16', 'barrier': 30}, 'best': {'type': 'upper', 'indicator': 'stochastic8', 'barrier': 6}}}, 'order': {'single': {'upper': {'indicator': 'ppo32', 'barrier': 25}, 'lower': {'indicator': 'stochastic8', 'barrier': 20}, 'best': {'type': 'upper', 'indicator': 'ppo32', 'barrier': 25}}}}\n",
      "Key in forward opt json 02-06 - 6-month - mean - 21\n"
     ]
    },
    {
     "name": "stderr",
     "output_type": "stream",
     "text": [
      "\r",
      " 11%|█         | 105/996 [35:15<5:32:38, 22.40s/it]"
     ]
    },
    {
     "name": "stdout",
     "output_type": "stream",
     "text": [
      "02-06 - 6-month - mean\n",
      "{'mean': {'single': {'upper': {'indicator': 'stochastic16', 'barrier': 9}, 'lower': {'indicator': 'adx16', 'barrier': 19}, 'best': {'type': 'upper', 'indicator': 'stochastic16', 'barrier': 9}}}, 'order': {'single': {'upper': {'indicator': 'ppo16', 'barrier': 14}, 'lower': {'indicator': 'adx8', 'barrier': 19}, 'best': {'type': 'upper', 'indicator': 'ppo16', 'barrier': 14}}}}\n",
      "Key in forward opt json 02-06 - 6-month - order - 483\n"
     ]
    },
    {
     "name": "stderr",
     "output_type": "stream",
     "text": [
      "\r",
      " 11%|█         | 106/996 [35:36<5:25:46, 21.96s/it]"
     ]
    },
    {
     "name": "stdout",
     "output_type": "stream",
     "text": [
      "02-06 - 6-month - order\n",
      "{'mean': {'single': {'upper': {'indicator': 'stochastic8', 'barrier': 8}, 'lower': {'indicator': 'ppo16', 'barrier': 29}, 'best': {'type': 'upper', 'indicator': 'stochastic8', 'barrier': 8}}}, 'order': {'single': {'upper': {'indicator': 'stochastic16', 'barrier': 78}, 'lower': {'indicator': 'ppo8', 'barrier': 6}, 'best': {'type': 'upper', 'indicator': 'stochastic16', 'barrier': 78}}}}\n",
      "Key in forward opt json 02-06 - 12-month - mean - 54\n"
     ]
    },
    {
     "name": "stderr",
     "output_type": "stream",
     "text": [
      "\r",
      " 11%|█         | 107/996 [35:55<5:09:39, 20.90s/it]"
     ]
    },
    {
     "name": "stdout",
     "output_type": "stream",
     "text": [
      "02-06 - 12-month - mean\n",
      "{'mean': {'single': {'upper': {'indicator': 'stochastic8', 'barrier': 7}, 'lower': {'indicator': 'adx32', 'barrier': 21}, 'best': {'type': 'upper', 'indicator': 'stochastic8', 'barrier': 7}}}, 'order': {'single': {'upper': {'indicator': 'stochastic16', 'barrier': 22}, 'lower': {'indicator': 'adx32', 'barrier': 9}, 'best': {'type': 'upper', 'indicator': 'stochastic16', 'barrier': 22}}}}\n",
      "Key in forward opt json 02-06 - 12-month - order - 877\n"
     ]
    },
    {
     "name": "stderr",
     "output_type": "stream",
     "text": [
      "\r",
      " 11%|█         | 108/996 [36:20<5:31:12, 22.38s/it]"
     ]
    },
    {
     "name": "stdout",
     "output_type": "stream",
     "text": [
      "02-06 - 12-month - order\n",
      "{'mean': {'single': {'upper': {'indicator': 'ppo32', 'barrier': -1}, 'lower': {'indicator': 'ppo32', 'barrier': 31}, 'best': {'type': 'upper', 'indicator': 'ppo32', 'barrier': -1}}}, 'order': {'single': {'upper': {'indicator': 'stochastic8', 'barrier': 62}, 'lower': {'indicator': 'stochastic16', 'barrier': 36}, 'best': {'type': 'upper', 'indicator': 'stochastic8', 'barrier': 62}}}}\n",
      "Key in forward opt json 02-07 - 6-month - mean - 28\n"
     ]
    },
    {
     "name": "stderr",
     "output_type": "stream",
     "text": [
      "\r",
      " 11%|█         | 109/996 [36:39<5:13:28, 21.20s/it]"
     ]
    },
    {
     "name": "stdout",
     "output_type": "stream",
     "text": [
      "02-07 - 6-month - mean\n",
      "{'mean': {'single': {'upper': {'indicator': 'adx32', 'barrier': 14}, 'lower': {'indicator': 'adx16', 'barrier': 21}, 'best': {'type': 'upper', 'indicator': 'adx32', 'barrier': 14}}}, 'order': {'single': {'upper': {'indicator': 'stochastic32', 'barrier': 9}, 'lower': {'indicator': 'adx16', 'barrier': 19}, 'best': {'type': 'upper', 'indicator': 'stochastic32', 'barrier': 9}}}}\n",
      "Key in forward opt json 02-07 - 6-month - order - 504\n"
     ]
    },
    {
     "name": "stderr",
     "output_type": "stream",
     "text": [
      "\r",
      " 11%|█         | 110/996 [37:00<5:12:29, 21.16s/it]"
     ]
    },
    {
     "name": "stdout",
     "output_type": "stream",
     "text": [
      "02-07 - 6-month - order\n",
      "{'mean': {'single': {'upper': {'indicator': 'stochastic8', 'barrier': 8}, 'lower': {'indicator': 'ppo16', 'barrier': 30}, 'best': {'type': 'upper', 'indicator': 'stochastic8', 'barrier': 8}}}, 'order': {'single': {'upper': {'indicator': 'stochastic16', 'barrier': 74}, 'lower': {'indicator': 'adx16', 'barrier': 17}, 'best': {'type': 'upper', 'indicator': 'stochastic16', 'barrier': 74}}}}\n",
      "Key in forward opt json 02-07 - 12-month - mean - 65\n"
     ]
    },
    {
     "name": "stderr",
     "output_type": "stream",
     "text": [
      "\r",
      " 11%|█         | 111/996 [37:19<5:03:11, 20.55s/it]"
     ]
    },
    {
     "name": "stdout",
     "output_type": "stream",
     "text": [
      "02-07 - 12-month - mean\n",
      "{'mean': {'single': {'upper': {'indicator': 'stochastic32', 'barrier': 5}, 'lower': {'indicator': 'adx32', 'barrier': 21}, 'best': {'type': 'upper', 'indicator': 'stochastic32', 'barrier': 5}}}, 'order': {'single': {'upper': {'indicator': 'stochastic8', 'barrier': 32}, 'lower': {'indicator': 'ppo8', 'barrier': 5}, 'best': {'type': 'upper', 'indicator': 'stochastic8', 'barrier': 32}}}}\n",
      "Key in forward opt json 02-07 - 12-month - order - 844\n"
     ]
    },
    {
     "name": "stderr",
     "output_type": "stream",
     "text": [
      "\r",
      " 11%|█         | 112/996 [37:44<5:22:51, 21.91s/it]"
     ]
    },
    {
     "name": "stdout",
     "output_type": "stream",
     "text": [
      "02-07 - 12-month - order\n",
      "{'mean': {'single': {'upper': {'indicator': 'ppo32', 'barrier': -1}, 'lower': {'indicator': 'ppo32', 'barrier': 31}, 'best': {'type': 'upper', 'indicator': 'ppo32', 'barrier': -1}}}, 'order': {'single': {'upper': {'indicator': 'stochastic8', 'barrier': 60}, 'lower': {'indicator': 'stochastic8', 'barrier': 20}, 'best': {'type': 'upper', 'indicator': 'stochastic8', 'barrier': 60}}}}\n",
      "Key in forward opt json 02-08 - 6-month - mean - 66\n"
     ]
    },
    {
     "name": "stderr",
     "output_type": "stream",
     "text": [
      "\r",
      " 11%|█▏        | 113/996 [38:02<5:06:19, 20.81s/it]"
     ]
    },
    {
     "name": "stdout",
     "output_type": "stream",
     "text": [
      "02-08 - 6-month - mean\n",
      "{'mean': {'single': {'upper': {'indicator': 'stochastic16', 'barrier': 7}, 'lower': {'indicator': 'ppo8', 'barrier': 9}, 'best': {'type': 'upper', 'indicator': 'stochastic16', 'barrier': 7}}}, 'order': {'single': {'upper': {'indicator': 'stochastic32', 'barrier': 16}, 'lower': {'indicator': 'adx16', 'barrier': 19}, 'best': {'type': 'upper', 'indicator': 'stochastic32', 'barrier': 16}}}}\n",
      "Key in forward opt json 02-08 - 6-month - order - 96\n"
     ]
    },
    {
     "name": "stderr",
     "output_type": "stream",
     "text": [
      "\r",
      " 11%|█▏        | 114/996 [38:21<4:54:52, 20.06s/it]"
     ]
    },
    {
     "name": "stdout",
     "output_type": "stream",
     "text": [
      "02-08 - 6-month - order\n",
      "{'mean': {'single': {'upper': {'indicator': 'stochastic8', 'barrier': 5}, 'lower': {'indicator': 'stochastic32', 'barrier': 24}, 'best': {'type': 'upper', 'indicator': 'stochastic8', 'barrier': 5}}}, 'order': {'single': {'upper': {'indicator': 'ppo8', 'barrier': 8}, 'lower': {'indicator': 'adx16', 'barrier': 19}, 'best': {'type': 'upper', 'indicator': 'ppo8', 'barrier': 8}}}}\n",
      "Key in forward opt json 02-08 - 12-month - mean - 103\n"
     ]
    },
    {
     "name": "stderr",
     "output_type": "stream",
     "text": [
      "\r",
      " 12%|█▏        | 115/996 [38:39<4:46:19, 19.50s/it]"
     ]
    },
    {
     "name": "stdout",
     "output_type": "stream",
     "text": [
      "02-08 - 12-month - mean\n",
      "{'mean': {'single': {'upper': {'indicator': 'stochastic8', 'barrier': 5}, 'lower': {'indicator': 'ppo16', 'barrier': 13}, 'best': {'type': 'upper', 'indicator': 'stochastic8', 'barrier': 5}}}, 'order': {'single': {'upper': {'indicator': 'adx16', 'barrier': 32}, 'lower': {'indicator': 'adx8', 'barrier': 24}, 'best': {'type': 'upper', 'indicator': 'adx16', 'barrier': 32}}}}\n",
      "Key in forward opt json 02-08 - 12-month - order - 161\n"
     ]
    },
    {
     "name": "stderr",
     "output_type": "stream",
     "text": [
      "\r",
      " 12%|█▏        | 116/996 [38:58<4:42:00, 19.23s/it]"
     ]
    },
    {
     "name": "stdout",
     "output_type": "stream",
     "text": [
      "02-08 - 12-month - order\n",
      "{'mean': {'single': {'upper': {'indicator': 'stochastic8', 'barrier': 5}, 'lower': {'indicator': 'adx32', 'barrier': 22}, 'best': {'type': 'upper', 'indicator': 'stochastic8', 'barrier': 5}}}, 'order': {'single': {'upper': {'indicator': 'stochastic8', 'barrier': 27}, 'lower': {'indicator': 'adx8', 'barrier': 21}, 'best': {'type': 'upper', 'indicator': 'stochastic8', 'barrier': 27}}}}\n",
      "Key in forward opt json 02-09 - 6-month - mean - 63\n"
     ]
    },
    {
     "name": "stderr",
     "output_type": "stream",
     "text": [
      "\r",
      " 12%|█▏        | 117/996 [39:16<4:39:29, 19.08s/it]"
     ]
    },
    {
     "name": "stdout",
     "output_type": "stream",
     "text": [
      "02-09 - 6-month - mean\n",
      "{'mean': {'single': {'upper': {'indicator': 'stochastic16', 'barrier': 7}, 'lower': {'indicator': 'ppo8', 'barrier': 9}, 'best': {'type': 'upper', 'indicator': 'stochastic16', 'barrier': 7}}}, 'order': {'single': {'upper': {'indicator': 'stochastic32', 'barrier': 16}, 'lower': {'indicator': 'adx16', 'barrier': 19}, 'best': {'type': 'upper', 'indicator': 'stochastic32', 'barrier': 16}}}}\n",
      "Key in forward opt json 02-09 - 6-month - order - 52\n"
     ]
    },
    {
     "name": "stderr",
     "output_type": "stream",
     "text": [
      "\r",
      " 12%|█▏        | 118/996 [39:35<4:37:59, 19.00s/it]"
     ]
    },
    {
     "name": "stdout",
     "output_type": "stream",
     "text": [
      "02-09 - 6-month - order\n",
      "{'mean': {'single': {'upper': {'indicator': 'stochastic16', 'barrier': 6}, 'lower': {'indicator': 'adx32', 'barrier': 18}, 'best': {'type': 'upper', 'indicator': 'stochastic16', 'barrier': 6}}}, 'order': {'single': {'upper': {'indicator': 'adx16', 'barrier': 32}, 'lower': {'indicator': 'ppo16', 'barrier': 5}, 'best': {'type': 'upper', 'indicator': 'adx16', 'barrier': 32}}}}\n",
      "Key in forward opt json 02-09 - 12-month - mean - 51\n"
     ]
    },
    {
     "name": "stderr",
     "output_type": "stream",
     "text": [
      "\r",
      " 12%|█▏        | 119/996 [39:54<4:36:45, 18.93s/it]"
     ]
    },
    {
     "name": "stdout",
     "output_type": "stream",
     "text": [
      "02-09 - 12-month - mean\n",
      "{'mean': {'single': {'upper': {'indicator': 'stochastic32', 'barrier': 7}, 'lower': {'indicator': 'adx32', 'barrier': 21}, 'best': {'type': 'upper', 'indicator': 'stochastic32', 'barrier': 7}}}, 'order': {'single': {'upper': {'indicator': 'adx16', 'barrier': 33}, 'lower': {'indicator': 'adx16', 'barrier': 19}, 'best': {'type': 'upper', 'indicator': 'adx16', 'barrier': 33}}}}\n",
      "Key in forward opt json 02-09 - 12-month - order - 156\n"
     ]
    },
    {
     "name": "stderr",
     "output_type": "stream",
     "text": [
      "\r",
      " 12%|█▏        | 120/996 [40:13<4:35:50, 18.89s/it]"
     ]
    },
    {
     "name": "stdout",
     "output_type": "stream",
     "text": [
      "02-09 - 12-month - order\n",
      "{'mean': {'single': {'upper': {'indicator': 'stochastic8', 'barrier': 5}, 'lower': {'indicator': 'adx32', 'barrier': 23}, 'best': {'type': 'upper', 'indicator': 'stochastic8', 'barrier': 5}}}, 'order': {'single': {'upper': {'indicator': 'adx16', 'barrier': 34}, 'lower': {'indicator': 'adx8', 'barrier': 21}, 'best': {'type': 'upper', 'indicator': 'adx16', 'barrier': 34}}}}\n",
      "Key in forward opt json 02-10 - 6-month - mean - 60\n"
     ]
    },
    {
     "name": "stderr",
     "output_type": "stream",
     "text": [
      "\r",
      " 12%|█▏        | 121/996 [40:32<4:37:50, 19.05s/it]"
     ]
    },
    {
     "name": "stdout",
     "output_type": "stream",
     "text": [
      "02-10 - 6-month - mean\n",
      "{'mean': {'single': {'upper': {'indicator': 'adx8', 'barrier': 34}, 'lower': {'indicator': 'adx8', 'barrier': 42}, 'best': {'type': 'upper', 'indicator': 'adx8', 'barrier': 34}}}, 'order': {'single': {'upper': {'indicator': 'adx16', 'barrier': 31}, 'lower': {'indicator': 'adx8', 'barrier': 24}, 'best': {'type': 'upper', 'indicator': 'adx16', 'barrier': 31}}}}\n",
      "Key in forward opt json 02-10 - 6-month - order - 50\n"
     ]
    },
    {
     "name": "stderr",
     "output_type": "stream",
     "text": [
      "\r",
      " 12%|█▏        | 122/996 [40:50<4:33:33, 18.78s/it]"
     ]
    },
    {
     "name": "stdout",
     "output_type": "stream",
     "text": [
      "02-10 - 6-month - order\n",
      "{'mean': {'single': {'upper': {'indicator': 'stochastic16', 'barrier': 6}, 'lower': {'indicator': 'adx32', 'barrier': 18}, 'best': {'type': 'upper', 'indicator': 'stochastic16', 'barrier': 6}}}, 'order': {'single': {'upper': {'indicator': 'ppo8', 'barrier': 24}, 'lower': {'indicator': 'ppo8', 'barrier': 2}, 'best': {'type': 'upper', 'indicator': 'ppo8', 'barrier': 24}}}}\n",
      "Key in forward opt json 02-10 - 12-month - mean - 66\n"
     ]
    },
    {
     "name": "stderr",
     "output_type": "stream",
     "text": [
      "\r",
      " 12%|█▏        | 123/996 [41:09<4:32:31, 18.73s/it]"
     ]
    },
    {
     "name": "stdout",
     "output_type": "stream",
     "text": [
      "02-10 - 12-month - mean\n",
      "{'mean': {'single': {'upper': {'indicator': 'stochastic16', 'barrier': 5}, 'lower': {'indicator': 'adx16', 'barrier': 27}, 'best': {'type': 'upper', 'indicator': 'stochastic16', 'barrier': 5}}}, 'order': {'single': {'upper': {'indicator': 'stochastic16', 'barrier': 5}, 'lower': {'indicator': 'adx16', 'barrier': 23}, 'best': {'type': 'upper', 'indicator': 'stochastic16', 'barrier': 5}}}}\n",
      "Key in forward opt json 02-10 - 12-month - order - 759\n"
     ]
    },
    {
     "name": "stderr",
     "output_type": "stream",
     "text": [
      "\r",
      " 12%|█▏        | 124/996 [41:33<4:56:15, 20.39s/it]"
     ]
    },
    {
     "name": "stdout",
     "output_type": "stream",
     "text": [
      "02-10 - 12-month - order\n",
      "{'mean': {'single': {'upper': {'indicator': 'ppo8', 'barrier': 2}, 'lower': {'indicator': 'adx16', 'barrier': 43}, 'best': {'type': 'upper', 'indicator': 'ppo8', 'barrier': 2}}}, 'order': {'single': {'upper': {'indicator': 'ppo32', 'barrier': 27}, 'lower': {'indicator': 'stochastic32', 'barrier': 17}, 'best': {'type': 'upper', 'indicator': 'ppo32', 'barrier': 27}}}}\n",
      "Key in forward opt json 02-11 - 6-month - mean - 43\n"
     ]
    },
    {
     "name": "stderr",
     "output_type": "stream",
     "text": [
      "\r",
      " 13%|█▎        | 125/996 [41:52<4:47:26, 19.80s/it]"
     ]
    },
    {
     "name": "stdout",
     "output_type": "stream",
     "text": [
      "02-11 - 6-month - mean\n",
      "{'mean': {'single': {'upper': {'indicator': 'stochastic32', 'barrier': 9}, 'lower': {'indicator': 'ppo8', 'barrier': 7}, 'best': {'type': 'upper', 'indicator': 'stochastic32', 'barrier': 9}}}, 'order': {'single': {'upper': {'indicator': 'stochastic32', 'barrier': 15}, 'lower': {'indicator': 'stochastic8', 'barrier': 11}, 'best': {'type': 'upper', 'indicator': 'stochastic32', 'barrier': 15}}}}\n",
      "Key in forward opt json 02-11 - 6-month - order - 47\n"
     ]
    },
    {
     "name": "stderr",
     "output_type": "stream",
     "text": [
      "\r",
      " 13%|█▎        | 126/996 [42:10<4:40:12, 19.32s/it]"
     ]
    },
    {
     "name": "stdout",
     "output_type": "stream",
     "text": [
      "02-11 - 6-month - order\n",
      "{'mean': {'single': {'upper': {'indicator': 'adx8', 'barrier': 31}, 'lower': {'indicator': 'stochastic16', 'barrier': 18}, 'best': {'type': 'upper', 'indicator': 'adx8', 'barrier': 31}}}, 'order': {'single': {'upper': {'indicator': 'ppo8', 'barrier': 24}, 'lower': {'indicator': 'ppo8', 'barrier': 2}, 'best': {'type': 'upper', 'indicator': 'ppo8', 'barrier': 24}}}}\n",
      "Key in forward opt json 02-11 - 12-month - mean - 67\n"
     ]
    },
    {
     "name": "stderr",
     "output_type": "stream",
     "text": [
      "\r",
      " 13%|█▎        | 127/996 [42:29<4:39:48, 19.32s/it]"
     ]
    },
    {
     "name": "stdout",
     "output_type": "stream",
     "text": [
      "02-11 - 12-month - mean\n",
      "{'mean': {'single': {'upper': {'indicator': 'stochastic16', 'barrier': 5}, 'lower': {'indicator': 'stochastic16', 'barrier': 19}, 'best': {'type': 'upper', 'indicator': 'stochastic16', 'barrier': 5}}}, 'order': {'single': {'upper': {'indicator': 'ppo8', 'barrier': 24}, 'lower': {'indicator': 'ppo16', 'barrier': 9}, 'best': {'type': 'upper', 'indicator': 'ppo8', 'barrier': 24}}}}\n",
      "Key in forward opt json 02-11 - 12-month - order - 705\n"
     ]
    },
    {
     "name": "stderr",
     "output_type": "stream",
     "text": [
      "\r",
      " 13%|█▎        | 128/996 [42:52<4:56:58, 20.53s/it]"
     ]
    },
    {
     "name": "stdout",
     "output_type": "stream",
     "text": [
      "02-11 - 12-month - order\n",
      "{'mean': {'single': {'upper': {'indicator': 'ppo16', 'barrier': -1}, 'lower': {'indicator': 'stochastic16', 'barrier': 68}, 'best': {'type': 'upper', 'indicator': 'ppo16', 'barrier': -1}}}, 'order': {'single': {'upper': {'indicator': 'ppo16', 'barrier': 17}, 'lower': {'indicator': 'ppo8', 'barrier': 3}, 'best': {'type': 'upper', 'indicator': 'ppo16', 'barrier': 17}}}}\n"
     ]
    },
    {
     "name": "stderr",
     "output_type": "stream",
     "text": [
      "\r",
      " 13%|█▎        | 129/996 [43:11<4:50:17, 20.09s/it]"
     ]
    },
    {
     "name": "stdout",
     "output_type": "stream",
     "text": [
      "Key in forward opt json 02-12 - 6-month - mean - 32\n",
      "02-12 - 6-month - mean\n",
      "{'mean': {'single': {'upper': {'indicator': 'stochastic32', 'barrier': 11}, 'lower': {'indicator': 'ppo32', 'barrier': 8}, 'best': {'type': 'upper', 'indicator': 'stochastic32', 'barrier': 11}}}, 'order': {'single': {'upper': {'indicator': 'stochastic32', 'barrier': 11}, 'lower': {'indicator': 'ppo32', 'barrier': 8}, 'best': {'type': 'upper', 'indicator': 'stochastic32', 'barrier': 11}}}}\n",
      "Key in forward opt json 02-12 - 6-month - order - 43\n"
     ]
    },
    {
     "name": "stderr",
     "output_type": "stream",
     "text": [
      "\r",
      " 13%|█▎        | 130/996 [43:31<4:48:04, 19.96s/it]"
     ]
    },
    {
     "name": "stdout",
     "output_type": "stream",
     "text": [
      "02-12 - 6-month - order\n",
      "{'mean': {'single': {'upper': {'indicator': 'adx8', 'barrier': 31}, 'lower': {'indicator': 'stochastic16', 'barrier': 18}, 'best': {'type': 'upper', 'indicator': 'adx8', 'barrier': 31}}}, 'order': {'single': {'upper': {'indicator': 'adx32', 'barrier': 28}, 'lower': {'indicator': 'ppo8', 'barrier': 2}, 'best': {'type': 'upper', 'indicator': 'adx32', 'barrier': 28}}}}\n",
      "Key in forward opt json 02-12 - 12-month - mean - 77\n"
     ]
    },
    {
     "name": "stderr",
     "output_type": "stream",
     "text": [
      "\r",
      " 13%|█▎        | 131/996 [43:50<4:44:25, 19.73s/it]"
     ]
    },
    {
     "name": "stdout",
     "output_type": "stream",
     "text": [
      "02-12 - 12-month - mean\n",
      "{'mean': {'single': {'upper': {'indicator': 'stochastic16', 'barrier': 7}, 'lower': {'indicator': 'ppo32', 'barrier': 12}, 'best': {'type': 'upper', 'indicator': 'stochastic16', 'barrier': 7}}}, 'order': {'single': {'upper': {'indicator': 'stochastic32', 'barrier': 16}, 'lower': {'indicator': 'adx16', 'barrier': 19}, 'best': {'type': 'upper', 'indicator': 'stochastic32', 'barrier': 16}}}}\n",
      "Key in forward opt json 02-12 - 12-month - order - 115\n"
     ]
    },
    {
     "name": "stderr",
     "output_type": "stream",
     "text": [
      "\r",
      " 13%|█▎        | 132/996 [44:10<4:42:54, 19.65s/it]"
     ]
    },
    {
     "name": "stdout",
     "output_type": "stream",
     "text": [
      "02-12 - 12-month - order\n",
      "{'mean': {'single': {'upper': {'indicator': 'stochastic8', 'barrier': 5}, 'lower': {'indicator': 'stochastic32', 'barrier': 26}, 'best': {'type': 'upper', 'indicator': 'stochastic8', 'barrier': 5}}}, 'order': {'single': {'upper': {'indicator': 'adx16', 'barrier': 31}, 'lower': {'indicator': 'adx16', 'barrier': 21}, 'best': {'type': 'upper', 'indicator': 'adx16', 'barrier': 31}}}}\n",
      "Key in forward opt json 03-01 - 6-month - mean - 277\n"
     ]
    },
    {
     "name": "stderr",
     "output_type": "stream",
     "text": [
      "\r",
      " 13%|█▎        | 133/996 [44:31<4:51:31, 20.27s/it]"
     ]
    },
    {
     "name": "stdout",
     "output_type": "stream",
     "text": [
      "03-01 - 6-month - mean\n",
      "{'mean': {'single': {'upper': {'indicator': 'ppo32', 'barrier': 2}, 'lower': {'indicator': 'stochastic8', 'barrier': 82}, 'best': {'type': 'upper', 'indicator': 'ppo32', 'barrier': 2}}}, 'order': {'single': {'upper': {'indicator': 'adx8', 'barrier': 45}, 'lower': {'indicator': 'stochastic32', 'barrier': 48}, 'best': {'type': 'upper', 'indicator': 'adx8', 'barrier': 45}}}}\n",
      "Key in forward opt json 03-01 - 6-month - order - 83\n"
     ]
    },
    {
     "name": "stderr",
     "output_type": "stream",
     "text": [
      "\r",
      " 13%|█▎        | 134/996 [44:53<4:56:53, 20.67s/it]"
     ]
    },
    {
     "name": "stdout",
     "output_type": "stream",
     "text": [
      "03-01 - 6-month - order\n",
      "{'mean': {'single': {'upper': {'indicator': 'adx8', 'barrier': 20}, 'lower': {'indicator': 'stochastic32', 'barrier': 69}, 'best': {'type': 'upper', 'indicator': 'adx8', 'barrier': 20}}}, 'order': {'single': {'upper': {'indicator': 'adx8', 'barrier': 40}, 'lower': {'indicator': 'stochastic16', 'barrier': 11}, 'best': {'type': 'upper', 'indicator': 'adx8', 'barrier': 40}}}}\n",
      "Key in forward opt json 03-01 - 12-month - mean - 74\n"
     ]
    },
    {
     "name": "stderr",
     "output_type": "stream",
     "text": [
      "\r",
      " 14%|█▎        | 135/996 [45:14<4:58:15, 20.78s/it]"
     ]
    },
    {
     "name": "stdout",
     "output_type": "stream",
     "text": [
      "03-01 - 12-month - mean\n",
      "{'mean': {'single': {'upper': {'indicator': 'stochastic16', 'barrier': 5}, 'lower': {'indicator': 'ppo16', 'barrier': 11}, 'best': {'type': 'upper', 'indicator': 'stochastic16', 'barrier': 5}}}, 'order': {'single': {'upper': {'indicator': 'adx16', 'barrier': 31}, 'lower': {'indicator': 'adx8', 'barrier': 24}, 'best': {'type': 'upper', 'indicator': 'adx16', 'barrier': 31}}}}\n",
      "Key in forward opt json 03-01 - 12-month - order - 111\n"
     ]
    },
    {
     "name": "stderr",
     "output_type": "stream",
     "text": [
      "\r",
      " 14%|█▎        | 136/996 [45:34<4:53:01, 20.44s/it]"
     ]
    },
    {
     "name": "stdout",
     "output_type": "stream",
     "text": [
      "03-01 - 12-month - order\n",
      "{'mean': {'single': {'upper': {'indicator': 'stochastic8', 'barrier': 5}, 'lower': {'indicator': 'stochastic32', 'barrier': 26}, 'best': {'type': 'upper', 'indicator': 'stochastic8', 'barrier': 5}}}, 'order': {'single': {'upper': {'indicator': 'stochastic16', 'barrier': 9}, 'lower': {'indicator': 'adx16', 'barrier': 21}, 'best': {'type': 'upper', 'indicator': 'stochastic16', 'barrier': 9}}}}\n"
     ]
    },
    {
     "name": "stderr",
     "output_type": "stream",
     "text": [
      "\r",
      " 14%|█▍        | 137/996 [45:54<4:50:43, 20.31s/it]"
     ]
    },
    {
     "name": "stdout",
     "output_type": "stream",
     "text": [
      "Key in forward opt json 03-02 - 6-month - mean - 7\n",
      "Not enough trades for 03-02 - 6-month - mean\n",
      "03-02 - 6-month - mean\n",
      "None\n",
      "Key in forward opt json 03-02 - 6-month - order - 302\n"
     ]
    },
    {
     "name": "stderr",
     "output_type": "stream",
     "text": [
      "\r",
      " 14%|█▍        | 138/996 [46:14<4:50:33, 20.32s/it]"
     ]
    },
    {
     "name": "stdout",
     "output_type": "stream",
     "text": [
      "03-02 - 6-month - order\n",
      "{'mean': {'single': {'upper': {'indicator': 'stochastic16', 'barrier': 21}, 'lower': {'indicator': 'stochastic16', 'barrier': 89}, 'best': {'type': 'upper', 'indicator': 'stochastic16', 'barrier': 21}}}, 'order': {'single': {'upper': {'indicator': 'adx32', 'barrier': 25}, 'lower': {'indicator': 'ppo32', 'barrier': -1}, 'best': {'type': 'upper', 'indicator': 'adx32', 'barrier': 25}}}}\n",
      "Key in forward opt json 03-02 - 12-month - mean - 71\n"
     ]
    },
    {
     "name": "stderr",
     "output_type": "stream",
     "text": [
      "\r",
      " 14%|█▍        | 139/996 [46:33<4:45:42, 20.00s/it]"
     ]
    },
    {
     "name": "stdout",
     "output_type": "stream",
     "text": [
      "03-02 - 12-month - mean\n",
      "{'mean': {'single': {'upper': {'indicator': 'adx16', 'barrier': 17}, 'lower': {'indicator': 'ppo8', 'barrier': 9}, 'best': {'type': 'upper', 'indicator': 'adx16', 'barrier': 17}}}, 'order': {'single': {'upper': {'indicator': 'adx16', 'barrier': 31}, 'lower': {'indicator': 'adx32', 'barrier': 12}, 'best': {'type': 'upper', 'indicator': 'adx16', 'barrier': 31}}}}\n",
      "Key in forward opt json 03-02 - 12-month - order - 916\n"
     ]
    },
    {
     "name": "stderr",
     "output_type": "stream",
     "text": [
      "\r",
      " 14%|█▍        | 140/996 [47:01<5:15:55, 22.14s/it]"
     ]
    },
    {
     "name": "stdout",
     "output_type": "stream",
     "text": [
      "03-02 - 12-month - order\n",
      "{'mean': {'single': {'upper': {'indicator': 'stochastic8', 'barrier': 9}, 'lower': {'indicator': 'stochastic16', 'barrier': 92}, 'best': {'type': 'upper', 'indicator': 'stochastic8', 'barrier': 9}}}, 'order': {'single': {'upper': {'indicator': 'ppo32', 'barrier': 13}, 'lower': {'indicator': 'stochastic32', 'barrier': 68}, 'best': {'type': 'upper', 'indicator': 'ppo32', 'barrier': 13}}}}\n"
     ]
    },
    {
     "name": "stderr",
     "output_type": "stream",
     "text": [
      "\r",
      " 14%|█▍        | 141/996 [47:19<5:00:34, 21.09s/it]"
     ]
    },
    {
     "name": "stdout",
     "output_type": "stream",
     "text": [
      "Key in forward opt json 03-03 - 6-month - mean - 7\n",
      "Not enough trades for 03-03 - 6-month - mean\n",
      "03-03 - 6-month - mean\n",
      "None\n",
      "Key in forward opt json 03-03 - 6-month - order - 159\n"
     ]
    },
    {
     "name": "stderr",
     "output_type": "stream",
     "text": [
      "\r",
      " 14%|█▍        | 142/996 [47:38<4:52:39, 20.56s/it]"
     ]
    },
    {
     "name": "stdout",
     "output_type": "stream",
     "text": [
      "03-03 - 6-month - order\n",
      "{'mean': {'single': {'upper': {'indicator': 'ppo8', 'barrier': 3}, 'lower': {'indicator': 'ppo32', 'barrier': 10}, 'best': {'type': 'upper', 'indicator': 'ppo8', 'barrier': 3}}}, 'order': {'single': {'upper': {'indicator': 'adx8', 'barrier': 32}, 'lower': {'indicator': 'stochastic8', 'barrier': 34}, 'best': {'type': 'upper', 'indicator': 'adx8', 'barrier': 32}}}}\n",
      "Key in forward opt json 03-03 - 12-month - mean - 68\n"
     ]
    },
    {
     "name": "stderr",
     "output_type": "stream",
     "text": [
      "\r",
      " 14%|█▍        | 143/996 [47:58<4:45:49, 20.10s/it]"
     ]
    },
    {
     "name": "stdout",
     "output_type": "stream",
     "text": [
      "03-03 - 12-month - mean\n",
      "{'mean': {'single': {'upper': {'indicator': 'adx8', 'barrier': 34}, 'lower': {'indicator': 'ppo8', 'barrier': 9}, 'best': {'type': 'upper', 'indicator': 'adx8', 'barrier': 34}}}, 'order': {'single': {'upper': {'indicator': 'adx16', 'barrier': 31}, 'lower': {'indicator': 'adx32', 'barrier': 12}, 'best': {'type': 'upper', 'indicator': 'adx16', 'barrier': 31}}}}\n",
      "Key in forward opt json 03-03 - 12-month - order - 615\n"
     ]
    },
    {
     "name": "stderr",
     "output_type": "stream",
     "text": [
      "\r",
      " 14%|█▍        | 144/996 [48:18<4:48:23, 20.31s/it]"
     ]
    },
    {
     "name": "stdout",
     "output_type": "stream",
     "text": [
      "03-03 - 12-month - order\n",
      "{'mean': {'single': {'upper': {'indicator': 'stochastic16', 'barrier': 10}, 'lower': {'indicator': 'ppo32', 'barrier': 21}, 'best': {'type': 'upper', 'indicator': 'stochastic16', 'barrier': 10}}}, 'order': {'single': {'upper': {'indicator': 'ppo32', 'barrier': -1}, 'lower': {'indicator': 'adx32', 'barrier': 23}, 'best': {'type': 'upper', 'indicator': 'ppo32', 'barrier': -1}}}}\n"
     ]
    },
    {
     "name": "stderr",
     "output_type": "stream",
     "text": [
      "\r",
      " 15%|█▍        | 145/996 [48:36<4:34:54, 19.38s/it]"
     ]
    },
    {
     "name": "stdout",
     "output_type": "stream",
     "text": [
      "Key in forward opt json 03-04 - 6-month - mean - 1\n",
      "Not enough trades for 03-04 - 6-month - mean\n",
      "03-04 - 6-month - mean\n",
      "None\n",
      "Key in forward opt json 03-04 - 6-month - order - 335\n"
     ]
    },
    {
     "name": "stderr",
     "output_type": "stream",
     "text": [
      "\r",
      " 15%|█▍        | 146/996 [48:55<4:36:50, 19.54s/it]"
     ]
    },
    {
     "name": "stdout",
     "output_type": "stream",
     "text": [
      "03-04 - 6-month - order\n",
      "{'mean': {'single': {'upper': {'indicator': 'ppo32', 'barrier': -5}, 'lower': {'indicator': 'ppo8', 'barrier': 20}, 'best': {'type': 'upper', 'indicator': 'ppo32', 'barrier': -5}}}, 'order': {'single': {'upper': {'indicator': 'adx32', 'barrier': 20}, 'lower': {'indicator': 'stochastic32', 'barrier': 10}, 'best': {'type': 'upper', 'indicator': 'adx32', 'barrier': 20}}}}\n",
      "Key in forward opt json 03-04 - 12-month - mean - 66\n"
     ]
    },
    {
     "name": "stderr",
     "output_type": "stream",
     "text": [
      "\r",
      " 15%|█▍        | 147/996 [49:14<4:34:07, 19.37s/it]"
     ]
    },
    {
     "name": "stdout",
     "output_type": "stream",
     "text": [
      "03-04 - 12-month - mean\n",
      "{'mean': {'single': {'upper': {'indicator': 'adx16', 'barrier': 17}, 'lower': {'indicator': 'adx8', 'barrier': 42}, 'best': {'type': 'upper', 'indicator': 'adx16', 'barrier': 17}}}, 'order': {'single': {'upper': {'indicator': 'adx32', 'barrier': 20}, 'lower': {'indicator': 'stochastic8', 'barrier': 11}, 'best': {'type': 'upper', 'indicator': 'adx32', 'barrier': 20}}}}\n",
      "Key in forward opt json 03-04 - 12-month - order - 821\n"
     ]
    },
    {
     "name": "stderr",
     "output_type": "stream",
     "text": [
      "\r",
      " 15%|█▍        | 148/996 [49:41<5:02:35, 21.41s/it]"
     ]
    },
    {
     "name": "stdout",
     "output_type": "stream",
     "text": [
      "03-04 - 12-month - order\n",
      "{'mean': {'single': {'upper': {'indicator': 'ppo32', 'barrier': -7}, 'lower': {'indicator': 'ppo8', 'barrier': 24}, 'best': {'type': 'upper', 'indicator': 'ppo32', 'barrier': -7}}}, 'order': {'single': {'upper': {'indicator': 'adx8', 'barrier': 38}, 'lower': {'indicator': 'stochastic8', 'barrier': 49}, 'best': {'type': 'upper', 'indicator': 'adx8', 'barrier': 38}}}}\n",
      "Key in forward opt json 03-05 - 6-month - mean - 356\n"
     ]
    },
    {
     "name": "stderr",
     "output_type": "stream",
     "text": [
      "\r",
      " 15%|█▍        | 149/996 [50:02<5:00:36, 21.29s/it]"
     ]
    },
    {
     "name": "stdout",
     "output_type": "stream",
     "text": [
      "03-05 - 6-month - mean\n",
      "{'mean': {'single': {'upper': {'indicator': 'ppo32', 'barrier': -2}, 'lower': {'indicator': 'ppo32', 'barrier': 14}, 'best': {'type': 'upper', 'indicator': 'ppo32', 'barrier': -2}}}, 'order': {'single': {'upper': {'indicator': 'ppo16', 'barrier': 16}, 'lower': {'indicator': 'stochastic8', 'barrier': 48}, 'best': {'type': 'upper', 'indicator': 'ppo16', 'barrier': 16}}}}\n",
      "Key in forward opt json 03-05 - 6-month - order - 394\n"
     ]
    },
    {
     "name": "stderr",
     "output_type": "stream",
     "text": [
      "\r",
      " 15%|█▌        | 150/996 [50:22<4:55:20, 20.95s/it]"
     ]
    },
    {
     "name": "stdout",
     "output_type": "stream",
     "text": [
      "03-05 - 6-month - order\n",
      "{'mean': {'single': {'upper': {'indicator': 'ppo8', 'barrier': -2}, 'lower': {'indicator': 'ppo8', 'barrier': 20}, 'best': {'type': 'upper', 'indicator': 'ppo8', 'barrier': -2}}}, 'order': {'single': {'upper': {'indicator': 'stochastic8', 'barrier': 74}, 'lower': {'indicator': 'ppo8', 'barrier': -2}, 'best': {'type': 'upper', 'indicator': 'stochastic8', 'barrier': 74}}}}\n",
      "Key in forward opt json 03-05 - 12-month - mean - 49\n"
     ]
    },
    {
     "name": "stderr",
     "output_type": "stream",
     "text": [
      "\r",
      " 15%|█▌        | 151/996 [50:40<4:44:00, 20.17s/it]"
     ]
    },
    {
     "name": "stdout",
     "output_type": "stream",
     "text": [
      "03-05 - 12-month - mean\n",
      "{'mean': {'single': {'upper': {'indicator': 'stochastic32', 'barrier': 9}, 'lower': {'indicator': 'adx8', 'barrier': 40}, 'best': {'type': 'upper', 'indicator': 'stochastic32', 'barrier': 9}}}, 'order': {'single': {'upper': {'indicator': 'adx32', 'barrier': 20}, 'lower': {'indicator': 'stochastic8', 'barrier': 11}, 'best': {'type': 'upper', 'indicator': 'adx32', 'barrier': 20}}}}\n",
      "Key in forward opt json 03-05 - 12-month - order - 760\n"
     ]
    },
    {
     "name": "stderr",
     "output_type": "stream",
     "text": [
      "\r",
      " 15%|█▌        | 152/996 [51:05<5:03:00, 21.54s/it]"
     ]
    },
    {
     "name": "stdout",
     "output_type": "stream",
     "text": [
      "03-05 - 12-month - order\n",
      "{'mean': {'single': {'upper': {'indicator': 'ppo32', 'barrier': -5}, 'lower': {'indicator': 'ppo16', 'barrier': 21}, 'best': {'type': 'upper', 'indicator': 'ppo32', 'barrier': -5}}}, 'order': {'single': {'upper': {'indicator': 'stochastic8', 'barrier': 66}, 'lower': {'indicator': 'stochastic32', 'barrier': 71}, 'best': {'type': 'upper', 'indicator': 'stochastic8', 'barrier': 66}}}}\n",
      "Key in forward opt json 03-06 - 6-month - mean - 233\n"
     ]
    },
    {
     "name": "stderr",
     "output_type": "stream",
     "text": [
      "\r",
      " 15%|█▌        | 153/996 [51:26<4:59:45, 21.34s/it]"
     ]
    },
    {
     "name": "stdout",
     "output_type": "stream",
     "text": [
      "03-06 - 6-month - mean\n",
      "{'mean': {'single': {'upper': {'indicator': 'ppo16', 'barrier': 1}, 'lower': {'indicator': 'ppo8', 'barrier': 19}, 'best': {'type': 'upper', 'indicator': 'ppo16', 'barrier': 1}}}, 'order': {'single': {'upper': {'indicator': 'stochastic32', 'barrier': 65}, 'lower': {'indicator': 'stochastic32', 'barrier': 47}, 'best': {'type': 'upper', 'indicator': 'stochastic32', 'barrier': 65}}}}\n",
      "Key in forward opt json 03-06 - 6-month - order - 455\n"
     ]
    },
    {
     "name": "stderr",
     "output_type": "stream",
     "text": [
      "\r",
      " 15%|█▌        | 154/996 [51:48<5:05:16, 21.75s/it]"
     ]
    },
    {
     "name": "stdout",
     "output_type": "stream",
     "text": [
      "03-06 - 6-month - order\n",
      "{'mean': {'single': {'upper': {'indicator': 'ppo8', 'barrier': -2}, 'lower': {'indicator': 'stochastic32', 'barrier': 94}, 'best': {'type': 'upper', 'indicator': 'ppo8', 'barrier': -2}}}, 'order': {'single': {'upper': {'indicator': 'stochastic16', 'barrier': 79}, 'lower': {'indicator': 'stochastic8', 'barrier': 34}, 'best': {'type': 'upper', 'indicator': 'stochastic16', 'barrier': 79}}}}\n",
      "Key in forward opt json 03-06 - 12-month - mean - 654\n"
     ]
    },
    {
     "name": "stderr",
     "output_type": "stream",
     "text": [
      "\r",
      " 16%|█▌        | 155/996 [52:14<5:21:17, 22.92s/it]"
     ]
    },
    {
     "name": "stdout",
     "output_type": "stream",
     "text": [
      "03-06 - 12-month - mean\n",
      "{'mean': {'single': {'upper': {'indicator': 'ppo32', 'barrier': -6}, 'lower': {'indicator': 'ppo8', 'barrier': 26}, 'best': {'type': 'upper', 'indicator': 'ppo32', 'barrier': -6}}}, 'order': {'single': {'upper': {'indicator': 'adx32', 'barrier': 24}, 'lower': {'indicator': 'stochastic32', 'barrier': 23}, 'best': {'type': 'upper', 'indicator': 'adx32', 'barrier': 24}}}}\n",
      "Key in forward opt json 03-06 - 12-month - order - 736\n"
     ]
    },
    {
     "name": "stderr",
     "output_type": "stream",
     "text": [
      "\r",
      " 16%|█▌        | 156/996 [52:40<5:33:00, 23.79s/it]"
     ]
    },
    {
     "name": "stdout",
     "output_type": "stream",
     "text": [
      "03-06 - 12-month - order\n",
      "{'mean': {'single': {'upper': {'indicator': 'ppo16', 'barrier': -3}, 'lower': {'indicator': 'adx8', 'barrier': 62}, 'best': {'type': 'upper', 'indicator': 'ppo16', 'barrier': -3}}}, 'order': {'single': {'upper': {'indicator': 'ppo16', 'barrier': 13}, 'lower': {'indicator': 'stochastic16', 'barrier': 80}, 'best': {'type': 'upper', 'indicator': 'ppo16', 'barrier': 13}}}}\n",
      "Key in forward opt json 03-07 - 6-month - mean - 176\n"
     ]
    },
    {
     "name": "stderr",
     "output_type": "stream",
     "text": [
      "\r",
      " 16%|█▌        | 157/996 [53:00<5:17:36, 22.71s/it]"
     ]
    },
    {
     "name": "stdout",
     "output_type": "stream",
     "text": [
      "03-07 - 6-month - mean\n",
      "{'mean': {'single': {'upper': {'indicator': 'adx16', 'barrier': 13}, 'lower': {'indicator': 'stochastic8', 'barrier': 44}, 'best': {'type': 'upper', 'indicator': 'adx16', 'barrier': 13}}}, 'order': {'single': {'upper': {'indicator': 'ppo8', 'barrier': 20}, 'lower': {'indicator': 'ppo32', 'barrier': -7}, 'best': {'type': 'upper', 'indicator': 'ppo8', 'barrier': 20}}}}\n",
      "Key in forward opt json 03-07 - 6-month - order - 570\n"
     ]
    },
    {
     "name": "stderr",
     "output_type": "stream",
     "text": [
      "\r",
      " 16%|█▌        | 158/996 [53:24<5:22:05, 23.06s/it]"
     ]
    },
    {
     "name": "stdout",
     "output_type": "stream",
     "text": [
      "03-07 - 6-month - order\n",
      "{'mean': {'single': {'upper': {'indicator': 'ppo16', 'barrier': -5}, 'lower': {'indicator': 'stochastic32', 'barrier': 94}, 'best': {'type': 'upper', 'indicator': 'ppo16', 'barrier': -5}}}, 'order': {'single': {'upper': {'indicator': 'ppo8', 'barrier': 32}, 'lower': {'indicator': 'stochastic8', 'barrier': 22}, 'best': {'type': 'upper', 'indicator': 'ppo8', 'barrier': 32}}}}\n"
     ]
    },
    {
     "name": "stderr",
     "output_type": "stream",
     "text": [
      "\r",
      " 16%|█▌        | 159/996 [53:44<5:10:13, 22.24s/it]"
     ]
    },
    {
     "name": "stdout",
     "output_type": "stream",
     "text": [
      "Key in forward opt json 03-07 - 12-month - mean - 10\n",
      "03-07 - 12-month - mean\n",
      "{'mean': {'single': {'upper': {'indicator': 'adx32', 'barrier': 28}, 'lower': {'indicator': 'adx8', 'barrier': 25}, 'best': {'type': 'upper', 'indicator': 'adx32', 'barrier': 28}}}, 'order': {'single': {'upper': {'indicator': 'adx32', 'barrier': 28}, 'lower': {'indicator': 'adx8', 'barrier': 25}, 'best': {'type': 'upper', 'indicator': 'adx32', 'barrier': 28}}}}\n",
      "Key in forward opt json 03-07 - 12-month - order - 840\n"
     ]
    },
    {
     "name": "stderr",
     "output_type": "stream",
     "text": [
      "\r",
      " 16%|█▌        | 160/996 [54:11<5:30:05, 23.69s/it]"
     ]
    },
    {
     "name": "stdout",
     "output_type": "stream",
     "text": [
      "03-07 - 12-month - order\n",
      "{'mean': {'single': {'upper': {'indicator': 'ppo16', 'barrier': -7}, 'lower': {'indicator': 'ppo8', 'barrier': 18}, 'best': {'type': 'upper', 'indicator': 'ppo16', 'barrier': -7}}}, 'order': {'single': {'upper': {'indicator': 'stochastic16', 'barrier': 70}, 'lower': {'indicator': 'adx16', 'barrier': 25}, 'best': {'type': 'upper', 'indicator': 'stochastic16', 'barrier': 70}}}}\n",
      "Key in forward opt json 03-08 - 6-month - mean - 217\n"
     ]
    },
    {
     "name": "stderr",
     "output_type": "stream",
     "text": [
      "\r",
      " 16%|█▌        | 161/996 [54:31<5:14:26, 22.59s/it]"
     ]
    },
    {
     "name": "stdout",
     "output_type": "stream",
     "text": [
      "03-08 - 6-month - mean\n",
      "{'mean': {'single': {'upper': {'indicator': 'adx16', 'barrier': 13}, 'lower': {'indicator': 'stochastic8', 'barrier': 46}, 'best': {'type': 'upper', 'indicator': 'adx16', 'barrier': 13}}}, 'order': {'single': {'upper': {'indicator': 'stochastic8', 'barrier': 28}, 'lower': {'indicator': 'stochastic32', 'barrier': 27}, 'best': {'type': 'upper', 'indicator': 'stochastic8', 'barrier': 28}}}}\n",
      "Key in forward opt json 03-08 - 6-month - order - 659\n"
     ]
    },
    {
     "name": "stderr",
     "output_type": "stream",
     "text": [
      "\r",
      " 16%|█▋        | 162/996 [54:56<5:24:09, 23.32s/it]"
     ]
    },
    {
     "name": "stdout",
     "output_type": "stream",
     "text": [
      "03-08 - 6-month - order\n",
      "{'mean': {'single': {'upper': {'indicator': 'ppo32', 'barrier': -1}, 'lower': {'indicator': 'stochastic32', 'barrier': 91}, 'best': {'type': 'upper', 'indicator': 'ppo32', 'barrier': -1}}}, 'order': {'single': {'upper': {'indicator': 'ppo32', 'barrier': -3}, 'lower': {'indicator': 'adx8', 'barrier': 26}, 'best': {'type': 'upper', 'indicator': 'ppo32', 'barrier': -3}}}}\n",
      "Key in forward opt json 03-08 - 12-month - mean - 78\n"
     ]
    },
    {
     "name": "stderr",
     "output_type": "stream",
     "text": [
      "\r",
      " 16%|█▋        | 163/996 [55:16<5:10:02, 22.33s/it]"
     ]
    },
    {
     "name": "stdout",
     "output_type": "stream",
     "text": [
      "03-08 - 12-month - mean\n",
      "{'mean': {'single': {'upper': {'indicator': 'ppo8', 'barrier': 2}, 'lower': {'indicator': 'stochastic8', 'barrier': 21}, 'best': {'type': 'upper', 'indicator': 'ppo8', 'barrier': 2}}}, 'order': {'single': {'upper': {'indicator': 'adx32', 'barrier': 25}, 'lower': {'indicator': 'adx8', 'barrier': 20}, 'best': {'type': 'upper', 'indicator': 'adx32', 'barrier': 25}}}}\n",
      "Key in forward opt json 03-08 - 12-month - order - 960\n"
     ]
    },
    {
     "name": "stderr",
     "output_type": "stream",
     "text": [
      "\r",
      " 16%|█▋        | 164/996 [55:46<5:41:25, 24.62s/it]"
     ]
    },
    {
     "name": "stdout",
     "output_type": "stream",
     "text": [
      "03-08 - 12-month - order\n",
      "{'mean': {'single': {'upper': {'indicator': 'ppo16', 'barrier': -7}, 'lower': {'indicator': 'ppo8', 'barrier': 22}, 'best': {'type': 'upper', 'indicator': 'ppo16', 'barrier': -7}}}, 'order': {'single': {'upper': {'indicator': 'adx32', 'barrier': 24}, 'lower': {'indicator': 'ppo32', 'barrier': -7}, 'best': {'type': 'upper', 'indicator': 'adx32', 'barrier': 24}}}}\n",
      "Key in forward opt json 03-09 - 6-month - mean - 269\n"
     ]
    },
    {
     "name": "stderr",
     "output_type": "stream",
     "text": [
      "\r",
      " 17%|█▋        | 165/996 [56:07<5:23:13, 23.34s/it]"
     ]
    },
    {
     "name": "stdout",
     "output_type": "stream",
     "text": [
      "03-09 - 6-month - mean\n",
      "{'mean': {'single': {'upper': {'indicator': 'ppo16', 'barrier': 3}, 'lower': {'indicator': 'ppo8', 'barrier': 24}, 'best': {'type': 'upper', 'indicator': 'ppo16', 'barrier': 3}}}, 'order': {'single': {'upper': {'indicator': 'ppo32', 'barrier': 25}, 'lower': {'indicator': 'stochastic32', 'barrier': 27}, 'best': {'type': 'upper', 'indicator': 'ppo32', 'barrier': 25}}}}\n",
      "Key in forward opt json 03-09 - 6-month - order - 746\n"
     ]
    },
    {
     "name": "stderr",
     "output_type": "stream",
     "text": [
      "\r",
      " 17%|█▋        | 166/996 [56:32<5:29:33, 23.82s/it]"
     ]
    },
    {
     "name": "stdout",
     "output_type": "stream",
     "text": [
      "03-09 - 6-month - order\n",
      "{'mean': {'single': {'upper': {'indicator': 'ppo32', 'barrier': -1}, 'lower': {'indicator': 'ppo8', 'barrier': 24}, 'best': {'type': 'upper', 'indicator': 'ppo32', 'barrier': -1}}}, 'order': {'single': {'upper': {'indicator': 'ppo8', 'barrier': 6}, 'lower': {'indicator': 'stochastic8', 'barrier': 55}, 'best': {'type': 'upper', 'indicator': 'ppo8', 'barrier': 6}}}}\n",
      "Key in forward opt json 03-09 - 12-month - mean - 352\n"
     ]
    },
    {
     "name": "stderr",
     "output_type": "stream",
     "text": [
      "\r",
      " 17%|█▋        | 167/996 [56:52<5:14:45, 22.78s/it]"
     ]
    },
    {
     "name": "stdout",
     "output_type": "stream",
     "text": [
      "03-09 - 12-month - mean\n",
      "{'mean': {'single': {'upper': {'indicator': 'ppo16', 'barrier': 3}, 'lower': {'indicator': 'stochastic16', 'barrier': 54}, 'best': {'type': 'upper', 'indicator': 'ppo16', 'barrier': 3}}}, 'order': {'single': {'upper': {'indicator': 'ppo16', 'barrier': 21}, 'lower': {'indicator': 'ppo16', 'barrier': -1}, 'best': {'type': 'upper', 'indicator': 'ppo16', 'barrier': 21}}}}\n",
      "Key in forward opt json 03-09 - 12-month - order - 1025\n"
     ]
    },
    {
     "name": "stderr",
     "output_type": "stream",
     "text": [
      "\r",
      " 17%|█▋        | 168/996 [57:22<5:43:21, 24.88s/it]"
     ]
    },
    {
     "name": "stdout",
     "output_type": "stream",
     "text": [
      "03-09 - 12-month - order\n",
      "{'mean': {'single': {'upper': {'indicator': 'ppo16', 'barrier': -7}, 'lower': {'indicator': 'ppo8', 'barrier': 24}, 'best': {'type': 'upper', 'indicator': 'ppo16', 'barrier': -7}}}, 'order': {'single': {'upper': {'indicator': 'stochastic8', 'barrier': 71}, 'lower': {'indicator': 'ppo32', 'barrier': 1}, 'best': {'type': 'upper', 'indicator': 'stochastic8', 'barrier': 71}}}}\n",
      "Key in forward opt json 03-10 - 6-month - mean - 347\n"
     ]
    },
    {
     "name": "stderr",
     "output_type": "stream",
     "text": [
      "\r",
      " 17%|█▋        | 169/996 [57:42<5:22:53, 23.43s/it]"
     ]
    },
    {
     "name": "stdout",
     "output_type": "stream",
     "text": [
      "03-10 - 6-month - mean\n",
      "{'mean': {'single': {'upper': {'indicator': 'ppo32', 'barrier': 2}, 'lower': {'indicator': 'ppo16', 'barrier': 23}, 'best': {'type': 'upper', 'indicator': 'ppo32', 'barrier': 2}}}, 'order': {'single': {'upper': {'indicator': 'ppo8', 'barrier': 32}, 'lower': {'indicator': 'adx8', 'barrier': 16}, 'best': {'type': 'upper', 'indicator': 'ppo8', 'barrier': 32}}}}\n",
      "Key in forward opt json 03-10 - 6-month - order - 839\n"
     ]
    },
    {
     "name": "stderr",
     "output_type": "stream",
     "text": [
      "\r",
      " 17%|█▋        | 170/996 [58:07<5:30:43, 24.02s/it]"
     ]
    },
    {
     "name": "stdout",
     "output_type": "stream",
     "text": [
      "03-10 - 6-month - order\n",
      "{'mean': {'single': {'upper': {'indicator': 'ppo32', 'barrier': -2}, 'lower': {'indicator': 'ppo32', 'barrier': 22}, 'best': {'type': 'upper', 'indicator': 'ppo32', 'barrier': -2}}}, 'order': {'single': {'upper': {'indicator': 'adx8', 'barrier': 36}, 'lower': {'indicator': 'stochastic32', 'barrier': 17}, 'best': {'type': 'upper', 'indicator': 'adx8', 'barrier': 36}}}}\n",
      "Key in forward opt json 03-10 - 12-month - mean - 429\n"
     ]
    },
    {
     "name": "stderr",
     "output_type": "stream",
     "text": [
      "\r",
      " 17%|█▋        | 171/996 [58:28<5:17:28, 23.09s/it]"
     ]
    },
    {
     "name": "stdout",
     "output_type": "stream",
     "text": [
      "03-10 - 12-month - mean\n",
      "{'mean': {'single': {'upper': {'indicator': 'ppo8', 'barrier': 2}, 'lower': {'indicator': 'ppo16', 'barrier': 21}, 'best': {'type': 'upper', 'indicator': 'ppo8', 'barrier': 2}}}, 'order': {'single': {'upper': {'indicator': 'stochastic16', 'barrier': 44}, 'lower': {'indicator': 'stochastic32', 'barrier': 35}, 'best': {'type': 'upper', 'indicator': 'stochastic16', 'barrier': 44}}}}\n",
      "Key in forward opt json 03-10 - 12-month - order - 1175\n"
     ]
    },
    {
     "name": "stderr",
     "output_type": "stream",
     "text": [
      "\r",
      " 17%|█▋        | 172/996 [59:02<6:02:33, 26.40s/it]"
     ]
    },
    {
     "name": "stdout",
     "output_type": "stream",
     "text": [
      "03-10 - 12-month - order\n",
      "{'mean': {'single': {'upper': {'indicator': 'ppo16', 'barrier': -7}, 'lower': {'indicator': 'ppo32', 'barrier': 23}, 'best': {'type': 'upper', 'indicator': 'ppo16', 'barrier': -7}}}, 'order': {'single': {'upper': {'indicator': 'ppo16', 'barrier': 27}, 'lower': {'indicator': 'stochastic32', 'barrier': 87}, 'best': {'type': 'upper', 'indicator': 'ppo16', 'barrier': 27}}}}\n",
      "Key in forward opt json 03-11 - 6-month - mean - 381\n"
     ]
    },
    {
     "name": "stderr",
     "output_type": "stream",
     "text": [
      "\r",
      " 17%|█▋        | 173/996 [59:23<5:37:13, 24.59s/it]"
     ]
    },
    {
     "name": "stdout",
     "output_type": "stream",
     "text": [
      "03-11 - 6-month - mean\n",
      "{'mean': {'single': {'upper': {'indicator': 'ppo32', 'barrier': 2}, 'lower': {'indicator': 'ppo16', 'barrier': 23}, 'best': {'type': 'upper', 'indicator': 'ppo32', 'barrier': 2}}}, 'order': {'single': {'upper': {'indicator': 'stochastic16', 'barrier': 62}, 'lower': {'indicator': 'stochastic32', 'barrier': 7}, 'best': {'type': 'upper', 'indicator': 'stochastic16', 'barrier': 62}}}}\n",
      "Key in forward opt json 03-11 - 6-month - order - 887\n"
     ]
    },
    {
     "name": "stderr",
     "output_type": "stream",
     "text": [
      "\r",
      " 17%|█▋        | 174/996 [59:50<5:49:05, 25.48s/it]"
     ]
    },
    {
     "name": "stdout",
     "output_type": "stream",
     "text": [
      "03-11 - 6-month - order\n",
      "{'mean': {'single': {'upper': {'indicator': 'ppo16', 'barrier': -2}, 'lower': {'indicator': 'ppo8', 'barrier': 35}, 'best': {'type': 'upper', 'indicator': 'ppo16', 'barrier': -2}}}, 'order': {'single': {'upper': {'indicator': 'adx16', 'barrier': 22}, 'lower': {'indicator': 'stochastic8', 'barrier': 9}, 'best': {'type': 'upper', 'indicator': 'adx16', 'barrier': 22}}}}\n",
      "Key in forward opt json 03-11 - 12-month - mean - 472\n"
     ]
    },
    {
     "name": "stderr",
     "output_type": "stream",
     "text": [
      "\r",
      " 18%|█▊        | 175/996 [1:00:12<5:33:19, 24.36s/it]"
     ]
    },
    {
     "name": "stdout",
     "output_type": "stream",
     "text": [
      "03-11 - 12-month - mean\n",
      "{'mean': {'single': {'upper': {'indicator': 'ppo8', 'barrier': 2}, 'lower': {'indicator': 'ppo16', 'barrier': 25}, 'best': {'type': 'upper', 'indicator': 'ppo8', 'barrier': 2}}}, 'order': {'single': {'upper': {'indicator': 'adx16', 'barrier': 20}, 'lower': {'indicator': 'ppo8', 'barrier': -2}, 'best': {'type': 'upper', 'indicator': 'adx16', 'barrier': 20}}}}\n",
      "Key in forward opt json 03-11 - 12-month - order - 1270\n"
     ]
    },
    {
     "name": "stderr",
     "output_type": "stream",
     "text": [
      "\r",
      " 18%|█▊        | 176/996 [1:00:47<6:15:53, 27.50s/it]"
     ]
    },
    {
     "name": "stdout",
     "output_type": "stream",
     "text": [
      "03-11 - 12-month - order\n",
      "{'mean': {'single': {'upper': {'indicator': 'ppo16', 'barrier': -7}, 'lower': {'indicator': 'ppo32', 'barrier': 25}, 'best': {'type': 'upper', 'indicator': 'ppo16', 'barrier': -7}}}, 'order': {'single': {'upper': {'indicator': 'stochastic32', 'barrier': 63}, 'lower': {'indicator': 'stochastic16', 'barrier': 54}, 'best': {'type': 'upper', 'indicator': 'stochastic32', 'barrier': 63}}}}\n",
      "Key in forward opt json 03-12 - 6-month - mean - 420\n"
     ]
    },
    {
     "name": "stderr",
     "output_type": "stream",
     "text": [
      "\r",
      " 18%|█▊        | 177/996 [1:01:08<5:49:32, 25.61s/it]"
     ]
    },
    {
     "name": "stdout",
     "output_type": "stream",
     "text": [
      "03-12 - 6-month - mean\n",
      "{'mean': {'single': {'upper': {'indicator': 'ppo8', 'barrier': 0}, 'lower': {'indicator': 'ppo16', 'barrier': 26}, 'best': {'type': 'upper', 'indicator': 'ppo8', 'barrier': 0}}}, 'order': {'single': {'upper': {'indicator': 'stochastic8', 'barrier': 35}, 'lower': {'indicator': 'adx8', 'barrier': 28}, 'best': {'type': 'upper', 'indicator': 'stochastic8', 'barrier': 35}}}}\n",
      "Key in forward opt json 03-12 - 6-month - order - 662\n"
     ]
    },
    {
     "name": "stderr",
     "output_type": "stream",
     "text": [
      "\r",
      " 18%|█▊        | 178/996 [1:01:31<5:39:51, 24.93s/it]"
     ]
    },
    {
     "name": "stdout",
     "output_type": "stream",
     "text": [
      "03-12 - 6-month - order\n",
      "{'mean': {'single': {'upper': {'indicator': 'adx16', 'barrier': 11}, 'lower': {'indicator': 'ppo16', 'barrier': 34}, 'best': {'type': 'upper', 'indicator': 'adx16', 'barrier': 11}}}, 'order': {'single': {'upper': {'indicator': 'adx16', 'barrier': 25}, 'lower': {'indicator': 'adx8', 'barrier': 21}, 'best': {'type': 'upper', 'indicator': 'adx16', 'barrier': 25}}}}\n",
      "Key in forward opt json 03-12 - 12-month - mean - 540\n"
     ]
    },
    {
     "name": "stderr",
     "output_type": "stream",
     "text": [
      "\r",
      " 18%|█▊        | 179/996 [1:01:54<5:30:26, 24.27s/it]"
     ]
    },
    {
     "name": "stdout",
     "output_type": "stream",
     "text": [
      "03-12 - 12-month - mean\n",
      "{'mean': {'single': {'upper': {'indicator': 'ppo8', 'barrier': 2}, 'lower': {'indicator': 'ppo32', 'barrier': 25}, 'best': {'type': 'upper', 'indicator': 'ppo8', 'barrier': 2}}}, 'order': {'single': {'upper': {'indicator': 'stochastic16', 'barrier': 28}, 'lower': {'indicator': 'ppo8', 'barrier': -2}, 'best': {'type': 'upper', 'indicator': 'stochastic16', 'barrier': 28}}}}\n",
      "Key in forward opt json 03-12 - 12-month - order - 1353\n"
     ]
    },
    {
     "name": "stderr",
     "output_type": "stream",
     "text": [
      "\r",
      " 18%|█▊        | 180/996 [1:02:36<6:41:21, 29.51s/it]"
     ]
    },
    {
     "name": "stdout",
     "output_type": "stream",
     "text": [
      "03-12 - 12-month - order\n",
      "{'mean': {'single': {'upper': {'indicator': 'ppo16', 'barrier': -1}, 'lower': {'indicator': 'ppo16', 'barrier': 35}, 'best': {'type': 'upper', 'indicator': 'ppo16', 'barrier': -1}}}, 'order': {'single': {'upper': {'indicator': 'ppo32', 'barrier': 21}, 'lower': {'indicator': 'stochastic32', 'barrier': 53}, 'best': {'type': 'upper', 'indicator': 'ppo32', 'barrier': 21}}}}\n",
      "Key in forward opt json 04-01 - 6-month - mean - 71\n"
     ]
    },
    {
     "name": "stderr",
     "output_type": "stream",
     "text": [
      "\r",
      " 18%|█▊        | 181/996 [1:02:57<6:07:28, 27.05s/it]"
     ]
    },
    {
     "name": "stdout",
     "output_type": "stream",
     "text": [
      "04-01 - 6-month - mean\n",
      "{'mean': {'single': {'upper': {'indicator': 'adx16', 'barrier': 16}, 'lower': {'indicator': 'stochastic8', 'barrier': 15}, 'best': {'type': 'upper', 'indicator': 'adx16', 'barrier': 16}}}, 'order': {'single': {'upper': {'indicator': 'adx32', 'barrier': 31}, 'lower': {'indicator': 'adx8', 'barrier': 24}, 'best': {'type': 'upper', 'indicator': 'adx32', 'barrier': 31}}}}\n",
      "Key in forward opt json 04-01 - 6-month - order - 870\n"
     ]
    },
    {
     "name": "stderr",
     "output_type": "stream",
     "text": [
      "\r",
      " 18%|█▊        | 182/996 [1:03:26<6:15:23, 27.67s/it]"
     ]
    },
    {
     "name": "stdout",
     "output_type": "stream",
     "text": [
      "04-01 - 6-month - order\n",
      "{'mean': {'single': {'upper': {'indicator': 'ppo32', 'barrier': -3}, 'lower': {'indicator': 'ppo8', 'barrier': 36}, 'best': {'type': 'upper', 'indicator': 'ppo32', 'barrier': -3}}}, 'order': {'single': {'upper': {'indicator': 'ppo32', 'barrier': 23}, 'lower': {'indicator': 'adx32', 'barrier': 11}, 'best': {'type': 'upper', 'indicator': 'ppo32', 'barrier': 23}}}}\n",
      "Key in forward opt json 04-01 - 12-month - mean - 78\n"
     ]
    },
    {
     "name": "stderr",
     "output_type": "stream",
     "text": [
      "\r",
      " 18%|█▊        | 183/996 [1:03:47<5:46:22, 25.56s/it]"
     ]
    },
    {
     "name": "stdout",
     "output_type": "stream",
     "text": [
      "04-01 - 12-month - mean\n",
      "{'mean': {'single': {'upper': {'indicator': 'adx16', 'barrier': 16}, 'lower': {'indicator': 'stochastic8', 'barrier': 15}, 'best': {'type': 'upper', 'indicator': 'adx16', 'barrier': 16}}}, 'order': {'single': {'upper': {'indicator': 'stochastic8', 'barrier': 33}, 'lower': {'indicator': 'stochastic16', 'barrier': 3}, 'best': {'type': 'upper', 'indicator': 'stochastic8', 'barrier': 33}}}}\n",
      "Key in forward opt json 04-01 - 12-month - order - 1428\n"
     ]
    },
    {
     "name": "stderr",
     "output_type": "stream",
     "text": [
      "\r",
      " 18%|█▊        | 184/996 [1:04:34<7:12:41, 31.97s/it]"
     ]
    },
    {
     "name": "stdout",
     "output_type": "stream",
     "text": [
      "04-01 - 12-month - order\n",
      "{'mean': {'single': {'upper': {'indicator': 'ppo16', 'barrier': -1}, 'lower': {'indicator': 'ppo8', 'barrier': 40}, 'best': {'type': 'upper', 'indicator': 'ppo16', 'barrier': -1}}}, 'order': {'single': {'upper': {'indicator': 'stochastic8', 'barrier': 29}, 'lower': {'indicator': 'stochastic8', 'barrier': 29}, 'best': {'type': 'upper', 'indicator': 'stochastic8', 'barrier': 29}}}}\n",
      "Key in forward opt json 04-02 - 6-month - mean - 64\n"
     ]
    },
    {
     "name": "stderr",
     "output_type": "stream",
     "text": [
      "\r",
      " 19%|█▊        | 185/996 [1:04:54<6:26:14, 28.58s/it]"
     ]
    },
    {
     "name": "stdout",
     "output_type": "stream",
     "text": [
      "04-02 - 6-month - mean\n",
      "{'mean': {'single': {'upper': {'indicator': 'adx16', 'barrier': 16}, 'lower': {'indicator': 'ppo32', 'barrier': 18}, 'best': {'type': 'upper', 'indicator': 'adx16', 'barrier': 16}}}, 'order': {'single': {'upper': {'indicator': 'stochastic32', 'barrier': 31}, 'lower': {'indicator': 'adx8', 'barrier': 20}, 'best': {'type': 'upper', 'indicator': 'stochastic32', 'barrier': 31}}}}\n",
      "Key in forward opt json 04-02 - 6-month - order - 873\n"
     ]
    },
    {
     "name": "stderr",
     "output_type": "stream",
     "text": [
      "\r",
      " 19%|█▊        | 186/996 [1:05:22<6:21:01, 28.22s/it]"
     ]
    },
    {
     "name": "stdout",
     "output_type": "stream",
     "text": [
      "04-02 - 6-month - order\n",
      "{'mean': {'single': {'upper': {'indicator': 'ppo8', 'barrier': -4}, 'lower': {'indicator': 'stochastic8', 'barrier': 85}, 'best': {'type': 'upper', 'indicator': 'ppo8', 'barrier': -4}}}, 'order': {'single': {'upper': {'indicator': 'ppo8', 'barrier': 42}, 'lower': {'indicator': 'adx16', 'barrier': 14}, 'best': {'type': 'upper', 'indicator': 'ppo8', 'barrier': 42}}}}\n",
      "Key in forward opt json 04-02 - 12-month - mean - 96\n"
     ]
    },
    {
     "name": "stderr",
     "output_type": "stream",
     "text": [
      "\r",
      " 19%|█▉        | 187/996 [1:05:41<5:45:15, 25.61s/it]"
     ]
    },
    {
     "name": "stdout",
     "output_type": "stream",
     "text": [
      "04-02 - 12-month - mean\n",
      "{'mean': {'single': {'upper': {'indicator': 'adx16', 'barrier': 16}, 'lower': {'indicator': 'ppo32', 'barrier': 18}, 'best': {'type': 'upper', 'indicator': 'adx16', 'barrier': 16}}}, 'order': {'single': {'upper': {'indicator': 'stochastic16', 'barrier': 15}, 'lower': {'indicator': 'stochastic8', 'barrier': 5}, 'best': {'type': 'upper', 'indicator': 'stochastic16', 'barrier': 15}}}}\n",
      "Key in forward opt json 04-02 - 12-month - order - 1518\n"
     ]
    },
    {
     "name": "stderr",
     "output_type": "stream",
     "text": [
      "\r",
      " 19%|█▉        | 188/996 [1:06:25<6:58:43, 31.09s/it]"
     ]
    },
    {
     "name": "stdout",
     "output_type": "stream",
     "text": [
      "04-02 - 12-month - order\n",
      "{'mean': {'single': {'upper': {'indicator': 'ppo16', 'barrier': -1}, 'lower': {'indicator': 'stochastic8', 'barrier': 85}, 'best': {'type': 'upper', 'indicator': 'ppo16', 'barrier': -1}}}, 'order': {'single': {'upper': {'indicator': 'adx32', 'barrier': 20}, 'lower': {'indicator': 'adx16', 'barrier': 24}, 'best': {'type': 'upper', 'indicator': 'adx32', 'barrier': 20}}}}\n",
      "Key in forward opt json 04-03 - 6-month - mean - 68\n"
     ]
    },
    {
     "name": "stderr",
     "output_type": "stream",
     "text": [
      "\r",
      " 19%|█▉        | 189/996 [1:06:44<6:09:22, 27.46s/it]"
     ]
    },
    {
     "name": "stdout",
     "output_type": "stream",
     "text": [
      "04-03 - 6-month - mean\n",
      "{'mean': {'single': {'upper': {'indicator': 'adx16', 'barrier': 16}, 'lower': {'indicator': 'ppo32', 'barrier': 20}, 'best': {'type': 'upper', 'indicator': 'adx16', 'barrier': 16}}}, 'order': {'single': {'upper': {'indicator': 'stochastic32', 'barrier': 31}, 'lower': {'indicator': 'adx8', 'barrier': 20}, 'best': {'type': 'upper', 'indicator': 'stochastic32', 'barrier': 31}}}}\n",
      "Key in forward opt json 04-03 - 6-month - order - 878\n"
     ]
    },
    {
     "name": "stderr",
     "output_type": "stream",
     "text": [
      "\r",
      " 19%|█▉        | 190/996 [1:07:11<6:07:04, 27.33s/it]"
     ]
    },
    {
     "name": "stdout",
     "output_type": "stream",
     "text": [
      "04-03 - 6-month - order\n",
      "{'mean': {'single': {'upper': {'indicator': 'ppo8', 'barrier': -4}, 'lower': {'indicator': 'adx8', 'barrier': 71}, 'best': {'type': 'upper', 'indicator': 'ppo8', 'barrier': -4}}}, 'order': {'single': {'upper': {'indicator': 'ppo8', 'barrier': 24}, 'lower': {'indicator': 'ppo32', 'barrier': 12}, 'best': {'type': 'upper', 'indicator': 'ppo8', 'barrier': 24}}}}\n",
      "Key in forward opt json 04-03 - 12-month - mean - 106\n"
     ]
    },
    {
     "name": "stderr",
     "output_type": "stream",
     "text": [
      "\r",
      " 19%|█▉        | 191/996 [1:07:31<5:37:30, 25.16s/it]"
     ]
    },
    {
     "name": "stdout",
     "output_type": "stream",
     "text": [
      "04-03 - 12-month - mean\n",
      "{'mean': {'single': {'upper': {'indicator': 'adx16', 'barrier': 16}, 'lower': {'indicator': 'ppo32', 'barrier': 20}, 'best': {'type': 'upper', 'indicator': 'adx16', 'barrier': 16}}}, 'order': {'single': {'upper': {'indicator': 'ppo8', 'barrier': 23}, 'lower': {'indicator': 'ppo32', 'barrier': 4}, 'best': {'type': 'upper', 'indicator': 'ppo8', 'barrier': 23}}}}\n",
      "Key in forward opt json 04-03 - 12-month - order - 1615\n"
     ]
    },
    {
     "name": "stderr",
     "output_type": "stream",
     "text": [
      "\r",
      " 19%|█▉        | 192/996 [1:08:21<7:15:17, 32.48s/it]"
     ]
    },
    {
     "name": "stdout",
     "output_type": "stream",
     "text": [
      "04-03 - 12-month - order\n",
      "{'mean': {'single': {'upper': {'indicator': 'ppo16', 'barrier': -1}, 'lower': {'indicator': 'ppo8', 'barrier': 40}, 'best': {'type': 'upper', 'indicator': 'ppo16', 'barrier': -1}}}, 'order': {'single': {'upper': {'indicator': 'adx32', 'barrier': 40}, 'lower': {'indicator': 'stochastic8', 'barrier': 32}, 'best': {'type': 'upper', 'indicator': 'adx32', 'barrier': 40}}}}\n",
      "Key in forward opt json 04-04 - 6-month - mean - 37\n"
     ]
    },
    {
     "name": "stderr",
     "output_type": "stream",
     "text": [
      "\r",
      " 19%|█▉        | 193/996 [1:08:41<6:23:28, 28.65s/it]"
     ]
    },
    {
     "name": "stdout",
     "output_type": "stream",
     "text": [
      "04-04 - 6-month - mean\n",
      "{'mean': {'single': {'upper': {'indicator': 'stochastic32', 'barrier': 5}, 'lower': {'indicator': 'adx8', 'barrier': 25}, 'best': {'type': 'upper', 'indicator': 'stochastic32', 'barrier': 5}}}, 'order': {'single': {'upper': {'indicator': 'adx32', 'barrier': 30}, 'lower': {'indicator': 'adx8', 'barrier': 23}, 'best': {'type': 'upper', 'indicator': 'adx32', 'barrier': 30}}}}\n",
      "Key in forward opt json 04-04 - 6-month - order - 868\n"
     ]
    },
    {
     "name": "stderr",
     "output_type": "stream",
     "text": [
      "\r",
      " 19%|█▉        | 194/996 [1:09:09<6:20:19, 28.45s/it]"
     ]
    },
    {
     "name": "stdout",
     "output_type": "stream",
     "text": [
      "04-04 - 6-month - order\n",
      "{'mean': {'single': {'upper': {'indicator': 'ppo16', 'barrier': -2}, 'lower': {'indicator': 'stochastic8', 'barrier': 86}, 'best': {'type': 'upper', 'indicator': 'ppo16', 'barrier': -2}}}, 'order': {'single': {'upper': {'indicator': 'adx32', 'barrier': 20}, 'lower': {'indicator': 'stochastic32', 'barrier': 70}, 'best': {'type': 'upper', 'indicator': 'adx32', 'barrier': 20}}}}\n",
      "Key in forward opt json 04-04 - 12-month - mean - 58\n"
     ]
    },
    {
     "name": "stderr",
     "output_type": "stream",
     "text": [
      "\r",
      " 20%|█▉        | 195/996 [1:09:27<5:39:47, 25.45s/it]"
     ]
    },
    {
     "name": "stdout",
     "output_type": "stream",
     "text": [
      "04-04 - 12-month - mean\n",
      "{'mean': {'single': {'upper': {'indicator': 'stochastic32', 'barrier': 6}, 'lower': {'indicator': 'adx32', 'barrier': 24}, 'best': {'type': 'upper', 'indicator': 'stochastic32', 'barrier': 6}}}, 'order': {'single': {'upper': {'indicator': 'ppo8', 'barrier': 14}, 'lower': {'indicator': 'adx8', 'barrier': 25}, 'best': {'type': 'upper', 'indicator': 'ppo8', 'barrier': 14}}}}\n",
      "Key in forward opt json 04-04 - 12-month - order - 1683\n"
     ]
    },
    {
     "name": "stderr",
     "output_type": "stream",
     "text": [
      "\r",
      " 20%|█▉        | 196/996 [1:10:17<7:18:44, 32.91s/it]"
     ]
    },
    {
     "name": "stdout",
     "output_type": "stream",
     "text": [
      "04-04 - 12-month - order\n",
      "{'mean': {'single': {'upper': {'indicator': 'ppo16', 'barrier': -2}, 'lower': {'indicator': 'ppo16', 'barrier': 36}, 'best': {'type': 'upper', 'indicator': 'ppo16', 'barrier': -2}}}, 'order': {'single': {'upper': {'indicator': 'stochastic16', 'barrier': 83}, 'lower': {'indicator': 'stochastic32', 'barrier': 5}, 'best': {'type': 'upper', 'indicator': 'stochastic16', 'barrier': 83}}}}\n",
      "Key in forward opt json 04-05 - 6-month - mean - 206\n"
     ]
    },
    {
     "name": "stderr",
     "output_type": "stream",
     "text": [
      "\r",
      " 20%|█▉        | 197/996 [1:10:36<6:21:47, 28.67s/it]"
     ]
    },
    {
     "name": "stdout",
     "output_type": "stream",
     "text": [
      "04-05 - 6-month - mean\n",
      "{'mean': {'single': {'upper': {'indicator': 'stochastic8', 'barrier': 4}, 'lower': {'indicator': 'ppo8', 'barrier': 24}, 'best': {'type': 'upper', 'indicator': 'stochastic8', 'barrier': 4}}}, 'order': {'single': {'upper': {'indicator': 'adx16', 'barrier': 29}, 'lower': {'indicator': 'adx16', 'barrier': 17}, 'best': {'type': 'upper', 'indicator': 'adx16', 'barrier': 29}}}}\n",
      "Key in forward opt json 04-05 - 6-month - order - 895\n"
     ]
    },
    {
     "name": "stderr",
     "output_type": "stream",
     "text": [
      "\r",
      " 20%|█▉        | 198/996 [1:11:04<6:19:00, 28.50s/it]"
     ]
    },
    {
     "name": "stdout",
     "output_type": "stream",
     "text": [
      "04-05 - 6-month - order\n",
      "{'mean': {'single': {'upper': {'indicator': 'ppo16', 'barrier': -1}, 'lower': {'indicator': 'adx16', 'barrier': 53}, 'best': {'type': 'upper', 'indicator': 'ppo16', 'barrier': -1}}}, 'order': {'single': {'upper': {'indicator': 'ppo32', 'barrier': 20}, 'lower': {'indicator': 'stochastic32', 'barrier': 23}, 'best': {'type': 'upper', 'indicator': 'ppo32', 'barrier': 20}}}}\n",
      "Key in forward opt json 04-05 - 12-month - mean - 318\n"
     ]
    },
    {
     "name": "stderr",
     "output_type": "stream",
     "text": [
      "\r",
      " 20%|█▉        | 199/996 [1:11:25<5:48:09, 26.21s/it]"
     ]
    },
    {
     "name": "stdout",
     "output_type": "stream",
     "text": [
      "04-05 - 12-month - mean\n",
      "{'mean': {'single': {'upper': {'indicator': 'ppo8', 'barrier': 0}, 'lower': {'indicator': 'ppo32', 'barrier': 27}, 'best': {'type': 'upper', 'indicator': 'ppo8', 'barrier': 0}}}, 'order': {'single': {'upper': {'indicator': 'ppo16', 'barrier': 18}, 'lower': {'indicator': 'adx8', 'barrier': 15}, 'best': {'type': 'upper', 'indicator': 'ppo16', 'barrier': 18}}}}\n",
      "Key in forward opt json 04-05 - 12-month - order - 1765\n"
     ]
    },
    {
     "name": "stderr",
     "output_type": "stream",
     "text": [
      "\r",
      " 20%|██        | 200/996 [1:12:17<7:29:29, 33.88s/it]"
     ]
    },
    {
     "name": "stdout",
     "output_type": "stream",
     "text": [
      "04-05 - 12-month - order\n",
      "{'mean': {'single': {'upper': {'indicator': 'ppo16', 'barrier': -2}, 'lower': {'indicator': 'ppo8', 'barrier': 35}, 'best': {'type': 'upper', 'indicator': 'ppo16', 'barrier': -2}}}, 'order': {'single': {'upper': {'indicator': 'stochastic8', 'barrier': 72}, 'lower': {'indicator': 'stochastic32', 'barrier': 47}, 'best': {'type': 'upper', 'indicator': 'stochastic8', 'barrier': 72}}}}\n",
      "Key in forward opt json 04-06 - 6-month - mean - 139\n"
     ]
    },
    {
     "name": "stderr",
     "output_type": "stream",
     "text": [
      "\r",
      " 20%|██        | 201/996 [1:12:37<6:34:27, 29.77s/it]"
     ]
    },
    {
     "name": "stdout",
     "output_type": "stream",
     "text": [
      "04-06 - 6-month - mean\n",
      "{'mean': {'single': {'upper': {'indicator': 'adx8', 'barrier': 27}, 'lower': {'indicator': 'ppo8', 'barrier': 22}, 'best': {'type': 'upper', 'indicator': 'adx8', 'barrier': 27}}}, 'order': {'single': {'upper': {'indicator': 'stochastic32', 'barrier': 37}, 'lower': {'indicator': 'adx8', 'barrier': 17}, 'best': {'type': 'upper', 'indicator': 'stochastic32', 'barrier': 37}}}}\n",
      "Key in forward opt json 04-06 - 6-month - order - 885\n"
     ]
    },
    {
     "name": "stderr",
     "output_type": "stream",
     "text": [
      "\r",
      " 20%|██        | 202/996 [1:13:04<6:23:24, 28.97s/it]"
     ]
    },
    {
     "name": "stdout",
     "output_type": "stream",
     "text": [
      "04-06 - 6-month - order\n",
      "{'mean': {'single': {'upper': {'indicator': 'stochastic8', 'barrier': 8}, 'lower': {'indicator': 'stochastic8', 'barrier': 86}, 'best': {'type': 'upper', 'indicator': 'stochastic8', 'barrier': 8}}}, 'order': {'single': {'upper': {'indicator': 'stochastic32', 'barrier': 68}, 'lower': {'indicator': 'stochastic32', 'barrier': 20}, 'best': {'type': 'upper', 'indicator': 'stochastic32', 'barrier': 68}}}}\n",
      "Key in forward opt json 04-06 - 12-month - mean - 189\n"
     ]
    },
    {
     "name": "stderr",
     "output_type": "stream",
     "text": [
      "\r",
      " 20%|██        | 203/996 [1:13:25<5:51:32, 26.60s/it]"
     ]
    },
    {
     "name": "stdout",
     "output_type": "stream",
     "text": [
      "04-06 - 12-month - mean\n",
      "{'mean': {'single': {'upper': {'indicator': 'ppo8', 'barrier': 1}, 'lower': {'indicator': 'ppo16', 'barrier': 21}, 'best': {'type': 'upper', 'indicator': 'ppo8', 'barrier': 1}}}, 'order': {'single': {'upper': {'indicator': 'adx8', 'barrier': 37}, 'lower': {'indicator': 'adx16', 'barrier': 22}, 'best': {'type': 'upper', 'indicator': 'adx8', 'barrier': 37}}}}\n",
      "Key in forward opt json 04-06 - 12-month - order - 1770\n"
     ]
    },
    {
     "name": "stderr",
     "output_type": "stream",
     "text": [
      "\r",
      " 20%|██        | 204/996 [1:14:19<7:38:04, 34.70s/it]"
     ]
    },
    {
     "name": "stdout",
     "output_type": "stream",
     "text": [
      "04-06 - 12-month - order\n",
      "{'mean': {'single': {'upper': {'indicator': 'ppo16', 'barrier': -4}, 'lower': {'indicator': 'ppo32', 'barrier': 33}, 'best': {'type': 'upper', 'indicator': 'ppo16', 'barrier': -4}}}, 'order': {'single': {'upper': {'indicator': 'ppo32', 'barrier': 9}, 'lower': {'indicator': 'ppo32', 'barrier': 13}, 'best': {'type': 'upper', 'indicator': 'ppo32', 'barrier': 9}}}}\n",
      "Key in forward opt json 04-07 - 6-month - mean - 134\n"
     ]
    },
    {
     "name": "stderr",
     "output_type": "stream",
     "text": [
      "\r",
      " 21%|██        | 205/996 [1:14:38<6:35:35, 30.01s/it]"
     ]
    },
    {
     "name": "stdout",
     "output_type": "stream",
     "text": [
      "04-07 - 6-month - mean\n",
      "{'mean': {'single': {'upper': {'indicator': 'stochastic8', 'barrier': 5}, 'lower': {'indicator': 'ppo16', 'barrier': 21}, 'best': {'type': 'upper', 'indicator': 'stochastic8', 'barrier': 5}}}, 'order': {'single': {'upper': {'indicator': 'stochastic16', 'barrier': 17}, 'lower': {'indicator': 'ppo32', 'barrier': 4}, 'best': {'type': 'upper', 'indicator': 'stochastic16', 'barrier': 17}}}}\n",
      "Key in forward opt json 04-07 - 6-month - order - 492\n"
     ]
    },
    {
     "name": "stderr",
     "output_type": "stream",
     "text": [
      "\r",
      " 21%|██        | 206/996 [1:14:59<5:59:00, 27.27s/it]"
     ]
    },
    {
     "name": "stdout",
     "output_type": "stream",
     "text": [
      "04-07 - 6-month - order\n",
      "{'mean': {'single': {'upper': {'indicator': 'ppo8', 'barrier': 2}, 'lower': {'indicator': 'ppo16', 'barrier': 34}, 'best': {'type': 'upper', 'indicator': 'ppo8', 'barrier': 2}}}, 'order': {'single': {'upper': {'indicator': 'adx16', 'barrier': 30}, 'lower': {'indicator': 'stochastic32', 'barrier': 23}, 'best': {'type': 'upper', 'indicator': 'adx16', 'barrier': 30}}}}\n",
      "Key in forward opt json 04-07 - 12-month - mean - 192\n"
     ]
    },
    {
     "name": "stderr",
     "output_type": "stream",
     "text": [
      "\r",
      " 21%|██        | 207/996 [1:15:18<5:25:07, 24.72s/it]"
     ]
    },
    {
     "name": "stdout",
     "output_type": "stream",
     "text": [
      "04-07 - 12-month - mean\n",
      "{'mean': {'single': {'upper': {'indicator': 'ppo8', 'barrier': 1}, 'lower': {'indicator': 'ppo16', 'barrier': 21}, 'best': {'type': 'upper', 'indicator': 'ppo8', 'barrier': 1}}}, 'order': {'single': {'upper': {'indicator': 'stochastic16', 'barrier': 11}, 'lower': {'indicator': 'stochastic32', 'barrier': 7}, 'best': {'type': 'upper', 'indicator': 'stochastic16', 'barrier': 11}}}}\n",
      "Key in forward opt json 04-07 - 12-month - order - 1764\n"
     ]
    },
    {
     "name": "stderr",
     "output_type": "stream",
     "text": [
      "\r",
      " 21%|██        | 208/996 [1:16:08<7:07:38, 32.56s/it]"
     ]
    },
    {
     "name": "stdout",
     "output_type": "stream",
     "text": [
      "04-07 - 12-month - order\n",
      "{'mean': {'single': {'upper': {'indicator': 'ppo16', 'barrier': -4}, 'lower': {'indicator': 'ppo32', 'barrier': 33}, 'best': {'type': 'upper', 'indicator': 'ppo16', 'barrier': -4}}}, 'order': {'single': {'upper': {'indicator': 'stochastic8', 'barrier': 76}, 'lower': {'indicator': 'stochastic32', 'barrier': 48}, 'best': {'type': 'upper', 'indicator': 'stochastic8', 'barrier': 76}}}}\n",
      "Key in forward opt json 04-08 - 6-month - mean - 56\n"
     ]
    },
    {
     "name": "stderr",
     "output_type": "stream",
     "text": [
      "\r",
      " 21%|██        | 209/996 [1:16:26<6:09:07, 28.14s/it]"
     ]
    },
    {
     "name": "stdout",
     "output_type": "stream",
     "text": [
      "04-08 - 6-month - mean\n",
      "{'mean': {'single': {'upper': {'indicator': 'stochastic8', 'barrier': 9}, 'lower': {'indicator': 'stochastic32', 'barrier': 17}, 'best': {'type': 'upper', 'indicator': 'stochastic8', 'barrier': 9}}}, 'order': {'single': {'upper': {'indicator': 'stochastic32', 'barrier': 39}, 'lower': {'indicator': 'ppo16', 'barrier': 4}, 'best': {'type': 'upper', 'indicator': 'stochastic32', 'barrier': 39}}}}\n",
      "Key in forward opt json 04-08 - 6-month - order - 259\n"
     ]
    },
    {
     "name": "stderr",
     "output_type": "stream",
     "text": [
      "\r",
      " 21%|██        | 210/996 [1:16:45<5:29:57, 25.19s/it]"
     ]
    },
    {
     "name": "stdout",
     "output_type": "stream",
     "text": [
      "04-08 - 6-month - order\n",
      "{'mean': {'single': {'upper': {'indicator': 'stochastic8', 'barrier': 5}, 'lower': {'indicator': 'adx16', 'barrier': 33}, 'best': {'type': 'upper', 'indicator': 'stochastic8', 'barrier': 5}}}, 'order': {'single': {'upper': {'indicator': 'ppo16', 'barrier': 29}, 'lower': {'indicator': 'stochastic8', 'barrier': 3}, 'best': {'type': 'upper', 'indicator': 'ppo16', 'barrier': 29}}}}\n",
      "Key in forward opt json 04-08 - 12-month - mean - 191\n"
     ]
    },
    {
     "name": "stderr",
     "output_type": "stream",
     "text": [
      "\r",
      " 21%|██        | 211/996 [1:17:03<5:01:55, 23.08s/it]"
     ]
    },
    {
     "name": "stdout",
     "output_type": "stream",
     "text": [
      "04-08 - 12-month - mean\n",
      "{'mean': {'single': {'upper': {'indicator': 'ppo16', 'barrier': 3}, 'lower': {'indicator': 'ppo16', 'barrier': 21}, 'best': {'type': 'upper', 'indicator': 'ppo16', 'barrier': 3}}}, 'order': {'single': {'upper': {'indicator': 'stochastic16', 'barrier': 13}, 'lower': {'indicator': 'stochastic16', 'barrier': 5}, 'best': {'type': 'upper', 'indicator': 'stochastic16', 'barrier': 13}}}}\n",
      "Key in forward opt json 04-08 - 12-month - order - 1730\n"
     ]
    },
    {
     "name": "stderr",
     "output_type": "stream",
     "text": [
      "\r",
      " 21%|██▏       | 212/996 [1:17:50<6:38:03, 30.46s/it]"
     ]
    },
    {
     "name": "stdout",
     "output_type": "stream",
     "text": [
      "04-08 - 12-month - order\n",
      "{'mean': {'single': {'upper': {'indicator': 'ppo8', 'barrier': -4}, 'lower': {'indicator': 'ppo32', 'barrier': 34}, 'best': {'type': 'upper', 'indicator': 'ppo8', 'barrier': -4}}}, 'order': {'single': {'upper': {'indicator': 'stochastic8', 'barrier': 54}, 'lower': {'indicator': 'stochastic32', 'barrier': 28}, 'best': {'type': 'upper', 'indicator': 'stochastic8', 'barrier': 54}}}}\n",
      "Key in forward opt json 04-09 - 6-month - mean - 108\n"
     ]
    },
    {
     "name": "stderr",
     "output_type": "stream",
     "text": [
      "\r",
      " 21%|██▏       | 213/996 [1:18:08<5:45:44, 26.49s/it]"
     ]
    },
    {
     "name": "stdout",
     "output_type": "stream",
     "text": [
      "04-09 - 6-month - mean\n",
      "{'mean': {'single': {'upper': {'indicator': 'adx32', 'barrier': 11}, 'lower': {'indicator': 'ppo32', 'barrier': 14}, 'best': {'type': 'upper', 'indicator': 'adx32', 'barrier': 11}}}, 'order': {'single': {'upper': {'indicator': 'stochastic16', 'barrier': 17}, 'lower': {'indicator': 'adx16', 'barrier': 13}, 'best': {'type': 'upper', 'indicator': 'stochastic16', 'barrier': 17}}}}\n",
      "Key in forward opt json 04-09 - 6-month - order - 851\n"
     ]
    },
    {
     "name": "stderr",
     "output_type": "stream",
     "text": [
      "\r",
      " 21%|██▏       | 214/996 [1:18:31<5:33:56, 25.62s/it]"
     ]
    },
    {
     "name": "stdout",
     "output_type": "stream",
     "text": [
      "04-09 - 6-month - order\n",
      "{'mean': {'single': {'upper': {'indicator': 'stochastic32', 'barrier': 30}, 'lower': {'indicator': 'ppo32', 'barrier': 30}, 'best': {'type': 'upper', 'indicator': 'stochastic32', 'barrier': 30}}}, 'order': {'single': {'upper': {'indicator': 'ppo32', 'barrier': 34}, 'lower': {'indicator': 'adx16', 'barrier': 11}, 'best': {'type': 'upper', 'indicator': 'ppo32', 'barrier': 34}}}}\n",
      "Key in forward opt json 04-09 - 12-month - mean - 194\n"
     ]
    },
    {
     "name": "stderr",
     "output_type": "stream",
     "text": [
      "\r",
      " 22%|██▏       | 215/996 [1:18:49<5:01:04, 23.13s/it]"
     ]
    },
    {
     "name": "stdout",
     "output_type": "stream",
     "text": [
      "04-09 - 12-month - mean\n",
      "{'mean': {'single': {'upper': {'indicator': 'ppo16', 'barrier': 3}, 'lower': {'indicator': 'ppo16', 'barrier': 21}, 'best': {'type': 'upper', 'indicator': 'ppo16', 'barrier': 3}}}, 'order': {'single': {'upper': {'indicator': 'ppo32', 'barrier': 18}, 'lower': {'indicator': 'adx8', 'barrier': 29}, 'best': {'type': 'upper', 'indicator': 'ppo32', 'barrier': 18}}}}\n",
      "Key in forward opt json 04-09 - 12-month - order - 1728\n"
     ]
    },
    {
     "name": "stderr",
     "output_type": "stream",
     "text": [
      "\r",
      " 22%|██▏       | 216/996 [1:19:33<6:25:36, 29.66s/it]"
     ]
    },
    {
     "name": "stdout",
     "output_type": "stream",
     "text": [
      "04-09 - 12-month - order\n",
      "{'mean': {'single': {'upper': {'indicator': 'ppo8', 'barrier': -4}, 'lower': {'indicator': 'ppo32', 'barrier': 34}, 'best': {'type': 'upper', 'indicator': 'ppo8', 'barrier': -4}}}, 'order': {'single': {'upper': {'indicator': 'stochastic8', 'barrier': 90}, 'lower': {'indicator': 'stochastic8', 'barrier': 44}, 'best': {'type': 'upper', 'indicator': 'stochastic8', 'barrier': 90}}}}\n",
      "Key in forward opt json 04-10 - 6-month - mean - 221\n"
     ]
    },
    {
     "name": "stderr",
     "output_type": "stream",
     "text": [
      "\r",
      " 22%|██▏       | 217/996 [1:19:51<5:36:19, 25.90s/it]"
     ]
    },
    {
     "name": "stdout",
     "output_type": "stream",
     "text": [
      "04-10 - 6-month - mean\n",
      "{'mean': {'single': {'upper': {'indicator': 'stochastic32', 'barrier': 9}, 'lower': {'indicator': 'ppo16', 'barrier': 16}, 'best': {'type': 'upper', 'indicator': 'stochastic32', 'barrier': 9}}}, 'order': {'single': {'upper': {'indicator': 'adx16', 'barrier': 36}, 'lower': {'indicator': 'stochastic8', 'barrier': 5}, 'best': {'type': 'upper', 'indicator': 'adx16', 'barrier': 36}}}}\n",
      "Key in forward opt json 04-10 - 6-month - order - 800\n"
     ]
    },
    {
     "name": "stderr",
     "output_type": "stream",
     "text": [
      "\r",
      " 22%|██▏       | 218/996 [1:20:14<5:25:45, 25.12s/it]"
     ]
    },
    {
     "name": "stdout",
     "output_type": "stream",
     "text": [
      "04-10 - 6-month - order\n",
      "{'mean': {'single': {'upper': {'indicator': 'stochastic32', 'barrier': 30}, 'lower': {'indicator': 'stochastic8', 'barrier': 86}, 'best': {'type': 'upper', 'indicator': 'stochastic32', 'barrier': 30}}}, 'order': {'single': {'upper': {'indicator': 'stochastic16', 'barrier': 66}, 'lower': {'indicator': 'ppo16', 'barrier': 6}, 'best': {'type': 'upper', 'indicator': 'stochastic16', 'barrier': 66}}}}\n",
      "Key in forward opt json 04-10 - 12-month - mean - 204\n"
     ]
    },
    {
     "name": "stderr",
     "output_type": "stream",
     "text": [
      "\r",
      " 22%|██▏       | 219/996 [1:20:32<4:59:06, 23.10s/it]"
     ]
    },
    {
     "name": "stdout",
     "output_type": "stream",
     "text": [
      "04-10 - 12-month - mean\n",
      "{'mean': {'single': {'upper': {'indicator': 'ppo32', 'barrier': 4}, 'lower': {'indicator': 'ppo8', 'barrier': 22}, 'best': {'type': 'upper', 'indicator': 'ppo32', 'barrier': 4}}}, 'order': {'single': {'upper': {'indicator': 'ppo16', 'barrier': 22}, 'lower': {'indicator': 'adx8', 'barrier': 27}, 'best': {'type': 'upper', 'indicator': 'ppo16', 'barrier': 22}}}}\n",
      "Key in forward opt json 04-10 - 12-month - order - 1665\n"
     ]
    },
    {
     "name": "stderr",
     "output_type": "stream",
     "text": [
      "\r",
      " 22%|██▏       | 220/996 [1:21:18<6:28:00, 30.00s/it]"
     ]
    },
    {
     "name": "stdout",
     "output_type": "stream",
     "text": [
      "04-10 - 12-month - order\n",
      "{'mean': {'single': {'upper': {'indicator': 'ppo16', 'barrier': -2}, 'lower': {'indicator': 'ppo32', 'barrier': 36}, 'best': {'type': 'upper', 'indicator': 'ppo16', 'barrier': -2}}}, 'order': {'single': {'upper': {'indicator': 'stochastic8', 'barrier': 84}, 'lower': {'indicator': 'adx32', 'barrier': 11}, 'best': {'type': 'upper', 'indicator': 'stochastic8', 'barrier': 84}}}}\n",
      "Key in forward opt json 04-11 - 6-month - mean - 66\n"
     ]
    },
    {
     "name": "stderr",
     "output_type": "stream",
     "text": [
      "\r",
      " 22%|██▏       | 221/996 [1:21:36<5:38:21, 26.20s/it]"
     ]
    },
    {
     "name": "stdout",
     "output_type": "stream",
     "text": [
      "04-11 - 6-month - mean\n",
      "{'mean': {'single': {'upper': {'indicator': 'stochastic8', 'barrier': 11}, 'lower': {'indicator': 'ppo32', 'barrier': 10}, 'best': {'type': 'upper', 'indicator': 'stochastic8', 'barrier': 11}}}, 'order': {'single': {'upper': {'indicator': 'adx8', 'barrier': 55}, 'lower': {'indicator': 'ppo32', 'barrier': 6}, 'best': {'type': 'upper', 'indicator': 'adx8', 'barrier': 55}}}}\n",
      "Key in forward opt json 04-11 - 6-month - order - 745\n"
     ]
    },
    {
     "name": "stderr",
     "output_type": "stream",
     "text": [
      "\r",
      " 22%|██▏       | 222/996 [1:21:58<5:22:53, 25.03s/it]"
     ]
    },
    {
     "name": "stdout",
     "output_type": "stream",
     "text": [
      "04-11 - 6-month - order\n",
      "{'mean': {'single': {'upper': {'indicator': 'stochastic32', 'barrier': 8}, 'lower': {'indicator': 'ppo32', 'barrier': 28}, 'best': {'type': 'upper', 'indicator': 'stochastic32', 'barrier': 8}}}, 'order': {'single': {'upper': {'indicator': 'stochastic32', 'barrier': 96}, 'lower': {'indicator': 'stochastic8', 'barrier': 8}, 'best': {'type': 'upper', 'indicator': 'stochastic32', 'barrier': 96}}}}\n",
      "Key in forward opt json 04-11 - 12-month - mean - 211\n"
     ]
    },
    {
     "name": "stderr",
     "output_type": "stream",
     "text": [
      "\r",
      " 22%|██▏       | 223/996 [1:22:16<4:54:55, 22.89s/it]"
     ]
    },
    {
     "name": "stdout",
     "output_type": "stream",
     "text": [
      "04-11 - 12-month - mean\n",
      "{'mean': {'single': {'upper': {'indicator': 'ppo32', 'barrier': 4}, 'lower': {'indicator': 'ppo8', 'barrier': 20}, 'best': {'type': 'upper', 'indicator': 'ppo32', 'barrier': 4}}}, 'order': {'single': {'upper': {'indicator': 'adx8', 'barrier': 37}, 'lower': {'indicator': 'stochastic16', 'barrier': 11}, 'best': {'type': 'upper', 'indicator': 'adx8', 'barrier': 37}}}}\n",
      "Key in forward opt json 04-11 - 12-month - order - 1651\n"
     ]
    },
    {
     "name": "stderr",
     "output_type": "stream",
     "text": [
      "\r",
      " 22%|██▏       | 224/996 [1:22:59<6:11:56, 28.91s/it]"
     ]
    },
    {
     "name": "stdout",
     "output_type": "stream",
     "text": [
      "04-11 - 12-month - order\n",
      "{'mean': {'single': {'upper': {'indicator': 'ppo8', 'barrier': -2}, 'lower': {'indicator': 'adx8', 'barrier': 73}, 'best': {'type': 'upper', 'indicator': 'ppo8', 'barrier': -2}}}, 'order': {'single': {'upper': {'indicator': 'adx32', 'barrier': 41}, 'lower': {'indicator': 'adx8', 'barrier': 9}, 'best': {'type': 'upper', 'indicator': 'adx32', 'barrier': 41}}}}\n",
      "Key in forward opt json 04-12 - 6-month - mean - 45\n"
     ]
    },
    {
     "name": "stderr",
     "output_type": "stream",
     "text": [
      "\r",
      " 23%|██▎       | 225/996 [1:23:16<5:24:46, 25.27s/it]"
     ]
    },
    {
     "name": "stdout",
     "output_type": "stream",
     "text": [
      "04-12 - 6-month - mean\n",
      "{'mean': {'single': {'upper': {'indicator': 'stochastic8', 'barrier': 11}, 'lower': {'indicator': 'ppo8', 'barrier': 8}, 'best': {'type': 'upper', 'indicator': 'stochastic8', 'barrier': 11}}}, 'order': {'single': {'upper': {'indicator': 'ppo16', 'barrier': 23}, 'lower': {'indicator': 'ppo32', 'barrier': 5}, 'best': {'type': 'upper', 'indicator': 'ppo16', 'barrier': 23}}}}\n",
      "Key in forward opt json 04-12 - 6-month - order - 787\n"
     ]
    },
    {
     "name": "stderr",
     "output_type": "stream",
     "text": [
      "\r",
      " 23%|██▎       | 226/996 [1:23:38<5:13:48, 24.45s/it]"
     ]
    },
    {
     "name": "stdout",
     "output_type": "stream",
     "text": [
      "04-12 - 6-month - order\n",
      "{'mean': {'single': {'upper': {'indicator': 'stochastic32', 'barrier': 24}, 'lower': {'indicator': 'ppo16', 'barrier': 34}, 'best': {'type': 'upper', 'indicator': 'stochastic32', 'barrier': 24}}}, 'order': {'single': {'upper': {'indicator': 'stochastic32', 'barrier': 96}, 'lower': {'indicator': 'stochastic16', 'barrier': 78}, 'best': {'type': 'upper', 'indicator': 'stochastic32', 'barrier': 96}}}}\n",
      "Key in forward opt json 04-12 - 12-month - mean - 198\n"
     ]
    },
    {
     "name": "stderr",
     "output_type": "stream",
     "text": [
      "\r",
      " 23%|██▎       | 227/996 [1:23:56<4:46:41, 22.37s/it]"
     ]
    },
    {
     "name": "stdout",
     "output_type": "stream",
     "text": [
      "04-12 - 12-month - mean\n",
      "{'mean': {'single': {'upper': {'indicator': 'adx8', 'barrier': 25}, 'lower': {'indicator': 'ppo8', 'barrier': 20}, 'best': {'type': 'upper', 'indicator': 'adx8', 'barrier': 25}}}, 'order': {'single': {'upper': {'indicator': 'stochastic32', 'barrier': 18}, 'lower': {'indicator': 'adx8', 'barrier': 33}, 'best': {'type': 'upper', 'indicator': 'stochastic32', 'barrier': 18}}}}\n",
      "Key in forward opt json 04-12 - 12-month - order - 1666\n"
     ]
    },
    {
     "name": "stderr",
     "output_type": "stream",
     "text": [
      "\r",
      " 23%|██▎       | 228/996 [1:24:39<6:08:06, 28.76s/it]"
     ]
    },
    {
     "name": "stdout",
     "output_type": "stream",
     "text": [
      "04-12 - 12-month - order\n",
      "{'mean': {'single': {'upper': {'indicator': 'stochastic32', 'barrier': 6}, 'lower': {'indicator': 'ppo32', 'barrier': 35}, 'best': {'type': 'upper', 'indicator': 'stochastic32', 'barrier': 6}}}, 'order': {'single': {'upper': {'indicator': 'ppo8', 'barrier': 14}, 'lower': {'indicator': 'stochastic32', 'barrier': 8}, 'best': {'type': 'upper', 'indicator': 'ppo8', 'barrier': 14}}}}\n",
      "Key in forward opt json 05-01 - 6-month - mean - 47\n"
     ]
    },
    {
     "name": "stderr",
     "output_type": "stream",
     "text": [
      "\r",
      " 23%|██▎       | 229/996 [1:24:57<5:24:43, 25.40s/it]"
     ]
    },
    {
     "name": "stdout",
     "output_type": "stream",
     "text": [
      "05-01 - 6-month - mean\n",
      "{'mean': {'single': {'upper': {'indicator': 'adx8', 'barrier': 29}, 'lower': {'indicator': 'ppo16', 'barrier': 9}, 'best': {'type': 'upper', 'indicator': 'adx8', 'barrier': 29}}}, 'order': {'single': {'upper': {'indicator': 'ppo16', 'barrier': 23}, 'lower': {'indicator': 'ppo32', 'barrier': 5}, 'best': {'type': 'upper', 'indicator': 'ppo16', 'barrier': 23}}}}\n",
      "Key in forward opt json 05-01 - 6-month - order - 759\n"
     ]
    },
    {
     "name": "stderr",
     "output_type": "stream",
     "text": [
      "\r",
      " 23%|██▎       | 230/996 [1:25:20<5:14:45, 24.65s/it]"
     ]
    },
    {
     "name": "stdout",
     "output_type": "stream",
     "text": [
      "05-01 - 6-month - order\n",
      "{'mean': {'single': {'upper': {'indicator': 'adx32', 'barrier': 7}, 'lower': {'indicator': 'ppo16', 'barrier': 36}, 'best': {'type': 'upper', 'indicator': 'adx32', 'barrier': 7}}}, 'order': {'single': {'upper': {'indicator': 'adx16', 'barrier': 41}, 'lower': {'indicator': 'adx8', 'barrier': 24}, 'best': {'type': 'upper', 'indicator': 'adx16', 'barrier': 41}}}}\n",
      "Key in forward opt json 05-01 - 12-month - mean - 192\n"
     ]
    },
    {
     "name": "stderr",
     "output_type": "stream",
     "text": [
      "\r",
      " 23%|██▎       | 231/996 [1:25:38<4:47:49, 22.57s/it]"
     ]
    },
    {
     "name": "stdout",
     "output_type": "stream",
     "text": [
      "05-01 - 12-month - mean\n",
      "{'mean': {'single': {'upper': {'indicator': 'adx8', 'barrier': 25}, 'lower': {'indicator': 'ppo32', 'barrier': 22}, 'best': {'type': 'upper', 'indicator': 'adx8', 'barrier': 25}}}, 'order': {'single': {'upper': {'indicator': 'ppo32', 'barrier': 14}, 'lower': {'indicator': 'stochastic16', 'barrier': 9}, 'best': {'type': 'upper', 'indicator': 'ppo32', 'barrier': 14}}}}\n",
      "Key in forward opt json 05-01 - 12-month - order - 1656\n"
     ]
    },
    {
     "name": "stderr",
     "output_type": "stream",
     "text": [
      "\r",
      " 23%|██▎       | 232/996 [1:26:23<6:15:04, 29.46s/it]"
     ]
    },
    {
     "name": "stdout",
     "output_type": "stream",
     "text": [
      "05-01 - 12-month - order\n",
      "{'mean': {'single': {'upper': {'indicator': 'stochastic32', 'barrier': 6}, 'lower': {'indicator': 'ppo32', 'barrier': 34}, 'best': {'type': 'upper', 'indicator': 'stochastic32', 'barrier': 6}}}, 'order': {'single': {'upper': {'indicator': 'stochastic8', 'barrier': 72}, 'lower': {'indicator': 'stochastic32', 'barrier': 74}, 'best': {'type': 'upper', 'indicator': 'stochastic8', 'barrier': 72}}}}\n",
      "Key in forward opt json 05-02 - 6-month - mean - 66\n"
     ]
    },
    {
     "name": "stderr",
     "output_type": "stream",
     "text": [
      "\r",
      " 23%|██▎       | 233/996 [1:26:40<5:27:36, 25.76s/it]"
     ]
    },
    {
     "name": "stdout",
     "output_type": "stream",
     "text": [
      "05-02 - 6-month - mean\n",
      "{'mean': {'single': {'upper': {'indicator': 'stochastic8', 'barrier': 9}, 'lower': {'indicator': 'stochastic32', 'barrier': 20}, 'best': {'type': 'upper', 'indicator': 'stochastic8', 'barrier': 9}}}, 'order': {'single': {'upper': {'indicator': 'adx32', 'barrier': 29}, 'lower': {'indicator': 'adx16', 'barrier': 14}, 'best': {'type': 'upper', 'indicator': 'adx32', 'barrier': 29}}}}\n",
      "Key in forward opt json 05-02 - 6-month - order - 754\n"
     ]
    },
    {
     "name": "stderr",
     "output_type": "stream",
     "text": [
      "\r",
      " 23%|██▎       | 234/996 [1:27:03<5:16:42, 24.94s/it]"
     ]
    },
    {
     "name": "stdout",
     "output_type": "stream",
     "text": [
      "05-02 - 6-month - order\n",
      "{'mean': {'single': {'upper': {'indicator': 'stochastic32', 'barrier': 20}, 'lower': {'indicator': 'adx16', 'barrier': 53}, 'best': {'type': 'upper', 'indicator': 'stochastic32', 'barrier': 20}}}, 'order': {'single': {'upper': {'indicator': 'adx8', 'barrier': 30}, 'lower': {'indicator': 'stochastic32', 'barrier': 60}, 'best': {'type': 'upper', 'indicator': 'adx8', 'barrier': 30}}}}\n",
      "Key in forward opt json 05-02 - 12-month - mean - 209\n"
     ]
    },
    {
     "name": "stderr",
     "output_type": "stream",
     "text": [
      "\r",
      " 24%|██▎       | 235/996 [1:27:21<4:47:41, 22.68s/it]"
     ]
    },
    {
     "name": "stdout",
     "output_type": "stream",
     "text": [
      "05-02 - 12-month - mean\n",
      "{'mean': {'single': {'upper': {'indicator': 'adx8', 'barrier': 25}, 'lower': {'indicator': 'stochastic32', 'barrier': 26}, 'best': {'type': 'upper', 'indicator': 'adx8', 'barrier': 25}}}, 'order': {'single': {'upper': {'indicator': 'ppo16', 'barrier': 15}, 'lower': {'indicator': 'stochastic8', 'barrier': 9}, 'best': {'type': 'upper', 'indicator': 'ppo16', 'barrier': 15}}}}\n",
      "Key in forward opt json 05-02 - 12-month - order - 1611\n"
     ]
    },
    {
     "name": "stderr",
     "output_type": "stream",
     "text": [
      "\r",
      " 24%|██▎       | 236/996 [1:28:03<6:02:41, 28.63s/it]"
     ]
    },
    {
     "name": "stdout",
     "output_type": "stream",
     "text": [
      "05-02 - 12-month - order\n",
      "{'mean': {'single': {'upper': {'indicator': 'stochastic32', 'barrier': 6}, 'lower': {'indicator': 'ppo8', 'barrier': 45}, 'best': {'type': 'upper', 'indicator': 'stochastic32', 'barrier': 6}}}, 'order': {'single': {'upper': {'indicator': 'stochastic8', 'barrier': 68}, 'lower': {'indicator': 'stochastic32', 'barrier': 20}, 'best': {'type': 'upper', 'indicator': 'stochastic8', 'barrier': 68}}}}\n",
      "Key in forward opt json 05-03 - 6-month - mean - 72\n"
     ]
    },
    {
     "name": "stderr",
     "output_type": "stream",
     "text": [
      "\r",
      " 24%|██▍       | 237/996 [1:28:20<5:18:13, 25.16s/it]"
     ]
    },
    {
     "name": "stdout",
     "output_type": "stream",
     "text": [
      "05-03 - 6-month - mean\n",
      "{'mean': {'single': {'upper': {'indicator': 'adx8', 'barrier': 29}, 'lower': {'indicator': 'stochastic32', 'barrier': 26}, 'best': {'type': 'upper', 'indicator': 'adx8', 'barrier': 29}}}, 'order': {'single': {'upper': {'indicator': 'adx32', 'barrier': 29}, 'lower': {'indicator': 'adx16', 'barrier': 14}, 'best': {'type': 'upper', 'indicator': 'adx32', 'barrier': 29}}}}\n",
      "Key in forward opt json 05-03 - 6-month - order - 772\n"
     ]
    },
    {
     "name": "stderr",
     "output_type": "stream",
     "text": [
      "\r",
      " 24%|██▍       | 238/996 [1:28:43<5:08:16, 24.40s/it]"
     ]
    },
    {
     "name": "stdout",
     "output_type": "stream",
     "text": [
      "05-03 - 6-month - order\n",
      "{'mean': {'single': {'upper': {'indicator': 'stochastic32', 'barrier': 19}, 'lower': {'indicator': 'ppo8', 'barrier': 46}, 'best': {'type': 'upper', 'indicator': 'stochastic32', 'barrier': 19}}}, 'order': {'single': {'upper': {'indicator': 'ppo32', 'barrier': 30}, 'lower': {'indicator': 'stochastic8', 'barrier': 6}, 'best': {'type': 'upper', 'indicator': 'ppo32', 'barrier': 30}}}}\n",
      "Key in forward opt json 05-03 - 12-month - mean - 206\n"
     ]
    },
    {
     "name": "stderr",
     "output_type": "stream",
     "text": [
      "\r",
      " 24%|██▍       | 239/996 [1:29:00<4:40:13, 22.21s/it]"
     ]
    },
    {
     "name": "stdout",
     "output_type": "stream",
     "text": [
      "05-03 - 12-month - mean\n",
      "{'mean': {'single': {'upper': {'indicator': 'adx8', 'barrier': 25}, 'lower': {'indicator': 'ppo32', 'barrier': 18}, 'best': {'type': 'upper', 'indicator': 'adx8', 'barrier': 25}}}, 'order': {'single': {'upper': {'indicator': 'ppo8', 'barrier': 14}, 'lower': {'indicator': 'adx16', 'barrier': 19}, 'best': {'type': 'upper', 'indicator': 'ppo8', 'barrier': 14}}}}\n",
      "Key in forward opt json 05-03 - 12-month - order - 1621\n"
     ]
    },
    {
     "name": "stderr",
     "output_type": "stream",
     "text": [
      "\r",
      " 24%|██▍       | 240/996 [1:29:42<5:53:38, 28.07s/it]"
     ]
    },
    {
     "name": "stdout",
     "output_type": "stream",
     "text": [
      "05-03 - 12-month - order\n",
      "{'mean': {'single': {'upper': {'indicator': 'stochastic32', 'barrier': 6}, 'lower': {'indicator': 'ppo8', 'barrier': 45}, 'best': {'type': 'upper', 'indicator': 'stochastic32', 'barrier': 6}}}, 'order': {'single': {'upper': {'indicator': 'ppo16', 'barrier': 12}, 'lower': {'indicator': 'ppo8', 'barrier': 17}, 'best': {'type': 'upper', 'indicator': 'ppo16', 'barrier': 12}}}}\n",
      "Key in forward opt json 05-04 - 6-month - mean - 94\n"
     ]
    },
    {
     "name": "stderr",
     "output_type": "stream",
     "text": [
      "\r",
      " 24%|██▍       | 241/996 [1:29:59<5:13:46, 24.94s/it]"
     ]
    },
    {
     "name": "stdout",
     "output_type": "stream",
     "text": [
      "05-04 - 6-month - mean\n",
      "{'mean': {'single': {'upper': {'indicator': 'stochastic8', 'barrier': 12}, 'lower': {'indicator': 'stochastic32', 'barrier': 26}, 'best': {'type': 'upper', 'indicator': 'stochastic8', 'barrier': 12}}}, 'order': {'single': {'upper': {'indicator': 'adx32', 'barrier': 29}, 'lower': {'indicator': 'ppo32', 'barrier': 4}, 'best': {'type': 'upper', 'indicator': 'adx32', 'barrier': 29}}}}\n",
      "Key in forward opt json 05-04 - 6-month - order - 812\n"
     ]
    },
    {
     "name": "stderr",
     "output_type": "stream",
     "text": [
      "\r",
      " 24%|██▍       | 242/996 [1:30:23<5:07:59, 24.51s/it]"
     ]
    },
    {
     "name": "stdout",
     "output_type": "stream",
     "text": [
      "05-04 - 6-month - order\n",
      "{'mean': {'single': {'upper': {'indicator': 'stochastic32', 'barrier': 19}, 'lower': {'indicator': 'adx16', 'barrier': 54}, 'best': {'type': 'upper', 'indicator': 'stochastic32', 'barrier': 19}}}, 'order': {'single': {'upper': {'indicator': 'adx8', 'barrier': 47}, 'lower': {'indicator': 'adx8', 'barrier': 29}, 'best': {'type': 'upper', 'indicator': 'adx8', 'barrier': 47}}}}\n",
      "Key in forward opt json 05-04 - 12-month - mean - 159\n"
     ]
    },
    {
     "name": "stderr",
     "output_type": "stream",
     "text": [
      "\r",
      " 24%|██▍       | 243/996 [1:30:40<4:40:31, 22.35s/it]"
     ]
    },
    {
     "name": "stdout",
     "output_type": "stream",
     "text": [
      "05-04 - 12-month - mean\n",
      "{'mean': {'single': {'upper': {'indicator': 'adx8', 'barrier': 28}, 'lower': {'indicator': 'ppo8', 'barrier': 12}, 'best': {'type': 'upper', 'indicator': 'adx8', 'barrier': 28}}}, 'order': {'single': {'upper': {'indicator': 'ppo8', 'barrier': 24}, 'lower': {'indicator': 'ppo32', 'barrier': 5}, 'best': {'type': 'upper', 'indicator': 'ppo8', 'barrier': 24}}}}\n",
      "Key in forward opt json 05-04 - 12-month - order - 1611\n"
     ]
    },
    {
     "name": "stderr",
     "output_type": "stream",
     "text": [
      "\r",
      " 24%|██▍       | 244/996 [1:31:22<5:52:49, 28.15s/it]"
     ]
    },
    {
     "name": "stdout",
     "output_type": "stream",
     "text": [
      "05-04 - 12-month - order\n",
      "{'mean': {'single': {'upper': {'indicator': 'stochastic32', 'barrier': 8}, 'lower': {'indicator': 'adx16', 'barrier': 53}, 'best': {'type': 'upper', 'indicator': 'stochastic32', 'barrier': 8}}}, 'order': {'single': {'upper': {'indicator': 'adx32', 'barrier': 21}, 'lower': {'indicator': 'stochastic16', 'barrier': 76}, 'best': {'type': 'upper', 'indicator': 'adx32', 'barrier': 21}}}}\n",
      "Key in forward opt json 05-05 - 6-month - mean - 72\n"
     ]
    },
    {
     "name": "stderr",
     "output_type": "stream",
     "text": [
      "\r",
      " 25%|██▍       | 245/996 [1:31:39<5:11:12, 24.86s/it]"
     ]
    },
    {
     "name": "stdout",
     "output_type": "stream",
     "text": [
      "05-05 - 6-month - mean\n",
      "{'mean': {'single': {'upper': {'indicator': 'stochastic32', 'barrier': 10}, 'lower': {'indicator': 'adx8', 'barrier': 50}, 'best': {'type': 'upper', 'indicator': 'stochastic32', 'barrier': 10}}}, 'order': {'single': {'upper': {'indicator': 'adx8', 'barrier': 70}, 'lower': {'indicator': 'adx8', 'barrier': 24}, 'best': {'type': 'upper', 'indicator': 'adx8', 'barrier': 70}}}}\n",
      "Key in forward opt json 05-05 - 6-month - order - 606\n"
     ]
    },
    {
     "name": "stderr",
     "output_type": "stream",
     "text": [
      "\r",
      " 25%|██▍       | 246/996 [1:31:59<4:54:11, 23.54s/it]"
     ]
    },
    {
     "name": "stdout",
     "output_type": "stream",
     "text": [
      "05-05 - 6-month - order\n",
      "{'mean': {'single': {'upper': {'indicator': 'stochastic16', 'barrier': 8}, 'lower': {'indicator': 'ppo32', 'barrier': 26}, 'best': {'type': 'upper', 'indicator': 'stochastic16', 'barrier': 8}}}, 'order': {'single': {'upper': {'indicator': 'ppo8', 'barrier': 18}, 'lower': {'indicator': 'stochastic8', 'barrier': 24}, 'best': {'type': 'upper', 'indicator': 'ppo8', 'barrier': 18}}}}\n",
      "Key in forward opt json 05-05 - 12-month - mean - 87\n"
     ]
    },
    {
     "name": "stderr",
     "output_type": "stream",
     "text": [
      "\r",
      " 25%|██▍       | 247/996 [1:32:17<4:29:49, 21.62s/it]"
     ]
    },
    {
     "name": "stdout",
     "output_type": "stream",
     "text": [
      "05-05 - 12-month - mean\n",
      "{'mean': {'single': {'upper': {'indicator': 'stochastic32', 'barrier': 10}, 'lower': {'indicator': 'adx16', 'barrier': 29}, 'best': {'type': 'upper', 'indicator': 'stochastic32', 'barrier': 10}}}, 'order': {'single': {'upper': {'indicator': 'stochastic16', 'barrier': 28}, 'lower': {'indicator': 'adx8', 'barrier': 25}, 'best': {'type': 'upper', 'indicator': 'stochastic16', 'barrier': 28}}}}\n",
      "Key in forward opt json 05-05 - 12-month - order - 1553\n"
     ]
    },
    {
     "name": "stderr",
     "output_type": "stream",
     "text": [
      "\r",
      " 25%|██▍       | 248/996 [1:32:56<5:36:52, 27.02s/it]"
     ]
    },
    {
     "name": "stdout",
     "output_type": "stream",
     "text": [
      "05-05 - 12-month - order\n",
      "{'mean': {'single': {'upper': {'indicator': 'stochastic32', 'barrier': 7}, 'lower': {'indicator': 'adx16', 'barrier': 53}, 'best': {'type': 'upper', 'indicator': 'stochastic32', 'barrier': 7}}}, 'order': {'single': {'upper': {'indicator': 'stochastic32', 'barrier': 89}, 'lower': {'indicator': 'stochastic8', 'barrier': 50}, 'best': {'type': 'upper', 'indicator': 'stochastic32', 'barrier': 89}}}}\n",
      "Key in forward opt json 05-06 - 6-month - mean - 74\n"
     ]
    },
    {
     "name": "stderr",
     "output_type": "stream",
     "text": [
      "\r",
      " 25%|██▌       | 249/996 [1:33:14<5:03:13, 24.36s/it]"
     ]
    },
    {
     "name": "stdout",
     "output_type": "stream",
     "text": [
      "05-06 - 6-month - mean\n",
      "{'mean': {'single': {'upper': {'indicator': 'stochastic32', 'barrier': 10}, 'lower': {'indicator': 'ppo32', 'barrier': 17}, 'best': {'type': 'upper', 'indicator': 'stochastic32', 'barrier': 10}}}, 'order': {'single': {'upper': {'indicator': 'adx16', 'barrier': 43}, 'lower': {'indicator': 'adx8', 'barrier': 21}, 'best': {'type': 'upper', 'indicator': 'adx16', 'barrier': 43}}}}\n",
      "Key in forward opt json 05-06 - 6-month - order - 783\n"
     ]
    },
    {
     "name": "stderr",
     "output_type": "stream",
     "text": [
      "\r",
      " 25%|██▌       | 250/996 [1:33:40<5:09:07, 24.86s/it]"
     ]
    },
    {
     "name": "stdout",
     "output_type": "stream",
     "text": [
      "05-06 - 6-month - order\n",
      "{'mean': {'single': {'upper': {'indicator': 'ppo32', 'barrier': 0}, 'lower': {'indicator': 'adx8', 'barrier': 68}, 'best': {'type': 'upper', 'indicator': 'ppo32', 'barrier': 0}}}, 'order': {'single': {'upper': {'indicator': 'ppo8', 'barrier': 34}, 'lower': {'indicator': 'stochastic8', 'barrier': 62}, 'best': {'type': 'upper', 'indicator': 'ppo8', 'barrier': 34}}}}\n",
      "Key in forward opt json 05-06 - 12-month - mean - 99\n"
     ]
    },
    {
     "name": "stderr",
     "output_type": "stream",
     "text": [
      "\r",
      " 25%|██▌       | 251/996 [1:33:59<4:44:24, 22.91s/it]"
     ]
    },
    {
     "name": "stdout",
     "output_type": "stream",
     "text": [
      "05-06 - 12-month - mean\n",
      "{'mean': {'single': {'upper': {'indicator': 'stochastic32', 'barrier': 37}, 'lower': {'indicator': 'ppo32', 'barrier': 14}, 'best': {'type': 'upper', 'indicator': 'stochastic32', 'barrier': 37}}}, 'order': {'single': {'upper': {'indicator': 'stochastic32', 'barrier': 39}, 'lower': {'indicator': 'adx8', 'barrier': 25}, 'best': {'type': 'upper', 'indicator': 'stochastic32', 'barrier': 39}}}}\n",
      "Key in forward opt json 05-06 - 12-month - order - 1564\n"
     ]
    },
    {
     "name": "stderr",
     "output_type": "stream",
     "text": [
      "\r",
      " 25%|██▌       | 252/996 [1:34:41<5:57:21, 28.82s/it]"
     ]
    },
    {
     "name": "stdout",
     "output_type": "stream",
     "text": [
      "05-06 - 12-month - order\n",
      "{'mean': {'single': {'upper': {'indicator': 'stochastic32', 'barrier': 19}, 'lower': {'indicator': 'adx16', 'barrier': 53}, 'best': {'type': 'upper', 'indicator': 'stochastic32', 'barrier': 19}}}, 'order': {'single': {'upper': {'indicator': 'stochastic16', 'barrier': 47}, 'lower': {'indicator': 'stochastic32', 'barrier': 37}, 'best': {'type': 'upper', 'indicator': 'stochastic16', 'barrier': 47}}}}\n",
      "Key in forward opt json 05-07 - 6-month - mean - 72\n"
     ]
    },
    {
     "name": "stderr",
     "output_type": "stream",
     "text": [
      "\r",
      " 25%|██▌       | 253/996 [1:35:01<5:21:44, 25.98s/it]"
     ]
    },
    {
     "name": "stdout",
     "output_type": "stream",
     "text": [
      "05-07 - 6-month - mean\n",
      "{'mean': {'single': {'upper': {'indicator': 'stochastic32', 'barrier': 10}, 'lower': {'indicator': 'adx8', 'barrier': 49}, 'best': {'type': 'upper', 'indicator': 'stochastic32', 'barrier': 10}}}, 'order': {'single': {'upper': {'indicator': 'stochastic32', 'barrier': 24}, 'lower': {'indicator': 'adx8', 'barrier': 27}, 'best': {'type': 'upper', 'indicator': 'stochastic32', 'barrier': 24}}}}\n",
      "Key in forward opt json 05-07 - 6-month - order - 790\n"
     ]
    },
    {
     "name": "stderr",
     "output_type": "stream",
     "text": [
      "\r",
      " 26%|██▌       | 254/996 [1:35:27<5:22:45, 26.10s/it]"
     ]
    },
    {
     "name": "stdout",
     "output_type": "stream",
     "text": [
      "05-07 - 6-month - order\n",
      "{'mean': {'single': {'upper': {'indicator': 'stochastic8', 'barrier': 8}, 'lower': {'indicator': 'stochastic32', 'barrier': 91}, 'best': {'type': 'upper', 'indicator': 'stochastic8', 'barrier': 8}}}, 'order': {'single': {'upper': {'indicator': 'stochastic32', 'barrier': 79}, 'lower': {'indicator': 'stochastic32', 'barrier': 13}, 'best': {'type': 'upper', 'indicator': 'stochastic32', 'barrier': 79}}}}\n",
      "Key in forward opt json 05-07 - 12-month - mean - 105\n"
     ]
    },
    {
     "name": "stderr",
     "output_type": "stream",
     "text": [
      "\r",
      " 26%|██▌       | 255/996 [1:35:46<4:55:08, 23.90s/it]"
     ]
    },
    {
     "name": "stdout",
     "output_type": "stream",
     "text": [
      "05-07 - 12-month - mean\n",
      "{'mean': {'single': {'upper': {'indicator': 'stochastic32', 'barrier': 37}, 'lower': {'indicator': 'adx16', 'barrier': 29}, 'best': {'type': 'upper', 'indicator': 'stochastic32', 'barrier': 37}}}, 'order': {'single': {'upper': {'indicator': 'stochastic32', 'barrier': 37}, 'lower': {'indicator': 'adx8', 'barrier': 25}, 'best': {'type': 'upper', 'indicator': 'stochastic32', 'barrier': 37}}}}\n",
      "Key in forward opt json 05-07 - 12-month - order - 1553\n"
     ]
    },
    {
     "name": "stderr",
     "output_type": "stream",
     "text": [
      "\r",
      " 26%|██▌       | 256/996 [1:36:28<6:01:08, 29.28s/it]"
     ]
    },
    {
     "name": "stdout",
     "output_type": "stream",
     "text": [
      "05-07 - 12-month - order\n",
      "{'mean': {'single': {'upper': {'indicator': 'stochastic32', 'barrier': 19}, 'lower': {'indicator': 'adx16', 'barrier': 53}, 'best': {'type': 'upper', 'indicator': 'stochastic32', 'barrier': 19}}}, 'order': {'single': {'upper': {'indicator': 'stochastic32', 'barrier': 71}, 'lower': {'indicator': 'stochastic16', 'barrier': 51}, 'best': {'type': 'upper', 'indicator': 'stochastic32', 'barrier': 71}}}}\n",
      "Key in forward opt json 05-08 - 6-month - mean - 32\n"
     ]
    },
    {
     "name": "stderr",
     "output_type": "stream",
     "text": [
      "\r",
      " 26%|██▌       | 257/996 [1:36:46<5:18:46, 25.88s/it]"
     ]
    },
    {
     "name": "stdout",
     "output_type": "stream",
     "text": [
      "05-08 - 6-month - mean\n",
      "{'mean': {'single': {'upper': {'indicator': 'stochastic32', 'barrier': 10}, 'lower': {'indicator': 'adx8', 'barrier': 41}, 'best': {'type': 'upper', 'indicator': 'stochastic32', 'barrier': 10}}}, 'order': {'single': {'upper': {'indicator': 'stochastic32', 'barrier': 22}, 'lower': {'indicator': 'adx32', 'barrier': 10}, 'best': {'type': 'upper', 'indicator': 'stochastic32', 'barrier': 22}}}}\n",
      "Key in forward opt json 05-08 - 6-month - order - 761\n"
     ]
    },
    {
     "name": "stderr",
     "output_type": "stream",
     "text": [
      "\r",
      " 26%|██▌       | 258/996 [1:37:09<5:07:35, 25.01s/it]"
     ]
    },
    {
     "name": "stdout",
     "output_type": "stream",
     "text": [
      "05-08 - 6-month - order\n",
      "{'mean': {'single': {'upper': {'indicator': 'ppo16', 'barrier': -1}, 'lower': {'indicator': 'ppo32', 'barrier': 14}, 'best': {'type': 'upper', 'indicator': 'ppo16', 'barrier': -1}}}, 'order': {'single': {'upper': {'indicator': 'adx16', 'barrier': 37}, 'lower': {'indicator': 'stochastic8', 'barrier': 10}, 'best': {'type': 'upper', 'indicator': 'adx16', 'barrier': 37}}}}\n",
      "Key in forward opt json 05-08 - 12-month - mean - 90\n"
     ]
    },
    {
     "name": "stderr",
     "output_type": "stream",
     "text": [
      "\r",
      " 26%|██▌       | 259/996 [1:37:26<4:38:51, 22.70s/it]"
     ]
    },
    {
     "name": "stdout",
     "output_type": "stream",
     "text": [
      "05-08 - 12-month - mean\n",
      "{'mean': {'single': {'upper': {'indicator': 'stochastic32', 'barrier': 9}, 'lower': {'indicator': 'adx16', 'barrier': 29}, 'best': {'type': 'upper', 'indicator': 'stochastic32', 'barrier': 9}}}, 'order': {'single': {'upper': {'indicator': 'stochastic32', 'barrier': 37}, 'lower': {'indicator': 'adx8', 'barrier': 27}, 'best': {'type': 'upper', 'indicator': 'stochastic32', 'barrier': 37}}}}\n",
      "Key in forward opt json 05-08 - 12-month - order - 1532\n"
     ]
    },
    {
     "name": "stderr",
     "output_type": "stream",
     "text": [
      "\r",
      " 26%|██▌       | 260/996 [1:38:08<5:47:56, 28.36s/it]"
     ]
    },
    {
     "name": "stdout",
     "output_type": "stream",
     "text": [
      "05-08 - 12-month - order\n",
      "{'mean': {'single': {'upper': {'indicator': 'stochastic8', 'barrier': 8}, 'lower': {'indicator': 'adx16', 'barrier': 55}, 'best': {'type': 'upper', 'indicator': 'stochastic8', 'barrier': 8}}}, 'order': {'single': {'upper': {'indicator': 'ppo16', 'barrier': 42}, 'lower': {'indicator': 'ppo32', 'barrier': -1}, 'best': {'type': 'upper', 'indicator': 'ppo16', 'barrier': 42}}}}\n",
      "Key in forward opt json 05-09 - 6-month - mean - 56\n"
     ]
    },
    {
     "name": "stderr",
     "output_type": "stream",
     "text": [
      "\r",
      " 26%|██▌       | 261/996 [1:38:26<5:09:53, 25.30s/it]"
     ]
    },
    {
     "name": "stdout",
     "output_type": "stream",
     "text": [
      "05-09 - 6-month - mean\n",
      "{'mean': {'single': {'upper': {'indicator': 'ppo8', 'barrier': 6}, 'lower': {'indicator': 'ppo16', 'barrier': 16}, 'best': {'type': 'upper', 'indicator': 'ppo8', 'barrier': 6}}}, 'order': {'single': {'upper': {'indicator': 'stochastic32', 'barrier': 24}, 'lower': {'indicator': 'adx8', 'barrier': 21}, 'best': {'type': 'upper', 'indicator': 'stochastic32', 'barrier': 24}}}}\n",
      "Key in forward opt json 05-09 - 6-month - order - 755\n"
     ]
    },
    {
     "name": "stderr",
     "output_type": "stream",
     "text": [
      "\r",
      " 26%|██▋       | 262/996 [1:38:51<5:08:41, 25.23s/it]"
     ]
    },
    {
     "name": "stdout",
     "output_type": "stream",
     "text": [
      "05-09 - 6-month - order\n",
      "{'mean': {'single': {'upper': {'indicator': 'stochastic8', 'barrier': 9}, 'lower': {'indicator': 'ppo32', 'barrier': 22}, 'best': {'type': 'upper', 'indicator': 'stochastic8', 'barrier': 9}}}, 'order': {'single': {'upper': {'indicator': 'stochastic16', 'barrier': 67}, 'lower': {'indicator': 'stochastic16', 'barrier': 41}, 'best': {'type': 'upper', 'indicator': 'stochastic16', 'barrier': 67}}}}\n",
      "Key in forward opt json 05-09 - 12-month - mean - 94\n"
     ]
    },
    {
     "name": "stderr",
     "output_type": "stream",
     "text": [
      "\r",
      " 26%|██▋       | 263/996 [1:39:11<4:48:25, 23.61s/it]"
     ]
    },
    {
     "name": "stdout",
     "output_type": "stream",
     "text": [
      "05-09 - 12-month - mean\n",
      "{'mean': {'single': {'upper': {'indicator': 'stochastic32', 'barrier': 10}, 'lower': {'indicator': 'ppo32', 'barrier': 19}, 'best': {'type': 'upper', 'indicator': 'stochastic32', 'barrier': 10}}}, 'order': {'single': {'upper': {'indicator': 'stochastic32', 'barrier': 40}, 'lower': {'indicator': 'adx8', 'barrier': 27}, 'best': {'type': 'upper', 'indicator': 'stochastic32', 'barrier': 40}}}}\n",
      "Key in forward opt json 05-09 - 12-month - order - 1541\n"
     ]
    },
    {
     "name": "stderr",
     "output_type": "stream",
     "text": [
      "\r",
      " 27%|██▋       | 264/996 [1:39:56<6:07:50, 30.15s/it]"
     ]
    },
    {
     "name": "stdout",
     "output_type": "stream",
     "text": [
      "05-09 - 12-month - order\n",
      "{'mean': {'single': {'upper': {'indicator': 'stochastic8', 'barrier': 6}, 'lower': {'indicator': 'adx16', 'barrier': 55}, 'best': {'type': 'upper', 'indicator': 'stochastic8', 'barrier': 6}}}, 'order': {'single': {'upper': {'indicator': 'ppo16', 'barrier': 14}, 'lower': {'indicator': 'adx8', 'barrier': 12}, 'best': {'type': 'upper', 'indicator': 'ppo16', 'barrier': 14}}}}\n",
      "Key in forward opt json 05-10 - 6-month - mean - 45\n"
     ]
    },
    {
     "name": "stderr",
     "output_type": "stream",
     "text": [
      "\r",
      " 27%|██▋       | 265/996 [1:40:17<5:33:17, 27.36s/it]"
     ]
    },
    {
     "name": "stdout",
     "output_type": "stream",
     "text": [
      "05-10 - 6-month - mean\n",
      "{'mean': {'single': {'upper': {'indicator': 'stochastic8', 'barrier': 8}, 'lower': {'indicator': 'adx32', 'barrier': 15}, 'best': {'type': 'upper', 'indicator': 'stochastic8', 'barrier': 8}}}, 'order': {'single': {'upper': {'indicator': 'stochastic32', 'barrier': 24}, 'lower': {'indicator': 'adx32', 'barrier': 9}, 'best': {'type': 'upper', 'indicator': 'stochastic32', 'barrier': 24}}}}\n",
      "Key in forward opt json 05-10 - 6-month - order - 723\n"
     ]
    },
    {
     "name": "stderr",
     "output_type": "stream",
     "text": [
      "\r",
      " 27%|██▋       | 266/996 [1:40:43<5:28:50, 27.03s/it]"
     ]
    },
    {
     "name": "stdout",
     "output_type": "stream",
     "text": [
      "05-10 - 6-month - order\n",
      "{'mean': {'single': {'upper': {'indicator': 'stochastic8', 'barrier': 9}, 'lower': {'indicator': 'adx16', 'barrier': 45}, 'best': {'type': 'upper', 'indicator': 'stochastic8', 'barrier': 9}}}, 'order': {'single': {'upper': {'indicator': 'ppo32', 'barrier': 29}, 'lower': {'indicator': 'stochastic16', 'barrier': 5}, 'best': {'type': 'upper', 'indicator': 'ppo32', 'barrier': 29}}}}\n",
      "Key in forward opt json 05-10 - 12-month - mean - 96\n"
     ]
    },
    {
     "name": "stderr",
     "output_type": "stream",
     "text": [
      "\r",
      " 27%|██▋       | 267/996 [1:41:04<5:04:40, 25.08s/it]"
     ]
    },
    {
     "name": "stdout",
     "output_type": "stream",
     "text": [
      "05-10 - 12-month - mean\n",
      "{'mean': {'single': {'upper': {'indicator': 'stochastic32', 'barrier': 10}, 'lower': {'indicator': 'adx8', 'barrier': 51}, 'best': {'type': 'upper', 'indicator': 'stochastic32', 'barrier': 10}}}, 'order': {'single': {'upper': {'indicator': 'stochastic32', 'barrier': 40}, 'lower': {'indicator': 'adx8', 'barrier': 27}, 'best': {'type': 'upper', 'indicator': 'stochastic32', 'barrier': 40}}}}\n",
      "Key in forward opt json 05-10 - 12-month - order - 1542\n"
     ]
    },
    {
     "name": "stderr",
     "output_type": "stream",
     "text": [
      "\r",
      " 27%|██▋       | 268/996 [1:41:46<6:08:14, 30.35s/it]"
     ]
    },
    {
     "name": "stdout",
     "output_type": "stream",
     "text": [
      "05-10 - 12-month - order\n",
      "{'mean': {'single': {'upper': {'indicator': 'stochastic8', 'barrier': 6}, 'lower': {'indicator': 'adx16', 'barrier': 55}, 'best': {'type': 'upper', 'indicator': 'stochastic8', 'barrier': 6}}}, 'order': {'single': {'upper': {'indicator': 'adx8', 'barrier': 74}, 'lower': {'indicator': 'stochastic16', 'barrier': 7}, 'best': {'type': 'upper', 'indicator': 'adx8', 'barrier': 74}}}}\n",
      "Key in forward opt json 05-11 - 6-month - mean - 40\n"
     ]
    },
    {
     "name": "stderr",
     "output_type": "stream",
     "text": [
      "\r",
      " 27%|██▋       | 269/996 [1:42:05<5:24:08, 26.75s/it]"
     ]
    },
    {
     "name": "stdout",
     "output_type": "stream",
     "text": [
      "05-11 - 6-month - mean\n",
      "{'mean': {'single': {'upper': {'indicator': 'stochastic32', 'barrier': 6}, 'lower': {'indicator': 'adx32', 'barrier': 19}, 'best': {'type': 'upper', 'indicator': 'stochastic32', 'barrier': 6}}}, 'order': {'single': {'upper': {'indicator': 'adx16', 'barrier': 32}, 'lower': {'indicator': 'adx8', 'barrier': 21}, 'best': {'type': 'upper', 'indicator': 'adx16', 'barrier': 32}}}}\n",
      "Key in forward opt json 05-11 - 6-month - order - 688\n"
     ]
    },
    {
     "name": "stderr",
     "output_type": "stream",
     "text": [
      "\r",
      " 27%|██▋       | 270/996 [1:42:27<5:08:04, 25.46s/it]"
     ]
    },
    {
     "name": "stdout",
     "output_type": "stream",
     "text": [
      "05-11 - 6-month - order\n",
      "{'mean': {'single': {'upper': {'indicator': 'stochastic8', 'barrier': 9}, 'lower': {'indicator': 'ppo16', 'barrier': 29}, 'best': {'type': 'upper', 'indicator': 'stochastic8', 'barrier': 9}}}, 'order': {'single': {'upper': {'indicator': 'stochastic8', 'barrier': 65}, 'lower': {'indicator': 'stochastic32', 'barrier': 17}, 'best': {'type': 'upper', 'indicator': 'stochastic8', 'barrier': 65}}}}\n",
      "Key in forward opt json 05-11 - 12-month - mean - 105\n"
     ]
    },
    {
     "name": "stderr",
     "output_type": "stream",
     "text": [
      "\r",
      " 27%|██▋       | 271/996 [1:42:47<4:47:25, 23.79s/it]"
     ]
    },
    {
     "name": "stdout",
     "output_type": "stream",
     "text": [
      "05-11 - 12-month - mean\n",
      "{'mean': {'single': {'upper': {'indicator': 'ppo32', 'barrier': 5}, 'lower': {'indicator': 'adx16', 'barrier': 27}, 'best': {'type': 'upper', 'indicator': 'ppo32', 'barrier': 5}}}, 'order': {'single': {'upper': {'indicator': 'stochastic32', 'barrier': 38}, 'lower': {'indicator': 'adx8', 'barrier': 25}, 'best': {'type': 'upper', 'indicator': 'stochastic32', 'barrier': 38}}}}\n",
      "Key in forward opt json 05-11 - 12-month - order - 1509\n"
     ]
    },
    {
     "name": "stderr",
     "output_type": "stream",
     "text": [
      "\r",
      " 27%|██▋       | 272/996 [1:43:31<5:59:07, 29.76s/it]"
     ]
    },
    {
     "name": "stdout",
     "output_type": "stream",
     "text": [
      "05-11 - 12-month - order\n",
      "{'mean': {'single': {'upper': {'indicator': 'stochastic8', 'barrier': 6}, 'lower': {'indicator': 'adx16', 'barrier': 55}, 'best': {'type': 'upper', 'indicator': 'stochastic8', 'barrier': 6}}}, 'order': {'single': {'upper': {'indicator': 'ppo32', 'barrier': 15}, 'lower': {'indicator': 'stochastic8', 'barrier': 40}, 'best': {'type': 'upper', 'indicator': 'ppo32', 'barrier': 15}}}}\n"
     ]
    },
    {
     "name": "stderr",
     "output_type": "stream",
     "text": [
      "\r",
      " 27%|██▋       | 273/996 [1:43:51<5:23:15, 26.83s/it]"
     ]
    },
    {
     "name": "stdout",
     "output_type": "stream",
     "text": [
      "Key in forward opt json 05-12 - 6-month - mean - 38\n",
      "05-12 - 6-month - mean\n",
      "{'mean': {'single': {'upper': {'indicator': 'stochastic32', 'barrier': 6}, 'lower': {'indicator': 'adx16', 'barrier': 24}, 'best': {'type': 'upper', 'indicator': 'stochastic32', 'barrier': 6}}}, 'order': {'single': {'upper': {'indicator': 'stochastic16', 'barrier': 28}, 'lower': {'indicator': 'adx8', 'barrier': 22}, 'best': {'type': 'upper', 'indicator': 'stochastic16', 'barrier': 28}}}}\n",
      "Key in forward opt json 05-12 - 6-month - order - 711\n"
     ]
    },
    {
     "name": "stderr",
     "output_type": "stream",
     "text": [
      "\r",
      " 28%|██▊       | 274/996 [1:44:15<5:15:48, 26.24s/it]"
     ]
    },
    {
     "name": "stdout",
     "output_type": "stream",
     "text": [
      "05-12 - 6-month - order\n",
      "{'mean': {'single': {'upper': {'indicator': 'stochastic8', 'barrier': 9}, 'lower': {'indicator': 'ppo8', 'barrier': 32}, 'best': {'type': 'upper', 'indicator': 'stochastic8', 'barrier': 9}}}, 'order': {'single': {'upper': {'indicator': 'adx32', 'barrier': 33}, 'lower': {'indicator': 'stochastic32', 'barrier': 36}, 'best': {'type': 'upper', 'indicator': 'adx32', 'barrier': 33}}}}\n",
      "Key in forward opt json 05-12 - 12-month - mean - 105\n"
     ]
    },
    {
     "name": "stderr",
     "output_type": "stream",
     "text": [
      "\r",
      " 28%|██▊       | 275/996 [1:44:35<4:51:37, 24.27s/it]"
     ]
    },
    {
     "name": "stdout",
     "output_type": "stream",
     "text": [
      "05-12 - 12-month - mean\n",
      "{'mean': {'single': {'upper': {'indicator': 'stochastic16', 'barrier': 4}, 'lower': {'indicator': 'ppo32', 'barrier': 17}, 'best': {'type': 'upper', 'indicator': 'stochastic16', 'barrier': 4}}}, 'order': {'single': {'upper': {'indicator': 'stochastic32', 'barrier': 38}, 'lower': {'indicator': 'adx8', 'barrier': 25}, 'best': {'type': 'upper', 'indicator': 'stochastic32', 'barrier': 38}}}}\n",
      "Key in forward opt json 05-12 - 12-month - order - 1493\n"
     ]
    },
    {
     "name": "stderr",
     "output_type": "stream",
     "text": [
      "\r",
      " 28%|██▊       | 276/996 [1:45:15<5:48:28, 29.04s/it]"
     ]
    },
    {
     "name": "stdout",
     "output_type": "stream",
     "text": [
      "05-12 - 12-month - order\n",
      "{'mean': {'single': {'upper': {'indicator': 'stochastic8', 'barrier': 6}, 'lower': {'indicator': 'ppo32', 'barrier': 25}, 'best': {'type': 'upper', 'indicator': 'stochastic8', 'barrier': 6}}}, 'order': {'single': {'upper': {'indicator': 'ppo32', 'barrier': 35}, 'lower': {'indicator': 'stochastic32', 'barrier': 9}, 'best': {'type': 'upper', 'indicator': 'ppo32', 'barrier': 35}}}}\n"
     ]
    },
    {
     "name": "stderr",
     "output_type": "stream",
     "text": [
      "\r",
      " 28%|██▊       | 277/996 [1:45:35<5:14:22, 26.23s/it]"
     ]
    },
    {
     "name": "stdout",
     "output_type": "stream",
     "text": [
      "Key in forward opt json 06-01 - 6-month - mean - 22\n",
      "06-01 - 6-month - mean\n",
      "{'mean': {'single': {'upper': {'indicator': 'stochastic8', 'barrier': 8}, 'lower': {'indicator': 'ppo16', 'barrier': 8}, 'best': {'type': 'upper', 'indicator': 'stochastic8', 'barrier': 8}}}, 'order': {'single': {'upper': {'indicator': 'adx16', 'barrier': 29}, 'lower': {'indicator': 'adx8', 'barrier': 22}, 'best': {'type': 'upper', 'indicator': 'adx16', 'barrier': 29}}}}\n",
      "Key in forward opt json 06-01 - 6-month - order - 726\n"
     ]
    },
    {
     "name": "stderr",
     "output_type": "stream",
     "text": [
      "\r",
      " 28%|██▊       | 278/996 [1:45:59<5:06:03, 25.58s/it]"
     ]
    },
    {
     "name": "stdout",
     "output_type": "stream",
     "text": [
      "06-01 - 6-month - order\n",
      "{'mean': {'single': {'upper': {'indicator': 'stochastic8', 'barrier': 15}, 'lower': {'indicator': 'ppo32', 'barrier': 27}, 'best': {'type': 'upper', 'indicator': 'stochastic8', 'barrier': 15}}}, 'order': {'single': {'upper': {'indicator': 'adx32', 'barrier': 21}, 'lower': {'indicator': 'stochastic32', 'barrier': 22}, 'best': {'type': 'upper', 'indicator': 'adx32', 'barrier': 21}}}}\n",
      "Key in forward opt json 06-01 - 12-month - mean - 105\n"
     ]
    },
    {
     "name": "stderr",
     "output_type": "stream",
     "text": [
      "\r",
      " 28%|██▊       | 279/996 [1:46:18<4:43:01, 23.68s/it]"
     ]
    },
    {
     "name": "stdout",
     "output_type": "stream",
     "text": [
      "06-01 - 12-month - mean\n",
      "{'mean': {'single': {'upper': {'indicator': 'ppo32', 'barrier': 5}, 'lower': {'indicator': 'ppo32', 'barrier': 17}, 'best': {'type': 'upper', 'indicator': 'ppo32', 'barrier': 5}}}, 'order': {'single': {'upper': {'indicator': 'stochastic32', 'barrier': 37}, 'lower': {'indicator': 'adx8', 'barrier': 25}, 'best': {'type': 'upper', 'indicator': 'stochastic32', 'barrier': 37}}}}\n",
      "Key in forward opt json 06-01 - 12-month - order - 1497\n"
     ]
    },
    {
     "name": "stderr",
     "output_type": "stream",
     "text": [
      "\r",
      " 28%|██▊       | 280/996 [1:47:01<5:50:45, 29.39s/it]"
     ]
    },
    {
     "name": "stdout",
     "output_type": "stream",
     "text": [
      "06-01 - 12-month - order\n",
      "{'mean': {'single': {'upper': {'indicator': 'stochastic8', 'barrier': 6}, 'lower': {'indicator': 'ppo32', 'barrier': 20}, 'best': {'type': 'upper', 'indicator': 'stochastic8', 'barrier': 6}}}, 'order': {'single': {'upper': {'indicator': 'adx16', 'barrier': 35}, 'lower': {'indicator': 'ppo16', 'barrier': 8}, 'best': {'type': 'upper', 'indicator': 'adx16', 'barrier': 35}}}}\n"
     ]
    },
    {
     "name": "stderr",
     "output_type": "stream",
     "text": [
      "\r",
      " 28%|██▊       | 281/996 [1:47:20<5:13:06, 26.28s/it]"
     ]
    },
    {
     "name": "stdout",
     "output_type": "stream",
     "text": [
      "Key in forward opt json 06-02 - 6-month - mean - 26\n",
      "06-02 - 6-month - mean\n",
      "{'mean': {'single': {'upper': {'indicator': 'stochastic8', 'barrier': 10}, 'lower': {'indicator': 'ppo16', 'barrier': 8}, 'best': {'type': 'upper', 'indicator': 'stochastic8', 'barrier': 10}}}, 'order': {'single': {'upper': {'indicator': 'adx8', 'barrier': 52}, 'lower': {'indicator': 'adx8', 'barrier': 30}, 'best': {'type': 'upper', 'indicator': 'adx8', 'barrier': 52}}}}\n",
      "Key in forward opt json 06-02 - 6-month - order - 736\n"
     ]
    },
    {
     "name": "stderr",
     "output_type": "stream",
     "text": [
      "\r",
      " 28%|██▊       | 282/996 [1:47:44<5:05:11, 25.65s/it]"
     ]
    },
    {
     "name": "stdout",
     "output_type": "stream",
     "text": [
      "06-02 - 6-month - order\n",
      "{'mean': {'single': {'upper': {'indicator': 'stochastic8', 'barrier': 10}, 'lower': {'indicator': 'ppo32', 'barrier': 20}, 'best': {'type': 'upper', 'indicator': 'stochastic8', 'barrier': 10}}}, 'order': {'single': {'upper': {'indicator': 'stochastic32', 'barrier': 63}, 'lower': {'indicator': 'stochastic16', 'barrier': 12}, 'best': {'type': 'upper', 'indicator': 'stochastic32', 'barrier': 63}}}}\n",
      "Key in forward opt json 06-02 - 12-month - mean - 63\n"
     ]
    },
    {
     "name": "stderr",
     "output_type": "stream",
     "text": [
      "\r",
      " 28%|██▊       | 283/996 [1:48:04<4:42:58, 23.81s/it]"
     ]
    },
    {
     "name": "stdout",
     "output_type": "stream",
     "text": [
      "06-02 - 12-month - mean\n",
      "{'mean': {'single': {'upper': {'indicator': 'stochastic32', 'barrier': 5}, 'lower': {'indicator': 'adx16', 'barrier': 26}, 'best': {'type': 'upper', 'indicator': 'stochastic32', 'barrier': 5}}}, 'order': {'single': {'upper': {'indicator': 'stochastic16', 'barrier': 25}, 'lower': {'indicator': 'adx32', 'barrier': 10}, 'best': {'type': 'upper', 'indicator': 'stochastic16', 'barrier': 25}}}}\n",
      "Key in forward opt json 06-02 - 12-month - order - 1498\n"
     ]
    },
    {
     "name": "stderr",
     "output_type": "stream",
     "text": [
      "\r",
      " 29%|██▊       | 284/996 [1:48:47<5:50:14, 29.51s/it]"
     ]
    },
    {
     "name": "stdout",
     "output_type": "stream",
     "text": [
      "06-02 - 12-month - order\n",
      "{'mean': {'single': {'upper': {'indicator': 'stochastic8', 'barrier': 6}, 'lower': {'indicator': 'ppo32', 'barrier': 18}, 'best': {'type': 'upper', 'indicator': 'stochastic8', 'barrier': 6}}}, 'order': {'single': {'upper': {'indicator': 'stochastic16', 'barrier': 87}, 'lower': {'indicator': 'stochastic8', 'barrier': 50}, 'best': {'type': 'upper', 'indicator': 'stochastic16', 'barrier': 87}}}}\n"
     ]
    },
    {
     "name": "stderr",
     "output_type": "stream",
     "text": [
      "\r",
      " 29%|██▊       | 285/996 [1:49:06<5:12:53, 26.40s/it]"
     ]
    },
    {
     "name": "stdout",
     "output_type": "stream",
     "text": [
      "Key in forward opt json 06-03 - 6-month - mean - 23\n",
      "06-03 - 6-month - mean\n",
      "{'mean': {'single': {'upper': {'indicator': 'stochastic32', 'barrier': 13}, 'lower': {'indicator': 'stochastic8', 'barrier': 6}, 'best': {'type': 'upper', 'indicator': 'stochastic32', 'barrier': 13}}}, 'order': {'single': {'upper': {'indicator': 'adx8', 'barrier': 50}, 'lower': {'indicator': 'adx8', 'barrier': 24}, 'best': {'type': 'upper', 'indicator': 'adx8', 'barrier': 50}}}}\n",
      "Key in forward opt json 06-03 - 6-month - order - 744\n"
     ]
    },
    {
     "name": "stderr",
     "output_type": "stream",
     "text": [
      "\r",
      " 29%|██▊       | 286/996 [1:49:30<5:05:51, 25.85s/it]"
     ]
    },
    {
     "name": "stdout",
     "output_type": "stream",
     "text": [
      "06-03 - 6-month - order\n",
      "{'mean': {'single': {'upper': {'indicator': 'stochastic8', 'barrier': 18}, 'lower': {'indicator': 'ppo32', 'barrier': 21}, 'best': {'type': 'upper', 'indicator': 'stochastic8', 'barrier': 18}}}, 'order': {'single': {'upper': {'indicator': 'ppo32', 'barrier': 25}, 'lower': {'indicator': 'stochastic32', 'barrier': 57}, 'best': {'type': 'upper', 'indicator': 'ppo32', 'barrier': 25}}}}\n",
      "Key in forward opt json 06-03 - 12-month - mean - 62\n"
     ]
    },
    {
     "name": "stderr",
     "output_type": "stream",
     "text": [
      "\r",
      " 29%|██▉       | 287/996 [1:49:49<4:39:53, 23.69s/it]"
     ]
    },
    {
     "name": "stdout",
     "output_type": "stream",
     "text": [
      "06-03 - 12-month - mean\n",
      "{'mean': {'single': {'upper': {'indicator': 'stochastic32', 'barrier': 5}, 'lower': {'indicator': 'adx16', 'barrier': 25}, 'best': {'type': 'upper', 'indicator': 'stochastic32', 'barrier': 5}}}, 'order': {'single': {'upper': {'indicator': 'stochastic16', 'barrier': 25}, 'lower': {'indicator': 'adx8', 'barrier': 23}, 'best': {'type': 'upper', 'indicator': 'stochastic16', 'barrier': 25}}}}\n",
      "Key in forward opt json 06-03 - 12-month - order - 1495\n"
     ]
    },
    {
     "name": "stderr",
     "output_type": "stream",
     "text": [
      "\r",
      " 29%|██▉       | 288/996 [1:50:28<5:32:29, 28.18s/it]"
     ]
    },
    {
     "name": "stdout",
     "output_type": "stream",
     "text": [
      "06-03 - 12-month - order\n",
      "{'mean': {'single': {'upper': {'indicator': 'stochastic8', 'barrier': 9}, 'lower': {'indicator': 'ppo32', 'barrier': 14}, 'best': {'type': 'upper', 'indicator': 'stochastic8', 'barrier': 9}}}, 'order': {'single': {'upper': {'indicator': 'adx8', 'barrier': 30}, 'lower': {'indicator': 'adx8', 'barrier': 12}, 'best': {'type': 'upper', 'indicator': 'adx8', 'barrier': 30}}}}\n"
     ]
    },
    {
     "name": "stderr",
     "output_type": "stream",
     "text": [
      "\r",
      " 29%|██▉       | 289/996 [1:50:45<4:53:34, 24.92s/it]"
     ]
    },
    {
     "name": "stdout",
     "output_type": "stream",
     "text": [
      "Key in forward opt json 06-04 - 6-month - mean - 22\n",
      "06-04 - 6-month - mean\n",
      "{'mean': {'single': {'upper': {'indicator': 'stochastic32', 'barrier': 9}, 'lower': {'indicator': 'stochastic8', 'barrier': 6}, 'best': {'type': 'upper', 'indicator': 'stochastic32', 'barrier': 9}}}, 'order': {'single': {'upper': {'indicator': 'adx8', 'barrier': 48}, 'lower': {'indicator': 'adx8', 'barrier': 24}, 'best': {'type': 'upper', 'indicator': 'adx8', 'barrier': 48}}}}\n",
      "Key in forward opt json 06-04 - 6-month - order - 775\n"
     ]
    },
    {
     "name": "stderr",
     "output_type": "stream",
     "text": [
      "\r",
      " 29%|██▉       | 290/996 [1:51:08<4:47:05, 24.40s/it]"
     ]
    },
    {
     "name": "stdout",
     "output_type": "stream",
     "text": [
      "06-04 - 6-month - order\n",
      "{'mean': {'single': {'upper': {'indicator': 'stochastic16', 'barrier': 11}, 'lower': {'indicator': 'ppo32', 'barrier': 23}, 'best': {'type': 'upper', 'indicator': 'stochastic16', 'barrier': 11}}}, 'order': {'single': {'upper': {'indicator': 'stochastic16', 'barrier': 93}, 'lower': {'indicator': 'ppo32', 'barrier': -3}, 'best': {'type': 'upper', 'indicator': 'stochastic16', 'barrier': 93}}}}\n",
      "Key in forward opt json 06-04 - 12-month - mean - 58\n"
     ]
    },
    {
     "name": "stderr",
     "output_type": "stream",
     "text": [
      "\r",
      " 29%|██▉       | 291/996 [1:51:25<4:20:29, 22.17s/it]"
     ]
    },
    {
     "name": "stdout",
     "output_type": "stream",
     "text": [
      "06-04 - 12-month - mean\n",
      "{'mean': {'single': {'upper': {'indicator': 'stochastic32', 'barrier': 5}, 'lower': {'indicator': 'adx16', 'barrier': 25}, 'best': {'type': 'upper', 'indicator': 'stochastic32', 'barrier': 5}}}, 'order': {'single': {'upper': {'indicator': 'stochastic8', 'barrier': 32}, 'lower': {'indicator': 'adx8', 'barrier': 23}, 'best': {'type': 'upper', 'indicator': 'stochastic8', 'barrier': 32}}}}\n",
      "Key in forward opt json 06-04 - 12-month - order - 1487\n"
     ]
    },
    {
     "name": "stderr",
     "output_type": "stream",
     "text": [
      "\r",
      " 29%|██▉       | 292/996 [1:52:02<5:12:37, 26.64s/it]"
     ]
    },
    {
     "name": "stdout",
     "output_type": "stream",
     "text": [
      "06-04 - 12-month - order\n",
      "{'mean': {'single': {'upper': {'indicator': 'stochastic8', 'barrier': 9}, 'lower': {'indicator': 'ppo32', 'barrier': 20}, 'best': {'type': 'upper', 'indicator': 'stochastic8', 'barrier': 9}}}, 'order': {'single': {'upper': {'indicator': 'adx8', 'barrier': 28}, 'lower': {'indicator': 'adx32', 'barrier': 17}, 'best': {'type': 'upper', 'indicator': 'adx8', 'barrier': 28}}}}\n"
     ]
    },
    {
     "name": "stderr",
     "output_type": "stream",
     "text": [
      "\r",
      " 29%|██▉       | 293/996 [1:52:19<4:38:12, 23.74s/it]"
     ]
    },
    {
     "name": "stdout",
     "output_type": "stream",
     "text": [
      "Key in forward opt json 06-05 - 6-month - mean - 17\n",
      "06-05 - 6-month - mean\n",
      "{'mean': {'single': {'upper': {'indicator': 'adx32', 'barrier': 21}, 'lower': {'indicator': 'adx8', 'barrier': 33}, 'best': {'type': 'upper', 'indicator': 'adx32', 'barrier': 21}}}, 'order': {'single': {'upper': {'indicator': 'stochastic32', 'barrier': 19}, 'lower': {'indicator': 'adx8', 'barrier': 23}, 'best': {'type': 'upper', 'indicator': 'stochastic32', 'barrier': 19}}}}\n",
      "Key in forward opt json 06-05 - 6-month - order - 770\n"
     ]
    },
    {
     "name": "stderr",
     "output_type": "stream",
     "text": [
      "\r",
      " 30%|██▉       | 294/996 [1:52:41<4:33:04, 23.34s/it]"
     ]
    },
    {
     "name": "stdout",
     "output_type": "stream",
     "text": [
      "06-05 - 6-month - order\n",
      "{'mean': {'single': {'upper': {'indicator': 'stochastic16', 'barrier': 11}, 'lower': {'indicator': 'ppo32', 'barrier': 17}, 'best': {'type': 'upper', 'indicator': 'stochastic16', 'barrier': 11}}}, 'order': {'single': {'upper': {'indicator': 'ppo8', 'barrier': 15}, 'lower': {'indicator': 'stochastic32', 'barrier': 73}, 'best': {'type': 'upper', 'indicator': 'ppo8', 'barrier': 15}}}}\n",
      "Key in forward opt json 06-05 - 12-month - mean - 48\n"
     ]
    },
    {
     "name": "stderr",
     "output_type": "stream",
     "text": [
      "\r",
      " 30%|██▉       | 295/996 [1:52:59<4:11:10, 21.50s/it]"
     ]
    },
    {
     "name": "stdout",
     "output_type": "stream",
     "text": [
      "06-05 - 12-month - mean\n",
      "{'mean': {'single': {'upper': {'indicator': 'stochastic32', 'barrier': 5}, 'lower': {'indicator': 'adx16', 'barrier': 25}, 'best': {'type': 'upper', 'indicator': 'stochastic32', 'barrier': 5}}}, 'order': {'single': {'upper': {'indicator': 'stochastic16', 'barrier': 21}, 'lower': {'indicator': 'adx8', 'barrier': 23}, 'best': {'type': 'upper', 'indicator': 'stochastic16', 'barrier': 21}}}}\n",
      "Key in forward opt json 06-05 - 12-month - order - 1474\n"
     ]
    },
    {
     "name": "stderr",
     "output_type": "stream",
     "text": [
      "\r",
      " 30%|██▉       | 296/996 [1:53:35<5:03:36, 26.02s/it]"
     ]
    },
    {
     "name": "stdout",
     "output_type": "stream",
     "text": [
      "06-05 - 12-month - order\n",
      "{'mean': {'single': {'upper': {'indicator': 'stochastic8', 'barrier': 9}, 'lower': {'indicator': 'ppo32', 'barrier': 18}, 'best': {'type': 'upper', 'indicator': 'stochastic8', 'barrier': 9}}}, 'order': {'single': {'upper': {'indicator': 'stochastic8', 'barrier': 73}, 'lower': {'indicator': 'stochastic32', 'barrier': 63}, 'best': {'type': 'upper', 'indicator': 'stochastic8', 'barrier': 73}}}}\n",
      "Key in forward opt json 06-06 - 6-month - mean - 31\n"
     ]
    },
    {
     "name": "stderr",
     "output_type": "stream",
     "text": [
      "\r",
      " 30%|██▉       | 297/996 [1:53:53<4:33:53, 23.51s/it]"
     ]
    },
    {
     "name": "stdout",
     "output_type": "stream",
     "text": [
      "06-06 - 6-month - mean\n",
      "{'mean': {'single': {'upper': {'indicator': 'stochastic32', 'barrier': 7}, 'lower': {'indicator': 'adx8', 'barrier': 39}, 'best': {'type': 'upper', 'indicator': 'stochastic32', 'barrier': 7}}}, 'order': {'single': {'upper': {'indicator': 'stochastic8', 'barrier': 25}, 'lower': {'indicator': 'adx8', 'barrier': 23}, 'best': {'type': 'upper', 'indicator': 'stochastic8', 'barrier': 25}}}}\n",
      "Key in forward opt json 06-06 - 6-month - order - 596\n"
     ]
    },
    {
     "name": "stderr",
     "output_type": "stream",
     "text": [
      "\r",
      " 30%|██▉       | 298/996 [1:54:14<4:25:35, 22.83s/it]"
     ]
    },
    {
     "name": "stdout",
     "output_type": "stream",
     "text": [
      "06-06 - 6-month - order\n",
      "{'mean': {'single': {'upper': {'indicator': 'stochastic32', 'barrier': 12}, 'lower': {'indicator': 'ppo32', 'barrier': 17}, 'best': {'type': 'upper', 'indicator': 'stochastic32', 'barrier': 12}}}, 'order': {'single': {'upper': {'indicator': 'stochastic8', 'barrier': 50}, 'lower': {'indicator': 'ppo8', 'barrier': 0}, 'best': {'type': 'upper', 'indicator': 'stochastic8', 'barrier': 50}}}}\n",
      "Key in forward opt json 06-06 - 12-month - mean - 78\n"
     ]
    },
    {
     "name": "stderr",
     "output_type": "stream",
     "text": [
      "\r",
      " 30%|███       | 299/996 [1:54:32<4:07:16, 21.29s/it]"
     ]
    },
    {
     "name": "stdout",
     "output_type": "stream",
     "text": [
      "06-06 - 12-month - mean\n",
      "{'mean': {'single': {'upper': {'indicator': 'stochastic32', 'barrier': 5}, 'lower': {'indicator': 'adx16', 'barrier': 27}, 'best': {'type': 'upper', 'indicator': 'stochastic32', 'barrier': 5}}}, 'order': {'single': {'upper': {'indicator': 'stochastic16', 'barrier': 19}, 'lower': {'indicator': 'adx8', 'barrier': 23}, 'best': {'type': 'upper', 'indicator': 'stochastic16', 'barrier': 19}}}}\n",
      "Key in forward opt json 06-06 - 12-month - order - 1477\n"
     ]
    },
    {
     "name": "stderr",
     "output_type": "stream",
     "text": [
      "\r",
      " 30%|███       | 300/996 [1:55:09<5:02:37, 26.09s/it]"
     ]
    },
    {
     "name": "stdout",
     "output_type": "stream",
     "text": [
      "06-06 - 12-month - order\n",
      "{'mean': {'single': {'upper': {'indicator': 'stochastic8', 'barrier': 10}, 'lower': {'indicator': 'adx16', 'barrier': 45}, 'best': {'type': 'upper', 'indicator': 'stochastic8', 'barrier': 10}}}, 'order': {'single': {'upper': {'indicator': 'stochastic16', 'barrier': 93}, 'lower': {'indicator': 'ppo32', 'barrier': -2}, 'best': {'type': 'upper', 'indicator': 'stochastic16', 'barrier': 93}}}}\n",
      "Key in forward opt json 06-07 - 6-month - mean - 40\n"
     ]
    },
    {
     "name": "stderr",
     "output_type": "stream",
     "text": [
      "\r",
      " 30%|███       | 301/996 [1:55:27<4:32:22, 23.51s/it]"
     ]
    },
    {
     "name": "stdout",
     "output_type": "stream",
     "text": [
      "06-07 - 6-month - mean\n",
      "{'mean': {'single': {'upper': {'indicator': 'stochastic32', 'barrier': 7}, 'lower': {'indicator': 'ppo32', 'barrier': 10}, 'best': {'type': 'upper', 'indicator': 'stochastic32', 'barrier': 7}}}, 'order': {'single': {'upper': {'indicator': 'stochastic8', 'barrier': 24}, 'lower': {'indicator': 'adx8', 'barrier': 23}, 'best': {'type': 'upper', 'indicator': 'stochastic8', 'barrier': 24}}}}\n",
      "Key in forward opt json 06-07 - 6-month - order - 550\n"
     ]
    },
    {
     "name": "stderr",
     "output_type": "stream",
     "text": [
      "\r",
      " 30%|███       | 302/996 [1:55:47<4:21:07, 22.58s/it]"
     ]
    },
    {
     "name": "stdout",
     "output_type": "stream",
     "text": [
      "06-07 - 6-month - order\n",
      "{'mean': {'single': {'upper': {'indicator': 'stochastic32', 'barrier': 12}, 'lower': {'indicator': 'adx16', 'barrier': 38}, 'best': {'type': 'upper', 'indicator': 'stochastic32', 'barrier': 12}}}, 'order': {'single': {'upper': {'indicator': 'stochastic8', 'barrier': 41}, 'lower': {'indicator': 'ppo8', 'barrier': 0}, 'best': {'type': 'upper', 'indicator': 'stochastic8', 'barrier': 41}}}}\n",
      "Key in forward opt json 06-07 - 12-month - mean - 67\n"
     ]
    },
    {
     "name": "stderr",
     "output_type": "stream",
     "text": [
      "\r",
      " 30%|███       | 303/996 [1:56:05<4:03:41, 21.10s/it]"
     ]
    },
    {
     "name": "stdout",
     "output_type": "stream",
     "text": [
      "06-07 - 12-month - mean\n",
      "{'mean': {'single': {'upper': {'indicator': 'stochastic32', 'barrier': 5}, 'lower': {'indicator': 'ppo32', 'barrier': 12}, 'best': {'type': 'upper', 'indicator': 'stochastic32', 'barrier': 5}}}, 'order': {'single': {'upper': {'indicator': 'stochastic8', 'barrier': 34}, 'lower': {'indicator': 'adx8', 'barrier': 23}, 'best': {'type': 'upper', 'indicator': 'stochastic8', 'barrier': 34}}}}\n",
      "Key in forward opt json 06-07 - 12-month - order - 1453\n"
     ]
    },
    {
     "name": "stderr",
     "output_type": "stream",
     "text": [
      "\r",
      " 31%|███       | 304/996 [1:56:41<4:56:12, 25.68s/it]"
     ]
    },
    {
     "name": "stdout",
     "output_type": "stream",
     "text": [
      "06-07 - 12-month - order\n",
      "{'mean': {'single': {'upper': {'indicator': 'stochastic16', 'barrier': 11}, 'lower': {'indicator': 'stochastic16', 'barrier': 91}, 'best': {'type': 'upper', 'indicator': 'stochastic16', 'barrier': 11}}}, 'order': {'single': {'upper': {'indicator': 'stochastic16', 'barrier': 75}, 'lower': {'indicator': 'stochastic16', 'barrier': 19}, 'best': {'type': 'upper', 'indicator': 'stochastic16', 'barrier': 75}}}}\n",
      "Key in forward opt json 06-08 - 6-month - mean - 36\n"
     ]
    },
    {
     "name": "stderr",
     "output_type": "stream",
     "text": [
      "\r",
      " 31%|███       | 305/996 [1:56:58<4:24:29, 22.97s/it]"
     ]
    },
    {
     "name": "stdout",
     "output_type": "stream",
     "text": [
      "06-08 - 6-month - mean\n",
      "{'mean': {'single': {'upper': {'indicator': 'stochastic32', 'barrier': 6}, 'lower': {'indicator': 'ppo32', 'barrier': 10}, 'best': {'type': 'upper', 'indicator': 'stochastic32', 'barrier': 6}}}, 'order': {'single': {'upper': {'indicator': 'stochastic8', 'barrier': 30}, 'lower': {'indicator': 'adx8', 'barrier': 23}, 'best': {'type': 'upper', 'indicator': 'stochastic8', 'barrier': 30}}}}\n",
      "Key in forward opt json 06-08 - 6-month - order - 745\n"
     ]
    },
    {
     "name": "stderr",
     "output_type": "stream",
     "text": [
      "\r",
      " 31%|███       | 306/996 [1:57:20<4:20:24, 22.64s/it]"
     ]
    },
    {
     "name": "stdout",
     "output_type": "stream",
     "text": [
      "06-08 - 6-month - order\n",
      "{'mean': {'single': {'upper': {'indicator': 'stochastic32', 'barrier': 11}, 'lower': {'indicator': 'adx16', 'barrier': 43}, 'best': {'type': 'upper', 'indicator': 'stochastic32', 'barrier': 11}}}, 'order': {'single': {'upper': {'indicator': 'stochastic16', 'barrier': 39}, 'lower': {'indicator': 'stochastic16', 'barrier': 27}, 'best': {'type': 'upper', 'indicator': 'stochastic16', 'barrier': 39}}}}\n",
      "Key in forward opt json 06-08 - 12-month - mean - 57\n"
     ]
    },
    {
     "name": "stderr",
     "output_type": "stream",
     "text": [
      "\r",
      " 31%|███       | 307/996 [1:57:36<4:00:14, 20.92s/it]"
     ]
    },
    {
     "name": "stdout",
     "output_type": "stream",
     "text": [
      "06-08 - 12-month - mean\n",
      "{'mean': {'single': {'upper': {'indicator': 'stochastic32', 'barrier': 13}, 'lower': {'indicator': 'ppo32', 'barrier': 12}, 'best': {'type': 'upper', 'indicator': 'stochastic32', 'barrier': 13}}}, 'order': {'single': {'upper': {'indicator': 'stochastic8', 'barrier': 34}, 'lower': {'indicator': 'adx8', 'barrier': 23}, 'best': {'type': 'upper', 'indicator': 'stochastic8', 'barrier': 34}}}}\n",
      "Key in forward opt json 06-08 - 12-month - order - 1504\n"
     ]
    },
    {
     "name": "stderr",
     "output_type": "stream",
     "text": [
      "\r",
      " 31%|███       | 308/996 [1:58:13<4:53:46, 25.62s/it]"
     ]
    },
    {
     "name": "stdout",
     "output_type": "stream",
     "text": [
      "06-08 - 12-month - order\n",
      "{'mean': {'single': {'upper': {'indicator': 'stochastic8', 'barrier': 12}, 'lower': {'indicator': 'stochastic32', 'barrier': 91}, 'best': {'type': 'upper', 'indicator': 'stochastic8', 'barrier': 12}}}, 'order': {'single': {'upper': {'indicator': 'stochastic16', 'barrier': 69}, 'lower': {'indicator': 'adx16', 'barrier': 15}, 'best': {'type': 'upper', 'indicator': 'stochastic16', 'barrier': 69}}}}\n",
      "Key in forward opt json 06-09 - 6-month - mean - 32\n"
     ]
    },
    {
     "name": "stderr",
     "output_type": "stream",
     "text": [
      "\r",
      " 31%|███       | 309/996 [1:58:31<4:26:54, 23.31s/it]"
     ]
    },
    {
     "name": "stdout",
     "output_type": "stream",
     "text": [
      "06-09 - 6-month - mean\n",
      "{'mean': {'single': {'upper': {'indicator': 'stochastic8', 'barrier': 14}, 'lower': {'indicator': 'ppo32', 'barrier': 10}, 'best': {'type': 'upper', 'indicator': 'stochastic8', 'barrier': 14}}}, 'order': {'single': {'upper': {'indicator': 'stochastic8', 'barrier': 30}, 'lower': {'indicator': 'adx16', 'barrier': 18}, 'best': {'type': 'upper', 'indicator': 'stochastic8', 'barrier': 30}}}}\n",
      "Key in forward opt json 06-09 - 6-month - order - 731\n"
     ]
    },
    {
     "name": "stderr",
     "output_type": "stream",
     "text": [
      "\r",
      " 31%|███       | 310/996 [1:58:54<4:24:25, 23.13s/it]"
     ]
    },
    {
     "name": "stdout",
     "output_type": "stream",
     "text": [
      "06-09 - 6-month - order\n",
      "{'mean': {'single': {'upper': {'indicator': 'stochastic32', 'barrier': 11}, 'lower': {'indicator': 'ppo32', 'barrier': 29}, 'best': {'type': 'upper', 'indicator': 'stochastic32', 'barrier': 11}}}, 'order': {'single': {'upper': {'indicator': 'ppo8', 'barrier': 19}, 'lower': {'indicator': 'stochastic16', 'barrier': 35}, 'best': {'type': 'upper', 'indicator': 'ppo8', 'barrier': 19}}}}\n",
      "Key in forward opt json 06-09 - 12-month - mean - 60\n"
     ]
    },
    {
     "name": "stderr",
     "output_type": "stream",
     "text": [
      "\r",
      " 31%|███       | 311/996 [1:59:12<4:08:28, 21.76s/it]"
     ]
    },
    {
     "name": "stdout",
     "output_type": "stream",
     "text": [
      "06-09 - 12-month - mean\n",
      "{'mean': {'single': {'upper': {'indicator': 'stochastic32', 'barrier': 5}, 'lower': {'indicator': 'ppo32', 'barrier': 10}, 'best': {'type': 'upper', 'indicator': 'stochastic32', 'barrier': 5}}}, 'order': {'single': {'upper': {'indicator': 'stochastic8', 'barrier': 34}, 'lower': {'indicator': 'adx8', 'barrier': 23}, 'best': {'type': 'upper', 'indicator': 'stochastic8', 'barrier': 34}}}}\n",
      "Key in forward opt json 06-09 - 12-month - order - 1451\n"
     ]
    },
    {
     "name": "stderr",
     "output_type": "stream",
     "text": [
      "\r",
      " 31%|███▏      | 312/996 [1:59:52<5:11:05, 27.29s/it]"
     ]
    },
    {
     "name": "stdout",
     "output_type": "stream",
     "text": [
      "06-09 - 12-month - order\n",
      "{'mean': {'single': {'upper': {'indicator': 'ppo32', 'barrier': -2}, 'lower': {'indicator': 'stochastic16', 'barrier': 91}, 'best': {'type': 'upper', 'indicator': 'ppo32', 'barrier': -2}}}, 'order': {'single': {'upper': {'indicator': 'stochastic16', 'barrier': 75}, 'lower': {'indicator': 'ppo32', 'barrier': 6}, 'best': {'type': 'upper', 'indicator': 'stochastic16', 'barrier': 75}}}}\n",
      "Key in forward opt json 06-10 - 6-month - mean - 32\n"
     ]
    },
    {
     "name": "stderr",
     "output_type": "stream",
     "text": [
      "\r",
      " 31%|███▏      | 313/996 [2:00:13<4:47:00, 25.21s/it]"
     ]
    },
    {
     "name": "stdout",
     "output_type": "stream",
     "text": [
      "06-10 - 6-month - mean\n",
      "{'mean': {'single': {'upper': {'indicator': 'stochastic8', 'barrier': 20}, 'lower': {'indicator': 'ppo32', 'barrier': 8}, 'best': {'type': 'upper', 'indicator': 'stochastic8', 'barrier': 20}}}, 'order': {'single': {'upper': {'indicator': 'stochastic8', 'barrier': 30}, 'lower': {'indicator': 'adx8', 'barrier': 21}, 'best': {'type': 'upper', 'indicator': 'stochastic8', 'barrier': 30}}}}\n",
      "Key in forward opt json 06-10 - 6-month - order - 701\n"
     ]
    },
    {
     "name": "stderr",
     "output_type": "stream",
     "text": [
      "\r",
      " 32%|███▏      | 314/996 [2:00:38<4:45:59, 25.16s/it]"
     ]
    },
    {
     "name": "stdout",
     "output_type": "stream",
     "text": [
      "06-10 - 6-month - order\n",
      "{'mean': {'single': {'upper': {'indicator': 'stochastic32', 'barrier': 11}, 'lower': {'indicator': 'adx16', 'barrier': 43}, 'best': {'type': 'upper', 'indicator': 'stochastic32', 'barrier': 11}}}, 'order': {'single': {'upper': {'indicator': 'adx8', 'barrier': 39}, 'lower': {'indicator': 'adx8', 'barrier': 19}, 'best': {'type': 'upper', 'indicator': 'adx8', 'barrier': 39}}}}\n",
      "Key in forward opt json 06-10 - 12-month - mean - 60\n"
     ]
    },
    {
     "name": "stderr",
     "output_type": "stream",
     "text": [
      "\r",
      " 32%|███▏      | 315/996 [2:00:58<4:27:21, 23.56s/it]"
     ]
    },
    {
     "name": "stdout",
     "output_type": "stream",
     "text": [
      "06-10 - 12-month - mean\n",
      "{'mean': {'single': {'upper': {'indicator': 'stochastic32', 'barrier': 5}, 'lower': {'indicator': 'adx16', 'barrier': 27}, 'best': {'type': 'upper', 'indicator': 'stochastic32', 'barrier': 5}}}, 'order': {'single': {'upper': {'indicator': 'stochastic8', 'barrier': 34}, 'lower': {'indicator': 'adx8', 'barrier': 23}, 'best': {'type': 'upper', 'indicator': 'stochastic8', 'barrier': 34}}}}\n",
      "Key in forward opt json 06-10 - 12-month - order - 1465\n"
     ]
    },
    {
     "name": "stderr",
     "output_type": "stream",
     "text": [
      "\r",
      " 32%|███▏      | 316/996 [2:01:39<5:28:32, 28.99s/it]"
     ]
    },
    {
     "name": "stdout",
     "output_type": "stream",
     "text": [
      "06-10 - 12-month - order\n",
      "{'mean': {'single': {'upper': {'indicator': 'ppo32', 'barrier': -2}, 'lower': {'indicator': 'stochastic32', 'barrier': 91}, 'best': {'type': 'upper', 'indicator': 'ppo32', 'barrier': -2}}}, 'order': {'single': {'upper': {'indicator': 'ppo32', 'barrier': 32}, 'lower': {'indicator': 'adx16', 'barrier': 17}, 'best': {'type': 'upper', 'indicator': 'ppo32', 'barrier': 32}}}}\n",
      "Key in forward opt json 06-11 - 6-month - mean - 36\n"
     ]
    },
    {
     "name": "stderr",
     "output_type": "stream",
     "text": [
      "\r",
      " 32%|███▏      | 317/996 [2:02:00<4:58:27, 26.37s/it]"
     ]
    },
    {
     "name": "stdout",
     "output_type": "stream",
     "text": [
      "06-11 - 6-month - mean\n",
      "{'mean': {'single': {'upper': {'indicator': 'stochastic32', 'barrier': 10}, 'lower': {'indicator': 'stochastic16', 'barrier': 13}, 'best': {'type': 'upper', 'indicator': 'stochastic32', 'barrier': 10}}}, 'order': {'single': {'upper': {'indicator': 'stochastic16', 'barrier': 33}, 'lower': {'indicator': 'stochastic16', 'barrier': 9}, 'best': {'type': 'upper', 'indicator': 'stochastic16', 'barrier': 33}}}}\n",
      "Key in forward opt json 06-11 - 6-month - order - 764\n"
     ]
    },
    {
     "name": "stderr",
     "output_type": "stream",
     "text": [
      "\r",
      " 32%|███▏      | 318/996 [2:02:25<4:55:06, 26.12s/it]"
     ]
    },
    {
     "name": "stdout",
     "output_type": "stream",
     "text": [
      "06-11 - 6-month - order\n",
      "{'mean': {'single': {'upper': {'indicator': 'stochastic32', 'barrier': 13}, 'lower': {'indicator': 'adx16', 'barrier': 45}, 'best': {'type': 'upper', 'indicator': 'stochastic32', 'barrier': 13}}}, 'order': {'single': {'upper': {'indicator': 'ppo16', 'barrier': 9}, 'lower': {'indicator': 'adx8', 'barrier': 25}, 'best': {'type': 'upper', 'indicator': 'ppo16', 'barrier': 9}}}}\n",
      "Key in forward opt json 06-11 - 12-month - mean - 62\n"
     ]
    },
    {
     "name": "stderr",
     "output_type": "stream",
     "text": [
      "\r",
      " 32%|███▏      | 319/996 [2:02:45<4:32:41, 24.17s/it]"
     ]
    },
    {
     "name": "stdout",
     "output_type": "stream",
     "text": [
      "06-11 - 12-month - mean\n",
      "{'mean': {'single': {'upper': {'indicator': 'stochastic32', 'barrier': 11}, 'lower': {'indicator': 'ppo32', 'barrier': 15}, 'best': {'type': 'upper', 'indicator': 'stochastic32', 'barrier': 11}}}, 'order': {'single': {'upper': {'indicator': 'stochastic32', 'barrier': 15}, 'lower': {'indicator': 'adx8', 'barrier': 23}, 'best': {'type': 'upper', 'indicator': 'stochastic32', 'barrier': 15}}}}\n",
      "Key in forward opt json 06-11 - 12-month - order - 1521\n"
     ]
    },
    {
     "name": "stderr",
     "output_type": "stream",
     "text": [
      "\r",
      " 32%|███▏      | 320/996 [2:03:25<5:28:06, 29.12s/it]"
     ]
    },
    {
     "name": "stdout",
     "output_type": "stream",
     "text": [
      "06-11 - 12-month - order\n",
      "{'mean': {'single': {'upper': {'indicator': 'ppo32', 'barrier': -2}, 'lower': {'indicator': 'adx16', 'barrier': 45}, 'best': {'type': 'upper', 'indicator': 'ppo32', 'barrier': -2}}}, 'order': {'single': {'upper': {'indicator': 'ppo32', 'barrier': 16}, 'lower': {'indicator': 'stochastic16', 'barrier': 11}, 'best': {'type': 'upper', 'indicator': 'ppo32', 'barrier': 16}}}}\n",
      "Key in forward opt json 06-12 - 6-month - mean - 42\n"
     ]
    },
    {
     "name": "stderr",
     "output_type": "stream",
     "text": [
      "\r",
      " 32%|███▏      | 321/996 [2:03:46<4:59:20, 26.61s/it]"
     ]
    },
    {
     "name": "stdout",
     "output_type": "stream",
     "text": [
      "06-12 - 6-month - mean\n",
      "{'mean': {'single': {'upper': {'indicator': 'stochastic8', 'barrier': 13}, 'lower': {'indicator': 'stochastic16', 'barrier': 12}, 'best': {'type': 'upper', 'indicator': 'stochastic8', 'barrier': 13}}}, 'order': {'single': {'upper': {'indicator': 'ppo16', 'barrier': 13}, 'lower': {'indicator': 'stochastic16', 'barrier': 6}, 'best': {'type': 'upper', 'indicator': 'ppo16', 'barrier': 13}}}}\n",
      "Key in forward opt json 06-12 - 6-month - order - 750\n"
     ]
    },
    {
     "name": "stderr",
     "output_type": "stream",
     "text": [
      "\r",
      " 32%|███▏      | 322/996 [2:04:11<4:53:30, 26.13s/it]"
     ]
    },
    {
     "name": "stdout",
     "output_type": "stream",
     "text": [
      "06-12 - 6-month - order\n",
      "{'mean': {'single': {'upper': {'indicator': 'stochastic32', 'barrier': 10}, 'lower': {'indicator': 'stochastic8', 'barrier': 86}, 'best': {'type': 'upper', 'indicator': 'stochastic32', 'barrier': 10}}}, 'order': {'single': {'upper': {'indicator': 'ppo16', 'barrier': 23}, 'lower': {'indicator': 'adx16', 'barrier': 19}, 'best': {'type': 'upper', 'indicator': 'ppo16', 'barrier': 23}}}}\n",
      "Key in forward opt json 06-12 - 12-month - mean - 65\n"
     ]
    },
    {
     "name": "stderr",
     "output_type": "stream",
     "text": [
      "\r",
      " 32%|███▏      | 323/996 [2:04:31<4:32:30, 24.29s/it]"
     ]
    },
    {
     "name": "stdout",
     "output_type": "stream",
     "text": [
      "06-12 - 12-month - mean\n",
      "{'mean': {'single': {'upper': {'indicator': 'stochastic32', 'barrier': 15}, 'lower': {'indicator': 'adx16', 'barrier': 27}, 'best': {'type': 'upper', 'indicator': 'stochastic32', 'barrier': 15}}}, 'order': {'single': {'upper': {'indicator': 'stochastic32', 'barrier': 15}, 'lower': {'indicator': 'stochastic8', 'barrier': 7}, 'best': {'type': 'upper', 'indicator': 'stochastic32', 'barrier': 15}}}}\n",
      "Key in forward opt json 06-12 - 12-month - order - 1518\n"
     ]
    },
    {
     "name": "stderr",
     "output_type": "stream",
     "text": [
      "\r",
      " 33%|███▎      | 324/996 [2:05:15<5:36:05, 30.01s/it]"
     ]
    },
    {
     "name": "stdout",
     "output_type": "stream",
     "text": [
      "06-12 - 12-month - order\n",
      "{'mean': {'single': {'upper': {'indicator': 'ppo32', 'barrier': -2}, 'lower': {'indicator': 'stochastic16', 'barrier': 91}, 'best': {'type': 'upper', 'indicator': 'ppo32', 'barrier': -2}}}, 'order': {'single': {'upper': {'indicator': 'adx8', 'barrier': 73}, 'lower': {'indicator': 'stochastic16', 'barrier': 7}, 'best': {'type': 'upper', 'indicator': 'adx8', 'barrier': 73}}}}\n",
      "Key in forward opt json 07-01 - 6-month - mean - 768\n"
     ]
    },
    {
     "name": "stderr",
     "output_type": "stream",
     "text": [
      "\r",
      " 33%|███▎      | 325/996 [2:05:39<5:17:48, 28.42s/it]"
     ]
    },
    {
     "name": "stdout",
     "output_type": "stream",
     "text": [
      "07-01 - 6-month - mean\n",
      "{'mean': {'single': {'upper': {'indicator': 'ppo32', 'barrier': 0}, 'lower': {'indicator': 'stochastic8', 'barrier': 86}, 'best': {'type': 'upper', 'indicator': 'ppo32', 'barrier': 0}}}, 'order': {'single': {'upper': {'indicator': 'stochastic32', 'barrier': 93}, 'lower': {'indicator': 'stochastic16', 'barrier': 25}, 'best': {'type': 'upper', 'indicator': 'stochastic32', 'barrier': 93}}}}\n",
      "Key in forward opt json 07-01 - 6-month - order - 768\n"
     ]
    },
    {
     "name": "stderr",
     "output_type": "stream",
     "text": [
      "\r",
      " 33%|███▎      | 326/996 [2:06:04<5:05:26, 27.35s/it]"
     ]
    },
    {
     "name": "stdout",
     "output_type": "stream",
     "text": [
      "07-01 - 6-month - order\n",
      "{'mean': {'single': {'upper': {'indicator': 'ppo32', 'barrier': 0}, 'lower': {'indicator': 'stochastic8', 'barrier': 86}, 'best': {'type': 'upper', 'indicator': 'ppo32', 'barrier': 0}}}, 'order': {'single': {'upper': {'indicator': 'stochastic32', 'barrier': 93}, 'lower': {'indicator': 'stochastic16', 'barrier': 25}, 'best': {'type': 'upper', 'indicator': 'stochastic32', 'barrier': 93}}}}\n",
      "Key in forward opt json 07-01 - 12-month - mean - 65\n"
     ]
    },
    {
     "name": "stderr",
     "output_type": "stream",
     "text": [
      "\r",
      " 33%|███▎      | 327/996 [2:06:24<4:39:02, 25.03s/it]"
     ]
    },
    {
     "name": "stdout",
     "output_type": "stream",
     "text": [
      "07-01 - 12-month - mean\n",
      "{'mean': {'single': {'upper': {'indicator': 'stochastic32', 'barrier': 10}, 'lower': {'indicator': 'adx16', 'barrier': 27}, 'best': {'type': 'upper', 'indicator': 'stochastic32', 'barrier': 10}}}, 'order': {'single': {'upper': {'indicator': 'stochastic32', 'barrier': 30}, 'lower': {'indicator': 'stochastic16', 'barrier': 8}, 'best': {'type': 'upper', 'indicator': 'stochastic32', 'barrier': 30}}}}\n",
      "Key in forward opt json 07-01 - 12-month - order - 1513\n"
     ]
    },
    {
     "name": "stderr",
     "output_type": "stream",
     "text": [
      "\r",
      " 33%|███▎      | 328/996 [2:07:07<5:38:36, 30.41s/it]"
     ]
    },
    {
     "name": "stdout",
     "output_type": "stream",
     "text": [
      "07-01 - 12-month - order\n",
      "{'mean': {'single': {'upper': {'indicator': 'ppo32', 'barrier': 0}, 'lower': {'indicator': 'stochastic8', 'barrier': 86}, 'best': {'type': 'upper', 'indicator': 'ppo32', 'barrier': 0}}}, 'order': {'single': {'upper': {'indicator': 'stochastic16', 'barrier': 77}, 'lower': {'indicator': 'stochastic32', 'barrier': 37}, 'best': {'type': 'upper', 'indicator': 'stochastic16', 'barrier': 77}}}}\n"
     ]
    },
    {
     "name": "stderr",
     "output_type": "stream",
     "text": [
      "\r",
      " 33%|███▎      | 329/996 [2:07:26<5:00:55, 27.07s/it]"
     ]
    },
    {
     "name": "stdout",
     "output_type": "stream",
     "text": [
      "Key in forward opt json 07-02 - 6-month - mean - 20\n",
      "07-02 - 6-month - mean\n",
      "{'mean': {'single': {'upper': {'indicator': 'ppo8', 'barrier': 8}, 'lower': {'indicator': 'adx32', 'barrier': 14}, 'best': {'type': 'upper', 'indicator': 'ppo8', 'barrier': 8}}}, 'order': {'single': {'upper': {'indicator': 'adx16', 'barrier': 29}, 'lower': {'indicator': 'adx8', 'barrier': 26}, 'best': {'type': 'upper', 'indicator': 'adx16', 'barrier': 29}}}}\n",
      "Key in forward opt json 07-02 - 6-month - order - 777\n"
     ]
    },
    {
     "name": "stderr",
     "output_type": "stream",
     "text": [
      "\r",
      " 33%|███▎      | 330/996 [2:07:50<4:49:37, 26.09s/it]"
     ]
    },
    {
     "name": "stdout",
     "output_type": "stream",
     "text": [
      "07-02 - 6-month - order\n",
      "{'mean': {'single': {'upper': {'indicator': 'stochastic8', 'barrier': 16}, 'lower': {'indicator': 'stochastic8', 'barrier': 86}, 'best': {'type': 'upper', 'indicator': 'stochastic8', 'barrier': 16}}}, 'order': {'single': {'upper': {'indicator': 'ppo8', 'barrier': 9}, 'lower': {'indicator': 'stochastic16', 'barrier': 63}, 'best': {'type': 'upper', 'indicator': 'ppo8', 'barrier': 9}}}}\n",
      "Key in forward opt json 07-02 - 12-month - mean - 65\n"
     ]
    },
    {
     "name": "stderr",
     "output_type": "stream",
     "text": [
      "\r",
      " 33%|███▎      | 331/996 [2:08:08<4:23:03, 23.73s/it]"
     ]
    },
    {
     "name": "stdout",
     "output_type": "stream",
     "text": [
      "07-02 - 12-month - mean\n",
      "{'mean': {'single': {'upper': {'indicator': 'stochastic32', 'barrier': 10}, 'lower': {'indicator': 'adx16', 'barrier': 27}, 'best': {'type': 'upper', 'indicator': 'stochastic32', 'barrier': 10}}}, 'order': {'single': {'upper': {'indicator': 'stochastic32', 'barrier': 30}, 'lower': {'indicator': 'stochastic16', 'barrier': 4}, 'best': {'type': 'upper', 'indicator': 'stochastic32', 'barrier': 30}}}}\n",
      "Key in forward opt json 07-02 - 12-month - order - 1515\n"
     ]
    },
    {
     "name": "stderr",
     "output_type": "stream",
     "text": [
      "\r",
      " 33%|███▎      | 332/996 [2:08:49<5:19:16, 28.85s/it]"
     ]
    },
    {
     "name": "stdout",
     "output_type": "stream",
     "text": [
      "07-02 - 12-month - order\n",
      "{'mean': {'single': {'upper': {'indicator': 'ppo32', 'barrier': 0}, 'lower': {'indicator': 'stochastic8', 'barrier': 86}, 'best': {'type': 'upper', 'indicator': 'ppo32', 'barrier': 0}}}, 'order': {'single': {'upper': {'indicator': 'adx8', 'barrier': 47}, 'lower': {'indicator': 'adx32', 'barrier': 9}, 'best': {'type': 'upper', 'indicator': 'adx8', 'barrier': 47}}}}\n",
      "Key in forward opt json 07-03 - 6-month - mean - 34\n"
     ]
    },
    {
     "name": "stderr",
     "output_type": "stream",
     "text": [
      "\r",
      " 33%|███▎      | 333/996 [2:09:08<4:45:51, 25.87s/it]"
     ]
    },
    {
     "name": "stdout",
     "output_type": "stream",
     "text": [
      "07-03 - 6-month - mean\n",
      "{'mean': {'single': {'upper': {'indicator': 'adx8', 'barrier': 31}, 'lower': {'indicator': 'stochastic16', 'barrier': 13}, 'best': {'type': 'upper', 'indicator': 'adx8', 'barrier': 31}}}, 'order': {'single': {'upper': {'indicator': 'adx8', 'barrier': 55}, 'lower': {'indicator': 'ppo8', 'barrier': 2}, 'best': {'type': 'upper', 'indicator': 'adx8', 'barrier': 55}}}}\n",
      "Key in forward opt json 07-03 - 6-month - order - 838\n"
     ]
    },
    {
     "name": "stderr",
     "output_type": "stream",
     "text": [
      "\r",
      " 34%|███▎      | 334/996 [2:09:33<4:43:42, 25.71s/it]"
     ]
    },
    {
     "name": "stdout",
     "output_type": "stream",
     "text": [
      "07-03 - 6-month - order\n",
      "{'mean': {'single': {'upper': {'indicator': 'stochastic8', 'barrier': 12}, 'lower': {'indicator': 'stochastic8', 'barrier': 84}, 'best': {'type': 'upper', 'indicator': 'stochastic8', 'barrier': 12}}}, 'order': {'single': {'upper': {'indicator': 'adx8', 'barrier': 37}, 'lower': {'indicator': 'stochastic32', 'barrier': 50}, 'best': {'type': 'upper', 'indicator': 'adx8', 'barrier': 37}}}}\n",
      "Key in forward opt json 07-03 - 12-month - mean - 59\n"
     ]
    },
    {
     "name": "stderr",
     "output_type": "stream",
     "text": [
      "\r",
      " 34%|███▎      | 335/996 [2:09:52<4:21:13, 23.71s/it]"
     ]
    },
    {
     "name": "stdout",
     "output_type": "stream",
     "text": [
      "07-03 - 12-month - mean\n",
      "{'mean': {'single': {'upper': {'indicator': 'stochastic32', 'barrier': 16}, 'lower': {'indicator': 'ppo32', 'barrier': 10}, 'best': {'type': 'upper', 'indicator': 'stochastic32', 'barrier': 16}}}, 'order': {'single': {'upper': {'indicator': 'stochastic8', 'barrier': 40}, 'lower': {'indicator': 'stochastic8', 'barrier': 8}, 'best': {'type': 'upper', 'indicator': 'stochastic8', 'barrier': 40}}}}\n",
      "Key in forward opt json 07-03 - 12-month - order - 1563\n"
     ]
    },
    {
     "name": "stderr",
     "output_type": "stream",
     "text": [
      "\r",
      " 34%|███▎      | 336/996 [2:10:36<5:27:56, 29.81s/it]"
     ]
    },
    {
     "name": "stdout",
     "output_type": "stream",
     "text": [
      "07-03 - 12-month - order\n",
      "{'mean': {'single': {'upper': {'indicator': 'ppo32', 'barrier': 0}, 'lower': {'indicator': 'stochastic8', 'barrier': 86}, 'best': {'type': 'upper', 'indicator': 'ppo32', 'barrier': 0}}}, 'order': {'single': {'upper': {'indicator': 'adx8', 'barrier': 27}, 'lower': {'indicator': 'stochastic16', 'barrier': 33}, 'best': {'type': 'upper', 'indicator': 'adx8', 'barrier': 27}}}}\n",
      "Key in forward opt json 07-04 - 6-month - mean - 253\n"
     ]
    },
    {
     "name": "stderr",
     "output_type": "stream",
     "text": [
      "\r",
      " 34%|███▍      | 337/996 [2:10:56<4:53:23, 26.71s/it]"
     ]
    },
    {
     "name": "stdout",
     "output_type": "stream",
     "text": [
      "07-04 - 6-month - mean\n",
      "{'mean': {'single': {'upper': {'indicator': 'stochastic16', 'barrier': 19}, 'lower': {'indicator': 'adx32', 'barrier': 29}, 'best': {'type': 'upper', 'indicator': 'stochastic16', 'barrier': 19}}}, 'order': {'single': {'upper': {'indicator': 'adx32', 'barrier': 29}, 'lower': {'indicator': 'ppo32', 'barrier': 5}, 'best': {'type': 'upper', 'indicator': 'adx32', 'barrier': 29}}}}\n",
      "Key in forward opt json 07-04 - 6-month - order - 851\n"
     ]
    },
    {
     "name": "stderr",
     "output_type": "stream",
     "text": [
      "\r",
      " 34%|███▍      | 338/996 [2:11:21<4:48:44, 26.33s/it]"
     ]
    },
    {
     "name": "stdout",
     "output_type": "stream",
     "text": [
      "07-04 - 6-month - order\n",
      "{'mean': {'single': {'upper': {'indicator': 'stochastic8', 'barrier': 12}, 'lower': {'indicator': 'stochastic8', 'barrier': 84}, 'best': {'type': 'upper', 'indicator': 'stochastic8', 'barrier': 12}}}, 'order': {'single': {'upper': {'indicator': 'adx32', 'barrier': 35}, 'lower': {'indicator': 'stochastic16', 'barrier': 42}, 'best': {'type': 'upper', 'indicator': 'adx32', 'barrier': 35}}}}\n",
      "Key in forward opt json 07-04 - 12-month - mean - 89\n"
     ]
    },
    {
     "name": "stderr",
     "output_type": "stream",
     "text": [
      "\r",
      " 34%|███▍      | 339/996 [2:11:40<4:24:54, 24.19s/it]"
     ]
    },
    {
     "name": "stdout",
     "output_type": "stream",
     "text": [
      "07-04 - 12-month - mean\n",
      "{'mean': {'single': {'upper': {'indicator': 'stochastic32', 'barrier': 42}, 'lower': {'indicator': 'adx8', 'barrier': 49}, 'best': {'type': 'upper', 'indicator': 'stochastic32', 'barrier': 42}}}, 'order': {'single': {'upper': {'indicator': 'ppo8', 'barrier': 18}, 'lower': {'indicator': 'adx16', 'barrier': 16}, 'best': {'type': 'upper', 'indicator': 'ppo8', 'barrier': 18}}}}\n",
      "Key in forward opt json 07-04 - 12-month - order - 1545\n"
     ]
    },
    {
     "name": "stderr",
     "output_type": "stream",
     "text": [
      "\r",
      " 34%|███▍      | 340/996 [2:12:23<5:25:41, 29.79s/it]"
     ]
    },
    {
     "name": "stdout",
     "output_type": "stream",
     "text": [
      "07-04 - 12-month - order\n",
      "{'mean': {'single': {'upper': {'indicator': 'ppo32', 'barrier': 0}, 'lower': {'indicator': 'stochastic8', 'barrier': 86}, 'best': {'type': 'upper', 'indicator': 'ppo32', 'barrier': 0}}}, 'order': {'single': {'upper': {'indicator': 'stochastic32', 'barrier': 53}, 'lower': {'indicator': 'stochastic16', 'barrier': 31}, 'best': {'type': 'upper', 'indicator': 'stochastic32', 'barrier': 53}}}}\n",
      "Key in forward opt json 07-05 - 6-month - mean - 242\n"
     ]
    },
    {
     "name": "stderr",
     "output_type": "stream",
     "text": [
      "\r",
      " 34%|███▍      | 341/996 [2:12:42<4:49:56, 26.56s/it]"
     ]
    },
    {
     "name": "stdout",
     "output_type": "stream",
     "text": [
      "07-05 - 6-month - mean\n",
      "{'mean': {'single': {'upper': {'indicator': 'stochastic32', 'barrier': 12}, 'lower': {'indicator': 'ppo32', 'barrier': 16}, 'best': {'type': 'upper', 'indicator': 'stochastic32', 'barrier': 12}}}, 'order': {'single': {'upper': {'indicator': 'stochastic16', 'barrier': 35}, 'lower': {'indicator': 'ppo32', 'barrier': 0}, 'best': {'type': 'upper', 'indicator': 'stochastic16', 'barrier': 35}}}}\n",
      "Key in forward opt json 07-05 - 6-month - order - 840\n"
     ]
    },
    {
     "name": "stderr",
     "output_type": "stream",
     "text": [
      "\r",
      " 34%|███▍      | 342/996 [2:13:08<4:47:18, 26.36s/it]"
     ]
    },
    {
     "name": "stdout",
     "output_type": "stream",
     "text": [
      "07-05 - 6-month - order\n",
      "{'mean': {'single': {'upper': {'indicator': 'stochastic8', 'barrier': 12}, 'lower': {'indicator': 'stochastic8', 'barrier': 84}, 'best': {'type': 'upper', 'indicator': 'stochastic8', 'barrier': 12}}}, 'order': {'single': {'upper': {'indicator': 'adx16', 'barrier': 51}, 'lower': {'indicator': 'stochastic8', 'barrier': 36}, 'best': {'type': 'upper', 'indicator': 'adx16', 'barrier': 51}}}}\n",
      "Key in forward opt json 07-05 - 12-month - mean - 84\n"
     ]
    },
    {
     "name": "stderr",
     "output_type": "stream",
     "text": [
      "\r",
      " 34%|███▍      | 343/996 [2:13:27<4:23:49, 24.24s/it]"
     ]
    },
    {
     "name": "stdout",
     "output_type": "stream",
     "text": [
      "07-05 - 12-month - mean\n",
      "{'mean': {'single': {'upper': {'indicator': 'adx8', 'barrier': 41}, 'lower': {'indicator': 'adx8', 'barrier': 49}, 'best': {'type': 'upper', 'indicator': 'adx8', 'barrier': 41}}}, 'order': {'single': {'upper': {'indicator': 'adx8', 'barrier': 55}, 'lower': {'indicator': 'stochastic16', 'barrier': 9}, 'best': {'type': 'upper', 'indicator': 'adx8', 'barrier': 55}}}}\n",
      "Key in forward opt json 07-05 - 12-month - order - 1582\n"
     ]
    },
    {
     "name": "stderr",
     "output_type": "stream",
     "text": [
      "\r",
      " 35%|███▍      | 344/996 [2:14:09<5:21:03, 29.54s/it]"
     ]
    },
    {
     "name": "stdout",
     "output_type": "stream",
     "text": [
      "07-05 - 12-month - order\n",
      "{'mean': {'single': {'upper': {'indicator': 'ppo32', 'barrier': 0}, 'lower': {'indicator': 'stochastic8', 'barrier': 86}, 'best': {'type': 'upper', 'indicator': 'ppo32', 'barrier': 0}}}, 'order': {'single': {'upper': {'indicator': 'adx8', 'barrier': 53}, 'lower': {'indicator': 'ppo16', 'barrier': 3}, 'best': {'type': 'upper', 'indicator': 'adx8', 'barrier': 53}}}}\n",
      "Key in forward opt json 07-06 - 6-month - mean - 241\n"
     ]
    },
    {
     "name": "stderr",
     "output_type": "stream",
     "text": [
      "\r",
      " 35%|███▍      | 345/996 [2:14:29<4:48:29, 26.59s/it]"
     ]
    },
    {
     "name": "stdout",
     "output_type": "stream",
     "text": [
      "07-06 - 6-month - mean\n",
      "{'mean': {'single': {'upper': {'indicator': 'ppo8', 'barrier': 3}, 'lower': {'indicator': 'adx16', 'barrier': 22}, 'best': {'type': 'upper', 'indicator': 'ppo8', 'barrier': 3}}}, 'order': {'single': {'upper': {'indicator': 'adx32', 'barrier': 23}, 'lower': {'indicator': 'stochastic32', 'barrier': 30}, 'best': {'type': 'upper', 'indicator': 'adx32', 'barrier': 23}}}}\n",
      "Key in forward opt json 07-06 - 6-month - order - 817\n"
     ]
    },
    {
     "name": "stderr",
     "output_type": "stream",
     "text": [
      "\r",
      " 35%|███▍      | 346/996 [2:14:54<4:43:39, 26.18s/it]"
     ]
    },
    {
     "name": "stdout",
     "output_type": "stream",
     "text": [
      "07-06 - 6-month - order\n",
      "{'mean': {'single': {'upper': {'indicator': 'stochastic8', 'barrier': 12}, 'lower': {'indicator': 'ppo32', 'barrier': 20}, 'best': {'type': 'upper', 'indicator': 'stochastic8', 'barrier': 12}}}, 'order': {'single': {'upper': {'indicator': 'adx8', 'barrier': 36}, 'lower': {'indicator': 'adx16', 'barrier': 13}, 'best': {'type': 'upper', 'indicator': 'adx8', 'barrier': 36}}}}\n",
      "Key in forward opt json 07-06 - 12-month - mean - 113\n"
     ]
    },
    {
     "name": "stderr",
     "output_type": "stream",
     "text": [
      "\r",
      " 35%|███▍      | 347/996 [2:15:14<4:21:03, 24.13s/it]"
     ]
    },
    {
     "name": "stdout",
     "output_type": "stream",
     "text": [
      "07-06 - 12-month - mean\n",
      "{'mean': {'single': {'upper': {'indicator': 'adx32', 'barrier': 13}, 'lower': {'indicator': 'adx32', 'barrier': 23}, 'best': {'type': 'upper', 'indicator': 'adx32', 'barrier': 13}}}, 'order': {'single': {'upper': {'indicator': 'ppo16', 'barrier': 12}, 'lower': {'indicator': 'stochastic16', 'barrier': 5}, 'best': {'type': 'upper', 'indicator': 'ppo16', 'barrier': 12}}}}\n",
      "Key in forward opt json 07-06 - 12-month - order - 1559\n"
     ]
    },
    {
     "name": "stderr",
     "output_type": "stream",
     "text": [
      "\r",
      " 35%|███▍      | 348/996 [2:15:56<5:19:10, 29.55s/it]"
     ]
    },
    {
     "name": "stdout",
     "output_type": "stream",
     "text": [
      "07-06 - 12-month - order\n",
      "{'mean': {'single': {'upper': {'indicator': 'ppo32', 'barrier': 0}, 'lower': {'indicator': 'stochastic8', 'barrier': 86}, 'best': {'type': 'upper', 'indicator': 'ppo32', 'barrier': 0}}}, 'order': {'single': {'upper': {'indicator': 'ppo16', 'barrier': 15}, 'lower': {'indicator': 'stochastic32', 'barrier': 42}, 'best': {'type': 'upper', 'indicator': 'ppo16', 'barrier': 15}}}}\n",
      "Key in forward opt json 07-07 - 6-month - mean - 428\n"
     ]
    },
    {
     "name": "stderr",
     "output_type": "stream",
     "text": [
      "\r",
      " 35%|███▌      | 349/996 [2:16:16<4:49:11, 26.82s/it]"
     ]
    },
    {
     "name": "stdout",
     "output_type": "stream",
     "text": [
      "07-07 - 6-month - mean\n",
      "{'mean': {'single': {'upper': {'indicator': 'ppo8', 'barrier': 1}, 'lower': {'indicator': 'ppo8', 'barrier': 13}, 'best': {'type': 'upper', 'indicator': 'ppo8', 'barrier': 1}}}, 'order': {'single': {'upper': {'indicator': 'stochastic8', 'barrier': 30}, 'lower': {'indicator': 'adx32', 'barrier': 13}, 'best': {'type': 'upper', 'indicator': 'stochastic8', 'barrier': 30}}}}\n",
      "Key in forward opt json 07-07 - 6-month - order - 827\n"
     ]
    },
    {
     "name": "stderr",
     "output_type": "stream",
     "text": [
      "\r",
      " 35%|███▌      | 350/996 [2:16:42<4:45:03, 26.48s/it]"
     ]
    },
    {
     "name": "stdout",
     "output_type": "stream",
     "text": [
      "07-07 - 6-month - order\n",
      "{'mean': {'single': {'upper': {'indicator': 'stochastic8', 'barrier': 11}, 'lower': {'indicator': 'ppo8', 'barrier': 27}, 'best': {'type': 'upper', 'indicator': 'stochastic8', 'barrier': 11}}}, 'order': {'single': {'upper': {'indicator': 'stochastic16', 'barrier': 86}, 'lower': {'indicator': 'stochastic32', 'barrier': 26}, 'best': {'type': 'upper', 'indicator': 'stochastic16', 'barrier': 86}}}}\n",
      "Key in forward opt json 07-07 - 12-month - mean - 669\n"
     ]
    },
    {
     "name": "stderr",
     "output_type": "stream",
     "text": [
      "\r",
      " 35%|███▌      | 351/996 [2:17:04<4:29:24, 25.06s/it]"
     ]
    },
    {
     "name": "stdout",
     "output_type": "stream",
     "text": [
      "07-07 - 12-month - mean\n",
      "{'mean': {'single': {'upper': {'indicator': 'stochastic32', 'barrier': 12}, 'lower': {'indicator': 'stochastic32', 'barrier': 74}, 'best': {'type': 'upper', 'indicator': 'stochastic32', 'barrier': 12}}}, 'order': {'single': {'upper': {'indicator': 'adx16', 'barrier': 36}, 'lower': {'indicator': 'stochastic32', 'barrier': 54}, 'best': {'type': 'upper', 'indicator': 'adx16', 'barrier': 36}}}}\n",
      "Key in forward opt json 07-07 - 12-month - order - 1597\n"
     ]
    },
    {
     "name": "stderr",
     "output_type": "stream",
     "text": [
      "\r",
      " 35%|███▌      | 352/996 [2:17:44<5:18:23, 29.66s/it]"
     ]
    },
    {
     "name": "stdout",
     "output_type": "stream",
     "text": [
      "07-07 - 12-month - order\n",
      "{'mean': {'single': {'upper': {'indicator': 'stochastic16', 'barrier': 8}, 'lower': {'indicator': 'stochastic8', 'barrier': 88}, 'best': {'type': 'upper', 'indicator': 'stochastic16', 'barrier': 8}}}, 'order': {'single': {'upper': {'indicator': 'stochastic32', 'barrier': 70}, 'lower': {'indicator': 'adx8', 'barrier': 33}, 'best': {'type': 'upper', 'indicator': 'stochastic32', 'barrier': 70}}}}\n",
      "Key in forward opt json 07-08 - 6-month - mean - 58\n"
     ]
    },
    {
     "name": "stderr",
     "output_type": "stream",
     "text": [
      "\r",
      " 35%|███▌      | 353/996 [2:18:03<4:43:23, 26.44s/it]"
     ]
    },
    {
     "name": "stdout",
     "output_type": "stream",
     "text": [
      "07-08 - 6-month - mean\n",
      "{'mean': {'single': {'upper': {'indicator': 'adx32', 'barrier': 13}, 'lower': {'indicator': 'stochastic32', 'barrier': 13}, 'best': {'type': 'upper', 'indicator': 'adx32', 'barrier': 13}}}, 'order': {'single': {'upper': {'indicator': 'adx32', 'barrier': 23}, 'lower': {'indicator': 'adx8', 'barrier': 31}, 'best': {'type': 'upper', 'indicator': 'adx32', 'barrier': 23}}}}\n",
      "Key in forward opt json 07-08 - 6-month - order - 860\n"
     ]
    },
    {
     "name": "stderr",
     "output_type": "stream",
     "text": [
      "\r",
      " 36%|███▌      | 354/996 [2:18:28<4:38:14, 26.00s/it]"
     ]
    },
    {
     "name": "stdout",
     "output_type": "stream",
     "text": [
      "07-08 - 6-month - order\n",
      "{'mean': {'single': {'upper': {'indicator': 'stochastic8', 'barrier': 10}, 'lower': {'indicator': 'stochastic16', 'barrier': 92}, 'best': {'type': 'upper', 'indicator': 'stochastic8', 'barrier': 10}}}, 'order': {'single': {'upper': {'indicator': 'ppo16', 'barrier': 21}, 'lower': {'indicator': 'stochastic32', 'barrier': 6}, 'best': {'type': 'upper', 'indicator': 'ppo16', 'barrier': 21}}}}\n",
      "Key in forward opt json 07-08 - 12-month - mean - 714\n"
     ]
    },
    {
     "name": "stderr",
     "output_type": "stream",
     "text": [
      "\r",
      " 36%|███▌      | 355/996 [2:18:51<4:29:14, 25.20s/it]"
     ]
    },
    {
     "name": "stdout",
     "output_type": "stream",
     "text": [
      "07-08 - 12-month - mean\n",
      "{'mean': {'single': {'upper': {'indicator': 'stochastic32', 'barrier': 11}, 'lower': {'indicator': 'adx8', 'barrier': 51}, 'best': {'type': 'upper', 'indicator': 'stochastic32', 'barrier': 11}}}, 'order': {'single': {'upper': {'indicator': 'ppo8', 'barrier': 11}, 'lower': {'indicator': 'stochastic32', 'barrier': 45}, 'best': {'type': 'upper', 'indicator': 'ppo8', 'barrier': 11}}}}\n",
      "Key in forward opt json 07-08 - 12-month - order - 1637\n"
     ]
    },
    {
     "name": "stderr",
     "output_type": "stream",
     "text": [
      "\r",
      " 36%|███▌      | 356/996 [2:19:34<5:26:10, 30.58s/it]"
     ]
    },
    {
     "name": "stdout",
     "output_type": "stream",
     "text": [
      "07-08 - 12-month - order\n",
      "{'mean': {'single': {'upper': {'indicator': 'stochastic16', 'barrier': 8}, 'lower': {'indicator': 'ppo8', 'barrier': 31}, 'best': {'type': 'upper', 'indicator': 'stochastic16', 'barrier': 8}}}, 'order': {'single': {'upper': {'indicator': 'stochastic16', 'barrier': 80}, 'lower': {'indicator': 'adx16', 'barrier': 29}, 'best': {'type': 'upper', 'indicator': 'stochastic16', 'barrier': 80}}}}\n",
      "Key in forward opt json 07-09 - 6-month - mean - 94\n"
     ]
    },
    {
     "name": "stderr",
     "output_type": "stream",
     "text": [
      "\r",
      " 36%|███▌      | 357/996 [2:19:53<4:47:10, 26.97s/it]"
     ]
    },
    {
     "name": "stdout",
     "output_type": "stream",
     "text": [
      "07-09 - 6-month - mean\n",
      "{'mean': {'single': {'upper': {'indicator': 'adx32', 'barrier': 13}, 'lower': {'indicator': 'adx8', 'barrier': 47}, 'best': {'type': 'upper', 'indicator': 'adx32', 'barrier': 13}}}, 'order': {'single': {'upper': {'indicator': 'adx32', 'barrier': 29}, 'lower': {'indicator': 'adx8', 'barrier': 31}, 'best': {'type': 'upper', 'indicator': 'adx32', 'barrier': 29}}}}\n",
      "Key in forward opt json 07-09 - 6-month - order - 805\n"
     ]
    },
    {
     "name": "stderr",
     "output_type": "stream",
     "text": [
      "\r",
      " 36%|███▌      | 358/996 [2:20:18<4:41:15, 26.45s/it]"
     ]
    },
    {
     "name": "stdout",
     "output_type": "stream",
     "text": [
      "07-09 - 6-month - order\n",
      "{'mean': {'single': {'upper': {'indicator': 'stochastic16', 'barrier': 12}, 'lower': {'indicator': 'ppo32', 'barrier': 25}, 'best': {'type': 'upper', 'indicator': 'stochastic16', 'barrier': 12}}}, 'order': {'single': {'upper': {'indicator': 'stochastic16', 'barrier': 94}, 'lower': {'indicator': 'adx16', 'barrier': 11}, 'best': {'type': 'upper', 'indicator': 'stochastic16', 'barrier': 94}}}}\n",
      "Key in forward opt json 07-09 - 12-month - mean - 715\n"
     ]
    },
    {
     "name": "stderr",
     "output_type": "stream",
     "text": [
      "\r",
      " 36%|███▌      | 359/996 [2:20:42<4:33:11, 25.73s/it]"
     ]
    },
    {
     "name": "stdout",
     "output_type": "stream",
     "text": [
      "07-09 - 12-month - mean\n",
      "{'mean': {'single': {'upper': {'indicator': 'ppo8', 'barrier': 1}, 'lower': {'indicator': 'stochastic32', 'barrier': 75}, 'best': {'type': 'upper', 'indicator': 'ppo8', 'barrier': 1}}}, 'order': {'single': {'upper': {'indicator': 'stochastic8', 'barrier': 36}, 'lower': {'indicator': 'stochastic32', 'barrier': 37}, 'best': {'type': 'upper', 'indicator': 'stochastic8', 'barrier': 36}}}}\n",
      "Key in forward opt json 07-09 - 12-month - order - 1655\n"
     ]
    },
    {
     "name": "stderr",
     "output_type": "stream",
     "text": [
      "\r",
      " 36%|███▌      | 360/996 [2:21:27<5:31:48, 31.30s/it]"
     ]
    },
    {
     "name": "stdout",
     "output_type": "stream",
     "text": [
      "07-09 - 12-month - order\n",
      "{'mean': {'single': {'upper': {'indicator': 'stochastic16', 'barrier': 10}, 'lower': {'indicator': 'ppo8', 'barrier': 34}, 'best': {'type': 'upper', 'indicator': 'stochastic16', 'barrier': 10}}}, 'order': {'single': {'upper': {'indicator': 'stochastic32', 'barrier': 70}, 'lower': {'indicator': 'stochastic8', 'barrier': 56}, 'best': {'type': 'upper', 'indicator': 'stochastic32', 'barrier': 70}}}}\n",
      "Key in forward opt json 07-10 - 6-month - mean - 68\n"
     ]
    },
    {
     "name": "stderr",
     "output_type": "stream",
     "text": [
      "\r",
      " 36%|███▌      | 361/996 [2:21:46<4:53:26, 27.73s/it]"
     ]
    },
    {
     "name": "stdout",
     "output_type": "stream",
     "text": [
      "07-10 - 6-month - mean\n",
      "{'mean': {'single': {'upper': {'indicator': 'stochastic32', 'barrier': 11}, 'lower': {'indicator': 'adx8', 'barrier': 41}, 'best': {'type': 'upper', 'indicator': 'stochastic32', 'barrier': 11}}}, 'order': {'single': {'upper': {'indicator': 'stochastic16', 'barrier': 17}, 'lower': {'indicator': 'adx16', 'barrier': 18}, 'best': {'type': 'upper', 'indicator': 'stochastic16', 'barrier': 17}}}}\n",
      "Key in forward opt json 07-10 - 6-month - order - 779\n"
     ]
    },
    {
     "name": "stderr",
     "output_type": "stream",
     "text": [
      "\r",
      " 36%|███▋      | 362/996 [2:22:10<4:42:47, 26.76s/it]"
     ]
    },
    {
     "name": "stdout",
     "output_type": "stream",
     "text": [
      "07-10 - 6-month - order\n",
      "{'mean': {'single': {'upper': {'indicator': 'stochastic16', 'barrier': 12}, 'lower': {'indicator': 'ppo32', 'barrier': 29}, 'best': {'type': 'upper', 'indicator': 'stochastic16', 'barrier': 12}}}, 'order': {'single': {'upper': {'indicator': 'ppo16', 'barrier': 25}, 'lower': {'indicator': 'stochastic32', 'barrier': 13}, 'best': {'type': 'upper', 'indicator': 'ppo16', 'barrier': 25}}}}\n",
      "Key in forward opt json 07-10 - 12-month - mean - 693\n"
     ]
    },
    {
     "name": "stderr",
     "output_type": "stream",
     "text": [
      "\r",
      " 36%|███▋      | 363/996 [2:22:36<4:37:29, 26.30s/it]"
     ]
    },
    {
     "name": "stdout",
     "output_type": "stream",
     "text": [
      "07-10 - 12-month - mean\n",
      "{'mean': {'single': {'upper': {'indicator': 'ppo8', 'barrier': 1}, 'lower': {'indicator': 'ppo8', 'barrier': 23}, 'best': {'type': 'upper', 'indicator': 'ppo8', 'barrier': 1}}}, 'order': {'single': {'upper': {'indicator': 'adx16', 'barrier': 26}, 'lower': {'indicator': 'stochastic32', 'barrier': 43}, 'best': {'type': 'upper', 'indicator': 'adx16', 'barrier': 26}}}}\n",
      "Key in forward opt json 07-10 - 12-month - order - 1628\n"
     ]
    },
    {
     "name": "stderr",
     "output_type": "stream",
     "text": [
      "\r",
      " 37%|███▋      | 364/996 [2:23:20<5:33:23, 31.65s/it]"
     ]
    },
    {
     "name": "stdout",
     "output_type": "stream",
     "text": [
      "07-10 - 12-month - order\n",
      "{'mean': {'single': {'upper': {'indicator': 'stochastic16', 'barrier': 12}, 'lower': {'indicator': 'ppo8', 'barrier': 35}, 'best': {'type': 'upper', 'indicator': 'stochastic16', 'barrier': 12}}}, 'order': {'single': {'upper': {'indicator': 'adx32', 'barrier': 45}, 'lower': {'indicator': 'stochastic32', 'barrier': 4}, 'best': {'type': 'upper', 'indicator': 'adx32', 'barrier': 45}}}}\n",
      "Key in forward opt json 07-11 - 6-month - mean - 70\n"
     ]
    },
    {
     "name": "stderr",
     "output_type": "stream",
     "text": [
      "\r",
      " 37%|███▋      | 365/996 [2:23:38<4:50:41, 27.64s/it]"
     ]
    },
    {
     "name": "stdout",
     "output_type": "stream",
     "text": [
      "07-11 - 6-month - mean\n",
      "{'mean': {'single': {'upper': {'indicator': 'stochastic32', 'barrier': 11}, 'lower': {'indicator': 'adx8', 'barrier': 41}, 'best': {'type': 'upper', 'indicator': 'stochastic32', 'barrier': 11}}}, 'order': {'single': {'upper': {'indicator': 'adx16', 'barrier': 38}, 'lower': {'indicator': 'adx16', 'barrier': 18}, 'best': {'type': 'upper', 'indicator': 'adx16', 'barrier': 38}}}}\n",
      "Key in forward opt json 07-11 - 6-month - order - 552\n"
     ]
    },
    {
     "name": "stderr",
     "output_type": "stream",
     "text": [
      "\r",
      " 37%|███▋      | 366/996 [2:23:59<4:29:50, 25.70s/it]"
     ]
    },
    {
     "name": "stdout",
     "output_type": "stream",
     "text": [
      "07-11 - 6-month - order\n",
      "{'mean': {'single': {'upper': {'indicator': 'stochastic16', 'barrier': 12}, 'lower': {'indicator': 'ppo8', 'barrier': 30}, 'best': {'type': 'upper', 'indicator': 'stochastic16', 'barrier': 12}}}, 'order': {'single': {'upper': {'indicator': 'adx8', 'barrier': 45}, 'lower': {'indicator': 'ppo8', 'barrier': 4}, 'best': {'type': 'upper', 'indicator': 'adx8', 'barrier': 45}}}}\n",
      "Key in forward opt json 07-11 - 12-month - mean - 94\n"
     ]
    },
    {
     "name": "stderr",
     "output_type": "stream",
     "text": [
      "\r",
      " 37%|███▋      | 367/996 [2:24:18<4:06:08, 23.48s/it]"
     ]
    },
    {
     "name": "stdout",
     "output_type": "stream",
     "text": [
      "07-11 - 12-month - mean\n",
      "{'mean': {'single': {'upper': {'indicator': 'adx32', 'barrier': 14}, 'lower': {'indicator': 'stochastic8', 'barrier': 26}, 'best': {'type': 'upper', 'indicator': 'adx32', 'barrier': 14}}}, 'order': {'single': {'upper': {'indicator': 'stochastic32', 'barrier': 41}, 'lower': {'indicator': 'adx16', 'barrier': 14}, 'best': {'type': 'upper', 'indicator': 'stochastic32', 'barrier': 41}}}}\n",
      "Key in forward opt json 07-11 - 12-month - order - 1589\n"
     ]
    },
    {
     "name": "stderr",
     "output_type": "stream",
     "text": [
      "\r",
      " 37%|███▋      | 368/996 [2:25:00<5:06:18, 29.26s/it]"
     ]
    },
    {
     "name": "stdout",
     "output_type": "stream",
     "text": [
      "07-11 - 12-month - order\n",
      "{'mean': {'single': {'upper': {'indicator': 'stochastic16', 'barrier': 12}, 'lower': {'indicator': 'ppo32', 'barrier': 27}, 'best': {'type': 'upper', 'indicator': 'stochastic16', 'barrier': 12}}}, 'order': {'single': {'upper': {'indicator': 'ppo16', 'barrier': 15}, 'lower': {'indicator': 'stochastic8', 'barrier': 32}, 'best': {'type': 'upper', 'indicator': 'ppo16', 'barrier': 15}}}}\n",
      "Key in forward opt json 07-12 - 6-month - mean - 52\n"
     ]
    },
    {
     "name": "stderr",
     "output_type": "stream",
     "text": [
      "\r",
      " 37%|███▋      | 369/996 [2:25:19<4:31:34, 25.99s/it]"
     ]
    },
    {
     "name": "stdout",
     "output_type": "stream",
     "text": [
      "07-12 - 6-month - mean\n",
      "{'mean': {'single': {'upper': {'indicator': 'stochastic32', 'barrier': 11}, 'lower': {'indicator': 'stochastic32', 'barrier': 25}, 'best': {'type': 'upper', 'indicator': 'stochastic32', 'barrier': 11}}}, 'order': {'single': {'upper': {'indicator': 'adx32', 'barrier': 28}, 'lower': {'indicator': 'adx8', 'barrier': 25}, 'best': {'type': 'upper', 'indicator': 'adx32', 'barrier': 28}}}}\n",
      "Key in forward opt json 07-12 - 6-month - order - 738\n"
     ]
    },
    {
     "name": "stderr",
     "output_type": "stream",
     "text": [
      "\r",
      " 37%|███▋      | 370/996 [2:25:42<4:22:55, 25.20s/it]"
     ]
    },
    {
     "name": "stdout",
     "output_type": "stream",
     "text": [
      "07-12 - 6-month - order\n",
      "{'mean': {'single': {'upper': {'indicator': 'stochastic32', 'barrier': 11}, 'lower': {'indicator': 'ppo32', 'barrier': 29}, 'best': {'type': 'upper', 'indicator': 'stochastic32', 'barrier': 11}}}, 'order': {'single': {'upper': {'indicator': 'stochastic16', 'barrier': 80}, 'lower': {'indicator': 'stochastic16', 'barrier': 18}, 'best': {'type': 'upper', 'indicator': 'stochastic16', 'barrier': 80}}}}\n",
      "Key in forward opt json 07-12 - 12-month - mean - 150\n"
     ]
    },
    {
     "name": "stderr",
     "output_type": "stream",
     "text": [
      "\r",
      " 37%|███▋      | 371/996 [2:26:01<4:02:07, 23.24s/it]"
     ]
    },
    {
     "name": "stdout",
     "output_type": "stream",
     "text": [
      "07-12 - 12-month - mean\n",
      "{'mean': {'single': {'upper': {'indicator': 'stochastic16', 'barrier': 15}, 'lower': {'indicator': 'ppo8', 'barrier': 10}, 'best': {'type': 'upper', 'indicator': 'stochastic16', 'barrier': 15}}}, 'order': {'single': {'upper': {'indicator': 'stochastic32', 'barrier': 46}, 'lower': {'indicator': 'adx16', 'barrier': 13}, 'best': {'type': 'upper', 'indicator': 'stochastic32', 'barrier': 46}}}}\n",
      "Key in forward opt json 07-12 - 12-month - order - 1552\n"
     ]
    },
    {
     "name": "stderr",
     "output_type": "stream",
     "text": [
      "\r",
      " 37%|███▋      | 372/996 [2:26:41<4:56:20, 28.49s/it]"
     ]
    },
    {
     "name": "stdout",
     "output_type": "stream",
     "text": [
      "07-12 - 12-month - order\n",
      "{'mean': {'single': {'upper': {'indicator': 'stochastic32', 'barrier': 16}, 'lower': {'indicator': 'ppo16', 'barrier': 35}, 'best': {'type': 'upper', 'indicator': 'stochastic32', 'barrier': 16}}}, 'order': {'single': {'upper': {'indicator': 'ppo8', 'barrier': 21}, 'lower': {'indicator': 'stochastic16', 'barrier': 40}, 'best': {'type': 'upper', 'indicator': 'ppo8', 'barrier': 21}}}}\n",
      "Key in forward opt json 08-01 - 6-month - mean - 35\n"
     ]
    },
    {
     "name": "stderr",
     "output_type": "stream",
     "text": [
      "\r",
      " 37%|███▋      | 373/996 [2:27:01<4:28:32, 25.86s/it]"
     ]
    },
    {
     "name": "stdout",
     "output_type": "stream",
     "text": [
      "08-01 - 6-month - mean\n",
      "{'mean': {'single': {'upper': {'indicator': 'stochastic32', 'barrier': 13}, 'lower': {'indicator': 'adx8', 'barrier': 37}, 'best': {'type': 'upper', 'indicator': 'stochastic32', 'barrier': 13}}}, 'order': {'single': {'upper': {'indicator': 'adx8', 'barrier': 49}, 'lower': {'indicator': 'adx8', 'barrier': 23}, 'best': {'type': 'upper', 'indicator': 'adx8', 'barrier': 49}}}}\n",
      "Key in forward opt json 08-01 - 6-month - order - 463\n"
     ]
    },
    {
     "name": "stderr",
     "output_type": "stream",
     "text": [
      "\r",
      " 38%|███▊      | 374/996 [2:27:23<4:14:47, 24.58s/it]"
     ]
    },
    {
     "name": "stdout",
     "output_type": "stream",
     "text": [
      "08-01 - 6-month - order\n",
      "{'mean': {'single': {'upper': {'indicator': 'stochastic16', 'barrier': 11}, 'lower': {'indicator': 'ppo32', 'barrier': 28}, 'best': {'type': 'upper', 'indicator': 'stochastic16', 'barrier': 11}}}, 'order': {'single': {'upper': {'indicator': 'stochastic32', 'barrier': 54}, 'lower': {'indicator': 'adx16', 'barrier': 12}, 'best': {'type': 'upper', 'indicator': 'stochastic32', 'barrier': 54}}}}\n",
      "Key in forward opt json 08-01 - 12-month - mean - 145\n"
     ]
    },
    {
     "name": "stderr",
     "output_type": "stream",
     "text": [
      "\r",
      " 38%|███▊      | 375/996 [2:27:41<3:56:05, 22.81s/it]"
     ]
    },
    {
     "name": "stdout",
     "output_type": "stream",
     "text": [
      "08-01 - 12-month - mean\n",
      "{'mean': {'single': {'upper': {'indicator': 'stochastic16', 'barrier': 15}, 'lower': {'indicator': 'ppo8', 'barrier': 10}, 'best': {'type': 'upper', 'indicator': 'stochastic16', 'barrier': 15}}}, 'order': {'single': {'upper': {'indicator': 'stochastic32', 'barrier': 46}, 'lower': {'indicator': 'adx16', 'barrier': 13}, 'best': {'type': 'upper', 'indicator': 'stochastic32', 'barrier': 46}}}}\n",
      "Key in forward opt json 08-01 - 12-month - order - 1488\n"
     ]
    },
    {
     "name": "stderr",
     "output_type": "stream",
     "text": [
      "\r",
      " 38%|███▊      | 376/996 [2:28:19<4:42:13, 27.31s/it]"
     ]
    },
    {
     "name": "stdout",
     "output_type": "stream",
     "text": [
      "08-01 - 12-month - order\n",
      "{'mean': {'single': {'upper': {'indicator': 'stochastic16', 'barrier': 12}, 'lower': {'indicator': 'ppo32', 'barrier': 27}, 'best': {'type': 'upper', 'indicator': 'stochastic16', 'barrier': 12}}}, 'order': {'single': {'upper': {'indicator': 'stochastic32', 'barrier': 78}, 'lower': {'indicator': 'stochastic32', 'barrier': 30}, 'best': {'type': 'upper', 'indicator': 'stochastic32', 'barrier': 78}}}}\n",
      "Key in forward opt json 08-02 - 6-month - mean - 342\n"
     ]
    },
    {
     "name": "stderr",
     "output_type": "stream",
     "text": [
      "\r",
      " 38%|███▊      | 377/996 [2:28:39<4:19:15, 25.13s/it]"
     ]
    },
    {
     "name": "stdout",
     "output_type": "stream",
     "text": [
      "08-02 - 6-month - mean\n",
      "{'mean': {'single': {'upper': {'indicator': 'stochastic32', 'barrier': 38}, 'lower': {'indicator': 'stochastic8', 'barrier': 51}, 'best': {'type': 'upper', 'indicator': 'stochastic32', 'barrier': 38}}}, 'order': {'single': {'upper': {'indicator': 'stochastic32', 'barrier': 74}, 'lower': {'indicator': 'adx32', 'barrier': 9}, 'best': {'type': 'upper', 'indicator': 'stochastic32', 'barrier': 74}}}}\n",
      "Key in forward opt json 08-02 - 6-month - order - 389\n"
     ]
    },
    {
     "name": "stderr",
     "output_type": "stream",
     "text": [
      "\r",
      " 38%|███▊      | 378/996 [2:29:00<4:05:41, 23.85s/it]"
     ]
    },
    {
     "name": "stdout",
     "output_type": "stream",
     "text": [
      "08-02 - 6-month - order\n",
      "{'mean': {'single': {'upper': {'indicator': 'ppo8', 'barrier': 3}, 'lower': {'indicator': 'stochastic8', 'barrier': 61}, 'best': {'type': 'upper', 'indicator': 'ppo8', 'barrier': 3}}}, 'order': {'single': {'upper': {'indicator': 'stochastic32', 'barrier': 74}, 'lower': {'indicator': 'adx32', 'barrier': 9}, 'best': {'type': 'upper', 'indicator': 'stochastic32', 'barrier': 74}}}}\n",
      "Key in forward opt json 08-02 - 12-month - mean - 1007\n"
     ]
    },
    {
     "name": "stderr",
     "output_type": "stream",
     "text": [
      "\r",
      " 38%|███▊      | 379/996 [2:29:28<4:19:04, 25.19s/it]"
     ]
    },
    {
     "name": "stdout",
     "output_type": "stream",
     "text": [
      "08-02 - 12-month - mean\n",
      "{'mean': {'single': {'upper': {'indicator': 'stochastic16', 'barrier': 8}, 'lower': {'indicator': 'ppo16', 'barrier': 26}, 'best': {'type': 'upper', 'indicator': 'stochastic16', 'barrier': 8}}}, 'order': {'single': {'upper': {'indicator': 'adx8', 'barrier': 75}, 'lower': {'indicator': 'adx32', 'barrier': 6}, 'best': {'type': 'upper', 'indicator': 'adx8', 'barrier': 75}}}}\n",
      "Key in forward opt json 08-02 - 12-month - order - 1007\n"
     ]
    },
    {
     "name": "stderr",
     "output_type": "stream",
     "text": [
      "\r",
      " 38%|███▊      | 380/996 [2:29:57<4:28:58, 26.20s/it]"
     ]
    },
    {
     "name": "stdout",
     "output_type": "stream",
     "text": [
      "08-02 - 12-month - order\n",
      "{'mean': {'single': {'upper': {'indicator': 'stochastic16', 'barrier': 8}, 'lower': {'indicator': 'ppo16', 'barrier': 26}, 'best': {'type': 'upper', 'indicator': 'stochastic16', 'barrier': 8}}}, 'order': {'single': {'upper': {'indicator': 'adx8', 'barrier': 51}, 'lower': {'indicator': 'stochastic32', 'barrier': 8}, 'best': {'type': 'upper', 'indicator': 'adx8', 'barrier': 51}}}}\n",
      "Key in forward opt json 08-03 - 6-month - mean - 314\n"
     ]
    },
    {
     "name": "stderr",
     "output_type": "stream",
     "text": [
      "\r",
      " 38%|███▊      | 381/996 [2:30:17<4:09:14, 24.32s/it]"
     ]
    },
    {
     "name": "stdout",
     "output_type": "stream",
     "text": [
      "08-03 - 6-month - mean\n",
      "{'mean': {'single': {'upper': {'indicator': 'stochastic8', 'barrier': 29}, 'lower': {'indicator': 'stochastic8', 'barrier': 51}, 'best': {'type': 'upper', 'indicator': 'stochastic8', 'barrier': 29}}}, 'order': {'single': {'upper': {'indicator': 'adx8', 'barrier': 44}, 'lower': {'indicator': 'adx16', 'barrier': 12}, 'best': {'type': 'upper', 'indicator': 'adx8', 'barrier': 44}}}}\n",
      "Key in forward opt json 08-03 - 6-month - order - 366\n"
     ]
    },
    {
     "name": "stderr",
     "output_type": "stream",
     "text": [
      "\r",
      " 38%|███▊      | 382/996 [2:30:38<3:58:04, 23.26s/it]"
     ]
    },
    {
     "name": "stdout",
     "output_type": "stream",
     "text": [
      "08-03 - 6-month - order\n",
      "{'mean': {'single': {'upper': {'indicator': 'ppo8', 'barrier': 3}, 'lower': {'indicator': 'ppo8', 'barrier': 29}, 'best': {'type': 'upper', 'indicator': 'ppo8', 'barrier': 3}}}, 'order': {'single': {'upper': {'indicator': 'stochastic8', 'barrier': 33}, 'lower': {'indicator': 'adx32', 'barrier': 11}, 'best': {'type': 'upper', 'indicator': 'stochastic8', 'barrier': 33}}}}\n",
      "Key in forward opt json 08-03 - 12-month - mean - 891\n"
     ]
    },
    {
     "name": "stderr",
     "output_type": "stream",
     "text": [
      "\r",
      " 38%|███▊      | 383/996 [2:31:05<4:08:57, 24.37s/it]"
     ]
    },
    {
     "name": "stdout",
     "output_type": "stream",
     "text": [
      "08-03 - 12-month - mean\n",
      "{'mean': {'single': {'upper': {'indicator': 'stochastic16', 'barrier': 8}, 'lower': {'indicator': 'ppo16', 'barrier': 26}, 'best': {'type': 'upper', 'indicator': 'stochastic16', 'barrier': 8}}}, 'order': {'single': {'upper': {'indicator': 'adx16', 'barrier': 26}, 'lower': {'indicator': 'adx32', 'barrier': 14}, 'best': {'type': 'upper', 'indicator': 'adx16', 'barrier': 26}}}}\n",
      "Key in forward opt json 08-03 - 12-month - order - 891\n"
     ]
    },
    {
     "name": "stderr",
     "output_type": "stream",
     "text": [
      "\r",
      " 39%|███▊      | 384/996 [2:31:31<4:15:37, 25.06s/it]"
     ]
    },
    {
     "name": "stdout",
     "output_type": "stream",
     "text": [
      "08-03 - 12-month - order\n",
      "{'mean': {'single': {'upper': {'indicator': 'stochastic16', 'barrier': 8}, 'lower': {'indicator': 'ppo16', 'barrier': 26}, 'best': {'type': 'upper', 'indicator': 'stochastic16', 'barrier': 8}}}, 'order': {'single': {'upper': {'indicator': 'adx16', 'barrier': 26}, 'lower': {'indicator': 'adx32', 'barrier': 14}, 'best': {'type': 'upper', 'indicator': 'adx16', 'barrier': 26}}}}\n",
      "Key in forward opt json 08-04 - 6-month - mean - 307\n"
     ]
    },
    {
     "name": "stderr",
     "output_type": "stream",
     "text": [
      "\r",
      " 39%|███▊      | 385/996 [2:31:51<3:58:51, 23.46s/it]"
     ]
    },
    {
     "name": "stdout",
     "output_type": "stream",
     "text": [
      "08-04 - 6-month - mean\n",
      "{'mean': {'single': {'upper': {'indicator': 'ppo8', 'barrier': 3}, 'lower': {'indicator': 'ppo16', 'barrier': 22}, 'best': {'type': 'upper', 'indicator': 'ppo8', 'barrier': 3}}}, 'order': {'single': {'upper': {'indicator': 'adx8', 'barrier': 42}, 'lower': {'indicator': 'adx16', 'barrier': 12}, 'best': {'type': 'upper', 'indicator': 'adx8', 'barrier': 42}}}}\n",
      "Key in forward opt json 08-04 - 6-month - order - 307\n"
     ]
    },
    {
     "name": "stderr",
     "output_type": "stream",
     "text": [
      "\r",
      " 39%|███▉      | 386/996 [2:32:11<3:48:14, 22.45s/it]"
     ]
    },
    {
     "name": "stdout",
     "output_type": "stream",
     "text": [
      "08-04 - 6-month - order\n",
      "{'mean': {'single': {'upper': {'indicator': 'stochastic32', 'barrier': 34}, 'lower': {'indicator': 'adx16', 'barrier': 36}, 'best': {'type': 'upper', 'indicator': 'stochastic32', 'barrier': 34}}}, 'order': {'single': {'upper': {'indicator': 'adx16', 'barrier': 30}, 'lower': {'indicator': 'stochastic8', 'barrier': 31}, 'best': {'type': 'upper', 'indicator': 'adx16', 'barrier': 30}}}}\n",
      "Key in forward opt json 08-04 - 12-month - mean - 114\n"
     ]
    },
    {
     "name": "stderr",
     "output_type": "stream",
     "text": [
      "\r",
      " 39%|███▉      | 387/996 [2:32:32<3:41:31, 21.82s/it]"
     ]
    },
    {
     "name": "stdout",
     "output_type": "stream",
     "text": [
      "08-04 - 12-month - mean\n",
      "{'mean': {'single': {'upper': {'indicator': 'adx32', 'barrier': 10}, 'lower': {'indicator': 'stochastic32', 'barrier': 29}, 'best': {'type': 'upper', 'indicator': 'adx32', 'barrier': 10}}}, 'order': {'single': {'upper': {'indicator': 'adx8', 'barrier': 55}, 'lower': {'indicator': 'ppo32', 'barrier': 6}, 'best': {'type': 'upper', 'indicator': 'adx8', 'barrier': 55}}}}\n",
      "Key in forward opt json 08-04 - 12-month - order - 908\n"
     ]
    },
    {
     "name": "stderr",
     "output_type": "stream",
     "text": [
      "\r",
      " 39%|███▉      | 388/996 [2:32:59<3:57:00, 23.39s/it]"
     ]
    },
    {
     "name": "stdout",
     "output_type": "stream",
     "text": [
      "08-04 - 12-month - order\n",
      "{'mean': {'single': {'upper': {'indicator': 'stochastic16', 'barrier': 8}, 'lower': {'indicator': 'ppo16', 'barrier': 31}, 'best': {'type': 'upper', 'indicator': 'stochastic16', 'barrier': 8}}}, 'order': {'single': {'upper': {'indicator': 'stochastic8', 'barrier': 36}, 'lower': {'indicator': 'adx32', 'barrier': 14}, 'best': {'type': 'upper', 'indicator': 'stochastic8', 'barrier': 36}}}}\n",
      "Key in forward opt json 08-05 - 6-month - mean - 246\n"
     ]
    },
    {
     "name": "stderr",
     "output_type": "stream",
     "text": [
      "\r",
      " 39%|███▉      | 389/996 [2:33:18<3:44:31, 22.19s/it]"
     ]
    },
    {
     "name": "stdout",
     "output_type": "stream",
     "text": [
      "08-05 - 6-month - mean\n",
      "{'mean': {'single': {'upper': {'indicator': 'stochastic8', 'barrier': 29}, 'lower': {'indicator': 'ppo8', 'barrier': 23}, 'best': {'type': 'upper', 'indicator': 'stochastic8', 'barrier': 29}}}, 'order': {'single': {'upper': {'indicator': 'adx8', 'barrier': 42}, 'lower': {'indicator': 'adx16', 'barrier': 13}, 'best': {'type': 'upper', 'indicator': 'adx8', 'barrier': 42}}}}\n",
      "Key in forward opt json 08-05 - 6-month - order - 403\n"
     ]
    },
    {
     "name": "stderr",
     "output_type": "stream",
     "text": [
      "\r",
      " 39%|███▉      | 390/996 [2:33:40<3:42:55, 22.07s/it]"
     ]
    },
    {
     "name": "stdout",
     "output_type": "stream",
     "text": [
      "08-05 - 6-month - order\n",
      "{'mean': {'single': {'upper': {'indicator': 'adx8', 'barrier': 15}, 'lower': {'indicator': 'ppo16', 'barrier': 21}, 'best': {'type': 'upper', 'indicator': 'adx8', 'barrier': 15}}}, 'order': {'single': {'upper': {'indicator': 'adx8', 'barrier': 41}, 'lower': {'indicator': 'stochastic16', 'barrier': 31}, 'best': {'type': 'upper', 'indicator': 'adx8', 'barrier': 41}}}}\n",
      "Key in forward opt json 08-05 - 12-month - mean - 112\n"
     ]
    },
    {
     "name": "stderr",
     "output_type": "stream",
     "text": [
      "\r",
      " 39%|███▉      | 391/996 [2:34:00<3:36:02, 21.43s/it]"
     ]
    },
    {
     "name": "stdout",
     "output_type": "stream",
     "text": [
      "08-05 - 12-month - mean\n",
      "{'mean': {'single': {'upper': {'indicator': 'adx32', 'barrier': 10}, 'lower': {'indicator': 'stochastic32', 'barrier': 29}, 'best': {'type': 'upper', 'indicator': 'adx32', 'barrier': 10}}}, 'order': {'single': {'upper': {'indicator': 'adx8', 'barrier': 55}, 'lower': {'indicator': 'ppo32', 'barrier': 4}, 'best': {'type': 'upper', 'indicator': 'adx8', 'barrier': 55}}}}\n",
      "Key in forward opt json 08-05 - 12-month - order - 860\n"
     ]
    },
    {
     "name": "stderr",
     "output_type": "stream",
     "text": [
      "\r",
      " 39%|███▉      | 392/996 [2:34:25<3:48:39, 22.71s/it]"
     ]
    },
    {
     "name": "stdout",
     "output_type": "stream",
     "text": [
      "08-05 - 12-month - order\n",
      "{'mean': {'single': {'upper': {'indicator': 'stochastic16', 'barrier': 8}, 'lower': {'indicator': 'ppo16', 'barrier': 31}, 'best': {'type': 'upper', 'indicator': 'stochastic16', 'barrier': 8}}}, 'order': {'single': {'upper': {'indicator': 'ppo16', 'barrier': 17}, 'lower': {'indicator': 'adx32', 'barrier': 10}, 'best': {'type': 'upper', 'indicator': 'ppo16', 'barrier': 17}}}}\n",
      "Key in forward opt json 08-06 - 6-month - mean - 249\n"
     ]
    },
    {
     "name": "stderr",
     "output_type": "stream",
     "text": [
      "\r",
      " 39%|███▉      | 393/996 [2:34:45<3:38:25, 21.73s/it]"
     ]
    },
    {
     "name": "stdout",
     "output_type": "stream",
     "text": [
      "08-06 - 6-month - mean\n",
      "{'mean': {'single': {'upper': {'indicator': 'ppo32', 'barrier': 3}, 'lower': {'indicator': 'ppo8', 'barrier': 24}, 'best': {'type': 'upper', 'indicator': 'ppo32', 'barrier': 3}}}, 'order': {'single': {'upper': {'indicator': 'adx16', 'barrier': 39}, 'lower': {'indicator': 'stochastic32', 'barrier': 52}, 'best': {'type': 'upper', 'indicator': 'adx16', 'barrier': 39}}}}\n",
      "Key in forward opt json 08-06 - 6-month - order - 417\n"
     ]
    },
    {
     "name": "stderr",
     "output_type": "stream",
     "text": [
      "\r",
      " 40%|███▉      | 394/996 [2:35:06<3:36:33, 21.58s/it]"
     ]
    },
    {
     "name": "stdout",
     "output_type": "stream",
     "text": [
      "08-06 - 6-month - order\n",
      "{'mean': {'single': {'upper': {'indicator': 'adx8', 'barrier': 14}, 'lower': {'indicator': 'ppo8', 'barrier': 25}, 'best': {'type': 'upper', 'indicator': 'adx8', 'barrier': 14}}}, 'order': {'single': {'upper': {'indicator': 'adx32', 'barrier': 19}, 'lower': {'indicator': 'stochastic16', 'barrier': 55}, 'best': {'type': 'upper', 'indicator': 'adx32', 'barrier': 19}}}}\n",
      "Key in forward opt json 08-06 - 12-month - mean - 679\n"
     ]
    },
    {
     "name": "stderr",
     "output_type": "stream",
     "text": [
      "\r",
      " 40%|███▉      | 395/996 [2:35:30<3:43:58, 22.36s/it]"
     ]
    },
    {
     "name": "stdout",
     "output_type": "stream",
     "text": [
      "08-06 - 12-month - mean\n",
      "{'mean': {'single': {'upper': {'indicator': 'stochastic8', 'barrier': 25}, 'lower': {'indicator': 'ppo32', 'barrier': 19}, 'best': {'type': 'upper', 'indicator': 'stochastic8', 'barrier': 25}}}, 'order': {'single': {'upper': {'indicator': 'adx32', 'barrier': 19}, 'lower': {'indicator': 'stochastic32', 'barrier': 33}, 'best': {'type': 'upper', 'indicator': 'adx32', 'barrier': 19}}}}\n",
      "Key in forward opt json 08-06 - 12-month - order - 810\n"
     ]
    },
    {
     "name": "stderr",
     "output_type": "stream",
     "text": [
      "\r",
      " 40%|███▉      | 396/996 [2:35:56<3:55:03, 23.51s/it]"
     ]
    },
    {
     "name": "stdout",
     "output_type": "stream",
     "text": [
      "08-06 - 12-month - order\n",
      "{'mean': {'single': {'upper': {'indicator': 'stochastic16', 'barrier': 8}, 'lower': {'indicator': 'ppo16', 'barrier': 29}, 'best': {'type': 'upper', 'indicator': 'stochastic16', 'barrier': 8}}}, 'order': {'single': {'upper': {'indicator': 'ppo8', 'barrier': 15}, 'lower': {'indicator': 'stochastic16', 'barrier': 36}, 'best': {'type': 'upper', 'indicator': 'ppo8', 'barrier': 15}}}}\n",
      "Key in forward opt json 08-07 - 6-month - mean - 250\n"
     ]
    },
    {
     "name": "stderr",
     "output_type": "stream",
     "text": [
      "\r",
      " 40%|███▉      | 397/996 [2:36:17<3:46:35, 22.70s/it]"
     ]
    },
    {
     "name": "stdout",
     "output_type": "stream",
     "text": [
      "08-07 - 6-month - mean\n",
      "{'mean': {'single': {'upper': {'indicator': 'ppo32', 'barrier': 3}, 'lower': {'indicator': 'ppo16', 'barrier': 24}, 'best': {'type': 'upper', 'indicator': 'ppo32', 'barrier': 3}}}, 'order': {'single': {'upper': {'indicator': 'adx32', 'barrier': 20}, 'lower': {'indicator': 'stochastic16', 'barrier': 18}, 'best': {'type': 'upper', 'indicator': 'adx32', 'barrier': 20}}}}\n",
      "Key in forward opt json 08-07 - 6-month - order - 265\n"
     ]
    },
    {
     "name": "stderr",
     "output_type": "stream",
     "text": [
      "\r",
      " 40%|███▉      | 398/996 [2:36:38<3:39:37, 22.04s/it]"
     ]
    },
    {
     "name": "stdout",
     "output_type": "stream",
     "text": [
      "08-07 - 6-month - order\n",
      "{'mean': {'single': {'upper': {'indicator': 'stochastic8', 'barrier': 29}, 'lower': {'indicator': 'ppo8', 'barrier': 29}, 'best': {'type': 'upper', 'indicator': 'stochastic8', 'barrier': 29}}}, 'order': {'single': {'upper': {'indicator': 'adx32', 'barrier': 24}, 'lower': {'indicator': 'stochastic16', 'barrier': 18}, 'best': {'type': 'upper', 'indicator': 'adx32', 'barrier': 24}}}}\n",
      "Key in forward opt json 08-07 - 12-month - mean - 431\n"
     ]
    },
    {
     "name": "stderr",
     "output_type": "stream",
     "text": [
      "\r",
      " 40%|████      | 399/996 [2:36:59<3:36:28, 21.76s/it]"
     ]
    },
    {
     "name": "stdout",
     "output_type": "stream",
     "text": [
      "08-07 - 12-month - mean\n",
      "{'mean': {'single': {'upper': {'indicator': 'ppo8', 'barrier': 4}, 'lower': {'indicator': 'ppo32', 'barrier': 24}, 'best': {'type': 'upper', 'indicator': 'ppo8', 'barrier': 4}}}, 'order': {'single': {'upper': {'indicator': 'stochastic8', 'barrier': 28}, 'lower': {'indicator': 'adx16', 'barrier': 13}, 'best': {'type': 'upper', 'indicator': 'stochastic8', 'barrier': 28}}}}\n",
      "Key in forward opt json 08-07 - 12-month - order - 728\n"
     ]
    },
    {
     "name": "stderr",
     "output_type": "stream",
     "text": [
      "\r",
      " 40%|████      | 400/996 [2:37:22<3:41:45, 22.32s/it]"
     ]
    },
    {
     "name": "stdout",
     "output_type": "stream",
     "text": [
      "08-07 - 12-month - order\n",
      "{'mean': {'single': {'upper': {'indicator': 'stochastic32', 'barrier': 8}, 'lower': {'indicator': 'ppo8', 'barrier': 33}, 'best': {'type': 'upper', 'indicator': 'stochastic32', 'barrier': 8}}}, 'order': {'single': {'upper': {'indicator': 'stochastic8', 'barrier': 61}, 'lower': {'indicator': 'stochastic16', 'barrier': 32}, 'best': {'type': 'upper', 'indicator': 'stochastic8', 'barrier': 61}}}}\n"
     ]
    },
    {
     "name": "stderr",
     "output_type": "stream",
     "text": [
      "\r",
      " 40%|████      | 401/996 [2:37:42<3:32:36, 21.44s/it]"
     ]
    },
    {
     "name": "stdout",
     "output_type": "stream",
     "text": [
      "Key in forward opt json 08-08 - 6-month - mean - 28\n",
      "08-08 - 6-month - mean\n",
      "{'mean': {'single': {'upper': {'indicator': 'stochastic8', 'barrier': 15}, 'lower': {'indicator': 'ppo8', 'barrier': 8}, 'best': {'type': 'upper', 'indicator': 'stochastic8', 'barrier': 15}}}, 'order': {'single': {'upper': {'indicator': 'stochastic8', 'barrier': 23}, 'lower': {'indicator': 'stochastic32', 'barrier': 7}, 'best': {'type': 'upper', 'indicator': 'stochastic8', 'barrier': 23}}}}\n",
      "Key in forward opt json 08-08 - 6-month - order - 223\n"
     ]
    },
    {
     "name": "stderr",
     "output_type": "stream",
     "text": [
      "\r",
      " 40%|████      | 402/996 [2:38:02<3:27:50, 20.99s/it]"
     ]
    },
    {
     "name": "stdout",
     "output_type": "stream",
     "text": [
      "08-08 - 6-month - order\n",
      "{'mean': {'single': {'upper': {'indicator': 'ppo32', 'barrier': 3}, 'lower': {'indicator': 'ppo16', 'barrier': 26}, 'best': {'type': 'upper', 'indicator': 'ppo32', 'barrier': 3}}}, 'order': {'single': {'upper': {'indicator': 'adx32', 'barrier': 24}, 'lower': {'indicator': 'stochastic32', 'barrier': 27}, 'best': {'type': 'upper', 'indicator': 'adx32', 'barrier': 24}}}}\n",
      "Key in forward opt json 08-08 - 12-month - mean - 580\n"
     ]
    },
    {
     "name": "stderr",
     "output_type": "stream",
     "text": [
      "\r",
      " 40%|████      | 403/996 [2:38:24<3:31:28, 21.40s/it]"
     ]
    },
    {
     "name": "stdout",
     "output_type": "stream",
     "text": [
      "08-08 - 12-month - mean\n",
      "{'mean': {'single': {'upper': {'indicator': 'stochastic8', 'barrier': 9}, 'lower': {'indicator': 'ppo8', 'barrier': 32}, 'best': {'type': 'upper', 'indicator': 'stochastic8', 'barrier': 9}}}, 'order': {'single': {'upper': {'indicator': 'adx32', 'barrier': 24}, 'lower': {'indicator': 'stochastic32', 'barrier': 28}, 'best': {'type': 'upper', 'indicator': 'adx32', 'barrier': 24}}}}\n",
      "Key in forward opt json 08-08 - 12-month - order - 616\n"
     ]
    },
    {
     "name": "stderr",
     "output_type": "stream",
     "text": [
      "\r",
      " 41%|████      | 404/996 [2:38:47<3:35:05, 21.80s/it]"
     ]
    },
    {
     "name": "stdout",
     "output_type": "stream",
     "text": [
      "08-08 - 12-month - order\n",
      "{'mean': {'single': {'upper': {'indicator': 'stochastic8', 'barrier': 9}, 'lower': {'indicator': 'ppo8', 'barrier': 33}, 'best': {'type': 'upper', 'indicator': 'stochastic8', 'barrier': 9}}}, 'order': {'single': {'upper': {'indicator': 'adx32', 'barrier': 24}, 'lower': {'indicator': 'stochastic16', 'barrier': 18}, 'best': {'type': 'upper', 'indicator': 'adx32', 'barrier': 24}}}}\n",
      "Key in forward opt json 08-09 - 6-month - mean - 27\n"
     ]
    },
    {
     "name": "stderr",
     "output_type": "stream",
     "text": [
      "\r",
      " 41%|████      | 405/996 [2:39:06<3:28:05, 21.13s/it]"
     ]
    },
    {
     "name": "stdout",
     "output_type": "stream",
     "text": [
      "08-09 - 6-month - mean\n",
      "{'mean': {'single': {'upper': {'indicator': 'stochastic16', 'barrier': 13}, 'lower': {'indicator': 'ppo32', 'barrier': 8}, 'best': {'type': 'upper', 'indicator': 'stochastic16', 'barrier': 13}}}, 'order': {'single': {'upper': {'indicator': 'stochastic8', 'barrier': 23}, 'lower': {'indicator': 'stochastic32', 'barrier': 7}, 'best': {'type': 'upper', 'indicator': 'stochastic8', 'barrier': 23}}}}\n",
      "Key in forward opt json 08-09 - 6-month - order - 363\n"
     ]
    },
    {
     "name": "stderr",
     "output_type": "stream",
     "text": [
      "\r",
      " 41%|████      | 406/996 [2:39:28<3:27:50, 21.14s/it]"
     ]
    },
    {
     "name": "stdout",
     "output_type": "stream",
     "text": [
      "08-09 - 6-month - order\n",
      "{'mean': {'single': {'upper': {'indicator': 'stochastic16', 'barrier': 22}, 'lower': {'indicator': 'adx32', 'barrier': 24}, 'best': {'type': 'upper', 'indicator': 'stochastic16', 'barrier': 22}}}, 'order': {'single': {'upper': {'indicator': 'stochastic8', 'barrier': 72}, 'lower': {'indicator': 'stochastic32', 'barrier': 48}, 'best': {'type': 'upper', 'indicator': 'stochastic8', 'barrier': 72}}}}\n",
      "Key in forward opt json 08-09 - 12-month - mean - 561\n"
     ]
    },
    {
     "name": "stderr",
     "output_type": "stream",
     "text": [
      "\r",
      " 41%|████      | 407/996 [2:39:50<3:31:02, 21.50s/it]"
     ]
    },
    {
     "name": "stdout",
     "output_type": "stream",
     "text": [
      "08-09 - 12-month - mean\n",
      "{'mean': {'single': {'upper': {'indicator': 'stochastic8', 'barrier': 9}, 'lower': {'indicator': 'ppo16', 'barrier': 28}, 'best': {'type': 'upper', 'indicator': 'stochastic8', 'barrier': 9}}}, 'order': {'single': {'upper': {'indicator': 'adx32', 'barrier': 24}, 'lower': {'indicator': 'stochastic16', 'barrier': 20}, 'best': {'type': 'upper', 'indicator': 'adx32', 'barrier': 24}}}}\n",
      "Key in forward opt json 08-09 - 12-month - order - 561\n"
     ]
    },
    {
     "name": "stderr",
     "output_type": "stream",
     "text": [
      "\r",
      " 41%|████      | 408/996 [2:40:13<3:34:47, 21.92s/it]"
     ]
    },
    {
     "name": "stdout",
     "output_type": "stream",
     "text": [
      "08-09 - 12-month - order\n",
      "{'mean': {'single': {'upper': {'indicator': 'stochastic8', 'barrier': 9}, 'lower': {'indicator': 'ppo16', 'barrier': 28}, 'best': {'type': 'upper', 'indicator': 'stochastic8', 'barrier': 9}}}, 'order': {'single': {'upper': {'indicator': 'adx32', 'barrier': 24}, 'lower': {'indicator': 'stochastic16', 'barrier': 20}, 'best': {'type': 'upper', 'indicator': 'adx32', 'barrier': 24}}}}\n"
     ]
    },
    {
     "name": "stderr",
     "output_type": "stream",
     "text": [
      "\r",
      " 41%|████      | 409/996 [2:40:32<3:27:43, 21.23s/it]"
     ]
    },
    {
     "name": "stdout",
     "output_type": "stream",
     "text": [
      "Key in forward opt json 08-10 - 6-month - mean - 16\n",
      "08-10 - 6-month - mean\n",
      "{'mean': {'single': {'upper': {'indicator': 'adx8', 'barrier': 36}, 'lower': {'indicator': 'stochastic16', 'barrier': 9}, 'best': {'type': 'upper', 'indicator': 'adx8', 'barrier': 36}}}, 'order': {'single': {'upper': {'indicator': 'ppo32', 'barrier': 15}, 'lower': {'indicator': 'adx8', 'barrier': 20}, 'best': {'type': 'upper', 'indicator': 'ppo32', 'barrier': 15}}}}\n",
      "Key in forward opt json 08-10 - 6-month - order - 411\n"
     ]
    },
    {
     "name": "stderr",
     "output_type": "stream",
     "text": [
      "\r",
      " 41%|████      | 410/996 [2:40:55<3:30:43, 21.58s/it]"
     ]
    },
    {
     "name": "stdout",
     "output_type": "stream",
     "text": [
      "08-10 - 6-month - order\n",
      "{'mean': {'single': {'upper': {'indicator': 'ppo16', 'barrier': -2}, 'lower': {'indicator': 'adx32', 'barrier': 25}, 'best': {'type': 'upper', 'indicator': 'ppo16', 'barrier': -2}}}, 'order': {'single': {'upper': {'indicator': 'ppo16', 'barrier': 22}, 'lower': {'indicator': 'stochastic16', 'barrier': 8}, 'best': {'type': 'upper', 'indicator': 'ppo16', 'barrier': 22}}}}\n",
      "Key in forward opt json 08-10 - 12-month - mean - 98\n"
     ]
    },
    {
     "name": "stderr",
     "output_type": "stream",
     "text": [
      "\r",
      " 41%|████▏     | 411/996 [2:41:15<3:27:16, 21.26s/it]"
     ]
    },
    {
     "name": "stdout",
     "output_type": "stream",
     "text": [
      "08-10 - 12-month - mean\n",
      "{'mean': {'single': {'upper': {'indicator': 'stochastic8', 'barrier': 9}, 'lower': {'indicator': 'adx16', 'barrier': 26}, 'best': {'type': 'upper', 'indicator': 'stochastic8', 'barrier': 9}}}, 'order': {'single': {'upper': {'indicator': 'adx32', 'barrier': 22}, 'lower': {'indicator': 'stochastic32', 'barrier': 11}, 'best': {'type': 'upper', 'indicator': 'adx32', 'barrier': 22}}}}\n",
      "Key in forward opt json 08-10 - 12-month - order - 846\n"
     ]
    },
    {
     "name": "stderr",
     "output_type": "stream",
     "text": [
      "\r",
      " 41%|████▏     | 412/996 [2:41:42<3:42:53, 22.90s/it]"
     ]
    },
    {
     "name": "stdout",
     "output_type": "stream",
     "text": [
      "08-10 - 12-month - order\n",
      "{'mean': {'single': {'upper': {'indicator': 'ppo16', 'barrier': -2}, 'lower': {'indicator': 'adx32', 'barrier': 25}, 'best': {'type': 'upper', 'indicator': 'ppo16', 'barrier': -2}}}, 'order': {'single': {'upper': {'indicator': 'stochastic8', 'barrier': 84}, 'lower': {'indicator': 'stochastic16', 'barrier': 10}, 'best': {'type': 'upper', 'indicator': 'stochastic8', 'barrier': 84}}}}\n",
      "Key in forward opt json 08-11 - 6-month - mean - 39\n"
     ]
    },
    {
     "name": "stderr",
     "output_type": "stream",
     "text": [
      "\r",
      " 41%|████▏     | 413/996 [2:42:02<3:33:39, 21.99s/it]"
     ]
    },
    {
     "name": "stdout",
     "output_type": "stream",
     "text": [
      "08-11 - 6-month - mean\n",
      "{'mean': {'single': {'upper': {'indicator': 'adx16', 'barrier': 17}, 'lower': {'indicator': 'ppo16', 'barrier': 13}, 'best': {'type': 'upper', 'indicator': 'adx16', 'barrier': 17}}}, 'order': {'single': {'upper': {'indicator': 'adx32', 'barrier': 23}, 'lower': {'indicator': 'stochastic32', 'barrier': 11}, 'best': {'type': 'upper', 'indicator': 'adx32', 'barrier': 23}}}}\n",
      "Key in forward opt json 08-11 - 6-month - order - 353\n"
     ]
    },
    {
     "name": "stderr",
     "output_type": "stream",
     "text": [
      "\r",
      " 42%|████▏     | 414/996 [2:42:23<3:29:34, 21.61s/it]"
     ]
    },
    {
     "name": "stdout",
     "output_type": "stream",
     "text": [
      "08-11 - 6-month - order\n",
      "{'mean': {'single': {'upper': {'indicator': 'ppo16', 'barrier': -2}, 'lower': {'indicator': 'adx32', 'barrier': 25}, 'best': {'type': 'upper', 'indicator': 'ppo16', 'barrier': -2}}}, 'order': {'single': {'upper': {'indicator': 'ppo16', 'barrier': 22}, 'lower': {'indicator': 'stochastic16', 'barrier': 8}, 'best': {'type': 'upper', 'indicator': 'ppo16', 'barrier': 22}}}}\n",
      "Key in forward opt json 08-11 - 12-month - mean - 460\n"
     ]
    },
    {
     "name": "stderr",
     "output_type": "stream",
     "text": [
      "\r",
      " 42%|████▏     | 415/996 [2:42:44<3:28:53, 21.57s/it]"
     ]
    },
    {
     "name": "stdout",
     "output_type": "stream",
     "text": [
      "08-11 - 12-month - mean\n",
      "{'mean': {'single': {'upper': {'indicator': 'ppo8', 'barrier': 2}, 'lower': {'indicator': 'adx8', 'barrier': 38}, 'best': {'type': 'upper', 'indicator': 'ppo8', 'barrier': 2}}}, 'order': {'single': {'upper': {'indicator': 'adx32', 'barrier': 20}, 'lower': {'indicator': 'stochastic32', 'barrier': 27}, 'best': {'type': 'upper', 'indicator': 'adx32', 'barrier': 20}}}}\n",
      "Key in forward opt json 08-11 - 12-month - order - 750\n"
     ]
    },
    {
     "name": "stderr",
     "output_type": "stream",
     "text": [
      "\r",
      " 42%|████▏     | 416/996 [2:43:08<3:35:55, 22.34s/it]"
     ]
    },
    {
     "name": "stdout",
     "output_type": "stream",
     "text": [
      "08-11 - 12-month - order\n",
      "{'mean': {'single': {'upper': {'indicator': 'ppo16', 'barrier': -2}, 'lower': {'indicator': 'adx8', 'barrier': 61}, 'best': {'type': 'upper', 'indicator': 'ppo16', 'barrier': -2}}}, 'order': {'single': {'upper': {'indicator': 'stochastic8', 'barrier': 84}, 'lower': {'indicator': 'stochastic16', 'barrier': 10}, 'best': {'type': 'upper', 'indicator': 'stochastic8', 'barrier': 84}}}}\n",
      "Key in forward opt json 08-12 - 6-month - mean - 37\n"
     ]
    },
    {
     "name": "stderr",
     "output_type": "stream",
     "text": [
      "\r",
      " 42%|████▏     | 417/996 [2:43:28<3:29:21, 21.69s/it]"
     ]
    },
    {
     "name": "stdout",
     "output_type": "stream",
     "text": [
      "08-12 - 6-month - mean\n",
      "{'mean': {'single': {'upper': {'indicator': 'adx16', 'barrier': 17}, 'lower': {'indicator': 'stochastic32', 'barrier': 15}, 'best': {'type': 'upper', 'indicator': 'adx16', 'barrier': 17}}}, 'order': {'single': {'upper': {'indicator': 'adx32', 'barrier': 23}, 'lower': {'indicator': 'stochastic32', 'barrier': 11}, 'best': {'type': 'upper', 'indicator': 'adx32', 'barrier': 23}}}}\n",
      "Key in forward opt json 08-12 - 6-month - order - 273\n"
     ]
    },
    {
     "name": "stderr",
     "output_type": "stream",
     "text": [
      "\r",
      " 42%|████▏     | 418/996 [2:43:48<3:22:46, 21.05s/it]"
     ]
    },
    {
     "name": "stdout",
     "output_type": "stream",
     "text": [
      "08-12 - 6-month - order\n",
      "{'mean': {'single': {'upper': {'indicator': 'ppo16', 'barrier': -2}, 'lower': {'indicator': 'ppo8', 'barrier': 17}, 'best': {'type': 'upper', 'indicator': 'ppo16', 'barrier': -2}}}, 'order': {'single': {'upper': {'indicator': 'ppo16', 'barrier': 22}, 'lower': {'indicator': 'stochastic8', 'barrier': 26}, 'best': {'type': 'upper', 'indicator': 'ppo16', 'barrier': 22}}}}\n",
      "Key in forward opt json 08-12 - 12-month - mean - 418\n"
     ]
    },
    {
     "name": "stderr",
     "output_type": "stream",
     "text": [
      "\r",
      " 42%|████▏     | 419/996 [2:44:09<3:21:23, 20.94s/it]"
     ]
    },
    {
     "name": "stdout",
     "output_type": "stream",
     "text": [
      "08-12 - 12-month - mean\n",
      "{'mean': {'single': {'upper': {'indicator': 'ppo8', 'barrier': 2}, 'lower': {'indicator': 'ppo32', 'barrier': 19}, 'best': {'type': 'upper', 'indicator': 'ppo8', 'barrier': 2}}}, 'order': {'single': {'upper': {'indicator': 'adx32', 'barrier': 20}, 'lower': {'indicator': 'stochastic32', 'barrier': 27}, 'best': {'type': 'upper', 'indicator': 'adx32', 'barrier': 20}}}}\n",
      "Key in forward opt json 08-12 - 12-month - order - 663\n"
     ]
    },
    {
     "name": "stderr",
     "output_type": "stream",
     "text": [
      "\r",
      " 42%|████▏     | 420/996 [2:44:32<3:28:55, 21.76s/it]"
     ]
    },
    {
     "name": "stdout",
     "output_type": "stream",
     "text": [
      "08-12 - 12-month - order\n",
      "{'mean': {'single': {'upper': {'indicator': 'ppo16', 'barrier': -2}, 'lower': {'indicator': 'adx8', 'barrier': 59}, 'best': {'type': 'upper', 'indicator': 'ppo16', 'barrier': -2}}}, 'order': {'single': {'upper': {'indicator': 'stochastic8', 'barrier': 84}, 'lower': {'indicator': 'stochastic16', 'barrier': 10}, 'best': {'type': 'upper', 'indicator': 'stochastic8', 'barrier': 84}}}}\n",
      "Key in forward opt json 09-01 - 6-month - mean - 22\n"
     ]
    },
    {
     "name": "stderr",
     "output_type": "stream",
     "text": [
      "\r",
      " 42%|████▏     | 421/996 [2:44:51<3:20:38, 20.94s/it]"
     ]
    },
    {
     "name": "stdout",
     "output_type": "stream",
     "text": [
      "09-01 - 6-month - mean\n",
      "{'mean': {'single': {'upper': {'indicator': 'adx32', 'barrier': 17}, 'lower': {'indicator': 'stochastic16', 'barrier': 15}, 'best': {'type': 'upper', 'indicator': 'adx32', 'barrier': 17}}}, 'order': {'single': {'upper': {'indicator': 'adx32', 'barrier': 23}, 'lower': {'indicator': 'stochastic16', 'barrier': 9}, 'best': {'type': 'upper', 'indicator': 'adx32', 'barrier': 23}}}}\n",
      "Key in forward opt json 09-01 - 6-month - order - 22\n"
     ]
    },
    {
     "name": "stderr",
     "output_type": "stream",
     "text": [
      "\r",
      " 42%|████▏     | 422/996 [2:45:11<3:15:45, 20.46s/it]"
     ]
    },
    {
     "name": "stdout",
     "output_type": "stream",
     "text": [
      "09-01 - 6-month - order\n",
      "{'mean': {'single': {'upper': {'indicator': 'adx32', 'barrier': 17}, 'lower': {'indicator': 'ppo32', 'barrier': 7}, 'best': {'type': 'upper', 'indicator': 'adx32', 'barrier': 17}}}, 'order': {'single': {'upper': {'indicator': 'stochastic32', 'barrier': 25}, 'lower': {'indicator': 'adx16', 'barrier': 13}, 'best': {'type': 'upper', 'indicator': 'stochastic32', 'barrier': 25}}}}\n",
      "Key in forward opt json 09-01 - 12-month - mean - 364\n"
     ]
    },
    {
     "name": "stderr",
     "output_type": "stream",
     "text": [
      "\r",
      " 42%|████▏     | 423/996 [2:45:31<3:16:04, 20.53s/it]"
     ]
    },
    {
     "name": "stdout",
     "output_type": "stream",
     "text": [
      "09-01 - 12-month - mean\n",
      "{'mean': {'single': {'upper': {'indicator': 'ppo8', 'barrier': 2}, 'lower': {'indicator': 'ppo8', 'barrier': 18}, 'best': {'type': 'upper', 'indicator': 'ppo8', 'barrier': 2}}}, 'order': {'single': {'upper': {'indicator': 'adx32', 'barrier': 20}, 'lower': {'indicator': 'stochastic32', 'barrier': 27}, 'best': {'type': 'upper', 'indicator': 'adx32', 'barrier': 20}}}}\n",
      "Key in forward opt json 09-01 - 12-month - order - 565\n"
     ]
    },
    {
     "name": "stderr",
     "output_type": "stream",
     "text": [
      "\r",
      " 43%|████▎     | 424/996 [2:45:55<3:23:31, 21.35s/it]"
     ]
    },
    {
     "name": "stdout",
     "output_type": "stream",
     "text": [
      "09-01 - 12-month - order\n",
      "{'mean': {'single': {'upper': {'indicator': 'ppo16', 'barrier': -2}, 'lower': {'indicator': 'adx32', 'barrier': 25}, 'best': {'type': 'upper', 'indicator': 'ppo16', 'barrier': -2}}}, 'order': {'single': {'upper': {'indicator': 'stochastic8', 'barrier': 84}, 'lower': {'indicator': 'stochastic16', 'barrier': 8}, 'best': {'type': 'upper', 'indicator': 'stochastic8', 'barrier': 84}}}}\n"
     ]
    },
    {
     "name": "stderr",
     "output_type": "stream",
     "text": [
      "\r",
      " 43%|████▎     | 425/996 [2:46:14<3:17:48, 20.79s/it]"
     ]
    },
    {
     "name": "stdout",
     "output_type": "stream",
     "text": [
      "Key in forward opt json 09-02 - 6-month - mean - 8\n",
      "Not enough trades for 09-02 - 6-month - mean\n",
      "09-02 - 6-month - mean\n",
      "None\n",
      "Key in forward opt json 09-02 - 6-month - order - 101\n"
     ]
    },
    {
     "name": "stderr",
     "output_type": "stream",
     "text": [
      "\r",
      " 43%|████▎     | 426/996 [2:46:33<3:13:03, 20.32s/it]"
     ]
    },
    {
     "name": "stdout",
     "output_type": "stream",
     "text": [
      "09-02 - 6-month - order\n",
      "{'mean': {'single': {'upper': {'indicator': 'stochastic8', 'barrier': 20}, 'lower': {'indicator': 'ppo16', 'barrier': 12}, 'best': {'type': 'upper', 'indicator': 'stochastic8', 'barrier': 20}}}, 'order': {'single': {'upper': {'indicator': 'adx32', 'barrier': 20}, 'lower': {'indicator': 'stochastic32', 'barrier': 40}, 'best': {'type': 'upper', 'indicator': 'adx32', 'barrier': 20}}}}\n",
      "Key in forward opt json 09-02 - 12-month - mean - 47\n"
     ]
    },
    {
     "name": "stderr",
     "output_type": "stream",
     "text": [
      "\r",
      " 43%|████▎     | 427/996 [2:46:52<3:07:59, 19.82s/it]"
     ]
    },
    {
     "name": "stdout",
     "output_type": "stream",
     "text": [
      "09-02 - 12-month - mean\n",
      "{'mean': {'single': {'upper': {'indicator': 'adx16', 'barrier': 17}, 'lower': {'indicator': 'stochastic16', 'barrier': 19}, 'best': {'type': 'upper', 'indicator': 'adx16', 'barrier': 17}}}, 'order': {'single': {'upper': {'indicator': 'adx32', 'barrier': 22}, 'lower': {'indicator': 'stochastic32', 'barrier': 11}, 'best': {'type': 'upper', 'indicator': 'adx32', 'barrier': 22}}}}\n",
      "Key in forward opt json 09-02 - 12-month - order - 523\n"
     ]
    },
    {
     "name": "stderr",
     "output_type": "stream",
     "text": [
      "\r",
      " 43%|████▎     | 428/996 [2:47:14<3:12:21, 20.32s/it]"
     ]
    },
    {
     "name": "stdout",
     "output_type": "stream",
     "text": [
      "09-02 - 12-month - order\n",
      "{'mean': {'single': {'upper': {'indicator': 'ppo16', 'barrier': -2}, 'lower': {'indicator': 'adx32', 'barrier': 25}, 'best': {'type': 'upper', 'indicator': 'ppo16', 'barrier': -2}}}, 'order': {'single': {'upper': {'indicator': 'stochastic8', 'barrier': 84}, 'lower': {'indicator': 'stochastic16', 'barrier': 12}, 'best': {'type': 'upper', 'indicator': 'stochastic8', 'barrier': 84}}}}\n"
     ]
    },
    {
     "name": "stderr",
     "output_type": "stream",
     "text": [
      "\r",
      " 43%|████▎     | 429/996 [2:47:33<3:08:17, 19.93s/it]"
     ]
    },
    {
     "name": "stdout",
     "output_type": "stream",
     "text": [
      "Key in forward opt json 09-03 - 6-month - mean - 13\n",
      "09-03 - 6-month - mean\n",
      "{'mean': {'single': {'upper': {'indicator': 'stochastic32', 'barrier': 26}, 'lower': {'indicator': 'ppo16', 'barrier': 6}, 'best': {'type': 'upper', 'indicator': 'stochastic32', 'barrier': 26}}}, 'order': {'single': {'upper': {'indicator': 'adx32', 'barrier': 21}, 'lower': {'indicator': 'adx8', 'barrier': 18}, 'best': {'type': 'upper', 'indicator': 'adx32', 'barrier': 21}}}}\n"
     ]
    },
    {
     "name": "stderr",
     "output_type": "stream",
     "text": [
      "\r",
      " 43%|████▎     | 430/996 [2:47:51<3:04:11, 19.53s/it]"
     ]
    },
    {
     "name": "stdout",
     "output_type": "stream",
     "text": [
      "Key in forward opt json 09-03 - 6-month - order - 13\n",
      "09-03 - 6-month - order\n",
      "{'mean': {'single': {'upper': {'indicator': 'stochastic32', 'barrier': 26}, 'lower': {'indicator': 'ppo16', 'barrier': 6}, 'best': {'type': 'upper', 'indicator': 'stochastic32', 'barrier': 26}}}, 'order': {'single': {'upper': {'indicator': 'adx32', 'barrier': 21}, 'lower': {'indicator': 'adx8', 'barrier': 18}, 'best': {'type': 'upper', 'indicator': 'adx32', 'barrier': 21}}}}\n"
     ]
    },
    {
     "name": "stderr",
     "output_type": "stream",
     "text": [
      "\r",
      " 43%|████▎     | 431/996 [2:48:10<3:02:36, 19.39s/it]"
     ]
    },
    {
     "name": "stdout",
     "output_type": "stream",
     "text": [
      "Key in forward opt json 09-03 - 12-month - mean - 21\n",
      "09-03 - 12-month - mean\n",
      "{'mean': {'single': {'upper': {'indicator': 'adx8', 'barrier': 32}, 'lower': {'indicator': 'stochastic32', 'barrier': 13}, 'best': {'type': 'upper', 'indicator': 'adx8', 'barrier': 32}}}, 'order': {'single': {'upper': {'indicator': 'adx16', 'barrier': 23}, 'lower': {'indicator': 'adx8', 'barrier': 20}, 'best': {'type': 'upper', 'indicator': 'adx16', 'barrier': 23}}}}\n",
      "Key in forward opt json 09-03 - 12-month - order - 484\n"
     ]
    },
    {
     "name": "stderr",
     "output_type": "stream",
     "text": [
      "\r",
      " 43%|████▎     | 432/996 [2:48:33<3:10:28, 20.26s/it]"
     ]
    },
    {
     "name": "stdout",
     "output_type": "stream",
     "text": [
      "09-03 - 12-month - order\n",
      "{'mean': {'single': {'upper': {'indicator': 'ppo16', 'barrier': -2}, 'lower': {'indicator': 'adx32', 'barrier': 25}, 'best': {'type': 'upper', 'indicator': 'ppo16', 'barrier': -2}}}, 'order': {'single': {'upper': {'indicator': 'ppo16', 'barrier': 22}, 'lower': {'indicator': 'stochastic16', 'barrier': 12}, 'best': {'type': 'upper', 'indicator': 'ppo16', 'barrier': 22}}}}\n"
     ]
    },
    {
     "name": "stderr",
     "output_type": "stream",
     "text": [
      "\r",
      " 43%|████▎     | 433/996 [2:48:52<3:06:51, 19.91s/it]"
     ]
    },
    {
     "name": "stdout",
     "output_type": "stream",
     "text": [
      "Key in forward opt json 09-04 - 6-month - mean - 3\n",
      "Not enough trades for 09-04 - 6-month - mean\n",
      "09-04 - 6-month - mean\n",
      "None\n",
      "Key in forward opt json 09-04 - 6-month - order - 42\n"
     ]
    },
    {
     "name": "stderr",
     "output_type": "stream",
     "text": [
      "\r",
      " 44%|████▎     | 434/996 [2:49:11<3:06:06, 19.87s/it]"
     ]
    },
    {
     "name": "stdout",
     "output_type": "stream",
     "text": [
      "09-04 - 6-month - order\n",
      "{'mean': {'single': {'upper': {'indicator': 'adx16', 'barrier': 14}, 'lower': {'indicator': 'stochastic32', 'barrier': 83}, 'best': {'type': 'upper', 'indicator': 'adx16', 'barrier': 14}}}, 'order': {'single': {'upper': {'indicator': 'ppo32', 'barrier': 6}, 'lower': {'indicator': 'stochastic16', 'barrier': 71}, 'best': {'type': 'upper', 'indicator': 'ppo32', 'barrier': 6}}}}\n"
     ]
    },
    {
     "name": "stderr",
     "output_type": "stream",
     "text": [
      "\r",
      " 44%|████▎     | 435/996 [2:49:31<3:04:03, 19.69s/it]"
     ]
    },
    {
     "name": "stdout",
     "output_type": "stream",
     "text": [
      "Key in forward opt json 09-04 - 12-month - mean - 19\n",
      "09-04 - 12-month - mean\n",
      "{'mean': {'single': {'upper': {'indicator': 'adx16', 'barrier': 23}, 'lower': {'indicator': 'stochastic16', 'barrier': 9}, 'best': {'type': 'upper', 'indicator': 'adx16', 'barrier': 23}}}, 'order': {'single': {'upper': {'indicator': 'adx32', 'barrier': 18}, 'lower': {'indicator': 'adx8', 'barrier': 20}, 'best': {'type': 'upper', 'indicator': 'adx32', 'barrier': 18}}}}\n",
      "Key in forward opt json 09-04 - 12-month - order - 453\n"
     ]
    },
    {
     "name": "stderr",
     "output_type": "stream",
     "text": [
      "\r",
      " 44%|████▍     | 436/996 [2:49:53<3:11:07, 20.48s/it]"
     ]
    },
    {
     "name": "stdout",
     "output_type": "stream",
     "text": [
      "09-04 - 12-month - order\n",
      "{'mean': {'single': {'upper': {'indicator': 'ppo16', 'barrier': -2}, 'lower': {'indicator': 'adx32', 'barrier': 25}, 'best': {'type': 'upper', 'indicator': 'ppo16', 'barrier': -2}}}, 'order': {'single': {'upper': {'indicator': 'ppo16', 'barrier': 22}, 'lower': {'indicator': 'stochastic16', 'barrier': 12}, 'best': {'type': 'upper', 'indicator': 'ppo16', 'barrier': 22}}}}\n",
      "Key in forward opt json 09-05 - 6-month - mean - 25\n"
     ]
    },
    {
     "name": "stderr",
     "output_type": "stream",
     "text": [
      "\r",
      " 44%|████▍     | 437/996 [2:50:12<3:08:02, 20.18s/it]"
     ]
    },
    {
     "name": "stdout",
     "output_type": "stream",
     "text": [
      "09-05 - 6-month - mean\n",
      "{'mean': {'single': {'upper': {'indicator': 'stochastic32', 'barrier': 72}, 'lower': {'indicator': 'adx32', 'barrier': 12}, 'best': {'type': 'upper', 'indicator': 'stochastic32', 'barrier': 72}}}, 'order': {'single': {'upper': {'indicator': 'stochastic16', 'barrier': 73}, 'lower': {'indicator': 'stochastic32', 'barrier': 40}, 'best': {'type': 'upper', 'indicator': 'stochastic16', 'barrier': 73}}}}\n",
      "Key in forward opt json 09-05 - 6-month - order - 81\n"
     ]
    },
    {
     "name": "stderr",
     "output_type": "stream",
     "text": [
      "\r",
      " 44%|████▍     | 438/996 [2:50:32<3:06:52, 20.09s/it]"
     ]
    },
    {
     "name": "stdout",
     "output_type": "stream",
     "text": [
      "09-05 - 6-month - order\n",
      "{'mean': {'single': {'upper': {'indicator': 'stochastic16', 'barrier': 65}, 'lower': {'indicator': 'adx16', 'barrier': 32}, 'best': {'type': 'upper', 'indicator': 'stochastic16', 'barrier': 65}}}, 'order': {'single': {'upper': {'indicator': 'stochastic16', 'barrier': 91}, 'lower': {'indicator': 'ppo16', 'barrier': -4}, 'best': {'type': 'upper', 'indicator': 'stochastic16', 'barrier': 91}}}}\n",
      "Key in forward opt json 09-05 - 12-month - mean - 39\n"
     ]
    },
    {
     "name": "stderr",
     "output_type": "stream",
     "text": [
      "\r",
      " 44%|████▍     | 439/996 [2:50:52<3:03:59, 19.82s/it]"
     ]
    },
    {
     "name": "stdout",
     "output_type": "stream",
     "text": [
      "09-05 - 12-month - mean\n",
      "{'mean': {'single': {'upper': {'indicator': 'adx16', 'barrier': 17}, 'lower': {'indicator': 'ppo16', 'barrier': 13}, 'best': {'type': 'upper', 'indicator': 'adx16', 'barrier': 17}}}, 'order': {'single': {'upper': {'indicator': 'adx32', 'barrier': 23}, 'lower': {'indicator': 'stochastic32', 'barrier': 11}, 'best': {'type': 'upper', 'indicator': 'adx32', 'barrier': 23}}}}\n",
      "Key in forward opt json 09-05 - 12-month - order - 421\n"
     ]
    },
    {
     "name": "stderr",
     "output_type": "stream",
     "text": [
      "\r",
      " 44%|████▍     | 440/996 [2:51:13<3:08:39, 20.36s/it]"
     ]
    },
    {
     "name": "stdout",
     "output_type": "stream",
     "text": [
      "09-05 - 12-month - order\n",
      "{'mean': {'single': {'upper': {'indicator': 'ppo16', 'barrier': -2}, 'lower': {'indicator': 'adx8', 'barrier': 57}, 'best': {'type': 'upper', 'indicator': 'ppo16', 'barrier': -2}}}, 'order': {'single': {'upper': {'indicator': 'ppo32', 'barrier': 23}, 'lower': {'indicator': 'stochastic16', 'barrier': 12}, 'best': {'type': 'upper', 'indicator': 'ppo32', 'barrier': 23}}}}\n",
      "Key in forward opt json 09-06 - 6-month - mean - 27\n"
     ]
    },
    {
     "name": "stderr",
     "output_type": "stream",
     "text": [
      "\r",
      " 44%|████▍     | 441/996 [2:51:35<3:12:11, 20.78s/it]"
     ]
    },
    {
     "name": "stdout",
     "output_type": "stream",
     "text": [
      "09-06 - 6-month - mean\n",
      "{'mean': {'single': {'upper': {'indicator': 'stochastic32', 'barrier': 54}, 'lower': {'indicator': 'adx32', 'barrier': 9}, 'best': {'type': 'upper', 'indicator': 'stochastic32', 'barrier': 54}}}, 'order': {'single': {'upper': {'indicator': 'ppo32', 'barrier': 21}, 'lower': {'indicator': 'adx8', 'barrier': 12}, 'best': {'type': 'upper', 'indicator': 'ppo32', 'barrier': 21}}}}\n",
      "Key in forward opt json 09-06 - 6-month - order - 79\n"
     ]
    },
    {
     "name": "stderr",
     "output_type": "stream",
     "text": [
      "\r",
      " 44%|████▍     | 442/996 [2:51:55<3:09:00, 20.47s/it]"
     ]
    },
    {
     "name": "stdout",
     "output_type": "stream",
     "text": [
      "09-06 - 6-month - order\n",
      "{'mean': {'single': {'upper': {'indicator': 'ppo32', 'barrier': -1}, 'lower': {'indicator': 'adx8', 'barrier': 43}, 'best': {'type': 'upper', 'indicator': 'ppo32', 'barrier': -1}}}, 'order': {'single': {'upper': {'indicator': 'stochastic32', 'barrier': 81}, 'lower': {'indicator': 'stochastic16', 'barrier': 41}, 'best': {'type': 'upper', 'indicator': 'stochastic32', 'barrier': 81}}}}\n",
      "Key in forward opt json 09-06 - 12-month - mean - 37\n"
     ]
    },
    {
     "name": "stderr",
     "output_type": "stream",
     "text": [
      "\r",
      " 44%|████▍     | 443/996 [2:52:15<3:07:23, 20.33s/it]"
     ]
    },
    {
     "name": "stdout",
     "output_type": "stream",
     "text": [
      "09-06 - 12-month - mean\n",
      "{'mean': {'single': {'upper': {'indicator': 'adx16', 'barrier': 17}, 'lower': {'indicator': 'stochastic32', 'barrier': 15}, 'best': {'type': 'upper', 'indicator': 'adx16', 'barrier': 17}}}, 'order': {'single': {'upper': {'indicator': 'adx32', 'barrier': 23}, 'lower': {'indicator': 'stochastic32', 'barrier': 11}, 'best': {'type': 'upper', 'indicator': 'adx32', 'barrier': 23}}}}\n",
      "Key in forward opt json 09-06 - 12-month - order - 253\n"
     ]
    },
    {
     "name": "stderr",
     "output_type": "stream",
     "text": [
      "\r",
      " 45%|████▍     | 444/996 [2:52:35<3:06:14, 20.24s/it]"
     ]
    },
    {
     "name": "stdout",
     "output_type": "stream",
     "text": [
      "09-06 - 12-month - order\n",
      "{'mean': {'single': {'upper': {'indicator': 'ppo32', 'barrier': -1}, 'lower': {'indicator': 'stochastic16', 'barrier': 72}, 'best': {'type': 'upper', 'indicator': 'ppo32', 'barrier': -1}}}, 'order': {'single': {'upper': {'indicator': 'adx32', 'barrier': 30}, 'lower': {'indicator': 'stochastic32', 'barrier': 50}, 'best': {'type': 'upper', 'indicator': 'adx32', 'barrier': 30}}}}\n"
     ]
    },
    {
     "name": "stderr",
     "output_type": "stream",
     "text": [
      "\r",
      " 45%|████▍     | 445/996 [2:52:54<3:02:22, 19.86s/it]"
     ]
    },
    {
     "name": "stdout",
     "output_type": "stream",
     "text": [
      "Key in forward opt json 09-07 - 6-month - mean - 1\n",
      "Not enough trades for 09-07 - 6-month - mean\n",
      "09-07 - 6-month - mean\n",
      "None\n",
      "Key in forward opt json 09-07 - 6-month - order - 112\n"
     ]
    },
    {
     "name": "stderr",
     "output_type": "stream",
     "text": [
      "\r",
      " 45%|████▍     | 446/996 [2:53:14<3:02:23, 19.90s/it]"
     ]
    },
    {
     "name": "stdout",
     "output_type": "stream",
     "text": [
      "09-07 - 6-month - order\n",
      "{'mean': {'single': {'upper': {'indicator': 'stochastic32', 'barrier': 22}, 'lower': {'indicator': 'adx32', 'barrier': 19}, 'best': {'type': 'upper', 'indicator': 'stochastic32', 'barrier': 22}}}, 'order': {'single': {'upper': {'indicator': 'ppo8', 'barrier': 14}, 'lower': {'indicator': 'ppo16', 'barrier': 0}, 'best': {'type': 'upper', 'indicator': 'ppo8', 'barrier': 14}}}}\n",
      "Key in forward opt json 09-07 - 12-month - mean - 28\n"
     ]
    },
    {
     "name": "stderr",
     "output_type": "stream",
     "text": [
      "\r",
      " 45%|████▍     | 447/996 [2:53:33<2:59:46, 19.65s/it]"
     ]
    },
    {
     "name": "stdout",
     "output_type": "stream",
     "text": [
      "09-07 - 12-month - mean\n",
      "{'mean': {'single': {'upper': {'indicator': 'adx32', 'barrier': 17}, 'lower': {'indicator': 'stochastic16', 'barrier': 16}, 'best': {'type': 'upper', 'indicator': 'adx32', 'barrier': 17}}}, 'order': {'single': {'upper': {'indicator': 'adx32', 'barrier': 23}, 'lower': {'indicator': 'stochastic16', 'barrier': 10}, 'best': {'type': 'upper', 'indicator': 'adx32', 'barrier': 23}}}}\n",
      "Key in forward opt json 09-07 - 12-month - order - 182\n"
     ]
    },
    {
     "name": "stderr",
     "output_type": "stream",
     "text": [
      "\r",
      " 45%|████▍     | 448/996 [2:53:52<2:58:14, 19.52s/it]"
     ]
    },
    {
     "name": "stdout",
     "output_type": "stream",
     "text": [
      "09-07 - 12-month - order\n",
      "{'mean': {'single': {'upper': {'indicator': 'stochastic8', 'barrier': 7}, 'lower': {'indicator': 'adx8', 'barrier': 32}, 'best': {'type': 'upper', 'indicator': 'stochastic8', 'barrier': 7}}}, 'order': {'single': {'upper': {'indicator': 'stochastic8', 'barrier': 33}, 'lower': {'indicator': 'stochastic32', 'barrier': 18}, 'best': {'type': 'upper', 'indicator': 'stochastic8', 'barrier': 33}}}}\n"
     ]
    },
    {
     "name": "stderr",
     "output_type": "stream",
     "text": [
      "\r",
      " 45%|████▌     | 449/996 [2:54:10<2:54:39, 19.16s/it]"
     ]
    },
    {
     "name": "stdout",
     "output_type": "stream",
     "text": [
      "Key in forward opt json 09-08 - 6-month - mean - 1\n",
      "Not enough trades for 09-08 - 6-month - mean\n",
      "09-08 - 6-month - mean\n",
      "None\n",
      "Key in forward opt json 09-08 - 6-month - order - 405\n"
     ]
    },
    {
     "name": "stderr",
     "output_type": "stream",
     "text": [
      "\r",
      " 45%|████▌     | 450/996 [2:54:30<2:56:50, 19.43s/it]"
     ]
    },
    {
     "name": "stdout",
     "output_type": "stream",
     "text": [
      "09-08 - 6-month - order\n",
      "{'mean': {'single': {'upper': {'indicator': 'ppo16', 'barrier': -4}, 'lower': {'indicator': 'stochastic16', 'barrier': 92}, 'best': {'type': 'upper', 'indicator': 'ppo16', 'barrier': -4}}}, 'order': {'single': {'upper': {'indicator': 'adx32', 'barrier': 23}, 'lower': {'indicator': 'adx8', 'barrier': 13}, 'best': {'type': 'upper', 'indicator': 'adx32', 'barrier': 23}}}}\n"
     ]
    },
    {
     "name": "stderr",
     "output_type": "stream",
     "text": [
      "\r",
      " 45%|████▌     | 451/996 [2:54:49<2:53:53, 19.14s/it]"
     ]
    },
    {
     "name": "stdout",
     "output_type": "stream",
     "text": [
      "Key in forward opt json 09-08 - 12-month - mean - 9\n",
      "Not enough trades for 09-08 - 12-month - mean\n",
      "09-08 - 12-month - mean\n",
      "None\n",
      "Key in forward opt json 09-08 - 12-month - order - 586\n"
     ]
    },
    {
     "name": "stderr",
     "output_type": "stream",
     "text": [
      "\r",
      " 45%|████▌     | 452/996 [2:55:12<3:03:52, 20.28s/it]"
     ]
    },
    {
     "name": "stdout",
     "output_type": "stream",
     "text": [
      "09-08 - 12-month - order\n",
      "{'mean': {'single': {'upper': {'indicator': 'ppo16', 'barrier': -4}, 'lower': {'indicator': 'stochastic16', 'barrier': 92}, 'best': {'type': 'upper', 'indicator': 'ppo16', 'barrier': -4}}}, 'order': {'single': {'upper': {'indicator': 'stochastic16', 'barrier': 80}, 'lower': {'indicator': 'stochastic8', 'barrier': 66}, 'best': {'type': 'upper', 'indicator': 'stochastic16', 'barrier': 80}}}}\n"
     ]
    },
    {
     "name": "stderr",
     "output_type": "stream",
     "text": [
      "\r",
      " 45%|████▌     | 453/996 [2:55:31<3:00:36, 19.96s/it]"
     ]
    },
    {
     "name": "stdout",
     "output_type": "stream",
     "text": [
      "Key in forward opt json 09-09 - 6-month - mean - 1\n",
      "Not enough trades for 09-09 - 6-month - mean\n",
      "09-09 - 6-month - mean\n",
      "None\n",
      "Key in forward opt json 09-09 - 6-month - order - 584\n"
     ]
    },
    {
     "name": "stderr",
     "output_type": "stream",
     "text": [
      "\r",
      " 46%|████▌     | 454/996 [2:55:55<3:11:46, 21.23s/it]"
     ]
    },
    {
     "name": "stdout",
     "output_type": "stream",
     "text": [
      "09-09 - 6-month - order\n",
      "{'mean': {'single': {'upper': {'indicator': 'ppo8', 'barrier': -2}, 'lower': {'indicator': 'ppo8', 'barrier': 30}, 'best': {'type': 'upper', 'indicator': 'ppo8', 'barrier': -2}}}, 'order': {'single': {'upper': {'indicator': 'ppo16', 'barrier': 1}, 'lower': {'indicator': 'stochastic32', 'barrier': 68}, 'best': {'type': 'upper', 'indicator': 'ppo16', 'barrier': 1}}}}\n",
      "Key in forward opt json 09-09 - 12-month - mean - 248\n"
     ]
    },
    {
     "name": "stderr",
     "output_type": "stream",
     "text": [
      "\r",
      " 46%|████▌     | 455/996 [2:56:16<3:09:27, 21.01s/it]"
     ]
    },
    {
     "name": "stdout",
     "output_type": "stream",
     "text": [
      "09-09 - 12-month - mean\n",
      "{'mean': {'single': {'upper': {'indicator': 'ppo32', 'barrier': 2}, 'lower': {'indicator': 'adx8', 'barrier': 35}, 'best': {'type': 'upper', 'indicator': 'ppo32', 'barrier': 2}}}, 'order': {'single': {'upper': {'indicator': 'adx16', 'barrier': 30}, 'lower': {'indicator': 'ppo32', 'barrier': 2}, 'best': {'type': 'upper', 'indicator': 'adx16', 'barrier': 30}}}}\n",
      "Key in forward opt json 09-09 - 12-month - order - 700\n"
     ]
    },
    {
     "name": "stderr",
     "output_type": "stream",
     "text": [
      "\r",
      " 46%|████▌     | 456/996 [2:56:41<3:20:40, 22.30s/it]"
     ]
    },
    {
     "name": "stdout",
     "output_type": "stream",
     "text": [
      "09-09 - 12-month - order\n",
      "{'mean': {'single': {'upper': {'indicator': 'ppo8', 'barrier': -2}, 'lower': {'indicator': 'ppo8', 'barrier': 30}, 'best': {'type': 'upper', 'indicator': 'ppo8', 'barrier': -2}}}, 'order': {'single': {'upper': {'indicator': 'stochastic8', 'barrier': 86}, 'lower': {'indicator': 'ppo16', 'barrier': -1}, 'best': {'type': 'upper', 'indicator': 'stochastic8', 'barrier': 86}}}}\n",
      "Key in forward opt json 09-10 - 6-month - mean - 43\n"
     ]
    },
    {
     "name": "stderr",
     "output_type": "stream",
     "text": [
      "\r",
      " 46%|████▌     | 457/996 [2:57:00<3:10:47, 21.24s/it]"
     ]
    },
    {
     "name": "stdout",
     "output_type": "stream",
     "text": [
      "09-10 - 6-month - mean\n",
      "{'mean': {'single': {'upper': {'indicator': 'adx16', 'barrier': 23}, 'lower': {'indicator': 'stochastic8', 'barrier': 5}, 'best': {'type': 'upper', 'indicator': 'adx16', 'barrier': 23}}}, 'order': {'single': {'upper': {'indicator': 'ppo32', 'barrier': 10}, 'lower': {'indicator': 'stochastic8', 'barrier': 5}, 'best': {'type': 'upper', 'indicator': 'ppo32', 'barrier': 10}}}}\n",
      "Key in forward opt json 09-10 - 6-month - order - 744\n"
     ]
    },
    {
     "name": "stderr",
     "output_type": "stream",
     "text": [
      "\r",
      " 46%|████▌     | 458/996 [2:57:24<3:19:37, 22.26s/it]"
     ]
    },
    {
     "name": "stdout",
     "output_type": "stream",
     "text": [
      "09-10 - 6-month - order\n",
      "{'mean': {'single': {'upper': {'indicator': 'stochastic32', 'barrier': 30}, 'lower': {'indicator': 'ppo16', 'barrier': 29}, 'best': {'type': 'upper', 'indicator': 'stochastic32', 'barrier': 30}}}, 'order': {'single': {'upper': {'indicator': 'stochastic8', 'barrier': 76}, 'lower': {'indicator': 'stochastic32', 'barrier': 88}, 'best': {'type': 'upper', 'indicator': 'stochastic8', 'barrier': 76}}}}\n",
      "Key in forward opt json 09-10 - 12-month - mean - 46\n"
     ]
    },
    {
     "name": "stderr",
     "output_type": "stream",
     "text": [
      "\r",
      " 46%|████▌     | 459/996 [2:57:43<3:09:42, 21.20s/it]"
     ]
    },
    {
     "name": "stdout",
     "output_type": "stream",
     "text": [
      "09-10 - 12-month - mean\n",
      "{'mean': {'single': {'upper': {'indicator': 'ppo8', 'barrier': 6}, 'lower': {'indicator': 'stochastic32', 'barrier': 6}, 'best': {'type': 'upper', 'indicator': 'ppo8', 'barrier': 6}}}, 'order': {'single': {'upper': {'indicator': 'stochastic32', 'barrier': 40}, 'lower': {'indicator': 'adx32', 'barrier': 8}, 'best': {'type': 'upper', 'indicator': 'stochastic32', 'barrier': 40}}}}\n",
      "Key in forward opt json 09-10 - 12-month - order - 789\n"
     ]
    },
    {
     "name": "stderr",
     "output_type": "stream",
     "text": [
      "\r",
      " 46%|████▌     | 460/996 [2:58:08<3:19:08, 22.29s/it]"
     ]
    },
    {
     "name": "stdout",
     "output_type": "stream",
     "text": [
      "09-10 - 12-month - order\n",
      "{'mean': {'single': {'upper': {'indicator': 'ppo8', 'barrier': -2}, 'lower': {'indicator': 'ppo16', 'barrier': 29}, 'best': {'type': 'upper', 'indicator': 'ppo8', 'barrier': -2}}}, 'order': {'single': {'upper': {'indicator': 'ppo8', 'barrier': 20}, 'lower': {'indicator': 'adx32', 'barrier': 15}, 'best': {'type': 'upper', 'indicator': 'ppo8', 'barrier': 20}}}}\n",
      "Key in forward opt json 09-11 - 6-month - mean - 28\n"
     ]
    },
    {
     "name": "stderr",
     "output_type": "stream",
     "text": [
      "\r",
      " 46%|████▋     | 461/996 [2:58:26<3:07:52, 21.07s/it]"
     ]
    },
    {
     "name": "stdout",
     "output_type": "stream",
     "text": [
      "09-11 - 6-month - mean\n",
      "{'mean': {'single': {'upper': {'indicator': 'stochastic32', 'barrier': 16}, 'lower': {'indicator': 'stochastic8', 'barrier': 6}, 'best': {'type': 'upper', 'indicator': 'stochastic32', 'barrier': 16}}}, 'order': {'single': {'upper': {'indicator': 'adx32', 'barrier': 24}, 'lower': {'indicator': 'adx16', 'barrier': 11}, 'best': {'type': 'upper', 'indicator': 'adx32', 'barrier': 24}}}}\n",
      "Key in forward opt json 09-11 - 6-month - order - 635\n"
     ]
    },
    {
     "name": "stderr",
     "output_type": "stream",
     "text": [
      "\r",
      " 46%|████▋     | 462/996 [2:58:49<3:12:13, 21.60s/it]"
     ]
    },
    {
     "name": "stdout",
     "output_type": "stream",
     "text": [
      "09-11 - 6-month - order\n",
      "{'mean': {'single': {'upper': {'indicator': 'ppo16', 'barrier': -4}, 'lower': {'indicator': 'ppo32', 'barrier': 21}, 'best': {'type': 'upper', 'indicator': 'ppo16', 'barrier': -4}}}, 'order': {'single': {'upper': {'indicator': 'stochastic32', 'barrier': 66}, 'lower': {'indicator': 'stochastic16', 'barrier': 57}, 'best': {'type': 'upper', 'indicator': 'stochastic32', 'barrier': 66}}}}\n"
     ]
    },
    {
     "name": "stderr",
     "output_type": "stream",
     "text": [
      "\r",
      " 46%|████▋     | 463/996 [2:59:07<3:01:53, 20.48s/it]"
     ]
    },
    {
     "name": "stdout",
     "output_type": "stream",
     "text": [
      "Key in forward opt json 09-11 - 12-month - mean - 28\n",
      "09-11 - 12-month - mean\n",
      "{'mean': {'single': {'upper': {'indicator': 'stochastic32', 'barrier': 16}, 'lower': {'indicator': 'stochastic8', 'barrier': 6}, 'best': {'type': 'upper', 'indicator': 'stochastic32', 'barrier': 16}}}, 'order': {'single': {'upper': {'indicator': 'adx32', 'barrier': 24}, 'lower': {'indicator': 'adx16', 'barrier': 11}, 'best': {'type': 'upper', 'indicator': 'adx32', 'barrier': 24}}}}\n",
      "Key in forward opt json 09-11 - 12-month - order - 664\n"
     ]
    },
    {
     "name": "stderr",
     "output_type": "stream",
     "text": [
      "\r",
      " 47%|████▋     | 464/996 [2:59:30<3:08:13, 21.23s/it]"
     ]
    },
    {
     "name": "stdout",
     "output_type": "stream",
     "text": [
      "09-11 - 12-month - order\n",
      "{'mean': {'single': {'upper': {'indicator': 'ppo16', 'barrier': -4}, 'lower': {'indicator': 'ppo32', 'barrier': 21}, 'best': {'type': 'upper', 'indicator': 'ppo16', 'barrier': -4}}}, 'order': {'single': {'upper': {'indicator': 'adx8', 'barrier': 28}, 'lower': {'indicator': 'stochastic8', 'barrier': 23}, 'best': {'type': 'upper', 'indicator': 'adx8', 'barrier': 28}}}}\n",
      "Key in forward opt json 09-12 - 6-month - mean - 32\n"
     ]
    },
    {
     "name": "stderr",
     "output_type": "stream",
     "text": [
      "\r",
      " 47%|████▋     | 465/996 [2:59:48<2:59:21, 20.27s/it]"
     ]
    },
    {
     "name": "stdout",
     "output_type": "stream",
     "text": [
      "09-12 - 6-month - mean\n",
      "{'mean': {'single': {'upper': {'indicator': 'stochastic32', 'barrier': 16}, 'lower': {'indicator': 'stochastic8', 'barrier': 6}, 'best': {'type': 'upper', 'indicator': 'stochastic32', 'barrier': 16}}}, 'order': {'single': {'upper': {'indicator': 'adx32', 'barrier': 24}, 'lower': {'indicator': 'adx8', 'barrier': 20}, 'best': {'type': 'upper', 'indicator': 'adx32', 'barrier': 24}}}}\n",
      "Key in forward opt json 09-12 - 6-month - order - 926\n"
     ]
    },
    {
     "name": "stderr",
     "output_type": "stream",
     "text": [
      "\r",
      " 47%|████▋     | 466/996 [3:00:16<3:19:12, 22.55s/it]"
     ]
    },
    {
     "name": "stdout",
     "output_type": "stream",
     "text": [
      "09-12 - 6-month - order\n",
      "{'mean': {'single': {'upper': {'indicator': 'stochastic32', 'barrier': 11}, 'lower': {'indicator': 'ppo32', 'barrier': 24}, 'best': {'type': 'upper', 'indicator': 'stochastic32', 'barrier': 11}}}, 'order': {'single': {'upper': {'indicator': 'adx8', 'barrier': 45}, 'lower': {'indicator': 'stochastic32', 'barrier': 7}, 'best': {'type': 'upper', 'indicator': 'adx8', 'barrier': 45}}}}\n",
      "Key in forward opt json 09-12 - 12-month - mean - 32\n"
     ]
    },
    {
     "name": "stderr",
     "output_type": "stream",
     "text": [
      "\r",
      " 47%|████▋     | 467/996 [3:00:34<3:08:03, 21.33s/it]"
     ]
    },
    {
     "name": "stdout",
     "output_type": "stream",
     "text": [
      "09-12 - 12-month - mean\n",
      "{'mean': {'single': {'upper': {'indicator': 'stochastic32', 'barrier': 16}, 'lower': {'indicator': 'stochastic8', 'barrier': 6}, 'best': {'type': 'upper', 'indicator': 'stochastic32', 'barrier': 16}}}, 'order': {'single': {'upper': {'indicator': 'adx32', 'barrier': 24}, 'lower': {'indicator': 'adx8', 'barrier': 20}, 'best': {'type': 'upper', 'indicator': 'adx32', 'barrier': 24}}}}\n",
      "Key in forward opt json 09-12 - 12-month - order - 1084\n"
     ]
    },
    {
     "name": "stderr",
     "output_type": "stream",
     "text": [
      "\r",
      " 47%|████▋     | 468/996 [3:01:06<3:35:25, 24.48s/it]"
     ]
    },
    {
     "name": "stdout",
     "output_type": "stream",
     "text": [
      "09-12 - 12-month - order\n",
      "{'mean': {'single': {'upper': {'indicator': 'stochastic32', 'barrier': 11}, 'lower': {'indicator': 'ppo32', 'barrier': 24}, 'best': {'type': 'upper', 'indicator': 'stochastic32', 'barrier': 11}}}, 'order': {'single': {'upper': {'indicator': 'adx8', 'barrier': 45}, 'lower': {'indicator': 'stochastic8', 'barrier': 8}, 'best': {'type': 'upper', 'indicator': 'adx8', 'barrier': 45}}}}\n",
      "Key in forward opt json 10-01 - 6-month - mean - 27\n"
     ]
    },
    {
     "name": "stderr",
     "output_type": "stream",
     "text": [
      "\r",
      " 47%|████▋     | 469/996 [3:01:26<3:23:48, 23.20s/it]"
     ]
    },
    {
     "name": "stdout",
     "output_type": "stream",
     "text": [
      "10-01 - 6-month - mean\n",
      "{'mean': {'single': {'upper': {'indicator': 'stochastic8', 'barrier': 8}, 'lower': {'indicator': 'adx8', 'barrier': 30}, 'best': {'type': 'upper', 'indicator': 'stochastic8', 'barrier': 8}}}, 'order': {'single': {'upper': {'indicator': 'stochastic16', 'barrier': 15}, 'lower': {'indicator': 'adx8', 'barrier': 20}, 'best': {'type': 'upper', 'indicator': 'stochastic16', 'barrier': 15}}}}\n",
      "Key in forward opt json 10-01 - 6-month - order - 661\n"
     ]
    },
    {
     "name": "stderr",
     "output_type": "stream",
     "text": [
      "\r",
      " 47%|████▋     | 470/996 [3:01:51<3:28:42, 23.81s/it]"
     ]
    },
    {
     "name": "stdout",
     "output_type": "stream",
     "text": [
      "10-01 - 6-month - order\n",
      "{'mean': {'single': {'upper': {'indicator': 'ppo32', 'barrier': -3}, 'lower': {'indicator': 'ppo32', 'barrier': 19}, 'best': {'type': 'upper', 'indicator': 'ppo32', 'barrier': -3}}}, 'order': {'single': {'upper': {'indicator': 'adx8', 'barrier': 44}, 'lower': {'indicator': 'stochastic32', 'barrier': 10}, 'best': {'type': 'upper', 'indicator': 'adx8', 'barrier': 44}}}}\n",
      "Key in forward opt json 10-01 - 12-month - mean - 35\n"
     ]
    },
    {
     "name": "stderr",
     "output_type": "stream",
     "text": [
      "\r",
      " 47%|████▋     | 471/996 [3:02:12<3:20:54, 22.96s/it]"
     ]
    },
    {
     "name": "stdout",
     "output_type": "stream",
     "text": [
      "10-01 - 12-month - mean\n",
      "{'mean': {'single': {'upper': {'indicator': 'stochastic16', 'barrier': 9}, 'lower': {'indicator': 'adx16', 'barrier': 21}, 'best': {'type': 'upper', 'indicator': 'stochastic16', 'barrier': 9}}}, 'order': {'single': {'upper': {'indicator': 'adx32', 'barrier': 24}, 'lower': {'indicator': 'adx16', 'barrier': 11}, 'best': {'type': 'upper', 'indicator': 'adx32', 'barrier': 24}}}}\n",
      "Key in forward opt json 10-01 - 12-month - order - 1248\n"
     ]
    },
    {
     "name": "stderr",
     "output_type": "stream",
     "text": [
      "\r",
      " 47%|████▋     | 472/996 [3:02:51<4:02:34, 27.77s/it]"
     ]
    },
    {
     "name": "stdout",
     "output_type": "stream",
     "text": [
      "10-01 - 12-month - order\n",
      "{'mean': {'single': {'upper': {'indicator': 'stochastic32', 'barrier': 11}, 'lower': {'indicator': 'ppo32', 'barrier': 26}, 'best': {'type': 'upper', 'indicator': 'stochastic32', 'barrier': 11}}}, 'order': {'single': {'upper': {'indicator': 'stochastic16', 'barrier': 90}, 'lower': {'indicator': 'stochastic32', 'barrier': 47}, 'best': {'type': 'upper', 'indicator': 'stochastic16', 'barrier': 90}}}}\n",
      "Key in forward opt json 10-02 - 6-month - mean - 60\n"
     ]
    },
    {
     "name": "stderr",
     "output_type": "stream",
     "text": [
      "\r",
      " 47%|████▋     | 473/996 [3:03:12<3:42:19, 25.51s/it]"
     ]
    },
    {
     "name": "stdout",
     "output_type": "stream",
     "text": [
      "10-02 - 6-month - mean\n",
      "{'mean': {'single': {'upper': {'indicator': 'stochastic16', 'barrier': 7}, 'lower': {'indicator': 'ppo8', 'barrier': 10}, 'best': {'type': 'upper', 'indicator': 'stochastic16', 'barrier': 7}}}, 'order': {'single': {'upper': {'indicator': 'stochastic32', 'barrier': 44}, 'lower': {'indicator': 'adx8', 'barrier': 16}, 'best': {'type': 'upper', 'indicator': 'stochastic32', 'barrier': 44}}}}\n",
      "Key in forward opt json 10-02 - 6-month - order - 758\n"
     ]
    },
    {
     "name": "stderr",
     "output_type": "stream",
     "text": [
      "\r",
      " 48%|████▊     | 474/996 [3:03:38<3:45:10, 25.88s/it]"
     ]
    },
    {
     "name": "stdout",
     "output_type": "stream",
     "text": [
      "10-02 - 6-month - order\n",
      "{'mean': {'single': {'upper': {'indicator': 'stochastic32', 'barrier': 10}, 'lower': {'indicator': 'adx8', 'barrier': 56}, 'best': {'type': 'upper', 'indicator': 'stochastic32', 'barrier': 10}}}, 'order': {'single': {'upper': {'indicator': 'adx16', 'barrier': 35}, 'lower': {'indicator': 'stochastic8', 'barrier': 11}, 'best': {'type': 'upper', 'indicator': 'adx16', 'barrier': 35}}}}\n",
      "Key in forward opt json 10-02 - 12-month - mean - 67\n"
     ]
    },
    {
     "name": "stderr",
     "output_type": "stream",
     "text": [
      "\r",
      " 48%|████▊     | 475/996 [3:03:59<3:30:30, 24.24s/it]"
     ]
    },
    {
     "name": "stdout",
     "output_type": "stream",
     "text": [
      "10-02 - 12-month - mean\n",
      "{'mean': {'single': {'upper': {'indicator': 'ppo16', 'barrier': 4}, 'lower': {'indicator': 'ppo8', 'barrier': 11}, 'best': {'type': 'upper', 'indicator': 'ppo16', 'barrier': 4}}}, 'order': {'single': {'upper': {'indicator': 'adx32', 'barrier': 28}, 'lower': {'indicator': 'adx8', 'barrier': 16}, 'best': {'type': 'upper', 'indicator': 'adx32', 'barrier': 28}}}}\n",
      "Key in forward opt json 10-02 - 12-month - order - 991\n"
     ]
    },
    {
     "name": "stderr",
     "output_type": "stream",
     "text": [
      "\r",
      " 48%|████▊     | 476/996 [3:04:30<3:49:10, 26.44s/it]"
     ]
    },
    {
     "name": "stdout",
     "output_type": "stream",
     "text": [
      "10-02 - 12-month - order\n",
      "{'mean': {'single': {'upper': {'indicator': 'ppo16', 'barrier': -4}, 'lower': {'indicator': 'stochastic16', 'barrier': 81}, 'best': {'type': 'upper', 'indicator': 'ppo16', 'barrier': -4}}}, 'order': {'single': {'upper': {'indicator': 'stochastic16', 'barrier': 55}, 'lower': {'indicator': 'stochastic32', 'barrier': 50}, 'best': {'type': 'upper', 'indicator': 'stochastic16', 'barrier': 55}}}}\n",
      "Key in forward opt json 10-03 - 6-month - mean - 66\n"
     ]
    },
    {
     "name": "stderr",
     "output_type": "stream",
     "text": [
      "\r",
      " 48%|████▊     | 477/996 [3:04:51<3:34:05, 24.75s/it]"
     ]
    },
    {
     "name": "stdout",
     "output_type": "stream",
     "text": [
      "10-03 - 6-month - mean\n",
      "{'mean': {'single': {'upper': {'indicator': 'stochastic16', 'barrier': 7}, 'lower': {'indicator': 'ppo8', 'barrier': 10}, 'best': {'type': 'upper', 'indicator': 'stochastic16', 'barrier': 7}}}, 'order': {'single': {'upper': {'indicator': 'adx16', 'barrier': 31}, 'lower': {'indicator': 'adx8', 'barrier': 16}, 'best': {'type': 'upper', 'indicator': 'adx16', 'barrier': 31}}}}\n",
      "Key in forward opt json 10-03 - 6-month - order - 899\n"
     ]
    },
    {
     "name": "stderr",
     "output_type": "stream",
     "text": [
      "\r",
      " 48%|████▊     | 478/996 [3:05:23<3:52:13, 26.90s/it]"
     ]
    },
    {
     "name": "stdout",
     "output_type": "stream",
     "text": [
      "10-03 - 6-month - order\n",
      "{'mean': {'single': {'upper': {'indicator': 'stochastic32', 'barrier': 11}, 'lower': {'indicator': 'ppo16', 'barrier': 28}, 'best': {'type': 'upper', 'indicator': 'stochastic32', 'barrier': 11}}}, 'order': {'single': {'upper': {'indicator': 'stochastic32', 'barrier': 37}, 'lower': {'indicator': 'ppo16', 'barrier': -2}, 'best': {'type': 'upper', 'indicator': 'stochastic32', 'barrier': 37}}}}\n",
      "Key in forward opt json 10-03 - 12-month - mean - 74\n"
     ]
    },
    {
     "name": "stderr",
     "output_type": "stream",
     "text": [
      "\r",
      " 48%|████▊     | 479/996 [3:05:43<3:34:25, 24.89s/it]"
     ]
    },
    {
     "name": "stdout",
     "output_type": "stream",
     "text": [
      "10-03 - 12-month - mean\n",
      "{'mean': {'single': {'upper': {'indicator': 'ppo16', 'barrier': 4}, 'lower': {'indicator': 'ppo8', 'barrier': 11}, 'best': {'type': 'upper', 'indicator': 'ppo16', 'barrier': 4}}}, 'order': {'single': {'upper': {'indicator': 'stochastic32', 'barrier': 20}, 'lower': {'indicator': 'ppo16', 'barrier': -2}, 'best': {'type': 'upper', 'indicator': 'stochastic32', 'barrier': 20}}}}\n",
      "Key in forward opt json 10-03 - 12-month - order - 1459\n"
     ]
    },
    {
     "name": "stderr",
     "output_type": "stream",
     "text": [
      "\r",
      " 48%|████▊     | 480/996 [3:06:29<4:28:32, 31.23s/it]"
     ]
    },
    {
     "name": "stdout",
     "output_type": "stream",
     "text": [
      "10-03 - 12-month - order\n",
      "{'mean': {'single': {'upper': {'indicator': 'stochastic32', 'barrier': 11}, 'lower': {'indicator': 'ppo32', 'barrier': 26}, 'best': {'type': 'upper', 'indicator': 'stochastic32', 'barrier': 11}}}, 'order': {'single': {'upper': {'indicator': 'ppo16', 'barrier': 27}, 'lower': {'indicator': 'stochastic8', 'barrier': 4}, 'best': {'type': 'upper', 'indicator': 'ppo16', 'barrier': 27}}}}\n",
      "Key in forward opt json 10-04 - 6-month - mean - 62\n"
     ]
    },
    {
     "name": "stderr",
     "output_type": "stream",
     "text": [
      "\r",
      " 48%|████▊     | 481/996 [3:06:49<3:59:15, 27.88s/it]"
     ]
    },
    {
     "name": "stdout",
     "output_type": "stream",
     "text": [
      "10-04 - 6-month - mean\n",
      "{'mean': {'single': {'upper': {'indicator': 'stochastic32', 'barrier': 8}, 'lower': {'indicator': 'ppo8', 'barrier': 10}, 'best': {'type': 'upper', 'indicator': 'stochastic32', 'barrier': 8}}}, 'order': {'single': {'upper': {'indicator': 'stochastic32', 'barrier': 32}, 'lower': {'indicator': 'adx8', 'barrier': 16}, 'best': {'type': 'upper', 'indicator': 'stochastic32', 'barrier': 32}}}}\n",
      "Key in forward opt json 10-04 - 6-month - order - 942\n"
     ]
    },
    {
     "name": "stderr",
     "output_type": "stream",
     "text": [
      "\r",
      " 48%|████▊     | 482/996 [3:07:24<4:15:40, 29.84s/it]"
     ]
    },
    {
     "name": "stdout",
     "output_type": "stream",
     "text": [
      "10-04 - 6-month - order\n",
      "{'mean': {'single': {'upper': {'indicator': 'stochastic32', 'barrier': 11}, 'lower': {'indicator': 'ppo16', 'barrier': 28}, 'best': {'type': 'upper', 'indicator': 'stochastic32', 'barrier': 11}}}, 'order': {'single': {'upper': {'indicator': 'adx8', 'barrier': 31}, 'lower': {'indicator': 'ppo16', 'barrier': 16}, 'best': {'type': 'upper', 'indicator': 'adx8', 'barrier': 31}}}}\n",
      "Key in forward opt json 10-04 - 12-month - mean - 74\n"
     ]
    },
    {
     "name": "stderr",
     "output_type": "stream",
     "text": [
      "\r",
      " 48%|████▊     | 483/996 [3:07:45<3:52:53, 27.24s/it]"
     ]
    },
    {
     "name": "stdout",
     "output_type": "stream",
     "text": [
      "10-04 - 12-month - mean\n",
      "{'mean': {'single': {'upper': {'indicator': 'ppo16', 'barrier': 4}, 'lower': {'indicator': 'ppo8', 'barrier': 11}, 'best': {'type': 'upper', 'indicator': 'ppo16', 'barrier': 4}}}, 'order': {'single': {'upper': {'indicator': 'stochastic32', 'barrier': 20}, 'lower': {'indicator': 'ppo16', 'barrier': -2}, 'best': {'type': 'upper', 'indicator': 'stochastic32', 'barrier': 20}}}}\n",
      "Key in forward opt json 10-04 - 12-month - order - 1617\n"
     ]
    },
    {
     "name": "stderr",
     "output_type": "stream",
     "text": [
      "\r",
      " 49%|████▊     | 484/996 [3:08:36<4:54:19, 34.49s/it]"
     ]
    },
    {
     "name": "stdout",
     "output_type": "stream",
     "text": [
      "10-04 - 12-month - order\n",
      "{'mean': {'single': {'upper': {'indicator': 'ppo32', 'barrier': -10}, 'lower': {'indicator': 'ppo32', 'barrier': 26}, 'best': {'type': 'upper', 'indicator': 'ppo32', 'barrier': -10}}}, 'order': {'single': {'upper': {'indicator': 'ppo16', 'barrier': 1}, 'lower': {'indicator': 'stochastic8', 'barrier': 50}, 'best': {'type': 'upper', 'indicator': 'ppo16', 'barrier': 1}}}}\n",
      "Key in forward opt json 10-05 - 6-month - mean - 47\n"
     ]
    },
    {
     "name": "stderr",
     "output_type": "stream",
     "text": [
      "\r",
      " 49%|████▊     | 485/996 [3:08:56<4:15:29, 30.00s/it]"
     ]
    },
    {
     "name": "stdout",
     "output_type": "stream",
     "text": [
      "10-05 - 6-month - mean\n",
      "{'mean': {'single': {'upper': {'indicator': 'ppo8', 'barrier': 0}, 'lower': {'indicator': 'adx8', 'barrier': 45}, 'best': {'type': 'upper', 'indicator': 'ppo8', 'barrier': 0}}}, 'order': {'single': {'upper': {'indicator': 'stochastic32', 'barrier': 12}, 'lower': {'indicator': 'ppo32', 'barrier': -1}, 'best': {'type': 'upper', 'indicator': 'stochastic32', 'barrier': 12}}}}\n",
      "Key in forward opt json 10-05 - 6-month - order - 915\n"
     ]
    },
    {
     "name": "stderr",
     "output_type": "stream",
     "text": [
      "\r",
      " 49%|████▉     | 486/996 [3:09:26<4:15:55, 30.11s/it]"
     ]
    },
    {
     "name": "stdout",
     "output_type": "stream",
     "text": [
      "10-05 - 6-month - order\n",
      "{'mean': {'single': {'upper': {'indicator': 'stochastic32', 'barrier': 11}, 'lower': {'indicator': 'stochastic16', 'barrier': 86}, 'best': {'type': 'upper', 'indicator': 'stochastic32', 'barrier': 11}}}, 'order': {'single': {'upper': {'indicator': 'stochastic32', 'barrier': 91}, 'lower': {'indicator': 'stochastic32', 'barrier': 11}, 'best': {'type': 'upper', 'indicator': 'stochastic32', 'barrier': 91}}}}\n",
      "Key in forward opt json 10-05 - 12-month - mean - 84\n"
     ]
    },
    {
     "name": "stderr",
     "output_type": "stream",
     "text": [
      "\r",
      " 49%|████▉     | 487/996 [3:09:46<3:48:55, 26.99s/it]"
     ]
    },
    {
     "name": "stdout",
     "output_type": "stream",
     "text": [
      "10-05 - 12-month - mean\n",
      "{'mean': {'single': {'upper': {'indicator': 'stochastic32', 'barrier': 6}, 'lower': {'indicator': 'ppo16', 'barrier': 12}, 'best': {'type': 'upper', 'indicator': 'stochastic32', 'barrier': 6}}}, 'order': {'single': {'upper': {'indicator': 'stochastic16', 'barrier': 11}, 'lower': {'indicator': 'adx16', 'barrier': 11}, 'best': {'type': 'upper', 'indicator': 'stochastic16', 'barrier': 11}}}}\n",
      "Key in forward opt json 10-05 - 12-month - order - 1727\n"
     ]
    },
    {
     "name": "stderr",
     "output_type": "stream",
     "text": [
      "\r",
      " 49%|████▉     | 488/996 [3:10:40<4:57:50, 35.18s/it]"
     ]
    },
    {
     "name": "stdout",
     "output_type": "stream",
     "text": [
      "10-05 - 12-month - order\n",
      "{'mean': {'single': {'upper': {'indicator': 'ppo8', 'barrier': -2}, 'lower': {'indicator': 'stochastic8', 'barrier': 88}, 'best': {'type': 'upper', 'indicator': 'ppo8', 'barrier': -2}}}, 'order': {'single': {'upper': {'indicator': 'adx32', 'barrier': 27}, 'lower': {'indicator': 'stochastic16', 'barrier': 62}, 'best': {'type': 'upper', 'indicator': 'adx32', 'barrier': 27}}}}\n",
      "Key in forward opt json 10-06 - 6-month - mean - 74\n"
     ]
    },
    {
     "name": "stderr",
     "output_type": "stream",
     "text": [
      "\r",
      " 49%|████▉     | 489/996 [3:11:01<4:19:54, 30.76s/it]"
     ]
    },
    {
     "name": "stdout",
     "output_type": "stream",
     "text": [
      "10-06 - 6-month - mean\n",
      "{'mean': {'single': {'upper': {'indicator': 'adx8', 'barrier': 33}, 'lower': {'indicator': 'stochastic32', 'barrier': 21}, 'best': {'type': 'upper', 'indicator': 'adx8', 'barrier': 33}}}, 'order': {'single': {'upper': {'indicator': 'ppo8', 'barrier': 15}, 'lower': {'indicator': 'adx16', 'barrier': 14}, 'best': {'type': 'upper', 'indicator': 'ppo8', 'barrier': 15}}}}\n",
      "Key in forward opt json 10-06 - 6-month - order - 457\n"
     ]
    },
    {
     "name": "stderr",
     "output_type": "stream",
     "text": [
      "\r",
      " 49%|████▉     | 490/996 [3:11:23<3:58:11, 28.24s/it]"
     ]
    },
    {
     "name": "stdout",
     "output_type": "stream",
     "text": [
      "10-06 - 6-month - order\n",
      "{'mean': {'single': {'upper': {'indicator': 'ppo8', 'barrier': -1}, 'lower': {'indicator': 'adx16', 'barrier': 39}, 'best': {'type': 'upper', 'indicator': 'ppo8', 'barrier': -1}}}, 'order': {'single': {'upper': {'indicator': 'stochastic8', 'barrier': 26}, 'lower': {'indicator': 'stochastic8', 'barrier': 24}, 'best': {'type': 'upper', 'indicator': 'stochastic8', 'barrier': 26}}}}\n",
      "Key in forward opt json 10-06 - 12-month - mean - 111\n"
     ]
    },
    {
     "name": "stderr",
     "output_type": "stream",
     "text": [
      "\r",
      " 49%|████▉     | 491/996 [3:11:43<3:35:39, 25.62s/it]"
     ]
    },
    {
     "name": "stdout",
     "output_type": "stream",
     "text": [
      "10-06 - 12-month - mean\n",
      "{'mean': {'single': {'upper': {'indicator': 'stochastic16', 'barrier': 7}, 'lower': {'indicator': 'ppo32', 'barrier': 17}, 'best': {'type': 'upper', 'indicator': 'stochastic16', 'barrier': 7}}}, 'order': {'single': {'upper': {'indicator': 'stochastic8', 'barrier': 14}, 'lower': {'indicator': 'adx8', 'barrier': 28}, 'best': {'type': 'upper', 'indicator': 'stochastic8', 'barrier': 14}}}}\n",
      "Key in forward opt json 10-06 - 12-month - order - 1742\n"
     ]
    },
    {
     "name": "stderr",
     "output_type": "stream",
     "text": [
      "\r",
      " 49%|████▉     | 492/996 [3:12:37<4:46:55, 34.16s/it]"
     ]
    },
    {
     "name": "stdout",
     "output_type": "stream",
     "text": [
      "10-06 - 12-month - order\n",
      "{'mean': {'single': {'upper': {'indicator': 'ppo32', 'barrier': -10}, 'lower': {'indicator': 'stochastic8', 'barrier': 88}, 'best': {'type': 'upper', 'indicator': 'ppo32', 'barrier': -10}}}, 'order': {'single': {'upper': {'indicator': 'ppo16', 'barrier': 15}, 'lower': {'indicator': 'ppo32', 'barrier': -12}, 'best': {'type': 'upper', 'indicator': 'ppo16', 'barrier': 15}}}}\n",
      "Key in forward opt json 10-07 - 6-month - mean - 78\n"
     ]
    },
    {
     "name": "stderr",
     "output_type": "stream",
     "text": [
      "\r",
      " 49%|████▉     | 493/996 [3:12:55<4:07:31, 29.53s/it]"
     ]
    },
    {
     "name": "stdout",
     "output_type": "stream",
     "text": [
      "10-07 - 6-month - mean\n",
      "{'mean': {'single': {'upper': {'indicator': 'adx8', 'barrier': 33}, 'lower': {'indicator': 'stochastic32', 'barrier': 20}, 'best': {'type': 'upper', 'indicator': 'adx8', 'barrier': 33}}}, 'order': {'single': {'upper': {'indicator': 'adx32', 'barrier': 34}, 'lower': {'indicator': 'adx8', 'barrier': 19}, 'best': {'type': 'upper', 'indicator': 'adx32', 'barrier': 34}}}}\n",
      "Key in forward opt json 10-07 - 6-month - order - 299\n"
     ]
    },
    {
     "name": "stderr",
     "output_type": "stream",
     "text": [
      "\r",
      " 50%|████▉     | 494/996 [3:13:16<3:43:40, 26.73s/it]"
     ]
    },
    {
     "name": "stdout",
     "output_type": "stream",
     "text": [
      "10-07 - 6-month - order\n",
      "{'mean': {'single': {'upper': {'indicator': 'ppo8', 'barrier': 4}, 'lower': {'indicator': 'adx16', 'barrier': 36}, 'best': {'type': 'upper', 'indicator': 'ppo8', 'barrier': 4}}}, 'order': {'single': {'upper': {'indicator': 'stochastic16', 'barrier': 30}, 'lower': {'indicator': 'adx8', 'barrier': 32}, 'best': {'type': 'upper', 'indicator': 'stochastic16', 'barrier': 30}}}}\n",
      "Key in forward opt json 10-07 - 12-month - mean - 114\n"
     ]
    },
    {
     "name": "stderr",
     "output_type": "stream",
     "text": [
      "\r",
      " 50%|████▉     | 495/996 [3:13:34<3:22:51, 24.30s/it]"
     ]
    },
    {
     "name": "stdout",
     "output_type": "stream",
     "text": [
      "10-07 - 12-month - mean\n",
      "{'mean': {'single': {'upper': {'indicator': 'stochastic16', 'barrier': 7}, 'lower': {'indicator': 'ppo32', 'barrier': 17}, 'best': {'type': 'upper', 'indicator': 'stochastic16', 'barrier': 7}}}, 'order': {'single': {'upper': {'indicator': 'stochastic8', 'barrier': 17}, 'lower': {'indicator': 'adx32', 'barrier': 10}, 'best': {'type': 'upper', 'indicator': 'stochastic8', 'barrier': 17}}}}\n",
      "Key in forward opt json 10-07 - 12-month - order - 1726\n"
     ]
    },
    {
     "name": "stderr",
     "output_type": "stream",
     "text": [
      "\r",
      " 50%|████▉     | 496/996 [3:14:28<4:35:51, 33.10s/it]"
     ]
    },
    {
     "name": "stdout",
     "output_type": "stream",
     "text": [
      "10-07 - 12-month - order\n",
      "{'mean': {'single': {'upper': {'indicator': 'ppo32', 'barrier': -13}, 'lower': {'indicator': 'stochastic8', 'barrier': 88}, 'best': {'type': 'upper', 'indicator': 'ppo32', 'barrier': -13}}}, 'order': {'single': {'upper': {'indicator': 'adx8', 'barrier': 27}, 'lower': {'indicator': 'stochastic16', 'barrier': 20}, 'best': {'type': 'upper', 'indicator': 'adx8', 'barrier': 27}}}}\n",
      "Key in forward opt json 10-08 - 6-month - mean - 65\n"
     ]
    },
    {
     "name": "stderr",
     "output_type": "stream",
     "text": [
      "\r",
      " 50%|████▉     | 497/996 [3:14:46<3:58:38, 28.69s/it]"
     ]
    },
    {
     "name": "stdout",
     "output_type": "stream",
     "text": [
      "10-08 - 6-month - mean\n",
      "{'mean': {'single': {'upper': {'indicator': 'adx8', 'barrier': 34}, 'lower': {'indicator': 'adx32', 'barrier': 23}, 'best': {'type': 'upper', 'indicator': 'adx8', 'barrier': 34}}}, 'order': {'single': {'upper': {'indicator': 'adx8', 'barrier': 64}, 'lower': {'indicator': 'ppo32', 'barrier': -2}, 'best': {'type': 'upper', 'indicator': 'adx8', 'barrier': 64}}}}\n",
      "Key in forward opt json 10-08 - 6-month - order - 833\n"
     ]
    },
    {
     "name": "stderr",
     "output_type": "stream",
     "text": [
      "\r",
      " 50%|█████     | 498/996 [3:15:14<3:54:32, 28.26s/it]"
     ]
    },
    {
     "name": "stdout",
     "output_type": "stream",
     "text": [
      "10-08 - 6-month - order\n",
      "{'mean': {'single': {'upper': {'indicator': 'stochastic32', 'barrier': 11}, 'lower': {'indicator': 'adx32', 'barrier': 35}, 'best': {'type': 'upper', 'indicator': 'stochastic32', 'barrier': 11}}}, 'order': {'single': {'upper': {'indicator': 'stochastic16', 'barrier': 82}, 'lower': {'indicator': 'adx32', 'barrier': 11}, 'best': {'type': 'upper', 'indicator': 'stochastic16', 'barrier': 82}}}}\n",
      "Key in forward opt json 10-08 - 12-month - mean - 187\n"
     ]
    },
    {
     "name": "stderr",
     "output_type": "stream",
     "text": [
      "\r",
      " 50%|█████     | 499/996 [3:15:33<3:31:53, 25.58s/it]"
     ]
    },
    {
     "name": "stdout",
     "output_type": "stream",
     "text": [
      "10-08 - 12-month - mean\n",
      "{'mean': {'single': {'upper': {'indicator': 'ppo8', 'barrier': 1}, 'lower': {'indicator': 'adx16', 'barrier': 35}, 'best': {'type': 'upper', 'indicator': 'ppo8', 'barrier': 1}}}, 'order': {'single': {'upper': {'indicator': 'ppo8', 'barrier': 9}, 'lower': {'indicator': 'adx32', 'barrier': 16}, 'best': {'type': 'upper', 'indicator': 'ppo8', 'barrier': 9}}}}\n",
      "Key in forward opt json 10-08 - 12-month - order - 1712\n"
     ]
    },
    {
     "name": "stderr",
     "output_type": "stream",
     "text": [
      "\r",
      " 50%|█████     | 500/996 [3:16:30<4:49:41, 35.04s/it]"
     ]
    },
    {
     "name": "stdout",
     "output_type": "stream",
     "text": [
      "10-08 - 12-month - order\n",
      "{'mean': {'single': {'upper': {'indicator': 'stochastic32', 'barrier': 13}, 'lower': {'indicator': 'ppo32', 'barrier': 21}, 'best': {'type': 'upper', 'indicator': 'stochastic32', 'barrier': 13}}}, 'order': {'single': {'upper': {'indicator': 'ppo8', 'barrier': 23}, 'lower': {'indicator': 'stochastic16', 'barrier': 36}, 'best': {'type': 'upper', 'indicator': 'ppo8', 'barrier': 23}}}}\n",
      "Key in forward opt json 10-09 - 6-month - mean - 48\n"
     ]
    },
    {
     "name": "stderr",
     "output_type": "stream",
     "text": [
      "\r",
      " 50%|█████     | 501/996 [3:16:48<4:07:58, 30.06s/it]"
     ]
    },
    {
     "name": "stdout",
     "output_type": "stream",
     "text": [
      "10-09 - 6-month - mean\n",
      "{'mean': {'single': {'upper': {'indicator': 'adx8', 'barrier': 36}, 'lower': {'indicator': 'ppo8', 'barrier': 9}, 'best': {'type': 'upper', 'indicator': 'adx8', 'barrier': 36}}}, 'order': {'single': {'upper': {'indicator': 'adx32', 'barrier': 34}, 'lower': {'indicator': 'adx8', 'barrier': 26}, 'best': {'type': 'upper', 'indicator': 'adx32', 'barrier': 34}}}}\n",
      "Key in forward opt json 10-09 - 6-month - order - 424\n"
     ]
    },
    {
     "name": "stderr",
     "output_type": "stream",
     "text": [
      "\r",
      " 50%|█████     | 502/996 [3:17:10<3:45:33, 27.40s/it]"
     ]
    },
    {
     "name": "stdout",
     "output_type": "stream",
     "text": [
      "10-09 - 6-month - order\n",
      "{'mean': {'single': {'upper': {'indicator': 'ppo16', 'barrier': 0}, 'lower': {'indicator': 'stochastic32', 'barrier': 75}, 'best': {'type': 'upper', 'indicator': 'ppo16', 'barrier': 0}}}, 'order': {'single': {'upper': {'indicator': 'adx16', 'barrier': 27}, 'lower': {'indicator': 'stochastic16', 'barrier': 25}, 'best': {'type': 'upper', 'indicator': 'adx16', 'barrier': 27}}}}\n",
      "Key in forward opt json 10-09 - 12-month - mean - 192\n"
     ]
    },
    {
     "name": "stderr",
     "output_type": "stream",
     "text": [
      "\r",
      " 51%|█████     | 503/996 [3:17:30<3:27:23, 25.24s/it]"
     ]
    },
    {
     "name": "stdout",
     "output_type": "stream",
     "text": [
      "10-09 - 12-month - mean\n",
      "{'mean': {'single': {'upper': {'indicator': 'ppo8', 'barrier': 1}, 'lower': {'indicator': 'adx16', 'barrier': 35}, 'best': {'type': 'upper', 'indicator': 'ppo8', 'barrier': 1}}}, 'order': {'single': {'upper': {'indicator': 'ppo32', 'barrier': 13}, 'lower': {'indicator': 'adx32', 'barrier': 16}, 'best': {'type': 'upper', 'indicator': 'ppo32', 'barrier': 13}}}}\n",
      "Key in forward opt json 10-09 - 12-month - order - 881\n"
     ]
    },
    {
     "name": "stderr",
     "output_type": "stream",
     "text": [
      "\r",
      " 51%|█████     | 504/996 [3:17:59<3:35:33, 26.29s/it]"
     ]
    },
    {
     "name": "stdout",
     "output_type": "stream",
     "text": [
      "10-09 - 12-month - order\n",
      "{'mean': {'single': {'upper': {'indicator': 'ppo8', 'barrier': -3}, 'lower': {'indicator': 'ppo32', 'barrier': 24}, 'best': {'type': 'upper', 'indicator': 'ppo8', 'barrier': -3}}}, 'order': {'single': {'upper': {'indicator': 'ppo8', 'barrier': 21}, 'lower': {'indicator': 'adx16', 'barrier': 11}, 'best': {'type': 'upper', 'indicator': 'ppo8', 'barrier': 21}}}}\n",
      "Key in forward opt json 10-10 - 6-month - mean - 47\n"
     ]
    },
    {
     "name": "stderr",
     "output_type": "stream",
     "text": [
      "\r",
      " 51%|█████     | 505/996 [3:18:18<3:18:03, 24.20s/it]"
     ]
    },
    {
     "name": "stdout",
     "output_type": "stream",
     "text": [
      "10-10 - 6-month - mean\n",
      "{'mean': {'single': {'upper': {'indicator': 'adx8', 'barrier': 36}, 'lower': {'indicator': 'ppo16', 'barrier': 10}, 'best': {'type': 'upper', 'indicator': 'adx8', 'barrier': 36}}}, 'order': {'single': {'upper': {'indicator': 'adx32', 'barrier': 34}, 'lower': {'indicator': 'adx8', 'barrier': 26}, 'best': {'type': 'upper', 'indicator': 'adx32', 'barrier': 34}}}}\n",
      "Key in forward opt json 10-10 - 6-month - order - 743\n"
     ]
    },
    {
     "name": "stderr",
     "output_type": "stream",
     "text": [
      "\r",
      " 51%|█████     | 506/996 [3:18:44<3:21:07, 24.63s/it]"
     ]
    },
    {
     "name": "stdout",
     "output_type": "stream",
     "text": [
      "10-10 - 6-month - order\n",
      "{'mean': {'single': {'upper': {'indicator': 'stochastic16', 'barrier': 10}, 'lower': {'indicator': 'stochastic16', 'barrier': 90}, 'best': {'type': 'upper', 'indicator': 'stochastic16', 'barrier': 10}}}, 'order': {'single': {'upper': {'indicator': 'adx8', 'barrier': 33}, 'lower': {'indicator': 'stochastic16', 'barrier': 70}, 'best': {'type': 'upper', 'indicator': 'adx8', 'barrier': 33}}}}\n",
      "Key in forward opt json 10-10 - 12-month - mean - 188\n"
     ]
    },
    {
     "name": "stderr",
     "output_type": "stream",
     "text": [
      "\r",
      " 51%|█████     | 507/996 [3:19:03<3:08:01, 23.07s/it]"
     ]
    },
    {
     "name": "stdout",
     "output_type": "stream",
     "text": [
      "10-10 - 12-month - mean\n",
      "{'mean': {'single': {'upper': {'indicator': 'stochastic16', 'barrier': 7}, 'lower': {'indicator': 'adx16', 'barrier': 36}, 'best': {'type': 'upper', 'indicator': 'stochastic16', 'barrier': 7}}}, 'order': {'single': {'upper': {'indicator': 'adx16', 'barrier': 28}, 'lower': {'indicator': 'adx32', 'barrier': 14}, 'best': {'type': 'upper', 'indicator': 'adx16', 'barrier': 28}}}}\n",
      "Key in forward opt json 10-10 - 12-month - order - 1681\n"
     ]
    },
    {
     "name": "stderr",
     "output_type": "stream",
     "text": [
      "\r",
      " 51%|█████     | 508/996 [3:19:58<4:26:22, 32.75s/it]"
     ]
    },
    {
     "name": "stdout",
     "output_type": "stream",
     "text": [
      "10-10 - 12-month - order\n",
      "{'mean': {'single': {'upper': {'indicator': 'stochastic32', 'barrier': 7}, 'lower': {'indicator': 'stochastic16', 'barrier': 86}, 'best': {'type': 'upper', 'indicator': 'stochastic32', 'barrier': 7}}}, 'order': {'single': {'upper': {'indicator': 'ppo32', 'barrier': 24}, 'lower': {'indicator': 'ppo8', 'barrier': 3}, 'best': {'type': 'upper', 'indicator': 'ppo32', 'barrier': 24}}}}\n",
      "Key in forward opt json 10-11 - 6-month - mean - 200\n"
     ]
    },
    {
     "name": "stderr",
     "output_type": "stream",
     "text": [
      "\r",
      " 51%|█████     | 509/996 [3:20:18<3:54:01, 28.83s/it]"
     ]
    },
    {
     "name": "stdout",
     "output_type": "stream",
     "text": [
      "10-11 - 6-month - mean\n",
      "{'mean': {'single': {'upper': {'indicator': 'ppo8', 'barrier': 0}, 'lower': {'indicator': 'adx32', 'barrier': 22}, 'best': {'type': 'upper', 'indicator': 'ppo8', 'barrier': 0}}}, 'order': {'single': {'upper': {'indicator': 'ppo32', 'barrier': 14}, 'lower': {'indicator': 'adx8', 'barrier': 29}, 'best': {'type': 'upper', 'indicator': 'ppo32', 'barrier': 14}}}}\n",
      "Key in forward opt json 10-11 - 6-month - order - 707\n"
     ]
    },
    {
     "name": "stderr",
     "output_type": "stream",
     "text": [
      "\r",
      " 51%|█████     | 510/996 [3:20:43<3:44:03, 27.66s/it]"
     ]
    },
    {
     "name": "stdout",
     "output_type": "stream",
     "text": [
      "10-11 - 6-month - order\n",
      "{'mean': {'single': {'upper': {'indicator': 'stochastic8', 'barrier': 12}, 'lower': {'indicator': 'stochastic16', 'barrier': 86}, 'best': {'type': 'upper', 'indicator': 'stochastic8', 'barrier': 12}}}, 'order': {'single': {'upper': {'indicator': 'stochastic32', 'barrier': 97}, 'lower': {'indicator': 'ppo32', 'barrier': -26}, 'best': {'type': 'upper', 'indicator': 'stochastic32', 'barrier': 97}}}}\n",
      "Key in forward opt json 10-11 - 12-month - mean - 335\n"
     ]
    },
    {
     "name": "stderr",
     "output_type": "stream",
     "text": [
      "\r",
      " 51%|█████▏    | 511/996 [3:21:03<3:26:20, 25.53s/it]"
     ]
    },
    {
     "name": "stdout",
     "output_type": "stream",
     "text": [
      "10-11 - 12-month - mean\n",
      "{'mean': {'single': {'upper': {'indicator': 'stochastic16', 'barrier': 5}, 'lower': {'indicator': 'ppo32', 'barrier': 14}, 'best': {'type': 'upper', 'indicator': 'stochastic16', 'barrier': 5}}}, 'order': {'single': {'upper': {'indicator': 'ppo8', 'barrier': 52}, 'lower': {'indicator': 'adx8', 'barrier': 15}, 'best': {'type': 'upper', 'indicator': 'ppo8', 'barrier': 52}}}}\n",
      "Key in forward opt json 10-11 - 12-month - order - 1617\n"
     ]
    },
    {
     "name": "stderr",
     "output_type": "stream",
     "text": [
      "\r",
      " 51%|█████▏    | 512/996 [3:21:56<4:31:55, 33.71s/it]"
     ]
    },
    {
     "name": "stdout",
     "output_type": "stream",
     "text": [
      "10-11 - 12-month - order\n",
      "{'mean': {'single': {'upper': {'indicator': 'stochastic32', 'barrier': 7}, 'lower': {'indicator': 'stochastic16', 'barrier': 86}, 'best': {'type': 'upper', 'indicator': 'stochastic32', 'barrier': 7}}}, 'order': {'single': {'upper': {'indicator': 'stochastic16', 'barrier': 50}, 'lower': {'indicator': 'ppo32', 'barrier': -4}, 'best': {'type': 'upper', 'indicator': 'stochastic16', 'barrier': 50}}}}\n",
      "Key in forward opt json 10-12 - 6-month - mean - 174\n"
     ]
    },
    {
     "name": "stderr",
     "output_type": "stream",
     "text": [
      "\r",
      " 52%|█████▏    | 513/996 [3:22:16<3:57:09, 29.46s/it]"
     ]
    },
    {
     "name": "stdout",
     "output_type": "stream",
     "text": [
      "10-12 - 6-month - mean\n",
      "{'mean': {'single': {'upper': {'indicator': 'ppo16', 'barrier': 4}, 'lower': {'indicator': 'ppo32', 'barrier': 16}, 'best': {'type': 'upper', 'indicator': 'ppo16', 'barrier': 4}}}, 'order': {'single': {'upper': {'indicator': 'ppo32', 'barrier': 20}, 'lower': {'indicator': 'ppo32', 'barrier': 4}, 'best': {'type': 'upper', 'indicator': 'ppo32', 'barrier': 20}}}}\n",
      "Key in forward opt json 10-12 - 6-month - order - 694\n"
     ]
    },
    {
     "name": "stderr",
     "output_type": "stream",
     "text": [
      "\r",
      " 52%|█████▏    | 514/996 [3:22:41<3:46:58, 28.25s/it]"
     ]
    },
    {
     "name": "stdout",
     "output_type": "stream",
     "text": [
      "10-12 - 6-month - order\n",
      "{'mean': {'single': {'upper': {'indicator': 'stochastic8', 'barrier': 12}, 'lower': {'indicator': 'ppo16', 'barrier': 22}, 'best': {'type': 'upper', 'indicator': 'stochastic8', 'barrier': 12}}}, 'order': {'single': {'upper': {'indicator': 'ppo32', 'barrier': 11}, 'lower': {'indicator': 'stochastic32', 'barrier': 47}, 'best': {'type': 'upper', 'indicator': 'ppo32', 'barrier': 11}}}}\n",
      "Key in forward opt json 10-12 - 12-month - mean - 356\n"
     ]
    },
    {
     "name": "stderr",
     "output_type": "stream",
     "text": [
      "\r",
      " 52%|█████▏    | 515/996 [3:23:02<3:28:44, 26.04s/it]"
     ]
    },
    {
     "name": "stdout",
     "output_type": "stream",
     "text": [
      "10-12 - 12-month - mean\n",
      "{'mean': {'single': {'upper': {'indicator': 'ppo8', 'barrier': -2}, 'lower': {'indicator': 'ppo32', 'barrier': 14}, 'best': {'type': 'upper', 'indicator': 'ppo8', 'barrier': -2}}}, 'order': {'single': {'upper': {'indicator': 'ppo32', 'barrier': 22}, 'lower': {'indicator': 'ppo8', 'barrier': -4}, 'best': {'type': 'upper', 'indicator': 'ppo32', 'barrier': 22}}}}\n",
      "Key in forward opt json 10-12 - 12-month - order - 1541\n"
     ]
    },
    {
     "name": "stderr",
     "output_type": "stream",
     "text": [
      "\r",
      " 52%|█████▏    | 516/996 [3:23:51<4:22:36, 32.83s/it]"
     ]
    },
    {
     "name": "stdout",
     "output_type": "stream",
     "text": [
      "10-12 - 12-month - order\n",
      "{'mean': {'single': {'upper': {'indicator': 'ppo8', 'barrier': -9}, 'lower': {'indicator': 'stochastic16', 'barrier': 86}, 'best': {'type': 'upper', 'indicator': 'ppo8', 'barrier': -9}}}, 'order': {'single': {'upper': {'indicator': 'adx32', 'barrier': 25}, 'lower': {'indicator': 'ppo16', 'barrier': -3}, 'best': {'type': 'upper', 'indicator': 'adx32', 'barrier': 25}}}}\n",
      "Key in forward opt json 11-01 - 6-month - mean - 84\n"
     ]
    },
    {
     "name": "stderr",
     "output_type": "stream",
     "text": [
      "\r",
      " 52%|█████▏    | 517/996 [3:24:10<3:49:53, 28.80s/it]"
     ]
    },
    {
     "name": "stdout",
     "output_type": "stream",
     "text": [
      "11-01 - 6-month - mean\n",
      "{'mean': {'single': {'upper': {'indicator': 'ppo8', 'barrier': 4}, 'lower': {'indicator': 'ppo32', 'barrier': 12}, 'best': {'type': 'upper', 'indicator': 'ppo8', 'barrier': 4}}}, 'order': {'single': {'upper': {'indicator': 'ppo32', 'barrier': 14}, 'lower': {'indicator': 'ppo8', 'barrier': 0}, 'best': {'type': 'upper', 'indicator': 'ppo32', 'barrier': 14}}}}\n",
      "Key in forward opt json 11-01 - 6-month - order - 712\n"
     ]
    },
    {
     "name": "stderr",
     "output_type": "stream",
     "text": [
      "\r",
      " 52%|█████▏    | 518/996 [3:24:34<3:37:46, 27.34s/it]"
     ]
    },
    {
     "name": "stdout",
     "output_type": "stream",
     "text": [
      "11-01 - 6-month - order\n",
      "{'mean': {'single': {'upper': {'indicator': 'stochastic16', 'barrier': 20}, 'lower': {'indicator': 'ppo32', 'barrier': 20}, 'best': {'type': 'upper', 'indicator': 'stochastic16', 'barrier': 20}}}, 'order': {'single': {'upper': {'indicator': 'stochastic8', 'barrier': 74}, 'lower': {'indicator': 'stochastic16', 'barrier': 52}, 'best': {'type': 'upper', 'indicator': 'stochastic8', 'barrier': 74}}}}\n",
      "Key in forward opt json 11-01 - 12-month - mean - 346\n"
     ]
    },
    {
     "name": "stderr",
     "output_type": "stream",
     "text": [
      "\r",
      " 52%|█████▏    | 519/996 [3:24:55<3:22:07, 25.42s/it]"
     ]
    },
    {
     "name": "stdout",
     "output_type": "stream",
     "text": [
      "11-01 - 12-month - mean\n",
      "{'mean': {'single': {'upper': {'indicator': 'ppo8', 'barrier': -2}, 'lower': {'indicator': 'ppo32', 'barrier': 24}, 'best': {'type': 'upper', 'indicator': 'ppo8', 'barrier': -2}}}, 'order': {'single': {'upper': {'indicator': 'ppo8', 'barrier': 10}, 'lower': {'indicator': 'adx8', 'barrier': 29}, 'best': {'type': 'upper', 'indicator': 'ppo8', 'barrier': 10}}}}\n",
      "Key in forward opt json 11-01 - 12-month - order - 1517\n"
     ]
    },
    {
     "name": "stderr",
     "output_type": "stream",
     "text": [
      "\r",
      " 52%|█████▏    | 520/996 [3:25:39<4:05:55, 31.00s/it]"
     ]
    },
    {
     "name": "stdout",
     "output_type": "stream",
     "text": [
      "11-01 - 12-month - order\n",
      "{'mean': {'single': {'upper': {'indicator': 'ppo8', 'barrier': -4}, 'lower': {'indicator': 'stochastic16', 'barrier': 90}, 'best': {'type': 'upper', 'indicator': 'ppo8', 'barrier': -4}}}, 'order': {'single': {'upper': {'indicator': 'stochastic8', 'barrier': 88}, 'lower': {'indicator': 'adx16', 'barrier': 18}, 'best': {'type': 'upper', 'indicator': 'stochastic8', 'barrier': 88}}}}\n",
      "Key in forward opt json 11-02 - 6-month - mean - 165\n"
     ]
    },
    {
     "name": "stderr",
     "output_type": "stream",
     "text": [
      "\r",
      " 52%|█████▏    | 521/996 [3:25:58<3:37:21, 27.46s/it]"
     ]
    },
    {
     "name": "stdout",
     "output_type": "stream",
     "text": [
      "11-02 - 6-month - mean\n",
      "{'mean': {'single': {'upper': {'indicator': 'adx16', 'barrier': 16}, 'lower': {'indicator': 'ppo16', 'barrier': 17}, 'best': {'type': 'upper', 'indicator': 'adx16', 'barrier': 16}}}, 'order': {'single': {'upper': {'indicator': 'stochastic32', 'barrier': 43}, 'lower': {'indicator': 'stochastic32', 'barrier': 31}, 'best': {'type': 'upper', 'indicator': 'stochastic32', 'barrier': 43}}}}\n",
      "Key in forward opt json 11-02 - 6-month - order - 748\n"
     ]
    },
    {
     "name": "stderr",
     "output_type": "stream",
     "text": [
      "\r",
      " 52%|█████▏    | 522/996 [3:26:21<3:26:31, 26.14s/it]"
     ]
    },
    {
     "name": "stdout",
     "output_type": "stream",
     "text": [
      "11-02 - 6-month - order\n",
      "{'mean': {'single': {'upper': {'indicator': 'stochastic16', 'barrier': 20}, 'lower': {'indicator': 'ppo16', 'barrier': 23}, 'best': {'type': 'upper', 'indicator': 'stochastic16', 'barrier': 20}}}, 'order': {'single': {'upper': {'indicator': 'stochastic32', 'barrier': 84}, 'lower': {'indicator': 'adx8', 'barrier': 34}, 'best': {'type': 'upper', 'indicator': 'stochastic32', 'barrier': 84}}}}\n",
      "Key in forward opt json 11-02 - 12-month - mean - 157\n"
     ]
    },
    {
     "name": "stderr",
     "output_type": "stream",
     "text": [
      "\r",
      " 53%|█████▎    | 523/996 [3:26:41<3:10:46, 24.20s/it]"
     ]
    },
    {
     "name": "stdout",
     "output_type": "stream",
     "text": [
      "11-02 - 12-month - mean\n",
      "{'mean': {'single': {'upper': {'indicator': 'stochastic32', 'barrier': 5}, 'lower': {'indicator': 'adx16', 'barrier': 36}, 'best': {'type': 'upper', 'indicator': 'stochastic32', 'barrier': 5}}}, 'order': {'single': {'upper': {'indicator': 'adx16', 'barrier': 32}, 'lower': {'indicator': 'stochastic8', 'barrier': 5}, 'best': {'type': 'upper', 'indicator': 'adx16', 'barrier': 32}}}}\n",
      "Key in forward opt json 11-02 - 12-month - order - 1554\n"
     ]
    },
    {
     "name": "stderr",
     "output_type": "stream",
     "text": [
      "\r",
      " 53%|█████▎    | 524/996 [3:27:27<4:01:33, 30.71s/it]"
     ]
    },
    {
     "name": "stdout",
     "output_type": "stream",
     "text": [
      "11-02 - 12-month - order\n",
      "{'mean': {'single': {'upper': {'indicator': 'ppo8', 'barrier': -2}, 'lower': {'indicator': 'stochastic32', 'barrier': 95}, 'best': {'type': 'upper', 'indicator': 'ppo8', 'barrier': -2}}}, 'order': {'single': {'upper': {'indicator': 'stochastic8', 'barrier': 64}, 'lower': {'indicator': 'stochastic16', 'barrier': 24}, 'best': {'type': 'upper', 'indicator': 'stochastic8', 'barrier': 64}}}}\n",
      "Key in forward opt json 11-03 - 6-month - mean - 801\n"
     ]
    },
    {
     "name": "stderr",
     "output_type": "stream",
     "text": [
      "\r",
      " 53%|█████▎    | 525/996 [3:27:52<3:47:23, 28.97s/it]"
     ]
    },
    {
     "name": "stdout",
     "output_type": "stream",
     "text": [
      "11-03 - 6-month - mean\n",
      "{'mean': {'single': {'upper': {'indicator': 'ppo32', 'barrier': -1}, 'lower': {'indicator': 'adx8', 'barrier': 68}, 'best': {'type': 'upper', 'indicator': 'ppo32', 'barrier': -1}}}, 'order': {'single': {'upper': {'indicator': 'adx32', 'barrier': 25}, 'lower': {'indicator': 'stochastic32', 'barrier': 78}, 'best': {'type': 'upper', 'indicator': 'adx32', 'barrier': 25}}}}\n",
      "Key in forward opt json 11-03 - 6-month - order - 801\n"
     ]
    },
    {
     "name": "stderr",
     "output_type": "stream",
     "text": [
      "\r",
      " 53%|█████▎    | 526/996 [3:28:17<3:39:14, 27.99s/it]"
     ]
    },
    {
     "name": "stdout",
     "output_type": "stream",
     "text": [
      "11-03 - 6-month - order\n",
      "{'mean': {'single': {'upper': {'indicator': 'ppo32', 'barrier': -1}, 'lower': {'indicator': 'adx8', 'barrier': 68}, 'best': {'type': 'upper', 'indicator': 'ppo32', 'barrier': -1}}}, 'order': {'single': {'upper': {'indicator': 'adx32', 'barrier': 25}, 'lower': {'indicator': 'stochastic32', 'barrier': 78}, 'best': {'type': 'upper', 'indicator': 'adx32', 'barrier': 25}}}}\n",
      "Key in forward opt json 11-03 - 12-month - mean - 291\n"
     ]
    },
    {
     "name": "stderr",
     "output_type": "stream",
     "text": [
      "\r",
      " 53%|█████▎    | 527/996 [3:28:38<3:20:15, 25.62s/it]"
     ]
    },
    {
     "name": "stdout",
     "output_type": "stream",
     "text": [
      "11-03 - 12-month - mean\n",
      "{'mean': {'single': {'upper': {'indicator': 'stochastic8', 'barrier': 5}, 'lower': {'indicator': 'ppo32', 'barrier': 24}, 'best': {'type': 'upper', 'indicator': 'stochastic8', 'barrier': 5}}}, 'order': {'single': {'upper': {'indicator': 'stochastic8', 'barrier': 39}, 'lower': {'indicator': 'adx32', 'barrier': 12}, 'best': {'type': 'upper', 'indicator': 'stochastic8', 'barrier': 39}}}}\n",
      "Key in forward opt json 11-03 - 12-month - order - 1593\n"
     ]
    },
    {
     "name": "stderr",
     "output_type": "stream",
     "text": [
      "\r",
      " 53%|█████▎    | 528/996 [3:29:27<4:15:40, 32.78s/it]"
     ]
    },
    {
     "name": "stdout",
     "output_type": "stream",
     "text": [
      "11-03 - 12-month - order\n",
      "{'mean': {'single': {'upper': {'indicator': 'stochastic32', 'barrier': 7}, 'lower': {'indicator': 'stochastic16', 'barrier': 94}, 'best': {'type': 'upper', 'indicator': 'stochastic32', 'barrier': 7}}}, 'order': {'single': {'upper': {'indicator': 'ppo16', 'barrier': 11}, 'lower': {'indicator': 'stochastic32', 'barrier': 49}, 'best': {'type': 'upper', 'indicator': 'ppo16', 'barrier': 11}}}}\n",
      "Key in forward opt json 11-04 - 6-month - mean - 50\n"
     ]
    },
    {
     "name": "stderr",
     "output_type": "stream",
     "text": [
      "\r",
      " 53%|█████▎    | 529/996 [3:29:47<3:44:39, 28.86s/it]"
     ]
    },
    {
     "name": "stdout",
     "output_type": "stream",
     "text": [
      "11-04 - 6-month - mean\n",
      "{'mean': {'single': {'upper': {'indicator': 'stochastic32', 'barrier': 7}, 'lower': {'indicator': 'stochastic8', 'barrier': 12}, 'best': {'type': 'upper', 'indicator': 'stochastic32', 'barrier': 7}}}, 'order': {'single': {'upper': {'indicator': 'ppo16', 'barrier': 25}, 'lower': {'indicator': 'adx8', 'barrier': 19}, 'best': {'type': 'upper', 'indicator': 'ppo16', 'barrier': 25}}}}\n",
      "Key in forward opt json 11-04 - 6-month - order - 807\n"
     ]
    },
    {
     "name": "stderr",
     "output_type": "stream",
     "text": [
      "\r",
      " 53%|█████▎    | 530/996 [3:30:12<3:35:39, 27.77s/it]"
     ]
    },
    {
     "name": "stdout",
     "output_type": "stream",
     "text": [
      "11-04 - 6-month - order\n",
      "{'mean': {'single': {'upper': {'indicator': 'ppo32', 'barrier': 0}, 'lower': {'indicator': 'adx8', 'barrier': 68}, 'best': {'type': 'upper', 'indicator': 'ppo32', 'barrier': 0}}}, 'order': {'single': {'upper': {'indicator': 'ppo32', 'barrier': 26}, 'lower': {'indicator': 'stochastic32', 'barrier': 58}, 'best': {'type': 'upper', 'indicator': 'ppo32', 'barrier': 26}}}}\n",
      "Key in forward opt json 11-04 - 12-month - mean - 321\n"
     ]
    },
    {
     "name": "stderr",
     "output_type": "stream",
     "text": [
      "\r",
      " 53%|█████▎    | 531/996 [3:30:32<3:16:38, 25.37s/it]"
     ]
    },
    {
     "name": "stdout",
     "output_type": "stream",
     "text": [
      "11-04 - 12-month - mean\n",
      "{'mean': {'single': {'upper': {'indicator': 'stochastic8', 'barrier': 5}, 'lower': {'indicator': 'ppo32', 'barrier': 24}, 'best': {'type': 'upper', 'indicator': 'stochastic8', 'barrier': 5}}}, 'order': {'single': {'upper': {'indicator': 'ppo32', 'barrier': 16}, 'lower': {'indicator': 'stochastic8', 'barrier': 7}, 'best': {'type': 'upper', 'indicator': 'ppo32', 'barrier': 16}}}}\n",
      "Key in forward opt json 11-04 - 12-month - order - 1506\n"
     ]
    },
    {
     "name": "stderr",
     "output_type": "stream",
     "text": [
      "\r",
      " 53%|█████▎    | 532/996 [3:31:14<3:56:04, 30.53s/it]"
     ]
    },
    {
     "name": "stdout",
     "output_type": "stream",
     "text": [
      "11-04 - 12-month - order\n",
      "{'mean': {'single': {'upper': {'indicator': 'stochastic8', 'barrier': 12}, 'lower': {'indicator': 'stochastic32', 'barrier': 95}, 'best': {'type': 'upper', 'indicator': 'stochastic8', 'barrier': 12}}}, 'order': {'single': {'upper': {'indicator': 'adx32', 'barrier': 13}, 'lower': {'indicator': 'ppo8', 'barrier': -21}, 'best': {'type': 'upper', 'indicator': 'adx32', 'barrier': 13}}}}\n",
      "Key in forward opt json 11-05 - 6-month - mean - 55\n"
     ]
    },
    {
     "name": "stderr",
     "output_type": "stream",
     "text": [
      "\r",
      " 54%|█████▎    | 533/996 [3:31:35<3:32:34, 27.55s/it]"
     ]
    },
    {
     "name": "stdout",
     "output_type": "stream",
     "text": [
      "11-05 - 6-month - mean\n",
      "{'mean': {'single': {'upper': {'indicator': 'stochastic32', 'barrier': 13}, 'lower': {'indicator': 'adx8', 'barrier': 45}, 'best': {'type': 'upper', 'indicator': 'stochastic32', 'barrier': 13}}}, 'order': {'single': {'upper': {'indicator': 'ppo16', 'barrier': 25}, 'lower': {'indicator': 'stochastic16', 'barrier': 3}, 'best': {'type': 'upper', 'indicator': 'ppo16', 'barrier': 25}}}}\n",
      "Key in forward opt json 11-05 - 6-month - order - 827\n"
     ]
    },
    {
     "name": "stderr",
     "output_type": "stream",
     "text": [
      "\r",
      " 54%|█████▎    | 534/996 [3:31:59<3:24:25, 26.55s/it]"
     ]
    },
    {
     "name": "stdout",
     "output_type": "stream",
     "text": [
      "11-05 - 6-month - order\n",
      "{'mean': {'single': {'upper': {'indicator': 'ppo32', 'barrier': 0}, 'lower': {'indicator': 'adx8', 'barrier': 68}, 'best': {'type': 'upper', 'indicator': 'ppo32', 'barrier': 0}}}, 'order': {'single': {'upper': {'indicator': 'ppo32', 'barrier': 12}, 'lower': {'indicator': 'adx32', 'barrier': 7}, 'best': {'type': 'upper', 'indicator': 'ppo32', 'barrier': 12}}}}\n",
      "Key in forward opt json 11-05 - 12-month - mean - 319\n"
     ]
    },
    {
     "name": "stderr",
     "output_type": "stream",
     "text": [
      "\r",
      " 54%|█████▎    | 535/996 [3:32:20<3:09:56, 24.72s/it]"
     ]
    },
    {
     "name": "stdout",
     "output_type": "stream",
     "text": [
      "11-05 - 12-month - mean\n",
      "{'mean': {'single': {'upper': {'indicator': 'ppo8', 'barrier': 0}, 'lower': {'indicator': 'adx32', 'barrier': 12}, 'best': {'type': 'upper', 'indicator': 'ppo8', 'barrier': 0}}}, 'order': {'single': {'upper': {'indicator': 'ppo32', 'barrier': 16}, 'lower': {'indicator': 'stochastic8', 'barrier': 11}, 'best': {'type': 'upper', 'indicator': 'ppo32', 'barrier': 16}}}}\n",
      "Key in forward opt json 11-05 - 12-month - order - 1484\n"
     ]
    },
    {
     "name": "stderr",
     "output_type": "stream",
     "text": [
      "\r",
      " 54%|█████▍    | 536/996 [3:32:58<3:40:02, 28.70s/it]"
     ]
    },
    {
     "name": "stdout",
     "output_type": "stream",
     "text": [
      "11-05 - 12-month - order\n",
      "{'mean': {'single': {'upper': {'indicator': 'stochastic8', 'barrier': 12}, 'lower': {'indicator': 'adx8', 'barrier': 68}, 'best': {'type': 'upper', 'indicator': 'stochastic8', 'barrier': 12}}}, 'order': {'single': {'upper': {'indicator': 'stochastic16', 'barrier': 44}, 'lower': {'indicator': 'stochastic8', 'barrier': 76}, 'best': {'type': 'upper', 'indicator': 'stochastic16', 'barrier': 44}}}}\n",
      "Key in forward opt json 11-06 - 6-month - mean - 106\n"
     ]
    },
    {
     "name": "stderr",
     "output_type": "stream",
     "text": [
      "\r",
      " 54%|█████▍    | 537/996 [3:33:16<3:16:25, 25.68s/it]"
     ]
    },
    {
     "name": "stdout",
     "output_type": "stream",
     "text": [
      "11-06 - 6-month - mean\n",
      "{'mean': {'single': {'upper': {'indicator': 'stochastic32', 'barrier': 7}, 'lower': {'indicator': 'adx8', 'barrier': 44}, 'best': {'type': 'upper', 'indicator': 'stochastic32', 'barrier': 7}}}, 'order': {'single': {'upper': {'indicator': 'stochastic16', 'barrier': 35}, 'lower': {'indicator': 'adx16', 'barrier': 11}, 'best': {'type': 'upper', 'indicator': 'stochastic16', 'barrier': 35}}}}\n",
      "Key in forward opt json 11-06 - 6-month - order - 642\n"
     ]
    },
    {
     "name": "stderr",
     "output_type": "stream",
     "text": [
      "\r",
      " 54%|█████▍    | 538/996 [3:33:38<3:05:59, 24.37s/it]"
     ]
    },
    {
     "name": "stdout",
     "output_type": "stream",
     "text": [
      "11-06 - 6-month - order\n",
      "{'mean': {'single': {'upper': {'indicator': 'stochastic8', 'barrier': 9}, 'lower': {'indicator': 'adx32', 'barrier': 33}, 'best': {'type': 'upper', 'indicator': 'stochastic8', 'barrier': 9}}}, 'order': {'single': {'upper': {'indicator': 'ppo8', 'barrier': 30}, 'lower': {'indicator': 'stochastic32', 'barrier': 14}, 'best': {'type': 'upper', 'indicator': 'ppo8', 'barrier': 30}}}}\n",
      "Key in forward opt json 11-06 - 12-month - mean - 240\n"
     ]
    },
    {
     "name": "stderr",
     "output_type": "stream",
     "text": [
      "\r",
      " 54%|█████▍    | 539/996 [3:33:57<2:54:02, 22.85s/it]"
     ]
    },
    {
     "name": "stdout",
     "output_type": "stream",
     "text": [
      "11-06 - 12-month - mean\n",
      "{'mean': {'single': {'upper': {'indicator': 'ppo16', 'barrier': 3}, 'lower': {'indicator': 'adx32', 'barrier': 14}, 'best': {'type': 'upper', 'indicator': 'ppo16', 'barrier': 3}}}, 'order': {'single': {'upper': {'indicator': 'stochastic32', 'barrier': 28}, 'lower': {'indicator': 'ppo32', 'barrier': 6}, 'best': {'type': 'upper', 'indicator': 'stochastic32', 'barrier': 28}}}}\n",
      "Key in forward opt json 11-06 - 12-month - order - 1566\n"
     ]
    },
    {
     "name": "stderr",
     "output_type": "stream",
     "text": [
      "\r",
      " 54%|█████▍    | 540/996 [3:34:37<3:32:52, 28.01s/it]"
     ]
    },
    {
     "name": "stdout",
     "output_type": "stream",
     "text": [
      "11-06 - 12-month - order\n",
      "{'mean': {'single': {'upper': {'indicator': 'stochastic32', 'barrier': 7}, 'lower': {'indicator': 'adx8', 'barrier': 66}, 'best': {'type': 'upper', 'indicator': 'stochastic32', 'barrier': 7}}}, 'order': {'single': {'upper': {'indicator': 'adx8', 'barrier': 34}, 'lower': {'indicator': 'stochastic16', 'barrier': 52}, 'best': {'type': 'upper', 'indicator': 'adx8', 'barrier': 34}}}}\n",
      "Key in forward opt json 11-07 - 6-month - mean - 146\n"
     ]
    },
    {
     "name": "stderr",
     "output_type": "stream",
     "text": [
      "\r",
      " 54%|█████▍    | 541/996 [3:34:55<3:10:41, 25.15s/it]"
     ]
    },
    {
     "name": "stdout",
     "output_type": "stream",
     "text": [
      "11-07 - 6-month - mean\n",
      "{'mean': {'single': {'upper': {'indicator': 'stochastic32', 'barrier': 6}, 'lower': {'indicator': 'adx8', 'barrier': 44}, 'best': {'type': 'upper', 'indicator': 'stochastic32', 'barrier': 6}}}, 'order': {'single': {'upper': {'indicator': 'stochastic8', 'barrier': 26}, 'lower': {'indicator': 'adx8', 'barrier': 22}, 'best': {'type': 'upper', 'indicator': 'stochastic8', 'barrier': 26}}}}\n",
      "Key in forward opt json 11-07 - 6-month - order - 856\n"
     ]
    },
    {
     "name": "stderr",
     "output_type": "stream",
     "text": [
      "\r",
      " 54%|█████▍    | 542/996 [3:35:20<3:09:11, 25.00s/it]"
     ]
    },
    {
     "name": "stdout",
     "output_type": "stream",
     "text": [
      "11-07 - 6-month - order\n",
      "{'mean': {'single': {'upper': {'indicator': 'stochastic16', 'barrier': 14}, 'lower': {'indicator': 'adx8', 'barrier': 65}, 'best': {'type': 'upper', 'indicator': 'stochastic16', 'barrier': 14}}}, 'order': {'single': {'upper': {'indicator': 'adx8', 'barrier': 75}, 'lower': {'indicator': 'adx16', 'barrier': 10}, 'best': {'type': 'upper', 'indicator': 'adx8', 'barrier': 75}}}}\n",
      "Key in forward opt json 11-07 - 12-month - mean - 266\n"
     ]
    },
    {
     "name": "stderr",
     "output_type": "stream",
     "text": [
      "\r",
      " 55%|█████▍    | 543/996 [3:35:39<2:56:07, 23.33s/it]"
     ]
    },
    {
     "name": "stdout",
     "output_type": "stream",
     "text": [
      "11-07 - 12-month - mean\n",
      "{'mean': {'single': {'upper': {'indicator': 'ppo8', 'barrier': 0}, 'lower': {'indicator': 'adx32', 'barrier': 15}, 'best': {'type': 'upper', 'indicator': 'ppo8', 'barrier': 0}}}, 'order': {'single': {'upper': {'indicator': 'stochastic32', 'barrier': 30}, 'lower': {'indicator': 'ppo32', 'barrier': 6}, 'best': {'type': 'upper', 'indicator': 'stochastic32', 'barrier': 30}}}}\n",
      "Key in forward opt json 11-07 - 12-month - order - 1564\n"
     ]
    },
    {
     "name": "stderr",
     "output_type": "stream",
     "text": [
      "\r",
      " 55%|█████▍    | 544/996 [3:36:20<3:33:52, 28.39s/it]"
     ]
    },
    {
     "name": "stdout",
     "output_type": "stream",
     "text": [
      "11-07 - 12-month - order\n",
      "{'mean': {'single': {'upper': {'indicator': 'ppo16', 'barrier': -1}, 'lower': {'indicator': 'adx8', 'barrier': 66}, 'best': {'type': 'upper', 'indicator': 'ppo16', 'barrier': -1}}}, 'order': {'single': {'upper': {'indicator': 'adx8', 'barrier': 66}, 'lower': {'indicator': 'stochastic32', 'barrier': 43}, 'best': {'type': 'upper', 'indicator': 'adx8', 'barrier': 66}}}}\n",
      "Key in forward opt json 11-08 - 6-month - mean - 287\n"
     ]
    },
    {
     "name": "stderr",
     "output_type": "stream",
     "text": [
      "\r",
      " 55%|█████▍    | 545/996 [3:36:40<3:14:47, 25.91s/it]"
     ]
    },
    {
     "name": "stdout",
     "output_type": "stream",
     "text": [
      "11-08 - 6-month - mean\n",
      "{'mean': {'single': {'upper': {'indicator': 'stochastic32', 'barrier': 31}, 'lower': {'indicator': 'ppo8', 'barrier': 18}, 'best': {'type': 'upper', 'indicator': 'stochastic32', 'barrier': 31}}}, 'order': {'single': {'upper': {'indicator': 'stochastic8', 'barrier': 54}, 'lower': {'indicator': 'stochastic8', 'barrier': 16}, 'best': {'type': 'upper', 'indicator': 'stochastic8', 'barrier': 54}}}}\n",
      "Key in forward opt json 11-08 - 6-month - order - 491\n"
     ]
    },
    {
     "name": "stderr",
     "output_type": "stream",
     "text": [
      "\r",
      " 55%|█████▍    | 546/996 [3:37:01<3:02:44, 24.37s/it]"
     ]
    },
    {
     "name": "stdout",
     "output_type": "stream",
     "text": [
      "11-08 - 6-month - order\n",
      "{'mean': {'single': {'upper': {'indicator': 'adx32', 'barrier': 7}, 'lower': {'indicator': 'adx32', 'barrier': 33}, 'best': {'type': 'upper', 'indicator': 'adx32', 'barrier': 7}}}, 'order': {'single': {'upper': {'indicator': 'stochastic8', 'barrier': 34}, 'lower': {'indicator': 'stochastic16', 'barrier': 30}, 'best': {'type': 'upper', 'indicator': 'stochastic8', 'barrier': 34}}}}\n",
      "Key in forward opt json 11-08 - 12-month - mean - 211\n"
     ]
    },
    {
     "name": "stderr",
     "output_type": "stream",
     "text": [
      "\r",
      " 55%|█████▍    | 547/996 [3:37:20<2:52:13, 23.01s/it]"
     ]
    },
    {
     "name": "stdout",
     "output_type": "stream",
     "text": [
      "11-08 - 12-month - mean\n",
      "{'mean': {'single': {'upper': {'indicator': 'stochastic32', 'barrier': 6}, 'lower': {'indicator': 'adx16', 'barrier': 31}, 'best': {'type': 'upper', 'indicator': 'stochastic32', 'barrier': 6}}}, 'order': {'single': {'upper': {'indicator': 'stochastic16', 'barrier': 28}, 'lower': {'indicator': 'adx8', 'barrier': 26}, 'best': {'type': 'upper', 'indicator': 'stochastic16', 'barrier': 28}}}}\n",
      "Key in forward opt json 11-08 - 12-month - order - 1595\n"
     ]
    },
    {
     "name": "stderr",
     "output_type": "stream",
     "text": [
      "\r",
      " 55%|█████▌    | 548/996 [3:37:59<3:27:16, 27.76s/it]"
     ]
    },
    {
     "name": "stdout",
     "output_type": "stream",
     "text": [
      "11-08 - 12-month - order\n",
      "{'mean': {'single': {'upper': {'indicator': 'stochastic32', 'barrier': 7}, 'lower': {'indicator': 'adx8', 'barrier': 70}, 'best': {'type': 'upper', 'indicator': 'stochastic32', 'barrier': 7}}}, 'order': {'single': {'upper': {'indicator': 'ppo32', 'barrier': 26}, 'lower': {'indicator': 'ppo16', 'barrier': 2}, 'best': {'type': 'upper', 'indicator': 'ppo32', 'barrier': 26}}}}\n",
      "Key in forward opt json 11-09 - 6-month - mean - 314\n"
     ]
    },
    {
     "name": "stderr",
     "output_type": "stream",
     "text": [
      "\r",
      " 55%|█████▌    | 549/996 [3:38:18<3:07:06, 25.11s/it]"
     ]
    },
    {
     "name": "stdout",
     "output_type": "stream",
     "text": [
      "11-09 - 6-month - mean\n",
      "{'mean': {'single': {'upper': {'indicator': 'stochastic32', 'barrier': 7}, 'lower': {'indicator': 'ppo8', 'barrier': 20}, 'best': {'type': 'upper', 'indicator': 'stochastic32', 'barrier': 7}}}, 'order': {'single': {'upper': {'indicator': 'stochastic8', 'barrier': 52}, 'lower': {'indicator': 'stochastic16', 'barrier': 5}, 'best': {'type': 'upper', 'indicator': 'stochastic8', 'barrier': 52}}}}\n",
      "Key in forward opt json 11-09 - 6-month - order - 94\n"
     ]
    },
    {
     "name": "stderr",
     "output_type": "stream",
     "text": [
      "\r",
      " 55%|█████▌    | 550/996 [3:38:37<2:52:54, 23.26s/it]"
     ]
    },
    {
     "name": "stdout",
     "output_type": "stream",
     "text": [
      "11-09 - 6-month - order\n",
      "{'mean': {'single': {'upper': {'indicator': 'stochastic8', 'barrier': 18}, 'lower': {'indicator': 'adx16', 'barrier': 25}, 'best': {'type': 'upper', 'indicator': 'stochastic8', 'barrier': 18}}}, 'order': {'single': {'upper': {'indicator': 'stochastic8', 'barrier': 20}, 'lower': {'indicator': 'adx32', 'barrier': 12}, 'best': {'type': 'upper', 'indicator': 'stochastic8', 'barrier': 20}}}}\n",
      "Key in forward opt json 11-09 - 12-month - mean - 111\n"
     ]
    },
    {
     "name": "stderr",
     "output_type": "stream",
     "text": [
      "\r",
      " 55%|█████▌    | 551/996 [3:38:57<2:45:23, 22.30s/it]"
     ]
    },
    {
     "name": "stdout",
     "output_type": "stream",
     "text": [
      "11-09 - 12-month - mean\n",
      "{'mean': {'single': {'upper': {'indicator': 'stochastic32', 'barrier': 6}, 'lower': {'indicator': 'adx8', 'barrier': 37}, 'best': {'type': 'upper', 'indicator': 'stochastic32', 'barrier': 6}}}, 'order': {'single': {'upper': {'indicator': 'stochastic32', 'barrier': 20}, 'lower': {'indicator': 'adx8', 'barrier': 29}, 'best': {'type': 'upper', 'indicator': 'stochastic32', 'barrier': 20}}}}\n",
      "Key in forward opt json 11-09 - 12-month - order - 1512\n"
     ]
    },
    {
     "name": "stderr",
     "output_type": "stream",
     "text": [
      "\r",
      " 55%|█████▌    | 552/996 [3:39:35<3:19:16, 26.93s/it]"
     ]
    },
    {
     "name": "stdout",
     "output_type": "stream",
     "text": [
      "11-09 - 12-month - order\n",
      "{'mean': {'single': {'upper': {'indicator': 'stochastic32', 'barrier': 10}, 'lower': {'indicator': 'adx8', 'barrier': 70}, 'best': {'type': 'upper', 'indicator': 'stochastic32', 'barrier': 10}}}, 'order': {'single': {'upper': {'indicator': 'stochastic16', 'barrier': 80}, 'lower': {'indicator': 'adx16', 'barrier': 14}, 'best': {'type': 'upper', 'indicator': 'stochastic16', 'barrier': 80}}}}\n",
      "Key in forward opt json 11-10 - 6-month - mean - 254\n"
     ]
    },
    {
     "name": "stderr",
     "output_type": "stream",
     "text": [
      "\r",
      " 56%|█████▌    | 553/996 [3:39:55<3:04:14, 24.95s/it]"
     ]
    },
    {
     "name": "stdout",
     "output_type": "stream",
     "text": [
      "11-10 - 6-month - mean\n",
      "{'mean': {'single': {'upper': {'indicator': 'stochastic32', 'barrier': 7}, 'lower': {'indicator': 'adx16', 'barrier': 28}, 'best': {'type': 'upper', 'indicator': 'stochastic32', 'barrier': 7}}}, 'order': {'single': {'upper': {'indicator': 'stochastic8', 'barrier': 52}, 'lower': {'indicator': 'stochastic16', 'barrier': 5}, 'best': {'type': 'upper', 'indicator': 'stochastic8', 'barrier': 52}}}}\n",
      "Key in forward opt json 11-10 - 6-month - order - 556\n"
     ]
    },
    {
     "name": "stderr",
     "output_type": "stream",
     "text": [
      "\r",
      " 56%|█████▌    | 554/996 [3:40:18<2:59:44, 24.40s/it]"
     ]
    },
    {
     "name": "stdout",
     "output_type": "stream",
     "text": [
      "11-10 - 6-month - order\n",
      "{'mean': {'single': {'upper': {'indicator': 'stochastic16', 'barrier': 13}, 'lower': {'indicator': 'adx32', 'barrier': 31}, 'best': {'type': 'upper', 'indicator': 'stochastic16', 'barrier': 13}}}, 'order': {'single': {'upper': {'indicator': 'stochastic16', 'barrier': 13}, 'lower': {'indicator': 'adx16', 'barrier': 32}, 'best': {'type': 'upper', 'indicator': 'stochastic16', 'barrier': 13}}}}\n",
      "Key in forward opt json 11-10 - 12-month - mean - 111\n"
     ]
    },
    {
     "name": "stderr",
     "output_type": "stream",
     "text": [
      "\r",
      " 56%|█████▌    | 555/996 [3:40:38<2:48:45, 22.96s/it]"
     ]
    },
    {
     "name": "stdout",
     "output_type": "stream",
     "text": [
      "11-10 - 12-month - mean\n",
      "{'mean': {'single': {'upper': {'indicator': 'stochastic32', 'barrier': 6}, 'lower': {'indicator': 'adx8', 'barrier': 37}, 'best': {'type': 'upper', 'indicator': 'stochastic32', 'barrier': 6}}}, 'order': {'single': {'upper': {'indicator': 'stochastic32', 'barrier': 20}, 'lower': {'indicator': 'adx8', 'barrier': 29}, 'best': {'type': 'upper', 'indicator': 'stochastic32', 'barrier': 20}}}}\n",
      "Key in forward opt json 11-10 - 12-month - order - 1450\n"
     ]
    },
    {
     "name": "stderr",
     "output_type": "stream",
     "text": [
      "\r",
      " 56%|█████▌    | 556/996 [3:41:13<3:16:00, 26.73s/it]"
     ]
    },
    {
     "name": "stdout",
     "output_type": "stream",
     "text": [
      "11-10 - 12-month - order\n",
      "{'mean': {'single': {'upper': {'indicator': 'stochastic32', 'barrier': 10}, 'lower': {'indicator': 'adx8', 'barrier': 70}, 'best': {'type': 'upper', 'indicator': 'stochastic32', 'barrier': 10}}}, 'order': {'single': {'upper': {'indicator': 'stochastic32', 'barrier': 40}, 'lower': {'indicator': 'stochastic8', 'barrier': 13}, 'best': {'type': 'upper', 'indicator': 'stochastic32', 'barrier': 40}}}}\n",
      "Key in forward opt json 11-11 - 6-month - mean - 216\n"
     ]
    },
    {
     "name": "stderr",
     "output_type": "stream",
     "text": [
      "\r",
      " 56%|█████▌    | 557/996 [3:41:34<3:01:24, 24.79s/it]"
     ]
    },
    {
     "name": "stdout",
     "output_type": "stream",
     "text": [
      "11-11 - 6-month - mean\n",
      "{'mean': {'single': {'upper': {'indicator': 'stochastic32', 'barrier': 7}, 'lower': {'indicator': 'adx16', 'barrier': 28}, 'best': {'type': 'upper', 'indicator': 'stochastic32', 'barrier': 7}}}, 'order': {'single': {'upper': {'indicator': 'stochastic8', 'barrier': 40}, 'lower': {'indicator': 'stochastic16', 'barrier': 5}, 'best': {'type': 'upper', 'indicator': 'stochastic8', 'barrier': 40}}}}\n",
      "Key in forward opt json 11-11 - 6-month - order - 471\n"
     ]
    },
    {
     "name": "stderr",
     "output_type": "stream",
     "text": [
      "\r",
      " 56%|█████▌    | 558/996 [3:41:56<2:54:51, 23.95s/it]"
     ]
    },
    {
     "name": "stdout",
     "output_type": "stream",
     "text": [
      "11-11 - 6-month - order\n",
      "{'mean': {'single': {'upper': {'indicator': 'stochastic32', 'barrier': 7}, 'lower': {'indicator': 'adx16', 'barrier': 34}, 'best': {'type': 'upper', 'indicator': 'stochastic32', 'barrier': 7}}}, 'order': {'single': {'upper': {'indicator': 'stochastic16', 'barrier': 71}, 'lower': {'indicator': 'adx8', 'barrier': 12}, 'best': {'type': 'upper', 'indicator': 'stochastic16', 'barrier': 71}}}}\n",
      "Key in forward opt json 11-11 - 12-month - mean - 109\n"
     ]
    },
    {
     "name": "stderr",
     "output_type": "stream",
     "text": [
      "\r",
      " 56%|█████▌    | 559/996 [3:42:15<2:44:58, 22.65s/it]"
     ]
    },
    {
     "name": "stdout",
     "output_type": "stream",
     "text": [
      "11-11 - 12-month - mean\n",
      "{'mean': {'single': {'upper': {'indicator': 'stochastic32', 'barrier': 6}, 'lower': {'indicator': 'adx8', 'barrier': 45}, 'best': {'type': 'upper', 'indicator': 'stochastic32', 'barrier': 6}}}, 'order': {'single': {'upper': {'indicator': 'stochastic32', 'barrier': 20}, 'lower': {'indicator': 'adx8', 'barrier': 29}, 'best': {'type': 'upper', 'indicator': 'stochastic32', 'barrier': 20}}}}\n",
      "Key in forward opt json 11-11 - 12-month - order - 1071\n"
     ]
    },
    {
     "name": "stderr",
     "output_type": "stream",
     "text": [
      "\r",
      " 56%|█████▌    | 560/996 [3:42:46<3:01:04, 24.92s/it]"
     ]
    },
    {
     "name": "stdout",
     "output_type": "stream",
     "text": [
      "11-11 - 12-month - order\n",
      "{'mean': {'single': {'upper': {'indicator': 'stochastic16', 'barrier': 13}, 'lower': {'indicator': 'adx8', 'barrier': 56}, 'best': {'type': 'upper', 'indicator': 'stochastic16', 'barrier': 13}}}, 'order': {'single': {'upper': {'indicator': 'stochastic16', 'barrier': 13}, 'lower': {'indicator': 'adx16', 'barrier': 26}, 'best': {'type': 'upper', 'indicator': 'stochastic16', 'barrier': 13}}}}\n",
      "Key in forward opt json 11-12 - 6-month - mean - 183\n"
     ]
    },
    {
     "name": "stderr",
     "output_type": "stream",
     "text": [
      "\r",
      " 56%|█████▋    | 561/996 [3:43:06<2:49:49, 23.43s/it]"
     ]
    },
    {
     "name": "stdout",
     "output_type": "stream",
     "text": [
      "11-12 - 6-month - mean\n",
      "{'mean': {'single': {'upper': {'indicator': 'stochastic32', 'barrier': 7}, 'lower': {'indicator': 'adx16', 'barrier': 28}, 'best': {'type': 'upper', 'indicator': 'stochastic32', 'barrier': 7}}}, 'order': {'single': {'upper': {'indicator': 'stochastic16', 'barrier': 53}, 'lower': {'indicator': 'stochastic8', 'barrier': 6}, 'best': {'type': 'upper', 'indicator': 'stochastic16', 'barrier': 53}}}}\n",
      "Key in forward opt json 11-12 - 6-month - order - 317\n"
     ]
    },
    {
     "name": "stderr",
     "output_type": "stream",
     "text": [
      "\r",
      " 56%|█████▋    | 562/996 [3:43:26<2:42:29, 22.46s/it]"
     ]
    },
    {
     "name": "stdout",
     "output_type": "stream",
     "text": [
      "11-12 - 6-month - order\n",
      "{'mean': {'single': {'upper': {'indicator': 'adx8', 'barrier': 18}, 'lower': {'indicator': 'adx16', 'barrier': 29}, 'best': {'type': 'upper', 'indicator': 'adx8', 'barrier': 18}}}, 'order': {'single': {'upper': {'indicator': 'stochastic8', 'barrier': 19}, 'lower': {'indicator': 'stochastic32', 'barrier': 39}, 'best': {'type': 'upper', 'indicator': 'stochastic8', 'barrier': 19}}}}\n",
      "Key in forward opt json 11-12 - 12-month - mean - 929\n"
     ]
    },
    {
     "name": "stderr",
     "output_type": "stream",
     "text": [
      "\r",
      " 57%|█████▋    | 563/996 [3:43:51<2:47:47, 23.25s/it]"
     ]
    },
    {
     "name": "stdout",
     "output_type": "stream",
     "text": [
      "11-12 - 12-month - mean\n",
      "{'mean': {'single': {'upper': {'indicator': 'ppo8', 'barrier': 1}, 'lower': {'indicator': 'adx32', 'barrier': 33}, 'best': {'type': 'upper', 'indicator': 'ppo8', 'barrier': 1}}}, 'order': {'single': {'upper': {'indicator': 'adx16', 'barrier': 36}, 'lower': {'indicator': 'ppo32', 'barrier': 2}, 'best': {'type': 'upper', 'indicator': 'adx16', 'barrier': 36}}}}\n",
      "Key in forward opt json 11-12 - 12-month - order - 732\n"
     ]
    },
    {
     "name": "stderr",
     "output_type": "stream",
     "text": [
      "\r",
      " 57%|█████▋    | 564/996 [3:44:15<2:48:42, 23.43s/it]"
     ]
    },
    {
     "name": "stdout",
     "output_type": "stream",
     "text": [
      "11-12 - 12-month - order\n",
      "{'mean': {'single': {'upper': {'indicator': 'adx8', 'barrier': 18}, 'lower': {'indicator': 'adx16', 'barrier': 39}, 'best': {'type': 'upper', 'indicator': 'adx8', 'barrier': 18}}}, 'order': {'single': {'upper': {'indicator': 'adx8', 'barrier': 26}, 'lower': {'indicator': 'stochastic32', 'barrier': 31}, 'best': {'type': 'upper', 'indicator': 'adx8', 'barrier': 26}}}}\n",
      "Key in forward opt json 12-01 - 6-month - mean - 281\n"
     ]
    },
    {
     "name": "stderr",
     "output_type": "stream",
     "text": [
      "\r",
      " 57%|█████▋    | 565/996 [3:44:34<2:39:47, 22.25s/it]"
     ]
    },
    {
     "name": "stdout",
     "output_type": "stream",
     "text": [
      "12-01 - 6-month - mean\n",
      "{'mean': {'single': {'upper': {'indicator': 'stochastic32', 'barrier': 21}, 'lower': {'indicator': 'adx8', 'barrier': 38}, 'best': {'type': 'upper', 'indicator': 'stochastic32', 'barrier': 21}}}, 'order': {'single': {'upper': {'indicator': 'stochastic8', 'barrier': 56}, 'lower': {'indicator': 'ppo32', 'barrier': 2}, 'best': {'type': 'upper', 'indicator': 'stochastic8', 'barrier': 56}}}}\n",
      "Key in forward opt json 12-01 - 6-month - order - 484\n"
     ]
    },
    {
     "name": "stderr",
     "output_type": "stream",
     "text": [
      "\r",
      " 57%|█████▋    | 566/996 [3:44:56<2:38:51, 22.17s/it]"
     ]
    },
    {
     "name": "stdout",
     "output_type": "stream",
     "text": [
      "12-01 - 6-month - order\n",
      "{'mean': {'single': {'upper': {'indicator': 'adx32', 'barrier': 7}, 'lower': {'indicator': 'adx16', 'barrier': 30}, 'best': {'type': 'upper', 'indicator': 'adx32', 'barrier': 7}}}, 'order': {'single': {'upper': {'indicator': 'adx8', 'barrier': 41}, 'lower': {'indicator': 'stochastic8', 'barrier': 10}, 'best': {'type': 'upper', 'indicator': 'adx8', 'barrier': 41}}}}\n",
      "Key in forward opt json 12-01 - 12-month - mean - 887\n"
     ]
    },
    {
     "name": "stderr",
     "output_type": "stream",
     "text": [
      "\r",
      " 57%|█████▋    | 567/996 [3:45:21<2:44:18, 22.98s/it]"
     ]
    },
    {
     "name": "stdout",
     "output_type": "stream",
     "text": [
      "12-01 - 12-month - mean\n",
      "{'mean': {'single': {'upper': {'indicator': 'stochastic16', 'barrier': 7}, 'lower': {'indicator': 'adx32', 'barrier': 33}, 'best': {'type': 'upper', 'indicator': 'stochastic16', 'barrier': 7}}}, 'order': {'single': {'upper': {'indicator': 'stochastic16', 'barrier': 73}, 'lower': {'indicator': 'ppo32', 'barrier': 2}, 'best': {'type': 'upper', 'indicator': 'stochastic16', 'barrier': 73}}}}\n",
      "Key in forward opt json 12-01 - 12-month - order - 1340\n"
     ]
    },
    {
     "name": "stderr",
     "output_type": "stream",
     "text": [
      "\r",
      " 57%|█████▋    | 568/996 [3:45:54<3:05:16, 25.97s/it]"
     ]
    },
    {
     "name": "stdout",
     "output_type": "stream",
     "text": [
      "12-01 - 12-month - order\n",
      "{'mean': {'single': {'upper': {'indicator': 'stochastic32', 'barrier': 5}, 'lower': {'indicator': 'adx8', 'barrier': 65}, 'best': {'type': 'upper', 'indicator': 'stochastic32', 'barrier': 5}}}, 'order': {'single': {'upper': {'indicator': 'adx32', 'barrier': 19}, 'lower': {'indicator': 'stochastic8', 'barrier': 52}, 'best': {'type': 'upper', 'indicator': 'adx32', 'barrier': 19}}}}\n",
      "Key in forward opt json 12-02 - 6-month - mean - 171\n"
     ]
    },
    {
     "name": "stderr",
     "output_type": "stream",
     "text": [
      "\r",
      " 57%|█████▋    | 569/996 [3:46:13<2:49:43, 23.85s/it]"
     ]
    },
    {
     "name": "stdout",
     "output_type": "stream",
     "text": [
      "12-02 - 6-month - mean\n",
      "{'mean': {'single': {'upper': {'indicator': 'stochastic32', 'barrier': 42}, 'lower': {'indicator': 'stochastic8', 'barrier': 23}, 'best': {'type': 'upper', 'indicator': 'stochastic32', 'barrier': 42}}}, 'order': {'single': {'upper': {'indicator': 'stochastic8', 'barrier': 39}, 'lower': {'indicator': 'stochastic32', 'barrier': 24}, 'best': {'type': 'upper', 'indicator': 'stochastic8', 'barrier': 39}}}}\n",
      "Key in forward opt json 12-02 - 6-month - order - 410\n"
     ]
    },
    {
     "name": "stderr",
     "output_type": "stream",
     "text": [
      "\r",
      " 57%|█████▋    | 570/996 [3:46:33<2:42:07, 22.83s/it]"
     ]
    },
    {
     "name": "stdout",
     "output_type": "stream",
     "text": [
      "12-02 - 6-month - order\n",
      "{'mean': {'single': {'upper': {'indicator': 'stochastic32', 'barrier': 36}, 'lower': {'indicator': 'stochastic8', 'barrier': 86}, 'best': {'type': 'upper', 'indicator': 'stochastic32', 'barrier': 36}}}, 'order': {'single': {'upper': {'indicator': 'adx8', 'barrier': 45}, 'lower': {'indicator': 'stochastic32', 'barrier': 56}, 'best': {'type': 'upper', 'indicator': 'adx8', 'barrier': 45}}}}\n",
      "Key in forward opt json 12-02 - 12-month - mean - 848\n"
     ]
    },
    {
     "name": "stderr",
     "output_type": "stream",
     "text": [
      "\r",
      " 57%|█████▋    | 571/996 [3:46:57<2:44:21, 23.20s/it]"
     ]
    },
    {
     "name": "stdout",
     "output_type": "stream",
     "text": [
      "12-02 - 12-month - mean\n",
      "{'mean': {'single': {'upper': {'indicator': 'ppo32', 'barrier': 2}, 'lower': {'indicator': 'adx32', 'barrier': 31}, 'best': {'type': 'upper', 'indicator': 'ppo32', 'barrier': 2}}}, 'order': {'single': {'upper': {'indicator': 'ppo32', 'barrier': 10}, 'lower': {'indicator': 'adx16', 'barrier': 12}, 'best': {'type': 'upper', 'indicator': 'ppo32', 'barrier': 10}}}}\n",
      "Key in forward opt json 12-02 - 12-month - order - 1220\n"
     ]
    },
    {
     "name": "stderr",
     "output_type": "stream",
     "text": [
      "\r",
      " 57%|█████▋    | 572/996 [3:47:27<2:58:27, 25.25s/it]"
     ]
    },
    {
     "name": "stdout",
     "output_type": "stream",
     "text": [
      "12-02 - 12-month - order\n",
      "{'mean': {'single': {'upper': {'indicator': 'stochastic16', 'barrier': 10}, 'lower': {'indicator': 'adx8', 'barrier': 65}, 'best': {'type': 'upper', 'indicator': 'stochastic16', 'barrier': 10}}}, 'order': {'single': {'upper': {'indicator': 'ppo32', 'barrier': 9}, 'lower': {'indicator': 'stochastic32', 'barrier': 28}, 'best': {'type': 'upper', 'indicator': 'ppo32', 'barrier': 9}}}}\n"
     ]
    },
    {
     "name": "stderr",
     "output_type": "stream",
     "text": [
      "\r",
      " 58%|█████▊    | 573/996 [3:47:46<2:42:56, 23.11s/it]"
     ]
    },
    {
     "name": "stdout",
     "output_type": "stream",
     "text": [
      "Key in forward opt json 12-03 - 6-month - mean - 17\n",
      "12-03 - 6-month - mean\n",
      "{'mean': {'single': {'upper': {'indicator': 'stochastic8', 'barrier': 14}, 'lower': {'indicator': 'adx16', 'barrier': 13}, 'best': {'type': 'upper', 'indicator': 'stochastic8', 'barrier': 14}}}, 'order': {'single': {'upper': {'indicator': 'ppo8', 'barrier': 14}, 'lower': {'indicator': 'adx8', 'barrier': 26}, 'best': {'type': 'upper', 'indicator': 'ppo8', 'barrier': 14}}}}\n",
      "Key in forward opt json 12-03 - 6-month - order - 541\n"
     ]
    },
    {
     "name": "stderr",
     "output_type": "stream",
     "text": [
      "\r",
      " 58%|█████▊    | 574/996 [3:48:07<2:39:54, 22.74s/it]"
     ]
    },
    {
     "name": "stdout",
     "output_type": "stream",
     "text": [
      "12-03 - 6-month - order\n",
      "{'mean': {'single': {'upper': {'indicator': 'ppo32', 'barrier': -3}, 'lower': {'indicator': 'stochastic8', 'barrier': 85}, 'best': {'type': 'upper', 'indicator': 'ppo32', 'barrier': -3}}}, 'order': {'single': {'upper': {'indicator': 'stochastic32', 'barrier': 84}, 'lower': {'indicator': 'adx32', 'barrier': 9}, 'best': {'type': 'upper', 'indicator': 'stochastic32', 'barrier': 84}}}}\n",
      "Key in forward opt json 12-03 - 12-month - mean - 52\n"
     ]
    },
    {
     "name": "stderr",
     "output_type": "stream",
     "text": [
      "\r",
      " 58%|█████▊    | 575/996 [3:48:26<2:31:28, 21.59s/it]"
     ]
    },
    {
     "name": "stdout",
     "output_type": "stream",
     "text": [
      "12-03 - 12-month - mean\n",
      "{'mean': {'single': {'upper': {'indicator': 'stochastic32', 'barrier': 6}, 'lower': {'indicator': 'adx8', 'barrier': 43}, 'best': {'type': 'upper', 'indicator': 'stochastic32', 'barrier': 6}}}, 'order': {'single': {'upper': {'indicator': 'stochastic8', 'barrier': 18}, 'lower': {'indicator': 'adx8', 'barrier': 29}, 'best': {'type': 'upper', 'indicator': 'stochastic8', 'barrier': 18}}}}\n",
      "Key in forward opt json 12-03 - 12-month - order - 1227\n"
     ]
    },
    {
     "name": "stderr",
     "output_type": "stream",
     "text": [
      "\r",
      " 58%|█████▊    | 576/996 [3:48:56<2:48:48, 24.11s/it]"
     ]
    },
    {
     "name": "stdout",
     "output_type": "stream",
     "text": [
      "12-03 - 12-month - order\n",
      "{'mean': {'single': {'upper': {'indicator': 'stochastic16', 'barrier': 10}, 'lower': {'indicator': 'adx8', 'barrier': 67}, 'best': {'type': 'upper', 'indicator': 'stochastic16', 'barrier': 10}}}, 'order': {'single': {'upper': {'indicator': 'stochastic32', 'barrier': 94}, 'lower': {'indicator': 'stochastic16', 'barrier': 64}, 'best': {'type': 'upper', 'indicator': 'stochastic32', 'barrier': 94}}}}\n",
      "Key in forward opt json 12-04 - 6-month - mean - 36\n"
     ]
    },
    {
     "name": "stderr",
     "output_type": "stream",
     "text": [
      "\r",
      " 58%|█████▊    | 577/996 [3:49:17<2:41:06, 23.07s/it]"
     ]
    },
    {
     "name": "stdout",
     "output_type": "stream",
     "text": [
      "12-04 - 6-month - mean\n",
      "{'mean': {'single': {'upper': {'indicator': 'adx16', 'barrier': 15}, 'lower': {'indicator': 'stochastic16', 'barrier': 17}, 'best': {'type': 'upper', 'indicator': 'adx16', 'barrier': 15}}}, 'order': {'single': {'upper': {'indicator': 'adx8', 'barrier': 40}, 'lower': {'indicator': 'adx8', 'barrier': 18}, 'best': {'type': 'upper', 'indicator': 'adx8', 'barrier': 40}}}}\n",
      "Key in forward opt json 12-04 - 6-month - order - 620\n"
     ]
    },
    {
     "name": "stderr",
     "output_type": "stream",
     "text": [
      "\r",
      " 58%|█████▊    | 578/996 [3:49:41<2:41:54, 23.24s/it]"
     ]
    },
    {
     "name": "stdout",
     "output_type": "stream",
     "text": [
      "12-04 - 6-month - order\n",
      "{'mean': {'single': {'upper': {'indicator': 'stochastic8', 'barrier': 13}, 'lower': {'indicator': 'adx8', 'barrier': 67}, 'best': {'type': 'upper', 'indicator': 'stochastic8', 'barrier': 13}}}, 'order': {'single': {'upper': {'indicator': 'adx8', 'barrier': 33}, 'lower': {'indicator': 'stochastic32', 'barrier': 24}, 'best': {'type': 'upper', 'indicator': 'adx8', 'barrier': 33}}}}\n",
      "Key in forward opt json 12-04 - 12-month - mean - 837\n"
     ]
    },
    {
     "name": "stderr",
     "output_type": "stream",
     "text": [
      "\r",
      " 58%|█████▊    | 579/996 [3:50:06<2:46:52, 24.01s/it]"
     ]
    },
    {
     "name": "stdout",
     "output_type": "stream",
     "text": [
      "12-04 - 12-month - mean\n",
      "{'mean': {'single': {'upper': {'indicator': 'ppo32', 'barrier': 1}, 'lower': {'indicator': 'adx8', 'barrier': 56}, 'best': {'type': 'upper', 'indicator': 'ppo32', 'barrier': 1}}}, 'order': {'single': {'upper': {'indicator': 'adx32', 'barrier': 26}, 'lower': {'indicator': 'adx8', 'barrier': 14}, 'best': {'type': 'upper', 'indicator': 'adx32', 'barrier': 26}}}}\n",
      "Key in forward opt json 12-04 - 12-month - order - 1268\n"
     ]
    },
    {
     "name": "stderr",
     "output_type": "stream",
     "text": [
      "\r",
      " 58%|█████▊    | 580/996 [3:50:37<3:00:57, 26.10s/it]"
     ]
    },
    {
     "name": "stdout",
     "output_type": "stream",
     "text": [
      "12-04 - 12-month - order\n",
      "{'mean': {'single': {'upper': {'indicator': 'stochastic32', 'barrier': 8}, 'lower': {'indicator': 'adx16', 'barrier': 50}, 'best': {'type': 'upper', 'indicator': 'stochastic32', 'barrier': 8}}}, 'order': {'single': {'upper': {'indicator': 'stochastic32', 'barrier': 80}, 'lower': {'indicator': 'stochastic32', 'barrier': 76}, 'best': {'type': 'upper', 'indicator': 'stochastic32', 'barrier': 80}}}}\n",
      "Key in forward opt json 12-05 - 6-month - mean - 70\n"
     ]
    },
    {
     "name": "stderr",
     "output_type": "stream",
     "text": [
      "\r",
      " 58%|█████▊    | 581/996 [3:50:57<2:46:22, 24.06s/it]"
     ]
    },
    {
     "name": "stdout",
     "output_type": "stream",
     "text": [
      "12-05 - 6-month - mean\n",
      "{'mean': {'single': {'upper': {'indicator': 'stochastic32', 'barrier': 13}, 'lower': {'indicator': 'ppo8', 'barrier': 14}, 'best': {'type': 'upper', 'indicator': 'stochastic32', 'barrier': 13}}}, 'order': {'single': {'upper': {'indicator': 'stochastic8', 'barrier': 26}, 'lower': {'indicator': 'adx8', 'barrier': 18}, 'best': {'type': 'upper', 'indicator': 'stochastic8', 'barrier': 26}}}}\n",
      "Key in forward opt json 12-05 - 6-month - order - 474\n"
     ]
    },
    {
     "name": "stderr",
     "output_type": "stream",
     "text": [
      "\r",
      " 58%|█████▊    | 582/996 [3:51:18<2:40:51, 23.31s/it]"
     ]
    },
    {
     "name": "stdout",
     "output_type": "stream",
     "text": [
      "12-05 - 6-month - order\n",
      "{'mean': {'single': {'upper': {'indicator': 'ppo32', 'barrier': 1}, 'lower': {'indicator': 'adx8', 'barrier': 55}, 'best': {'type': 'upper', 'indicator': 'ppo32', 'barrier': 1}}}, 'order': {'single': {'upper': {'indicator': 'adx8', 'barrier': 55}, 'lower': {'indicator': 'adx16', 'barrier': 10}, 'best': {'type': 'upper', 'indicator': 'adx8', 'barrier': 55}}}}\n",
      "Key in forward opt json 12-05 - 12-month - mean - 871\n"
     ]
    },
    {
     "name": "stderr",
     "output_type": "stream",
     "text": [
      "\r",
      " 59%|█████▊    | 583/996 [3:51:43<2:43:27, 23.75s/it]"
     ]
    },
    {
     "name": "stdout",
     "output_type": "stream",
     "text": [
      "12-05 - 12-month - mean\n",
      "{'mean': {'single': {'upper': {'indicator': 'stochastic32', 'barrier': 7}, 'lower': {'indicator': 'adx32', 'barrier': 34}, 'best': {'type': 'upper', 'indicator': 'stochastic32', 'barrier': 7}}}, 'order': {'single': {'upper': {'indicator': 'stochastic8', 'barrier': 54}, 'lower': {'indicator': 'adx8', 'barrier': 16}, 'best': {'type': 'upper', 'indicator': 'stochastic8', 'barrier': 54}}}}\n",
      "Key in forward opt json 12-05 - 12-month - order - 894\n"
     ]
    },
    {
     "name": "stderr",
     "output_type": "stream",
     "text": [
      "\r",
      " 59%|█████▊    | 584/996 [3:52:07<2:44:31, 23.96s/it]"
     ]
    },
    {
     "name": "stdout",
     "output_type": "stream",
     "text": [
      "12-05 - 12-month - order\n",
      "{'mean': {'single': {'upper': {'indicator': 'stochastic32', 'barrier': 5}, 'lower': {'indicator': 'adx32', 'barrier': 34}, 'best': {'type': 'upper', 'indicator': 'stochastic32', 'barrier': 5}}}, 'order': {'single': {'upper': {'indicator': 'adx8', 'barrier': 36}, 'lower': {'indicator': 'stochastic8', 'barrier': 28}, 'best': {'type': 'upper', 'indicator': 'adx8', 'barrier': 36}}}}\n",
      "Key in forward opt json 12-06 - 6-month - mean - 48\n"
     ]
    },
    {
     "name": "stderr",
     "output_type": "stream",
     "text": [
      "\r",
      " 59%|█████▊    | 585/996 [3:52:26<2:32:28, 22.26s/it]"
     ]
    },
    {
     "name": "stdout",
     "output_type": "stream",
     "text": [
      "12-06 - 6-month - mean\n",
      "{'mean': {'single': {'upper': {'indicator': 'adx8', 'barrier': 33}, 'lower': {'indicator': 'stochastic32', 'barrier': 8}, 'best': {'type': 'upper', 'indicator': 'adx8', 'barrier': 33}}}, 'order': {'single': {'upper': {'indicator': 'adx8', 'barrier': 49}, 'lower': {'indicator': 'ppo32', 'barrier': 4}, 'best': {'type': 'upper', 'indicator': 'adx8', 'barrier': 49}}}}\n",
      "Key in forward opt json 12-06 - 6-month - order - 720\n"
     ]
    },
    {
     "name": "stderr",
     "output_type": "stream",
     "text": [
      "\r",
      " 59%|█████▉    | 586/996 [3:52:49<2:33:48, 22.51s/it]"
     ]
    },
    {
     "name": "stdout",
     "output_type": "stream",
     "text": [
      "12-06 - 6-month - order\n",
      "{'mean': {'single': {'upper': {'indicator': 'ppo8', 'barrier': 2}, 'lower': {'indicator': 'adx8', 'barrier': 66}, 'best': {'type': 'upper', 'indicator': 'ppo8', 'barrier': 2}}}, 'order': {'single': {'upper': {'indicator': 'adx32', 'barrier': 12}, 'lower': {'indicator': 'stochastic32', 'barrier': 68}, 'best': {'type': 'upper', 'indicator': 'adx32', 'barrier': 12}}}}\n",
      "Key in forward opt json 12-06 - 12-month - mean - 1231\n"
     ]
    },
    {
     "name": "stderr",
     "output_type": "stream",
     "text": [
      "\r",
      " 59%|█████▉    | 587/996 [3:53:19<2:49:36, 24.88s/it]"
     ]
    },
    {
     "name": "stdout",
     "output_type": "stream",
     "text": [
      "12-06 - 12-month - mean\n",
      "{'mean': {'single': {'upper': {'indicator': 'stochastic8', 'barrier': 7}, 'lower': {'indicator': 'adx8', 'barrier': 67}, 'best': {'type': 'upper', 'indicator': 'stochastic8', 'barrier': 7}}}, 'order': {'single': {'upper': {'indicator': 'adx32', 'barrier': 26}, 'lower': {'indicator': 'ppo8', 'barrier': -1}, 'best': {'type': 'upper', 'indicator': 'adx32', 'barrier': 26}}}}\n",
      "Key in forward opt json 12-06 - 12-month - order - 896\n"
     ]
    },
    {
     "name": "stderr",
     "output_type": "stream",
     "text": [
      "\r",
      " 59%|█████▉    | 588/996 [3:53:44<2:49:29, 24.92s/it]"
     ]
    },
    {
     "name": "stdout",
     "output_type": "stream",
     "text": [
      "12-06 - 12-month - order\n",
      "{'mean': {'single': {'upper': {'indicator': 'stochastic8', 'barrier': 6}, 'lower': {'indicator': 'adx8', 'barrier': 54}, 'best': {'type': 'upper', 'indicator': 'stochastic8', 'barrier': 6}}}, 'order': {'single': {'upper': {'indicator': 'adx32', 'barrier': 34}, 'lower': {'indicator': 'ppo8', 'barrier': 4}, 'best': {'type': 'upper', 'indicator': 'adx32', 'barrier': 34}}}}\n",
      "Key in forward opt json 12-07 - 6-month - mean - 50\n"
     ]
    },
    {
     "name": "stderr",
     "output_type": "stream",
     "text": [
      "\r",
      " 59%|█████▉    | 589/996 [3:54:04<2:37:49, 23.27s/it]"
     ]
    },
    {
     "name": "stdout",
     "output_type": "stream",
     "text": [
      "12-07 - 6-month - mean\n",
      "{'mean': {'single': {'upper': {'indicator': 'adx8', 'barrier': 33}, 'lower': {'indicator': 'stochastic8', 'barrier': 19}, 'best': {'type': 'upper', 'indicator': 'adx8', 'barrier': 33}}}, 'order': {'single': {'upper': {'indicator': 'adx8', 'barrier': 49}, 'lower': {'indicator': 'ppo32', 'barrier': 4}, 'best': {'type': 'upper', 'indicator': 'adx8', 'barrier': 49}}}}\n",
      "Key in forward opt json 12-07 - 6-month - order - 803\n"
     ]
    },
    {
     "name": "stderr",
     "output_type": "stream",
     "text": [
      "\r",
      " 59%|█████▉    | 590/996 [3:54:27<2:38:25, 23.41s/it]"
     ]
    },
    {
     "name": "stdout",
     "output_type": "stream",
     "text": [
      "12-07 - 6-month - order\n",
      "{'mean': {'single': {'upper': {'indicator': 'ppo32', 'barrier': -3}, 'lower': {'indicator': 'stochastic8', 'barrier': 85}, 'best': {'type': 'upper', 'indicator': 'ppo32', 'barrier': -3}}}, 'order': {'single': {'upper': {'indicator': 'ppo8', 'barrier': 18}, 'lower': {'indicator': 'stochastic32', 'barrier': 40}, 'best': {'type': 'upper', 'indicator': 'ppo8', 'barrier': 18}}}}\n",
      "Key in forward opt json 12-07 - 12-month - mean - 872\n"
     ]
    },
    {
     "name": "stderr",
     "output_type": "stream",
     "text": [
      "\r",
      " 59%|█████▉    | 591/996 [3:54:53<2:41:34, 23.94s/it]"
     ]
    },
    {
     "name": "stdout",
     "output_type": "stream",
     "text": [
      "12-07 - 12-month - mean\n",
      "{'mean': {'single': {'upper': {'indicator': 'stochastic8', 'barrier': 8}, 'lower': {'indicator': 'adx8', 'barrier': 56}, 'best': {'type': 'upper', 'indicator': 'stochastic8', 'barrier': 8}}}, 'order': {'single': {'upper': {'indicator': 'ppo32', 'barrier': 19}, 'lower': {'indicator': 'stochastic32', 'barrier': 64}, 'best': {'type': 'upper', 'indicator': 'ppo32', 'barrier': 19}}}}\n",
      "Key in forward opt json 12-07 - 12-month - order - 876\n"
     ]
    },
    {
     "name": "stderr",
     "output_type": "stream",
     "text": [
      "\r",
      " 59%|█████▉    | 592/996 [3:55:19<2:45:33, 24.59s/it]"
     ]
    },
    {
     "name": "stdout",
     "output_type": "stream",
     "text": [
      "12-07 - 12-month - order\n",
      "{'mean': {'single': {'upper': {'indicator': 'stochastic16', 'barrier': 7}, 'lower': {'indicator': 'adx8', 'barrier': 54}, 'best': {'type': 'upper', 'indicator': 'stochastic16', 'barrier': 7}}}, 'order': {'single': {'upper': {'indicator': 'stochastic16', 'barrier': 83}, 'lower': {'indicator': 'ppo8', 'barrier': 2}, 'best': {'type': 'upper', 'indicator': 'stochastic16', 'barrier': 83}}}}\n",
      "Key in forward opt json 12-08 - 6-month - mean - 49\n"
     ]
    },
    {
     "name": "stderr",
     "output_type": "stream",
     "text": [
      "\r",
      " 60%|█████▉    | 593/996 [3:55:38<2:33:30, 22.86s/it]"
     ]
    },
    {
     "name": "stdout",
     "output_type": "stream",
     "text": [
      "12-08 - 6-month - mean\n",
      "{'mean': {'single': {'upper': {'indicator': 'adx16', 'barrier': 21}, 'lower': {'indicator': 'stochastic8', 'barrier': 19}, 'best': {'type': 'upper', 'indicator': 'adx16', 'barrier': 21}}}, 'order': {'single': {'upper': {'indicator': 'adx8', 'barrier': 55}, 'lower': {'indicator': 'adx32', 'barrier': 7}, 'best': {'type': 'upper', 'indicator': 'adx8', 'barrier': 55}}}}\n",
      "Key in forward opt json 12-08 - 6-month - order - 773\n"
     ]
    },
    {
     "name": "stderr",
     "output_type": "stream",
     "text": [
      "\r",
      " 60%|█████▉    | 594/996 [3:56:02<2:36:48, 23.40s/it]"
     ]
    },
    {
     "name": "stdout",
     "output_type": "stream",
     "text": [
      "12-08 - 6-month - order\n",
      "{'mean': {'single': {'upper': {'indicator': 'ppo32', 'barrier': -2}, 'lower': {'indicator': 'adx8', 'barrier': 58}, 'best': {'type': 'upper', 'indicator': 'ppo32', 'barrier': -2}}}, 'order': {'single': {'upper': {'indicator': 'ppo16', 'barrier': 14}, 'lower': {'indicator': 'stochastic32', 'barrier': 48}, 'best': {'type': 'upper', 'indicator': 'ppo16', 'barrier': 14}}}}\n",
      "Key in forward opt json 12-08 - 12-month - mean - 98\n"
     ]
    },
    {
     "name": "stderr",
     "output_type": "stream",
     "text": [
      "\r",
      " 60%|█████▉    | 595/996 [3:56:21<2:26:42, 21.95s/it]"
     ]
    },
    {
     "name": "stdout",
     "output_type": "stream",
     "text": [
      "12-08 - 12-month - mean\n",
      "{'mean': {'single': {'upper': {'indicator': 'adx8', 'barrier': 30}, 'lower': {'indicator': 'stochastic8', 'barrier': 19}, 'best': {'type': 'upper', 'indicator': 'adx8', 'barrier': 30}}}, 'order': {'single': {'upper': {'indicator': 'adx8', 'barrier': 52}, 'lower': {'indicator': 'adx32', 'barrier': 7}, 'best': {'type': 'upper', 'indicator': 'adx8', 'barrier': 52}}}}\n",
      "Key in forward opt json 12-08 - 12-month - order - 1210\n"
     ]
    },
    {
     "name": "stderr",
     "output_type": "stream",
     "text": [
      "\r",
      " 60%|█████▉    | 596/996 [3:56:52<2:45:18, 24.80s/it]"
     ]
    },
    {
     "name": "stdout",
     "output_type": "stream",
     "text": [
      "12-08 - 12-month - order\n",
      "{'mean': {'single': {'upper': {'indicator': 'stochastic8', 'barrier': 14}, 'lower': {'indicator': 'stochastic8', 'barrier': 86}, 'best': {'type': 'upper', 'indicator': 'stochastic8', 'barrier': 14}}}, 'order': {'single': {'upper': {'indicator': 'stochastic32', 'barrier': 88}, 'lower': {'indicator': 'stochastic32', 'barrier': 58}, 'best': {'type': 'upper', 'indicator': 'stochastic32', 'barrier': 88}}}}\n",
      "Key in forward opt json 12-09 - 6-month - mean - 54\n"
     ]
    },
    {
     "name": "stderr",
     "output_type": "stream",
     "text": [
      "\r",
      " 60%|█████▉    | 597/996 [3:57:11<2:33:32, 23.09s/it]"
     ]
    },
    {
     "name": "stdout",
     "output_type": "stream",
     "text": [
      "12-09 - 6-month - mean\n",
      "{'mean': {'single': {'upper': {'indicator': 'adx16', 'barrier': 20}, 'lower': {'indicator': 'stochastic32', 'barrier': 8}, 'best': {'type': 'upper', 'indicator': 'adx16', 'barrier': 20}}}, 'order': {'single': {'upper': {'indicator': 'adx8', 'barrier': 48}, 'lower': {'indicator': 'adx8', 'barrier': 24}, 'best': {'type': 'upper', 'indicator': 'adx8', 'barrier': 48}}}}\n",
      "Key in forward opt json 12-09 - 6-month - order - 804\n"
     ]
    },
    {
     "name": "stderr",
     "output_type": "stream",
     "text": [
      "\r",
      " 60%|██████    | 598/996 [3:57:36<2:36:19, 23.57s/it]"
     ]
    },
    {
     "name": "stdout",
     "output_type": "stream",
     "text": [
      "12-09 - 6-month - order\n",
      "{'mean': {'single': {'upper': {'indicator': 'ppo32', 'barrier': -2}, 'lower': {'indicator': 'ppo16', 'barrier': 27}, 'best': {'type': 'upper', 'indicator': 'ppo32', 'barrier': -2}}}, 'order': {'single': {'upper': {'indicator': 'adx8', 'barrier': 48}, 'lower': {'indicator': 'stochastic32', 'barrier': 58}, 'best': {'type': 'upper', 'indicator': 'adx8', 'barrier': 48}}}}\n",
      "Key in forward opt json 12-09 - 12-month - mean - 56\n"
     ]
    },
    {
     "name": "stderr",
     "output_type": "stream",
     "text": [
      "\r",
      " 60%|██████    | 599/996 [3:57:56<2:28:07, 22.39s/it]"
     ]
    },
    {
     "name": "stdout",
     "output_type": "stream",
     "text": [
      "12-09 - 12-month - mean\n",
      "{'mean': {'single': {'upper': {'indicator': 'adx16', 'barrier': 21}, 'lower': {'indicator': 'stochastic8', 'barrier': 19}, 'best': {'type': 'upper', 'indicator': 'adx16', 'barrier': 21}}}, 'order': {'single': {'upper': {'indicator': 'adx8', 'barrier': 49}, 'lower': {'indicator': 'adx8', 'barrier': 23}, 'best': {'type': 'upper', 'indicator': 'adx8', 'barrier': 49}}}}\n",
      "Key in forward opt json 12-09 - 12-month - order - 1331\n"
     ]
    },
    {
     "name": "stderr",
     "output_type": "stream",
     "text": [
      "\r",
      " 60%|██████    | 600/996 [3:58:29<2:50:31, 25.84s/it]"
     ]
    },
    {
     "name": "stdout",
     "output_type": "stream",
     "text": [
      "12-09 - 12-month - order\n",
      "{'mean': {'single': {'upper': {'indicator': 'ppo32', 'barrier': -3}, 'lower': {'indicator': 'ppo16', 'barrier': 29}, 'best': {'type': 'upper', 'indicator': 'ppo32', 'barrier': -3}}}, 'order': {'single': {'upper': {'indicator': 'ppo16', 'barrier': 27}, 'lower': {'indicator': 'adx8', 'barrier': 37}, 'best': {'type': 'upper', 'indicator': 'ppo16', 'barrier': 27}}}}\n",
      "Key in forward opt json 12-10 - 6-month - mean - 57\n"
     ]
    },
    {
     "name": "stderr",
     "output_type": "stream",
     "text": [
      "\r",
      " 60%|██████    | 601/996 [3:58:48<2:35:30, 23.62s/it]"
     ]
    },
    {
     "name": "stdout",
     "output_type": "stream",
     "text": [
      "12-10 - 6-month - mean\n",
      "{'mean': {'single': {'upper': {'indicator': 'adx8', 'barrier': 34}, 'lower': {'indicator': 'stochastic16', 'barrier': 11}, 'best': {'type': 'upper', 'indicator': 'adx8', 'barrier': 34}}}, 'order': {'single': {'upper': {'indicator': 'adx8', 'barrier': 48}, 'lower': {'indicator': 'adx32', 'barrier': 10}, 'best': {'type': 'upper', 'indicator': 'adx8', 'barrier': 48}}}}\n",
      "Key in forward opt json 12-10 - 6-month - order - 801\n"
     ]
    },
    {
     "name": "stderr",
     "output_type": "stream",
     "text": [
      "\r",
      " 60%|██████    | 602/996 [3:59:13<2:37:45, 24.02s/it]"
     ]
    },
    {
     "name": "stdout",
     "output_type": "stream",
     "text": [
      "12-10 - 6-month - order\n",
      "{'mean': {'single': {'upper': {'indicator': 'ppo32', 'barrier': -4}, 'lower': {'indicator': 'ppo32', 'barrier': 22}, 'best': {'type': 'upper', 'indicator': 'ppo32', 'barrier': -4}}}, 'order': {'single': {'upper': {'indicator': 'stochastic16', 'barrier': 87}, 'lower': {'indicator': 'stochastic32', 'barrier': 66}, 'best': {'type': 'upper', 'indicator': 'stochastic16', 'barrier': 87}}}}\n",
      "Key in forward opt json 12-10 - 12-month - mean - 59\n"
     ]
    },
    {
     "name": "stderr",
     "output_type": "stream",
     "text": [
      "\r",
      " 61%|██████    | 603/996 [3:59:32<2:28:04, 22.61s/it]"
     ]
    },
    {
     "name": "stdout",
     "output_type": "stream",
     "text": [
      "12-10 - 12-month - mean\n",
      "{'mean': {'single': {'upper': {'indicator': 'adx16', 'barrier': 21}, 'lower': {'indicator': 'stochastic8', 'barrier': 19}, 'best': {'type': 'upper', 'indicator': 'adx16', 'barrier': 21}}}, 'order': {'single': {'upper': {'indicator': 'adx8', 'barrier': 51}, 'lower': {'indicator': 'adx8', 'barrier': 23}, 'best': {'type': 'upper', 'indicator': 'adx8', 'barrier': 51}}}}\n",
      "Key in forward opt json 12-10 - 12-month - order - 1399\n"
     ]
    },
    {
     "name": "stderr",
     "output_type": "stream",
     "text": [
      "\r",
      " 61%|██████    | 604/996 [4:00:11<2:59:02, 27.40s/it]"
     ]
    },
    {
     "name": "stdout",
     "output_type": "stream",
     "text": [
      "12-10 - 12-month - order\n",
      "{'mean': {'single': {'upper': {'indicator': 'ppo8', 'barrier': 2}, 'lower': {'indicator': 'ppo8', 'barrier': 32}, 'best': {'type': 'upper', 'indicator': 'ppo8', 'barrier': 2}}}, 'order': {'single': {'upper': {'indicator': 'stochastic8', 'barrier': 87}, 'lower': {'indicator': 'stochastic16', 'barrier': 9}, 'best': {'type': 'upper', 'indicator': 'stochastic8', 'barrier': 87}}}}\n",
      "Key in forward opt json 12-11 - 6-month - mean - 55\n"
     ]
    },
    {
     "name": "stderr",
     "output_type": "stream",
     "text": [
      "\r",
      " 61%|██████    | 605/996 [4:00:29<2:41:31, 24.79s/it]"
     ]
    },
    {
     "name": "stdout",
     "output_type": "stream",
     "text": [
      "12-11 - 6-month - mean\n",
      "{'mean': {'single': {'upper': {'indicator': 'adx16', 'barrier': 22}, 'lower': {'indicator': 'stochastic8', 'barrier': 15}, 'best': {'type': 'upper', 'indicator': 'adx16', 'barrier': 22}}}, 'order': {'single': {'upper': {'indicator': 'stochastic32', 'barrier': 16}, 'lower': {'indicator': 'adx8', 'barrier': 24}, 'best': {'type': 'upper', 'indicator': 'stochastic32', 'barrier': 16}}}}\n",
      "Key in forward opt json 12-11 - 6-month - order - 802\n"
     ]
    },
    {
     "name": "stderr",
     "output_type": "stream",
     "text": [
      "\r",
      " 61%|██████    | 606/996 [4:00:54<2:41:13, 24.80s/it]"
     ]
    },
    {
     "name": "stdout",
     "output_type": "stream",
     "text": [
      "12-11 - 6-month - order\n",
      "{'mean': {'single': {'upper': {'indicator': 'ppo32', 'barrier': -4}, 'lower': {'indicator': 'ppo8', 'barrier': 27}, 'best': {'type': 'upper', 'indicator': 'ppo32', 'barrier': -4}}}, 'order': {'single': {'upper': {'indicator': 'ppo8', 'barrier': 9}, 'lower': {'indicator': 'stochastic16', 'barrier': 31}, 'best': {'type': 'upper', 'indicator': 'ppo8', 'barrier': 9}}}}\n",
      "Key in forward opt json 12-11 - 12-month - mean - 66\n"
     ]
    },
    {
     "name": "stderr",
     "output_type": "stream",
     "text": [
      "\r",
      " 61%|██████    | 607/996 [4:01:13<2:29:46, 23.10s/it]"
     ]
    },
    {
     "name": "stdout",
     "output_type": "stream",
     "text": [
      "12-11 - 12-month - mean\n",
      "{'mean': {'single': {'upper': {'indicator': 'adx8', 'barrier': 35}, 'lower': {'indicator': 'stochastic8', 'barrier': 19}, 'best': {'type': 'upper', 'indicator': 'adx8', 'barrier': 35}}}, 'order': {'single': {'upper': {'indicator': 'stochastic32', 'barrier': 16}, 'lower': {'indicator': 'adx8', 'barrier': 23}, 'best': {'type': 'upper', 'indicator': 'stochastic32', 'barrier': 16}}}}\n",
      "Key in forward opt json 12-11 - 12-month - order - 1445\n"
     ]
    },
    {
     "name": "stderr",
     "output_type": "stream",
     "text": [
      "\r",
      " 61%|██████    | 608/996 [4:01:53<3:01:13, 28.03s/it]"
     ]
    },
    {
     "name": "stdout",
     "output_type": "stream",
     "text": [
      "12-11 - 12-month - order\n",
      "{'mean': {'single': {'upper': {'indicator': 'stochastic8', 'barrier': 6}, 'lower': {'indicator': 'stochastic8', 'barrier': 86}, 'best': {'type': 'upper', 'indicator': 'stochastic8', 'barrier': 6}}}, 'order': {'single': {'upper': {'indicator': 'adx8', 'barrier': 42}, 'lower': {'indicator': 'adx8', 'barrier': 26}, 'best': {'type': 'upper', 'indicator': 'adx8', 'barrier': 42}}}}\n"
     ]
    },
    {
     "name": "stderr",
     "output_type": "stream",
     "text": [
      "\r",
      " 61%|██████    | 609/996 [4:02:11<2:41:25, 25.03s/it]"
     ]
    },
    {
     "name": "stdout",
     "output_type": "stream",
     "text": [
      "Key in forward opt json 12-12 - 6-month - mean - 34\n",
      "12-12 - 6-month - mean\n",
      "{'mean': {'single': {'upper': {'indicator': 'adx32', 'barrier': 16}, 'lower': {'indicator': 'stochastic16', 'barrier': 9}, 'best': {'type': 'upper', 'indicator': 'adx32', 'barrier': 16}}}, 'order': {'single': {'upper': {'indicator': 'adx8', 'barrier': 52}, 'lower': {'indicator': 'adx8', 'barrier': 24}, 'best': {'type': 'upper', 'indicator': 'adx8', 'barrier': 52}}}}\n",
      "Key in forward opt json 12-12 - 6-month - order - 767\n"
     ]
    },
    {
     "name": "stderr",
     "output_type": "stream",
     "text": [
      "\r",
      " 61%|██████    | 610/996 [4:02:36<2:40:23, 24.93s/it]"
     ]
    },
    {
     "name": "stdout",
     "output_type": "stream",
     "text": [
      "12-12 - 6-month - order\n",
      "{'mean': {'single': {'upper': {'indicator': 'ppo8', 'barrier': -1}, 'lower': {'indicator': 'ppo8', 'barrier': 27}, 'best': {'type': 'upper', 'indicator': 'ppo8', 'barrier': -1}}}, 'order': {'single': {'upper': {'indicator': 'adx16', 'barrier': 49}, 'lower': {'indicator': 'stochastic16', 'barrier': 9}, 'best': {'type': 'upper', 'indicator': 'adx16', 'barrier': 49}}}}\n",
      "Key in forward opt json 12-12 - 12-month - mean - 88\n"
     ]
    },
    {
     "name": "stderr",
     "output_type": "stream",
     "text": [
      "\r",
      " 61%|██████▏   | 611/996 [4:02:54<2:28:06, 23.08s/it]"
     ]
    },
    {
     "name": "stdout",
     "output_type": "stream",
     "text": [
      "12-12 - 12-month - mean\n",
      "{'mean': {'single': {'upper': {'indicator': 'adx16', 'barrier': 21}, 'lower': {'indicator': 'stochastic8', 'barrier': 21}, 'best': {'type': 'upper', 'indicator': 'adx16', 'barrier': 21}}}, 'order': {'single': {'upper': {'indicator': 'adx8', 'barrier': 55}, 'lower': {'indicator': 'adx8', 'barrier': 23}, 'best': {'type': 'upper', 'indicator': 'adx8', 'barrier': 55}}}}\n",
      "Key in forward opt json 12-12 - 12-month - order - 1480\n"
     ]
    },
    {
     "name": "stderr",
     "output_type": "stream",
     "text": [
      "\r",
      " 61%|██████▏   | 612/996 [4:03:32<2:56:23, 27.56s/it]"
     ]
    },
    {
     "name": "stdout",
     "output_type": "stream",
     "text": [
      "12-12 - 12-month - order\n",
      "{'mean': {'single': {'upper': {'indicator': 'ppo16', 'barrier': -1}, 'lower': {'indicator': 'adx8', 'barrier': 70}, 'best': {'type': 'upper', 'indicator': 'ppo16', 'barrier': -1}}}, 'order': {'single': {'upper': {'indicator': 'ppo8', 'barrier': 14}, 'lower': {'indicator': 'ppo8', 'barrier': 2}, 'best': {'type': 'upper', 'indicator': 'ppo8', 'barrier': 14}}}}\n"
     ]
    },
    {
     "name": "stderr",
     "output_type": "stream",
     "text": [
      "\r",
      " 62%|██████▏   | 613/996 [4:03:51<2:39:18, 24.96s/it]"
     ]
    },
    {
     "name": "stdout",
     "output_type": "stream",
     "text": [
      "Key in forward opt json 13-01 - 6-month - mean - 27\n",
      "13-01 - 6-month - mean\n",
      "{'mean': {'single': {'upper': {'indicator': 'stochastic32', 'barrier': 9}, 'lower': {'indicator': 'stochastic16', 'barrier': 5}, 'best': {'type': 'upper', 'indicator': 'stochastic32', 'barrier': 9}}}, 'order': {'single': {'upper': {'indicator': 'adx8', 'barrier': 52}, 'lower': {'indicator': 'adx8', 'barrier': 24}, 'best': {'type': 'upper', 'indicator': 'adx8', 'barrier': 52}}}}\n",
      "Key in forward opt json 13-01 - 6-month - order - 811\n"
     ]
    },
    {
     "name": "stderr",
     "output_type": "stream",
     "text": [
      "\r",
      " 62%|██████▏   | 614/996 [4:04:17<2:39:46, 25.09s/it]"
     ]
    },
    {
     "name": "stdout",
     "output_type": "stream",
     "text": [
      "13-01 - 6-month - order\n",
      "{'mean': {'single': {'upper': {'indicator': 'ppo16', 'barrier': -1}, 'lower': {'indicator': 'ppo16', 'barrier': 29}, 'best': {'type': 'upper', 'indicator': 'ppo16', 'barrier': -1}}}, 'order': {'single': {'upper': {'indicator': 'ppo8', 'barrier': 24}, 'lower': {'indicator': 'stochastic16', 'barrier': 13}, 'best': {'type': 'upper', 'indicator': 'ppo8', 'barrier': 24}}}}\n",
      "Key in forward opt json 13-01 - 12-month - mean - 90\n"
     ]
    },
    {
     "name": "stderr",
     "output_type": "stream",
     "text": [
      "\r",
      " 62%|██████▏   | 615/996 [4:04:36<2:27:33, 23.24s/it]"
     ]
    },
    {
     "name": "stdout",
     "output_type": "stream",
     "text": [
      "13-01 - 12-month - mean\n",
      "{'mean': {'single': {'upper': {'indicator': 'adx8', 'barrier': 33}, 'lower': {'indicator': 'stochastic8', 'barrier': 21}, 'best': {'type': 'upper', 'indicator': 'adx8', 'barrier': 33}}}, 'order': {'single': {'upper': {'indicator': 'adx8', 'barrier': 49}, 'lower': {'indicator': 'adx8', 'barrier': 23}, 'best': {'type': 'upper', 'indicator': 'adx8', 'barrier': 49}}}}\n",
      "Key in forward opt json 13-01 - 12-month - order - 1558\n"
     ]
    },
    {
     "name": "stderr",
     "output_type": "stream",
     "text": [
      "\r",
      " 62%|██████▏   | 616/996 [4:05:18<3:02:31, 28.82s/it]"
     ]
    },
    {
     "name": "stdout",
     "output_type": "stream",
     "text": [
      "13-01 - 12-month - order\n",
      "{'mean': {'single': {'upper': {'indicator': 'ppo16', 'barrier': -1}, 'lower': {'indicator': 'adx8', 'barrier': 70}, 'best': {'type': 'upper', 'indicator': 'ppo16', 'barrier': -1}}}, 'order': {'single': {'upper': {'indicator': 'stochastic32', 'barrier': 95}, 'lower': {'indicator': 'ppo8', 'barrier': -2}, 'best': {'type': 'upper', 'indicator': 'stochastic32', 'barrier': 95}}}}\n",
      "Key in forward opt json 13-02 - 6-month - mean - 28\n",
      "13-02 - 6-month - mean\n",
      "{'mean': {'single': {'upper': {'indicator': 'stochastic32', 'barrier': 9}, 'lower': {'indicator': 'stochastic16', 'barrier': 5}, 'best': {'type': 'upper', 'indicator': 'stochastic32', 'barrier': 9}}}, 'order': {'single': {'upper': {'indicator': 'adx8', 'barrier': 52}, 'lower': {'indicator': 'adx8', 'barrier': 24}, 'best': {'type': 'upper', 'indicator': 'adx8', 'barrier': 52}}}}\n"
     ]
    },
    {
     "name": "stderr",
     "output_type": "stream",
     "text": [
      "\r",
      " 62%|██████▏   | 617/996 [4:05:36<2:42:05, 25.66s/it]"
     ]
    },
    {
     "name": "stdout",
     "output_type": "stream",
     "text": [
      "Key in forward opt json 13-02 - 6-month - order - 804\n"
     ]
    },
    {
     "name": "stderr",
     "output_type": "stream",
     "text": [
      "\r",
      " 62%|██████▏   | 618/996 [4:06:02<2:42:30, 25.79s/it]"
     ]
    },
    {
     "name": "stdout",
     "output_type": "stream",
     "text": [
      "13-02 - 6-month - order\n",
      "{'mean': {'single': {'upper': {'indicator': 'ppo16', 'barrier': -1}, 'lower': {'indicator': 'ppo8', 'barrier': 32}, 'best': {'type': 'upper', 'indicator': 'ppo16', 'barrier': -1}}}, 'order': {'single': {'upper': {'indicator': 'stochastic32', 'barrier': 67}, 'lower': {'indicator': 'adx8', 'barrier': 14}, 'best': {'type': 'upper', 'indicator': 'stochastic32', 'barrier': 67}}}}\n",
      "Key in forward opt json 13-02 - 12-month - mean - 90\n"
     ]
    },
    {
     "name": "stderr",
     "output_type": "stream",
     "text": [
      "\r",
      " 62%|██████▏   | 619/996 [4:06:21<2:30:10, 23.90s/it]"
     ]
    },
    {
     "name": "stdout",
     "output_type": "stream",
     "text": [
      "13-02 - 12-month - mean\n",
      "{'mean': {'single': {'upper': {'indicator': 'adx16', 'barrier': 21}, 'lower': {'indicator': 'stochastic8', 'barrier': 21}, 'best': {'type': 'upper', 'indicator': 'adx16', 'barrier': 21}}}, 'order': {'single': {'upper': {'indicator': 'adx8', 'barrier': 55}, 'lower': {'indicator': 'adx8', 'barrier': 23}, 'best': {'type': 'upper', 'indicator': 'adx8', 'barrier': 55}}}}\n",
      "Key in forward opt json 13-02 - 12-month - order - 1558\n"
     ]
    },
    {
     "name": "stderr",
     "output_type": "stream",
     "text": [
      "\r",
      " 62%|██████▏   | 620/996 [4:07:03<3:02:07, 29.06s/it]"
     ]
    },
    {
     "name": "stdout",
     "output_type": "stream",
     "text": [
      "13-02 - 12-month - order\n",
      "{'mean': {'single': {'upper': {'indicator': 'ppo16', 'barrier': -1}, 'lower': {'indicator': 'ppo8', 'barrier': 36}, 'best': {'type': 'upper', 'indicator': 'ppo16', 'barrier': -1}}}, 'order': {'single': {'upper': {'indicator': 'stochastic16', 'barrier': 61}, 'lower': {'indicator': 'stochastic8', 'barrier': 64}, 'best': {'type': 'upper', 'indicator': 'stochastic16', 'barrier': 61}}}}\n",
      "Key in forward opt json 13-03 - 6-month - mean - 536\n"
     ]
    },
    {
     "name": "stderr",
     "output_type": "stream",
     "text": [
      "\r",
      " 62%|██████▏   | 621/996 [4:07:25<2:48:22, 26.94s/it]"
     ]
    },
    {
     "name": "stdout",
     "output_type": "stream",
     "text": [
      "13-03 - 6-month - mean\n",
      "{'mean': {'single': {'upper': {'indicator': 'ppo32', 'barrier': 1}, 'lower': {'indicator': 'adx16', 'barrier': 50}, 'best': {'type': 'upper', 'indicator': 'ppo32', 'barrier': 1}}}, 'order': {'single': {'upper': {'indicator': 'adx16', 'barrier': 48}, 'lower': {'indicator': 'stochastic8', 'barrier': 7}, 'best': {'type': 'upper', 'indicator': 'adx16', 'barrier': 48}}}}\n",
      "Key in forward opt json 13-03 - 6-month - order - 747\n"
     ]
    },
    {
     "name": "stderr",
     "output_type": "stream",
     "text": [
      "\r",
      " 62%|██████▏   | 622/996 [4:07:49<2:43:17, 26.20s/it]"
     ]
    },
    {
     "name": "stdout",
     "output_type": "stream",
     "text": [
      "13-03 - 6-month - order\n",
      "{'mean': {'single': {'upper': {'indicator': 'ppo16', 'barrier': 0}, 'lower': {'indicator': 'adx16', 'barrier': 50}, 'best': {'type': 'upper', 'indicator': 'ppo16', 'barrier': 0}}}, 'order': {'single': {'upper': {'indicator': 'adx8', 'barrier': 26}, 'lower': {'indicator': 'adx8', 'barrier': 16}, 'best': {'type': 'upper', 'indicator': 'adx8', 'barrier': 26}}}}\n",
      "Key in forward opt json 13-03 - 12-month - mean - 93\n"
     ]
    },
    {
     "name": "stderr",
     "output_type": "stream",
     "text": [
      "\r",
      " 63%|██████▎   | 623/996 [4:08:07<2:28:26, 23.88s/it]"
     ]
    },
    {
     "name": "stdout",
     "output_type": "stream",
     "text": [
      "13-03 - 12-month - mean\n",
      "{'mean': {'single': {'upper': {'indicator': 'adx16', 'barrier': 20}, 'lower': {'indicator': 'stochastic8', 'barrier': 21}, 'best': {'type': 'upper', 'indicator': 'adx16', 'barrier': 20}}}, 'order': {'single': {'upper': {'indicator': 'ppo8', 'barrier': 20}, 'lower': {'indicator': 'adx8', 'barrier': 24}, 'best': {'type': 'upper', 'indicator': 'ppo8', 'barrier': 20}}}}\n",
      "Key in forward opt json 13-03 - 12-month - order - 1534\n"
     ]
    },
    {
     "name": "stderr",
     "output_type": "stream",
     "text": [
      "\r",
      " 63%|██████▎   | 624/996 [4:08:48<2:58:36, 28.81s/it]"
     ]
    },
    {
     "name": "stdout",
     "output_type": "stream",
     "text": [
      "13-03 - 12-month - order\n",
      "{'mean': {'single': {'upper': {'indicator': 'ppo16', 'barrier': -1}, 'lower': {'indicator': 'ppo16', 'barrier': 33}, 'best': {'type': 'upper', 'indicator': 'ppo16', 'barrier': -1}}}, 'order': {'single': {'upper': {'indicator': 'stochastic16', 'barrier': 59}, 'lower': {'indicator': 'stochastic32', 'barrier': 73}, 'best': {'type': 'upper', 'indicator': 'stochastic16', 'barrier': 59}}}}\n",
      "Key in forward opt json 13-04 - 6-month - mean - 518\n"
     ]
    },
    {
     "name": "stderr",
     "output_type": "stream",
     "text": [
      "\r",
      " 63%|██████▎   | 625/996 [4:09:10<2:45:41, 26.80s/it]"
     ]
    },
    {
     "name": "stdout",
     "output_type": "stream",
     "text": [
      "13-04 - 6-month - mean\n",
      "{'mean': {'single': {'upper': {'indicator': 'ppo32', 'barrier': 3}, 'lower': {'indicator': 'adx16', 'barrier': 50}, 'best': {'type': 'upper', 'indicator': 'ppo32', 'barrier': 3}}}, 'order': {'single': {'upper': {'indicator': 'ppo8', 'barrier': 10}, 'lower': {'indicator': 'adx8', 'barrier': 30}, 'best': {'type': 'upper', 'indicator': 'ppo8', 'barrier': 10}}}}\n",
      "Key in forward opt json 13-04 - 6-month - order - 747\n"
     ]
    },
    {
     "name": "stderr",
     "output_type": "stream",
     "text": [
      "\r",
      " 63%|██████▎   | 626/996 [4:09:36<2:43:12, 26.47s/it]"
     ]
    },
    {
     "name": "stdout",
     "output_type": "stream",
     "text": [
      "13-04 - 6-month - order\n",
      "{'mean': {'single': {'upper': {'indicator': 'ppo16', 'barrier': 0}, 'lower': {'indicator': 'stochastic16', 'barrier': 63}, 'best': {'type': 'upper', 'indicator': 'ppo16', 'barrier': 0}}}, 'order': {'single': {'upper': {'indicator': 'ppo32', 'barrier': 17}, 'lower': {'indicator': 'stochastic8', 'barrier': 28}, 'best': {'type': 'upper', 'indicator': 'ppo32', 'barrier': 17}}}}\n",
      "Key in forward opt json 13-04 - 12-month - mean - 96\n"
     ]
    },
    {
     "name": "stderr",
     "output_type": "stream",
     "text": [
      "\r",
      " 63%|██████▎   | 627/996 [4:09:55<2:30:17, 24.44s/it]"
     ]
    },
    {
     "name": "stdout",
     "output_type": "stream",
     "text": [
      "13-04 - 12-month - mean\n",
      "{'mean': {'single': {'upper': {'indicator': 'adx16', 'barrier': 20}, 'lower': {'indicator': 'stochastic8', 'barrier': 21}, 'best': {'type': 'upper', 'indicator': 'adx16', 'barrier': 20}}}, 'order': {'single': {'upper': {'indicator': 'stochastic16', 'barrier': 43}, 'lower': {'indicator': 'adx8', 'barrier': 24}, 'best': {'type': 'upper', 'indicator': 'stochastic16', 'barrier': 43}}}}\n",
      "Key in forward opt json 13-04 - 12-month - order - 1538\n"
     ]
    },
    {
     "name": "stderr",
     "output_type": "stream",
     "text": [
      "\r",
      " 63%|██████▎   | 628/996 [4:10:36<2:59:53, 29.33s/it]"
     ]
    },
    {
     "name": "stdout",
     "output_type": "stream",
     "text": [
      "13-04 - 12-month - order\n",
      "{'mean': {'single': {'upper': {'indicator': 'ppo16', 'barrier': -1}, 'lower': {'indicator': 'ppo8', 'barrier': 38}, 'best': {'type': 'upper', 'indicator': 'ppo16', 'barrier': -1}}}, 'order': {'single': {'upper': {'indicator': 'adx8', 'barrier': 60}, 'lower': {'indicator': 'stochastic8', 'barrier': 66}, 'best': {'type': 'upper', 'indicator': 'adx8', 'barrier': 60}}}}\n",
      "Key in forward opt json 13-05 - 6-month - mean - 30\n"
     ]
    },
    {
     "name": "stderr",
     "output_type": "stream",
     "text": [
      "\r",
      " 63%|██████▎   | 629/996 [4:10:55<2:40:15, 26.20s/it]"
     ]
    },
    {
     "name": "stdout",
     "output_type": "stream",
     "text": [
      "13-05 - 6-month - mean\n",
      "{'mean': {'single': {'upper': {'indicator': 'adx8', 'barrier': 36}, 'lower': {'indicator': 'stochastic8', 'barrier': 14}, 'best': {'type': 'upper', 'indicator': 'adx8', 'barrier': 36}}}, 'order': {'single': {'upper': {'indicator': 'adx16', 'barrier': 32}, 'lower': {'indicator': 'adx8', 'barrier': 24}, 'best': {'type': 'upper', 'indicator': 'adx16', 'barrier': 32}}}}\n",
      "Key in forward opt json 13-05 - 6-month - order - 788\n"
     ]
    },
    {
     "name": "stderr",
     "output_type": "stream",
     "text": [
      "\r",
      " 63%|██████▎   | 630/996 [4:11:20<2:37:05, 25.75s/it]"
     ]
    },
    {
     "name": "stdout",
     "output_type": "stream",
     "text": [
      "13-05 - 6-month - order\n",
      "{'mean': {'single': {'upper': {'indicator': 'ppo16', 'barrier': 1}, 'lower': {'indicator': 'ppo32', 'barrier': 25}, 'best': {'type': 'upper', 'indicator': 'ppo16', 'barrier': 1}}}, 'order': {'single': {'upper': {'indicator': 'stochastic16', 'barrier': 71}, 'lower': {'indicator': 'stochastic32', 'barrier': 25}, 'best': {'type': 'upper', 'indicator': 'stochastic16', 'barrier': 71}}}}\n",
      "Key in forward opt json 13-05 - 12-month - mean - 92\n"
     ]
    },
    {
     "name": "stderr",
     "output_type": "stream",
     "text": [
      "\r",
      " 63%|██████▎   | 631/996 [4:11:40<2:26:00, 24.00s/it]"
     ]
    },
    {
     "name": "stdout",
     "output_type": "stream",
     "text": [
      "13-05 - 12-month - mean\n",
      "{'mean': {'single': {'upper': {'indicator': 'adx32', 'barrier': 12}, 'lower': {'indicator': 'stochastic8', 'barrier': 25}, 'best': {'type': 'upper', 'indicator': 'adx32', 'barrier': 12}}}, 'order': {'single': {'upper': {'indicator': 'stochastic32', 'barrier': 42}, 'lower': {'indicator': 'adx8', 'barrier': 24}, 'best': {'type': 'upper', 'indicator': 'stochastic32', 'barrier': 42}}}}\n",
      "Key in forward opt json 13-05 - 12-month - order - 1587\n"
     ]
    },
    {
     "name": "stderr",
     "output_type": "stream",
     "text": [
      "\r",
      " 63%|██████▎   | 632/996 [4:12:22<2:59:02, 29.51s/it]"
     ]
    },
    {
     "name": "stdout",
     "output_type": "stream",
     "text": [
      "13-05 - 12-month - order\n",
      "{'mean': {'single': {'upper': {'indicator': 'ppo8', 'barrier': -1}, 'lower': {'indicator': 'ppo8', 'barrier': 35}, 'best': {'type': 'upper', 'indicator': 'ppo8', 'barrier': -1}}}, 'order': {'single': {'upper': {'indicator': 'stochastic16', 'barrier': 37}, 'lower': {'indicator': 'stochastic8', 'barrier': 24}, 'best': {'type': 'upper', 'indicator': 'stochastic16', 'barrier': 37}}}}\n",
      "Key in forward opt json 13-06 - 6-month - mean - 60\n"
     ]
    },
    {
     "name": "stderr",
     "output_type": "stream",
     "text": [
      "\r",
      " 64%|██████▎   | 633/996 [4:12:42<2:41:48, 26.74s/it]"
     ]
    },
    {
     "name": "stdout",
     "output_type": "stream",
     "text": [
      "13-06 - 6-month - mean\n",
      "{'mean': {'single': {'upper': {'indicator': 'adx32', 'barrier': 13}, 'lower': {'indicator': 'ppo8', 'barrier': 16}, 'best': {'type': 'upper', 'indicator': 'adx32', 'barrier': 13}}}, 'order': {'single': {'upper': {'indicator': 'stochastic8', 'barrier': 63}, 'lower': {'indicator': 'adx8', 'barrier': 21}, 'best': {'type': 'upper', 'indicator': 'stochastic8', 'barrier': 63}}}}\n",
      "Key in forward opt json 13-06 - 6-month - order - 858\n"
     ]
    },
    {
     "name": "stderr",
     "output_type": "stream",
     "text": [
      "\r",
      " 64%|██████▎   | 634/996 [4:13:09<2:42:21, 26.91s/it]"
     ]
    },
    {
     "name": "stdout",
     "output_type": "stream",
     "text": [
      "13-06 - 6-month - order\n",
      "{'mean': {'single': {'upper': {'indicator': 'ppo16', 'barrier': 0}, 'lower': {'indicator': 'stochastic16', 'barrier': 17}, 'best': {'type': 'upper', 'indicator': 'ppo16', 'barrier': 0}}}, 'order': {'single': {'upper': {'indicator': 'ppo8', 'barrier': 33}, 'lower': {'indicator': 'stochastic16', 'barrier': 33}, 'best': {'type': 'upper', 'indicator': 'ppo8', 'barrier': 33}}}}\n",
      "Key in forward opt json 13-06 - 12-month - mean - 65\n"
     ]
    },
    {
     "name": "stderr",
     "output_type": "stream",
     "text": [
      "\r",
      " 64%|██████▍   | 635/996 [4:13:29<2:28:10, 24.63s/it]"
     ]
    },
    {
     "name": "stdout",
     "output_type": "stream",
     "text": [
      "13-06 - 12-month - mean\n",
      "{'mean': {'single': {'upper': {'indicator': 'adx32', 'barrier': 14}, 'lower': {'indicator': 'stochastic8', 'barrier': 19}, 'best': {'type': 'upper', 'indicator': 'adx32', 'barrier': 14}}}, 'order': {'single': {'upper': {'indicator': 'adx8', 'barrier': 55}, 'lower': {'indicator': 'adx8', 'barrier': 23}, 'best': {'type': 'upper', 'indicator': 'adx8', 'barrier': 55}}}}\n",
      "Key in forward opt json 13-06 - 12-month - order - 1628\n"
     ]
    },
    {
     "name": "stderr",
     "output_type": "stream",
     "text": [
      "\r",
      " 64%|██████▍   | 636/996 [4:14:14<3:04:02, 30.67s/it]"
     ]
    },
    {
     "name": "stdout",
     "output_type": "stream",
     "text": [
      "13-06 - 12-month - order\n",
      "{'mean': {'single': {'upper': {'indicator': 'ppo16', 'barrier': -1}, 'lower': {'indicator': 'ppo8', 'barrier': 38}, 'best': {'type': 'upper', 'indicator': 'ppo16', 'barrier': -1}}}, 'order': {'single': {'upper': {'indicator': 'ppo16', 'barrier': 19}, 'lower': {'indicator': 'stochastic8', 'barrier': 24}, 'best': {'type': 'upper', 'indicator': 'ppo16', 'barrier': 19}}}}\n",
      "Key in forward opt json 13-07 - 6-month - mean - 76\n"
     ]
    },
    {
     "name": "stderr",
     "output_type": "stream",
     "text": [
      "\r",
      " 64%|██████▍   | 637/996 [4:14:33<2:42:41, 27.19s/it]"
     ]
    },
    {
     "name": "stdout",
     "output_type": "stream",
     "text": [
      "13-07 - 6-month - mean\n",
      "{'mean': {'single': {'upper': {'indicator': 'adx32', 'barrier': 15}, 'lower': {'indicator': 'ppo8', 'barrier': 15}, 'best': {'type': 'upper', 'indicator': 'adx32', 'barrier': 15}}}, 'order': {'single': {'upper': {'indicator': 'adx32', 'barrier': 37}, 'lower': {'indicator': 'adx8', 'barrier': 20}, 'best': {'type': 'upper', 'indicator': 'adx32', 'barrier': 37}}}}\n",
      "Key in forward opt json 13-07 - 6-month - order - 837\n"
     ]
    },
    {
     "name": "stderr",
     "output_type": "stream",
     "text": [
      "\r",
      " 64%|██████▍   | 638/996 [4:14:57<2:37:40, 26.43s/it]"
     ]
    },
    {
     "name": "stdout",
     "output_type": "stream",
     "text": [
      "13-07 - 6-month - order\n",
      "{'mean': {'single': {'upper': {'indicator': 'stochastic32', 'barrier': 11}, 'lower': {'indicator': 'ppo16', 'barrier': 0}, 'best': {'type': 'upper', 'indicator': 'stochastic32', 'barrier': 11}}}, 'order': {'single': {'upper': {'indicator': 'adx32', 'barrier': 20}, 'lower': {'indicator': 'stochastic32', 'barrier': 63}, 'best': {'type': 'upper', 'indicator': 'adx32', 'barrier': 20}}}}\n",
      "Key in forward opt json 13-07 - 12-month - mean - 64\n"
     ]
    },
    {
     "name": "stderr",
     "output_type": "stream",
     "text": [
      "\r",
      " 64%|██████▍   | 639/996 [4:15:16<2:24:20, 24.26s/it]"
     ]
    },
    {
     "name": "stdout",
     "output_type": "stream",
     "text": [
      "13-07 - 12-month - mean\n",
      "{'mean': {'single': {'upper': {'indicator': 'adx16', 'barrier': 22}, 'lower': {'indicator': 'stochastic8', 'barrier': 17}, 'best': {'type': 'upper', 'indicator': 'adx16', 'barrier': 22}}}, 'order': {'single': {'upper': {'indicator': 'adx8', 'barrier': 55}, 'lower': {'indicator': 'adx8', 'barrier': 23}, 'best': {'type': 'upper', 'indicator': 'adx8', 'barrier': 55}}}}\n",
      "Key in forward opt json 13-07 - 12-month - order - 1647\n"
     ]
    },
    {
     "name": "stderr",
     "output_type": "stream",
     "text": [
      "\r",
      " 64%|██████▍   | 640/996 [4:16:00<2:59:07, 30.19s/it]"
     ]
    },
    {
     "name": "stdout",
     "output_type": "stream",
     "text": [
      "13-07 - 12-month - order\n",
      "{'mean': {'single': {'upper': {'indicator': 'stochastic32', 'barrier': 31}, 'lower': {'indicator': 'ppo8', 'barrier': 38}, 'best': {'type': 'upper', 'indicator': 'stochastic32', 'barrier': 31}}}, 'order': {'single': {'upper': {'indicator': 'ppo32', 'barrier': 19}, 'lower': {'indicator': 'adx8', 'barrier': 44}, 'best': {'type': 'upper', 'indicator': 'ppo32', 'barrier': 19}}}}\n",
      "Key in forward opt json 13-08 - 6-month - mean - 78\n"
     ]
    },
    {
     "name": "stderr",
     "output_type": "stream",
     "text": [
      "\r",
      " 64%|██████▍   | 641/996 [4:16:19<2:38:24, 26.77s/it]"
     ]
    },
    {
     "name": "stdout",
     "output_type": "stream",
     "text": [
      "13-08 - 6-month - mean\n",
      "{'mean': {'single': {'upper': {'indicator': 'adx32', 'barrier': 13}, 'lower': {'indicator': 'ppo32', 'barrier': 17}, 'best': {'type': 'upper', 'indicator': 'adx32', 'barrier': 13}}}, 'order': {'single': {'upper': {'indicator': 'adx32', 'barrier': 37}, 'lower': {'indicator': 'adx8', 'barrier': 20}, 'best': {'type': 'upper', 'indicator': 'adx32', 'barrier': 37}}}}\n",
      "Key in forward opt json 13-08 - 6-month - order - 874\n"
     ]
    },
    {
     "name": "stderr",
     "output_type": "stream",
     "text": [
      "\r",
      " 64%|██████▍   | 642/996 [4:16:46<2:37:09, 26.64s/it]"
     ]
    },
    {
     "name": "stdout",
     "output_type": "stream",
     "text": [
      "13-08 - 6-month - order\n",
      "{'mean': {'single': {'upper': {'indicator': 'stochastic32', 'barrier': 11}, 'lower': {'indicator': 'ppo32', 'barrier': 7}, 'best': {'type': 'upper', 'indicator': 'stochastic32', 'barrier': 11}}}, 'order': {'single': {'upper': {'indicator': 'stochastic16', 'barrier': 93}, 'lower': {'indicator': 'adx8', 'barrier': 20}, 'best': {'type': 'upper', 'indicator': 'stochastic16', 'barrier': 93}}}}\n",
      "Key in forward opt json 13-08 - 12-month - mean - 65\n"
     ]
    },
    {
     "name": "stderr",
     "output_type": "stream",
     "text": [
      "\r",
      " 65%|██████▍   | 643/996 [4:17:05<2:23:19, 24.36s/it]"
     ]
    },
    {
     "name": "stdout",
     "output_type": "stream",
     "text": [
      "13-08 - 12-month - mean\n",
      "{'mean': {'single': {'upper': {'indicator': 'adx16', 'barrier': 22}, 'lower': {'indicator': 'stochastic8', 'barrier': 17}, 'best': {'type': 'upper', 'indicator': 'adx16', 'barrier': 22}}}, 'order': {'single': {'upper': {'indicator': 'adx8', 'barrier': 55}, 'lower': {'indicator': 'adx8', 'barrier': 23}, 'best': {'type': 'upper', 'indicator': 'adx8', 'barrier': 55}}}}\n",
      "Key in forward opt json 13-08 - 12-month - order - 1679\n"
     ]
    },
    {
     "name": "stderr",
     "output_type": "stream",
     "text": [
      "\r",
      " 65%|██████▍   | 644/996 [4:17:50<3:00:01, 30.69s/it]"
     ]
    },
    {
     "name": "stdout",
     "output_type": "stream",
     "text": [
      "13-08 - 12-month - order\n",
      "{'mean': {'single': {'upper': {'indicator': 'stochastic32', 'barrier': 27}, 'lower': {'indicator': 'ppo8', 'barrier': 38}, 'best': {'type': 'upper', 'indicator': 'stochastic32', 'barrier': 27}}}, 'order': {'single': {'upper': {'indicator': 'stochastic16', 'barrier': 71}, 'lower': {'indicator': 'stochastic8', 'barrier': 22}, 'best': {'type': 'upper', 'indicator': 'stochastic16', 'barrier': 71}}}}\n",
      "Key in forward opt json 13-09 - 6-month - mean - 105\n"
     ]
    },
    {
     "name": "stderr",
     "output_type": "stream",
     "text": [
      "\r",
      " 65%|██████▍   | 645/996 [4:18:09<2:39:39, 27.29s/it]"
     ]
    },
    {
     "name": "stdout",
     "output_type": "stream",
     "text": [
      "13-09 - 6-month - mean\n",
      "{'mean': {'single': {'upper': {'indicator': 'adx32', 'barrier': 12}, 'lower': {'indicator': 'ppo32', 'barrier': 11}, 'best': {'type': 'upper', 'indicator': 'adx32', 'barrier': 12}}}, 'order': {'single': {'upper': {'indicator': 'stochastic16', 'barrier': 43}, 'lower': {'indicator': 'ppo32', 'barrier': 3}, 'best': {'type': 'upper', 'indicator': 'stochastic16', 'barrier': 43}}}}\n",
      "Key in forward opt json 13-09 - 6-month - order - 937\n"
     ]
    },
    {
     "name": "stderr",
     "output_type": "stream",
     "text": [
      "\r",
      " 65%|██████▍   | 646/996 [4:18:37<2:39:24, 27.33s/it]"
     ]
    },
    {
     "name": "stdout",
     "output_type": "stream",
     "text": [
      "13-09 - 6-month - order\n",
      "{'mean': {'single': {'upper': {'indicator': 'stochastic32', 'barrier': 6}, 'lower': {'indicator': 'ppo32', 'barrier': 23}, 'best': {'type': 'upper', 'indicator': 'stochastic32', 'barrier': 6}}}, 'order': {'single': {'upper': {'indicator': 'adx8', 'barrier': 54}, 'lower': {'indicator': 'stochastic32', 'barrier': 20}, 'best': {'type': 'upper', 'indicator': 'adx8', 'barrier': 54}}}}\n",
      "Key in forward opt json 13-09 - 12-month - mean - 88\n"
     ]
    },
    {
     "name": "stderr",
     "output_type": "stream",
     "text": [
      "\r",
      " 65%|██████▍   | 647/996 [4:18:55<2:23:34, 24.68s/it]"
     ]
    },
    {
     "name": "stdout",
     "output_type": "stream",
     "text": [
      "13-09 - 12-month - mean\n",
      "{'mean': {'single': {'upper': {'indicator': 'adx32', 'barrier': 12}, 'lower': {'indicator': 'ppo32', 'barrier': 12}, 'best': {'type': 'upper', 'indicator': 'adx32', 'barrier': 12}}}, 'order': {'single': {'upper': {'indicator': 'stochastic8', 'barrier': 41}, 'lower': {'indicator': 'adx8', 'barrier': 18}, 'best': {'type': 'upper', 'indicator': 'stochastic8', 'barrier': 41}}}}\n",
      "Key in forward opt json 13-09 - 12-month - order - 1684\n"
     ]
    },
    {
     "name": "stderr",
     "output_type": "stream",
     "text": [
      "\r",
      " 65%|██████▌   | 648/996 [4:19:42<3:02:01, 31.38s/it]"
     ]
    },
    {
     "name": "stdout",
     "output_type": "stream",
     "text": [
      "13-09 - 12-month - order\n",
      "{'mean': {'single': {'upper': {'indicator': 'stochastic32', 'barrier': 27}, 'lower': {'indicator': 'ppo16', 'barrier': 38}, 'best': {'type': 'upper', 'indicator': 'stochastic32', 'barrier': 27}}}, 'order': {'single': {'upper': {'indicator': 'stochastic32', 'barrier': 97}, 'lower': {'indicator': 'stochastic16', 'barrier': 67}, 'best': {'type': 'upper', 'indicator': 'stochastic32', 'barrier': 97}}}}\n",
      "Key in forward opt json 13-10 - 6-month - mean - 106\n"
     ]
    },
    {
     "name": "stderr",
     "output_type": "stream",
     "text": [
      "\r",
      " 65%|██████▌   | 649/996 [4:20:02<2:41:31, 27.93s/it]"
     ]
    },
    {
     "name": "stdout",
     "output_type": "stream",
     "text": [
      "13-10 - 6-month - mean\n",
      "{'mean': {'single': {'upper': {'indicator': 'adx32', 'barrier': 12}, 'lower': {'indicator': 'ppo16', 'barrier': 12}, 'best': {'type': 'upper', 'indicator': 'adx32', 'barrier': 12}}}, 'order': {'single': {'upper': {'indicator': 'adx32', 'barrier': 34}, 'lower': {'indicator': 'adx8', 'barrier': 20}, 'best': {'type': 'upper', 'indicator': 'adx32', 'barrier': 34}}}}\n",
      "Key in forward opt json 13-10 - 6-month - order - 955\n"
     ]
    },
    {
     "name": "stderr",
     "output_type": "stream",
     "text": [
      "\r",
      " 65%|██████▌   | 650/996 [4:20:30<2:40:37, 27.85s/it]"
     ]
    },
    {
     "name": "stdout",
     "output_type": "stream",
     "text": [
      "13-10 - 6-month - order\n",
      "{'mean': {'single': {'upper': {'indicator': 'stochastic32', 'barrier': 6}, 'lower': {'indicator': 'ppo32', 'barrier': 29}, 'best': {'type': 'upper', 'indicator': 'stochastic32', 'barrier': 6}}}, 'order': {'single': {'upper': {'indicator': 'adx8', 'barrier': 64}, 'lower': {'indicator': 'stochastic16', 'barrier': 46}, 'best': {'type': 'upper', 'indicator': 'adx8', 'barrier': 64}}}}\n",
      "Key in forward opt json 13-10 - 12-month - mean - 88\n"
     ]
    },
    {
     "name": "stderr",
     "output_type": "stream",
     "text": [
      "\r",
      " 65%|██████▌   | 651/996 [4:20:50<2:25:59, 25.39s/it]"
     ]
    },
    {
     "name": "stdout",
     "output_type": "stream",
     "text": [
      "13-10 - 12-month - mean\n",
      "{'mean': {'single': {'upper': {'indicator': 'adx32', 'barrier': 12}, 'lower': {'indicator': 'ppo32', 'barrier': 12}, 'best': {'type': 'upper', 'indicator': 'adx32', 'barrier': 12}}}, 'order': {'single': {'upper': {'indicator': 'adx16', 'barrier': 32}, 'lower': {'indicator': 'adx8', 'barrier': 18}, 'best': {'type': 'upper', 'indicator': 'adx16', 'barrier': 32}}}}\n",
      "Key in forward opt json 13-10 - 12-month - order - 1698\n"
     ]
    },
    {
     "name": "stderr",
     "output_type": "stream",
     "text": [
      "\r",
      " 65%|██████▌   | 652/996 [4:21:35<3:00:06, 31.41s/it]"
     ]
    },
    {
     "name": "stdout",
     "output_type": "stream",
     "text": [
      "13-10 - 12-month - order\n",
      "{'mean': {'single': {'upper': {'indicator': 'ppo16', 'barrier': 0}, 'lower': {'indicator': 'ppo16', 'barrier': 38}, 'best': {'type': 'upper', 'indicator': 'ppo16', 'barrier': 0}}}, 'order': {'single': {'upper': {'indicator': 'stochastic32', 'barrier': 93}, 'lower': {'indicator': 'stochastic8', 'barrier': 50}, 'best': {'type': 'upper', 'indicator': 'stochastic32', 'barrier': 93}}}}\n",
      "Key in forward opt json 13-11 - 6-month - mean - 200\n"
     ]
    },
    {
     "name": "stderr",
     "output_type": "stream",
     "text": [
      "\r",
      " 66%|██████▌   | 653/996 [4:21:56<2:40:48, 28.13s/it]"
     ]
    },
    {
     "name": "stdout",
     "output_type": "stream",
     "text": [
      "13-11 - 6-month - mean\n",
      "{'mean': {'single': {'upper': {'indicator': 'ppo16', 'barrier': 4}, 'lower': {'indicator': 'ppo16', 'barrier': 16}, 'best': {'type': 'upper', 'indicator': 'ppo16', 'barrier': 4}}}, 'order': {'single': {'upper': {'indicator': 'stochastic16', 'barrier': 17}, 'lower': {'indicator': 'ppo16', 'barrier': 6}, 'best': {'type': 'upper', 'indicator': 'stochastic16', 'barrier': 17}}}}\n",
      "Key in forward opt json 13-11 - 6-month - order - 953\n"
     ]
    },
    {
     "name": "stderr",
     "output_type": "stream",
     "text": [
      "\r",
      " 66%|██████▌   | 654/996 [4:22:23<2:39:28, 27.98s/it]"
     ]
    },
    {
     "name": "stdout",
     "output_type": "stream",
     "text": [
      "13-11 - 6-month - order\n",
      "{'mean': {'single': {'upper': {'indicator': 'stochastic32', 'barrier': 6}, 'lower': {'indicator': 'ppo32', 'barrier': 29}, 'best': {'type': 'upper', 'indicator': 'stochastic32', 'barrier': 6}}}, 'order': {'single': {'upper': {'indicator': 'stochastic8', 'barrier': 80}, 'lower': {'indicator': 'adx8', 'barrier': 22}, 'best': {'type': 'upper', 'indicator': 'stochastic8', 'barrier': 80}}}}\n",
      "Key in forward opt json 13-11 - 12-month - mean - 306\n"
     ]
    },
    {
     "name": "stderr",
     "output_type": "stream",
     "text": [
      "\r",
      " 66%|██████▌   | 655/996 [4:22:45<2:27:58, 26.04s/it]"
     ]
    },
    {
     "name": "stdout",
     "output_type": "stream",
     "text": [
      "13-11 - 12-month - mean\n",
      "{'mean': {'single': {'upper': {'indicator': 'ppo16', 'barrier': 3}, 'lower': {'indicator': 'ppo32', 'barrier': 18}, 'best': {'type': 'upper', 'indicator': 'ppo16', 'barrier': 3}}}, 'order': {'single': {'upper': {'indicator': 'adx8', 'barrier': 42}, 'lower': {'indicator': 'adx32', 'barrier': 11}, 'best': {'type': 'upper', 'indicator': 'adx8', 'barrier': 42}}}}\n",
      "Key in forward opt json 13-11 - 12-month - order - 1720\n"
     ]
    },
    {
     "name": "stderr",
     "output_type": "stream",
     "text": [
      "\r",
      " 66%|██████▌   | 656/996 [4:23:32<3:03:01, 32.30s/it]"
     ]
    },
    {
     "name": "stdout",
     "output_type": "stream",
     "text": [
      "13-11 - 12-month - order\n",
      "{'mean': {'single': {'upper': {'indicator': 'ppo32', 'barrier': -1}, 'lower': {'indicator': 'adx8', 'barrier': 16}, 'best': {'type': 'upper', 'indicator': 'ppo32', 'barrier': -1}}}, 'order': {'single': {'upper': {'indicator': 'stochastic16', 'barrier': 47}, 'lower': {'indicator': 'stochastic32', 'barrier': 17}, 'best': {'type': 'upper', 'indicator': 'stochastic16', 'barrier': 47}}}}\n",
      "Key in forward opt json 13-12 - 6-month - mean - 169\n"
     ]
    },
    {
     "name": "stderr",
     "output_type": "stream",
     "text": [
      "\r",
      " 66%|██████▌   | 657/996 [4:23:51<2:41:23, 28.57s/it]"
     ]
    },
    {
     "name": "stdout",
     "output_type": "stream",
     "text": [
      "13-12 - 6-month - mean\n",
      "{'mean': {'single': {'upper': {'indicator': 'adx8', 'barrier': 22}, 'lower': {'indicator': 'ppo16', 'barrier': 16}, 'best': {'type': 'upper', 'indicator': 'adx8', 'barrier': 22}}}, 'order': {'single': {'upper': {'indicator': 'ppo8', 'barrier': 16}, 'lower': {'indicator': 'adx8', 'barrier': 22}, 'best': {'type': 'upper', 'indicator': 'ppo8', 'barrier': 16}}}}\n",
      "Key in forward opt json 13-12 - 6-month - order - 861\n"
     ]
    },
    {
     "name": "stderr",
     "output_type": "stream",
     "text": [
      "\r",
      " 66%|██████▌   | 658/996 [4:24:18<2:37:25, 27.95s/it]"
     ]
    },
    {
     "name": "stdout",
     "output_type": "stream",
     "text": [
      "13-12 - 6-month - order\n",
      "{'mean': {'single': {'upper': {'indicator': 'stochastic32', 'barrier': 6}, 'lower': {'indicator': 'ppo32', 'barrier': 27}, 'best': {'type': 'upper', 'indicator': 'stochastic32', 'barrier': 6}}}, 'order': {'single': {'upper': {'indicator': 'adx8', 'barrier': 30}, 'lower': {'indicator': 'stochastic8', 'barrier': 26}, 'best': {'type': 'upper', 'indicator': 'adx8', 'barrier': 30}}}}\n",
      "Key in forward opt json 13-12 - 12-month - mean - 277\n"
     ]
    },
    {
     "name": "stderr",
     "output_type": "stream",
     "text": [
      "\r",
      " 66%|██████▌   | 659/996 [4:24:38<2:24:11, 25.67s/it]"
     ]
    },
    {
     "name": "stdout",
     "output_type": "stream",
     "text": [
      "13-12 - 12-month - mean\n",
      "{'mean': {'single': {'upper': {'indicator': 'ppo16', 'barrier': 3}, 'lower': {'indicator': 'ppo32', 'barrier': 18}, 'best': {'type': 'upper', 'indicator': 'ppo16', 'barrier': 3}}}, 'order': {'single': {'upper': {'indicator': 'ppo16', 'barrier': 19}, 'lower': {'indicator': 'stochastic8', 'barrier': 12}, 'best': {'type': 'upper', 'indicator': 'ppo16', 'barrier': 19}}}}\n",
      "Key in forward opt json 13-12 - 12-month - order - 1719\n"
     ]
    },
    {
     "name": "stderr",
     "output_type": "stream",
     "text": [
      "\r",
      " 66%|██████▋   | 660/996 [4:25:24<2:57:42, 31.73s/it]"
     ]
    },
    {
     "name": "stdout",
     "output_type": "stream",
     "text": [
      "13-12 - 12-month - order\n",
      "{'mean': {'single': {'upper': {'indicator': 'ppo8', 'barrier': 0}, 'lower': {'indicator': 'ppo32', 'barrier': 33}, 'best': {'type': 'upper', 'indicator': 'ppo8', 'barrier': 0}}}, 'order': {'single': {'upper': {'indicator': 'adx8', 'barrier': 24}, 'lower': {'indicator': 'stochastic32', 'barrier': 76}, 'best': {'type': 'upper', 'indicator': 'adx8', 'barrier': 24}}}}\n",
      "Key in forward opt json 14-01 - 6-month - mean - 122\n"
     ]
    },
    {
     "name": "stderr",
     "output_type": "stream",
     "text": [
      "\r",
      " 66%|██████▋   | 661/996 [4:25:44<2:36:58, 28.11s/it]"
     ]
    },
    {
     "name": "stdout",
     "output_type": "stream",
     "text": [
      "14-01 - 6-month - mean\n",
      "{'mean': {'single': {'upper': {'indicator': 'adx8', 'barrier': 24}, 'lower': {'indicator': 'adx8', 'barrier': 38}, 'best': {'type': 'upper', 'indicator': 'adx8', 'barrier': 24}}}, 'order': {'single': {'upper': {'indicator': 'stochastic8', 'barrier': 17}, 'lower': {'indicator': 'adx8', 'barrier': 28}, 'best': {'type': 'upper', 'indicator': 'stochastic8', 'barrier': 17}}}}\n",
      "Key in forward opt json 14-01 - 6-month - order - 879\n"
     ]
    },
    {
     "name": "stderr",
     "output_type": "stream",
     "text": [
      "\r",
      " 66%|██████▋   | 662/996 [4:26:10<2:34:01, 27.67s/it]"
     ]
    },
    {
     "name": "stdout",
     "output_type": "stream",
     "text": [
      "14-01 - 6-month - order\n",
      "{'mean': {'single': {'upper': {'indicator': 'stochastic8', 'barrier': 8}, 'lower': {'indicator': 'ppo32', 'barrier': 29}, 'best': {'type': 'upper', 'indicator': 'stochastic8', 'barrier': 8}}}, 'order': {'single': {'upper': {'indicator': 'stochastic16', 'barrier': 54}, 'lower': {'indicator': 'stochastic32', 'barrier': 56}, 'best': {'type': 'upper', 'indicator': 'stochastic16', 'barrier': 54}}}}\n",
      "Key in forward opt json 14-01 - 12-month - mean - 286\n"
     ]
    },
    {
     "name": "stderr",
     "output_type": "stream",
     "text": [
      "\r",
      " 67%|██████▋   | 663/996 [4:26:31<2:21:15, 25.45s/it]"
     ]
    },
    {
     "name": "stdout",
     "output_type": "stream",
     "text": [
      "14-01 - 12-month - mean\n",
      "{'mean': {'single': {'upper': {'indicator': 'ppo16', 'barrier': 3}, 'lower': {'indicator': 'ppo32', 'barrier': 18}, 'best': {'type': 'upper', 'indicator': 'ppo16', 'barrier': 3}}}, 'order': {'single': {'upper': {'indicator': 'adx8', 'barrier': 38}, 'lower': {'indicator': 'adx32', 'barrier': 9}, 'best': {'type': 'upper', 'indicator': 'adx8', 'barrier': 38}}}}\n",
      "Key in forward opt json 14-01 - 12-month - order - 1709\n"
     ]
    },
    {
     "name": "stderr",
     "output_type": "stream",
     "text": [
      "\r",
      " 67%|██████▋   | 664/996 [4:27:19<2:58:51, 32.32s/it]"
     ]
    },
    {
     "name": "stdout",
     "output_type": "stream",
     "text": [
      "14-01 - 12-month - order\n",
      "{'mean': {'single': {'upper': {'indicator': 'ppo8', 'barrier': 0}, 'lower': {'indicator': 'ppo16', 'barrier': 38}, 'best': {'type': 'upper', 'indicator': 'ppo8', 'barrier': 0}}}, 'order': {'single': {'upper': {'indicator': 'adx32', 'barrier': 45}, 'lower': {'indicator': 'adx8', 'barrier': 8}, 'best': {'type': 'upper', 'indicator': 'adx32', 'barrier': 45}}}}\n",
      "Key in forward opt json 14-02 - 6-month - mean - 228\n"
     ]
    },
    {
     "name": "stderr",
     "output_type": "stream",
     "text": [
      "\r",
      " 67%|██████▋   | 665/996 [4:27:39<2:37:30, 28.55s/it]"
     ]
    },
    {
     "name": "stdout",
     "output_type": "stream",
     "text": [
      "14-02 - 6-month - mean\n",
      "{'mean': {'single': {'upper': {'indicator': 'ppo8', 'barrier': 3}, 'lower': {'indicator': 'adx8', 'barrier': 48}, 'best': {'type': 'upper', 'indicator': 'ppo8', 'barrier': 3}}}, 'order': {'single': {'upper': {'indicator': 'ppo8', 'barrier': 9}, 'lower': {'indicator': 'adx32', 'barrier': 11}, 'best': {'type': 'upper', 'indicator': 'ppo8', 'barrier': 9}}}}\n",
      "Key in forward opt json 14-02 - 6-month - order - 713\n"
     ]
    },
    {
     "name": "stderr",
     "output_type": "stream",
     "text": [
      "\r",
      " 67%|██████▋   | 666/996 [4:28:03<2:29:07, 27.11s/it]"
     ]
    },
    {
     "name": "stdout",
     "output_type": "stream",
     "text": [
      "14-02 - 6-month - order\n",
      "{'mean': {'single': {'upper': {'indicator': 'adx8', 'barrier': 16}, 'lower': {'indicator': 'ppo16', 'barrier': 31}, 'best': {'type': 'upper', 'indicator': 'adx8', 'barrier': 16}}}, 'order': {'single': {'upper': {'indicator': 'ppo32', 'barrier': 16}, 'lower': {'indicator': 'adx16', 'barrier': 15}, 'best': {'type': 'upper', 'indicator': 'ppo32', 'barrier': 16}}}}\n",
      "Key in forward opt json 14-02 - 12-month - mean - 354\n"
     ]
    },
    {
     "name": "stderr",
     "output_type": "stream",
     "text": [
      "\r",
      " 67%|██████▋   | 667/996 [4:28:23<2:17:36, 25.10s/it]"
     ]
    },
    {
     "name": "stdout",
     "output_type": "stream",
     "text": [
      "14-02 - 12-month - mean\n",
      "{'mean': {'single': {'upper': {'indicator': 'ppo16', 'barrier': 3}, 'lower': {'indicator': 'adx8', 'barrier': 48}, 'best': {'type': 'upper', 'indicator': 'ppo16', 'barrier': 3}}}, 'order': {'single': {'upper': {'indicator': 'adx32', 'barrier': 31}, 'lower': {'indicator': 'stochastic16', 'barrier': 3}, 'best': {'type': 'upper', 'indicator': 'adx32', 'barrier': 31}}}}\n",
      "Key in forward opt json 14-02 - 12-month - order - 1772\n"
     ]
    },
    {
     "name": "stderr",
     "output_type": "stream",
     "text": [
      "\r",
      " 67%|██████▋   | 668/996 [4:29:11<2:54:47, 31.97s/it]"
     ]
    },
    {
     "name": "stdout",
     "output_type": "stream",
     "text": [
      "14-02 - 12-month - order\n",
      "{'mean': {'single': {'upper': {'indicator': 'ppo8', 'barrier': 0}, 'lower': {'indicator': 'ppo16', 'barrier': 38}, 'best': {'type': 'upper', 'indicator': 'ppo8', 'barrier': 0}}}, 'order': {'single': {'upper': {'indicator': 'stochastic32', 'barrier': 60}, 'lower': {'indicator': 'stochastic16', 'barrier': 38}, 'best': {'type': 'upper', 'indicator': 'stochastic32', 'barrier': 60}}}}\n",
      "Key in forward opt json 14-03 - 6-month - mean - 154\n"
     ]
    },
    {
     "name": "stderr",
     "output_type": "stream",
     "text": [
      "\r",
      " 67%|██████▋   | 669/996 [4:29:31<2:34:37, 28.37s/it]"
     ]
    },
    {
     "name": "stdout",
     "output_type": "stream",
     "text": [
      "14-03 - 6-month - mean\n",
      "{'mean': {'single': {'upper': {'indicator': 'stochastic16', 'barrier': 5}, 'lower': {'indicator': 'adx8', 'barrier': 45}, 'best': {'type': 'upper', 'indicator': 'stochastic16', 'barrier': 5}}}, 'order': {'single': {'upper': {'indicator': 'stochastic32', 'barrier': 50}, 'lower': {'indicator': 'adx32', 'barrier': 9}, 'best': {'type': 'upper', 'indicator': 'stochastic32', 'barrier': 50}}}}\n",
      "Key in forward opt json 14-03 - 6-month - order - 868\n"
     ]
    },
    {
     "name": "stderr",
     "output_type": "stream",
     "text": [
      "\r",
      " 67%|██████▋   | 670/996 [4:29:57<2:30:45, 27.75s/it]"
     ]
    },
    {
     "name": "stdout",
     "output_type": "stream",
     "text": [
      "14-03 - 6-month - order\n",
      "{'mean': {'single': {'upper': {'indicator': 'stochastic16', 'barrier': 8}, 'lower': {'indicator': 'ppo32', 'barrier': 29}, 'best': {'type': 'upper', 'indicator': 'stochastic16', 'barrier': 8}}}, 'order': {'single': {'upper': {'indicator': 'adx8', 'barrier': 74}, 'lower': {'indicator': 'stochastic8', 'barrier': 6}, 'best': {'type': 'upper', 'indicator': 'adx8', 'barrier': 74}}}}\n",
      "Key in forward opt json 14-03 - 12-month - mean - 355\n"
     ]
    },
    {
     "name": "stderr",
     "output_type": "stream",
     "text": [
      "\r",
      " 67%|██████▋   | 671/996 [4:30:18<2:18:46, 25.62s/it]"
     ]
    },
    {
     "name": "stdout",
     "output_type": "stream",
     "text": [
      "14-03 - 12-month - mean\n",
      "{'mean': {'single': {'upper': {'indicator': 'ppo16', 'barrier': 3}, 'lower': {'indicator': 'adx8', 'barrier': 48}, 'best': {'type': 'upper', 'indicator': 'ppo16', 'barrier': 3}}}, 'order': {'single': {'upper': {'indicator': 'ppo8', 'barrier': 13}, 'lower': {'indicator': 'ppo16', 'barrier': 15}, 'best': {'type': 'upper', 'indicator': 'ppo8', 'barrier': 13}}}}\n",
      "Key in forward opt json 14-03 - 12-month - order - 1805\n"
     ]
    },
    {
     "name": "stderr",
     "output_type": "stream",
     "text": [
      "\r",
      " 67%|██████▋   | 672/996 [4:31:07<2:56:54, 32.76s/it]"
     ]
    },
    {
     "name": "stdout",
     "output_type": "stream",
     "text": [
      "14-03 - 12-month - order\n",
      "{'mean': {'single': {'upper': {'indicator': 'ppo8', 'barrier': 0}, 'lower': {'indicator': 'ppo16', 'barrier': 38}, 'best': {'type': 'upper', 'indicator': 'ppo8', 'barrier': 0}}}, 'order': {'single': {'upper': {'indicator': 'stochastic16', 'barrier': 54}, 'lower': {'indicator': 'stochastic32', 'barrier': 58}, 'best': {'type': 'upper', 'indicator': 'stochastic16', 'barrier': 54}}}}\n",
      "Key in forward opt json 14-04 - 6-month - mean - 56\n"
     ]
    },
    {
     "name": "stderr",
     "output_type": "stream",
     "text": [
      "\r",
      " 68%|██████▊   | 673/996 [4:31:27<2:35:48, 28.94s/it]"
     ]
    },
    {
     "name": "stdout",
     "output_type": "stream",
     "text": [
      "14-04 - 6-month - mean\n",
      "{'mean': {'single': {'upper': {'indicator': 'stochastic8', 'barrier': 7}, 'lower': {'indicator': 'adx8', 'barrier': 47}, 'best': {'type': 'upper', 'indicator': 'stochastic8', 'barrier': 7}}}, 'order': {'single': {'upper': {'indicator': 'stochastic32', 'barrier': 33}, 'lower': {'indicator': 'adx16', 'barrier': 15}, 'best': {'type': 'upper', 'indicator': 'stochastic32', 'barrier': 33}}}}\n",
      "Key in forward opt json 14-04 - 6-month - order - 854\n"
     ]
    },
    {
     "name": "stderr",
     "output_type": "stream",
     "text": [
      "\r",
      " 68%|██████▊   | 674/996 [4:31:53<2:30:39, 28.07s/it]"
     ]
    },
    {
     "name": "stdout",
     "output_type": "stream",
     "text": [
      "14-04 - 6-month - order\n",
      "{'mean': {'single': {'upper': {'indicator': 'stochastic16', 'barrier': 8}, 'lower': {'indicator': 'ppo32', 'barrier': 29}, 'best': {'type': 'upper', 'indicator': 'stochastic16', 'barrier': 8}}}, 'order': {'single': {'upper': {'indicator': 'stochastic32', 'barrier': 78}, 'lower': {'indicator': 'ppo8', 'barrier': 0}, 'best': {'type': 'upper', 'indicator': 'stochastic32', 'barrier': 78}}}}\n",
      "Key in forward opt json 14-04 - 12-month - mean - 127\n"
     ]
    },
    {
     "name": "stderr",
     "output_type": "stream",
     "text": [
      "\r",
      " 68%|██████▊   | 675/996 [4:32:13<2:17:03, 25.62s/it]"
     ]
    },
    {
     "name": "stdout",
     "output_type": "stream",
     "text": [
      "14-04 - 12-month - mean\n",
      "{'mean': {'single': {'upper': {'indicator': 'adx32', 'barrier': 11}, 'lower': {'indicator': 'stochastic8', 'barrier': 21}, 'best': {'type': 'upper', 'indicator': 'adx32', 'barrier': 11}}}, 'order': {'single': {'upper': {'indicator': 'stochastic8', 'barrier': 13}, 'lower': {'indicator': 'adx16', 'barrier': 21}, 'best': {'type': 'upper', 'indicator': 'stochastic8', 'barrier': 13}}}}\n",
      "Key in forward opt json 14-04 - 12-month - order - 1809\n"
     ]
    },
    {
     "name": "stderr",
     "output_type": "stream",
     "text": [
      "\r",
      " 68%|██████▊   | 676/996 [4:33:03<2:54:25, 32.71s/it]"
     ]
    },
    {
     "name": "stdout",
     "output_type": "stream",
     "text": [
      "14-04 - 12-month - order\n",
      "{'mean': {'single': {'upper': {'indicator': 'ppo8', 'barrier': 0}, 'lower': {'indicator': 'ppo16', 'barrier': 38}, 'best': {'type': 'upper', 'indicator': 'ppo8', 'barrier': 0}}}, 'order': {'single': {'upper': {'indicator': 'ppo8', 'barrier': 30}, 'lower': {'indicator': 'adx8', 'barrier': 42}, 'best': {'type': 'upper', 'indicator': 'ppo8', 'barrier': 30}}}}\n",
      "Key in forward opt json 14-05 - 6-month - mean - 56\n"
     ]
    },
    {
     "name": "stderr",
     "output_type": "stream",
     "text": [
      "\r",
      " 68%|██████▊   | 677/996 [4:33:22<2:32:42, 28.72s/it]"
     ]
    },
    {
     "name": "stdout",
     "output_type": "stream",
     "text": [
      "14-05 - 6-month - mean\n",
      "{'mean': {'single': {'upper': {'indicator': 'stochastic8', 'barrier': 7}, 'lower': {'indicator': 'stochastic16', 'barrier': 14}, 'best': {'type': 'upper', 'indicator': 'stochastic8', 'barrier': 7}}}, 'order': {'single': {'upper': {'indicator': 'stochastic32', 'barrier': 31}, 'lower': {'indicator': 'adx8', 'barrier': 17}, 'best': {'type': 'upper', 'indicator': 'stochastic32', 'barrier': 31}}}}\n",
      "Key in forward opt json 14-05 - 6-month - order - 882\n"
     ]
    },
    {
     "name": "stderr",
     "output_type": "stream",
     "text": [
      "\r",
      " 68%|██████▊   | 678/996 [4:33:48<2:27:26, 27.82s/it]"
     ]
    },
    {
     "name": "stdout",
     "output_type": "stream",
     "text": [
      "14-05 - 6-month - order\n",
      "{'mean': {'single': {'upper': {'indicator': 'stochastic16', 'barrier': 8}, 'lower': {'indicator': 'ppo32', 'barrier': 29}, 'best': {'type': 'upper', 'indicator': 'stochastic16', 'barrier': 8}}}, 'order': {'single': {'upper': {'indicator': 'adx32', 'barrier': 41}, 'lower': {'indicator': 'stochastic16', 'barrier': 20}, 'best': {'type': 'upper', 'indicator': 'adx32', 'barrier': 41}}}}\n",
      "Key in forward opt json 14-05 - 12-month - mean - 130\n"
     ]
    },
    {
     "name": "stderr",
     "output_type": "stream",
     "text": [
      "\r",
      " 68%|██████▊   | 679/996 [4:34:07<2:13:33, 25.28s/it]"
     ]
    },
    {
     "name": "stdout",
     "output_type": "stream",
     "text": [
      "14-05 - 12-month - mean\n",
      "{'mean': {'single': {'upper': {'indicator': 'ppo16', 'barrier': 4}, 'lower': {'indicator': 'ppo16', 'barrier': 14}, 'best': {'type': 'upper', 'indicator': 'ppo16', 'barrier': 4}}}, 'order': {'single': {'upper': {'indicator': 'ppo16', 'barrier': 12}, 'lower': {'indicator': 'adx16', 'barrier': 21}, 'best': {'type': 'upper', 'indicator': 'ppo16', 'barrier': 12}}}}\n",
      "Key in forward opt json 14-05 - 12-month - order - 1825\n"
     ]
    },
    {
     "name": "stderr",
     "output_type": "stream",
     "text": [
      "\r",
      " 68%|██████▊   | 680/996 [4:34:57<2:51:42, 32.60s/it]"
     ]
    },
    {
     "name": "stdout",
     "output_type": "stream",
     "text": [
      "14-05 - 12-month - order\n",
      "{'mean': {'single': {'upper': {'indicator': 'ppo8', 'barrier': 0}, 'lower': {'indicator': 'ppo32', 'barrier': 33}, 'best': {'type': 'upper', 'indicator': 'ppo8', 'barrier': 0}}}, 'order': {'single': {'upper': {'indicator': 'adx8', 'barrier': 72}, 'lower': {'indicator': 'adx8', 'barrier': 14}, 'best': {'type': 'upper', 'indicator': 'adx8', 'barrier': 72}}}}\n",
      "Key in forward opt json 14-06 - 6-month - mean - 57\n"
     ]
    },
    {
     "name": "stderr",
     "output_type": "stream",
     "text": [
      "\r",
      " 68%|██████▊   | 681/996 [4:35:16<2:29:58, 28.57s/it]"
     ]
    },
    {
     "name": "stdout",
     "output_type": "stream",
     "text": [
      "14-06 - 6-month - mean\n",
      "{'mean': {'single': {'upper': {'indicator': 'stochastic8', 'barrier': 7}, 'lower': {'indicator': 'stochastic8', 'barrier': 19}, 'best': {'type': 'upper', 'indicator': 'stochastic8', 'barrier': 7}}}, 'order': {'single': {'upper': {'indicator': 'stochastic32', 'barrier': 29}, 'lower': {'indicator': 'adx8', 'barrier': 17}, 'best': {'type': 'upper', 'indicator': 'stochastic32', 'barrier': 29}}}}\n",
      "Key in forward opt json 14-06 - 6-month - order - 905\n"
     ]
    },
    {
     "name": "stderr",
     "output_type": "stream",
     "text": [
      "\r",
      " 68%|██████▊   | 682/996 [4:35:42<2:26:22, 27.97s/it]"
     ]
    },
    {
     "name": "stdout",
     "output_type": "stream",
     "text": [
      "14-06 - 6-month - order\n",
      "{'mean': {'single': {'upper': {'indicator': 'stochastic16', 'barrier': 8}, 'lower': {'indicator': 'ppo32', 'barrier': 29}, 'best': {'type': 'upper', 'indicator': 'stochastic16', 'barrier': 8}}}, 'order': {'single': {'upper': {'indicator': 'ppo8', 'barrier': 29}, 'lower': {'indicator': 'stochastic32', 'barrier': 44}, 'best': {'type': 'upper', 'indicator': 'ppo8', 'barrier': 29}}}}\n",
      "Key in forward opt json 14-06 - 12-month - mean - 115\n"
     ]
    },
    {
     "name": "stderr",
     "output_type": "stream",
     "text": [
      "\r",
      " 69%|██████▊   | 683/996 [4:36:02<2:13:05, 25.51s/it]"
     ]
    },
    {
     "name": "stdout",
     "output_type": "stream",
     "text": [
      "14-06 - 12-month - mean\n",
      "{'mean': {'single': {'upper': {'indicator': 'ppo16', 'barrier': 4}, 'lower': {'indicator': 'stochastic16', 'barrier': 15}, 'best': {'type': 'upper', 'indicator': 'ppo16', 'barrier': 4}}}, 'order': {'single': {'upper': {'indicator': 'stochastic16', 'barrier': 13}, 'lower': {'indicator': 'adx16', 'barrier': 19}, 'best': {'type': 'upper', 'indicator': 'stochastic16', 'barrier': 13}}}}\n",
      "Key in forward opt json 14-06 - 12-month - order - 1766\n"
     ]
    },
    {
     "name": "stderr",
     "output_type": "stream",
     "text": [
      "\r",
      " 69%|██████▊   | 684/996 [4:36:49<2:45:11, 31.77s/it]"
     ]
    },
    {
     "name": "stdout",
     "output_type": "stream",
     "text": [
      "14-06 - 12-month - order\n",
      "{'mean': {'single': {'upper': {'indicator': 'ppo8', 'barrier': 0}, 'lower': {'indicator': 'ppo32', 'barrier': 33}, 'best': {'type': 'upper', 'indicator': 'ppo8', 'barrier': 0}}}, 'order': {'single': {'upper': {'indicator': 'ppo8', 'barrier': 12}, 'lower': {'indicator': 'stochastic8', 'barrier': 12}, 'best': {'type': 'upper', 'indicator': 'ppo8', 'barrier': 12}}}}\n",
      "Key in forward opt json 14-07 - 6-month - mean - 57\n"
     ]
    },
    {
     "name": "stderr",
     "output_type": "stream",
     "text": [
      "\r",
      " 69%|██████▉   | 685/996 [4:37:08<2:26:08, 28.19s/it]"
     ]
    },
    {
     "name": "stdout",
     "output_type": "stream",
     "text": [
      "14-07 - 6-month - mean\n",
      "{'mean': {'single': {'upper': {'indicator': 'stochastic16', 'barrier': 6}, 'lower': {'indicator': 'stochastic16', 'barrier': 14}, 'best': {'type': 'upper', 'indicator': 'stochastic16', 'barrier': 6}}}, 'order': {'single': {'upper': {'indicator': 'stochastic32', 'barrier': 31}, 'lower': {'indicator': 'adx8', 'barrier': 17}, 'best': {'type': 'upper', 'indicator': 'stochastic32', 'barrier': 31}}}}\n",
      "Key in forward opt json 14-07 - 6-month - order - 933\n"
     ]
    },
    {
     "name": "stderr",
     "output_type": "stream",
     "text": [
      "\r",
      " 69%|██████▉   | 686/996 [4:37:35<2:23:21, 27.75s/it]"
     ]
    },
    {
     "name": "stdout",
     "output_type": "stream",
     "text": [
      "14-07 - 6-month - order\n",
      "{'mean': {'single': {'upper': {'indicator': 'stochastic32', 'barrier': 8}, 'lower': {'indicator': 'ppo32', 'barrier': 28}, 'best': {'type': 'upper', 'indicator': 'stochastic32', 'barrier': 8}}}, 'order': {'single': {'upper': {'indicator': 'stochastic32', 'barrier': 62}, 'lower': {'indicator': 'adx8', 'barrier': 15}, 'best': {'type': 'upper', 'indicator': 'stochastic32', 'barrier': 62}}}}\n",
      "Key in forward opt json 14-07 - 12-month - mean - 108\n"
     ]
    },
    {
     "name": "stderr",
     "output_type": "stream",
     "text": [
      "\r",
      " 69%|██████▉   | 687/996 [4:37:55<2:10:56, 25.43s/it]"
     ]
    },
    {
     "name": "stdout",
     "output_type": "stream",
     "text": [
      "14-07 - 12-month - mean\n",
      "{'mean': {'single': {'upper': {'indicator': 'ppo16', 'barrier': 4}, 'lower': {'indicator': 'stochastic16', 'barrier': 15}, 'best': {'type': 'upper', 'indicator': 'ppo16', 'barrier': 4}}}, 'order': {'single': {'upper': {'indicator': 'stochastic8', 'barrier': 21}, 'lower': {'indicator': 'ppo16', 'barrier': 6}, 'best': {'type': 'upper', 'indicator': 'stochastic8', 'barrier': 21}}}}\n",
      "Key in forward opt json 14-07 - 12-month - order - 1812\n"
     ]
    },
    {
     "name": "stderr",
     "output_type": "stream",
     "text": [
      "\r",
      " 69%|██████▉   | 688/996 [4:38:43<2:44:20, 32.02s/it]"
     ]
    },
    {
     "name": "stdout",
     "output_type": "stream",
     "text": [
      "14-07 - 12-month - order\n",
      "{'mean': {'single': {'upper': {'indicator': 'ppo16', 'barrier': 0}, 'lower': {'indicator': 'ppo32', 'barrier': 33}, 'best': {'type': 'upper', 'indicator': 'ppo16', 'barrier': 0}}}, 'order': {'single': {'upper': {'indicator': 'adx8', 'barrier': 45}, 'lower': {'indicator': 'stochastic8', 'barrier': 46}, 'best': {'type': 'upper', 'indicator': 'adx8', 'barrier': 45}}}}\n",
      "Key in forward opt json 14-08 - 6-month - mean - 43\n"
     ]
    },
    {
     "name": "stderr",
     "output_type": "stream",
     "text": [
      "\r",
      " 69%|██████▉   | 689/996 [4:39:02<2:24:08, 28.17s/it]"
     ]
    },
    {
     "name": "stdout",
     "output_type": "stream",
     "text": [
      "14-08 - 6-month - mean\n",
      "{'mean': {'single': {'upper': {'indicator': 'stochastic32', 'barrier': 23}, 'lower': {'indicator': 'ppo32', 'barrier': 10}, 'best': {'type': 'upper', 'indicator': 'stochastic32', 'barrier': 23}}}, 'order': {'single': {'upper': {'indicator': 'adx8', 'barrier': 63}, 'lower': {'indicator': 'adx32', 'barrier': 10}, 'best': {'type': 'upper', 'indicator': 'adx8', 'barrier': 63}}}}\n",
      "Key in forward opt json 14-08 - 6-month - order - 931\n"
     ]
    },
    {
     "name": "stderr",
     "output_type": "stream",
     "text": [
      "\r",
      " 69%|██████▉   | 690/996 [4:39:28<2:20:50, 27.62s/it]"
     ]
    },
    {
     "name": "stdout",
     "output_type": "stream",
     "text": [
      "14-08 - 6-month - order\n",
      "{'mean': {'single': {'upper': {'indicator': 'stochastic32', 'barrier': 8}, 'lower': {'indicator': 'ppo16', 'barrier': 33}, 'best': {'type': 'upper', 'indicator': 'stochastic32', 'barrier': 8}}}, 'order': {'single': {'upper': {'indicator': 'ppo32', 'barrier': 10}, 'lower': {'indicator': 'stochastic32', 'barrier': 60}, 'best': {'type': 'upper', 'indicator': 'ppo32', 'barrier': 10}}}}\n",
      "Key in forward opt json 14-08 - 12-month - mean - 114\n"
     ]
    },
    {
     "name": "stderr",
     "output_type": "stream",
     "text": [
      "\r",
      " 69%|██████▉   | 691/996 [4:39:48<2:07:52, 25.16s/it]"
     ]
    },
    {
     "name": "stdout",
     "output_type": "stream",
     "text": [
      "14-08 - 12-month - mean\n",
      "{'mean': {'single': {'upper': {'indicator': 'stochastic16', 'barrier': 3}, 'lower': {'indicator': 'stochastic16', 'barrier': 15}, 'best': {'type': 'upper', 'indicator': 'stochastic16', 'barrier': 3}}}, 'order': {'single': {'upper': {'indicator': 'adx16', 'barrier': 29}, 'lower': {'indicator': 'ppo8', 'barrier': 4}, 'best': {'type': 'upper', 'indicator': 'adx16', 'barrier': 29}}}}\n",
      "Key in forward opt json 14-08 - 12-month - order - 1829\n"
     ]
    },
    {
     "name": "stderr",
     "output_type": "stream",
     "text": [
      "\r",
      " 69%|██████▉   | 692/996 [4:40:37<2:44:03, 32.38s/it]"
     ]
    },
    {
     "name": "stdout",
     "output_type": "stream",
     "text": [
      "14-08 - 12-month - order\n",
      "{'mean': {'single': {'upper': {'indicator': 'stochastic32', 'barrier': 6}, 'lower': {'indicator': 'ppo32', 'barrier': 35}, 'best': {'type': 'upper', 'indicator': 'stochastic32', 'barrier': 6}}}, 'order': {'single': {'upper': {'indicator': 'adx8', 'barrier': 73}, 'lower': {'indicator': 'adx8', 'barrier': 11}, 'best': {'type': 'upper', 'indicator': 'adx8', 'barrier': 73}}}}\n",
      "Key in forward opt json 14-09 - 6-month - mean - 31\n"
     ]
    },
    {
     "name": "stderr",
     "output_type": "stream",
     "text": [
      "\r",
      " 70%|██████▉   | 693/996 [4:40:56<2:23:59, 28.51s/it]"
     ]
    },
    {
     "name": "stdout",
     "output_type": "stream",
     "text": [
      "14-09 - 6-month - mean\n",
      "{'mean': {'single': {'upper': {'indicator': 'adx32', 'barrier': 18}, 'lower': {'indicator': 'adx8', 'barrier': 34}, 'best': {'type': 'upper', 'indicator': 'adx32', 'barrier': 18}}}, 'order': {'single': {'upper': {'indicator': 'adx8', 'barrier': 58}, 'lower': {'indicator': 'adx8', 'barrier': 18}, 'best': {'type': 'upper', 'indicator': 'adx8', 'barrier': 58}}}}\n",
      "Key in forward opt json 14-09 - 6-month - order - 899\n"
     ]
    },
    {
     "name": "stderr",
     "output_type": "stream",
     "text": [
      "\r",
      " 70%|██████▉   | 694/996 [4:41:23<2:21:08, 28.04s/it]"
     ]
    },
    {
     "name": "stdout",
     "output_type": "stream",
     "text": [
      "14-09 - 6-month - order\n",
      "{'mean': {'single': {'upper': {'indicator': 'stochastic32', 'barrier': 8}, 'lower': {'indicator': 'ppo16', 'barrier': 34}, 'best': {'type': 'upper', 'indicator': 'stochastic32', 'barrier': 8}}}, 'order': {'single': {'upper': {'indicator': 'ppo32', 'barrier': 12}, 'lower': {'indicator': 'stochastic32', 'barrier': 58}, 'best': {'type': 'upper', 'indicator': 'ppo32', 'barrier': 12}}}}\n",
      "Key in forward opt json 14-09 - 12-month - mean - 55\n"
     ]
    },
    {
     "name": "stderr",
     "output_type": "stream",
     "text": [
      "\r",
      " 70%|██████▉   | 695/996 [4:41:43<2:08:20, 25.58s/it]"
     ]
    },
    {
     "name": "stdout",
     "output_type": "stream",
     "text": [
      "14-09 - 12-month - mean\n",
      "{'mean': {'single': {'upper': {'indicator': 'stochastic32', 'barrier': 21}, 'lower': {'indicator': 'adx8', 'barrier': 45}, 'best': {'type': 'upper', 'indicator': 'stochastic32', 'barrier': 21}}}, 'order': {'single': {'upper': {'indicator': 'adx32', 'barrier': 42}, 'lower': {'indicator': 'adx8', 'barrier': 17}, 'best': {'type': 'upper', 'indicator': 'adx32', 'barrier': 42}}}}\n",
      "Key in forward opt json 14-09 - 12-month - order - 1767\n"
     ]
    },
    {
     "name": "stderr",
     "output_type": "stream",
     "text": [
      "\r",
      " 70%|██████▉   | 696/996 [4:42:32<2:43:05, 32.62s/it]"
     ]
    },
    {
     "name": "stdout",
     "output_type": "stream",
     "text": [
      "14-09 - 12-month - order\n",
      "{'mean': {'single': {'upper': {'indicator': 'stochastic8', 'barrier': 7}, 'lower': {'indicator': 'ppo16', 'barrier': 38}, 'best': {'type': 'upper', 'indicator': 'stochastic8', 'barrier': 7}}}, 'order': {'single': {'upper': {'indicator': 'stochastic8', 'barrier': 41}, 'lower': {'indicator': 'adx32', 'barrier': 10}, 'best': {'type': 'upper', 'indicator': 'stochastic8', 'barrier': 41}}}}\n",
      "Key in forward opt json 14-10 - 6-month - mean - 77\n"
     ]
    },
    {
     "name": "stderr",
     "output_type": "stream",
     "text": [
      "\r",
      " 70%|██████▉   | 697/996 [4:42:53<2:24:46, 29.05s/it]"
     ]
    },
    {
     "name": "stdout",
     "output_type": "stream",
     "text": [
      "14-10 - 6-month - mean\n",
      "{'mean': {'single': {'upper': {'indicator': 'stochastic8', 'barrier': 6}, 'lower': {'indicator': 'ppo32', 'barrier': 13}, 'best': {'type': 'upper', 'indicator': 'stochastic8', 'barrier': 6}}}, 'order': {'single': {'upper': {'indicator': 'adx8', 'barrier': 58}, 'lower': {'indicator': 'ppo32', 'barrier': 5}, 'best': {'type': 'upper', 'indicator': 'adx8', 'barrier': 58}}}}\n",
      "Key in forward opt json 14-10 - 6-month - order - 897\n"
     ]
    },
    {
     "name": "stderr",
     "output_type": "stream",
     "text": [
      "\r",
      " 70%|███████   | 698/996 [4:43:19<2:19:45, 28.14s/it]"
     ]
    },
    {
     "name": "stdout",
     "output_type": "stream",
     "text": [
      "14-10 - 6-month - order\n",
      "{'mean': {'single': {'upper': {'indicator': 'stochastic32', 'barrier': 10}, 'lower': {'indicator': 'ppo32', 'barrier': 24}, 'best': {'type': 'upper', 'indicator': 'stochastic32', 'barrier': 10}}}, 'order': {'single': {'upper': {'indicator': 'adx16', 'barrier': 43}, 'lower': {'indicator': 'stochastic8', 'barrier': 13}, 'best': {'type': 'upper', 'indicator': 'adx16', 'barrier': 43}}}}\n",
      "Key in forward opt json 14-10 - 12-month - mean - 118\n"
     ]
    },
    {
     "name": "stderr",
     "output_type": "stream",
     "text": [
      "\r",
      " 70%|███████   | 699/996 [4:43:38<2:05:49, 25.42s/it]"
     ]
    },
    {
     "name": "stdout",
     "output_type": "stream",
     "text": [
      "14-10 - 12-month - mean\n",
      "{'mean': {'single': {'upper': {'indicator': 'stochastic16', 'barrier': 4}, 'lower': {'indicator': 'ppo32', 'barrier': 13}, 'best': {'type': 'upper', 'indicator': 'stochastic16', 'barrier': 4}}}, 'order': {'single': {'upper': {'indicator': 'adx32', 'barrier': 31}, 'lower': {'indicator': 'stochastic16', 'barrier': 2}, 'best': {'type': 'upper', 'indicator': 'adx32', 'barrier': 31}}}}\n",
      "Key in forward opt json 14-10 - 12-month - order - 1780\n"
     ]
    },
    {
     "name": "stderr",
     "output_type": "stream",
     "text": [
      "\r",
      " 70%|███████   | 700/996 [4:44:28<2:42:00, 32.84s/it]"
     ]
    },
    {
     "name": "stdout",
     "output_type": "stream",
     "text": [
      "14-10 - 12-month - order\n",
      "{'mean': {'single': {'upper': {'indicator': 'stochastic8', 'barrier': 7}, 'lower': {'indicator': 'ppo16', 'barrier': 38}, 'best': {'type': 'upper', 'indicator': 'stochastic8', 'barrier': 7}}}, 'order': {'single': {'upper': {'indicator': 'ppo8', 'barrier': 48}, 'lower': {'indicator': 'stochastic32', 'barrier': 4}, 'best': {'type': 'upper', 'indicator': 'ppo8', 'barrier': 48}}}}\n",
      "Key in forward opt json 14-11 - 6-month - mean - 91\n"
     ]
    },
    {
     "name": "stderr",
     "output_type": "stream",
     "text": [
      "\r",
      " 70%|███████   | 701/996 [4:44:48<2:22:11, 28.92s/it]"
     ]
    },
    {
     "name": "stdout",
     "output_type": "stream",
     "text": [
      "14-11 - 6-month - mean\n",
      "{'mean': {'single': {'upper': {'indicator': 'stochastic32', 'barrier': 8}, 'lower': {'indicator': 'ppo16', 'barrier': 11}, 'best': {'type': 'upper', 'indicator': 'stochastic32', 'barrier': 8}}}, 'order': {'single': {'upper': {'indicator': 'ppo32', 'barrier': 19}, 'lower': {'indicator': 'adx8', 'barrier': 33}, 'best': {'type': 'upper', 'indicator': 'ppo32', 'barrier': 19}}}}\n",
      "Key in forward opt json 14-11 - 6-month - order - 859\n"
     ]
    },
    {
     "name": "stderr",
     "output_type": "stream",
     "text": [
      "\r",
      " 70%|███████   | 702/996 [4:45:14<2:17:10, 28.00s/it]"
     ]
    },
    {
     "name": "stdout",
     "output_type": "stream",
     "text": [
      "14-11 - 6-month - order\n",
      "{'mean': {'single': {'upper': {'indicator': 'stochastic16', 'barrier': 8}, 'lower': {'indicator': 'ppo8', 'barrier': 33}, 'best': {'type': 'upper', 'indicator': 'stochastic16', 'barrier': 8}}}, 'order': {'single': {'upper': {'indicator': 'adx16', 'barrier': 60}, 'lower': {'indicator': 'ppo32', 'barrier': 0}, 'best': {'type': 'upper', 'indicator': 'adx16', 'barrier': 60}}}}\n",
      "Key in forward opt json 14-11 - 12-month - mean - 156\n"
     ]
    },
    {
     "name": "stderr",
     "output_type": "stream",
     "text": [
      "\r",
      " 71%|███████   | 703/996 [4:45:33<2:04:09, 25.42s/it]"
     ]
    },
    {
     "name": "stdout",
     "output_type": "stream",
     "text": [
      "14-11 - 12-month - mean\n",
      "{'mean': {'single': {'upper': {'indicator': 'stochastic8', 'barrier': 6}, 'lower': {'indicator': 'ppo16', 'barrier': 15}, 'best': {'type': 'upper', 'indicator': 'stochastic8', 'barrier': 6}}}, 'order': {'single': {'upper': {'indicator': 'adx32', 'barrier': 25}, 'lower': {'indicator': 'adx32', 'barrier': 11}, 'best': {'type': 'upper', 'indicator': 'adx32', 'barrier': 25}}}}\n",
      "Key in forward opt json 14-11 - 12-month - order - 1733\n"
     ]
    },
    {
     "name": "stderr",
     "output_type": "stream",
     "text": [
      "\r",
      " 71%|███████   | 704/996 [4:46:18<2:32:32, 31.34s/it]"
     ]
    },
    {
     "name": "stdout",
     "output_type": "stream",
     "text": [
      "14-11 - 12-month - order\n",
      "{'mean': {'single': {'upper': {'indicator': 'stochastic16', 'barrier': 6}, 'lower': {'indicator': 'ppo16', 'barrier': 38}, 'best': {'type': 'upper', 'indicator': 'stochastic16', 'barrier': 6}}}, 'order': {'single': {'upper': {'indicator': 'adx32', 'barrier': 14}, 'lower': {'indicator': 'stochastic16', 'barrier': 28}, 'best': {'type': 'upper', 'indicator': 'adx32', 'barrier': 14}}}}\n",
      "Key in forward opt json 14-12 - 6-month - mean - 91\n"
     ]
    },
    {
     "name": "stderr",
     "output_type": "stream",
     "text": [
      "\r",
      " 71%|███████   | 705/996 [4:46:37<2:14:02, 27.64s/it]"
     ]
    },
    {
     "name": "stdout",
     "output_type": "stream",
     "text": [
      "14-12 - 6-month - mean\n",
      "{'mean': {'single': {'upper': {'indicator': 'stochastic32', 'barrier': 8}, 'lower': {'indicator': 'ppo8', 'barrier': 10}, 'best': {'type': 'upper', 'indicator': 'stochastic32', 'barrier': 8}}}, 'order': {'single': {'upper': {'indicator': 'ppo8', 'barrier': 14}, 'lower': {'indicator': 'adx8', 'barrier': 33}, 'best': {'type': 'upper', 'indicator': 'ppo8', 'barrier': 14}}}}\n",
      "Key in forward opt json 14-12 - 6-month - order - 868\n"
     ]
    },
    {
     "name": "stderr",
     "output_type": "stream",
     "text": [
      "\r",
      " 71%|███████   | 706/996 [4:47:03<2:10:48, 27.06s/it]"
     ]
    },
    {
     "name": "stdout",
     "output_type": "stream",
     "text": [
      "14-12 - 6-month - order\n",
      "{'mean': {'single': {'upper': {'indicator': 'stochastic16', 'barrier': 8}, 'lower': {'indicator': 'adx8', 'barrier': 66}, 'best': {'type': 'upper', 'indicator': 'stochastic16', 'barrier': 8}}}, 'order': {'single': {'upper': {'indicator': 'stochastic16', 'barrier': 56}, 'lower': {'indicator': 'ppo8', 'barrier': 7}, 'best': {'type': 'upper', 'indicator': 'stochastic16', 'barrier': 56}}}}\n",
      "Key in forward opt json 14-12 - 12-month - mean - 157\n"
     ]
    },
    {
     "name": "stderr",
     "output_type": "stream",
     "text": [
      "\r",
      " 71%|███████   | 707/996 [4:47:23<1:59:34, 24.83s/it]"
     ]
    },
    {
     "name": "stdout",
     "output_type": "stream",
     "text": [
      "14-12 - 12-month - mean\n",
      "{'mean': {'single': {'upper': {'indicator': 'stochastic8', 'barrier': 6}, 'lower': {'indicator': 'ppo16', 'barrier': 15}, 'best': {'type': 'upper', 'indicator': 'stochastic8', 'barrier': 6}}}, 'order': {'single': {'upper': {'indicator': 'ppo8', 'barrier': 20}, 'lower': {'indicator': 'stochastic8', 'barrier': 4}, 'best': {'type': 'upper', 'indicator': 'ppo8', 'barrier': 20}}}}\n",
      "Key in forward opt json 14-12 - 12-month - order - 1773\n"
     ]
    },
    {
     "name": "stderr",
     "output_type": "stream",
     "text": [
      "\r",
      " 71%|███████   | 708/996 [4:48:09<2:29:57, 31.24s/it]"
     ]
    },
    {
     "name": "stdout",
     "output_type": "stream",
     "text": [
      "14-12 - 12-month - order\n",
      "{'mean': {'single': {'upper': {'indicator': 'stochastic8', 'barrier': 7}, 'lower': {'indicator': 'ppo16', 'barrier': 34}, 'best': {'type': 'upper', 'indicator': 'stochastic8', 'barrier': 7}}}, 'order': {'single': {'upper': {'indicator': 'adx32', 'barrier': 40}, 'lower': {'indicator': 'ppo16', 'barrier': 4}, 'best': {'type': 'upper', 'indicator': 'adx32', 'barrier': 40}}}}\n",
      "Key in forward opt json 15-01 - 6-month - mean - 92\n"
     ]
    },
    {
     "name": "stderr",
     "output_type": "stream",
     "text": [
      "\r",
      " 71%|███████   | 709/996 [4:48:28<2:12:28, 27.69s/it]"
     ]
    },
    {
     "name": "stdout",
     "output_type": "stream",
     "text": [
      "15-01 - 6-month - mean\n",
      "{'mean': {'single': {'upper': {'indicator': 'stochastic32', 'barrier': 8}, 'lower': {'indicator': 'adx32', 'barrier': 22}, 'best': {'type': 'upper', 'indicator': 'stochastic32', 'barrier': 8}}}, 'order': {'single': {'upper': {'indicator': 'ppo8', 'barrier': 14}, 'lower': {'indicator': 'adx8', 'barrier': 33}, 'best': {'type': 'upper', 'indicator': 'ppo8', 'barrier': 14}}}}\n",
      "Key in forward opt json 15-01 - 6-month - order - 593\n"
     ]
    },
    {
     "name": "stderr",
     "output_type": "stream",
     "text": [
      "\r",
      " 71%|███████▏  | 710/996 [4:48:50<2:03:46, 25.97s/it]"
     ]
    },
    {
     "name": "stdout",
     "output_type": "stream",
     "text": [
      "15-01 - 6-month - order\n",
      "{'mean': {'single': {'upper': {'indicator': 'stochastic32', 'barrier': 11}, 'lower': {'indicator': 'ppo32', 'barrier': 27}, 'best': {'type': 'upper', 'indicator': 'stochastic32', 'barrier': 11}}}, 'order': {'single': {'upper': {'indicator': 'stochastic8', 'barrier': 30}, 'lower': {'indicator': 'adx32', 'barrier': 12}, 'best': {'type': 'upper', 'indicator': 'stochastic8', 'barrier': 30}}}}\n",
      "Key in forward opt json 15-01 - 12-month - mean - 158\n"
     ]
    },
    {
     "name": "stderr",
     "output_type": "stream",
     "text": [
      "\r",
      " 71%|███████▏  | 711/996 [4:49:10<1:54:18, 24.07s/it]"
     ]
    },
    {
     "name": "stdout",
     "output_type": "stream",
     "text": [
      "15-01 - 12-month - mean\n",
      "{'mean': {'single': {'upper': {'indicator': 'stochastic8', 'barrier': 4}, 'lower': {'indicator': 'ppo32', 'barrier': 15}, 'best': {'type': 'upper', 'indicator': 'stochastic8', 'barrier': 4}}}, 'order': {'single': {'upper': {'indicator': 'ppo8', 'barrier': 20}, 'lower': {'indicator': 'stochastic32', 'barrier': 4}, 'best': {'type': 'upper', 'indicator': 'ppo8', 'barrier': 20}}}}\n",
      "Key in forward opt json 15-01 - 12-month - order - 1775\n"
     ]
    },
    {
     "name": "stderr",
     "output_type": "stream",
     "text": [
      "\r",
      " 71%|███████▏  | 712/996 [4:49:56<2:24:53, 30.61s/it]"
     ]
    },
    {
     "name": "stdout",
     "output_type": "stream",
     "text": [
      "15-01 - 12-month - order\n",
      "{'mean': {'single': {'upper': {'indicator': 'stochastic32', 'barrier': 6}, 'lower': {'indicator': 'ppo16', 'barrier': 34}, 'best': {'type': 'upper', 'indicator': 'stochastic32', 'barrier': 6}}}, 'order': {'single': {'upper': {'indicator': 'adx8', 'barrier': 63}, 'lower': {'indicator': 'adx8', 'barrier': 27}, 'best': {'type': 'upper', 'indicator': 'adx8', 'barrier': 63}}}}\n",
      "Key in forward opt json 15-02 - 6-month - mean - 71\n"
     ]
    },
    {
     "name": "stderr",
     "output_type": "stream",
     "text": [
      "\r",
      " 72%|███████▏  | 713/996 [4:50:15<2:08:51, 27.32s/it]"
     ]
    },
    {
     "name": "stdout",
     "output_type": "stream",
     "text": [
      "15-02 - 6-month - mean\n",
      "{'mean': {'single': {'upper': {'indicator': 'stochastic16', 'barrier': 8}, 'lower': {'indicator': 'ppo16', 'barrier': 12}, 'best': {'type': 'upper', 'indicator': 'stochastic16', 'barrier': 8}}}, 'order': {'single': {'upper': {'indicator': 'adx8', 'barrier': 53}, 'lower': {'indicator': 'stochastic32', 'barrier': 2}, 'best': {'type': 'upper', 'indicator': 'adx8', 'barrier': 53}}}}\n",
      "Key in forward opt json 15-02 - 6-month - order - 548\n"
     ]
    },
    {
     "name": "stderr",
     "output_type": "stream",
     "text": [
      "\r",
      " 72%|███████▏  | 714/996 [4:50:38<2:01:16, 25.80s/it]"
     ]
    },
    {
     "name": "stdout",
     "output_type": "stream",
     "text": [
      "15-02 - 6-month - order\n",
      "{'mean': {'single': {'upper': {'indicator': 'stochastic16', 'barrier': 10}, 'lower': {'indicator': 'ppo8', 'barrier': 27}, 'best': {'type': 'upper', 'indicator': 'stochastic16', 'barrier': 10}}}, 'order': {'single': {'upper': {'indicator': 'stochastic8', 'barrier': 40}, 'lower': {'indicator': 'stochastic32', 'barrier': 41}, 'best': {'type': 'upper', 'indicator': 'stochastic8', 'barrier': 40}}}}\n",
      "Key in forward opt json 15-02 - 12-month - mean - 70\n"
     ]
    },
    {
     "name": "stderr",
     "output_type": "stream",
     "text": [
      "\r",
      " 72%|███████▏  | 715/996 [4:50:58<1:53:31, 24.24s/it]"
     ]
    },
    {
     "name": "stdout",
     "output_type": "stream",
     "text": [
      "15-02 - 12-month - mean\n",
      "{'mean': {'single': {'upper': {'indicator': 'stochastic16', 'barrier': 6}, 'lower': {'indicator': 'adx32', 'barrier': 23}, 'best': {'type': 'upper', 'indicator': 'stochastic16', 'barrier': 6}}}, 'order': {'single': {'upper': {'indicator': 'stochastic8', 'barrier': 19}, 'lower': {'indicator': 'ppo16', 'barrier': 4}, 'best': {'type': 'upper', 'indicator': 'stochastic8', 'barrier': 19}}}}\n",
      "Key in forward opt json 15-02 - 12-month - order - 1694\n"
     ]
    },
    {
     "name": "stderr",
     "output_type": "stream",
     "text": [
      "\r",
      " 72%|███████▏  | 716/996 [4:51:41<2:19:43, 29.94s/it]"
     ]
    },
    {
     "name": "stdout",
     "output_type": "stream",
     "text": [
      "15-02 - 12-month - order\n",
      "{'mean': {'single': {'upper': {'indicator': 'stochastic32', 'barrier': 6}, 'lower': {'indicator': 'ppo16', 'barrier': 34}, 'best': {'type': 'upper', 'indicator': 'stochastic32', 'barrier': 6}}}, 'order': {'single': {'upper': {'indicator': 'stochastic8', 'barrier': 26}, 'lower': {'indicator': 'stochastic16', 'barrier': 60}, 'best': {'type': 'upper', 'indicator': 'stochastic8', 'barrier': 26}}}}\n",
      "Key in forward opt json 15-03 - 6-month - mean - 57\n"
     ]
    },
    {
     "name": "stderr",
     "output_type": "stream",
     "text": [
      "\r",
      " 72%|███████▏  | 717/996 [4:52:01<2:04:21, 26.74s/it]"
     ]
    },
    {
     "name": "stdout",
     "output_type": "stream",
     "text": [
      "15-03 - 6-month - mean\n",
      "{'mean': {'single': {'upper': {'indicator': 'stochastic16', 'barrier': 6}, 'lower': {'indicator': 'adx32', 'barrier': 22}, 'best': {'type': 'upper', 'indicator': 'stochastic16', 'barrier': 6}}}, 'order': {'single': {'upper': {'indicator': 'stochastic8', 'barrier': 19}, 'lower': {'indicator': 'adx16', 'barrier': 16}, 'best': {'type': 'upper', 'indicator': 'stochastic8', 'barrier': 19}}}}\n",
      "Key in forward opt json 15-03 - 6-month - order - 547\n"
     ]
    },
    {
     "name": "stderr",
     "output_type": "stream",
     "text": [
      "\r",
      " 72%|███████▏  | 718/996 [4:52:23<1:57:19, 25.32s/it]"
     ]
    },
    {
     "name": "stdout",
     "output_type": "stream",
     "text": [
      "15-03 - 6-month - order\n",
      "{'mean': {'single': {'upper': {'indicator': 'stochastic16', 'barrier': 10}, 'lower': {'indicator': 'ppo16', 'barrier': 27}, 'best': {'type': 'upper', 'indicator': 'stochastic16', 'barrier': 10}}}, 'order': {'single': {'upper': {'indicator': 'adx32', 'barrier': 38}, 'lower': {'indicator': 'adx32', 'barrier': 10}, 'best': {'type': 'upper', 'indicator': 'adx32', 'barrier': 38}}}}\n",
      "Key in forward opt json 15-03 - 12-month - mean - 117\n"
     ]
    },
    {
     "name": "stderr",
     "output_type": "stream",
     "text": [
      "\r",
      " 72%|███████▏  | 719/996 [4:52:42<1:48:24, 23.48s/it]"
     ]
    },
    {
     "name": "stdout",
     "output_type": "stream",
     "text": [
      "15-03 - 12-month - mean\n",
      "{'mean': {'single': {'upper': {'indicator': 'stochastic8', 'barrier': 6}, 'lower': {'indicator': 'ppo16', 'barrier': 13}, 'best': {'type': 'upper', 'indicator': 'stochastic8', 'barrier': 6}}}, 'order': {'single': {'upper': {'indicator': 'ppo32', 'barrier': 17}, 'lower': {'indicator': 'ppo32', 'barrier': 9}, 'best': {'type': 'upper', 'indicator': 'ppo32', 'barrier': 17}}}}\n",
      "Key in forward opt json 15-03 - 12-month - order - 1678\n"
     ]
    },
    {
     "name": "stderr",
     "output_type": "stream",
     "text": [
      "\r",
      " 72%|███████▏  | 720/996 [4:53:25<2:15:07, 29.38s/it]"
     ]
    },
    {
     "name": "stdout",
     "output_type": "stream",
     "text": [
      "15-03 - 12-month - order\n",
      "{'mean': {'single': {'upper': {'indicator': 'stochastic8', 'barrier': 8}, 'lower': {'indicator': 'ppo16', 'barrier': 34}, 'best': {'type': 'upper', 'indicator': 'stochastic8', 'barrier': 8}}}, 'order': {'single': {'upper': {'indicator': 'stochastic32', 'barrier': 40}, 'lower': {'indicator': 'ppo8', 'barrier': -1}, 'best': {'type': 'upper', 'indicator': 'stochastic32', 'barrier': 40}}}}\n"
     ]
    },
    {
     "name": "stderr",
     "output_type": "stream",
     "text": [
      "\r",
      " 72%|███████▏  | 721/996 [4:53:45<2:02:00, 26.62s/it]"
     ]
    },
    {
     "name": "stdout",
     "output_type": "stream",
     "text": [
      "Key in forward opt json 15-04 - 6-month - mean - 23\n",
      "15-04 - 6-month - mean\n",
      "{'mean': {'single': {'upper': {'indicator': 'stochastic16', 'barrier': 6}, 'lower': {'indicator': 'adx32', 'barrier': 21}, 'best': {'type': 'upper', 'indicator': 'stochastic16', 'barrier': 6}}}, 'order': {'single': {'upper': {'indicator': 'stochastic32', 'barrier': 22}, 'lower': {'indicator': 'adx8', 'barrier': 27}, 'best': {'type': 'upper', 'indicator': 'stochastic32', 'barrier': 22}}}}\n",
      "Key in forward opt json 15-04 - 6-month - order - 539\n"
     ]
    },
    {
     "name": "stderr",
     "output_type": "stream",
     "text": [
      "\r",
      " 72%|███████▏  | 722/996 [4:54:07<1:54:42, 25.12s/it]"
     ]
    },
    {
     "name": "stdout",
     "output_type": "stream",
     "text": [
      "15-04 - 6-month - order\n",
      "{'mean': {'single': {'upper': {'indicator': 'stochastic16', 'barrier': 8}, 'lower': {'indicator': 'ppo32', 'barrier': 24}, 'best': {'type': 'upper', 'indicator': 'stochastic16', 'barrier': 8}}}, 'order': {'single': {'upper': {'indicator': 'stochastic16', 'barrier': 42}, 'lower': {'indicator': 'stochastic16', 'barrier': 14}, 'best': {'type': 'upper', 'indicator': 'stochastic16', 'barrier': 42}}}}\n",
      "Key in forward opt json 15-04 - 12-month - mean - 122\n"
     ]
    },
    {
     "name": "stderr",
     "output_type": "stream",
     "text": [
      "\r",
      " 73%|███████▎  | 723/996 [4:54:26<1:46:41, 23.45s/it]"
     ]
    },
    {
     "name": "stdout",
     "output_type": "stream",
     "text": [
      "15-04 - 12-month - mean\n",
      "{'mean': {'single': {'upper': {'indicator': 'stochastic8', 'barrier': 6}, 'lower': {'indicator': 'ppo16', 'barrier': 13}, 'best': {'type': 'upper', 'indicator': 'stochastic8', 'barrier': 6}}}, 'order': {'single': {'upper': {'indicator': 'ppo32', 'barrier': 19}, 'lower': {'indicator': 'adx16', 'barrier': 22}, 'best': {'type': 'upper', 'indicator': 'ppo32', 'barrier': 19}}}}\n",
      "Key in forward opt json 15-04 - 12-month - order - 1679\n"
     ]
    },
    {
     "name": "stderr",
     "output_type": "stream",
     "text": [
      "\r",
      " 73%|███████▎  | 724/996 [4:55:09<2:11:50, 29.08s/it]"
     ]
    },
    {
     "name": "stdout",
     "output_type": "stream",
     "text": [
      "15-04 - 12-month - order\n",
      "{'mean': {'single': {'upper': {'indicator': 'stochastic8', 'barrier': 7}, 'lower': {'indicator': 'ppo16', 'barrier': 34}, 'best': {'type': 'upper', 'indicator': 'stochastic8', 'barrier': 7}}}, 'order': {'single': {'upper': {'indicator': 'stochastic32', 'barrier': 43}, 'lower': {'indicator': 'ppo8', 'barrier': 5}, 'best': {'type': 'upper', 'indicator': 'stochastic32', 'barrier': 43}}}}\n",
      "Key in forward opt json 15-05 - 6-month - mean - 203\n"
     ]
    },
    {
     "name": "stderr",
     "output_type": "stream",
     "text": [
      "\r",
      " 73%|███████▎  | 725/996 [4:55:28<1:58:34, 26.25s/it]"
     ]
    },
    {
     "name": "stdout",
     "output_type": "stream",
     "text": [
      "15-05 - 6-month - mean\n",
      "{'mean': {'single': {'upper': {'indicator': 'stochastic32', 'barrier': 9}, 'lower': {'indicator': 'adx16', 'barrier': 36}, 'best': {'type': 'upper', 'indicator': 'stochastic32', 'barrier': 9}}}, 'order': {'single': {'upper': {'indicator': 'adx32', 'barrier': 29}, 'lower': {'indicator': 'stochastic16', 'barrier': 3}, 'best': {'type': 'upper', 'indicator': 'adx32', 'barrier': 29}}}}\n",
      "Key in forward opt json 15-05 - 6-month - order - 746\n"
     ]
    },
    {
     "name": "stderr",
     "output_type": "stream",
     "text": [
      "\r",
      " 73%|███████▎  | 726/996 [4:55:53<1:55:40, 25.71s/it]"
     ]
    },
    {
     "name": "stdout",
     "output_type": "stream",
     "text": [
      "15-05 - 6-month - order\n",
      "{'mean': {'single': {'upper': {'indicator': 'stochastic16', 'barrier': 40}, 'lower': {'indicator': 'ppo32', 'barrier': 18}, 'best': {'type': 'upper', 'indicator': 'stochastic16', 'barrier': 40}}}, 'order': {'single': {'upper': {'indicator': 'stochastic16', 'barrier': 68}, 'lower': {'indicator': 'stochastic8', 'barrier': 38}, 'best': {'type': 'upper', 'indicator': 'stochastic16', 'barrier': 68}}}}\n",
      "Key in forward opt json 15-05 - 12-month - mean - 118\n"
     ]
    },
    {
     "name": "stderr",
     "output_type": "stream",
     "text": [
      "\r",
      " 73%|███████▎  | 727/996 [4:56:13<1:47:27, 23.97s/it]"
     ]
    },
    {
     "name": "stdout",
     "output_type": "stream",
     "text": [
      "15-05 - 12-month - mean\n",
      "{'mean': {'single': {'upper': {'indicator': 'stochastic8', 'barrier': 6}, 'lower': {'indicator': 'ppo8', 'barrier': 13}, 'best': {'type': 'upper', 'indicator': 'stochastic8', 'barrier': 6}}}, 'order': {'single': {'upper': {'indicator': 'ppo8', 'barrier': 15}, 'lower': {'indicator': 'adx16', 'barrier': 22}, 'best': {'type': 'upper', 'indicator': 'ppo8', 'barrier': 15}}}}\n",
      "Key in forward opt json 15-05 - 12-month - order - 1196\n"
     ]
    },
    {
     "name": "stderr",
     "output_type": "stream",
     "text": [
      "\r",
      " 73%|███████▎  | 728/996 [4:56:43<1:55:38, 25.89s/it]"
     ]
    },
    {
     "name": "stdout",
     "output_type": "stream",
     "text": [
      "15-05 - 12-month - order\n",
      "{'mean': {'single': {'upper': {'indicator': 'stochastic16', 'barrier': 10}, 'lower': {'indicator': 'ppo8', 'barrier': 33}, 'best': {'type': 'upper', 'indicator': 'stochastic16', 'barrier': 10}}}, 'order': {'single': {'upper': {'indicator': 'stochastic16', 'barrier': 64}, 'lower': {'indicator': 'stochastic16', 'barrier': 18}, 'best': {'type': 'upper', 'indicator': 'stochastic16', 'barrier': 64}}}}\n",
      "Key in forward opt json 15-06 - 6-month - mean - 206\n"
     ]
    },
    {
     "name": "stderr",
     "output_type": "stream",
     "text": [
      "\r",
      " 73%|███████▎  | 729/996 [4:57:03<1:47:06, 24.07s/it]"
     ]
    },
    {
     "name": "stdout",
     "output_type": "stream",
     "text": [
      "15-06 - 6-month - mean\n",
      "{'mean': {'single': {'upper': {'indicator': 'stochastic32', 'barrier': 7}, 'lower': {'indicator': 'ppo32', 'barrier': 16}, 'best': {'type': 'upper', 'indicator': 'stochastic32', 'barrier': 7}}}, 'order': {'single': {'upper': {'indicator': 'stochastic32', 'barrier': 71}, 'lower': {'indicator': 'stochastic16', 'barrier': 5}, 'best': {'type': 'upper', 'indicator': 'stochastic32', 'barrier': 71}}}}\n",
      "Key in forward opt json 15-06 - 6-month - order - 379\n"
     ]
    },
    {
     "name": "stderr",
     "output_type": "stream",
     "text": [
      "\r",
      " 73%|███████▎  | 730/996 [4:57:23<1:41:50, 22.97s/it]"
     ]
    },
    {
     "name": "stdout",
     "output_type": "stream",
     "text": [
      "15-06 - 6-month - order\n",
      "{'mean': {'single': {'upper': {'indicator': 'stochastic8', 'barrier': 4}, 'lower': {'indicator': 'adx16', 'barrier': 38}, 'best': {'type': 'upper', 'indicator': 'stochastic8', 'barrier': 4}}}, 'order': {'single': {'upper': {'indicator': 'adx16', 'barrier': 28}, 'lower': {'indicator': 'adx8', 'barrier': 24}, 'best': {'type': 'upper', 'indicator': 'adx16', 'barrier': 28}}}}\n",
      "Key in forward opt json 15-06 - 12-month - mean - 121\n"
     ]
    },
    {
     "name": "stderr",
     "output_type": "stream",
     "text": [
      "\r",
      " 73%|███████▎  | 731/996 [4:57:43<1:37:07, 21.99s/it]"
     ]
    },
    {
     "name": "stdout",
     "output_type": "stream",
     "text": [
      "15-06 - 12-month - mean\n",
      "{'mean': {'single': {'upper': {'indicator': 'stochastic8', 'barrier': 6}, 'lower': {'indicator': 'ppo8', 'barrier': 13}, 'best': {'type': 'upper', 'indicator': 'stochastic8', 'barrier': 6}}}, 'order': {'single': {'upper': {'indicator': 'ppo8', 'barrier': 17}, 'lower': {'indicator': 'adx16', 'barrier': 22}, 'best': {'type': 'upper', 'indicator': 'ppo8', 'barrier': 17}}}}\n",
      "Key in forward opt json 15-06 - 12-month - order - 1070\n"
     ]
    },
    {
     "name": "stderr",
     "output_type": "stream",
     "text": [
      "\r",
      " 73%|███████▎  | 732/996 [4:58:11<1:44:28, 23.74s/it]"
     ]
    },
    {
     "name": "stdout",
     "output_type": "stream",
     "text": [
      "15-06 - 12-month - order\n",
      "{'mean': {'single': {'upper': {'indicator': 'stochastic8', 'barrier': 7}, 'lower': {'indicator': 'ppo16', 'barrier': 21}, 'best': {'type': 'upper', 'indicator': 'stochastic8', 'barrier': 7}}}, 'order': {'single': {'upper': {'indicator': 'ppo16', 'barrier': 11}, 'lower': {'indicator': 'stochastic8', 'barrier': 23}, 'best': {'type': 'upper', 'indicator': 'ppo16', 'barrier': 11}}}}\n",
      "Key in forward opt json 15-07 - 6-month - mean - 207\n"
     ]
    },
    {
     "name": "stderr",
     "output_type": "stream",
     "text": [
      "\r",
      " 74%|███████▎  | 733/996 [4:58:30<1:38:43, 22.52s/it]"
     ]
    },
    {
     "name": "stdout",
     "output_type": "stream",
     "text": [
      "15-07 - 6-month - mean\n",
      "{'mean': {'single': {'upper': {'indicator': 'stochastic32', 'barrier': 7}, 'lower': {'indicator': 'ppo32', 'barrier': 16}, 'best': {'type': 'upper', 'indicator': 'stochastic32', 'barrier': 7}}}, 'order': {'single': {'upper': {'indicator': 'adx16', 'barrier': 49}, 'lower': {'indicator': 'adx8', 'barrier': 14}, 'best': {'type': 'upper', 'indicator': 'adx16', 'barrier': 49}}}}\n",
      "Key in forward opt json 15-07 - 6-month - order - 559\n"
     ]
    },
    {
     "name": "stderr",
     "output_type": "stream",
     "text": [
      "\r",
      " 74%|███████▎  | 734/996 [4:58:53<1:38:09, 22.48s/it]"
     ]
    },
    {
     "name": "stdout",
     "output_type": "stream",
     "text": [
      "15-07 - 6-month - order\n",
      "{'mean': {'single': {'upper': {'indicator': 'stochastic8', 'barrier': 13}, 'lower': {'indicator': 'adx16', 'barrier': 39}, 'best': {'type': 'upper', 'indicator': 'stochastic8', 'barrier': 13}}}, 'order': {'single': {'upper': {'indicator': 'adx8', 'barrier': 30}, 'lower': {'indicator': 'stochastic32', 'barrier': 45}, 'best': {'type': 'upper', 'indicator': 'adx8', 'barrier': 30}}}}\n",
      "Key in forward opt json 15-07 - 12-month - mean - 98\n"
     ]
    },
    {
     "name": "stderr",
     "output_type": "stream",
     "text": [
      "\r",
      " 74%|███████▍  | 735/996 [4:59:13<1:34:21, 21.69s/it]"
     ]
    },
    {
     "name": "stdout",
     "output_type": "stream",
     "text": [
      "15-07 - 12-month - mean\n",
      "{'mean': {'single': {'upper': {'indicator': 'stochastic8', 'barrier': 6}, 'lower': {'indicator': 'ppo8', 'barrier': 10}, 'best': {'type': 'upper', 'indicator': 'stochastic8', 'barrier': 6}}}, 'order': {'single': {'upper': {'indicator': 'stochastic32', 'barrier': 54}, 'lower': {'indicator': 'adx8', 'barrier': 23}, 'best': {'type': 'upper', 'indicator': 'stochastic32', 'barrier': 54}}}}\n",
      "Key in forward opt json 15-07 - 12-month - order - 1054\n"
     ]
    },
    {
     "name": "stderr",
     "output_type": "stream",
     "text": [
      "\r",
      " 74%|███████▍  | 736/996 [4:59:40<1:41:10, 23.35s/it]"
     ]
    },
    {
     "name": "stdout",
     "output_type": "stream",
     "text": [
      "15-07 - 12-month - order\n",
      "{'mean': {'single': {'upper': {'indicator': 'stochastic16', 'barrier': 9}, 'lower': {'indicator': 'ppo16', 'barrier': 21}, 'best': {'type': 'upper', 'indicator': 'stochastic16', 'barrier': 9}}}, 'order': {'single': {'upper': {'indicator': 'stochastic8', 'barrier': 39}, 'lower': {'indicator': 'ppo8', 'barrier': -2}, 'best': {'type': 'upper', 'indicator': 'stochastic8', 'barrier': 39}}}}\n",
      "Key in forward opt json 15-08 - 6-month - mean - 63\n"
     ]
    },
    {
     "name": "stderr",
     "output_type": "stream",
     "text": [
      "\r",
      " 74%|███████▍  | 737/996 [5:00:00<1:36:07, 22.27s/it]"
     ]
    },
    {
     "name": "stdout",
     "output_type": "stream",
     "text": [
      "15-08 - 6-month - mean\n",
      "{'mean': {'single': {'upper': {'indicator': 'adx16', 'barrier': 16}, 'lower': {'indicator': 'stochastic8', 'barrier': 19}, 'best': {'type': 'upper', 'indicator': 'adx16', 'barrier': 16}}}, 'order': {'single': {'upper': {'indicator': 'adx32', 'barrier': 31}, 'lower': {'indicator': 'ppo8', 'barrier': 3}, 'best': {'type': 'upper', 'indicator': 'adx32', 'barrier': 31}}}}\n",
      "Key in forward opt json 15-08 - 6-month - order - 499\n"
     ]
    },
    {
     "name": "stderr",
     "output_type": "stream",
     "text": [
      "\r",
      " 74%|███████▍  | 738/996 [5:00:21<1:34:36, 22.00s/it]"
     ]
    },
    {
     "name": "stdout",
     "output_type": "stream",
     "text": [
      "15-08 - 6-month - order\n",
      "{'mean': {'single': {'upper': {'indicator': 'stochastic8', 'barrier': 9}, 'lower': {'indicator': 'stochastic32', 'barrier': 87}, 'best': {'type': 'upper', 'indicator': 'stochastic8', 'barrier': 9}}}, 'order': {'single': {'upper': {'indicator': 'stochastic32', 'barrier': 73}, 'lower': {'indicator': 'ppo8', 'barrier': 6}, 'best': {'type': 'upper', 'indicator': 'stochastic32', 'barrier': 73}}}}\n",
      "Key in forward opt json 15-08 - 12-month - mean - 105\n"
     ]
    },
    {
     "name": "stderr",
     "output_type": "stream",
     "text": [
      "\r",
      " 74%|███████▍  | 739/996 [5:00:41<1:31:18, 21.32s/it]"
     ]
    },
    {
     "name": "stdout",
     "output_type": "stream",
     "text": [
      "15-08 - 12-month - mean\n",
      "{'mean': {'single': {'upper': {'indicator': 'stochastic32', 'barrier': 8}, 'lower': {'indicator': 'ppo32', 'barrier': 15}, 'best': {'type': 'upper', 'indicator': 'stochastic32', 'barrier': 8}}}, 'order': {'single': {'upper': {'indicator': 'stochastic32', 'barrier': 24}, 'lower': {'indicator': 'adx16', 'barrier': 16}, 'best': {'type': 'upper', 'indicator': 'stochastic32', 'barrier': 24}}}}\n",
      "Key in forward opt json 15-08 - 12-month - order - 1457\n"
     ]
    },
    {
     "name": "stderr",
     "output_type": "stream",
     "text": [
      "\r",
      " 74%|███████▍  | 740/996 [5:01:17<1:50:46, 25.96s/it]"
     ]
    },
    {
     "name": "stdout",
     "output_type": "stream",
     "text": [
      "15-08 - 12-month - order\n",
      "{'mean': {'single': {'upper': {'indicator': 'adx16', 'barrier': 9}, 'lower': {'indicator': 'adx32', 'barrier': 38}, 'best': {'type': 'upper', 'indicator': 'adx16', 'barrier': 9}}}, 'order': {'single': {'upper': {'indicator': 'stochastic16', 'barrier': 85}, 'lower': {'indicator': 'adx8', 'barrier': 20}, 'best': {'type': 'upper', 'indicator': 'stochastic16', 'barrier': 85}}}}\n",
      "Key in forward opt json 15-09 - 6-month - mean - 40\n"
     ]
    },
    {
     "name": "stderr",
     "output_type": "stream",
     "text": [
      "\r",
      " 74%|███████▍  | 741/996 [5:01:37<1:41:31, 23.89s/it]"
     ]
    },
    {
     "name": "stdout",
     "output_type": "stream",
     "text": [
      "15-09 - 6-month - mean\n",
      "{'mean': {'single': {'upper': {'indicator': 'adx8', 'barrier': 30}, 'lower': {'indicator': 'adx16', 'barrier': 25}, 'best': {'type': 'upper', 'indicator': 'adx8', 'barrier': 30}}}, 'order': {'single': {'upper': {'indicator': 'stochastic32', 'barrier': 41}, 'lower': {'indicator': 'adx32', 'barrier': 11}, 'best': {'type': 'upper', 'indicator': 'stochastic32', 'barrier': 41}}}}\n",
      "Key in forward opt json 15-09 - 6-month - order - 273\n"
     ]
    },
    {
     "name": "stderr",
     "output_type": "stream",
     "text": [
      "\r",
      " 74%|███████▍  | 742/996 [5:01:57<1:36:47, 22.87s/it]"
     ]
    },
    {
     "name": "stdout",
     "output_type": "stream",
     "text": [
      "15-09 - 6-month - order\n",
      "{'mean': {'single': {'upper': {'indicator': 'stochastic8', 'barrier': 5}, 'lower': {'indicator': 'ppo16', 'barrier': 21}, 'best': {'type': 'upper', 'indicator': 'stochastic8', 'barrier': 5}}}, 'order': {'single': {'upper': {'indicator': 'stochastic8', 'barrier': 29}, 'lower': {'indicator': 'ppo32', 'barrier': 5}, 'best': {'type': 'upper', 'indicator': 'stochastic8', 'barrier': 29}}}}\n",
      "Key in forward opt json 15-09 - 12-month - mean - 104\n"
     ]
    },
    {
     "name": "stderr",
     "output_type": "stream",
     "text": [
      "\r",
      " 75%|███████▍  | 743/996 [5:02:16<1:32:04, 21.83s/it]"
     ]
    },
    {
     "name": "stdout",
     "output_type": "stream",
     "text": [
      "15-09 - 12-month - mean\n",
      "{'mean': {'single': {'upper': {'indicator': 'stochastic32', 'barrier': 8}, 'lower': {'indicator': 'ppo16', 'barrier': 14}, 'best': {'type': 'upper', 'indicator': 'stochastic32', 'barrier': 8}}}, 'order': {'single': {'upper': {'indicator': 'stochastic32', 'barrier': 40}, 'lower': {'indicator': 'adx8', 'barrier': 22}, 'best': {'type': 'upper', 'indicator': 'stochastic32', 'barrier': 40}}}}\n",
      "Key in forward opt json 15-09 - 12-month - order - 770\n"
     ]
    },
    {
     "name": "stderr",
     "output_type": "stream",
     "text": [
      "\r",
      " 75%|███████▍  | 744/996 [5:02:39<1:33:03, 22.16s/it]"
     ]
    },
    {
     "name": "stdout",
     "output_type": "stream",
     "text": [
      "15-09 - 12-month - order\n",
      "{'mean': {'single': {'upper': {'indicator': 'stochastic32', 'barrier': 6}, 'lower': {'indicator': 'ppo32', 'barrier': 26}, 'best': {'type': 'upper', 'indicator': 'stochastic32', 'barrier': 6}}}, 'order': {'single': {'upper': {'indicator': 'ppo16', 'barrier': 14}, 'lower': {'indicator': 'adx16', 'barrier': 16}, 'best': {'type': 'upper', 'indicator': 'ppo16', 'barrier': 14}}}}\n",
      "Key in forward opt json 15-10 - 6-month - mean - 43\n"
     ]
    },
    {
     "name": "stderr",
     "output_type": "stream",
     "text": [
      "\r",
      " 75%|███████▍  | 745/996 [5:02:59<1:29:00, 21.28s/it]"
     ]
    },
    {
     "name": "stdout",
     "output_type": "stream",
     "text": [
      "15-10 - 6-month - mean\n",
      "{'mean': {'single': {'upper': {'indicator': 'adx8', 'barrier': 30}, 'lower': {'indicator': 'ppo8', 'barrier': 8}, 'best': {'type': 'upper', 'indicator': 'adx8', 'barrier': 30}}}, 'order': {'single': {'upper': {'indicator': 'adx8', 'barrier': 52}, 'lower': {'indicator': 'adx8', 'barrier': 24}, 'best': {'type': 'upper', 'indicator': 'adx8', 'barrier': 52}}}}\n",
      "Key in forward opt json 15-10 - 6-month - order - 235\n"
     ]
    },
    {
     "name": "stderr",
     "output_type": "stream",
     "text": [
      "\r",
      " 75%|███████▍  | 746/996 [5:03:17<1:25:35, 20.54s/it]"
     ]
    },
    {
     "name": "stdout",
     "output_type": "stream",
     "text": [
      "15-10 - 6-month - order\n",
      "{'mean': {'single': {'upper': {'indicator': 'stochastic8', 'barrier': 7}, 'lower': {'indicator': 'ppo32', 'barrier': 19}, 'best': {'type': 'upper', 'indicator': 'stochastic8', 'barrier': 7}}}, 'order': {'single': {'upper': {'indicator': 'stochastic8', 'barrier': 31}, 'lower': {'indicator': 'ppo8', 'barrier': 3}, 'best': {'type': 'upper', 'indicator': 'stochastic8', 'barrier': 31}}}}\n",
      "Key in forward opt json 15-10 - 12-month - mean - 95\n"
     ]
    },
    {
     "name": "stderr",
     "output_type": "stream",
     "text": [
      "\r",
      " 75%|███████▌  | 747/996 [5:03:37<1:23:44, 20.18s/it]"
     ]
    },
    {
     "name": "stdout",
     "output_type": "stream",
     "text": [
      "15-10 - 12-month - mean\n",
      "{'mean': {'single': {'upper': {'indicator': 'stochastic8', 'barrier': 5}, 'lower': {'indicator': 'ppo16', 'barrier': 14}, 'best': {'type': 'upper', 'indicator': 'stochastic8', 'barrier': 5}}}, 'order': {'single': {'upper': {'indicator': 'stochastic32', 'barrier': 40}, 'lower': {'indicator': 'ppo8', 'barrier': 2}, 'best': {'type': 'upper', 'indicator': 'stochastic32', 'barrier': 40}}}}\n",
      "Key in forward opt json 15-10 - 12-month - order - 705\n"
     ]
    },
    {
     "name": "stderr",
     "output_type": "stream",
     "text": [
      "\r",
      " 75%|███████▌  | 748/996 [5:03:59<1:26:04, 20.83s/it]"
     ]
    },
    {
     "name": "stdout",
     "output_type": "stream",
     "text": [
      "15-10 - 12-month - order\n",
      "{'mean': {'single': {'upper': {'indicator': 'stochastic32', 'barrier': 6}, 'lower': {'indicator': 'ppo32', 'barrier': 24}, 'best': {'type': 'upper', 'indicator': 'stochastic32', 'barrier': 6}}}, 'order': {'single': {'upper': {'indicator': 'stochastic8', 'barrier': 20}, 'lower': {'indicator': 'stochastic16', 'barrier': 12}, 'best': {'type': 'upper', 'indicator': 'stochastic8', 'barrier': 20}}}}\n",
      "Key in forward opt json 15-11 - 6-month - mean - 38\n"
     ]
    },
    {
     "name": "stderr",
     "output_type": "stream",
     "text": [
      "\r",
      " 75%|███████▌  | 749/996 [5:04:19<1:24:17, 20.48s/it]"
     ]
    },
    {
     "name": "stdout",
     "output_type": "stream",
     "text": [
      "15-11 - 6-month - mean\n",
      "{'mean': {'single': {'upper': {'indicator': 'adx8', 'barrier': 30}, 'lower': {'indicator': 'ppo8', 'barrier': 8}, 'best': {'type': 'upper', 'indicator': 'adx8', 'barrier': 30}}}, 'order': {'single': {'upper': {'indicator': 'adx8', 'barrier': 52}, 'lower': {'indicator': 'adx8', 'barrier': 20}, 'best': {'type': 'upper', 'indicator': 'adx8', 'barrier': 52}}}}\n",
      "Key in forward opt json 15-11 - 6-month - order - 570\n"
     ]
    },
    {
     "name": "stderr",
     "output_type": "stream",
     "text": [
      "\r",
      " 75%|███████▌  | 750/996 [5:04:40<1:25:22, 20.82s/it]"
     ]
    },
    {
     "name": "stdout",
     "output_type": "stream",
     "text": [
      "15-11 - 6-month - order\n",
      "{'mean': {'single': {'upper': {'indicator': 'ppo32', 'barrier': 2}, 'lower': {'indicator': 'stochastic16', 'barrier': 86}, 'best': {'type': 'upper', 'indicator': 'ppo32', 'barrier': 2}}}, 'order': {'single': {'upper': {'indicator': 'adx8', 'barrier': 52}, 'lower': {'indicator': 'adx32', 'barrier': 10}, 'best': {'type': 'upper', 'indicator': 'adx8', 'barrier': 52}}}}\n",
      "Key in forward opt json 15-11 - 12-month - mean - 50\n"
     ]
    },
    {
     "name": "stderr",
     "output_type": "stream",
     "text": [
      "\r",
      " 75%|███████▌  | 751/996 [5:05:00<1:23:32, 20.46s/it]"
     ]
    },
    {
     "name": "stdout",
     "output_type": "stream",
     "text": [
      "15-11 - 12-month - mean\n",
      "{'mean': {'single': {'upper': {'indicator': 'adx8', 'barrier': 30}, 'lower': {'indicator': 'stochastic32', 'barrier': 21}, 'best': {'type': 'upper', 'indicator': 'adx8', 'barrier': 30}}}, 'order': {'single': {'upper': {'indicator': 'stochastic8', 'barrier': 39}, 'lower': {'indicator': 'adx8', 'barrier': 22}, 'best': {'type': 'upper', 'indicator': 'stochastic8', 'barrier': 39}}}}\n",
      "Key in forward opt json 15-11 - 12-month - order - 625\n"
     ]
    },
    {
     "name": "stderr",
     "output_type": "stream",
     "text": [
      "\r",
      " 76%|███████▌  | 752/996 [5:05:21<1:24:32, 20.79s/it]"
     ]
    },
    {
     "name": "stdout",
     "output_type": "stream",
     "text": [
      "15-11 - 12-month - order\n",
      "{'mean': {'single': {'upper': {'indicator': 'stochastic32', 'barrier': 5}, 'lower': {'indicator': 'ppo16', 'barrier': 25}, 'best': {'type': 'upper', 'indicator': 'stochastic32', 'barrier': 5}}}, 'order': {'single': {'upper': {'indicator': 'stochastic32', 'barrier': 57}, 'lower': {'indicator': 'adx16', 'barrier': 18}, 'best': {'type': 'upper', 'indicator': 'stochastic32', 'barrier': 57}}}}\n"
     ]
    },
    {
     "name": "stderr",
     "output_type": "stream",
     "text": [
      "\r",
      " 76%|███████▌  | 753/996 [5:05:40<1:21:44, 20.18s/it]"
     ]
    },
    {
     "name": "stdout",
     "output_type": "stream",
     "text": [
      "Key in forward opt json 15-12 - 6-month - mean - 18\n",
      "15-12 - 6-month - mean\n",
      "{'mean': {'single': {'upper': {'indicator': 'stochastic32', 'barrier': 41}, 'lower': {'indicator': 'adx16', 'barrier': 21}, 'best': {'type': 'upper', 'indicator': 'stochastic32', 'barrier': 41}}}, 'order': {'single': {'upper': {'indicator': 'adx8', 'barrier': 51}, 'lower': {'indicator': 'stochastic8', 'barrier': 3}, 'best': {'type': 'upper', 'indicator': 'adx8', 'barrier': 51}}}}\n",
      "Key in forward opt json 15-12 - 6-month - order - 515\n"
     ]
    },
    {
     "name": "stderr",
     "output_type": "stream",
     "text": [
      "\r",
      " 76%|███████▌  | 754/996 [5:06:02<1:23:11, 20.63s/it]"
     ]
    },
    {
     "name": "stdout",
     "output_type": "stream",
     "text": [
      "15-12 - 6-month - order\n",
      "{'mean': {'single': {'upper': {'indicator': 'ppo16', 'barrier': 2}, 'lower': {'indicator': 'stochastic8', 'barrier': 86}, 'best': {'type': 'upper', 'indicator': 'ppo16', 'barrier': 2}}}, 'order': {'single': {'upper': {'indicator': 'adx8', 'barrier': 52}, 'lower': {'indicator': 'stochastic32', 'barrier': 14}, 'best': {'type': 'upper', 'indicator': 'adx8', 'barrier': 52}}}}\n",
      "Key in forward opt json 15-12 - 12-month - mean - 50\n"
     ]
    },
    {
     "name": "stderr",
     "output_type": "stream",
     "text": [
      "\r",
      " 76%|███████▌  | 755/996 [5:06:21<1:20:47, 20.11s/it]"
     ]
    },
    {
     "name": "stdout",
     "output_type": "stream",
     "text": [
      "15-12 - 12-month - mean\n",
      "{'mean': {'single': {'upper': {'indicator': 'adx8', 'barrier': 30}, 'lower': {'indicator': 'stochastic32', 'barrier': 21}, 'best': {'type': 'upper', 'indicator': 'adx8', 'barrier': 30}}}, 'order': {'single': {'upper': {'indicator': 'stochastic8', 'barrier': 39}, 'lower': {'indicator': 'adx8', 'barrier': 22}, 'best': {'type': 'upper', 'indicator': 'stochastic8', 'barrier': 39}}}}\n",
      "Key in forward opt json 15-12 - 12-month - order - 652\n"
     ]
    },
    {
     "name": "stderr",
     "output_type": "stream",
     "text": [
      "\r",
      " 76%|███████▌  | 756/996 [5:06:43<1:22:19, 20.58s/it]"
     ]
    },
    {
     "name": "stdout",
     "output_type": "stream",
     "text": [
      "15-12 - 12-month - order\n",
      "{'mean': {'single': {'upper': {'indicator': 'stochastic8', 'barrier': 4}, 'lower': {'indicator': 'adx16', 'barrier': 39}, 'best': {'type': 'upper', 'indicator': 'stochastic8', 'barrier': 4}}}, 'order': {'single': {'upper': {'indicator': 'stochastic8', 'barrier': 26}, 'lower': {'indicator': 'adx8', 'barrier': 16}, 'best': {'type': 'upper', 'indicator': 'stochastic8', 'barrier': 26}}}}\n",
      "Key in forward opt json 16-01 - 6-month - mean - 33\n"
     ]
    },
    {
     "name": "stderr",
     "output_type": "stream",
     "text": [
      "\r",
      " 76%|███████▌  | 757/996 [5:07:02<1:20:55, 20.32s/it]"
     ]
    },
    {
     "name": "stdout",
     "output_type": "stream",
     "text": [
      "16-01 - 6-month - mean\n",
      "{'mean': {'single': {'upper': {'indicator': 'adx8', 'barrier': 40}, 'lower': {'indicator': 'stochastic16', 'barrier': 21}, 'best': {'type': 'upper', 'indicator': 'adx8', 'barrier': 40}}}, 'order': {'single': {'upper': {'indicator': 'adx8', 'barrier': 54}, 'lower': {'indicator': 'adx8', 'barrier': 20}, 'best': {'type': 'upper', 'indicator': 'adx8', 'barrier': 54}}}}\n",
      "Key in forward opt json 16-01 - 6-month - order - 345\n"
     ]
    },
    {
     "name": "stderr",
     "output_type": "stream",
     "text": [
      "\r",
      " 76%|███████▌  | 758/996 [5:07:22<1:20:31, 20.30s/it]"
     ]
    },
    {
     "name": "stdout",
     "output_type": "stream",
     "text": [
      "16-01 - 6-month - order\n",
      "{'mean': {'single': {'upper': {'indicator': 'stochastic16', 'barrier': 21}, 'lower': {'indicator': 'stochastic32', 'barrier': 87}, 'best': {'type': 'upper', 'indicator': 'stochastic16', 'barrier': 21}}}, 'order': {'single': {'upper': {'indicator': 'ppo32', 'barrier': 16}, 'lower': {'indicator': 'ppo8', 'barrier': 0}, 'best': {'type': 'upper', 'indicator': 'ppo32', 'barrier': 16}}}}\n",
      "Key in forward opt json 16-01 - 12-month - mean - 46\n"
     ]
    },
    {
     "name": "stderr",
     "output_type": "stream",
     "text": [
      "\r",
      " 76%|███████▌  | 759/996 [5:07:42<1:18:53, 19.97s/it]"
     ]
    },
    {
     "name": "stdout",
     "output_type": "stream",
     "text": [
      "16-01 - 12-month - mean\n",
      "{'mean': {'single': {'upper': {'indicator': 'adx8', 'barrier': 30}, 'lower': {'indicator': 'ppo16', 'barrier': 8}, 'best': {'type': 'upper', 'indicator': 'adx8', 'barrier': 30}}}, 'order': {'single': {'upper': {'indicator': 'stochastic8', 'barrier': 39}, 'lower': {'indicator': 'adx32', 'barrier': 11}, 'best': {'type': 'upper', 'indicator': 'stochastic8', 'barrier': 39}}}}\n",
      "Key in forward opt json 16-01 - 12-month - order - 577\n"
     ]
    },
    {
     "name": "stderr",
     "output_type": "stream",
     "text": [
      "\r",
      " 76%|███████▋  | 760/996 [5:08:03<1:20:06, 20.37s/it]"
     ]
    },
    {
     "name": "stdout",
     "output_type": "stream",
     "text": [
      "16-01 - 12-month - order\n",
      "{'mean': {'single': {'upper': {'indicator': 'stochastic32', 'barrier': 39}, 'lower': {'indicator': 'stochastic8', 'barrier': 54}, 'best': {'type': 'upper', 'indicator': 'stochastic32', 'barrier': 39}}}, 'order': {'single': {'upper': {'indicator': 'stochastic32', 'barrier': 61}, 'lower': {'indicator': 'adx16', 'barrier': 13}, 'best': {'type': 'upper', 'indicator': 'stochastic32', 'barrier': 61}}}}\n",
      "Key in forward opt json 16-02 - 6-month - mean - 48\n"
     ]
    },
    {
     "name": "stderr",
     "output_type": "stream",
     "text": [
      "\r",
      " 76%|███████▋  | 761/996 [5:08:21<1:17:21, 19.75s/it]"
     ]
    },
    {
     "name": "stdout",
     "output_type": "stream",
     "text": [
      "16-02 - 6-month - mean\n",
      "{'mean': {'single': {'upper': {'indicator': 'adx8', 'barrier': 30}, 'lower': {'indicator': 'ppo8', 'barrier': 10}, 'best': {'type': 'upper', 'indicator': 'adx8', 'barrier': 30}}}, 'order': {'single': {'upper': {'indicator': 'adx8', 'barrier': 54}, 'lower': {'indicator': 'stochastic32', 'barrier': 15}, 'best': {'type': 'upper', 'indicator': 'adx8', 'barrier': 54}}}}\n",
      "Key in forward opt json 16-02 - 6-month - order - 340\n"
     ]
    },
    {
     "name": "stderr",
     "output_type": "stream",
     "text": [
      "\r",
      " 77%|███████▋  | 762/996 [5:08:41<1:16:50, 19.70s/it]"
     ]
    },
    {
     "name": "stdout",
     "output_type": "stream",
     "text": [
      "16-02 - 6-month - order\n",
      "{'mean': {'single': {'upper': {'indicator': 'adx8', 'barrier': 15}, 'lower': {'indicator': 'stochastic32', 'barrier': 87}, 'best': {'type': 'upper', 'indicator': 'adx8', 'barrier': 15}}}, 'order': {'single': {'upper': {'indicator': 'adx32', 'barrier': 27}, 'lower': {'indicator': 'adx32', 'barrier': 11}, 'best': {'type': 'upper', 'indicator': 'adx32', 'barrier': 27}}}}\n",
      "Key in forward opt json 16-02 - 12-month - mean - 69\n"
     ]
    },
    {
     "name": "stderr",
     "output_type": "stream",
     "text": [
      "\r",
      " 77%|███████▋  | 763/996 [5:09:00<1:15:36, 19.47s/it]"
     ]
    },
    {
     "name": "stdout",
     "output_type": "stream",
     "text": [
      "16-02 - 12-month - mean\n",
      "{'mean': {'single': {'upper': {'indicator': 'adx8', 'barrier': 30}, 'lower': {'indicator': 'ppo16', 'barrier': 10}, 'best': {'type': 'upper', 'indicator': 'adx8', 'barrier': 30}}}, 'order': {'single': {'upper': {'indicator': 'adx8', 'barrier': 52}, 'lower': {'indicator': 'ppo32', 'barrier': 5}, 'best': {'type': 'upper', 'indicator': 'adx8', 'barrier': 52}}}}\n",
      "Key in forward opt json 16-02 - 12-month - order - 376\n"
     ]
    },
    {
     "name": "stderr",
     "output_type": "stream",
     "text": [
      "\r",
      " 77%|███████▋  | 764/996 [5:09:20<1:15:33, 19.54s/it]"
     ]
    },
    {
     "name": "stdout",
     "output_type": "stream",
     "text": [
      "16-02 - 12-month - order\n",
      "{'mean': {'single': {'upper': {'indicator': 'adx16', 'barrier': 11}, 'lower': {'indicator': 'stochastic32', 'barrier': 67}, 'best': {'type': 'upper', 'indicator': 'adx16', 'barrier': 11}}}, 'order': {'single': {'upper': {'indicator': 'ppo8', 'barrier': 24}, 'lower': {'indicator': 'stochastic32', 'barrier': 3}, 'best': {'type': 'upper', 'indicator': 'ppo8', 'barrier': 24}}}}\n",
      "Key in forward opt json 16-03 - 6-month - mean - 31\n"
     ]
    },
    {
     "name": "stderr",
     "output_type": "stream",
     "text": [
      "\r",
      " 77%|███████▋  | 765/996 [5:09:38<1:14:29, 19.35s/it]"
     ]
    },
    {
     "name": "stdout",
     "output_type": "stream",
     "text": [
      "16-03 - 6-month - mean\n",
      "{'mean': {'single': {'upper': {'indicator': 'adx8', 'barrier': 35}, 'lower': {'indicator': 'stochastic32', 'barrier': 17}, 'best': {'type': 'upper', 'indicator': 'adx8', 'barrier': 35}}}, 'order': {'single': {'upper': {'indicator': 'adx8', 'barrier': 35}, 'lower': {'indicator': 'stochastic32', 'barrier': 15}, 'best': {'type': 'upper', 'indicator': 'adx8', 'barrier': 35}}}}\n",
      "Key in forward opt json 16-03 - 6-month - order - 415\n"
     ]
    },
    {
     "name": "stderr",
     "output_type": "stream",
     "text": [
      "\r",
      " 77%|███████▋  | 766/996 [5:09:59<1:15:36, 19.72s/it]"
     ]
    },
    {
     "name": "stdout",
     "output_type": "stream",
     "text": [
      "16-03 - 6-month - order\n",
      "{'mean': {'single': {'upper': {'indicator': 'ppo16', 'barrier': 1}, 'lower': {'indicator': 'stochastic16', 'barrier': 87}, 'best': {'type': 'upper', 'indicator': 'ppo16', 'barrier': 1}}}, 'order': {'single': {'upper': {'indicator': 'stochastic8', 'barrier': 78}, 'lower': {'indicator': 'ppo32', 'barrier': 2}, 'best': {'type': 'upper', 'indicator': 'stochastic8', 'barrier': 78}}}}\n",
      "Key in forward opt json 16-03 - 12-month - mean - 66\n"
     ]
    },
    {
     "name": "stderr",
     "output_type": "stream",
     "text": [
      "\r",
      " 77%|███████▋  | 767/996 [5:10:18<1:14:52, 19.62s/it]"
     ]
    },
    {
     "name": "stdout",
     "output_type": "stream",
     "text": [
      "16-03 - 12-month - mean\n",
      "{'mean': {'single': {'upper': {'indicator': 'adx8', 'barrier': 30}, 'lower': {'indicator': 'ppo16', 'barrier': 10}, 'best': {'type': 'upper', 'indicator': 'adx8', 'barrier': 30}}}, 'order': {'single': {'upper': {'indicator': 'adx8', 'barrier': 52}, 'lower': {'indicator': 'ppo8', 'barrier': 2}, 'best': {'type': 'upper', 'indicator': 'adx8', 'barrier': 52}}}}\n",
      "Key in forward opt json 16-03 - 12-month - order - 1095\n"
     ]
    },
    {
     "name": "stderr",
     "output_type": "stream",
     "text": [
      "\r",
      " 77%|███████▋  | 768/996 [5:10:47<1:24:24, 22.21s/it]"
     ]
    },
    {
     "name": "stdout",
     "output_type": "stream",
     "text": [
      "16-03 - 12-month - order\n",
      "{'mean': {'single': {'upper': {'indicator': 'adx16', 'barrier': 9}, 'lower': {'indicator': 'stochastic8', 'barrier': 87}, 'best': {'type': 'upper', 'indicator': 'adx16', 'barrier': 9}}}, 'order': {'single': {'upper': {'indicator': 'stochastic8', 'barrier': 81}, 'lower': {'indicator': 'ppo32', 'barrier': 0}, 'best': {'type': 'upper', 'indicator': 'stochastic8', 'barrier': 81}}}}\n",
      "Key in forward opt json 16-04 - 6-month - mean - 234\n"
     ]
    },
    {
     "name": "stderr",
     "output_type": "stream",
     "text": [
      "\r",
      " 77%|███████▋  | 769/996 [5:11:06<1:21:14, 21.48s/it]"
     ]
    },
    {
     "name": "stdout",
     "output_type": "stream",
     "text": [
      "16-04 - 6-month - mean\n",
      "{'mean': {'single': {'upper': {'indicator': 'ppo16', 'barrier': 2}, 'lower': {'indicator': 'stochastic16', 'barrier': 76}, 'best': {'type': 'upper', 'indicator': 'ppo16', 'barrier': 2}}}, 'order': {'single': {'upper': {'indicator': 'adx32', 'barrier': 29}, 'lower': {'indicator': 'stochastic8', 'barrier': 11}, 'best': {'type': 'upper', 'indicator': 'adx32', 'barrier': 29}}}}\n",
      "Key in forward opt json 16-04 - 6-month - order - 450\n"
     ]
    },
    {
     "name": "stderr",
     "output_type": "stream",
     "text": [
      "\r",
      " 77%|███████▋  | 770/996 [5:11:29<1:21:41, 21.69s/it]"
     ]
    },
    {
     "name": "stdout",
     "output_type": "stream",
     "text": [
      "16-04 - 6-month - order\n",
      "{'mean': {'single': {'upper': {'indicator': 'ppo16', 'barrier': 0}, 'lower': {'indicator': 'stochastic8', 'barrier': 81}, 'best': {'type': 'upper', 'indicator': 'ppo16', 'barrier': 0}}}, 'order': {'single': {'upper': {'indicator': 'ppo8', 'barrier': 12}, 'lower': {'indicator': 'stochastic32', 'barrier': 30}, 'best': {'type': 'upper', 'indicator': 'ppo8', 'barrier': 12}}}}\n",
      "Key in forward opt json 16-04 - 12-month - mean - 60\n"
     ]
    },
    {
     "name": "stderr",
     "output_type": "stream",
     "text": [
      "\r",
      " 77%|███████▋  | 771/996 [5:11:49<1:20:22, 21.43s/it]"
     ]
    },
    {
     "name": "stdout",
     "output_type": "stream",
     "text": [
      "16-04 - 12-month - mean\n",
      "{'mean': {'single': {'upper': {'indicator': 'adx8', 'barrier': 30}, 'lower': {'indicator': 'ppo16', 'barrier': 10}, 'best': {'type': 'upper', 'indicator': 'adx8', 'barrier': 30}}}, 'order': {'single': {'upper': {'indicator': 'adx8', 'barrier': 52}, 'lower': {'indicator': 'adx8', 'barrier': 20}, 'best': {'type': 'upper', 'indicator': 'adx8', 'barrier': 52}}}}\n",
      "Key in forward opt json 16-04 - 12-month - order - 1070\n"
     ]
    },
    {
     "name": "stderr",
     "output_type": "stream",
     "text": [
      "\r",
      " 78%|███████▊  | 772/996 [5:12:17<1:27:25, 23.42s/it]"
     ]
    },
    {
     "name": "stdout",
     "output_type": "stream",
     "text": [
      "16-04 - 12-month - order\n",
      "{'mean': {'single': {'upper': {'indicator': 'ppo32', 'barrier': -1}, 'lower': {'indicator': 'stochastic8', 'barrier': 86}, 'best': {'type': 'upper', 'indicator': 'ppo32', 'barrier': -1}}}, 'order': {'single': {'upper': {'indicator': 'adx32', 'barrier': 18}, 'lower': {'indicator': 'ppo32', 'barrier': -1}, 'best': {'type': 'upper', 'indicator': 'adx32', 'barrier': 18}}}}\n",
      "Key in forward opt json 16-05 - 6-month - mean - 26\n"
     ]
    },
    {
     "name": "stderr",
     "output_type": "stream",
     "text": [
      "\r",
      " 78%|███████▊  | 773/996 [5:12:37<1:22:14, 22.13s/it]"
     ]
    },
    {
     "name": "stdout",
     "output_type": "stream",
     "text": [
      "16-05 - 6-month - mean\n",
      "{'mean': {'single': {'upper': {'indicator': 'stochastic16', 'barrier': 9}, 'lower': {'indicator': 'ppo8', 'barrier': 9}, 'best': {'type': 'upper', 'indicator': 'stochastic16', 'barrier': 9}}}, 'order': {'single': {'upper': {'indicator': 'stochastic8', 'barrier': 32}, 'lower': {'indicator': 'adx8', 'barrier': 25}, 'best': {'type': 'upper', 'indicator': 'stochastic8', 'barrier': 32}}}}\n",
      "Key in forward opt json 16-05 - 6-month - order - 499\n"
     ]
    },
    {
     "name": "stderr",
     "output_type": "stream",
     "text": [
      "\r",
      " 78%|███████▊  | 774/996 [5:12:58<1:20:50, 21.85s/it]"
     ]
    },
    {
     "name": "stdout",
     "output_type": "stream",
     "text": [
      "16-05 - 6-month - order\n",
      "{'mean': {'single': {'upper': {'indicator': 'stochastic16', 'barrier': 13}, 'lower': {'indicator': 'ppo8', 'barrier': 21}, 'best': {'type': 'upper', 'indicator': 'stochastic16', 'barrier': 13}}}, 'order': {'single': {'upper': {'indicator': 'ppo16', 'barrier': 7}, 'lower': {'indicator': 'stochastic32', 'barrier': 80}, 'best': {'type': 'upper', 'indicator': 'ppo16', 'barrier': 7}}}}\n",
      "Key in forward opt json 16-05 - 12-month - mean - 58\n"
     ]
    },
    {
     "name": "stderr",
     "output_type": "stream",
     "text": [
      "\r",
      " 78%|███████▊  | 775/996 [5:13:17<1:17:34, 21.06s/it]"
     ]
    },
    {
     "name": "stdout",
     "output_type": "stream",
     "text": [
      "16-05 - 12-month - mean\n",
      "{'mean': {'single': {'upper': {'indicator': 'adx8', 'barrier': 30}, 'lower': {'indicator': 'ppo16', 'barrier': 10}, 'best': {'type': 'upper', 'indicator': 'adx8', 'barrier': 30}}}, 'order': {'single': {'upper': {'indicator': 'adx8', 'barrier': 52}, 'lower': {'indicator': 'stochastic8', 'barrier': 3}, 'best': {'type': 'upper', 'indicator': 'adx8', 'barrier': 52}}}}\n",
      "Key in forward opt json 16-05 - 12-month - order - 1063\n"
     ]
    },
    {
     "name": "stderr",
     "output_type": "stream",
     "text": [
      "\r",
      " 78%|███████▊  | 776/996 [5:13:45<1:24:31, 23.05s/it]"
     ]
    },
    {
     "name": "stdout",
     "output_type": "stream",
     "text": [
      "16-05 - 12-month - order\n",
      "{'mean': {'single': {'upper': {'indicator': 'stochastic16', 'barrier': 14}, 'lower': {'indicator': 'stochastic32', 'barrier': 94}, 'best': {'type': 'upper', 'indicator': 'stochastic16', 'barrier': 14}}}, 'order': {'single': {'upper': {'indicator': 'adx8', 'barrier': 46}, 'lower': {'indicator': 'stochastic32', 'barrier': 32}, 'best': {'type': 'upper', 'indicator': 'adx8', 'barrier': 46}}}}\n",
      "Key in forward opt json 16-06 - 6-month - mean - 30\n"
     ]
    },
    {
     "name": "stderr",
     "output_type": "stream",
     "text": [
      "\r",
      " 78%|███████▊  | 777/996 [5:14:04<1:19:40, 21.83s/it]"
     ]
    },
    {
     "name": "stdout",
     "output_type": "stream",
     "text": [
      "16-06 - 6-month - mean\n",
      "{'mean': {'single': {'upper': {'indicator': 'adx32', 'barrier': 11}, 'lower': {'indicator': 'ppo8', 'barrier': 9}, 'best': {'type': 'upper', 'indicator': 'adx32', 'barrier': 11}}}, 'order': {'single': {'upper': {'indicator': 'stochastic8', 'barrier': 32}, 'lower': {'indicator': 'adx8', 'barrier': 25}, 'best': {'type': 'upper', 'indicator': 'stochastic8', 'barrier': 32}}}}\n",
      "Key in forward opt json 16-06 - 6-month - order - 534\n"
     ]
    },
    {
     "name": "stderr",
     "output_type": "stream",
     "text": [
      "\r",
      " 78%|███████▊  | 778/996 [5:14:26<1:19:33, 21.90s/it]"
     ]
    },
    {
     "name": "stdout",
     "output_type": "stream",
     "text": [
      "16-06 - 6-month - order\n",
      "{'mean': {'single': {'upper': {'indicator': 'ppo8', 'barrier': 2}, 'lower': {'indicator': 'stochastic8', 'barrier': 84}, 'best': {'type': 'upper', 'indicator': 'ppo8', 'barrier': 2}}}, 'order': {'single': {'upper': {'indicator': 'adx16', 'barrier': 33}, 'lower': {'indicator': 'stochastic32', 'barrier': 9}, 'best': {'type': 'upper', 'indicator': 'adx16', 'barrier': 33}}}}\n",
      "Key in forward opt json 16-06 - 12-month - mean - 56\n"
     ]
    },
    {
     "name": "stderr",
     "output_type": "stream",
     "text": [
      "\r",
      " 78%|███████▊  | 779/996 [5:14:45<1:16:15, 21.08s/it]"
     ]
    },
    {
     "name": "stdout",
     "output_type": "stream",
     "text": [
      "16-06 - 12-month - mean\n",
      "{'mean': {'single': {'upper': {'indicator': 'adx8', 'barrier': 30}, 'lower': {'indicator': 'ppo8', 'barrier': 10}, 'best': {'type': 'upper', 'indicator': 'adx8', 'barrier': 30}}}, 'order': {'single': {'upper': {'indicator': 'stochastic32', 'barrier': 41}, 'lower': {'indicator': 'adx8', 'barrier': 20}, 'best': {'type': 'upper', 'indicator': 'stochastic32', 'barrier': 41}}}}\n",
      "Key in forward opt json 16-06 - 12-month - order - 1028\n"
     ]
    },
    {
     "name": "stderr",
     "output_type": "stream",
     "text": [
      "\r",
      " 78%|███████▊  | 780/996 [5:15:12<1:22:17, 22.86s/it]"
     ]
    },
    {
     "name": "stdout",
     "output_type": "stream",
     "text": [
      "16-06 - 12-month - order\n",
      "{'mean': {'single': {'upper': {'indicator': 'ppo8', 'barrier': 1}, 'lower': {'indicator': 'stochastic8', 'barrier': 86}, 'best': {'type': 'upper', 'indicator': 'ppo8', 'barrier': 1}}}, 'order': {'single': {'upper': {'indicator': 'stochastic8', 'barrier': 82}, 'lower': {'indicator': 'adx8', 'barrier': 28}, 'best': {'type': 'upper', 'indicator': 'stochastic8', 'barrier': 82}}}}\n",
      "Key in forward opt json 16-07 - 6-month - mean - 41\n"
     ]
    },
    {
     "name": "stderr",
     "output_type": "stream",
     "text": [
      "\r",
      " 78%|███████▊  | 781/996 [5:15:32<1:18:29, 21.91s/it]"
     ]
    },
    {
     "name": "stdout",
     "output_type": "stream",
     "text": [
      "16-07 - 6-month - mean\n",
      "{'mean': {'single': {'upper': {'indicator': 'ppo32', 'barrier': 10}, 'lower': {'indicator': 'stochastic8', 'barrier': 24}, 'best': {'type': 'upper', 'indicator': 'ppo32', 'barrier': 10}}}, 'order': {'single': {'upper': {'indicator': 'adx32', 'barrier': 23}, 'lower': {'indicator': 'adx8', 'barrier': 23}, 'best': {'type': 'upper', 'indicator': 'adx32', 'barrier': 23}}}}\n",
      "Key in forward opt json 16-07 - 6-month - order - 556\n"
     ]
    },
    {
     "name": "stderr",
     "output_type": "stream",
     "text": [
      "\r",
      " 79%|███████▊  | 782/996 [5:15:54<1:19:06, 22.18s/it]"
     ]
    },
    {
     "name": "stdout",
     "output_type": "stream",
     "text": [
      "16-07 - 6-month - order\n",
      "{'mean': {'single': {'upper': {'indicator': 'ppo8', 'barrier': 2}, 'lower': {'indicator': 'ppo8', 'barrier': 22}, 'best': {'type': 'upper', 'indicator': 'ppo8', 'barrier': 2}}}, 'order': {'single': {'upper': {'indicator': 'ppo16', 'barrier': 20}, 'lower': {'indicator': 'adx16', 'barrier': 17}, 'best': {'type': 'upper', 'indicator': 'ppo16', 'barrier': 20}}}}\n",
      "Key in forward opt json 16-07 - 12-month - mean - 88\n"
     ]
    },
    {
     "name": "stderr",
     "output_type": "stream",
     "text": [
      "\r",
      " 79%|███████▊  | 783/996 [5:16:14<1:15:48, 21.36s/it]"
     ]
    },
    {
     "name": "stdout",
     "output_type": "stream",
     "text": [
      "16-07 - 12-month - mean\n",
      "{'mean': {'single': {'upper': {'indicator': 'stochastic16', 'barrier': 9}, 'lower': {'indicator': 'stochastic8', 'barrier': 31}, 'best': {'type': 'upper', 'indicator': 'stochastic16', 'barrier': 9}}}, 'order': {'single': {'upper': {'indicator': 'stochastic16', 'barrier': 37}, 'lower': {'indicator': 'stochastic8', 'barrier': 3}, 'best': {'type': 'upper', 'indicator': 'stochastic16', 'barrier': 37}}}}\n",
      "Key in forward opt json 16-07 - 12-month - order - 1041\n"
     ]
    },
    {
     "name": "stderr",
     "output_type": "stream",
     "text": [
      "\r",
      " 79%|███████▊  | 784/996 [5:16:43<1:23:11, 23.55s/it]"
     ]
    },
    {
     "name": "stdout",
     "output_type": "stream",
     "text": [
      "16-07 - 12-month - order\n",
      "{'mean': {'single': {'upper': {'indicator': 'ppo32', 'barrier': 3}, 'lower': {'indicator': 'ppo8', 'barrier': 24}, 'best': {'type': 'upper', 'indicator': 'ppo32', 'barrier': 3}}}, 'order': {'single': {'upper': {'indicator': 'ppo32', 'barrier': 21}, 'lower': {'indicator': 'stochastic32', 'barrier': 19}, 'best': {'type': 'upper', 'indicator': 'ppo32', 'barrier': 21}}}}\n"
     ]
    },
    {
     "name": "stderr",
     "output_type": "stream",
     "text": [
      "\r",
      " 79%|███████▉  | 785/996 [5:17:01<1:17:33, 22.05s/it]"
     ]
    },
    {
     "name": "stdout",
     "output_type": "stream",
     "text": [
      "Key in forward opt json 16-08 - 6-month - mean - 10\n",
      "16-08 - 6-month - mean\n",
      "{'mean': {'single': {'upper': {'indicator': 'adx8', 'barrier': 48}, 'lower': {'indicator': 'adx8', 'barrier': 24}, 'best': {'type': 'upper', 'indicator': 'adx8', 'barrier': 48}}}, 'order': {'single': {'upper': {'indicator': 'adx8', 'barrier': 48}, 'lower': {'indicator': 'adx8', 'barrier': 24}, 'best': {'type': 'upper', 'indicator': 'adx8', 'barrier': 48}}}}\n",
      "Key in forward opt json 16-08 - 6-month - order - 461\n"
     ]
    },
    {
     "name": "stderr",
     "output_type": "stream",
     "text": [
      "\r",
      " 79%|███████▉  | 786/996 [5:17:23<1:17:14, 22.07s/it]"
     ]
    },
    {
     "name": "stdout",
     "output_type": "stream",
     "text": [
      "16-08 - 6-month - order\n",
      "{'mean': {'single': {'upper': {'indicator': 'ppo32', 'barrier': 0}, 'lower': {'indicator': 'ppo8', 'barrier': 16}, 'best': {'type': 'upper', 'indicator': 'ppo32', 'barrier': 0}}}, 'order': {'single': {'upper': {'indicator': 'adx8', 'barrier': 42}, 'lower': {'indicator': 'stochastic32', 'barrier': 28}, 'best': {'type': 'upper', 'indicator': 'adx8', 'barrier': 42}}}}\n",
      "Key in forward opt json 16-08 - 12-month - mean - 77\n"
     ]
    },
    {
     "name": "stderr",
     "output_type": "stream",
     "text": [
      "\r",
      " 79%|███████▉  | 787/996 [5:17:42<1:13:30, 21.10s/it]"
     ]
    },
    {
     "name": "stdout",
     "output_type": "stream",
     "text": [
      "16-08 - 12-month - mean\n",
      "{'mean': {'single': {'upper': {'indicator': 'adx8', 'barrier': 40}, 'lower': {'indicator': 'stochastic8', 'barrier': 31}, 'best': {'type': 'upper', 'indicator': 'adx8', 'barrier': 40}}}, 'order': {'single': {'upper': {'indicator': 'adx8', 'barrier': 52}, 'lower': {'indicator': 'adx8', 'barrier': 16}, 'best': {'type': 'upper', 'indicator': 'adx8', 'barrier': 52}}}}\n",
      "Key in forward opt json 16-08 - 12-month - order - 1106\n"
     ]
    },
    {
     "name": "stderr",
     "output_type": "stream",
     "text": [
      "\r",
      " 79%|███████▉  | 788/996 [5:18:12<1:21:58, 23.65s/it]"
     ]
    },
    {
     "name": "stdout",
     "output_type": "stream",
     "text": [
      "16-08 - 12-month - order\n",
      "{'mean': {'single': {'upper': {'indicator': 'stochastic8', 'barrier': 10}, 'lower': {'indicator': 'ppo32', 'barrier': 20}, 'best': {'type': 'upper', 'indicator': 'stochastic8', 'barrier': 10}}}, 'order': {'single': {'upper': {'indicator': 'ppo8', 'barrier': 28}, 'lower': {'indicator': 'stochastic8', 'barrier': 20}, 'best': {'type': 'upper', 'indicator': 'ppo8', 'barrier': 28}}}}\n",
      "Key in forward opt json 16-09 - 6-month - mean - 24\n"
     ]
    },
    {
     "name": "stderr",
     "output_type": "stream",
     "text": [
      "\r",
      " 79%|███████▉  | 789/996 [5:18:31<1:16:46, 22.26s/it]"
     ]
    },
    {
     "name": "stdout",
     "output_type": "stream",
     "text": [
      "16-09 - 6-month - mean\n",
      "{'mean': {'single': {'upper': {'indicator': 'adx16', 'barrier': 27}, 'lower': {'indicator': 'stochastic8', 'barrier': 16}, 'best': {'type': 'upper', 'indicator': 'adx16', 'barrier': 27}}}, 'order': {'single': {'upper': {'indicator': 'adx16', 'barrier': 31}, 'lower': {'indicator': 'adx16', 'barrier': 13}, 'best': {'type': 'upper', 'indicator': 'adx16', 'barrier': 31}}}}\n",
      "Key in forward opt json 16-09 - 6-month - order - 551\n"
     ]
    },
    {
     "name": "stderr",
     "output_type": "stream",
     "text": [
      "\r",
      " 79%|███████▉  | 790/996 [5:18:52<1:15:21, 21.95s/it]"
     ]
    },
    {
     "name": "stdout",
     "output_type": "stream",
     "text": [
      "16-09 - 6-month - order\n",
      "{'mean': {'single': {'upper': {'indicator': 'ppo32', 'barrier': -2}, 'lower': {'indicator': 'ppo16', 'barrier': 17}, 'best': {'type': 'upper', 'indicator': 'ppo32', 'barrier': -2}}}, 'order': {'single': {'upper': {'indicator': 'adx16', 'barrier': 30}, 'lower': {'indicator': 'stochastic32', 'barrier': 60}, 'best': {'type': 'upper', 'indicator': 'adx16', 'barrier': 30}}}}\n",
      "Key in forward opt json 16-09 - 12-month - mean - 67\n"
     ]
    },
    {
     "name": "stderr",
     "output_type": "stream",
     "text": [
      "\r",
      " 79%|███████▉  | 791/996 [5:19:11<1:11:44, 21.00s/it]"
     ]
    },
    {
     "name": "stdout",
     "output_type": "stream",
     "text": [
      "16-09 - 12-month - mean\n",
      "{'mean': {'single': {'upper': {'indicator': 'adx32', 'barrier': 11}, 'lower': {'indicator': 'stochastic8', 'barrier': 29}, 'best': {'type': 'upper', 'indicator': 'adx32', 'barrier': 11}}}, 'order': {'single': {'upper': {'indicator': 'stochastic32', 'barrier': 41}, 'lower': {'indicator': 'stochastic32', 'barrier': 3}, 'best': {'type': 'upper', 'indicator': 'stochastic32', 'barrier': 41}}}}\n",
      "Key in forward opt json 16-09 - 12-month - order - 788\n"
     ]
    },
    {
     "name": "stderr",
     "output_type": "stream",
     "text": [
      "\r",
      " 80%|███████▉  | 792/996 [5:19:35<1:14:56, 22.04s/it]"
     ]
    },
    {
     "name": "stdout",
     "output_type": "stream",
     "text": [
      "16-09 - 12-month - order\n",
      "{'mean': {'single': {'upper': {'indicator': 'ppo32', 'barrier': -2}, 'lower': {'indicator': 'ppo8', 'barrier': 18}, 'best': {'type': 'upper', 'indicator': 'ppo32', 'barrier': -2}}}, 'order': {'single': {'upper': {'indicator': 'ppo32', 'barrier': 10}, 'lower': {'indicator': 'stochastic32', 'barrier': 68}, 'best': {'type': 'upper', 'indicator': 'ppo32', 'barrier': 10}}}}\n",
      "Key in forward opt json 16-10 - 6-month - mean - 251\n"
     ]
    },
    {
     "name": "stderr",
     "output_type": "stream",
     "text": [
      "\r",
      " 80%|███████▉  | 793/996 [5:19:56<1:13:51, 21.83s/it]"
     ]
    },
    {
     "name": "stdout",
     "output_type": "stream",
     "text": [
      "16-10 - 6-month - mean\n",
      "{'mean': {'single': {'upper': {'indicator': 'ppo8', 'barrier': 3}, 'lower': {'indicator': 'stochastic8', 'barrier': 34}, 'best': {'type': 'upper', 'indicator': 'ppo8', 'barrier': 3}}}, 'order': {'single': {'upper': {'indicator': 'stochastic16', 'barrier': 32}, 'lower': {'indicator': 'stochastic16', 'barrier': 24}, 'best': {'type': 'upper', 'indicator': 'stochastic16', 'barrier': 32}}}}\n",
      "Key in forward opt json 16-10 - 6-month - order - 634\n"
     ]
    },
    {
     "name": "stderr",
     "output_type": "stream",
     "text": [
      "\r",
      " 80%|███████▉  | 794/996 [5:20:19<1:14:36, 22.16s/it]"
     ]
    },
    {
     "name": "stdout",
     "output_type": "stream",
     "text": [
      "16-10 - 6-month - order\n",
      "{'mean': {'single': {'upper': {'indicator': 'ppo32', 'barrier': 0}, 'lower': {'indicator': 'ppo8', 'barrier': 18}, 'best': {'type': 'upper', 'indicator': 'ppo32', 'barrier': 0}}}, 'order': {'single': {'upper': {'indicator': 'ppo16', 'barrier': 3}, 'lower': {'indicator': 'stochastic16', 'barrier': 54}, 'best': {'type': 'upper', 'indicator': 'ppo16', 'barrier': 3}}}}\n",
      "Key in forward opt json 16-10 - 12-month - mean - 91\n"
     ]
    },
    {
     "name": "stderr",
     "output_type": "stream",
     "text": [
      "\r",
      " 80%|███████▉  | 795/996 [5:20:39<1:11:28, 21.34s/it]"
     ]
    },
    {
     "name": "stdout",
     "output_type": "stream",
     "text": [
      "16-10 - 12-month - mean\n",
      "{'mean': {'single': {'upper': {'indicator': 'adx32', 'barrier': 10}, 'lower': {'indicator': 'stochastic8', 'barrier': 30}, 'best': {'type': 'upper', 'indicator': 'adx32', 'barrier': 10}}}, 'order': {'single': {'upper': {'indicator': 'stochastic16', 'barrier': 36}, 'lower': {'indicator': 'adx8', 'barrier': 23}, 'best': {'type': 'upper', 'indicator': 'stochastic16', 'barrier': 36}}}}\n",
      "Key in forward opt json 16-10 - 12-month - order - 865\n"
     ]
    },
    {
     "name": "stderr",
     "output_type": "stream",
     "text": [
      "\r",
      " 80%|███████▉  | 796/996 [5:21:05<1:16:00, 22.80s/it]"
     ]
    },
    {
     "name": "stdout",
     "output_type": "stream",
     "text": [
      "16-10 - 12-month - order\n",
      "{'mean': {'single': {'upper': {'indicator': 'ppo32', 'barrier': -2}, 'lower': {'indicator': 'ppo8', 'barrier': 18}, 'best': {'type': 'upper', 'indicator': 'ppo32', 'barrier': -2}}}, 'order': {'single': {'upper': {'indicator': 'stochastic16', 'barrier': 74}, 'lower': {'indicator': 'stochastic16', 'barrier': 38}, 'best': {'type': 'upper', 'indicator': 'stochastic16', 'barrier': 74}}}}\n",
      "Key in forward opt json 16-11 - 6-month - mean - 92\n"
     ]
    },
    {
     "name": "stderr",
     "output_type": "stream",
     "text": [
      "\r",
      " 80%|████████  | 797/996 [5:21:25<1:12:32, 21.87s/it]"
     ]
    },
    {
     "name": "stdout",
     "output_type": "stream",
     "text": [
      "16-11 - 6-month - mean\n",
      "{'mean': {'single': {'upper': {'indicator': 'stochastic8', 'barrier': 6}, 'lower': {'indicator': 'stochastic8', 'barrier': 32}, 'best': {'type': 'upper', 'indicator': 'stochastic8', 'barrier': 6}}}, 'order': {'single': {'upper': {'indicator': 'adx16', 'barrier': 30}, 'lower': {'indicator': 'adx8', 'barrier': 21}, 'best': {'type': 'upper', 'indicator': 'adx16', 'barrier': 30}}}}\n",
      "Key in forward opt json 16-11 - 6-month - order - 610\n"
     ]
    },
    {
     "name": "stderr",
     "output_type": "stream",
     "text": [
      "\r",
      " 80%|████████  | 798/996 [5:21:47<1:12:35, 22.00s/it]"
     ]
    },
    {
     "name": "stdout",
     "output_type": "stream",
     "text": [
      "16-11 - 6-month - order\n",
      "{'mean': {'single': {'upper': {'indicator': 'ppo8', 'barrier': 1}, 'lower': {'indicator': 'ppo8', 'barrier': 19}, 'best': {'type': 'upper', 'indicator': 'ppo8', 'barrier': 1}}}, 'order': {'single': {'upper': {'indicator': 'adx32', 'barrier': 16}, 'lower': {'indicator': 'adx8', 'barrier': 20}, 'best': {'type': 'upper', 'indicator': 'adx32', 'barrier': 16}}}}\n",
      "Key in forward opt json 16-11 - 12-month - mean - 136\n"
     ]
    },
    {
     "name": "stderr",
     "output_type": "stream",
     "text": [
      "\r",
      " 80%|████████  | 799/996 [5:22:06<1:09:29, 21.17s/it]"
     ]
    },
    {
     "name": "stdout",
     "output_type": "stream",
     "text": [
      "16-11 - 12-month - mean\n",
      "{'mean': {'single': {'upper': {'indicator': 'ppo8', 'barrier': 2}, 'lower': {'indicator': 'stochastic8', 'barrier': 36}, 'best': {'type': 'upper', 'indicator': 'ppo8', 'barrier': 2}}}, 'order': {'single': {'upper': {'indicator': 'adx16', 'barrier': 32}, 'lower': {'indicator': 'adx8', 'barrier': 21}, 'best': {'type': 'upper', 'indicator': 'adx16', 'barrier': 32}}}}\n",
      "Key in forward opt json 16-11 - 12-month - order - 931\n"
     ]
    },
    {
     "name": "stderr",
     "output_type": "stream",
     "text": [
      "\r",
      " 80%|████████  | 800/996 [5:22:33<1:14:13, 22.72s/it]"
     ]
    },
    {
     "name": "stdout",
     "output_type": "stream",
     "text": [
      "16-11 - 12-month - order\n",
      "{'mean': {'single': {'upper': {'indicator': 'ppo16', 'barrier': 0}, 'lower': {'indicator': 'ppo8', 'barrier': 21}, 'best': {'type': 'upper', 'indicator': 'ppo16', 'barrier': 0}}}, 'order': {'single': {'upper': {'indicator': 'adx32', 'barrier': 30}, 'lower': {'indicator': 'stochastic8', 'barrier': 50}, 'best': {'type': 'upper', 'indicator': 'adx32', 'barrier': 30}}}}\n",
      "Key in forward opt json 16-12 - 6-month - mean - 94\n"
     ]
    },
    {
     "name": "stderr",
     "output_type": "stream",
     "text": [
      "\r",
      " 80%|████████  | 801/996 [5:22:52<1:10:21, 21.65s/it]"
     ]
    },
    {
     "name": "stdout",
     "output_type": "stream",
     "text": [
      "16-12 - 6-month - mean\n",
      "{'mean': {'single': {'upper': {'indicator': 'stochastic8', 'barrier': 6}, 'lower': {'indicator': 'stochastic8', 'barrier': 32}, 'best': {'type': 'upper', 'indicator': 'stochastic8', 'barrier': 6}}}, 'order': {'single': {'upper': {'indicator': 'adx16', 'barrier': 32}, 'lower': {'indicator': 'adx8', 'barrier': 21}, 'best': {'type': 'upper', 'indicator': 'adx16', 'barrier': 32}}}}\n",
      "Key in forward opt json 16-12 - 6-month - order - 572\n"
     ]
    },
    {
     "name": "stderr",
     "output_type": "stream",
     "text": [
      "\r",
      " 81%|████████  | 802/996 [5:23:13<1:09:57, 21.64s/it]"
     ]
    },
    {
     "name": "stdout",
     "output_type": "stream",
     "text": [
      "16-12 - 6-month - order\n",
      "{'mean': {'single': {'upper': {'indicator': 'ppo32', 'barrier': 0}, 'lower': {'indicator': 'ppo32', 'barrier': 16}, 'best': {'type': 'upper', 'indicator': 'ppo32', 'barrier': 0}}}, 'order': {'single': {'upper': {'indicator': 'ppo32', 'barrier': 18}, 'lower': {'indicator': 'adx16', 'barrier': 16}, 'best': {'type': 'upper', 'indicator': 'ppo32', 'barrier': 18}}}}\n",
      "Key in forward opt json 16-12 - 12-month - mean - 145\n"
     ]
    },
    {
     "name": "stderr",
     "output_type": "stream",
     "text": [
      "\r",
      " 81%|████████  | 803/996 [5:23:32<1:06:47, 20.76s/it]"
     ]
    },
    {
     "name": "stdout",
     "output_type": "stream",
     "text": [
      "16-12 - 12-month - mean\n",
      "{'mean': {'single': {'upper': {'indicator': 'ppo8', 'barrier': 2}, 'lower': {'indicator': 'stochastic8', 'barrier': 36}, 'best': {'type': 'upper', 'indicator': 'ppo8', 'barrier': 2}}}, 'order': {'single': {'upper': {'indicator': 'ppo16', 'barrier': 14}, 'lower': {'indicator': 'adx32', 'barrier': 8}, 'best': {'type': 'upper', 'indicator': 'ppo16', 'barrier': 14}}}}\n",
      "Key in forward opt json 16-12 - 12-month - order - 933\n"
     ]
    },
    {
     "name": "stderr",
     "output_type": "stream",
     "text": [
      "\r",
      " 81%|████████  | 804/996 [5:23:59<1:12:22, 22.62s/it]"
     ]
    },
    {
     "name": "stdout",
     "output_type": "stream",
     "text": [
      "16-12 - 12-month - order\n",
      "{'mean': {'single': {'upper': {'indicator': 'ppo16', 'barrier': 0}, 'lower': {'indicator': 'ppo32', 'barrier': 16}, 'best': {'type': 'upper', 'indicator': 'ppo16', 'barrier': 0}}}, 'order': {'single': {'upper': {'indicator': 'stochastic16', 'barrier': 58}, 'lower': {'indicator': 'stochastic32', 'barrier': 40}, 'best': {'type': 'upper', 'indicator': 'stochastic16', 'barrier': 58}}}}\n",
      "Key in forward opt json 17-01 - 6-month - mean - 82\n"
     ]
    },
    {
     "name": "stderr",
     "output_type": "stream",
     "text": [
      "\r",
      " 81%|████████  | 805/996 [5:24:20<1:09:59, 21.99s/it]"
     ]
    },
    {
     "name": "stdout",
     "output_type": "stream",
     "text": [
      "17-01 - 6-month - mean\n",
      "{'mean': {'single': {'upper': {'indicator': 'stochastic8', 'barrier': 6}, 'lower': {'indicator': 'ppo16', 'barrier': 11}, 'best': {'type': 'upper', 'indicator': 'stochastic8', 'barrier': 6}}}, 'order': {'single': {'upper': {'indicator': 'adx16', 'barrier': 32}, 'lower': {'indicator': 'stochastic32', 'barrier': 3}, 'best': {'type': 'upper', 'indicator': 'adx16', 'barrier': 32}}}}\n",
      "Key in forward opt json 17-01 - 6-month - order - 830\n"
     ]
    },
    {
     "name": "stderr",
     "output_type": "stream",
     "text": [
      "\r",
      " 81%|████████  | 806/996 [5:24:48<1:15:20, 23.79s/it]"
     ]
    },
    {
     "name": "stdout",
     "output_type": "stream",
     "text": [
      "17-01 - 6-month - order\n",
      "{'mean': {'single': {'upper': {'indicator': 'ppo8', 'barrier': -1}, 'lower': {'indicator': 'ppo16', 'barrier': 34}, 'best': {'type': 'upper', 'indicator': 'ppo8', 'barrier': -1}}}, 'order': {'single': {'upper': {'indicator': 'adx8', 'barrier': 72}, 'lower': {'indicator': 'adx8', 'barrier': 16}, 'best': {'type': 'upper', 'indicator': 'adx8', 'barrier': 72}}}}\n",
      "Key in forward opt json 17-01 - 12-month - mean - 145\n"
     ]
    },
    {
     "name": "stderr",
     "output_type": "stream",
     "text": [
      "\r",
      " 81%|████████  | 807/996 [5:25:08<1:11:57, 22.84s/it]"
     ]
    },
    {
     "name": "stdout",
     "output_type": "stream",
     "text": [
      "17-01 - 12-month - mean\n",
      "{'mean': {'single': {'upper': {'indicator': 'ppo8', 'barrier': 2}, 'lower': {'indicator': 'stochastic8', 'barrier': 36}, 'best': {'type': 'upper', 'indicator': 'ppo8', 'barrier': 2}}}, 'order': {'single': {'upper': {'indicator': 'stochastic16', 'barrier': 31}, 'lower': {'indicator': 'ppo8', 'barrier': -6}, 'best': {'type': 'upper', 'indicator': 'stochastic16', 'barrier': 31}}}}\n",
      "Key in forward opt json 17-01 - 12-month - order - 1375\n"
     ]
    },
    {
     "name": "stderr",
     "output_type": "stream",
     "text": [
      "\r",
      " 81%|████████  | 808/996 [5:25:45<1:24:42, 27.03s/it]"
     ]
    },
    {
     "name": "stdout",
     "output_type": "stream",
     "text": [
      "17-01 - 12-month - order\n",
      "{'mean': {'single': {'upper': {'indicator': 'ppo32', 'barrier': -3}, 'lower': {'indicator': 'ppo32', 'barrier': 29}, 'best': {'type': 'upper', 'indicator': 'ppo32', 'barrier': -3}}}, 'order': {'single': {'upper': {'indicator': 'adx8', 'barrier': 44}, 'lower': {'indicator': 'stochastic8', 'barrier': 67}, 'best': {'type': 'upper', 'indicator': 'adx8', 'barrier': 44}}}}\n",
      "Key in forward opt json 17-02 - 6-month - mean - 88\n"
     ]
    },
    {
     "name": "stderr",
     "output_type": "stream",
     "text": [
      "\r",
      " 81%|████████  | 809/996 [5:26:05<1:17:23, 24.83s/it]"
     ]
    },
    {
     "name": "stdout",
     "output_type": "stream",
     "text": [
      "17-02 - 6-month - mean\n",
      "{'mean': {'single': {'upper': {'indicator': 'stochastic8', 'barrier': 6}, 'lower': {'indicator': 'ppo16', 'barrier': 11}, 'best': {'type': 'upper', 'indicator': 'stochastic8', 'barrier': 6}}}, 'order': {'single': {'upper': {'indicator': 'adx16', 'barrier': 42}, 'lower': {'indicator': 'adx16', 'barrier': 12}, 'best': {'type': 'upper', 'indicator': 'adx16', 'barrier': 42}}}}\n",
      "Key in forward opt json 17-02 - 6-month - order - 815\n"
     ]
    },
    {
     "name": "stderr",
     "output_type": "stream",
     "text": [
      "\r",
      " 81%|████████▏ | 810/996 [5:26:32<1:19:13, 25.56s/it]"
     ]
    },
    {
     "name": "stdout",
     "output_type": "stream",
     "text": [
      "17-02 - 6-month - order\n",
      "{'mean': {'single': {'upper': {'indicator': 'ppo16', 'barrier': -2}, 'lower': {'indicator': 'ppo8', 'barrier': 36}, 'best': {'type': 'upper', 'indicator': 'ppo16', 'barrier': -2}}}, 'order': {'single': {'upper': {'indicator': 'stochastic16', 'barrier': 71}, 'lower': {'indicator': 'stochastic16', 'barrier': 59}, 'best': {'type': 'upper', 'indicator': 'stochastic16', 'barrier': 71}}}}\n",
      "Key in forward opt json 17-02 - 12-month - mean - 119\n"
     ]
    },
    {
     "name": "stderr",
     "output_type": "stream",
     "text": [
      "\r",
      " 81%|████████▏ | 811/996 [5:26:52<1:14:04, 24.03s/it]"
     ]
    },
    {
     "name": "stdout",
     "output_type": "stream",
     "text": [
      "17-02 - 12-month - mean\n",
      "{'mean': {'single': {'upper': {'indicator': 'stochastic8', 'barrier': 6}, 'lower': {'indicator': 'stochastic8', 'barrier': 32}, 'best': {'type': 'upper', 'indicator': 'stochastic8', 'barrier': 6}}}, 'order': {'single': {'upper': {'indicator': 'adx16', 'barrier': 32}, 'lower': {'indicator': 'adx8', 'barrier': 21}, 'best': {'type': 'upper', 'indicator': 'adx16', 'barrier': 32}}}}\n",
      "Key in forward opt json 17-02 - 12-month - order - 1460\n"
     ]
    },
    {
     "name": "stderr",
     "output_type": "stream",
     "text": [
      "\r",
      " 82%|████████▏ | 812/996 [5:27:33<1:28:49, 28.97s/it]"
     ]
    },
    {
     "name": "stdout",
     "output_type": "stream",
     "text": [
      "17-02 - 12-month - order\n",
      "{'mean': {'single': {'upper': {'indicator': 'ppo8', 'barrier': -1}, 'lower': {'indicator': 'ppo8', 'barrier': 39}, 'best': {'type': 'upper', 'indicator': 'ppo8', 'barrier': -1}}}, 'order': {'single': {'upper': {'indicator': 'ppo8', 'barrier': 25}, 'lower': {'indicator': 'stochastic8', 'barrier': 53}, 'best': {'type': 'upper', 'indicator': 'ppo8', 'barrier': 25}}}}\n",
      "Key in forward opt json 17-03 - 6-month - mean - 66\n"
     ]
    },
    {
     "name": "stderr",
     "output_type": "stream",
     "text": [
      "\r",
      " 82%|████████▏ | 813/996 [5:27:53<1:19:49, 26.17s/it]"
     ]
    },
    {
     "name": "stdout",
     "output_type": "stream",
     "text": [
      "17-03 - 6-month - mean\n",
      "{'mean': {'single': {'upper': {'indicator': 'stochastic8', 'barrier': 6}, 'lower': {'indicator': 'ppo16', 'barrier': 11}, 'best': {'type': 'upper', 'indicator': 'stochastic8', 'barrier': 6}}}, 'order': {'single': {'upper': {'indicator': 'adx8', 'barrier': 51}, 'lower': {'indicator': 'stochastic32', 'barrier': 3}, 'best': {'type': 'upper', 'indicator': 'adx8', 'barrier': 51}}}}\n",
      "Key in forward opt json 17-03 - 6-month - order - 771\n"
     ]
    },
    {
     "name": "stderr",
     "output_type": "stream",
     "text": [
      "\r",
      " 82%|████████▏ | 814/996 [5:28:18<1:18:42, 25.95s/it]"
     ]
    },
    {
     "name": "stdout",
     "output_type": "stream",
     "text": [
      "17-03 - 6-month - order\n",
      "{'mean': {'single': {'upper': {'indicator': 'ppo32', 'barrier': -1}, 'lower': {'indicator': 'ppo8', 'barrier': 36}, 'best': {'type': 'upper', 'indicator': 'ppo32', 'barrier': -1}}}, 'order': {'single': {'upper': {'indicator': 'stochastic32', 'barrier': 81}, 'lower': {'indicator': 'stochastic8', 'barrier': 69}, 'best': {'type': 'upper', 'indicator': 'stochastic32', 'barrier': 81}}}}\n",
      "Key in forward opt json 17-03 - 12-month - mean - 122\n"
     ]
    },
    {
     "name": "stderr",
     "output_type": "stream",
     "text": [
      "\r",
      " 82%|████████▏ | 815/996 [5:28:37<1:12:02, 23.88s/it]"
     ]
    },
    {
     "name": "stdout",
     "output_type": "stream",
     "text": [
      "17-03 - 12-month - mean\n",
      "{'mean': {'single': {'upper': {'indicator': 'stochastic8', 'barrier': 6}, 'lower': {'indicator': 'stochastic8', 'barrier': 32}, 'best': {'type': 'upper', 'indicator': 'stochastic8', 'barrier': 6}}}, 'order': {'single': {'upper': {'indicator': 'adx16', 'barrier': 32}, 'lower': {'indicator': 'adx16', 'barrier': 12}, 'best': {'type': 'upper', 'indicator': 'adx16', 'barrier': 32}}}}\n",
      "Key in forward opt json 17-03 - 12-month - order - 1503\n"
     ]
    },
    {
     "name": "stderr",
     "output_type": "stream",
     "text": [
      "\r",
      " 82%|████████▏ | 816/996 [5:29:21<1:29:50, 29.95s/it]"
     ]
    },
    {
     "name": "stdout",
     "output_type": "stream",
     "text": [
      "17-03 - 12-month - order\n",
      "{'mean': {'single': {'upper': {'indicator': 'ppo16', 'barrier': -2}, 'lower': {'indicator': 'ppo8', 'barrier': 39}, 'best': {'type': 'upper', 'indicator': 'ppo16', 'barrier': -2}}}, 'order': {'single': {'upper': {'indicator': 'stochastic32', 'barrier': 79}, 'lower': {'indicator': 'stochastic16', 'barrier': 23}, 'best': {'type': 'upper', 'indicator': 'stochastic32', 'barrier': 79}}}}\n",
      "Key in forward opt json 17-04 - 6-month - mean - 60\n"
     ]
    },
    {
     "name": "stderr",
     "output_type": "stream",
     "text": [
      "\r",
      " 82%|████████▏ | 817/996 [5:29:41<1:20:27, 26.97s/it]"
     ]
    },
    {
     "name": "stdout",
     "output_type": "stream",
     "text": [
      "17-04 - 6-month - mean\n",
      "{'mean': {'single': {'upper': {'indicator': 'ppo16', 'barrier': 5}, 'lower': {'indicator': 'stochastic16', 'barrier': 17}, 'best': {'type': 'upper', 'indicator': 'ppo16', 'barrier': 5}}}, 'order': {'single': {'upper': {'indicator': 'adx16', 'barrier': 30}, 'lower': {'indicator': 'adx8', 'barrier': 20}, 'best': {'type': 'upper', 'indicator': 'adx16', 'barrier': 30}}}}\n",
      "Key in forward opt json 17-04 - 6-month - order - 797\n"
     ]
    },
    {
     "name": "stderr",
     "output_type": "stream",
     "text": [
      "\r",
      " 82%|████████▏ | 818/996 [5:30:07<1:19:09, 26.68s/it]"
     ]
    },
    {
     "name": "stdout",
     "output_type": "stream",
     "text": [
      "17-04 - 6-month - order\n",
      "{'mean': {'single': {'upper': {'indicator': 'ppo32', 'barrier': -1}, 'lower': {'indicator': 'ppo16', 'barrier': 35}, 'best': {'type': 'upper', 'indicator': 'ppo32', 'barrier': -1}}}, 'order': {'single': {'upper': {'indicator': 'stochastic8', 'barrier': 70}, 'lower': {'indicator': 'stochastic32', 'barrier': 29}, 'best': {'type': 'upper', 'indicator': 'stochastic8', 'barrier': 70}}}}\n",
      "Key in forward opt json 17-04 - 12-month - mean - 141\n"
     ]
    },
    {
     "name": "stderr",
     "output_type": "stream",
     "text": [
      "\r",
      " 82%|████████▏ | 819/996 [5:30:27<1:12:18, 24.51s/it]"
     ]
    },
    {
     "name": "stdout",
     "output_type": "stream",
     "text": [
      "17-04 - 12-month - mean\n",
      "{'mean': {'single': {'upper': {'indicator': 'ppo16', 'barrier': 5}, 'lower': {'indicator': 'stochastic8', 'barrier': 32}, 'best': {'type': 'upper', 'indicator': 'ppo16', 'barrier': 5}}}, 'order': {'single': {'upper': {'indicator': 'adx16', 'barrier': 30}, 'lower': {'indicator': 'adx8', 'barrier': 20}, 'best': {'type': 'upper', 'indicator': 'adx16', 'barrier': 30}}}}\n",
      "Key in forward opt json 17-04 - 12-month - order - 1567\n"
     ]
    },
    {
     "name": "stderr",
     "output_type": "stream",
     "text": [
      "\r",
      " 82%|████████▏ | 820/996 [5:31:11<1:29:39, 30.57s/it]"
     ]
    },
    {
     "name": "stdout",
     "output_type": "stream",
     "text": [
      "17-04 - 12-month - order\n",
      "{'mean': {'single': {'upper': {'indicator': 'ppo16', 'barrier': -2}, 'lower': {'indicator': 'ppo8', 'barrier': 43}, 'best': {'type': 'upper', 'indicator': 'ppo16', 'barrier': -2}}}, 'order': {'single': {'upper': {'indicator': 'ppo32', 'barrier': 16}, 'lower': {'indicator': 'ppo16', 'barrier': -8}, 'best': {'type': 'upper', 'indicator': 'ppo32', 'barrier': 16}}}}\n",
      "Key in forward opt json 17-05 - 6-month - mean - 34\n"
     ]
    },
    {
     "name": "stderr",
     "output_type": "stream",
     "text": [
      "\r",
      " 82%|████████▏ | 821/996 [5:31:30<1:18:53, 27.05s/it]"
     ]
    },
    {
     "name": "stdout",
     "output_type": "stream",
     "text": [
      "17-05 - 6-month - mean\n",
      "{'mean': {'single': {'upper': {'indicator': 'ppo32', 'barrier': 7}, 'lower': {'indicator': 'adx8', 'barrier': 42}, 'best': {'type': 'upper', 'indicator': 'ppo32', 'barrier': 7}}}, 'order': {'single': {'upper': {'indicator': 'ppo16', 'barrier': 20}, 'lower': {'indicator': 'adx8', 'barrier': 22}, 'best': {'type': 'upper', 'indicator': 'ppo16', 'barrier': 20}}}}\n",
      "Key in forward opt json 17-05 - 6-month - order - 816\n"
     ]
    },
    {
     "name": "stderr",
     "output_type": "stream",
     "text": [
      "\r",
      " 83%|████████▎ | 822/996 [5:31:57<1:17:51, 26.85s/it]"
     ]
    },
    {
     "name": "stdout",
     "output_type": "stream",
     "text": [
      "17-05 - 6-month - order\n",
      "{'mean': {'single': {'upper': {'indicator': 'ppo32', 'barrier': -1}, 'lower': {'indicator': 'ppo16', 'barrier': 35}, 'best': {'type': 'upper', 'indicator': 'ppo32', 'barrier': -1}}}, 'order': {'single': {'upper': {'indicator': 'adx8', 'barrier': 40}, 'lower': {'indicator': 'stochastic32', 'barrier': 76}, 'best': {'type': 'upper', 'indicator': 'adx8', 'barrier': 40}}}}\n",
      "Key in forward opt json 17-05 - 12-month - mean - 127\n"
     ]
    },
    {
     "name": "stderr",
     "output_type": "stream",
     "text": [
      "\r",
      " 83%|████████▎ | 823/996 [5:32:16<1:10:47, 24.55s/it]"
     ]
    },
    {
     "name": "stdout",
     "output_type": "stream",
     "text": [
      "17-05 - 12-month - mean\n",
      "{'mean': {'single': {'upper': {'indicator': 'adx8', 'barrier': 34}, 'lower': {'indicator': 'stochastic8', 'barrier': 36}, 'best': {'type': 'upper', 'indicator': 'adx8', 'barrier': 34}}}, 'order': {'single': {'upper': {'indicator': 'adx16', 'barrier': 32}, 'lower': {'indicator': 'adx8', 'barrier': 20}, 'best': {'type': 'upper', 'indicator': 'adx16', 'barrier': 32}}}}\n",
      "Key in forward opt json 17-05 - 12-month - order - 1590\n"
     ]
    },
    {
     "name": "stderr",
     "output_type": "stream",
     "text": [
      "\r",
      " 83%|████████▎ | 824/996 [5:33:00<1:27:12, 30.42s/it]"
     ]
    },
    {
     "name": "stdout",
     "output_type": "stream",
     "text": [
      "17-05 - 12-month - order\n",
      "{'mean': {'single': {'upper': {'indicator': 'ppo16', 'barrier': -2}, 'lower': {'indicator': 'ppo8', 'barrier': 43}, 'best': {'type': 'upper', 'indicator': 'ppo16', 'barrier': -2}}}, 'order': {'single': {'upper': {'indicator': 'adx32', 'barrier': 28}, 'lower': {'indicator': 'stochastic8', 'barrier': 49}, 'best': {'type': 'upper', 'indicator': 'adx32', 'barrier': 28}}}}\n",
      "Key in forward opt json 17-06 - 6-month - mean - 761\n"
     ]
    },
    {
     "name": "stderr",
     "output_type": "stream",
     "text": [
      "\r",
      " 83%|████████▎ | 825/996 [5:33:25<1:22:06, 28.81s/it]"
     ]
    },
    {
     "name": "stdout",
     "output_type": "stream",
     "text": [
      "17-06 - 6-month - mean\n",
      "{'mean': {'single': {'upper': {'indicator': 'ppo8', 'barrier': 1}, 'lower': {'indicator': 'ppo16', 'barrier': 35}, 'best': {'type': 'upper', 'indicator': 'ppo8', 'barrier': 1}}}, 'order': {'single': {'upper': {'indicator': 'adx8', 'barrier': 68}, 'lower': {'indicator': 'stochastic16', 'barrier': 47}, 'best': {'type': 'upper', 'indicator': 'adx8', 'barrier': 68}}}}\n",
      "Key in forward opt json 17-06 - 6-month - order - 794\n"
     ]
    },
    {
     "name": "stderr",
     "output_type": "stream",
     "text": [
      "\r",
      " 83%|████████▎ | 826/996 [5:33:51<1:19:23, 28.02s/it]"
     ]
    },
    {
     "name": "stdout",
     "output_type": "stream",
     "text": [
      "17-06 - 6-month - order\n",
      "{'mean': {'single': {'upper': {'indicator': 'adx8', 'barrier': 14}, 'lower': {'indicator': 'ppo8', 'barrier': 38}, 'best': {'type': 'upper', 'indicator': 'adx8', 'barrier': 14}}}, 'order': {'single': {'upper': {'indicator': 'ppo16', 'barrier': 40}, 'lower': {'indicator': 'stochastic32', 'barrier': 72}, 'best': {'type': 'upper', 'indicator': 'ppo16', 'barrier': 40}}}}\n",
      "Key in forward opt json 17-06 - 12-month - mean - 146\n"
     ]
    },
    {
     "name": "stderr",
     "output_type": "stream",
     "text": [
      "\r",
      " 83%|████████▎ | 827/996 [5:34:10<1:11:36, 25.42s/it]"
     ]
    },
    {
     "name": "stdout",
     "output_type": "stream",
     "text": [
      "17-06 - 12-month - mean\n",
      "{'mean': {'single': {'upper': {'indicator': 'ppo32', 'barrier': 4}, 'lower': {'indicator': 'stochastic8', 'barrier': 32}, 'best': {'type': 'upper', 'indicator': 'ppo32', 'barrier': 4}}}, 'order': {'single': {'upper': {'indicator': 'adx8', 'barrier': 50}, 'lower': {'indicator': 'adx8', 'barrier': 20}, 'best': {'type': 'upper', 'indicator': 'adx8', 'barrier': 50}}}}\n",
      "Key in forward opt json 17-06 - 12-month - order - 1613\n"
     ]
    },
    {
     "name": "stderr",
     "output_type": "stream",
     "text": [
      "\r",
      " 83%|████████▎ | 828/996 [5:34:58<1:30:07, 32.19s/it]"
     ]
    },
    {
     "name": "stdout",
     "output_type": "stream",
     "text": [
      "17-06 - 12-month - order\n",
      "{'mean': {'single': {'upper': {'indicator': 'ppo16', 'barrier': -2}, 'lower': {'indicator': 'ppo32', 'barrier': 38}, 'best': {'type': 'upper', 'indicator': 'ppo16', 'barrier': -2}}}, 'order': {'single': {'upper': {'indicator': 'ppo8', 'barrier': 11}, 'lower': {'indicator': 'stochastic16', 'barrier': 25}, 'best': {'type': 'upper', 'indicator': 'ppo8', 'barrier': 11}}}}\n",
      "Key in forward opt json 17-07 - 6-month - mean - 771\n"
     ]
    },
    {
     "name": "stderr",
     "output_type": "stream",
     "text": [
      "\r",
      " 83%|████████▎ | 829/996 [5:35:24<1:24:17, 30.28s/it]"
     ]
    },
    {
     "name": "stdout",
     "output_type": "stream",
     "text": [
      "17-07 - 6-month - mean\n",
      "{'mean': {'single': {'upper': {'indicator': 'ppo16', 'barrier': 1}, 'lower': {'indicator': 'ppo32', 'barrier': 24}, 'best': {'type': 'upper', 'indicator': 'ppo16', 'barrier': 1}}}, 'order': {'single': {'upper': {'indicator': 'stochastic8', 'barrier': 82}, 'lower': {'indicator': 'stochastic32', 'barrier': 41}, 'best': {'type': 'upper', 'indicator': 'stochastic8', 'barrier': 82}}}}\n",
      "Key in forward opt json 17-07 - 6-month - order - 790\n"
     ]
    },
    {
     "name": "stderr",
     "output_type": "stream",
     "text": [
      "\r",
      " 83%|████████▎ | 830/996 [5:35:51<1:20:53, 29.24s/it]"
     ]
    },
    {
     "name": "stdout",
     "output_type": "stream",
     "text": [
      "17-07 - 6-month - order\n",
      "{'mean': {'single': {'upper': {'indicator': 'ppo32', 'barrier': 1}, 'lower': {'indicator': 'ppo32', 'barrier': 27}, 'best': {'type': 'upper', 'indicator': 'ppo32', 'barrier': 1}}}, 'order': {'single': {'upper': {'indicator': 'ppo16', 'barrier': 28}, 'lower': {'indicator': 'stochastic32', 'barrier': 44}, 'best': {'type': 'upper', 'indicator': 'ppo16', 'barrier': 28}}}}\n",
      "Key in forward opt json 17-07 - 12-month - mean - 170\n"
     ]
    },
    {
     "name": "stderr",
     "output_type": "stream",
     "text": [
      "\r",
      " 83%|████████▎ | 831/996 [5:36:11<1:12:53, 26.51s/it]"
     ]
    },
    {
     "name": "stdout",
     "output_type": "stream",
     "text": [
      "17-07 - 12-month - mean\n",
      "{'mean': {'single': {'upper': {'indicator': 'ppo8', 'barrier': 2}, 'lower': {'indicator': 'ppo32', 'barrier': 20}, 'best': {'type': 'upper', 'indicator': 'ppo8', 'barrier': 2}}}, 'order': {'single': {'upper': {'indicator': 'adx32', 'barrier': 28}, 'lower': {'indicator': 'adx8', 'barrier': 26}, 'best': {'type': 'upper', 'indicator': 'adx32', 'barrier': 28}}}}\n",
      "Key in forward opt json 17-07 - 12-month - order - 1620\n"
     ]
    },
    {
     "name": "stderr",
     "output_type": "stream",
     "text": [
      "\r",
      " 84%|████████▎ | 832/996 [5:36:58<1:29:16, 32.66s/it]"
     ]
    },
    {
     "name": "stdout",
     "output_type": "stream",
     "text": [
      "17-07 - 12-month - order\n",
      "{'mean': {'single': {'upper': {'indicator': 'ppo16', 'barrier': -2}, 'lower': {'indicator': 'ppo32', 'barrier': 38}, 'best': {'type': 'upper', 'indicator': 'ppo16', 'barrier': -2}}}, 'order': {'single': {'upper': {'indicator': 'stochastic32', 'barrier': 93}, 'lower': {'indicator': 'stochastic16', 'barrier': 31}, 'best': {'type': 'upper', 'indicator': 'stochastic32', 'barrier': 93}}}}\n",
      "Key in forward opt json 17-08 - 6-month - mean - 557\n"
     ]
    },
    {
     "name": "stderr",
     "output_type": "stream",
     "text": [
      "\r",
      " 84%|████████▎ | 833/996 [5:37:20<1:20:06, 29.49s/it]"
     ]
    },
    {
     "name": "stdout",
     "output_type": "stream",
     "text": [
      "17-08 - 6-month - mean\n",
      "{'mean': {'single': {'upper': {'indicator': 'stochastic32', 'barrier': 7}, 'lower': {'indicator': 'adx32', 'barrier': 38}, 'best': {'type': 'upper', 'indicator': 'stochastic32', 'barrier': 7}}}, 'order': {'single': {'upper': {'indicator': 'adx16', 'barrier': 45}, 'lower': {'indicator': 'adx32', 'barrier': 10}, 'best': {'type': 'upper', 'indicator': 'adx16', 'barrier': 45}}}}\n",
      "Key in forward opt json 17-08 - 6-month - order - 806\n"
     ]
    },
    {
     "name": "stderr",
     "output_type": "stream",
     "text": [
      "\r",
      " 84%|████████▎ | 834/996 [5:37:45<1:16:08, 28.20s/it]"
     ]
    },
    {
     "name": "stdout",
     "output_type": "stream",
     "text": [
      "17-08 - 6-month - order\n",
      "{'mean': {'single': {'upper': {'indicator': 'adx8', 'barrier': 16}, 'lower': {'indicator': 'ppo32', 'barrier': 24}, 'best': {'type': 'upper', 'indicator': 'adx8', 'barrier': 16}}}, 'order': {'single': {'upper': {'indicator': 'ppo32', 'barrier': 14}, 'lower': {'indicator': 'ppo8', 'barrier': 6}, 'best': {'type': 'upper', 'indicator': 'ppo32', 'barrier': 14}}}}\n",
      "Key in forward opt json 17-08 - 12-month - mean - 188\n"
     ]
    },
    {
     "name": "stderr",
     "output_type": "stream",
     "text": [
      "\r",
      " 84%|████████▍ | 835/996 [5:38:05<1:08:32, 25.55s/it]"
     ]
    },
    {
     "name": "stdout",
     "output_type": "stream",
     "text": [
      "17-08 - 12-month - mean\n",
      "{'mean': {'single': {'upper': {'indicator': 'ppo8', 'barrier': 2}, 'lower': {'indicator': 'ppo32', 'barrier': 20}, 'best': {'type': 'upper', 'indicator': 'ppo8', 'barrier': 2}}}, 'order': {'single': {'upper': {'indicator': 'adx8', 'barrier': 48}, 'lower': {'indicator': 'adx8', 'barrier': 22}, 'best': {'type': 'upper', 'indicator': 'adx8', 'barrier': 48}}}}\n",
      "Key in forward opt json 17-08 - 12-month - order - 1610\n"
     ]
    },
    {
     "name": "stderr",
     "output_type": "stream",
     "text": [
      "\r",
      " 84%|████████▍ | 836/996 [5:38:50<1:24:11, 31.57s/it]"
     ]
    },
    {
     "name": "stdout",
     "output_type": "stream",
     "text": [
      "17-08 - 12-month - order\n",
      "{'mean': {'single': {'upper': {'indicator': 'ppo32', 'barrier': -2}, 'lower': {'indicator': 'ppo16', 'barrier': 40}, 'best': {'type': 'upper', 'indicator': 'ppo32', 'barrier': -2}}}, 'order': {'single': {'upper': {'indicator': 'adx16', 'barrier': 27}, 'lower': {'indicator': 'ppo8', 'barrier': -5}, 'best': {'type': 'upper', 'indicator': 'adx16', 'barrier': 27}}}}\n",
      "Key in forward opt json 17-09 - 6-month - mean - 226\n"
     ]
    },
    {
     "name": "stderr",
     "output_type": "stream",
     "text": [
      "\r",
      " 84%|████████▍ | 837/996 [5:39:10<1:13:48, 27.85s/it]"
     ]
    },
    {
     "name": "stdout",
     "output_type": "stream",
     "text": [
      "17-09 - 6-month - mean\n",
      "{'mean': {'single': {'upper': {'indicator': 'stochastic32', 'barrier': 10}, 'lower': {'indicator': 'ppo8', 'barrier': 20}, 'best': {'type': 'upper', 'indicator': 'stochastic32', 'barrier': 10}}}, 'order': {'single': {'upper': {'indicator': 'ppo8', 'barrier': 26}, 'lower': {'indicator': 'adx8', 'barrier': 15}, 'best': {'type': 'upper', 'indicator': 'ppo8', 'barrier': 26}}}}\n",
      "Key in forward opt json 17-09 - 6-month - order - 811\n"
     ]
    },
    {
     "name": "stderr",
     "output_type": "stream",
     "text": [
      "\r",
      " 84%|████████▍ | 838/996 [5:39:35<1:11:04, 26.99s/it]"
     ]
    },
    {
     "name": "stdout",
     "output_type": "stream",
     "text": [
      "17-09 - 6-month - order\n",
      "{'mean': {'single': {'upper': {'indicator': 'ppo32', 'barrier': 0}, 'lower': {'indicator': 'adx16', 'barrier': 52}, 'best': {'type': 'upper', 'indicator': 'ppo32', 'barrier': 0}}}, 'order': {'single': {'upper': {'indicator': 'stochastic16', 'barrier': 91}, 'lower': {'indicator': 'stochastic16', 'barrier': 5}, 'best': {'type': 'upper', 'indicator': 'stochastic16', 'barrier': 91}}}}\n",
      "Key in forward opt json 17-09 - 12-month - mean - 149\n"
     ]
    },
    {
     "name": "stderr",
     "output_type": "stream",
     "text": [
      "\r",
      " 84%|████████▍ | 839/996 [5:39:54<1:04:34, 24.68s/it]"
     ]
    },
    {
     "name": "stdout",
     "output_type": "stream",
     "text": [
      "17-09 - 12-month - mean\n",
      "{'mean': {'single': {'upper': {'indicator': 'ppo32', 'barrier': 4}, 'lower': {'indicator': 'ppo32', 'barrier': 14}, 'best': {'type': 'upper', 'indicator': 'ppo32', 'barrier': 4}}}, 'order': {'single': {'upper': {'indicator': 'adx8', 'barrier': 48}, 'lower': {'indicator': 'stochastic32', 'barrier': 3}, 'best': {'type': 'upper', 'indicator': 'adx8', 'barrier': 48}}}}\n",
      "Key in forward opt json 17-09 - 12-month - order - 1573\n"
     ]
    },
    {
     "name": "stderr",
     "output_type": "stream",
     "text": [
      "\r",
      " 84%|████████▍ | 840/996 [5:40:40<1:20:48, 31.08s/it]"
     ]
    },
    {
     "name": "stdout",
     "output_type": "stream",
     "text": [
      "17-09 - 12-month - order\n",
      "{'mean': {'single': {'upper': {'indicator': 'ppo32', 'barrier': -2}, 'lower': {'indicator': 'ppo16', 'barrier': 38}, 'best': {'type': 'upper', 'indicator': 'ppo32', 'barrier': -2}}}, 'order': {'single': {'upper': {'indicator': 'ppo8', 'barrier': 23}, 'lower': {'indicator': 'ppo16', 'barrier': 10}, 'best': {'type': 'upper', 'indicator': 'ppo8', 'barrier': 23}}}}\n",
      "Key in forward opt json 17-10 - 6-month - mean - 97\n"
     ]
    },
    {
     "name": "stderr",
     "output_type": "stream",
     "text": [
      "\r",
      " 84%|████████▍ | 841/996 [5:41:00<1:11:59, 27.87s/it]"
     ]
    },
    {
     "name": "stdout",
     "output_type": "stream",
     "text": [
      "17-10 - 6-month - mean\n",
      "{'mean': {'single': {'upper': {'indicator': 'ppo8', 'barrier': 4}, 'lower': {'indicator': 'ppo8', 'barrier': 12}, 'best': {'type': 'upper', 'indicator': 'ppo8', 'barrier': 4}}}, 'order': {'single': {'upper': {'indicator': 'stochastic32', 'barrier': 25}, 'lower': {'indicator': 'stochastic32', 'barrier': 3}, 'best': {'type': 'upper', 'indicator': 'stochastic32', 'barrier': 25}}}}\n",
      "Key in forward opt json 17-10 - 6-month - order - 764\n"
     ]
    },
    {
     "name": "stderr",
     "output_type": "stream",
     "text": [
      "\r",
      " 85%|████████▍ | 842/996 [5:41:24<1:08:35, 26.72s/it]"
     ]
    },
    {
     "name": "stdout",
     "output_type": "stream",
     "text": [
      "17-10 - 6-month - order\n",
      "{'mean': {'single': {'upper': {'indicator': 'adx8', 'barrier': 18}, 'lower': {'indicator': 'ppo16', 'barrier': 28}, 'best': {'type': 'upper', 'indicator': 'adx8', 'barrier': 18}}}, 'order': {'single': {'upper': {'indicator': 'adx8', 'barrier': 36}, 'lower': {'indicator': 'ppo32', 'barrier': 6}, 'best': {'type': 'upper', 'indicator': 'adx8', 'barrier': 36}}}}\n",
      "Key in forward opt json 17-10 - 12-month - mean - 185\n"
     ]
    },
    {
     "name": "stderr",
     "output_type": "stream",
     "text": [
      "\r",
      " 85%|████████▍ | 843/996 [5:41:44<1:02:57, 24.69s/it]"
     ]
    },
    {
     "name": "stdout",
     "output_type": "stream",
     "text": [
      "17-10 - 12-month - mean\n",
      "{'mean': {'single': {'upper': {'indicator': 'adx16', 'barrier': 20}, 'lower': {'indicator': 'stochastic32', 'barrier': 41}, 'best': {'type': 'upper', 'indicator': 'adx16', 'barrier': 20}}}, 'order': {'single': {'upper': {'indicator': 'stochastic32', 'barrier': 19}, 'lower': {'indicator': 'stochastic16', 'barrier': 6}, 'best': {'type': 'upper', 'indicator': 'stochastic32', 'barrier': 19}}}}\n",
      "Key in forward opt json 17-10 - 12-month - order - 1560\n"
     ]
    },
    {
     "name": "stderr",
     "output_type": "stream",
     "text": [
      "\r",
      " 85%|████████▍ | 844/996 [5:42:29<1:17:29, 30.59s/it]"
     ]
    },
    {
     "name": "stdout",
     "output_type": "stream",
     "text": [
      "17-10 - 12-month - order\n",
      "{'mean': {'single': {'upper': {'indicator': 'ppo32', 'barrier': -1}, 'lower': {'indicator': 'ppo16', 'barrier': 39}, 'best': {'type': 'upper', 'indicator': 'ppo32', 'barrier': -1}}}, 'order': {'single': {'upper': {'indicator': 'adx32', 'barrier': 32}, 'lower': {'indicator': 'stochastic32', 'barrier': 8}, 'best': {'type': 'upper', 'indicator': 'adx32', 'barrier': 32}}}}\n",
      "Key in forward opt json 17-11 - 6-month - mean - 98\n"
     ]
    },
    {
     "name": "stderr",
     "output_type": "stream",
     "text": [
      "\r",
      " 85%|████████▍ | 845/996 [5:42:47<1:08:06, 27.06s/it]"
     ]
    },
    {
     "name": "stdout",
     "output_type": "stream",
     "text": [
      "17-11 - 6-month - mean\n",
      "{'mean': {'single': {'upper': {'indicator': 'ppo8', 'barrier': 4}, 'lower': {'indicator': 'adx8', 'barrier': 32}, 'best': {'type': 'upper', 'indicator': 'ppo8', 'barrier': 4}}}, 'order': {'single': {'upper': {'indicator': 'stochastic32', 'barrier': 59}, 'lower': {'indicator': 'ppo32', 'barrier': 4}, 'best': {'type': 'upper', 'indicator': 'stochastic32', 'barrier': 59}}}}\n",
      "Key in forward opt json 17-11 - 6-month - order - 775\n"
     ]
    },
    {
     "name": "stderr",
     "output_type": "stream",
     "text": [
      "\r",
      " 85%|████████▍ | 846/996 [5:43:11<1:05:15, 26.10s/it]"
     ]
    },
    {
     "name": "stdout",
     "output_type": "stream",
     "text": [
      "17-11 - 6-month - order\n",
      "{'mean': {'single': {'upper': {'indicator': 'stochastic32', 'barrier': 14}, 'lower': {'indicator': 'ppo8', 'barrier': 31}, 'best': {'type': 'upper', 'indicator': 'stochastic32', 'barrier': 14}}}, 'order': {'single': {'upper': {'indicator': 'stochastic32', 'barrier': 70}, 'lower': {'indicator': 'stochastic32', 'barrier': 60}, 'best': {'type': 'upper', 'indicator': 'stochastic32', 'barrier': 70}}}}\n",
      "Key in forward opt json 17-11 - 12-month - mean - 158\n"
     ]
    },
    {
     "name": "stderr",
     "output_type": "stream",
     "text": [
      "\r",
      " 85%|████████▌ | 847/996 [5:43:30<59:39, 24.02s/it]  "
     ]
    },
    {
     "name": "stdout",
     "output_type": "stream",
     "text": [
      "17-11 - 12-month - mean\n",
      "{'mean': {'single': {'upper': {'indicator': 'stochastic32', 'barrier': 7}, 'lower': {'indicator': 'stochastic8', 'barrier': 14}, 'best': {'type': 'upper', 'indicator': 'stochastic32', 'barrier': 7}}}, 'order': {'single': {'upper': {'indicator': 'stochastic32', 'barrier': 59}, 'lower': {'indicator': 'ppo32', 'barrier': 4}, 'best': {'type': 'upper', 'indicator': 'stochastic32', 'barrier': 59}}}}\n",
      "Key in forward opt json 17-11 - 12-month - order - 1575\n"
     ]
    },
    {
     "name": "stderr",
     "output_type": "stream",
     "text": [
      "\r",
      " 85%|████████▌ | 848/996 [5:44:15<1:14:38, 30.26s/it]"
     ]
    },
    {
     "name": "stdout",
     "output_type": "stream",
     "text": [
      "17-11 - 12-month - order\n",
      "{'mean': {'single': {'upper': {'indicator': 'ppo32', 'barrier': -2}, 'lower': {'indicator': 'ppo32', 'barrier': 32}, 'best': {'type': 'upper', 'indicator': 'ppo32', 'barrier': -2}}}, 'order': {'single': {'upper': {'indicator': 'stochastic16', 'barrier': 67}, 'lower': {'indicator': 'stochastic8', 'barrier': 31}, 'best': {'type': 'upper', 'indicator': 'stochastic16', 'barrier': 67}}}}\n",
      "Key in forward opt json 17-12 - 6-month - mean - 218\n"
     ]
    },
    {
     "name": "stderr",
     "output_type": "stream",
     "text": [
      "\r",
      " 85%|████████▌ | 849/996 [5:44:35<1:06:33, 27.17s/it]"
     ]
    },
    {
     "name": "stdout",
     "output_type": "stream",
     "text": [
      "17-12 - 6-month - mean\n",
      "{'mean': {'single': {'upper': {'indicator': 'stochastic32', 'barrier': 10}, 'lower': {'indicator': 'ppo32', 'barrier': 21}, 'best': {'type': 'upper', 'indicator': 'stochastic32', 'barrier': 10}}}, 'order': {'single': {'upper': {'indicator': 'stochastic32', 'barrier': 34}, 'lower': {'indicator': 'stochastic32', 'barrier': 22}, 'best': {'type': 'upper', 'indicator': 'stochastic32', 'barrier': 34}}}}\n",
      "Key in forward opt json 17-12 - 6-month - order - 735\n"
     ]
    },
    {
     "name": "stderr",
     "output_type": "stream",
     "text": [
      "\r",
      " 85%|████████▌ | 850/996 [5:45:00<1:03:59, 26.30s/it]"
     ]
    },
    {
     "name": "stdout",
     "output_type": "stream",
     "text": [
      "17-12 - 6-month - order\n",
      "{'mean': {'single': {'upper': {'indicator': 'ppo16', 'barrier': 0}, 'lower': {'indicator': 'ppo16', 'barrier': 28}, 'best': {'type': 'upper', 'indicator': 'ppo16', 'barrier': 0}}}, 'order': {'single': {'upper': {'indicator': 'ppo8', 'barrier': 9}, 'lower': {'indicator': 'stochastic8', 'barrier': 45}, 'best': {'type': 'upper', 'indicator': 'ppo8', 'barrier': 9}}}}\n",
      "Key in forward opt json 17-12 - 12-month - mean - 408\n"
     ]
    },
    {
     "name": "stderr",
     "output_type": "stream",
     "text": [
      "\r",
      " 85%|████████▌ | 851/996 [5:45:21<59:50, 24.76s/it]  "
     ]
    },
    {
     "name": "stdout",
     "output_type": "stream",
     "text": [
      "17-12 - 12-month - mean\n",
      "{'mean': {'single': {'upper': {'indicator': 'stochastic8', 'barrier': 4}, 'lower': {'indicator': 'ppo32', 'barrier': 26}, 'best': {'type': 'upper', 'indicator': 'stochastic8', 'barrier': 4}}}, 'order': {'single': {'upper': {'indicator': 'stochastic32', 'barrier': 40}, 'lower': {'indicator': 'stochastic32', 'barrier': 14}, 'best': {'type': 'upper', 'indicator': 'stochastic32', 'barrier': 40}}}}\n",
      "Key in forward opt json 17-12 - 12-month - order - 1531\n"
     ]
    },
    {
     "name": "stderr",
     "output_type": "stream",
     "text": [
      "\r",
      " 86%|████████▌ | 852/996 [5:46:04<1:12:34, 30.24s/it]"
     ]
    },
    {
     "name": "stdout",
     "output_type": "stream",
     "text": [
      "17-12 - 12-month - order\n",
      "{'mean': {'single': {'upper': {'indicator': 'ppo32', 'barrier': -1}, 'lower': {'indicator': 'ppo16', 'barrier': 38}, 'best': {'type': 'upper', 'indicator': 'ppo32', 'barrier': -1}}}, 'order': {'single': {'upper': {'indicator': 'stochastic8', 'barrier': 37}, 'lower': {'indicator': 'stochastic16', 'barrier': 79}, 'best': {'type': 'upper', 'indicator': 'stochastic8', 'barrier': 37}}}}\n",
      "Key in forward opt json 18-01 - 6-month - mean - 727\n"
     ]
    },
    {
     "name": "stderr",
     "output_type": "stream",
     "text": [
      "\r",
      " 86%|████████▌ | 853/996 [5:46:27<1:07:05, 28.15s/it]"
     ]
    },
    {
     "name": "stdout",
     "output_type": "stream",
     "text": [
      "18-01 - 6-month - mean\n",
      "{'mean': {'single': {'upper': {'indicator': 'stochastic32', 'barrier': 16}, 'lower': {'indicator': 'ppo32', 'barrier': 20}, 'best': {'type': 'upper', 'indicator': 'stochastic32', 'barrier': 16}}}, 'order': {'single': {'upper': {'indicator': 'stochastic32', 'barrier': 56}, 'lower': {'indicator': 'stochastic8', 'barrier': 31}, 'best': {'type': 'upper', 'indicator': 'stochastic32', 'barrier': 56}}}}\n",
      "Key in forward opt json 18-01 - 6-month - order - 727\n"
     ]
    },
    {
     "name": "stderr",
     "output_type": "stream",
     "text": [
      "\r",
      " 86%|████████▌ | 854/996 [5:46:51<1:03:26, 26.81s/it]"
     ]
    },
    {
     "name": "stdout",
     "output_type": "stream",
     "text": [
      "18-01 - 6-month - order\n",
      "{'mean': {'single': {'upper': {'indicator': 'stochastic32', 'barrier': 16}, 'lower': {'indicator': 'ppo32', 'barrier': 20}, 'best': {'type': 'upper', 'indicator': 'stochastic32', 'barrier': 16}}}, 'order': {'single': {'upper': {'indicator': 'stochastic32', 'barrier': 56}, 'lower': {'indicator': 'stochastic8', 'barrier': 31}, 'best': {'type': 'upper', 'indicator': 'stochastic32', 'barrier': 56}}}}\n",
      "Key in forward opt json 18-01 - 12-month - mean - 1518\n"
     ]
    },
    {
     "name": "stderr",
     "output_type": "stream",
     "text": [
      "\r",
      " 86%|████████▌ | 855/996 [5:47:33<1:13:38, 31.33s/it]"
     ]
    },
    {
     "name": "stdout",
     "output_type": "stream",
     "text": [
      "18-01 - 12-month - mean\n",
      "{'mean': {'single': {'upper': {'indicator': 'ppo32', 'barrier': -1}, 'lower': {'indicator': 'ppo8', 'barrier': 36}, 'best': {'type': 'upper', 'indicator': 'ppo32', 'barrier': -1}}}, 'order': {'single': {'upper': {'indicator': 'stochastic16', 'barrier': 55}, 'lower': {'indicator': 'stochastic32', 'barrier': 56}, 'best': {'type': 'upper', 'indicator': 'stochastic16', 'barrier': 55}}}}\n",
      "Key in forward opt json 18-01 - 12-month - order - 1518\n"
     ]
    },
    {
     "name": "stderr",
     "output_type": "stream",
     "text": [
      "\r",
      " 86%|████████▌ | 856/996 [5:48:14<1:20:30, 34.51s/it]"
     ]
    },
    {
     "name": "stdout",
     "output_type": "stream",
     "text": [
      "18-01 - 12-month - order\n",
      "{'mean': {'single': {'upper': {'indicator': 'ppo32', 'barrier': -1}, 'lower': {'indicator': 'ppo8', 'barrier': 36}, 'best': {'type': 'upper', 'indicator': 'ppo32', 'barrier': -1}}}, 'order': {'single': {'upper': {'indicator': 'stochastic16', 'barrier': 55}, 'lower': {'indicator': 'stochastic32', 'barrier': 56}, 'best': {'type': 'upper', 'indicator': 'stochastic16', 'barrier': 55}}}}\n",
      "Key in forward opt json 18-02 - 6-month - mean - 117\n"
     ]
    },
    {
     "name": "stderr",
     "output_type": "stream",
     "text": [
      "\r",
      " 86%|████████▌ | 857/996 [5:48:33<1:08:56, 29.76s/it]"
     ]
    },
    {
     "name": "stdout",
     "output_type": "stream",
     "text": [
      "18-02 - 6-month - mean\n",
      "{'mean': {'single': {'upper': {'indicator': 'stochastic32', 'barrier': 12}, 'lower': {'indicator': 'ppo32', 'barrier': 11}, 'best': {'type': 'upper', 'indicator': 'stochastic32', 'barrier': 12}}}, 'order': {'single': {'upper': {'indicator': 'stochastic16', 'barrier': 23}, 'lower': {'indicator': 'ppo8', 'barrier': 6}, 'best': {'type': 'upper', 'indicator': 'stochastic16', 'barrier': 23}}}}\n",
      "Key in forward opt json 18-02 - 6-month - order - 758\n"
     ]
    },
    {
     "name": "stderr",
     "output_type": "stream",
     "text": [
      "\r",
      " 86%|████████▌ | 858/996 [5:48:58<1:05:06, 28.31s/it]"
     ]
    },
    {
     "name": "stdout",
     "output_type": "stream",
     "text": [
      "18-02 - 6-month - order\n",
      "{'mean': {'single': {'upper': {'indicator': 'adx16', 'barrier': 10}, 'lower': {'indicator': 'ppo16', 'barrier': 32}, 'best': {'type': 'upper', 'indicator': 'adx16', 'barrier': 10}}}, 'order': {'single': {'upper': {'indicator': 'ppo16', 'barrier': 32}, 'lower': {'indicator': 'stochastic8', 'barrier': 13}, 'best': {'type': 'upper', 'indicator': 'ppo16', 'barrier': 32}}}}\n",
      "Key in forward opt json 18-02 - 12-month - mean - 412\n"
     ]
    },
    {
     "name": "stderr",
     "output_type": "stream",
     "text": [
      "\r",
      " 86%|████████▌ | 859/996 [5:49:20<1:00:00, 26.28s/it]"
     ]
    },
    {
     "name": "stdout",
     "output_type": "stream",
     "text": [
      "18-02 - 12-month - mean\n",
      "{'mean': {'single': {'upper': {'indicator': 'adx32', 'barrier': 8}, 'lower': {'indicator': 'ppo16', 'barrier': 26}, 'best': {'type': 'upper', 'indicator': 'adx32', 'barrier': 8}}}, 'order': {'single': {'upper': {'indicator': 'stochastic32', 'barrier': 26}, 'lower': {'indicator': 'stochastic32', 'barrier': 14}, 'best': {'type': 'upper', 'indicator': 'stochastic32', 'barrier': 26}}}}\n",
      "Key in forward opt json 18-02 - 12-month - order - 1570\n"
     ]
    },
    {
     "name": "stderr",
     "output_type": "stream",
     "text": [
      "\r",
      " 86%|████████▋ | 860/996 [5:50:06<1:13:04, 32.24s/it]"
     ]
    },
    {
     "name": "stdout",
     "output_type": "stream",
     "text": [
      "18-02 - 12-month - order\n",
      "{'mean': {'single': {'upper': {'indicator': 'ppo32', 'barrier': -1}, 'lower': {'indicator': 'ppo16', 'barrier': 31}, 'best': {'type': 'upper', 'indicator': 'ppo32', 'barrier': -1}}}, 'order': {'single': {'upper': {'indicator': 'ppo16', 'barrier': 23}, 'lower': {'indicator': 'adx32', 'barrier': 10}, 'best': {'type': 'upper', 'indicator': 'ppo16', 'barrier': 23}}}}\n",
      "Key in forward opt json 18-03 - 6-month - mean - 116\n"
     ]
    },
    {
     "name": "stderr",
     "output_type": "stream",
     "text": [
      "\r",
      " 86%|████████▋ | 861/996 [5:50:25<1:03:52, 28.39s/it]"
     ]
    },
    {
     "name": "stdout",
     "output_type": "stream",
     "text": [
      "18-03 - 6-month - mean\n",
      "{'mean': {'single': {'upper': {'indicator': 'adx16', 'barrier': 18}, 'lower': {'indicator': 'ppo16', 'barrier': 18}, 'best': {'type': 'upper', 'indicator': 'adx16', 'barrier': 18}}}, 'order': {'single': {'upper': {'indicator': 'stochastic32', 'barrier': 53}, 'lower': {'indicator': 'ppo8', 'barrier': 3}, 'best': {'type': 'upper', 'indicator': 'stochastic32', 'barrier': 53}}}}\n",
      "Key in forward opt json 18-03 - 6-month - order - 739\n"
     ]
    },
    {
     "name": "stderr",
     "output_type": "stream",
     "text": [
      "\r",
      " 87%|████████▋ | 862/996 [5:50:50<1:01:16, 27.44s/it]"
     ]
    },
    {
     "name": "stdout",
     "output_type": "stream",
     "text": [
      "18-03 - 6-month - order\n",
      "{'mean': {'single': {'upper': {'indicator': 'adx16', 'barrier': 10}, 'lower': {'indicator': 'stochastic16', 'barrier': 92}, 'best': {'type': 'upper', 'indicator': 'adx16', 'barrier': 10}}}, 'order': {'single': {'upper': {'indicator': 'adx16', 'barrier': 28}, 'lower': {'indicator': 'stochastic32', 'barrier': 38}, 'best': {'type': 'upper', 'indicator': 'adx16', 'barrier': 28}}}}\n",
      "Key in forward opt json 18-03 - 12-month - mean - 213\n"
     ]
    },
    {
     "name": "stderr",
     "output_type": "stream",
     "text": [
      "\r",
      " 87%|████████▋ | 863/996 [5:51:10<55:26, 25.01s/it]  "
     ]
    },
    {
     "name": "stdout",
     "output_type": "stream",
     "text": [
      "18-03 - 12-month - mean\n",
      "{'mean': {'single': {'upper': {'indicator': 'adx32', 'barrier': 11}, 'lower': {'indicator': 'adx8', 'barrier': 54}, 'best': {'type': 'upper', 'indicator': 'adx32', 'barrier': 11}}}, 'order': {'single': {'upper': {'indicator': 'ppo16', 'barrier': 21}, 'lower': {'indicator': 'stochastic8', 'barrier': 6}, 'best': {'type': 'upper', 'indicator': 'ppo16', 'barrier': 21}}}}\n",
      "Key in forward opt json 18-03 - 12-month - order - 1553\n"
     ]
    },
    {
     "name": "stderr",
     "output_type": "stream",
     "text": [
      "\r",
      " 87%|████████▋ | 864/996 [5:51:53<1:06:49, 30.38s/it]"
     ]
    },
    {
     "name": "stdout",
     "output_type": "stream",
     "text": [
      "18-03 - 12-month - order\n",
      "{'mean': {'single': {'upper': {'indicator': 'adx16', 'barrier': 10}, 'lower': {'indicator': 'stochastic32', 'barrier': 94}, 'best': {'type': 'upper', 'indicator': 'adx16', 'barrier': 10}}}, 'order': {'single': {'upper': {'indicator': 'adx32', 'barrier': 18}, 'lower': {'indicator': 'stochastic32', 'barrier': 30}, 'best': {'type': 'upper', 'indicator': 'adx32', 'barrier': 18}}}}\n",
      "Key in forward opt json 18-04 - 6-month - mean - 49\n"
     ]
    },
    {
     "name": "stderr",
     "output_type": "stream",
     "text": [
      "\r",
      " 87%|████████▋ | 865/996 [5:52:13<59:27, 27.23s/it]  "
     ]
    },
    {
     "name": "stdout",
     "output_type": "stream",
     "text": [
      "18-04 - 6-month - mean\n",
      "{'mean': {'single': {'upper': {'indicator': 'adx8', 'barrier': 35}, 'lower': {'indicator': 'stochastic8', 'barrier': 18}, 'best': {'type': 'upper', 'indicator': 'adx8', 'barrier': 35}}}, 'order': {'single': {'upper': {'indicator': 'ppo8', 'barrier': 14}, 'lower': {'indicator': 'stochastic32', 'barrier': 5}, 'best': {'type': 'upper', 'indicator': 'ppo8', 'barrier': 14}}}}\n",
      "Key in forward opt json 18-04 - 6-month - order - 259\n"
     ]
    },
    {
     "name": "stderr",
     "output_type": "stream",
     "text": [
      "\r",
      " 87%|████████▋ | 866/996 [5:52:33<54:47, 25.29s/it]"
     ]
    },
    {
     "name": "stdout",
     "output_type": "stream",
     "text": [
      "18-04 - 6-month - order\n",
      "{'mean': {'single': {'upper': {'indicator': 'stochastic32', 'barrier': 12}, 'lower': {'indicator': 'adx8', 'barrier': 53}, 'best': {'type': 'upper', 'indicator': 'stochastic32', 'barrier': 12}}}, 'order': {'single': {'upper': {'indicator': 'ppo8', 'barrier': 27}, 'lower': {'indicator': 'adx8', 'barrier': 25}, 'best': {'type': 'upper', 'indicator': 'ppo8', 'barrier': 27}}}}\n",
      "Key in forward opt json 18-04 - 12-month - mean - 210\n"
     ]
    },
    {
     "name": "stderr",
     "output_type": "stream",
     "text": [
      "\r",
      " 87%|████████▋ | 867/996 [5:52:54<51:33, 23.98s/it]"
     ]
    },
    {
     "name": "stdout",
     "output_type": "stream",
     "text": [
      "18-04 - 12-month - mean\n",
      "{'mean': {'single': {'upper': {'indicator': 'adx32', 'barrier': 13}, 'lower': {'indicator': 'ppo16', 'barrier': 21}, 'best': {'type': 'upper', 'indicator': 'adx32', 'barrier': 13}}}, 'order': {'single': {'upper': {'indicator': 'adx32', 'barrier': 25}, 'lower': {'indicator': 'adx8', 'barrier': 30}, 'best': {'type': 'upper', 'indicator': 'adx32', 'barrier': 25}}}}\n",
      "Key in forward opt json 18-04 - 12-month - order - 1486\n"
     ]
    },
    {
     "name": "stderr",
     "output_type": "stream",
     "text": [
      "\r",
      " 87%|████████▋ | 868/996 [5:53:34<1:00:57, 28.57s/it]"
     ]
    },
    {
     "name": "stdout",
     "output_type": "stream",
     "text": [
      "18-04 - 12-month - order\n",
      "{'mean': {'single': {'upper': {'indicator': 'ppo32', 'barrier': -1}, 'lower': {'indicator': 'stochastic32', 'barrier': 94}, 'best': {'type': 'upper', 'indicator': 'ppo32', 'barrier': -1}}}, 'order': {'single': {'upper': {'indicator': 'stochastic16', 'barrier': 66}, 'lower': {'indicator': 'ppo16', 'barrier': 7}, 'best': {'type': 'upper', 'indicator': 'stochastic16', 'barrier': 66}}}}\n",
      "Key in forward opt json 18-05 - 6-month - mean - 58\n"
     ]
    },
    {
     "name": "stderr",
     "output_type": "stream",
     "text": [
      "\r",
      " 87%|████████▋ | 869/996 [5:53:53<54:32, 25.77s/it]  "
     ]
    },
    {
     "name": "stdout",
     "output_type": "stream",
     "text": [
      "18-05 - 6-month - mean\n",
      "{'mean': {'single': {'upper': {'indicator': 'adx8', 'barrier': 33}, 'lower': {'indicator': 'ppo8', 'barrier': 12}, 'best': {'type': 'upper', 'indicator': 'adx8', 'barrier': 33}}}, 'order': {'single': {'upper': {'indicator': 'stochastic32', 'barrier': 39}, 'lower': {'indicator': 'ppo16', 'barrier': 6}, 'best': {'type': 'upper', 'indicator': 'stochastic32', 'barrier': 39}}}}\n",
      "Key in forward opt json 18-05 - 6-month - order - 312\n"
     ]
    },
    {
     "name": "stderr",
     "output_type": "stream",
     "text": [
      "\r",
      " 87%|████████▋ | 870/996 [5:54:13<50:55, 24.25s/it]"
     ]
    },
    {
     "name": "stdout",
     "output_type": "stream",
     "text": [
      "18-05 - 6-month - order\n",
      "{'mean': {'single': {'upper': {'indicator': 'stochastic32', 'barrier': 12}, 'lower': {'indicator': 'ppo32', 'barrier': 23}, 'best': {'type': 'upper', 'indicator': 'stochastic32', 'barrier': 12}}}, 'order': {'single': {'upper': {'indicator': 'adx16', 'barrier': 53}, 'lower': {'indicator': 'stochastic8', 'barrier': 8}, 'best': {'type': 'upper', 'indicator': 'adx16', 'barrier': 53}}}}\n",
      "Key in forward opt json 18-05 - 12-month - mean - 202\n"
     ]
    },
    {
     "name": "stderr",
     "output_type": "stream",
     "text": [
      "\r",
      " 87%|████████▋ | 871/996 [5:54:33<47:30, 22.80s/it]"
     ]
    },
    {
     "name": "stdout",
     "output_type": "stream",
     "text": [
      "18-05 - 12-month - mean\n",
      "{'mean': {'single': {'upper': {'indicator': 'adx16', 'barrier': 19}, 'lower': {'indicator': 'ppo16', 'barrier': 21}, 'best': {'type': 'upper', 'indicator': 'adx16', 'barrier': 19}}}, 'order': {'single': {'upper': {'indicator': 'stochastic16', 'barrier': 18}, 'lower': {'indicator': 'adx8', 'barrier': 30}, 'best': {'type': 'upper', 'indicator': 'stochastic16', 'barrier': 18}}}}\n",
      "Key in forward opt json 18-05 - 12-month - order - 1468\n"
     ]
    },
    {
     "name": "stderr",
     "output_type": "stream",
     "text": [
      "\r",
      " 88%|████████▊ | 872/996 [5:55:11<56:30, 27.35s/it]"
     ]
    },
    {
     "name": "stdout",
     "output_type": "stream",
     "text": [
      "18-05 - 12-month - order\n",
      "{'mean': {'single': {'upper': {'indicator': 'adx16', 'barrier': 10}, 'lower': {'indicator': 'stochastic32', 'barrier': 94}, 'best': {'type': 'upper', 'indicator': 'adx16', 'barrier': 10}}}, 'order': {'single': {'upper': {'indicator': 'stochastic16', 'barrier': 92}, 'lower': {'indicator': 'stochastic8', 'barrier': 29}, 'best': {'type': 'upper', 'indicator': 'stochastic16', 'barrier': 92}}}}\n",
      "Key in forward opt json 18-06 - 6-month - mean - 47\n"
     ]
    },
    {
     "name": "stderr",
     "output_type": "stream",
     "text": [
      "\r",
      " 88%|████████▊ | 873/996 [5:55:30<50:49, 24.80s/it]"
     ]
    },
    {
     "name": "stdout",
     "output_type": "stream",
     "text": [
      "18-06 - 6-month - mean\n",
      "{'mean': {'single': {'upper': {'indicator': 'adx8', 'barrier': 35}, 'lower': {'indicator': 'stochastic8', 'barrier': 20}, 'best': {'type': 'upper', 'indicator': 'adx8', 'barrier': 35}}}, 'order': {'single': {'upper': {'indicator': 'stochastic32', 'barrier': 39}, 'lower': {'indicator': 'stochastic32', 'barrier': 5}, 'best': {'type': 'upper', 'indicator': 'stochastic32', 'barrier': 39}}}}\n",
      "Key in forward opt json 18-06 - 6-month - order - 315\n"
     ]
    },
    {
     "name": "stderr",
     "output_type": "stream",
     "text": [
      "\r",
      " 88%|████████▊ | 874/996 [5:55:50<47:28, 23.35s/it]"
     ]
    },
    {
     "name": "stdout",
     "output_type": "stream",
     "text": [
      "18-06 - 6-month - order\n",
      "{'mean': {'single': {'upper': {'indicator': 'stochastic32', 'barrier': 12}, 'lower': {'indicator': 'ppo32', 'barrier': 23}, 'best': {'type': 'upper', 'indicator': 'stochastic32', 'barrier': 12}}}, 'order': {'single': {'upper': {'indicator': 'ppo32', 'barrier': 17}, 'lower': {'indicator': 'ppo32', 'barrier': 9}, 'best': {'type': 'upper', 'indicator': 'ppo32', 'barrier': 17}}}}\n",
      "Key in forward opt json 18-06 - 12-month - mean - 189\n"
     ]
    },
    {
     "name": "stderr",
     "output_type": "stream",
     "text": [
      "\r",
      " 88%|████████▊ | 875/996 [5:56:09<44:33, 22.10s/it]"
     ]
    },
    {
     "name": "stdout",
     "output_type": "stream",
     "text": [
      "18-06 - 12-month - mean\n",
      "{'mean': {'single': {'upper': {'indicator': 'adx8', 'barrier': 22}, 'lower': {'indicator': 'ppo16', 'barrier': 20}, 'best': {'type': 'upper', 'indicator': 'adx8', 'barrier': 22}}}, 'order': {'single': {'upper': {'indicator': 'adx16', 'barrier': 40}, 'lower': {'indicator': 'adx8', 'barrier': 22}, 'best': {'type': 'upper', 'indicator': 'adx16', 'barrier': 40}}}}\n",
      "Key in forward opt json 18-06 - 12-month - order - 1449\n"
     ]
    },
    {
     "name": "stderr",
     "output_type": "stream",
     "text": [
      "\r",
      " 88%|████████▊ | 876/996 [5:56:48<54:19, 27.16s/it]"
     ]
    },
    {
     "name": "stdout",
     "output_type": "stream",
     "text": [
      "18-06 - 12-month - order\n",
      "{'mean': {'single': {'upper': {'indicator': 'adx16', 'barrier': 10}, 'lower': {'indicator': 'stochastic32', 'barrier': 94}, 'best': {'type': 'upper', 'indicator': 'adx16', 'barrier': 10}}}, 'order': {'single': {'upper': {'indicator': 'ppo32', 'barrier': 17}, 'lower': {'indicator': 'stochastic8', 'barrier': 33}, 'best': {'type': 'upper', 'indicator': 'ppo32', 'barrier': 17}}}}\n",
      "Key in forward opt json 18-07 - 6-month - mean - 51\n"
     ]
    },
    {
     "name": "stderr",
     "output_type": "stream",
     "text": [
      "\r",
      " 88%|████████▊ | 877/996 [5:57:07<49:03, 24.73s/it]"
     ]
    },
    {
     "name": "stdout",
     "output_type": "stream",
     "text": [
      "18-07 - 6-month - mean\n",
      "{'mean': {'single': {'upper': {'indicator': 'adx16', 'barrier': 19}, 'lower': {'indicator': 'adx16', 'barrier': 33}, 'best': {'type': 'upper', 'indicator': 'adx16', 'barrier': 19}}}, 'order': {'single': {'upper': {'indicator': 'stochastic16', 'barrier': 31}, 'lower': {'indicator': 'stochastic32', 'barrier': 4}, 'best': {'type': 'upper', 'indicator': 'stochastic16', 'barrier': 31}}}}\n",
      "Key in forward opt json 18-07 - 6-month - order - 340\n"
     ]
    },
    {
     "name": "stderr",
     "output_type": "stream",
     "text": [
      "\r",
      " 88%|████████▊ | 878/996 [5:57:28<46:22, 23.58s/it]"
     ]
    },
    {
     "name": "stdout",
     "output_type": "stream",
     "text": [
      "18-07 - 6-month - order\n",
      "{'mean': {'single': {'upper': {'indicator': 'stochastic32', 'barrier': 6}, 'lower': {'indicator': 'adx8', 'barrier': 53}, 'best': {'type': 'upper', 'indicator': 'stochastic32', 'barrier': 6}}}, 'order': {'single': {'upper': {'indicator': 'stochastic8', 'barrier': 22}, 'lower': {'indicator': 'ppo8', 'barrier': 9}, 'best': {'type': 'upper', 'indicator': 'stochastic8', 'barrier': 22}}}}\n",
      "Key in forward opt json 18-07 - 12-month - mean - 196\n"
     ]
    },
    {
     "name": "stderr",
     "output_type": "stream",
     "text": [
      "\r",
      " 88%|████████▊ | 879/996 [5:57:47<43:31, 22.32s/it]"
     ]
    },
    {
     "name": "stdout",
     "output_type": "stream",
     "text": [
      "18-07 - 12-month - mean\n",
      "{'mean': {'single': {'upper': {'indicator': 'stochastic32', 'barrier': 4}, 'lower': {'indicator': 'adx8', 'barrier': 52}, 'best': {'type': 'upper', 'indicator': 'stochastic32', 'barrier': 4}}}, 'order': {'single': {'upper': {'indicator': 'adx32', 'barrier': 29}, 'lower': {'indicator': 'stochastic32', 'barrier': 4}, 'best': {'type': 'upper', 'indicator': 'adx32', 'barrier': 29}}}}\n",
      "Key in forward opt json 18-07 - 12-month - order - 1387\n"
     ]
    },
    {
     "name": "stderr",
     "output_type": "stream",
     "text": [
      "\r",
      " 88%|████████▊ | 880/996 [5:58:22<50:36, 26.18s/it]"
     ]
    },
    {
     "name": "stdout",
     "output_type": "stream",
     "text": [
      "18-07 - 12-month - order\n",
      "{'mean': {'single': {'upper': {'indicator': 'ppo32', 'barrier': -1}, 'lower': {'indicator': 'stochastic32', 'barrier': 94}, 'best': {'type': 'upper', 'indicator': 'ppo32', 'barrier': -1}}}, 'order': {'single': {'upper': {'indicator': 'adx16', 'barrier': 42}, 'lower': {'indicator': 'stochastic32', 'barrier': 34}, 'best': {'type': 'upper', 'indicator': 'adx16', 'barrier': 42}}}}\n",
      "Key in forward opt json 18-08 - 6-month - mean - 41\n"
     ]
    },
    {
     "name": "stderr",
     "output_type": "stream",
     "text": [
      "\r",
      " 88%|████████▊ | 881/996 [5:58:42<46:16, 24.14s/it]"
     ]
    },
    {
     "name": "stdout",
     "output_type": "stream",
     "text": [
      "18-08 - 6-month - mean\n",
      "{'mean': {'single': {'upper': {'indicator': 'adx16', 'barrier': 19}, 'lower': {'indicator': 'adx8', 'barrier': 45}, 'best': {'type': 'upper', 'indicator': 'adx16', 'barrier': 19}}}, 'order': {'single': {'upper': {'indicator': 'stochastic16', 'barrier': 32}, 'lower': {'indicator': 'adx8', 'barrier': 23}, 'best': {'type': 'upper', 'indicator': 'stochastic16', 'barrier': 32}}}}\n",
      "Key in forward opt json 18-08 - 6-month - order - 629\n"
     ]
    },
    {
     "name": "stderr",
     "output_type": "stream",
     "text": [
      "\r",
      " 89%|████████▊ | 882/996 [5:59:06<45:41, 24.05s/it]"
     ]
    },
    {
     "name": "stdout",
     "output_type": "stream",
     "text": [
      "18-08 - 6-month - order\n",
      "{'mean': {'single': {'upper': {'indicator': 'stochastic8', 'barrier': 9}, 'lower': {'indicator': 'ppo32', 'barrier': 25}, 'best': {'type': 'upper', 'indicator': 'stochastic8', 'barrier': 9}}}, 'order': {'single': {'upper': {'indicator': 'ppo16', 'barrier': 17}, 'lower': {'indicator': 'stochastic8', 'barrier': 11}, 'best': {'type': 'upper', 'indicator': 'ppo16', 'barrier': 17}}}}\n",
      "Key in forward opt json 18-08 - 12-month - mean - 179\n"
     ]
    },
    {
     "name": "stderr",
     "output_type": "stream",
     "text": [
      "\r",
      " 89%|████████▊ | 883/996 [5:59:25<42:36, 22.62s/it]"
     ]
    },
    {
     "name": "stdout",
     "output_type": "stream",
     "text": [
      "18-08 - 12-month - mean\n",
      "{'mean': {'single': {'upper': {'indicator': 'stochastic32', 'barrier': 4}, 'lower': {'indicator': 'ppo16', 'barrier': 18}, 'best': {'type': 'upper', 'indicator': 'stochastic32', 'barrier': 4}}}, 'order': {'single': {'upper': {'indicator': 'adx8', 'barrier': 56}, 'lower': {'indicator': 'adx8', 'barrier': 24}, 'best': {'type': 'upper', 'indicator': 'adx8', 'barrier': 56}}}}\n",
      "Key in forward opt json 18-08 - 12-month - order - 1379\n"
     ]
    },
    {
     "name": "stderr",
     "output_type": "stream",
     "text": [
      "\r",
      " 89%|████████▉ | 884/996 [6:00:00<49:29, 26.51s/it]"
     ]
    },
    {
     "name": "stdout",
     "output_type": "stream",
     "text": [
      "18-08 - 12-month - order\n",
      "{'mean': {'single': {'upper': {'indicator': 'adx16', 'barrier': 10}, 'lower': {'indicator': 'ppo32', 'barrier': 25}, 'best': {'type': 'upper', 'indicator': 'adx16', 'barrier': 10}}}, 'order': {'single': {'upper': {'indicator': 'adx8', 'barrier': 59}, 'lower': {'indicator': 'stochastic32', 'barrier': 36}, 'best': {'type': 'upper', 'indicator': 'adx8', 'barrier': 59}}}}\n",
      "Key in forward opt json 18-09 - 6-month - mean - 38\n"
     ]
    },
    {
     "name": "stderr",
     "output_type": "stream",
     "text": [
      "\r",
      " 89%|████████▉ | 885/996 [6:00:20<44:58, 24.31s/it]"
     ]
    },
    {
     "name": "stdout",
     "output_type": "stream",
     "text": [
      "18-09 - 6-month - mean\n",
      "{'mean': {'single': {'upper': {'indicator': 'adx16', 'barrier': 22}, 'lower': {'indicator': 'stochastic32', 'barrier': 20}, 'best': {'type': 'upper', 'indicator': 'adx16', 'barrier': 22}}}, 'order': {'single': {'upper': {'indicator': 'adx16', 'barrier': 22}, 'lower': {'indicator': 'stochastic8', 'barrier': 5}, 'best': {'type': 'upper', 'indicator': 'adx16', 'barrier': 22}}}}\n",
      "Key in forward opt json 18-09 - 6-month - order - 653\n"
     ]
    },
    {
     "name": "stderr",
     "output_type": "stream",
     "text": [
      "\r",
      " 89%|████████▉ | 886/996 [6:00:42<43:40, 23.83s/it]"
     ]
    },
    {
     "name": "stdout",
     "output_type": "stream",
     "text": [
      "18-09 - 6-month - order\n",
      "{'mean': {'single': {'upper': {'indicator': 'stochastic8', 'barrier': 9}, 'lower': {'indicator': 'adx8', 'barrier': 56}, 'best': {'type': 'upper', 'indicator': 'stochastic8', 'barrier': 9}}}, 'order': {'single': {'upper': {'indicator': 'adx32', 'barrier': 16}, 'lower': {'indicator': 'stochastic16', 'barrier': 36}, 'best': {'type': 'upper', 'indicator': 'adx32', 'barrier': 16}}}}\n",
      "Key in forward opt json 18-09 - 12-month - mean - 138\n"
     ]
    },
    {
     "name": "stderr",
     "output_type": "stream",
     "text": [
      "\r",
      " 89%|████████▉ | 887/996 [6:01:01<40:30, 22.29s/it]"
     ]
    },
    {
     "name": "stdout",
     "output_type": "stream",
     "text": [
      "18-09 - 12-month - mean\n",
      "{'mean': {'single': {'upper': {'indicator': 'stochastic32', 'barrier': 28}, 'lower': {'indicator': 'adx8', 'barrier': 52}, 'best': {'type': 'upper', 'indicator': 'stochastic32', 'barrier': 28}}}, 'order': {'single': {'upper': {'indicator': 'stochastic32', 'barrier': 50}, 'lower': {'indicator': 'stochastic16', 'barrier': 2}, 'best': {'type': 'upper', 'indicator': 'stochastic32', 'barrier': 50}}}}\n",
      "Key in forward opt json 18-09 - 12-month - order - 1379\n"
     ]
    },
    {
     "name": "stderr",
     "output_type": "stream",
     "text": [
      "\r",
      " 89%|████████▉ | 888/996 [6:01:36<47:12, 26.23s/it]"
     ]
    },
    {
     "name": "stdout",
     "output_type": "stream",
     "text": [
      "18-09 - 12-month - order\n",
      "{'mean': {'single': {'upper': {'indicator': 'ppo32', 'barrier': -1}, 'lower': {'indicator': 'ppo32', 'barrier': 25}, 'best': {'type': 'upper', 'indicator': 'ppo32', 'barrier': -1}}}, 'order': {'single': {'upper': {'indicator': 'adx32', 'barrier': 43}, 'lower': {'indicator': 'stochastic8', 'barrier': 29}, 'best': {'type': 'upper', 'indicator': 'adx32', 'barrier': 43}}}}\n",
      "Key in forward opt json 18-10 - 6-month - mean - 55\n"
     ]
    },
    {
     "name": "stderr",
     "output_type": "stream",
     "text": [
      "\r",
      " 89%|████████▉ | 889/996 [6:01:55<42:51, 24.03s/it]"
     ]
    },
    {
     "name": "stdout",
     "output_type": "stream",
     "text": [
      "18-10 - 6-month - mean\n",
      "{'mean': {'single': {'upper': {'indicator': 'stochastic8', 'barrier': 11}, 'lower': {'indicator': 'stochastic8', 'barrier': 21}, 'best': {'type': 'upper', 'indicator': 'stochastic8', 'barrier': 11}}}, 'order': {'single': {'upper': {'indicator': 'adx16', 'barrier': 27}, 'lower': {'indicator': 'adx8', 'barrier': 18}, 'best': {'type': 'upper', 'indicator': 'adx16', 'barrier': 27}}}}\n",
      "Key in forward opt json 18-10 - 6-month - order - 645\n"
     ]
    },
    {
     "name": "stderr",
     "output_type": "stream",
     "text": [
      "\r",
      " 89%|████████▉ | 890/996 [6:02:19<42:24, 24.01s/it]"
     ]
    },
    {
     "name": "stdout",
     "output_type": "stream",
     "text": [
      "18-10 - 6-month - order\n",
      "{'mean': {'single': {'upper': {'indicator': 'stochastic8', 'barrier': 9}, 'lower': {'indicator': 'ppo32', 'barrier': 25}, 'best': {'type': 'upper', 'indicator': 'stochastic8', 'barrier': 9}}}, 'order': {'single': {'upper': {'indicator': 'adx8', 'barrier': 26}, 'lower': {'indicator': 'ppo16', 'barrier': 3}, 'best': {'type': 'upper', 'indicator': 'adx8', 'barrier': 26}}}}\n",
      "Key in forward opt json 18-10 - 12-month - mean - 57\n"
     ]
    },
    {
     "name": "stderr",
     "output_type": "stream",
     "text": [
      "\r",
      " 89%|████████▉ | 891/996 [6:02:38<39:27, 22.54s/it]"
     ]
    },
    {
     "name": "stdout",
     "output_type": "stream",
     "text": [
      "18-10 - 12-month - mean\n",
      "{'mean': {'single': {'upper': {'indicator': 'adx16', 'barrier': 20}, 'lower': {'indicator': 'adx16', 'barrier': 36}, 'best': {'type': 'upper', 'indicator': 'adx16', 'barrier': 20}}}, 'order': {'single': {'upper': {'indicator': 'stochastic16', 'barrier': 32}, 'lower': {'indicator': 'adx8', 'barrier': 21}, 'best': {'type': 'upper', 'indicator': 'stochastic16', 'barrier': 32}}}}\n",
      "Key in forward opt json 18-10 - 12-month - order - 1368\n"
     ]
    },
    {
     "name": "stderr",
     "output_type": "stream",
     "text": [
      "\r",
      " 90%|████████▉ | 892/996 [6:03:16<46:59, 27.11s/it]"
     ]
    },
    {
     "name": "stdout",
     "output_type": "stream",
     "text": [
      "18-10 - 12-month - order\n",
      "{'mean': {'single': {'upper': {'indicator': 'ppo32', 'barrier': -1}, 'lower': {'indicator': 'stochastic32', 'barrier': 94}, 'best': {'type': 'upper', 'indicator': 'ppo32', 'barrier': -1}}}, 'order': {'single': {'upper': {'indicator': 'adx16', 'barrier': 40}, 'lower': {'indicator': 'adx8', 'barrier': 17}, 'best': {'type': 'upper', 'indicator': 'adx16', 'barrier': 40}}}}\n",
      "Key in forward opt json 18-11 - 6-month - mean - 280\n"
     ]
    },
    {
     "name": "stderr",
     "output_type": "stream",
     "text": [
      "\r",
      " 90%|████████▉ | 893/996 [6:03:36<42:37, 24.83s/it]"
     ]
    },
    {
     "name": "stdout",
     "output_type": "stream",
     "text": [
      "18-11 - 6-month - mean\n",
      "{'mean': {'single': {'upper': {'indicator': 'stochastic32', 'barrier': 18}, 'lower': {'indicator': 'stochastic16', 'barrier': 62}, 'best': {'type': 'upper', 'indicator': 'stochastic32', 'barrier': 18}}}, 'order': {'single': {'upper': {'indicator': 'adx8', 'barrier': 25}, 'lower': {'indicator': 'stochastic8', 'barrier': 19}, 'best': {'type': 'upper', 'indicator': 'adx8', 'barrier': 25}}}}\n",
      "Key in forward opt json 18-11 - 6-month - order - 562\n"
     ]
    },
    {
     "name": "stderr",
     "output_type": "stream",
     "text": [
      "\r",
      " 90%|████████▉ | 894/996 [6:04:00<41:46, 24.57s/it]"
     ]
    },
    {
     "name": "stdout",
     "output_type": "stream",
     "text": [
      "18-11 - 6-month - order\n",
      "{'mean': {'single': {'upper': {'indicator': 'stochastic32', 'barrier': 13}, 'lower': {'indicator': 'adx16', 'barrier': 45}, 'best': {'type': 'upper', 'indicator': 'stochastic32', 'barrier': 13}}}, 'order': {'single': {'upper': {'indicator': 'adx8', 'barrier': 34}, 'lower': {'indicator': 'stochastic8', 'barrier': 12}, 'best': {'type': 'upper', 'indicator': 'adx8', 'barrier': 34}}}}\n",
      "Key in forward opt json 18-11 - 12-month - mean - 221\n"
     ]
    },
    {
     "name": "stderr",
     "output_type": "stream",
     "text": [
      "\r",
      " 90%|████████▉ | 895/996 [6:04:20<39:18, 23.36s/it]"
     ]
    },
    {
     "name": "stdout",
     "output_type": "stream",
     "text": [
      "18-11 - 12-month - mean\n",
      "{'mean': {'single': {'upper': {'indicator': 'ppo32', 'barrier': 4}, 'lower': {'indicator': 'stochastic8', 'barrier': 34}, 'best': {'type': 'upper', 'indicator': 'ppo32', 'barrier': 4}}}, 'order': {'single': {'upper': {'indicator': 'ppo8', 'barrier': 32}, 'lower': {'indicator': 'adx16', 'barrier': 11}, 'best': {'type': 'upper', 'indicator': 'ppo8', 'barrier': 32}}}}\n",
      "Key in forward opt json 18-11 - 12-month - order - 582\n"
     ]
    },
    {
     "name": "stderr",
     "output_type": "stream",
     "text": [
      "\r",
      " 90%|████████▉ | 896/996 [6:04:42<38:22, 23.03s/it]"
     ]
    },
    {
     "name": "stdout",
     "output_type": "stream",
     "text": [
      "18-11 - 12-month - order\n",
      "{'mean': {'single': {'upper': {'indicator': 'stochastic32', 'barrier': 22}, 'lower': {'indicator': 'adx8', 'barrier': 55}, 'best': {'type': 'upper', 'indicator': 'stochastic32', 'barrier': 22}}}, 'order': {'single': {'upper': {'indicator': 'ppo8', 'barrier': 47}, 'lower': {'indicator': 'stochastic16', 'barrier': 4}, 'best': {'type': 'upper', 'indicator': 'ppo8', 'barrier': 47}}}}\n",
      "Key in forward opt json 18-12 - 6-month - mean - 42\n"
     ]
    },
    {
     "name": "stderr",
     "output_type": "stream",
     "text": [
      "\r",
      " 90%|█████████ | 897/996 [6:05:02<36:07, 21.90s/it]"
     ]
    },
    {
     "name": "stdout",
     "output_type": "stream",
     "text": [
      "18-12 - 6-month - mean\n",
      "{'mean': {'single': {'upper': {'indicator': 'ppo16', 'barrier': 8}, 'lower': {'indicator': 'stochastic8', 'barrier': 15}, 'best': {'type': 'upper', 'indicator': 'ppo16', 'barrier': 8}}}, 'order': {'single': {'upper': {'indicator': 'adx8', 'barrier': 37}, 'lower': {'indicator': 'stochastic16', 'barrier': 3}, 'best': {'type': 'upper', 'indicator': 'adx8', 'barrier': 37}}}}\n",
      "Key in forward opt json 18-12 - 6-month - order - 373\n"
     ]
    },
    {
     "name": "stderr",
     "output_type": "stream",
     "text": [
      "\r",
      " 90%|█████████ | 898/996 [6:05:23<35:20, 21.64s/it]"
     ]
    },
    {
     "name": "stdout",
     "output_type": "stream",
     "text": [
      "18-12 - 6-month - order\n",
      "{'mean': {'single': {'upper': {'indicator': 'stochastic32', 'barrier': 9}, 'lower': {'indicator': 'adx8', 'barrier': 52}, 'best': {'type': 'upper', 'indicator': 'stochastic32', 'barrier': 9}}}, 'order': {'single': {'upper': {'indicator': 'adx16', 'barrier': 24}, 'lower': {'indicator': 'stochastic8', 'barrier': 9}, 'best': {'type': 'upper', 'indicator': 'adx16', 'barrier': 24}}}}\n",
      "Key in forward opt json 18-12 - 12-month - mean - 96\n"
     ]
    },
    {
     "name": "stderr",
     "output_type": "stream",
     "text": [
      "\r",
      " 90%|█████████ | 899/996 [6:05:42<33:48, 20.91s/it]"
     ]
    },
    {
     "name": "stdout",
     "output_type": "stream",
     "text": [
      "18-12 - 12-month - mean\n",
      "{'mean': {'single': {'upper': {'indicator': 'adx16', 'barrier': 20}, 'lower': {'indicator': 'stochastic16', 'barrier': 23}, 'best': {'type': 'upper', 'indicator': 'adx16', 'barrier': 20}}}, 'order': {'single': {'upper': {'indicator': 'stochastic32', 'barrier': 38}, 'lower': {'indicator': 'stochastic16', 'barrier': 3}, 'best': {'type': 'upper', 'indicator': 'stochastic32', 'barrier': 38}}}}\n",
      "Key in forward opt json 18-12 - 12-month - order - 559\n"
     ]
    },
    {
     "name": "stderr",
     "output_type": "stream",
     "text": [
      "\r",
      " 90%|█████████ | 900/996 [6:06:04<34:02, 21.27s/it]"
     ]
    },
    {
     "name": "stdout",
     "output_type": "stream",
     "text": [
      "18-12 - 12-month - order\n",
      "{'mean': {'single': {'upper': {'indicator': 'stochastic32', 'barrier': 22}, 'lower': {'indicator': 'adx8', 'barrier': 53}, 'best': {'type': 'upper', 'indicator': 'stochastic32', 'barrier': 22}}}, 'order': {'single': {'upper': {'indicator': 'ppo16', 'barrier': 26}, 'lower': {'indicator': 'stochastic16', 'barrier': 4}, 'best': {'type': 'upper', 'indicator': 'ppo16', 'barrier': 26}}}}\n",
      "Key in forward opt json 19-01 - 6-month - mean - 36\n"
     ]
    },
    {
     "name": "stderr",
     "output_type": "stream",
     "text": [
      "\r",
      " 90%|█████████ | 901/996 [6:06:24<33:11, 20.96s/it]"
     ]
    },
    {
     "name": "stdout",
     "output_type": "stream",
     "text": [
      "19-01 - 6-month - mean\n",
      "{'mean': {'single': {'upper': {'indicator': 'adx16', 'barrier': 22}, 'lower': {'indicator': 'ppo8', 'barrier': 9}, 'best': {'type': 'upper', 'indicator': 'adx16', 'barrier': 22}}}, 'order': {'single': {'upper': {'indicator': 'adx16', 'barrier': 30}, 'lower': {'indicator': 'stochastic32', 'barrier': 4}, 'best': {'type': 'upper', 'indicator': 'adx16', 'barrier': 30}}}}\n",
      "Key in forward opt json 19-01 - 6-month - order - 129\n"
     ]
    },
    {
     "name": "stderr",
     "output_type": "stream",
     "text": [
      "\r",
      " 91%|█████████ | 902/996 [6:06:43<31:49, 20.32s/it]"
     ]
    },
    {
     "name": "stdout",
     "output_type": "stream",
     "text": [
      "19-01 - 6-month - order\n",
      "{'mean': {'single': {'upper': {'indicator': 'adx8', 'barrier': 30}, 'lower': {'indicator': 'stochastic16', 'barrier': 23}, 'best': {'type': 'upper', 'indicator': 'adx8', 'barrier': 30}}}, 'order': {'single': {'upper': {'indicator': 'adx8', 'barrier': 40}, 'lower': {'indicator': 'stochastic32', 'barrier': 7}, 'best': {'type': 'upper', 'indicator': 'adx8', 'barrier': 40}}}}\n",
      "Key in forward opt json 19-01 - 12-month - mean - 85\n"
     ]
    },
    {
     "name": "stderr",
     "output_type": "stream",
     "text": [
      "\r",
      " 91%|█████████ | 903/996 [6:07:02<30:39, 19.78s/it]"
     ]
    },
    {
     "name": "stdout",
     "output_type": "stream",
     "text": [
      "19-01 - 12-month - mean\n",
      "{'mean': {'single': {'upper': {'indicator': 'adx16', 'barrier': 20}, 'lower': {'indicator': 'stochastic8', 'barrier': 21}, 'best': {'type': 'upper', 'indicator': 'adx16', 'barrier': 20}}}, 'order': {'single': {'upper': {'indicator': 'stochastic32', 'barrier': 38}, 'lower': {'indicator': 'stochastic16', 'barrier': 3}, 'best': {'type': 'upper', 'indicator': 'stochastic32', 'barrier': 38}}}}\n",
      "Key in forward opt json 19-01 - 12-month - order - 303\n"
     ]
    },
    {
     "name": "stderr",
     "output_type": "stream",
     "text": [
      "\r",
      " 91%|█████████ | 904/996 [6:07:21<30:04, 19.61s/it]"
     ]
    },
    {
     "name": "stdout",
     "output_type": "stream",
     "text": [
      "19-01 - 12-month - order\n",
      "{'mean': {'single': {'upper': {'indicator': 'adx8', 'barrier': 25}, 'lower': {'indicator': 'adx8', 'barrier': 53}, 'best': {'type': 'upper', 'indicator': 'adx8', 'barrier': 25}}}, 'order': {'single': {'upper': {'indicator': 'stochastic32', 'barrier': 60}, 'lower': {'indicator': 'ppo8', 'barrier': 3}, 'best': {'type': 'upper', 'indicator': 'stochastic32', 'barrier': 60}}}}\n",
      "Key in forward opt json 19-02 - 6-month - mean - 37\n"
     ]
    },
    {
     "name": "stderr",
     "output_type": "stream",
     "text": [
      "\r",
      " 91%|█████████ | 905/996 [6:07:40<29:22, 19.37s/it]"
     ]
    },
    {
     "name": "stdout",
     "output_type": "stream",
     "text": [
      "19-02 - 6-month - mean\n",
      "{'mean': {'single': {'upper': {'indicator': 'adx16', 'barrier': 22}, 'lower': {'indicator': 'ppo8', 'barrier': 9}, 'best': {'type': 'upper', 'indicator': 'adx16', 'barrier': 22}}}, 'order': {'single': {'upper': {'indicator': 'adx16', 'barrier': 30}, 'lower': {'indicator': 'stochastic32', 'barrier': 4}, 'best': {'type': 'upper', 'indicator': 'adx16', 'barrier': 30}}}}\n",
      "Key in forward opt json 19-02 - 6-month - order - 506\n"
     ]
    },
    {
     "name": "stderr",
     "output_type": "stream",
     "text": [
      "\r",
      " 91%|█████████ | 906/996 [6:08:01<30:03, 20.04s/it]"
     ]
    },
    {
     "name": "stdout",
     "output_type": "stream",
     "text": [
      "19-02 - 6-month - order\n",
      "{'mean': {'single': {'upper': {'indicator': 'adx16', 'barrier': 11}, 'lower': {'indicator': 'stochastic8', 'barrier': 85}, 'best': {'type': 'upper', 'indicator': 'adx16', 'barrier': 11}}}, 'order': {'single': {'upper': {'indicator': 'adx8', 'barrier': 33}, 'lower': {'indicator': 'stochastic8', 'barrier': 5}, 'best': {'type': 'upper', 'indicator': 'adx8', 'barrier': 33}}}}\n",
      "Key in forward opt json 19-02 - 12-month - mean - 81\n"
     ]
    },
    {
     "name": "stderr",
     "output_type": "stream",
     "text": [
      "\r",
      " 91%|█████████ | 907/996 [6:08:20<29:04, 19.60s/it]"
     ]
    },
    {
     "name": "stdout",
     "output_type": "stream",
     "text": [
      "19-02 - 12-month - mean\n",
      "{'mean': {'single': {'upper': {'indicator': 'adx16', 'barrier': 20}, 'lower': {'indicator': 'stochastic8', 'barrier': 21}, 'best': {'type': 'upper', 'indicator': 'adx16', 'barrier': 20}}}, 'order': {'single': {'upper': {'indicator': 'stochastic32', 'barrier': 38}, 'lower': {'indicator': 'stochastic16', 'barrier': 3}, 'best': {'type': 'upper', 'indicator': 'stochastic32', 'barrier': 38}}}}\n",
      "Key in forward opt json 19-02 - 12-month - order - 292\n"
     ]
    },
    {
     "name": "stderr",
     "output_type": "stream",
     "text": [
      "\r",
      " 91%|█████████ | 908/996 [6:08:40<28:52, 19.69s/it]"
     ]
    },
    {
     "name": "stdout",
     "output_type": "stream",
     "text": [
      "19-02 - 12-month - order\n",
      "{'mean': {'single': {'upper': {'indicator': 'adx8', 'barrier': 25}, 'lower': {'indicator': 'adx32', 'barrier': 32}, 'best': {'type': 'upper', 'indicator': 'adx8', 'barrier': 25}}}, 'order': {'single': {'upper': {'indicator': 'stochastic32', 'barrier': 58}, 'lower': {'indicator': 'stochastic16', 'barrier': 4}, 'best': {'type': 'upper', 'indicator': 'stochastic32', 'barrier': 58}}}}\n",
      "Key in forward opt json 19-03 - 6-month - mean - 36\n"
     ]
    },
    {
     "name": "stderr",
     "output_type": "stream",
     "text": [
      "\r",
      " 91%|█████████▏| 909/996 [6:08:59<28:21, 19.55s/it]"
     ]
    },
    {
     "name": "stdout",
     "output_type": "stream",
     "text": [
      "19-03 - 6-month - mean\n",
      "{'mean': {'single': {'upper': {'indicator': 'adx8', 'barrier': 35}, 'lower': {'indicator': 'ppo8', 'barrier': 9}, 'best': {'type': 'upper', 'indicator': 'adx8', 'barrier': 35}}}, 'order': {'single': {'upper': {'indicator': 'adx8', 'barrier': 43}, 'lower': {'indicator': 'stochastic32', 'barrier': 6}, 'best': {'type': 'upper', 'indicator': 'adx8', 'barrier': 43}}}}\n",
      "Key in forward opt json 19-03 - 6-month - order - 453\n"
     ]
    },
    {
     "name": "stderr",
     "output_type": "stream",
     "text": [
      "\r",
      " 91%|█████████▏| 910/996 [6:09:20<28:46, 20.07s/it]"
     ]
    },
    {
     "name": "stdout",
     "output_type": "stream",
     "text": [
      "19-03 - 6-month - order\n",
      "{'mean': {'single': {'upper': {'indicator': 'adx16', 'barrier': 11}, 'lower': {'indicator': 'stochastic8', 'barrier': 84}, 'best': {'type': 'upper', 'indicator': 'adx16', 'barrier': 11}}}, 'order': {'single': {'upper': {'indicator': 'adx8', 'barrier': 55}, 'lower': {'indicator': 'stochastic16', 'barrier': 6}, 'best': {'type': 'upper', 'indicator': 'adx8', 'barrier': 55}}}}\n",
      "Key in forward opt json 19-03 - 12-month - mean - 89\n"
     ]
    },
    {
     "name": "stderr",
     "output_type": "stream",
     "text": [
      "\r",
      " 91%|█████████▏| 911/996 [6:09:40<28:16, 19.96s/it]"
     ]
    },
    {
     "name": "stdout",
     "output_type": "stream",
     "text": [
      "19-03 - 12-month - mean\n",
      "{'mean': {'single': {'upper': {'indicator': 'adx8', 'barrier': 24}, 'lower': {'indicator': 'stochastic32', 'barrier': 30}, 'best': {'type': 'upper', 'indicator': 'adx8', 'barrier': 24}}}, 'order': {'single': {'upper': {'indicator': 'adx8', 'barrier': 42}, 'lower': {'indicator': 'stochastic32', 'barrier': 2}, 'best': {'type': 'upper', 'indicator': 'adx8', 'barrier': 42}}}}\n",
      "Key in forward opt json 19-03 - 12-month - order - 1106\n"
     ]
    },
    {
     "name": "stderr",
     "output_type": "stream",
     "text": [
      "\r",
      " 92%|█████████▏| 912/996 [6:10:13<33:16, 23.77s/it]"
     ]
    },
    {
     "name": "stdout",
     "output_type": "stream",
     "text": [
      "19-03 - 12-month - order\n",
      "{'mean': {'single': {'upper': {'indicator': 'adx16', 'barrier': 11}, 'lower': {'indicator': 'stochastic8', 'barrier': 86}, 'best': {'type': 'upper', 'indicator': 'adx16', 'barrier': 11}}}, 'order': {'single': {'upper': {'indicator': 'adx8', 'barrier': 34}, 'lower': {'indicator': 'stochastic8', 'barrier': 8}, 'best': {'type': 'upper', 'indicator': 'adx8', 'barrier': 34}}}}\n",
      "Key in forward opt json 19-04 - 6-month - mean - 58\n"
     ]
    },
    {
     "name": "stderr",
     "output_type": "stream",
     "text": [
      "\r",
      " 92%|█████████▏| 913/996 [6:10:32<30:59, 22.41s/it]"
     ]
    },
    {
     "name": "stdout",
     "output_type": "stream",
     "text": [
      "19-04 - 6-month - mean\n",
      "{'mean': {'single': {'upper': {'indicator': 'adx8', 'barrier': 30}, 'lower': {'indicator': 'adx32', 'barrier': 16}, 'best': {'type': 'upper', 'indicator': 'adx8', 'barrier': 30}}}, 'order': {'single': {'upper': {'indicator': 'adx8', 'barrier': 42}, 'lower': {'indicator': 'stochastic16', 'barrier': 3}, 'best': {'type': 'upper', 'indicator': 'adx8', 'barrier': 42}}}}\n",
      "Key in forward opt json 19-04 - 6-month - order - 432\n"
     ]
    },
    {
     "name": "stderr",
     "output_type": "stream",
     "text": [
      "\r",
      " 92%|█████████▏| 914/996 [6:10:53<30:07, 22.04s/it]"
     ]
    },
    {
     "name": "stdout",
     "output_type": "stream",
     "text": [
      "19-04 - 6-month - order\n",
      "{'mean': {'single': {'upper': {'indicator': 'adx8', 'barrier': 61}, 'lower': {'indicator': 'stochastic8', 'barrier': 86}, 'best': {'type': 'upper', 'indicator': 'adx8', 'barrier': 61}}}, 'order': {'single': {'upper': {'indicator': 'adx8', 'barrier': 67}, 'lower': {'indicator': 'ppo16', 'barrier': 0}, 'best': {'type': 'upper', 'indicator': 'adx8', 'barrier': 67}}}}\n",
      "Key in forward opt json 19-04 - 12-month - mean - 79\n"
     ]
    },
    {
     "name": "stderr",
     "output_type": "stream",
     "text": [
      "\r",
      " 92%|█████████▏| 915/996 [6:11:13<28:43, 21.28s/it]"
     ]
    },
    {
     "name": "stdout",
     "output_type": "stream",
     "text": [
      "19-04 - 12-month - mean\n",
      "{'mean': {'single': {'upper': {'indicator': 'ppo16', 'barrier': 5}, 'lower': {'indicator': 'adx32', 'barrier': 15}, 'best': {'type': 'upper', 'indicator': 'ppo16', 'barrier': 5}}}, 'order': {'single': {'upper': {'indicator': 'adx8', 'barrier': 42}, 'lower': {'indicator': 'stochastic16', 'barrier': 6}, 'best': {'type': 'upper', 'indicator': 'adx8', 'barrier': 42}}}}\n",
      "Key in forward opt json 19-04 - 12-month - order - 1062\n"
     ]
    },
    {
     "name": "stderr",
     "output_type": "stream",
     "text": [
      "\r",
      " 92%|█████████▏| 916/996 [6:11:44<32:32, 24.41s/it]"
     ]
    },
    {
     "name": "stdout",
     "output_type": "stream",
     "text": [
      "19-04 - 12-month - order\n",
      "{'mean': {'single': {'upper': {'indicator': 'adx16', 'barrier': 11}, 'lower': {'indicator': 'ppo32', 'barrier': 24}, 'best': {'type': 'upper', 'indicator': 'adx16', 'barrier': 11}}}, 'order': {'single': {'upper': {'indicator': 'stochastic8', 'barrier': 76}, 'lower': {'indicator': 'stochastic32', 'barrier': 66}, 'best': {'type': 'upper', 'indicator': 'stochastic8', 'barrier': 76}}}}\n",
      "Key in forward opt json 19-05 - 6-month - mean - 32\n",
      "19-05 - 6-month - mean\n",
      "{'mean': {'single': {'upper': {'indicator': 'ppo8', 'barrier': 8}, 'lower': {'indicator': 'stochastic32', 'barrier': 15}, 'best': {'type': 'upper', 'indicator': 'ppo8', 'barrier': 8}}}, 'order': {'single': {'upper': {'indicator': 'ppo8', 'barrier': 8}, 'lower': {'indicator': 'stochastic32', 'barrier': 7}, 'best': {'type': 'upper', 'indicator': 'ppo8', 'barrier': 8}}}}\n"
     ]
    },
    {
     "name": "stderr",
     "output_type": "stream",
     "text": [
      "\r",
      " 92%|█████████▏| 917/996 [6:12:05<30:37, 23.26s/it]"
     ]
    },
    {
     "name": "stdout",
     "output_type": "stream",
     "text": [
      "Key in forward opt json 19-05 - 6-month - order - 454\n"
     ]
    },
    {
     "name": "stderr",
     "output_type": "stream",
     "text": [
      "\r",
      " 92%|█████████▏| 918/996 [6:12:27<29:58, 23.06s/it]"
     ]
    },
    {
     "name": "stdout",
     "output_type": "stream",
     "text": [
      "19-05 - 6-month - order\n",
      "{'mean': {'single': {'upper': {'indicator': 'adx16', 'barrier': 11}, 'lower': {'indicator': 'stochastic8', 'barrier': 86}, 'best': {'type': 'upper', 'indicator': 'adx16', 'barrier': 11}}}, 'order': {'single': {'upper': {'indicator': 'ppo8', 'barrier': 11}, 'lower': {'indicator': 'stochastic16', 'barrier': 56}, 'best': {'type': 'upper', 'indicator': 'ppo8', 'barrier': 11}}}}\n",
      "Key in forward opt json 19-05 - 12-month - mean - 646\n"
     ]
    },
    {
     "name": "stderr",
     "output_type": "stream",
     "text": [
      "\r",
      " 92%|█████████▏| 919/996 [6:12:51<29:40, 23.13s/it]"
     ]
    },
    {
     "name": "stdout",
     "output_type": "stream",
     "text": [
      "19-05 - 12-month - mean\n",
      "{'mean': {'single': {'upper': {'indicator': 'ppo16', 'barrier': 1}, 'lower': {'indicator': 'adx8', 'barrier': 52}, 'best': {'type': 'upper', 'indicator': 'ppo16', 'barrier': 1}}}, 'order': {'single': {'upper': {'indicator': 'stochastic8', 'barrier': 49}, 'lower': {'indicator': 'adx8', 'barrier': 12}, 'best': {'type': 'upper', 'indicator': 'stochastic8', 'barrier': 49}}}}\n",
      "Key in forward opt json 19-05 - 12-month - order - 1082\n"
     ]
    },
    {
     "name": "stderr",
     "output_type": "stream",
     "text": [
      "\r",
      " 92%|█████████▏| 920/996 [6:13:23<32:36, 25.74s/it]"
     ]
    },
    {
     "name": "stdout",
     "output_type": "stream",
     "text": [
      "19-05 - 12-month - order\n",
      "{'mean': {'single': {'upper': {'indicator': 'adx16', 'barrier': 11}, 'lower': {'indicator': 'stochastic8', 'barrier': 86}, 'best': {'type': 'upper', 'indicator': 'adx16', 'barrier': 11}}}, 'order': {'single': {'upper': {'indicator': 'adx8', 'barrier': 54}, 'lower': {'indicator': 'stochastic16', 'barrier': 34}, 'best': {'type': 'upper', 'indicator': 'adx8', 'barrier': 54}}}}\n",
      "Key in forward opt json 19-06 - 6-month - mean - 45\n"
     ]
    },
    {
     "name": "stderr",
     "output_type": "stream",
     "text": [
      "\r",
      " 92%|█████████▏| 921/996 [6:13:41<29:37, 23.70s/it]"
     ]
    },
    {
     "name": "stdout",
     "output_type": "stream",
     "text": [
      "19-06 - 6-month - mean\n",
      "{'mean': {'single': {'upper': {'indicator': 'stochastic32', 'barrier': 10}, 'lower': {'indicator': 'adx32', 'barrier': 19}, 'best': {'type': 'upper', 'indicator': 'stochastic32', 'barrier': 10}}}, 'order': {'single': {'upper': {'indicator': 'adx8', 'barrier': 47}, 'lower': {'indicator': 'adx8', 'barrier': 27}, 'best': {'type': 'upper', 'indicator': 'adx8', 'barrier': 47}}}}\n",
      "Key in forward opt json 19-06 - 6-month - order - 491\n"
     ]
    },
    {
     "name": "stderr",
     "output_type": "stream",
     "text": [
      "\r",
      " 93%|█████████▎| 922/996 [6:14:03<28:18, 22.95s/it]"
     ]
    },
    {
     "name": "stdout",
     "output_type": "stream",
     "text": [
      "19-06 - 6-month - order\n",
      "{'mean': {'single': {'upper': {'indicator': 'adx16', 'barrier': 11}, 'lower': {'indicator': 'stochastic8', 'barrier': 86}, 'best': {'type': 'upper', 'indicator': 'adx16', 'barrier': 11}}}, 'order': {'single': {'upper': {'indicator': 'adx16', 'barrier': 45}, 'lower': {'indicator': 'stochastic16', 'barrier': 70}, 'best': {'type': 'upper', 'indicator': 'adx16', 'barrier': 45}}}}\n",
      "Key in forward opt json 19-06 - 12-month - mean - 99\n"
     ]
    },
    {
     "name": "stderr",
     "output_type": "stream",
     "text": [
      "\r",
      " 93%|█████████▎| 923/996 [6:14:22<26:28, 21.76s/it]"
     ]
    },
    {
     "name": "stdout",
     "output_type": "stream",
     "text": [
      "19-06 - 12-month - mean\n",
      "{'mean': {'single': {'upper': {'indicator': 'ppo32', 'barrier': 4}, 'lower': {'indicator': 'adx32', 'barrier': 15}, 'best': {'type': 'upper', 'indicator': 'ppo32', 'barrier': 4}}}, 'order': {'single': {'upper': {'indicator': 'adx8', 'barrier': 46}, 'lower': {'indicator': 'adx8', 'barrier': 22}, 'best': {'type': 'upper', 'indicator': 'adx8', 'barrier': 46}}}}\n",
      "Key in forward opt json 19-06 - 12-month - order - 1083\n"
     ]
    },
    {
     "name": "stderr",
     "output_type": "stream",
     "text": [
      "\r",
      " 93%|█████████▎| 924/996 [6:14:53<29:27, 24.54s/it]"
     ]
    },
    {
     "name": "stdout",
     "output_type": "stream",
     "text": [
      "19-06 - 12-month - order\n",
      "{'mean': {'single': {'upper': {'indicator': 'adx16', 'barrier': 11}, 'lower': {'indicator': 'stochastic8', 'barrier': 86}, 'best': {'type': 'upper', 'indicator': 'adx16', 'barrier': 11}}}, 'order': {'single': {'upper': {'indicator': 'stochastic32', 'barrier': 88}, 'lower': {'indicator': 'stochastic16', 'barrier': 22}, 'best': {'type': 'upper', 'indicator': 'stochastic32', 'barrier': 88}}}}\n",
      "Key in forward opt json 19-07 - 6-month - mean - 35\n"
     ]
    },
    {
     "name": "stderr",
     "output_type": "stream",
     "text": [
      "\r",
      " 93%|█████████▎| 925/996 [6:15:12<27:07, 22.93s/it]"
     ]
    },
    {
     "name": "stdout",
     "output_type": "stream",
     "text": [
      "19-07 - 6-month - mean\n",
      "{'mean': {'single': {'upper': {'indicator': 'ppo8', 'barrier': 5}, 'lower': {'indicator': 'stochastic16', 'barrier': 8}, 'best': {'type': 'upper', 'indicator': 'ppo8', 'barrier': 5}}}, 'order': {'single': {'upper': {'indicator': 'stochastic32', 'barrier': 47}, 'lower': {'indicator': 'adx8', 'barrier': 23}, 'best': {'type': 'upper', 'indicator': 'stochastic32', 'barrier': 47}}}}\n",
      "Key in forward opt json 19-07 - 6-month - order - 544\n"
     ]
    },
    {
     "name": "stderr",
     "output_type": "stream",
     "text": [
      "\r",
      " 93%|█████████▎| 926/996 [6:15:34<26:20, 22.59s/it]"
     ]
    },
    {
     "name": "stdout",
     "output_type": "stream",
     "text": [
      "19-07 - 6-month - order\n",
      "{'mean': {'single': {'upper': {'indicator': 'adx16', 'barrier': 11}, 'lower': {'indicator': 'ppo16', 'barrier': 23}, 'best': {'type': 'upper', 'indicator': 'adx16', 'barrier': 11}}}, 'order': {'single': {'upper': {'indicator': 'adx8', 'barrier': 57}, 'lower': {'indicator': 'ppo16', 'barrier': 5}, 'best': {'type': 'upper', 'indicator': 'adx8', 'barrier': 57}}}}\n",
      "Key in forward opt json 19-07 - 12-month - mean - 93\n"
     ]
    },
    {
     "name": "stderr",
     "output_type": "stream",
     "text": [
      "\r",
      " 93%|█████████▎| 927/996 [6:15:53<24:56, 21.69s/it]"
     ]
    },
    {
     "name": "stdout",
     "output_type": "stream",
     "text": [
      "19-07 - 12-month - mean\n",
      "{'mean': {'single': {'upper': {'indicator': 'ppo32', 'barrier': 4}, 'lower': {'indicator': 'adx32', 'barrier': 15}, 'best': {'type': 'upper', 'indicator': 'ppo32', 'barrier': 4}}}, 'order': {'single': {'upper': {'indicator': 'adx8', 'barrier': 46}, 'lower': {'indicator': 'stochastic16', 'barrier': 3}, 'best': {'type': 'upper', 'indicator': 'adx8', 'barrier': 46}}}}\n",
      "Key in forward opt json 19-07 - 12-month - order - 1108\n"
     ]
    },
    {
     "name": "stderr",
     "output_type": "stream",
     "text": [
      "\r",
      " 93%|█████████▎| 928/996 [6:16:24<27:42, 24.44s/it]"
     ]
    },
    {
     "name": "stdout",
     "output_type": "stream",
     "text": [
      "19-07 - 12-month - order\n",
      "{'mean': {'single': {'upper': {'indicator': 'adx16', 'barrier': 11}, 'lower': {'indicator': 'stochastic8', 'barrier': 86}, 'best': {'type': 'upper', 'indicator': 'adx16', 'barrier': 11}}}, 'order': {'single': {'upper': {'indicator': 'stochastic32', 'barrier': 72}, 'lower': {'indicator': 'stochastic32', 'barrier': 48}, 'best': {'type': 'upper', 'indicator': 'stochastic32', 'barrier': 72}}}}\n"
     ]
    },
    {
     "name": "stderr",
     "output_type": "stream",
     "text": [
      "\r",
      " 93%|█████████▎| 929/996 [6:16:44<25:47, 23.10s/it]"
     ]
    },
    {
     "name": "stdout",
     "output_type": "stream",
     "text": [
      "Key in forward opt json 19-08 - 6-month - mean - 12\n",
      "19-08 - 6-month - mean\n",
      "{'mean': {'single': {'upper': {'indicator': 'adx8', 'barrier': 49}, 'lower': {'indicator': 'stochastic8', 'barrier': 3}, 'best': {'type': 'upper', 'indicator': 'adx8', 'barrier': 49}}}, 'order': {'single': {'upper': {'indicator': 'ppo8', 'barrier': 10}, 'lower': {'indicator': 'stochastic8', 'barrier': 3}, 'best': {'type': 'upper', 'indicator': 'ppo8', 'barrier': 10}}}}\n",
      "Key in forward opt json 19-08 - 6-month - order - 621\n"
     ]
    },
    {
     "name": "stderr",
     "output_type": "stream",
     "text": [
      "\r",
      " 93%|█████████▎| 930/996 [6:17:08<25:33, 23.24s/it]"
     ]
    },
    {
     "name": "stdout",
     "output_type": "stream",
     "text": [
      "19-08 - 6-month - order\n",
      "{'mean': {'single': {'upper': {'indicator': 'stochastic32', 'barrier': 22}, 'lower': {'indicator': 'ppo8', 'barrier': 23}, 'best': {'type': 'upper', 'indicator': 'stochastic32', 'barrier': 22}}}, 'order': {'single': {'upper': {'indicator': 'ppo16', 'barrier': 20}, 'lower': {'indicator': 'adx32', 'barrier': 20}, 'best': {'type': 'upper', 'indicator': 'ppo16', 'barrier': 20}}}}\n",
      "Key in forward opt json 19-08 - 12-month - mean - 49\n"
     ]
    },
    {
     "name": "stderr",
     "output_type": "stream",
     "text": [
      "\r",
      " 93%|█████████▎| 931/996 [6:17:26<23:39, 21.84s/it]"
     ]
    },
    {
     "name": "stdout",
     "output_type": "stream",
     "text": [
      "19-08 - 12-month - mean\n",
      "{'mean': {'single': {'upper': {'indicator': 'ppo16', 'barrier': 5}, 'lower': {'indicator': 'stochastic8', 'barrier': 15}, 'best': {'type': 'upper', 'indicator': 'ppo16', 'barrier': 5}}}, 'order': {'single': {'upper': {'indicator': 'adx8', 'barrier': 47}, 'lower': {'indicator': 'stochastic8', 'barrier': 5}, 'best': {'type': 'upper', 'indicator': 'adx8', 'barrier': 47}}}}\n",
      "Key in forward opt json 19-08 - 12-month - order - 1127\n"
     ]
    },
    {
     "name": "stderr",
     "output_type": "stream",
     "text": [
      "\r",
      " 94%|█████████▎| 932/996 [6:18:00<26:57, 25.27s/it]"
     ]
    },
    {
     "name": "stdout",
     "output_type": "stream",
     "text": [
      "19-08 - 12-month - order\n",
      "{'mean': {'single': {'upper': {'indicator': 'adx16', 'barrier': 11}, 'lower': {'indicator': 'stochastic8', 'barrier': 86}, 'best': {'type': 'upper', 'indicator': 'adx16', 'barrier': 11}}}, 'order': {'single': {'upper': {'indicator': 'stochastic32', 'barrier': 84}, 'lower': {'indicator': 'stochastic16', 'barrier': 30}, 'best': {'type': 'upper', 'indicator': 'stochastic32', 'barrier': 84}}}}\n"
     ]
    },
    {
     "name": "stderr",
     "output_type": "stream",
     "text": [
      "\r",
      " 94%|█████████▎| 933/996 [6:18:18<24:15, 23.10s/it]"
     ]
    },
    {
     "name": "stdout",
     "output_type": "stream",
     "text": [
      "Key in forward opt json 19-09 - 6-month - mean - 20\n",
      "19-09 - 6-month - mean\n",
      "{'mean': {'single': {'upper': {'indicator': 'stochastic32', 'barrier': 15}, 'lower': {'indicator': 'stochastic16', 'barrier': 9}, 'best': {'type': 'upper', 'indicator': 'stochastic32', 'barrier': 15}}}, 'order': {'single': {'upper': {'indicator': 'stochastic32', 'barrier': 15}, 'lower': {'indicator': 'adx16', 'barrier': 18}, 'best': {'type': 'upper', 'indicator': 'stochastic32', 'barrier': 15}}}}\n",
      "Key in forward opt json 19-09 - 6-month - order - 616\n"
     ]
    },
    {
     "name": "stderr",
     "output_type": "stream",
     "text": [
      "\r",
      " 94%|█████████▍| 934/996 [6:18:39<23:28, 22.73s/it]"
     ]
    },
    {
     "name": "stdout",
     "output_type": "stream",
     "text": [
      "19-09 - 6-month - order\n",
      "{'mean': {'single': {'upper': {'indicator': 'stochastic8', 'barrier': 14}, 'lower': {'indicator': 'ppo8', 'barrier': 23}, 'best': {'type': 'upper', 'indicator': 'stochastic8', 'barrier': 14}}}, 'order': {'single': {'upper': {'indicator': 'adx16', 'barrier': 50}, 'lower': {'indicator': 'ppo8', 'barrier': 1}, 'best': {'type': 'upper', 'indicator': 'adx16', 'barrier': 50}}}}\n",
      "Key in forward opt json 19-09 - 12-month - mean - 116\n"
     ]
    },
    {
     "name": "stderr",
     "output_type": "stream",
     "text": [
      "\r",
      " 94%|█████████▍| 935/996 [6:18:59<22:15, 21.89s/it]"
     ]
    },
    {
     "name": "stdout",
     "output_type": "stream",
     "text": [
      "19-09 - 12-month - mean\n",
      "{'mean': {'single': {'upper': {'indicator': 'adx8', 'barrier': 28}, 'lower': {'indicator': 'ppo32', 'barrier': 12}, 'best': {'type': 'upper', 'indicator': 'adx8', 'barrier': 28}}}, 'order': {'single': {'upper': {'indicator': 'adx32', 'barrier': 33}, 'lower': {'indicator': 'stochastic8', 'barrier': 5}, 'best': {'type': 'upper', 'indicator': 'adx32', 'barrier': 33}}}}\n",
      "Key in forward opt json 19-09 - 12-month - order - 1065\n"
     ]
    },
    {
     "name": "stderr",
     "output_type": "stream",
     "text": [
      "\r",
      " 94%|█████████▍| 936/996 [6:19:31<24:57, 24.96s/it]"
     ]
    },
    {
     "name": "stdout",
     "output_type": "stream",
     "text": [
      "19-09 - 12-month - order\n",
      "{'mean': {'single': {'upper': {'indicator': 'adx16', 'barrier': 11}, 'lower': {'indicator': 'stochastic8', 'barrier': 86}, 'best': {'type': 'upper', 'indicator': 'adx16', 'barrier': 11}}}, 'order': {'single': {'upper': {'indicator': 'ppo32', 'barrier': 11}, 'lower': {'indicator': 'stochastic16', 'barrier': 32}, 'best': {'type': 'upper', 'indicator': 'ppo32', 'barrier': 11}}}}\n"
     ]
    },
    {
     "name": "stderr",
     "output_type": "stream",
     "text": [
      "\r",
      " 94%|█████████▍| 937/996 [6:19:50<22:44, 23.12s/it]"
     ]
    },
    {
     "name": "stdout",
     "output_type": "stream",
     "text": [
      "Key in forward opt json 19-10 - 6-month - mean - 20\n",
      "19-10 - 6-month - mean\n",
      "{'mean': {'single': {'upper': {'indicator': 'stochastic32', 'barrier': 15}, 'lower': {'indicator': 'stochastic16', 'barrier': 9}, 'best': {'type': 'upper', 'indicator': 'stochastic32', 'barrier': 15}}}, 'order': {'single': {'upper': {'indicator': 'stochastic32', 'barrier': 15}, 'lower': {'indicator': 'adx16', 'barrier': 18}, 'best': {'type': 'upper', 'indicator': 'stochastic32', 'barrier': 15}}}}\n",
      "Key in forward opt json 19-10 - 6-month - order - 653\n"
     ]
    },
    {
     "name": "stderr",
     "output_type": "stream",
     "text": [
      "\r",
      " 94%|█████████▍| 938/996 [6:20:13<22:19, 23.09s/it]"
     ]
    },
    {
     "name": "stdout",
     "output_type": "stream",
     "text": [
      "19-10 - 6-month - order\n",
      "{'mean': {'single': {'upper': {'indicator': 'stochastic8', 'barrier': 12}, 'lower': {'indicator': 'ppo8', 'barrier': 23}, 'best': {'type': 'upper', 'indicator': 'stochastic8', 'barrier': 12}}}, 'order': {'single': {'upper': {'indicator': 'stochastic8', 'barrier': 48}, 'lower': {'indicator': 'adx8', 'barrier': 13}, 'best': {'type': 'upper', 'indicator': 'stochastic8', 'barrier': 48}}}}\n",
      "Key in forward opt json 19-10 - 12-month - mean - 111\n"
     ]
    },
    {
     "name": "stderr",
     "output_type": "stream",
     "text": [
      "\r",
      " 94%|█████████▍| 939/996 [6:20:33<20:57, 22.06s/it]"
     ]
    },
    {
     "name": "stdout",
     "output_type": "stream",
     "text": [
      "19-10 - 12-month - mean\n",
      "{'mean': {'single': {'upper': {'indicator': 'adx8', 'barrier': 30}, 'lower': {'indicator': 'stochastic8', 'barrier': 20}, 'best': {'type': 'upper', 'indicator': 'adx8', 'barrier': 30}}}, 'order': {'single': {'upper': {'indicator': 'adx8', 'barrier': 46}, 'lower': {'indicator': 'stochastic8', 'barrier': 4}, 'best': {'type': 'upper', 'indicator': 'adx8', 'barrier': 46}}}}\n",
      "Key in forward opt json 19-10 - 12-month - order - 1091\n"
     ]
    },
    {
     "name": "stderr",
     "output_type": "stream",
     "text": [
      "\r",
      " 94%|█████████▍| 940/996 [6:21:03<22:48, 24.44s/it]"
     ]
    },
    {
     "name": "stdout",
     "output_type": "stream",
     "text": [
      "19-10 - 12-month - order\n",
      "{'mean': {'single': {'upper': {'indicator': 'adx16', 'barrier': 10}, 'lower': {'indicator': 'stochastic8', 'barrier': 86}, 'best': {'type': 'upper', 'indicator': 'adx16', 'barrier': 10}}}, 'order': {'single': {'upper': {'indicator': 'adx8', 'barrier': 37}, 'lower': {'indicator': 'stochastic32', 'barrier': 52}, 'best': {'type': 'upper', 'indicator': 'adx8', 'barrier': 37}}}}\n",
      "Key in forward opt json 19-11 - 6-month - mean - 20\n"
     ]
    },
    {
     "name": "stderr",
     "output_type": "stream",
     "text": [
      "\r",
      " 94%|█████████▍| 941/996 [6:21:23<21:06, 23.02s/it]"
     ]
    },
    {
     "name": "stdout",
     "output_type": "stream",
     "text": [
      "19-11 - 6-month - mean\n",
      "{'mean': {'single': {'upper': {'indicator': 'stochastic32', 'barrier': 15}, 'lower': {'indicator': 'stochastic16', 'barrier': 9}, 'best': {'type': 'upper', 'indicator': 'stochastic32', 'barrier': 15}}}, 'order': {'single': {'upper': {'indicator': 'adx32', 'barrier': 27}, 'lower': {'indicator': 'adx8', 'barrier': 29}, 'best': {'type': 'upper', 'indicator': 'adx32', 'barrier': 27}}}}\n",
      "Key in forward opt json 19-11 - 6-month - order - 661\n"
     ]
    },
    {
     "name": "stderr",
     "output_type": "stream",
     "text": [
      "\r",
      " 95%|█████████▍| 942/996 [6:21:47<21:03, 23.39s/it]"
     ]
    },
    {
     "name": "stdout",
     "output_type": "stream",
     "text": [
      "19-11 - 6-month - order\n",
      "{'mean': {'single': {'upper': {'indicator': 'stochastic8', 'barrier': 12}, 'lower': {'indicator': 'ppo32', 'barrier': 24}, 'best': {'type': 'upper', 'indicator': 'stochastic8', 'barrier': 12}}}, 'order': {'single': {'upper': {'indicator': 'adx32', 'barrier': 24}, 'lower': {'indicator': 'stochastic8', 'barrier': 28}, 'best': {'type': 'upper', 'indicator': 'adx32', 'barrier': 24}}}}\n",
      "Key in forward opt json 19-11 - 12-month - mean - 34\n"
     ]
    },
    {
     "name": "stderr",
     "output_type": "stream",
     "text": [
      "\r",
      " 95%|█████████▍| 943/996 [6:22:05<19:19, 21.88s/it]"
     ]
    },
    {
     "name": "stdout",
     "output_type": "stream",
     "text": [
      "19-11 - 12-month - mean\n",
      "{'mean': {'single': {'upper': {'indicator': 'ppo8', 'barrier': 4}, 'lower': {'indicator': 'stochastic32', 'barrier': 7}, 'best': {'type': 'upper', 'indicator': 'ppo8', 'barrier': 4}}}, 'order': {'single': {'upper': {'indicator': 'ppo8', 'barrier': 10}, 'lower': {'indicator': 'stochastic8', 'barrier': 5}, 'best': {'type': 'upper', 'indicator': 'ppo8', 'barrier': 10}}}}\n",
      "Key in forward opt json 19-11 - 12-month - order - 1106\n"
     ]
    },
    {
     "name": "stderr",
     "output_type": "stream",
     "text": [
      "\r",
      " 95%|█████████▍| 944/996 [6:22:34<20:48, 24.02s/it]"
     ]
    },
    {
     "name": "stdout",
     "output_type": "stream",
     "text": [
      "19-11 - 12-month - order\n",
      "{'mean': {'single': {'upper': {'indicator': 'stochastic32', 'barrier': 8}, 'lower': {'indicator': 'ppo8', 'barrier': 23}, 'best': {'type': 'upper', 'indicator': 'stochastic32', 'barrier': 8}}}, 'order': {'single': {'upper': {'indicator': 'ppo16', 'barrier': 36}, 'lower': {'indicator': 'adx8', 'barrier': 13}, 'best': {'type': 'upper', 'indicator': 'ppo16', 'barrier': 36}}}}\n"
     ]
    },
    {
     "name": "stderr",
     "output_type": "stream",
     "text": [
      "\r",
      " 95%|█████████▍| 945/996 [6:22:53<18:58, 22.32s/it]"
     ]
    },
    {
     "name": "stdout",
     "output_type": "stream",
     "text": [
      "Key in forward opt json 19-12 - 6-month - mean - 14\n",
      "19-12 - 6-month - mean\n",
      "{'mean': {'single': {'upper': {'indicator': 'adx8', 'barrier': 39}, 'lower': {'indicator': 'stochastic32', 'barrier': 7}, 'best': {'type': 'upper', 'indicator': 'adx8', 'barrier': 39}}}, 'order': {'single': {'upper': {'indicator': 'adx8', 'barrier': 39}, 'lower': {'indicator': 'stochastic16', 'barrier': 6}, 'best': {'type': 'upper', 'indicator': 'adx8', 'barrier': 39}}}}\n",
      "Key in forward opt json 19-12 - 6-month - order - 619\n"
     ]
    },
    {
     "name": "stderr",
     "output_type": "stream",
     "text": [
      "\r",
      " 95%|█████████▍| 946/996 [6:23:14<18:24, 22.08s/it]"
     ]
    },
    {
     "name": "stdout",
     "output_type": "stream",
     "text": [
      "19-12 - 6-month - order\n",
      "{'mean': {'single': {'upper': {'indicator': 'ppo32', 'barrier': -2}, 'lower': {'indicator': 'ppo16', 'barrier': 28}, 'best': {'type': 'upper', 'indicator': 'ppo32', 'barrier': -2}}}, 'order': {'single': {'upper': {'indicator': 'ppo32', 'barrier': 14}, 'lower': {'indicator': 'stochastic8', 'barrier': 26}, 'best': {'type': 'upper', 'indicator': 'ppo32', 'barrier': 14}}}}\n",
      "Key in forward opt json 19-12 - 12-month - mean - 35\n"
     ]
    },
    {
     "name": "stderr",
     "output_type": "stream",
     "text": [
      "\r",
      " 95%|█████████▌| 947/996 [6:23:33<17:20, 21.23s/it]"
     ]
    },
    {
     "name": "stdout",
     "output_type": "stream",
     "text": [
      "19-12 - 12-month - mean\n",
      "{'mean': {'single': {'upper': {'indicator': 'ppo8', 'barrier': 4}, 'lower': {'indicator': 'stochastic32', 'barrier': 7}, 'best': {'type': 'upper', 'indicator': 'ppo8', 'barrier': 4}}}, 'order': {'single': {'upper': {'indicator': 'ppo8', 'barrier': 10}, 'lower': {'indicator': 'stochastic8', 'barrier': 3}, 'best': {'type': 'upper', 'indicator': 'ppo8', 'barrier': 10}}}}\n",
      "Key in forward opt json 19-12 - 12-month - order - 1113\n"
     ]
    },
    {
     "name": "stderr",
     "output_type": "stream",
     "text": [
      "\r",
      " 95%|█████████▌| 948/996 [6:24:03<19:00, 23.76s/it]"
     ]
    },
    {
     "name": "stdout",
     "output_type": "stream",
     "text": [
      "19-12 - 12-month - order\n",
      "{'mean': {'single': {'upper': {'indicator': 'stochastic32', 'barrier': 6}, 'lower': {'indicator': 'ppo32', 'barrier': 26}, 'best': {'type': 'upper', 'indicator': 'stochastic32', 'barrier': 6}}}, 'order': {'single': {'upper': {'indicator': 'adx32', 'barrier': 14}, 'lower': {'indicator': 'stochastic32', 'barrier': 42}, 'best': {'type': 'upper', 'indicator': 'adx32', 'barrier': 14}}}}\n",
      "Key in forward opt json 20-01 - 6-month - mean - 24\n"
     ]
    },
    {
     "name": "stderr",
     "output_type": "stream",
     "text": [
      "\r",
      " 95%|█████████▌| 949/996 [6:24:21<17:16, 22.06s/it]"
     ]
    },
    {
     "name": "stdout",
     "output_type": "stream",
     "text": [
      "20-01 - 6-month - mean\n",
      "{'mean': {'single': {'upper': {'indicator': 'stochastic32', 'barrier': 14}, 'lower': {'indicator': 'ppo8', 'barrier': 8}, 'best': {'type': 'upper', 'indicator': 'stochastic32', 'barrier': 14}}}, 'order': {'single': {'upper': {'indicator': 'stochastic16', 'barrier': 44}, 'lower': {'indicator': 'adx8', 'barrier': 25}, 'best': {'type': 'upper', 'indicator': 'stochastic16', 'barrier': 44}}}}\n",
      "Key in forward opt json 20-01 - 6-month - order - 638\n"
     ]
    },
    {
     "name": "stderr",
     "output_type": "stream",
     "text": [
      "\r",
      " 95%|█████████▌| 950/996 [6:24:44<17:02, 22.23s/it]"
     ]
    },
    {
     "name": "stdout",
     "output_type": "stream",
     "text": [
      "20-01 - 6-month - order\n",
      "{'mean': {'single': {'upper': {'indicator': 'stochastic16', 'barrier': 12}, 'lower': {'indicator': 'ppo16', 'barrier': 28}, 'best': {'type': 'upper', 'indicator': 'stochastic16', 'barrier': 12}}}, 'order': {'single': {'upper': {'indicator': 'ppo8', 'barrier': 15}, 'lower': {'indicator': 'stochastic32', 'barrier': 62}, 'best': {'type': 'upper', 'indicator': 'ppo8', 'barrier': 15}}}}\n",
      "Key in forward opt json 20-01 - 12-month - mean - 26\n"
     ]
    },
    {
     "name": "stderr",
     "output_type": "stream",
     "text": [
      "\r",
      " 95%|█████████▌| 951/996 [6:25:04<16:06, 21.48s/it]"
     ]
    },
    {
     "name": "stdout",
     "output_type": "stream",
     "text": [
      "20-01 - 12-month - mean\n",
      "{'mean': {'single': {'upper': {'indicator': 'ppo8', 'barrier': 4}, 'lower': {'indicator': 'stochastic16', 'barrier': 9}, 'best': {'type': 'upper', 'indicator': 'ppo8', 'barrier': 4}}}, 'order': {'single': {'upper': {'indicator': 'ppo8', 'barrier': 10}, 'lower': {'indicator': 'adx8', 'barrier': 27}, 'best': {'type': 'upper', 'indicator': 'ppo8', 'barrier': 10}}}}\n",
      "Key in forward opt json 20-01 - 12-month - order - 1182\n"
     ]
    },
    {
     "name": "stderr",
     "output_type": "stream",
     "text": [
      "\r",
      " 96%|█████████▌| 952/996 [6:25:34<17:45, 24.21s/it]"
     ]
    },
    {
     "name": "stdout",
     "output_type": "stream",
     "text": [
      "20-01 - 12-month - order\n",
      "{'mean': {'single': {'upper': {'indicator': 'adx16', 'barrier': 10}, 'lower': {'indicator': 'ppo32', 'barrier': 26}, 'best': {'type': 'upper', 'indicator': 'adx16', 'barrier': 10}}}, 'order': {'single': {'upper': {'indicator': 'stochastic16', 'barrier': 58}, 'lower': {'indicator': 'stochastic32', 'barrier': 52}, 'best': {'type': 'upper', 'indicator': 'stochastic16', 'barrier': 58}}}}\n",
      "Key in forward opt json 20-02 - 6-month - mean - 31\n"
     ]
    },
    {
     "name": "stderr",
     "output_type": "stream",
     "text": [
      "\r",
      " 96%|█████████▌| 953/996 [6:25:53<16:11, 22.59s/it]"
     ]
    },
    {
     "name": "stdout",
     "output_type": "stream",
     "text": [
      "20-02 - 6-month - mean\n",
      "{'mean': {'single': {'upper': {'indicator': 'stochastic8', 'barrier': 11}, 'lower': {'indicator': 'ppo16', 'barrier': 9}, 'best': {'type': 'upper', 'indicator': 'stochastic8', 'barrier': 11}}}, 'order': {'single': {'upper': {'indicator': 'stochastic8', 'barrier': 25}, 'lower': {'indicator': 'stochastic8', 'barrier': 7}, 'best': {'type': 'upper', 'indicator': 'stochastic8', 'barrier': 25}}}}\n",
      "Key in forward opt json 20-02 - 6-month - order - 651\n"
     ]
    },
    {
     "name": "stderr",
     "output_type": "stream",
     "text": [
      "\r",
      " 96%|█████████▌| 954/996 [6:26:17<16:05, 22.99s/it]"
     ]
    },
    {
     "name": "stdout",
     "output_type": "stream",
     "text": [
      "20-02 - 6-month - order\n",
      "{'mean': {'single': {'upper': {'indicator': 'adx32', 'barrier': 9}, 'lower': {'indicator': 'ppo16', 'barrier': 28}, 'best': {'type': 'upper', 'indicator': 'adx32', 'barrier': 9}}}, 'order': {'single': {'upper': {'indicator': 'ppo32', 'barrier': 16}, 'lower': {'indicator': 'stochastic32', 'barrier': 64}, 'best': {'type': 'upper', 'indicator': 'ppo32', 'barrier': 16}}}}\n",
      "Key in forward opt json 20-02 - 12-month - mean - 1272\n"
     ]
    },
    {
     "name": "stderr",
     "output_type": "stream",
     "text": [
      "\r",
      " 96%|█████████▌| 955/996 [6:26:50<17:43, 25.95s/it]"
     ]
    },
    {
     "name": "stdout",
     "output_type": "stream",
     "text": [
      "20-02 - 12-month - mean\n",
      "{'mean': {'single': {'upper': {'indicator': 'stochastic32', 'barrier': 10}, 'lower': {'indicator': 'ppo32', 'barrier': 26}, 'best': {'type': 'upper', 'indicator': 'stochastic32', 'barrier': 10}}}, 'order': {'single': {'upper': {'indicator': 'adx16', 'barrier': 36}, 'lower': {'indicator': 'stochastic32', 'barrier': 62}, 'best': {'type': 'upper', 'indicator': 'adx16', 'barrier': 36}}}}\n",
      "Key in forward opt json 20-02 - 12-month - order - 1266\n"
     ]
    },
    {
     "name": "stderr",
     "output_type": "stream",
     "text": [
      "\r",
      " 96%|█████████▌| 956/996 [6:27:22<18:39, 27.98s/it]"
     ]
    },
    {
     "name": "stdout",
     "output_type": "stream",
     "text": [
      "20-02 - 12-month - order\n",
      "{'mean': {'single': {'upper': {'indicator': 'adx32', 'barrier': 7}, 'lower': {'indicator': 'stochastic8', 'barrier': 84}, 'best': {'type': 'upper', 'indicator': 'adx32', 'barrier': 7}}}, 'order': {'single': {'upper': {'indicator': 'adx16', 'barrier': 34}, 'lower': {'indicator': 'stochastic32', 'barrier': 18}, 'best': {'type': 'upper', 'indicator': 'adx16', 'barrier': 34}}}}\n",
      "Key in forward opt json 20-03 - 6-month - mean - 662\n"
     ]
    },
    {
     "name": "stderr",
     "output_type": "stream",
     "text": [
      "\r",
      " 96%|█████████▌| 957/996 [6:27:45<17:11, 26.44s/it]"
     ]
    },
    {
     "name": "stdout",
     "output_type": "stream",
     "text": [
      "20-03 - 6-month - mean\n",
      "{'mean': {'single': {'upper': {'indicator': 'adx16', 'barrier': 10}, 'lower': {'indicator': 'ppo32', 'barrier': 18}, 'best': {'type': 'upper', 'indicator': 'adx16', 'barrier': 10}}}, 'order': {'single': {'upper': {'indicator': 'adx32', 'barrier': 23}, 'lower': {'indicator': 'stochastic8', 'barrier': 38}, 'best': {'type': 'upper', 'indicator': 'adx32', 'barrier': 23}}}}\n",
      "Key in forward opt json 20-03 - 6-month - order - 691\n"
     ]
    },
    {
     "name": "stderr",
     "output_type": "stream",
     "text": [
      "\r",
      " 96%|█████████▌| 958/996 [6:28:08<16:05, 25.42s/it]"
     ]
    },
    {
     "name": "stdout",
     "output_type": "stream",
     "text": [
      "20-03 - 6-month - order\n",
      "{'mean': {'single': {'upper': {'indicator': 'stochastic8', 'barrier': 6}, 'lower': {'indicator': 'ppo32', 'barrier': 24}, 'best': {'type': 'upper', 'indicator': 'stochastic8', 'barrier': 6}}}, 'order': {'single': {'upper': {'indicator': 'ppo32', 'barrier': 12}, 'lower': {'indicator': 'ppo32', 'barrier': -4}, 'best': {'type': 'upper', 'indicator': 'ppo32', 'barrier': 12}}}}\n",
      "Key in forward opt json 20-03 - 12-month - mean - 122\n"
     ]
    },
    {
     "name": "stderr",
     "output_type": "stream",
     "text": [
      "\r",
      " 96%|█████████▋| 959/996 [6:28:27<14:23, 23.34s/it]"
     ]
    },
    {
     "name": "stdout",
     "output_type": "stream",
     "text": [
      "20-03 - 12-month - mean\n",
      "{'mean': {'single': {'upper': {'indicator': 'stochastic32', 'barrier': 6}, 'lower': {'indicator': 'stochastic32', 'barrier': 40}, 'best': {'type': 'upper', 'indicator': 'stochastic32', 'barrier': 6}}}, 'order': {'single': {'upper': {'indicator': 'stochastic16', 'barrier': 14}, 'lower': {'indicator': 'ppo8', 'barrier': 6}, 'best': {'type': 'upper', 'indicator': 'stochastic16', 'barrier': 14}}}}\n",
      "Key in forward opt json 20-03 - 12-month - order - 1303\n"
     ]
    },
    {
     "name": "stderr",
     "output_type": "stream",
     "text": [
      "\r",
      " 96%|█████████▋| 960/996 [6:29:00<15:46, 26.28s/it]"
     ]
    },
    {
     "name": "stdout",
     "output_type": "stream",
     "text": [
      "20-03 - 12-month - order\n",
      "{'mean': {'single': {'upper': {'indicator': 'stochastic8', 'barrier': 10}, 'lower': {'indicator': 'ppo32', 'barrier': 26}, 'best': {'type': 'upper', 'indicator': 'stochastic8', 'barrier': 10}}}, 'order': {'single': {'upper': {'indicator': 'stochastic16', 'barrier': 76}, 'lower': {'indicator': 'stochastic32', 'barrier': 14}, 'best': {'type': 'upper', 'indicator': 'stochastic16', 'barrier': 76}}}}\n",
      "Key in forward opt json 20-04 - 6-month - mean - 565\n"
     ]
    },
    {
     "name": "stderr",
     "output_type": "stream",
     "text": [
      "\r",
      " 96%|█████████▋| 961/996 [6:29:21<14:29, 24.85s/it]"
     ]
    },
    {
     "name": "stdout",
     "output_type": "stream",
     "text": [
      "20-04 - 6-month - mean\n",
      "{'mean': {'single': {'upper': {'indicator': 'ppo32', 'barrier': -2}, 'lower': {'indicator': 'ppo32', 'barrier': 16}, 'best': {'type': 'upper', 'indicator': 'ppo32', 'barrier': -2}}}, 'order': {'single': {'upper': {'indicator': 'adx32', 'barrier': 21}, 'lower': {'indicator': 'stochastic32', 'barrier': 72}, 'best': {'type': 'upper', 'indicator': 'adx32', 'barrier': 21}}}}\n",
      "Key in forward opt json 20-04 - 6-month - order - 51\n"
     ]
    },
    {
     "name": "stderr",
     "output_type": "stream",
     "text": [
      "\r",
      " 97%|█████████▋| 962/996 [6:29:41<13:11, 23.27s/it]"
     ]
    },
    {
     "name": "stdout",
     "output_type": "stream",
     "text": [
      "20-04 - 6-month - order\n",
      "{'mean': {'single': {'upper': {'indicator': 'stochastic16', 'barrier': 6}, 'lower': {'indicator': 'adx16', 'barrier': 32}, 'best': {'type': 'upper', 'indicator': 'stochastic16', 'barrier': 6}}}, 'order': {'single': {'upper': {'indicator': 'stochastic16', 'barrier': 22}, 'lower': {'indicator': 'ppo32', 'barrier': 5}, 'best': {'type': 'upper', 'indicator': 'stochastic16', 'barrier': 22}}}}\n",
      "Key in forward opt json 20-04 - 12-month - mean - 121\n"
     ]
    },
    {
     "name": "stderr",
     "output_type": "stream",
     "text": [
      "\r",
      " 97%|█████████▋| 963/996 [6:30:00<12:07, 22.03s/it]"
     ]
    },
    {
     "name": "stdout",
     "output_type": "stream",
     "text": [
      "20-04 - 12-month - mean\n",
      "{'mean': {'single': {'upper': {'indicator': 'stochastic32', 'barrier': 6}, 'lower': {'indicator': 'stochastic32', 'barrier': 40}, 'best': {'type': 'upper', 'indicator': 'stochastic32', 'barrier': 6}}}, 'order': {'single': {'upper': {'indicator': 'stochastic16', 'barrier': 14}, 'lower': {'indicator': 'ppo8', 'barrier': 6}, 'best': {'type': 'upper', 'indicator': 'stochastic16', 'barrier': 14}}}}\n",
      "Key in forward opt json 20-04 - 12-month - order - 1242\n"
     ]
    },
    {
     "name": "stderr",
     "output_type": "stream",
     "text": [
      "\r",
      " 97%|█████████▋| 964/996 [6:30:31<13:09, 24.67s/it]"
     ]
    },
    {
     "name": "stdout",
     "output_type": "stream",
     "text": [
      "20-04 - 12-month - order\n",
      "{'mean': {'single': {'upper': {'indicator': 'stochastic8', 'barrier': 10}, 'lower': {'indicator': 'ppo32', 'barrier': 26}, 'best': {'type': 'upper', 'indicator': 'stochastic8', 'barrier': 10}}}, 'order': {'single': {'upper': {'indicator': 'ppo32', 'barrier': 14}, 'lower': {'indicator': 'ppo32', 'barrier': -4}, 'best': {'type': 'upper', 'indicator': 'ppo32', 'barrier': 14}}}}\n",
      "Key in forward opt json 20-05 - 6-month - mean - 480\n"
     ]
    },
    {
     "name": "stderr",
     "output_type": "stream",
     "text": [
      "\r",
      " 97%|█████████▋| 965/996 [6:30:52<12:08, 23.48s/it]"
     ]
    },
    {
     "name": "stdout",
     "output_type": "stream",
     "text": [
      "20-05 - 6-month - mean\n",
      "{'mean': {'single': {'upper': {'indicator': 'ppo8', 'barrier': 2}, 'lower': {'indicator': 'ppo16', 'barrier': 21}, 'best': {'type': 'upper', 'indicator': 'ppo8', 'barrier': 2}}}, 'order': {'single': {'upper': {'indicator': 'ppo16', 'barrier': 3}, 'lower': {'indicator': 'stochastic16', 'barrier': 66}, 'best': {'type': 'upper', 'indicator': 'ppo16', 'barrier': 3}}}}\n",
      "Key in forward opt json 20-05 - 6-month - order - 48\n"
     ]
    },
    {
     "name": "stderr",
     "output_type": "stream",
     "text": [
      "\r",
      " 97%|█████████▋| 966/996 [6:31:11<11:05, 22.18s/it]"
     ]
    },
    {
     "name": "stdout",
     "output_type": "stream",
     "text": [
      "20-05 - 6-month - order\n",
      "{'mean': {'single': {'upper': {'indicator': 'stochastic16', 'barrier': 6}, 'lower': {'indicator': 'stochastic32', 'barrier': 26}, 'best': {'type': 'upper', 'indicator': 'stochastic16', 'barrier': 6}}}, 'order': {'single': {'upper': {'indicator': 'stochastic16', 'barrier': 22}, 'lower': {'indicator': 'ppo32', 'barrier': 5}, 'best': {'type': 'upper', 'indicator': 'stochastic16', 'barrier': 22}}}}\n",
      "Key in forward opt json 20-05 - 12-month - mean - 111\n"
     ]
    },
    {
     "name": "stderr",
     "output_type": "stream",
     "text": [
      "\r",
      " 97%|█████████▋| 967/996 [6:31:30<10:12, 21.14s/it]"
     ]
    },
    {
     "name": "stdout",
     "output_type": "stream",
     "text": [
      "20-05 - 12-month - mean\n",
      "{'mean': {'single': {'upper': {'indicator': 'stochastic32', 'barrier': 6}, 'lower': {'indicator': 'stochastic32', 'barrier': 40}, 'best': {'type': 'upper', 'indicator': 'stochastic32', 'barrier': 6}}}, 'order': {'single': {'upper': {'indicator': 'stochastic16', 'barrier': 14}, 'lower': {'indicator': 'ppo8', 'barrier': 6}, 'best': {'type': 'upper', 'indicator': 'stochastic16', 'barrier': 14}}}}\n",
      "Key in forward opt json 20-05 - 12-month - order - 1165\n"
     ]
    },
    {
     "name": "stderr",
     "output_type": "stream",
     "text": [
      "\r",
      " 97%|█████████▋| 968/996 [6:32:00<11:06, 23.81s/it]"
     ]
    },
    {
     "name": "stdout",
     "output_type": "stream",
     "text": [
      "20-05 - 12-month - order\n",
      "{'mean': {'single': {'upper': {'indicator': 'stochastic8', 'barrier': 10}, 'lower': {'indicator': 'ppo32', 'barrier': 26}, 'best': {'type': 'upper', 'indicator': 'stochastic8', 'barrier': 10}}}, 'order': {'single': {'upper': {'indicator': 'ppo16', 'barrier': 14}, 'lower': {'indicator': 'ppo32', 'barrier': -4}, 'best': {'type': 'upper', 'indicator': 'ppo16', 'barrier': 14}}}}\n",
      "Key in forward opt json 20-06 - 6-month - mean - 418\n"
     ]
    },
    {
     "name": "stderr",
     "output_type": "stream",
     "text": [
      "\r",
      " 97%|█████████▋| 969/996 [6:32:21<10:21, 23.01s/it]"
     ]
    },
    {
     "name": "stdout",
     "output_type": "stream",
     "text": [
      "20-06 - 6-month - mean\n",
      "{'mean': {'single': {'upper': {'indicator': 'ppo8', 'barrier': 2}, 'lower': {'indicator': 'stochastic8', 'barrier': 82}, 'best': {'type': 'upper', 'indicator': 'ppo8', 'barrier': 2}}}, 'order': {'single': {'upper': {'indicator': 'ppo32', 'barrier': 2}, 'lower': {'indicator': 'stochastic32', 'barrier': 71}, 'best': {'type': 'upper', 'indicator': 'ppo32', 'barrier': 2}}}}\n",
      "Key in forward opt json 20-06 - 6-month - order - 105\n"
     ]
    },
    {
     "name": "stderr",
     "output_type": "stream",
     "text": [
      "\r",
      " 97%|█████████▋| 970/996 [6:32:40<09:30, 21.95s/it]"
     ]
    },
    {
     "name": "stdout",
     "output_type": "stream",
     "text": [
      "20-06 - 6-month - order\n",
      "{'mean': {'single': {'upper': {'indicator': 'stochastic16', 'barrier': 7}, 'lower': {'indicator': 'adx8', 'barrier': 46}, 'best': {'type': 'upper', 'indicator': 'stochastic16', 'barrier': 7}}}, 'order': {'single': {'upper': {'indicator': 'stochastic16', 'barrier': 29}, 'lower': {'indicator': 'adx16', 'barrier': 24}, 'best': {'type': 'upper', 'indicator': 'stochastic16', 'barrier': 29}}}}\n",
      "Key in forward opt json 20-06 - 12-month - mean - 1068\n"
     ]
    },
    {
     "name": "stderr",
     "output_type": "stream",
     "text": [
      "\r",
      " 97%|█████████▋| 971/996 [6:33:08<09:52, 23.70s/it]"
     ]
    },
    {
     "name": "stdout",
     "output_type": "stream",
     "text": [
      "20-06 - 12-month - mean\n",
      "{'mean': {'single': {'upper': {'indicator': 'stochastic8', 'barrier': 6}, 'lower': {'indicator': 'ppo8', 'barrier': 35}, 'best': {'type': 'upper', 'indicator': 'stochastic8', 'barrier': 6}}}, 'order': {'single': {'upper': {'indicator': 'ppo32', 'barrier': 10}, 'lower': {'indicator': 'stochastic32', 'barrier': 72}, 'best': {'type': 'upper', 'indicator': 'ppo32', 'barrier': 10}}}}\n",
      "Key in forward opt json 20-06 - 12-month - order - 1068\n"
     ]
    },
    {
     "name": "stderr",
     "output_type": "stream",
     "text": [
      "\r",
      " 98%|█████████▊| 972/996 [6:33:36<10:01, 25.06s/it]"
     ]
    },
    {
     "name": "stdout",
     "output_type": "stream",
     "text": [
      "20-06 - 12-month - order\n",
      "{'mean': {'single': {'upper': {'indicator': 'stochastic8', 'barrier': 10}, 'lower': {'indicator': 'ppo32', 'barrier': 26}, 'best': {'type': 'upper', 'indicator': 'stochastic8', 'barrier': 10}}}, 'order': {'single': {'upper': {'indicator': 'ppo8', 'barrier': 13}, 'lower': {'indicator': 'ppo32', 'barrier': -4}, 'best': {'type': 'upper', 'indicator': 'ppo8', 'barrier': 13}}}}\n",
      "Key in forward opt json 20-07 - 6-month - mean - 380\n"
     ]
    },
    {
     "name": "stderr",
     "output_type": "stream",
     "text": [
      "\r",
      " 98%|█████████▊| 973/996 [6:33:56<09:02, 23.59s/it]"
     ]
    },
    {
     "name": "stdout",
     "output_type": "stream",
     "text": [
      "20-07 - 6-month - mean\n",
      "{'mean': {'single': {'upper': {'indicator': 'ppo8', 'barrier': 3}, 'lower': {'indicator': 'ppo16', 'barrier': 27}, 'best': {'type': 'upper', 'indicator': 'ppo8', 'barrier': 3}}}, 'order': {'single': {'upper': {'indicator': 'ppo8', 'barrier': 3}, 'lower': {'indicator': 'ppo8', 'barrier': 25}, 'best': {'type': 'upper', 'indicator': 'ppo8', 'barrier': 3}}}}\n",
      "Key in forward opt json 20-07 - 6-month - order - 380\n"
     ]
    },
    {
     "name": "stderr",
     "output_type": "stream",
     "text": [
      "\r",
      " 98%|█████████▊| 974/996 [6:34:16<08:16, 22.55s/it]"
     ]
    },
    {
     "name": "stdout",
     "output_type": "stream",
     "text": [
      "20-07 - 6-month - order\n",
      "{'mean': {'single': {'upper': {'indicator': 'adx16', 'barrier': 11}, 'lower': {'indicator': 'ppo32', 'barrier': 24}, 'best': {'type': 'upper', 'indicator': 'adx16', 'barrier': 11}}}, 'order': {'single': {'upper': {'indicator': 'adx8', 'barrier': 42}, 'lower': {'indicator': 'stochastic16', 'barrier': 8}, 'best': {'type': 'upper', 'indicator': 'adx8', 'barrier': 42}}}}\n",
      "Key in forward opt json 20-07 - 12-month - mean - 61\n"
     ]
    },
    {
     "name": "stderr",
     "output_type": "stream",
     "text": [
      "\r",
      " 98%|█████████▊| 975/996 [6:34:35<07:31, 21.48s/it]"
     ]
    },
    {
     "name": "stdout",
     "output_type": "stream",
     "text": [
      "20-07 - 12-month - mean\n",
      "{'mean': {'single': {'upper': {'indicator': 'stochastic16', 'barrier': 6}, 'lower': {'indicator': 'adx16', 'barrier': 32}, 'best': {'type': 'upper', 'indicator': 'stochastic16', 'barrier': 6}}}, 'order': {'single': {'upper': {'indicator': 'stochastic16', 'barrier': 22}, 'lower': {'indicator': 'ppo32', 'barrier': 5}, 'best': {'type': 'upper', 'indicator': 'stochastic16', 'barrier': 22}}}}\n",
      "Key in forward opt json 20-07 - 12-month - order - 1018\n"
     ]
    },
    {
     "name": "stderr",
     "output_type": "stream",
     "text": [
      "\r",
      " 98%|█████████▊| 976/996 [6:35:03<07:47, 23.38s/it]"
     ]
    },
    {
     "name": "stdout",
     "output_type": "stream",
     "text": [
      "20-07 - 12-month - order\n",
      "{'mean': {'single': {'upper': {'indicator': 'adx16', 'barrier': 10}, 'lower': {'indicator': 'ppo32', 'barrier': 24}, 'best': {'type': 'upper', 'indicator': 'adx16', 'barrier': 10}}}, 'order': {'single': {'upper': {'indicator': 'adx16', 'barrier': 14}, 'lower': {'indicator': 'stochastic8', 'barrier': 12}, 'best': {'type': 'upper', 'indicator': 'adx16', 'barrier': 14}}}}\n",
      "Key in forward opt json 20-08 - 6-month - mean - 294\n"
     ]
    },
    {
     "name": "stderr",
     "output_type": "stream",
     "text": [
      "\r",
      " 98%|█████████▊| 977/996 [6:35:24<07:07, 22.49s/it]"
     ]
    },
    {
     "name": "stdout",
     "output_type": "stream",
     "text": [
      "20-08 - 6-month - mean\n",
      "{'mean': {'single': {'upper': {'indicator': 'adx16', 'barrier': 11}, 'lower': {'indicator': 'ppo8', 'barrier': 27}, 'best': {'type': 'upper', 'indicator': 'adx16', 'barrier': 11}}}, 'order': {'single': {'upper': {'indicator': 'adx32', 'barrier': 11}, 'lower': {'indicator': 'ppo8', 'barrier': 19}, 'best': {'type': 'upper', 'indicator': 'adx32', 'barrier': 11}}}}\n",
      "Key in forward opt json 20-08 - 6-month - order - 294\n"
     ]
    },
    {
     "name": "stderr",
     "output_type": "stream",
     "text": [
      "\r",
      " 98%|█████████▊| 978/996 [6:35:44<06:33, 21.86s/it]"
     ]
    },
    {
     "name": "stdout",
     "output_type": "stream",
     "text": [
      "20-08 - 6-month - order\n",
      "{'mean': {'single': {'upper': {'indicator': 'adx8', 'barrier': 14}, 'lower': {'indicator': 'ppo32', 'barrier': 22}, 'best': {'type': 'upper', 'indicator': 'adx8', 'barrier': 14}}}, 'order': {'single': {'upper': {'indicator': 'ppo8', 'barrier': 17}, 'lower': {'indicator': 'adx16', 'barrier': 13}, 'best': {'type': 'upper', 'indicator': 'ppo8', 'barrier': 17}}}}\n",
      "Key in forward opt json 20-08 - 12-month - mean - 60\n"
     ]
    },
    {
     "name": "stderr",
     "output_type": "stream",
     "text": [
      "\r",
      " 98%|█████████▊| 979/996 [6:36:03<05:54, 20.83s/it]"
     ]
    },
    {
     "name": "stdout",
     "output_type": "stream",
     "text": [
      "20-08 - 12-month - mean\n",
      "{'mean': {'single': {'upper': {'indicator': 'stochastic16', 'barrier': 6}, 'lower': {'indicator': 'adx16', 'barrier': 32}, 'best': {'type': 'upper', 'indicator': 'stochastic16', 'barrier': 6}}}, 'order': {'single': {'upper': {'indicator': 'stochastic16', 'barrier': 22}, 'lower': {'indicator': 'ppo32', 'barrier': 5}, 'best': {'type': 'upper', 'indicator': 'stochastic16', 'barrier': 22}}}}\n",
      "Key in forward opt json 20-08 - 12-month - order - 945\n"
     ]
    },
    {
     "name": "stderr",
     "output_type": "stream",
     "text": [
      "\r",
      " 98%|█████████▊| 980/996 [6:36:30<06:02, 22.68s/it]"
     ]
    },
    {
     "name": "stdout",
     "output_type": "stream",
     "text": [
      "20-08 - 12-month - order\n",
      "{'mean': {'single': {'upper': {'indicator': 'adx16', 'barrier': 10}, 'lower': {'indicator': 'ppo32', 'barrier': 24}, 'best': {'type': 'upper', 'indicator': 'adx16', 'barrier': 10}}}, 'order': {'single': {'upper': {'indicator': 'ppo32', 'barrier': 26}, 'lower': {'indicator': 'stochastic32', 'barrier': 36}, 'best': {'type': 'upper', 'indicator': 'ppo32', 'barrier': 26}}}}\n"
     ]
    },
    {
     "name": "stderr",
     "output_type": "stream",
     "text": [
      "\r",
      " 98%|█████████▊| 981/996 [6:36:48<05:22, 21.52s/it]"
     ]
    },
    {
     "name": "stdout",
     "output_type": "stream",
     "text": [
      "Key in forward opt json 20-09 - 6-month - mean - 1\n",
      "Not enough trades for 20-09 - 6-month - mean\n",
      "20-09 - 6-month - mean\n",
      "None\n",
      "Key in forward opt json 20-09 - 6-month - order - 254\n"
     ]
    },
    {
     "name": "stderr",
     "output_type": "stream",
     "text": [
      "\r",
      " 99%|█████████▊| 982/996 [6:37:07<04:50, 20.75s/it]"
     ]
    },
    {
     "name": "stdout",
     "output_type": "stream",
     "text": [
      "20-09 - 6-month - order\n",
      "{'mean': {'single': {'upper': {'indicator': 'stochastic16', 'barrier': 25}, 'lower': {'indicator': 'ppo32', 'barrier': 24}, 'best': {'type': 'upper', 'indicator': 'stochastic16', 'barrier': 25}}}, 'order': {'single': {'upper': {'indicator': 'stochastic8', 'barrier': 68}, 'lower': {'indicator': 'ppo32', 'barrier': 4}, 'best': {'type': 'upper', 'indicator': 'stochastic8', 'barrier': 68}}}}\n",
      "Key in forward opt json 20-09 - 12-month - mean - 51\n"
     ]
    },
    {
     "name": "stderr",
     "output_type": "stream",
     "text": [
      "\r",
      " 99%|█████████▊| 983/996 [6:37:26<04:21, 20.14s/it]"
     ]
    },
    {
     "name": "stdout",
     "output_type": "stream",
     "text": [
      "20-09 - 12-month - mean\n",
      "{'mean': {'single': {'upper': {'indicator': 'stochastic16', 'barrier': 6}, 'lower': {'indicator': 'adx16', 'barrier': 32}, 'best': {'type': 'upper', 'indicator': 'stochastic16', 'barrier': 6}}}, 'order': {'single': {'upper': {'indicator': 'stochastic16', 'barrier': 22}, 'lower': {'indicator': 'ppo32', 'barrier': 5}, 'best': {'type': 'upper', 'indicator': 'stochastic16', 'barrier': 22}}}}\n",
      "Key in forward opt json 20-09 - 12-month - order - 945\n"
     ]
    },
    {
     "name": "stderr",
     "output_type": "stream",
     "text": [
      "\r",
      " 99%|█████████▉| 984/996 [6:37:53<04:25, 22.11s/it]"
     ]
    },
    {
     "name": "stdout",
     "output_type": "stream",
     "text": [
      "20-09 - 12-month - order\n",
      "{'mean': {'single': {'upper': {'indicator': 'adx16', 'barrier': 10}, 'lower': {'indicator': 'ppo32', 'barrier': 24}, 'best': {'type': 'upper', 'indicator': 'adx16', 'barrier': 10}}}, 'order': {'single': {'upper': {'indicator': 'ppo16', 'barrier': 31}, 'lower': {'indicator': 'ppo32', 'barrier': -2}, 'best': {'type': 'upper', 'indicator': 'ppo16', 'barrier': 31}}}}\n"
     ]
    },
    {
     "name": "stderr",
     "output_type": "stream",
     "text": [
      "\r",
      " 99%|█████████▉| 985/996 [6:38:11<03:49, 20.90s/it]"
     ]
    },
    {
     "name": "stdout",
     "output_type": "stream",
     "text": [
      "Key in forward opt json 20-10 - 6-month - mean - 2\n",
      "Not enough trades for 20-10 - 6-month - mean\n",
      "20-10 - 6-month - mean\n",
      "None\n",
      "Key in forward opt json 20-10 - 6-month - order - 293\n"
     ]
    },
    {
     "name": "stderr",
     "output_type": "stream",
     "text": [
      "\r",
      " 99%|█████████▉| 986/996 [6:38:30<03:25, 20.55s/it]"
     ]
    },
    {
     "name": "stdout",
     "output_type": "stream",
     "text": [
      "20-10 - 6-month - order\n",
      "{'mean': {'single': {'upper': {'indicator': 'stochastic16', 'barrier': 19}, 'lower': {'indicator': 'ppo32', 'barrier': 19}, 'best': {'type': 'upper', 'indicator': 'stochastic16', 'barrier': 19}}}, 'order': {'single': {'upper': {'indicator': 'ppo16', 'barrier': 13}, 'lower': {'indicator': 'stochastic8', 'barrier': 41}, 'best': {'type': 'upper', 'indicator': 'ppo16', 'barrier': 13}}}}\n",
      "Key in forward opt json 20-10 - 12-month - mean - 898\n"
     ]
    },
    {
     "name": "stderr",
     "output_type": "stream",
     "text": [
      "\r",
      " 99%|█████████▉| 987/996 [6:38:57<03:20, 22.30s/it]"
     ]
    },
    {
     "name": "stdout",
     "output_type": "stream",
     "text": [
      "20-10 - 12-month - mean\n",
      "{'mean': {'single': {'upper': {'indicator': 'stochastic8', 'barrier': 6}, 'lower': {'indicator': 'ppo8', 'barrier': 11}, 'best': {'type': 'upper', 'indicator': 'stochastic8', 'barrier': 6}}}, 'order': {'single': {'upper': {'indicator': 'adx32', 'barrier': 19}, 'lower': {'indicator': 'stochastic32', 'barrier': 72}, 'best': {'type': 'upper', 'indicator': 'adx32', 'barrier': 19}}}}\n",
      "Key in forward opt json 20-10 - 12-month - order - 898\n"
     ]
    },
    {
     "name": "stderr",
     "output_type": "stream",
     "text": [
      "\r",
      " 99%|█████████▉| 988/996 [6:39:23<03:07, 23.50s/it]"
     ]
    },
    {
     "name": "stdout",
     "output_type": "stream",
     "text": [
      "20-10 - 12-month - order\n",
      "{'mean': {'single': {'upper': {'indicator': 'adx16', 'barrier': 10}, 'lower': {'indicator': 'ppo32', 'barrier': 30}, 'best': {'type': 'upper', 'indicator': 'adx16', 'barrier': 10}}}, 'order': {'single': {'upper': {'indicator': 'ppo32', 'barrier': 26}, 'lower': {'indicator': 'ppo8', 'barrier': 3}, 'best': {'type': 'upper', 'indicator': 'ppo32', 'barrier': 26}}}}\n",
      "Key in forward opt json 20-11 - 6-month - mean - 62\n"
     ]
    },
    {
     "name": "stderr",
     "output_type": "stream",
     "text": [
      "\r",
      " 99%|█████████▉| 989/996 [6:39:42<02:35, 22.20s/it]"
     ]
    },
    {
     "name": "stdout",
     "output_type": "stream",
     "text": [
      "20-11 - 6-month - mean\n",
      "{'mean': {'single': {'upper': {'indicator': 'stochastic32', 'barrier': 25}, 'lower': {'indicator': 'ppo32', 'barrier': 4}, 'best': {'type': 'upper', 'indicator': 'stochastic32', 'barrier': 25}}}, 'order': {'single': {'upper': {'indicator': 'adx8', 'barrier': 30}, 'lower': {'indicator': 'stochastic32', 'barrier': 23}, 'best': {'type': 'upper', 'indicator': 'adx8', 'barrier': 30}}}}\n",
      "Key in forward opt json 20-11 - 6-month - order - 392\n"
     ]
    },
    {
     "name": "stderr",
     "output_type": "stream",
     "text": [
      "\r",
      " 99%|█████████▉| 990/996 [6:40:03<02:10, 21.75s/it]"
     ]
    },
    {
     "name": "stdout",
     "output_type": "stream",
     "text": [
      "20-11 - 6-month - order\n",
      "{'mean': {'single': {'upper': {'indicator': 'ppo16', 'barrier': 1}, 'lower': {'indicator': 'ppo32', 'barrier': 19}, 'best': {'type': 'upper', 'indicator': 'ppo16', 'barrier': 1}}}, 'order': {'single': {'upper': {'indicator': 'stochastic8', 'barrier': 77}, 'lower': {'indicator': 'adx8', 'barrier': 15}, 'best': {'type': 'upper', 'indicator': 'stochastic8', 'barrier': 77}}}}\n",
      "Key in forward opt json 20-11 - 12-month - mean - 205\n"
     ]
    },
    {
     "name": "stderr",
     "output_type": "stream",
     "text": [
      "\r",
      " 99%|█████████▉| 991/996 [6:40:22<01:44, 20.85s/it]"
     ]
    },
    {
     "name": "stdout",
     "output_type": "stream",
     "text": [
      "20-11 - 12-month - mean\n",
      "{'mean': {'single': {'upper': {'indicator': 'stochastic16', 'barrier': 8}, 'lower': {'indicator': 'adx16', 'barrier': 36}, 'best': {'type': 'upper', 'indicator': 'stochastic16', 'barrier': 8}}}, 'order': {'single': {'upper': {'indicator': 'stochastic16', 'barrier': 34}, 'lower': {'indicator': 'stochastic32', 'barrier': 7}, 'best': {'type': 'upper', 'indicator': 'stochastic16', 'barrier': 34}}}}\n",
      "Key in forward opt json 20-11 - 12-month - order - 869\n"
     ]
    },
    {
     "name": "stderr",
     "output_type": "stream",
     "text": [
      "\r",
      "100%|█████████▉| 992/996 [6:40:47<01:28, 22.19s/it]"
     ]
    },
    {
     "name": "stdout",
     "output_type": "stream",
     "text": [
      "20-11 - 12-month - order\n",
      "{'mean': {'single': {'upper': {'indicator': 'ppo8', 'barrier': -1}, 'lower': {'indicator': 'ppo8', 'barrier': 31}, 'best': {'type': 'upper', 'indicator': 'ppo8', 'barrier': -1}}}, 'order': {'single': {'upper': {'indicator': 'ppo16', 'barrier': 15}, 'lower': {'indicator': 'stochastic8', 'barrier': 10}, 'best': {'type': 'upper', 'indicator': 'ppo16', 'barrier': 15}}}}\n",
      "Key in forward opt json 20-12 - 6-month - mean - 63\n"
     ]
    },
    {
     "name": "stderr",
     "output_type": "stream",
     "text": [
      "\r",
      "100%|█████████▉| 993/996 [6:41:07<01:04, 21.57s/it]"
     ]
    },
    {
     "name": "stdout",
     "output_type": "stream",
     "text": [
      "20-12 - 6-month - mean\n",
      "{'mean': {'single': {'upper': {'indicator': 'adx8', 'barrier': 30}, 'lower': {'indicator': 'ppo16', 'barrier': 11}, 'best': {'type': 'upper', 'indicator': 'adx8', 'barrier': 30}}}, 'order': {'single': {'upper': {'indicator': 'stochastic16', 'barrier': 18}, 'lower': {'indicator': 'stochastic16', 'barrier': 12}, 'best': {'type': 'upper', 'indicator': 'stochastic16', 'barrier': 18}}}}\n",
      "Key in forward opt json 20-12 - 6-month - order - 500\n"
     ]
    },
    {
     "name": "stderr",
     "output_type": "stream",
     "text": [
      "\r",
      "100%|█████████▉| 994/996 [6:41:29<00:43, 21.72s/it]"
     ]
    },
    {
     "name": "stdout",
     "output_type": "stream",
     "text": [
      "20-12 - 6-month - order\n",
      "{'mean': {'single': {'upper': {'indicator': 'ppo32', 'barrier': 0}, 'lower': {'indicator': 'ppo8', 'barrier': 31}, 'best': {'type': 'upper', 'indicator': 'ppo32', 'barrier': 0}}}, 'order': {'single': {'upper': {'indicator': 'adx8', 'barrier': 34}, 'lower': {'indicator': 'stochastic16', 'barrier': 57}, 'best': {'type': 'upper', 'indicator': 'adx8', 'barrier': 34}}}}\n",
      "Key in forward opt json 20-12 - 12-month - mean - 909\n"
     ]
    },
    {
     "name": "stderr",
     "output_type": "stream",
     "text": [
      "\r",
      "100%|█████████▉| 995/996 [6:41:56<00:23, 23.35s/it]"
     ]
    },
    {
     "name": "stdout",
     "output_type": "stream",
     "text": [
      "20-12 - 12-month - mean\n",
      "{'mean': {'single': {'upper': {'indicator': 'ppo32', 'barrier': -4}, 'lower': {'indicator': 'ppo16', 'barrier': 35}, 'best': {'type': 'upper', 'indicator': 'ppo32', 'barrier': -4}}}, 'order': {'single': {'upper': {'indicator': 'adx16', 'barrier': 32}, 'lower': {'indicator': 'stochastic16', 'barrier': 48}, 'best': {'type': 'upper', 'indicator': 'adx16', 'barrier': 32}}}}\n",
      "Key in forward opt json 20-12 - 12-month - order - 917\n"
     ]
    },
    {
     "name": "stderr",
     "output_type": "stream",
     "text": [
      "100%|██████████| 996/996 [6:42:24<00:00, 24.24s/it]"
     ]
    },
    {
     "name": "stdout",
     "output_type": "stream",
     "text": [
      "20-12 - 12-month - order\n",
      "{'mean': {'single': {'upper': {'indicator': 'ppo8', 'barrier': -1}, 'lower': {'indicator': 'ppo8', 'barrier': 31}, 'best': {'type': 'upper', 'indicator': 'ppo8', 'barrier': -1}}}, 'order': {'single': {'upper': {'indicator': 'ppo8', 'barrier': 11}, 'lower': {'indicator': 'stochastic32', 'barrier': 49}, 'best': {'type': 'upper', 'indicator': 'ppo8', 'barrier': 11}}}}\n"
     ]
    },
    {
     "name": "stderr",
     "output_type": "stream",
     "text": [
      "\n"
     ]
    }
   ],
   "source": [
    "with tqdm.tqdm(total=len(unparsed_pairs)) as pbar:\n",
    "\n",
    "    for key, range_val, func_val in unparsed_pairs:\n",
    "        try:\n",
    "            df = get_filtered_df_by_key(key, range_val, func_val)\n",
    "\n",
    "            df[\"perc_change\"] = (\n",
    "                (df[\"price_sell\"] - df[\"price_open\"]) / df[\"price_open\"] * 100\n",
    "            )\n",
    "            df = df.drop([\"price_sell\", \"price_open\"], axis=1)\n",
    "            print(\n",
    "                f\"Key in forward opt json {key} - {range_val} - {func_val} - {df.shape[0]}\"\n",
    "            )\n",
    "\n",
    "        except KeyError:\n",
    "            print(f\"Key NOT in forward opt json {key} - {range_val} - {func_val}\")\n",
    "            pbar.update()\n",
    "            continue\n",
    "\n",
    "        size = df.shape[0] if FRAMEWORK == \"pandas\" else df.shape[0].compute()\n",
    "\n",
    "        if size < MIN_TRADES_REQUIRED:\n",
    "            print(f\"Not enough trades for {key} - {range_val} - {func_val}\")\n",
    "            optimal_res = None\n",
    "        else:\n",
    "            optimal_res = compute_optimal_res(df)\n",
    "\n",
    "        # 06-06 - 6-month - mean - 10\n",
    "        print(f\"{key} - {range_val} - {func_val}\")\n",
    "        print(optimal_res)\n",
    "\n",
    "        save_pair_result(key, range_val, func_val, optimal_res)\n",
    "        pbar.update()"
   ]
  }
 ],
 "metadata": {
  "kernelspec": {
   "display_name": "Python 3",
   "language": "python",
   "name": "python3"
  },
  "language_info": {
   "codemirror_mode": {
    "name": "ipython",
    "version": 3
   },
   "file_extension": ".py",
   "mimetype": "text/x-python",
   "name": "python",
   "nbconvert_exporter": "python",
   "pygments_lexer": "ipython3",
   "version": "3.8.10"
  }
 },
 "nbformat": 4,
 "nbformat_minor": 2
}
