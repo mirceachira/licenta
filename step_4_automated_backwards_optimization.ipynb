{
 "cells": [
  {
   "cell_type": "markdown",
   "metadata": {},
   "source": [
    "### Automated backwards optimization\n",
    "\n",
    "Automate the discovery of strategy rules."
   ]
  },
  {
   "cell_type": "code",
   "execution_count": null,
   "metadata": {},
   "outputs": [],
   "source": [
    "generate indicator combinations\n",
    "    * [2, 4, 8, etc]\n",
    "    * [adx, ]\n",
    "\n",
    "for i in indicators:\n",
    "    for start_date in range(first_date, last_date):\n",
    "        for end_date in range(start_date, last_date):\n",
    "            for lower_limit in range(min(i), max(i), some_step):\n",
    "                for upper_limit in range(lower_limit + 1?, max(i), some_step):\n",
    "\n",
    "                    compute profitability in range\n",
    "\n",
    "                    save results\n",
    "\n",
    "for i, j in indicator pairs:\n",
    "    for start_date in range(first_date, last_date):\n",
    "        for end_date in range(start_date, last_date):\n",
    "            for lower_limit_i in range(min(i), max(i), some_step):\n",
    "                for upper_limit_i in range(lower_limit + 1?, max(i), some_step):                    \n",
    "                    for lower_limit_j in range(min(j), max(j), some_step):\n",
    "                        for upper_limit_j in range(lower_limit + 1?, max(j), some_step):\n",
    "                            compute profitability in range\n",
    "\n",
    "                            save results\n"
   ]
  },
  {
   "cell_type": "code",
   "execution_count": 60,
   "metadata": {},
   "outputs": [],
   "source": [
    "import datetime\n",
    "import json\n",
    "from datetime import timedelta\n",
    "from dateutil.relativedelta import relativedelta\n",
    "from dateutil import rrule\n",
    "from itertools import product, combinations\n",
    "\n",
    "import numpy as np\n",
    "\n",
    "import pandas as pd\n",
    "import tqdm\n",
    "from matplotlib import pyplot\n",
    "import seaborn as sns\n",
    "import dask.dataframe as dd\n",
    "\n",
    "# TIMEFRAME = 'daily'\n",
    "TIMEFRAME = \"weekly\"\n",
    "\n",
    "# FRAMEWORK = 'dask'\n",
    "FRAMEWORK = \"pandas\"\n",
    "\n",
    "FIRST_DATE = datetime.datetime(2000, 1, 1)\n",
    "LAST_DATE = datetime.datetime(2020, 12, 31)\n",
    "\n",
    "FORWARD_OPT_RESULTS_JSON = f\"results/{TIMEFRAME}/forward_opt_results.json\"\n",
    "BACKWARD_OPT_RESULTS_JSON = f\"results/{TIMEFRAME}/backward_opt_results.json\"\n",
    "\n",
    "# The minimum number of trades in a period for it to be considered.\n",
    "MIN_TRADES_REQUIRED = 10"
   ]
  },
  {
   "cell_type": "code",
   "execution_count": null,
   "metadata": {},
   "outputs": [],
   "source": [
    "metrics_options = [\"adx\", \"ppo\", \"stochastic\"]\n",
    "\n",
    "\n",
    "if TIMEFRAME == \"daily\":\n",
    "    size_options = [8, 16, 32]\n",
    "    path = \"dataset/daily/\"\n",
    "    column_names = [\n",
    "        \"uid\",\n",
    "        \"ticker\",\n",
    "        \"date\",\n",
    "        \"price_open\",\n",
    "        \"maperiod\",\n",
    "        \"rsi_open_period\",\n",
    "        \"adx8\",\n",
    "        \"adx16\",\n",
    "        \"adx32\",\n",
    "        \"ppo8\",\n",
    "        \"ppo16\",\n",
    "        \"ppo32\",\n",
    "        \"stochastic8\",\n",
    "        \"stochastic16\",\n",
    "        \"stochastic32\",\n",
    "        \"price_sell\",\n",
    "        \"days_ago_close_period\",\n",
    "        \"rsi_close_period\",\n",
    "    ]\n",
    "elif TIMEFRAME == \"weekly\":\n",
    "    size_options = [3, 6, 9]\n",
    "    path = \"dataset/weekly/\"\n",
    "    column_names = [\n",
    "        \"uid\",\n",
    "        \"ticker\",\n",
    "        \"date\",\n",
    "        \"price_open\",\n",
    "        \"maperiod\",\n",
    "        \"rsi_open_period\",\n",
    "        \"adx3\",\n",
    "        \"adx6\",\n",
    "        \"adx9\",\n",
    "        \"ppo3\",\n",
    "        \"ppo6\",\n",
    "        \"ppo9\",\n",
    "        \"stochastic3\",\n",
    "        \"stochastic6\",\n",
    "        \"stochastic9\",\n",
    "        \"price_sell\",\n",
    "        \"days_ago_close_period\",\n",
    "        \"rsi_close_period\",\n",
    "    ]\n",
    "\n",
    "if FRAMEWORK == \"pandas\":\n",
    "    d = pd\n",
    "    f = f\"{path}/all_results.csv\"\n",
    "elif FRAMEWORK == \"dask\":\n",
    "    d = dd\n",
    "    f = f\"{path}/*.csv\"\n",
    "\n",
    "FULL_DF = d.read_csv(\n",
    "    f,\n",
    "    names=column_names,\n",
    ")\n",
    "\n",
    "\n",
    "def get_full_df():\n",
    "    return d.read_csv(\n",
    "        f,\n",
    "        names=column_names,\n",
    "    )"
   ]
  },
  {
   "cell_type": "code",
   "execution_count": null,
   "metadata": {},
   "outputs": [],
   "source": [
    "get_full_df()"
   ]
  },
  {
   "cell_type": "code",
   "execution_count": 61,
   "metadata": {},
   "outputs": [],
   "source": [
    "def get_forward_opt_json():\n",
    "    with open(FORWARD_OPT_RESULTS_JSON, \"r\") as f:\n",
    "        return json.loads(f.read())\n",
    "\n",
    "\n",
    "FORWARD_OPT_JSON = get_forward_opt_json()\n",
    "\n",
    "\n",
    "def get_filtered_df_by_key(key, range_name, func_type):\n",
    "    optimal_args = FORWARD_OPT_JSON[key][range_name][func_type]\n",
    "    df = get_full_df()\n",
    "\n",
    "    for k, v in optimal_args.items():\n",
    "        df = df[df[k] == v]\n",
    "\n",
    "    return df\n",
    "\n",
    "\n",
    "# get_filtered_df_by_key('17-10', '6-month', 'mean')"
   ]
  },
  {
   "cell_type": "code",
   "execution_count": 62,
   "metadata": {},
   "outputs": [],
   "source": [
    "keys = [\n",
    "    end_date.strftime(\"%y-%m\")\n",
    "    for end_date in rrule.rrule(rrule.MONTHLY, dtstart=FIRST_DATE, until=LAST_DATE)\n",
    "]\n",
    "range_values = [\n",
    "    \"6-month\",\n",
    "    \"12-month\",\n",
    "    \"max\",\n",
    "]\n",
    "func_values = [\"mean\", \"order\"]"
   ]
  },
  {
   "cell_type": "code",
   "execution_count": 63,
   "metadata": {},
   "outputs": [],
   "source": [
    "def get_backward_opt_json():\n",
    "    with open(BACKWARD_OPT_RESULTS_JSON, \"r\") as f:\n",
    "        return json.loads(f.read())\n",
    "\n",
    "\n",
    "BACKWARD_OPT_JSON = get_backward_opt_json()\n",
    "\n",
    "\n",
    "def is_pair_parsed(key, range_val, func_val):\n",
    "    if key not in BACKWARD_OPT_JSON:\n",
    "        return False\n",
    "\n",
    "    if range_val not in BACKWARD_OPT_JSON[key]:\n",
    "        return False\n",
    "\n",
    "    if func_val not in BACKWARD_OPT_JSON[key][range_val]:\n",
    "        return False\n",
    "\n",
    "    return True\n",
    "\n",
    "\n",
    "# for key, range_val, func_val in list(product(keys, range_values, func_values)):\n",
    "#     if is_pair_parsed(key, range_val, func_val) is False:\n",
    "#         print(f\"Pair {key} - {range_val} - {func_val} is NOT already parsed!\")"
   ]
  },
  {
   "cell_type": "code",
   "execution_count": 64,
   "metadata": {},
   "outputs": [],
   "source": [
    "def save_pair_result(key, range_val, func_val, optimal_res):\n",
    "    with open(BACKWARD_OPT_RESULTS_JSON, \"r\") as f:\n",
    "        backward_opt_json = json.loads(f.read())\n",
    "\n",
    "    backward_opt_json[key] = backward_opt_json.get(key, {})\n",
    "    backward_opt_json[key][range_val] = backward_opt_json[key].get(range_val, {})\n",
    "    backward_opt_json[key][range_val][func_val] = optimal_res\n",
    "\n",
    "    with open(BACKWARD_OPT_RESULTS_JSON, \"w\") as f:\n",
    "        f.write(json.dumps(backward_opt_json))\n",
    "\n",
    "\n",
    "# save_pair_result('00-01', '6-month', 'mean', 1)\n",
    "# is_pair_parsed('00-01', '6-month', 'mean')"
   ]
  },
  {
   "cell_type": "code",
   "execution_count": 65,
   "metadata": {},
   "outputs": [],
   "source": [
    "def mean_optimal_func(tmp_df):\n",
    "    max_value = tmp_df[\"perc_change\"].mean()\n",
    "\n",
    "    if FRAMEWORK == \"dask\":\n",
    "        max_value = max_value.compute()\n",
    "\n",
    "    return max_value\n",
    "\n",
    "\n",
    "def order_optimal_func(tmp_df):\n",
    "    l = []\n",
    "    for _, perc_change in tmp_df.sort_values([\"date\"])[\"perc_change\"].iteritems():\n",
    "        l.append(perc_change)\n",
    "\n",
    "    results = []\n",
    "    for i in range(len(l)):\n",
    "        res = 1\n",
    "        for j in range(i, len(l)):\n",
    "            res += (res * l[j]) / 100\n",
    "        results.append(res)\n",
    "\n",
    "    return sum(results) / len(results)"
   ]
  },
  {
   "cell_type": "code",
   "execution_count": 75,
   "metadata": {},
   "outputs": [],
   "source": [
    "singles = [f\"{x[0]}{x[1]}\" for x in list(product(metrics_options, size_options))]\n",
    "# doubles = list(combinations(indicators, 2))\n",
    "\n",
    "\n",
    "def single_compute_optimal_res(df, func):\n",
    "    upper_barrier_results = []\n",
    "    lower_barrier_results = []\n",
    "\n",
    "    for indicator in singles:\n",
    "        max_val, min_val = int(df[indicator].max()), int(df[indicator].min())\n",
    "\n",
    "        for barrier in range(min_val, max_val + 2, 2):\n",
    "            filtered_df = df[df[indicator] <= barrier]\n",
    "            if filtered_df.shape[0] >= MIN_TRADES_REQUIRED:\n",
    "                outcome = func(filtered_df)\n",
    "                if outcome and outcome not in [np.nan]:\n",
    "                    upper_barrier_results.append([indicator, barrier, float(outcome)])\n",
    "\n",
    "            filtered_df = df[df[indicator] >= barrier]\n",
    "            if filtered_df.shape[0] >= MIN_TRADES_REQUIRED:\n",
    "                outcome = func(filtered_df)\n",
    "                if outcome and outcome not in [np.nan]:\n",
    "                    lower_barrier_results.append([indicator, barrier, float(outcome)])\n",
    "\n",
    "    upper_barrier_df = pd.DataFrame(\n",
    "        np.array(upper_barrier_results), columns=[\"indicator\", \"barrier\", \"value\"]\n",
    "    )\n",
    "    upper_barrier_res = upper_barrier_df[\n",
    "        upper_barrier_df[\"value\"] == upper_barrier_df[\"value\"].max()\n",
    "    ]\n",
    "\n",
    "    lower_barrier_df = pd.DataFrame(\n",
    "        np.array(lower_barrier_results), columns=[\"indicator\", \"barrier\", \"value\"]\n",
    "    )\n",
    "    lower_barrier_res = lower_barrier_df[\n",
    "        lower_barrier_df[\"value\"] == lower_barrier_df[\"value\"].max()\n",
    "    ]\n",
    "\n",
    "    if upper_barrier_df[\"value\"].max():\n",
    "        best_type = \"upper\"\n",
    "        best_indicator = upper_barrier_res.iloc[0][\"indicator\"]\n",
    "        best_barrier = int(upper_barrier_res.iloc[0][\"barrier\"])\n",
    "    else:\n",
    "        best_type = \"lower\"\n",
    "        best_indicator = lower_barrier_res.iloc[0][\"indicator\"]\n",
    "        best_barrier = int(lower_barrier_res.iloc[0][\"barrier\"])\n",
    "\n",
    "    return {\n",
    "        \"upper\": {\n",
    "            \"indicator\": upper_barrier_res.iloc[0][\"indicator\"],\n",
    "            \"barrier\": int(upper_barrier_res.iloc[0][\"barrier\"]),\n",
    "        },\n",
    "        \"lower\": {\n",
    "            \"indicator\": lower_barrier_res.iloc[0][\"indicator\"],\n",
    "            \"barrier\": int(lower_barrier_res.iloc[0][\"barrier\"]),\n",
    "        },\n",
    "        \"best\": {\n",
    "            \"type\": best_type,\n",
    "            \"indicator\": best_indicator,\n",
    "            \"barrier\": best_barrier,\n",
    "        },\n",
    "    }\n",
    "\n",
    "\n",
    "def double_compute_optimal_res(df, func):\n",
    "    pass\n",
    "\n",
    "\n",
    "def compute_optimal_res(df):\n",
    "    result = {}\n",
    "    for name, func in [(\"mean\", mean_optimal_func), (\"order\", order_optimal_func)]:\n",
    "        result[name] = {\n",
    "            \"single\": single_compute_optimal_res(df, func),\n",
    "            #             'double': double_compute_optimal_res(df, func),\n",
    "        }\n",
    "\n",
    "    return result"
   ]
  },
  {
   "cell_type": "code",
   "execution_count": 69,
   "metadata": {},
   "outputs": [
    {
     "data": {
      "text/plain": [
       "1050"
      ]
     },
     "execution_count": 69,
     "metadata": {},
     "output_type": "execute_result"
    }
   ],
   "source": [
    "all_pairs = list(product(keys, range_values, func_values))\n",
    "\n",
    "unparsed_pairs = [\n",
    "    (key, range_val, func_val)\n",
    "    for key, range_val, func_val in all_pairs\n",
    "    if not is_pair_parsed(key, range_val, func_val)\n",
    "]\n",
    "\n",
    "len(unparsed_pairs)"
   ]
  },
  {
   "cell_type": "code",
   "execution_count": null,
   "metadata": {},
   "outputs": [
    {
     "name": "stderr",
     "output_type": "stream",
     "text": [
      "  0%|          | 1/1050 [00:00<04:50,  3.61it/s]"
     ]
    },
    {
     "name": "stdout",
     "output_type": "stream",
     "text": [
      "Key in forward opt json 06-06 - 6-month - mean - 10\n",
      "06-06 - 6-month - mean\n",
      "{'mean': {'single': {'upper': {'indicator': 'adx3', 'barrier': 69}, 'lower': {'indicator': 'adx3', 'barrier': 55}, 'best': {'type': 'upper', 'indicator': 'adx3', 'barrier': 69}}}, 'order': {'single': {'upper': {'indicator': 'adx3', 'barrier': 69}, 'lower': {'indicator': 'adx3', 'barrier': 55}, 'best': {'type': 'upper', 'indicator': 'adx3', 'barrier': 69}}}}\n",
      "Key in forward opt json 06-06 - 6-month - order - 58\n"
     ]
    },
    {
     "name": "stderr",
     "output_type": "stream",
     "text": [
      "\r",
      "  0%|          | 2/1050 [00:00<08:27,  2.07it/s]"
     ]
    },
    {
     "name": "stdout",
     "output_type": "stream",
     "text": [
      "06-06 - 6-month - order\n",
      "{'mean': {'single': {'upper': {'indicator': 'adx6', 'barrier': 34}, 'lower': {'indicator': 'ppo3', 'barrier': 5}, 'best': {'type': 'upper', 'indicator': 'adx6', 'barrier': 34}}}, 'order': {'single': {'upper': {'indicator': 'adx3', 'barrier': 63}, 'lower': {'indicator': 'ppo3', 'barrier': 5}, 'best': {'type': 'upper', 'indicator': 'adx3', 'barrier': 63}}}}\n",
      "Key in forward opt json 06-06 - 12-month - mean - 795\n"
     ]
    },
    {
     "name": "stderr",
     "output_type": "stream",
     "text": [
      "\r",
      "  0%|          | 3/1050 [00:08<1:03:51,  3.66s/it]"
     ]
    },
    {
     "name": "stdout",
     "output_type": "stream",
     "text": [
      "06-06 - 12-month - mean\n",
      "{'mean': {'single': {'upper': {'indicator': 'stochastic9', 'barrier': 21}, 'lower': {'indicator': 'stochastic3', 'barrier': 70}, 'best': {'type': 'upper', 'indicator': 'stochastic9', 'barrier': 21}}}, 'order': {'single': {'upper': {'indicator': 'adx6', 'barrier': 45}, 'lower': {'indicator': 'stochastic9', 'barrier': 25}, 'best': {'type': 'upper', 'indicator': 'adx6', 'barrier': 45}}}}\n",
      "Key in forward opt json 06-06 - 12-month - order - 795\n"
     ]
    },
    {
     "name": "stderr",
     "output_type": "stream",
     "text": [
      "\r",
      "  0%|          | 4/1050 [00:15<1:30:21,  5.18s/it]"
     ]
    },
    {
     "name": "stdout",
     "output_type": "stream",
     "text": [
      "06-06 - 12-month - order\n",
      "{'mean': {'single': {'upper': {'indicator': 'ppo6', 'barrier': 0}, 'lower': {'indicator': 'ppo9', 'barrier': 14}, 'best': {'type': 'upper', 'indicator': 'ppo6', 'barrier': 0}}}, 'order': {'single': {'upper': {'indicator': 'ppo3', 'barrier': 20}, 'lower': {'indicator': 'stochastic6', 'barrier': 29}, 'best': {'type': 'upper', 'indicator': 'ppo3', 'barrier': 20}}}}\n",
      "Key in forward opt json 06-06 - max - mean - 73\n"
     ]
    },
    {
     "name": "stderr",
     "output_type": "stream",
     "text": [
      "\r",
      "  0%|          | 5/1050 [00:16<1:02:01,  3.56s/it]"
     ]
    },
    {
     "name": "stdout",
     "output_type": "stream",
     "text": [
      "06-06 - max - mean\n",
      "{'mean': {'single': {'upper': {'indicator': 'adx3', 'barrier': 53}, 'lower': {'indicator': 'ppo3', 'barrier': 7}, 'best': {'type': 'upper', 'indicator': 'adx3', 'barrier': 53}}}, 'order': {'single': {'upper': {'indicator': 'adx3', 'barrier': 65}, 'lower': {'indicator': 'stochastic3', 'barrier': 7}, 'best': {'type': 'upper', 'indicator': 'adx3', 'barrier': 65}}}}\n",
      "Key in forward opt json 06-06 - max - order - 828\n"
     ]
    },
    {
     "name": "stderr",
     "output_type": "stream",
     "text": [
      "\r",
      "  1%|          | 6/1050 [00:25<1:34:04,  5.41s/it]"
     ]
    },
    {
     "name": "stdout",
     "output_type": "stream",
     "text": [
      "06-06 - max - order\n",
      "{'mean': {'single': {'upper': {'indicator': 'ppo3', 'barrier': 1}, 'lower': {'indicator': 'stochastic3', 'barrier': 68}, 'best': {'type': 'upper', 'indicator': 'ppo3', 'barrier': 1}}}, 'order': {'single': {'upper': {'indicator': 'adx6', 'barrier': 51}, 'lower': {'indicator': 'ppo6', 'barrier': -1}, 'best': {'type': 'upper', 'indicator': 'adx6', 'barrier': 51}}}}\n",
      "Key in forward opt json 06-07 - 6-month - mean - 10\n"
     ]
    },
    {
     "name": "stderr",
     "output_type": "stream",
     "text": [
      "\r",
      "  1%|          | 7/1050 [00:25<1:04:50,  3.73s/it]"
     ]
    },
    {
     "name": "stdout",
     "output_type": "stream",
     "text": [
      "06-07 - 6-month - mean\n",
      "{'mean': {'single': {'upper': {'indicator': 'adx3', 'barrier': 69}, 'lower': {'indicator': 'adx3', 'barrier': 55}, 'best': {'type': 'upper', 'indicator': 'adx3', 'barrier': 69}}}, 'order': {'single': {'upper': {'indicator': 'adx3', 'barrier': 69}, 'lower': {'indicator': 'adx3', 'barrier': 55}, 'best': {'type': 'upper', 'indicator': 'adx3', 'barrier': 69}}}}\n",
      "Key in forward opt json 06-07 - 6-month - order - 796\n"
     ]
    },
    {
     "name": "stderr",
     "output_type": "stream",
     "text": [
      "\r",
      "  1%|          | 8/1050 [00:33<1:26:03,  4.96s/it]"
     ]
    },
    {
     "name": "stdout",
     "output_type": "stream",
     "text": [
      "06-07 - 6-month - order\n",
      "{'mean': {'single': {'upper': {'indicator': 'ppo6', 'barrier': 0}, 'lower': {'indicator': 'ppo9', 'barrier': 14}, 'best': {'type': 'upper', 'indicator': 'ppo6', 'barrier': 0}}}, 'order': {'single': {'upper': {'indicator': 'stochastic9', 'barrier': 75}, 'lower': {'indicator': 'stochastic3', 'barrier': 30}, 'best': {'type': 'upper', 'indicator': 'stochastic9', 'barrier': 75}}}}\n",
      "Key in forward opt json 06-07 - 12-month - mean - 795\n"
     ]
    },
    {
     "name": "stderr",
     "output_type": "stream",
     "text": [
      "\r",
      "  1%|          | 9/1050 [00:40<1:40:12,  5.78s/it]"
     ]
    },
    {
     "name": "stdout",
     "output_type": "stream",
     "text": [
      "06-07 - 12-month - mean\n",
      "{'mean': {'single': {'upper': {'indicator': 'stochastic9', 'barrier': 21}, 'lower': {'indicator': 'stochastic3', 'barrier': 70}, 'best': {'type': 'upper', 'indicator': 'stochastic9', 'barrier': 21}}}, 'order': {'single': {'upper': {'indicator': 'adx6', 'barrier': 45}, 'lower': {'indicator': 'stochastic9', 'barrier': 25}, 'best': {'type': 'upper', 'indicator': 'adx6', 'barrier': 45}}}}\n",
      "Key in forward opt json 06-07 - 12-month - order - 795\n"
     ]
    },
    {
     "name": "stderr",
     "output_type": "stream",
     "text": [
      "\r",
      "  1%|          | 10/1050 [00:48<1:49:48,  6.34s/it]"
     ]
    },
    {
     "name": "stdout",
     "output_type": "stream",
     "text": [
      "06-07 - 12-month - order\n",
      "{'mean': {'single': {'upper': {'indicator': 'ppo6', 'barrier': 0}, 'lower': {'indicator': 'ppo9', 'barrier': 14}, 'best': {'type': 'upper', 'indicator': 'ppo6', 'barrier': 0}}}, 'order': {'single': {'upper': {'indicator': 'ppo3', 'barrier': 20}, 'lower': {'indicator': 'stochastic6', 'barrier': 29}, 'best': {'type': 'upper', 'indicator': 'ppo3', 'barrier': 20}}}}\n",
      "Key in forward opt json 06-07 - max - mean - 73\n"
     ]
    },
    {
     "name": "stderr",
     "output_type": "stream",
     "text": [
      "\r",
      "  1%|          | 11/1050 [00:49<1:19:49,  4.61s/it]"
     ]
    },
    {
     "name": "stdout",
     "output_type": "stream",
     "text": [
      "06-07 - max - mean\n",
      "{'mean': {'single': {'upper': {'indicator': 'adx3', 'barrier': 53}, 'lower': {'indicator': 'ppo3', 'barrier': 7}, 'best': {'type': 'upper', 'indicator': 'adx3', 'barrier': 53}}}, 'order': {'single': {'upper': {'indicator': 'adx3', 'barrier': 65}, 'lower': {'indicator': 'stochastic3', 'barrier': 7}, 'best': {'type': 'upper', 'indicator': 'adx3', 'barrier': 65}}}}\n",
      "Key in forward opt json 06-07 - max - order - 828\n"
     ]
    },
    {
     "name": "stderr",
     "output_type": "stream",
     "text": [
      "\r",
      "  1%|          | 12/1050 [00:58<1:42:53,  5.95s/it]"
     ]
    },
    {
     "name": "stdout",
     "output_type": "stream",
     "text": [
      "06-07 - max - order\n",
      "{'mean': {'single': {'upper': {'indicator': 'ppo3', 'barrier': 1}, 'lower': {'indicator': 'stochastic3', 'barrier': 68}, 'best': {'type': 'upper', 'indicator': 'ppo3', 'barrier': 1}}}, 'order': {'single': {'upper': {'indicator': 'adx6', 'barrier': 51}, 'lower': {'indicator': 'ppo6', 'barrier': -1}, 'best': {'type': 'upper', 'indicator': 'adx6', 'barrier': 51}}}}\n",
      "Key in forward opt json 06-08 - 6-month - mean - 10\n"
     ]
    },
    {
     "name": "stderr",
     "output_type": "stream",
     "text": [
      "\r",
      "  1%|          | 13/1050 [00:58<1:13:07,  4.23s/it]"
     ]
    },
    {
     "name": "stdout",
     "output_type": "stream",
     "text": [
      "06-08 - 6-month - mean\n",
      "{'mean': {'single': {'upper': {'indicator': 'adx3', 'barrier': 69}, 'lower': {'indicator': 'adx3', 'barrier': 55}, 'best': {'type': 'upper', 'indicator': 'adx3', 'barrier': 69}}}, 'order': {'single': {'upper': {'indicator': 'adx3', 'barrier': 69}, 'lower': {'indicator': 'adx3', 'barrier': 55}, 'best': {'type': 'upper', 'indicator': 'adx3', 'barrier': 69}}}}\n",
      "Key in forward opt json 06-08 - 6-month - order - 796\n"
     ]
    },
    {
     "name": "stderr",
     "output_type": "stream",
     "text": [
      "\r",
      "  1%|▏         | 14/1050 [01:06<1:30:36,  5.25s/it]"
     ]
    },
    {
     "name": "stdout",
     "output_type": "stream",
     "text": [
      "06-08 - 6-month - order\n",
      "{'mean': {'single': {'upper': {'indicator': 'ppo6', 'barrier': 0}, 'lower': {'indicator': 'ppo9', 'barrier': 14}, 'best': {'type': 'upper', 'indicator': 'ppo6', 'barrier': 0}}}, 'order': {'single': {'upper': {'indicator': 'stochastic9', 'barrier': 75}, 'lower': {'indicator': 'stochastic3', 'barrier': 30}, 'best': {'type': 'upper', 'indicator': 'stochastic9', 'barrier': 75}}}}\n",
      "Key in forward opt json 06-08 - 12-month - mean - 795\n"
     ]
    },
    {
     "name": "stderr",
     "output_type": "stream",
     "text": [
      "\r",
      "  1%|▏         | 15/1050 [01:13<1:42:59,  5.97s/it]"
     ]
    },
    {
     "name": "stdout",
     "output_type": "stream",
     "text": [
      "06-08 - 12-month - mean\n",
      "{'mean': {'single': {'upper': {'indicator': 'stochastic9', 'barrier': 21}, 'lower': {'indicator': 'stochastic3', 'barrier': 70}, 'best': {'type': 'upper', 'indicator': 'stochastic9', 'barrier': 21}}}, 'order': {'single': {'upper': {'indicator': 'adx6', 'barrier': 45}, 'lower': {'indicator': 'stochastic9', 'barrier': 25}, 'best': {'type': 'upper', 'indicator': 'adx6', 'barrier': 45}}}}\n",
      "Key in forward opt json 06-08 - 12-month - order - 795\n"
     ]
    },
    {
     "name": "stderr",
     "output_type": "stream",
     "text": [
      "\r",
      "  2%|▏         | 16/1050 [01:22<1:56:05,  6.74s/it]"
     ]
    },
    {
     "name": "stdout",
     "output_type": "stream",
     "text": [
      "06-08 - 12-month - order\n",
      "{'mean': {'single': {'upper': {'indicator': 'ppo6', 'barrier': 0}, 'lower': {'indicator': 'ppo9', 'barrier': 14}, 'best': {'type': 'upper', 'indicator': 'ppo6', 'barrier': 0}}}, 'order': {'single': {'upper': {'indicator': 'ppo3', 'barrier': 20}, 'lower': {'indicator': 'stochastic6', 'barrier': 29}, 'best': {'type': 'upper', 'indicator': 'ppo3', 'barrier': 20}}}}\n",
      "Key in forward opt json 06-08 - max - mean - 73\n"
     ]
    },
    {
     "name": "stderr",
     "output_type": "stream",
     "text": [
      "\r",
      "  2%|▏         | 17/1050 [01:23<1:24:56,  4.93s/it]"
     ]
    },
    {
     "name": "stdout",
     "output_type": "stream",
     "text": [
      "06-08 - max - mean\n",
      "{'mean': {'single': {'upper': {'indicator': 'adx3', 'barrier': 53}, 'lower': {'indicator': 'ppo3', 'barrier': 7}, 'best': {'type': 'upper', 'indicator': 'adx3', 'barrier': 53}}}, 'order': {'single': {'upper': {'indicator': 'adx3', 'barrier': 65}, 'lower': {'indicator': 'stochastic3', 'barrier': 7}, 'best': {'type': 'upper', 'indicator': 'adx3', 'barrier': 65}}}}\n",
      "Key in forward opt json 06-08 - max - order - 828\n"
     ]
    },
    {
     "name": "stderr",
     "output_type": "stream",
     "text": [
      "\r",
      "  2%|▏         | 18/1050 [01:33<1:55:16,  6.70s/it]"
     ]
    },
    {
     "name": "stdout",
     "output_type": "stream",
     "text": [
      "06-08 - max - order\n",
      "{'mean': {'single': {'upper': {'indicator': 'ppo3', 'barrier': 1}, 'lower': {'indicator': 'stochastic3', 'barrier': 68}, 'best': {'type': 'upper', 'indicator': 'ppo3', 'barrier': 1}}}, 'order': {'single': {'upper': {'indicator': 'adx6', 'barrier': 51}, 'lower': {'indicator': 'ppo6', 'barrier': -1}, 'best': {'type': 'upper', 'indicator': 'adx6', 'barrier': 51}}}}\n",
      "Key in forward opt json 06-09 - 6-month - mean - 796\n"
     ]
    },
    {
     "name": "stderr",
     "output_type": "stream",
     "text": [
      "\r",
      "  2%|▏         | 19/1050 [01:43<2:10:15,  7.58s/it]"
     ]
    },
    {
     "name": "stdout",
     "output_type": "stream",
     "text": [
      "06-09 - 6-month - mean\n",
      "{'mean': {'single': {'upper': {'indicator': 'ppo6', 'barrier': 0}, 'lower': {'indicator': 'ppo9', 'barrier': 14}, 'best': {'type': 'upper', 'indicator': 'ppo6', 'barrier': 0}}}, 'order': {'single': {'upper': {'indicator': 'stochastic9', 'barrier': 75}, 'lower': {'indicator': 'stochastic3', 'barrier': 30}, 'best': {'type': 'upper', 'indicator': 'stochastic9', 'barrier': 75}}}}\n",
      "Key in forward opt json 06-09 - 6-month - order - 794\n"
     ]
    },
    {
     "name": "stderr",
     "output_type": "stream",
     "text": [
      "\r",
      "  2%|▏         | 20/1050 [01:53<2:20:22,  8.18s/it]"
     ]
    },
    {
     "name": "stdout",
     "output_type": "stream",
     "text": [
      "06-09 - 6-month - order\n",
      "{'mean': {'single': {'upper': {'indicator': 'ppo3', 'barrier': 0}, 'lower': {'indicator': 'stochastic3', 'barrier': 68}, 'best': {'type': 'upper', 'indicator': 'ppo3', 'barrier': 0}}}, 'order': {'single': {'upper': {'indicator': 'ppo6', 'barrier': 6}, 'lower': {'indicator': 'stochastic3', 'barrier': 20}, 'best': {'type': 'upper', 'indicator': 'ppo6', 'barrier': 6}}}}\n",
      "Key in forward opt json 06-09 - 12-month - mean - 795\n"
     ]
    },
    {
     "name": "stderr",
     "output_type": "stream",
     "text": [
      "\r",
      "  2%|▏         | 21/1050 [02:02<2:28:23,  8.65s/it]"
     ]
    },
    {
     "name": "stdout",
     "output_type": "stream",
     "text": [
      "06-09 - 12-month - mean\n",
      "{'mean': {'single': {'upper': {'indicator': 'ppo6', 'barrier': 0}, 'lower': {'indicator': 'ppo9', 'barrier': 14}, 'best': {'type': 'upper', 'indicator': 'ppo6', 'barrier': 0}}}, 'order': {'single': {'upper': {'indicator': 'ppo3', 'barrier': 20}, 'lower': {'indicator': 'stochastic6', 'barrier': 29}, 'best': {'type': 'upper', 'indicator': 'ppo3', 'barrier': 20}}}}\n",
      "Key in forward opt json 06-09 - 12-month - order - 795\n"
     ]
    },
    {
     "name": "stderr",
     "output_type": "stream",
     "text": [
      "\r",
      "  2%|▏         | 22/1050 [02:13<2:39:03,  9.28s/it]"
     ]
    },
    {
     "name": "stdout",
     "output_type": "stream",
     "text": [
      "06-09 - 12-month - order\n",
      "{'mean': {'single': {'upper': {'indicator': 'ppo6', 'barrier': 0}, 'lower': {'indicator': 'ppo9', 'barrier': 14}, 'best': {'type': 'upper', 'indicator': 'ppo6', 'barrier': 0}}}, 'order': {'single': {'upper': {'indicator': 'ppo3', 'barrier': 20}, 'lower': {'indicator': 'stochastic6', 'barrier': 29}, 'best': {'type': 'upper', 'indicator': 'ppo3', 'barrier': 20}}}}\n",
      "Key in forward opt json 06-09 - max - mean - 73\n"
     ]
    },
    {
     "name": "stderr",
     "output_type": "stream",
     "text": [
      "\r",
      "  2%|▏         | 23/1050 [02:14<1:57:22,  6.86s/it]"
     ]
    },
    {
     "name": "stdout",
     "output_type": "stream",
     "text": [
      "06-09 - max - mean\n",
      "{'mean': {'single': {'upper': {'indicator': 'adx3', 'barrier': 53}, 'lower': {'indicator': 'ppo3', 'barrier': 7}, 'best': {'type': 'upper', 'indicator': 'adx3', 'barrier': 53}}}, 'order': {'single': {'upper': {'indicator': 'adx3', 'barrier': 65}, 'lower': {'indicator': 'stochastic3', 'barrier': 7}, 'best': {'type': 'upper', 'indicator': 'adx3', 'barrier': 65}}}}\n",
      "Key in forward opt json 06-09 - max - order - 828\n"
     ]
    },
    {
     "name": "stderr",
     "output_type": "stream",
     "text": [
      "\r",
      "  2%|▏         | 24/1050 [02:26<2:23:34,  8.40s/it]"
     ]
    },
    {
     "name": "stdout",
     "output_type": "stream",
     "text": [
      "06-09 - max - order\n",
      "{'mean': {'single': {'upper': {'indicator': 'ppo3', 'barrier': 1}, 'lower': {'indicator': 'stochastic3', 'barrier': 68}, 'best': {'type': 'upper', 'indicator': 'ppo3', 'barrier': 1}}}, 'order': {'single': {'upper': {'indicator': 'adx6', 'barrier': 51}, 'lower': {'indicator': 'ppo6', 'barrier': -1}, 'best': {'type': 'upper', 'indicator': 'adx6', 'barrier': 51}}}}\n",
      "Key in forward opt json 06-10 - 6-month - mean - 796\n"
     ]
    },
    {
     "name": "stderr",
     "output_type": "stream",
     "text": [
      "\r",
      "  2%|▏         | 25/1050 [02:35<2:25:19,  8.51s/it]"
     ]
    },
    {
     "name": "stdout",
     "output_type": "stream",
     "text": [
      "06-10 - 6-month - mean\n",
      "{'mean': {'single': {'upper': {'indicator': 'ppo6', 'barrier': 0}, 'lower': {'indicator': 'ppo9', 'barrier': 14}, 'best': {'type': 'upper', 'indicator': 'ppo6', 'barrier': 0}}}, 'order': {'single': {'upper': {'indicator': 'stochastic9', 'barrier': 75}, 'lower': {'indicator': 'stochastic3', 'barrier': 30}, 'best': {'type': 'upper', 'indicator': 'stochastic9', 'barrier': 75}}}}\n",
      "Key in forward opt json 06-10 - 6-month - order - 794\n"
     ]
    },
    {
     "name": "stderr",
     "output_type": "stream",
     "text": [
      "\r",
      "  2%|▏         | 26/1050 [02:44<2:25:28,  8.52s/it]"
     ]
    },
    {
     "name": "stdout",
     "output_type": "stream",
     "text": [
      "06-10 - 6-month - order\n",
      "{'mean': {'single': {'upper': {'indicator': 'ppo3', 'barrier': 0}, 'lower': {'indicator': 'stochastic3', 'barrier': 68}, 'best': {'type': 'upper', 'indicator': 'ppo3', 'barrier': 0}}}, 'order': {'single': {'upper': {'indicator': 'ppo6', 'barrier': 6}, 'lower': {'indicator': 'stochastic3', 'barrier': 20}, 'best': {'type': 'upper', 'indicator': 'ppo6', 'barrier': 6}}}}\n",
      "Key in forward opt json 06-10 - 12-month - mean - 795\n"
     ]
    },
    {
     "name": "stderr",
     "output_type": "stream",
     "text": [
      "\r",
      "  3%|▎         | 27/1050 [02:52<2:23:59,  8.45s/it]"
     ]
    },
    {
     "name": "stdout",
     "output_type": "stream",
     "text": [
      "06-10 - 12-month - mean\n",
      "{'mean': {'single': {'upper': {'indicator': 'stochastic9', 'barrier': 21}, 'lower': {'indicator': 'stochastic3', 'barrier': 70}, 'best': {'type': 'upper', 'indicator': 'stochastic9', 'barrier': 21}}}, 'order': {'single': {'upper': {'indicator': 'adx6', 'barrier': 45}, 'lower': {'indicator': 'stochastic9', 'barrier': 25}, 'best': {'type': 'upper', 'indicator': 'adx6', 'barrier': 45}}}}\n",
      "Key in forward opt json 06-10 - 12-month - order - 795\n"
     ]
    },
    {
     "name": "stderr",
     "output_type": "stream",
     "text": [
      "\r",
      "  3%|▎         | 28/1050 [03:00<2:22:40,  8.38s/it]"
     ]
    },
    {
     "name": "stdout",
     "output_type": "stream",
     "text": [
      "06-10 - 12-month - order\n",
      "{'mean': {'single': {'upper': {'indicator': 'ppo6', 'barrier': 0}, 'lower': {'indicator': 'ppo9', 'barrier': 14}, 'best': {'type': 'upper', 'indicator': 'ppo6', 'barrier': 0}}}, 'order': {'single': {'upper': {'indicator': 'ppo3', 'barrier': 20}, 'lower': {'indicator': 'stochastic6', 'barrier': 29}, 'best': {'type': 'upper', 'indicator': 'ppo3', 'barrier': 20}}}}\n",
      "Key in forward opt json 06-10 - max - mean - 73\n"
     ]
    },
    {
     "name": "stderr",
     "output_type": "stream",
     "text": [
      "\r",
      "  3%|▎         | 29/1050 [03:01<1:43:43,  6.10s/it]"
     ]
    },
    {
     "name": "stdout",
     "output_type": "stream",
     "text": [
      "06-10 - max - mean\n",
      "{'mean': {'single': {'upper': {'indicator': 'adx3', 'barrier': 53}, 'lower': {'indicator': 'ppo3', 'barrier': 7}, 'best': {'type': 'upper', 'indicator': 'adx3', 'barrier': 53}}}, 'order': {'single': {'upper': {'indicator': 'adx3', 'barrier': 65}, 'lower': {'indicator': 'stochastic3', 'barrier': 7}, 'best': {'type': 'upper', 'indicator': 'adx3', 'barrier': 65}}}}\n",
      "Key in forward opt json 06-10 - max - order - 828\n"
     ]
    },
    {
     "name": "stderr",
     "output_type": "stream",
     "text": [
      "\r",
      "  3%|▎         | 30/1050 [03:11<2:05:03,  7.36s/it]"
     ]
    },
    {
     "name": "stdout",
     "output_type": "stream",
     "text": [
      "06-10 - max - order\n",
      "{'mean': {'single': {'upper': {'indicator': 'ppo3', 'barrier': 1}, 'lower': {'indicator': 'stochastic3', 'barrier': 68}, 'best': {'type': 'upper', 'indicator': 'ppo3', 'barrier': 1}}}, 'order': {'single': {'upper': {'indicator': 'adx6', 'barrier': 51}, 'lower': {'indicator': 'ppo6', 'barrier': -1}, 'best': {'type': 'upper', 'indicator': 'adx6', 'barrier': 51}}}}\n",
      "Key in forward opt json 06-11 - 6-month - mean - 796\n"
     ]
    },
    {
     "name": "stderr",
     "output_type": "stream",
     "text": [
      "\r",
      "  3%|▎         | 31/1050 [03:19<2:08:17,  7.55s/it]"
     ]
    },
    {
     "name": "stdout",
     "output_type": "stream",
     "text": [
      "06-11 - 6-month - mean\n",
      "{'mean': {'single': {'upper': {'indicator': 'ppo6', 'barrier': 0}, 'lower': {'indicator': 'ppo9', 'barrier': 14}, 'best': {'type': 'upper', 'indicator': 'ppo6', 'barrier': 0}}}, 'order': {'single': {'upper': {'indicator': 'stochastic9', 'barrier': 75}, 'lower': {'indicator': 'stochastic3', 'barrier': 30}, 'best': {'type': 'upper', 'indicator': 'stochastic9', 'barrier': 75}}}}\n",
      "Key in forward opt json 06-11 - 6-month - order - 849\n"
     ]
    },
    {
     "name": "stderr",
     "output_type": "stream",
     "text": [
      "\r",
      "  3%|▎         | 32/1050 [03:30<2:27:07,  8.67s/it]"
     ]
    },
    {
     "name": "stdout",
     "output_type": "stream",
     "text": [
      "06-11 - 6-month - order\n",
      "{'mean': {'single': {'upper': {'indicator': 'ppo6', 'barrier': 0}, 'lower': {'indicator': 'stochastic3', 'barrier': 68}, 'best': {'type': 'upper', 'indicator': 'ppo6', 'barrier': 0}}}, 'order': {'single': {'upper': {'indicator': 'ppo3', 'barrier': 21}, 'lower': {'indicator': 'stochastic6', 'barrier': 39}, 'best': {'type': 'upper', 'indicator': 'ppo3', 'barrier': 21}}}}\n",
      "Key in forward opt json 06-11 - 12-month - mean - 795\n"
     ]
    },
    {
     "name": "stderr",
     "output_type": "stream",
     "text": [
      "\r",
      "  3%|▎         | 33/1050 [03:39<2:28:19,  8.75s/it]"
     ]
    },
    {
     "name": "stdout",
     "output_type": "stream",
     "text": [
      "06-11 - 12-month - mean\n",
      "{'mean': {'single': {'upper': {'indicator': 'ppo6', 'barrier': 0}, 'lower': {'indicator': 'ppo9', 'barrier': 14}, 'best': {'type': 'upper', 'indicator': 'ppo6', 'barrier': 0}}}, 'order': {'single': {'upper': {'indicator': 'ppo3', 'barrier': 20}, 'lower': {'indicator': 'stochastic6', 'barrier': 29}, 'best': {'type': 'upper', 'indicator': 'ppo3', 'barrier': 20}}}}\n",
      "Key in forward opt json 06-11 - 12-month - order - 794\n"
     ]
    },
    {
     "name": "stderr",
     "output_type": "stream",
     "text": [
      "\r",
      "  3%|▎         | 34/1050 [03:48<2:25:57,  8.62s/it]"
     ]
    },
    {
     "name": "stdout",
     "output_type": "stream",
     "text": [
      "06-11 - 12-month - order\n",
      "{'mean': {'single': {'upper': {'indicator': 'ppo3', 'barrier': 0}, 'lower': {'indicator': 'stochastic3', 'barrier': 68}, 'best': {'type': 'upper', 'indicator': 'ppo3', 'barrier': 0}}}, 'order': {'single': {'upper': {'indicator': 'ppo6', 'barrier': 6}, 'lower': {'indicator': 'stochastic3', 'barrier': 20}, 'best': {'type': 'upper', 'indicator': 'ppo6', 'barrier': 6}}}}\n",
      "Key in forward opt json 06-11 - max - mean - 73\n"
     ]
    },
    {
     "name": "stderr",
     "output_type": "stream",
     "text": [
      "\r",
      "  3%|▎         | 35/1050 [03:48<1:45:40,  6.25s/it]"
     ]
    },
    {
     "name": "stdout",
     "output_type": "stream",
     "text": [
      "06-11 - max - mean\n",
      "{'mean': {'single': {'upper': {'indicator': 'adx3', 'barrier': 53}, 'lower': {'indicator': 'ppo3', 'barrier': 7}, 'best': {'type': 'upper', 'indicator': 'adx3', 'barrier': 53}}}, 'order': {'single': {'upper': {'indicator': 'adx3', 'barrier': 65}, 'lower': {'indicator': 'stochastic3', 'barrier': 7}, 'best': {'type': 'upper', 'indicator': 'adx3', 'barrier': 65}}}}\n",
      "Key in forward opt json 06-11 - max - order - 828\n"
     ]
    },
    {
     "name": "stderr",
     "output_type": "stream",
     "text": [
      "\r",
      "  3%|▎         | 36/1050 [03:58<2:01:07,  7.17s/it]"
     ]
    },
    {
     "name": "stdout",
     "output_type": "stream",
     "text": [
      "06-11 - max - order\n",
      "{'mean': {'single': {'upper': {'indicator': 'ppo3', 'barrier': 1}, 'lower': {'indicator': 'stochastic3', 'barrier': 68}, 'best': {'type': 'upper', 'indicator': 'ppo3', 'barrier': 1}}}, 'order': {'single': {'upper': {'indicator': 'adx6', 'barrier': 51}, 'lower': {'indicator': 'ppo6', 'barrier': -1}, 'best': {'type': 'upper', 'indicator': 'adx6', 'barrier': 51}}}}\n",
      "Key in forward opt json 06-12 - 6-month - mean - 794\n"
     ]
    },
    {
     "name": "stderr",
     "output_type": "stream",
     "text": [
      "\r",
      "  4%|▎         | 37/1050 [04:05<2:03:47,  7.33s/it]"
     ]
    },
    {
     "name": "stdout",
     "output_type": "stream",
     "text": [
      "06-12 - 6-month - mean\n",
      "{'mean': {'single': {'upper': {'indicator': 'ppo3', 'barrier': 0}, 'lower': {'indicator': 'stochastic3', 'barrier': 68}, 'best': {'type': 'upper', 'indicator': 'ppo3', 'barrier': 0}}}, 'order': {'single': {'upper': {'indicator': 'ppo6', 'barrier': 6}, 'lower': {'indicator': 'stochastic3', 'barrier': 20}, 'best': {'type': 'upper', 'indicator': 'ppo6', 'barrier': 6}}}}\n",
      "Key in forward opt json 06-12 - 6-month - order - 849\n"
     ]
    },
    {
     "name": "stderr",
     "output_type": "stream",
     "text": [
      "\r",
      "  4%|▎         | 38/1050 [04:16<2:19:12,  8.25s/it]"
     ]
    },
    {
     "name": "stdout",
     "output_type": "stream",
     "text": [
      "06-12 - 6-month - order\n",
      "{'mean': {'single': {'upper': {'indicator': 'ppo6', 'barrier': 0}, 'lower': {'indicator': 'stochastic3', 'barrier': 68}, 'best': {'type': 'upper', 'indicator': 'ppo6', 'barrier': 0}}}, 'order': {'single': {'upper': {'indicator': 'ppo3', 'barrier': 21}, 'lower': {'indicator': 'stochastic6', 'barrier': 39}, 'best': {'type': 'upper', 'indicator': 'ppo3', 'barrier': 21}}}}\n",
      "Key in forward opt json 06-12 - 12-month - mean - 795\n"
     ]
    },
    {
     "name": "stderr",
     "output_type": "stream",
     "text": [
      "\r",
      "  4%|▎         | 39/1050 [04:23<2:15:38,  8.05s/it]"
     ]
    },
    {
     "name": "stdout",
     "output_type": "stream",
     "text": [
      "06-12 - 12-month - mean\n",
      "{'mean': {'single': {'upper': {'indicator': 'ppo6', 'barrier': 0}, 'lower': {'indicator': 'ppo9', 'barrier': 14}, 'best': {'type': 'upper', 'indicator': 'ppo6', 'barrier': 0}}}, 'order': {'single': {'upper': {'indicator': 'ppo3', 'barrier': 20}, 'lower': {'indicator': 'stochastic6', 'barrier': 29}, 'best': {'type': 'upper', 'indicator': 'ppo3', 'barrier': 20}}}}\n",
      "Key in forward opt json 06-12 - 12-month - order - 794\n"
     ]
    },
    {
     "name": "stderr",
     "output_type": "stream",
     "text": [
      "\r",
      "  4%|▍         | 40/1050 [04:31<2:14:21,  7.98s/it]"
     ]
    },
    {
     "name": "stdout",
     "output_type": "stream",
     "text": [
      "06-12 - 12-month - order\n",
      "{'mean': {'single': {'upper': {'indicator': 'ppo3', 'barrier': 0}, 'lower': {'indicator': 'stochastic3', 'barrier': 68}, 'best': {'type': 'upper', 'indicator': 'ppo3', 'barrier': 0}}}, 'order': {'single': {'upper': {'indicator': 'ppo6', 'barrier': 6}, 'lower': {'indicator': 'stochastic3', 'barrier': 20}, 'best': {'type': 'upper', 'indicator': 'ppo6', 'barrier': 6}}}}\n",
      "Key in forward opt json 06-12 - max - mean - 73\n"
     ]
    },
    {
     "name": "stderr",
     "output_type": "stream",
     "text": [
      "\r",
      "  4%|▍         | 41/1050 [04:32<1:37:35,  5.80s/it]"
     ]
    },
    {
     "name": "stdout",
     "output_type": "stream",
     "text": [
      "06-12 - max - mean\n",
      "{'mean': {'single': {'upper': {'indicator': 'adx3', 'barrier': 53}, 'lower': {'indicator': 'ppo3', 'barrier': 7}, 'best': {'type': 'upper', 'indicator': 'adx3', 'barrier': 53}}}, 'order': {'single': {'upper': {'indicator': 'adx3', 'barrier': 65}, 'lower': {'indicator': 'stochastic3', 'barrier': 7}, 'best': {'type': 'upper', 'indicator': 'adx3', 'barrier': 65}}}}\n",
      "Key in forward opt json 06-12 - max - order - 828\n"
     ]
    },
    {
     "name": "stderr",
     "output_type": "stream",
     "text": [
      "\r",
      "  4%|▍         | 42/1050 [04:42<1:57:31,  7.00s/it]"
     ]
    },
    {
     "name": "stdout",
     "output_type": "stream",
     "text": [
      "06-12 - max - order\n",
      "{'mean': {'single': {'upper': {'indicator': 'ppo3', 'barrier': 1}, 'lower': {'indicator': 'stochastic3', 'barrier': 68}, 'best': {'type': 'upper', 'indicator': 'ppo3', 'barrier': 1}}}, 'order': {'single': {'upper': {'indicator': 'adx6', 'barrier': 51}, 'lower': {'indicator': 'ppo6', 'barrier': -1}, 'best': {'type': 'upper', 'indicator': 'adx6', 'barrier': 51}}}}\n",
      "Key in forward opt json 07-01 - 6-month - mean - 225\n"
     ]
    },
    {
     "name": "stderr",
     "output_type": "stream",
     "text": [
      "\r",
      "  4%|▍         | 43/1050 [04:43<1:27:49,  5.23s/it]"
     ]
    },
    {
     "name": "stdout",
     "output_type": "stream",
     "text": [
      "07-01 - 6-month - mean\n",
      "{'mean': {'single': {'upper': {'indicator': 'adx6', 'barrier': 22}, 'lower': {'indicator': 'ppo9', 'barrier': 8}, 'best': {'type': 'upper', 'indicator': 'adx6', 'barrier': 22}}}, 'order': {'single': {'upper': {'indicator': 'stochastic3', 'barrier': 57}, 'lower': {'indicator': 'adx9', 'barrier': 27}, 'best': {'type': 'upper', 'indicator': 'stochastic3', 'barrier': 57}}}}\n",
      "Key in forward opt json 07-01 - 6-month - order - 849\n"
     ]
    },
    {
     "name": "stderr",
     "output_type": "stream",
     "text": [
      "\r",
      "  4%|▍         | 44/1050 [04:55<2:02:40,  7.32s/it]"
     ]
    },
    {
     "name": "stdout",
     "output_type": "stream",
     "text": [
      "07-01 - 6-month - order\n",
      "{'mean': {'single': {'upper': {'indicator': 'ppo6', 'barrier': 0}, 'lower': {'indicator': 'stochastic3', 'barrier': 68}, 'best': {'type': 'upper', 'indicator': 'ppo6', 'barrier': 0}}}, 'order': {'single': {'upper': {'indicator': 'ppo3', 'barrier': 21}, 'lower': {'indicator': 'stochastic6', 'barrier': 39}, 'best': {'type': 'upper', 'indicator': 'ppo3', 'barrier': 21}}}}\n",
      "Key in forward opt json 07-01 - 12-month - mean - 10\n"
     ]
    },
    {
     "name": "stderr",
     "output_type": "stream",
     "text": [
      "\r",
      "  4%|▍         | 45/1050 [04:55<1:27:31,  5.23s/it]"
     ]
    },
    {
     "name": "stdout",
     "output_type": "stream",
     "text": [
      "07-01 - 12-month - mean\n",
      "{'mean': {'single': {'upper': {'indicator': 'adx3', 'barrier': 69}, 'lower': {'indicator': 'adx3', 'barrier': 55}, 'best': {'type': 'upper', 'indicator': 'adx3', 'barrier': 69}}}, 'order': {'single': {'upper': {'indicator': 'adx3', 'barrier': 69}, 'lower': {'indicator': 'adx3', 'barrier': 55}, 'best': {'type': 'upper', 'indicator': 'adx3', 'barrier': 69}}}}\n",
      "Key in forward opt json 07-01 - 12-month - order - 794\n"
     ]
    },
    {
     "name": "stderr",
     "output_type": "stream",
     "text": [
      "\r",
      "  4%|▍         | 46/1050 [05:04<1:46:54,  6.39s/it]"
     ]
    },
    {
     "name": "stdout",
     "output_type": "stream",
     "text": [
      "07-01 - 12-month - order\n",
      "{'mean': {'single': {'upper': {'indicator': 'ppo3', 'barrier': 0}, 'lower': {'indicator': 'stochastic3', 'barrier': 68}, 'best': {'type': 'upper', 'indicator': 'ppo3', 'barrier': 0}}}, 'order': {'single': {'upper': {'indicator': 'ppo6', 'barrier': 6}, 'lower': {'indicator': 'stochastic3', 'barrier': 20}, 'best': {'type': 'upper', 'indicator': 'ppo6', 'barrier': 6}}}}\n",
      "Key in forward opt json 07-01 - max - mean - 73\n"
     ]
    },
    {
     "name": "stderr",
     "output_type": "stream",
     "text": [
      "\r",
      "  4%|▍         | 47/1050 [05:05<1:19:08,  4.73s/it]"
     ]
    },
    {
     "name": "stdout",
     "output_type": "stream",
     "text": [
      "07-01 - max - mean\n",
      "{'mean': {'single': {'upper': {'indicator': 'adx3', 'barrier': 53}, 'lower': {'indicator': 'ppo3', 'barrier': 7}, 'best': {'type': 'upper', 'indicator': 'adx3', 'barrier': 53}}}, 'order': {'single': {'upper': {'indicator': 'adx3', 'barrier': 65}, 'lower': {'indicator': 'stochastic3', 'barrier': 7}, 'best': {'type': 'upper', 'indicator': 'adx3', 'barrier': 65}}}}\n",
      "Key in forward opt json 07-01 - max - order - 828\n"
     ]
    },
    {
     "name": "stderr",
     "output_type": "stream",
     "text": [
      "\r",
      "  5%|▍         | 48/1050 [05:15<1:45:56,  6.34s/it]"
     ]
    },
    {
     "name": "stdout",
     "output_type": "stream",
     "text": [
      "07-01 - max - order\n",
      "{'mean': {'single': {'upper': {'indicator': 'ppo3', 'barrier': 1}, 'lower': {'indicator': 'stochastic3', 'barrier': 68}, 'best': {'type': 'upper', 'indicator': 'ppo3', 'barrier': 1}}}, 'order': {'single': {'upper': {'indicator': 'adx6', 'barrier': 51}, 'lower': {'indicator': 'ppo6', 'barrier': -1}, 'best': {'type': 'upper', 'indicator': 'adx6', 'barrier': 51}}}}\n",
      "Key in forward opt json 07-02 - 6-month - mean - 58\n"
     ]
    },
    {
     "name": "stderr",
     "output_type": "stream",
     "text": [
      "\r",
      "  5%|▍         | 49/1050 [05:16<1:17:11,  4.63s/it]"
     ]
    },
    {
     "name": "stdout",
     "output_type": "stream",
     "text": [
      "07-02 - 6-month - mean\n",
      "{'mean': {'single': {'upper': {'indicator': 'adx3', 'barrier': 53}, 'lower': {'indicator': 'ppo6', 'barrier': 8}, 'best': {'type': 'upper', 'indicator': 'adx3', 'barrier': 53}}}, 'order': {'single': {'upper': {'indicator': 'adx3', 'barrier': 65}, 'lower': {'indicator': 'stochastic3', 'barrier': 7}, 'best': {'type': 'upper', 'indicator': 'adx3', 'barrier': 65}}}}\n",
      "Key in forward opt json 07-02 - 6-month - order - 770\n"
     ]
    },
    {
     "name": "stderr",
     "output_type": "stream",
     "text": [
      "\r",
      "  5%|▍         | 50/1050 [05:24<1:33:24,  5.60s/it]"
     ]
    },
    {
     "name": "stdout",
     "output_type": "stream",
     "text": [
      "07-02 - 6-month - order\n",
      "{'mean': {'single': {'upper': {'indicator': 'stochastic9', 'barrier': 31}, 'lower': {'indicator': 'stochastic3', 'barrier': 68}, 'best': {'type': 'upper', 'indicator': 'stochastic9', 'barrier': 31}}}, 'order': {'single': {'upper': {'indicator': 'adx3', 'barrier': 71}, 'lower': {'indicator': 'ppo9', 'barrier': 2}, 'best': {'type': 'upper', 'indicator': 'adx3', 'barrier': 71}}}}\n",
      "Key in forward opt json 07-02 - 12-month - mean - 10\n"
     ]
    },
    {
     "name": "stderr",
     "output_type": "stream",
     "text": [
      "\r",
      "  5%|▍         | 51/1050 [05:24<1:06:40,  4.00s/it]"
     ]
    },
    {
     "name": "stdout",
     "output_type": "stream",
     "text": [
      "07-02 - 12-month - mean\n",
      "{'mean': {'single': {'upper': {'indicator': 'adx3', 'barrier': 69}, 'lower': {'indicator': 'adx3', 'barrier': 55}, 'best': {'type': 'upper', 'indicator': 'adx3', 'barrier': 69}}}, 'order': {'single': {'upper': {'indicator': 'adx3', 'barrier': 69}, 'lower': {'indicator': 'adx3', 'barrier': 55}, 'best': {'type': 'upper', 'indicator': 'adx3', 'barrier': 69}}}}\n",
      "Key in forward opt json 07-02 - 12-month - order - 770\n"
     ]
    },
    {
     "name": "stderr",
     "output_type": "stream",
     "text": [
      "\r",
      "  5%|▍         | 52/1050 [05:32<1:25:25,  5.14s/it]"
     ]
    },
    {
     "name": "stdout",
     "output_type": "stream",
     "text": [
      "07-02 - 12-month - order\n",
      "{'mean': {'single': {'upper': {'indicator': 'stochastic9', 'barrier': 31}, 'lower': {'indicator': 'stochastic3', 'barrier': 68}, 'best': {'type': 'upper', 'indicator': 'stochastic9', 'barrier': 31}}}, 'order': {'single': {'upper': {'indicator': 'adx3', 'barrier': 71}, 'lower': {'indicator': 'ppo9', 'barrier': 2}, 'best': {'type': 'upper', 'indicator': 'adx3', 'barrier': 71}}}}\n",
      "Key in forward opt json 07-02 - max - mean - 73\n"
     ]
    },
    {
     "name": "stderr",
     "output_type": "stream",
     "text": [
      "\r",
      "  5%|▌         | 53/1050 [05:33<1:03:08,  3.80s/it]"
     ]
    },
    {
     "name": "stdout",
     "output_type": "stream",
     "text": [
      "07-02 - max - mean\n",
      "{'mean': {'single': {'upper': {'indicator': 'adx3', 'barrier': 53}, 'lower': {'indicator': 'ppo3', 'barrier': 7}, 'best': {'type': 'upper', 'indicator': 'adx3', 'barrier': 53}}}, 'order': {'single': {'upper': {'indicator': 'adx3', 'barrier': 65}, 'lower': {'indicator': 'stochastic3', 'barrier': 7}, 'best': {'type': 'upper', 'indicator': 'adx3', 'barrier': 65}}}}\n",
      "Key in forward opt json 07-02 - max - order - 828\n"
     ]
    },
    {
     "name": "stderr",
     "output_type": "stream",
     "text": [
      "\r",
      "  5%|▌         | 54/1050 [05:41<1:27:12,  5.25s/it]"
     ]
    },
    {
     "name": "stdout",
     "output_type": "stream",
     "text": [
      "07-02 - max - order\n",
      "{'mean': {'single': {'upper': {'indicator': 'ppo3', 'barrier': 1}, 'lower': {'indicator': 'stochastic3', 'barrier': 68}, 'best': {'type': 'upper', 'indicator': 'ppo3', 'barrier': 1}}}, 'order': {'single': {'upper': {'indicator': 'adx6', 'barrier': 51}, 'lower': {'indicator': 'ppo6', 'barrier': -1}, 'best': {'type': 'upper', 'indicator': 'adx6', 'barrier': 51}}}}\n",
      "Key in forward opt json 07-03 - 6-month - mean - 225\n"
     ]
    },
    {
     "name": "stderr",
     "output_type": "stream",
     "text": [
      "\r",
      "  5%|▌         | 55/1050 [05:42<1:05:30,  3.95s/it]"
     ]
    },
    {
     "name": "stdout",
     "output_type": "stream",
     "text": [
      "07-03 - 6-month - mean\n",
      "{'mean': {'single': {'upper': {'indicator': 'adx6', 'barrier': 22}, 'lower': {'indicator': 'ppo9', 'barrier': 8}, 'best': {'type': 'upper', 'indicator': 'adx6', 'barrier': 22}}}, 'order': {'single': {'upper': {'indicator': 'stochastic3', 'barrier': 57}, 'lower': {'indicator': 'adx9', 'barrier': 27}, 'best': {'type': 'upper', 'indicator': 'stochastic3', 'barrier': 57}}}}\n",
      "Key in forward opt json 07-03 - 6-month - order - 225\n"
     ]
    },
    {
     "name": "stderr",
     "output_type": "stream",
     "text": [
      "\r",
      "  5%|▌         | 56/1050 [05:43<50:19,  3.04s/it]  "
     ]
    },
    {
     "name": "stdout",
     "output_type": "stream",
     "text": [
      "07-03 - 6-month - order\n",
      "{'mean': {'single': {'upper': {'indicator': 'adx6', 'barrier': 22}, 'lower': {'indicator': 'ppo9', 'barrier': 8}, 'best': {'type': 'upper', 'indicator': 'adx6', 'barrier': 22}}}, 'order': {'single': {'upper': {'indicator': 'stochastic3', 'barrier': 57}, 'lower': {'indicator': 'adx9', 'barrier': 27}, 'best': {'type': 'upper', 'indicator': 'stochastic3', 'barrier': 57}}}}\n",
      "Key in forward opt json 07-03 - 12-month - mean - 796\n"
     ]
    },
    {
     "name": "stderr",
     "output_type": "stream",
     "text": [
      "\r",
      "  5%|▌         | 57/1050 [05:50<1:11:00,  4.29s/it]"
     ]
    },
    {
     "name": "stdout",
     "output_type": "stream",
     "text": [
      "07-03 - 12-month - mean\n",
      "{'mean': {'single': {'upper': {'indicator': 'ppo6', 'barrier': 0}, 'lower': {'indicator': 'ppo9', 'barrier': 14}, 'best': {'type': 'upper', 'indicator': 'ppo6', 'barrier': 0}}}, 'order': {'single': {'upper': {'indicator': 'stochastic9', 'barrier': 75}, 'lower': {'indicator': 'stochastic3', 'barrier': 30}, 'best': {'type': 'upper', 'indicator': 'stochastic9', 'barrier': 75}}}}\n",
      "Key in forward opt json 07-03 - 12-month - order - 770\n"
     ]
    },
    {
     "name": "stderr",
     "output_type": "stream",
     "text": [
      "\r",
      "  6%|▌         | 58/1050 [05:58<1:27:48,  5.31s/it]"
     ]
    },
    {
     "name": "stdout",
     "output_type": "stream",
     "text": [
      "07-03 - 12-month - order\n",
      "{'mean': {'single': {'upper': {'indicator': 'stochastic9', 'barrier': 31}, 'lower': {'indicator': 'stochastic3', 'barrier': 68}, 'best': {'type': 'upper', 'indicator': 'stochastic9', 'barrier': 31}}}, 'order': {'single': {'upper': {'indicator': 'adx3', 'barrier': 71}, 'lower': {'indicator': 'ppo9', 'barrier': 2}, 'best': {'type': 'upper', 'indicator': 'adx3', 'barrier': 71}}}}\n",
      "Key in forward opt json 07-03 - max - mean - 73\n"
     ]
    },
    {
     "name": "stderr",
     "output_type": "stream",
     "text": [
      "\r",
      "  6%|▌         | 59/1050 [05:59<1:04:46,  3.92s/it]"
     ]
    },
    {
     "name": "stdout",
     "output_type": "stream",
     "text": [
      "07-03 - max - mean\n",
      "{'mean': {'single': {'upper': {'indicator': 'adx3', 'barrier': 53}, 'lower': {'indicator': 'ppo3', 'barrier': 7}, 'best': {'type': 'upper', 'indicator': 'adx3', 'barrier': 53}}}, 'order': {'single': {'upper': {'indicator': 'adx3', 'barrier': 65}, 'lower': {'indicator': 'stochastic3', 'barrier': 7}, 'best': {'type': 'upper', 'indicator': 'adx3', 'barrier': 65}}}}\n",
      "Key in forward opt json 07-03 - max - order - 828\n"
     ]
    },
    {
     "name": "stderr",
     "output_type": "stream",
     "text": [
      "\r",
      "  6%|▌         | 60/1050 [06:07<1:27:35,  5.31s/it]"
     ]
    },
    {
     "name": "stdout",
     "output_type": "stream",
     "text": [
      "07-03 - max - order\n",
      "{'mean': {'single': {'upper': {'indicator': 'ppo3', 'barrier': 1}, 'lower': {'indicator': 'stochastic3', 'barrier': 68}, 'best': {'type': 'upper', 'indicator': 'ppo3', 'barrier': 1}}}, 'order': {'single': {'upper': {'indicator': 'adx6', 'barrier': 51}, 'lower': {'indicator': 'ppo6', 'barrier': -1}, 'best': {'type': 'upper', 'indicator': 'adx6', 'barrier': 51}}}}\n",
      "Key in forward opt json 07-04 - 6-month - mean - 225\n"
     ]
    },
    {
     "name": "stderr",
     "output_type": "stream",
     "text": [
      "\r",
      "  6%|▌         | 61/1050 [06:08<1:05:47,  3.99s/it]"
     ]
    },
    {
     "name": "stdout",
     "output_type": "stream",
     "text": [
      "07-04 - 6-month - mean\n",
      "{'mean': {'single': {'upper': {'indicator': 'adx6', 'barrier': 22}, 'lower': {'indicator': 'ppo9', 'barrier': 8}, 'best': {'type': 'upper', 'indicator': 'adx6', 'barrier': 22}}}, 'order': {'single': {'upper': {'indicator': 'stochastic3', 'barrier': 57}, 'lower': {'indicator': 'adx9', 'barrier': 27}, 'best': {'type': 'upper', 'indicator': 'stochastic3', 'barrier': 57}}}}\n",
      "Key in forward opt json 07-04 - 6-month - order - 326\n"
     ]
    },
    {
     "name": "stderr",
     "output_type": "stream",
     "text": [
      "\r",
      "  6%|▌         | 62/1050 [06:10<55:22,  3.36s/it]  "
     ]
    },
    {
     "name": "stdout",
     "output_type": "stream",
     "text": [
      "07-04 - 6-month - order\n",
      "{'mean': {'single': {'upper': {'indicator': 'adx3', 'barrier': 35}, 'lower': {'indicator': 'ppo9', 'barrier': 18}, 'best': {'type': 'upper', 'indicator': 'adx3', 'barrier': 35}}}, 'order': {'single': {'upper': {'indicator': 'adx6', 'barrier': 48}, 'lower': {'indicator': 'stochastic9', 'barrier': 24}, 'best': {'type': 'upper', 'indicator': 'adx6', 'barrier': 48}}}}\n",
      "Key in forward opt json 07-04 - 12-month - mean - 794\n"
     ]
    },
    {
     "name": "stderr",
     "output_type": "stream",
     "text": [
      "\r",
      "  6%|▌         | 63/1050 [06:18<1:15:35,  4.60s/it]"
     ]
    },
    {
     "name": "stdout",
     "output_type": "stream",
     "text": [
      "07-04 - 12-month - mean\n",
      "{'mean': {'single': {'upper': {'indicator': 'ppo3', 'barrier': 0}, 'lower': {'indicator': 'stochastic3', 'barrier': 68}, 'best': {'type': 'upper', 'indicator': 'ppo3', 'barrier': 0}}}, 'order': {'single': {'upper': {'indicator': 'ppo6', 'barrier': 6}, 'lower': {'indicator': 'stochastic3', 'barrier': 20}, 'best': {'type': 'upper', 'indicator': 'ppo6', 'barrier': 6}}}}\n",
      "Key in forward opt json 07-04 - 12-month - order - 770\n"
     ]
    },
    {
     "name": "stderr",
     "output_type": "stream",
     "text": [
      "\r",
      "  6%|▌         | 64/1050 [06:26<1:32:16,  5.62s/it]"
     ]
    },
    {
     "name": "stdout",
     "output_type": "stream",
     "text": [
      "07-04 - 12-month - order\n",
      "{'mean': {'single': {'upper': {'indicator': 'stochastic9', 'barrier': 31}, 'lower': {'indicator': 'stochastic3', 'barrier': 68}, 'best': {'type': 'upper', 'indicator': 'stochastic9', 'barrier': 31}}}, 'order': {'single': {'upper': {'indicator': 'adx3', 'barrier': 71}, 'lower': {'indicator': 'ppo9', 'barrier': 2}, 'best': {'type': 'upper', 'indicator': 'adx3', 'barrier': 71}}}}\n",
      "Key in forward opt json 07-04 - max - mean - 73\n"
     ]
    },
    {
     "name": "stderr",
     "output_type": "stream",
     "text": [
      "\r",
      "  6%|▌         | 65/1050 [06:26<1:07:56,  4.14s/it]"
     ]
    },
    {
     "name": "stdout",
     "output_type": "stream",
     "text": [
      "07-04 - max - mean\n",
      "{'mean': {'single': {'upper': {'indicator': 'adx3', 'barrier': 53}, 'lower': {'indicator': 'ppo3', 'barrier': 7}, 'best': {'type': 'upper', 'indicator': 'adx3', 'barrier': 53}}}, 'order': {'single': {'upper': {'indicator': 'adx3', 'barrier': 65}, 'lower': {'indicator': 'stochastic3', 'barrier': 7}, 'best': {'type': 'upper', 'indicator': 'adx3', 'barrier': 65}}}}\n",
      "Key in forward opt json 07-04 - max - order - 828\n"
     ]
    },
    {
     "name": "stderr",
     "output_type": "stream",
     "text": [
      "\r",
      "  6%|▋         | 66/1050 [06:35<1:30:53,  5.54s/it]"
     ]
    },
    {
     "name": "stdout",
     "output_type": "stream",
     "text": [
      "07-04 - max - order\n",
      "{'mean': {'single': {'upper': {'indicator': 'ppo3', 'barrier': 1}, 'lower': {'indicator': 'stochastic3', 'barrier': 68}, 'best': {'type': 'upper', 'indicator': 'ppo3', 'barrier': 1}}}, 'order': {'single': {'upper': {'indicator': 'adx6', 'barrier': 51}, 'lower': {'indicator': 'ppo6', 'barrier': -1}, 'best': {'type': 'upper', 'indicator': 'adx6', 'barrier': 51}}}}\n",
      "Key in forward opt json 07-05 - 6-month - mean - 225\n"
     ]
    },
    {
     "name": "stderr",
     "output_type": "stream",
     "text": [
      "\r",
      "  6%|▋         | 67/1050 [06:36<1:08:07,  4.16s/it]"
     ]
    },
    {
     "name": "stdout",
     "output_type": "stream",
     "text": [
      "07-05 - 6-month - mean\n",
      "{'mean': {'single': {'upper': {'indicator': 'adx6', 'barrier': 22}, 'lower': {'indicator': 'ppo9', 'barrier': 8}, 'best': {'type': 'upper', 'indicator': 'adx6', 'barrier': 22}}}, 'order': {'single': {'upper': {'indicator': 'stochastic3', 'barrier': 57}, 'lower': {'indicator': 'adx9', 'barrier': 27}, 'best': {'type': 'upper', 'indicator': 'stochastic3', 'barrier': 57}}}}\n",
      "Key in forward opt json 07-05 - 6-month - order - 770\n"
     ]
    },
    {
     "name": "stderr",
     "output_type": "stream",
     "text": [
      "\r",
      "  6%|▋         | 68/1050 [06:44<1:26:26,  5.28s/it]"
     ]
    },
    {
     "name": "stdout",
     "output_type": "stream",
     "text": [
      "07-05 - 6-month - order\n",
      "{'mean': {'single': {'upper': {'indicator': 'stochastic9', 'barrier': 31}, 'lower': {'indicator': 'stochastic3', 'barrier': 68}, 'best': {'type': 'upper', 'indicator': 'stochastic9', 'barrier': 31}}}, 'order': {'single': {'upper': {'indicator': 'adx3', 'barrier': 71}, 'lower': {'indicator': 'ppo9', 'barrier': 2}, 'best': {'type': 'upper', 'indicator': 'adx3', 'barrier': 71}}}}\n",
      "Key in forward opt json 07-05 - 12-month - mean - 770\n"
     ]
    },
    {
     "name": "stderr",
     "output_type": "stream",
     "text": [
      "\r",
      "  7%|▋         | 69/1050 [06:52<1:39:08,  6.06s/it]"
     ]
    },
    {
     "name": "stdout",
     "output_type": "stream",
     "text": [
      "07-05 - 12-month - mean\n",
      "{'mean': {'single': {'upper': {'indicator': 'stochastic9', 'barrier': 31}, 'lower': {'indicator': 'stochastic3', 'barrier': 68}, 'best': {'type': 'upper', 'indicator': 'stochastic9', 'barrier': 31}}}, 'order': {'single': {'upper': {'indicator': 'adx3', 'barrier': 71}, 'lower': {'indicator': 'ppo9', 'barrier': 2}, 'best': {'type': 'upper', 'indicator': 'adx3', 'barrier': 71}}}}\n",
      "Key in forward opt json 07-05 - 12-month - order - 770\n"
     ]
    },
    {
     "name": "stderr",
     "output_type": "stream",
     "text": [
      "\r",
      "  7%|▋         | 70/1050 [07:00<1:47:57,  6.61s/it]"
     ]
    },
    {
     "name": "stdout",
     "output_type": "stream",
     "text": [
      "07-05 - 12-month - order\n",
      "{'mean': {'single': {'upper': {'indicator': 'stochastic9', 'barrier': 31}, 'lower': {'indicator': 'stochastic3', 'barrier': 68}, 'best': {'type': 'upper', 'indicator': 'stochastic9', 'barrier': 31}}}, 'order': {'single': {'upper': {'indicator': 'adx3', 'barrier': 71}, 'lower': {'indicator': 'ppo9', 'barrier': 2}, 'best': {'type': 'upper', 'indicator': 'adx3', 'barrier': 71}}}}\n",
      "Key in forward opt json 07-05 - max - mean - 73\n"
     ]
    },
    {
     "name": "stderr",
     "output_type": "stream",
     "text": [
      "\r",
      "  7%|▋         | 71/1050 [07:00<1:18:53,  4.83s/it]"
     ]
    },
    {
     "name": "stdout",
     "output_type": "stream",
     "text": [
      "07-05 - max - mean\n",
      "{'mean': {'single': {'upper': {'indicator': 'adx3', 'barrier': 53}, 'lower': {'indicator': 'ppo3', 'barrier': 7}, 'best': {'type': 'upper', 'indicator': 'adx3', 'barrier': 53}}}, 'order': {'single': {'upper': {'indicator': 'adx3', 'barrier': 65}, 'lower': {'indicator': 'stochastic3', 'barrier': 7}, 'best': {'type': 'upper', 'indicator': 'adx3', 'barrier': 65}}}}\n",
      "Key in forward opt json 07-05 - max - order - 828\n"
     ]
    },
    {
     "name": "stderr",
     "output_type": "stream",
     "text": [
      "\r",
      "  7%|▋         | 72/1050 [07:09<1:37:52,  6.00s/it]"
     ]
    },
    {
     "name": "stdout",
     "output_type": "stream",
     "text": [
      "07-05 - max - order\n",
      "{'mean': {'single': {'upper': {'indicator': 'ppo3', 'barrier': 1}, 'lower': {'indicator': 'stochastic3', 'barrier': 68}, 'best': {'type': 'upper', 'indicator': 'ppo3', 'barrier': 1}}}, 'order': {'single': {'upper': {'indicator': 'adx6', 'barrier': 51}, 'lower': {'indicator': 'ppo6', 'barrier': -1}, 'best': {'type': 'upper', 'indicator': 'adx6', 'barrier': 51}}}}\n",
      "Key in forward opt json 07-06 - 6-month - mean - 225\n"
     ]
    },
    {
     "name": "stderr",
     "output_type": "stream",
     "text": [
      "\r",
      "  7%|▋         | 73/1050 [07:10<1:12:58,  4.48s/it]"
     ]
    },
    {
     "name": "stdout",
     "output_type": "stream",
     "text": [
      "07-06 - 6-month - mean\n",
      "{'mean': {'single': {'upper': {'indicator': 'adx6', 'barrier': 22}, 'lower': {'indicator': 'ppo9', 'barrier': 8}, 'best': {'type': 'upper', 'indicator': 'adx6', 'barrier': 22}}}, 'order': {'single': {'upper': {'indicator': 'stochastic3', 'barrier': 57}, 'lower': {'indicator': 'adx9', 'barrier': 27}, 'best': {'type': 'upper', 'indicator': 'stochastic3', 'barrier': 57}}}}\n",
      "Key in forward opt json 07-06 - 6-month - order - 326\n"
     ]
    },
    {
     "name": "stderr",
     "output_type": "stream",
     "text": [
      "\r",
      "  7%|▋         | 74/1050 [07:12<1:00:31,  3.72s/it]"
     ]
    },
    {
     "name": "stdout",
     "output_type": "stream",
     "text": [
      "07-06 - 6-month - order\n",
      "{'mean': {'single': {'upper': {'indicator': 'adx3', 'barrier': 35}, 'lower': {'indicator': 'ppo9', 'barrier': 18}, 'best': {'type': 'upper', 'indicator': 'adx3', 'barrier': 35}}}, 'order': {'single': {'upper': {'indicator': 'adx6', 'barrier': 48}, 'lower': {'indicator': 'stochastic9', 'barrier': 24}, 'best': {'type': 'upper', 'indicator': 'adx6', 'barrier': 48}}}}\n",
      "Key in forward opt json 07-06 - 12-month - mean - 770\n"
     ]
    },
    {
     "name": "stderr",
     "output_type": "stream",
     "text": [
      "\r",
      "  7%|▋         | 75/1050 [07:20<1:20:33,  4.96s/it]"
     ]
    },
    {
     "name": "stdout",
     "output_type": "stream",
     "text": [
      "07-06 - 12-month - mean\n",
      "{'mean': {'single': {'upper': {'indicator': 'stochastic9', 'barrier': 31}, 'lower': {'indicator': 'stochastic3', 'barrier': 68}, 'best': {'type': 'upper', 'indicator': 'stochastic9', 'barrier': 31}}}, 'order': {'single': {'upper': {'indicator': 'adx3', 'barrier': 71}, 'lower': {'indicator': 'ppo9', 'barrier': 2}, 'best': {'type': 'upper', 'indicator': 'adx3', 'barrier': 71}}}}\n",
      "Key in forward opt json 07-06 - 12-month - order - 770\n"
     ]
    },
    {
     "name": "stderr",
     "output_type": "stream",
     "text": [
      "\r",
      "  7%|▋         | 76/1050 [07:28<1:35:25,  5.88s/it]"
     ]
    },
    {
     "name": "stdout",
     "output_type": "stream",
     "text": [
      "07-06 - 12-month - order\n",
      "{'mean': {'single': {'upper': {'indicator': 'stochastic9', 'barrier': 31}, 'lower': {'indicator': 'stochastic3', 'barrier': 68}, 'best': {'type': 'upper', 'indicator': 'stochastic9', 'barrier': 31}}}, 'order': {'single': {'upper': {'indicator': 'adx3', 'barrier': 71}, 'lower': {'indicator': 'ppo9', 'barrier': 2}, 'best': {'type': 'upper', 'indicator': 'adx3', 'barrier': 71}}}}\n",
      "Key in forward opt json 07-06 - max - mean - 73\n"
     ]
    },
    {
     "name": "stderr",
     "output_type": "stream",
     "text": [
      "\r",
      "  7%|▋         | 77/1050 [07:29<1:10:12,  4.33s/it]"
     ]
    },
    {
     "name": "stdout",
     "output_type": "stream",
     "text": [
      "07-06 - max - mean\n",
      "{'mean': {'single': {'upper': {'indicator': 'adx3', 'barrier': 53}, 'lower': {'indicator': 'ppo3', 'barrier': 7}, 'best': {'type': 'upper', 'indicator': 'adx3', 'barrier': 53}}}, 'order': {'single': {'upper': {'indicator': 'adx3', 'barrier': 65}, 'lower': {'indicator': 'stochastic3', 'barrier': 7}, 'best': {'type': 'upper', 'indicator': 'adx3', 'barrier': 65}}}}\n",
      "Key in forward opt json 07-06 - max - order - 828\n"
     ]
    },
    {
     "name": "stderr",
     "output_type": "stream",
     "text": [
      "\r",
      "  7%|▋         | 78/1050 [07:38<1:33:45,  5.79s/it]"
     ]
    },
    {
     "name": "stdout",
     "output_type": "stream",
     "text": [
      "07-06 - max - order\n",
      "{'mean': {'single': {'upper': {'indicator': 'ppo3', 'barrier': 1}, 'lower': {'indicator': 'stochastic3', 'barrier': 68}, 'best': {'type': 'upper', 'indicator': 'ppo3', 'barrier': 1}}}, 'order': {'single': {'upper': {'indicator': 'adx6', 'barrier': 51}, 'lower': {'indicator': 'ppo6', 'barrier': -1}, 'best': {'type': 'upper', 'indicator': 'adx6', 'barrier': 51}}}}\n",
      "Key in forward opt json 07-07 - 6-month - mean - 225\n"
     ]
    },
    {
     "name": "stderr",
     "output_type": "stream",
     "text": [
      "\r",
      "  8%|▊         | 79/1050 [07:39<1:10:33,  4.36s/it]"
     ]
    },
    {
     "name": "stdout",
     "output_type": "stream",
     "text": [
      "07-07 - 6-month - mean\n",
      "{'mean': {'single': {'upper': {'indicator': 'adx6', 'barrier': 22}, 'lower': {'indicator': 'ppo9', 'barrier': 8}, 'best': {'type': 'upper', 'indicator': 'adx6', 'barrier': 22}}}, 'order': {'single': {'upper': {'indicator': 'stochastic3', 'barrier': 57}, 'lower': {'indicator': 'adx9', 'barrier': 27}, 'best': {'type': 'upper', 'indicator': 'stochastic3', 'barrier': 57}}}}\n",
      "Key in forward opt json 07-07 - 6-month - order - 326\n"
     ]
    },
    {
     "name": "stderr",
     "output_type": "stream",
     "text": [
      "\r",
      "  8%|▊         | 80/1050 [07:41<1:00:02,  3.71s/it]"
     ]
    },
    {
     "name": "stdout",
     "output_type": "stream",
     "text": [
      "07-07 - 6-month - order\n",
      "{'mean': {'single': {'upper': {'indicator': 'ppo9', 'barrier': 2}, 'lower': {'indicator': 'ppo9', 'barrier': 24}, 'best': {'type': 'upper', 'indicator': 'ppo9', 'barrier': 2}}}, 'order': {'single': {'upper': {'indicator': 'ppo6', 'barrier': 20}, 'lower': {'indicator': 'adx3', 'barrier': 39}, 'best': {'type': 'upper', 'indicator': 'ppo6', 'barrier': 20}}}}\n",
      "Key in forward opt json 07-07 - 12-month - mean - 225\n"
     ]
    },
    {
     "name": "stderr",
     "output_type": "stream",
     "text": [
      "\r",
      "  8%|▊         | 81/1050 [07:42<47:21,  2.93s/it]  "
     ]
    },
    {
     "name": "stdout",
     "output_type": "stream",
     "text": [
      "07-07 - 12-month - mean\n",
      "{'mean': {'single': {'upper': {'indicator': 'adx6', 'barrier': 22}, 'lower': {'indicator': 'ppo9', 'barrier': 8}, 'best': {'type': 'upper', 'indicator': 'adx6', 'barrier': 22}}}, 'order': {'single': {'upper': {'indicator': 'stochastic3', 'barrier': 57}, 'lower': {'indicator': 'adx9', 'barrier': 27}, 'best': {'type': 'upper', 'indicator': 'stochastic3', 'barrier': 57}}}}\n",
      "Key in forward opt json 07-07 - 12-month - order - 225\n"
     ]
    },
    {
     "name": "stderr",
     "output_type": "stream",
     "text": [
      "\r",
      "  8%|▊         | 82/1050 [07:43<38:29,  2.39s/it]"
     ]
    },
    {
     "name": "stdout",
     "output_type": "stream",
     "text": [
      "07-07 - 12-month - order\n",
      "{'mean': {'single': {'upper': {'indicator': 'adx6', 'barrier': 22}, 'lower': {'indicator': 'ppo9', 'barrier': 8}, 'best': {'type': 'upper', 'indicator': 'adx6', 'barrier': 22}}}, 'order': {'single': {'upper': {'indicator': 'stochastic3', 'barrier': 57}, 'lower': {'indicator': 'adx9', 'barrier': 27}, 'best': {'type': 'upper', 'indicator': 'stochastic3', 'barrier': 57}}}}\n",
      "Key in forward opt json 07-07 - max - mean - 73\n"
     ]
    },
    {
     "name": "stderr",
     "output_type": "stream",
     "text": [
      "\r",
      "  8%|▊         | 83/1050 [07:44<31:04,  1.93s/it]"
     ]
    },
    {
     "name": "stdout",
     "output_type": "stream",
     "text": [
      "07-07 - max - mean\n",
      "{'mean': {'single': {'upper': {'indicator': 'adx3', 'barrier': 53}, 'lower': {'indicator': 'ppo3', 'barrier': 7}, 'best': {'type': 'upper', 'indicator': 'adx3', 'barrier': 53}}}, 'order': {'single': {'upper': {'indicator': 'adx3', 'barrier': 65}, 'lower': {'indicator': 'stochastic3', 'barrier': 7}, 'best': {'type': 'upper', 'indicator': 'adx3', 'barrier': 65}}}}\n",
      "Key in forward opt json 07-07 - max - order - 828\n"
     ]
    },
    {
     "name": "stderr",
     "output_type": "stream",
     "text": [
      "\r",
      "  8%|▊         | 84/1050 [07:55<1:12:39,  4.51s/it]"
     ]
    },
    {
     "name": "stdout",
     "output_type": "stream",
     "text": [
      "07-07 - max - order\n",
      "{'mean': {'single': {'upper': {'indicator': 'ppo3', 'barrier': 1}, 'lower': {'indicator': 'stochastic3', 'barrier': 68}, 'best': {'type': 'upper', 'indicator': 'ppo3', 'barrier': 1}}}, 'order': {'single': {'upper': {'indicator': 'adx6', 'barrier': 51}, 'lower': {'indicator': 'ppo6', 'barrier': -1}, 'best': {'type': 'upper', 'indicator': 'adx6', 'barrier': 51}}}}\n",
      "Key in forward opt json 07-08 - 6-month - mean - 225\n"
     ]
    },
    {
     "name": "stderr",
     "output_type": "stream",
     "text": [
      "\r",
      "  8%|▊         | 85/1050 [07:56<56:22,  3.51s/it]  "
     ]
    },
    {
     "name": "stdout",
     "output_type": "stream",
     "text": [
      "07-08 - 6-month - mean\n",
      "{'mean': {'single': {'upper': {'indicator': 'adx6', 'barrier': 22}, 'lower': {'indicator': 'ppo9', 'barrier': 8}, 'best': {'type': 'upper', 'indicator': 'adx6', 'barrier': 22}}}, 'order': {'single': {'upper': {'indicator': 'stochastic3', 'barrier': 57}, 'lower': {'indicator': 'adx9', 'barrier': 27}, 'best': {'type': 'upper', 'indicator': 'stochastic3', 'barrier': 57}}}}\n",
      "Key in forward opt json 07-08 - 6-month - order - 326\n"
     ]
    },
    {
     "name": "stderr",
     "output_type": "stream",
     "text": [
      "\r",
      "  8%|▊         | 86/1050 [07:58<50:42,  3.16s/it]"
     ]
    },
    {
     "name": "stdout",
     "output_type": "stream",
     "text": [
      "07-08 - 6-month - order\n",
      "{'mean': {'single': {'upper': {'indicator': 'adx3', 'barrier': 35}, 'lower': {'indicator': 'ppo6', 'barrier': 22}, 'best': {'type': 'upper', 'indicator': 'adx3', 'barrier': 35}}}, 'order': {'single': {'upper': {'indicator': 'stochastic3', 'barrier': 65}, 'lower': {'indicator': 'adx9', 'barrier': 17}, 'best': {'type': 'upper', 'indicator': 'stochastic3', 'barrier': 65}}}}\n",
      "Key in forward opt json 07-08 - 12-month - mean - 225\n"
     ]
    },
    {
     "name": "stderr",
     "output_type": "stream",
     "text": [
      "\r",
      "  8%|▊         | 87/1050 [07:59<40:58,  2.55s/it]"
     ]
    },
    {
     "name": "stdout",
     "output_type": "stream",
     "text": [
      "07-08 - 12-month - mean\n",
      "{'mean': {'single': {'upper': {'indicator': 'adx6', 'barrier': 22}, 'lower': {'indicator': 'ppo9', 'barrier': 8}, 'best': {'type': 'upper', 'indicator': 'adx6', 'barrier': 22}}}, 'order': {'single': {'upper': {'indicator': 'stochastic3', 'barrier': 57}, 'lower': {'indicator': 'adx9', 'barrier': 27}, 'best': {'type': 'upper', 'indicator': 'stochastic3', 'barrier': 57}}}}\n",
      "Key in forward opt json 07-08 - 12-month - order - 225\n"
     ]
    },
    {
     "name": "stderr",
     "output_type": "stream",
     "text": [
      "\r",
      "  8%|▊         | 88/1050 [08:00<34:14,  2.14s/it]"
     ]
    },
    {
     "name": "stdout",
     "output_type": "stream",
     "text": [
      "07-08 - 12-month - order\n",
      "{'mean': {'single': {'upper': {'indicator': 'adx6', 'barrier': 22}, 'lower': {'indicator': 'ppo9', 'barrier': 8}, 'best': {'type': 'upper', 'indicator': 'adx6', 'barrier': 22}}}, 'order': {'single': {'upper': {'indicator': 'stochastic3', 'barrier': 57}, 'lower': {'indicator': 'adx9', 'barrier': 27}, 'best': {'type': 'upper', 'indicator': 'stochastic3', 'barrier': 57}}}}\n",
      "Key in forward opt json 07-08 - max - mean - 73\n"
     ]
    },
    {
     "name": "stderr",
     "output_type": "stream",
     "text": [
      "\r",
      "  8%|▊         | 89/1050 [08:01<28:06,  1.76s/it]"
     ]
    },
    {
     "name": "stdout",
     "output_type": "stream",
     "text": [
      "07-08 - max - mean\n",
      "{'mean': {'single': {'upper': {'indicator': 'adx3', 'barrier': 53}, 'lower': {'indicator': 'ppo3', 'barrier': 7}, 'best': {'type': 'upper', 'indicator': 'adx3', 'barrier': 53}}}, 'order': {'single': {'upper': {'indicator': 'adx3', 'barrier': 65}, 'lower': {'indicator': 'stochastic3', 'barrier': 7}, 'best': {'type': 'upper', 'indicator': 'adx3', 'barrier': 65}}}}\n",
      "Key in forward opt json 07-08 - max - order - 828\n"
     ]
    },
    {
     "name": "stderr",
     "output_type": "stream",
     "text": [
      "\r",
      "  9%|▊         | 90/1050 [08:12<1:09:57,  4.37s/it]"
     ]
    },
    {
     "name": "stdout",
     "output_type": "stream",
     "text": [
      "07-08 - max - order\n",
      "{'mean': {'single': {'upper': {'indicator': 'ppo3', 'barrier': 1}, 'lower': {'indicator': 'stochastic3', 'barrier': 68}, 'best': {'type': 'upper', 'indicator': 'ppo3', 'barrier': 1}}}, 'order': {'single': {'upper': {'indicator': 'adx6', 'barrier': 51}, 'lower': {'indicator': 'ppo6', 'barrier': -1}, 'best': {'type': 'upper', 'indicator': 'adx6', 'barrier': 51}}}}\n",
      "Key in forward opt json 07-09 - 6-month - mean - 58\n"
     ]
    },
    {
     "name": "stderr",
     "output_type": "stream",
     "text": [
      "\r",
      "  9%|▊         | 91/1050 [08:12<52:00,  3.25s/it]  "
     ]
    },
    {
     "name": "stdout",
     "output_type": "stream",
     "text": [
      "07-09 - 6-month - mean\n",
      "{'mean': {'single': {'upper': {'indicator': 'adx3', 'barrier': 53}, 'lower': {'indicator': 'ppo6', 'barrier': 8}, 'best': {'type': 'upper', 'indicator': 'adx3', 'barrier': 53}}}, 'order': {'single': {'upper': {'indicator': 'adx3', 'barrier': 65}, 'lower': {'indicator': 'stochastic3', 'barrier': 7}, 'best': {'type': 'upper', 'indicator': 'adx3', 'barrier': 65}}}}\n",
      "Key in forward opt json 07-09 - 6-month - order - 842\n"
     ]
    },
    {
     "name": "stderr",
     "output_type": "stream",
     "text": [
      "\r",
      "  9%|▉         | 92/1050 [08:23<1:27:46,  5.50s/it]"
     ]
    },
    {
     "name": "stdout",
     "output_type": "stream",
     "text": [
      "07-09 - 6-month - order\n",
      "{'mean': {'single': {'upper': {'indicator': 'ppo6', 'barrier': 0}, 'lower': {'indicator': 'ppo9', 'barrier': 17}, 'best': {'type': 'upper', 'indicator': 'ppo6', 'barrier': 0}}}, 'order': {'single': {'upper': {'indicator': 'stochastic3', 'barrier': 36}, 'lower': {'indicator': 'ppo9', 'barrier': 7}, 'best': {'type': 'upper', 'indicator': 'stochastic3', 'barrier': 36}}}}\n",
      "Key in forward opt json 07-09 - 12-month - mean - 58\n"
     ]
    },
    {
     "name": "stderr",
     "output_type": "stream",
     "text": [
      "\r",
      "  9%|▉         | 93/1050 [08:24<1:04:23,  4.04s/it]"
     ]
    },
    {
     "name": "stdout",
     "output_type": "stream",
     "text": [
      "07-09 - 12-month - mean\n",
      "{'mean': {'single': {'upper': {'indicator': 'adx3', 'barrier': 53}, 'lower': {'indicator': 'ppo6', 'barrier': 8}, 'best': {'type': 'upper', 'indicator': 'adx3', 'barrier': 53}}}, 'order': {'single': {'upper': {'indicator': 'adx3', 'barrier': 65}, 'lower': {'indicator': 'stochastic3', 'barrier': 7}, 'best': {'type': 'upper', 'indicator': 'adx3', 'barrier': 65}}}}\n",
      "Key in forward opt json 07-09 - 12-month - order - 225\n"
     ]
    },
    {
     "name": "stderr",
     "output_type": "stream",
     "text": [
      "\r",
      "  9%|▉         | 94/1050 [08:25<49:31,  3.11s/it]  "
     ]
    },
    {
     "name": "stdout",
     "output_type": "stream",
     "text": [
      "07-09 - 12-month - order\n",
      "{'mean': {'single': {'upper': {'indicator': 'adx6', 'barrier': 22}, 'lower': {'indicator': 'ppo9', 'barrier': 8}, 'best': {'type': 'upper', 'indicator': 'adx6', 'barrier': 22}}}, 'order': {'single': {'upper': {'indicator': 'stochastic3', 'barrier': 57}, 'lower': {'indicator': 'adx9', 'barrier': 27}, 'best': {'type': 'upper', 'indicator': 'stochastic3', 'barrier': 57}}}}\n",
      "Key in forward opt json 07-09 - max - mean - 73\n"
     ]
    },
    {
     "name": "stderr",
     "output_type": "stream",
     "text": [
      "\r",
      "  9%|▉         | 95/1050 [08:25<37:56,  2.38s/it]"
     ]
    },
    {
     "name": "stdout",
     "output_type": "stream",
     "text": [
      "07-09 - max - mean\n",
      "{'mean': {'single': {'upper': {'indicator': 'adx3', 'barrier': 53}, 'lower': {'indicator': 'ppo3', 'barrier': 7}, 'best': {'type': 'upper', 'indicator': 'adx3', 'barrier': 53}}}, 'order': {'single': {'upper': {'indicator': 'adx3', 'barrier': 65}, 'lower': {'indicator': 'stochastic3', 'barrier': 7}, 'best': {'type': 'upper', 'indicator': 'adx3', 'barrier': 65}}}}\n",
      "Key in forward opt json 07-09 - max - order - 828\n"
     ]
    },
    {
     "name": "stderr",
     "output_type": "stream",
     "text": [
      "\r",
      "  9%|▉         | 96/1050 [08:34<1:08:44,  4.32s/it]"
     ]
    },
    {
     "name": "stdout",
     "output_type": "stream",
     "text": [
      "07-09 - max - order\n",
      "{'mean': {'single': {'upper': {'indicator': 'ppo3', 'barrier': 1}, 'lower': {'indicator': 'stochastic3', 'barrier': 68}, 'best': {'type': 'upper', 'indicator': 'ppo3', 'barrier': 1}}}, 'order': {'single': {'upper': {'indicator': 'adx6', 'barrier': 51}, 'lower': {'indicator': 'ppo6', 'barrier': -1}, 'best': {'type': 'upper', 'indicator': 'adx6', 'barrier': 51}}}}\n",
      "Key in forward opt json 07-10 - 6-month - mean - 58\n"
     ]
    },
    {
     "name": "stderr",
     "output_type": "stream",
     "text": [
      "\r",
      "  9%|▉         | 97/1050 [08:35<51:04,  3.22s/it]  "
     ]
    },
    {
     "name": "stdout",
     "output_type": "stream",
     "text": [
      "07-10 - 6-month - mean\n",
      "{'mean': {'single': {'upper': {'indicator': 'adx3', 'barrier': 53}, 'lower': {'indicator': 'ppo6', 'barrier': 8}, 'best': {'type': 'upper', 'indicator': 'adx3', 'barrier': 53}}}, 'order': {'single': {'upper': {'indicator': 'adx3', 'barrier': 65}, 'lower': {'indicator': 'stochastic3', 'barrier': 7}, 'best': {'type': 'upper', 'indicator': 'adx3', 'barrier': 65}}}}\n",
      "Key in forward opt json 07-10 - 6-month - order - 842\n"
     ]
    },
    {
     "name": "stderr",
     "output_type": "stream",
     "text": [
      "\r",
      "  9%|▉         | 98/1050 [08:45<1:24:52,  5.35s/it]"
     ]
    },
    {
     "name": "stdout",
     "output_type": "stream",
     "text": [
      "07-10 - 6-month - order\n",
      "{'mean': {'single': {'upper': {'indicator': 'ppo6', 'barrier': 0}, 'lower': {'indicator': 'ppo9', 'barrier': 17}, 'best': {'type': 'upper', 'indicator': 'ppo6', 'barrier': 0}}}, 'order': {'single': {'upper': {'indicator': 'stochastic3', 'barrier': 36}, 'lower': {'indicator': 'ppo9', 'barrier': 7}, 'best': {'type': 'upper', 'indicator': 'stochastic3', 'barrier': 36}}}}\n",
      "Key in forward opt json 07-10 - 12-month - mean - 58\n"
     ]
    },
    {
     "name": "stderr",
     "output_type": "stream",
     "text": [
      "\r",
      "  9%|▉         | 99/1050 [08:46<1:02:21,  3.93s/it]"
     ]
    },
    {
     "name": "stdout",
     "output_type": "stream",
     "text": [
      "07-10 - 12-month - mean\n",
      "{'mean': {'single': {'upper': {'indicator': 'adx3', 'barrier': 53}, 'lower': {'indicator': 'ppo6', 'barrier': 8}, 'best': {'type': 'upper', 'indicator': 'adx3', 'barrier': 53}}}, 'order': {'single': {'upper': {'indicator': 'adx3', 'barrier': 65}, 'lower': {'indicator': 'stochastic3', 'barrier': 7}, 'best': {'type': 'upper', 'indicator': 'adx3', 'barrier': 65}}}}\n",
      "Key in forward opt json 07-10 - 12-month - order - 225\n"
     ]
    },
    {
     "name": "stderr",
     "output_type": "stream",
     "text": [
      "\r",
      " 10%|▉         | 100/1050 [08:47<48:01,  3.03s/it] "
     ]
    },
    {
     "name": "stdout",
     "output_type": "stream",
     "text": [
      "07-10 - 12-month - order\n",
      "{'mean': {'single': {'upper': {'indicator': 'adx6', 'barrier': 22}, 'lower': {'indicator': 'ppo9', 'barrier': 8}, 'best': {'type': 'upper', 'indicator': 'adx6', 'barrier': 22}}}, 'order': {'single': {'upper': {'indicator': 'stochastic3', 'barrier': 57}, 'lower': {'indicator': 'adx9', 'barrier': 27}, 'best': {'type': 'upper', 'indicator': 'stochastic3', 'barrier': 57}}}}\n",
      "Key in forward opt json 07-10 - max - mean - 73\n"
     ]
    },
    {
     "name": "stderr",
     "output_type": "stream",
     "text": [
      "\r",
      " 10%|▉         | 101/1050 [08:47<36:51,  2.33s/it]"
     ]
    },
    {
     "name": "stdout",
     "output_type": "stream",
     "text": [
      "07-10 - max - mean\n",
      "{'mean': {'single': {'upper': {'indicator': 'adx3', 'barrier': 53}, 'lower': {'indicator': 'ppo3', 'barrier': 7}, 'best': {'type': 'upper', 'indicator': 'adx3', 'barrier': 53}}}, 'order': {'single': {'upper': {'indicator': 'adx3', 'barrier': 65}, 'lower': {'indicator': 'stochastic3', 'barrier': 7}, 'best': {'type': 'upper', 'indicator': 'adx3', 'barrier': 65}}}}\n",
      "Key in forward opt json 07-10 - max - order - 828\n"
     ]
    },
    {
     "name": "stderr",
     "output_type": "stream",
     "text": [
      "\r",
      " 10%|▉         | 102/1050 [08:56<1:07:19,  4.26s/it]"
     ]
    },
    {
     "name": "stdout",
     "output_type": "stream",
     "text": [
      "07-10 - max - order\n",
      "{'mean': {'single': {'upper': {'indicator': 'ppo3', 'barrier': 1}, 'lower': {'indicator': 'stochastic3', 'barrier': 68}, 'best': {'type': 'upper', 'indicator': 'ppo3', 'barrier': 1}}}, 'order': {'single': {'upper': {'indicator': 'adx6', 'barrier': 51}, 'lower': {'indicator': 'ppo6', 'barrier': -1}, 'best': {'type': 'upper', 'indicator': 'adx6', 'barrier': 51}}}}\n",
      "Key in forward opt json 07-11 - 6-month - mean - 58\n"
     ]
    },
    {
     "name": "stderr",
     "output_type": "stream",
     "text": [
      "\r",
      " 10%|▉         | 103/1050 [08:57<50:11,  3.18s/it]  "
     ]
    },
    {
     "name": "stdout",
     "output_type": "stream",
     "text": [
      "07-11 - 6-month - mean\n",
      "{'mean': {'single': {'upper': {'indicator': 'adx3', 'barrier': 53}, 'lower': {'indicator': 'ppo6', 'barrier': 8}, 'best': {'type': 'upper', 'indicator': 'adx3', 'barrier': 53}}}, 'order': {'single': {'upper': {'indicator': 'adx3', 'barrier': 65}, 'lower': {'indicator': 'stochastic3', 'barrier': 7}, 'best': {'type': 'upper', 'indicator': 'adx3', 'barrier': 65}}}}\n",
      "Key in forward opt json 07-11 - 6-month - order - 842\n"
     ]
    },
    {
     "name": "stderr",
     "output_type": "stream",
     "text": [
      "\r",
      " 10%|▉         | 104/1050 [09:07<1:23:26,  5.29s/it]"
     ]
    },
    {
     "name": "stdout",
     "output_type": "stream",
     "text": [
      "07-11 - 6-month - order\n",
      "{'mean': {'single': {'upper': {'indicator': 'ppo6', 'barrier': 0}, 'lower': {'indicator': 'ppo9', 'barrier': 17}, 'best': {'type': 'upper', 'indicator': 'ppo6', 'barrier': 0}}}, 'order': {'single': {'upper': {'indicator': 'stochastic3', 'barrier': 36}, 'lower': {'indicator': 'ppo9', 'barrier': 7}, 'best': {'type': 'upper', 'indicator': 'stochastic3', 'barrier': 36}}}}\n",
      "Key in forward opt json 07-11 - 12-month - mean - 58\n"
     ]
    },
    {
     "name": "stderr",
     "output_type": "stream",
     "text": [
      "\r",
      " 10%|█         | 105/1050 [09:08<1:01:17,  3.89s/it]"
     ]
    },
    {
     "name": "stdout",
     "output_type": "stream",
     "text": [
      "07-11 - 12-month - mean\n",
      "{'mean': {'single': {'upper': {'indicator': 'adx3', 'barrier': 53}, 'lower': {'indicator': 'ppo6', 'barrier': 8}, 'best': {'type': 'upper', 'indicator': 'adx3', 'barrier': 53}}}, 'order': {'single': {'upper': {'indicator': 'adx3', 'barrier': 65}, 'lower': {'indicator': 'stochastic3', 'barrier': 7}, 'best': {'type': 'upper', 'indicator': 'adx3', 'barrier': 65}}}}\n",
      "Key in forward opt json 07-11 - 12-month - order - 225\n"
     ]
    },
    {
     "name": "stderr",
     "output_type": "stream",
     "text": [
      "\r",
      " 10%|█         | 106/1050 [09:09<47:12,  3.00s/it]  "
     ]
    },
    {
     "name": "stdout",
     "output_type": "stream",
     "text": [
      "07-11 - 12-month - order\n",
      "{'mean': {'single': {'upper': {'indicator': 'adx6', 'barrier': 22}, 'lower': {'indicator': 'ppo9', 'barrier': 8}, 'best': {'type': 'upper', 'indicator': 'adx6', 'barrier': 22}}}, 'order': {'single': {'upper': {'indicator': 'stochastic3', 'barrier': 57}, 'lower': {'indicator': 'adx9', 'barrier': 27}, 'best': {'type': 'upper', 'indicator': 'stochastic3', 'barrier': 57}}}}\n",
      "Key in forward opt json 07-11 - max - mean - 73\n"
     ]
    },
    {
     "name": "stderr",
     "output_type": "stream",
     "text": [
      "\r",
      " 10%|█         | 107/1050 [09:09<36:16,  2.31s/it]"
     ]
    },
    {
     "name": "stdout",
     "output_type": "stream",
     "text": [
      "07-11 - max - mean\n",
      "{'mean': {'single': {'upper': {'indicator': 'adx3', 'barrier': 53}, 'lower': {'indicator': 'ppo3', 'barrier': 7}, 'best': {'type': 'upper', 'indicator': 'adx3', 'barrier': 53}}}, 'order': {'single': {'upper': {'indicator': 'adx3', 'barrier': 65}, 'lower': {'indicator': 'stochastic3', 'barrier': 7}, 'best': {'type': 'upper', 'indicator': 'adx3', 'barrier': 65}}}}\n",
      "Key in forward opt json 07-11 - max - order - 828\n"
     ]
    },
    {
     "name": "stderr",
     "output_type": "stream",
     "text": [
      "\r",
      " 10%|█         | 108/1050 [09:18<1:06:00,  4.20s/it]"
     ]
    },
    {
     "name": "stdout",
     "output_type": "stream",
     "text": [
      "07-11 - max - order\n",
      "{'mean': {'single': {'upper': {'indicator': 'ppo3', 'barrier': 1}, 'lower': {'indicator': 'stochastic3', 'barrier': 68}, 'best': {'type': 'upper', 'indicator': 'ppo3', 'barrier': 1}}}, 'order': {'single': {'upper': {'indicator': 'adx6', 'barrier': 51}, 'lower': {'indicator': 'ppo6', 'barrier': -1}, 'best': {'type': 'upper', 'indicator': 'adx6', 'barrier': 51}}}}\n",
      "Key in forward opt json 07-12 - 6-month - mean - 58\n"
     ]
    },
    {
     "name": "stderr",
     "output_type": "stream",
     "text": [
      "\r",
      " 10%|█         | 109/1050 [09:19<49:07,  3.13s/it]  "
     ]
    },
    {
     "name": "stdout",
     "output_type": "stream",
     "text": [
      "07-12 - 6-month - mean\n",
      "{'mean': {'single': {'upper': {'indicator': 'adx3', 'barrier': 53}, 'lower': {'indicator': 'ppo6', 'barrier': 8}, 'best': {'type': 'upper', 'indicator': 'adx3', 'barrier': 53}}}, 'order': {'single': {'upper': {'indicator': 'adx3', 'barrier': 65}, 'lower': {'indicator': 'stochastic3', 'barrier': 7}, 'best': {'type': 'upper', 'indicator': 'adx3', 'barrier': 65}}}}\n",
      "Key in forward opt json 07-12 - 6-month - order - 869\n"
     ]
    },
    {
     "name": "stderr",
     "output_type": "stream",
     "text": [
      "\r",
      " 10%|█         | 110/1050 [09:30<1:27:51,  5.61s/it]"
     ]
    },
    {
     "name": "stdout",
     "output_type": "stream",
     "text": [
      "07-12 - 6-month - order\n",
      "{'mean': {'single': {'upper': {'indicator': 'stochastic6', 'barrier': 14}, 'lower': {'indicator': 'ppo9', 'barrier': 23}, 'best': {'type': 'upper', 'indicator': 'stochastic6', 'barrier': 14}}}, 'order': {'single': {'upper': {'indicator': 'stochastic6', 'barrier': 52}, 'lower': {'indicator': 'adx9', 'barrier': 29}, 'best': {'type': 'upper', 'indicator': 'stochastic6', 'barrier': 52}}}}\n",
      "Key in forward opt json 07-12 - 12-month - mean - 58\n"
     ]
    },
    {
     "name": "stderr",
     "output_type": "stream",
     "text": [
      "\r",
      " 11%|█         | 111/1050 [09:31<1:04:23,  4.11s/it]"
     ]
    },
    {
     "name": "stdout",
     "output_type": "stream",
     "text": [
      "07-12 - 12-month - mean\n",
      "{'mean': {'single': {'upper': {'indicator': 'adx3', 'barrier': 53}, 'lower': {'indicator': 'ppo6', 'barrier': 8}, 'best': {'type': 'upper', 'indicator': 'adx3', 'barrier': 53}}}, 'order': {'single': {'upper': {'indicator': 'adx3', 'barrier': 65}, 'lower': {'indicator': 'stochastic3', 'barrier': 7}, 'best': {'type': 'upper', 'indicator': 'adx3', 'barrier': 65}}}}\n",
      "Key in forward opt json 07-12 - 12-month - order - 868\n"
     ]
    },
    {
     "name": "stderr",
     "output_type": "stream",
     "text": [
      "\r",
      " 11%|█         | 112/1050 [09:42<1:39:17,  6.35s/it]"
     ]
    },
    {
     "name": "stdout",
     "output_type": "stream",
     "text": [
      "07-12 - 12-month - order\n",
      "{'mean': {'single': {'upper': {'indicator': 'stochastic3', 'barrier': 28}, 'lower': {'indicator': 'stochastic3', 'barrier': 68}, 'best': {'type': 'upper', 'indicator': 'stochastic3', 'barrier': 28}}}, 'order': {'single': {'upper': {'indicator': 'adx3', 'barrier': 41}, 'lower': {'indicator': 'stochastic3', 'barrier': 24}, 'best': {'type': 'upper', 'indicator': 'adx3', 'barrier': 41}}}}\n",
      "Key in forward opt json 07-12 - max - mean - 73\n"
     ]
    },
    {
     "name": "stderr",
     "output_type": "stream",
     "text": [
      "\r",
      " 11%|█         | 113/1050 [09:43<1:12:37,  4.65s/it]"
     ]
    },
    {
     "name": "stdout",
     "output_type": "stream",
     "text": [
      "07-12 - max - mean\n",
      "{'mean': {'single': {'upper': {'indicator': 'adx3', 'barrier': 53}, 'lower': {'indicator': 'ppo3', 'barrier': 7}, 'best': {'type': 'upper', 'indicator': 'adx3', 'barrier': 53}}}, 'order': {'single': {'upper': {'indicator': 'adx3', 'barrier': 65}, 'lower': {'indicator': 'stochastic3', 'barrier': 7}, 'best': {'type': 'upper', 'indicator': 'adx3', 'barrier': 65}}}}\n",
      "Key in forward opt json 07-12 - max - order - 828\n"
     ]
    },
    {
     "name": "stderr",
     "output_type": "stream",
     "text": [
      "\r",
      " 11%|█         | 114/1050 [09:52<1:31:55,  5.89s/it]"
     ]
    },
    {
     "name": "stdout",
     "output_type": "stream",
     "text": [
      "07-12 - max - order\n",
      "{'mean': {'single': {'upper': {'indicator': 'ppo3', 'barrier': 1}, 'lower': {'indicator': 'stochastic3', 'barrier': 68}, 'best': {'type': 'upper', 'indicator': 'ppo3', 'barrier': 1}}}, 'order': {'single': {'upper': {'indicator': 'adx6', 'barrier': 51}, 'lower': {'indicator': 'ppo6', 'barrier': -1}, 'best': {'type': 'upper', 'indicator': 'adx6', 'barrier': 51}}}}\n",
      "Key in forward opt json 08-01 - 6-month - mean - 58\n"
     ]
    },
    {
     "name": "stderr",
     "output_type": "stream",
     "text": [
      "\r",
      " 11%|█         | 115/1050 [09:52<1:07:10,  4.31s/it]"
     ]
    },
    {
     "name": "stdout",
     "output_type": "stream",
     "text": [
      "08-01 - 6-month - mean\n",
      "{'mean': {'single': {'upper': {'indicator': 'adx3', 'barrier': 53}, 'lower': {'indicator': 'ppo6', 'barrier': 8}, 'best': {'type': 'upper', 'indicator': 'adx3', 'barrier': 53}}}, 'order': {'single': {'upper': {'indicator': 'adx3', 'barrier': 65}, 'lower': {'indicator': 'stochastic3', 'barrier': 7}, 'best': {'type': 'upper', 'indicator': 'adx3', 'barrier': 65}}}}\n",
      "Key in forward opt json 08-01 - 6-month - order - 225\n"
     ]
    },
    {
     "name": "stderr",
     "output_type": "stream",
     "text": [
      "\r",
      " 11%|█         | 116/1050 [09:53<51:17,  3.29s/it]  "
     ]
    },
    {
     "name": "stdout",
     "output_type": "stream",
     "text": [
      "08-01 - 6-month - order\n",
      "{'mean': {'single': {'upper': {'indicator': 'stochastic9', 'barrier': 19}, 'lower': {'indicator': 'ppo3', 'barrier': 6}, 'best': {'type': 'upper', 'indicator': 'stochastic9', 'barrier': 19}}}, 'order': {'single': {'upper': {'indicator': 'stochastic3', 'barrier': 33}, 'lower': {'indicator': 'adx6', 'barrier': 26}, 'best': {'type': 'upper', 'indicator': 'stochastic3', 'barrier': 33}}}}\n",
      "Key in forward opt json 08-01 - 12-month - mean - 58\n"
     ]
    },
    {
     "name": "stderr",
     "output_type": "stream",
     "text": [
      "\r",
      " 11%|█         | 117/1050 [09:54<38:46,  2.49s/it]"
     ]
    },
    {
     "name": "stdout",
     "output_type": "stream",
     "text": [
      "08-01 - 12-month - mean\n",
      "{'mean': {'single': {'upper': {'indicator': 'adx3', 'barrier': 53}, 'lower': {'indicator': 'ppo6', 'barrier': 8}, 'best': {'type': 'upper', 'indicator': 'adx3', 'barrier': 53}}}, 'order': {'single': {'upper': {'indicator': 'adx3', 'barrier': 65}, 'lower': {'indicator': 'stochastic3', 'barrier': 7}, 'best': {'type': 'upper', 'indicator': 'adx3', 'barrier': 65}}}}\n",
      "Key in forward opt json 08-01 - 12-month - order - 225\n"
     ]
    },
    {
     "name": "stderr",
     "output_type": "stream",
     "text": [
      "\r",
      " 11%|█         | 118/1050 [09:55<31:25,  2.02s/it]"
     ]
    },
    {
     "name": "stdout",
     "output_type": "stream",
     "text": [
      "08-01 - 12-month - order\n",
      "{'mean': {'single': {'upper': {'indicator': 'stochastic9', 'barrier': 19}, 'lower': {'indicator': 'ppo3', 'barrier': 6}, 'best': {'type': 'upper', 'indicator': 'stochastic9', 'barrier': 19}}}, 'order': {'single': {'upper': {'indicator': 'stochastic3', 'barrier': 33}, 'lower': {'indicator': 'adx6', 'barrier': 26}, 'best': {'type': 'upper', 'indicator': 'stochastic3', 'barrier': 33}}}}\n",
      "Key in forward opt json 08-01 - max - mean - 73\n"
     ]
    },
    {
     "name": "stderr",
     "output_type": "stream",
     "text": [
      "\r",
      " 11%|█▏        | 119/1050 [09:55<25:10,  1.62s/it]"
     ]
    },
    {
     "name": "stdout",
     "output_type": "stream",
     "text": [
      "08-01 - max - mean\n",
      "{'mean': {'single': {'upper': {'indicator': 'adx3', 'barrier': 53}, 'lower': {'indicator': 'ppo3', 'barrier': 7}, 'best': {'type': 'upper', 'indicator': 'adx3', 'barrier': 53}}}, 'order': {'single': {'upper': {'indicator': 'adx3', 'barrier': 65}, 'lower': {'indicator': 'stochastic3', 'barrier': 7}, 'best': {'type': 'upper', 'indicator': 'adx3', 'barrier': 65}}}}\n",
      "Key in forward opt json 08-01 - max - order - 828\n"
     ]
    },
    {
     "name": "stderr",
     "output_type": "stream",
     "text": [
      "\r",
      " 11%|█▏        | 120/1050 [10:04<58:13,  3.76s/it]"
     ]
    },
    {
     "name": "stdout",
     "output_type": "stream",
     "text": [
      "08-01 - max - order\n",
      "{'mean': {'single': {'upper': {'indicator': 'ppo3', 'barrier': 1}, 'lower': {'indicator': 'stochastic3', 'barrier': 68}, 'best': {'type': 'upper', 'indicator': 'ppo3', 'barrier': 1}}}, 'order': {'single': {'upper': {'indicator': 'adx6', 'barrier': 51}, 'lower': {'indicator': 'ppo6', 'barrier': -1}, 'best': {'type': 'upper', 'indicator': 'adx6', 'barrier': 51}}}}\n",
      "Key in forward opt json 08-02 - 6-month - mean - 58\n"
     ]
    },
    {
     "name": "stderr",
     "output_type": "stream",
     "text": [
      "\r",
      " 12%|█▏        | 121/1050 [10:05<43:36,  2.82s/it]"
     ]
    },
    {
     "name": "stdout",
     "output_type": "stream",
     "text": [
      "08-02 - 6-month - mean\n",
      "{'mean': {'single': {'upper': {'indicator': 'adx3', 'barrier': 53}, 'lower': {'indicator': 'ppo6', 'barrier': 8}, 'best': {'type': 'upper', 'indicator': 'adx3', 'barrier': 53}}}, 'order': {'single': {'upper': {'indicator': 'adx3', 'barrier': 65}, 'lower': {'indicator': 'stochastic3', 'barrier': 7}, 'best': {'type': 'upper', 'indicator': 'adx3', 'barrier': 65}}}}\n",
      "Key in forward opt json 08-02 - 6-month - order - 351\n"
     ]
    },
    {
     "name": "stderr",
     "output_type": "stream",
     "text": [
      "\r",
      " 12%|█▏        | 122/1050 [10:07<40:57,  2.65s/it]"
     ]
    },
    {
     "name": "stdout",
     "output_type": "stream",
     "text": [
      "08-02 - 6-month - order\n",
      "{'mean': {'single': {'upper': {'indicator': 'adx6', 'barrier': 20}, 'lower': {'indicator': 'ppo9', 'barrier': 22}, 'best': {'type': 'upper', 'indicator': 'adx6', 'barrier': 20}}}, 'order': {'single': {'upper': {'indicator': 'ppo6', 'barrier': 31}, 'lower': {'indicator': 'adx3', 'barrier': 37}, 'best': {'type': 'upper', 'indicator': 'ppo6', 'barrier': 31}}}}\n",
      "Key in forward opt json 08-02 - 12-month - mean - 264\n"
     ]
    },
    {
     "name": "stderr",
     "output_type": "stream",
     "text": [
      "\r",
      " 12%|█▏        | 123/1050 [10:08<34:15,  2.22s/it]"
     ]
    },
    {
     "name": "stdout",
     "output_type": "stream",
     "text": [
      "08-02 - 12-month - mean\n",
      "{'mean': {'single': {'upper': {'indicator': 'adx3', 'barrier': 36}, 'lower': {'indicator': 'ppo9', 'barrier': 14}, 'best': {'type': 'upper', 'indicator': 'adx3', 'barrier': 36}}}, 'order': {'single': {'upper': {'indicator': 'stochastic3', 'barrier': 41}, 'lower': {'indicator': 'adx6', 'barrier': 38}, 'best': {'type': 'upper', 'indicator': 'stochastic3', 'barrier': 41}}}}\n",
      "Key in forward opt json 08-02 - 12-month - order - 326\n"
     ]
    },
    {
     "name": "stderr",
     "output_type": "stream",
     "text": [
      "\r",
      " 12%|█▏        | 124/1050 [10:10<32:48,  2.13s/it]"
     ]
    },
    {
     "name": "stdout",
     "output_type": "stream",
     "text": [
      "08-02 - 12-month - order\n",
      "{'mean': {'single': {'upper': {'indicator': 'adx6', 'barrier': 20}, 'lower': {'indicator': 'ppo9', 'barrier': 18}, 'best': {'type': 'upper', 'indicator': 'adx6', 'barrier': 20}}}, 'order': {'single': {'upper': {'indicator': 'adx3', 'barrier': 63}, 'lower': {'indicator': 'stochastic9', 'barrier': 22}, 'best': {'type': 'upper', 'indicator': 'adx3', 'barrier': 63}}}}\n",
      "Key in forward opt json 08-02 - max - mean - 73\n"
     ]
    },
    {
     "name": "stderr",
     "output_type": "stream",
     "text": [
      "\r",
      " 12%|█▏        | 125/1050 [10:11<26:05,  1.69s/it]"
     ]
    },
    {
     "name": "stdout",
     "output_type": "stream",
     "text": [
      "08-02 - max - mean\n",
      "{'mean': {'single': {'upper': {'indicator': 'adx3', 'barrier': 53}, 'lower': {'indicator': 'ppo3', 'barrier': 7}, 'best': {'type': 'upper', 'indicator': 'adx3', 'barrier': 53}}}, 'order': {'single': {'upper': {'indicator': 'adx3', 'barrier': 65}, 'lower': {'indicator': 'stochastic3', 'barrier': 7}, 'best': {'type': 'upper', 'indicator': 'adx3', 'barrier': 65}}}}\n",
      "Key in forward opt json 08-02 - max - order - 828\n"
     ]
    },
    {
     "name": "stderr",
     "output_type": "stream",
     "text": [
      "\r",
      " 12%|█▏        | 126/1050 [10:20<58:40,  3.81s/it]"
     ]
    },
    {
     "name": "stdout",
     "output_type": "stream",
     "text": [
      "08-02 - max - order\n",
      "{'mean': {'single': {'upper': {'indicator': 'ppo3', 'barrier': 1}, 'lower': {'indicator': 'stochastic3', 'barrier': 68}, 'best': {'type': 'upper', 'indicator': 'ppo3', 'barrier': 1}}}, 'order': {'single': {'upper': {'indicator': 'adx6', 'barrier': 51}, 'lower': {'indicator': 'ppo6', 'barrier': -1}, 'best': {'type': 'upper', 'indicator': 'adx6', 'barrier': 51}}}}\n",
      "Key in forward opt json 08-03 - 6-month - mean - 301\n"
     ]
    },
    {
     "name": "stderr",
     "output_type": "stream",
     "text": [
      "\r",
      " 12%|█▏        | 127/1050 [10:21<48:44,  3.17s/it]"
     ]
    },
    {
     "name": "stdout",
     "output_type": "stream",
     "text": [
      "08-03 - 6-month - mean\n",
      "{'mean': {'single': {'upper': {'indicator': 'stochastic9', 'barrier': 14}, 'lower': {'indicator': 'ppo9', 'barrier': 16}, 'best': {'type': 'upper', 'indicator': 'stochastic9', 'barrier': 14}}}, 'order': {'single': {'upper': {'indicator': 'stochastic6', 'barrier': 64}, 'lower': {'indicator': 'stochastic9', 'barrier': 8}, 'best': {'type': 'upper', 'indicator': 'stochastic6', 'barrier': 64}}}}\n",
      "Key in forward opt json 08-03 - 6-month - order - 301\n"
     ]
    },
    {
     "name": "stderr",
     "output_type": "stream",
     "text": [
      "\r",
      " 12%|█▏        | 128/1050 [10:23<41:38,  2.71s/it]"
     ]
    },
    {
     "name": "stdout",
     "output_type": "stream",
     "text": [
      "08-03 - 6-month - order\n",
      "{'mean': {'single': {'upper': {'indicator': 'stochastic9', 'barrier': 14}, 'lower': {'indicator': 'ppo9', 'barrier': 16}, 'best': {'type': 'upper', 'indicator': 'stochastic9', 'barrier': 14}}}, 'order': {'single': {'upper': {'indicator': 'stochastic6', 'barrier': 64}, 'lower': {'indicator': 'stochastic9', 'barrier': 8}, 'best': {'type': 'upper', 'indicator': 'stochastic6', 'barrier': 64}}}}\n",
      "Key in forward opt json 08-03 - 12-month - mean - 58\n"
     ]
    },
    {
     "name": "stderr",
     "output_type": "stream",
     "text": [
      "\r",
      " 12%|█▏        | 129/1050 [10:24<31:59,  2.08s/it]"
     ]
    },
    {
     "name": "stdout",
     "output_type": "stream",
     "text": [
      "08-03 - 12-month - mean\n",
      "{'mean': {'single': {'upper': {'indicator': 'adx3', 'barrier': 53}, 'lower': {'indicator': 'ppo6', 'barrier': 8}, 'best': {'type': 'upper', 'indicator': 'adx3', 'barrier': 53}}}, 'order': {'single': {'upper': {'indicator': 'adx3', 'barrier': 65}, 'lower': {'indicator': 'stochastic3', 'barrier': 7}, 'best': {'type': 'upper', 'indicator': 'adx3', 'barrier': 65}}}}\n",
      "Key in forward opt json 08-03 - 12-month - order - 326\n"
     ]
    },
    {
     "name": "stderr",
     "output_type": "stream",
     "text": [
      "\r",
      " 12%|█▏        | 130/1050 [10:26<31:40,  2.07s/it]"
     ]
    },
    {
     "name": "stdout",
     "output_type": "stream",
     "text": [
      "08-03 - 12-month - order\n",
      "{'mean': {'single': {'upper': {'indicator': 'adx6', 'barrier': 20}, 'lower': {'indicator': 'ppo9', 'barrier': 18}, 'best': {'type': 'upper', 'indicator': 'adx6', 'barrier': 20}}}, 'order': {'single': {'upper': {'indicator': 'adx3', 'barrier': 63}, 'lower': {'indicator': 'stochastic9', 'barrier': 22}, 'best': {'type': 'upper', 'indicator': 'adx3', 'barrier': 63}}}}\n",
      "Key in forward opt json 08-03 - max - mean - 73\n"
     ]
    },
    {
     "name": "stderr",
     "output_type": "stream",
     "text": [
      "\r",
      " 12%|█▏        | 131/1050 [10:26<25:22,  1.66s/it]"
     ]
    },
    {
     "name": "stdout",
     "output_type": "stream",
     "text": [
      "08-03 - max - mean\n",
      "{'mean': {'single': {'upper': {'indicator': 'adx3', 'barrier': 53}, 'lower': {'indicator': 'ppo3', 'barrier': 7}, 'best': {'type': 'upper', 'indicator': 'adx3', 'barrier': 53}}}, 'order': {'single': {'upper': {'indicator': 'adx3', 'barrier': 65}, 'lower': {'indicator': 'stochastic3', 'barrier': 7}, 'best': {'type': 'upper', 'indicator': 'adx3', 'barrier': 65}}}}\n",
      "Key in forward opt json 08-03 - max - order - 828\n"
     ]
    },
    {
     "name": "stderr",
     "output_type": "stream",
     "text": [
      "\r",
      " 13%|█▎        | 132/1050 [10:35<59:37,  3.90s/it]"
     ]
    },
    {
     "name": "stdout",
     "output_type": "stream",
     "text": [
      "08-03 - max - order\n",
      "{'mean': {'single': {'upper': {'indicator': 'ppo3', 'barrier': 1}, 'lower': {'indicator': 'stochastic3', 'barrier': 68}, 'best': {'type': 'upper', 'indicator': 'ppo3', 'barrier': 1}}}, 'order': {'single': {'upper': {'indicator': 'adx6', 'barrier': 51}, 'lower': {'indicator': 'ppo6', 'barrier': -1}, 'best': {'type': 'upper', 'indicator': 'adx6', 'barrier': 51}}}}\n",
      "Key in forward opt json 08-04 - 6-month - mean - 301\n"
     ]
    },
    {
     "name": "stderr",
     "output_type": "stream",
     "text": [
      "\r",
      " 13%|█▎        | 133/1050 [10:37<49:27,  3.24s/it]"
     ]
    },
    {
     "name": "stdout",
     "output_type": "stream",
     "text": [
      "08-04 - 6-month - mean\n",
      "{'mean': {'single': {'upper': {'indicator': 'stochastic9', 'barrier': 14}, 'lower': {'indicator': 'ppo9', 'barrier': 16}, 'best': {'type': 'upper', 'indicator': 'stochastic9', 'barrier': 14}}}, 'order': {'single': {'upper': {'indicator': 'stochastic6', 'barrier': 64}, 'lower': {'indicator': 'stochastic9', 'barrier': 8}, 'best': {'type': 'upper', 'indicator': 'stochastic6', 'barrier': 64}}}}\n",
      "Key in forward opt json 08-04 - 6-month - order - 843\n"
     ]
    },
    {
     "name": "stderr",
     "output_type": "stream",
     "text": [
      "\r",
      " 13%|█▎        | 134/1050 [10:49<1:29:06,  5.84s/it]"
     ]
    },
    {
     "name": "stdout",
     "output_type": "stream",
     "text": [
      "08-04 - 6-month - order\n",
      "{'mean': {'single': {'upper': {'indicator': 'ppo9', 'barrier': -1}, 'lower': {'indicator': 'ppo6', 'barrier': 20}, 'best': {'type': 'upper', 'indicator': 'ppo9', 'barrier': -1}}}, 'order': {'single': {'upper': {'indicator': 'adx9', 'barrier': 29}, 'lower': {'indicator': 'ppo3', 'barrier': -2}, 'best': {'type': 'upper', 'indicator': 'adx9', 'barrier': 29}}}}\n",
      "Key in forward opt json 08-04 - 12-month - mean - 58\n"
     ]
    },
    {
     "name": "stderr",
     "output_type": "stream",
     "text": [
      "\r",
      " 13%|█▎        | 135/1050 [10:50<1:05:35,  4.30s/it]"
     ]
    },
    {
     "name": "stdout",
     "output_type": "stream",
     "text": [
      "08-04 - 12-month - mean\n",
      "{'mean': {'single': {'upper': {'indicator': 'adx3', 'barrier': 53}, 'lower': {'indicator': 'ppo6', 'barrier': 8}, 'best': {'type': 'upper', 'indicator': 'adx3', 'barrier': 53}}}, 'order': {'single': {'upper': {'indicator': 'adx3', 'barrier': 65}, 'lower': {'indicator': 'stochastic3', 'barrier': 7}, 'best': {'type': 'upper', 'indicator': 'adx3', 'barrier': 65}}}}\n",
      "Key in forward opt json 08-04 - 12-month - order - 869\n"
     ]
    },
    {
     "name": "stderr",
     "output_type": "stream",
     "text": [
      "\r",
      " 13%|█▎        | 136/1050 [11:03<1:46:33,  7.00s/it]"
     ]
    },
    {
     "name": "stdout",
     "output_type": "stream",
     "text": [
      "08-04 - 12-month - order\n",
      "{'mean': {'single': {'upper': {'indicator': 'stochastic6', 'barrier': 14}, 'lower': {'indicator': 'ppo9', 'barrier': 23}, 'best': {'type': 'upper', 'indicator': 'stochastic6', 'barrier': 14}}}, 'order': {'single': {'upper': {'indicator': 'stochastic6', 'barrier': 52}, 'lower': {'indicator': 'adx9', 'barrier': 29}, 'best': {'type': 'upper', 'indicator': 'stochastic6', 'barrier': 52}}}}\n",
      "Key in forward opt json 08-04 - max - mean - 73\n"
     ]
    },
    {
     "name": "stderr",
     "output_type": "stream",
     "text": [
      "\r",
      " 13%|█▎        | 137/1050 [11:04<1:18:17,  5.15s/it]"
     ]
    },
    {
     "name": "stdout",
     "output_type": "stream",
     "text": [
      "08-04 - max - mean\n",
      "{'mean': {'single': {'upper': {'indicator': 'adx3', 'barrier': 53}, 'lower': {'indicator': 'ppo3', 'barrier': 7}, 'best': {'type': 'upper', 'indicator': 'adx3', 'barrier': 53}}}, 'order': {'single': {'upper': {'indicator': 'adx3', 'barrier': 65}, 'lower': {'indicator': 'stochastic3', 'barrier': 7}, 'best': {'type': 'upper', 'indicator': 'adx3', 'barrier': 65}}}}\n",
      "Key in forward opt json 08-04 - max - order - 828\n"
     ]
    },
    {
     "name": "stderr",
     "output_type": "stream",
     "text": [
      "\r",
      " 13%|█▎        | 138/1050 [11:14<1:41:36,  6.69s/it]"
     ]
    },
    {
     "name": "stdout",
     "output_type": "stream",
     "text": [
      "08-04 - max - order\n",
      "{'mean': {'single': {'upper': {'indicator': 'ppo3', 'barrier': 1}, 'lower': {'indicator': 'stochastic3', 'barrier': 68}, 'best': {'type': 'upper', 'indicator': 'ppo3', 'barrier': 1}}}, 'order': {'single': {'upper': {'indicator': 'adx6', 'barrier': 51}, 'lower': {'indicator': 'ppo6', 'barrier': -1}, 'best': {'type': 'upper', 'indicator': 'adx6', 'barrier': 51}}}}\n",
      "Key in forward opt json 08-05 - 6-month - mean - 301\n"
     ]
    },
    {
     "name": "stderr",
     "output_type": "stream",
     "text": [
      "\r",
      " 13%|█▎        | 139/1050 [11:16<1:18:51,  5.19s/it]"
     ]
    },
    {
     "name": "stdout",
     "output_type": "stream",
     "text": [
      "08-05 - 6-month - mean\n",
      "{'mean': {'single': {'upper': {'indicator': 'stochastic9', 'barrier': 14}, 'lower': {'indicator': 'ppo9', 'barrier': 16}, 'best': {'type': 'upper', 'indicator': 'stochastic9', 'barrier': 14}}}, 'order': {'single': {'upper': {'indicator': 'stochastic6', 'barrier': 64}, 'lower': {'indicator': 'stochastic9', 'barrier': 8}, 'best': {'type': 'upper', 'indicator': 'stochastic6', 'barrier': 64}}}}\n",
      "Key in forward opt json 08-05 - 6-month - order - 843\n"
     ]
    },
    {
     "name": "stderr",
     "output_type": "stream",
     "text": [
      "\r",
      " 13%|█▎        | 140/1050 [11:27<1:44:02,  6.86s/it]"
     ]
    },
    {
     "name": "stdout",
     "output_type": "stream",
     "text": [
      "08-05 - 6-month - order\n",
      "{'mean': {'single': {'upper': {'indicator': 'ppo9', 'barrier': -1}, 'lower': {'indicator': 'ppo6', 'barrier': 20}, 'best': {'type': 'upper', 'indicator': 'ppo9', 'barrier': -1}}}, 'order': {'single': {'upper': {'indicator': 'adx9', 'barrier': 29}, 'lower': {'indicator': 'ppo3', 'barrier': -2}, 'best': {'type': 'upper', 'indicator': 'adx9', 'barrier': 29}}}}\n",
      "Key in forward opt json 08-05 - 12-month - mean - 58\n"
     ]
    },
    {
     "name": "stderr",
     "output_type": "stream",
     "text": [
      "\r",
      " 13%|█▎        | 141/1050 [11:27<1:15:35,  4.99s/it]"
     ]
    },
    {
     "name": "stdout",
     "output_type": "stream",
     "text": [
      "08-05 - 12-month - mean\n",
      "{'mean': {'single': {'upper': {'indicator': 'adx3', 'barrier': 53}, 'lower': {'indicator': 'ppo6', 'barrier': 8}, 'best': {'type': 'upper', 'indicator': 'adx3', 'barrier': 53}}}, 'order': {'single': {'upper': {'indicator': 'adx3', 'barrier': 65}, 'lower': {'indicator': 'stochastic3', 'barrier': 7}, 'best': {'type': 'upper', 'indicator': 'adx3', 'barrier': 65}}}}\n",
      "Key in forward opt json 08-05 - 12-month - order - 869\n"
     ]
    },
    {
     "name": "stderr",
     "output_type": "stream",
     "text": [
      "\r",
      " 14%|█▎        | 142/1050 [11:38<1:43:31,  6.84s/it]"
     ]
    },
    {
     "name": "stdout",
     "output_type": "stream",
     "text": [
      "08-05 - 12-month - order\n",
      "{'mean': {'single': {'upper': {'indicator': 'stochastic6', 'barrier': 14}, 'lower': {'indicator': 'ppo9', 'barrier': 23}, 'best': {'type': 'upper', 'indicator': 'stochastic6', 'barrier': 14}}}, 'order': {'single': {'upper': {'indicator': 'stochastic6', 'barrier': 52}, 'lower': {'indicator': 'adx9', 'barrier': 29}, 'best': {'type': 'upper', 'indicator': 'stochastic6', 'barrier': 52}}}}\n",
      "Key in forward opt json 08-05 - max - mean - 73\n"
     ]
    },
    {
     "name": "stderr",
     "output_type": "stream",
     "text": [
      "\r",
      " 14%|█▎        | 143/1050 [11:39<1:15:28,  4.99s/it]"
     ]
    },
    {
     "name": "stdout",
     "output_type": "stream",
     "text": [
      "08-05 - max - mean\n",
      "{'mean': {'single': {'upper': {'indicator': 'adx3', 'barrier': 53}, 'lower': {'indicator': 'ppo3', 'barrier': 7}, 'best': {'type': 'upper', 'indicator': 'adx3', 'barrier': 53}}}, 'order': {'single': {'upper': {'indicator': 'adx3', 'barrier': 65}, 'lower': {'indicator': 'stochastic3', 'barrier': 7}, 'best': {'type': 'upper', 'indicator': 'adx3', 'barrier': 65}}}}\n",
      "Key in forward opt json 08-05 - max - order - 828\n"
     ]
    },
    {
     "name": "stderr",
     "output_type": "stream",
     "text": [
      "\r",
      " 14%|█▎        | 144/1050 [11:47<1:30:54,  6.02s/it]"
     ]
    },
    {
     "name": "stdout",
     "output_type": "stream",
     "text": [
      "08-05 - max - order\n",
      "{'mean': {'single': {'upper': {'indicator': 'ppo3', 'barrier': 1}, 'lower': {'indicator': 'stochastic3', 'barrier': 68}, 'best': {'type': 'upper', 'indicator': 'ppo3', 'barrier': 1}}}, 'order': {'single': {'upper': {'indicator': 'adx6', 'barrier': 51}, 'lower': {'indicator': 'ppo6', 'barrier': -1}, 'best': {'type': 'upper', 'indicator': 'adx6', 'barrier': 51}}}}\n",
      "Key in forward opt json 08-06 - 6-month - mean - 301\n"
     ]
    },
    {
     "name": "stderr",
     "output_type": "stream",
     "text": [
      "\r",
      " 14%|█▍        | 145/1050 [11:49<1:10:44,  4.69s/it]"
     ]
    },
    {
     "name": "stdout",
     "output_type": "stream",
     "text": [
      "08-06 - 6-month - mean\n",
      "{'mean': {'single': {'upper': {'indicator': 'adx3', 'barrier': 34}, 'lower': {'indicator': 'ppo9', 'barrier': 16}, 'best': {'type': 'upper', 'indicator': 'adx3', 'barrier': 34}}}, 'order': {'single': {'upper': {'indicator': 'adx9', 'barrier': 39}, 'lower': {'indicator': 'adx6', 'barrier': 32}, 'best': {'type': 'upper', 'indicator': 'adx9', 'barrier': 39}}}}\n",
      "Key in forward opt json 08-06 - 6-month - order - 843\n"
     ]
    },
    {
     "name": "stderr",
     "output_type": "stream",
     "text": [
      "\r",
      " 14%|█▍        | 146/1050 [11:59<1:34:33,  6.28s/it]"
     ]
    },
    {
     "name": "stdout",
     "output_type": "stream",
     "text": [
      "08-06 - 6-month - order\n",
      "{'mean': {'single': {'upper': {'indicator': 'ppo9', 'barrier': -1}, 'lower': {'indicator': 'ppo6', 'barrier': 20}, 'best': {'type': 'upper', 'indicator': 'ppo9', 'barrier': -1}}}, 'order': {'single': {'upper': {'indicator': 'ppo9', 'barrier': 35}, 'lower': {'indicator': 'stochastic6', 'barrier': 7}, 'best': {'type': 'upper', 'indicator': 'ppo9', 'barrier': 35}}}}\n",
      "Key in forward opt json 08-06 - 12-month - mean - 58\n"
     ]
    },
    {
     "name": "stderr",
     "output_type": "stream",
     "text": [
      "\r",
      " 14%|█▍        | 147/1050 [12:00<1:08:53,  4.58s/it]"
     ]
    },
    {
     "name": "stdout",
     "output_type": "stream",
     "text": [
      "08-06 - 12-month - mean\n",
      "{'mean': {'single': {'upper': {'indicator': 'adx3', 'barrier': 53}, 'lower': {'indicator': 'ppo6', 'barrier': 8}, 'best': {'type': 'upper', 'indicator': 'adx3', 'barrier': 53}}}, 'order': {'single': {'upper': {'indicator': 'adx3', 'barrier': 65}, 'lower': {'indicator': 'stochastic3', 'barrier': 7}, 'best': {'type': 'upper', 'indicator': 'adx3', 'barrier': 65}}}}\n",
      "Key in forward opt json 08-06 - 12-month - order - 326\n"
     ]
    },
    {
     "name": "stderr",
     "output_type": "stream",
     "text": [
      "\r",
      " 14%|█▍        | 148/1050 [12:01<56:29,  3.76s/it]  "
     ]
    },
    {
     "name": "stdout",
     "output_type": "stream",
     "text": [
      "08-06 - 12-month - order\n",
      "{'mean': {'single': {'upper': {'indicator': 'adx6', 'barrier': 20}, 'lower': {'indicator': 'ppo9', 'barrier': 18}, 'best': {'type': 'upper', 'indicator': 'adx6', 'barrier': 20}}}, 'order': {'single': {'upper': {'indicator': 'adx3', 'barrier': 63}, 'lower': {'indicator': 'stochastic9', 'barrier': 22}, 'best': {'type': 'upper', 'indicator': 'adx3', 'barrier': 63}}}}\n",
      "Key in forward opt json 08-06 - max - mean - 73\n"
     ]
    },
    {
     "name": "stderr",
     "output_type": "stream",
     "text": [
      "\r",
      " 14%|█▍        | 149/1050 [12:02<42:33,  2.83s/it]"
     ]
    },
    {
     "name": "stdout",
     "output_type": "stream",
     "text": [
      "08-06 - max - mean\n",
      "{'mean': {'single': {'upper': {'indicator': 'adx3', 'barrier': 53}, 'lower': {'indicator': 'ppo3', 'barrier': 7}, 'best': {'type': 'upper', 'indicator': 'adx3', 'barrier': 53}}}, 'order': {'single': {'upper': {'indicator': 'adx3', 'barrier': 65}, 'lower': {'indicator': 'stochastic3', 'barrier': 7}, 'best': {'type': 'upper', 'indicator': 'adx3', 'barrier': 65}}}}\n",
      "Key in forward opt json 08-06 - max - order - 828\n"
     ]
    },
    {
     "name": "stderr",
     "output_type": "stream",
     "text": [
      "\r",
      " 14%|█▍        | 150/1050 [12:11<1:07:38,  4.51s/it]"
     ]
    },
    {
     "name": "stdout",
     "output_type": "stream",
     "text": [
      "08-06 - max - order\n",
      "{'mean': {'single': {'upper': {'indicator': 'ppo3', 'barrier': 1}, 'lower': {'indicator': 'stochastic3', 'barrier': 68}, 'best': {'type': 'upper', 'indicator': 'ppo3', 'barrier': 1}}}, 'order': {'single': {'upper': {'indicator': 'adx6', 'barrier': 51}, 'lower': {'indicator': 'ppo6', 'barrier': -1}, 'best': {'type': 'upper', 'indicator': 'adx6', 'barrier': 51}}}}\n",
      "Key in forward opt json 08-07 - 6-month - mean - 301\n"
     ]
    },
    {
     "name": "stderr",
     "output_type": "stream",
     "text": [
      "\r",
      " 14%|█▍        | 151/1050 [12:12<54:26,  3.63s/it]  "
     ]
    },
    {
     "name": "stdout",
     "output_type": "stream",
     "text": [
      "08-07 - 6-month - mean\n",
      "{'mean': {'single': {'upper': {'indicator': 'adx3', 'barrier': 34}, 'lower': {'indicator': 'ppo9', 'barrier': 16}, 'best': {'type': 'upper', 'indicator': 'adx3', 'barrier': 34}}}, 'order': {'single': {'upper': {'indicator': 'adx9', 'barrier': 39}, 'lower': {'indicator': 'adx6', 'barrier': 32}, 'best': {'type': 'upper', 'indicator': 'adx9', 'barrier': 39}}}}\n",
      "Key in forward opt json 08-07 - 6-month - order - 843\n"
     ]
    },
    {
     "name": "stderr",
     "output_type": "stream",
     "text": [
      "\r",
      " 14%|█▍        | 152/1050 [12:22<1:22:56,  5.54s/it]"
     ]
    },
    {
     "name": "stdout",
     "output_type": "stream",
     "text": [
      "08-07 - 6-month - order\n",
      "{'mean': {'single': {'upper': {'indicator': 'ppo9', 'barrier': -1}, 'lower': {'indicator': 'ppo6', 'barrier': 20}, 'best': {'type': 'upper', 'indicator': 'ppo9', 'barrier': -1}}}, 'order': {'single': {'upper': {'indicator': 'ppo9', 'barrier': 35}, 'lower': {'indicator': 'stochastic6', 'barrier': 7}, 'best': {'type': 'upper', 'indicator': 'ppo9', 'barrier': 35}}}}\n",
      "Key in forward opt json 08-07 - 12-month - mean - 58\n"
     ]
    },
    {
     "name": "stderr",
     "output_type": "stream",
     "text": [
      "\r",
      " 15%|█▍        | 153/1050 [12:23<1:00:46,  4.06s/it]"
     ]
    },
    {
     "name": "stdout",
     "output_type": "stream",
     "text": [
      "08-07 - 12-month - mean\n",
      "{'mean': {'single': {'upper': {'indicator': 'adx3', 'barrier': 53}, 'lower': {'indicator': 'ppo6', 'barrier': 8}, 'best': {'type': 'upper', 'indicator': 'adx3', 'barrier': 53}}}, 'order': {'single': {'upper': {'indicator': 'adx3', 'barrier': 65}, 'lower': {'indicator': 'stochastic3', 'barrier': 7}, 'best': {'type': 'upper', 'indicator': 'adx3', 'barrier': 65}}}}\n",
      "Key in forward opt json 08-07 - 12-month - order - 295\n"
     ]
    },
    {
     "name": "stderr",
     "output_type": "stream",
     "text": [
      "\r",
      " 15%|█▍        | 154/1050 [12:24<49:01,  3.28s/it]  "
     ]
    },
    {
     "name": "stdout",
     "output_type": "stream",
     "text": [
      "08-07 - 12-month - order\n",
      "{'mean': {'single': {'upper': {'indicator': 'stochastic9', 'barrier': 14}, 'lower': {'indicator': 'ppo9', 'barrier': 18}, 'best': {'type': 'upper', 'indicator': 'stochastic9', 'barrier': 14}}}, 'order': {'single': {'upper': {'indicator': 'stochastic3', 'barrier': 53}, 'lower': {'indicator': 'adx6', 'barrier': 24}, 'best': {'type': 'upper', 'indicator': 'stochastic3', 'barrier': 53}}}}\n",
      "Key in forward opt json 08-07 - max - mean - 73\n"
     ]
    },
    {
     "name": "stderr",
     "output_type": "stream",
     "text": [
      "\r",
      " 15%|█▍        | 155/1050 [12:25<37:20,  2.50s/it]"
     ]
    },
    {
     "name": "stdout",
     "output_type": "stream",
     "text": [
      "08-07 - max - mean\n",
      "{'mean': {'single': {'upper': {'indicator': 'adx3', 'barrier': 53}, 'lower': {'indicator': 'ppo3', 'barrier': 7}, 'best': {'type': 'upper', 'indicator': 'adx3', 'barrier': 53}}}, 'order': {'single': {'upper': {'indicator': 'adx3', 'barrier': 65}, 'lower': {'indicator': 'stochastic3', 'barrier': 7}, 'best': {'type': 'upper', 'indicator': 'adx3', 'barrier': 65}}}}\n",
      "Key in forward opt json 08-07 - max - order - 828\n"
     ]
    },
    {
     "name": "stderr",
     "output_type": "stream",
     "text": [
      "\r",
      " 15%|█▍        | 156/1050 [12:33<1:03:50,  4.28s/it]"
     ]
    },
    {
     "name": "stdout",
     "output_type": "stream",
     "text": [
      "08-07 - max - order\n",
      "{'mean': {'single': {'upper': {'indicator': 'ppo3', 'barrier': 1}, 'lower': {'indicator': 'stochastic3', 'barrier': 68}, 'best': {'type': 'upper', 'indicator': 'ppo3', 'barrier': 1}}}, 'order': {'single': {'upper': {'indicator': 'adx6', 'barrier': 51}, 'lower': {'indicator': 'ppo6', 'barrier': -1}, 'best': {'type': 'upper', 'indicator': 'adx6', 'barrier': 51}}}}\n",
      "Key in forward opt json 08-08 - 6-month - mean - 795\n"
     ]
    },
    {
     "name": "stderr",
     "output_type": "stream",
     "text": [
      "\r",
      " 15%|█▍        | 157/1050 [12:40<1:16:20,  5.13s/it]"
     ]
    },
    {
     "name": "stdout",
     "output_type": "stream",
     "text": [
      "08-08 - 6-month - mean\n",
      "{'mean': {'single': {'upper': {'indicator': 'ppo6', 'barrier': 0}, 'lower': {'indicator': 'ppo9', 'barrier': 14}, 'best': {'type': 'upper', 'indicator': 'ppo6', 'barrier': 0}}}, 'order': {'single': {'upper': {'indicator': 'ppo3', 'barrier': 10}, 'lower': {'indicator': 'stochastic9', 'barrier': 25}, 'best': {'type': 'upper', 'indicator': 'ppo3', 'barrier': 10}}}}\n",
      "Key in forward opt json 08-08 - 6-month - order - 869\n"
     ]
    },
    {
     "name": "stderr",
     "output_type": "stream",
     "text": [
      "\r",
      " 15%|█▌        | 158/1050 [12:52<1:43:14,  6.94s/it]"
     ]
    },
    {
     "name": "stdout",
     "output_type": "stream",
     "text": [
      "08-08 - 6-month - order\n",
      "{'mean': {'single': {'upper': {'indicator': 'stochastic9', 'barrier': 21}, 'lower': {'indicator': 'ppo9', 'barrier': 29}, 'best': {'type': 'upper', 'indicator': 'stochastic9', 'barrier': 21}}}, 'order': {'single': {'upper': {'indicator': 'adx3', 'barrier': 79}, 'lower': {'indicator': 'ppo3', 'barrier': -38}, 'best': {'type': 'upper', 'indicator': 'adx3', 'barrier': 79}}}}\n",
      "Key in forward opt json 08-08 - 12-month - mean - 225\n"
     ]
    },
    {
     "name": "stderr",
     "output_type": "stream",
     "text": [
      "\r",
      " 15%|█▌        | 159/1050 [12:53<1:16:13,  5.13s/it]"
     ]
    },
    {
     "name": "stdout",
     "output_type": "stream",
     "text": [
      "08-08 - 12-month - mean\n",
      "{'mean': {'single': {'upper': {'indicator': 'stochastic9', 'barrier': 19}, 'lower': {'indicator': 'ppo3', 'barrier': 6}, 'best': {'type': 'upper', 'indicator': 'stochastic9', 'barrier': 19}}}, 'order': {'single': {'upper': {'indicator': 'stochastic3', 'barrier': 33}, 'lower': {'indicator': 'adx6', 'barrier': 26}, 'best': {'type': 'upper', 'indicator': 'stochastic3', 'barrier': 33}}}}\n",
      "Key in forward opt json 08-08 - 12-month - order - 869\n"
     ]
    },
    {
     "name": "stderr",
     "output_type": "stream",
     "text": [
      "\r",
      " 15%|█▌        | 160/1050 [13:04<1:42:57,  6.94s/it]"
     ]
    },
    {
     "name": "stdout",
     "output_type": "stream",
     "text": [
      "08-08 - 12-month - order\n",
      "{'mean': {'single': {'upper': {'indicator': 'stochastic6', 'barrier': 14}, 'lower': {'indicator': 'ppo9', 'barrier': 23}, 'best': {'type': 'upper', 'indicator': 'stochastic6', 'barrier': 14}}}, 'order': {'single': {'upper': {'indicator': 'stochastic6', 'barrier': 52}, 'lower': {'indicator': 'adx9', 'barrier': 29}, 'best': {'type': 'upper', 'indicator': 'stochastic6', 'barrier': 52}}}}\n",
      "Key in forward opt json 08-08 - max - mean - 73\n"
     ]
    },
    {
     "name": "stderr",
     "output_type": "stream",
     "text": [
      "\r",
      " 15%|█▌        | 161/1050 [13:04<1:15:01,  5.06s/it]"
     ]
    },
    {
     "name": "stdout",
     "output_type": "stream",
     "text": [
      "08-08 - max - mean\n",
      "{'mean': {'single': {'upper': {'indicator': 'adx3', 'barrier': 53}, 'lower': {'indicator': 'ppo3', 'barrier': 7}, 'best': {'type': 'upper', 'indicator': 'adx3', 'barrier': 53}}}, 'order': {'single': {'upper': {'indicator': 'adx3', 'barrier': 65}, 'lower': {'indicator': 'stochastic3', 'barrier': 7}, 'best': {'type': 'upper', 'indicator': 'adx3', 'barrier': 65}}}}\n",
      "Key in forward opt json 08-08 - max - order - 828\n"
     ]
    },
    {
     "name": "stderr",
     "output_type": "stream",
     "text": [
      "\r",
      " 15%|█▌        | 162/1050 [13:13<1:29:52,  6.07s/it]"
     ]
    },
    {
     "name": "stdout",
     "output_type": "stream",
     "text": [
      "08-08 - max - order\n",
      "{'mean': {'single': {'upper': {'indicator': 'ppo3', 'barrier': 1}, 'lower': {'indicator': 'stochastic3', 'barrier': 68}, 'best': {'type': 'upper', 'indicator': 'ppo3', 'barrier': 1}}}, 'order': {'single': {'upper': {'indicator': 'adx6', 'barrier': 51}, 'lower': {'indicator': 'ppo6', 'barrier': -1}, 'best': {'type': 'upper', 'indicator': 'adx6', 'barrier': 51}}}}\n",
      "Key in forward opt json 08-09 - 6-month - mean - 850\n"
     ]
    },
    {
     "name": "stderr",
     "output_type": "stream",
     "text": [
      "\r",
      " 16%|█▌        | 163/1050 [13:22<1:45:34,  7.14s/it]"
     ]
    },
    {
     "name": "stdout",
     "output_type": "stream",
     "text": [
      "08-09 - 6-month - mean\n",
      "{'mean': {'single': {'upper': {'indicator': 'ppo9', 'barrier': -1}, 'lower': {'indicator': 'ppo6', 'barrier': 20}, 'best': {'type': 'upper', 'indicator': 'ppo9', 'barrier': -1}}}, 'order': {'single': {'upper': {'indicator': 'ppo9', 'barrier': 23}, 'lower': {'indicator': 'ppo3', 'barrier': -11}, 'best': {'type': 'upper', 'indicator': 'ppo9', 'barrier': 23}}}}\n",
      "Key in forward opt json 08-09 - 6-month - order - 871\n"
     ]
    },
    {
     "name": "stderr",
     "output_type": "stream",
     "text": [
      "\r",
      " 16%|█▌        | 164/1050 [13:34<2:05:24,  8.49s/it]"
     ]
    },
    {
     "name": "stdout",
     "output_type": "stream",
     "text": [
      "08-09 - 6-month - order\n",
      "{'mean': {'single': {'upper': {'indicator': 'stochastic3', 'barrier': 18}, 'lower': {'indicator': 'stochastic9', 'barrier': 81}, 'best': {'type': 'upper', 'indicator': 'stochastic3', 'barrier': 18}}}, 'order': {'single': {'upper': {'indicator': 'stochastic3', 'barrier': 70}, 'lower': {'indicator': 'ppo9', 'barrier': -69}, 'best': {'type': 'upper', 'indicator': 'stochastic3', 'barrier': 70}}}}\n",
      "Key in forward opt json 08-09 - 12-month - mean - 225\n"
     ]
    },
    {
     "name": "stderr",
     "output_type": "stream",
     "text": [
      "\r",
      " 16%|█▌        | 165/1050 [13:35<1:32:01,  6.24s/it]"
     ]
    },
    {
     "name": "stdout",
     "output_type": "stream",
     "text": [
      "08-09 - 12-month - mean\n",
      "{'mean': {'single': {'upper': {'indicator': 'stochastic9', 'barrier': 19}, 'lower': {'indicator': 'ppo3', 'barrier': 6}, 'best': {'type': 'upper', 'indicator': 'stochastic9', 'barrier': 19}}}, 'order': {'single': {'upper': {'indicator': 'adx3', 'barrier': 50}, 'lower': {'indicator': 'adx6', 'barrier': 24}, 'best': {'type': 'upper', 'indicator': 'adx3', 'barrier': 50}}}}\n",
      "Key in forward opt json 08-09 - 12-month - order - 264\n"
     ]
    },
    {
     "name": "stderr",
     "output_type": "stream",
     "text": [
      "\r",
      " 16%|█▌        | 166/1050 [13:36<1:09:56,  4.75s/it]"
     ]
    },
    {
     "name": "stdout",
     "output_type": "stream",
     "text": [
      "08-09 - 12-month - order\n",
      "{'mean': {'single': {'upper': {'indicator': 'stochastic9', 'barrier': 18}, 'lower': {'indicator': 'ppo9', 'barrier': 14}, 'best': {'type': 'upper', 'indicator': 'stochastic9', 'barrier': 18}}}, 'order': {'single': {'upper': {'indicator': 'adx3', 'barrier': 72}, 'lower': {'indicator': 'stochastic6', 'barrier': 26}, 'best': {'type': 'upper', 'indicator': 'adx3', 'barrier': 72}}}}\n",
      "Key in forward opt json 08-09 - max - mean - 73\n"
     ]
    },
    {
     "name": "stderr",
     "output_type": "stream",
     "text": [
      "\r",
      " 16%|█▌        | 167/1050 [13:37<52:16,  3.55s/it]  "
     ]
    },
    {
     "name": "stdout",
     "output_type": "stream",
     "text": [
      "08-09 - max - mean\n",
      "{'mean': {'single': {'upper': {'indicator': 'adx3', 'barrier': 53}, 'lower': {'indicator': 'ppo3', 'barrier': 7}, 'best': {'type': 'upper', 'indicator': 'adx3', 'barrier': 53}}}, 'order': {'single': {'upper': {'indicator': 'adx3', 'barrier': 65}, 'lower': {'indicator': 'stochastic3', 'barrier': 7}, 'best': {'type': 'upper', 'indicator': 'adx3', 'barrier': 65}}}}\n",
      "Key in forward opt json 08-09 - max - order - 828\n"
     ]
    },
    {
     "name": "stderr",
     "output_type": "stream",
     "text": [
      "\r",
      " 16%|█▌        | 168/1050 [13:47<1:20:44,  5.49s/it]"
     ]
    },
    {
     "name": "stdout",
     "output_type": "stream",
     "text": [
      "08-09 - max - order\n",
      "{'mean': {'single': {'upper': {'indicator': 'ppo3', 'barrier': 1}, 'lower': {'indicator': 'stochastic3', 'barrier': 68}, 'best': {'type': 'upper', 'indicator': 'ppo3', 'barrier': 1}}}, 'order': {'single': {'upper': {'indicator': 'adx6', 'barrier': 51}, 'lower': {'indicator': 'ppo6', 'barrier': -1}, 'best': {'type': 'upper', 'indicator': 'adx6', 'barrier': 51}}}}\n",
      "Key in forward opt json 08-10 - 6-month - mean - 871\n"
     ]
    },
    {
     "name": "stderr",
     "output_type": "stream",
     "text": [
      "\r",
      " 16%|█▌        | 169/1050 [14:01<1:57:08,  7.98s/it]"
     ]
    },
    {
     "name": "stdout",
     "output_type": "stream",
     "text": [
      "08-10 - 6-month - mean\n",
      "{'mean': {'single': {'upper': {'indicator': 'stochastic3', 'barrier': 18}, 'lower': {'indicator': 'stochastic9', 'barrier': 81}, 'best': {'type': 'upper', 'indicator': 'stochastic3', 'barrier': 18}}}, 'order': {'single': {'upper': {'indicator': 'stochastic3', 'barrier': 70}, 'lower': {'indicator': 'ppo9', 'barrier': -69}, 'best': {'type': 'upper', 'indicator': 'stochastic3', 'barrier': 70}}}}\n",
      "Key in forward opt json 08-10 - 6-month - order - 58\n"
     ]
    },
    {
     "name": "stderr",
     "output_type": "stream",
     "text": [
      "\r",
      " 16%|█▌        | 170/1050 [14:02<1:25:19,  5.82s/it]"
     ]
    },
    {
     "name": "stdout",
     "output_type": "stream",
     "text": [
      "08-10 - 6-month - order\n",
      "{'mean': {'single': {'upper': {'indicator': 'adx3', 'barrier': 55}, 'lower': {'indicator': 'ppo3', 'barrier': 5}, 'best': {'type': 'upper', 'indicator': 'adx3', 'barrier': 55}}}, 'order': {'single': {'upper': {'indicator': 'stochastic9', 'barrier': 25}, 'lower': {'indicator': 'ppo3', 'barrier': 5}, 'best': {'type': 'upper', 'indicator': 'stochastic9', 'barrier': 25}}}}\n",
      "Key in forward opt json 08-10 - 12-month - mean - 871\n"
     ]
    },
    {
     "name": "stderr",
     "output_type": "stream",
     "text": [
      "\r",
      " 16%|█▋        | 171/1050 [14:15<1:59:22,  8.15s/it]"
     ]
    },
    {
     "name": "stdout",
     "output_type": "stream",
     "text": [
      "08-10 - 12-month - mean\n",
      "{'mean': {'single': {'upper': {'indicator': 'stochastic3', 'barrier': 18}, 'lower': {'indicator': 'stochastic9', 'barrier': 81}, 'best': {'type': 'upper', 'indicator': 'stochastic3', 'barrier': 18}}}, 'order': {'single': {'upper': {'indicator': 'stochastic3', 'barrier': 70}, 'lower': {'indicator': 'ppo9', 'barrier': -69}, 'best': {'type': 'upper', 'indicator': 'stochastic3', 'barrier': 70}}}}\n",
      "Key in forward opt json 08-10 - 12-month - order - 871\n"
     ]
    },
    {
     "name": "stderr",
     "output_type": "stream",
     "text": [
      "\r",
      " 16%|█▋        | 172/1050 [14:27<2:16:36,  9.34s/it]"
     ]
    },
    {
     "name": "stdout",
     "output_type": "stream",
     "text": [
      "08-10 - 12-month - order\n",
      "{'mean': {'single': {'upper': {'indicator': 'stochastic3', 'barrier': 18}, 'lower': {'indicator': 'stochastic9', 'barrier': 81}, 'best': {'type': 'upper', 'indicator': 'stochastic3', 'barrier': 18}}}, 'order': {'single': {'upper': {'indicator': 'stochastic3', 'barrier': 70}, 'lower': {'indicator': 'ppo9', 'barrier': -69}, 'best': {'type': 'upper', 'indicator': 'stochastic3', 'barrier': 70}}}}\n",
      "Key in forward opt json 08-10 - max - mean - 73\n"
     ]
    },
    {
     "name": "stderr",
     "output_type": "stream",
     "text": [
      "\r",
      " 16%|█▋        | 173/1050 [14:28<1:38:31,  6.74s/it]"
     ]
    },
    {
     "name": "stdout",
     "output_type": "stream",
     "text": [
      "08-10 - max - mean\n",
      "{'mean': {'single': {'upper': {'indicator': 'adx3', 'barrier': 53}, 'lower': {'indicator': 'ppo3', 'barrier': 7}, 'best': {'type': 'upper', 'indicator': 'adx3', 'barrier': 53}}}, 'order': {'single': {'upper': {'indicator': 'adx3', 'barrier': 65}, 'lower': {'indicator': 'stochastic3', 'barrier': 7}, 'best': {'type': 'upper', 'indicator': 'adx3', 'barrier': 65}}}}\n",
      "Key in forward opt json 08-10 - max - order - 828\n"
     ]
    },
    {
     "name": "stderr",
     "output_type": "stream",
     "text": [
      "\r",
      " 17%|█▋        | 174/1050 [14:37<1:47:56,  7.39s/it]"
     ]
    },
    {
     "name": "stdout",
     "output_type": "stream",
     "text": [
      "08-10 - max - order\n",
      "{'mean': {'single': {'upper': {'indicator': 'ppo3', 'barrier': 1}, 'lower': {'indicator': 'stochastic3', 'barrier': 68}, 'best': {'type': 'upper', 'indicator': 'ppo3', 'barrier': 1}}}, 'order': {'single': {'upper': {'indicator': 'adx6', 'barrier': 51}, 'lower': {'indicator': 'ppo6', 'barrier': -1}, 'best': {'type': 'upper', 'indicator': 'adx6', 'barrier': 51}}}}\n",
      "Key in forward opt json 08-11 - 6-month - mean - 871\n"
     ]
    },
    {
     "name": "stderr",
     "output_type": "stream",
     "text": [
      "\r",
      " 17%|█▋        | 175/1050 [14:49<2:06:36,  8.68s/it]"
     ]
    },
    {
     "name": "stdout",
     "output_type": "stream",
     "text": [
      "08-11 - 6-month - mean\n",
      "{'mean': {'single': {'upper': {'indicator': 'stochastic3', 'barrier': 18}, 'lower': {'indicator': 'stochastic9', 'barrier': 81}, 'best': {'type': 'upper', 'indicator': 'stochastic3', 'barrier': 18}}}, 'order': {'single': {'upper': {'indicator': 'stochastic3', 'barrier': 70}, 'lower': {'indicator': 'ppo9', 'barrier': -69}, 'best': {'type': 'upper', 'indicator': 'stochastic3', 'barrier': 70}}}}\n",
      "Key in forward opt json 08-11 - 6-month - order - 10\n"
     ]
    },
    {
     "name": "stderr",
     "output_type": "stream",
     "text": [
      "\r",
      " 17%|█▋        | 176/1050 [14:49<1:29:43,  6.16s/it]"
     ]
    },
    {
     "name": "stdout",
     "output_type": "stream",
     "text": [
      "08-11 - 6-month - order\n",
      "{'mean': {'single': {'upper': {'indicator': 'adx3', 'barrier': 69}, 'lower': {'indicator': 'adx3', 'barrier': 55}, 'best': {'type': 'upper', 'indicator': 'adx3', 'barrier': 69}}}, 'order': {'single': {'upper': {'indicator': 'adx3', 'barrier': 69}, 'lower': {'indicator': 'adx3', 'barrier': 55}, 'best': {'type': 'upper', 'indicator': 'adx3', 'barrier': 69}}}}\n",
      "Key in forward opt json 08-11 - 12-month - mean - 871\n"
     ]
    },
    {
     "name": "stderr",
     "output_type": "stream",
     "text": [
      "\r",
      " 17%|█▋        | 177/1050 [15:01<1:53:36,  7.81s/it]"
     ]
    },
    {
     "name": "stdout",
     "output_type": "stream",
     "text": [
      "08-11 - 12-month - mean\n",
      "{'mean': {'single': {'upper': {'indicator': 'stochastic3', 'barrier': 18}, 'lower': {'indicator': 'stochastic9', 'barrier': 81}, 'best': {'type': 'upper', 'indicator': 'stochastic3', 'barrier': 18}}}, 'order': {'single': {'upper': {'indicator': 'stochastic3', 'barrier': 70}, 'lower': {'indicator': 'ppo9', 'barrier': -69}, 'best': {'type': 'upper', 'indicator': 'stochastic3', 'barrier': 70}}}}\n",
      "Key in forward opt json 08-11 - 12-month - order - 871\n"
     ]
    },
    {
     "name": "stderr",
     "output_type": "stream",
     "text": [
      "\r",
      " 17%|█▋        | 178/1050 [15:12<2:09:53,  8.94s/it]"
     ]
    },
    {
     "name": "stdout",
     "output_type": "stream",
     "text": [
      "08-11 - 12-month - order\n",
      "{'mean': {'single': {'upper': {'indicator': 'stochastic3', 'barrier': 18}, 'lower': {'indicator': 'stochastic9', 'barrier': 81}, 'best': {'type': 'upper', 'indicator': 'stochastic3', 'barrier': 18}}}, 'order': {'single': {'upper': {'indicator': 'stochastic3', 'barrier': 70}, 'lower': {'indicator': 'ppo9', 'barrier': -69}, 'best': {'type': 'upper', 'indicator': 'stochastic3', 'barrier': 70}}}}\n",
      "Key in forward opt json 08-11 - max - mean - 73\n"
     ]
    },
    {
     "name": "stderr",
     "output_type": "stream",
     "text": [
      "\r",
      " 17%|█▋        | 179/1050 [15:13<1:33:48,  6.46s/it]"
     ]
    },
    {
     "name": "stdout",
     "output_type": "stream",
     "text": [
      "08-11 - max - mean\n",
      "{'mean': {'single': {'upper': {'indicator': 'adx3', 'barrier': 53}, 'lower': {'indicator': 'ppo3', 'barrier': 7}, 'best': {'type': 'upper', 'indicator': 'adx3', 'barrier': 53}}}, 'order': {'single': {'upper': {'indicator': 'adx3', 'barrier': 65}, 'lower': {'indicator': 'stochastic3', 'barrier': 7}, 'best': {'type': 'upper', 'indicator': 'adx3', 'barrier': 65}}}}\n",
      "Key in forward opt json 08-11 - max - order - 828\n"
     ]
    },
    {
     "name": "stderr",
     "output_type": "stream",
     "text": [
      "\r",
      " 17%|█▋        | 180/1050 [15:21<1:42:39,  7.08s/it]"
     ]
    },
    {
     "name": "stdout",
     "output_type": "stream",
     "text": [
      "08-11 - max - order\n",
      "{'mean': {'single': {'upper': {'indicator': 'ppo3', 'barrier': 1}, 'lower': {'indicator': 'stochastic3', 'barrier': 68}, 'best': {'type': 'upper', 'indicator': 'ppo3', 'barrier': 1}}}, 'order': {'single': {'upper': {'indicator': 'adx6', 'barrier': 51}, 'lower': {'indicator': 'ppo6', 'barrier': -1}, 'best': {'type': 'upper', 'indicator': 'adx6', 'barrier': 51}}}}\n",
      "Key in forward opt json 08-12 - 6-month - mean - 871\n"
     ]
    },
    {
     "name": "stderr",
     "output_type": "stream",
     "text": [
      "\r",
      " 17%|█▋        | 181/1050 [15:33<2:00:58,  8.35s/it]"
     ]
    },
    {
     "name": "stdout",
     "output_type": "stream",
     "text": [
      "08-12 - 6-month - mean\n",
      "{'mean': {'single': {'upper': {'indicator': 'stochastic3', 'barrier': 18}, 'lower': {'indicator': 'stochastic9', 'barrier': 81}, 'best': {'type': 'upper', 'indicator': 'stochastic3', 'barrier': 18}}}, 'order': {'single': {'upper': {'indicator': 'stochastic3', 'barrier': 70}, 'lower': {'indicator': 'ppo9', 'barrier': -69}, 'best': {'type': 'upper', 'indicator': 'stochastic3', 'barrier': 70}}}}\n",
      "Key in forward opt json 08-12 - 6-month - order - 10\n"
     ]
    },
    {
     "name": "stderr",
     "output_type": "stream",
     "text": [
      "\r",
      " 17%|█▋        | 182/1050 [15:33<1:25:48,  5.93s/it]"
     ]
    },
    {
     "name": "stdout",
     "output_type": "stream",
     "text": [
      "08-12 - 6-month - order\n",
      "{'mean': {'single': {'upper': {'indicator': 'adx3', 'barrier': 69}, 'lower': {'indicator': 'adx3', 'barrier': 55}, 'best': {'type': 'upper', 'indicator': 'adx3', 'barrier': 69}}}, 'order': {'single': {'upper': {'indicator': 'adx3', 'barrier': 69}, 'lower': {'indicator': 'adx3', 'barrier': 55}, 'best': {'type': 'upper', 'indicator': 'adx3', 'barrier': 69}}}}\n",
      "Key in forward opt json 08-12 - 12-month - mean - 871\n"
     ]
    },
    {
     "name": "stderr",
     "output_type": "stream",
     "text": [
      "\r",
      " 17%|█▋        | 183/1050 [15:44<1:49:00,  7.54s/it]"
     ]
    },
    {
     "name": "stdout",
     "output_type": "stream",
     "text": [
      "08-12 - 12-month - mean\n",
      "{'mean': {'single': {'upper': {'indicator': 'stochastic3', 'barrier': 18}, 'lower': {'indicator': 'stochastic9', 'barrier': 81}, 'best': {'type': 'upper', 'indicator': 'stochastic3', 'barrier': 18}}}, 'order': {'single': {'upper': {'indicator': 'stochastic3', 'barrier': 70}, 'lower': {'indicator': 'ppo9', 'barrier': -69}, 'best': {'type': 'upper', 'indicator': 'stochastic3', 'barrier': 70}}}}\n",
      "Key in forward opt json 08-12 - 12-month - order - 871\n"
     ]
    },
    {
     "name": "stderr",
     "output_type": "stream",
     "text": [
      "\r",
      " 18%|█▊        | 184/1050 [15:56<2:05:01,  8.66s/it]"
     ]
    },
    {
     "name": "stdout",
     "output_type": "stream",
     "text": [
      "08-12 - 12-month - order\n",
      "{'mean': {'single': {'upper': {'indicator': 'stochastic3', 'barrier': 18}, 'lower': {'indicator': 'stochastic9', 'barrier': 81}, 'best': {'type': 'upper', 'indicator': 'stochastic3', 'barrier': 18}}}, 'order': {'single': {'upper': {'indicator': 'stochastic3', 'barrier': 70}, 'lower': {'indicator': 'ppo9', 'barrier': -69}, 'best': {'type': 'upper', 'indicator': 'stochastic3', 'barrier': 70}}}}\n",
      "Key in forward opt json 08-12 - max - mean - 73\n"
     ]
    },
    {
     "name": "stderr",
     "output_type": "stream",
     "text": [
      "\r",
      " 18%|█▊        | 185/1050 [15:56<1:30:23,  6.27s/it]"
     ]
    },
    {
     "name": "stdout",
     "output_type": "stream",
     "text": [
      "08-12 - max - mean\n",
      "{'mean': {'single': {'upper': {'indicator': 'adx3', 'barrier': 53}, 'lower': {'indicator': 'ppo3', 'barrier': 7}, 'best': {'type': 'upper', 'indicator': 'adx3', 'barrier': 53}}}, 'order': {'single': {'upper': {'indicator': 'adx3', 'barrier': 65}, 'lower': {'indicator': 'stochastic3', 'barrier': 7}, 'best': {'type': 'upper', 'indicator': 'adx3', 'barrier': 65}}}}\n",
      "Key in forward opt json 08-12 - max - order - 828\n"
     ]
    },
    {
     "name": "stderr",
     "output_type": "stream",
     "text": [
      "\r",
      " 18%|█▊        | 186/1050 [16:05<1:39:52,  6.94s/it]"
     ]
    },
    {
     "name": "stdout",
     "output_type": "stream",
     "text": [
      "08-12 - max - order\n",
      "{'mean': {'single': {'upper': {'indicator': 'ppo3', 'barrier': 1}, 'lower': {'indicator': 'stochastic3', 'barrier': 68}, 'best': {'type': 'upper', 'indicator': 'ppo3', 'barrier': 1}}}, 'order': {'single': {'upper': {'indicator': 'adx6', 'barrier': 51}, 'lower': {'indicator': 'ppo6', 'barrier': -1}, 'best': {'type': 'upper', 'indicator': 'adx6', 'barrier': 51}}}}\n",
      "Key in forward opt json 09-01 - 6-month - mean - 871\n"
     ]
    },
    {
     "name": "stderr",
     "output_type": "stream",
     "text": [
      "\r",
      " 18%|█▊        | 187/1050 [16:16<1:58:18,  8.23s/it]"
     ]
    },
    {
     "name": "stdout",
     "output_type": "stream",
     "text": [
      "09-01 - 6-month - mean\n",
      "{'mean': {'single': {'upper': {'indicator': 'stochastic3', 'barrier': 18}, 'lower': {'indicator': 'stochastic9', 'barrier': 81}, 'best': {'type': 'upper', 'indicator': 'stochastic3', 'barrier': 18}}}, 'order': {'single': {'upper': {'indicator': 'stochastic3', 'barrier': 70}, 'lower': {'indicator': 'ppo9', 'barrier': -69}, 'best': {'type': 'upper', 'indicator': 'stochastic3', 'barrier': 70}}}}\n",
      "Key in forward opt json 09-01 - 6-month - order - 10\n"
     ]
    },
    {
     "name": "stderr",
     "output_type": "stream",
     "text": [
      "\r",
      " 18%|█▊        | 188/1050 [16:16<1:23:57,  5.84s/it]"
     ]
    },
    {
     "name": "stdout",
     "output_type": "stream",
     "text": [
      "09-01 - 6-month - order\n",
      "{'mean': {'single': {'upper': {'indicator': 'adx3', 'barrier': 69}, 'lower': {'indicator': 'adx3', 'barrier': 55}, 'best': {'type': 'upper', 'indicator': 'adx3', 'barrier': 69}}}, 'order': {'single': {'upper': {'indicator': 'adx3', 'barrier': 69}, 'lower': {'indicator': 'adx3', 'barrier': 55}, 'best': {'type': 'upper', 'indicator': 'adx3', 'barrier': 69}}}}\n",
      "Key in forward opt json 09-01 - 12-month - mean - 10\n"
     ]
    },
    {
     "name": "stderr",
     "output_type": "stream",
     "text": [
      "\r",
      " 18%|█▊        | 189/1050 [16:17<59:52,  4.17s/it]  "
     ]
    },
    {
     "name": "stdout",
     "output_type": "stream",
     "text": [
      "09-01 - 12-month - mean\n",
      "{'mean': {'single': {'upper': {'indicator': 'adx3', 'barrier': 69}, 'lower': {'indicator': 'adx3', 'barrier': 55}, 'best': {'type': 'upper', 'indicator': 'adx3', 'barrier': 69}}}, 'order': {'single': {'upper': {'indicator': 'adx3', 'barrier': 69}, 'lower': {'indicator': 'adx3', 'barrier': 55}, 'best': {'type': 'upper', 'indicator': 'adx3', 'barrier': 69}}}}\n",
      "Key in forward opt json 09-01 - 12-month - order - 94\n"
     ]
    },
    {
     "name": "stderr",
     "output_type": "stream",
     "text": [
      "\r",
      " 18%|█▊        | 190/1050 [16:17<45:11,  3.15s/it]"
     ]
    },
    {
     "name": "stdout",
     "output_type": "stream",
     "text": [
      "09-01 - 12-month - order\n",
      "{'mean': {'single': {'upper': {'indicator': 'adx3', 'barrier': 49}, 'lower': {'indicator': 'stochastic3', 'barrier': 41}, 'best': {'type': 'upper', 'indicator': 'adx3', 'barrier': 49}}}, 'order': {'single': {'upper': {'indicator': 'adx3', 'barrier': 67}, 'lower': {'indicator': 'stochastic3', 'barrier': 7}, 'best': {'type': 'upper', 'indicator': 'adx3', 'barrier': 67}}}}\n",
      "Key in forward opt json 09-01 - max - mean - 73\n"
     ]
    },
    {
     "name": "stderr",
     "output_type": "stream",
     "text": [
      "\r",
      " 18%|█▊        | 191/1050 [16:18<34:32,  2.41s/it]"
     ]
    },
    {
     "name": "stdout",
     "output_type": "stream",
     "text": [
      "09-01 - max - mean\n",
      "{'mean': {'single': {'upper': {'indicator': 'adx3', 'barrier': 53}, 'lower': {'indicator': 'ppo3', 'barrier': 7}, 'best': {'type': 'upper', 'indicator': 'adx3', 'barrier': 53}}}, 'order': {'single': {'upper': {'indicator': 'adx3', 'barrier': 65}, 'lower': {'indicator': 'stochastic3', 'barrier': 7}, 'best': {'type': 'upper', 'indicator': 'adx3', 'barrier': 65}}}}\n",
      "Key in forward opt json 09-01 - max - order - 828\n"
     ]
    },
    {
     "name": "stderr",
     "output_type": "stream",
     "text": [
      "\r",
      " 18%|█▊        | 192/1050 [16:27<1:01:24,  4.29s/it]"
     ]
    },
    {
     "name": "stdout",
     "output_type": "stream",
     "text": [
      "09-01 - max - order\n",
      "{'mean': {'single': {'upper': {'indicator': 'ppo3', 'barrier': 1}, 'lower': {'indicator': 'stochastic3', 'barrier': 68}, 'best': {'type': 'upper', 'indicator': 'ppo3', 'barrier': 1}}}, 'order': {'single': {'upper': {'indicator': 'adx6', 'barrier': 51}, 'lower': {'indicator': 'ppo6', 'barrier': -1}, 'best': {'type': 'upper', 'indicator': 'adx6', 'barrier': 51}}}}\n",
      "Key in forward opt json 09-02 - 6-month - mean - 797\n"
     ]
    },
    {
     "name": "stderr",
     "output_type": "stream",
     "text": [
      "\r",
      " 18%|█▊        | 193/1050 [16:34<1:15:01,  5.25s/it]"
     ]
    },
    {
     "name": "stdout",
     "output_type": "stream",
     "text": [
      "09-02 - 6-month - mean\n",
      "{'mean': {'single': {'upper': {'indicator': 'stochastic3', 'barrier': 18}, 'lower': {'indicator': 'stochastic6', 'barrier': 75}, 'best': {'type': 'upper', 'indicator': 'stochastic3', 'barrier': 18}}}, 'order': {'single': {'upper': {'indicator': 'adx3', 'barrier': 73}, 'lower': {'indicator': 'stochastic6', 'barrier': 23}, 'best': {'type': 'upper', 'indicator': 'adx3', 'barrier': 73}}}}\n",
      "Key in forward opt json 09-02 - 6-month - order - 10\n"
     ]
    },
    {
     "name": "stderr",
     "output_type": "stream",
     "text": [
      "\r",
      " 18%|█▊        | 194/1050 [16:34<53:40,  3.76s/it]  "
     ]
    },
    {
     "name": "stdout",
     "output_type": "stream",
     "text": [
      "09-02 - 6-month - order\n",
      "{'mean': {'single': {'upper': {'indicator': 'adx3', 'barrier': 69}, 'lower': {'indicator': 'adx3', 'barrier': 55}, 'best': {'type': 'upper', 'indicator': 'adx3', 'barrier': 69}}}, 'order': {'single': {'upper': {'indicator': 'adx3', 'barrier': 69}, 'lower': {'indicator': 'adx3', 'barrier': 55}, 'best': {'type': 'upper', 'indicator': 'adx3', 'barrier': 69}}}}\n",
      "Key in forward opt json 09-02 - 12-month - mean - 871\n"
     ]
    },
    {
     "name": "stderr",
     "output_type": "stream",
     "text": [
      "\r",
      " 19%|█▊        | 195/1050 [16:47<1:32:46,  6.51s/it]"
     ]
    },
    {
     "name": "stdout",
     "output_type": "stream",
     "text": [
      "09-02 - 12-month - mean\n",
      "{'mean': {'single': {'upper': {'indicator': 'stochastic3', 'barrier': 18}, 'lower': {'indicator': 'stochastic9', 'barrier': 81}, 'best': {'type': 'upper', 'indicator': 'stochastic3', 'barrier': 18}}}, 'order': {'single': {'upper': {'indicator': 'stochastic3', 'barrier': 70}, 'lower': {'indicator': 'ppo9', 'barrier': -69}, 'best': {'type': 'upper', 'indicator': 'stochastic3', 'barrier': 70}}}}\n",
      "Key in forward opt json 09-02 - 12-month - order - 10\n"
     ]
    },
    {
     "name": "stderr",
     "output_type": "stream",
     "text": [
      "\r",
      " 19%|█▊        | 196/1050 [16:48<1:06:22,  4.66s/it]"
     ]
    },
    {
     "name": "stdout",
     "output_type": "stream",
     "text": [
      "09-02 - 12-month - order\n",
      "{'mean': {'single': {'upper': {'indicator': 'adx3', 'barrier': 69}, 'lower': {'indicator': 'adx3', 'barrier': 55}, 'best': {'type': 'upper', 'indicator': 'adx3', 'barrier': 69}}}, 'order': {'single': {'upper': {'indicator': 'adx3', 'barrier': 69}, 'lower': {'indicator': 'adx3', 'barrier': 55}, 'best': {'type': 'upper', 'indicator': 'adx3', 'barrier': 69}}}}\n",
      "Key in forward opt json 09-02 - max - mean - 73\n"
     ]
    },
    {
     "name": "stderr",
     "output_type": "stream",
     "text": [
      "\r",
      " 19%|█▉        | 197/1050 [16:49<50:01,  3.52s/it]  "
     ]
    },
    {
     "name": "stdout",
     "output_type": "stream",
     "text": [
      "09-02 - max - mean\n",
      "{'mean': {'single': {'upper': {'indicator': 'adx3', 'barrier': 53}, 'lower': {'indicator': 'ppo3', 'barrier': 7}, 'best': {'type': 'upper', 'indicator': 'adx3', 'barrier': 53}}}, 'order': {'single': {'upper': {'indicator': 'adx3', 'barrier': 65}, 'lower': {'indicator': 'stochastic3', 'barrier': 7}, 'best': {'type': 'upper', 'indicator': 'adx3', 'barrier': 65}}}}\n",
      "Key in forward opt json 09-02 - max - order - 828\n"
     ]
    },
    {
     "name": "stderr",
     "output_type": "stream",
     "text": [
      "\r",
      " 19%|█▉        | 198/1050 [16:59<1:19:51,  5.62s/it]"
     ]
    },
    {
     "name": "stdout",
     "output_type": "stream",
     "text": [
      "09-02 - max - order\n",
      "{'mean': {'single': {'upper': {'indicator': 'ppo3', 'barrier': 1}, 'lower': {'indicator': 'stochastic3', 'barrier': 68}, 'best': {'type': 'upper', 'indicator': 'ppo3', 'barrier': 1}}}, 'order': {'single': {'upper': {'indicator': 'adx6', 'barrier': 51}, 'lower': {'indicator': 'ppo6', 'barrier': -1}, 'best': {'type': 'upper', 'indicator': 'adx6', 'barrier': 51}}}}\n",
      "Key in forward opt json 09-03 - 6-month - mean - 773\n"
     ]
    },
    {
     "name": "stderr",
     "output_type": "stream",
     "text": [
      "\r",
      " 19%|█▉        | 199/1050 [17:09<1:35:53,  6.76s/it]"
     ]
    },
    {
     "name": "stdout",
     "output_type": "stream",
     "text": [
      "09-03 - 6-month - mean\n",
      "{'mean': {'single': {'upper': {'indicator': 'stochastic3', 'barrier': 24}, 'lower': {'indicator': 'stochastic6', 'barrier': 75}, 'best': {'type': 'upper', 'indicator': 'stochastic3', 'barrier': 24}}}, 'order': {'single': {'upper': {'indicator': 'adx9', 'barrier': 49}, 'lower': {'indicator': 'stochastic6', 'barrier': 31}, 'best': {'type': 'upper', 'indicator': 'adx9', 'barrier': 49}}}}\n",
      "Key in forward opt json 09-03 - 6-month - order - 10\n"
     ]
    },
    {
     "name": "stderr",
     "output_type": "stream",
     "text": [
      "\r",
      " 19%|█▉        | 200/1050 [17:09<1:08:27,  4.83s/it]"
     ]
    },
    {
     "name": "stdout",
     "output_type": "stream",
     "text": [
      "09-03 - 6-month - order\n",
      "{'mean': {'single': {'upper': {'indicator': 'adx3', 'barrier': 69}, 'lower': {'indicator': 'adx3', 'barrier': 55}, 'best': {'type': 'upper', 'indicator': 'adx3', 'barrier': 69}}}, 'order': {'single': {'upper': {'indicator': 'adx3', 'barrier': 69}, 'lower': {'indicator': 'adx3', 'barrier': 55}, 'best': {'type': 'upper', 'indicator': 'adx3', 'barrier': 69}}}}\n",
      "Key in forward opt json 09-03 - 12-month - mean - 871\n"
     ]
    },
    {
     "name": "stderr",
     "output_type": "stream",
     "text": [
      "\r",
      " 19%|█▉        | 201/1050 [17:21<1:40:16,  7.09s/it]"
     ]
    },
    {
     "name": "stdout",
     "output_type": "stream",
     "text": [
      "09-03 - 12-month - mean\n",
      "{'mean': {'single': {'upper': {'indicator': 'stochastic3', 'barrier': 18}, 'lower': {'indicator': 'stochastic9', 'barrier': 81}, 'best': {'type': 'upper', 'indicator': 'stochastic3', 'barrier': 18}}}, 'order': {'single': {'upper': {'indicator': 'stochastic3', 'barrier': 70}, 'lower': {'indicator': 'ppo9', 'barrier': -69}, 'best': {'type': 'upper', 'indicator': 'stochastic3', 'barrier': 70}}}}\n",
      "Key in forward opt json 09-03 - 12-month - order - 10\n"
     ]
    },
    {
     "name": "stderr",
     "output_type": "stream",
     "text": [
      "\r",
      " 19%|█▉        | 202/1050 [17:21<1:11:17,  5.04s/it]"
     ]
    },
    {
     "name": "stdout",
     "output_type": "stream",
     "text": [
      "09-03 - 12-month - order\n",
      "{'mean': {'single': {'upper': {'indicator': 'adx3', 'barrier': 69}, 'lower': {'indicator': 'adx3', 'barrier': 55}, 'best': {'type': 'upper', 'indicator': 'adx3', 'barrier': 69}}}, 'order': {'single': {'upper': {'indicator': 'adx3', 'barrier': 69}, 'lower': {'indicator': 'adx3', 'barrier': 55}, 'best': {'type': 'upper', 'indicator': 'adx3', 'barrier': 69}}}}\n",
      "Key in forward opt json 09-03 - max - mean - 73\n"
     ]
    },
    {
     "name": "stderr",
     "output_type": "stream",
     "text": [
      "\r",
      " 19%|█▉        | 203/1050 [17:22<52:43,  3.73s/it]  "
     ]
    },
    {
     "name": "stdout",
     "output_type": "stream",
     "text": [
      "09-03 - max - mean\n",
      "{'mean': {'single': {'upper': {'indicator': 'adx3', 'barrier': 53}, 'lower': {'indicator': 'ppo3', 'barrier': 7}, 'best': {'type': 'upper', 'indicator': 'adx3', 'barrier': 53}}}, 'order': {'single': {'upper': {'indicator': 'adx3', 'barrier': 65}, 'lower': {'indicator': 'stochastic3', 'barrier': 7}, 'best': {'type': 'upper', 'indicator': 'adx3', 'barrier': 65}}}}\n",
      "Key in forward opt json 09-03 - max - order - 828\n"
     ]
    },
    {
     "name": "stderr",
     "output_type": "stream",
     "text": [
      "\r",
      " 19%|█▉        | 204/1050 [17:31<1:12:58,  5.18s/it]"
     ]
    },
    {
     "name": "stdout",
     "output_type": "stream",
     "text": [
      "09-03 - max - order\n",
      "{'mean': {'single': {'upper': {'indicator': 'ppo3', 'barrier': 1}, 'lower': {'indicator': 'stochastic3', 'barrier': 68}, 'best': {'type': 'upper', 'indicator': 'ppo3', 'barrier': 1}}}, 'order': {'single': {'upper': {'indicator': 'adx6', 'barrier': 51}, 'lower': {'indicator': 'ppo6', 'barrier': -1}, 'best': {'type': 'upper', 'indicator': 'adx6', 'barrier': 51}}}}\n",
      "Key in forward opt json 09-04 - 6-month - mean - 10\n"
     ]
    },
    {
     "name": "stderr",
     "output_type": "stream",
     "text": [
      "\r",
      " 20%|█▉        | 205/1050 [17:31<52:09,  3.70s/it]  "
     ]
    },
    {
     "name": "stdout",
     "output_type": "stream",
     "text": [
      "09-04 - 6-month - mean\n",
      "{'mean': {'single': {'upper': {'indicator': 'adx3', 'barrier': 69}, 'lower': {'indicator': 'adx3', 'barrier': 55}, 'best': {'type': 'upper', 'indicator': 'adx3', 'barrier': 69}}}, 'order': {'single': {'upper': {'indicator': 'adx3', 'barrier': 69}, 'lower': {'indicator': 'adx3', 'barrier': 55}, 'best': {'type': 'upper', 'indicator': 'adx3', 'barrier': 69}}}}\n",
      "Key in forward opt json 09-04 - 6-month - order - 10\n"
     ]
    },
    {
     "name": "stderr",
     "output_type": "stream",
     "text": [
      "\r",
      " 20%|█▉        | 206/1050 [17:31<37:37,  2.67s/it]"
     ]
    },
    {
     "name": "stdout",
     "output_type": "stream",
     "text": [
      "09-04 - 6-month - order\n",
      "{'mean': {'single': {'upper': {'indicator': 'adx3', 'barrier': 69}, 'lower': {'indicator': 'adx3', 'barrier': 55}, 'best': {'type': 'upper', 'indicator': 'adx3', 'barrier': 69}}}, 'order': {'single': {'upper': {'indicator': 'adx3', 'barrier': 69}, 'lower': {'indicator': 'adx3', 'barrier': 55}, 'best': {'type': 'upper', 'indicator': 'adx3', 'barrier': 69}}}}\n",
      "Key in forward opt json 09-04 - 12-month - mean - 871\n"
     ]
    },
    {
     "name": "stderr",
     "output_type": "stream",
     "text": [
      "\r",
      " 20%|█▉        | 207/1050 [17:42<1:13:25,  5.23s/it]"
     ]
    },
    {
     "name": "stdout",
     "output_type": "stream",
     "text": [
      "09-04 - 12-month - mean\n",
      "{'mean': {'single': {'upper': {'indicator': 'stochastic3', 'barrier': 18}, 'lower': {'indicator': 'stochastic9', 'barrier': 81}, 'best': {'type': 'upper', 'indicator': 'stochastic3', 'barrier': 18}}}, 'order': {'single': {'upper': {'indicator': 'stochastic3', 'barrier': 70}, 'lower': {'indicator': 'ppo9', 'barrier': -69}, 'best': {'type': 'upper', 'indicator': 'stochastic3', 'barrier': 70}}}}\n",
      "Key in forward opt json 09-04 - 12-month - order - 10\n"
     ]
    },
    {
     "name": "stderr",
     "output_type": "stream",
     "text": [
      "\r",
      " 20%|█▉        | 208/1050 [17:43<52:28,  3.74s/it]  "
     ]
    },
    {
     "name": "stdout",
     "output_type": "stream",
     "text": [
      "09-04 - 12-month - order\n",
      "{'mean': {'single': {'upper': {'indicator': 'adx3', 'barrier': 69}, 'lower': {'indicator': 'adx3', 'barrier': 55}, 'best': {'type': 'upper', 'indicator': 'adx3', 'barrier': 69}}}, 'order': {'single': {'upper': {'indicator': 'adx3', 'barrier': 69}, 'lower': {'indicator': 'adx3', 'barrier': 55}, 'best': {'type': 'upper', 'indicator': 'adx3', 'barrier': 69}}}}\n",
      "Key in forward opt json 09-04 - max - mean - 73\n"
     ]
    },
    {
     "name": "stderr",
     "output_type": "stream",
     "text": [
      "\r",
      " 20%|█▉        | 209/1050 [17:43<39:32,  2.82s/it]"
     ]
    },
    {
     "name": "stdout",
     "output_type": "stream",
     "text": [
      "09-04 - max - mean\n",
      "{'mean': {'single': {'upper': {'indicator': 'adx3', 'barrier': 53}, 'lower': {'indicator': 'ppo3', 'barrier': 7}, 'best': {'type': 'upper', 'indicator': 'adx3', 'barrier': 53}}}, 'order': {'single': {'upper': {'indicator': 'adx3', 'barrier': 65}, 'lower': {'indicator': 'stochastic3', 'barrier': 7}, 'best': {'type': 'upper', 'indicator': 'adx3', 'barrier': 65}}}}\n",
      "Key in forward opt json 09-04 - max - order - 828\n"
     ]
    },
    {
     "name": "stderr",
     "output_type": "stream",
     "text": [
      "\r",
      " 20%|██        | 210/1050 [17:52<1:02:56,  4.50s/it]"
     ]
    },
    {
     "name": "stdout",
     "output_type": "stream",
     "text": [
      "09-04 - max - order\n",
      "{'mean': {'single': {'upper': {'indicator': 'ppo3', 'barrier': 1}, 'lower': {'indicator': 'stochastic3', 'barrier': 68}, 'best': {'type': 'upper', 'indicator': 'ppo3', 'barrier': 1}}}, 'order': {'single': {'upper': {'indicator': 'adx6', 'barrier': 51}, 'lower': {'indicator': 'ppo6', 'barrier': -1}, 'best': {'type': 'upper', 'indicator': 'adx6', 'barrier': 51}}}}\n",
      "Key in forward opt json 09-05 - 6-month - mean - 871\n"
     ]
    },
    {
     "name": "stderr",
     "output_type": "stream",
     "text": [
      "\r",
      " 20%|██        | 211/1050 [18:03<1:31:34,  6.55s/it]"
     ]
    },
    {
     "name": "stdout",
     "output_type": "stream",
     "text": [
      "09-05 - 6-month - mean\n",
      "{'mean': {'single': {'upper': {'indicator': 'stochastic3', 'barrier': 18}, 'lower': {'indicator': 'stochastic9', 'barrier': 81}, 'best': {'type': 'upper', 'indicator': 'stochastic3', 'barrier': 18}}}, 'order': {'single': {'upper': {'indicator': 'stochastic3', 'barrier': 70}, 'lower': {'indicator': 'ppo9', 'barrier': -69}, 'best': {'type': 'upper', 'indicator': 'stochastic3', 'barrier': 70}}}}\n",
      "Key in forward opt json 09-05 - 6-month - order - 10\n"
     ]
    },
    {
     "name": "stderr",
     "output_type": "stream",
     "text": [
      "\r",
      " 20%|██        | 212/1050 [18:03<1:05:24,  4.68s/it]"
     ]
    },
    {
     "name": "stdout",
     "output_type": "stream",
     "text": [
      "09-05 - 6-month - order\n",
      "{'mean': {'single': {'upper': {'indicator': 'adx3', 'barrier': 69}, 'lower': {'indicator': 'adx3', 'barrier': 55}, 'best': {'type': 'upper', 'indicator': 'adx3', 'barrier': 69}}}, 'order': {'single': {'upper': {'indicator': 'adx3', 'barrier': 69}, 'lower': {'indicator': 'adx3', 'barrier': 55}, 'best': {'type': 'upper', 'indicator': 'adx3', 'barrier': 69}}}}\n",
      "Key in forward opt json 09-05 - 12-month - mean - 871\n"
     ]
    },
    {
     "name": "stderr",
     "output_type": "stream",
     "text": [
      "\r",
      " 20%|██        | 213/1050 [18:15<1:34:59,  6.81s/it]"
     ]
    },
    {
     "name": "stdout",
     "output_type": "stream",
     "text": [
      "09-05 - 12-month - mean\n",
      "{'mean': {'single': {'upper': {'indicator': 'stochastic3', 'barrier': 18}, 'lower': {'indicator': 'stochastic9', 'barrier': 81}, 'best': {'type': 'upper', 'indicator': 'stochastic3', 'barrier': 18}}}, 'order': {'single': {'upper': {'indicator': 'stochastic3', 'barrier': 70}, 'lower': {'indicator': 'ppo9', 'barrier': -69}, 'best': {'type': 'upper', 'indicator': 'stochastic3', 'barrier': 70}}}}\n",
      "Key in forward opt json 09-05 - 12-month - order - 10\n"
     ]
    },
    {
     "name": "stderr",
     "output_type": "stream",
     "text": [
      "\r",
      " 20%|██        | 214/1050 [18:16<1:07:41,  4.86s/it]"
     ]
    },
    {
     "name": "stdout",
     "output_type": "stream",
     "text": [
      "09-05 - 12-month - order\n",
      "{'mean': {'single': {'upper': {'indicator': 'adx3', 'barrier': 69}, 'lower': {'indicator': 'adx3', 'barrier': 55}, 'best': {'type': 'upper', 'indicator': 'adx3', 'barrier': 69}}}, 'order': {'single': {'upper': {'indicator': 'adx3', 'barrier': 69}, 'lower': {'indicator': 'adx3', 'barrier': 55}, 'best': {'type': 'upper', 'indicator': 'adx3', 'barrier': 69}}}}\n",
      "Key in forward opt json 09-05 - max - mean - 73\n"
     ]
    },
    {
     "name": "stderr",
     "output_type": "stream",
     "text": [
      "\r",
      " 20%|██        | 215/1050 [18:16<50:12,  3.61s/it]  "
     ]
    },
    {
     "name": "stdout",
     "output_type": "stream",
     "text": [
      "09-05 - max - mean\n",
      "{'mean': {'single': {'upper': {'indicator': 'adx3', 'barrier': 53}, 'lower': {'indicator': 'ppo3', 'barrier': 7}, 'best': {'type': 'upper', 'indicator': 'adx3', 'barrier': 53}}}, 'order': {'single': {'upper': {'indicator': 'adx3', 'barrier': 65}, 'lower': {'indicator': 'stochastic3', 'barrier': 7}, 'best': {'type': 'upper', 'indicator': 'adx3', 'barrier': 65}}}}\n",
      "Key in forward opt json 09-05 - max - order - 828\n"
     ]
    },
    {
     "name": "stderr",
     "output_type": "stream",
     "text": [
      "\r",
      " 21%|██        | 216/1050 [18:25<1:11:50,  5.17s/it]"
     ]
    },
    {
     "name": "stdout",
     "output_type": "stream",
     "text": [
      "09-05 - max - order\n",
      "{'mean': {'single': {'upper': {'indicator': 'ppo3', 'barrier': 1}, 'lower': {'indicator': 'stochastic3', 'barrier': 68}, 'best': {'type': 'upper', 'indicator': 'ppo3', 'barrier': 1}}}, 'order': {'single': {'upper': {'indicator': 'adx6', 'barrier': 51}, 'lower': {'indicator': 'ppo6', 'barrier': -1}, 'best': {'type': 'upper', 'indicator': 'adx6', 'barrier': 51}}}}\n",
      "Key in forward opt json 09-06 - 6-month - mean - 773\n"
     ]
    },
    {
     "name": "stderr",
     "output_type": "stream",
     "text": [
      "\r",
      " 21%|██        | 217/1050 [18:33<1:23:24,  6.01s/it]"
     ]
    },
    {
     "name": "stdout",
     "output_type": "stream",
     "text": [
      "09-06 - 6-month - mean\n",
      "{'mean': {'single': {'upper': {'indicator': 'stochastic3', 'barrier': 24}, 'lower': {'indicator': 'stochastic6', 'barrier': 75}, 'best': {'type': 'upper', 'indicator': 'stochastic3', 'barrier': 24}}}, 'order': {'single': {'upper': {'indicator': 'adx9', 'barrier': 49}, 'lower': {'indicator': 'stochastic6', 'barrier': 31}, 'best': {'type': 'upper', 'indicator': 'adx9', 'barrier': 49}}}}\n",
      "Key in forward opt json 09-06 - 6-month - order - 10\n"
     ]
    },
    {
     "name": "stderr",
     "output_type": "stream",
     "text": [
      "\r",
      " 21%|██        | 218/1050 [18:33<59:28,  4.29s/it]  "
     ]
    },
    {
     "name": "stdout",
     "output_type": "stream",
     "text": [
      "09-06 - 6-month - order\n",
      "{'mean': {'single': {'upper': {'indicator': 'adx3', 'barrier': 69}, 'lower': {'indicator': 'adx3', 'barrier': 55}, 'best': {'type': 'upper', 'indicator': 'adx3', 'barrier': 69}}}, 'order': {'single': {'upper': {'indicator': 'adx3', 'barrier': 69}, 'lower': {'indicator': 'adx3', 'barrier': 55}, 'best': {'type': 'upper', 'indicator': 'adx3', 'barrier': 69}}}}\n",
      "Key in forward opt json 09-06 - 12-month - mean - 773\n"
     ]
    },
    {
     "name": "stderr",
     "output_type": "stream",
     "text": [
      "\r",
      " 21%|██        | 219/1050 [18:41<1:14:39,  5.39s/it]"
     ]
    },
    {
     "name": "stdout",
     "output_type": "stream",
     "text": [
      "09-06 - 12-month - mean\n",
      "{'mean': {'single': {'upper': {'indicator': 'stochastic3', 'barrier': 24}, 'lower': {'indicator': 'stochastic6', 'barrier': 75}, 'best': {'type': 'upper', 'indicator': 'stochastic3', 'barrier': 24}}}, 'order': {'single': {'upper': {'indicator': 'adx9', 'barrier': 49}, 'lower': {'indicator': 'stochastic6', 'barrier': 31}, 'best': {'type': 'upper', 'indicator': 'adx9', 'barrier': 49}}}}\n",
      "Key in forward opt json 09-06 - 12-month - order - 10\n"
     ]
    },
    {
     "name": "stderr",
     "output_type": "stream",
     "text": [
      "\r",
      " 21%|██        | 220/1050 [18:41<53:19,  3.85s/it]  "
     ]
    },
    {
     "name": "stdout",
     "output_type": "stream",
     "text": [
      "09-06 - 12-month - order\n",
      "{'mean': {'single': {'upper': {'indicator': 'adx3', 'barrier': 69}, 'lower': {'indicator': 'adx3', 'barrier': 55}, 'best': {'type': 'upper', 'indicator': 'adx3', 'barrier': 69}}}, 'order': {'single': {'upper': {'indicator': 'adx3', 'barrier': 69}, 'lower': {'indicator': 'adx3', 'barrier': 55}, 'best': {'type': 'upper', 'indicator': 'adx3', 'barrier': 69}}}}\n",
      "Key in forward opt json 09-06 - max - mean - 73\n"
     ]
    },
    {
     "name": "stderr",
     "output_type": "stream",
     "text": [
      "\r",
      " 21%|██        | 221/1050 [18:42<40:10,  2.91s/it]"
     ]
    },
    {
     "name": "stdout",
     "output_type": "stream",
     "text": [
      "09-06 - max - mean\n",
      "{'mean': {'single': {'upper': {'indicator': 'adx3', 'barrier': 53}, 'lower': {'indicator': 'ppo3', 'barrier': 7}, 'best': {'type': 'upper', 'indicator': 'adx3', 'barrier': 53}}}, 'order': {'single': {'upper': {'indicator': 'adx3', 'barrier': 65}, 'lower': {'indicator': 'stochastic3', 'barrier': 7}, 'best': {'type': 'upper', 'indicator': 'adx3', 'barrier': 65}}}}\n",
      "Key in forward opt json 09-06 - max - order - 828\n"
     ]
    },
    {
     "name": "stderr",
     "output_type": "stream",
     "text": [
      "\r",
      " 21%|██        | 222/1050 [18:51<1:05:17,  4.73s/it]"
     ]
    },
    {
     "name": "stdout",
     "output_type": "stream",
     "text": [
      "09-06 - max - order\n",
      "{'mean': {'single': {'upper': {'indicator': 'ppo3', 'barrier': 1}, 'lower': {'indicator': 'stochastic3', 'barrier': 68}, 'best': {'type': 'upper', 'indicator': 'ppo3', 'barrier': 1}}}, 'order': {'single': {'upper': {'indicator': 'adx6', 'barrier': 51}, 'lower': {'indicator': 'ppo6', 'barrier': -1}, 'best': {'type': 'upper', 'indicator': 'adx6', 'barrier': 51}}}}\n",
      "Key in forward opt json 09-07 - 6-month - mean - 849\n"
     ]
    },
    {
     "name": "stderr",
     "output_type": "stream",
     "text": [
      "\r",
      " 21%|██        | 223/1050 [19:02<1:29:32,  6.50s/it]"
     ]
    },
    {
     "name": "stdout",
     "output_type": "stream",
     "text": [
      "09-07 - 6-month - mean\n",
      "{'mean': {'single': {'upper': {'indicator': 'ppo6', 'barrier': 0}, 'lower': {'indicator': 'stochastic3', 'barrier': 68}, 'best': {'type': 'upper', 'indicator': 'ppo6', 'barrier': 0}}}, 'order': {'single': {'upper': {'indicator': 'ppo3', 'barrier': 21}, 'lower': {'indicator': 'stochastic6', 'barrier': 39}, 'best': {'type': 'upper', 'indicator': 'ppo3', 'barrier': 21}}}}\n",
      "Key in forward opt json 09-07 - 6-month - order - 849\n"
     ]
    },
    {
     "name": "stderr",
     "output_type": "stream",
     "text": [
      "\r",
      " 21%|██▏       | 224/1050 [19:12<1:46:18,  7.72s/it]"
     ]
    },
    {
     "name": "stdout",
     "output_type": "stream",
     "text": [
      "09-07 - 6-month - order\n",
      "{'mean': {'single': {'upper': {'indicator': 'ppo6', 'barrier': 0}, 'lower': {'indicator': 'stochastic3', 'barrier': 68}, 'best': {'type': 'upper', 'indicator': 'ppo6', 'barrier': 0}}}, 'order': {'single': {'upper': {'indicator': 'ppo3', 'barrier': 21}, 'lower': {'indicator': 'stochastic6', 'barrier': 39}, 'best': {'type': 'upper', 'indicator': 'ppo3', 'barrier': 21}}}}\n",
      "Key in forward opt json 09-07 - 12-month - mean - 10\n"
     ]
    },
    {
     "name": "stderr",
     "output_type": "stream",
     "text": [
      "\r",
      " 21%|██▏       | 225/1050 [19:13<1:15:28,  5.49s/it]"
     ]
    },
    {
     "name": "stdout",
     "output_type": "stream",
     "text": [
      "09-07 - 12-month - mean\n",
      "{'mean': {'single': {'upper': {'indicator': 'adx3', 'barrier': 69}, 'lower': {'indicator': 'adx3', 'barrier': 55}, 'best': {'type': 'upper', 'indicator': 'adx3', 'barrier': 69}}}, 'order': {'single': {'upper': {'indicator': 'adx3', 'barrier': 69}, 'lower': {'indicator': 'adx3', 'barrier': 55}, 'best': {'type': 'upper', 'indicator': 'adx3', 'barrier': 69}}}}\n",
      "Key in forward opt json 09-07 - 12-month - order - 849\n"
     ]
    },
    {
     "name": "stderr",
     "output_type": "stream",
     "text": [
      "\r",
      " 22%|██▏       | 226/1050 [19:23<1:37:07,  7.07s/it]"
     ]
    },
    {
     "name": "stdout",
     "output_type": "stream",
     "text": [
      "09-07 - 12-month - order\n",
      "{'mean': {'single': {'upper': {'indicator': 'ppo6', 'barrier': 0}, 'lower': {'indicator': 'stochastic3', 'barrier': 68}, 'best': {'type': 'upper', 'indicator': 'ppo6', 'barrier': 0}}}, 'order': {'single': {'upper': {'indicator': 'ppo3', 'barrier': 21}, 'lower': {'indicator': 'stochastic6', 'barrier': 39}, 'best': {'type': 'upper', 'indicator': 'ppo3', 'barrier': 21}}}}\n",
      "Key in forward opt json 09-07 - max - mean - 73\n"
     ]
    },
    {
     "name": "stderr",
     "output_type": "stream",
     "text": [
      "\r",
      " 22%|██▏       | 227/1050 [19:24<1:10:44,  5.16s/it]"
     ]
    },
    {
     "name": "stdout",
     "output_type": "stream",
     "text": [
      "09-07 - max - mean\n",
      "{'mean': {'single': {'upper': {'indicator': 'adx3', 'barrier': 53}, 'lower': {'indicator': 'ppo3', 'barrier': 7}, 'best': {'type': 'upper', 'indicator': 'adx3', 'barrier': 53}}}, 'order': {'single': {'upper': {'indicator': 'adx3', 'barrier': 65}, 'lower': {'indicator': 'stochastic3', 'barrier': 7}, 'best': {'type': 'upper', 'indicator': 'adx3', 'barrier': 65}}}}\n",
      "Key in forward opt json 09-07 - max - order - 828\n"
     ]
    },
    {
     "name": "stderr",
     "output_type": "stream",
     "text": [
      "\r",
      " 22%|██▏       | 228/1050 [19:34<1:28:35,  6.47s/it]"
     ]
    },
    {
     "name": "stdout",
     "output_type": "stream",
     "text": [
      "09-07 - max - order\n",
      "{'mean': {'single': {'upper': {'indicator': 'ppo3', 'barrier': 1}, 'lower': {'indicator': 'stochastic3', 'barrier': 68}, 'best': {'type': 'upper', 'indicator': 'ppo3', 'barrier': 1}}}, 'order': {'single': {'upper': {'indicator': 'adx6', 'barrier': 51}, 'lower': {'indicator': 'ppo6', 'barrier': -1}, 'best': {'type': 'upper', 'indicator': 'adx6', 'barrier': 51}}}}\n",
      "Key in forward opt json 09-08 - 6-month - mean - 849\n"
     ]
    },
    {
     "name": "stderr",
     "output_type": "stream",
     "text": [
      "\r",
      " 22%|██▏       | 229/1050 [19:45<1:48:54,  7.96s/it]"
     ]
    },
    {
     "name": "stdout",
     "output_type": "stream",
     "text": [
      "09-08 - 6-month - mean\n",
      "{'mean': {'single': {'upper': {'indicator': 'ppo6', 'barrier': 0}, 'lower': {'indicator': 'stochastic3', 'barrier': 68}, 'best': {'type': 'upper', 'indicator': 'ppo6', 'barrier': 0}}}, 'order': {'single': {'upper': {'indicator': 'ppo3', 'barrier': 21}, 'lower': {'indicator': 'stochastic6', 'barrier': 39}, 'best': {'type': 'upper', 'indicator': 'ppo3', 'barrier': 21}}}}\n",
      "Key in forward opt json 09-08 - 6-month - order - 794\n"
     ]
    },
    {
     "name": "stderr",
     "output_type": "stream",
     "text": [
      "\r",
      " 22%|██▏       | 230/1050 [19:54<1:53:23,  8.30s/it]"
     ]
    },
    {
     "name": "stdout",
     "output_type": "stream",
     "text": [
      "09-08 - 6-month - order\n",
      "{'mean': {'single': {'upper': {'indicator': 'ppo3', 'barrier': 0}, 'lower': {'indicator': 'stochastic3', 'barrier': 68}, 'best': {'type': 'upper', 'indicator': 'ppo3', 'barrier': 0}}}, 'order': {'single': {'upper': {'indicator': 'ppo6', 'barrier': 6}, 'lower': {'indicator': 'stochastic3', 'barrier': 20}, 'best': {'type': 'upper', 'indicator': 'ppo6', 'barrier': 6}}}}\n",
      "Key in forward opt json 09-08 - 12-month - mean - 10\n"
     ]
    },
    {
     "name": "stderr",
     "output_type": "stream",
     "text": [
      "\r",
      " 22%|██▏       | 231/1050 [19:54<1:20:38,  5.91s/it]"
     ]
    },
    {
     "name": "stdout",
     "output_type": "stream",
     "text": [
      "09-08 - 12-month - mean\n",
      "{'mean': {'single': {'upper': {'indicator': 'adx3', 'barrier': 69}, 'lower': {'indicator': 'adx3', 'barrier': 55}, 'best': {'type': 'upper', 'indicator': 'adx3', 'barrier': 69}}}, 'order': {'single': {'upper': {'indicator': 'adx3', 'barrier': 69}, 'lower': {'indicator': 'adx3', 'barrier': 55}, 'best': {'type': 'upper', 'indicator': 'adx3', 'barrier': 69}}}}\n",
      "Key in forward opt json 09-08 - 12-month - order - 794\n"
     ]
    },
    {
     "name": "stderr",
     "output_type": "stream",
     "text": [
      "\r",
      " 22%|██▏       | 232/1050 [20:04<1:33:56,  6.89s/it]"
     ]
    },
    {
     "name": "stdout",
     "output_type": "stream",
     "text": [
      "09-08 - 12-month - order\n",
      "{'mean': {'single': {'upper': {'indicator': 'ppo3', 'barrier': 0}, 'lower': {'indicator': 'stochastic3', 'barrier': 68}, 'best': {'type': 'upper', 'indicator': 'ppo3', 'barrier': 0}}}, 'order': {'single': {'upper': {'indicator': 'ppo6', 'barrier': 6}, 'lower': {'indicator': 'stochastic3', 'barrier': 20}, 'best': {'type': 'upper', 'indicator': 'ppo6', 'barrier': 6}}}}\n",
      "Key in forward opt json 09-08 - max - mean - 73\n"
     ]
    },
    {
     "name": "stderr",
     "output_type": "stream",
     "text": [
      "\r",
      " 22%|██▏       | 233/1050 [20:05<1:09:18,  5.09s/it]"
     ]
    },
    {
     "name": "stdout",
     "output_type": "stream",
     "text": [
      "09-08 - max - mean\n",
      "{'mean': {'single': {'upper': {'indicator': 'adx3', 'barrier': 53}, 'lower': {'indicator': 'ppo3', 'barrier': 7}, 'best': {'type': 'upper', 'indicator': 'adx3', 'barrier': 53}}}, 'order': {'single': {'upper': {'indicator': 'adx3', 'barrier': 65}, 'lower': {'indicator': 'stochastic3', 'barrier': 7}, 'best': {'type': 'upper', 'indicator': 'adx3', 'barrier': 65}}}}\n",
      "Key in forward opt json 09-08 - max - order - 828\n"
     ]
    },
    {
     "name": "stderr",
     "output_type": "stream",
     "text": [
      "\r",
      " 22%|██▏       | 234/1050 [20:16<1:33:27,  6.87s/it]"
     ]
    },
    {
     "name": "stdout",
     "output_type": "stream",
     "text": [
      "09-08 - max - order\n",
      "{'mean': {'single': {'upper': {'indicator': 'ppo3', 'barrier': 1}, 'lower': {'indicator': 'stochastic3', 'barrier': 68}, 'best': {'type': 'upper', 'indicator': 'ppo3', 'barrier': 1}}}, 'order': {'single': {'upper': {'indicator': 'adx6', 'barrier': 51}, 'lower': {'indicator': 'ppo6', 'barrier': -1}, 'best': {'type': 'upper', 'indicator': 'adx6', 'barrier': 51}}}}\n",
      "Key in forward opt json 09-09 - 6-month - mean - 849\n"
     ]
    },
    {
     "name": "stderr",
     "output_type": "stream",
     "text": [
      "\r",
      " 22%|██▏       | 235/1050 [20:27<1:50:17,  8.12s/it]"
     ]
    },
    {
     "name": "stdout",
     "output_type": "stream",
     "text": [
      "09-09 - 6-month - mean\n",
      "{'mean': {'single': {'upper': {'indicator': 'ppo6', 'barrier': 0}, 'lower': {'indicator': 'stochastic3', 'barrier': 68}, 'best': {'type': 'upper', 'indicator': 'ppo6', 'barrier': 0}}}, 'order': {'single': {'upper': {'indicator': 'ppo3', 'barrier': 21}, 'lower': {'indicator': 'stochastic6', 'barrier': 39}, 'best': {'type': 'upper', 'indicator': 'ppo3', 'barrier': 21}}}}\n",
      "Key in forward opt json 09-09 - 6-month - order - 794\n"
     ]
    },
    {
     "name": "stderr",
     "output_type": "stream",
     "text": [
      "\r",
      " 22%|██▏       | 236/1050 [20:35<1:49:40,  8.08s/it]"
     ]
    },
    {
     "name": "stdout",
     "output_type": "stream",
     "text": [
      "09-09 - 6-month - order\n",
      "{'mean': {'single': {'upper': {'indicator': 'ppo3', 'barrier': 0}, 'lower': {'indicator': 'stochastic3', 'barrier': 68}, 'best': {'type': 'upper', 'indicator': 'ppo3', 'barrier': 0}}}, 'order': {'single': {'upper': {'indicator': 'ppo6', 'barrier': 6}, 'lower': {'indicator': 'stochastic3', 'barrier': 20}, 'best': {'type': 'upper', 'indicator': 'ppo6', 'barrier': 6}}}}\n",
      "Key in forward opt json 09-09 - 12-month - mean - 849\n"
     ]
    },
    {
     "name": "stderr",
     "output_type": "stream",
     "text": [
      "\r",
      " 23%|██▎       | 237/1050 [20:45<2:00:05,  8.86s/it]"
     ]
    },
    {
     "name": "stdout",
     "output_type": "stream",
     "text": [
      "09-09 - 12-month - mean\n",
      "{'mean': {'single': {'upper': {'indicator': 'ppo6', 'barrier': 0}, 'lower': {'indicator': 'stochastic3', 'barrier': 68}, 'best': {'type': 'upper', 'indicator': 'ppo6', 'barrier': 0}}}, 'order': {'single': {'upper': {'indicator': 'ppo3', 'barrier': 21}, 'lower': {'indicator': 'stochastic6', 'barrier': 39}, 'best': {'type': 'upper', 'indicator': 'ppo3', 'barrier': 21}}}}\n",
      "Key in forward opt json 09-09 - 12-month - order - 794\n"
     ]
    },
    {
     "name": "stderr",
     "output_type": "stream",
     "text": [
      "\r",
      " 23%|██▎       | 238/1050 [20:53<1:55:18,  8.52s/it]"
     ]
    },
    {
     "name": "stdout",
     "output_type": "stream",
     "text": [
      "09-09 - 12-month - order\n",
      "{'mean': {'single': {'upper': {'indicator': 'ppo3', 'barrier': 0}, 'lower': {'indicator': 'stochastic3', 'barrier': 68}, 'best': {'type': 'upper', 'indicator': 'ppo3', 'barrier': 0}}}, 'order': {'single': {'upper': {'indicator': 'ppo6', 'barrier': 6}, 'lower': {'indicator': 'stochastic3', 'barrier': 20}, 'best': {'type': 'upper', 'indicator': 'ppo6', 'barrier': 6}}}}\n",
      "Key in forward opt json 09-09 - max - mean - 73\n"
     ]
    },
    {
     "name": "stderr",
     "output_type": "stream",
     "text": [
      "\r",
      " 23%|██▎       | 239/1050 [20:54<1:23:25,  6.17s/it]"
     ]
    },
    {
     "name": "stdout",
     "output_type": "stream",
     "text": [
      "09-09 - max - mean\n",
      "{'mean': {'single': {'upper': {'indicator': 'adx3', 'barrier': 53}, 'lower': {'indicator': 'ppo3', 'barrier': 7}, 'best': {'type': 'upper', 'indicator': 'adx3', 'barrier': 53}}}, 'order': {'single': {'upper': {'indicator': 'adx3', 'barrier': 65}, 'lower': {'indicator': 'stochastic3', 'barrier': 7}, 'best': {'type': 'upper', 'indicator': 'adx3', 'barrier': 65}}}}\n",
      "Key in forward opt json 09-09 - max - order - 828\n"
     ]
    },
    {
     "name": "stderr",
     "output_type": "stream",
     "text": [
      "\r",
      " 23%|██▎       | 240/1050 [21:03<1:35:14,  7.05s/it]"
     ]
    },
    {
     "name": "stdout",
     "output_type": "stream",
     "text": [
      "09-09 - max - order\n",
      "{'mean': {'single': {'upper': {'indicator': 'ppo3', 'barrier': 1}, 'lower': {'indicator': 'stochastic3', 'barrier': 68}, 'best': {'type': 'upper', 'indicator': 'ppo3', 'barrier': 1}}}, 'order': {'single': {'upper': {'indicator': 'adx6', 'barrier': 51}, 'lower': {'indicator': 'ppo6', 'barrier': -1}, 'best': {'type': 'upper', 'indicator': 'adx6', 'barrier': 51}}}}\n",
      "Key in forward opt json 09-10 - 6-month - mean - 849\n"
     ]
    },
    {
     "name": "stderr",
     "output_type": "stream",
     "text": [
      "\r",
      " 23%|██▎       | 241/1050 [21:13<1:48:10,  8.02s/it]"
     ]
    },
    {
     "name": "stdout",
     "output_type": "stream",
     "text": [
      "09-10 - 6-month - mean\n",
      "{'mean': {'single': {'upper': {'indicator': 'ppo6', 'barrier': 0}, 'lower': {'indicator': 'stochastic3', 'barrier': 68}, 'best': {'type': 'upper', 'indicator': 'ppo6', 'barrier': 0}}}, 'order': {'single': {'upper': {'indicator': 'ppo3', 'barrier': 21}, 'lower': {'indicator': 'stochastic6', 'barrier': 39}, 'best': {'type': 'upper', 'indicator': 'ppo3', 'barrier': 21}}}}\n",
      "Key in forward opt json 09-10 - 6-month - order - 794\n"
     ]
    },
    {
     "name": "stderr",
     "output_type": "stream",
     "text": [
      "\r",
      " 23%|██▎       | 242/1050 [21:21<1:45:52,  7.86s/it]"
     ]
    },
    {
     "name": "stdout",
     "output_type": "stream",
     "text": [
      "09-10 - 6-month - order\n",
      "{'mean': {'single': {'upper': {'indicator': 'ppo3', 'barrier': 0}, 'lower': {'indicator': 'stochastic3', 'barrier': 68}, 'best': {'type': 'upper', 'indicator': 'ppo3', 'barrier': 0}}}, 'order': {'single': {'upper': {'indicator': 'ppo6', 'barrier': 6}, 'lower': {'indicator': 'stochastic3', 'barrier': 20}, 'best': {'type': 'upper', 'indicator': 'ppo6', 'barrier': 6}}}}\n",
      "Key in forward opt json 09-10 - 12-month - mean - 849\n"
     ]
    },
    {
     "name": "stderr",
     "output_type": "stream",
     "text": [
      "\r",
      " 23%|██▎       | 243/1050 [21:31<1:55:15,  8.57s/it]"
     ]
    },
    {
     "name": "stdout",
     "output_type": "stream",
     "text": [
      "09-10 - 12-month - mean\n",
      "{'mean': {'single': {'upper': {'indicator': 'ppo6', 'barrier': 0}, 'lower': {'indicator': 'stochastic3', 'barrier': 68}, 'best': {'type': 'upper', 'indicator': 'ppo6', 'barrier': 0}}}, 'order': {'single': {'upper': {'indicator': 'ppo3', 'barrier': 21}, 'lower': {'indicator': 'stochastic6', 'barrier': 39}, 'best': {'type': 'upper', 'indicator': 'ppo3', 'barrier': 21}}}}\n",
      "Key in forward opt json 09-10 - 12-month - order - 794\n"
     ]
    },
    {
     "name": "stderr",
     "output_type": "stream",
     "text": [
      "\r",
      " 23%|██▎       | 244/1050 [21:38<1:50:56,  8.26s/it]"
     ]
    },
    {
     "name": "stdout",
     "output_type": "stream",
     "text": [
      "09-10 - 12-month - order\n",
      "{'mean': {'single': {'upper': {'indicator': 'ppo3', 'barrier': 0}, 'lower': {'indicator': 'stochastic3', 'barrier': 68}, 'best': {'type': 'upper', 'indicator': 'ppo3', 'barrier': 0}}}, 'order': {'single': {'upper': {'indicator': 'ppo6', 'barrier': 6}, 'lower': {'indicator': 'stochastic3', 'barrier': 20}, 'best': {'type': 'upper', 'indicator': 'ppo6', 'barrier': 6}}}}\n",
      "Key in forward opt json 09-10 - max - mean - 73\n"
     ]
    },
    {
     "name": "stderr",
     "output_type": "stream",
     "text": [
      "\r",
      " 23%|██▎       | 245/1050 [21:39<1:20:20,  5.99s/it]"
     ]
    },
    {
     "name": "stdout",
     "output_type": "stream",
     "text": [
      "09-10 - max - mean\n",
      "{'mean': {'single': {'upper': {'indicator': 'adx3', 'barrier': 53}, 'lower': {'indicator': 'ppo3', 'barrier': 7}, 'best': {'type': 'upper', 'indicator': 'adx3', 'barrier': 53}}}, 'order': {'single': {'upper': {'indicator': 'adx3', 'barrier': 65}, 'lower': {'indicator': 'stochastic3', 'barrier': 7}, 'best': {'type': 'upper', 'indicator': 'adx3', 'barrier': 65}}}}\n",
      "Key in forward opt json 09-10 - max - order - 828\n"
     ]
    },
    {
     "name": "stderr",
     "output_type": "stream",
     "text": [
      "\r",
      " 23%|██▎       | 246/1050 [21:48<1:30:58,  6.79s/it]"
     ]
    },
    {
     "name": "stdout",
     "output_type": "stream",
     "text": [
      "09-10 - max - order\n",
      "{'mean': {'single': {'upper': {'indicator': 'ppo3', 'barrier': 1}, 'lower': {'indicator': 'stochastic3', 'barrier': 68}, 'best': {'type': 'upper', 'indicator': 'ppo3', 'barrier': 1}}}, 'order': {'single': {'upper': {'indicator': 'adx6', 'barrier': 51}, 'lower': {'indicator': 'ppo6', 'barrier': -1}, 'best': {'type': 'upper', 'indicator': 'adx6', 'barrier': 51}}}}\n",
      "Key in forward opt json 09-11 - 6-month - mean - 849\n"
     ]
    },
    {
     "name": "stderr",
     "output_type": "stream",
     "text": [
      "\r",
      " 24%|██▎       | 247/1050 [21:58<1:43:37,  7.74s/it]"
     ]
    },
    {
     "name": "stdout",
     "output_type": "stream",
     "text": [
      "09-11 - 6-month - mean\n",
      "{'mean': {'single': {'upper': {'indicator': 'ppo6', 'barrier': 0}, 'lower': {'indicator': 'stochastic3', 'barrier': 68}, 'best': {'type': 'upper', 'indicator': 'ppo6', 'barrier': 0}}}, 'order': {'single': {'upper': {'indicator': 'ppo3', 'barrier': 21}, 'lower': {'indicator': 'stochastic6', 'barrier': 39}, 'best': {'type': 'upper', 'indicator': 'ppo3', 'barrier': 21}}}}\n",
      "Key in forward opt json 09-11 - 6-month - order - 794\n"
     ]
    },
    {
     "name": "stderr",
     "output_type": "stream",
     "text": [
      "\r",
      " 24%|██▎       | 248/1050 [22:05<1:42:21,  7.66s/it]"
     ]
    },
    {
     "name": "stdout",
     "output_type": "stream",
     "text": [
      "09-11 - 6-month - order\n",
      "{'mean': {'single': {'upper': {'indicator': 'ppo3', 'barrier': 0}, 'lower': {'indicator': 'stochastic3', 'barrier': 68}, 'best': {'type': 'upper', 'indicator': 'ppo3', 'barrier': 0}}}, 'order': {'single': {'upper': {'indicator': 'ppo6', 'barrier': 6}, 'lower': {'indicator': 'stochastic3', 'barrier': 20}, 'best': {'type': 'upper', 'indicator': 'ppo6', 'barrier': 6}}}}\n",
      "Key in forward opt json 09-11 - 12-month - mean - 849\n"
     ]
    },
    {
     "name": "stderr",
     "output_type": "stream",
     "text": [
      "\r",
      " 24%|██▎       | 249/1050 [22:15<1:52:08,  8.40s/it]"
     ]
    },
    {
     "name": "stdout",
     "output_type": "stream",
     "text": [
      "09-11 - 12-month - mean\n",
      "{'mean': {'single': {'upper': {'indicator': 'ppo6', 'barrier': 0}, 'lower': {'indicator': 'stochastic3', 'barrier': 68}, 'best': {'type': 'upper', 'indicator': 'ppo6', 'barrier': 0}}}, 'order': {'single': {'upper': {'indicator': 'ppo3', 'barrier': 21}, 'lower': {'indicator': 'stochastic6', 'barrier': 39}, 'best': {'type': 'upper', 'indicator': 'ppo3', 'barrier': 21}}}}\n",
      "Key in forward opt json 09-11 - 12-month - order - 794\n"
     ]
    },
    {
     "name": "stderr",
     "output_type": "stream",
     "text": [
      "\r",
      " 24%|██▍       | 250/1050 [22:23<1:47:57,  8.10s/it]"
     ]
    },
    {
     "name": "stdout",
     "output_type": "stream",
     "text": [
      "09-11 - 12-month - order\n",
      "{'mean': {'single': {'upper': {'indicator': 'ppo3', 'barrier': 0}, 'lower': {'indicator': 'stochastic3', 'barrier': 68}, 'best': {'type': 'upper', 'indicator': 'ppo3', 'barrier': 0}}}, 'order': {'single': {'upper': {'indicator': 'ppo6', 'barrier': 6}, 'lower': {'indicator': 'stochastic3', 'barrier': 20}, 'best': {'type': 'upper', 'indicator': 'ppo6', 'barrier': 6}}}}\n",
      "Key in forward opt json 09-11 - max - mean - 73\n"
     ]
    },
    {
     "name": "stderr",
     "output_type": "stream",
     "text": [
      "\r",
      " 24%|██▍       | 251/1050 [22:23<1:18:16,  5.88s/it]"
     ]
    },
    {
     "name": "stdout",
     "output_type": "stream",
     "text": [
      "09-11 - max - mean\n",
      "{'mean': {'single': {'upper': {'indicator': 'adx3', 'barrier': 53}, 'lower': {'indicator': 'ppo3', 'barrier': 7}, 'best': {'type': 'upper', 'indicator': 'adx3', 'barrier': 53}}}, 'order': {'single': {'upper': {'indicator': 'adx3', 'barrier': 65}, 'lower': {'indicator': 'stochastic3', 'barrier': 7}, 'best': {'type': 'upper', 'indicator': 'adx3', 'barrier': 65}}}}\n",
      "Key in forward opt json 09-11 - max - order - 828\n"
     ]
    },
    {
     "name": "stderr",
     "output_type": "stream",
     "text": [
      "\r",
      " 24%|██▍       | 252/1050 [22:33<1:32:11,  6.93s/it]"
     ]
    },
    {
     "name": "stdout",
     "output_type": "stream",
     "text": [
      "09-11 - max - order\n",
      "{'mean': {'single': {'upper': {'indicator': 'ppo3', 'barrier': 1}, 'lower': {'indicator': 'stochastic3', 'barrier': 68}, 'best': {'type': 'upper', 'indicator': 'ppo3', 'barrier': 1}}}, 'order': {'single': {'upper': {'indicator': 'adx6', 'barrier': 51}, 'lower': {'indicator': 'ppo6', 'barrier': -1}, 'best': {'type': 'upper', 'indicator': 'adx6', 'barrier': 51}}}}\n",
      "Key in forward opt json 09-12 - 6-month - mean - 849\n"
     ]
    },
    {
     "name": "stderr",
     "output_type": "stream",
     "text": [
      "\r",
      " 24%|██▍       | 253/1050 [22:45<1:51:39,  8.41s/it]"
     ]
    },
    {
     "name": "stdout",
     "output_type": "stream",
     "text": [
      "09-12 - 6-month - mean\n",
      "{'mean': {'single': {'upper': {'indicator': 'ppo6', 'barrier': 0}, 'lower': {'indicator': 'stochastic3', 'barrier': 68}, 'best': {'type': 'upper', 'indicator': 'ppo6', 'barrier': 0}}}, 'order': {'single': {'upper': {'indicator': 'ppo3', 'barrier': 21}, 'lower': {'indicator': 'stochastic6', 'barrier': 39}, 'best': {'type': 'upper', 'indicator': 'ppo3', 'barrier': 21}}}}\n",
      "Key in forward opt json 09-12 - 6-month - order - 770\n"
     ]
    },
    {
     "name": "stderr",
     "output_type": "stream",
     "text": [
      "\r",
      " 24%|██▍       | 254/1050 [22:54<1:55:01,  8.67s/it]"
     ]
    },
    {
     "name": "stdout",
     "output_type": "stream",
     "text": [
      "09-12 - 6-month - order\n",
      "{'mean': {'single': {'upper': {'indicator': 'stochastic9', 'barrier': 31}, 'lower': {'indicator': 'stochastic3', 'barrier': 68}, 'best': {'type': 'upper', 'indicator': 'stochastic9', 'barrier': 31}}}, 'order': {'single': {'upper': {'indicator': 'adx3', 'barrier': 71}, 'lower': {'indicator': 'ppo9', 'barrier': 2}, 'best': {'type': 'upper', 'indicator': 'adx3', 'barrier': 71}}}}\n",
      "Key in forward opt json 09-12 - 12-month - mean - 849\n"
     ]
    },
    {
     "name": "stderr",
     "output_type": "stream",
     "text": [
      "\r",
      " 24%|██▍       | 255/1050 [23:07<2:12:46, 10.02s/it]"
     ]
    },
    {
     "name": "stdout",
     "output_type": "stream",
     "text": [
      "09-12 - 12-month - mean\n",
      "{'mean': {'single': {'upper': {'indicator': 'ppo6', 'barrier': 0}, 'lower': {'indicator': 'stochastic3', 'barrier': 68}, 'best': {'type': 'upper', 'indicator': 'ppo6', 'barrier': 0}}}, 'order': {'single': {'upper': {'indicator': 'ppo3', 'barrier': 21}, 'lower': {'indicator': 'stochastic6', 'barrier': 39}, 'best': {'type': 'upper', 'indicator': 'ppo3', 'barrier': 21}}}}\n",
      "Key in forward opt json 09-12 - 12-month - order - 794\n"
     ]
    },
    {
     "name": "stderr",
     "output_type": "stream",
     "text": [
      "\r",
      " 24%|██▍       | 256/1050 [23:17<2:11:37,  9.95s/it]"
     ]
    },
    {
     "name": "stdout",
     "output_type": "stream",
     "text": [
      "09-12 - 12-month - order\n",
      "{'mean': {'single': {'upper': {'indicator': 'ppo3', 'barrier': 0}, 'lower': {'indicator': 'stochastic3', 'barrier': 68}, 'best': {'type': 'upper', 'indicator': 'ppo3', 'barrier': 0}}}, 'order': {'single': {'upper': {'indicator': 'ppo6', 'barrier': 6}, 'lower': {'indicator': 'stochastic3', 'barrier': 20}, 'best': {'type': 'upper', 'indicator': 'ppo6', 'barrier': 6}}}}\n",
      "Key in forward opt json 09-12 - max - mean - 73\n"
     ]
    },
    {
     "name": "stderr",
     "output_type": "stream",
     "text": [
      "\r",
      " 24%|██▍       | 257/1050 [23:18<1:35:07,  7.20s/it]"
     ]
    },
    {
     "name": "stdout",
     "output_type": "stream",
     "text": [
      "09-12 - max - mean\n",
      "{'mean': {'single': {'upper': {'indicator': 'adx3', 'barrier': 53}, 'lower': {'indicator': 'ppo3', 'barrier': 7}, 'best': {'type': 'upper', 'indicator': 'adx3', 'barrier': 53}}}, 'order': {'single': {'upper': {'indicator': 'adx3', 'barrier': 65}, 'lower': {'indicator': 'stochastic3', 'barrier': 7}, 'best': {'type': 'upper', 'indicator': 'adx3', 'barrier': 65}}}}\n",
      "Key in forward opt json 09-12 - max - order - 828\n"
     ]
    },
    {
     "name": "stderr",
     "output_type": "stream",
     "text": [
      "\r",
      " 25%|██▍       | 258/1050 [23:27<1:42:51,  7.79s/it]"
     ]
    },
    {
     "name": "stdout",
     "output_type": "stream",
     "text": [
      "09-12 - max - order\n",
      "{'mean': {'single': {'upper': {'indicator': 'ppo3', 'barrier': 1}, 'lower': {'indicator': 'stochastic3', 'barrier': 68}, 'best': {'type': 'upper', 'indicator': 'ppo3', 'barrier': 1}}}, 'order': {'single': {'upper': {'indicator': 'adx6', 'barrier': 51}, 'lower': {'indicator': 'ppo6', 'barrier': -1}, 'best': {'type': 'upper', 'indicator': 'adx6', 'barrier': 51}}}}\n",
      "Key in forward opt json 10-01 - 6-month - mean - 770\n"
     ]
    },
    {
     "name": "stderr",
     "output_type": "stream",
     "text": [
      "\r",
      " 25%|██▍       | 259/1050 [23:35<1:44:03,  7.89s/it]"
     ]
    },
    {
     "name": "stdout",
     "output_type": "stream",
     "text": [
      "10-01 - 6-month - mean\n",
      "{'mean': {'single': {'upper': {'indicator': 'stochastic9', 'barrier': 31}, 'lower': {'indicator': 'stochastic3', 'barrier': 68}, 'best': {'type': 'upper', 'indicator': 'stochastic9', 'barrier': 31}}}, 'order': {'single': {'upper': {'indicator': 'adx3', 'barrier': 71}, 'lower': {'indicator': 'ppo9', 'barrier': 2}, 'best': {'type': 'upper', 'indicator': 'adx3', 'barrier': 71}}}}\n",
      "Key in forward opt json 10-01 - 6-month - order - 771\n"
     ]
    },
    {
     "name": "stderr",
     "output_type": "stream",
     "text": [
      "\r",
      " 25%|██▍       | 260/1050 [23:43<1:44:54,  7.97s/it]"
     ]
    },
    {
     "name": "stdout",
     "output_type": "stream",
     "text": [
      "10-01 - 6-month - order\n",
      "{'mean': {'single': {'upper': {'indicator': 'stochastic9', 'barrier': 23}, 'lower': {'indicator': 'ppo9', 'barrier': 16}, 'best': {'type': 'upper', 'indicator': 'stochastic9', 'barrier': 23}}}, 'order': {'single': {'upper': {'indicator': 'stochastic9', 'barrier': 89}, 'lower': {'indicator': 'stochastic6', 'barrier': 23}, 'best': {'type': 'upper', 'indicator': 'stochastic9', 'barrier': 89}}}}\n",
      "Key in forward opt json 10-01 - 12-month - mean - 849\n"
     ]
    },
    {
     "name": "stderr",
     "output_type": "stream",
     "text": [
      "\r",
      " 25%|██▍       | 261/1050 [23:53<1:53:42,  8.65s/it]"
     ]
    },
    {
     "name": "stdout",
     "output_type": "stream",
     "text": [
      "10-01 - 12-month - mean\n",
      "{'mean': {'single': {'upper': {'indicator': 'ppo6', 'barrier': 0}, 'lower': {'indicator': 'stochastic3', 'barrier': 68}, 'best': {'type': 'upper', 'indicator': 'ppo6', 'barrier': 0}}}, 'order': {'single': {'upper': {'indicator': 'ppo3', 'barrier': 21}, 'lower': {'indicator': 'stochastic6', 'barrier': 39}, 'best': {'type': 'upper', 'indicator': 'ppo3', 'barrier': 21}}}}\n",
      "Key in forward opt json 10-01 - 12-month - order - 794\n"
     ]
    },
    {
     "name": "stderr",
     "output_type": "stream",
     "text": [
      "\r",
      " 25%|██▍       | 262/1050 [24:01<1:48:37,  8.27s/it]"
     ]
    },
    {
     "name": "stdout",
     "output_type": "stream",
     "text": [
      "10-01 - 12-month - order\n",
      "{'mean': {'single': {'upper': {'indicator': 'ppo3', 'barrier': 0}, 'lower': {'indicator': 'stochastic3', 'barrier': 68}, 'best': {'type': 'upper', 'indicator': 'ppo3', 'barrier': 0}}}, 'order': {'single': {'upper': {'indicator': 'ppo6', 'barrier': 6}, 'lower': {'indicator': 'stochastic3', 'barrier': 20}, 'best': {'type': 'upper', 'indicator': 'ppo6', 'barrier': 6}}}}\n",
      "Key in forward opt json 10-01 - max - mean - 73\n"
     ]
    },
    {
     "name": "stderr",
     "output_type": "stream",
     "text": [
      "\r",
      " 25%|██▌       | 263/1050 [24:01<1:18:39,  6.00s/it]"
     ]
    },
    {
     "name": "stdout",
     "output_type": "stream",
     "text": [
      "10-01 - max - mean\n",
      "{'mean': {'single': {'upper': {'indicator': 'adx3', 'barrier': 53}, 'lower': {'indicator': 'ppo3', 'barrier': 7}, 'best': {'type': 'upper', 'indicator': 'adx3', 'barrier': 53}}}, 'order': {'single': {'upper': {'indicator': 'adx3', 'barrier': 65}, 'lower': {'indicator': 'stochastic3', 'barrier': 7}, 'best': {'type': 'upper', 'indicator': 'adx3', 'barrier': 65}}}}\n",
      "Key in forward opt json 10-01 - max - order - 828\n"
     ]
    },
    {
     "name": "stderr",
     "output_type": "stream",
     "text": [
      "\r",
      " 25%|██▌       | 264/1050 [24:10<1:29:20,  6.82s/it]"
     ]
    },
    {
     "name": "stdout",
     "output_type": "stream",
     "text": [
      "10-01 - max - order\n",
      "{'mean': {'single': {'upper': {'indicator': 'ppo3', 'barrier': 1}, 'lower': {'indicator': 'stochastic3', 'barrier': 68}, 'best': {'type': 'upper', 'indicator': 'ppo3', 'barrier': 1}}}, 'order': {'single': {'upper': {'indicator': 'adx6', 'barrier': 51}, 'lower': {'indicator': 'ppo6', 'barrier': -1}, 'best': {'type': 'upper', 'indicator': 'adx6', 'barrier': 51}}}}\n",
      "Key in forward opt json 10-02 - 6-month - mean - 842\n"
     ]
    },
    {
     "name": "stderr",
     "output_type": "stream",
     "text": [
      "\r",
      " 25%|██▌       | 265/1050 [24:20<1:43:11,  7.89s/it]"
     ]
    },
    {
     "name": "stdout",
     "output_type": "stream",
     "text": [
      "10-02 - 6-month - mean\n",
      "{'mean': {'single': {'upper': {'indicator': 'ppo6', 'barrier': 0}, 'lower': {'indicator': 'ppo9', 'barrier': 17}, 'best': {'type': 'upper', 'indicator': 'ppo6', 'barrier': 0}}}, 'order': {'single': {'upper': {'indicator': 'stochastic3', 'barrier': 36}, 'lower': {'indicator': 'ppo9', 'barrier': 7}, 'best': {'type': 'upper', 'indicator': 'stochastic3', 'barrier': 36}}}}\n",
      "Key in forward opt json 10-02 - 6-month - order - 828\n"
     ]
    },
    {
     "name": "stderr",
     "output_type": "stream",
     "text": [
      "\r",
      " 25%|██▌       | 266/1050 [24:29<1:46:08,  8.12s/it]"
     ]
    },
    {
     "name": "stdout",
     "output_type": "stream",
     "text": [
      "10-02 - 6-month - order\n",
      "{'mean': {'single': {'upper': {'indicator': 'ppo3', 'barrier': 1}, 'lower': {'indicator': 'stochastic3', 'barrier': 68}, 'best': {'type': 'upper', 'indicator': 'ppo3', 'barrier': 1}}}, 'order': {'single': {'upper': {'indicator': 'adx6', 'barrier': 51}, 'lower': {'indicator': 'ppo6', 'barrier': -1}, 'best': {'type': 'upper', 'indicator': 'adx6', 'barrier': 51}}}}\n",
      "Key in forward opt json 10-02 - 12-month - mean - 849\n"
     ]
    },
    {
     "name": "stderr",
     "output_type": "stream",
     "text": [
      "\r",
      " 25%|██▌       | 267/1050 [24:39<1:52:53,  8.65s/it]"
     ]
    },
    {
     "name": "stdout",
     "output_type": "stream",
     "text": [
      "10-02 - 12-month - mean\n",
      "{'mean': {'single': {'upper': {'indicator': 'ppo6', 'barrier': 0}, 'lower': {'indicator': 'stochastic3', 'barrier': 68}, 'best': {'type': 'upper', 'indicator': 'ppo6', 'barrier': 0}}}, 'order': {'single': {'upper': {'indicator': 'ppo3', 'barrier': 21}, 'lower': {'indicator': 'stochastic6', 'barrier': 39}, 'best': {'type': 'upper', 'indicator': 'ppo3', 'barrier': 21}}}}\n",
      "Key in forward opt json 10-02 - 12-month - order - 794\n"
     ]
    },
    {
     "name": "stderr",
     "output_type": "stream",
     "text": [
      "\r",
      " 26%|██▌       | 268/1050 [24:46<1:47:25,  8.24s/it]"
     ]
    },
    {
     "name": "stdout",
     "output_type": "stream",
     "text": [
      "10-02 - 12-month - order\n",
      "{'mean': {'single': {'upper': {'indicator': 'ppo3', 'barrier': 0}, 'lower': {'indicator': 'stochastic3', 'barrier': 68}, 'best': {'type': 'upper', 'indicator': 'ppo3', 'barrier': 0}}}, 'order': {'single': {'upper': {'indicator': 'ppo6', 'barrier': 6}, 'lower': {'indicator': 'stochastic3', 'barrier': 20}, 'best': {'type': 'upper', 'indicator': 'ppo6', 'barrier': 6}}}}\n",
      "Key in forward opt json 10-02 - max - mean - 73\n"
     ]
    },
    {
     "name": "stderr",
     "output_type": "stream",
     "text": [
      "\r",
      " 26%|██▌       | 269/1050 [24:47<1:17:46,  5.97s/it]"
     ]
    },
    {
     "name": "stdout",
     "output_type": "stream",
     "text": [
      "10-02 - max - mean\n",
      "{'mean': {'single': {'upper': {'indicator': 'adx3', 'barrier': 53}, 'lower': {'indicator': 'ppo3', 'barrier': 7}, 'best': {'type': 'upper', 'indicator': 'adx3', 'barrier': 53}}}, 'order': {'single': {'upper': {'indicator': 'adx3', 'barrier': 65}, 'lower': {'indicator': 'stochastic3', 'barrier': 7}, 'best': {'type': 'upper', 'indicator': 'adx3', 'barrier': 65}}}}\n",
      "Key in forward opt json 10-02 - max - order - 828\n"
     ]
    },
    {
     "name": "stderr",
     "output_type": "stream",
     "text": [
      "\r",
      " 26%|██▌       | 270/1050 [24:56<1:28:11,  6.78s/it]"
     ]
    },
    {
     "name": "stdout",
     "output_type": "stream",
     "text": [
      "10-02 - max - order\n",
      "{'mean': {'single': {'upper': {'indicator': 'ppo3', 'barrier': 1}, 'lower': {'indicator': 'stochastic3', 'barrier': 68}, 'best': {'type': 'upper', 'indicator': 'ppo3', 'barrier': 1}}}, 'order': {'single': {'upper': {'indicator': 'adx6', 'barrier': 51}, 'lower': {'indicator': 'ppo6', 'barrier': -1}, 'best': {'type': 'upper', 'indicator': 'adx6', 'barrier': 51}}}}\n",
      "Key in forward opt json 10-03 - 6-month - mean - 264\n"
     ]
    },
    {
     "name": "stderr",
     "output_type": "stream",
     "text": [
      "\r",
      " 26%|██▌       | 271/1050 [24:57<1:06:22,  5.11s/it]"
     ]
    },
    {
     "name": "stdout",
     "output_type": "stream",
     "text": [
      "10-03 - 6-month - mean\n",
      "{'mean': {'single': {'upper': {'indicator': 'adx3', 'barrier': 36}, 'lower': {'indicator': 'ppo9', 'barrier': 14}, 'best': {'type': 'upper', 'indicator': 'adx3', 'barrier': 36}}}, 'order': {'single': {'upper': {'indicator': 'stochastic3', 'barrier': 41}, 'lower': {'indicator': 'adx6', 'barrier': 38}, 'best': {'type': 'upper', 'indicator': 'stochastic3', 'barrier': 41}}}}\n",
      "Key in forward opt json 10-03 - 6-month - order - 264\n"
     ]
    },
    {
     "name": "stderr",
     "output_type": "stream",
     "text": [
      "\r",
      " 26%|██▌       | 272/1050 [24:58<51:09,  3.95s/it]  "
     ]
    },
    {
     "name": "stdout",
     "output_type": "stream",
     "text": [
      "10-03 - 6-month - order\n",
      "{'mean': {'single': {'upper': {'indicator': 'adx3', 'barrier': 36}, 'lower': {'indicator': 'ppo9', 'barrier': 14}, 'best': {'type': 'upper', 'indicator': 'adx3', 'barrier': 36}}}, 'order': {'single': {'upper': {'indicator': 'stochastic3', 'barrier': 41}, 'lower': {'indicator': 'adx6', 'barrier': 38}, 'best': {'type': 'upper', 'indicator': 'stochastic3', 'barrier': 41}}}}\n",
      "Key in forward opt json 10-03 - 12-month - mean - 849\n"
     ]
    },
    {
     "name": "stderr",
     "output_type": "stream",
     "text": [
      "\r",
      " 26%|██▌       | 273/1050 [25:08<1:14:11,  5.73s/it]"
     ]
    },
    {
     "name": "stdout",
     "output_type": "stream",
     "text": [
      "10-03 - 12-month - mean\n",
      "{'mean': {'single': {'upper': {'indicator': 'ppo6', 'barrier': 0}, 'lower': {'indicator': 'stochastic3', 'barrier': 68}, 'best': {'type': 'upper', 'indicator': 'ppo6', 'barrier': 0}}}, 'order': {'single': {'upper': {'indicator': 'ppo3', 'barrier': 21}, 'lower': {'indicator': 'stochastic6', 'barrier': 39}, 'best': {'type': 'upper', 'indicator': 'ppo3', 'barrier': 21}}}}\n",
      "Key in forward opt json 10-03 - 12-month - order - 794\n"
     ]
    },
    {
     "name": "stderr",
     "output_type": "stream",
     "text": [
      "\r",
      " 26%|██▌       | 274/1050 [25:15<1:20:10,  6.20s/it]"
     ]
    },
    {
     "name": "stdout",
     "output_type": "stream",
     "text": [
      "10-03 - 12-month - order\n",
      "{'mean': {'single': {'upper': {'indicator': 'ppo3', 'barrier': 0}, 'lower': {'indicator': 'stochastic3', 'barrier': 68}, 'best': {'type': 'upper', 'indicator': 'ppo3', 'barrier': 0}}}, 'order': {'single': {'upper': {'indicator': 'ppo6', 'barrier': 6}, 'lower': {'indicator': 'stochastic3', 'barrier': 20}, 'best': {'type': 'upper', 'indicator': 'ppo6', 'barrier': 6}}}}\n",
      "Key in forward opt json 10-03 - max - mean - 73\n"
     ]
    },
    {
     "name": "stderr",
     "output_type": "stream",
     "text": [
      "\r",
      " 26%|██▌       | 275/1050 [25:16<58:55,  4.56s/it]  "
     ]
    },
    {
     "name": "stdout",
     "output_type": "stream",
     "text": [
      "10-03 - max - mean\n",
      "{'mean': {'single': {'upper': {'indicator': 'adx3', 'barrier': 53}, 'lower': {'indicator': 'ppo3', 'barrier': 7}, 'best': {'type': 'upper', 'indicator': 'adx3', 'barrier': 53}}}, 'order': {'single': {'upper': {'indicator': 'adx3', 'barrier': 65}, 'lower': {'indicator': 'stochastic3', 'barrier': 7}, 'best': {'type': 'upper', 'indicator': 'adx3', 'barrier': 65}}}}\n",
      "Key in forward opt json 10-03 - max - order - 828\n"
     ]
    },
    {
     "name": "stderr",
     "output_type": "stream",
     "text": [
      "\r",
      " 26%|██▋       | 276/1050 [25:25<1:15:27,  5.85s/it]"
     ]
    },
    {
     "name": "stdout",
     "output_type": "stream",
     "text": [
      "10-03 - max - order\n",
      "{'mean': {'single': {'upper': {'indicator': 'ppo3', 'barrier': 1}, 'lower': {'indicator': 'stochastic3', 'barrier': 68}, 'best': {'type': 'upper', 'indicator': 'ppo3', 'barrier': 1}}}, 'order': {'single': {'upper': {'indicator': 'adx6', 'barrier': 51}, 'lower': {'indicator': 'ppo6', 'barrier': -1}, 'best': {'type': 'upper', 'indicator': 'adx6', 'barrier': 51}}}}\n",
      "Key in forward opt json 10-04 - 6-month - mean - 264\n"
     ]
    },
    {
     "name": "stderr",
     "output_type": "stream",
     "text": [
      "\r",
      " 26%|██▋       | 277/1050 [25:26<57:38,  4.47s/it]  "
     ]
    },
    {
     "name": "stdout",
     "output_type": "stream",
     "text": [
      "10-04 - 6-month - mean\n",
      "{'mean': {'single': {'upper': {'indicator': 'adx3', 'barrier': 36}, 'lower': {'indicator': 'ppo9', 'barrier': 14}, 'best': {'type': 'upper', 'indicator': 'adx3', 'barrier': 36}}}, 'order': {'single': {'upper': {'indicator': 'stochastic3', 'barrier': 41}, 'lower': {'indicator': 'adx6', 'barrier': 38}, 'best': {'type': 'upper', 'indicator': 'stochastic3', 'barrier': 41}}}}\n",
      "Key in forward opt json 10-04 - 6-month - order - 264\n"
     ]
    },
    {
     "name": "stderr",
     "output_type": "stream",
     "text": [
      "\r",
      " 26%|██▋       | 278/1050 [25:27<45:04,  3.50s/it]"
     ]
    },
    {
     "name": "stdout",
     "output_type": "stream",
     "text": [
      "10-04 - 6-month - order\n",
      "{'mean': {'single': {'upper': {'indicator': 'adx3', 'barrier': 36}, 'lower': {'indicator': 'ppo9', 'barrier': 14}, 'best': {'type': 'upper', 'indicator': 'adx3', 'barrier': 36}}}, 'order': {'single': {'upper': {'indicator': 'stochastic3', 'barrier': 41}, 'lower': {'indicator': 'adx6', 'barrier': 38}, 'best': {'type': 'upper', 'indicator': 'stochastic3', 'barrier': 41}}}}\n",
      "Key in forward opt json 10-04 - 12-month - mean - 828\n"
     ]
    },
    {
     "name": "stderr",
     "output_type": "stream",
     "text": [
      "\r",
      " 27%|██▋       | 279/1050 [25:37<1:06:44,  5.19s/it]"
     ]
    },
    {
     "name": "stdout",
     "output_type": "stream",
     "text": [
      "10-04 - 12-month - mean\n",
      "{'mean': {'single': {'upper': {'indicator': 'ppo3', 'barrier': 1}, 'lower': {'indicator': 'stochastic3', 'barrier': 68}, 'best': {'type': 'upper', 'indicator': 'ppo3', 'barrier': 1}}}, 'order': {'single': {'upper': {'indicator': 'adx6', 'barrier': 51}, 'lower': {'indicator': 'ppo6', 'barrier': -1}, 'best': {'type': 'upper', 'indicator': 'adx6', 'barrier': 51}}}}\n",
      "Key in forward opt json 10-04 - 12-month - order - 828\n"
     ]
    },
    {
     "name": "stderr",
     "output_type": "stream",
     "text": [
      "\r",
      " 27%|██▋       | 280/1050 [25:47<1:27:08,  6.79s/it]"
     ]
    },
    {
     "name": "stdout",
     "output_type": "stream",
     "text": [
      "10-04 - 12-month - order\n",
      "{'mean': {'single': {'upper': {'indicator': 'ppo3', 'barrier': 1}, 'lower': {'indicator': 'stochastic3', 'barrier': 68}, 'best': {'type': 'upper', 'indicator': 'ppo3', 'barrier': 1}}}, 'order': {'single': {'upper': {'indicator': 'adx6', 'barrier': 51}, 'lower': {'indicator': 'ppo6', 'barrier': -1}, 'best': {'type': 'upper', 'indicator': 'adx6', 'barrier': 51}}}}\n",
      "Key in forward opt json 10-04 - max - mean - 73\n"
     ]
    },
    {
     "name": "stderr",
     "output_type": "stream",
     "text": [
      "\r",
      " 27%|██▋       | 281/1050 [25:48<1:04:18,  5.02s/it]"
     ]
    },
    {
     "name": "stdout",
     "output_type": "stream",
     "text": [
      "10-04 - max - mean\n",
      "{'mean': {'single': {'upper': {'indicator': 'adx3', 'barrier': 53}, 'lower': {'indicator': 'ppo3', 'barrier': 7}, 'best': {'type': 'upper', 'indicator': 'adx3', 'barrier': 53}}}, 'order': {'single': {'upper': {'indicator': 'adx3', 'barrier': 65}, 'lower': {'indicator': 'stochastic3', 'barrier': 7}, 'best': {'type': 'upper', 'indicator': 'adx3', 'barrier': 65}}}}\n",
      "Key in forward opt json 10-04 - max - order - 828\n"
     ]
    },
    {
     "name": "stderr",
     "output_type": "stream",
     "text": [
      "\r",
      " 27%|██▋       | 282/1050 [25:59<1:29:19,  6.98s/it]"
     ]
    },
    {
     "name": "stdout",
     "output_type": "stream",
     "text": [
      "10-04 - max - order\n",
      "{'mean': {'single': {'upper': {'indicator': 'ppo3', 'barrier': 1}, 'lower': {'indicator': 'stochastic3', 'barrier': 68}, 'best': {'type': 'upper', 'indicator': 'ppo3', 'barrier': 1}}}, 'order': {'single': {'upper': {'indicator': 'adx6', 'barrier': 51}, 'lower': {'indicator': 'ppo6', 'barrier': -1}, 'best': {'type': 'upper', 'indicator': 'adx6', 'barrier': 51}}}}\n",
      "Key in forward opt json 10-05 - 6-month - mean - 351\n"
     ]
    },
    {
     "name": "stderr",
     "output_type": "stream",
     "text": [
      "\r",
      " 27%|██▋       | 283/1050 [26:03<1:14:54,  5.86s/it]"
     ]
    },
    {
     "name": "stdout",
     "output_type": "stream",
     "text": [
      "10-05 - 6-month - mean\n",
      "{'mean': {'single': {'upper': {'indicator': 'ppo3', 'barrier': 0}, 'lower': {'indicator': 'ppo6', 'barrier': 25}, 'best': {'type': 'upper', 'indicator': 'ppo3', 'barrier': 0}}}, 'order': {'single': {'upper': {'indicator': 'stochastic3', 'barrier': 45}, 'lower': {'indicator': 'stochastic3', 'barrier': 13}, 'best': {'type': 'upper', 'indicator': 'stochastic3', 'barrier': 45}}}}\n",
      "Key in forward opt json 10-05 - 6-month - order - 351\n"
     ]
    },
    {
     "name": "stderr",
     "output_type": "stream",
     "text": [
      "\r",
      " 27%|██▋       | 284/1050 [26:06<1:04:56,  5.09s/it]"
     ]
    },
    {
     "name": "stdout",
     "output_type": "stream",
     "text": [
      "10-05 - 6-month - order\n",
      "{'mean': {'single': {'upper': {'indicator': 'ppo3', 'barrier': 0}, 'lower': {'indicator': 'ppo6', 'barrier': 25}, 'best': {'type': 'upper', 'indicator': 'ppo3', 'barrier': 0}}}, 'order': {'single': {'upper': {'indicator': 'stochastic3', 'barrier': 45}, 'lower': {'indicator': 'stochastic3', 'barrier': 13}, 'best': {'type': 'upper', 'indicator': 'stochastic3', 'barrier': 45}}}}\n",
      "Key in forward opt json 10-05 - 12-month - mean - 264\n"
     ]
    },
    {
     "name": "stderr",
     "output_type": "stream",
     "text": [
      "\r",
      " 27%|██▋       | 285/1050 [26:08<52:13,  4.10s/it]  "
     ]
    },
    {
     "name": "stdout",
     "output_type": "stream",
     "text": [
      "10-05 - 12-month - mean\n",
      "{'mean': {'single': {'upper': {'indicator': 'adx3', 'barrier': 36}, 'lower': {'indicator': 'ppo9', 'barrier': 14}, 'best': {'type': 'upper', 'indicator': 'adx3', 'barrier': 36}}}, 'order': {'single': {'upper': {'indicator': 'stochastic3', 'barrier': 41}, 'lower': {'indicator': 'adx6', 'barrier': 38}, 'best': {'type': 'upper', 'indicator': 'stochastic3', 'barrier': 41}}}}\n",
      "Key in forward opt json 10-05 - 12-month - order - 794\n"
     ]
    },
    {
     "name": "stderr",
     "output_type": "stream",
     "text": [
      "\r",
      " 27%|██▋       | 286/1050 [26:17<1:12:02,  5.66s/it]"
     ]
    },
    {
     "name": "stdout",
     "output_type": "stream",
     "text": [
      "10-05 - 12-month - order\n",
      "{'mean': {'single': {'upper': {'indicator': 'ppo3', 'barrier': 0}, 'lower': {'indicator': 'stochastic3', 'barrier': 68}, 'best': {'type': 'upper', 'indicator': 'ppo3', 'barrier': 0}}}, 'order': {'single': {'upper': {'indicator': 'ppo6', 'barrier': 6}, 'lower': {'indicator': 'stochastic3', 'barrier': 20}, 'best': {'type': 'upper', 'indicator': 'ppo6', 'barrier': 6}}}}\n",
      "Key in forward opt json 10-05 - max - mean - 58\n"
     ]
    },
    {
     "name": "stderr",
     "output_type": "stream",
     "text": [
      "\r",
      " 27%|██▋       | 287/1050 [26:18<52:55,  4.16s/it]  "
     ]
    },
    {
     "name": "stdout",
     "output_type": "stream",
     "text": [
      "10-05 - max - mean\n",
      "{'mean': {'single': {'upper': {'indicator': 'adx3', 'barrier': 53}, 'lower': {'indicator': 'ppo6', 'barrier': 8}, 'best': {'type': 'upper', 'indicator': 'adx3', 'barrier': 53}}}, 'order': {'single': {'upper': {'indicator': 'adx3', 'barrier': 65}, 'lower': {'indicator': 'stochastic3', 'barrier': 7}, 'best': {'type': 'upper', 'indicator': 'adx3', 'barrier': 65}}}}\n",
      "Key in forward opt json 10-05 - max - order - 828\n"
     ]
    },
    {
     "name": "stderr",
     "output_type": "stream",
     "text": [
      "\r",
      " 27%|██▋       | 288/1050 [26:28<1:15:08,  5.92s/it]"
     ]
    },
    {
     "name": "stdout",
     "output_type": "stream",
     "text": [
      "10-05 - max - order\n",
      "{'mean': {'single': {'upper': {'indicator': 'ppo3', 'barrier': 1}, 'lower': {'indicator': 'stochastic3', 'barrier': 68}, 'best': {'type': 'upper', 'indicator': 'ppo3', 'barrier': 1}}}, 'order': {'single': {'upper': {'indicator': 'adx6', 'barrier': 51}, 'lower': {'indicator': 'ppo6', 'barrier': -1}, 'best': {'type': 'upper', 'indicator': 'adx6', 'barrier': 51}}}}\n",
      "Key in forward opt json 10-06 - 6-month - mean - 351\n"
     ]
    },
    {
     "name": "stderr",
     "output_type": "stream",
     "text": [
      "\r",
      " 28%|██▊       | 289/1050 [26:30<1:02:04,  4.89s/it]"
     ]
    },
    {
     "name": "stdout",
     "output_type": "stream",
     "text": [
      "10-06 - 6-month - mean\n",
      "{'mean': {'single': {'upper': {'indicator': 'ppo3', 'barrier': 0}, 'lower': {'indicator': 'ppo6', 'barrier': 25}, 'best': {'type': 'upper', 'indicator': 'ppo3', 'barrier': 0}}}, 'order': {'single': {'upper': {'indicator': 'stochastic3', 'barrier': 45}, 'lower': {'indicator': 'stochastic3', 'barrier': 13}, 'best': {'type': 'upper', 'indicator': 'stochastic3', 'barrier': 45}}}}\n",
      "Key in forward opt json 10-06 - 6-month - order - 106\n"
     ]
    },
    {
     "name": "stderr",
     "output_type": "stream",
     "text": [
      "\r",
      " 28%|██▊       | 290/1050 [26:31<46:45,  3.69s/it]  "
     ]
    },
    {
     "name": "stdout",
     "output_type": "stream",
     "text": [
      "10-06 - 6-month - order\n",
      "{'mean': {'single': {'upper': {'indicator': 'adx3', 'barrier': 45}, 'lower': {'indicator': 'ppo9', 'barrier': 13}, 'best': {'type': 'upper', 'indicator': 'adx3', 'barrier': 45}}}, 'order': {'single': {'upper': {'indicator': 'stochastic9', 'barrier': 25}, 'lower': {'indicator': 'ppo6', 'barrier': 12}, 'best': {'type': 'upper', 'indicator': 'stochastic9', 'barrier': 25}}}}\n",
      "Key in forward opt json 10-06 - 12-month - mean - 828\n"
     ]
    },
    {
     "name": "stderr",
     "output_type": "stream",
     "text": [
      "\r",
      " 28%|██▊       | 291/1050 [26:41<1:09:39,  5.51s/it]"
     ]
    },
    {
     "name": "stdout",
     "output_type": "stream",
     "text": [
      "10-06 - 12-month - mean\n",
      "{'mean': {'single': {'upper': {'indicator': 'ppo3', 'barrier': 1}, 'lower': {'indicator': 'stochastic3', 'barrier': 68}, 'best': {'type': 'upper', 'indicator': 'ppo3', 'barrier': 1}}}, 'order': {'single': {'upper': {'indicator': 'adx6', 'barrier': 51}, 'lower': {'indicator': 'ppo6', 'barrier': -1}, 'best': {'type': 'upper', 'indicator': 'adx6', 'barrier': 51}}}}\n",
      "Key in forward opt json 10-06 - 12-month - order - 828\n"
     ]
    },
    {
     "name": "stderr",
     "output_type": "stream",
     "text": [
      "\r",
      " 28%|██▊       | 292/1050 [26:51<1:25:08,  6.74s/it]"
     ]
    },
    {
     "name": "stdout",
     "output_type": "stream",
     "text": [
      "10-06 - 12-month - order\n",
      "{'mean': {'single': {'upper': {'indicator': 'ppo3', 'barrier': 1}, 'lower': {'indicator': 'stochastic3', 'barrier': 68}, 'best': {'type': 'upper', 'indicator': 'ppo3', 'barrier': 1}}}, 'order': {'single': {'upper': {'indicator': 'adx6', 'barrier': 51}, 'lower': {'indicator': 'ppo6', 'barrier': -1}, 'best': {'type': 'upper', 'indicator': 'adx6', 'barrier': 51}}}}\n",
      "Key in forward opt json 10-06 - max - mean - 73\n"
     ]
    },
    {
     "name": "stderr",
     "output_type": "stream",
     "text": [
      "\r",
      " 28%|██▊       | 293/1050 [26:51<1:02:19,  4.94s/it]"
     ]
    },
    {
     "name": "stdout",
     "output_type": "stream",
     "text": [
      "10-06 - max - mean\n",
      "{'mean': {'single': {'upper': {'indicator': 'adx3', 'barrier': 53}, 'lower': {'indicator': 'ppo3', 'barrier': 7}, 'best': {'type': 'upper', 'indicator': 'adx3', 'barrier': 53}}}, 'order': {'single': {'upper': {'indicator': 'adx3', 'barrier': 65}, 'lower': {'indicator': 'stochastic3', 'barrier': 7}, 'best': {'type': 'upper', 'indicator': 'adx3', 'barrier': 65}}}}\n",
      "Key in forward opt json 10-06 - max - order - 828\n"
     ]
    },
    {
     "name": "stderr",
     "output_type": "stream",
     "text": [
      "\r",
      " 28%|██▊       | 294/1050 [27:01<1:19:51,  6.34s/it]"
     ]
    },
    {
     "name": "stdout",
     "output_type": "stream",
     "text": [
      "10-06 - max - order\n",
      "{'mean': {'single': {'upper': {'indicator': 'ppo3', 'barrier': 1}, 'lower': {'indicator': 'stochastic3', 'barrier': 68}, 'best': {'type': 'upper', 'indicator': 'ppo3', 'barrier': 1}}}, 'order': {'single': {'upper': {'indicator': 'adx6', 'barrier': 51}, 'lower': {'indicator': 'ppo6', 'barrier': -1}, 'best': {'type': 'upper', 'indicator': 'adx6', 'barrier': 51}}}}\n",
      "Key in forward opt json 10-07 - 6-month - mean - 351\n"
     ]
    },
    {
     "name": "stderr",
     "output_type": "stream",
     "text": [
      "\r",
      " 28%|██▊       | 295/1050 [27:03<1:05:16,  5.19s/it]"
     ]
    },
    {
     "name": "stdout",
     "output_type": "stream",
     "text": [
      "10-07 - 6-month - mean\n",
      "{'mean': {'single': {'upper': {'indicator': 'ppo3', 'barrier': 0}, 'lower': {'indicator': 'ppo6', 'barrier': 25}, 'best': {'type': 'upper', 'indicator': 'ppo3', 'barrier': 0}}}, 'order': {'single': {'upper': {'indicator': 'stochastic3', 'barrier': 45}, 'lower': {'indicator': 'stochastic3', 'barrier': 13}, 'best': {'type': 'upper', 'indicator': 'stochastic3', 'barrier': 45}}}}\n",
      "Key in forward opt json 10-07 - 6-month - order - 94\n"
     ]
    },
    {
     "name": "stderr",
     "output_type": "stream",
     "text": [
      "\r",
      " 28%|██▊       | 296/1050 [27:04<48:38,  3.87s/it]  "
     ]
    },
    {
     "name": "stdout",
     "output_type": "stream",
     "text": [
      "10-07 - 6-month - order\n",
      "{'mean': {'single': {'upper': {'indicator': 'adx3', 'barrier': 49}, 'lower': {'indicator': 'ppo6', 'barrier': 11}, 'best': {'type': 'upper', 'indicator': 'adx3', 'barrier': 49}}}, 'order': {'single': {'upper': {'indicator': 'adx6', 'barrier': 58}, 'lower': {'indicator': 'stochastic3', 'barrier': 7}, 'best': {'type': 'upper', 'indicator': 'adx6', 'barrier': 58}}}}\n",
      "Key in forward opt json 10-07 - 12-month - mean - 828\n"
     ]
    },
    {
     "name": "stderr",
     "output_type": "stream",
     "text": [
      "\r",
      " 28%|██▊       | 297/1050 [27:14<1:09:48,  5.56s/it]"
     ]
    },
    {
     "name": "stdout",
     "output_type": "stream",
     "text": [
      "10-07 - 12-month - mean\n",
      "{'mean': {'single': {'upper': {'indicator': 'ppo3', 'barrier': 1}, 'lower': {'indicator': 'stochastic3', 'barrier': 68}, 'best': {'type': 'upper', 'indicator': 'ppo3', 'barrier': 1}}}, 'order': {'single': {'upper': {'indicator': 'adx6', 'barrier': 51}, 'lower': {'indicator': 'ppo6', 'barrier': -1}, 'best': {'type': 'upper', 'indicator': 'adx6', 'barrier': 51}}}}\n",
      "Key in forward opt json 10-07 - 12-month - order - 828\n"
     ]
    },
    {
     "name": "stderr",
     "output_type": "stream",
     "text": [
      "\r",
      " 28%|██▊       | 298/1050 [27:23<1:24:32,  6.74s/it]"
     ]
    },
    {
     "name": "stdout",
     "output_type": "stream",
     "text": [
      "10-07 - 12-month - order\n",
      "{'mean': {'single': {'upper': {'indicator': 'ppo3', 'barrier': 1}, 'lower': {'indicator': 'stochastic3', 'barrier': 68}, 'best': {'type': 'upper', 'indicator': 'ppo3', 'barrier': 1}}}, 'order': {'single': {'upper': {'indicator': 'adx6', 'barrier': 51}, 'lower': {'indicator': 'ppo6', 'barrier': -1}, 'best': {'type': 'upper', 'indicator': 'adx6', 'barrier': 51}}}}\n",
      "Key in forward opt json 10-07 - max - mean - 73\n"
     ]
    },
    {
     "name": "stderr",
     "output_type": "stream",
     "text": [
      "\r",
      " 28%|██▊       | 299/1050 [27:24<1:01:45,  4.93s/it]"
     ]
    },
    {
     "name": "stdout",
     "output_type": "stream",
     "text": [
      "10-07 - max - mean\n",
      "{'mean': {'single': {'upper': {'indicator': 'adx3', 'barrier': 53}, 'lower': {'indicator': 'ppo3', 'barrier': 7}, 'best': {'type': 'upper', 'indicator': 'adx3', 'barrier': 53}}}, 'order': {'single': {'upper': {'indicator': 'adx3', 'barrier': 65}, 'lower': {'indicator': 'stochastic3', 'barrier': 7}, 'best': {'type': 'upper', 'indicator': 'adx3', 'barrier': 65}}}}\n",
      "Key in forward opt json 10-07 - max - order - 828\n"
     ]
    },
    {
     "name": "stderr",
     "output_type": "stream",
     "text": [
      "\r",
      " 29%|██▊       | 300/1050 [27:33<1:18:43,  6.30s/it]"
     ]
    },
    {
     "name": "stdout",
     "output_type": "stream",
     "text": [
      "10-07 - max - order\n",
      "{'mean': {'single': {'upper': {'indicator': 'ppo3', 'barrier': 1}, 'lower': {'indicator': 'stochastic3', 'barrier': 68}, 'best': {'type': 'upper', 'indicator': 'ppo3', 'barrier': 1}}}, 'order': {'single': {'upper': {'indicator': 'adx6', 'barrier': 51}, 'lower': {'indicator': 'ppo6', 'barrier': -1}, 'best': {'type': 'upper', 'indicator': 'adx6', 'barrier': 51}}}}\n",
      "Key in forward opt json 10-08 - 6-month - mean - 106\n"
     ]
    },
    {
     "name": "stderr",
     "output_type": "stream",
     "text": [
      "\r",
      " 29%|██▊       | 301/1050 [27:34<58:14,  4.67s/it]  "
     ]
    },
    {
     "name": "stdout",
     "output_type": "stream",
     "text": [
      "10-08 - 6-month - mean\n",
      "{'mean': {'single': {'upper': {'indicator': 'adx3', 'barrier': 45}, 'lower': {'indicator': 'ppo9', 'barrier': 13}, 'best': {'type': 'upper', 'indicator': 'adx3', 'barrier': 45}}}, 'order': {'single': {'upper': {'indicator': 'stochastic9', 'barrier': 25}, 'lower': {'indicator': 'ppo6', 'barrier': 12}, 'best': {'type': 'upper', 'indicator': 'stochastic9', 'barrier': 25}}}}\n",
      "Key in forward opt json 10-08 - 6-month - order - 106\n"
     ]
    },
    {
     "name": "stderr",
     "output_type": "stream",
     "text": [
      "\r",
      " 29%|██▉       | 302/1050 [27:35<43:55,  3.52s/it]"
     ]
    },
    {
     "name": "stdout",
     "output_type": "stream",
     "text": [
      "10-08 - 6-month - order\n",
      "{'mean': {'single': {'upper': {'indicator': 'ppo3', 'barrier': 3}, 'lower': {'indicator': 'ppo3', 'barrier': 9}, 'best': {'type': 'upper', 'indicator': 'ppo3', 'barrier': 3}}}, 'order': {'single': {'upper': {'indicator': 'adx3', 'barrier': 67}, 'lower': {'indicator': 'stochastic3', 'barrier': 7}, 'best': {'type': 'upper', 'indicator': 'adx3', 'barrier': 67}}}}\n",
      "Key in forward opt json 10-08 - 12-month - mean - 828\n"
     ]
    },
    {
     "name": "stderr",
     "output_type": "stream",
     "text": [
      "\r",
      " 29%|██▉       | 303/1050 [27:45<1:05:53,  5.29s/it]"
     ]
    },
    {
     "name": "stdout",
     "output_type": "stream",
     "text": [
      "10-08 - 12-month - mean\n",
      "{'mean': {'single': {'upper': {'indicator': 'ppo3', 'barrier': 1}, 'lower': {'indicator': 'stochastic3', 'barrier': 68}, 'best': {'type': 'upper', 'indicator': 'ppo3', 'barrier': 1}}}, 'order': {'single': {'upper': {'indicator': 'adx6', 'barrier': 51}, 'lower': {'indicator': 'ppo6', 'barrier': -1}, 'best': {'type': 'upper', 'indicator': 'adx6', 'barrier': 51}}}}\n",
      "Key in forward opt json 10-08 - 12-month - order - 264\n"
     ]
    },
    {
     "name": "stderr",
     "output_type": "stream",
     "text": [
      "\r",
      " 29%|██▉       | 304/1050 [27:46<50:48,  4.09s/it]  "
     ]
    },
    {
     "name": "stdout",
     "output_type": "stream",
     "text": [
      "10-08 - 12-month - order\n",
      "{'mean': {'single': {'upper': {'indicator': 'adx3', 'barrier': 36}, 'lower': {'indicator': 'ppo9', 'barrier': 14}, 'best': {'type': 'upper', 'indicator': 'adx3', 'barrier': 36}}}, 'order': {'single': {'upper': {'indicator': 'stochastic3', 'barrier': 41}, 'lower': {'indicator': 'adx6', 'barrier': 38}, 'best': {'type': 'upper', 'indicator': 'stochastic3', 'barrier': 41}}}}\n",
      "Key in forward opt json 10-08 - max - mean - 73\n"
     ]
    },
    {
     "name": "stderr",
     "output_type": "stream",
     "text": [
      "\r",
      " 29%|██▉       | 305/1050 [27:46<38:07,  3.07s/it]"
     ]
    },
    {
     "name": "stdout",
     "output_type": "stream",
     "text": [
      "10-08 - max - mean\n",
      "{'mean': {'single': {'upper': {'indicator': 'adx3', 'barrier': 53}, 'lower': {'indicator': 'ppo3', 'barrier': 7}, 'best': {'type': 'upper', 'indicator': 'adx3', 'barrier': 53}}}, 'order': {'single': {'upper': {'indicator': 'adx3', 'barrier': 65}, 'lower': {'indicator': 'stochastic3', 'barrier': 7}, 'best': {'type': 'upper', 'indicator': 'adx3', 'barrier': 65}}}}\n",
      "Key in forward opt json 10-08 - max - order - 828\n"
     ]
    },
    {
     "name": "stderr",
     "output_type": "stream",
     "text": [
      "\r",
      " 29%|██▉       | 306/1050 [27:55<58:33,  4.72s/it]"
     ]
    },
    {
     "name": "stdout",
     "output_type": "stream",
     "text": [
      "10-08 - max - order\n",
      "{'mean': {'single': {'upper': {'indicator': 'ppo3', 'barrier': 1}, 'lower': {'indicator': 'stochastic3', 'barrier': 68}, 'best': {'type': 'upper', 'indicator': 'ppo3', 'barrier': 1}}}, 'order': {'single': {'upper': {'indicator': 'adx6', 'barrier': 51}, 'lower': {'indicator': 'ppo6', 'barrier': -1}, 'best': {'type': 'upper', 'indicator': 'adx6', 'barrier': 51}}}}\n",
      "Key in forward opt json 10-09 - 6-month - mean - 106\n"
     ]
    },
    {
     "name": "stderr",
     "output_type": "stream",
     "text": [
      "\r",
      " 29%|██▉       | 307/1050 [27:56<44:01,  3.55s/it]"
     ]
    },
    {
     "name": "stdout",
     "output_type": "stream",
     "text": [
      "10-09 - 6-month - mean\n",
      "{'mean': {'single': {'upper': {'indicator': 'adx3', 'barrier': 45}, 'lower': {'indicator': 'ppo9', 'barrier': 13}, 'best': {'type': 'upper', 'indicator': 'adx3', 'barrier': 45}}}, 'order': {'single': {'upper': {'indicator': 'stochastic9', 'barrier': 25}, 'lower': {'indicator': 'ppo6', 'barrier': 12}, 'best': {'type': 'upper', 'indicator': 'stochastic9', 'barrier': 25}}}}\n",
      "Key in forward opt json 10-09 - 6-month - order - 770\n"
     ]
    },
    {
     "name": "stderr",
     "output_type": "stream",
     "text": [
      "\r",
      " 29%|██▉       | 308/1050 [28:04<59:39,  4.82s/it]"
     ]
    },
    {
     "name": "stdout",
     "output_type": "stream",
     "text": [
      "10-09 - 6-month - order\n",
      "{'mean': {'single': {'upper': {'indicator': 'stochastic9', 'barrier': 31}, 'lower': {'indicator': 'stochastic3', 'barrier': 68}, 'best': {'type': 'upper', 'indicator': 'stochastic9', 'barrier': 31}}}, 'order': {'single': {'upper': {'indicator': 'adx3', 'barrier': 71}, 'lower': {'indicator': 'ppo9', 'barrier': 2}, 'best': {'type': 'upper', 'indicator': 'adx3', 'barrier': 71}}}}\n",
      "Key in forward opt json 10-09 - 12-month - mean - 264\n"
     ]
    },
    {
     "name": "stderr",
     "output_type": "stream",
     "text": [
      "\r",
      " 29%|██▉       | 309/1050 [28:05<46:11,  3.74s/it]"
     ]
    },
    {
     "name": "stdout",
     "output_type": "stream",
     "text": [
      "10-09 - 12-month - mean\n",
      "{'mean': {'single': {'upper': {'indicator': 'adx3', 'barrier': 36}, 'lower': {'indicator': 'ppo9', 'barrier': 14}, 'best': {'type': 'upper', 'indicator': 'adx3', 'barrier': 36}}}, 'order': {'single': {'upper': {'indicator': 'stochastic3', 'barrier': 41}, 'lower': {'indicator': 'adx6', 'barrier': 38}, 'best': {'type': 'upper', 'indicator': 'stochastic3', 'barrier': 41}}}}\n",
      "Key in forward opt json 10-09 - 12-month - order - 264\n"
     ]
    },
    {
     "name": "stderr",
     "output_type": "stream",
     "text": [
      "\r",
      " 30%|██▉       | 310/1050 [28:06<36:48,  2.98s/it]"
     ]
    },
    {
     "name": "stdout",
     "output_type": "stream",
     "text": [
      "10-09 - 12-month - order\n",
      "{'mean': {'single': {'upper': {'indicator': 'adx3', 'barrier': 36}, 'lower': {'indicator': 'ppo9', 'barrier': 14}, 'best': {'type': 'upper', 'indicator': 'adx3', 'barrier': 36}}}, 'order': {'single': {'upper': {'indicator': 'stochastic3', 'barrier': 41}, 'lower': {'indicator': 'adx6', 'barrier': 38}, 'best': {'type': 'upper', 'indicator': 'stochastic3', 'barrier': 41}}}}\n",
      "Key in forward opt json 10-09 - max - mean - 73\n"
     ]
    },
    {
     "name": "stderr",
     "output_type": "stream",
     "text": [
      "\r",
      " 30%|██▉       | 311/1050 [28:07<28:16,  2.30s/it]"
     ]
    },
    {
     "name": "stdout",
     "output_type": "stream",
     "text": [
      "10-09 - max - mean\n",
      "{'mean': {'single': {'upper': {'indicator': 'adx3', 'barrier': 53}, 'lower': {'indicator': 'ppo3', 'barrier': 7}, 'best': {'type': 'upper', 'indicator': 'adx3', 'barrier': 53}}}, 'order': {'single': {'upper': {'indicator': 'adx3', 'barrier': 65}, 'lower': {'indicator': 'stochastic3', 'barrier': 7}, 'best': {'type': 'upper', 'indicator': 'adx3', 'barrier': 65}}}}\n",
      "Key in forward opt json 10-09 - max - order - 828\n"
     ]
    },
    {
     "name": "stderr",
     "output_type": "stream",
     "text": [
      "\r",
      " 30%|██▉       | 312/1050 [28:15<51:26,  4.18s/it]"
     ]
    },
    {
     "name": "stdout",
     "output_type": "stream",
     "text": [
      "10-09 - max - order\n",
      "{'mean': {'single': {'upper': {'indicator': 'ppo3', 'barrier': 1}, 'lower': {'indicator': 'stochastic3', 'barrier': 68}, 'best': {'type': 'upper', 'indicator': 'ppo3', 'barrier': 1}}}, 'order': {'single': {'upper': {'indicator': 'adx6', 'barrier': 51}, 'lower': {'indicator': 'ppo6', 'barrier': -1}, 'best': {'type': 'upper', 'indicator': 'adx6', 'barrier': 51}}}}\n",
      "Key in forward opt json 10-10 - 6-month - mean - 106\n"
     ]
    },
    {
     "name": "stderr",
     "output_type": "stream",
     "text": [
      "\r",
      " 30%|██▉       | 313/1050 [28:16<39:01,  3.18s/it]"
     ]
    },
    {
     "name": "stdout",
     "output_type": "stream",
     "text": [
      "10-10 - 6-month - mean\n",
      "{'mean': {'single': {'upper': {'indicator': 'adx3', 'barrier': 45}, 'lower': {'indicator': 'ppo9', 'barrier': 13}, 'best': {'type': 'upper', 'indicator': 'adx3', 'barrier': 45}}}, 'order': {'single': {'upper': {'indicator': 'stochastic9', 'barrier': 25}, 'lower': {'indicator': 'ppo6', 'barrier': 12}, 'best': {'type': 'upper', 'indicator': 'stochastic9', 'barrier': 25}}}}\n",
      "Key in forward opt json 10-10 - 6-month - order - 770\n"
     ]
    },
    {
     "name": "stderr",
     "output_type": "stream",
     "text": [
      "\r",
      " 30%|██▉       | 314/1050 [28:24<55:46,  4.55s/it]"
     ]
    },
    {
     "name": "stdout",
     "output_type": "stream",
     "text": [
      "10-10 - 6-month - order\n",
      "{'mean': {'single': {'upper': {'indicator': 'stochastic9', 'barrier': 31}, 'lower': {'indicator': 'stochastic3', 'barrier': 68}, 'best': {'type': 'upper', 'indicator': 'stochastic9', 'barrier': 31}}}, 'order': {'single': {'upper': {'indicator': 'adx3', 'barrier': 71}, 'lower': {'indicator': 'ppo9', 'barrier': 2}, 'best': {'type': 'upper', 'indicator': 'adx3', 'barrier': 71}}}}\n",
      "Key in forward opt json 10-10 - 12-month - mean - 264\n"
     ]
    },
    {
     "name": "stderr",
     "output_type": "stream",
     "text": [
      "\r",
      " 30%|███       | 315/1050 [28:25<43:44,  3.57s/it]"
     ]
    },
    {
     "name": "stdout",
     "output_type": "stream",
     "text": [
      "10-10 - 12-month - mean\n",
      "{'mean': {'single': {'upper': {'indicator': 'adx3', 'barrier': 36}, 'lower': {'indicator': 'ppo9', 'barrier': 14}, 'best': {'type': 'upper', 'indicator': 'adx3', 'barrier': 36}}}, 'order': {'single': {'upper': {'indicator': 'stochastic3', 'barrier': 41}, 'lower': {'indicator': 'adx6', 'barrier': 38}, 'best': {'type': 'upper', 'indicator': 'stochastic3', 'barrier': 41}}}}\n",
      "Key in forward opt json 10-10 - 12-month - order - 264\n"
     ]
    },
    {
     "name": "stderr",
     "output_type": "stream",
     "text": [
      "\r",
      " 30%|███       | 316/1050 [28:26<35:07,  2.87s/it]"
     ]
    },
    {
     "name": "stdout",
     "output_type": "stream",
     "text": [
      "10-10 - 12-month - order\n",
      "{'mean': {'single': {'upper': {'indicator': 'adx3', 'barrier': 36}, 'lower': {'indicator': 'ppo9', 'barrier': 14}, 'best': {'type': 'upper', 'indicator': 'adx3', 'barrier': 36}}}, 'order': {'single': {'upper': {'indicator': 'stochastic3', 'barrier': 41}, 'lower': {'indicator': 'adx6', 'barrier': 38}, 'best': {'type': 'upper', 'indicator': 'stochastic3', 'barrier': 41}}}}\n",
      "Key in forward opt json 10-10 - max - mean - 73\n"
     ]
    },
    {
     "name": "stderr",
     "output_type": "stream",
     "text": [
      "\r",
      " 30%|███       | 317/1050 [28:27<27:06,  2.22s/it]"
     ]
    },
    {
     "name": "stdout",
     "output_type": "stream",
     "text": [
      "10-10 - max - mean\n",
      "{'mean': {'single': {'upper': {'indicator': 'adx3', 'barrier': 53}, 'lower': {'indicator': 'ppo3', 'barrier': 7}, 'best': {'type': 'upper', 'indicator': 'adx3', 'barrier': 53}}}, 'order': {'single': {'upper': {'indicator': 'adx3', 'barrier': 65}, 'lower': {'indicator': 'stochastic3', 'barrier': 7}, 'best': {'type': 'upper', 'indicator': 'adx3', 'barrier': 65}}}}\n",
      "Key in forward opt json 10-10 - max - order - 828\n"
     ]
    },
    {
     "name": "stderr",
     "output_type": "stream",
     "text": [
      "\r",
      " 30%|███       | 318/1050 [28:36<52:25,  4.30s/it]"
     ]
    },
    {
     "name": "stdout",
     "output_type": "stream",
     "text": [
      "10-10 - max - order\n",
      "{'mean': {'single': {'upper': {'indicator': 'ppo3', 'barrier': 1}, 'lower': {'indicator': 'stochastic3', 'barrier': 68}, 'best': {'type': 'upper', 'indicator': 'ppo3', 'barrier': 1}}}, 'order': {'single': {'upper': {'indicator': 'adx6', 'barrier': 51}, 'lower': {'indicator': 'ppo6', 'barrier': -1}, 'best': {'type': 'upper', 'indicator': 'adx6', 'barrier': 51}}}}\n",
      "Key in forward opt json 10-11 - 6-month - mean - 771\n"
     ]
    },
    {
     "name": "stderr",
     "output_type": "stream",
     "text": [
      "\r",
      " 30%|███       | 319/1050 [28:46<1:11:05,  5.84s/it]"
     ]
    },
    {
     "name": "stdout",
     "output_type": "stream",
     "text": [
      "10-11 - 6-month - mean\n",
      "{'mean': {'single': {'upper': {'indicator': 'stochastic9', 'barrier': 29}, 'lower': {'indicator': 'stochastic3', 'barrier': 70}, 'best': {'type': 'upper', 'indicator': 'stochastic9', 'barrier': 29}}}, 'order': {'single': {'upper': {'indicator': 'ppo9', 'barrier': 10}, 'lower': {'indicator': 'adx6', 'barrier': 23}, 'best': {'type': 'upper', 'indicator': 'ppo9', 'barrier': 10}}}}\n",
      "Key in forward opt json 10-11 - 6-month - order - 770\n"
     ]
    },
    {
     "name": "stderr",
     "output_type": "stream",
     "text": [
      "\r",
      " 30%|███       | 320/1050 [28:56<1:26:01,  7.07s/it]"
     ]
    },
    {
     "name": "stdout",
     "output_type": "stream",
     "text": [
      "10-11 - 6-month - order\n",
      "{'mean': {'single': {'upper': {'indicator': 'stochastic9', 'barrier': 31}, 'lower': {'indicator': 'stochastic3', 'barrier': 68}, 'best': {'type': 'upper', 'indicator': 'stochastic9', 'barrier': 31}}}, 'order': {'single': {'upper': {'indicator': 'adx3', 'barrier': 71}, 'lower': {'indicator': 'ppo9', 'barrier': 2}, 'best': {'type': 'upper', 'indicator': 'adx3', 'barrier': 71}}}}\n",
      "Key in forward opt json 10-11 - 12-month - mean - 351\n"
     ]
    },
    {
     "name": "stderr",
     "output_type": "stream",
     "text": [
      "\r",
      " 31%|███       | 321/1050 [28:59<1:11:04,  5.85s/it]"
     ]
    },
    {
     "name": "stdout",
     "output_type": "stream",
     "text": [
      "10-11 - 12-month - mean\n",
      "{'mean': {'single': {'upper': {'indicator': 'ppo3', 'barrier': 0}, 'lower': {'indicator': 'ppo6', 'barrier': 25}, 'best': {'type': 'upper', 'indicator': 'ppo3', 'barrier': 0}}}, 'order': {'single': {'upper': {'indicator': 'stochastic3', 'barrier': 45}, 'lower': {'indicator': 'stochastic3', 'barrier': 13}, 'best': {'type': 'upper', 'indicator': 'stochastic3', 'barrier': 45}}}}\n",
      "Key in forward opt json 10-11 - 12-month - order - 295\n"
     ]
    },
    {
     "name": "stderr",
     "output_type": "stream",
     "text": [
      "\r",
      " 31%|███       | 322/1050 [29:01<56:49,  4.68s/it]  "
     ]
    },
    {
     "name": "stdout",
     "output_type": "stream",
     "text": [
      "10-11 - 12-month - order\n",
      "{'mean': {'single': {'upper': {'indicator': 'stochastic9', 'barrier': 14}, 'lower': {'indicator': 'ppo9', 'barrier': 18}, 'best': {'type': 'upper', 'indicator': 'stochastic9', 'barrier': 14}}}, 'order': {'single': {'upper': {'indicator': 'stochastic6', 'barrier': 54}, 'lower': {'indicator': 'stochastic9', 'barrier': 10}, 'best': {'type': 'upper', 'indicator': 'stochastic6', 'barrier': 54}}}}\n",
      "Key in forward opt json 10-11 - max - mean - 73\n"
     ]
    },
    {
     "name": "stderr",
     "output_type": "stream",
     "text": [
      "\r",
      " 31%|███       | 323/1050 [29:02<43:01,  3.55s/it]"
     ]
    },
    {
     "name": "stdout",
     "output_type": "stream",
     "text": [
      "10-11 - max - mean\n",
      "{'mean': {'single': {'upper': {'indicator': 'adx3', 'barrier': 53}, 'lower': {'indicator': 'ppo3', 'barrier': 7}, 'best': {'type': 'upper', 'indicator': 'adx3', 'barrier': 53}}}, 'order': {'single': {'upper': {'indicator': 'adx3', 'barrier': 65}, 'lower': {'indicator': 'stochastic3', 'barrier': 7}, 'best': {'type': 'upper', 'indicator': 'adx3', 'barrier': 65}}}}\n",
      "Key in forward opt json 10-11 - max - order - 828\n"
     ]
    },
    {
     "name": "stderr",
     "output_type": "stream",
     "text": [
      "\r",
      " 31%|███       | 324/1050 [29:12<1:08:53,  5.69s/it]"
     ]
    },
    {
     "name": "stdout",
     "output_type": "stream",
     "text": [
      "10-11 - max - order\n",
      "{'mean': {'single': {'upper': {'indicator': 'ppo3', 'barrier': 1}, 'lower': {'indicator': 'stochastic3', 'barrier': 68}, 'best': {'type': 'upper', 'indicator': 'ppo3', 'barrier': 1}}}, 'order': {'single': {'upper': {'indicator': 'adx6', 'barrier': 51}, 'lower': {'indicator': 'ppo6', 'barrier': -1}, 'best': {'type': 'upper', 'indicator': 'adx6', 'barrier': 51}}}}\n",
      "Key in forward opt json 10-12 - 6-month - mean - 770\n"
     ]
    },
    {
     "name": "stderr",
     "output_type": "stream",
     "text": [
      "\r",
      " 31%|███       | 325/1050 [29:20<1:16:53,  6.36s/it]"
     ]
    },
    {
     "name": "stdout",
     "output_type": "stream",
     "text": [
      "10-12 - 6-month - mean\n",
      "{'mean': {'single': {'upper': {'indicator': 'stochastic9', 'barrier': 31}, 'lower': {'indicator': 'stochastic3', 'barrier': 68}, 'best': {'type': 'upper', 'indicator': 'stochastic9', 'barrier': 31}}}, 'order': {'single': {'upper': {'indicator': 'adx3', 'barrier': 71}, 'lower': {'indicator': 'ppo9', 'barrier': 2}, 'best': {'type': 'upper', 'indicator': 'adx3', 'barrier': 71}}}}\n",
      "Key in forward opt json 10-12 - 6-month - order - 770\n"
     ]
    },
    {
     "name": "stderr",
     "output_type": "stream",
     "text": [
      "\r",
      " 31%|███       | 326/1050 [29:28<1:21:42,  6.77s/it]"
     ]
    },
    {
     "name": "stdout",
     "output_type": "stream",
     "text": [
      "10-12 - 6-month - order\n",
      "{'mean': {'single': {'upper': {'indicator': 'stochastic9', 'barrier': 31}, 'lower': {'indicator': 'stochastic3', 'barrier': 68}, 'best': {'type': 'upper', 'indicator': 'stochastic9', 'barrier': 31}}}, 'order': {'single': {'upper': {'indicator': 'adx3', 'barrier': 71}, 'lower': {'indicator': 'ppo9', 'barrier': 2}, 'best': {'type': 'upper', 'indicator': 'adx3', 'barrier': 71}}}}\n",
      "Key in forward opt json 10-12 - 12-month - mean - 264\n"
     ]
    },
    {
     "name": "stderr",
     "output_type": "stream",
     "text": [
      "\r",
      " 31%|███       | 327/1050 [29:29<1:01:38,  5.12s/it]"
     ]
    },
    {
     "name": "stdout",
     "output_type": "stream",
     "text": [
      "10-12 - 12-month - mean\n",
      "{'mean': {'single': {'upper': {'indicator': 'adx3', 'barrier': 36}, 'lower': {'indicator': 'ppo9', 'barrier': 14}, 'best': {'type': 'upper', 'indicator': 'adx3', 'barrier': 36}}}, 'order': {'single': {'upper': {'indicator': 'stochastic3', 'barrier': 41}, 'lower': {'indicator': 'adx6', 'barrier': 38}, 'best': {'type': 'upper', 'indicator': 'stochastic3', 'barrier': 41}}}}\n",
      "Key in forward opt json 10-12 - 12-month - order - 770\n"
     ]
    },
    {
     "name": "stderr",
     "output_type": "stream",
     "text": [
      "\r",
      " 31%|███       | 328/1050 [29:37<1:11:02,  5.90s/it]"
     ]
    },
    {
     "name": "stdout",
     "output_type": "stream",
     "text": [
      "10-12 - 12-month - order\n",
      "{'mean': {'single': {'upper': {'indicator': 'stochastic9', 'barrier': 31}, 'lower': {'indicator': 'stochastic3', 'barrier': 68}, 'best': {'type': 'upper', 'indicator': 'stochastic9', 'barrier': 31}}}, 'order': {'single': {'upper': {'indicator': 'adx3', 'barrier': 71}, 'lower': {'indicator': 'ppo9', 'barrier': 2}, 'best': {'type': 'upper', 'indicator': 'adx3', 'barrier': 71}}}}\n",
      "Key in forward opt json 10-12 - max - mean - 73\n"
     ]
    },
    {
     "name": "stderr",
     "output_type": "stream",
     "text": [
      "\r",
      " 31%|███▏      | 329/1050 [29:38<52:11,  4.34s/it]  "
     ]
    },
    {
     "name": "stdout",
     "output_type": "stream",
     "text": [
      "10-12 - max - mean\n",
      "{'mean': {'single': {'upper': {'indicator': 'adx3', 'barrier': 53}, 'lower': {'indicator': 'ppo3', 'barrier': 7}, 'best': {'type': 'upper', 'indicator': 'adx3', 'barrier': 53}}}, 'order': {'single': {'upper': {'indicator': 'adx3', 'barrier': 65}, 'lower': {'indicator': 'stochastic3', 'barrier': 7}, 'best': {'type': 'upper', 'indicator': 'adx3', 'barrier': 65}}}}\n",
      "Key in forward opt json 10-12 - max - order - 828\n"
     ]
    },
    {
     "name": "stderr",
     "output_type": "stream",
     "text": [
      "\r",
      " 31%|███▏      | 330/1050 [29:47<1:08:56,  5.75s/it]"
     ]
    },
    {
     "name": "stdout",
     "output_type": "stream",
     "text": [
      "10-12 - max - order\n",
      "{'mean': {'single': {'upper': {'indicator': 'ppo3', 'barrier': 1}, 'lower': {'indicator': 'stochastic3', 'barrier': 68}, 'best': {'type': 'upper', 'indicator': 'ppo3', 'barrier': 1}}}, 'order': {'single': {'upper': {'indicator': 'adx6', 'barrier': 51}, 'lower': {'indicator': 'ppo6', 'barrier': -1}, 'best': {'type': 'upper', 'indicator': 'adx6', 'barrier': 51}}}}\n",
      "Key in forward opt json 11-01 - 6-month - mean - 770\n"
     ]
    },
    {
     "name": "stderr",
     "output_type": "stream",
     "text": [
      "\r",
      " 32%|███▏      | 331/1050 [29:55<1:17:47,  6.49s/it]"
     ]
    },
    {
     "name": "stdout",
     "output_type": "stream",
     "text": [
      "11-01 - 6-month - mean\n",
      "{'mean': {'single': {'upper': {'indicator': 'stochastic9', 'barrier': 31}, 'lower': {'indicator': 'stochastic3', 'barrier': 68}, 'best': {'type': 'upper', 'indicator': 'stochastic9', 'barrier': 31}}}, 'order': {'single': {'upper': {'indicator': 'adx3', 'barrier': 71}, 'lower': {'indicator': 'ppo9', 'barrier': 2}, 'best': {'type': 'upper', 'indicator': 'adx3', 'barrier': 71}}}}\n",
      "Key in forward opt json 11-01 - 6-month - order - 770\n"
     ]
    },
    {
     "name": "stderr",
     "output_type": "stream",
     "text": [
      "\r",
      " 32%|███▏      | 332/1050 [30:03<1:24:16,  7.04s/it]"
     ]
    },
    {
     "name": "stdout",
     "output_type": "stream",
     "text": [
      "11-01 - 6-month - order\n",
      "{'mean': {'single': {'upper': {'indicator': 'stochastic9', 'barrier': 31}, 'lower': {'indicator': 'stochastic3', 'barrier': 68}, 'best': {'type': 'upper', 'indicator': 'stochastic9', 'barrier': 31}}}, 'order': {'single': {'upper': {'indicator': 'adx3', 'barrier': 71}, 'lower': {'indicator': 'ppo9', 'barrier': 2}, 'best': {'type': 'upper', 'indicator': 'adx3', 'barrier': 71}}}}\n",
      "Key in forward opt json 11-01 - 12-month - mean - 264\n"
     ]
    },
    {
     "name": "stderr",
     "output_type": "stream",
     "text": [
      "\r",
      " 32%|███▏      | 333/1050 [30:04<1:03:24,  5.31s/it]"
     ]
    },
    {
     "name": "stdout",
     "output_type": "stream",
     "text": [
      "11-01 - 12-month - mean\n",
      "{'mean': {'single': {'upper': {'indicator': 'adx3', 'barrier': 36}, 'lower': {'indicator': 'ppo9', 'barrier': 14}, 'best': {'type': 'upper', 'indicator': 'adx3', 'barrier': 36}}}, 'order': {'single': {'upper': {'indicator': 'stochastic3', 'barrier': 41}, 'lower': {'indicator': 'adx6', 'barrier': 38}, 'best': {'type': 'upper', 'indicator': 'stochastic3', 'barrier': 41}}}}\n",
      "Key in forward opt json 11-01 - 12-month - order - 770\n"
     ]
    },
    {
     "name": "stderr",
     "output_type": "stream",
     "text": [
      "\r",
      " 32%|███▏      | 334/1050 [30:13<1:14:18,  6.23s/it]"
     ]
    },
    {
     "name": "stdout",
     "output_type": "stream",
     "text": [
      "11-01 - 12-month - order\n",
      "{'mean': {'single': {'upper': {'indicator': 'stochastic9', 'barrier': 31}, 'lower': {'indicator': 'stochastic3', 'barrier': 68}, 'best': {'type': 'upper', 'indicator': 'stochastic9', 'barrier': 31}}}, 'order': {'single': {'upper': {'indicator': 'adx3', 'barrier': 71}, 'lower': {'indicator': 'ppo9', 'barrier': 2}, 'best': {'type': 'upper', 'indicator': 'adx3', 'barrier': 71}}}}\n",
      "Key in forward opt json 11-01 - max - mean - 73\n"
     ]
    },
    {
     "name": "stderr",
     "output_type": "stream",
     "text": [
      "\r",
      " 32%|███▏      | 335/1050 [30:14<54:26,  4.57s/it]  "
     ]
    },
    {
     "name": "stdout",
     "output_type": "stream",
     "text": [
      "11-01 - max - mean\n",
      "{'mean': {'single': {'upper': {'indicator': 'adx3', 'barrier': 53}, 'lower': {'indicator': 'ppo3', 'barrier': 7}, 'best': {'type': 'upper', 'indicator': 'adx3', 'barrier': 53}}}, 'order': {'single': {'upper': {'indicator': 'adx3', 'barrier': 65}, 'lower': {'indicator': 'stochastic3', 'barrier': 7}, 'best': {'type': 'upper', 'indicator': 'adx3', 'barrier': 65}}}}\n",
      "Key in forward opt json 11-01 - max - order - 828\n"
     ]
    },
    {
     "name": "stderr",
     "output_type": "stream",
     "text": [
      "\r",
      " 32%|███▏      | 336/1050 [30:23<1:10:19,  5.91s/it]"
     ]
    },
    {
     "name": "stdout",
     "output_type": "stream",
     "text": [
      "11-01 - max - order\n",
      "{'mean': {'single': {'upper': {'indicator': 'ppo3', 'barrier': 1}, 'lower': {'indicator': 'stochastic3', 'barrier': 68}, 'best': {'type': 'upper', 'indicator': 'ppo3', 'barrier': 1}}}, 'order': {'single': {'upper': {'indicator': 'adx6', 'barrier': 51}, 'lower': {'indicator': 'ppo6', 'barrier': -1}, 'best': {'type': 'upper', 'indicator': 'adx6', 'barrier': 51}}}}\n",
      "Key in forward opt json 11-02 - 6-month - mean - 264\n"
     ]
    },
    {
     "name": "stderr",
     "output_type": "stream",
     "text": [
      "\r",
      " 32%|███▏      | 337/1050 [30:24<53:36,  4.51s/it]  "
     ]
    },
    {
     "name": "stdout",
     "output_type": "stream",
     "text": [
      "11-02 - 6-month - mean\n",
      "{'mean': {'single': {'upper': {'indicator': 'adx3', 'barrier': 36}, 'lower': {'indicator': 'ppo9', 'barrier': 14}, 'best': {'type': 'upper', 'indicator': 'adx3', 'barrier': 36}}}, 'order': {'single': {'upper': {'indicator': 'stochastic3', 'barrier': 41}, 'lower': {'indicator': 'adx6', 'barrier': 38}, 'best': {'type': 'upper', 'indicator': 'stochastic3', 'barrier': 41}}}}\n",
      "Key in forward opt json 11-02 - 6-month - order - 795\n"
     ]
    },
    {
     "name": "stderr",
     "output_type": "stream",
     "text": [
      "\r",
      " 32%|███▏      | 338/1050 [30:31<1:04:23,  5.43s/it]"
     ]
    },
    {
     "name": "stdout",
     "output_type": "stream",
     "text": [
      "11-02 - 6-month - order\n",
      "{'mean': {'single': {'upper': {'indicator': 'stochastic9', 'barrier': 21}, 'lower': {'indicator': 'stochastic3', 'barrier': 70}, 'best': {'type': 'upper', 'indicator': 'stochastic9', 'barrier': 21}}}, 'order': {'single': {'upper': {'indicator': 'adx6', 'barrier': 45}, 'lower': {'indicator': 'stochastic9', 'barrier': 25}, 'best': {'type': 'upper', 'indicator': 'adx6', 'barrier': 45}}}}\n",
      "Key in forward opt json 11-02 - 12-month - mean - 58\n"
     ]
    },
    {
     "name": "stderr",
     "output_type": "stream",
     "text": [
      "\r",
      " 32%|███▏      | 339/1050 [30:32<47:18,  3.99s/it]  "
     ]
    },
    {
     "name": "stdout",
     "output_type": "stream",
     "text": [
      "11-02 - 12-month - mean\n",
      "{'mean': {'single': {'upper': {'indicator': 'adx6', 'barrier': 36}, 'lower': {'indicator': 'ppo6', 'barrier': 8}, 'best': {'type': 'upper', 'indicator': 'adx6', 'barrier': 36}}}, 'order': {'single': {'upper': {'indicator': 'adx3', 'barrier': 65}, 'lower': {'indicator': 'adx9', 'barrier': 21}, 'best': {'type': 'upper', 'indicator': 'adx3', 'barrier': 65}}}}\n",
      "Key in forward opt json 11-02 - 12-month - order - 795\n"
     ]
    },
    {
     "name": "stderr",
     "output_type": "stream",
     "text": [
      "\r",
      " 32%|███▏      | 340/1050 [30:40<59:51,  5.06s/it]"
     ]
    },
    {
     "name": "stdout",
     "output_type": "stream",
     "text": [
      "11-02 - 12-month - order\n",
      "{'mean': {'single': {'upper': {'indicator': 'stochastic9', 'barrier': 21}, 'lower': {'indicator': 'stochastic3', 'barrier': 70}, 'best': {'type': 'upper', 'indicator': 'stochastic9', 'barrier': 21}}}, 'order': {'single': {'upper': {'indicator': 'adx6', 'barrier': 45}, 'lower': {'indicator': 'stochastic9', 'barrier': 25}, 'best': {'type': 'upper', 'indicator': 'adx6', 'barrier': 45}}}}\n",
      "Key in forward opt json 11-02 - max - mean - 73\n"
     ]
    },
    {
     "name": "stderr",
     "output_type": "stream",
     "text": [
      "\r",
      " 32%|███▏      | 341/1050 [30:40<44:20,  3.75s/it]"
     ]
    },
    {
     "name": "stdout",
     "output_type": "stream",
     "text": [
      "11-02 - max - mean\n",
      "{'mean': {'single': {'upper': {'indicator': 'adx3', 'barrier': 53}, 'lower': {'indicator': 'ppo3', 'barrier': 7}, 'best': {'type': 'upper', 'indicator': 'adx3', 'barrier': 53}}}, 'order': {'single': {'upper': {'indicator': 'adx3', 'barrier': 65}, 'lower': {'indicator': 'stochastic3', 'barrier': 7}, 'best': {'type': 'upper', 'indicator': 'adx3', 'barrier': 65}}}}\n",
      "Key in forward opt json 11-02 - max - order - 828\n"
     ]
    },
    {
     "name": "stderr",
     "output_type": "stream",
     "text": [
      "\r",
      " 33%|███▎      | 342/1050 [30:49<1:02:18,  5.28s/it]"
     ]
    },
    {
     "name": "stdout",
     "output_type": "stream",
     "text": [
      "11-02 - max - order\n",
      "{'mean': {'single': {'upper': {'indicator': 'ppo3', 'barrier': 1}, 'lower': {'indicator': 'stochastic3', 'barrier': 68}, 'best': {'type': 'upper', 'indicator': 'ppo3', 'barrier': 1}}}, 'order': {'single': {'upper': {'indicator': 'adx6', 'barrier': 51}, 'lower': {'indicator': 'ppo6', 'barrier': -1}, 'best': {'type': 'upper', 'indicator': 'adx6', 'barrier': 51}}}}\n",
      "Key in forward opt json 11-03 - 6-month - mean - 58\n"
     ]
    },
    {
     "name": "stderr",
     "output_type": "stream",
     "text": [
      "\r",
      " 33%|███▎      | 343/1050 [30:50<45:49,  3.89s/it]  "
     ]
    },
    {
     "name": "stdout",
     "output_type": "stream",
     "text": [
      "11-03 - 6-month - mean\n",
      "{'mean': {'single': {'upper': {'indicator': 'adx3', 'barrier': 53}, 'lower': {'indicator': 'ppo6', 'barrier': 8}, 'best': {'type': 'upper', 'indicator': 'adx3', 'barrier': 53}}}, 'order': {'single': {'upper': {'indicator': 'adx3', 'barrier': 65}, 'lower': {'indicator': 'stochastic3', 'barrier': 7}, 'best': {'type': 'upper', 'indicator': 'adx3', 'barrier': 65}}}}\n",
      "Key in forward opt json 11-03 - 6-month - order - 828\n"
     ]
    },
    {
     "name": "stderr",
     "output_type": "stream",
     "text": [
      "\r",
      " 33%|███▎      | 344/1050 [30:59<1:03:08,  5.37s/it]"
     ]
    },
    {
     "name": "stdout",
     "output_type": "stream",
     "text": [
      "11-03 - 6-month - order\n",
      "{'mean': {'single': {'upper': {'indicator': 'ppo3', 'barrier': 1}, 'lower': {'indicator': 'stochastic3', 'barrier': 68}, 'best': {'type': 'upper', 'indicator': 'ppo3', 'barrier': 1}}}, 'order': {'single': {'upper': {'indicator': 'adx6', 'barrier': 51}, 'lower': {'indicator': 'ppo6', 'barrier': -1}, 'best': {'type': 'upper', 'indicator': 'adx6', 'barrier': 51}}}}\n",
      "Key in forward opt json 11-03 - 12-month - mean - 58\n"
     ]
    },
    {
     "name": "stderr",
     "output_type": "stream",
     "text": [
      "\r",
      " 33%|███▎      | 345/1050 [30:59<46:24,  3.95s/it]  "
     ]
    },
    {
     "name": "stdout",
     "output_type": "stream",
     "text": [
      "11-03 - 12-month - mean\n",
      "{'mean': {'single': {'upper': {'indicator': 'adx3', 'barrier': 53}, 'lower': {'indicator': 'ppo6', 'barrier': 8}, 'best': {'type': 'upper', 'indicator': 'adx3', 'barrier': 53}}}, 'order': {'single': {'upper': {'indicator': 'adx3', 'barrier': 65}, 'lower': {'indicator': 'stochastic3', 'barrier': 7}, 'best': {'type': 'upper', 'indicator': 'adx3', 'barrier': 65}}}}\n",
      "Key in forward opt json 11-03 - 12-month - order - 842\n"
     ]
    },
    {
     "name": "stderr",
     "output_type": "stream",
     "text": [
      "\r",
      " 33%|███▎      | 346/1050 [31:10<1:09:01,  5.88s/it]"
     ]
    },
    {
     "name": "stdout",
     "output_type": "stream",
     "text": [
      "11-03 - 12-month - order\n",
      "{'mean': {'single': {'upper': {'indicator': 'ppo6', 'barrier': 0}, 'lower': {'indicator': 'ppo9', 'barrier': 17}, 'best': {'type': 'upper', 'indicator': 'ppo6', 'barrier': 0}}}, 'order': {'single': {'upper': {'indicator': 'stochastic3', 'barrier': 36}, 'lower': {'indicator': 'ppo9', 'barrier': 7}, 'best': {'type': 'upper', 'indicator': 'stochastic3', 'barrier': 36}}}}\n",
      "Key in forward opt json 11-03 - max - mean - 73\n"
     ]
    },
    {
     "name": "stderr",
     "output_type": "stream",
     "text": [
      "\r",
      " 33%|███▎      | 347/1050 [31:10<50:44,  4.33s/it]  "
     ]
    },
    {
     "name": "stdout",
     "output_type": "stream",
     "text": [
      "11-03 - max - mean\n",
      "{'mean': {'single': {'upper': {'indicator': 'adx3', 'barrier': 53}, 'lower': {'indicator': 'ppo3', 'barrier': 7}, 'best': {'type': 'upper', 'indicator': 'adx3', 'barrier': 53}}}, 'order': {'single': {'upper': {'indicator': 'adx3', 'barrier': 65}, 'lower': {'indicator': 'stochastic3', 'barrier': 7}, 'best': {'type': 'upper', 'indicator': 'adx3', 'barrier': 65}}}}\n",
      "Key in forward opt json 11-03 - max - order - 828\n"
     ]
    },
    {
     "name": "stderr",
     "output_type": "stream",
     "text": [
      "\r",
      " 33%|███▎      | 348/1050 [31:19<1:06:13,  5.66s/it]"
     ]
    },
    {
     "name": "stdout",
     "output_type": "stream",
     "text": [
      "11-03 - max - order\n",
      "{'mean': {'single': {'upper': {'indicator': 'ppo3', 'barrier': 1}, 'lower': {'indicator': 'stochastic3', 'barrier': 68}, 'best': {'type': 'upper', 'indicator': 'ppo3', 'barrier': 1}}}, 'order': {'single': {'upper': {'indicator': 'adx6', 'barrier': 51}, 'lower': {'indicator': 'ppo6', 'barrier': -1}, 'best': {'type': 'upper', 'indicator': 'adx6', 'barrier': 51}}}}\n",
      "Key in forward opt json 11-04 - 6-month - mean - 58\n"
     ]
    },
    {
     "name": "stderr",
     "output_type": "stream",
     "text": [
      "\r",
      " 33%|███▎      | 349/1050 [31:20<48:32,  4.16s/it]  "
     ]
    },
    {
     "name": "stdout",
     "output_type": "stream",
     "text": [
      "11-04 - 6-month - mean\n",
      "{'mean': {'single': {'upper': {'indicator': 'adx3', 'barrier': 53}, 'lower': {'indicator': 'ppo6', 'barrier': 8}, 'best': {'type': 'upper', 'indicator': 'adx3', 'barrier': 53}}}, 'order': {'single': {'upper': {'indicator': 'adx3', 'barrier': 65}, 'lower': {'indicator': 'stochastic3', 'barrier': 7}, 'best': {'type': 'upper', 'indicator': 'adx3', 'barrier': 65}}}}\n",
      "Key in forward opt json 11-04 - 6-month - order - 828\n"
     ]
    },
    {
     "name": "stderr",
     "output_type": "stream",
     "text": [
      "\r",
      " 33%|███▎      | 350/1050 [31:29<1:05:22,  5.60s/it]"
     ]
    },
    {
     "name": "stdout",
     "output_type": "stream",
     "text": [
      "11-04 - 6-month - order\n",
      "{'mean': {'single': {'upper': {'indicator': 'ppo3', 'barrier': 1}, 'lower': {'indicator': 'stochastic3', 'barrier': 68}, 'best': {'type': 'upper', 'indicator': 'ppo3', 'barrier': 1}}}, 'order': {'single': {'upper': {'indicator': 'adx6', 'barrier': 51}, 'lower': {'indicator': 'ppo6', 'barrier': -1}, 'best': {'type': 'upper', 'indicator': 'adx6', 'barrier': 51}}}}\n",
      "Key in forward opt json 11-04 - 12-month - mean - 794\n"
     ]
    },
    {
     "name": "stderr",
     "output_type": "stream",
     "text": [
      "\r",
      " 33%|███▎      | 351/1050 [31:36<1:12:34,  6.23s/it]"
     ]
    },
    {
     "name": "stdout",
     "output_type": "stream",
     "text": [
      "11-04 - 12-month - mean\n",
      "{'mean': {'single': {'upper': {'indicator': 'ppo3', 'barrier': 0}, 'lower': {'indicator': 'stochastic3', 'barrier': 68}, 'best': {'type': 'upper', 'indicator': 'ppo3', 'barrier': 0}}}, 'order': {'single': {'upper': {'indicator': 'ppo6', 'barrier': 6}, 'lower': {'indicator': 'stochastic3', 'barrier': 20}, 'best': {'type': 'upper', 'indicator': 'ppo6', 'barrier': 6}}}}\n",
      "Key in forward opt json 11-04 - 12-month - order - 842\n"
     ]
    },
    {
     "name": "stderr",
     "output_type": "stream",
     "text": [
      "\r",
      " 34%|███▎      | 352/1050 [31:48<1:32:56,  7.99s/it]"
     ]
    },
    {
     "name": "stdout",
     "output_type": "stream",
     "text": [
      "11-04 - 12-month - order\n",
      "{'mean': {'single': {'upper': {'indicator': 'ppo6', 'barrier': 0}, 'lower': {'indicator': 'ppo9', 'barrier': 17}, 'best': {'type': 'upper', 'indicator': 'ppo6', 'barrier': 0}}}, 'order': {'single': {'upper': {'indicator': 'stochastic3', 'barrier': 36}, 'lower': {'indicator': 'ppo9', 'barrier': 7}, 'best': {'type': 'upper', 'indicator': 'stochastic3', 'barrier': 36}}}}\n",
      "Key in forward opt json 11-04 - max - mean - 73\n"
     ]
    },
    {
     "name": "stderr",
     "output_type": "stream",
     "text": [
      "\r",
      " 34%|███▎      | 353/1050 [31:49<1:08:03,  5.86s/it]"
     ]
    },
    {
     "name": "stdout",
     "output_type": "stream",
     "text": [
      "11-04 - max - mean\n",
      "{'mean': {'single': {'upper': {'indicator': 'adx3', 'barrier': 53}, 'lower': {'indicator': 'ppo3', 'barrier': 7}, 'best': {'type': 'upper', 'indicator': 'adx3', 'barrier': 53}}}, 'order': {'single': {'upper': {'indicator': 'adx3', 'barrier': 65}, 'lower': {'indicator': 'stochastic3', 'barrier': 7}, 'best': {'type': 'upper', 'indicator': 'adx3', 'barrier': 65}}}}\n",
      "Key in forward opt json 11-04 - max - order - 828\n"
     ]
    },
    {
     "name": "stderr",
     "output_type": "stream",
     "text": [
      "\r",
      " 34%|███▎      | 354/1050 [32:00<1:25:29,  7.37s/it]"
     ]
    },
    {
     "name": "stdout",
     "output_type": "stream",
     "text": [
      "11-04 - max - order\n",
      "{'mean': {'single': {'upper': {'indicator': 'ppo3', 'barrier': 1}, 'lower': {'indicator': 'stochastic3', 'barrier': 68}, 'best': {'type': 'upper', 'indicator': 'ppo3', 'barrier': 1}}}, 'order': {'single': {'upper': {'indicator': 'adx6', 'barrier': 51}, 'lower': {'indicator': 'ppo6', 'barrier': -1}, 'best': {'type': 'upper', 'indicator': 'adx6', 'barrier': 51}}}}\n",
      "Key in forward opt json 11-05 - 6-month - mean - 58\n"
     ]
    },
    {
     "name": "stderr",
     "output_type": "stream",
     "text": [
      "\r",
      " 34%|███▍      | 355/1050 [32:01<1:02:21,  5.38s/it]"
     ]
    },
    {
     "name": "stdout",
     "output_type": "stream",
     "text": [
      "11-05 - 6-month - mean\n",
      "{'mean': {'single': {'upper': {'indicator': 'adx3', 'barrier': 53}, 'lower': {'indicator': 'ppo6', 'barrier': 8}, 'best': {'type': 'upper', 'indicator': 'adx3', 'barrier': 53}}}, 'order': {'single': {'upper': {'indicator': 'adx3', 'barrier': 65}, 'lower': {'indicator': 'stochastic3', 'barrier': 7}, 'best': {'type': 'upper', 'indicator': 'adx3', 'barrier': 65}}}}\n",
      "Key in forward opt json 11-05 - 6-month - order - 828\n"
     ]
    },
    {
     "name": "stderr",
     "output_type": "stream",
     "text": [
      "\r",
      " 34%|███▍      | 356/1050 [32:12<1:20:20,  6.95s/it]"
     ]
    },
    {
     "name": "stdout",
     "output_type": "stream",
     "text": [
      "11-05 - 6-month - order\n",
      "{'mean': {'single': {'upper': {'indicator': 'ppo3', 'barrier': 1}, 'lower': {'indicator': 'stochastic3', 'barrier': 68}, 'best': {'type': 'upper', 'indicator': 'ppo3', 'barrier': 1}}}, 'order': {'single': {'upper': {'indicator': 'adx6', 'barrier': 51}, 'lower': {'indicator': 'ppo6', 'barrier': -1}, 'best': {'type': 'upper', 'indicator': 'adx6', 'barrier': 51}}}}\n",
      "Key in forward opt json 11-05 - 12-month - mean - 794\n"
     ]
    },
    {
     "name": "stderr",
     "output_type": "stream",
     "text": [
      "\r",
      " 34%|███▍      | 357/1050 [32:19<1:23:08,  7.20s/it]"
     ]
    },
    {
     "name": "stdout",
     "output_type": "stream",
     "text": [
      "11-05 - 12-month - mean\n",
      "{'mean': {'single': {'upper': {'indicator': 'ppo3', 'barrier': 0}, 'lower': {'indicator': 'stochastic3', 'barrier': 68}, 'best': {'type': 'upper', 'indicator': 'ppo3', 'barrier': 0}}}, 'order': {'single': {'upper': {'indicator': 'ppo6', 'barrier': 6}, 'lower': {'indicator': 'stochastic3', 'barrier': 20}, 'best': {'type': 'upper', 'indicator': 'ppo6', 'barrier': 6}}}}\n",
      "Key in forward opt json 11-05 - 12-month - order - 842\n"
     ]
    },
    {
     "name": "stderr",
     "output_type": "stream",
     "text": [
      "\r",
      " 34%|███▍      | 358/1050 [32:30<1:33:12,  8.08s/it]"
     ]
    },
    {
     "name": "stdout",
     "output_type": "stream",
     "text": [
      "11-05 - 12-month - order\n",
      "{'mean': {'single': {'upper': {'indicator': 'ppo6', 'barrier': 0}, 'lower': {'indicator': 'ppo9', 'barrier': 17}, 'best': {'type': 'upper', 'indicator': 'ppo6', 'barrier': 0}}}, 'order': {'single': {'upper': {'indicator': 'stochastic3', 'barrier': 36}, 'lower': {'indicator': 'ppo9', 'barrier': 7}, 'best': {'type': 'upper', 'indicator': 'stochastic3', 'barrier': 36}}}}\n",
      "Key in forward opt json 11-05 - max - mean - 73\n"
     ]
    },
    {
     "name": "stderr",
     "output_type": "stream",
     "text": [
      "\r",
      " 34%|███▍      | 359/1050 [32:30<1:07:33,  5.87s/it]"
     ]
    },
    {
     "name": "stdout",
     "output_type": "stream",
     "text": [
      "11-05 - max - mean\n",
      "{'mean': {'single': {'upper': {'indicator': 'adx3', 'barrier': 53}, 'lower': {'indicator': 'ppo3', 'barrier': 7}, 'best': {'type': 'upper', 'indicator': 'adx3', 'barrier': 53}}}, 'order': {'single': {'upper': {'indicator': 'adx3', 'barrier': 65}, 'lower': {'indicator': 'stochastic3', 'barrier': 7}, 'best': {'type': 'upper', 'indicator': 'adx3', 'barrier': 65}}}}\n",
      "Key in forward opt json 11-05 - max - order - 828\n"
     ]
    },
    {
     "name": "stderr",
     "output_type": "stream",
     "text": [
      "\r",
      " 34%|███▍      | 360/1050 [32:39<1:16:46,  6.68s/it]"
     ]
    },
    {
     "name": "stdout",
     "output_type": "stream",
     "text": [
      "11-05 - max - order\n",
      "{'mean': {'single': {'upper': {'indicator': 'ppo3', 'barrier': 1}, 'lower': {'indicator': 'stochastic3', 'barrier': 68}, 'best': {'type': 'upper', 'indicator': 'ppo3', 'barrier': 1}}}, 'order': {'single': {'upper': {'indicator': 'adx6', 'barrier': 51}, 'lower': {'indicator': 'ppo6', 'barrier': -1}, 'best': {'type': 'upper', 'indicator': 'adx6', 'barrier': 51}}}}\n",
      "Key in forward opt json 11-06 - 6-month - mean - 58\n"
     ]
    },
    {
     "name": "stderr",
     "output_type": "stream",
     "text": [
      "\r",
      " 34%|███▍      | 361/1050 [32:39<55:51,  4.86s/it]  "
     ]
    },
    {
     "name": "stdout",
     "output_type": "stream",
     "text": [
      "11-06 - 6-month - mean\n",
      "{'mean': {'single': {'upper': {'indicator': 'adx6', 'barrier': 34}, 'lower': {'indicator': 'ppo3', 'barrier': 5}, 'best': {'type': 'upper', 'indicator': 'adx6', 'barrier': 34}}}, 'order': {'single': {'upper': {'indicator': 'adx3', 'barrier': 63}, 'lower': {'indicator': 'ppo3', 'barrier': 5}, 'best': {'type': 'upper', 'indicator': 'adx3', 'barrier': 63}}}}\n",
      "Key in forward opt json 11-06 - 6-month - order - 796\n"
     ]
    },
    {
     "name": "stderr",
     "output_type": "stream",
     "text": [
      "\r",
      " 34%|███▍      | 362/1050 [32:47<1:04:21,  5.61s/it]"
     ]
    },
    {
     "name": "stdout",
     "output_type": "stream",
     "text": [
      "11-06 - 6-month - order\n",
      "{'mean': {'single': {'upper': {'indicator': 'ppo6', 'barrier': 0}, 'lower': {'indicator': 'ppo9', 'barrier': 14}, 'best': {'type': 'upper', 'indicator': 'ppo6', 'barrier': 0}}}, 'order': {'single': {'upper': {'indicator': 'stochastic9', 'barrier': 75}, 'lower': {'indicator': 'stochastic3', 'barrier': 30}, 'best': {'type': 'upper', 'indicator': 'stochastic9', 'barrier': 75}}}}\n",
      "Key in forward opt json 11-06 - 12-month - mean - 58\n"
     ]
    },
    {
     "name": "stderr",
     "output_type": "stream",
     "text": [
      "\r",
      " 35%|███▍      | 363/1050 [32:47<47:10,  4.12s/it]  "
     ]
    },
    {
     "name": "stdout",
     "output_type": "stream",
     "text": [
      "11-06 - 12-month - mean\n",
      "{'mean': {'single': {'upper': {'indicator': 'adx3', 'barrier': 53}, 'lower': {'indicator': 'ppo6', 'barrier': 8}, 'best': {'type': 'upper', 'indicator': 'adx3', 'barrier': 53}}}, 'order': {'single': {'upper': {'indicator': 'adx3', 'barrier': 65}, 'lower': {'indicator': 'stochastic3', 'barrier': 7}, 'best': {'type': 'upper', 'indicator': 'adx3', 'barrier': 65}}}}\n",
      "Key in forward opt json 11-06 - 12-month - order - 842\n"
     ]
    },
    {
     "name": "stderr",
     "output_type": "stream",
     "text": [
      "\r",
      " 35%|███▍      | 364/1050 [32:58<1:08:11,  5.96s/it]"
     ]
    },
    {
     "name": "stdout",
     "output_type": "stream",
     "text": [
      "11-06 - 12-month - order\n",
      "{'mean': {'single': {'upper': {'indicator': 'ppo6', 'barrier': 0}, 'lower': {'indicator': 'ppo9', 'barrier': 17}, 'best': {'type': 'upper', 'indicator': 'ppo6', 'barrier': 0}}}, 'order': {'single': {'upper': {'indicator': 'stochastic3', 'barrier': 36}, 'lower': {'indicator': 'ppo9', 'barrier': 7}, 'best': {'type': 'upper', 'indicator': 'stochastic3', 'barrier': 36}}}}\n",
      "Key in forward opt json 11-06 - max - mean - 73\n"
     ]
    },
    {
     "name": "stderr",
     "output_type": "stream",
     "text": [
      "\r",
      " 35%|███▍      | 365/1050 [32:58<50:03,  4.38s/it]  "
     ]
    },
    {
     "name": "stdout",
     "output_type": "stream",
     "text": [
      "11-06 - max - mean\n",
      "{'mean': {'single': {'upper': {'indicator': 'adx3', 'barrier': 53}, 'lower': {'indicator': 'ppo3', 'barrier': 7}, 'best': {'type': 'upper', 'indicator': 'adx3', 'barrier': 53}}}, 'order': {'single': {'upper': {'indicator': 'adx3', 'barrier': 65}, 'lower': {'indicator': 'stochastic3', 'barrier': 7}, 'best': {'type': 'upper', 'indicator': 'adx3', 'barrier': 65}}}}\n",
      "Key in forward opt json 11-06 - max - order - 828\n"
     ]
    },
    {
     "name": "stderr",
     "output_type": "stream",
     "text": [
      "\r",
      " 35%|███▍      | 366/1050 [33:07<1:04:27,  5.65s/it]"
     ]
    },
    {
     "name": "stdout",
     "output_type": "stream",
     "text": [
      "11-06 - max - order\n",
      "{'mean': {'single': {'upper': {'indicator': 'ppo3', 'barrier': 1}, 'lower': {'indicator': 'stochastic3', 'barrier': 68}, 'best': {'type': 'upper', 'indicator': 'ppo3', 'barrier': 1}}}, 'order': {'single': {'upper': {'indicator': 'adx6', 'barrier': 51}, 'lower': {'indicator': 'ppo6', 'barrier': -1}, 'best': {'type': 'upper', 'indicator': 'adx6', 'barrier': 51}}}}\n",
      "Key in forward opt json 11-07 - 6-month - mean - 264\n"
     ]
    },
    {
     "name": "stderr",
     "output_type": "stream",
     "text": [
      "\r",
      " 35%|███▍      | 367/1050 [33:08<49:07,  4.32s/it]  "
     ]
    },
    {
     "name": "stdout",
     "output_type": "stream",
     "text": [
      "11-07 - 6-month - mean\n",
      "{'mean': {'single': {'upper': {'indicator': 'stochastic9', 'barrier': 18}, 'lower': {'indicator': 'ppo9', 'barrier': 14}, 'best': {'type': 'upper', 'indicator': 'stochastic9', 'barrier': 18}}}, 'order': {'single': {'upper': {'indicator': 'adx3', 'barrier': 72}, 'lower': {'indicator': 'stochastic6', 'barrier': 26}, 'best': {'type': 'upper', 'indicator': 'adx3', 'barrier': 72}}}}\n",
      "Key in forward opt json 11-07 - 6-month - order - 351\n"
     ]
    },
    {
     "name": "stderr",
     "output_type": "stream",
     "text": [
      "\r",
      " 35%|███▌      | 368/1050 [33:10<41:55,  3.69s/it]"
     ]
    },
    {
     "name": "stdout",
     "output_type": "stream",
     "text": [
      "11-07 - 6-month - order\n",
      "{'mean': {'single': {'upper': {'indicator': 'ppo9', 'barrier': 2}, 'lower': {'indicator': 'ppo3', 'barrier': 24}, 'best': {'type': 'upper', 'indicator': 'ppo9', 'barrier': 2}}}, 'order': {'single': {'upper': {'indicator': 'ppo6', 'barrier': 31}, 'lower': {'indicator': 'adx3', 'barrier': 35}, 'best': {'type': 'upper', 'indicator': 'ppo6', 'barrier': 31}}}}\n",
      "Key in forward opt json 11-07 - 12-month - mean - 225\n"
     ]
    },
    {
     "name": "stderr",
     "output_type": "stream",
     "text": [
      "\r",
      " 35%|███▌      | 369/1050 [33:11<32:24,  2.86s/it]"
     ]
    },
    {
     "name": "stdout",
     "output_type": "stream",
     "text": [
      "11-07 - 12-month - mean\n",
      "{'mean': {'single': {'upper': {'indicator': 'adx6', 'barrier': 22}, 'lower': {'indicator': 'ppo9', 'barrier': 8}, 'best': {'type': 'upper', 'indicator': 'adx6', 'barrier': 22}}}, 'order': {'single': {'upper': {'indicator': 'stochastic3', 'barrier': 57}, 'lower': {'indicator': 'adx9', 'barrier': 27}, 'best': {'type': 'upper', 'indicator': 'stochastic3', 'barrier': 57}}}}\n",
      "Key in forward opt json 11-07 - 12-month - order - 795\n"
     ]
    },
    {
     "name": "stderr",
     "output_type": "stream",
     "text": [
      "\r",
      " 35%|███▌      | 370/1050 [33:19<47:05,  4.16s/it]"
     ]
    },
    {
     "name": "stdout",
     "output_type": "stream",
     "text": [
      "11-07 - 12-month - order\n",
      "{'mean': {'single': {'upper': {'indicator': 'ppo6', 'barrier': 0}, 'lower': {'indicator': 'ppo9', 'barrier': 14}, 'best': {'type': 'upper', 'indicator': 'ppo6', 'barrier': 0}}}, 'order': {'single': {'upper': {'indicator': 'ppo3', 'barrier': 10}, 'lower': {'indicator': 'stochastic9', 'barrier': 25}, 'best': {'type': 'upper', 'indicator': 'ppo3', 'barrier': 10}}}}\n",
      "Key in forward opt json 11-07 - max - mean - 73\n"
     ]
    },
    {
     "name": "stderr",
     "output_type": "stream",
     "text": [
      "\r",
      " 35%|███▌      | 371/1050 [33:19<35:16,  3.12s/it]"
     ]
    },
    {
     "name": "stdout",
     "output_type": "stream",
     "text": [
      "11-07 - max - mean\n",
      "{'mean': {'single': {'upper': {'indicator': 'adx3', 'barrier': 53}, 'lower': {'indicator': 'ppo3', 'barrier': 7}, 'best': {'type': 'upper', 'indicator': 'adx3', 'barrier': 53}}}, 'order': {'single': {'upper': {'indicator': 'adx3', 'barrier': 65}, 'lower': {'indicator': 'stochastic3', 'barrier': 7}, 'best': {'type': 'upper', 'indicator': 'adx3', 'barrier': 65}}}}\n",
      "Key in forward opt json 11-07 - max - order - 828\n"
     ]
    },
    {
     "name": "stderr",
     "output_type": "stream",
     "text": [
      "\r",
      " 35%|███▌      | 372/1050 [33:28<55:09,  4.88s/it]"
     ]
    },
    {
     "name": "stdout",
     "output_type": "stream",
     "text": [
      "11-07 - max - order\n",
      "{'mean': {'single': {'upper': {'indicator': 'ppo3', 'barrier': 1}, 'lower': {'indicator': 'stochastic3', 'barrier': 68}, 'best': {'type': 'upper', 'indicator': 'ppo3', 'barrier': 1}}}, 'order': {'single': {'upper': {'indicator': 'adx6', 'barrier': 51}, 'lower': {'indicator': 'ppo6', 'barrier': -1}, 'best': {'type': 'upper', 'indicator': 'adx6', 'barrier': 51}}}}\n",
      "Key in forward opt json 11-08 - 6-month - mean - 225\n"
     ]
    },
    {
     "name": "stderr",
     "output_type": "stream",
     "text": [
      "\r",
      " 36%|███▌      | 373/1050 [33:29<41:45,  3.70s/it]"
     ]
    },
    {
     "name": "stdout",
     "output_type": "stream",
     "text": [
      "11-08 - 6-month - mean\n",
      "{'mean': {'single': {'upper': {'indicator': 'adx6', 'barrier': 22}, 'lower': {'indicator': 'ppo9', 'barrier': 8}, 'best': {'type': 'upper', 'indicator': 'adx6', 'barrier': 22}}}, 'order': {'single': {'upper': {'indicator': 'stochastic3', 'barrier': 57}, 'lower': {'indicator': 'adx9', 'barrier': 27}, 'best': {'type': 'upper', 'indicator': 'stochastic3', 'barrier': 57}}}}\n",
      "Key in forward opt json 11-08 - 6-month - order - 264\n"
     ]
    },
    {
     "name": "stderr",
     "output_type": "stream",
     "text": [
      "\r",
      " 36%|███▌      | 374/1050 [33:30<33:21,  2.96s/it]"
     ]
    },
    {
     "name": "stdout",
     "output_type": "stream",
     "text": [
      "11-08 - 6-month - order\n",
      "{'mean': {'single': {'upper': {'indicator': 'stochastic9', 'barrier': 18}, 'lower': {'indicator': 'ppo9', 'barrier': 14}, 'best': {'type': 'upper', 'indicator': 'stochastic9', 'barrier': 18}}}, 'order': {'single': {'upper': {'indicator': 'adx6', 'barrier': 52}, 'lower': {'indicator': 'adx9', 'barrier': 33}, 'best': {'type': 'upper', 'indicator': 'adx6', 'barrier': 52}}}}\n",
      "Key in forward opt json 11-08 - 12-month - mean - 264\n"
     ]
    },
    {
     "name": "stderr",
     "output_type": "stream",
     "text": [
      "\r",
      " 36%|███▌      | 375/1050 [33:32<27:27,  2.44s/it]"
     ]
    },
    {
     "name": "stdout",
     "output_type": "stream",
     "text": [
      "11-08 - 12-month - mean\n",
      "{'mean': {'single': {'upper': {'indicator': 'adx3', 'barrier': 36}, 'lower': {'indicator': 'ppo9', 'barrier': 14}, 'best': {'type': 'upper', 'indicator': 'adx3', 'barrier': 36}}}, 'order': {'single': {'upper': {'indicator': 'stochastic3', 'barrier': 41}, 'lower': {'indicator': 'adx6', 'barrier': 38}, 'best': {'type': 'upper', 'indicator': 'stochastic3', 'barrier': 41}}}}\n",
      "Key in forward opt json 11-08 - 12-month - order - 795\n"
     ]
    },
    {
     "name": "stderr",
     "output_type": "stream",
     "text": [
      "\r",
      " 36%|███▌      | 376/1050 [33:39<44:11,  3.93s/it]"
     ]
    },
    {
     "name": "stdout",
     "output_type": "stream",
     "text": [
      "11-08 - 12-month - order\n",
      "{'mean': {'single': {'upper': {'indicator': 'stochastic9', 'barrier': 21}, 'lower': {'indicator': 'stochastic3', 'barrier': 70}, 'best': {'type': 'upper', 'indicator': 'stochastic9', 'barrier': 21}}}, 'order': {'single': {'upper': {'indicator': 'adx6', 'barrier': 45}, 'lower': {'indicator': 'stochastic9', 'barrier': 25}, 'best': {'type': 'upper', 'indicator': 'adx6', 'barrier': 45}}}}\n",
      "Key in forward opt json 11-08 - max - mean - 58\n"
     ]
    },
    {
     "name": "stderr",
     "output_type": "stream",
     "text": [
      "\r",
      " 36%|███▌      | 377/1050 [33:40<33:02,  2.95s/it]"
     ]
    },
    {
     "name": "stdout",
     "output_type": "stream",
     "text": [
      "11-08 - max - mean\n",
      "{'mean': {'single': {'upper': {'indicator': 'adx3', 'barrier': 53}, 'lower': {'indicator': 'ppo6', 'barrier': 8}, 'best': {'type': 'upper', 'indicator': 'adx3', 'barrier': 53}}}, 'order': {'single': {'upper': {'indicator': 'adx3', 'barrier': 65}, 'lower': {'indicator': 'stochastic3', 'barrier': 7}, 'best': {'type': 'upper', 'indicator': 'adx3', 'barrier': 65}}}}\n",
      "Key in forward opt json 11-08 - max - order - 828\n"
     ]
    },
    {
     "name": "stderr",
     "output_type": "stream",
     "text": [
      "\r",
      " 36%|███▌      | 378/1050 [33:48<52:36,  4.70s/it]"
     ]
    },
    {
     "name": "stdout",
     "output_type": "stream",
     "text": [
      "11-08 - max - order\n",
      "{'mean': {'single': {'upper': {'indicator': 'ppo3', 'barrier': 1}, 'lower': {'indicator': 'stochastic3', 'barrier': 68}, 'best': {'type': 'upper', 'indicator': 'ppo3', 'barrier': 1}}}, 'order': {'single': {'upper': {'indicator': 'adx6', 'barrier': 51}, 'lower': {'indicator': 'ppo6', 'barrier': -1}, 'best': {'type': 'upper', 'indicator': 'adx6', 'barrier': 51}}}}\n",
      "Key in forward opt json 11-09 - 6-month - mean - 58\n"
     ]
    },
    {
     "name": "stderr",
     "output_type": "stream",
     "text": [
      "\r",
      " 36%|███▌      | 379/1050 [33:49<38:55,  3.48s/it]"
     ]
    },
    {
     "name": "stdout",
     "output_type": "stream",
     "text": [
      "11-09 - 6-month - mean\n",
      "{'mean': {'single': {'upper': {'indicator': 'adx3', 'barrier': 57}, 'lower': {'indicator': 'ppo6', 'barrier': 8}, 'best': {'type': 'upper', 'indicator': 'adx3', 'barrier': 57}}}, 'order': {'single': {'upper': {'indicator': 'adx3', 'barrier': 65}, 'lower': {'indicator': 'ppo6', 'barrier': 8}, 'best': {'type': 'upper', 'indicator': 'adx3', 'barrier': 65}}}}\n",
      "Key in forward opt json 11-09 - 6-month - order - 58\n"
     ]
    },
    {
     "name": "stderr",
     "output_type": "stream",
     "text": [
      "\r",
      " 36%|███▌      | 380/1050 [33:50<29:21,  2.63s/it]"
     ]
    },
    {
     "name": "stdout",
     "output_type": "stream",
     "text": [
      "11-09 - 6-month - order\n",
      "{'mean': {'single': {'upper': {'indicator': 'adx3', 'barrier': 53}, 'lower': {'indicator': 'ppo6', 'barrier': 8}, 'best': {'type': 'upper', 'indicator': 'adx3', 'barrier': 53}}}, 'order': {'single': {'upper': {'indicator': 'adx3', 'barrier': 65}, 'lower': {'indicator': 'stochastic3', 'barrier': 7}, 'best': {'type': 'upper', 'indicator': 'adx3', 'barrier': 65}}}}\n",
      "Key in forward opt json 11-09 - 12-month - mean - 264\n"
     ]
    },
    {
     "name": "stderr",
     "output_type": "stream",
     "text": [
      "\r",
      " 36%|███▋      | 381/1050 [33:51<24:37,  2.21s/it]"
     ]
    },
    {
     "name": "stdout",
     "output_type": "stream",
     "text": [
      "11-09 - 12-month - mean\n",
      "{'mean': {'single': {'upper': {'indicator': 'adx3', 'barrier': 36}, 'lower': {'indicator': 'ppo9', 'barrier': 14}, 'best': {'type': 'upper', 'indicator': 'adx3', 'barrier': 36}}}, 'order': {'single': {'upper': {'indicator': 'stochastic3', 'barrier': 41}, 'lower': {'indicator': 'adx6', 'barrier': 38}, 'best': {'type': 'upper', 'indicator': 'stochastic3', 'barrier': 41}}}}\n",
      "Key in forward opt json 11-09 - 12-month - order - 795\n"
     ]
    },
    {
     "name": "stderr",
     "output_type": "stream",
     "text": [
      "\r",
      " 36%|███▋      | 382/1050 [33:58<41:58,  3.77s/it]"
     ]
    },
    {
     "name": "stdout",
     "output_type": "stream",
     "text": [
      "11-09 - 12-month - order\n",
      "{'mean': {'single': {'upper': {'indicator': 'stochastic9', 'barrier': 21}, 'lower': {'indicator': 'stochastic3', 'barrier': 70}, 'best': {'type': 'upper', 'indicator': 'stochastic9', 'barrier': 21}}}, 'order': {'single': {'upper': {'indicator': 'adx6', 'barrier': 45}, 'lower': {'indicator': 'stochastic9', 'barrier': 25}, 'best': {'type': 'upper', 'indicator': 'adx6', 'barrier': 45}}}}\n",
      "Key in forward opt json 11-09 - max - mean - 58\n"
     ]
    },
    {
     "name": "stderr",
     "output_type": "stream",
     "text": [
      "\r",
      " 36%|███▋      | 383/1050 [33:59<31:29,  2.83s/it]"
     ]
    },
    {
     "name": "stdout",
     "output_type": "stream",
     "text": [
      "11-09 - max - mean\n",
      "{'mean': {'single': {'upper': {'indicator': 'adx3', 'barrier': 53}, 'lower': {'indicator': 'ppo6', 'barrier': 8}, 'best': {'type': 'upper', 'indicator': 'adx3', 'barrier': 53}}}, 'order': {'single': {'upper': {'indicator': 'adx3', 'barrier': 65}, 'lower': {'indicator': 'stochastic3', 'barrier': 7}, 'best': {'type': 'upper', 'indicator': 'adx3', 'barrier': 65}}}}\n",
      "Key in forward opt json 11-09 - max - order - 828\n"
     ]
    },
    {
     "name": "stderr",
     "output_type": "stream",
     "text": [
      "\r",
      " 37%|███▋      | 384/1050 [34:08<52:33,  4.73s/it]"
     ]
    },
    {
     "name": "stdout",
     "output_type": "stream",
     "text": [
      "11-09 - max - order\n",
      "{'mean': {'single': {'upper': {'indicator': 'ppo3', 'barrier': 1}, 'lower': {'indicator': 'stochastic3', 'barrier': 68}, 'best': {'type': 'upper', 'indicator': 'ppo3', 'barrier': 1}}}, 'order': {'single': {'upper': {'indicator': 'adx6', 'barrier': 51}, 'lower': {'indicator': 'ppo6', 'barrier': -1}, 'best': {'type': 'upper', 'indicator': 'adx6', 'barrier': 51}}}}\n",
      "Key in forward opt json 11-10 - 6-month - mean - 225\n"
     ]
    },
    {
     "name": "stderr",
     "output_type": "stream",
     "text": [
      "\r",
      " 37%|███▋      | 385/1050 [34:09<39:53,  3.60s/it]"
     ]
    },
    {
     "name": "stdout",
     "output_type": "stream",
     "text": [
      "11-10 - 6-month - mean\n",
      "{'mean': {'single': {'upper': {'indicator': 'stochastic9', 'barrier': 19}, 'lower': {'indicator': 'ppo3', 'barrier': 6}, 'best': {'type': 'upper', 'indicator': 'stochastic9', 'barrier': 19}}}, 'order': {'single': {'upper': {'indicator': 'stochastic3', 'barrier': 33}, 'lower': {'indicator': 'adx6', 'barrier': 26}, 'best': {'type': 'upper', 'indicator': 'stochastic3', 'barrier': 33}}}}\n",
      "Key in forward opt json 11-10 - 6-month - order - 795\n"
     ]
    },
    {
     "name": "stderr",
     "output_type": "stream",
     "text": [
      "\r",
      " 37%|███▋      | 386/1050 [34:17<53:42,  4.85s/it]"
     ]
    },
    {
     "name": "stdout",
     "output_type": "stream",
     "text": [
      "11-10 - 6-month - order\n",
      "{'mean': {'single': {'upper': {'indicator': 'stochastic9', 'barrier': 21}, 'lower': {'indicator': 'stochastic3', 'barrier': 70}, 'best': {'type': 'upper', 'indicator': 'stochastic9', 'barrier': 21}}}, 'order': {'single': {'upper': {'indicator': 'adx6', 'barrier': 45}, 'lower': {'indicator': 'stochastic9', 'barrier': 25}, 'best': {'type': 'upper', 'indicator': 'adx6', 'barrier': 45}}}}\n",
      "Key in forward opt json 11-10 - 12-month - mean - 264\n"
     ]
    },
    {
     "name": "stderr",
     "output_type": "stream",
     "text": [
      "\r",
      " 37%|███▋      | 387/1050 [34:18<41:40,  3.77s/it]"
     ]
    },
    {
     "name": "stdout",
     "output_type": "stream",
     "text": [
      "11-10 - 12-month - mean\n",
      "{'mean': {'single': {'upper': {'indicator': 'adx3', 'barrier': 36}, 'lower': {'indicator': 'ppo9', 'barrier': 14}, 'best': {'type': 'upper', 'indicator': 'adx3', 'barrier': 36}}}, 'order': {'single': {'upper': {'indicator': 'stochastic3', 'barrier': 41}, 'lower': {'indicator': 'adx6', 'barrier': 38}, 'best': {'type': 'upper', 'indicator': 'stochastic3', 'barrier': 41}}}}\n",
      "Key in forward opt json 11-10 - 12-month - order - 795\n"
     ]
    },
    {
     "name": "stderr",
     "output_type": "stream",
     "text": [
      "\r",
      " 37%|███▋      | 388/1050 [34:26<55:16,  5.01s/it]"
     ]
    },
    {
     "name": "stdout",
     "output_type": "stream",
     "text": [
      "11-10 - 12-month - order\n",
      "{'mean': {'single': {'upper': {'indicator': 'stochastic9', 'barrier': 21}, 'lower': {'indicator': 'stochastic3', 'barrier': 70}, 'best': {'type': 'upper', 'indicator': 'stochastic9', 'barrier': 21}}}, 'order': {'single': {'upper': {'indicator': 'adx6', 'barrier': 45}, 'lower': {'indicator': 'stochastic9', 'barrier': 25}, 'best': {'type': 'upper', 'indicator': 'adx6', 'barrier': 45}}}}\n",
      "Key in forward opt json 11-10 - max - mean - 58\n"
     ]
    },
    {
     "name": "stderr",
     "output_type": "stream",
     "text": [
      "\r",
      " 37%|███▋      | 389/1050 [34:27<40:43,  3.70s/it]"
     ]
    },
    {
     "name": "stdout",
     "output_type": "stream",
     "text": [
      "11-10 - max - mean\n",
      "{'mean': {'single': {'upper': {'indicator': 'adx3', 'barrier': 53}, 'lower': {'indicator': 'ppo6', 'barrier': 8}, 'best': {'type': 'upper', 'indicator': 'adx3', 'barrier': 53}}}, 'order': {'single': {'upper': {'indicator': 'adx3', 'barrier': 65}, 'lower': {'indicator': 'stochastic3', 'barrier': 7}, 'best': {'type': 'upper', 'indicator': 'adx3', 'barrier': 65}}}}\n",
      "Key in forward opt json 11-10 - max - order - 828\n"
     ]
    },
    {
     "name": "stderr",
     "output_type": "stream",
     "text": [
      "\r",
      " 37%|███▋      | 390/1050 [34:36<59:30,  5.41s/it]"
     ]
    },
    {
     "name": "stdout",
     "output_type": "stream",
     "text": [
      "11-10 - max - order\n",
      "{'mean': {'single': {'upper': {'indicator': 'ppo3', 'barrier': 1}, 'lower': {'indicator': 'stochastic3', 'barrier': 68}, 'best': {'type': 'upper', 'indicator': 'ppo3', 'barrier': 1}}}, 'order': {'single': {'upper': {'indicator': 'adx6', 'barrier': 51}, 'lower': {'indicator': 'ppo6', 'barrier': -1}, 'best': {'type': 'upper', 'indicator': 'adx6', 'barrier': 51}}}}\n",
      "Key in forward opt json 11-11 - 6-month - mean - 225\n"
     ]
    },
    {
     "name": "stderr",
     "output_type": "stream",
     "text": [
      "\r",
      " 37%|███▋      | 391/1050 [34:37<44:52,  4.09s/it]"
     ]
    },
    {
     "name": "stdout",
     "output_type": "stream",
     "text": [
      "11-11 - 6-month - mean\n",
      "{'mean': {'single': {'upper': {'indicator': 'stochastic9', 'barrier': 19}, 'lower': {'indicator': 'ppo3', 'barrier': 6}, 'best': {'type': 'upper', 'indicator': 'stochastic9', 'barrier': 19}}}, 'order': {'single': {'upper': {'indicator': 'stochastic3', 'barrier': 33}, 'lower': {'indicator': 'adx6', 'barrier': 26}, 'best': {'type': 'upper', 'indicator': 'stochastic3', 'barrier': 33}}}}\n",
      "Key in forward opt json 11-11 - 6-month - order - 795\n"
     ]
    },
    {
     "name": "stderr",
     "output_type": "stream",
     "text": [
      "\r",
      " 37%|███▋      | 392/1050 [34:46<59:20,  5.41s/it]"
     ]
    },
    {
     "name": "stdout",
     "output_type": "stream",
     "text": [
      "11-11 - 6-month - order\n",
      "{'mean': {'single': {'upper': {'indicator': 'stochastic9', 'barrier': 21}, 'lower': {'indicator': 'stochastic3', 'barrier': 70}, 'best': {'type': 'upper', 'indicator': 'stochastic9', 'barrier': 21}}}, 'order': {'single': {'upper': {'indicator': 'adx6', 'barrier': 45}, 'lower': {'indicator': 'stochastic9', 'barrier': 25}, 'best': {'type': 'upper', 'indicator': 'adx6', 'barrier': 45}}}}\n",
      "Key in forward opt json 11-11 - 12-month - mean - 794\n"
     ]
    },
    {
     "name": "stderr",
     "output_type": "stream",
     "text": [
      "\r",
      " 37%|███▋      | 393/1050 [34:54<1:10:29,  6.44s/it]"
     ]
    },
    {
     "name": "stdout",
     "output_type": "stream",
     "text": [
      "11-11 - 12-month - mean\n",
      "{'mean': {'single': {'upper': {'indicator': 'ppo3', 'barrier': 0}, 'lower': {'indicator': 'stochastic3', 'barrier': 68}, 'best': {'type': 'upper', 'indicator': 'ppo3', 'barrier': 0}}}, 'order': {'single': {'upper': {'indicator': 'ppo6', 'barrier': 6}, 'lower': {'indicator': 'stochastic3', 'barrier': 20}, 'best': {'type': 'upper', 'indicator': 'ppo6', 'barrier': 6}}}}\n",
      "Key in forward opt json 11-11 - 12-month - order - 795\n"
     ]
    },
    {
     "name": "stderr",
     "output_type": "stream",
     "text": [
      "\r",
      " 38%|███▊      | 394/1050 [35:04<1:18:52,  7.21s/it]"
     ]
    },
    {
     "name": "stdout",
     "output_type": "stream",
     "text": [
      "11-11 - 12-month - order\n",
      "{'mean': {'single': {'upper': {'indicator': 'stochastic9', 'barrier': 21}, 'lower': {'indicator': 'stochastic3', 'barrier': 70}, 'best': {'type': 'upper', 'indicator': 'stochastic9', 'barrier': 21}}}, 'order': {'single': {'upper': {'indicator': 'adx6', 'barrier': 45}, 'lower': {'indicator': 'stochastic9', 'barrier': 25}, 'best': {'type': 'upper', 'indicator': 'adx6', 'barrier': 45}}}}\n",
      "Key in forward opt json 11-11 - max - mean - 58\n"
     ]
    },
    {
     "name": "stderr",
     "output_type": "stream",
     "text": [
      "\r",
      " 38%|███▊      | 395/1050 [35:04<57:59,  5.31s/it]  "
     ]
    },
    {
     "name": "stdout",
     "output_type": "stream",
     "text": [
      "11-11 - max - mean\n",
      "{'mean': {'single': {'upper': {'indicator': 'adx3', 'barrier': 53}, 'lower': {'indicator': 'ppo6', 'barrier': 8}, 'best': {'type': 'upper', 'indicator': 'adx3', 'barrier': 53}}}, 'order': {'single': {'upper': {'indicator': 'adx3', 'barrier': 65}, 'lower': {'indicator': 'stochastic3', 'barrier': 7}, 'best': {'type': 'upper', 'indicator': 'adx3', 'barrier': 65}}}}\n",
      "Key in forward opt json 11-11 - max - order - 828\n"
     ]
    },
    {
     "name": "stderr",
     "output_type": "stream",
     "text": [
      "\r",
      " 38%|███▊      | 396/1050 [35:15<1:14:47,  6.86s/it]"
     ]
    },
    {
     "name": "stdout",
     "output_type": "stream",
     "text": [
      "11-11 - max - order\n",
      "{'mean': {'single': {'upper': {'indicator': 'ppo3', 'barrier': 1}, 'lower': {'indicator': 'stochastic3', 'barrier': 68}, 'best': {'type': 'upper', 'indicator': 'ppo3', 'barrier': 1}}}, 'order': {'single': {'upper': {'indicator': 'adx6', 'barrier': 51}, 'lower': {'indicator': 'ppo6', 'barrier': -1}, 'best': {'type': 'upper', 'indicator': 'adx6', 'barrier': 51}}}}\n",
      "Key in forward opt json 11-12 - 6-month - mean - 771\n"
     ]
    },
    {
     "name": "stderr",
     "output_type": "stream",
     "text": [
      "\r",
      " 38%|███▊      | 397/1050 [35:23<1:20:21,  7.38s/it]"
     ]
    },
    {
     "name": "stdout",
     "output_type": "stream",
     "text": [
      "11-12 - 6-month - mean\n",
      "{'mean': {'single': {'upper': {'indicator': 'stochastic9', 'barrier': 29}, 'lower': {'indicator': 'stochastic3', 'barrier': 70}, 'best': {'type': 'upper', 'indicator': 'stochastic9', 'barrier': 29}}}, 'order': {'single': {'upper': {'indicator': 'ppo9', 'barrier': 10}, 'lower': {'indicator': 'adx6', 'barrier': 23}, 'best': {'type': 'upper', 'indicator': 'ppo9', 'barrier': 10}}}}\n",
      "Key in forward opt json 11-12 - 6-month - order - 771\n"
     ]
    },
    {
     "name": "stderr",
     "output_type": "stream",
     "text": [
      "\r",
      " 38%|███▊      | 398/1050 [35:32<1:23:38,  7.70s/it]"
     ]
    },
    {
     "name": "stdout",
     "output_type": "stream",
     "text": [
      "11-12 - 6-month - order\n",
      "{'mean': {'single': {'upper': {'indicator': 'stochastic9', 'barrier': 29}, 'lower': {'indicator': 'stochastic3', 'barrier': 70}, 'best': {'type': 'upper', 'indicator': 'stochastic9', 'barrier': 29}}}, 'order': {'single': {'upper': {'indicator': 'ppo9', 'barrier': 10}, 'lower': {'indicator': 'adx6', 'barrier': 23}, 'best': {'type': 'upper', 'indicator': 'ppo9', 'barrier': 10}}}}\n",
      "Key in forward opt json 11-12 - 12-month - mean - 795\n"
     ]
    },
    {
     "name": "stderr",
     "output_type": "stream",
     "text": [
      "\r",
      " 38%|███▊      | 399/1050 [35:40<1:23:47,  7.72s/it]"
     ]
    },
    {
     "name": "stdout",
     "output_type": "stream",
     "text": [
      "11-12 - 12-month - mean\n",
      "{'mean': {'single': {'upper': {'indicator': 'stochastic9', 'barrier': 21}, 'lower': {'indicator': 'stochastic3', 'barrier': 70}, 'best': {'type': 'upper', 'indicator': 'stochastic9', 'barrier': 21}}}, 'order': {'single': {'upper': {'indicator': 'adx6', 'barrier': 45}, 'lower': {'indicator': 'stochastic9', 'barrier': 25}, 'best': {'type': 'upper', 'indicator': 'adx6', 'barrier': 45}}}}\n",
      "Key in forward opt json 11-12 - 12-month - order - 795\n"
     ]
    },
    {
     "name": "stderr",
     "output_type": "stream",
     "text": [
      "\r",
      " 38%|███▊      | 400/1050 [35:47<1:23:37,  7.72s/it]"
     ]
    },
    {
     "name": "stdout",
     "output_type": "stream",
     "text": [
      "11-12 - 12-month - order\n",
      "{'mean': {'single': {'upper': {'indicator': 'stochastic9', 'barrier': 21}, 'lower': {'indicator': 'stochastic3', 'barrier': 70}, 'best': {'type': 'upper', 'indicator': 'stochastic9', 'barrier': 21}}}, 'order': {'single': {'upper': {'indicator': 'adx6', 'barrier': 45}, 'lower': {'indicator': 'stochastic9', 'barrier': 25}, 'best': {'type': 'upper', 'indicator': 'adx6', 'barrier': 45}}}}\n",
      "Key in forward opt json 11-12 - max - mean - 58\n"
     ]
    },
    {
     "name": "stderr",
     "output_type": "stream",
     "text": [
      "\r",
      " 38%|███▊      | 401/1050 [35:48<1:00:28,  5.59s/it]"
     ]
    },
    {
     "name": "stdout",
     "output_type": "stream",
     "text": [
      "11-12 - max - mean\n",
      "{'mean': {'single': {'upper': {'indicator': 'adx3', 'barrier': 53}, 'lower': {'indicator': 'ppo6', 'barrier': 8}, 'best': {'type': 'upper', 'indicator': 'adx3', 'barrier': 53}}}, 'order': {'single': {'upper': {'indicator': 'adx3', 'barrier': 65}, 'lower': {'indicator': 'stochastic3', 'barrier': 7}, 'best': {'type': 'upper', 'indicator': 'adx3', 'barrier': 65}}}}\n",
      "Key in forward opt json 11-12 - max - order - 828\n"
     ]
    },
    {
     "name": "stderr",
     "output_type": "stream",
     "text": [
      "\r",
      " 38%|███▊      | 402/1050 [35:57<1:11:49,  6.65s/it]"
     ]
    },
    {
     "name": "stdout",
     "output_type": "stream",
     "text": [
      "11-12 - max - order\n",
      "{'mean': {'single': {'upper': {'indicator': 'ppo3', 'barrier': 1}, 'lower': {'indicator': 'stochastic3', 'barrier': 68}, 'best': {'type': 'upper', 'indicator': 'ppo3', 'barrier': 1}}}, 'order': {'single': {'upper': {'indicator': 'adx6', 'barrier': 51}, 'lower': {'indicator': 'ppo6', 'barrier': -1}, 'best': {'type': 'upper', 'indicator': 'adx6', 'barrier': 51}}}}\n",
      "Key in forward opt json 12-01 - 6-month - mean - 771\n"
     ]
    },
    {
     "name": "stderr",
     "output_type": "stream",
     "text": [
      "\r",
      " 38%|███▊      | 403/1050 [36:05<1:16:52,  7.13s/it]"
     ]
    },
    {
     "name": "stdout",
     "output_type": "stream",
     "text": [
      "12-01 - 6-month - mean\n",
      "{'mean': {'single': {'upper': {'indicator': 'stochastic9', 'barrier': 29}, 'lower': {'indicator': 'stochastic3', 'barrier': 70}, 'best': {'type': 'upper', 'indicator': 'stochastic9', 'barrier': 29}}}, 'order': {'single': {'upper': {'indicator': 'ppo9', 'barrier': 10}, 'lower': {'indicator': 'adx6', 'barrier': 23}, 'best': {'type': 'upper', 'indicator': 'ppo9', 'barrier': 10}}}}\n",
      "Key in forward opt json 12-01 - 6-month - order - 771\n"
     ]
    },
    {
     "name": "stderr",
     "output_type": "stream",
     "text": [
      "\r",
      " 38%|███▊      | 404/1050 [36:14<1:20:28,  7.47s/it]"
     ]
    },
    {
     "name": "stdout",
     "output_type": "stream",
     "text": [
      "12-01 - 6-month - order\n",
      "{'mean': {'single': {'upper': {'indicator': 'stochastic9', 'barrier': 29}, 'lower': {'indicator': 'stochastic3', 'barrier': 70}, 'best': {'type': 'upper', 'indicator': 'stochastic9', 'barrier': 29}}}, 'order': {'single': {'upper': {'indicator': 'ppo9', 'barrier': 10}, 'lower': {'indicator': 'adx6', 'barrier': 23}, 'best': {'type': 'upper', 'indicator': 'ppo9', 'barrier': 10}}}}\n",
      "Key in forward opt json 12-01 - 12-month - mean - 795\n"
     ]
    },
    {
     "name": "stderr",
     "output_type": "stream",
     "text": [
      "\r",
      " 39%|███▊      | 405/1050 [36:21<1:21:11,  7.55s/it]"
     ]
    },
    {
     "name": "stdout",
     "output_type": "stream",
     "text": [
      "12-01 - 12-month - mean\n",
      "{'mean': {'single': {'upper': {'indicator': 'stochastic9', 'barrier': 21}, 'lower': {'indicator': 'stochastic3', 'barrier': 70}, 'best': {'type': 'upper', 'indicator': 'stochastic9', 'barrier': 21}}}, 'order': {'single': {'upper': {'indicator': 'adx6', 'barrier': 45}, 'lower': {'indicator': 'stochastic9', 'barrier': 25}, 'best': {'type': 'upper', 'indicator': 'adx6', 'barrier': 45}}}}\n",
      "Key in forward opt json 12-01 - 12-month - order - 795\n"
     ]
    },
    {
     "name": "stderr",
     "output_type": "stream",
     "text": [
      "\r",
      " 39%|███▊      | 406/1050 [36:29<1:21:20,  7.58s/it]"
     ]
    },
    {
     "name": "stdout",
     "output_type": "stream",
     "text": [
      "12-01 - 12-month - order\n",
      "{'mean': {'single': {'upper': {'indicator': 'stochastic9', 'barrier': 21}, 'lower': {'indicator': 'stochastic3', 'barrier': 70}, 'best': {'type': 'upper', 'indicator': 'stochastic9', 'barrier': 21}}}, 'order': {'single': {'upper': {'indicator': 'adx6', 'barrier': 45}, 'lower': {'indicator': 'stochastic9', 'barrier': 25}, 'best': {'type': 'upper', 'indicator': 'adx6', 'barrier': 45}}}}\n",
      "Key in forward opt json 12-01 - max - mean - 58\n"
     ]
    },
    {
     "name": "stderr",
     "output_type": "stream",
     "text": [
      "\r",
      " 39%|███▉      | 407/1050 [36:30<58:52,  5.49s/it]  "
     ]
    },
    {
     "name": "stdout",
     "output_type": "stream",
     "text": [
      "12-01 - max - mean\n",
      "{'mean': {'single': {'upper': {'indicator': 'adx3', 'barrier': 53}, 'lower': {'indicator': 'ppo6', 'barrier': 8}, 'best': {'type': 'upper', 'indicator': 'adx3', 'barrier': 53}}}, 'order': {'single': {'upper': {'indicator': 'adx3', 'barrier': 65}, 'lower': {'indicator': 'stochastic3', 'barrier': 7}, 'best': {'type': 'upper', 'indicator': 'adx3', 'barrier': 65}}}}\n",
      "Key in forward opt json 12-01 - max - order - 828\n"
     ]
    },
    {
     "name": "stderr",
     "output_type": "stream",
     "text": [
      "\r",
      " 39%|███▉      | 408/1050 [36:39<1:10:06,  6.55s/it]"
     ]
    },
    {
     "name": "stdout",
     "output_type": "stream",
     "text": [
      "12-01 - max - order\n",
      "{'mean': {'single': {'upper': {'indicator': 'ppo3', 'barrier': 1}, 'lower': {'indicator': 'stochastic3', 'barrier': 68}, 'best': {'type': 'upper', 'indicator': 'ppo3', 'barrier': 1}}}, 'order': {'single': {'upper': {'indicator': 'adx6', 'barrier': 51}, 'lower': {'indicator': 'ppo6', 'barrier': -1}, 'best': {'type': 'upper', 'indicator': 'adx6', 'barrier': 51}}}}\n",
      "Key in forward opt json 12-02 - 6-month - mean - 770\n"
     ]
    },
    {
     "name": "stderr",
     "output_type": "stream",
     "text": [
      "\r",
      " 39%|███▉      | 409/1050 [36:47<1:15:04,  7.03s/it]"
     ]
    },
    {
     "name": "stdout",
     "output_type": "stream",
     "text": [
      "12-02 - 6-month - mean\n",
      "{'mean': {'single': {'upper': {'indicator': 'stochastic9', 'barrier': 31}, 'lower': {'indicator': 'stochastic3', 'barrier': 68}, 'best': {'type': 'upper', 'indicator': 'stochastic9', 'barrier': 31}}}, 'order': {'single': {'upper': {'indicator': 'adx3', 'barrier': 71}, 'lower': {'indicator': 'ppo9', 'barrier': 2}, 'best': {'type': 'upper', 'indicator': 'adx3', 'barrier': 71}}}}\n",
      "Key in forward opt json 12-02 - 6-month - order - 770\n"
     ]
    },
    {
     "name": "stderr",
     "output_type": "stream",
     "text": [
      "\r",
      " 39%|███▉      | 410/1050 [36:55<1:18:18,  7.34s/it]"
     ]
    },
    {
     "name": "stdout",
     "output_type": "stream",
     "text": [
      "12-02 - 6-month - order\n",
      "{'mean': {'single': {'upper': {'indicator': 'stochastic9', 'barrier': 31}, 'lower': {'indicator': 'stochastic3', 'barrier': 68}, 'best': {'type': 'upper', 'indicator': 'stochastic9', 'barrier': 31}}}, 'order': {'single': {'upper': {'indicator': 'adx3', 'barrier': 71}, 'lower': {'indicator': 'ppo9', 'barrier': 2}, 'best': {'type': 'upper', 'indicator': 'adx3', 'barrier': 71}}}}\n",
      "Key in forward opt json 12-02 - 12-month - mean - 794\n"
     ]
    },
    {
     "name": "stderr",
     "output_type": "stream",
     "text": [
      "\r",
      " 39%|███▉      | 411/1050 [37:02<1:18:46,  7.40s/it]"
     ]
    },
    {
     "name": "stdout",
     "output_type": "stream",
     "text": [
      "12-02 - 12-month - mean\n",
      "{'mean': {'single': {'upper': {'indicator': 'ppo3', 'barrier': 0}, 'lower': {'indicator': 'stochastic3', 'barrier': 68}, 'best': {'type': 'upper', 'indicator': 'ppo3', 'barrier': 0}}}, 'order': {'single': {'upper': {'indicator': 'ppo6', 'barrier': 6}, 'lower': {'indicator': 'stochastic3', 'barrier': 20}, 'best': {'type': 'upper', 'indicator': 'ppo6', 'barrier': 6}}}}\n",
      "Key in forward opt json 12-02 - 12-month - order - 795\n"
     ]
    },
    {
     "name": "stderr",
     "output_type": "stream",
     "text": [
      "\r",
      " 39%|███▉      | 412/1050 [37:10<1:19:01,  7.43s/it]"
     ]
    },
    {
     "name": "stdout",
     "output_type": "stream",
     "text": [
      "12-02 - 12-month - order\n",
      "{'mean': {'single': {'upper': {'indicator': 'stochastic9', 'barrier': 21}, 'lower': {'indicator': 'stochastic3', 'barrier': 70}, 'best': {'type': 'upper', 'indicator': 'stochastic9', 'barrier': 21}}}, 'order': {'single': {'upper': {'indicator': 'adx6', 'barrier': 45}, 'lower': {'indicator': 'stochastic9', 'barrier': 25}, 'best': {'type': 'upper', 'indicator': 'adx6', 'barrier': 45}}}}\n",
      "Key in forward opt json 12-02 - max - mean - 58\n"
     ]
    },
    {
     "name": "stderr",
     "output_type": "stream",
     "text": [
      "\r",
      " 39%|███▉      | 413/1050 [37:11<57:13,  5.39s/it]  "
     ]
    },
    {
     "name": "stdout",
     "output_type": "stream",
     "text": [
      "12-02 - max - mean\n",
      "{'mean': {'single': {'upper': {'indicator': 'adx3', 'barrier': 53}, 'lower': {'indicator': 'ppo6', 'barrier': 8}, 'best': {'type': 'upper', 'indicator': 'adx3', 'barrier': 53}}}, 'order': {'single': {'upper': {'indicator': 'adx3', 'barrier': 65}, 'lower': {'indicator': 'stochastic3', 'barrier': 7}, 'best': {'type': 'upper', 'indicator': 'adx3', 'barrier': 65}}}}\n",
      "Key in forward opt json 12-02 - max - order - 828\n"
     ]
    },
    {
     "name": "stderr",
     "output_type": "stream",
     "text": [
      "\r",
      " 39%|███▉      | 414/1050 [37:20<1:08:26,  6.46s/it]"
     ]
    },
    {
     "name": "stdout",
     "output_type": "stream",
     "text": [
      "12-02 - max - order\n",
      "{'mean': {'single': {'upper': {'indicator': 'ppo3', 'barrier': 1}, 'lower': {'indicator': 'stochastic3', 'barrier': 68}, 'best': {'type': 'upper', 'indicator': 'ppo3', 'barrier': 1}}}, 'order': {'single': {'upper': {'indicator': 'adx6', 'barrier': 51}, 'lower': {'indicator': 'ppo6', 'barrier': -1}, 'best': {'type': 'upper', 'indicator': 'adx6', 'barrier': 51}}}}\n",
      "Key in forward opt json 12-03 - 6-month - mean - 842\n"
     ]
    },
    {
     "name": "stderr",
     "output_type": "stream",
     "text": [
      "\r",
      " 40%|███▉      | 415/1050 [37:30<1:21:47,  7.73s/it]"
     ]
    },
    {
     "name": "stdout",
     "output_type": "stream",
     "text": [
      "12-03 - 6-month - mean\n",
      "{'mean': {'single': {'upper': {'indicator': 'ppo6', 'barrier': 0}, 'lower': {'indicator': 'ppo9', 'barrier': 17}, 'best': {'type': 'upper', 'indicator': 'ppo6', 'barrier': 0}}}, 'order': {'single': {'upper': {'indicator': 'stochastic3', 'barrier': 36}, 'lower': {'indicator': 'ppo9', 'barrier': 7}, 'best': {'type': 'upper', 'indicator': 'stochastic3', 'barrier': 36}}}}\n",
      "Key in forward opt json 12-03 - 6-month - order - 842\n"
     ]
    },
    {
     "name": "stderr",
     "output_type": "stream",
     "text": [
      "\r",
      " 40%|███▉      | 416/1050 [37:41<1:32:20,  8.74s/it]"
     ]
    },
    {
     "name": "stdout",
     "output_type": "stream",
     "text": [
      "12-03 - 6-month - order\n",
      "{'mean': {'single': {'upper': {'indicator': 'ppo6', 'barrier': 0}, 'lower': {'indicator': 'ppo9', 'barrier': 17}, 'best': {'type': 'upper', 'indicator': 'ppo6', 'barrier': 0}}}, 'order': {'single': {'upper': {'indicator': 'stochastic3', 'barrier': 36}, 'lower': {'indicator': 'ppo9', 'barrier': 7}, 'best': {'type': 'upper', 'indicator': 'stochastic3', 'barrier': 36}}}}\n",
      "Key in forward opt json 12-03 - 12-month - mean - 794\n"
     ]
    },
    {
     "name": "stderr",
     "output_type": "stream",
     "text": [
      "\r",
      " 40%|███▉      | 417/1050 [37:50<1:31:43,  8.69s/it]"
     ]
    },
    {
     "name": "stdout",
     "output_type": "stream",
     "text": [
      "12-03 - 12-month - mean\n",
      "{'mean': {'single': {'upper': {'indicator': 'ppo3', 'barrier': 0}, 'lower': {'indicator': 'stochastic3', 'barrier': 68}, 'best': {'type': 'upper', 'indicator': 'ppo3', 'barrier': 0}}}, 'order': {'single': {'upper': {'indicator': 'ppo6', 'barrier': 6}, 'lower': {'indicator': 'stochastic3', 'barrier': 20}, 'best': {'type': 'upper', 'indicator': 'ppo6', 'barrier': 6}}}}\n",
      "Key in forward opt json 12-03 - 12-month - order - 795\n"
     ]
    },
    {
     "name": "stderr",
     "output_type": "stream",
     "text": [
      "\r",
      " 40%|███▉      | 418/1050 [37:59<1:34:08,  8.94s/it]"
     ]
    },
    {
     "name": "stdout",
     "output_type": "stream",
     "text": [
      "12-03 - 12-month - order\n",
      "{'mean': {'single': {'upper': {'indicator': 'stochastic9', 'barrier': 21}, 'lower': {'indicator': 'stochastic3', 'barrier': 70}, 'best': {'type': 'upper', 'indicator': 'stochastic9', 'barrier': 21}}}, 'order': {'single': {'upper': {'indicator': 'adx6', 'barrier': 45}, 'lower': {'indicator': 'stochastic9', 'barrier': 25}, 'best': {'type': 'upper', 'indicator': 'adx6', 'barrier': 45}}}}\n",
      "Key in forward opt json 12-03 - max - mean - 58\n"
     ]
    },
    {
     "name": "stderr",
     "output_type": "stream",
     "text": [
      "\r",
      " 40%|███▉      | 419/1050 [38:00<1:08:09,  6.48s/it]"
     ]
    },
    {
     "name": "stdout",
     "output_type": "stream",
     "text": [
      "12-03 - max - mean\n",
      "{'mean': {'single': {'upper': {'indicator': 'adx3', 'barrier': 53}, 'lower': {'indicator': 'ppo6', 'barrier': 8}, 'best': {'type': 'upper', 'indicator': 'adx3', 'barrier': 53}}}, 'order': {'single': {'upper': {'indicator': 'adx3', 'barrier': 65}, 'lower': {'indicator': 'stochastic3', 'barrier': 7}, 'best': {'type': 'upper', 'indicator': 'adx3', 'barrier': 65}}}}\n",
      "Key in forward opt json 12-03 - max - order - 828\n"
     ]
    },
    {
     "name": "stderr",
     "output_type": "stream",
     "text": [
      "\r",
      " 40%|████      | 420/1050 [38:11<1:21:14,  7.74s/it]"
     ]
    },
    {
     "name": "stdout",
     "output_type": "stream",
     "text": [
      "12-03 - max - order\n",
      "{'mean': {'single': {'upper': {'indicator': 'ppo3', 'barrier': 1}, 'lower': {'indicator': 'stochastic3', 'barrier': 68}, 'best': {'type': 'upper', 'indicator': 'ppo3', 'barrier': 1}}}, 'order': {'single': {'upper': {'indicator': 'adx6', 'barrier': 51}, 'lower': {'indicator': 'ppo6', 'barrier': -1}, 'best': {'type': 'upper', 'indicator': 'adx6', 'barrier': 51}}}}\n",
      "Key in forward opt json 12-04 - 6-month - mean - 844\n"
     ]
    },
    {
     "name": "stderr",
     "output_type": "stream",
     "text": [
      "\r",
      " 40%|████      | 421/1050 [38:22<1:30:54,  8.67s/it]"
     ]
    },
    {
     "name": "stdout",
     "output_type": "stream",
     "text": [
      "12-04 - 6-month - mean\n",
      "{'mean': {'single': {'upper': {'indicator': 'ppo3', 'barrier': -2}, 'lower': {'indicator': 'ppo9', 'barrier': 25}, 'best': {'type': 'upper', 'indicator': 'ppo3', 'barrier': -2}}}, 'order': {'single': {'upper': {'indicator': 'ppo3', 'barrier': 50}, 'lower': {'indicator': 'ppo6', 'barrier': 2}, 'best': {'type': 'upper', 'indicator': 'ppo3', 'barrier': 50}}}}\n",
      "Key in forward opt json 12-04 - 6-month - order - 844\n"
     ]
    },
    {
     "name": "stderr",
     "output_type": "stream",
     "text": [
      "\r",
      " 40%|████      | 422/1050 [38:32<1:36:44,  9.24s/it]"
     ]
    },
    {
     "name": "stdout",
     "output_type": "stream",
     "text": [
      "12-04 - 6-month - order\n",
      "{'mean': {'single': {'upper': {'indicator': 'ppo3', 'barrier': -2}, 'lower': {'indicator': 'ppo9', 'barrier': 25}, 'best': {'type': 'upper', 'indicator': 'ppo3', 'barrier': -2}}}, 'order': {'single': {'upper': {'indicator': 'ppo3', 'barrier': 50}, 'lower': {'indicator': 'ppo6', 'barrier': 2}, 'best': {'type': 'upper', 'indicator': 'ppo3', 'barrier': 50}}}}\n",
      "Key in forward opt json 12-04 - 12-month - mean - 225\n"
     ]
    },
    {
     "name": "stderr",
     "output_type": "stream",
     "text": [
      "\r",
      " 40%|████      | 423/1050 [38:33<1:10:33,  6.75s/it]"
     ]
    },
    {
     "name": "stdout",
     "output_type": "stream",
     "text": [
      "12-04 - 12-month - mean\n",
      "{'mean': {'single': {'upper': {'indicator': 'stochastic9', 'barrier': 19}, 'lower': {'indicator': 'ppo3', 'barrier': 6}, 'best': {'type': 'upper', 'indicator': 'stochastic9', 'barrier': 19}}}, 'order': {'single': {'upper': {'indicator': 'stochastic3', 'barrier': 33}, 'lower': {'indicator': 'adx6', 'barrier': 26}, 'best': {'type': 'upper', 'indicator': 'stochastic3', 'barrier': 33}}}}\n",
      "Key in forward opt json 12-04 - 12-month - order - 771\n"
     ]
    },
    {
     "name": "stderr",
     "output_type": "stream",
     "text": [
      "\r",
      " 40%|████      | 424/1050 [38:41<1:14:05,  7.10s/it]"
     ]
    },
    {
     "name": "stdout",
     "output_type": "stream",
     "text": [
      "12-04 - 12-month - order\n",
      "{'mean': {'single': {'upper': {'indicator': 'stochastic9', 'barrier': 29}, 'lower': {'indicator': 'stochastic3', 'barrier': 70}, 'best': {'type': 'upper', 'indicator': 'stochastic9', 'barrier': 29}}}, 'order': {'single': {'upper': {'indicator': 'ppo9', 'barrier': 10}, 'lower': {'indicator': 'adx6', 'barrier': 23}, 'best': {'type': 'upper', 'indicator': 'ppo9', 'barrier': 10}}}}\n",
      "Key in forward opt json 12-04 - max - mean - 58\n"
     ]
    },
    {
     "name": "stderr",
     "output_type": "stream",
     "text": [
      "\r",
      " 40%|████      | 425/1050 [38:42<53:46,  5.16s/it]  "
     ]
    },
    {
     "name": "stdout",
     "output_type": "stream",
     "text": [
      "12-04 - max - mean\n",
      "{'mean': {'single': {'upper': {'indicator': 'adx3', 'barrier': 53}, 'lower': {'indicator': 'ppo6', 'barrier': 8}, 'best': {'type': 'upper', 'indicator': 'adx3', 'barrier': 53}}}, 'order': {'single': {'upper': {'indicator': 'adx3', 'barrier': 65}, 'lower': {'indicator': 'stochastic3', 'barrier': 7}, 'best': {'type': 'upper', 'indicator': 'adx3', 'barrier': 65}}}}\n",
      "Key in forward opt json 12-04 - max - order - 828\n"
     ]
    },
    {
     "name": "stderr",
     "output_type": "stream",
     "text": [
      "\r",
      " 41%|████      | 426/1050 [38:50<1:04:49,  6.23s/it]"
     ]
    },
    {
     "name": "stdout",
     "output_type": "stream",
     "text": [
      "12-04 - max - order\n",
      "{'mean': {'single': {'upper': {'indicator': 'ppo3', 'barrier': 1}, 'lower': {'indicator': 'stochastic3', 'barrier': 68}, 'best': {'type': 'upper', 'indicator': 'ppo3', 'barrier': 1}}}, 'order': {'single': {'upper': {'indicator': 'adx6', 'barrier': 51}, 'lower': {'indicator': 'ppo6', 'barrier': -1}, 'best': {'type': 'upper', 'indicator': 'adx6', 'barrier': 51}}}}\n",
      "Key in forward opt json 12-05 - 6-month - mean - 773\n"
     ]
    },
    {
     "name": "stderr",
     "output_type": "stream",
     "text": [
      "\r",
      " 41%|████      | 427/1050 [38:58<1:09:59,  6.74s/it]"
     ]
    },
    {
     "name": "stdout",
     "output_type": "stream",
     "text": [
      "12-05 - 6-month - mean\n",
      "{'mean': {'single': {'upper': {'indicator': 'stochastic3', 'barrier': 24}, 'lower': {'indicator': 'stochastic6', 'barrier': 75}, 'best': {'type': 'upper', 'indicator': 'stochastic3', 'barrier': 24}}}, 'order': {'single': {'upper': {'indicator': 'adx9', 'barrier': 49}, 'lower': {'indicator': 'stochastic6', 'barrier': 31}, 'best': {'type': 'upper', 'indicator': 'adx9', 'barrier': 49}}}}\n",
      "Key in forward opt json 12-05 - 6-month - order - 843\n"
     ]
    },
    {
     "name": "stderr",
     "output_type": "stream",
     "text": [
      "\r",
      " 41%|████      | 428/1050 [39:09<1:21:01,  7.82s/it]"
     ]
    },
    {
     "name": "stdout",
     "output_type": "stream",
     "text": [
      "12-05 - 6-month - order\n",
      "{'mean': {'single': {'upper': {'indicator': 'ppo3', 'barrier': -2}, 'lower': {'indicator': 'ppo6', 'barrier': 20}, 'best': {'type': 'upper', 'indicator': 'ppo3', 'barrier': -2}}}, 'order': {'single': {'upper': {'indicator': 'stochastic6', 'barrier': 85}, 'lower': {'indicator': 'stochastic3', 'barrier': 14}, 'best': {'type': 'upper', 'indicator': 'stochastic6', 'barrier': 85}}}}\n",
      "Key in forward opt json 12-05 - 12-month - mean - 58\n"
     ]
    },
    {
     "name": "stderr",
     "output_type": "stream",
     "text": [
      "\r",
      " 41%|████      | 429/1050 [39:09<58:36,  5.66s/it]  "
     ]
    },
    {
     "name": "stdout",
     "output_type": "stream",
     "text": [
      "12-05 - 12-month - mean\n",
      "{'mean': {'single': {'upper': {'indicator': 'adx3', 'barrier': 57}, 'lower': {'indicator': 'ppo6', 'barrier': 8}, 'best': {'type': 'upper', 'indicator': 'adx3', 'barrier': 57}}}, 'order': {'single': {'upper': {'indicator': 'adx3', 'barrier': 65}, 'lower': {'indicator': 'ppo6', 'barrier': 8}, 'best': {'type': 'upper', 'indicator': 'adx3', 'barrier': 65}}}}\n",
      "Key in forward opt json 12-05 - 12-month - order - 771\n"
     ]
    },
    {
     "name": "stderr",
     "output_type": "stream",
     "text": [
      "\r",
      " 41%|████      | 430/1050 [39:17<1:05:07,  6.30s/it]"
     ]
    },
    {
     "name": "stdout",
     "output_type": "stream",
     "text": [
      "12-05 - 12-month - order\n",
      "{'mean': {'single': {'upper': {'indicator': 'stochastic9', 'barrier': 23}, 'lower': {'indicator': 'ppo9', 'barrier': 16}, 'best': {'type': 'upper', 'indicator': 'stochastic9', 'barrier': 23}}}, 'order': {'single': {'upper': {'indicator': 'stochastic9', 'barrier': 89}, 'lower': {'indicator': 'stochastic6', 'barrier': 23}, 'best': {'type': 'upper', 'indicator': 'stochastic9', 'barrier': 89}}}}\n",
      "Key in forward opt json 12-05 - max - mean - 58\n"
     ]
    },
    {
     "name": "stderr",
     "output_type": "stream",
     "text": [
      "\r",
      " 41%|████      | 431/1050 [39:18<47:30,  4.60s/it]  "
     ]
    },
    {
     "name": "stdout",
     "output_type": "stream",
     "text": [
      "12-05 - max - mean\n",
      "{'mean': {'single': {'upper': {'indicator': 'adx3', 'barrier': 53}, 'lower': {'indicator': 'ppo6', 'barrier': 8}, 'best': {'type': 'upper', 'indicator': 'adx3', 'barrier': 53}}}, 'order': {'single': {'upper': {'indicator': 'adx3', 'barrier': 65}, 'lower': {'indicator': 'stochastic3', 'barrier': 7}, 'best': {'type': 'upper', 'indicator': 'adx3', 'barrier': 65}}}}\n",
      "Key in forward opt json 12-05 - max - order - 828\n"
     ]
    },
    {
     "name": "stderr",
     "output_type": "stream",
     "text": [
      "\r",
      " 41%|████      | 432/1050 [39:26<59:56,  5.82s/it]"
     ]
    },
    {
     "name": "stdout",
     "output_type": "stream",
     "text": [
      "12-05 - max - order\n",
      "{'mean': {'single': {'upper': {'indicator': 'ppo3', 'barrier': 1}, 'lower': {'indicator': 'stochastic3', 'barrier': 68}, 'best': {'type': 'upper', 'indicator': 'ppo3', 'barrier': 1}}}, 'order': {'single': {'upper': {'indicator': 'adx6', 'barrier': 51}, 'lower': {'indicator': 'ppo6', 'barrier': -1}, 'best': {'type': 'upper', 'indicator': 'adx6', 'barrier': 51}}}}\n",
      "Key in forward opt json 12-06 - 6-month - mean - 843\n"
     ]
    },
    {
     "name": "stderr",
     "output_type": "stream",
     "text": [
      "\r",
      " 41%|████      | 433/1050 [39:37<1:13:40,  7.16s/it]"
     ]
    },
    {
     "name": "stdout",
     "output_type": "stream",
     "text": [
      "12-06 - 6-month - mean\n",
      "{'mean': {'single': {'upper': {'indicator': 'ppo3', 'barrier': -2}, 'lower': {'indicator': 'ppo6', 'barrier': 20}, 'best': {'type': 'upper', 'indicator': 'ppo3', 'barrier': -2}}}, 'order': {'single': {'upper': {'indicator': 'stochastic6', 'barrier': 85}, 'lower': {'indicator': 'stochastic3', 'barrier': 14}, 'best': {'type': 'upper', 'indicator': 'stochastic6', 'barrier': 85}}}}\n",
      "Key in forward opt json 12-06 - 6-month - order - 295\n"
     ]
    },
    {
     "name": "stderr",
     "output_type": "stream",
     "text": [
      "\r",
      " 41%|████▏     | 434/1050 [39:38<56:07,  5.47s/it]  "
     ]
    },
    {
     "name": "stdout",
     "output_type": "stream",
     "text": [
      "12-06 - 6-month - order\n",
      "{'mean': {'single': {'upper': {'indicator': 'stochastic9', 'barrier': 14}, 'lower': {'indicator': 'ppo9', 'barrier': 18}, 'best': {'type': 'upper', 'indicator': 'stochastic9', 'barrier': 14}}}, 'order': {'single': {'upper': {'indicator': 'stochastic3', 'barrier': 53}, 'lower': {'indicator': 'adx6', 'barrier': 24}, 'best': {'type': 'upper', 'indicator': 'stochastic3', 'barrier': 53}}}}\n",
      "Key in forward opt json 12-06 - 12-month - mean - 771\n"
     ]
    },
    {
     "name": "stderr",
     "output_type": "stream",
     "text": [
      "\r",
      " 41%|████▏     | 435/1050 [39:46<1:03:23,  6.18s/it]"
     ]
    },
    {
     "name": "stdout",
     "output_type": "stream",
     "text": [
      "12-06 - 12-month - mean\n",
      "{'mean': {'single': {'upper': {'indicator': 'stochastic9', 'barrier': 29}, 'lower': {'indicator': 'stochastic3', 'barrier': 70}, 'best': {'type': 'upper', 'indicator': 'stochastic9', 'barrier': 29}}}, 'order': {'single': {'upper': {'indicator': 'ppo9', 'barrier': 10}, 'lower': {'indicator': 'adx6', 'barrier': 23}, 'best': {'type': 'upper', 'indicator': 'ppo9', 'barrier': 10}}}}\n",
      "Key in forward opt json 12-06 - 12-month - order - 843\n"
     ]
    },
    {
     "name": "stderr",
     "output_type": "stream",
     "text": [
      "\r",
      " 42%|████▏     | 436/1050 [39:56<1:15:52,  7.41s/it]"
     ]
    },
    {
     "name": "stdout",
     "output_type": "stream",
     "text": [
      "12-06 - 12-month - order\n",
      "{'mean': {'single': {'upper': {'indicator': 'ppo3', 'barrier': -2}, 'lower': {'indicator': 'ppo6', 'barrier': 20}, 'best': {'type': 'upper', 'indicator': 'ppo3', 'barrier': -2}}}, 'order': {'single': {'upper': {'indicator': 'stochastic6', 'barrier': 85}, 'lower': {'indicator': 'stochastic3', 'barrier': 14}, 'best': {'type': 'upper', 'indicator': 'stochastic6', 'barrier': 85}}}}\n",
      "Key in forward opt json 12-06 - max - mean - 58\n"
     ]
    },
    {
     "name": "stderr",
     "output_type": "stream",
     "text": [
      "\r",
      " 42%|████▏     | 437/1050 [39:57<54:59,  5.38s/it]  "
     ]
    },
    {
     "name": "stdout",
     "output_type": "stream",
     "text": [
      "12-06 - max - mean\n",
      "{'mean': {'single': {'upper': {'indicator': 'adx3', 'barrier': 53}, 'lower': {'indicator': 'ppo6', 'barrier': 8}, 'best': {'type': 'upper', 'indicator': 'adx3', 'barrier': 53}}}, 'order': {'single': {'upper': {'indicator': 'adx3', 'barrier': 65}, 'lower': {'indicator': 'stochastic3', 'barrier': 7}, 'best': {'type': 'upper', 'indicator': 'adx3', 'barrier': 65}}}}\n",
      "Key in forward opt json 12-06 - max - order - 828\n"
     ]
    },
    {
     "name": "stderr",
     "output_type": "stream",
     "text": [
      "\r",
      " 42%|████▏     | 438/1050 [40:06<1:05:09,  6.39s/it]"
     ]
    },
    {
     "name": "stdout",
     "output_type": "stream",
     "text": [
      "12-06 - max - order\n",
      "{'mean': {'single': {'upper': {'indicator': 'ppo3', 'barrier': 1}, 'lower': {'indicator': 'stochastic3', 'barrier': 68}, 'best': {'type': 'upper', 'indicator': 'ppo3', 'barrier': 1}}}, 'order': {'single': {'upper': {'indicator': 'adx6', 'barrier': 51}, 'lower': {'indicator': 'ppo6', 'barrier': -1}, 'best': {'type': 'upper', 'indicator': 'adx6', 'barrier': 51}}}}\n",
      "Key in forward opt json 12-07 - 6-month - mean - 843\n"
     ]
    },
    {
     "name": "stderr",
     "output_type": "stream",
     "text": [
      "\r",
      " 42%|████▏     | 439/1050 [40:16<1:16:59,  7.56s/it]"
     ]
    },
    {
     "name": "stdout",
     "output_type": "stream",
     "text": [
      "12-07 - 6-month - mean\n",
      "{'mean': {'single': {'upper': {'indicator': 'ppo3', 'barrier': -2}, 'lower': {'indicator': 'ppo6', 'barrier': 20}, 'best': {'type': 'upper', 'indicator': 'ppo3', 'barrier': -2}}}, 'order': {'single': {'upper': {'indicator': 'stochastic6', 'barrier': 85}, 'lower': {'indicator': 'stochastic3', 'barrier': 14}, 'best': {'type': 'upper', 'indicator': 'stochastic6', 'barrier': 85}}}}\n",
      "Key in forward opt json 12-07 - 6-month - order - 843\n"
     ]
    },
    {
     "name": "stderr",
     "output_type": "stream",
     "text": [
      "\r",
      " 42%|████▏     | 440/1050 [40:27<1:25:40,  8.43s/it]"
     ]
    },
    {
     "name": "stdout",
     "output_type": "stream",
     "text": [
      "12-07 - 6-month - order\n",
      "{'mean': {'single': {'upper': {'indicator': 'ppo9', 'barrier': -1}, 'lower': {'indicator': 'ppo6', 'barrier': 20}, 'best': {'type': 'upper', 'indicator': 'ppo9', 'barrier': -1}}}, 'order': {'single': {'upper': {'indicator': 'adx9', 'barrier': 29}, 'lower': {'indicator': 'ppo3', 'barrier': -2}, 'best': {'type': 'upper', 'indicator': 'adx9', 'barrier': 29}}}}\n",
      "Key in forward opt json 12-07 - 12-month - mean - 771\n"
     ]
    },
    {
     "name": "stderr",
     "output_type": "stream",
     "text": [
      "\r",
      " 42%|████▏     | 441/1050 [40:35<1:24:12,  8.30s/it]"
     ]
    },
    {
     "name": "stdout",
     "output_type": "stream",
     "text": [
      "12-07 - 12-month - mean\n",
      "{'mean': {'single': {'upper': {'indicator': 'stochastic9', 'barrier': 29}, 'lower': {'indicator': 'stochastic3', 'barrier': 70}, 'best': {'type': 'upper', 'indicator': 'stochastic9', 'barrier': 29}}}, 'order': {'single': {'upper': {'indicator': 'ppo9', 'barrier': 10}, 'lower': {'indicator': 'adx6', 'barrier': 23}, 'best': {'type': 'upper', 'indicator': 'ppo9', 'barrier': 10}}}}\n",
      "Key in forward opt json 12-07 - 12-month - order - 843\n"
     ]
    },
    {
     "name": "stderr",
     "output_type": "stream",
     "text": [
      "\r",
      " 42%|████▏     | 442/1050 [40:46<1:34:54,  9.37s/it]"
     ]
    },
    {
     "name": "stdout",
     "output_type": "stream",
     "text": [
      "12-07 - 12-month - order\n",
      "{'mean': {'single': {'upper': {'indicator': 'ppo9', 'barrier': -1}, 'lower': {'indicator': 'ppo6', 'barrier': 20}, 'best': {'type': 'upper', 'indicator': 'ppo9', 'barrier': -1}}}, 'order': {'single': {'upper': {'indicator': 'adx9', 'barrier': 29}, 'lower': {'indicator': 'ppo3', 'barrier': -2}, 'best': {'type': 'upper', 'indicator': 'adx9', 'barrier': 29}}}}\n",
      "Key in forward opt json 12-07 - max - mean - 58\n"
     ]
    },
    {
     "name": "stderr",
     "output_type": "stream",
     "text": [
      "\r",
      " 42%|████▏     | 443/1050 [40:47<1:08:38,  6.78s/it]"
     ]
    },
    {
     "name": "stdout",
     "output_type": "stream",
     "text": [
      "12-07 - max - mean\n",
      "{'mean': {'single': {'upper': {'indicator': 'adx3', 'barrier': 53}, 'lower': {'indicator': 'ppo6', 'barrier': 8}, 'best': {'type': 'upper', 'indicator': 'adx3', 'barrier': 53}}}, 'order': {'single': {'upper': {'indicator': 'adx3', 'barrier': 65}, 'lower': {'indicator': 'stochastic3', 'barrier': 7}, 'best': {'type': 'upper', 'indicator': 'adx3', 'barrier': 65}}}}\n",
      "Key in forward opt json 12-07 - max - order - 828\n"
     ]
    },
    {
     "name": "stderr",
     "output_type": "stream",
     "text": [
      "\r",
      " 42%|████▏     | 444/1050 [40:58<1:20:36,  7.98s/it]"
     ]
    },
    {
     "name": "stdout",
     "output_type": "stream",
     "text": [
      "12-07 - max - order\n",
      "{'mean': {'single': {'upper': {'indicator': 'ppo3', 'barrier': 1}, 'lower': {'indicator': 'stochastic3', 'barrier': 68}, 'best': {'type': 'upper', 'indicator': 'ppo3', 'barrier': 1}}}, 'order': {'single': {'upper': {'indicator': 'adx6', 'barrier': 51}, 'lower': {'indicator': 'ppo6', 'barrier': -1}, 'best': {'type': 'upper', 'indicator': 'adx6', 'barrier': 51}}}}\n",
      "Key in forward opt json 12-08 - 6-month - mean - 843\n"
     ]
    },
    {
     "name": "stderr",
     "output_type": "stream",
     "text": [
      "\r",
      " 42%|████▏     | 445/1050 [41:11<1:34:51,  9.41s/it]"
     ]
    },
    {
     "name": "stdout",
     "output_type": "stream",
     "text": [
      "12-08 - 6-month - mean\n",
      "{'mean': {'single': {'upper': {'indicator': 'ppo3', 'barrier': -2}, 'lower': {'indicator': 'ppo6', 'barrier': 20}, 'best': {'type': 'upper', 'indicator': 'ppo3', 'barrier': -2}}}, 'order': {'single': {'upper': {'indicator': 'stochastic6', 'barrier': 85}, 'lower': {'indicator': 'stochastic3', 'barrier': 14}, 'best': {'type': 'upper', 'indicator': 'stochastic6', 'barrier': 85}}}}\n",
      "Key in forward opt json 12-08 - 6-month - order - 843\n"
     ]
    },
    {
     "name": "stderr",
     "output_type": "stream",
     "text": [
      "\r",
      " 42%|████▏     | 446/1050 [41:21<1:37:43,  9.71s/it]"
     ]
    },
    {
     "name": "stdout",
     "output_type": "stream",
     "text": [
      "12-08 - 6-month - order\n",
      "{'mean': {'single': {'upper': {'indicator': 'ppo9', 'barrier': -1}, 'lower': {'indicator': 'ppo6', 'barrier': 20}, 'best': {'type': 'upper', 'indicator': 'ppo9', 'barrier': -1}}}, 'order': {'single': {'upper': {'indicator': 'adx9', 'barrier': 29}, 'lower': {'indicator': 'ppo3', 'barrier': -2}, 'best': {'type': 'upper', 'indicator': 'adx9', 'barrier': 29}}}}\n",
      "Key in forward opt json 12-08 - 12-month - mean - 843\n"
     ]
    },
    {
     "name": "stderr",
     "output_type": "stream",
     "text": [
      "\r",
      " 43%|████▎     | 447/1050 [41:31<1:39:28,  9.90s/it]"
     ]
    },
    {
     "name": "stdout",
     "output_type": "stream",
     "text": [
      "12-08 - 12-month - mean\n",
      "{'mean': {'single': {'upper': {'indicator': 'ppo9', 'barrier': -1}, 'lower': {'indicator': 'ppo6', 'barrier': 20}, 'best': {'type': 'upper', 'indicator': 'ppo9', 'barrier': -1}}}, 'order': {'single': {'upper': {'indicator': 'adx9', 'barrier': 29}, 'lower': {'indicator': 'ppo3', 'barrier': -2}, 'best': {'type': 'upper', 'indicator': 'adx9', 'barrier': 29}}}}\n",
      "Key in forward opt json 12-08 - 12-month - order - 843\n"
     ]
    },
    {
     "name": "stderr",
     "output_type": "stream",
     "text": [
      "\r",
      " 43%|████▎     | 448/1050 [41:42<1:40:16,  9.99s/it]"
     ]
    },
    {
     "name": "stdout",
     "output_type": "stream",
     "text": [
      "12-08 - 12-month - order\n",
      "{'mean': {'single': {'upper': {'indicator': 'ppo3', 'barrier': -2}, 'lower': {'indicator': 'ppo6', 'barrier': 20}, 'best': {'type': 'upper', 'indicator': 'ppo3', 'barrier': -2}}}, 'order': {'single': {'upper': {'indicator': 'stochastic6', 'barrier': 85}, 'lower': {'indicator': 'stochastic3', 'barrier': 14}, 'best': {'type': 'upper', 'indicator': 'stochastic6', 'barrier': 85}}}}\n",
      "Key in forward opt json 12-08 - max - mean - 58\n"
     ]
    },
    {
     "name": "stderr",
     "output_type": "stream",
     "text": [
      "\r",
      " 43%|████▎     | 449/1050 [41:42<1:11:59,  7.19s/it]"
     ]
    },
    {
     "name": "stdout",
     "output_type": "stream",
     "text": [
      "12-08 - max - mean\n",
      "{'mean': {'single': {'upper': {'indicator': 'adx3', 'barrier': 53}, 'lower': {'indicator': 'ppo6', 'barrier': 8}, 'best': {'type': 'upper', 'indicator': 'adx3', 'barrier': 53}}}, 'order': {'single': {'upper': {'indicator': 'adx3', 'barrier': 65}, 'lower': {'indicator': 'stochastic3', 'barrier': 7}, 'best': {'type': 'upper', 'indicator': 'adx3', 'barrier': 65}}}}\n",
      "Key in forward opt json 12-08 - max - order - 828\n"
     ]
    },
    {
     "name": "stderr",
     "output_type": "stream",
     "text": [
      "\r",
      " 43%|████▎     | 450/1050 [41:51<1:16:09,  7.62s/it]"
     ]
    },
    {
     "name": "stdout",
     "output_type": "stream",
     "text": [
      "12-08 - max - order\n",
      "{'mean': {'single': {'upper': {'indicator': 'ppo3', 'barrier': 1}, 'lower': {'indicator': 'stochastic3', 'barrier': 68}, 'best': {'type': 'upper', 'indicator': 'ppo3', 'barrier': 1}}}, 'order': {'single': {'upper': {'indicator': 'adx6', 'barrier': 51}, 'lower': {'indicator': 'ppo6', 'barrier': -1}, 'best': {'type': 'upper', 'indicator': 'adx6', 'barrier': 51}}}}\n",
      "Key in forward opt json 12-09 - 6-month - mean - 843\n"
     ]
    },
    {
     "name": "stderr",
     "output_type": "stream",
     "text": [
      "\r",
      " 43%|████▎     | 451/1050 [42:01<1:23:59,  8.41s/it]"
     ]
    },
    {
     "name": "stdout",
     "output_type": "stream",
     "text": [
      "12-09 - 6-month - mean\n",
      "{'mean': {'single': {'upper': {'indicator': 'ppo3', 'barrier': -2}, 'lower': {'indicator': 'ppo6', 'barrier': 20}, 'best': {'type': 'upper', 'indicator': 'ppo3', 'barrier': -2}}}, 'order': {'single': {'upper': {'indicator': 'stochastic6', 'barrier': 85}, 'lower': {'indicator': 'stochastic3', 'barrier': 14}, 'best': {'type': 'upper', 'indicator': 'stochastic6', 'barrier': 85}}}}\n",
      "Key in forward opt json 12-09 - 6-month - order - 843\n"
     ]
    },
    {
     "name": "stderr",
     "output_type": "stream",
     "text": [
      "\r",
      " 43%|████▎     | 452/1050 [42:11<1:29:13,  8.95s/it]"
     ]
    },
    {
     "name": "stdout",
     "output_type": "stream",
     "text": [
      "12-09 - 6-month - order\n",
      "{'mean': {'single': {'upper': {'indicator': 'ppo9', 'barrier': -1}, 'lower': {'indicator': 'ppo6', 'barrier': 20}, 'best': {'type': 'upper', 'indicator': 'ppo9', 'barrier': -1}}}, 'order': {'single': {'upper': {'indicator': 'adx9', 'barrier': 29}, 'lower': {'indicator': 'ppo3', 'barrier': -2}, 'best': {'type': 'upper', 'indicator': 'adx9', 'barrier': 29}}}}\n",
      "Key in forward opt json 12-09 - 12-month - mean - 843\n"
     ]
    },
    {
     "name": "stderr",
     "output_type": "stream",
     "text": [
      "\r",
      " 43%|████▎     | 453/1050 [42:21<1:32:24,  9.29s/it]"
     ]
    },
    {
     "name": "stdout",
     "output_type": "stream",
     "text": [
      "12-09 - 12-month - mean\n",
      "{'mean': {'single': {'upper': {'indicator': 'ppo9', 'barrier': -1}, 'lower': {'indicator': 'ppo6', 'barrier': 20}, 'best': {'type': 'upper', 'indicator': 'ppo9', 'barrier': -1}}}, 'order': {'single': {'upper': {'indicator': 'adx9', 'barrier': 29}, 'lower': {'indicator': 'ppo3', 'barrier': -2}, 'best': {'type': 'upper', 'indicator': 'adx9', 'barrier': 29}}}}\n",
      "Key in forward opt json 12-09 - 12-month - order - 843\n"
     ]
    },
    {
     "name": "stderr",
     "output_type": "stream",
     "text": [
      "\r",
      " 43%|████▎     | 454/1050 [42:31<1:34:32,  9.52s/it]"
     ]
    },
    {
     "name": "stdout",
     "output_type": "stream",
     "text": [
      "12-09 - 12-month - order\n",
      "{'mean': {'single': {'upper': {'indicator': 'ppo3', 'barrier': -2}, 'lower': {'indicator': 'ppo6', 'barrier': 20}, 'best': {'type': 'upper', 'indicator': 'ppo3', 'barrier': -2}}}, 'order': {'single': {'upper': {'indicator': 'stochastic6', 'barrier': 85}, 'lower': {'indicator': 'stochastic3', 'barrier': 14}, 'best': {'type': 'upper', 'indicator': 'stochastic6', 'barrier': 85}}}}\n",
      "Key in forward opt json 12-09 - max - mean - 58\n"
     ]
    },
    {
     "name": "stderr",
     "output_type": "stream",
     "text": [
      "\r",
      " 43%|████▎     | 455/1050 [42:32<1:07:55,  6.85s/it]"
     ]
    },
    {
     "name": "stdout",
     "output_type": "stream",
     "text": [
      "12-09 - max - mean\n",
      "{'mean': {'single': {'upper': {'indicator': 'adx3', 'barrier': 53}, 'lower': {'indicator': 'ppo6', 'barrier': 8}, 'best': {'type': 'upper', 'indicator': 'adx3', 'barrier': 53}}}, 'order': {'single': {'upper': {'indicator': 'adx3', 'barrier': 65}, 'lower': {'indicator': 'stochastic3', 'barrier': 7}, 'best': {'type': 'upper', 'indicator': 'adx3', 'barrier': 65}}}}\n",
      "Key in forward opt json 12-09 - max - order - 828\n"
     ]
    },
    {
     "name": "stderr",
     "output_type": "stream",
     "text": [
      "\r",
      " 43%|████▎     | 456/1050 [42:41<1:12:41,  7.34s/it]"
     ]
    },
    {
     "name": "stdout",
     "output_type": "stream",
     "text": [
      "12-09 - max - order\n",
      "{'mean': {'single': {'upper': {'indicator': 'ppo3', 'barrier': 1}, 'lower': {'indicator': 'stochastic3', 'barrier': 68}, 'best': {'type': 'upper', 'indicator': 'ppo3', 'barrier': 1}}}, 'order': {'single': {'upper': {'indicator': 'adx6', 'barrier': 51}, 'lower': {'indicator': 'ppo6', 'barrier': -1}, 'best': {'type': 'upper', 'indicator': 'adx6', 'barrier': 51}}}}\n",
      "Key in forward opt json 12-10 - 6-month - mean - 843\n"
     ]
    },
    {
     "name": "stderr",
     "output_type": "stream",
     "text": [
      "\r",
      " 44%|████▎     | 457/1050 [42:51<1:20:45,  8.17s/it]"
     ]
    },
    {
     "name": "stdout",
     "output_type": "stream",
     "text": [
      "12-10 - 6-month - mean\n",
      "{'mean': {'single': {'upper': {'indicator': 'ppo3', 'barrier': -2}, 'lower': {'indicator': 'ppo6', 'barrier': 20}, 'best': {'type': 'upper', 'indicator': 'ppo3', 'barrier': -2}}}, 'order': {'single': {'upper': {'indicator': 'stochastic6', 'barrier': 85}, 'lower': {'indicator': 'stochastic3', 'barrier': 14}, 'best': {'type': 'upper', 'indicator': 'stochastic6', 'barrier': 85}}}}\n",
      "Key in forward opt json 12-10 - 6-month - order - 843\n"
     ]
    },
    {
     "name": "stderr",
     "output_type": "stream",
     "text": [
      "\r",
      " 44%|████▎     | 458/1050 [43:01<1:26:13,  8.74s/it]"
     ]
    },
    {
     "name": "stdout",
     "output_type": "stream",
     "text": [
      "12-10 - 6-month - order\n",
      "{'mean': {'single': {'upper': {'indicator': 'ppo9', 'barrier': -1}, 'lower': {'indicator': 'ppo6', 'barrier': 20}, 'best': {'type': 'upper', 'indicator': 'ppo9', 'barrier': -1}}}, 'order': {'single': {'upper': {'indicator': 'adx9', 'barrier': 29}, 'lower': {'indicator': 'ppo3', 'barrier': -2}, 'best': {'type': 'upper', 'indicator': 'adx9', 'barrier': 29}}}}\n",
      "Key in forward opt json 12-10 - 12-month - mean - 843\n"
     ]
    },
    {
     "name": "stderr",
     "output_type": "stream",
     "text": [
      "\r",
      " 44%|████▎     | 459/1050 [43:11<1:29:57,  9.13s/it]"
     ]
    },
    {
     "name": "stdout",
     "output_type": "stream",
     "text": [
      "12-10 - 12-month - mean\n",
      "{'mean': {'single': {'upper': {'indicator': 'ppo3', 'barrier': -2}, 'lower': {'indicator': 'ppo6', 'barrier': 20}, 'best': {'type': 'upper', 'indicator': 'ppo3', 'barrier': -2}}}, 'order': {'single': {'upper': {'indicator': 'stochastic6', 'barrier': 85}, 'lower': {'indicator': 'stochastic3', 'barrier': 14}, 'best': {'type': 'upper', 'indicator': 'stochastic6', 'barrier': 85}}}}\n",
      "Key in forward opt json 12-10 - 12-month - order - 843\n"
     ]
    },
    {
     "name": "stderr",
     "output_type": "stream",
     "text": [
      "\r",
      " 44%|████▍     | 460/1050 [43:21<1:32:36,  9.42s/it]"
     ]
    },
    {
     "name": "stdout",
     "output_type": "stream",
     "text": [
      "12-10 - 12-month - order\n",
      "{'mean': {'single': {'upper': {'indicator': 'ppo3', 'barrier': -2}, 'lower': {'indicator': 'ppo6', 'barrier': 20}, 'best': {'type': 'upper', 'indicator': 'ppo3', 'barrier': -2}}}, 'order': {'single': {'upper': {'indicator': 'stochastic6', 'barrier': 85}, 'lower': {'indicator': 'stochastic3', 'barrier': 14}, 'best': {'type': 'upper', 'indicator': 'stochastic6', 'barrier': 85}}}}\n",
      "Key in forward opt json 12-10 - max - mean - 58\n"
     ]
    },
    {
     "name": "stderr",
     "output_type": "stream",
     "text": [
      "\r",
      " 44%|████▍     | 461/1050 [43:22<1:06:34,  6.78s/it]"
     ]
    },
    {
     "name": "stdout",
     "output_type": "stream",
     "text": [
      "12-10 - max - mean\n",
      "{'mean': {'single': {'upper': {'indicator': 'adx3', 'barrier': 53}, 'lower': {'indicator': 'ppo6', 'barrier': 8}, 'best': {'type': 'upper', 'indicator': 'adx3', 'barrier': 53}}}, 'order': {'single': {'upper': {'indicator': 'adx3', 'barrier': 65}, 'lower': {'indicator': 'stochastic3', 'barrier': 7}, 'best': {'type': 'upper', 'indicator': 'adx3', 'barrier': 65}}}}\n",
      "Key in forward opt json 12-10 - max - order - 828\n"
     ]
    },
    {
     "name": "stderr",
     "output_type": "stream",
     "text": [
      "\r",
      " 44%|████▍     | 462/1050 [43:30<1:12:20,  7.38s/it]"
     ]
    },
    {
     "name": "stdout",
     "output_type": "stream",
     "text": [
      "12-10 - max - order\n",
      "{'mean': {'single': {'upper': {'indicator': 'ppo3', 'barrier': 1}, 'lower': {'indicator': 'stochastic3', 'barrier': 68}, 'best': {'type': 'upper', 'indicator': 'ppo3', 'barrier': 1}}}, 'order': {'single': {'upper': {'indicator': 'adx6', 'barrier': 51}, 'lower': {'indicator': 'ppo6', 'barrier': -1}, 'best': {'type': 'upper', 'indicator': 'adx6', 'barrier': 51}}}}\n",
      "Key in forward opt json 12-11 - 6-month - mean - 771\n"
     ]
    },
    {
     "name": "stderr",
     "output_type": "stream",
     "text": [
      "\r",
      " 44%|████▍     | 463/1050 [43:39<1:15:00,  7.67s/it]"
     ]
    },
    {
     "name": "stdout",
     "output_type": "stream",
     "text": [
      "12-11 - 6-month - mean\n",
      "{'mean': {'single': {'upper': {'indicator': 'stochastic9', 'barrier': 29}, 'lower': {'indicator': 'stochastic3', 'barrier': 70}, 'best': {'type': 'upper', 'indicator': 'stochastic9', 'barrier': 29}}}, 'order': {'single': {'upper': {'indicator': 'ppo9', 'barrier': 10}, 'lower': {'indicator': 'adx6', 'barrier': 23}, 'best': {'type': 'upper', 'indicator': 'ppo9', 'barrier': 10}}}}\n",
      "Key in forward opt json 12-11 - 6-month - order - 843\n"
     ]
    },
    {
     "name": "stderr",
     "output_type": "stream",
     "text": [
      "\r",
      " 44%|████▍     | 464/1050 [43:51<1:28:44,  9.09s/it]"
     ]
    },
    {
     "name": "stdout",
     "output_type": "stream",
     "text": [
      "12-11 - 6-month - order\n",
      "{'mean': {'single': {'upper': {'indicator': 'ppo9', 'barrier': -1}, 'lower': {'indicator': 'ppo6', 'barrier': 20}, 'best': {'type': 'upper', 'indicator': 'ppo9', 'barrier': -1}}}, 'order': {'single': {'upper': {'indicator': 'adx9', 'barrier': 29}, 'lower': {'indicator': 'ppo3', 'barrier': -2}, 'best': {'type': 'upper', 'indicator': 'adx9', 'barrier': 29}}}}\n",
      "Key in forward opt json 12-11 - 12-month - mean - 843\n"
     ]
    },
    {
     "name": "stderr",
     "output_type": "stream",
     "text": [
      "\r",
      " 44%|████▍     | 465/1050 [44:04<1:39:39, 10.22s/it]"
     ]
    },
    {
     "name": "stdout",
     "output_type": "stream",
     "text": [
      "12-11 - 12-month - mean\n",
      "{'mean': {'single': {'upper': {'indicator': 'ppo3', 'barrier': -2}, 'lower': {'indicator': 'ppo6', 'barrier': 20}, 'best': {'type': 'upper', 'indicator': 'ppo3', 'barrier': -2}}}, 'order': {'single': {'upper': {'indicator': 'stochastic6', 'barrier': 85}, 'lower': {'indicator': 'stochastic3', 'barrier': 14}, 'best': {'type': 'upper', 'indicator': 'stochastic6', 'barrier': 85}}}}\n",
      "Key in forward opt json 12-11 - 12-month - order - 843\n"
     ]
    },
    {
     "name": "stderr",
     "output_type": "stream",
     "text": [
      "\r",
      " 44%|████▍     | 466/1050 [44:16<1:44:10, 10.70s/it]"
     ]
    },
    {
     "name": "stdout",
     "output_type": "stream",
     "text": [
      "12-11 - 12-month - order\n",
      "{'mean': {'single': {'upper': {'indicator': 'ppo9', 'barrier': -1}, 'lower': {'indicator': 'ppo6', 'barrier': 20}, 'best': {'type': 'upper', 'indicator': 'ppo9', 'barrier': -1}}}, 'order': {'single': {'upper': {'indicator': 'adx9', 'barrier': 29}, 'lower': {'indicator': 'ppo3', 'barrier': -2}, 'best': {'type': 'upper', 'indicator': 'adx9', 'barrier': 29}}}}\n",
      "Key in forward opt json 12-11 - max - mean - 58\n"
     ]
    },
    {
     "name": "stderr",
     "output_type": "stream",
     "text": [
      "\r",
      " 44%|████▍     | 467/1050 [44:16<1:14:40,  7.69s/it]"
     ]
    },
    {
     "name": "stdout",
     "output_type": "stream",
     "text": [
      "12-11 - max - mean\n",
      "{'mean': {'single': {'upper': {'indicator': 'adx3', 'barrier': 53}, 'lower': {'indicator': 'ppo6', 'barrier': 8}, 'best': {'type': 'upper', 'indicator': 'adx3', 'barrier': 53}}}, 'order': {'single': {'upper': {'indicator': 'adx3', 'barrier': 65}, 'lower': {'indicator': 'stochastic3', 'barrier': 7}, 'best': {'type': 'upper', 'indicator': 'adx3', 'barrier': 65}}}}\n",
      "Key in forward opt json 12-11 - max - order - 828\n"
     ]
    },
    {
     "name": "stderr",
     "output_type": "stream",
     "text": [
      "\r",
      " 45%|████▍     | 468/1050 [44:26<1:19:33,  8.20s/it]"
     ]
    },
    {
     "name": "stdout",
     "output_type": "stream",
     "text": [
      "12-11 - max - order\n",
      "{'mean': {'single': {'upper': {'indicator': 'ppo3', 'barrier': 1}, 'lower': {'indicator': 'stochastic3', 'barrier': 68}, 'best': {'type': 'upper', 'indicator': 'ppo3', 'barrier': 1}}}, 'order': {'single': {'upper': {'indicator': 'adx6', 'barrier': 51}, 'lower': {'indicator': 'ppo6', 'barrier': -1}, 'best': {'type': 'upper', 'indicator': 'adx6', 'barrier': 51}}}}\n",
      "Key in forward opt json 12-12 - 6-month - mean - 94\n"
     ]
    },
    {
     "name": "stderr",
     "output_type": "stream",
     "text": [
      "\r",
      " 45%|████▍     | 469/1050 [44:27<57:58,  5.99s/it]  "
     ]
    },
    {
     "name": "stdout",
     "output_type": "stream",
     "text": [
      "12-12 - 6-month - mean\n",
      "{'mean': {'single': {'upper': {'indicator': 'adx3', 'barrier': 49}, 'lower': {'indicator': 'ppo6', 'barrier': 11}, 'best': {'type': 'upper', 'indicator': 'adx3', 'barrier': 49}}}, 'order': {'single': {'upper': {'indicator': 'adx3', 'barrier': 67}, 'lower': {'indicator': 'stochastic3', 'barrier': 7}, 'best': {'type': 'upper', 'indicator': 'adx3', 'barrier': 67}}}}\n",
      "Key in forward opt json 12-12 - 6-month - order - 843\n"
     ]
    },
    {
     "name": "stderr",
     "output_type": "stream",
     "text": [
      "\r",
      " 45%|████▍     | 470/1050 [44:38<1:12:29,  7.50s/it]"
     ]
    },
    {
     "name": "stdout",
     "output_type": "stream",
     "text": [
      "12-12 - 6-month - order\n",
      "{'mean': {'single': {'upper': {'indicator': 'ppo9', 'barrier': -1}, 'lower': {'indicator': 'ppo6', 'barrier': 20}, 'best': {'type': 'upper', 'indicator': 'ppo9', 'barrier': -1}}}, 'order': {'single': {'upper': {'indicator': 'adx9', 'barrier': 29}, 'lower': {'indicator': 'ppo3', 'barrier': -2}, 'best': {'type': 'upper', 'indicator': 'adx9', 'barrier': 29}}}}\n",
      "Key in forward opt json 12-12 - 12-month - mean - 843\n"
     ]
    },
    {
     "name": "stderr",
     "output_type": "stream",
     "text": [
      "\r",
      " 45%|████▍     | 471/1050 [44:49<1:22:50,  8.59s/it]"
     ]
    },
    {
     "name": "stdout",
     "output_type": "stream",
     "text": [
      "12-12 - 12-month - mean\n",
      "{'mean': {'single': {'upper': {'indicator': 'ppo3', 'barrier': -2}, 'lower': {'indicator': 'ppo6', 'barrier': 20}, 'best': {'type': 'upper', 'indicator': 'ppo3', 'barrier': -2}}}, 'order': {'single': {'upper': {'indicator': 'stochastic6', 'barrier': 85}, 'lower': {'indicator': 'stochastic3', 'barrier': 14}, 'best': {'type': 'upper', 'indicator': 'stochastic6', 'barrier': 85}}}}\n",
      "Key in forward opt json 12-12 - 12-month - order - 843\n"
     ]
    },
    {
     "name": "stderr",
     "output_type": "stream",
     "text": [
      "\r",
      " 45%|████▍     | 472/1050 [45:00<1:29:23,  9.28s/it]"
     ]
    },
    {
     "name": "stdout",
     "output_type": "stream",
     "text": [
      "12-12 - 12-month - order\n",
      "{'mean': {'single': {'upper': {'indicator': 'ppo9', 'barrier': -1}, 'lower': {'indicator': 'ppo6', 'barrier': 20}, 'best': {'type': 'upper', 'indicator': 'ppo9', 'barrier': -1}}}, 'order': {'single': {'upper': {'indicator': 'adx9', 'barrier': 29}, 'lower': {'indicator': 'ppo3', 'barrier': -2}, 'best': {'type': 'upper', 'indicator': 'adx9', 'barrier': 29}}}}\n",
      "Key in forward opt json 12-12 - max - mean - 58\n"
     ]
    },
    {
     "name": "stderr",
     "output_type": "stream",
     "text": [
      "\r",
      " 45%|████▌     | 473/1050 [45:00<1:04:17,  6.69s/it]"
     ]
    },
    {
     "name": "stdout",
     "output_type": "stream",
     "text": [
      "12-12 - max - mean\n",
      "{'mean': {'single': {'upper': {'indicator': 'adx3', 'barrier': 53}, 'lower': {'indicator': 'ppo6', 'barrier': 8}, 'best': {'type': 'upper', 'indicator': 'adx3', 'barrier': 53}}}, 'order': {'single': {'upper': {'indicator': 'adx3', 'barrier': 65}, 'lower': {'indicator': 'stochastic3', 'barrier': 7}, 'best': {'type': 'upper', 'indicator': 'adx3', 'barrier': 65}}}}\n",
      "Key in forward opt json 12-12 - max - order - 828\n"
     ]
    },
    {
     "name": "stderr",
     "output_type": "stream",
     "text": [
      "\r",
      " 45%|████▌     | 474/1050 [45:10<1:12:15,  7.53s/it]"
     ]
    },
    {
     "name": "stdout",
     "output_type": "stream",
     "text": [
      "12-12 - max - order\n",
      "{'mean': {'single': {'upper': {'indicator': 'ppo3', 'barrier': 1}, 'lower': {'indicator': 'stochastic3', 'barrier': 68}, 'best': {'type': 'upper', 'indicator': 'ppo3', 'barrier': 1}}}, 'order': {'single': {'upper': {'indicator': 'adx6', 'barrier': 51}, 'lower': {'indicator': 'ppo6', 'barrier': -1}, 'best': {'type': 'upper', 'indicator': 'adx6', 'barrier': 51}}}}\n",
      "Key in forward opt json 13-01 - 6-month - mean - 94\n"
     ]
    },
    {
     "name": "stderr",
     "output_type": "stream",
     "text": [
      "\r",
      " 45%|████▌     | 475/1050 [45:11<52:46,  5.51s/it]  "
     ]
    },
    {
     "name": "stdout",
     "output_type": "stream",
     "text": [
      "13-01 - 6-month - mean\n",
      "{'mean': {'single': {'upper': {'indicator': 'adx3', 'barrier': 49}, 'lower': {'indicator': 'ppo6', 'barrier': 11}, 'best': {'type': 'upper', 'indicator': 'adx3', 'barrier': 49}}}, 'order': {'single': {'upper': {'indicator': 'adx3', 'barrier': 67}, 'lower': {'indicator': 'stochastic3', 'barrier': 7}, 'best': {'type': 'upper', 'indicator': 'adx3', 'barrier': 67}}}}\n",
      "Key in forward opt json 13-01 - 6-month - order - 843\n"
     ]
    },
    {
     "name": "stderr",
     "output_type": "stream",
     "text": [
      "\r",
      " 45%|████▌     | 476/1050 [45:21<1:08:04,  7.12s/it]"
     ]
    },
    {
     "name": "stdout",
     "output_type": "stream",
     "text": [
      "13-01 - 6-month - order\n",
      "{'mean': {'single': {'upper': {'indicator': 'ppo9', 'barrier': -1}, 'lower': {'indicator': 'ppo6', 'barrier': 20}, 'best': {'type': 'upper', 'indicator': 'ppo9', 'barrier': -1}}}, 'order': {'single': {'upper': {'indicator': 'adx9', 'barrier': 29}, 'lower': {'indicator': 'ppo3', 'barrier': -2}, 'best': {'type': 'upper', 'indicator': 'adx9', 'barrier': 29}}}}\n",
      "Key in forward opt json 13-01 - 12-month - mean - 843\n"
     ]
    },
    {
     "name": "stderr",
     "output_type": "stream",
     "text": [
      "\r",
      " 45%|████▌     | 477/1050 [45:32<1:18:27,  8.22s/it]"
     ]
    },
    {
     "name": "stdout",
     "output_type": "stream",
     "text": [
      "13-01 - 12-month - mean\n",
      "{'mean': {'single': {'upper': {'indicator': 'ppo3', 'barrier': -2}, 'lower': {'indicator': 'ppo6', 'barrier': 20}, 'best': {'type': 'upper', 'indicator': 'ppo3', 'barrier': -2}}}, 'order': {'single': {'upper': {'indicator': 'stochastic6', 'barrier': 85}, 'lower': {'indicator': 'stochastic3', 'barrier': 14}, 'best': {'type': 'upper', 'indicator': 'stochastic6', 'barrier': 85}}}}\n",
      "Key in forward opt json 13-01 - 12-month - order - 843\n"
     ]
    },
    {
     "name": "stderr",
     "output_type": "stream",
     "text": [
      "\r",
      " 46%|████▌     | 478/1050 [45:43<1:25:33,  8.98s/it]"
     ]
    },
    {
     "name": "stdout",
     "output_type": "stream",
     "text": [
      "13-01 - 12-month - order\n",
      "{'mean': {'single': {'upper': {'indicator': 'ppo9', 'barrier': -1}, 'lower': {'indicator': 'ppo6', 'barrier': 20}, 'best': {'type': 'upper', 'indicator': 'ppo9', 'barrier': -1}}}, 'order': {'single': {'upper': {'indicator': 'adx9', 'barrier': 29}, 'lower': {'indicator': 'ppo3', 'barrier': -2}, 'best': {'type': 'upper', 'indicator': 'adx9', 'barrier': 29}}}}\n",
      "Key in forward opt json 13-01 - max - mean - 58\n"
     ]
    },
    {
     "name": "stderr",
     "output_type": "stream",
     "text": [
      "\r",
      " 46%|████▌     | 479/1050 [45:44<1:01:36,  6.47s/it]"
     ]
    },
    {
     "name": "stdout",
     "output_type": "stream",
     "text": [
      "13-01 - max - mean\n",
      "{'mean': {'single': {'upper': {'indicator': 'adx3', 'barrier': 53}, 'lower': {'indicator': 'ppo6', 'barrier': 8}, 'best': {'type': 'upper', 'indicator': 'adx3', 'barrier': 53}}}, 'order': {'single': {'upper': {'indicator': 'adx3', 'barrier': 65}, 'lower': {'indicator': 'stochastic3', 'barrier': 7}, 'best': {'type': 'upper', 'indicator': 'adx3', 'barrier': 65}}}}\n",
      "Key in forward opt json 13-01 - max - order - 828\n"
     ]
    },
    {
     "name": "stderr",
     "output_type": "stream",
     "text": [
      "\r",
      " 46%|████▌     | 480/1050 [45:53<1:08:38,  7.23s/it]"
     ]
    },
    {
     "name": "stdout",
     "output_type": "stream",
     "text": [
      "13-01 - max - order\n",
      "{'mean': {'single': {'upper': {'indicator': 'ppo3', 'barrier': 1}, 'lower': {'indicator': 'stochastic3', 'barrier': 68}, 'best': {'type': 'upper', 'indicator': 'ppo3', 'barrier': 1}}}, 'order': {'single': {'upper': {'indicator': 'adx6', 'barrier': 51}, 'lower': {'indicator': 'ppo6', 'barrier': -1}, 'best': {'type': 'upper', 'indicator': 'adx6', 'barrier': 51}}}}\n",
      "Key in forward opt json 13-02 - 6-month - mean - 94\n"
     ]
    },
    {
     "name": "stderr",
     "output_type": "stream",
     "text": [
      "\r",
      " 46%|████▌     | 481/1050 [45:53<50:15,  5.30s/it]  "
     ]
    },
    {
     "name": "stdout",
     "output_type": "stream",
     "text": [
      "13-02 - 6-month - mean\n",
      "{'mean': {'single': {'upper': {'indicator': 'adx3', 'barrier': 49}, 'lower': {'indicator': 'ppo6', 'barrier': 11}, 'best': {'type': 'upper', 'indicator': 'adx3', 'barrier': 49}}}, 'order': {'single': {'upper': {'indicator': 'adx3', 'barrier': 67}, 'lower': {'indicator': 'stochastic3', 'barrier': 7}, 'best': {'type': 'upper', 'indicator': 'adx3', 'barrier': 67}}}}\n",
      "Key in forward opt json 13-02 - 6-month - order - 842\n"
     ]
    },
    {
     "name": "stderr",
     "output_type": "stream",
     "text": [
      "\r",
      " 46%|████▌     | 482/1050 [46:04<1:05:14,  6.89s/it]"
     ]
    },
    {
     "name": "stdout",
     "output_type": "stream",
     "text": [
      "13-02 - 6-month - order\n",
      "{'mean': {'single': {'upper': {'indicator': 'ppo6', 'barrier': 0}, 'lower': {'indicator': 'ppo9', 'barrier': 17}, 'best': {'type': 'upper', 'indicator': 'ppo6', 'barrier': 0}}}, 'order': {'single': {'upper': {'indicator': 'stochastic3', 'barrier': 36}, 'lower': {'indicator': 'ppo9', 'barrier': 7}, 'best': {'type': 'upper', 'indicator': 'stochastic3', 'barrier': 36}}}}\n",
      "Key in forward opt json 13-02 - 12-month - mean - 843\n"
     ]
    },
    {
     "name": "stderr",
     "output_type": "stream",
     "text": [
      "\r",
      " 46%|████▌     | 483/1050 [46:15<1:16:05,  8.05s/it]"
     ]
    },
    {
     "name": "stdout",
     "output_type": "stream",
     "text": [
      "13-02 - 12-month - mean\n",
      "{'mean': {'single': {'upper': {'indicator': 'ppo3', 'barrier': -2}, 'lower': {'indicator': 'ppo6', 'barrier': 20}, 'best': {'type': 'upper', 'indicator': 'ppo3', 'barrier': -2}}}, 'order': {'single': {'upper': {'indicator': 'stochastic6', 'barrier': 85}, 'lower': {'indicator': 'stochastic3', 'barrier': 14}, 'best': {'type': 'upper', 'indicator': 'stochastic6', 'barrier': 85}}}}\n",
      "Key in forward opt json 13-02 - 12-month - order - 843\n"
     ]
    }
   ],
   "source": [
    "with tqdm.tqdm(total=len(unparsed_pairs)) as pbar:\n",
    "\n",
    "    for key, range_val, func_val in unparsed_pairs:\n",
    "        try:\n",
    "            df = get_filtered_df_by_key(key, range_val, func_val)\n",
    "\n",
    "            df[\"perc_change\"] = (\n",
    "                (df[\"price_sell\"] - df[\"price_open\"]) / df[\"price_open\"] * 100\n",
    "            )\n",
    "            df = df.drop([\"price_sell\", \"price_open\"], axis=1)\n",
    "            print(\n",
    "                f\"Key in forward opt json {key} - {range_val} - {func_val} - {df.shape[0]}\"\n",
    "            )\n",
    "\n",
    "        except KeyError:\n",
    "            print(f\"Key NOT in forward opt json {key} - {range_val} - {func_val}\")\n",
    "            pbar.update()\n",
    "            continue\n",
    "\n",
    "        size = df.shape[0] if FRAMEWORK == \"pandas\" else df.shape[0].compute()\n",
    "\n",
    "        if size < MIN_TRADES_REQUIRED:\n",
    "            print(f\"Not enough trades for {key} - {range_val} - {func_val}\")\n",
    "            optimal_res = None\n",
    "        else:\n",
    "            optimal_res = compute_optimal_res(df)\n",
    "        # 06-06 - 6-month - mean - 10\n",
    "        print(f\"{key} - {range_val} - {func_val}\")\n",
    "        print(optimal_res)\n",
    "        save_pair_result(key, range_val, func_val, optimal_res)\n",
    "        pbar.update()"
   ]
  },
  {
   "cell_type": "code",
   "execution_count": 49,
   "metadata": {},
   "outputs": [],
   "source": [
    "# 06-06 - 6-month - mean - 10\n",
    "tmpdf = get_filtered_df_by_key(\"00-01\", \"6-month\", \"mean\")\n",
    "tmpdf[\"perc_change\"] = (\n",
    "    (tmpdf[\"price_sell\"] - tmpdf[\"price_open\"]) / tmpdf[\"price_open\"] * 100\n",
    ")\n",
    "tmpdf = tmpdf.drop([\"price_sell\", \"price_open\"], axis=1)"
   ]
  },
  {
   "cell_type": "code",
   "execution_count": 50,
   "metadata": {},
   "outputs": [
    {
     "data": {
      "text/plain": [
       "count    225.000000\n",
       "mean       1.380352\n",
       "std        9.567881\n",
       "min      -75.889165\n",
       "25%       -2.319029\n",
       "50%        2.077950\n",
       "75%        5.875300\n",
       "max       30.632145\n",
       "Name: perc_change, dtype: float64"
      ]
     },
     "execution_count": 50,
     "metadata": {},
     "output_type": "execute_result"
    }
   ],
   "source": [
    "tmpdf[\"perc_change\"].describe()"
   ]
  },
  {
   "cell_type": "code",
   "execution_count": 51,
   "metadata": {},
   "outputs": [
    {
     "data": {
      "text/plain": [
       "1.553614231487775"
      ]
     },
     "execution_count": 51,
     "metadata": {},
     "output_type": "execute_result"
    }
   ],
   "source": [
    "order_optimal_func(tmpdf)"
   ]
  },
  {
   "cell_type": "code",
   "execution_count": 47,
   "metadata": {},
   "outputs": [
    {
     "data": {
      "text/plain": [
       "35764.632861090424"
      ]
     },
     "execution_count": 47,
     "metadata": {},
     "output_type": "execute_result"
    }
   ],
   "source": [
    "order_optimal_func(tmpdf)"
   ]
  },
  {
   "cell_type": "code",
   "execution_count": null,
   "metadata": {},
   "outputs": [],
   "source": []
  }
 ],
 "metadata": {
  "kernelspec": {
   "display_name": "Python 3",
   "language": "python",
   "name": "python3"
  },
  "language_info": {
   "codemirror_mode": {
    "name": "ipython",
    "version": 3
   },
   "file_extension": ".py",
   "mimetype": "text/x-python",
   "name": "python",
   "nbconvert_exporter": "python",
   "pygments_lexer": "ipython3",
   "version": "3.9.5"
  }
 },
 "nbformat": 4,
 "nbformat_minor": 2
}
