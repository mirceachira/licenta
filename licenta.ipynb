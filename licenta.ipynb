{
  "nbformat": 4,
  "nbformat_minor": 0,
  "metadata": {
    "colab": {
      "name": "licenta.ipynb",
      "provenance": [],
      "collapsed_sections": [],
      "authorship_tag": "ABX9TyO4A5jAInKmPtAbof7tEXTa",
      "include_colab_link": true
    },
    "kernelspec": {
      "name": "python3",
      "display_name": "Python 3",
      "language": "python"
    }
  },
  "cells": [
    {
      "cell_type": "markdown",
      "metadata": {
        "id": "view-in-github",
        "colab_type": "text"
      },
      "source": [
        "<a href=\"https://colab.research.google.com/github/mirceachira/licenta/blob/main/licenta.ipynb\" target=\"_parent\"><img src=\"https://colab.research.google.com/assets/colab-badge.svg\" alt=\"Open In Colab\"/></a>"
      ]
    },
    {
      "cell_type": "code",
      "metadata": {
        "id": "yHXCyyWGLh1N"
      },
      "source": [
        "# !pip install git+https://github.com/trsvchn/calabar.git\n",
        "# !pip3 install backtrader --user\n",
        "# !pip3 install pyfolio --user\n",
        "# !pip3 install tqdm --user\n",
        "# !pip3 install wheel --user\n",
        "# !pip3 install pandas --user"
      ],
      "execution_count": 10,
      "outputs": [
        {
          "output_type": "stream",
          "name": "stdout",
          "text": [
            "Requirement already satisfied: pandas in ./env/lib/python3.8/site-packages (1.2.4)\nRequirement already satisfied: numpy>=1.16.5 in ./env/lib/python3.8/site-packages (from pandas) (1.20.2)\nRequirement already satisfied: pytz>=2017.3 in ./env/lib/python3.8/site-packages (from pandas) (2021.1)\nRequirement already satisfied: python-dateutil>=2.7.3 in ./env/lib/python3.8/site-packages (from pandas) (2.8.1)\nRequirement already satisfied: six>=1.5 in ./env/lib/python3.8/site-packages (from python-dateutil>=2.7.3->pandas) (1.15.0)\n"
          ]
        }
      ]
    },
    {
      "cell_type": "code",
      "metadata": {
        "id": "WTFIehcIN1Ms"
      },
      "source": [
        "import datetime\n",
        "\n",
        "# Filesystem location\n",
        "MOUNT_LOCATION = '/content/drive' # When running in google drive\n",
        "MOUNT_LOCATION = '/root/Projects/licenta/mount/'\n",
        "DATA_LOCATION = f'{MOUNT_LOCATION}/MyDrive/licenta' # When running in google drive\n",
        "DATA_LOCATION = f'{MOUNT_LOCATION}' # When running in google drive\n",
        "\n",
        "TICKERS_LOCATION = f'{DATA_LOCATION}/tickers'\n",
        "RESULTS_LOCATION = f'{DATA_LOCATION}/results'\n",
        "\n",
        "# Email notifications\n",
        "MY_EMAIL = 'chira.mircea.darius@gmail.com'\n",
        "NOTIFICATION_RECEIVER_LIST = [MY_EMAIL]\n",
        "\n",
        "# Finance API\n",
        "YAHOO_FINANCE_MAX_URL = 'https://query1.finance.yahoo.com/v7/finance/download/{TICKER_NAME}?period1=946688400&period2=1609459199&interval=1d&events=history&includeAdjustedClose=true'\n",
        "# 1609459199 - 2020.12.31 11:59:59 PM GMT\n",
        "# 946688400 - 2000.01.01 01:00:00 AM GMT\n",
        "# Tickers\n",
        "TICKER_NAMES = {\n",
        "    # Gaming companies\n",
        "    'ATVI': 'Activision Blizzard, Inc.',\n",
        "    'EA': 'Electronic Arts Inc.',\n",
        "    'NTDOY': 'Nintento (traded in US)',\n",
        "\n",
        "    # Retail\n",
        "    'GME': 'GameStop Corp.',\n",
        "\n",
        "    # Tech\n",
        "    'GOOG': 'Alphabet Inc.',\n",
        "}\n",
        "TICKERS = list(TICKER_NAMES.keys())\n",
        "\n",
        "# Strategy defaults\n",
        "DEFAULT_FROM_DATE = datetime.datetime(2018, 1, 1)\n",
        "DEFAULT_TO_DATE = datetime.datetime(2020, 12, 31)\n",
        "DEFAULT_CASH = 1000.0\n",
        "DEFAULT_COMMISION = 0.0\n",
        "DEFAULT_CPU_COUNT = 10\n",
        "\n",
        "# Some other configs\n",
        "KLASS_KEY = 'klass'"
      ],
      "execution_count": 22,
      "outputs": []
    },
    {
      "cell_type": "code",
      "metadata": {
        "colab": {
          "base_uri": "https://localhost:8080/"
        },
        "id": "rEdyIFIZHbWZ",
        "outputId": "6e3ff4b6-4155-4023-ca8f-23b86a87f933"
      },
      "source": [
        "# Required only when running in google drive\n",
        "from google.colab import drive\n",
        "\n",
        "drive.mount(MOUNT_LOCATION)"
      ],
      "execution_count": 2,
      "outputs": [
        {
          "output_type": "error",
          "ename": "ModuleNotFoundError",
          "evalue": "No module named 'google'",
          "traceback": [
            "\u001b[0;31m---------------------------------------------------------------------------\u001b[0m",
            "\u001b[0;31mModuleNotFoundError\u001b[0m                       Traceback (most recent call last)",
            "\u001b[0;32m<ipython-input-2-6ba7708042df>\u001b[0m in \u001b[0;36m<module>\u001b[0;34m\u001b[0m\n\u001b[1;32m      1\u001b[0m \u001b[0;31m# Required only when running in google drive\u001b[0m\u001b[0;34m\u001b[0m\u001b[0;34m\u001b[0m\u001b[0;34m\u001b[0m\u001b[0m\n\u001b[0;32m----> 2\u001b[0;31m \u001b[0;32mfrom\u001b[0m \u001b[0mgoogle\u001b[0m\u001b[0;34m.\u001b[0m\u001b[0mcolab\u001b[0m \u001b[0;32mimport\u001b[0m \u001b[0mdrive\u001b[0m\u001b[0;34m\u001b[0m\u001b[0;34m\u001b[0m\u001b[0m\n\u001b[0m\u001b[1;32m      3\u001b[0m \u001b[0;34m\u001b[0m\u001b[0m\n\u001b[1;32m      4\u001b[0m \u001b[0mdrive\u001b[0m\u001b[0;34m.\u001b[0m\u001b[0mmount\u001b[0m\u001b[0;34m(\u001b[0m\u001b[0mMOUNT_LOCATION\u001b[0m\u001b[0;34m)\u001b[0m\u001b[0;34m\u001b[0m\u001b[0;34m\u001b[0m\u001b[0m\n",
            "\u001b[0;31mModuleNotFoundError\u001b[0m: No module named 'google'"
          ]
        }
      ]
    },
    {
      "cell_type": "code",
      "metadata": {
        "id": "PuFjSBFIlzEk"
      },
      "source": [
        "import warnings\n",
        "warnings.filterwarnings('ignore')"
      ],
      "execution_count": 3,
      "outputs": []
    },
    {
      "cell_type": "code",
      "metadata": {
        "id": "EyQMCud6YPt_"
      },
      "source": [
        "def add_entry_to_csv(csv_filename, trade_info_dict):\n",
        "    csv_path = f'{RESULTS_LOCATION}/{csv_filename}.csv'\n",
        "\n",
        "    # if os.path.exists(csv_path):\n",
        "    #     csv_df = pd.read_csv(csv_path)\n",
        "\n",
        "    trade_info_dict = {k: [v] for k, v in trade_info_dict.items()}\n",
        "\n",
        "    trade_df = pd.DataFrame.from_dict(trade_info_dict)\n",
        "    trade_df.to_csv(csv_path, mode='a', index=False, header=False)\n",
        "    # csv_df.append(trade_df)\n",
        "\n",
        "    # csv_df.to_csv(csv_path)"
      ],
      "execution_count": 4,
      "outputs": []
    },
    {
      "cell_type": "code",
      "metadata": {
        "id": "-B_cI37-L_bp"
      },
      "source": [
        "import pandas as pd\n",
        "\n",
        "\n",
        "def get_ticker_csv_path(ticker_name):\n",
        "  return f'{TICKERS_LOCATION}/{ticker_name}.csv'\n",
        "\n",
        "\n",
        "def get_ticker_csv_as_df(ticker_name):\n",
        "    return pd.read_csv(get_ticker_csv_path(ticker_name))"
      ],
      "execution_count": 5,
      "outputs": []
    },
    {
      "cell_type": "code",
      "metadata": {
        "id": "m37LfBhCPKTd",
        "colab": {
          "base_uri": "https://localhost:8080/"
        },
        "outputId": "7b55577b-01d5-4485-e18d-e79c3e2a3f6c"
      },
      "source": [
        "import requests\n",
        "\n",
        "\n",
        "def download_latest_ticker_csv(ticker_name):\n",
        "    yahoo_url = YAHOO_FINANCE_MAX_URL.format(TICKER_NAME=ticker_name)\n",
        "    file_respone = requests.get(yahoo_url)\n",
        "\n",
        "    csv_path = get_ticker_csv_path(ticker_name)\n",
        "\n",
        "    print(f'Downloading to {csv_path} about {len(file_respone.content)} bytes from {yahoo_url}')\n",
        "    with open(csv_path, 'wb') as f:\n",
        "        f.write(file_respone.content)\n",
        "\n",
        "\n",
        "def update_all_ticker_csvs():\n",
        "    for ticker_name in TICKERS:\n",
        "        download_latest_ticker_csv(ticker_name)\n",
        "\n",
        "\n",
        "update_all_ticker_csvs()\n",
        "# download_latest_ticker_csv('GOOG')"
      ],
      "execution_count": null,
      "outputs": []
    },
    {
      "cell_type": "code",
      "metadata": {
        "id": "qfGMBDdcepwc"
      },
      "source": [
        "import pyfolio as pf\n",
        "import backtrader as bt\n",
        "\n",
        "\n",
        "def bt_opt_callback(cb):\n",
        "    pbar.update()\n",
        "\n",
        "def test_strategy(strategy_class, ticker_name, from_date=DEFAULT_FROM_DATE, to_date=DEFAULT_TO_DATE, cash=DEFAULT_CASH, commision=DEFAULT_COMMISION, cpu_count=DEFAULT_CPU_COUNT, **strategy_kwargs):\n",
        "    # Create a cerebro entity\n",
        "    cerebro = bt.Cerebro()\n",
        "\n",
        "    kwargs = {\n",
        "        'ticker': ticker_name,\n",
        "        **strategy_kwargs\n",
        "    }\n",
        "\n",
        "    # Add a strategy\n",
        "    strats = cerebro.optstrategy(\n",
        "        strategy_class,\n",
        "        **kwargs\n",
        "      )\n",
        "\n",
        "    # Create a Data Feed\n",
        "    data = bt.feeds.YahooFinanceCSVData(\n",
        "        dataname=get_ticker_csv_path(ticker_name),\n",
        "        # Do not pass values before this date\n",
        "        fromdate=from_date,\n",
        "        # Do not pass values before this date\n",
        "        todate=to_date,\n",
        "        # Do not pass values after this date\n",
        "        reverse=False\n",
        "    )\n",
        "\n",
        "    # Add the Data Feed to Cerebro\n",
        "    cerebro.adddata(data)\n",
        "\n",
        "    # Set our desired cash start\n",
        "    cerebro.broker.setcash(cash)\n",
        "\n",
        "    # Add pyfolio analyzer for stats\n",
        "    cerebro.addanalyzer(bt.analyzers.PyFolio, _name='pyfolio')\n",
        "\n",
        "    # Add a FixedSize sizer according to the stake\n",
        "    cerebro.addsizer(bt.sizers.FixedSize, stake=10)\n",
        "\n",
        "    # Set the commission\n",
        "    cerebro.broker.setcommission(commission=commision)\n",
        "\n",
        "    cerebro.optcallback(cb=bt_opt_callback)\n",
        "\n",
        "    # Run over everything\n",
        "    results = cerebro.run(maxcpus=cpu_count)\n",
        "    \n",
        "    # # Use this to benchmark final results as well!\n",
        "    # for result in results:\n",
        "    #     strat = result[0]\n",
        "    #     pyfoliozer = strat.analyzers.getbyname('pyfolio')\n",
        "\n",
        "    #     # TODO: A lot more can be generated using pyfolio but I just couldn't fix it to generate the entire spreadsheet report: https://www.backtrader.com/docu/analyzers/pyfolio/\n",
        "    #     # gross_lev is no longer needed according to backtrader\n",
        "    #     returns, positions, transactions, gross_lev = pyfoliozer.get_pf_items()\n",
        "\n",
        "    #     yield returns, positions, transactions\n",
        "\n",
        "\n",
        "def run_through_tickers(strategy_class, ticker_list, *args, **kwargs):\n",
        "    for ticker_name in ticker_list:\n",
        "        test_strategy(strategy_class, ticker_name, *args, **kwargs)\n",
        "\n",
        "        # # Use this to benchmark final results as well!\n",
        "        # for returns, positions, transactions  in test_strategy(strategy_class, ticker_name, *args, **kwargs):\n",
        "        #   yield returns, positions, transactions\n"
      ],
      "execution_count": 13,
      "outputs": []
    },
    {
      "cell_type": "code",
      "metadata": {
        "id": "KjtFAPJgiltP"
      },
      "source": [
        "import pyfolio as pf \n",
        "\n",
        "\n",
        "def run_backtest_for_strategy_by_name(strategy_name, ticker_list=TICKERS):\n",
        "    print(f'Running `run_backtest_for_strategy_by_name` for {strategy_name} for {len(ticker_list)} tickers')\n",
        "    strategy_setup = copy.deepcopy(STRATEGIES_ALL_CONFIGS)[strategy_name]\n",
        "    strategy_klass = strategy_setup.pop(KLASS_KEY)\n",
        "    return run_backtest_for_strategy(strategy_klass, ticker_list, strategy_setup)\n",
        "    \n",
        "\n",
        "def list_configs(configs):\n",
        "    \"\"\"Translate a configuration with ranges into a list of dicts with value pairs\"\"\"\n",
        "    config_dict_list = [{'_dummy_param': 1}]\n",
        "    \n",
        "    for name, value in configs.items():\n",
        "        if type(value) == range:\n",
        "            new_config_dict_list = []\n",
        "            for v in value:\n",
        "                for cd in config_dict_list:\n",
        "                   new_config_dict_list.append({\n",
        "                       name: v,\n",
        "                       **cd\n",
        "                   })\n",
        "            config_dict_list = new_config_dict_list\n",
        "        else:\n",
        "            new_config_dict_list = []\n",
        "            for cd in config_dict_list:\n",
        "                new_config_dict_list.append({\n",
        "                    name: value,\n",
        "                    **cd\n",
        "                })\n",
        "            config_dict_list = new_config_dict_list\n",
        "        \n",
        "    for x in config_dict_list:\n",
        "        x.pop('_dummy_param')\n",
        "\n",
        "    return config_dict_list\n",
        "\n",
        "\n",
        "# def backtest_job(strategy_klass, ticker, cfg):\n",
        "#     run_through_tickers(strategy_klass, [ticker], **cfg)\n",
        "\n",
        "#   for returns, positions, transactions in run_through_tickers(strategy_klass, [ticker], **cfg):\n",
        "#     ## Awesome if it worked..\n",
        "#     # pf.create_round_trip_tear_sheet(returns, positions, transactions)\n",
        "#     # pf.create_returns_tear_sheet(returns)\n",
        "    \n",
        "#     ## If you want to show just one outcome at a time\n",
        "#     # pf.create_simple_tear_sheet(returns)\n",
        "\n",
        "#     stats_series = pf.timeseries.perf_stats(\n",
        "#         returns,\n",
        "#         positions=positions,\n",
        "#         transactions=transactions\n",
        "#     )\n",
        "\n",
        "#     # When benchmarking final results, use this instead + the bad way of running samples?\n",
        "#     # # Enrich the series\n",
        "#     # for k, v in config_combination.items():\n",
        "#     #     stats_series[k] = v\n",
        "\n",
        "#     # stats_series['ticker'] = ticker\n",
        "\n",
        "#     return stats_series.copy()\n",
        "\n",
        "\n",
        "def run_backtest_for_strategy(strategy_klass, ticker_list, configs):\n",
        "    # df_stuff = []\n",
        "\n",
        "    config_combination_list = list_configs(copy.deepcopy(configs))\n",
        "\n",
        "    total_nr_jobs = len(ticker_list) * len(config_combination_list)\n",
        "\n",
        "\n",
        "    run_through_tickers(strategy_klass, ticker_list, **configs)\n",
        "        \n",
        "    # for ticker in ticker_list:\n",
        "        # cfg = {\n",
        "        #     'ticker': ticker,\n",
        "        #     **config_combination\n",
        "        # }\n",
        "\n",
        "        # backtest_result = backtest_job(strategy_klass, ticker, configs)\n",
        "\n",
        "        # df_stuff.append(backtest_result)\n",
        "\n",
        "        # pbar.update(1)\n",
        "\n",
        "        # resulting_all_df = pd.concat(df_stuff, axis=1)\n",
        "\n",
        "    # return resulting_all_df\n",
        "\n",
        "\n",
        "def run_backtest_for_strategy_for_all_tickers(strategy_klass, configs):\n",
        "    return run_backtest_for_strategy(strategy_klass, TICKERS, configs)"
      ],
      "execution_count": 17,
      "outputs": []
    },
    {
      "cell_type": "code",
      "metadata": {
        "id": "YwkYpzgVDcBf"
      },
      "source": [
        "from __future__ import (absolute_import, division, print_function,\n",
        "                        unicode_literals)\n",
        "\n",
        "import datetime  # For datetime objects\n",
        "import os.path  # To manage paths\n",
        "import sys  # To find out the script name (in argv[0])\n",
        "import uuid\n",
        "import copy\n",
        "\n",
        "# Import the backtrader platform\n",
        "import backtrader as bt"
      ],
      "execution_count": 18,
      "outputs": []
    },
    {
      "cell_type": "code",
      "metadata": {
        "id": "pKF2ZXkaQb6G"
      },
      "source": [
        "class RaynerTeoStrategy(bt.Strategy):\n",
        "    \"\"\"\n",
        "    Rayner Teo Strategy with some additional logging\n",
        "\n",
        "    Market:\n",
        "      any stock\n",
        "\n",
        "    Define the trend:\n",
        "      (closing?) price above the 200-day moving average\n",
        "\n",
        "    Entry:\n",
        "      10-period RSI below 30 (buy on the next day's open)\n",
        "\n",
        "    Exit:\n",
        "      10-period RSI above 40, or after 10 trading days (sell on the next day's open)\n",
        "    \"\"\"\n",
        "    params = (\n",
        "            # TODO: these should be in a defaults class or something maybe\n",
        "            # SMA\n",
        "            ('maperiod', 15),\n",
        "\n",
        "            # RSI\n",
        "            ('rsi_open_period', 10),\n",
        "            ('rsi_close_period', 30),\n",
        "            \n",
        "            # ADX\n",
        "            ('adx_period', 14),\n",
        "            \n",
        "            # PPO\n",
        "            ('ppo_period_short', 12), \n",
        "            ('ppo_period_long', 26),\n",
        "\n",
        "            # Stochastic\n",
        "            ('stochastic_period', 14),\n",
        "\n",
        "            # Other\n",
        "            ('days_ago_close_period', 10),\n",
        "            ('printlog', False),\n",
        "            ('ticker', 'GME'),\n",
        "        )\n",
        "\n",
        "    def log(self, txt, dt=None, doprint=False):\n",
        "        ''' Logging function for this strategy'''\n",
        "        if self.params.printlog or doprint:\n",
        "            dt = dt or self.datas[0].datetime.date(0)\n",
        "            print('%s, %s' % (dt.isoformat(), txt))\n",
        "\n",
        "    def __init__(self):\n",
        "        # Keep a reference to the \"close\" line in the data[0] dataseries\n",
        "        self.dataclose = self.datas[0].close\n",
        "\n",
        "        # To keep track of pending orders and buy price/commission\n",
        "        self.order = None\n",
        "        self.buyprice = None\n",
        "        self.buycomm = None\n",
        "\n",
        "        # Add a MovingAverageSimple indicator\n",
        "        self.sma = bt.indicators.SimpleMovingAverage(\n",
        "            self.datas[0],\n",
        "            period=self.params.maperiod\n",
        "        )\n",
        "        self.rsi = bt.indicators.RSI(period=self.params.rsi_open_period)\n",
        "        self.adx = bt.indicators.ADX(period=self.params.adx_period)\n",
        "        self.ppo = bt.indicators.PPO(\n",
        "            period1=self.params.ppo_period_short,\n",
        "            period2=self.params.ppo_period_long\n",
        "        ) # , period_signal=?)\n",
        "        self.stochastic = bt.indicators.Stochastic(period=self.params.stochastic_period)\n",
        "          # TODO: There are other parameters here, add them all or as needed!\n",
        "\n",
        "        self.order_placed_days_ago = 0\n",
        "        self.csv_filename = 'main'  # TODO: differentiate between runs without duplication\n",
        "        # f'{self.params.ticker}_{datetime.datetime.now().strftime(\"%Y-%m-%d_%H-%M-%S\")}'\n",
        "\n",
        "    def notify_order(self, order):\n",
        "        # Doing: log into a csv:\n",
        "        #   * all metrics\n",
        "        #   * stock price\n",
        "        #   * params at buy, result at close\n",
        "\n",
        "        if order.status in [order.Submitted, order.Accepted]:\n",
        "            # Buy/Sell order submitted/accepted to/by broker - Nothing to do\n",
        "            return\n",
        "\n",
        "        # Check if an order has been completed\n",
        "        # Attention: broker could reject order if not enough cash\n",
        "        if order.status in [order.Completed]:\n",
        "            if order.isbuy():\n",
        "                self.log(\n",
        "                    'BUY EXECUTED, Price: %.2f, Cost: %.2f, Comm %.2f' %\n",
        "                    (order.executed.price,\n",
        "                     order.executed.value,\n",
        "                     order.executed.comm))\n",
        "\n",
        "                self.buyprice = order.executed.price\n",
        "                self.buycomm = order.executed.comm\n",
        "            else:  # Sell\n",
        "                self.log('SELL EXECUTED, Price: %.2f, Cost: %.2f, Comm %.2f' %\n",
        "                         (order.executed.price,\n",
        "                          order.executed.value,\n",
        "                          order.executed.comm))\n",
        "\n",
        "            self.bar_executed = len(self)\n",
        "\n",
        "        elif order.status in [order.Canceled, order.Margin, order.Rejected]:\n",
        "            self.log('Order Canceled/Margin/Rejected')\n",
        "\n",
        "        # Write down: no pending order\n",
        "        self.order = None\n",
        "\n",
        "\n",
        "    def notify_trade(self, trade):\n",
        "        if not trade.isclosed:\n",
        "            return\n",
        "\n",
        "        self.log('OPERATION PROFIT, GROSS %.2f, NET %.2f' %\n",
        "                 (trade.pnl, trade.pnlcomm))\n",
        "\n",
        "    def next(self):\n",
        "        # Simply log the closing price of the series from the reference\n",
        "        self.log('Close, %.2f' % self.dataclose[0])\n",
        "\n",
        "        # Check if an order is pending ... if yes, we cannot send a 2nd one\n",
        "        if self.order:\n",
        "            return\n",
        "\n",
        "        # Check if we are in the market\n",
        "        if not self.position:\n",
        "\n",
        "            # Not yet ... we MIGHT BUY if ...\n",
        "            if self.dataclose[0] > self.sma[0] and self.rsi[0] < 30:\n",
        "                # BUY, BUY, BUY!!! (with all possible default parameters)\n",
        "                self.log('BUY CREATE, %.2f' % self.dataclose[0])\n",
        "\n",
        "                self.trade_info_dict = {\n",
        "                    'uid': str(uuid.uuid1()),\n",
        "                    'ticker': self.params.ticker,\n",
        "                    'date': str(datetime.datetime.now()),\n",
        "                    'price_open': self.dataclose[0],\n",
        "                    'adx': self.adx[0],\n",
        "                    'ppo': self.ppo[0],\n",
        "                    'stochastic': self.stochastic[0],\n",
        "                    'maperiod': self.params.maperiod,\n",
        "                    'rsi_open_period': self.params.rsi_open_period,\n",
        "                    'rsi_close_period': self.params.rsi_close_period,\n",
        "                    'adx_period': self.params.adx_period,\n",
        "                    'ppo_period_short': self.params.ppo_period_short,\n",
        "                    'ppo_period_long': self.params.ppo_period_long,\n",
        "                    'stochastic_period': self.params.stochastic_period,\n",
        "                    'days_ago_close_period': self.params.days_ago_close_period,\n",
        "                }\n",
        "\n",
        "                # CONSIDERATION: the 'checked' price vs the 'order accepted at' price \n",
        "\n",
        "                # Keep track of the created order to avoid a 2nd order\n",
        "                self.order = self.buy()\n",
        "        else:\n",
        "            if self.rsi[0] > self.params.rsi_close_period or self.order_placed_days_ago == self.params.days_ago_close_period:\n",
        "                # SELL, SELL, SELL!!! (with all possible default parameters)\n",
        "                self.log('SELL CREATE, %.2f' % self.dataclose[0])\n",
        "\n",
        "                # Keep track of the created order to avoid a 2nd order\n",
        "                self.order = self.sell()\n",
        "\n",
        "                # Log the selling price\n",
        "                self.trade_info_dict['price_sell'] = self.dataclose[0]\n",
        "                add_entry_to_csv(csv_filename=self.csv_filename, trade_info_dict=copy.deepcopy(self.trade_info_dict))\n",
        "\n",
        "                self.order_placed_days_ago = 0\n",
        "            else:\n",
        "                self.order_placed_days_ago += 1\n",
        "\n",
        "\n",
        "    def stop(self):\n",
        "        self.log(f'(MA Period {self.params.maperiod}, RSI open {self.params.rsi_open_period}, RSI close {self.params.rsi_close_period}, Close after {self.params.days_ago_close_period} days) Ending Value {self.broker.getvalue()}', doprint=False)"
      ],
      "execution_count": 19,
      "outputs": []
    },
    {
      "cell_type": "code",
      "metadata": {
        "id": "lX9r2452h7fU"
      },
      "source": [
        "STRATEGIES_ALL_CONFIGS = {\n",
        "    'Rayner Teo High Winrate': {\n",
        "        KLASS_KEY: RaynerTeoStrategy,\n",
        "\n",
        "        # Optimization\n",
        "        'maperiod': range(195, 205),\n",
        "        'rsi_open_period': range(7, 14),\n",
        "        'rsi_close_period': range(27, 35),\n",
        "        'days_ago_close_period': range(7, 13)\n",
        "        \n",
        "        # # Dummy run\n",
        "        # 'maperiod': 256,\n",
        "        # 'rsi_open_period': 8,\n",
        "        # 'rsi_close_period': 32,\n",
        "        # 'days_ago_close_period': 8\n",
        "    },\n",
        "}"
      ],
      "execution_count": 24,
      "outputs": []
    },
    {
      "cell_type": "code",
      "metadata": {
        "colab": {
          "base_uri": "https://localhost:8080/",
          "height": 1000
        },
        "id": "FAqybwHilwiF",
        "outputId": "306520f1-7d58-4d63-d2ef-9da9d24d0862",
        "tags": []
      },
      "source": [
        "from tqdm.auto import tqdm\n",
        "\n",
        "strategy_name = 'Rayner Teo High Winrate'\n",
        "\n",
        "cfg_cpy = copy.deepcopy(STRATEGIES_ALL_CONFIGS[strategy_name])\n",
        "cfg_cpy.pop(KLASS_KEY)\n",
        "cfg_list = list_configs(cfg_cpy)\n",
        "expected_number_of_tests = len(cfg_list) * len(TICKERS)\n",
        "\n",
        "pbar = tqdm(desc='Running backtests', leave=True, position=1, unit='run', colour='violet', total=expected_number_of_tests)\n",
        "resulting_GME_df = run_backtest_for_strategy_by_name('Rayner Teo High Winrate')"
      ],
      "execution_count": 25,
      "outputs": [
        {
          "output_type": "display_data",
          "data": {
            "text/plain": "Running backtests:   0%|          | 0/16800 [00:00<?, ?run/s]",
            "application/vnd.jupyter.widget-view+json": {
              "version_major": 2,
              "version_minor": 0,
              "model_id": "d667e3dd2a59492da9aa669a022fb70d"
            }
          },
          "metadata": {}
        },
        {
          "output_type": "stream",
          "name": "stdout",
          "text": [
            "Running `run_backtest_for_strategy_by_name` for {strategy_name} for {len(ticker_list)} tickers\n",
            "{'ticker': 'ATVI', 'maperiod': range(195, 205), 'rsi_open_period': range(7, 14), 'rsi_close_period': range(27, 35), 'days_ago_close_period': range(7, 13)}\n",
            "{'ticker': 'EA', 'maperiod': range(195, 205), 'rsi_open_period': range(7, 14), 'rsi_close_period': range(27, 35), 'days_ago_close_period': range(7, 13)}\n",
            "Exception in thread Thread-11:\n",
            "Traceback (most recent call last):\n",
            "  File \"/usr/lib/python3.8/threading.py\", line 932, in _bootstrap_inner\n",
            "    self.run()\n",
            "  File \"/usr/lib/python3.8/threading.py\", line 870, in run\n",
            "    self._target(*self._args, **self._kwargs)\n",
            "  File \"/usr/lib/python3.8/multiprocessing/pool.py\", line 513, in _handle_workers\n",
            "    cls._maintain_pool(ctx, Process, processes, pool, inqueue,\n",
            "  File \"/usr/lib/python3.8/multiprocessing/pool.py\", line 337, in _maintain_pool\n",
            "    Pool._repopulate_pool_static(ctx, Process, processes, pool,\n",
            "  File \"/usr/lib/python3.8/multiprocessing/pool.py\", line 326, in _repopulate_pool_static\n",
            "    w.start()\n",
            "  File \"/usr/lib/python3.8/multiprocessing/process.py\", line 121, in start\n",
            "    self._popen = self._Popen(self)\n",
            "  File \"/usr/lib/python3.8/multiprocessing/context.py\", line 276, in _Popen\n",
            "    return Popen(process_obj)\n",
            "  File \"/usr/lib/python3.8/multiprocessing/popen_fork.py\", line 19, in __init__\n",
            "    self._launch(process_obj)\n",
            "  File \"/usr/lib/python3.8/multiprocessing/popen_fork.py\", line 70, in _launch\n",
            "    self.pid = os.fork()\n",
            "OSError: [Errno 12] Cannot allocate memory\n",
            "Process ForkPoolWorker-29:\n",
            "Process ForkPoolWorker-26:\n",
            "Process ForkPoolWorker-27:\n"
          ]
        },
        {
          "output_type": "error",
          "ename": "KeyboardInterrupt",
          "evalue": "",
          "traceback": [
            "\u001b[0;31m---------------------------------------------------------------------------\u001b[0m",
            "\u001b[0;31mIndexError\u001b[0m                                Traceback (most recent call last)",
            "\u001b[0;32m/usr/lib/python3.8/multiprocessing/pool.py\u001b[0m in \u001b[0;36mnext\u001b[0;34m(self, timeout)\u001b[0m\n\u001b[1;32m    847\u001b[0m             \u001b[0;32mtry\u001b[0m\u001b[0;34m:\u001b[0m\u001b[0;34m\u001b[0m\u001b[0;34m\u001b[0m\u001b[0m\n\u001b[0;32m--> 848\u001b[0;31m                 \u001b[0mitem\u001b[0m \u001b[0;34m=\u001b[0m \u001b[0mself\u001b[0m\u001b[0;34m.\u001b[0m\u001b[0m_items\u001b[0m\u001b[0;34m.\u001b[0m\u001b[0mpopleft\u001b[0m\u001b[0;34m(\u001b[0m\u001b[0;34m)\u001b[0m\u001b[0;34m\u001b[0m\u001b[0;34m\u001b[0m\u001b[0m\n\u001b[0m\u001b[1;32m    849\u001b[0m             \u001b[0;32mexcept\u001b[0m \u001b[0mIndexError\u001b[0m\u001b[0;34m:\u001b[0m\u001b[0;34m\u001b[0m\u001b[0;34m\u001b[0m\u001b[0m\n",
            "\u001b[0;31mIndexError\u001b[0m: pop from an empty deque",
            "\nDuring handling of the above exception, another exception occurred:\n",
            "\u001b[0;31mKeyboardInterrupt\u001b[0m                         Traceback (most recent call last)",
            "\u001b[0;32m<ipython-input-25-4e401243c952>\u001b[0m in \u001b[0;36m<module>\u001b[0;34m\u001b[0m\n\u001b[1;32m      9\u001b[0m \u001b[0;34m\u001b[0m\u001b[0m\n\u001b[1;32m     10\u001b[0m \u001b[0mpbar\u001b[0m \u001b[0;34m=\u001b[0m \u001b[0mtqdm\u001b[0m\u001b[0;34m(\u001b[0m\u001b[0mdesc\u001b[0m\u001b[0;34m=\u001b[0m\u001b[0;34m'Running backtests'\u001b[0m\u001b[0;34m,\u001b[0m \u001b[0mleave\u001b[0m\u001b[0;34m=\u001b[0m\u001b[0;32mTrue\u001b[0m\u001b[0;34m,\u001b[0m \u001b[0mposition\u001b[0m\u001b[0;34m=\u001b[0m\u001b[0;36m1\u001b[0m\u001b[0;34m,\u001b[0m \u001b[0munit\u001b[0m\u001b[0;34m=\u001b[0m\u001b[0;34m'run'\u001b[0m\u001b[0;34m,\u001b[0m \u001b[0mcolour\u001b[0m\u001b[0;34m=\u001b[0m\u001b[0;34m'violet'\u001b[0m\u001b[0;34m,\u001b[0m \u001b[0mtotal\u001b[0m\u001b[0;34m=\u001b[0m\u001b[0mexpected_number_of_tests\u001b[0m\u001b[0;34m)\u001b[0m\u001b[0;34m\u001b[0m\u001b[0;34m\u001b[0m\u001b[0m\n\u001b[0;32m---> 11\u001b[0;31m \u001b[0mresulting_GME_df\u001b[0m \u001b[0;34m=\u001b[0m \u001b[0mrun_backtest_for_strategy_by_name\u001b[0m\u001b[0;34m(\u001b[0m\u001b[0;34m'Rayner Teo High Winrate'\u001b[0m\u001b[0;34m)\u001b[0m\u001b[0;34m\u001b[0m\u001b[0;34m\u001b[0m\u001b[0m\n\u001b[0m",
            "\u001b[0;32m<ipython-input-17-443d4b4d6764>\u001b[0m in \u001b[0;36mrun_backtest_for_strategy_by_name\u001b[0;34m(strategy_name, ticker_list)\u001b[0m\n\u001b[1;32m      6\u001b[0m     \u001b[0mstrategy_setup\u001b[0m \u001b[0;34m=\u001b[0m \u001b[0mSTRATEGIES_ALL_CONFIGS\u001b[0m\u001b[0;34m[\u001b[0m\u001b[0mstrategy_name\u001b[0m\u001b[0;34m]\u001b[0m\u001b[0;34m\u001b[0m\u001b[0;34m\u001b[0m\u001b[0m\n\u001b[1;32m      7\u001b[0m     \u001b[0mstrategy_klass\u001b[0m \u001b[0;34m=\u001b[0m \u001b[0mstrategy_setup\u001b[0m\u001b[0;34m.\u001b[0m\u001b[0mpop\u001b[0m\u001b[0;34m(\u001b[0m\u001b[0mKLASS_KEY\u001b[0m\u001b[0;34m)\u001b[0m\u001b[0;34m\u001b[0m\u001b[0;34m\u001b[0m\u001b[0m\n\u001b[0;32m----> 8\u001b[0;31m     \u001b[0;32mreturn\u001b[0m \u001b[0mrun_backtest_for_strategy\u001b[0m\u001b[0;34m(\u001b[0m\u001b[0mstrategy_klass\u001b[0m\u001b[0;34m,\u001b[0m \u001b[0mticker_list\u001b[0m\u001b[0;34m,\u001b[0m \u001b[0mstrategy_setup\u001b[0m\u001b[0;34m)\u001b[0m\u001b[0;34m\u001b[0m\u001b[0;34m\u001b[0m\u001b[0m\n\u001b[0m\u001b[1;32m      9\u001b[0m \u001b[0;34m\u001b[0m\u001b[0m\n\u001b[1;32m     10\u001b[0m \u001b[0;34m\u001b[0m\u001b[0m\n",
            "\u001b[0;32m<ipython-input-17-443d4b4d6764>\u001b[0m in \u001b[0;36mrun_backtest_for_strategy\u001b[0;34m(strategy_klass, ticker_list, configs)\u001b[0m\n\u001b[1;32m     73\u001b[0m \u001b[0;34m\u001b[0m\u001b[0m\n\u001b[1;32m     74\u001b[0m \u001b[0;34m\u001b[0m\u001b[0m\n\u001b[0;32m---> 75\u001b[0;31m     \u001b[0mrun_through_tickers\u001b[0m\u001b[0;34m(\u001b[0m\u001b[0mstrategy_klass\u001b[0m\u001b[0;34m,\u001b[0m \u001b[0mticker_list\u001b[0m\u001b[0;34m,\u001b[0m \u001b[0;34m**\u001b[0m\u001b[0mconfigs\u001b[0m\u001b[0;34m)\u001b[0m\u001b[0;34m\u001b[0m\u001b[0;34m\u001b[0m\u001b[0m\n\u001b[0m\u001b[1;32m     76\u001b[0m \u001b[0;34m\u001b[0m\u001b[0m\n\u001b[1;32m     77\u001b[0m     \u001b[0;31m# for ticker in ticker_list:\u001b[0m\u001b[0;34m\u001b[0m\u001b[0;34m\u001b[0m\u001b[0;34m\u001b[0m\u001b[0m\n",
            "\u001b[0;32m<ipython-input-13-995432775808>\u001b[0m in \u001b[0;36mrun_through_tickers\u001b[0;34m(strategy_class, ticker_list, *args, **kwargs)\u001b[0m\n\u001b[1;32m     67\u001b[0m \u001b[0;32mdef\u001b[0m \u001b[0mrun_through_tickers\u001b[0m\u001b[0;34m(\u001b[0m\u001b[0mstrategy_class\u001b[0m\u001b[0;34m,\u001b[0m \u001b[0mticker_list\u001b[0m\u001b[0;34m,\u001b[0m \u001b[0;34m*\u001b[0m\u001b[0margs\u001b[0m\u001b[0;34m,\u001b[0m \u001b[0;34m**\u001b[0m\u001b[0mkwargs\u001b[0m\u001b[0;34m)\u001b[0m\u001b[0;34m:\u001b[0m\u001b[0;34m\u001b[0m\u001b[0;34m\u001b[0m\u001b[0m\n\u001b[1;32m     68\u001b[0m     \u001b[0;32mfor\u001b[0m \u001b[0mticker_name\u001b[0m \u001b[0;32min\u001b[0m \u001b[0mticker_list\u001b[0m\u001b[0;34m:\u001b[0m\u001b[0;34m\u001b[0m\u001b[0;34m\u001b[0m\u001b[0m\n\u001b[0;32m---> 69\u001b[0;31m         \u001b[0mtest_strategy\u001b[0m\u001b[0;34m(\u001b[0m\u001b[0mstrategy_class\u001b[0m\u001b[0;34m,\u001b[0m \u001b[0mticker_name\u001b[0m\u001b[0;34m,\u001b[0m \u001b[0;34m*\u001b[0m\u001b[0margs\u001b[0m\u001b[0;34m,\u001b[0m \u001b[0;34m**\u001b[0m\u001b[0mkwargs\u001b[0m\u001b[0;34m)\u001b[0m\u001b[0;34m\u001b[0m\u001b[0;34m\u001b[0m\u001b[0m\n\u001b[0m\u001b[1;32m     70\u001b[0m \u001b[0;34m\u001b[0m\u001b[0m\n\u001b[1;32m     71\u001b[0m         \u001b[0;31m# # Use this to benchmark final results as well!\u001b[0m\u001b[0;34m\u001b[0m\u001b[0;34m\u001b[0m\u001b[0;34m\u001b[0m\u001b[0m\n",
            "\u001b[0;32m<ipython-input-13-995432775808>\u001b[0m in \u001b[0;36mtest_strategy\u001b[0;34m(strategy_class, ticker_name, from_date, to_date, cash, commision, cpu_count, **strategy_kwargs)\u001b[0m\n\u001b[1;32m     51\u001b[0m \u001b[0;34m\u001b[0m\u001b[0m\n\u001b[1;32m     52\u001b[0m     \u001b[0;31m# Run over everything\u001b[0m\u001b[0;34m\u001b[0m\u001b[0;34m\u001b[0m\u001b[0;34m\u001b[0m\u001b[0m\n\u001b[0;32m---> 53\u001b[0;31m     \u001b[0mresults\u001b[0m \u001b[0;34m=\u001b[0m \u001b[0mcerebro\u001b[0m\u001b[0;34m.\u001b[0m\u001b[0mrun\u001b[0m\u001b[0;34m(\u001b[0m\u001b[0mmaxcpus\u001b[0m\u001b[0;34m=\u001b[0m\u001b[0mcpu_count\u001b[0m\u001b[0;34m)\u001b[0m\u001b[0;34m\u001b[0m\u001b[0;34m\u001b[0m\u001b[0m\n\u001b[0m\u001b[1;32m     54\u001b[0m \u001b[0;34m\u001b[0m\u001b[0m\n\u001b[1;32m     55\u001b[0m     \u001b[0;31m# # Use this to benchmark final results as well!\u001b[0m\u001b[0;34m\u001b[0m\u001b[0;34m\u001b[0m\u001b[0;34m\u001b[0m\u001b[0m\n",
            "\u001b[0;32m/usr/local/lib/python3.8/dist-packages/backtrader/cerebro.py\u001b[0m in \u001b[0;36mrun\u001b[0;34m(self, **kwargs)\u001b[0m\n\u001b[1;32m   1141\u001b[0m \u001b[0;34m\u001b[0m\u001b[0m\n\u001b[1;32m   1142\u001b[0m             \u001b[0mpool\u001b[0m \u001b[0;34m=\u001b[0m \u001b[0mmultiprocessing\u001b[0m\u001b[0;34m.\u001b[0m\u001b[0mPool\u001b[0m\u001b[0;34m(\u001b[0m\u001b[0mself\u001b[0m\u001b[0;34m.\u001b[0m\u001b[0mp\u001b[0m\u001b[0;34m.\u001b[0m\u001b[0mmaxcpus\u001b[0m \u001b[0;32mor\u001b[0m \u001b[0;32mNone\u001b[0m\u001b[0;34m)\u001b[0m\u001b[0;34m\u001b[0m\u001b[0;34m\u001b[0m\u001b[0m\n\u001b[0;32m-> 1143\u001b[0;31m             \u001b[0;32mfor\u001b[0m \u001b[0mr\u001b[0m \u001b[0;32min\u001b[0m \u001b[0mpool\u001b[0m\u001b[0;34m.\u001b[0m\u001b[0mimap\u001b[0m\u001b[0;34m(\u001b[0m\u001b[0mself\u001b[0m\u001b[0;34m,\u001b[0m \u001b[0miterstrats\u001b[0m\u001b[0;34m)\u001b[0m\u001b[0;34m:\u001b[0m\u001b[0;34m\u001b[0m\u001b[0;34m\u001b[0m\u001b[0m\n\u001b[0m\u001b[1;32m   1144\u001b[0m                 \u001b[0mself\u001b[0m\u001b[0;34m.\u001b[0m\u001b[0mrunstrats\u001b[0m\u001b[0;34m.\u001b[0m\u001b[0mappend\u001b[0m\u001b[0;34m(\u001b[0m\u001b[0mr\u001b[0m\u001b[0;34m)\u001b[0m\u001b[0;34m\u001b[0m\u001b[0;34m\u001b[0m\u001b[0m\n\u001b[1;32m   1145\u001b[0m                 \u001b[0;32mfor\u001b[0m \u001b[0mcb\u001b[0m \u001b[0;32min\u001b[0m \u001b[0mself\u001b[0m\u001b[0;34m.\u001b[0m\u001b[0moptcbs\u001b[0m\u001b[0;34m:\u001b[0m\u001b[0;34m\u001b[0m\u001b[0;34m\u001b[0m\u001b[0m\n",
            "\u001b[0;32m/usr/lib/python3.8/multiprocessing/pool.py\u001b[0m in \u001b[0;36mnext\u001b[0;34m(self, timeout)\u001b[0m\n\u001b[1;32m    851\u001b[0m                     \u001b[0mself\u001b[0m\u001b[0;34m.\u001b[0m\u001b[0m_pool\u001b[0m \u001b[0;34m=\u001b[0m \u001b[0;32mNone\u001b[0m\u001b[0;34m\u001b[0m\u001b[0;34m\u001b[0m\u001b[0m\n\u001b[1;32m    852\u001b[0m                     \u001b[0;32mraise\u001b[0m \u001b[0mStopIteration\u001b[0m \u001b[0;32mfrom\u001b[0m \u001b[0;32mNone\u001b[0m\u001b[0;34m\u001b[0m\u001b[0;34m\u001b[0m\u001b[0m\n\u001b[0;32m--> 853\u001b[0;31m                 \u001b[0mself\u001b[0m\u001b[0;34m.\u001b[0m\u001b[0m_cond\u001b[0m\u001b[0;34m.\u001b[0m\u001b[0mwait\u001b[0m\u001b[0;34m(\u001b[0m\u001b[0mtimeout\u001b[0m\u001b[0;34m)\u001b[0m\u001b[0;34m\u001b[0m\u001b[0;34m\u001b[0m\u001b[0m\n\u001b[0m\u001b[1;32m    854\u001b[0m                 \u001b[0;32mtry\u001b[0m\u001b[0;34m:\u001b[0m\u001b[0;34m\u001b[0m\u001b[0;34m\u001b[0m\u001b[0m\n\u001b[1;32m    855\u001b[0m                     \u001b[0mitem\u001b[0m \u001b[0;34m=\u001b[0m \u001b[0mself\u001b[0m\u001b[0;34m.\u001b[0m\u001b[0m_items\u001b[0m\u001b[0;34m.\u001b[0m\u001b[0mpopleft\u001b[0m\u001b[0;34m(\u001b[0m\u001b[0;34m)\u001b[0m\u001b[0;34m\u001b[0m\u001b[0;34m\u001b[0m\u001b[0m\n",
            "\u001b[0;32m/usr/lib/python3.8/threading.py\u001b[0m in \u001b[0;36mwait\u001b[0;34m(self, timeout)\u001b[0m\n\u001b[1;32m    300\u001b[0m         \u001b[0;32mtry\u001b[0m\u001b[0;34m:\u001b[0m    \u001b[0;31m# restore state no matter what (e.g., KeyboardInterrupt)\u001b[0m\u001b[0;34m\u001b[0m\u001b[0;34m\u001b[0m\u001b[0m\n\u001b[1;32m    301\u001b[0m             \u001b[0;32mif\u001b[0m \u001b[0mtimeout\u001b[0m \u001b[0;32mis\u001b[0m \u001b[0;32mNone\u001b[0m\u001b[0;34m:\u001b[0m\u001b[0;34m\u001b[0m\u001b[0;34m\u001b[0m\u001b[0m\n\u001b[0;32m--> 302\u001b[0;31m                 \u001b[0mwaiter\u001b[0m\u001b[0;34m.\u001b[0m\u001b[0macquire\u001b[0m\u001b[0;34m(\u001b[0m\u001b[0;34m)\u001b[0m\u001b[0;34m\u001b[0m\u001b[0;34m\u001b[0m\u001b[0m\n\u001b[0m\u001b[1;32m    303\u001b[0m                 \u001b[0mgotit\u001b[0m \u001b[0;34m=\u001b[0m \u001b[0;32mTrue\u001b[0m\u001b[0;34m\u001b[0m\u001b[0;34m\u001b[0m\u001b[0m\n\u001b[1;32m    304\u001b[0m             \u001b[0;32melse\u001b[0m\u001b[0;34m:\u001b[0m\u001b[0;34m\u001b[0m\u001b[0;34m\u001b[0m\u001b[0m\n",
            "\u001b[0;31mKeyboardInterrupt\u001b[0m: "
          ]
        }
      ]
    },
    {
      "cell_type": "code",
      "metadata": {
        "colab": {
          "base_uri": "https://localhost:8080/",
          "height": 197
        },
        "id": "I8EtVw6kk8JW",
        "outputId": "3a02ecf2-d6d5-40d5-9eff-47c414ed7617"
      },
      "source": [
        "# resulting_GME_df.T[resulting_GME_df.T['Annual return'] == resulting_GME_df.T['Annual return'].max()]\n",
        "# resulting_GME_df.T[resulting_GME_df.T['Cumulative returns'] == resulting_GME_df.T['Cumulative returns'].max()]\n",
        "# resulting_GME_df.to_csv('long_run.csv')\n",
        "# resulting_GME_df.to_csv(f'{DATA_LOCATION}/long_run.csv')\n",
        "# resulting_GME_df.T.sort_values('Annual return', ascending=False).head(10)\n",
        "resulting_GME_df"
      ],
      "execution_count": null,
      "outputs": [
        {
          "output_type": "error",
          "ename": "NameError",
          "evalue": "ignored",
          "traceback": [
            "\u001b[0;31m---------------------------------------------------------------------------\u001b[0m",
            "\u001b[0;31mNameError\u001b[0m                                 Traceback (most recent call last)",
            "\u001b[0;32m<ipython-input-1-d758f5edf824>\u001b[0m in \u001b[0;36m<module>\u001b[0;34m()\u001b[0m\n\u001b[1;32m      4\u001b[0m \u001b[0;31m# resulting_GME_df.to_csv(f'{DATA_LOCATION}/long_run.csv')\u001b[0m\u001b[0;34m\u001b[0m\u001b[0;34m\u001b[0m\u001b[0;34m\u001b[0m\u001b[0m\n\u001b[1;32m      5\u001b[0m \u001b[0;31m# resulting_GME_df.T.sort_values('Annual return', ascending=False).head(10)\u001b[0m\u001b[0;34m\u001b[0m\u001b[0;34m\u001b[0m\u001b[0;34m\u001b[0m\u001b[0m\n\u001b[0;32m----> 6\u001b[0;31m \u001b[0mresulting_GME_df\u001b[0m\u001b[0;34m\u001b[0m\u001b[0;34m\u001b[0m\u001b[0m\n\u001b[0m",
            "\u001b[0;31mNameError\u001b[0m: name 'resulting_GME_df' is not defined"
          ]
        }
      ]
    },
    {
      "cell_type": "code",
      "metadata": {
        "colab": {
          "base_uri": "https://localhost:8080/"
        },
        "id": "qs9AkW6nvm5E",
        "outputId": "027dfcfd-9b24-4477-b990-440f4b26dd5b"
      },
      "source": [
        "resulting_GME_df.T.columns"
      ],
      "execution_count": null,
      "outputs": [
        {
          "output_type": "execute_result",
          "data": {
            "text/plain": [
              "Index(['Annual return', 'Cumulative returns', 'Annual volatility',\n",
              "       'Sharpe ratio', 'Calmar ratio', 'Stability', 'Max drawdown',\n",
              "       'Omega ratio', 'Sortino ratio', 'Skew', 'Kurtosis', 'Tail ratio',\n",
              "       'Daily value at risk', 'Gross leverage', 'Daily turnover',\n",
              "       'days_ago_close_period', 'rsi_close_period', 'rsi_open_period',\n",
              "       'maperiod'],\n",
              "      dtype='object')"
            ]
          },
          "metadata": {
            "tags": []
          },
          "execution_count": 87
        }
      ]
    },
    {
      "cell_type": "code",
      "execution_count": 31,
      "metadata": {},
      "outputs": [
        {
          "output_type": "stream",
          "name": "stdout",
          "text": [
            "main.csv\n"
          ]
        }
      ],
      "source": [
        "!ls mount/results"
      ]
    },
    {
      "cell_type": "code",
      "execution_count": 26,
      "metadata": {},
      "outputs": [],
      "source": [
        "!cat mount/results/main.csv | wc -l"
      ]
    },
    {
      "cell_type": "code",
      "execution_count": 52,
      "metadata": {},
      "outputs": [
        {
          "output_type": "stream",
          "name": "stdout",
          "text": [
            "5f94a0a4-a05c-11eb-8ad3-00155d61e157,ATVI,2021-04-18 18:40:16.594367,78.63,14.152655647876955,0.15058240323805255,40.30459153712624,199,7,29,14,12,26,14,8,79.21\n20bfbb02-a05c-11eb-a008-00155d61e157,ATVI,2021-04-18 18:38:31.180391,76.15,28.229983119662982,1.287743099557165,16.25461244666545,195,7,29,14,12,26,14,11,76.42\n72f67442-a05c-11eb-9513-00155d61e157,ATVI,2021-04-18 18:40:49.112199,51.93,11.403308450736116,0.11455183426454449,21.511192377411664,200,7,30,14,12,26,14,12,52.1\n916841f8-a05c-11eb-9513-00155d61e157,ATVI,2021-04-18 18:41:40.189667,78.63,14.152655647876955,0.15058240323805255,40.30459153712624,202,7,32,14,12,26,14,9,79.21\n7af94d4a-a05c-11eb-8ad3-00155d61e157,ATVI,2021-04-18 18:41:02.552635,75.81,15.97865259408921,-0.450567336972133,18.999881001347816,200,11,29,14,12,26,14,9,79.21\n25c664b6-a05c-11eb-a008-00155d61e157,ATVI,2021-04-18 18:38:39.612688,72.17,28.291727284214506,0.5363112654450405,10.913219616755478,195,9,30,14,12,26,14,11,76.42\nb398b442-a05c-11eb-8ad3-00155d61e157,ATVI,2021-04-18 18:42:37.549710,78.63,14.152655647876955,0.15058240323805255,40.30459153712624,204,8,34,14,12,26,14,7,79.21\nb0985d9c-a05c-11eb-9513-00155d61e157,ATVI,2021-04-18 18:42:32.514319,78.63,14.152655647876955,0.15058240323805255,40.30459153712624,204,7,31,14,12,26,14,10,79.21\na30cfd2c-a05c-11eb-8ad3-00155d61e157,ATVI,2021-04-18 18:42:09.790561,51.93,11.403308450736116,0.11455183426454449,21.511192377411664,203,8,31,14,12,26,14,9,51.74\n953232bc-a05c-11eb-8ad3-00155d61e157,ATVI,2021-04-18 18:41:46.546276,51.36,12.452393434908922,-0.30686326542051756,14.902619632364882,202,9,30,14,12,26,14,9,51.74\n"
          ]
        }
      ],
      "source": [
        "!shuf -n 10 mount/results/main.csv"
      ]
    },
    {
      "cell_type": "code",
      "execution_count": null,
      "metadata": {},
      "outputs": [],
      "source": [
        "# !rm mount/results/main.csv"
      ]
    },
    {
      "cell_type": "code",
      "execution_count": null,
      "metadata": {},
      "outputs": [],
      "source": []
    }
  ]
}