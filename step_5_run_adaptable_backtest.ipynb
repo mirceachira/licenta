{
 "cells": [
  {
   "cell_type": "markdown",
   "metadata": {},
   "source": [
    "## Strategy backtesting notebook\n",
    "The following notebook is used to backtest the strategy and generate results to be analyzed later. \n",
    "\n",
    "How the data looks:\n",
    "\"17-09\":{\n",
    "      \"order\":{\n",
    "         \"mean\":{\n",
    "            \"single\":{\n",
    "               \"upper\":{\n",
    "                  \"indicator\":\"stochastic8\",\n",
    "                  \"barrier\":7\n",
    "               },\n",
    "               \"lower\":{\n",
    "                  \"indicator\":\"adx16\",\n",
    "                  \"barrier\":61\n",
    "               }\n",
    "            }\n",
    "         }\n",
    "      }\n",
    "   },\n",
    "   \"6-month\":{\n",
    "      \"mean\":{\n",
    "         \"mean\":{\n",
    "            \"single\":{\n",
    "               \"upper\":{\n",
    "                  \"indicator\":\"stochastic16\",\n",
    "                  \"barrier\":8\n",
    "               },\n",
    "               \"lower\":{\n",
    "                  \"indicator\":\"stochastic32\",\n",
    "                  \"barrier\":78\n",
    "               }\n",
    "            }\n",
    "         }\n",
    "      },\n",
    "      \"order\":{\n",
    "         \"mean\":{\n",
    "            \"single\":{\n",
    "               \"upper\":{\n",
    "                  \"indicator\":\"stochastic8\",\n",
    "                  \"barrier\":7\n",
    "               },\n",
    "               \"lower\":{\n",
    "                  \"indicator\":\"adx16\",\n",
    "                  \"barrier\":61\n",
    "               }\n",
    "            }\n",
    "         }\n",
    "      }\n",
    "   },\n",
    "   \"12-month\":{\n",
    "      \"mean\":{\n",
    "         \"mean\":{\n",
    "            \"single\":{\n",
    "               \"upper\":{\n",
    "                  \"indicator\":\"stochastic16\",\n",
    "                  \"barrier\":8\n",
    "               },\n",
    "               \"lower\":{\n",
    "                  \"indicator\":\"stochastic32\",\n",
    "                  \"barrier\":78\n",
    "               }\n",
    "            }\n",
    "         }\n",
    "      },\n",
    "      \"order\":{\n",
    "         \"mean\":{\n",
    "            \"single\":{\n",
    "               \"upper\":{\n",
    "                  \"indicator\":\"stochastic8\",\n",
    "                  \"barrier\":7\n",
    "               },\n",
    "               \"lower\":{\n",
    "                  \"indicator\":\"adx16\",\n",
    "                  \"barrier\":61\n",
    "               }\n",
    "            }\n",
    "         }\n",
    "      }\n",
    "   },\n",
    "   \"max\":{\n",
    "      \"mean\":{\n",
    "         \"mean\":{\n",
    "            \"single\":{\n",
    "               \"upper\":{\n",
    "                  \"indicator\":\"stochastic16\",\n",
    "                  \"barrier\":8\n",
    "               },\n",
    "               \"lower\":{\n",
    "                  \"indicator\":\"stochastic32\",\n",
    "                  \"barrier\":78\n",
    "               }\n",
    "            }\n",
    "         }\n",
    "      },\n",
    "      \"order\":{\n",
    "         \"mean\":{\n",
    "            \"single\":{\n",
    "               \"upper\":{\n",
    "                  \"indicator\":\"stochastic8\",\n",
    "                  \"barrier\":7\n",
    "               },\n",
    "               \"lower\":{\n",
    "                  \"indicator\":\"adx16\",\n",
    "                  \"barrier\":61\n",
    "               }\n",
    "            }\n",
    "         }\n",
    "      }\n",
    "   }\n",
    "}"
   ]
  },
  {
   "cell_type": "markdown",
   "metadata": {},
   "source": [
    "### Env variables and imports"
   ]
  },
  {
   "cell_type": "code",
   "execution_count": 9,
   "metadata": {
    "id": "YwkYpzgVDcBf"
   },
   "outputs": [],
   "source": [
    "from __future__ import absolute_import, division, print_function, unicode_literals\n",
    "\n",
    "import datetime\n",
    "import os.path\n",
    "import sys\n",
    "import uuid\n",
    "import copy\n",
    "import json\n",
    "# import warnings\n",
    "\n",
    "import pandas as pd\n",
    "import requests\n",
    "import tqdm\n",
    "import backtrader as bt\n",
    "import pyfolio as pf\n",
    "from matplotlib import warnings\n",
    "warnings.filterwarnings(\"ignore\")  # Avoid some noise"
   ]
  },
  {
   "cell_type": "code",
   "execution_count": 10,
   "metadata": {
    "id": "WTFIehcIN1Ms"
   },
   "outputs": [],
   "source": [
    "import datetime \n",
    "import json\n",
    "from datetime import timedelta\n",
    "from dateutil.relativedelta import relativedelta\n",
    "from dateutil import rrule\n",
    "import numpy as np\n",
    "\n",
    "import pandas as pd\n",
    "import tqdm\n",
    "from matplotlib import pyplot\n",
    "import seaborn as sns\n",
    "import dask.dataframe as dd\n",
    "\n",
    "# TIMEFRAME = 'daily'\n",
    "TIMEFRAME = 'weekly'\n",
    "\n",
    "# FRAMEWORK = 'dask'\n",
    "FRAMEWORK = 'pandas'\n",
    "\n",
    "# PERC_CHANGE_METHOD = 'mean'\n",
    "PERC_CHANGE_METHOD = 'order aware'\n",
    "\n",
    "FIRST_DATE = datetime.datetime(2000, 1, 1)\n",
    "LAST_DATE = datetime.datetime(2020, 12, 31)\n",
    "\n",
    "FORWARD_OPT_RESULTS_JSON = f'results/{TIMEFRAME}/forward_opt_results.json'\n",
    "FORWARD_OPT_RESULTS_JSON = 'test.json'\n",
    "BACKWARD_OPT_RESULTS_JSON = f'results/{TIMEFRAME}/backward_opt_results.json'\n",
    "BACKWARD_OPT_RESULTS_JSON = 'test_b.json'\n",
    "# TODO: use proper json path\n",
    "\n"
   ]
  },
  {
   "cell_type": "code",
   "execution_count": 11,
   "metadata": {},
   "outputs": [],
   "source": [
    "# TODO: remove the mdo and pdo indicators as well as 64, 132, 256, 512 periods for simplicity\n",
    "metrics_options = [\"adx\", \"ppo\", \"stochastic\"]\n",
    "size_options = [8, 16, 32]"
   ]
  },
  {
   "cell_type": "code",
   "execution_count": 12,
   "metadata": {},
   "outputs": [],
   "source": [
    "# TODO: is this needed?\n",
    "keys = [end_date.strftime('%y-%m') for end_date in rrule.rrule(rrule.MONTHLY, dtstart=FIRST_DATE, until=LAST_DATE)]\n",
    "\n",
    "timeframes = [\n",
    "    'weekly',\n",
    "#     'daily' # TODO\n",
    "]\n",
    "range_values = [\n",
    "    '6-month',\n",
    "    '12-month',\n",
    "    'max',\n",
    "]\n",
    "forward_func_values = [\n",
    "    'mean',\n",
    "    'order'\n",
    "]\n",
    "backward_func_values = [\n",
    "    'mean',\n",
    "#     None, # TODO\n",
    "#     'order', # TODO\n",
    "#     'linear', # TODO\n",
    "#     'kNN', # TODO\n",
    "]\n",
    "backward_func_options = [\n",
    "    'single',\n",
    "#     'double' # TODO\n",
    "]\n",
    "perc_allocated_per_trade = [\n",
    "    3,\n",
    "    5,\n",
    "    10,\n",
    "    20,\n",
    "    25\n",
    "]"
   ]
  },
  {
   "cell_type": "code",
   "execution_count": 15,
   "metadata": {},
   "outputs": [
    {
     "data": {
      "text/plain": [
       "[('weekly', '6-month', 'mean', 'single', 'mean', 3),\n",
       " ('weekly', '6-month', 'mean', 'single', 'mean', 5),\n",
       " ('weekly', '6-month', 'mean', 'single', 'mean', 10),\n",
       " ('weekly', '6-month', 'mean', 'single', 'mean', 20),\n",
       " ('weekly', '6-month', 'mean', 'single', 'mean', 25),\n",
       " ('weekly', '6-month', 'order', 'single', 'mean', 3),\n",
       " ('weekly', '6-month', 'order', 'single', 'mean', 5),\n",
       " ('weekly', '6-month', 'order', 'single', 'mean', 10),\n",
       " ('weekly', '6-month', 'order', 'single', 'mean', 20),\n",
       " ('weekly', '6-month', 'order', 'single', 'mean', 25),\n",
       " ('weekly', '12-month', 'mean', 'single', 'mean', 3),\n",
       " ('weekly', '12-month', 'mean', 'single', 'mean', 5),\n",
       " ('weekly', '12-month', 'mean', 'single', 'mean', 10),\n",
       " ('weekly', '12-month', 'mean', 'single', 'mean', 20),\n",
       " ('weekly', '12-month', 'mean', 'single', 'mean', 25),\n",
       " ('weekly', '12-month', 'order', 'single', 'mean', 3),\n",
       " ('weekly', '12-month', 'order', 'single', 'mean', 5),\n",
       " ('weekly', '12-month', 'order', 'single', 'mean', 10),\n",
       " ('weekly', '12-month', 'order', 'single', 'mean', 20),\n",
       " ('weekly', '12-month', 'order', 'single', 'mean', 25),\n",
       " ('weekly', 'max', 'mean', 'single', 'mean', 3),\n",
       " ('weekly', 'max', 'mean', 'single', 'mean', 5),\n",
       " ('weekly', 'max', 'mean', 'single', 'mean', 10),\n",
       " ('weekly', 'max', 'mean', 'single', 'mean', 20),\n",
       " ('weekly', 'max', 'mean', 'single', 'mean', 25),\n",
       " ('weekly', 'max', 'order', 'single', 'mean', 3),\n",
       " ('weekly', 'max', 'order', 'single', 'mean', 5),\n",
       " ('weekly', 'max', 'order', 'single', 'mean', 10),\n",
       " ('weekly', 'max', 'order', 'single', 'mean', 20),\n",
       " ('weekly', 'max', 'order', 'single', 'mean', 25)]"
      ]
     },
     "execution_count": 15,
     "metadata": {},
     "output_type": "execute_result"
    }
   ],
   "source": [
    "from itertools import product\n",
    "\n",
    "all_strategy_combinations = list(product(timeframes, range_values, forward_func_values, backward_func_options, backward_func_values, perc_allocated_per_trade))\n",
    "all_strategy_combinations"
   ]
  },
  {
   "cell_type": "code",
   "execution_count": 16,
   "metadata": {},
   "outputs": [
    {
     "data": {
      "text/plain": [
       "[('weekly', '6-month', 'mean', 'single', 'mean', 3),\n",
       " ('weekly', '6-month', 'mean', 'single', 'mean', 5),\n",
       " ('weekly', '6-month', 'mean', 'single', 'mean', 10),\n",
       " ('weekly', '6-month', 'mean', 'single', 'mean', 20),\n",
       " ('weekly', '6-month', 'mean', 'single', 'mean', 25),\n",
       " ('weekly', '6-month', 'order', 'single', 'mean', 3),\n",
       " ('weekly', '6-month', 'order', 'single', 'mean', 5),\n",
       " ('weekly', '6-month', 'order', 'single', 'mean', 10),\n",
       " ('weekly', '6-month', 'order', 'single', 'mean', 20),\n",
       " ('weekly', '6-month', 'order', 'single', 'mean', 25),\n",
       " ('weekly', '12-month', 'mean', 'single', 'mean', 3),\n",
       " ('weekly', '12-month', 'mean', 'single', 'mean', 5),\n",
       " ('weekly', '12-month', 'mean', 'single', 'mean', 10),\n",
       " ('weekly', '12-month', 'mean', 'single', 'mean', 20),\n",
       " ('weekly', '12-month', 'mean', 'single', 'mean', 25),\n",
       " ('weekly', '12-month', 'order', 'single', 'mean', 3),\n",
       " ('weekly', '12-month', 'order', 'single', 'mean', 5),\n",
       " ('weekly', '12-month', 'order', 'single', 'mean', 10),\n",
       " ('weekly', '12-month', 'order', 'single', 'mean', 20),\n",
       " ('weekly', '12-month', 'order', 'single', 'mean', 25),\n",
       " ('weekly', 'max', 'mean', 'single', 'mean', 3),\n",
       " ('weekly', 'max', 'mean', 'single', 'mean', 5),\n",
       " ('weekly', 'max', 'mean', 'single', 'mean', 10),\n",
       " ('weekly', 'max', 'mean', 'single', 'mean', 20),\n",
       " ('weekly', 'max', 'mean', 'single', 'mean', 25),\n",
       " ('weekly', 'max', 'order', 'single', 'mean', 3),\n",
       " ('weekly', 'max', 'order', 'single', 'mean', 5),\n",
       " ('weekly', 'max', 'order', 'single', 'mean', 10),\n",
       " ('weekly', 'max', 'order', 'single', 'mean', 20),\n",
       " ('weekly', 'max', 'order', 'single', 'mean', 25)]"
      ]
     },
     "execution_count": 16,
     "metadata": {},
     "output_type": "execute_result"
    }
   ],
   "source": [
    "with open('parsed_combinations.json', 'r') as f:\n",
    "    parsed_combinations = json.loads(json.dumps(all_strategy_combinations)) # json.loads(f.read())\n",
    "\n",
    "unparsed_strategy_combinations = [entry for entry in all_strategy_combinations if tuple(entry) not in parsed_combinations]\n",
    "unparsed_strategy_combinations"
   ]
  },
  {
   "cell_type": "code",
   "execution_count": 18,
   "metadata": {},
   "outputs": [
    {
     "data": {
      "text/plain": [
       "('weekly', '6-month', 'mean', 'single', 'mean', 3)"
      ]
     },
     "execution_count": 18,
     "metadata": {},
     "output_type": "execute_result"
    }
   ],
   "source": [
    "timeframe, period, forward_opt_func, backward_opt_func, backward_opt_func_option, perc_allocated = unparsed_strategy_combinations[0]\n",
    "timeframe, period, forward_opt_func, backward_opt_func, backward_opt_func_option, perc_allocated"
   ]
  },
  {
   "cell_type": "markdown",
   "metadata": {},
   "source": [
    "### Utilities"
   ]
  },
  {
   "cell_type": "code",
   "execution_count": null,
   "metadata": {},
   "outputs": [],
   "source": [
    "def get_forward_opt_json():\n",
    "    with open(FORWARD_OPT_RESULTS_JSON, 'r') as f:\n",
    "        return json.loads(f.read())\n",
    "\n",
    "FORWARD_OPT_JSON = get_forward_opt_json()\n",
    "\n",
    "def get_backward_opt_json():\n",
    "    with open(BACKWARD_OPT_RESULTS_JSON, 'r') as f:\n",
    "        return json.loads(f.read())\n",
    "\n",
    "BACKWARD_OPT_JSON = get_backward_opt_json()   \n",
    "\n",
    "\n",
    "def is_pair_parsed(key, range_val, func_val):\n",
    "    if key not in BACKWARD_OPT_JSON:\n",
    "        return False\n",
    "    \n",
    "    if range_val not in BACKWARD_OPT_JSON[key]:\n",
    "        return False\n",
    "    \n",
    "    if func_val not in BACKWARD_OPT_JSON[key][range_val]:\n",
    "        return False\n",
    "    \n",
    "    return True"
   ]
  },
  {
   "cell_type": "code",
   "execution_count": 20,
   "metadata": {
    "id": "-B_cI37-L_bp"
   },
   "outputs": [],
   "source": [
    "def get_ticker_csv_path(ticker_name, timeframe):\n",
    "    return f\"/home/narboom23/Projects/licenta/data/{timeframe}_tickers/{ticker_name}.csv\"\n",
    "\n",
    "\n",
    "# def get_ticker_csv_as_df(ticker_name, timeframe):\n",
    "#     return pd.read_csv(get_ticker_csv_path(ticker_name, timeframe))"
   ]
  },
  {
   "cell_type": "markdown",
   "metadata": {},
   "source": [
    "### Strategy\n",
    "The main strategy class used"
   ]
  },
  {
   "cell_type": "code",
   "execution_count": 19,
   "metadata": {
    "id": "pKF2ZXkaQb6G"
   },
   "outputs": [],
   "source": [
    "class RaynerTeoStrategy(bt.Strategy):\n",
    "    params = (\n",
    "        ('timeframe', 'daily'),\n",
    "        ('period', 'max'),\n",
    "        ('forward_opt_func', 'mean'),\n",
    "        ('backward_opt_func', 'mean'),\n",
    "        ('backward_opt_func_option', 'single'),\n",
    "    )\n",
    "\n",
    "    def log(self, txt, dt=None, doprint=False):\n",
    "        \"\"\"Logging function for this strategy\"\"\"\n",
    "        if self.params.printlog or doprint:\n",
    "            dt = dt or self.datas[0].datetime.date(0)\n",
    "            print(\"%s, %s\" % (dt.isoformat(), txt))\n",
    "\n",
    "    def __init__(self):\n",
    "        self.inds = dict()\n",
    "        for i, d in enumerate(self.datas):\n",
    "            self.inds[d] = dict()\n",
    "\n",
    "            self.inds[d][\"sma180\"] = bt.indicators.SimpleMovingAverage(\n",
    "                d.close, period=self.params.maperiod\n",
    "            )\n",
    "            self.inds[d][\"sma200\"] = bt.indicators.SimpleMovingAverage(\n",
    "                d.close, period=self.params.maperiod\n",
    "            )\n",
    "            self.inds[d][\"sma220\"] = bt.indicators.SimpleMovingAverage(\n",
    "                d.close, period=self.params.maperiod\n",
    "            )\n",
    "            self.inds[d][\"sma240\"] = bt.indicators.SimpleMovingAverage(\n",
    "                d.close, period=self.params.maperiod\n",
    "            )\n",
    "            self.inds[d][\"sma260\"] = bt.indicators.SimpleMovingAverage(\n",
    "                d.close, period=self.params.maperiod\n",
    "            )\n",
    "            self.inds[d][\"sma280\"] = bt.indicators.SimpleMovingAverage(\n",
    "                d.close, period=self.params.maperiod\n",
    "            )\n",
    "            \n",
    "            self.inds[d][\"rsi2\"] = bt.indicators.RSI(\n",
    "                d.close, period=self.params.rsi_open_period, safediv=True\n",
    "            )\n",
    "            self.inds[d][\"rsi4\"] = bt.indicators.RSI(\n",
    "                d.close, period=self.params.rsi_open_period, safediv=True\n",
    "            )\n",
    "            self.inds[d][\"rsi6\"] = bt.indicators.RSI(\n",
    "                d.close, period=self.params.rsi_open_period, safediv=True\n",
    "            )\n",
    "            self.inds[d][\"rsi8\"] = bt.indicators.RSI(\n",
    "                d.close, period=self.params.rsi_open_period, safediv=True\n",
    "            )\n",
    "            self.inds[d][\"rsi10\"] = bt.indicators.RSI(\n",
    "                d.close, period=self.params.rsi_open_period, safediv=True\n",
    "            )\n",
    "            self.inds[d][\"rsi12\"] = bt.indicators.RSI(\n",
    "                d.close, period=self.params.rsi_open_period, safediv=True\n",
    "            )\n",
    "            self.inds[d][\"rsi14\"] = bt.indicators.RSI(\n",
    "                d.close, period=self.params.rsi_open_period, safediv=True\n",
    "            )\n",
    "\n",
    "            self.inds[d][\"adx8\"] = bt.indicators.ADX(d, period=8)\n",
    "            self.inds[d][\"adx16\"] = bt.indicators.ADX(d, period=16)\n",
    "            self.inds[d][\"adx32\"] = bt.indicators.ADX(d, period=32)\n",
    "\n",
    "            self.inds[d][\"ppo8\"] = bt.indicators.PPO(\n",
    "                d.close, period1=8, period2=self.params.maperiod\n",
    "            )  # , period_signal=?)\n",
    "            self.inds[d][\"ppo16\"] = bt.indicators.PPO(\n",
    "                d.close, period1=16, period2=self.params.maperiod\n",
    "            )  # , period_signal=?)\n",
    "            self.inds[d][\"ppo32\"] = bt.indicators.PPO(\n",
    "                d.close, period1=32, period2=self.params.maperiod\n",
    "            )  # , period_signal=?)\n",
    "            \n",
    "            self.inds[d][\"stochastic8\"] = bt.indicators.Stochastic(\n",
    "                d, period=8, safediv=True\n",
    "            )\n",
    "            self.inds[d][\"stochastic16\"] = bt.indicators.Stochastic(\n",
    "                d, period=16, safediv=True\n",
    "            )\n",
    "            self.inds[d][\"stochastic32\"] = bt.indicators.Stochastic(\n",
    "                d, period=32, safediv=True\n",
    "            )\n",
    "\n",
    "            self.inds[d][\"order_placed_days_ago\"] = 0\n",
    "        \n",
    "    def next(self):\n",
    "        optimal_params = get_forward_optimal_params(date, self.params.period) # TODO\n",
    "        optimal_sma = optimal_params['sma']\n",
    "        optimal_rsi_open = optimal_params['rsi_open_period']\n",
    "        optimal_days_ago = optimal_params['days_ago']\n",
    "        \n",
    "        backward_optimal_params = get_backward_optimal_params(date, self.params.period)  # TODO\n",
    "\n",
    "        for i, d in enumerate(self.datas):\n",
    "            dt, dn = self.datetime.date(), d._name\n",
    "            pos = self.getposition(d).size\n",
    "\n",
    "            if not pos:\n",
    "                if d.close[0] > self.inds[d][optimal_sma][0] and self.inds[d][optimal_rsi_open][0] < 30:\n",
    "                    self.buy(data=d)\n",
    "            else:\n",
    "                if self.params.backward_opt_func == None: \n",
    "                    if self.inds[d][optimal_rsi_open][0] >= self.params.rsi_close_period or self.inds[d][\"order_placed_days_ago\"] >= optimal_days_ago:\n",
    "                        self.sell(data=d)\n",
    "                        self.inds[d][\"order_placed_days_ago\"] = 0\n",
    "                    else:\n",
    "                        self.inds[d][\"order_placed_days_ago\"] += 1\n",
    "                else:\n",
    "                    barrier = backward_optimal_params[self.params.backward_opt_func_option]['barrier']\n",
    "                    indicator = backward_optimal_params[self.params.backward_opt_func_option]['indicator']\n",
    "                    \n",
    "                    if self.params.backward_opt_func_option == 'lower':\n",
    "                        new_condition = self.inds[d][indicator] <= barrier\n",
    "                    else:\n",
    "                        new_condition = self.inds[d][indicator] >= barrier\n",
    "                        \n",
    "                    if new_condition is True:\n",
    "                        if self.inds[d][optimal_rsi_open][0] >= self.params.rsi_close_period or self.inds[d][\"order_placed_days_ago\"] >= optimal_days_ago:\n",
    "                            self.sell(data=d)\n",
    "                            self.inds[d][\"order_placed_days_ago\"] = 0\n",
    "                        else:\n",
    "                            self.inds[d][\"order_placed_days_ago\"] += 1\n",
    "                    else:\n",
    "                        self.inds[d][\"order_placed_days_ago\"] += 1\n",
    "\n",
    "    def stop(self):\n",
    "        self.log(\n",
    "            f\"(timeframe {self.params.timeframe}, \"\n",
    "            f\"period {self.params.period}, \"\n",
    "            f\"forward opt func {self.params.forward_opt_func}, \"\n",
    "            f\"backward opt function {self.params.backward_opt_func}\"\n",
    "            f\"backward opt function option {self.params.backward_opt_func_option}) \"\n",
    "            f\"Ending Value {self.broker.getvalue()}\",\n",
    "            doprint=True,\n",
    "        )"
   ]
  },
  {
   "cell_type": "markdown",
   "metadata": {},
   "source": [
    "## Run configuration"
   ]
  },
  {
   "cell_type": "code",
   "execution_count": null,
   "metadata": {},
   "outputs": [],
   "source": [
    "DEFAULT_FROM_DATE = datetime.datetime(2004, 1, 1)\n",
    "DEFAULT_TO_DATE = datetime.datetime(2020, 12, 31)\n",
    "DEFAULT_CASH = 100.0\n",
    "DEFAULT_COMMISION = 0.0\n",
    "DEFAULT_CPU_COUNT = 4\n",
    "DEFAULT_TICKER_LIST = []"
   ]
  },
  {
   "cell_type": "code",
   "execution_count": null,
   "metadata": {},
   "outputs": [],
   "source": [
    "perc_allocated_per_trade = [\n",
    "    3,\n",
    "    5,\n",
    "    10,\n",
    "    20,\n",
    "    25\n",
    "]\n",
    "\n",
    "timeframes = [\n",
    "    'weekly',\n",
    "#     'daily' # TODO\n",
    "]\n",
    "\n",
    "range_values = [\n",
    "    '6-month',\n",
    "    '12-month',\n",
    "    'max',\n",
    "]\n",
    "forward_func_values = [\n",
    "    'mean',\n",
    "    'order'\n",
    "]\n",
    "backward_func_values = [\n",
    "    'mean',\n",
    "#     None, # TODO\n",
    "#     'order', # TODO\n",
    "#     'linear', # TODO\n",
    "#     'kNN', # TODO\n",
    "]\n",
    "backward_func_options = [\n",
    "    'lower',\n",
    "    'upper'\n",
    "    # TODO\n",
    "    #     'single',\n",
    "    #     'double'\n",
    "]"
   ]
  },
  {
   "cell_type": "code",
   "execution_count": 21,
   "metadata": {},
   "outputs": [
    {
     "data": {
      "text/plain": [
       "[('weekly', 3), ('weekly', 5), ('weekly', 10), ('weekly', 20), ('weekly', 25)]"
      ]
     },
     "execution_count": 21,
     "metadata": {},
     "output_type": "execute_result"
    }
   ],
   "source": [
    "list(product(timeframes, perc_allocated_per_trade))"
   ]
  },
  {
   "cell_type": "code",
   "execution_count": null,
   "metadata": {},
   "outputs": [],
   "source": [
    "PERC_ALLOCATED = 25\n",
    "TIMEFRAME = 'weekly'"
   ]
  },
  {
   "cell_type": "code",
   "execution_count": null,
   "metadata": {},
   "outputs": [],
   "source": [
    "# Create a cerebro entity\n",
    "cerebro = bt.Cerebro(stdstats=False)\n",
    "\n",
    "cerebro.addobserver(bt.observers.Broker)\n",
    "cerebro.addobserver(bt.observers.Trades)\n",
    "\n",
    "\n",
    "# Add a strategy\n",
    "# strats = cerebro.addstrategy(RaynerTeoStrategy, **{\n",
    "strats = cerebro.optstrategy(RaynerTeoStrategy, **{\n",
    "    'timeframe': TIMEFRAME,\n",
    "    'period': range_values,\n",
    "    'forward_opt_func': forward_func_values,\n",
    "    'backward_opt_func': backward_func_values,\n",
    "    'backward_opt_func_option': backward_func_options,\n",
    "})\n",
    "\n",
    "\n",
    "datalist = [\n",
    "    (get_ticker_csv_path(ticker_name, TIMEFRAME), ticker_name) for ticker_name in DEFAULT_TICKER_LIST\n",
    "]\n",
    "\n",
    "for i in range(len(DEFAULT_TICKER_LIST)):\n",
    "    # Create a Data Feed\n",
    "    data = bt.feeds.YahooFinanceCSVData(\n",
    "        dataname=datalist[i][0],\n",
    "        name=datalist[i][1],\n",
    "        # Do not pass values before this date\n",
    "        fromdate=DEFAULT_FROM_DATE,\n",
    "        # Do not pass values before this date\n",
    "        todate=DEFAULT_TO_DATE,\n",
    "        # Do not pass values after this date\n",
    "        reverse=False,\n",
    "    )\n",
    "    data.plotinfo.plot = False\n",
    "\n",
    "    # Add the Data Feed to Cerebro\n",
    "    cerebro.adddata(data)\n",
    "\n",
    "# Set our desired cash start\n",
    "cerebro.broker.setcash(DEFAULT_CASH)\n",
    "\n",
    "# Add pyfolio analyzer for stats\n",
    "cerebro.addanalyzer(bt.analyzers.PyFolio, _name='pyfolio')\n",
    "\n",
    "# Add a FixedSize sizer according to the stake\n",
    "cerebro.addsizer(bt.sizers.PercentSizer, percents=PERC_ALLOCATED)\n",
    "\n",
    "# Set the commission\n",
    "cerebro.broker.setcommission(commission=DEFAULT_COMMISION)\n",
    "\n",
    "# Run over everything\n",
    "strat = cerebro.run(maxcpus=DEFAULT_CPU_COUNT)\n",
    "\n",
    "# Print out the final result\n",
    "print('Final Portfolio Value: %.2f' % cerebro.broker.getvalue())"
   ]
  },
  {
   "cell_type": "code",
   "execution_count": null,
   "metadata": {},
   "outputs": [],
   "source": [
    "pyfoliozer = strat[1][0].analyzers.getbyname('pyfolio')\n",
    "returns, positions, transactions, gross_lev = pyfoliozer.get_pf_items()"
   ]
  },
  {
   "cell_type": "code",
   "execution_count": null,
   "metadata": {},
   "outputs": [],
   "source": [
    "strat[0][0]"
   ]
  },
  {
   "cell_type": "code",
   "execution_count": null,
   "metadata": {},
   "outputs": [],
   "source": [
    "dir(strat[0][0])"
   ]
  },
  {
   "cell_type": "code",
   "execution_count": null,
   "metadata": {},
   "outputs": [],
   "source": [
    "dir(strat[0][0].params)"
   ]
  },
  {
   "cell_type": "code",
   "execution_count": null,
   "metadata": {},
   "outputs": [],
   "source": [
    "strat[0][0].params.maperiod"
   ]
  },
  {
   "cell_type": "code",
   "execution_count": null,
   "metadata": {},
   "outputs": [],
   "source": [
    "strat[1][0].params.maperiod"
   ]
  },
  {
   "cell_type": "code",
   "execution_count": null,
   "metadata": {},
   "outputs": [],
   "source": [
    "# TODO: find function and get this as a dataframe\n",
    "# TODO: find a way to also save this so that you can display the result later\n",
    "pf.create_simple_tear_sheet(returns)"
   ]
  },
  {
   "cell_type": "code",
   "execution_count": null,
   "metadata": {},
   "outputs": [],
   "source": []
  },
  {
   "cell_type": "code",
   "execution_count": null,
   "metadata": {},
   "outputs": [],
   "source": []
  },
  {
   "cell_type": "code",
   "execution_count": null,
   "metadata": {},
   "outputs": [],
   "source": [
    "run strategy optimization\n",
    "save results to file"
   ]
  },
  {
   "cell_type": "code",
   "execution_count": null,
   "metadata": {},
   "outputs": [],
   "source": [
    "parse results\n",
    "find best by field\n"
   ]
  }
 ],
 "metadata": {
  "colab": {
   "authorship_tag": "ABX9TyO4A5jAInKmPtAbof7tEXTa",
   "collapsed_sections": [],
   "include_colab_link": true,
   "name": "licenta.ipynb",
   "provenance": []
  },
  "kernelspec": {
   "display_name": "Python 3",
   "language": "python",
   "name": "python3"
  },
  "language_info": {
   "codemirror_mode": {
    "name": "ipython",
    "version": 3
   },
   "file_extension": ".py",
   "mimetype": "text/x-python",
   "name": "python",
   "nbconvert_exporter": "python",
   "pygments_lexer": "ipython3",
   "version": "3.9.5"
  }
 },
 "nbformat": 4,
 "nbformat_minor": 1
}
