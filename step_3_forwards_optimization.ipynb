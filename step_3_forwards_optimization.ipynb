{
 "cells": [
  {
   "cell_type": "markdown",
   "metadata": {},
   "source": [
    "### Forwards optimization notebook\n",
    "\n",
    "By forward optimization here I mean optimization that only tunes existing parameters.\n",
    "AKA finding the optimal value for any given parameter the strategy has so that it yields better results.\n",
    "\n",
    "This notebook aims to create an interface json which can later be easily read for the optimal parameters for a given timeframe (start to date and period before to date)."
   ]
  },
  {
   "cell_type": "markdown",
   "metadata": {},
   "source": [
    "for start_date in range(first_date, last_date):\n",
    "    for end_date in range(start_date, last_date):\n",
    "        generate_list of stuff\n",
    "        \n",
    "for thing in generated list not yet parsed:\n",
    "    run the computation cronjob\n",
    "    save the parsed config for later\n",
    "    \n",
    "def compute_optimal_stuff():\n",
    "    filter the dataset & save it to disk maybe?\n",
    "    groub by `each parameter` and apply function\n",
    "    save the results for each parameter - function combination list\n",
    "    \n",
    "def save_otpimal_stuff()\n",
    "    open the json\n",
    "    save under date range key\n",
    "    \n",
    "results_json = {\n",
    "    'date currently at': {\n",
    "        '1-month': {\n",
    "            'mean': {\n",
    "                'sma': ..,\n",
    "                'rsi close': ..\n",
    "                ...\n",
    "            },\n",
    "            'order': ..\n",
    "            'linear': ..\n",
    "        }\n",
    "        '3-month': ..\n",
    "        '6-month': ..\n",
    "        '12-month': ..\n",
    "        'max': ..\n",
    "    }\n",
    "}\n",
    "\n",
    "If a date range is empty, the next one in line will be selected. If all are empty, it will use the default params.\n",
    "It does NOT account for how many trades there are out there?\n"
   ]
  },
  {
   "cell_type": "markdown",
   "metadata": {},
   "source": [
    "### Imports and variables"
   ]
  },
  {
   "cell_type": "code",
   "execution_count": 7,
   "metadata": {},
   "outputs": [],
   "source": [
    "import datetime \n",
    "import json\n",
    "from datetime import timedelta\n",
    "from dateutil.relativedelta import relativedelta\n",
    "from dateutil import rrule\n",
    "\n",
    "import pandas as pd\n",
    "import tqdm\n",
    "from matplotlib import pyplot\n",
    "import seaborn as sns\n",
    "import dask.dataframe as dd\n",
    "\n",
    "# TIMEFRAME = 'daily'\n",
    "TIMEFRAME = 'weekly'\n",
    "\n",
    "# FRAMEWORK = 'dask'\n",
    "FRAMEWORK = 'pandas'\n",
    "\n",
    "# PERC_CHANGE_METHOD = 'mean'\n",
    "PERC_CHANGE_METHOD = 'order aware'\n",
    "\n",
    "FIRST_DATE = datetime.datetime(2000, 1, 1)\n",
    "LAST_DATE = datetime.datetime(2020, 12, 31)\n",
    "\n",
    "FORWARD_OPT_RESULTS_JSON = f'results/{TIMEFRAME}/forward_opt_results.json'"
   ]
  },
  {
   "cell_type": "markdown",
   "metadata": {},
   "source": [
    "### Utils"
   ]
  },
  {
   "cell_type": "code",
   "execution_count": 8,
   "metadata": {},
   "outputs": [],
   "source": [
    "def get_sample(the_df):\n",
    "    print(f'There are {len(the_df)} rows in the dataframe/series')\n",
    "    try:\n",
    "        res = the_df.sample(frac=5)\n",
    "    except ValueError:\n",
    "        res = the_df.sample(3)\n",
    "    \n",
    "    return res"
   ]
  },
  {
   "cell_type": "code",
   "execution_count": 9,
   "metadata": {},
   "outputs": [],
   "source": [
    "def save_results(key, results_for_key):\n",
    "    with open(FORWARD_OPT_RESULTS_JSON, 'r') as f:\n",
    "        results_dict = json.loads(f.read())\n",
    "        \n",
    "    results_dict[key] = results_for_key\n",
    "    \n",
    "    with open(FORWARD_OPT_RESULTS_JSON, 'w') as f:\n",
    "        f.write(json.dumps(results_dict))\n",
    "\n",
    "# save_results('a', {1:2,3:4})"
   ]
  },
  {
   "cell_type": "code",
   "execution_count": 20,
   "metadata": {},
   "outputs": [],
   "source": [
    "def get_pair_entry(start_date, end_date):\n",
    "    return (\n",
    "        f\"{start_date.strftime('%y-%m')}-to-{end_date.strftime('%y-%m')}\",\n",
    "        start_date,\n",
    "        end_date\n",
    "    )\n",
    "\n",
    "def generate_date_ranges():\n",
    "    resulting_dict = {}\n",
    "    for end_date in rrule.rrule(rrule.MONTHLY, dtstart=FIRST_DATE, until=LAST_DATE):\n",
    "        resulting_dict[end_date.strftime('%y-%m')] = {\n",
    "#             '1-month': get_pair_entry(end_date + relativedelta(months=-1), end_date),\n",
    "#             '3-month': get_pair_entry(end_date + relativedelta(months=-3), end_date),\n",
    "            '6-month': get_pair_entry(end_date + relativedelta(months=-6), end_date),\n",
    "            '12-month': get_pair_entry(end_date + relativedelta(months=-12), end_date),\n",
    "            'max': get_pair_entry(FIRST_DATE, end_date)\n",
    "        }\n",
    "\n",
    "    return resulting_dict\n",
    "\n",
    "\n",
    "def get_parsed_date_ranges():\n",
    "    with open(FORWARD_OPT_RESULTS_JSON, 'r') as f:\n",
    "        results_dict = json.loads(f.read())\n",
    "    \n",
    "    return list(results_dict.keys())\n",
    "\n",
    "# for k,v in generate_date_ranges().items():\n",
    "#     print(k)\n",
    "#     print(v)\n",
    "# #     range_name, key, start_date, end_date = v\n",
    "# #     print(range_name, key, start_date, end_date)\n",
    "#     raise Exception"
   ]
  },
  {
   "cell_type": "markdown",
   "metadata": {},
   "source": [
    "### Load the dataframe"
   ]
  },
  {
   "cell_type": "code",
   "execution_count": 21,
   "metadata": {},
   "outputs": [],
   "source": [
    "if TIMEFRAME == 'daily':\n",
    "    path = 'dataset/daily/'\n",
    "    column_names = [\n",
    "        \"uid\",\n",
    "        \"ticker\",\n",
    "        \"date\",\n",
    "        \"price_open\",\n",
    "        \"maperiod\",\n",
    "        \"rsi_open_period\",\n",
    "        \"adx8\",\n",
    "        \"adx16\",\n",
    "        \"adx32\",\n",
    "        \"ppo8\",\n",
    "        \"ppo16\",\n",
    "        \"ppo32\",\n",
    "        \"stochastic8\",\n",
    "        \"stochastic16\",\n",
    "        \"stochastic32\",\n",
    "        \"price_sell\",\n",
    "        \"days_ago_close_period\",\n",
    "        \"rsi_close_period\",\n",
    "    ]\n",
    "elif TIMEFRAME == 'weekly':\n",
    "    path = 'dataset/weekly/'    \n",
    "    column_names = [\n",
    "        \"uid\",\n",
    "        \"ticker\",\n",
    "        \"date\",\n",
    "        \"price_open\",\n",
    "        \"maperiod\",\n",
    "        \"rsi_open_period\",\n",
    "        \"adx3\",\n",
    "        \"adx6\",\n",
    "        \"adx9\",\n",
    "        \"ppo3\",\n",
    "        \"ppo6\",\n",
    "        \"ppo9\",\n",
    "        \"stochastic3\",\n",
    "        \"stochastic6\",\n",
    "        \"stochastic9\",\n",
    "        \"price_sell\",\n",
    "        \"days_ago_close_period\",\n",
    "        \"rsi_close_period\",\n",
    "    ]\n",
    "\n",
    "if FRAMEWORK == 'pandas':\n",
    "    d = pd\n",
    "    f = f\"{path}/all_results.csv\"\n",
    "elif FRAMEWORK == 'dask':\n",
    "    d = dd\n",
    "    f = f\"{path}/*.csv\"\n",
    "\n",
    "# Read CSV file and assign the right column names\n",
    "# Comment the first two rows if you don't want to use the entire dataset, and instead just work on a sample\n",
    "df = d.read_csv(\n",
    "    f,\n",
    "    names=column_names,\n",
    ")"
   ]
  },
  {
   "cell_type": "code",
   "execution_count": 22,
   "metadata": {},
   "outputs": [
    {
     "name": "stdout",
     "output_type": "stream",
     "text": [
      "There are 42596 rows in the dataframe/series\n"
     ]
    },
    {
     "data": {
      "text/html": [
       "<div>\n",
       "<style scoped>\n",
       "    .dataframe tbody tr th:only-of-type {\n",
       "        vertical-align: middle;\n",
       "    }\n",
       "\n",
       "    .dataframe tbody tr th {\n",
       "        vertical-align: top;\n",
       "    }\n",
       "\n",
       "    .dataframe thead th {\n",
       "        text-align: right;\n",
       "    }\n",
       "</style>\n",
       "<table border=\"1\" class=\"dataframe\">\n",
       "  <thead>\n",
       "    <tr style=\"text-align: right;\">\n",
       "      <th></th>\n",
       "      <th>uid</th>\n",
       "      <th>ticker</th>\n",
       "      <th>date</th>\n",
       "      <th>price_open</th>\n",
       "      <th>maperiod</th>\n",
       "      <th>rsi_open_period</th>\n",
       "      <th>adx3</th>\n",
       "      <th>adx6</th>\n",
       "      <th>adx9</th>\n",
       "      <th>ppo3</th>\n",
       "      <th>ppo6</th>\n",
       "      <th>ppo9</th>\n",
       "      <th>stochastic3</th>\n",
       "      <th>stochastic6</th>\n",
       "      <th>stochastic9</th>\n",
       "      <th>price_sell</th>\n",
       "      <th>days_ago_close_period</th>\n",
       "      <th>rsi_close_period</th>\n",
       "    </tr>\n",
       "  </thead>\n",
       "  <tbody>\n",
       "    <tr>\n",
       "      <th>35421</th>\n",
       "      <td>ccc8ada9-c05e-11eb-854a-95fa4750c8c5</td>\n",
       "      <td>AXP</td>\n",
       "      <td>2010-04-29</td>\n",
       "      <td>37.68</td>\n",
       "      <td>45</td>\n",
       "      <td>2</td>\n",
       "      <td>71.691926</td>\n",
       "      <td>50.991281</td>\n",
       "      <td>39.927642</td>\n",
       "      <td>20.230539</td>\n",
       "      <td>18.314953</td>\n",
       "      <td>16.178059</td>\n",
       "      <td>50.973455</td>\n",
       "      <td>67.434881</td>\n",
       "      <td>74.998105</td>\n",
       "      <td>34.75</td>\n",
       "      <td>3</td>\n",
       "      <td>57.141888</td>\n",
       "    </tr>\n",
       "    <tr>\n",
       "      <th>38515</th>\n",
       "      <td>12fb551a-c05c-11eb-8546-95fa4750c8c5</td>\n",
       "      <td>MMM</td>\n",
       "      <td>2010-10-28</td>\n",
       "      <td>63.72</td>\n",
       "      <td>45</td>\n",
       "      <td>2</td>\n",
       "      <td>67.537864</td>\n",
       "      <td>33.040950</td>\n",
       "      <td>21.443295</td>\n",
       "      <td>7.075165</td>\n",
       "      <td>7.220042</td>\n",
       "      <td>6.567182</td>\n",
       "      <td>62.700871</td>\n",
       "      <td>67.721525</td>\n",
       "      <td>76.399782</td>\n",
       "      <td>64.43</td>\n",
       "      <td>0</td>\n",
       "      <td>34.142331</td>\n",
       "    </tr>\n",
       "    <tr>\n",
       "      <th>40196</th>\n",
       "      <td>f53d0808-c05d-11eb-8548-95fa4750c8c5</td>\n",
       "      <td>MO</td>\n",
       "      <td>2007-12-27</td>\n",
       "      <td>10.96</td>\n",
       "      <td>35</td>\n",
       "      <td>2</td>\n",
       "      <td>40.209478</td>\n",
       "      <td>39.280942</td>\n",
       "      <td>30.080929</td>\n",
       "      <td>8.106431</td>\n",
       "      <td>7.539823</td>\n",
       "      <td>6.494510</td>\n",
       "      <td>46.080369</td>\n",
       "      <td>73.333333</td>\n",
       "      <td>74.873512</td>\n",
       "      <td>11.40</td>\n",
       "      <td>1</td>\n",
       "      <td>56.027134</td>\n",
       "    </tr>\n",
       "  </tbody>\n",
       "</table>\n",
       "</div>"
      ],
      "text/plain": [
       "                                        uid ticker        date  price_open  \\\n",
       "35421  ccc8ada9-c05e-11eb-854a-95fa4750c8c5    AXP  2010-04-29       37.68   \n",
       "38515  12fb551a-c05c-11eb-8546-95fa4750c8c5    MMM  2010-10-28       63.72   \n",
       "40196  f53d0808-c05d-11eb-8548-95fa4750c8c5     MO  2007-12-27       10.96   \n",
       "\n",
       "       maperiod  rsi_open_period       adx3       adx6       adx9       ppo3  \\\n",
       "35421        45                2  71.691926  50.991281  39.927642  20.230539   \n",
       "38515        45                2  67.537864  33.040950  21.443295   7.075165   \n",
       "40196        35                2  40.209478  39.280942  30.080929   8.106431   \n",
       "\n",
       "            ppo6       ppo9  stochastic3  stochastic6  stochastic9  \\\n",
       "35421  18.314953  16.178059    50.973455    67.434881    74.998105   \n",
       "38515   7.220042   6.567182    62.700871    67.721525    76.399782   \n",
       "40196   7.539823   6.494510    46.080369    73.333333    74.873512   \n",
       "\n",
       "       price_sell  days_ago_close_period  rsi_close_period  \n",
       "35421       34.75                      3         57.141888  \n",
       "38515       64.43                      0         34.142331  \n",
       "40196       11.40                      1         56.027134  "
      ]
     },
     "execution_count": 22,
     "metadata": {},
     "output_type": "execute_result"
    }
   ],
   "source": [
    "get_sample(df)"
   ]
  },
  {
   "cell_type": "markdown",
   "metadata": {},
   "source": [
    "### Compute the change percentage\n",
    "And drop the price_sell and price_open columns because they are no longer used"
   ]
  },
  {
   "cell_type": "code",
   "execution_count": 23,
   "metadata": {},
   "outputs": [],
   "source": [
    "# Add the percentage change for the price\n",
    "df[\"perc_change\"] = (df[\"price_sell\"] - df[\"price_open\"]) / df[\"price_open\"] * 100"
   ]
  },
  {
   "cell_type": "code",
   "execution_count": 24,
   "metadata": {},
   "outputs": [],
   "source": [
    "# The prices can now be dropped since I won't need them anymore\n",
    "df = df.drop([\"price_sell\", \"price_open\"], axis=1)"
   ]
  },
  {
   "cell_type": "code",
   "execution_count": 25,
   "metadata": {},
   "outputs": [
    {
     "name": "stdout",
     "output_type": "stream",
     "text": [
      "There are 42596 rows in the dataframe/series\n"
     ]
    },
    {
     "data": {
      "text/html": [
       "<div>\n",
       "<style scoped>\n",
       "    .dataframe tbody tr th:only-of-type {\n",
       "        vertical-align: middle;\n",
       "    }\n",
       "\n",
       "    .dataframe tbody tr th {\n",
       "        vertical-align: top;\n",
       "    }\n",
       "\n",
       "    .dataframe thead th {\n",
       "        text-align: right;\n",
       "    }\n",
       "</style>\n",
       "<table border=\"1\" class=\"dataframe\">\n",
       "  <thead>\n",
       "    <tr style=\"text-align: right;\">\n",
       "      <th></th>\n",
       "      <th>uid</th>\n",
       "      <th>ticker</th>\n",
       "      <th>date</th>\n",
       "      <th>maperiod</th>\n",
       "      <th>rsi_open_period</th>\n",
       "      <th>adx3</th>\n",
       "      <th>adx6</th>\n",
       "      <th>adx9</th>\n",
       "      <th>ppo3</th>\n",
       "      <th>ppo6</th>\n",
       "      <th>ppo9</th>\n",
       "      <th>stochastic3</th>\n",
       "      <th>stochastic6</th>\n",
       "      <th>stochastic9</th>\n",
       "      <th>days_ago_close_period</th>\n",
       "      <th>rsi_close_period</th>\n",
       "      <th>perc_change</th>\n",
       "    </tr>\n",
       "  </thead>\n",
       "  <tbody>\n",
       "    <tr>\n",
       "      <th>4284</th>\n",
       "      <td>905c763a-c05c-11eb-8547-95fa4750c8c5</td>\n",
       "      <td>ADBE</td>\n",
       "      <td>2016-10-27</td>\n",
       "      <td>35</td>\n",
       "      <td>2</td>\n",
       "      <td>31.639358</td>\n",
       "      <td>28.765381</td>\n",
       "      <td>22.444453</td>\n",
       "      <td>7.598029</td>\n",
       "      <td>7.476459</td>\n",
       "      <td>6.679736</td>\n",
       "      <td>29.680905</td>\n",
       "      <td>55.724114</td>\n",
       "      <td>74.290852</td>\n",
       "      <td>1</td>\n",
       "      <td>19.380850</td>\n",
       "      <td>-1.709321</td>\n",
       "    </tr>\n",
       "    <tr>\n",
       "      <th>19121</th>\n",
       "      <td>adea7624-c05d-11eb-8548-95fa4750c8c5</td>\n",
       "      <td>ALL</td>\n",
       "      <td>2017-04-06</td>\n",
       "      <td>40</td>\n",
       "      <td>2</td>\n",
       "      <td>43.634043</td>\n",
       "      <td>54.493731</td>\n",
       "      <td>50.981378</td>\n",
       "      <td>9.803131</td>\n",
       "      <td>9.560990</td>\n",
       "      <td>8.716995</td>\n",
       "      <td>43.771324</td>\n",
       "      <td>45.073410</td>\n",
       "      <td>73.227699</td>\n",
       "      <td>5</td>\n",
       "      <td>90.629604</td>\n",
       "      <td>5.983135</td>\n",
       "    </tr>\n",
       "    <tr>\n",
       "      <th>21407</th>\n",
       "      <td>d7726b53-c05c-11eb-8547-95fa4750c8c5</td>\n",
       "      <td>AMD</td>\n",
       "      <td>2017-04-27</td>\n",
       "      <td>40</td>\n",
       "      <td>4</td>\n",
       "      <td>49.203109</td>\n",
       "      <td>29.563318</td>\n",
       "      <td>32.337276</td>\n",
       "      <td>14.433520</td>\n",
       "      <td>21.013207</td>\n",
       "      <td>22.954396</td>\n",
       "      <td>39.941173</td>\n",
       "      <td>27.520637</td>\n",
       "      <td>21.769234</td>\n",
       "      <td>2</td>\n",
       "      <td>32.299515</td>\n",
       "      <td>4.812320</td>\n",
       "    </tr>\n",
       "  </tbody>\n",
       "</table>\n",
       "</div>"
      ],
      "text/plain": [
       "                                        uid ticker        date  maperiod  \\\n",
       "4284   905c763a-c05c-11eb-8547-95fa4750c8c5   ADBE  2016-10-27        35   \n",
       "19121  adea7624-c05d-11eb-8548-95fa4750c8c5    ALL  2017-04-06        40   \n",
       "21407  d7726b53-c05c-11eb-8547-95fa4750c8c5    AMD  2017-04-27        40   \n",
       "\n",
       "       rsi_open_period       adx3       adx6       adx9       ppo3       ppo6  \\\n",
       "4284                 2  31.639358  28.765381  22.444453   7.598029   7.476459   \n",
       "19121                2  43.634043  54.493731  50.981378   9.803131   9.560990   \n",
       "21407                4  49.203109  29.563318  32.337276  14.433520  21.013207   \n",
       "\n",
       "            ppo9  stochastic3  stochastic6  stochastic9  \\\n",
       "4284    6.679736    29.680905    55.724114    74.290852   \n",
       "19121   8.716995    43.771324    45.073410    73.227699   \n",
       "21407  22.954396    39.941173    27.520637    21.769234   \n",
       "\n",
       "       days_ago_close_period  rsi_close_period  perc_change  \n",
       "4284                       1         19.380850    -1.709321  \n",
       "19121                      5         90.629604     5.983135  \n",
       "21407                      2         32.299515     4.812320  "
      ]
     },
     "execution_count": 25,
     "metadata": {},
     "output_type": "execute_result"
    }
   ],
   "source": [
    "get_sample(df)"
   ]
  },
  {
   "cell_type": "markdown",
   "metadata": {},
   "source": [
    "# Strategy explanation\n",
    "## Initial strategy parameters\n",
    "### SMA\n",
    "The simple moving average of close prices for the close price of the previous day to be above so that we have the first buy signal\n",
    "### RSI open\n",
    "The relative strength index lower barrier to break for a buy signal\n",
    "### RSI close\n",
    "The relative strength index barrier that, if it breaks above, indicates a sell signal\n",
    "### Days to wait before closing a trade\n",
    "If the RSI close barrier is not reached, how long to hold the trade before selling.\n",
    "\n",
    "## Forward optimizations goals \n",
    "Find the best parameter combination for this strategy by exploring relatively close range of values for each of the previously mentioned parameters.\n",
    "It's called 'forward' because we already have a strategy defined but we just tweak it's parameters in the hopes of improving results.\n",
    "This will be explored next, and the focus on 'backward' optimization will fall into a later part of the notebook.\n",
    "\n",
    "\n",
    "##### It is important to note how the dataset was generated, only the RSI open and SMA indicators were considered and 20 days were recorded."
   ]
  },
  {
   "cell_type": "markdown",
   "metadata": {},
   "source": [
    "### Optimization utilities\n",
    "The idea is simple:\n",
    "\n",
    "    1. Groub py a field\n",
    "    2. Find the best value for 'perc_change'\n",
    "    3. Return the best value for the field that was grouped by\n",
    "    \n",
    "The problem is step 2. How do you compute the best perc_change value?\n",
    "Ideas:\n",
    "\n",
    "    * The simplest approach is to use the mean. It's easy to compute but doesn't show us the real picture because it doesn't account for the order of trades                     \n",
    "\n",
    "    * Another option may be to apply these trades in order to one unit. This doesn't account for random starting times.                                  \n",
    "    \n",
    "    * Another option may be to apply these trader in order to one unit, multiple times, each time dropping one entry from beggining to end. Finally, find the mean of these resulting values. The advantage is that it accounts for order but also for random starting points.                       "
   ]
  },
  {
   "cell_type": "code",
   "execution_count": 26,
   "metadata": {},
   "outputs": [],
   "source": [
    "def mean_optimal_func(tmp_df_groupby):\n",
    "    tmp_df = tmp_df_groupby[\"perc_change\"].mean()\n",
    "    max_value = tmp_df.idxmax()\n",
    "\n",
    "    if FRAMEWORK == 'dask':\n",
    "        max_value = max_value.compute()\n",
    "\n",
    "    return max_value\n",
    "\n",
    "\n",
    "def order_optimal_func(tmp_df_groupby):\n",
    "    def outcome_computation(x):\n",
    "        l = []\n",
    "        for _, perc_change in x.sort_values(['date'])['perc_change'].iteritems():\n",
    "            l.append(perc_change)\n",
    "\n",
    "        results = []\n",
    "        for i in range(len(l)):\n",
    "            res = 1\n",
    "            for j in range(i, len(l)):\n",
    "                res += (res * l[j]) / 100\n",
    "            results.append(res)\n",
    "\n",
    "        return sum(results) / len(results)\n",
    "\n",
    "    if FRAMEWORK == 'pandas':\n",
    "        outcome_series = tmp_df_groupby.apply(outcome_computation)\n",
    "    else:\n",
    "        outcome_series = tmp_df_groupby.apply(outcome_computation, meta=('float'))\n",
    "\n",
    "    res = outcome_series.idxmax()\n",
    "    return res if FRAMEWORK == 'pandas' else res.compute()\n",
    "\n",
    "\n",
    "def linear_optimal_func(df):\n",
    "    pass\n",
    "\n",
    "\n",
    "def compute_optimal_params_using_func(df, func):\n",
    "    optimal_days_ago = int(func(df.groupby(['days_ago_close_period'])))\n",
    "    df = df[df['days_ago_close_period'] == optimal_days_ago]\n",
    "    \n",
    "    optimal_rsi_open = int(func(df.groupby(['rsi_open_period'])))\n",
    "    df = df[df['rsi_open_period'] == optimal_rsi_open]\n",
    "    \n",
    "    optimal_maperiod = int(func(df.groupby(['maperiod'])))\n",
    "    df = df[df['maperiod'] == optimal_maperiod]\n",
    "    \n",
    "    result = {\n",
    "        'days_ago_close_period': optimal_days_ago,\n",
    "        'rsi_open_period': optimal_rsi_open,\n",
    "        'maperiod': optimal_maperiod\n",
    "    }\n",
    "    \n",
    "    return result \n",
    "\n",
    "\n",
    "def compute_optimal_results(df):\n",
    "    return {\n",
    "        'mean': compute_optimal_params_using_func(df, mean_optimal_func),\n",
    "        'order': compute_optimal_params_using_func(df, order_optimal_func),\n",
    "#         'linear': compute_optimal_params_using_func(filtered_df, linear_optimal_func),\n",
    "    }\n"
   ]
  },
  {
   "cell_type": "code",
   "execution_count": 27,
   "metadata": {},
   "outputs": [],
   "source": [
    "def filter_df_by_dates(df, start_date, end_date):\n",
    "    return df[(df['date'] >= start_date.strftime('%Y-%m-%d')) & (df['date'] <= end_date.strftime('%Y-%m-%d'))]"
   ]
  },
  {
   "cell_type": "code",
   "execution_count": 28,
   "metadata": {},
   "outputs": [],
   "source": [
    "STRATEGY_OUT_OF_THE_BOX_KWARGS = {\n",
    "    'maperiod': 200,\n",
    "    'rsi_open_period': 10,\n",
    "    'days_ago_close_period': 10\n",
    "} if TIMEFRAME == 'daily' else {\n",
    "    'maperiod': 40,\n",
    "    'rsi_open_period': 2,\n",
    "    'days_ago_close_period': 2\n",
    "}\n",
    "DEFAULT_STRATEGY_KWARGS = {\n",
    "    'mean': STRATEGY_OUT_OF_THE_BOX_KWARGS,\n",
    "    'order': STRATEGY_OUT_OF_THE_BOX_KWARGS,\n",
    "#     'linear': STRATEGY_OUT_OF_THE_BOX_KWARGS\n",
    "}"
   ]
  },
  {
   "cell_type": "code",
   "execution_count": 41,
   "metadata": {},
   "outputs": [
    {
     "data": {
      "text/plain": [
       "{'00-01': {'6-month': ('99-07-to-00-01',\n",
       "   datetime.datetime(1999, 7, 1, 0, 0),\n",
       "   datetime.datetime(2000, 1, 1, 0, 0)),\n",
       "  '12-month': ('99-01-to-00-01',\n",
       "   datetime.datetime(1999, 1, 1, 0, 0),\n",
       "   datetime.datetime(2000, 1, 1, 0, 0)),\n",
       "  'max': ('00-01-to-00-01',\n",
       "   datetime.datetime(2000, 1, 1, 0, 0),\n",
       "   datetime.datetime(2000, 1, 1, 0, 0))},\n",
       " '00-02': {'6-month': ('99-08-to-00-02',\n",
       "   datetime.datetime(1999, 8, 1, 0, 0),\n",
       "   datetime.datetime(2000, 2, 1, 0, 0)),\n",
       "  '12-month': ('99-02-to-00-02',\n",
       "   datetime.datetime(1999, 2, 1, 0, 0),\n",
       "   datetime.datetime(2000, 2, 1, 0, 0)),\n",
       "  'max': ('00-01-to-00-02',\n",
       "   datetime.datetime(2000, 1, 1, 0, 0),\n",
       "   datetime.datetime(2000, 2, 1, 0, 0))},\n",
       " '00-03': {'6-month': ('99-09-to-00-03',\n",
       "   datetime.datetime(1999, 9, 1, 0, 0),\n",
       "   datetime.datetime(2000, 3, 1, 0, 0)),\n",
       "  '12-month': ('99-03-to-00-03',\n",
       "   datetime.datetime(1999, 3, 1, 0, 0),\n",
       "   datetime.datetime(2000, 3, 1, 0, 0)),\n",
       "  'max': ('00-01-to-00-03',\n",
       "   datetime.datetime(2000, 1, 1, 0, 0),\n",
       "   datetime.datetime(2000, 3, 1, 0, 0))},\n",
       " '00-04': {'6-month': ('99-10-to-00-04',\n",
       "   datetime.datetime(1999, 10, 1, 0, 0),\n",
       "   datetime.datetime(2000, 4, 1, 0, 0)),\n",
       "  '12-month': ('99-04-to-00-04',\n",
       "   datetime.datetime(1999, 4, 1, 0, 0),\n",
       "   datetime.datetime(2000, 4, 1, 0, 0)),\n",
       "  'max': ('00-01-to-00-04',\n",
       "   datetime.datetime(2000, 1, 1, 0, 0),\n",
       "   datetime.datetime(2000, 4, 1, 0, 0))},\n",
       " '00-05': {'6-month': ('99-11-to-00-05',\n",
       "   datetime.datetime(1999, 11, 1, 0, 0),\n",
       "   datetime.datetime(2000, 5, 1, 0, 0)),\n",
       "  '12-month': ('99-05-to-00-05',\n",
       "   datetime.datetime(1999, 5, 1, 0, 0),\n",
       "   datetime.datetime(2000, 5, 1, 0, 0)),\n",
       "  'max': ('00-01-to-00-05',\n",
       "   datetime.datetime(2000, 1, 1, 0, 0),\n",
       "   datetime.datetime(2000, 5, 1, 0, 0))},\n",
       " '00-06': {'6-month': ('99-12-to-00-06',\n",
       "   datetime.datetime(1999, 12, 1, 0, 0),\n",
       "   datetime.datetime(2000, 6, 1, 0, 0)),\n",
       "  '12-month': ('99-06-to-00-06',\n",
       "   datetime.datetime(1999, 6, 1, 0, 0),\n",
       "   datetime.datetime(2000, 6, 1, 0, 0)),\n",
       "  'max': ('00-01-to-00-06',\n",
       "   datetime.datetime(2000, 1, 1, 0, 0),\n",
       "   datetime.datetime(2000, 6, 1, 0, 0))},\n",
       " '00-07': {'6-month': ('00-01-to-00-07',\n",
       "   datetime.datetime(2000, 1, 1, 0, 0),\n",
       "   datetime.datetime(2000, 7, 1, 0, 0)),\n",
       "  '12-month': ('99-07-to-00-07',\n",
       "   datetime.datetime(1999, 7, 1, 0, 0),\n",
       "   datetime.datetime(2000, 7, 1, 0, 0)),\n",
       "  'max': ('00-01-to-00-07',\n",
       "   datetime.datetime(2000, 1, 1, 0, 0),\n",
       "   datetime.datetime(2000, 7, 1, 0, 0))},\n",
       " '00-08': {'6-month': ('00-02-to-00-08',\n",
       "   datetime.datetime(2000, 2, 1, 0, 0),\n",
       "   datetime.datetime(2000, 8, 1, 0, 0)),\n",
       "  '12-month': ('99-08-to-00-08',\n",
       "   datetime.datetime(1999, 8, 1, 0, 0),\n",
       "   datetime.datetime(2000, 8, 1, 0, 0)),\n",
       "  'max': ('00-01-to-00-08',\n",
       "   datetime.datetime(2000, 1, 1, 0, 0),\n",
       "   datetime.datetime(2000, 8, 1, 0, 0))},\n",
       " '00-09': {'6-month': ('00-03-to-00-09',\n",
       "   datetime.datetime(2000, 3, 1, 0, 0),\n",
       "   datetime.datetime(2000, 9, 1, 0, 0)),\n",
       "  '12-month': ('99-09-to-00-09',\n",
       "   datetime.datetime(1999, 9, 1, 0, 0),\n",
       "   datetime.datetime(2000, 9, 1, 0, 0)),\n",
       "  'max': ('00-01-to-00-09',\n",
       "   datetime.datetime(2000, 1, 1, 0, 0),\n",
       "   datetime.datetime(2000, 9, 1, 0, 0))},\n",
       " '00-10': {'6-month': ('00-04-to-00-10',\n",
       "   datetime.datetime(2000, 4, 1, 0, 0),\n",
       "   datetime.datetime(2000, 10, 1, 0, 0)),\n",
       "  '12-month': ('99-10-to-00-10',\n",
       "   datetime.datetime(1999, 10, 1, 0, 0),\n",
       "   datetime.datetime(2000, 10, 1, 0, 0)),\n",
       "  'max': ('00-01-to-00-10',\n",
       "   datetime.datetime(2000, 1, 1, 0, 0),\n",
       "   datetime.datetime(2000, 10, 1, 0, 0))},\n",
       " '00-11': {'6-month': ('00-05-to-00-11',\n",
       "   datetime.datetime(2000, 5, 1, 0, 0),\n",
       "   datetime.datetime(2000, 11, 1, 0, 0)),\n",
       "  '12-month': ('99-11-to-00-11',\n",
       "   datetime.datetime(1999, 11, 1, 0, 0),\n",
       "   datetime.datetime(2000, 11, 1, 0, 0)),\n",
       "  'max': ('00-01-to-00-11',\n",
       "   datetime.datetime(2000, 1, 1, 0, 0),\n",
       "   datetime.datetime(2000, 11, 1, 0, 0))},\n",
       " '00-12': {'6-month': ('00-06-to-00-12',\n",
       "   datetime.datetime(2000, 6, 1, 0, 0),\n",
       "   datetime.datetime(2000, 12, 1, 0, 0)),\n",
       "  '12-month': ('99-12-to-00-12',\n",
       "   datetime.datetime(1999, 12, 1, 0, 0),\n",
       "   datetime.datetime(2000, 12, 1, 0, 0)),\n",
       "  'max': ('00-01-to-00-12',\n",
       "   datetime.datetime(2000, 1, 1, 0, 0),\n",
       "   datetime.datetime(2000, 12, 1, 0, 0))},\n",
       " '01-01': {'6-month': ('00-07-to-01-01',\n",
       "   datetime.datetime(2000, 7, 1, 0, 0),\n",
       "   datetime.datetime(2001, 1, 1, 0, 0)),\n",
       "  '12-month': ('00-01-to-01-01',\n",
       "   datetime.datetime(2000, 1, 1, 0, 0),\n",
       "   datetime.datetime(2001, 1, 1, 0, 0)),\n",
       "  'max': ('00-01-to-01-01',\n",
       "   datetime.datetime(2000, 1, 1, 0, 0),\n",
       "   datetime.datetime(2001, 1, 1, 0, 0))},\n",
       " '01-02': {'6-month': ('00-08-to-01-02',\n",
       "   datetime.datetime(2000, 8, 1, 0, 0),\n",
       "   datetime.datetime(2001, 2, 1, 0, 0)),\n",
       "  '12-month': ('00-02-to-01-02',\n",
       "   datetime.datetime(2000, 2, 1, 0, 0),\n",
       "   datetime.datetime(2001, 2, 1, 0, 0)),\n",
       "  'max': ('00-01-to-01-02',\n",
       "   datetime.datetime(2000, 1, 1, 0, 0),\n",
       "   datetime.datetime(2001, 2, 1, 0, 0))},\n",
       " '01-03': {'6-month': ('00-09-to-01-03',\n",
       "   datetime.datetime(2000, 9, 1, 0, 0),\n",
       "   datetime.datetime(2001, 3, 1, 0, 0)),\n",
       "  '12-month': ('00-03-to-01-03',\n",
       "   datetime.datetime(2000, 3, 1, 0, 0),\n",
       "   datetime.datetime(2001, 3, 1, 0, 0)),\n",
       "  'max': ('00-01-to-01-03',\n",
       "   datetime.datetime(2000, 1, 1, 0, 0),\n",
       "   datetime.datetime(2001, 3, 1, 0, 0))},\n",
       " '01-04': {'6-month': ('00-10-to-01-04',\n",
       "   datetime.datetime(2000, 10, 1, 0, 0),\n",
       "   datetime.datetime(2001, 4, 1, 0, 0)),\n",
       "  '12-month': ('00-04-to-01-04',\n",
       "   datetime.datetime(2000, 4, 1, 0, 0),\n",
       "   datetime.datetime(2001, 4, 1, 0, 0)),\n",
       "  'max': ('00-01-to-01-04',\n",
       "   datetime.datetime(2000, 1, 1, 0, 0),\n",
       "   datetime.datetime(2001, 4, 1, 0, 0))},\n",
       " '01-05': {'6-month': ('00-11-to-01-05',\n",
       "   datetime.datetime(2000, 11, 1, 0, 0),\n",
       "   datetime.datetime(2001, 5, 1, 0, 0)),\n",
       "  '12-month': ('00-05-to-01-05',\n",
       "   datetime.datetime(2000, 5, 1, 0, 0),\n",
       "   datetime.datetime(2001, 5, 1, 0, 0)),\n",
       "  'max': ('00-01-to-01-05',\n",
       "   datetime.datetime(2000, 1, 1, 0, 0),\n",
       "   datetime.datetime(2001, 5, 1, 0, 0))},\n",
       " '01-06': {'6-month': ('00-12-to-01-06',\n",
       "   datetime.datetime(2000, 12, 1, 0, 0),\n",
       "   datetime.datetime(2001, 6, 1, 0, 0)),\n",
       "  '12-month': ('00-06-to-01-06',\n",
       "   datetime.datetime(2000, 6, 1, 0, 0),\n",
       "   datetime.datetime(2001, 6, 1, 0, 0)),\n",
       "  'max': ('00-01-to-01-06',\n",
       "   datetime.datetime(2000, 1, 1, 0, 0),\n",
       "   datetime.datetime(2001, 6, 1, 0, 0))},\n",
       " '01-07': {'6-month': ('01-01-to-01-07',\n",
       "   datetime.datetime(2001, 1, 1, 0, 0),\n",
       "   datetime.datetime(2001, 7, 1, 0, 0)),\n",
       "  '12-month': ('00-07-to-01-07',\n",
       "   datetime.datetime(2000, 7, 1, 0, 0),\n",
       "   datetime.datetime(2001, 7, 1, 0, 0)),\n",
       "  'max': ('00-01-to-01-07',\n",
       "   datetime.datetime(2000, 1, 1, 0, 0),\n",
       "   datetime.datetime(2001, 7, 1, 0, 0))},\n",
       " '01-08': {'6-month': ('01-02-to-01-08',\n",
       "   datetime.datetime(2001, 2, 1, 0, 0),\n",
       "   datetime.datetime(2001, 8, 1, 0, 0)),\n",
       "  '12-month': ('00-08-to-01-08',\n",
       "   datetime.datetime(2000, 8, 1, 0, 0),\n",
       "   datetime.datetime(2001, 8, 1, 0, 0)),\n",
       "  'max': ('00-01-to-01-08',\n",
       "   datetime.datetime(2000, 1, 1, 0, 0),\n",
       "   datetime.datetime(2001, 8, 1, 0, 0))},\n",
       " '01-09': {'6-month': ('01-03-to-01-09',\n",
       "   datetime.datetime(2001, 3, 1, 0, 0),\n",
       "   datetime.datetime(2001, 9, 1, 0, 0)),\n",
       "  '12-month': ('00-09-to-01-09',\n",
       "   datetime.datetime(2000, 9, 1, 0, 0),\n",
       "   datetime.datetime(2001, 9, 1, 0, 0)),\n",
       "  'max': ('00-01-to-01-09',\n",
       "   datetime.datetime(2000, 1, 1, 0, 0),\n",
       "   datetime.datetime(2001, 9, 1, 0, 0))},\n",
       " '01-10': {'6-month': ('01-04-to-01-10',\n",
       "   datetime.datetime(2001, 4, 1, 0, 0),\n",
       "   datetime.datetime(2001, 10, 1, 0, 0)),\n",
       "  '12-month': ('00-10-to-01-10',\n",
       "   datetime.datetime(2000, 10, 1, 0, 0),\n",
       "   datetime.datetime(2001, 10, 1, 0, 0)),\n",
       "  'max': ('00-01-to-01-10',\n",
       "   datetime.datetime(2000, 1, 1, 0, 0),\n",
       "   datetime.datetime(2001, 10, 1, 0, 0))},\n",
       " '01-11': {'6-month': ('01-05-to-01-11',\n",
       "   datetime.datetime(2001, 5, 1, 0, 0),\n",
       "   datetime.datetime(2001, 11, 1, 0, 0)),\n",
       "  '12-month': ('00-11-to-01-11',\n",
       "   datetime.datetime(2000, 11, 1, 0, 0),\n",
       "   datetime.datetime(2001, 11, 1, 0, 0)),\n",
       "  'max': ('00-01-to-01-11',\n",
       "   datetime.datetime(2000, 1, 1, 0, 0),\n",
       "   datetime.datetime(2001, 11, 1, 0, 0))},\n",
       " '01-12': {'6-month': ('01-06-to-01-12',\n",
       "   datetime.datetime(2001, 6, 1, 0, 0),\n",
       "   datetime.datetime(2001, 12, 1, 0, 0)),\n",
       "  '12-month': ('00-12-to-01-12',\n",
       "   datetime.datetime(2000, 12, 1, 0, 0),\n",
       "   datetime.datetime(2001, 12, 1, 0, 0)),\n",
       "  'max': ('00-01-to-01-12',\n",
       "   datetime.datetime(2000, 1, 1, 0, 0),\n",
       "   datetime.datetime(2001, 12, 1, 0, 0))},\n",
       " '02-01': {'6-month': ('01-07-to-02-01',\n",
       "   datetime.datetime(2001, 7, 1, 0, 0),\n",
       "   datetime.datetime(2002, 1, 1, 0, 0)),\n",
       "  '12-month': ('01-01-to-02-01',\n",
       "   datetime.datetime(2001, 1, 1, 0, 0),\n",
       "   datetime.datetime(2002, 1, 1, 0, 0)),\n",
       "  'max': ('00-01-to-02-01',\n",
       "   datetime.datetime(2000, 1, 1, 0, 0),\n",
       "   datetime.datetime(2002, 1, 1, 0, 0))},\n",
       " '02-02': {'6-month': ('01-08-to-02-02',\n",
       "   datetime.datetime(2001, 8, 1, 0, 0),\n",
       "   datetime.datetime(2002, 2, 1, 0, 0)),\n",
       "  '12-month': ('01-02-to-02-02',\n",
       "   datetime.datetime(2001, 2, 1, 0, 0),\n",
       "   datetime.datetime(2002, 2, 1, 0, 0)),\n",
       "  'max': ('00-01-to-02-02',\n",
       "   datetime.datetime(2000, 1, 1, 0, 0),\n",
       "   datetime.datetime(2002, 2, 1, 0, 0))},\n",
       " '02-03': {'6-month': ('01-09-to-02-03',\n",
       "   datetime.datetime(2001, 9, 1, 0, 0),\n",
       "   datetime.datetime(2002, 3, 1, 0, 0)),\n",
       "  '12-month': ('01-03-to-02-03',\n",
       "   datetime.datetime(2001, 3, 1, 0, 0),\n",
       "   datetime.datetime(2002, 3, 1, 0, 0)),\n",
       "  'max': ('00-01-to-02-03',\n",
       "   datetime.datetime(2000, 1, 1, 0, 0),\n",
       "   datetime.datetime(2002, 3, 1, 0, 0))},\n",
       " '02-04': {'6-month': ('01-10-to-02-04',\n",
       "   datetime.datetime(2001, 10, 1, 0, 0),\n",
       "   datetime.datetime(2002, 4, 1, 0, 0)),\n",
       "  '12-month': ('01-04-to-02-04',\n",
       "   datetime.datetime(2001, 4, 1, 0, 0),\n",
       "   datetime.datetime(2002, 4, 1, 0, 0)),\n",
       "  'max': ('00-01-to-02-04',\n",
       "   datetime.datetime(2000, 1, 1, 0, 0),\n",
       "   datetime.datetime(2002, 4, 1, 0, 0))},\n",
       " '02-05': {'6-month': ('01-11-to-02-05',\n",
       "   datetime.datetime(2001, 11, 1, 0, 0),\n",
       "   datetime.datetime(2002, 5, 1, 0, 0)),\n",
       "  '12-month': ('01-05-to-02-05',\n",
       "   datetime.datetime(2001, 5, 1, 0, 0),\n",
       "   datetime.datetime(2002, 5, 1, 0, 0)),\n",
       "  'max': ('00-01-to-02-05',\n",
       "   datetime.datetime(2000, 1, 1, 0, 0),\n",
       "   datetime.datetime(2002, 5, 1, 0, 0))},\n",
       " '02-06': {'6-month': ('01-12-to-02-06',\n",
       "   datetime.datetime(2001, 12, 1, 0, 0),\n",
       "   datetime.datetime(2002, 6, 1, 0, 0)),\n",
       "  '12-month': ('01-06-to-02-06',\n",
       "   datetime.datetime(2001, 6, 1, 0, 0),\n",
       "   datetime.datetime(2002, 6, 1, 0, 0)),\n",
       "  'max': ('00-01-to-02-06',\n",
       "   datetime.datetime(2000, 1, 1, 0, 0),\n",
       "   datetime.datetime(2002, 6, 1, 0, 0))},\n",
       " '02-07': {'6-month': ('02-01-to-02-07',\n",
       "   datetime.datetime(2002, 1, 1, 0, 0),\n",
       "   datetime.datetime(2002, 7, 1, 0, 0)),\n",
       "  '12-month': ('01-07-to-02-07',\n",
       "   datetime.datetime(2001, 7, 1, 0, 0),\n",
       "   datetime.datetime(2002, 7, 1, 0, 0)),\n",
       "  'max': ('00-01-to-02-07',\n",
       "   datetime.datetime(2000, 1, 1, 0, 0),\n",
       "   datetime.datetime(2002, 7, 1, 0, 0))},\n",
       " '02-08': {'6-month': ('02-02-to-02-08',\n",
       "   datetime.datetime(2002, 2, 1, 0, 0),\n",
       "   datetime.datetime(2002, 8, 1, 0, 0)),\n",
       "  '12-month': ('01-08-to-02-08',\n",
       "   datetime.datetime(2001, 8, 1, 0, 0),\n",
       "   datetime.datetime(2002, 8, 1, 0, 0)),\n",
       "  'max': ('00-01-to-02-08',\n",
       "   datetime.datetime(2000, 1, 1, 0, 0),\n",
       "   datetime.datetime(2002, 8, 1, 0, 0))},\n",
       " '02-09': {'6-month': ('02-03-to-02-09',\n",
       "   datetime.datetime(2002, 3, 1, 0, 0),\n",
       "   datetime.datetime(2002, 9, 1, 0, 0)),\n",
       "  '12-month': ('01-09-to-02-09',\n",
       "   datetime.datetime(2001, 9, 1, 0, 0),\n",
       "   datetime.datetime(2002, 9, 1, 0, 0)),\n",
       "  'max': ('00-01-to-02-09',\n",
       "   datetime.datetime(2000, 1, 1, 0, 0),\n",
       "   datetime.datetime(2002, 9, 1, 0, 0))},\n",
       " '02-10': {'6-month': ('02-04-to-02-10',\n",
       "   datetime.datetime(2002, 4, 1, 0, 0),\n",
       "   datetime.datetime(2002, 10, 1, 0, 0)),\n",
       "  '12-month': ('01-10-to-02-10',\n",
       "   datetime.datetime(2001, 10, 1, 0, 0),\n",
       "   datetime.datetime(2002, 10, 1, 0, 0)),\n",
       "  'max': ('00-01-to-02-10',\n",
       "   datetime.datetime(2000, 1, 1, 0, 0),\n",
       "   datetime.datetime(2002, 10, 1, 0, 0))},\n",
       " '02-11': {'6-month': ('02-05-to-02-11',\n",
       "   datetime.datetime(2002, 5, 1, 0, 0),\n",
       "   datetime.datetime(2002, 11, 1, 0, 0)),\n",
       "  '12-month': ('01-11-to-02-11',\n",
       "   datetime.datetime(2001, 11, 1, 0, 0),\n",
       "   datetime.datetime(2002, 11, 1, 0, 0)),\n",
       "  'max': ('00-01-to-02-11',\n",
       "   datetime.datetime(2000, 1, 1, 0, 0),\n",
       "   datetime.datetime(2002, 11, 1, 0, 0))},\n",
       " '02-12': {'6-month': ('02-06-to-02-12',\n",
       "   datetime.datetime(2002, 6, 1, 0, 0),\n",
       "   datetime.datetime(2002, 12, 1, 0, 0)),\n",
       "  '12-month': ('01-12-to-02-12',\n",
       "   datetime.datetime(2001, 12, 1, 0, 0),\n",
       "   datetime.datetime(2002, 12, 1, 0, 0)),\n",
       "  'max': ('00-01-to-02-12',\n",
       "   datetime.datetime(2000, 1, 1, 0, 0),\n",
       "   datetime.datetime(2002, 12, 1, 0, 0))},\n",
       " '03-01': {'6-month': ('02-07-to-03-01',\n",
       "   datetime.datetime(2002, 7, 1, 0, 0),\n",
       "   datetime.datetime(2003, 1, 1, 0, 0)),\n",
       "  '12-month': ('02-01-to-03-01',\n",
       "   datetime.datetime(2002, 1, 1, 0, 0),\n",
       "   datetime.datetime(2003, 1, 1, 0, 0)),\n",
       "  'max': ('00-01-to-03-01',\n",
       "   datetime.datetime(2000, 1, 1, 0, 0),\n",
       "   datetime.datetime(2003, 1, 1, 0, 0))},\n",
       " '03-02': {'6-month': ('02-08-to-03-02',\n",
       "   datetime.datetime(2002, 8, 1, 0, 0),\n",
       "   datetime.datetime(2003, 2, 1, 0, 0)),\n",
       "  '12-month': ('02-02-to-03-02',\n",
       "   datetime.datetime(2002, 2, 1, 0, 0),\n",
       "   datetime.datetime(2003, 2, 1, 0, 0)),\n",
       "  'max': ('00-01-to-03-02',\n",
       "   datetime.datetime(2000, 1, 1, 0, 0),\n",
       "   datetime.datetime(2003, 2, 1, 0, 0))},\n",
       " '03-03': {'6-month': ('02-09-to-03-03',\n",
       "   datetime.datetime(2002, 9, 1, 0, 0),\n",
       "   datetime.datetime(2003, 3, 1, 0, 0)),\n",
       "  '12-month': ('02-03-to-03-03',\n",
       "   datetime.datetime(2002, 3, 1, 0, 0),\n",
       "   datetime.datetime(2003, 3, 1, 0, 0)),\n",
       "  'max': ('00-01-to-03-03',\n",
       "   datetime.datetime(2000, 1, 1, 0, 0),\n",
       "   datetime.datetime(2003, 3, 1, 0, 0))},\n",
       " '03-04': {'6-month': ('02-10-to-03-04',\n",
       "   datetime.datetime(2002, 10, 1, 0, 0),\n",
       "   datetime.datetime(2003, 4, 1, 0, 0)),\n",
       "  '12-month': ('02-04-to-03-04',\n",
       "   datetime.datetime(2002, 4, 1, 0, 0),\n",
       "   datetime.datetime(2003, 4, 1, 0, 0)),\n",
       "  'max': ('00-01-to-03-04',\n",
       "   datetime.datetime(2000, 1, 1, 0, 0),\n",
       "   datetime.datetime(2003, 4, 1, 0, 0))},\n",
       " '03-05': {'6-month': ('02-11-to-03-05',\n",
       "   datetime.datetime(2002, 11, 1, 0, 0),\n",
       "   datetime.datetime(2003, 5, 1, 0, 0)),\n",
       "  '12-month': ('02-05-to-03-05',\n",
       "   datetime.datetime(2002, 5, 1, 0, 0),\n",
       "   datetime.datetime(2003, 5, 1, 0, 0)),\n",
       "  'max': ('00-01-to-03-05',\n",
       "   datetime.datetime(2000, 1, 1, 0, 0),\n",
       "   datetime.datetime(2003, 5, 1, 0, 0))},\n",
       " '03-06': {'6-month': ('02-12-to-03-06',\n",
       "   datetime.datetime(2002, 12, 1, 0, 0),\n",
       "   datetime.datetime(2003, 6, 1, 0, 0)),\n",
       "  '12-month': ('02-06-to-03-06',\n",
       "   datetime.datetime(2002, 6, 1, 0, 0),\n",
       "   datetime.datetime(2003, 6, 1, 0, 0)),\n",
       "  'max': ('00-01-to-03-06',\n",
       "   datetime.datetime(2000, 1, 1, 0, 0),\n",
       "   datetime.datetime(2003, 6, 1, 0, 0))},\n",
       " '03-07': {'6-month': ('03-01-to-03-07',\n",
       "   datetime.datetime(2003, 1, 1, 0, 0),\n",
       "   datetime.datetime(2003, 7, 1, 0, 0)),\n",
       "  '12-month': ('02-07-to-03-07',\n",
       "   datetime.datetime(2002, 7, 1, 0, 0),\n",
       "   datetime.datetime(2003, 7, 1, 0, 0)),\n",
       "  'max': ('00-01-to-03-07',\n",
       "   datetime.datetime(2000, 1, 1, 0, 0),\n",
       "   datetime.datetime(2003, 7, 1, 0, 0))},\n",
       " '03-08': {'6-month': ('03-02-to-03-08',\n",
       "   datetime.datetime(2003, 2, 1, 0, 0),\n",
       "   datetime.datetime(2003, 8, 1, 0, 0)),\n",
       "  '12-month': ('02-08-to-03-08',\n",
       "   datetime.datetime(2002, 8, 1, 0, 0),\n",
       "   datetime.datetime(2003, 8, 1, 0, 0)),\n",
       "  'max': ('00-01-to-03-08',\n",
       "   datetime.datetime(2000, 1, 1, 0, 0),\n",
       "   datetime.datetime(2003, 8, 1, 0, 0))},\n",
       " '03-09': {'6-month': ('03-03-to-03-09',\n",
       "   datetime.datetime(2003, 3, 1, 0, 0),\n",
       "   datetime.datetime(2003, 9, 1, 0, 0)),\n",
       "  '12-month': ('02-09-to-03-09',\n",
       "   datetime.datetime(2002, 9, 1, 0, 0),\n",
       "   datetime.datetime(2003, 9, 1, 0, 0)),\n",
       "  'max': ('00-01-to-03-09',\n",
       "   datetime.datetime(2000, 1, 1, 0, 0),\n",
       "   datetime.datetime(2003, 9, 1, 0, 0))},\n",
       " '03-10': {'6-month': ('03-04-to-03-10',\n",
       "   datetime.datetime(2003, 4, 1, 0, 0),\n",
       "   datetime.datetime(2003, 10, 1, 0, 0)),\n",
       "  '12-month': ('02-10-to-03-10',\n",
       "   datetime.datetime(2002, 10, 1, 0, 0),\n",
       "   datetime.datetime(2003, 10, 1, 0, 0)),\n",
       "  'max': ('00-01-to-03-10',\n",
       "   datetime.datetime(2000, 1, 1, 0, 0),\n",
       "   datetime.datetime(2003, 10, 1, 0, 0))},\n",
       " '03-11': {'6-month': ('03-05-to-03-11',\n",
       "   datetime.datetime(2003, 5, 1, 0, 0),\n",
       "   datetime.datetime(2003, 11, 1, 0, 0)),\n",
       "  '12-month': ('02-11-to-03-11',\n",
       "   datetime.datetime(2002, 11, 1, 0, 0),\n",
       "   datetime.datetime(2003, 11, 1, 0, 0)),\n",
       "  'max': ('00-01-to-03-11',\n",
       "   datetime.datetime(2000, 1, 1, 0, 0),\n",
       "   datetime.datetime(2003, 11, 1, 0, 0))},\n",
       " '03-12': {'6-month': ('03-06-to-03-12',\n",
       "   datetime.datetime(2003, 6, 1, 0, 0),\n",
       "   datetime.datetime(2003, 12, 1, 0, 0)),\n",
       "  '12-month': ('02-12-to-03-12',\n",
       "   datetime.datetime(2002, 12, 1, 0, 0),\n",
       "   datetime.datetime(2003, 12, 1, 0, 0)),\n",
       "  'max': ('00-01-to-03-12',\n",
       "   datetime.datetime(2000, 1, 1, 0, 0),\n",
       "   datetime.datetime(2003, 12, 1, 0, 0))},\n",
       " '04-01': {'6-month': ('03-07-to-04-01',\n",
       "   datetime.datetime(2003, 7, 1, 0, 0),\n",
       "   datetime.datetime(2004, 1, 1, 0, 0)),\n",
       "  '12-month': ('03-01-to-04-01',\n",
       "   datetime.datetime(2003, 1, 1, 0, 0),\n",
       "   datetime.datetime(2004, 1, 1, 0, 0)),\n",
       "  'max': ('00-01-to-04-01',\n",
       "   datetime.datetime(2000, 1, 1, 0, 0),\n",
       "   datetime.datetime(2004, 1, 1, 0, 0))},\n",
       " '04-02': {'6-month': ('03-08-to-04-02',\n",
       "   datetime.datetime(2003, 8, 1, 0, 0),\n",
       "   datetime.datetime(2004, 2, 1, 0, 0)),\n",
       "  '12-month': ('03-02-to-04-02',\n",
       "   datetime.datetime(2003, 2, 1, 0, 0),\n",
       "   datetime.datetime(2004, 2, 1, 0, 0)),\n",
       "  'max': ('00-01-to-04-02',\n",
       "   datetime.datetime(2000, 1, 1, 0, 0),\n",
       "   datetime.datetime(2004, 2, 1, 0, 0))},\n",
       " '04-03': {'6-month': ('03-09-to-04-03',\n",
       "   datetime.datetime(2003, 9, 1, 0, 0),\n",
       "   datetime.datetime(2004, 3, 1, 0, 0)),\n",
       "  '12-month': ('03-03-to-04-03',\n",
       "   datetime.datetime(2003, 3, 1, 0, 0),\n",
       "   datetime.datetime(2004, 3, 1, 0, 0)),\n",
       "  'max': ('00-01-to-04-03',\n",
       "   datetime.datetime(2000, 1, 1, 0, 0),\n",
       "   datetime.datetime(2004, 3, 1, 0, 0))},\n",
       " '04-04': {'6-month': ('03-10-to-04-04',\n",
       "   datetime.datetime(2003, 10, 1, 0, 0),\n",
       "   datetime.datetime(2004, 4, 1, 0, 0)),\n",
       "  '12-month': ('03-04-to-04-04',\n",
       "   datetime.datetime(2003, 4, 1, 0, 0),\n",
       "   datetime.datetime(2004, 4, 1, 0, 0)),\n",
       "  'max': ('00-01-to-04-04',\n",
       "   datetime.datetime(2000, 1, 1, 0, 0),\n",
       "   datetime.datetime(2004, 4, 1, 0, 0))},\n",
       " '04-05': {'6-month': ('03-11-to-04-05',\n",
       "   datetime.datetime(2003, 11, 1, 0, 0),\n",
       "   datetime.datetime(2004, 5, 1, 0, 0)),\n",
       "  '12-month': ('03-05-to-04-05',\n",
       "   datetime.datetime(2003, 5, 1, 0, 0),\n",
       "   datetime.datetime(2004, 5, 1, 0, 0)),\n",
       "  'max': ('00-01-to-04-05',\n",
       "   datetime.datetime(2000, 1, 1, 0, 0),\n",
       "   datetime.datetime(2004, 5, 1, 0, 0))},\n",
       " '04-06': {'6-month': ('03-12-to-04-06',\n",
       "   datetime.datetime(2003, 12, 1, 0, 0),\n",
       "   datetime.datetime(2004, 6, 1, 0, 0)),\n",
       "  '12-month': ('03-06-to-04-06',\n",
       "   datetime.datetime(2003, 6, 1, 0, 0),\n",
       "   datetime.datetime(2004, 6, 1, 0, 0)),\n",
       "  'max': ('00-01-to-04-06',\n",
       "   datetime.datetime(2000, 1, 1, 0, 0),\n",
       "   datetime.datetime(2004, 6, 1, 0, 0))},\n",
       " '04-07': {'6-month': ('04-01-to-04-07',\n",
       "   datetime.datetime(2004, 1, 1, 0, 0),\n",
       "   datetime.datetime(2004, 7, 1, 0, 0)),\n",
       "  '12-month': ('03-07-to-04-07',\n",
       "   datetime.datetime(2003, 7, 1, 0, 0),\n",
       "   datetime.datetime(2004, 7, 1, 0, 0)),\n",
       "  'max': ('00-01-to-04-07',\n",
       "   datetime.datetime(2000, 1, 1, 0, 0),\n",
       "   datetime.datetime(2004, 7, 1, 0, 0))},\n",
       " '04-08': {'6-month': ('04-02-to-04-08',\n",
       "   datetime.datetime(2004, 2, 1, 0, 0),\n",
       "   datetime.datetime(2004, 8, 1, 0, 0)),\n",
       "  '12-month': ('03-08-to-04-08',\n",
       "   datetime.datetime(2003, 8, 1, 0, 0),\n",
       "   datetime.datetime(2004, 8, 1, 0, 0)),\n",
       "  'max': ('00-01-to-04-08',\n",
       "   datetime.datetime(2000, 1, 1, 0, 0),\n",
       "   datetime.datetime(2004, 8, 1, 0, 0))},\n",
       " '04-09': {'6-month': ('04-03-to-04-09',\n",
       "   datetime.datetime(2004, 3, 1, 0, 0),\n",
       "   datetime.datetime(2004, 9, 1, 0, 0)),\n",
       "  '12-month': ('03-09-to-04-09',\n",
       "   datetime.datetime(2003, 9, 1, 0, 0),\n",
       "   datetime.datetime(2004, 9, 1, 0, 0)),\n",
       "  'max': ('00-01-to-04-09',\n",
       "   datetime.datetime(2000, 1, 1, 0, 0),\n",
       "   datetime.datetime(2004, 9, 1, 0, 0))},\n",
       " '04-10': {'6-month': ('04-04-to-04-10',\n",
       "   datetime.datetime(2004, 4, 1, 0, 0),\n",
       "   datetime.datetime(2004, 10, 1, 0, 0)),\n",
       "  '12-month': ('03-10-to-04-10',\n",
       "   datetime.datetime(2003, 10, 1, 0, 0),\n",
       "   datetime.datetime(2004, 10, 1, 0, 0)),\n",
       "  'max': ('00-01-to-04-10',\n",
       "   datetime.datetime(2000, 1, 1, 0, 0),\n",
       "   datetime.datetime(2004, 10, 1, 0, 0))},\n",
       " '04-11': {'6-month': ('04-05-to-04-11',\n",
       "   datetime.datetime(2004, 5, 1, 0, 0),\n",
       "   datetime.datetime(2004, 11, 1, 0, 0)),\n",
       "  '12-month': ('03-11-to-04-11',\n",
       "   datetime.datetime(2003, 11, 1, 0, 0),\n",
       "   datetime.datetime(2004, 11, 1, 0, 0)),\n",
       "  'max': ('00-01-to-04-11',\n",
       "   datetime.datetime(2000, 1, 1, 0, 0),\n",
       "   datetime.datetime(2004, 11, 1, 0, 0))},\n",
       " '04-12': {'6-month': ('04-06-to-04-12',\n",
       "   datetime.datetime(2004, 6, 1, 0, 0),\n",
       "   datetime.datetime(2004, 12, 1, 0, 0)),\n",
       "  '12-month': ('03-12-to-04-12',\n",
       "   datetime.datetime(2003, 12, 1, 0, 0),\n",
       "   datetime.datetime(2004, 12, 1, 0, 0)),\n",
       "  'max': ('00-01-to-04-12',\n",
       "   datetime.datetime(2000, 1, 1, 0, 0),\n",
       "   datetime.datetime(2004, 12, 1, 0, 0))},\n",
       " '05-01': {'6-month': ('04-07-to-05-01',\n",
       "   datetime.datetime(2004, 7, 1, 0, 0),\n",
       "   datetime.datetime(2005, 1, 1, 0, 0)),\n",
       "  '12-month': ('04-01-to-05-01',\n",
       "   datetime.datetime(2004, 1, 1, 0, 0),\n",
       "   datetime.datetime(2005, 1, 1, 0, 0)),\n",
       "  'max': ('00-01-to-05-01',\n",
       "   datetime.datetime(2000, 1, 1, 0, 0),\n",
       "   datetime.datetime(2005, 1, 1, 0, 0))},\n",
       " '05-02': {'6-month': ('04-08-to-05-02',\n",
       "   datetime.datetime(2004, 8, 1, 0, 0),\n",
       "   datetime.datetime(2005, 2, 1, 0, 0)),\n",
       "  '12-month': ('04-02-to-05-02',\n",
       "   datetime.datetime(2004, 2, 1, 0, 0),\n",
       "   datetime.datetime(2005, 2, 1, 0, 0)),\n",
       "  'max': ('00-01-to-05-02',\n",
       "   datetime.datetime(2000, 1, 1, 0, 0),\n",
       "   datetime.datetime(2005, 2, 1, 0, 0))},\n",
       " '05-03': {'6-month': ('04-09-to-05-03',\n",
       "   datetime.datetime(2004, 9, 1, 0, 0),\n",
       "   datetime.datetime(2005, 3, 1, 0, 0)),\n",
       "  '12-month': ('04-03-to-05-03',\n",
       "   datetime.datetime(2004, 3, 1, 0, 0),\n",
       "   datetime.datetime(2005, 3, 1, 0, 0)),\n",
       "  'max': ('00-01-to-05-03',\n",
       "   datetime.datetime(2000, 1, 1, 0, 0),\n",
       "   datetime.datetime(2005, 3, 1, 0, 0))},\n",
       " '05-04': {'6-month': ('04-10-to-05-04',\n",
       "   datetime.datetime(2004, 10, 1, 0, 0),\n",
       "   datetime.datetime(2005, 4, 1, 0, 0)),\n",
       "  '12-month': ('04-04-to-05-04',\n",
       "   datetime.datetime(2004, 4, 1, 0, 0),\n",
       "   datetime.datetime(2005, 4, 1, 0, 0)),\n",
       "  'max': ('00-01-to-05-04',\n",
       "   datetime.datetime(2000, 1, 1, 0, 0),\n",
       "   datetime.datetime(2005, 4, 1, 0, 0))},\n",
       " '05-05': {'6-month': ('04-11-to-05-05',\n",
       "   datetime.datetime(2004, 11, 1, 0, 0),\n",
       "   datetime.datetime(2005, 5, 1, 0, 0)),\n",
       "  '12-month': ('04-05-to-05-05',\n",
       "   datetime.datetime(2004, 5, 1, 0, 0),\n",
       "   datetime.datetime(2005, 5, 1, 0, 0)),\n",
       "  'max': ('00-01-to-05-05',\n",
       "   datetime.datetime(2000, 1, 1, 0, 0),\n",
       "   datetime.datetime(2005, 5, 1, 0, 0))},\n",
       " '05-06': {'6-month': ('04-12-to-05-06',\n",
       "   datetime.datetime(2004, 12, 1, 0, 0),\n",
       "   datetime.datetime(2005, 6, 1, 0, 0)),\n",
       "  '12-month': ('04-06-to-05-06',\n",
       "   datetime.datetime(2004, 6, 1, 0, 0),\n",
       "   datetime.datetime(2005, 6, 1, 0, 0)),\n",
       "  'max': ('00-01-to-05-06',\n",
       "   datetime.datetime(2000, 1, 1, 0, 0),\n",
       "   datetime.datetime(2005, 6, 1, 0, 0))},\n",
       " '05-07': {'6-month': ('05-01-to-05-07',\n",
       "   datetime.datetime(2005, 1, 1, 0, 0),\n",
       "   datetime.datetime(2005, 7, 1, 0, 0)),\n",
       "  '12-month': ('04-07-to-05-07',\n",
       "   datetime.datetime(2004, 7, 1, 0, 0),\n",
       "   datetime.datetime(2005, 7, 1, 0, 0)),\n",
       "  'max': ('00-01-to-05-07',\n",
       "   datetime.datetime(2000, 1, 1, 0, 0),\n",
       "   datetime.datetime(2005, 7, 1, 0, 0))},\n",
       " '05-08': {'6-month': ('05-02-to-05-08',\n",
       "   datetime.datetime(2005, 2, 1, 0, 0),\n",
       "   datetime.datetime(2005, 8, 1, 0, 0)),\n",
       "  '12-month': ('04-08-to-05-08',\n",
       "   datetime.datetime(2004, 8, 1, 0, 0),\n",
       "   datetime.datetime(2005, 8, 1, 0, 0)),\n",
       "  'max': ('00-01-to-05-08',\n",
       "   datetime.datetime(2000, 1, 1, 0, 0),\n",
       "   datetime.datetime(2005, 8, 1, 0, 0))},\n",
       " '05-09': {'6-month': ('05-03-to-05-09',\n",
       "   datetime.datetime(2005, 3, 1, 0, 0),\n",
       "   datetime.datetime(2005, 9, 1, 0, 0)),\n",
       "  '12-month': ('04-09-to-05-09',\n",
       "   datetime.datetime(2004, 9, 1, 0, 0),\n",
       "   datetime.datetime(2005, 9, 1, 0, 0)),\n",
       "  'max': ('00-01-to-05-09',\n",
       "   datetime.datetime(2000, 1, 1, 0, 0),\n",
       "   datetime.datetime(2005, 9, 1, 0, 0))},\n",
       " '05-10': {'6-month': ('05-04-to-05-10',\n",
       "   datetime.datetime(2005, 4, 1, 0, 0),\n",
       "   datetime.datetime(2005, 10, 1, 0, 0)),\n",
       "  '12-month': ('04-10-to-05-10',\n",
       "   datetime.datetime(2004, 10, 1, 0, 0),\n",
       "   datetime.datetime(2005, 10, 1, 0, 0)),\n",
       "  'max': ('00-01-to-05-10',\n",
       "   datetime.datetime(2000, 1, 1, 0, 0),\n",
       "   datetime.datetime(2005, 10, 1, 0, 0))},\n",
       " '05-11': {'6-month': ('05-05-to-05-11',\n",
       "   datetime.datetime(2005, 5, 1, 0, 0),\n",
       "   datetime.datetime(2005, 11, 1, 0, 0)),\n",
       "  '12-month': ('04-11-to-05-11',\n",
       "   datetime.datetime(2004, 11, 1, 0, 0),\n",
       "   datetime.datetime(2005, 11, 1, 0, 0)),\n",
       "  'max': ('00-01-to-05-11',\n",
       "   datetime.datetime(2000, 1, 1, 0, 0),\n",
       "   datetime.datetime(2005, 11, 1, 0, 0))},\n",
       " '05-12': {'6-month': ('05-06-to-05-12',\n",
       "   datetime.datetime(2005, 6, 1, 0, 0),\n",
       "   datetime.datetime(2005, 12, 1, 0, 0)),\n",
       "  '12-month': ('04-12-to-05-12',\n",
       "   datetime.datetime(2004, 12, 1, 0, 0),\n",
       "   datetime.datetime(2005, 12, 1, 0, 0)),\n",
       "  'max': ('00-01-to-05-12',\n",
       "   datetime.datetime(2000, 1, 1, 0, 0),\n",
       "   datetime.datetime(2005, 12, 1, 0, 0))},\n",
       " '06-01': {'6-month': ('05-07-to-06-01',\n",
       "   datetime.datetime(2005, 7, 1, 0, 0),\n",
       "   datetime.datetime(2006, 1, 1, 0, 0)),\n",
       "  '12-month': ('05-01-to-06-01',\n",
       "   datetime.datetime(2005, 1, 1, 0, 0),\n",
       "   datetime.datetime(2006, 1, 1, 0, 0)),\n",
       "  'max': ('00-01-to-06-01',\n",
       "   datetime.datetime(2000, 1, 1, 0, 0),\n",
       "   datetime.datetime(2006, 1, 1, 0, 0))},\n",
       " '06-02': {'6-month': ('05-08-to-06-02',\n",
       "   datetime.datetime(2005, 8, 1, 0, 0),\n",
       "   datetime.datetime(2006, 2, 1, 0, 0)),\n",
       "  '12-month': ('05-02-to-06-02',\n",
       "   datetime.datetime(2005, 2, 1, 0, 0),\n",
       "   datetime.datetime(2006, 2, 1, 0, 0)),\n",
       "  'max': ('00-01-to-06-02',\n",
       "   datetime.datetime(2000, 1, 1, 0, 0),\n",
       "   datetime.datetime(2006, 2, 1, 0, 0))},\n",
       " '06-03': {'6-month': ('05-09-to-06-03',\n",
       "   datetime.datetime(2005, 9, 1, 0, 0),\n",
       "   datetime.datetime(2006, 3, 1, 0, 0)),\n",
       "  '12-month': ('05-03-to-06-03',\n",
       "   datetime.datetime(2005, 3, 1, 0, 0),\n",
       "   datetime.datetime(2006, 3, 1, 0, 0)),\n",
       "  'max': ('00-01-to-06-03',\n",
       "   datetime.datetime(2000, 1, 1, 0, 0),\n",
       "   datetime.datetime(2006, 3, 1, 0, 0))},\n",
       " '06-04': {'6-month': ('05-10-to-06-04',\n",
       "   datetime.datetime(2005, 10, 1, 0, 0),\n",
       "   datetime.datetime(2006, 4, 1, 0, 0)),\n",
       "  '12-month': ('05-04-to-06-04',\n",
       "   datetime.datetime(2005, 4, 1, 0, 0),\n",
       "   datetime.datetime(2006, 4, 1, 0, 0)),\n",
       "  'max': ('00-01-to-06-04',\n",
       "   datetime.datetime(2000, 1, 1, 0, 0),\n",
       "   datetime.datetime(2006, 4, 1, 0, 0))},\n",
       " '06-05': {'6-month': ('05-11-to-06-05',\n",
       "   datetime.datetime(2005, 11, 1, 0, 0),\n",
       "   datetime.datetime(2006, 5, 1, 0, 0)),\n",
       "  '12-month': ('05-05-to-06-05',\n",
       "   datetime.datetime(2005, 5, 1, 0, 0),\n",
       "   datetime.datetime(2006, 5, 1, 0, 0)),\n",
       "  'max': ('00-01-to-06-05',\n",
       "   datetime.datetime(2000, 1, 1, 0, 0),\n",
       "   datetime.datetime(2006, 5, 1, 0, 0))},\n",
       " '06-06': {'6-month': ('05-12-to-06-06',\n",
       "   datetime.datetime(2005, 12, 1, 0, 0),\n",
       "   datetime.datetime(2006, 6, 1, 0, 0)),\n",
       "  '12-month': ('05-06-to-06-06',\n",
       "   datetime.datetime(2005, 6, 1, 0, 0),\n",
       "   datetime.datetime(2006, 6, 1, 0, 0)),\n",
       "  'max': ('00-01-to-06-06',\n",
       "   datetime.datetime(2000, 1, 1, 0, 0),\n",
       "   datetime.datetime(2006, 6, 1, 0, 0))},\n",
       " '06-07': {'6-month': ('06-01-to-06-07',\n",
       "   datetime.datetime(2006, 1, 1, 0, 0),\n",
       "   datetime.datetime(2006, 7, 1, 0, 0)),\n",
       "  '12-month': ('05-07-to-06-07',\n",
       "   datetime.datetime(2005, 7, 1, 0, 0),\n",
       "   datetime.datetime(2006, 7, 1, 0, 0)),\n",
       "  'max': ('00-01-to-06-07',\n",
       "   datetime.datetime(2000, 1, 1, 0, 0),\n",
       "   datetime.datetime(2006, 7, 1, 0, 0))},\n",
       " '06-08': {'6-month': ('06-02-to-06-08',\n",
       "   datetime.datetime(2006, 2, 1, 0, 0),\n",
       "   datetime.datetime(2006, 8, 1, 0, 0)),\n",
       "  '12-month': ('05-08-to-06-08',\n",
       "   datetime.datetime(2005, 8, 1, 0, 0),\n",
       "   datetime.datetime(2006, 8, 1, 0, 0)),\n",
       "  'max': ('00-01-to-06-08',\n",
       "   datetime.datetime(2000, 1, 1, 0, 0),\n",
       "   datetime.datetime(2006, 8, 1, 0, 0))},\n",
       " '06-09': {'6-month': ('06-03-to-06-09',\n",
       "   datetime.datetime(2006, 3, 1, 0, 0),\n",
       "   datetime.datetime(2006, 9, 1, 0, 0)),\n",
       "  '12-month': ('05-09-to-06-09',\n",
       "   datetime.datetime(2005, 9, 1, 0, 0),\n",
       "   datetime.datetime(2006, 9, 1, 0, 0)),\n",
       "  'max': ('00-01-to-06-09',\n",
       "   datetime.datetime(2000, 1, 1, 0, 0),\n",
       "   datetime.datetime(2006, 9, 1, 0, 0))},\n",
       " '06-10': {'6-month': ('06-04-to-06-10',\n",
       "   datetime.datetime(2006, 4, 1, 0, 0),\n",
       "   datetime.datetime(2006, 10, 1, 0, 0)),\n",
       "  '12-month': ('05-10-to-06-10',\n",
       "   datetime.datetime(2005, 10, 1, 0, 0),\n",
       "   datetime.datetime(2006, 10, 1, 0, 0)),\n",
       "  'max': ('00-01-to-06-10',\n",
       "   datetime.datetime(2000, 1, 1, 0, 0),\n",
       "   datetime.datetime(2006, 10, 1, 0, 0))},\n",
       " '06-11': {'6-month': ('06-05-to-06-11',\n",
       "   datetime.datetime(2006, 5, 1, 0, 0),\n",
       "   datetime.datetime(2006, 11, 1, 0, 0)),\n",
       "  '12-month': ('05-11-to-06-11',\n",
       "   datetime.datetime(2005, 11, 1, 0, 0),\n",
       "   datetime.datetime(2006, 11, 1, 0, 0)),\n",
       "  'max': ('00-01-to-06-11',\n",
       "   datetime.datetime(2000, 1, 1, 0, 0),\n",
       "   datetime.datetime(2006, 11, 1, 0, 0))},\n",
       " '06-12': {'6-month': ('06-06-to-06-12',\n",
       "   datetime.datetime(2006, 6, 1, 0, 0),\n",
       "   datetime.datetime(2006, 12, 1, 0, 0)),\n",
       "  '12-month': ('05-12-to-06-12',\n",
       "   datetime.datetime(2005, 12, 1, 0, 0),\n",
       "   datetime.datetime(2006, 12, 1, 0, 0)),\n",
       "  'max': ('00-01-to-06-12',\n",
       "   datetime.datetime(2000, 1, 1, 0, 0),\n",
       "   datetime.datetime(2006, 12, 1, 0, 0))},\n",
       " '07-01': {'6-month': ('06-07-to-07-01',\n",
       "   datetime.datetime(2006, 7, 1, 0, 0),\n",
       "   datetime.datetime(2007, 1, 1, 0, 0)),\n",
       "  '12-month': ('06-01-to-07-01',\n",
       "   datetime.datetime(2006, 1, 1, 0, 0),\n",
       "   datetime.datetime(2007, 1, 1, 0, 0)),\n",
       "  'max': ('00-01-to-07-01',\n",
       "   datetime.datetime(2000, 1, 1, 0, 0),\n",
       "   datetime.datetime(2007, 1, 1, 0, 0))},\n",
       " '07-02': {'6-month': ('06-08-to-07-02',\n",
       "   datetime.datetime(2006, 8, 1, 0, 0),\n",
       "   datetime.datetime(2007, 2, 1, 0, 0)),\n",
       "  '12-month': ('06-02-to-07-02',\n",
       "   datetime.datetime(2006, 2, 1, 0, 0),\n",
       "   datetime.datetime(2007, 2, 1, 0, 0)),\n",
       "  'max': ('00-01-to-07-02',\n",
       "   datetime.datetime(2000, 1, 1, 0, 0),\n",
       "   datetime.datetime(2007, 2, 1, 0, 0))},\n",
       " '07-03': {'6-month': ('06-09-to-07-03',\n",
       "   datetime.datetime(2006, 9, 1, 0, 0),\n",
       "   datetime.datetime(2007, 3, 1, 0, 0)),\n",
       "  '12-month': ('06-03-to-07-03',\n",
       "   datetime.datetime(2006, 3, 1, 0, 0),\n",
       "   datetime.datetime(2007, 3, 1, 0, 0)),\n",
       "  'max': ('00-01-to-07-03',\n",
       "   datetime.datetime(2000, 1, 1, 0, 0),\n",
       "   datetime.datetime(2007, 3, 1, 0, 0))},\n",
       " '07-04': {'6-month': ('06-10-to-07-04',\n",
       "   datetime.datetime(2006, 10, 1, 0, 0),\n",
       "   datetime.datetime(2007, 4, 1, 0, 0)),\n",
       "  '12-month': ('06-04-to-07-04',\n",
       "   datetime.datetime(2006, 4, 1, 0, 0),\n",
       "   datetime.datetime(2007, 4, 1, 0, 0)),\n",
       "  'max': ('00-01-to-07-04',\n",
       "   datetime.datetime(2000, 1, 1, 0, 0),\n",
       "   datetime.datetime(2007, 4, 1, 0, 0))},\n",
       " '07-05': {'6-month': ('06-11-to-07-05',\n",
       "   datetime.datetime(2006, 11, 1, 0, 0),\n",
       "   datetime.datetime(2007, 5, 1, 0, 0)),\n",
       "  '12-month': ('06-05-to-07-05',\n",
       "   datetime.datetime(2006, 5, 1, 0, 0),\n",
       "   datetime.datetime(2007, 5, 1, 0, 0)),\n",
       "  'max': ('00-01-to-07-05',\n",
       "   datetime.datetime(2000, 1, 1, 0, 0),\n",
       "   datetime.datetime(2007, 5, 1, 0, 0))},\n",
       " '07-06': {'6-month': ('06-12-to-07-06',\n",
       "   datetime.datetime(2006, 12, 1, 0, 0),\n",
       "   datetime.datetime(2007, 6, 1, 0, 0)),\n",
       "  '12-month': ('06-06-to-07-06',\n",
       "   datetime.datetime(2006, 6, 1, 0, 0),\n",
       "   datetime.datetime(2007, 6, 1, 0, 0)),\n",
       "  'max': ('00-01-to-07-06',\n",
       "   datetime.datetime(2000, 1, 1, 0, 0),\n",
       "   datetime.datetime(2007, 6, 1, 0, 0))},\n",
       " '07-07': {'6-month': ('07-01-to-07-07',\n",
       "   datetime.datetime(2007, 1, 1, 0, 0),\n",
       "   datetime.datetime(2007, 7, 1, 0, 0)),\n",
       "  '12-month': ('06-07-to-07-07',\n",
       "   datetime.datetime(2006, 7, 1, 0, 0),\n",
       "   datetime.datetime(2007, 7, 1, 0, 0)),\n",
       "  'max': ('00-01-to-07-07',\n",
       "   datetime.datetime(2000, 1, 1, 0, 0),\n",
       "   datetime.datetime(2007, 7, 1, 0, 0))},\n",
       " '07-08': {'6-month': ('07-02-to-07-08',\n",
       "   datetime.datetime(2007, 2, 1, 0, 0),\n",
       "   datetime.datetime(2007, 8, 1, 0, 0)),\n",
       "  '12-month': ('06-08-to-07-08',\n",
       "   datetime.datetime(2006, 8, 1, 0, 0),\n",
       "   datetime.datetime(2007, 8, 1, 0, 0)),\n",
       "  'max': ('00-01-to-07-08',\n",
       "   datetime.datetime(2000, 1, 1, 0, 0),\n",
       "   datetime.datetime(2007, 8, 1, 0, 0))},\n",
       " '07-09': {'6-month': ('07-03-to-07-09',\n",
       "   datetime.datetime(2007, 3, 1, 0, 0),\n",
       "   datetime.datetime(2007, 9, 1, 0, 0)),\n",
       "  '12-month': ('06-09-to-07-09',\n",
       "   datetime.datetime(2006, 9, 1, 0, 0),\n",
       "   datetime.datetime(2007, 9, 1, 0, 0)),\n",
       "  'max': ('00-01-to-07-09',\n",
       "   datetime.datetime(2000, 1, 1, 0, 0),\n",
       "   datetime.datetime(2007, 9, 1, 0, 0))},\n",
       " '07-10': {'6-month': ('07-04-to-07-10',\n",
       "   datetime.datetime(2007, 4, 1, 0, 0),\n",
       "   datetime.datetime(2007, 10, 1, 0, 0)),\n",
       "  '12-month': ('06-10-to-07-10',\n",
       "   datetime.datetime(2006, 10, 1, 0, 0),\n",
       "   datetime.datetime(2007, 10, 1, 0, 0)),\n",
       "  'max': ('00-01-to-07-10',\n",
       "   datetime.datetime(2000, 1, 1, 0, 0),\n",
       "   datetime.datetime(2007, 10, 1, 0, 0))},\n",
       " '07-11': {'6-month': ('07-05-to-07-11',\n",
       "   datetime.datetime(2007, 5, 1, 0, 0),\n",
       "   datetime.datetime(2007, 11, 1, 0, 0)),\n",
       "  '12-month': ('06-11-to-07-11',\n",
       "   datetime.datetime(2006, 11, 1, 0, 0),\n",
       "   datetime.datetime(2007, 11, 1, 0, 0)),\n",
       "  'max': ('00-01-to-07-11',\n",
       "   datetime.datetime(2000, 1, 1, 0, 0),\n",
       "   datetime.datetime(2007, 11, 1, 0, 0))},\n",
       " '07-12': {'6-month': ('07-06-to-07-12',\n",
       "   datetime.datetime(2007, 6, 1, 0, 0),\n",
       "   datetime.datetime(2007, 12, 1, 0, 0)),\n",
       "  '12-month': ('06-12-to-07-12',\n",
       "   datetime.datetime(2006, 12, 1, 0, 0),\n",
       "   datetime.datetime(2007, 12, 1, 0, 0)),\n",
       "  'max': ('00-01-to-07-12',\n",
       "   datetime.datetime(2000, 1, 1, 0, 0),\n",
       "   datetime.datetime(2007, 12, 1, 0, 0))},\n",
       " '08-01': {'6-month': ('07-07-to-08-01',\n",
       "   datetime.datetime(2007, 7, 1, 0, 0),\n",
       "   datetime.datetime(2008, 1, 1, 0, 0)),\n",
       "  '12-month': ('07-01-to-08-01',\n",
       "   datetime.datetime(2007, 1, 1, 0, 0),\n",
       "   datetime.datetime(2008, 1, 1, 0, 0)),\n",
       "  'max': ('00-01-to-08-01',\n",
       "   datetime.datetime(2000, 1, 1, 0, 0),\n",
       "   datetime.datetime(2008, 1, 1, 0, 0))},\n",
       " '08-02': {'6-month': ('07-08-to-08-02',\n",
       "   datetime.datetime(2007, 8, 1, 0, 0),\n",
       "   datetime.datetime(2008, 2, 1, 0, 0)),\n",
       "  '12-month': ('07-02-to-08-02',\n",
       "   datetime.datetime(2007, 2, 1, 0, 0),\n",
       "   datetime.datetime(2008, 2, 1, 0, 0)),\n",
       "  'max': ('00-01-to-08-02',\n",
       "   datetime.datetime(2000, 1, 1, 0, 0),\n",
       "   datetime.datetime(2008, 2, 1, 0, 0))},\n",
       " '08-03': {'6-month': ('07-09-to-08-03',\n",
       "   datetime.datetime(2007, 9, 1, 0, 0),\n",
       "   datetime.datetime(2008, 3, 1, 0, 0)),\n",
       "  '12-month': ('07-03-to-08-03',\n",
       "   datetime.datetime(2007, 3, 1, 0, 0),\n",
       "   datetime.datetime(2008, 3, 1, 0, 0)),\n",
       "  'max': ('00-01-to-08-03',\n",
       "   datetime.datetime(2000, 1, 1, 0, 0),\n",
       "   datetime.datetime(2008, 3, 1, 0, 0))},\n",
       " '08-04': {'6-month': ('07-10-to-08-04',\n",
       "   datetime.datetime(2007, 10, 1, 0, 0),\n",
       "   datetime.datetime(2008, 4, 1, 0, 0)),\n",
       "  '12-month': ('07-04-to-08-04',\n",
       "   datetime.datetime(2007, 4, 1, 0, 0),\n",
       "   datetime.datetime(2008, 4, 1, 0, 0)),\n",
       "  'max': ('00-01-to-08-04',\n",
       "   datetime.datetime(2000, 1, 1, 0, 0),\n",
       "   datetime.datetime(2008, 4, 1, 0, 0))},\n",
       " '08-05': {'6-month': ('07-11-to-08-05',\n",
       "   datetime.datetime(2007, 11, 1, 0, 0),\n",
       "   datetime.datetime(2008, 5, 1, 0, 0)),\n",
       "  '12-month': ('07-05-to-08-05',\n",
       "   datetime.datetime(2007, 5, 1, 0, 0),\n",
       "   datetime.datetime(2008, 5, 1, 0, 0)),\n",
       "  'max': ('00-01-to-08-05',\n",
       "   datetime.datetime(2000, 1, 1, 0, 0),\n",
       "   datetime.datetime(2008, 5, 1, 0, 0))},\n",
       " '08-06': {'6-month': ('07-12-to-08-06',\n",
       "   datetime.datetime(2007, 12, 1, 0, 0),\n",
       "   datetime.datetime(2008, 6, 1, 0, 0)),\n",
       "  '12-month': ('07-06-to-08-06',\n",
       "   datetime.datetime(2007, 6, 1, 0, 0),\n",
       "   datetime.datetime(2008, 6, 1, 0, 0)),\n",
       "  'max': ('00-01-to-08-06',\n",
       "   datetime.datetime(2000, 1, 1, 0, 0),\n",
       "   datetime.datetime(2008, 6, 1, 0, 0))},\n",
       " '08-07': {'6-month': ('08-01-to-08-07',\n",
       "   datetime.datetime(2008, 1, 1, 0, 0),\n",
       "   datetime.datetime(2008, 7, 1, 0, 0)),\n",
       "  '12-month': ('07-07-to-08-07',\n",
       "   datetime.datetime(2007, 7, 1, 0, 0),\n",
       "   datetime.datetime(2008, 7, 1, 0, 0)),\n",
       "  'max': ('00-01-to-08-07',\n",
       "   datetime.datetime(2000, 1, 1, 0, 0),\n",
       "   datetime.datetime(2008, 7, 1, 0, 0))},\n",
       " '08-08': {'6-month': ('08-02-to-08-08',\n",
       "   datetime.datetime(2008, 2, 1, 0, 0),\n",
       "   datetime.datetime(2008, 8, 1, 0, 0)),\n",
       "  '12-month': ('07-08-to-08-08',\n",
       "   datetime.datetime(2007, 8, 1, 0, 0),\n",
       "   datetime.datetime(2008, 8, 1, 0, 0)),\n",
       "  'max': ('00-01-to-08-08',\n",
       "   datetime.datetime(2000, 1, 1, 0, 0),\n",
       "   datetime.datetime(2008, 8, 1, 0, 0))},\n",
       " '08-09': {'6-month': ('08-03-to-08-09',\n",
       "   datetime.datetime(2008, 3, 1, 0, 0),\n",
       "   datetime.datetime(2008, 9, 1, 0, 0)),\n",
       "  '12-month': ('07-09-to-08-09',\n",
       "   datetime.datetime(2007, 9, 1, 0, 0),\n",
       "   datetime.datetime(2008, 9, 1, 0, 0)),\n",
       "  'max': ('00-01-to-08-09',\n",
       "   datetime.datetime(2000, 1, 1, 0, 0),\n",
       "   datetime.datetime(2008, 9, 1, 0, 0))},\n",
       " '08-10': {'6-month': ('08-04-to-08-10',\n",
       "   datetime.datetime(2008, 4, 1, 0, 0),\n",
       "   datetime.datetime(2008, 10, 1, 0, 0)),\n",
       "  '12-month': ('07-10-to-08-10',\n",
       "   datetime.datetime(2007, 10, 1, 0, 0),\n",
       "   datetime.datetime(2008, 10, 1, 0, 0)),\n",
       "  'max': ('00-01-to-08-10',\n",
       "   datetime.datetime(2000, 1, 1, 0, 0),\n",
       "   datetime.datetime(2008, 10, 1, 0, 0))},\n",
       " '08-11': {'6-month': ('08-05-to-08-11',\n",
       "   datetime.datetime(2008, 5, 1, 0, 0),\n",
       "   datetime.datetime(2008, 11, 1, 0, 0)),\n",
       "  '12-month': ('07-11-to-08-11',\n",
       "   datetime.datetime(2007, 11, 1, 0, 0),\n",
       "   datetime.datetime(2008, 11, 1, 0, 0)),\n",
       "  'max': ('00-01-to-08-11',\n",
       "   datetime.datetime(2000, 1, 1, 0, 0),\n",
       "   datetime.datetime(2008, 11, 1, 0, 0))},\n",
       " '08-12': {'6-month': ('08-06-to-08-12',\n",
       "   datetime.datetime(2008, 6, 1, 0, 0),\n",
       "   datetime.datetime(2008, 12, 1, 0, 0)),\n",
       "  '12-month': ('07-12-to-08-12',\n",
       "   datetime.datetime(2007, 12, 1, 0, 0),\n",
       "   datetime.datetime(2008, 12, 1, 0, 0)),\n",
       "  'max': ('00-01-to-08-12',\n",
       "   datetime.datetime(2000, 1, 1, 0, 0),\n",
       "   datetime.datetime(2008, 12, 1, 0, 0))},\n",
       " '09-01': {'6-month': ('08-07-to-09-01',\n",
       "   datetime.datetime(2008, 7, 1, 0, 0),\n",
       "   datetime.datetime(2009, 1, 1, 0, 0)),\n",
       "  '12-month': ('08-01-to-09-01',\n",
       "   datetime.datetime(2008, 1, 1, 0, 0),\n",
       "   datetime.datetime(2009, 1, 1, 0, 0)),\n",
       "  'max': ('00-01-to-09-01',\n",
       "   datetime.datetime(2000, 1, 1, 0, 0),\n",
       "   datetime.datetime(2009, 1, 1, 0, 0))},\n",
       " '09-02': {'6-month': ('08-08-to-09-02',\n",
       "   datetime.datetime(2008, 8, 1, 0, 0),\n",
       "   datetime.datetime(2009, 2, 1, 0, 0)),\n",
       "  '12-month': ('08-02-to-09-02',\n",
       "   datetime.datetime(2008, 2, 1, 0, 0),\n",
       "   datetime.datetime(2009, 2, 1, 0, 0)),\n",
       "  'max': ('00-01-to-09-02',\n",
       "   datetime.datetime(2000, 1, 1, 0, 0),\n",
       "   datetime.datetime(2009, 2, 1, 0, 0))},\n",
       " '09-03': {'6-month': ('08-09-to-09-03',\n",
       "   datetime.datetime(2008, 9, 1, 0, 0),\n",
       "   datetime.datetime(2009, 3, 1, 0, 0)),\n",
       "  '12-month': ('08-03-to-09-03',\n",
       "   datetime.datetime(2008, 3, 1, 0, 0),\n",
       "   datetime.datetime(2009, 3, 1, 0, 0)),\n",
       "  'max': ('00-01-to-09-03',\n",
       "   datetime.datetime(2000, 1, 1, 0, 0),\n",
       "   datetime.datetime(2009, 3, 1, 0, 0))},\n",
       " '09-04': {'6-month': ('08-10-to-09-04',\n",
       "   datetime.datetime(2008, 10, 1, 0, 0),\n",
       "   datetime.datetime(2009, 4, 1, 0, 0)),\n",
       "  '12-month': ('08-04-to-09-04',\n",
       "   datetime.datetime(2008, 4, 1, 0, 0),\n",
       "   datetime.datetime(2009, 4, 1, 0, 0)),\n",
       "  'max': ('00-01-to-09-04',\n",
       "   datetime.datetime(2000, 1, 1, 0, 0),\n",
       "   datetime.datetime(2009, 4, 1, 0, 0))},\n",
       " '09-05': {'6-month': ('08-11-to-09-05',\n",
       "   datetime.datetime(2008, 11, 1, 0, 0),\n",
       "   datetime.datetime(2009, 5, 1, 0, 0)),\n",
       "  '12-month': ('08-05-to-09-05',\n",
       "   datetime.datetime(2008, 5, 1, 0, 0),\n",
       "   datetime.datetime(2009, 5, 1, 0, 0)),\n",
       "  'max': ('00-01-to-09-05',\n",
       "   datetime.datetime(2000, 1, 1, 0, 0),\n",
       "   datetime.datetime(2009, 5, 1, 0, 0))},\n",
       " '09-06': {'6-month': ('08-12-to-09-06',\n",
       "   datetime.datetime(2008, 12, 1, 0, 0),\n",
       "   datetime.datetime(2009, 6, 1, 0, 0)),\n",
       "  '12-month': ('08-06-to-09-06',\n",
       "   datetime.datetime(2008, 6, 1, 0, 0),\n",
       "   datetime.datetime(2009, 6, 1, 0, 0)),\n",
       "  'max': ('00-01-to-09-06',\n",
       "   datetime.datetime(2000, 1, 1, 0, 0),\n",
       "   datetime.datetime(2009, 6, 1, 0, 0))},\n",
       " '09-07': {'6-month': ('09-01-to-09-07',\n",
       "   datetime.datetime(2009, 1, 1, 0, 0),\n",
       "   datetime.datetime(2009, 7, 1, 0, 0)),\n",
       "  '12-month': ('08-07-to-09-07',\n",
       "   datetime.datetime(2008, 7, 1, 0, 0),\n",
       "   datetime.datetime(2009, 7, 1, 0, 0)),\n",
       "  'max': ('00-01-to-09-07',\n",
       "   datetime.datetime(2000, 1, 1, 0, 0),\n",
       "   datetime.datetime(2009, 7, 1, 0, 0))},\n",
       " '09-08': {'6-month': ('09-02-to-09-08',\n",
       "   datetime.datetime(2009, 2, 1, 0, 0),\n",
       "   datetime.datetime(2009, 8, 1, 0, 0)),\n",
       "  '12-month': ('08-08-to-09-08',\n",
       "   datetime.datetime(2008, 8, 1, 0, 0),\n",
       "   datetime.datetime(2009, 8, 1, 0, 0)),\n",
       "  'max': ('00-01-to-09-08',\n",
       "   datetime.datetime(2000, 1, 1, 0, 0),\n",
       "   datetime.datetime(2009, 8, 1, 0, 0))},\n",
       " '09-09': {'6-month': ('09-03-to-09-09',\n",
       "   datetime.datetime(2009, 3, 1, 0, 0),\n",
       "   datetime.datetime(2009, 9, 1, 0, 0)),\n",
       "  '12-month': ('08-09-to-09-09',\n",
       "   datetime.datetime(2008, 9, 1, 0, 0),\n",
       "   datetime.datetime(2009, 9, 1, 0, 0)),\n",
       "  'max': ('00-01-to-09-09',\n",
       "   datetime.datetime(2000, 1, 1, 0, 0),\n",
       "   datetime.datetime(2009, 9, 1, 0, 0))},\n",
       " '09-10': {'6-month': ('09-04-to-09-10',\n",
       "   datetime.datetime(2009, 4, 1, 0, 0),\n",
       "   datetime.datetime(2009, 10, 1, 0, 0)),\n",
       "  '12-month': ('08-10-to-09-10',\n",
       "   datetime.datetime(2008, 10, 1, 0, 0),\n",
       "   datetime.datetime(2009, 10, 1, 0, 0)),\n",
       "  'max': ('00-01-to-09-10',\n",
       "   datetime.datetime(2000, 1, 1, 0, 0),\n",
       "   datetime.datetime(2009, 10, 1, 0, 0))},\n",
       " '09-11': {'6-month': ('09-05-to-09-11',\n",
       "   datetime.datetime(2009, 5, 1, 0, 0),\n",
       "   datetime.datetime(2009, 11, 1, 0, 0)),\n",
       "  '12-month': ('08-11-to-09-11',\n",
       "   datetime.datetime(2008, 11, 1, 0, 0),\n",
       "   datetime.datetime(2009, 11, 1, 0, 0)),\n",
       "  'max': ('00-01-to-09-11',\n",
       "   datetime.datetime(2000, 1, 1, 0, 0),\n",
       "   datetime.datetime(2009, 11, 1, 0, 0))},\n",
       " '09-12': {'6-month': ('09-06-to-09-12',\n",
       "   datetime.datetime(2009, 6, 1, 0, 0),\n",
       "   datetime.datetime(2009, 12, 1, 0, 0)),\n",
       "  '12-month': ('08-12-to-09-12',\n",
       "   datetime.datetime(2008, 12, 1, 0, 0),\n",
       "   datetime.datetime(2009, 12, 1, 0, 0)),\n",
       "  'max': ('00-01-to-09-12',\n",
       "   datetime.datetime(2000, 1, 1, 0, 0),\n",
       "   datetime.datetime(2009, 12, 1, 0, 0))},\n",
       " '10-01': {'6-month': ('09-07-to-10-01',\n",
       "   datetime.datetime(2009, 7, 1, 0, 0),\n",
       "   datetime.datetime(2010, 1, 1, 0, 0)),\n",
       "  '12-month': ('09-01-to-10-01',\n",
       "   datetime.datetime(2009, 1, 1, 0, 0),\n",
       "   datetime.datetime(2010, 1, 1, 0, 0)),\n",
       "  'max': ('00-01-to-10-01',\n",
       "   datetime.datetime(2000, 1, 1, 0, 0),\n",
       "   datetime.datetime(2010, 1, 1, 0, 0))},\n",
       " '10-02': {'6-month': ('09-08-to-10-02',\n",
       "   datetime.datetime(2009, 8, 1, 0, 0),\n",
       "   datetime.datetime(2010, 2, 1, 0, 0)),\n",
       "  '12-month': ('09-02-to-10-02',\n",
       "   datetime.datetime(2009, 2, 1, 0, 0),\n",
       "   datetime.datetime(2010, 2, 1, 0, 0)),\n",
       "  'max': ('00-01-to-10-02',\n",
       "   datetime.datetime(2000, 1, 1, 0, 0),\n",
       "   datetime.datetime(2010, 2, 1, 0, 0))},\n",
       " '10-03': {'6-month': ('09-09-to-10-03',\n",
       "   datetime.datetime(2009, 9, 1, 0, 0),\n",
       "   datetime.datetime(2010, 3, 1, 0, 0)),\n",
       "  '12-month': ('09-03-to-10-03',\n",
       "   datetime.datetime(2009, 3, 1, 0, 0),\n",
       "   datetime.datetime(2010, 3, 1, 0, 0)),\n",
       "  'max': ('00-01-to-10-03',\n",
       "   datetime.datetime(2000, 1, 1, 0, 0),\n",
       "   datetime.datetime(2010, 3, 1, 0, 0))},\n",
       " '10-04': {'6-month': ('09-10-to-10-04',\n",
       "   datetime.datetime(2009, 10, 1, 0, 0),\n",
       "   datetime.datetime(2010, 4, 1, 0, 0)),\n",
       "  '12-month': ('09-04-to-10-04',\n",
       "   datetime.datetime(2009, 4, 1, 0, 0),\n",
       "   datetime.datetime(2010, 4, 1, 0, 0)),\n",
       "  'max': ('00-01-to-10-04',\n",
       "   datetime.datetime(2000, 1, 1, 0, 0),\n",
       "   datetime.datetime(2010, 4, 1, 0, 0))},\n",
       " '10-05': {'6-month': ('09-11-to-10-05',\n",
       "   datetime.datetime(2009, 11, 1, 0, 0),\n",
       "   datetime.datetime(2010, 5, 1, 0, 0)),\n",
       "  '12-month': ('09-05-to-10-05',\n",
       "   datetime.datetime(2009, 5, 1, 0, 0),\n",
       "   datetime.datetime(2010, 5, 1, 0, 0)),\n",
       "  'max': ('00-01-to-10-05',\n",
       "   datetime.datetime(2000, 1, 1, 0, 0),\n",
       "   datetime.datetime(2010, 5, 1, 0, 0))},\n",
       " '10-06': {'6-month': ('09-12-to-10-06',\n",
       "   datetime.datetime(2009, 12, 1, 0, 0),\n",
       "   datetime.datetime(2010, 6, 1, 0, 0)),\n",
       "  '12-month': ('09-06-to-10-06',\n",
       "   datetime.datetime(2009, 6, 1, 0, 0),\n",
       "   datetime.datetime(2010, 6, 1, 0, 0)),\n",
       "  'max': ('00-01-to-10-06',\n",
       "   datetime.datetime(2000, 1, 1, 0, 0),\n",
       "   datetime.datetime(2010, 6, 1, 0, 0))},\n",
       " '10-07': {'6-month': ('10-01-to-10-07',\n",
       "   datetime.datetime(2010, 1, 1, 0, 0),\n",
       "   datetime.datetime(2010, 7, 1, 0, 0)),\n",
       "  '12-month': ('09-07-to-10-07',\n",
       "   datetime.datetime(2009, 7, 1, 0, 0),\n",
       "   datetime.datetime(2010, 7, 1, 0, 0)),\n",
       "  'max': ('00-01-to-10-07',\n",
       "   datetime.datetime(2000, 1, 1, 0, 0),\n",
       "   datetime.datetime(2010, 7, 1, 0, 0))},\n",
       " '10-08': {'6-month': ('10-02-to-10-08',\n",
       "   datetime.datetime(2010, 2, 1, 0, 0),\n",
       "   datetime.datetime(2010, 8, 1, 0, 0)),\n",
       "  '12-month': ('09-08-to-10-08',\n",
       "   datetime.datetime(2009, 8, 1, 0, 0),\n",
       "   datetime.datetime(2010, 8, 1, 0, 0)),\n",
       "  'max': ('00-01-to-10-08',\n",
       "   datetime.datetime(2000, 1, 1, 0, 0),\n",
       "   datetime.datetime(2010, 8, 1, 0, 0))},\n",
       " '10-09': {'6-month': ('10-03-to-10-09',\n",
       "   datetime.datetime(2010, 3, 1, 0, 0),\n",
       "   datetime.datetime(2010, 9, 1, 0, 0)),\n",
       "  '12-month': ('09-09-to-10-09',\n",
       "   datetime.datetime(2009, 9, 1, 0, 0),\n",
       "   datetime.datetime(2010, 9, 1, 0, 0)),\n",
       "  'max': ('00-01-to-10-09',\n",
       "   datetime.datetime(2000, 1, 1, 0, 0),\n",
       "   datetime.datetime(2010, 9, 1, 0, 0))},\n",
       " '10-10': {'6-month': ('10-04-to-10-10',\n",
       "   datetime.datetime(2010, 4, 1, 0, 0),\n",
       "   datetime.datetime(2010, 10, 1, 0, 0)),\n",
       "  '12-month': ('09-10-to-10-10',\n",
       "   datetime.datetime(2009, 10, 1, 0, 0),\n",
       "   datetime.datetime(2010, 10, 1, 0, 0)),\n",
       "  'max': ('00-01-to-10-10',\n",
       "   datetime.datetime(2000, 1, 1, 0, 0),\n",
       "   datetime.datetime(2010, 10, 1, 0, 0))},\n",
       " '10-11': {'6-month': ('10-05-to-10-11',\n",
       "   datetime.datetime(2010, 5, 1, 0, 0),\n",
       "   datetime.datetime(2010, 11, 1, 0, 0)),\n",
       "  '12-month': ('09-11-to-10-11',\n",
       "   datetime.datetime(2009, 11, 1, 0, 0),\n",
       "   datetime.datetime(2010, 11, 1, 0, 0)),\n",
       "  'max': ('00-01-to-10-11',\n",
       "   datetime.datetime(2000, 1, 1, 0, 0),\n",
       "   datetime.datetime(2010, 11, 1, 0, 0))},\n",
       " '10-12': {'6-month': ('10-06-to-10-12',\n",
       "   datetime.datetime(2010, 6, 1, 0, 0),\n",
       "   datetime.datetime(2010, 12, 1, 0, 0)),\n",
       "  '12-month': ('09-12-to-10-12',\n",
       "   datetime.datetime(2009, 12, 1, 0, 0),\n",
       "   datetime.datetime(2010, 12, 1, 0, 0)),\n",
       "  'max': ('00-01-to-10-12',\n",
       "   datetime.datetime(2000, 1, 1, 0, 0),\n",
       "   datetime.datetime(2010, 12, 1, 0, 0))},\n",
       " '11-01': {'6-month': ('10-07-to-11-01',\n",
       "   datetime.datetime(2010, 7, 1, 0, 0),\n",
       "   datetime.datetime(2011, 1, 1, 0, 0)),\n",
       "  '12-month': ('10-01-to-11-01',\n",
       "   datetime.datetime(2010, 1, 1, 0, 0),\n",
       "   datetime.datetime(2011, 1, 1, 0, 0)),\n",
       "  'max': ('00-01-to-11-01',\n",
       "   datetime.datetime(2000, 1, 1, 0, 0),\n",
       "   datetime.datetime(2011, 1, 1, 0, 0))},\n",
       " '11-02': {'6-month': ('10-08-to-11-02',\n",
       "   datetime.datetime(2010, 8, 1, 0, 0),\n",
       "   datetime.datetime(2011, 2, 1, 0, 0)),\n",
       "  '12-month': ('10-02-to-11-02',\n",
       "   datetime.datetime(2010, 2, 1, 0, 0),\n",
       "   datetime.datetime(2011, 2, 1, 0, 0)),\n",
       "  'max': ('00-01-to-11-02',\n",
       "   datetime.datetime(2000, 1, 1, 0, 0),\n",
       "   datetime.datetime(2011, 2, 1, 0, 0))},\n",
       " '11-03': {'6-month': ('10-09-to-11-03',\n",
       "   datetime.datetime(2010, 9, 1, 0, 0),\n",
       "   datetime.datetime(2011, 3, 1, 0, 0)),\n",
       "  '12-month': ('10-03-to-11-03',\n",
       "   datetime.datetime(2010, 3, 1, 0, 0),\n",
       "   datetime.datetime(2011, 3, 1, 0, 0)),\n",
       "  'max': ('00-01-to-11-03',\n",
       "   datetime.datetime(2000, 1, 1, 0, 0),\n",
       "   datetime.datetime(2011, 3, 1, 0, 0))},\n",
       " '11-04': {'6-month': ('10-10-to-11-04',\n",
       "   datetime.datetime(2010, 10, 1, 0, 0),\n",
       "   datetime.datetime(2011, 4, 1, 0, 0)),\n",
       "  '12-month': ('10-04-to-11-04',\n",
       "   datetime.datetime(2010, 4, 1, 0, 0),\n",
       "   datetime.datetime(2011, 4, 1, 0, 0)),\n",
       "  'max': ('00-01-to-11-04',\n",
       "   datetime.datetime(2000, 1, 1, 0, 0),\n",
       "   datetime.datetime(2011, 4, 1, 0, 0))},\n",
       " '11-05': {'6-month': ('10-11-to-11-05',\n",
       "   datetime.datetime(2010, 11, 1, 0, 0),\n",
       "   datetime.datetime(2011, 5, 1, 0, 0)),\n",
       "  '12-month': ('10-05-to-11-05',\n",
       "   datetime.datetime(2010, 5, 1, 0, 0),\n",
       "   datetime.datetime(2011, 5, 1, 0, 0)),\n",
       "  'max': ('00-01-to-11-05',\n",
       "   datetime.datetime(2000, 1, 1, 0, 0),\n",
       "   datetime.datetime(2011, 5, 1, 0, 0))},\n",
       " '11-06': {'6-month': ('10-12-to-11-06',\n",
       "   datetime.datetime(2010, 12, 1, 0, 0),\n",
       "   datetime.datetime(2011, 6, 1, 0, 0)),\n",
       "  '12-month': ('10-06-to-11-06',\n",
       "   datetime.datetime(2010, 6, 1, 0, 0),\n",
       "   datetime.datetime(2011, 6, 1, 0, 0)),\n",
       "  'max': ('00-01-to-11-06',\n",
       "   datetime.datetime(2000, 1, 1, 0, 0),\n",
       "   datetime.datetime(2011, 6, 1, 0, 0))},\n",
       " '11-07': {'6-month': ('11-01-to-11-07',\n",
       "   datetime.datetime(2011, 1, 1, 0, 0),\n",
       "   datetime.datetime(2011, 7, 1, 0, 0)),\n",
       "  '12-month': ('10-07-to-11-07',\n",
       "   datetime.datetime(2010, 7, 1, 0, 0),\n",
       "   datetime.datetime(2011, 7, 1, 0, 0)),\n",
       "  'max': ('00-01-to-11-07',\n",
       "   datetime.datetime(2000, 1, 1, 0, 0),\n",
       "   datetime.datetime(2011, 7, 1, 0, 0))},\n",
       " '11-08': {'6-month': ('11-02-to-11-08',\n",
       "   datetime.datetime(2011, 2, 1, 0, 0),\n",
       "   datetime.datetime(2011, 8, 1, 0, 0)),\n",
       "  '12-month': ('10-08-to-11-08',\n",
       "   datetime.datetime(2010, 8, 1, 0, 0),\n",
       "   datetime.datetime(2011, 8, 1, 0, 0)),\n",
       "  'max': ('00-01-to-11-08',\n",
       "   datetime.datetime(2000, 1, 1, 0, 0),\n",
       "   datetime.datetime(2011, 8, 1, 0, 0))},\n",
       " '11-09': {'6-month': ('11-03-to-11-09',\n",
       "   datetime.datetime(2011, 3, 1, 0, 0),\n",
       "   datetime.datetime(2011, 9, 1, 0, 0)),\n",
       "  '12-month': ('10-09-to-11-09',\n",
       "   datetime.datetime(2010, 9, 1, 0, 0),\n",
       "   datetime.datetime(2011, 9, 1, 0, 0)),\n",
       "  'max': ('00-01-to-11-09',\n",
       "   datetime.datetime(2000, 1, 1, 0, 0),\n",
       "   datetime.datetime(2011, 9, 1, 0, 0))},\n",
       " '11-10': {'6-month': ('11-04-to-11-10',\n",
       "   datetime.datetime(2011, 4, 1, 0, 0),\n",
       "   datetime.datetime(2011, 10, 1, 0, 0)),\n",
       "  '12-month': ('10-10-to-11-10',\n",
       "   datetime.datetime(2010, 10, 1, 0, 0),\n",
       "   datetime.datetime(2011, 10, 1, 0, 0)),\n",
       "  'max': ('00-01-to-11-10',\n",
       "   datetime.datetime(2000, 1, 1, 0, 0),\n",
       "   datetime.datetime(2011, 10, 1, 0, 0))},\n",
       " '11-11': {'6-month': ('11-05-to-11-11',\n",
       "   datetime.datetime(2011, 5, 1, 0, 0),\n",
       "   datetime.datetime(2011, 11, 1, 0, 0)),\n",
       "  '12-month': ('10-11-to-11-11',\n",
       "   datetime.datetime(2010, 11, 1, 0, 0),\n",
       "   datetime.datetime(2011, 11, 1, 0, 0)),\n",
       "  'max': ('00-01-to-11-11',\n",
       "   datetime.datetime(2000, 1, 1, 0, 0),\n",
       "   datetime.datetime(2011, 11, 1, 0, 0))},\n",
       " '11-12': {'6-month': ('11-06-to-11-12',\n",
       "   datetime.datetime(2011, 6, 1, 0, 0),\n",
       "   datetime.datetime(2011, 12, 1, 0, 0)),\n",
       "  '12-month': ('10-12-to-11-12',\n",
       "   datetime.datetime(2010, 12, 1, 0, 0),\n",
       "   datetime.datetime(2011, 12, 1, 0, 0)),\n",
       "  'max': ('00-01-to-11-12',\n",
       "   datetime.datetime(2000, 1, 1, 0, 0),\n",
       "   datetime.datetime(2011, 12, 1, 0, 0))},\n",
       " '12-01': {'6-month': ('11-07-to-12-01',\n",
       "   datetime.datetime(2011, 7, 1, 0, 0),\n",
       "   datetime.datetime(2012, 1, 1, 0, 0)),\n",
       "  '12-month': ('11-01-to-12-01',\n",
       "   datetime.datetime(2011, 1, 1, 0, 0),\n",
       "   datetime.datetime(2012, 1, 1, 0, 0)),\n",
       "  'max': ('00-01-to-12-01',\n",
       "   datetime.datetime(2000, 1, 1, 0, 0),\n",
       "   datetime.datetime(2012, 1, 1, 0, 0))},\n",
       " '12-02': {'6-month': ('11-08-to-12-02',\n",
       "   datetime.datetime(2011, 8, 1, 0, 0),\n",
       "   datetime.datetime(2012, 2, 1, 0, 0)),\n",
       "  '12-month': ('11-02-to-12-02',\n",
       "   datetime.datetime(2011, 2, 1, 0, 0),\n",
       "   datetime.datetime(2012, 2, 1, 0, 0)),\n",
       "  'max': ('00-01-to-12-02',\n",
       "   datetime.datetime(2000, 1, 1, 0, 0),\n",
       "   datetime.datetime(2012, 2, 1, 0, 0))},\n",
       " '12-03': {'6-month': ('11-09-to-12-03',\n",
       "   datetime.datetime(2011, 9, 1, 0, 0),\n",
       "   datetime.datetime(2012, 3, 1, 0, 0)),\n",
       "  '12-month': ('11-03-to-12-03',\n",
       "   datetime.datetime(2011, 3, 1, 0, 0),\n",
       "   datetime.datetime(2012, 3, 1, 0, 0)),\n",
       "  'max': ('00-01-to-12-03',\n",
       "   datetime.datetime(2000, 1, 1, 0, 0),\n",
       "   datetime.datetime(2012, 3, 1, 0, 0))},\n",
       " '12-04': {'6-month': ('11-10-to-12-04',\n",
       "   datetime.datetime(2011, 10, 1, 0, 0),\n",
       "   datetime.datetime(2012, 4, 1, 0, 0)),\n",
       "  '12-month': ('11-04-to-12-04',\n",
       "   datetime.datetime(2011, 4, 1, 0, 0),\n",
       "   datetime.datetime(2012, 4, 1, 0, 0)),\n",
       "  'max': ('00-01-to-12-04',\n",
       "   datetime.datetime(2000, 1, 1, 0, 0),\n",
       "   datetime.datetime(2012, 4, 1, 0, 0))},\n",
       " '12-05': {'6-month': ('11-11-to-12-05',\n",
       "   datetime.datetime(2011, 11, 1, 0, 0),\n",
       "   datetime.datetime(2012, 5, 1, 0, 0)),\n",
       "  '12-month': ('11-05-to-12-05',\n",
       "   datetime.datetime(2011, 5, 1, 0, 0),\n",
       "   datetime.datetime(2012, 5, 1, 0, 0)),\n",
       "  'max': ('00-01-to-12-05',\n",
       "   datetime.datetime(2000, 1, 1, 0, 0),\n",
       "   datetime.datetime(2012, 5, 1, 0, 0))},\n",
       " '12-06': {'6-month': ('11-12-to-12-06',\n",
       "   datetime.datetime(2011, 12, 1, 0, 0),\n",
       "   datetime.datetime(2012, 6, 1, 0, 0)),\n",
       "  '12-month': ('11-06-to-12-06',\n",
       "   datetime.datetime(2011, 6, 1, 0, 0),\n",
       "   datetime.datetime(2012, 6, 1, 0, 0)),\n",
       "  'max': ('00-01-to-12-06',\n",
       "   datetime.datetime(2000, 1, 1, 0, 0),\n",
       "   datetime.datetime(2012, 6, 1, 0, 0))},\n",
       " '12-07': {'6-month': ('12-01-to-12-07',\n",
       "   datetime.datetime(2012, 1, 1, 0, 0),\n",
       "   datetime.datetime(2012, 7, 1, 0, 0)),\n",
       "  '12-month': ('11-07-to-12-07',\n",
       "   datetime.datetime(2011, 7, 1, 0, 0),\n",
       "   datetime.datetime(2012, 7, 1, 0, 0)),\n",
       "  'max': ('00-01-to-12-07',\n",
       "   datetime.datetime(2000, 1, 1, 0, 0),\n",
       "   datetime.datetime(2012, 7, 1, 0, 0))},\n",
       " '12-08': {'6-month': ('12-02-to-12-08',\n",
       "   datetime.datetime(2012, 2, 1, 0, 0),\n",
       "   datetime.datetime(2012, 8, 1, 0, 0)),\n",
       "  '12-month': ('11-08-to-12-08',\n",
       "   datetime.datetime(2011, 8, 1, 0, 0),\n",
       "   datetime.datetime(2012, 8, 1, 0, 0)),\n",
       "  'max': ('00-01-to-12-08',\n",
       "   datetime.datetime(2000, 1, 1, 0, 0),\n",
       "   datetime.datetime(2012, 8, 1, 0, 0))},\n",
       " '12-09': {'6-month': ('12-03-to-12-09',\n",
       "   datetime.datetime(2012, 3, 1, 0, 0),\n",
       "   datetime.datetime(2012, 9, 1, 0, 0)),\n",
       "  '12-month': ('11-09-to-12-09',\n",
       "   datetime.datetime(2011, 9, 1, 0, 0),\n",
       "   datetime.datetime(2012, 9, 1, 0, 0)),\n",
       "  'max': ('00-01-to-12-09',\n",
       "   datetime.datetime(2000, 1, 1, 0, 0),\n",
       "   datetime.datetime(2012, 9, 1, 0, 0))},\n",
       " '12-10': {'6-month': ('12-04-to-12-10',\n",
       "   datetime.datetime(2012, 4, 1, 0, 0),\n",
       "   datetime.datetime(2012, 10, 1, 0, 0)),\n",
       "  '12-month': ('11-10-to-12-10',\n",
       "   datetime.datetime(2011, 10, 1, 0, 0),\n",
       "   datetime.datetime(2012, 10, 1, 0, 0)),\n",
       "  'max': ('00-01-to-12-10',\n",
       "   datetime.datetime(2000, 1, 1, 0, 0),\n",
       "   datetime.datetime(2012, 10, 1, 0, 0))},\n",
       " '12-11': {'6-month': ('12-05-to-12-11',\n",
       "   datetime.datetime(2012, 5, 1, 0, 0),\n",
       "   datetime.datetime(2012, 11, 1, 0, 0)),\n",
       "  '12-month': ('11-11-to-12-11',\n",
       "   datetime.datetime(2011, 11, 1, 0, 0),\n",
       "   datetime.datetime(2012, 11, 1, 0, 0)),\n",
       "  'max': ('00-01-to-12-11',\n",
       "   datetime.datetime(2000, 1, 1, 0, 0),\n",
       "   datetime.datetime(2012, 11, 1, 0, 0))},\n",
       " '12-12': {'6-month': ('12-06-to-12-12',\n",
       "   datetime.datetime(2012, 6, 1, 0, 0),\n",
       "   datetime.datetime(2012, 12, 1, 0, 0)),\n",
       "  '12-month': ('11-12-to-12-12',\n",
       "   datetime.datetime(2011, 12, 1, 0, 0),\n",
       "   datetime.datetime(2012, 12, 1, 0, 0)),\n",
       "  'max': ('00-01-to-12-12',\n",
       "   datetime.datetime(2000, 1, 1, 0, 0),\n",
       "   datetime.datetime(2012, 12, 1, 0, 0))},\n",
       " '13-01': {'6-month': ('12-07-to-13-01',\n",
       "   datetime.datetime(2012, 7, 1, 0, 0),\n",
       "   datetime.datetime(2013, 1, 1, 0, 0)),\n",
       "  '12-month': ('12-01-to-13-01',\n",
       "   datetime.datetime(2012, 1, 1, 0, 0),\n",
       "   datetime.datetime(2013, 1, 1, 0, 0)),\n",
       "  'max': ('00-01-to-13-01',\n",
       "   datetime.datetime(2000, 1, 1, 0, 0),\n",
       "   datetime.datetime(2013, 1, 1, 0, 0))},\n",
       " '13-02': {'6-month': ('12-08-to-13-02',\n",
       "   datetime.datetime(2012, 8, 1, 0, 0),\n",
       "   datetime.datetime(2013, 2, 1, 0, 0)),\n",
       "  '12-month': ('12-02-to-13-02',\n",
       "   datetime.datetime(2012, 2, 1, 0, 0),\n",
       "   datetime.datetime(2013, 2, 1, 0, 0)),\n",
       "  'max': ('00-01-to-13-02',\n",
       "   datetime.datetime(2000, 1, 1, 0, 0),\n",
       "   datetime.datetime(2013, 2, 1, 0, 0))},\n",
       " '13-03': {'6-month': ('12-09-to-13-03',\n",
       "   datetime.datetime(2012, 9, 1, 0, 0),\n",
       "   datetime.datetime(2013, 3, 1, 0, 0)),\n",
       "  '12-month': ('12-03-to-13-03',\n",
       "   datetime.datetime(2012, 3, 1, 0, 0),\n",
       "   datetime.datetime(2013, 3, 1, 0, 0)),\n",
       "  'max': ('00-01-to-13-03',\n",
       "   datetime.datetime(2000, 1, 1, 0, 0),\n",
       "   datetime.datetime(2013, 3, 1, 0, 0))},\n",
       " '13-04': {'6-month': ('12-10-to-13-04',\n",
       "   datetime.datetime(2012, 10, 1, 0, 0),\n",
       "   datetime.datetime(2013, 4, 1, 0, 0)),\n",
       "  '12-month': ('12-04-to-13-04',\n",
       "   datetime.datetime(2012, 4, 1, 0, 0),\n",
       "   datetime.datetime(2013, 4, 1, 0, 0)),\n",
       "  'max': ('00-01-to-13-04',\n",
       "   datetime.datetime(2000, 1, 1, 0, 0),\n",
       "   datetime.datetime(2013, 4, 1, 0, 0))},\n",
       " '13-05': {'6-month': ('12-11-to-13-05',\n",
       "   datetime.datetime(2012, 11, 1, 0, 0),\n",
       "   datetime.datetime(2013, 5, 1, 0, 0)),\n",
       "  '12-month': ('12-05-to-13-05',\n",
       "   datetime.datetime(2012, 5, 1, 0, 0),\n",
       "   datetime.datetime(2013, 5, 1, 0, 0)),\n",
       "  'max': ('00-01-to-13-05',\n",
       "   datetime.datetime(2000, 1, 1, 0, 0),\n",
       "   datetime.datetime(2013, 5, 1, 0, 0))},\n",
       " '13-06': {'6-month': ('12-12-to-13-06',\n",
       "   datetime.datetime(2012, 12, 1, 0, 0),\n",
       "   datetime.datetime(2013, 6, 1, 0, 0)),\n",
       "  '12-month': ('12-06-to-13-06',\n",
       "   datetime.datetime(2012, 6, 1, 0, 0),\n",
       "   datetime.datetime(2013, 6, 1, 0, 0)),\n",
       "  'max': ('00-01-to-13-06',\n",
       "   datetime.datetime(2000, 1, 1, 0, 0),\n",
       "   datetime.datetime(2013, 6, 1, 0, 0))},\n",
       " '13-07': {'6-month': ('13-01-to-13-07',\n",
       "   datetime.datetime(2013, 1, 1, 0, 0),\n",
       "   datetime.datetime(2013, 7, 1, 0, 0)),\n",
       "  '12-month': ('12-07-to-13-07',\n",
       "   datetime.datetime(2012, 7, 1, 0, 0),\n",
       "   datetime.datetime(2013, 7, 1, 0, 0)),\n",
       "  'max': ('00-01-to-13-07',\n",
       "   datetime.datetime(2000, 1, 1, 0, 0),\n",
       "   datetime.datetime(2013, 7, 1, 0, 0))},\n",
       " '13-08': {'6-month': ('13-02-to-13-08',\n",
       "   datetime.datetime(2013, 2, 1, 0, 0),\n",
       "   datetime.datetime(2013, 8, 1, 0, 0)),\n",
       "  '12-month': ('12-08-to-13-08',\n",
       "   datetime.datetime(2012, 8, 1, 0, 0),\n",
       "   datetime.datetime(2013, 8, 1, 0, 0)),\n",
       "  'max': ('00-01-to-13-08',\n",
       "   datetime.datetime(2000, 1, 1, 0, 0),\n",
       "   datetime.datetime(2013, 8, 1, 0, 0))},\n",
       " '13-09': {'6-month': ('13-03-to-13-09',\n",
       "   datetime.datetime(2013, 3, 1, 0, 0),\n",
       "   datetime.datetime(2013, 9, 1, 0, 0)),\n",
       "  '12-month': ('12-09-to-13-09',\n",
       "   datetime.datetime(2012, 9, 1, 0, 0),\n",
       "   datetime.datetime(2013, 9, 1, 0, 0)),\n",
       "  'max': ('00-01-to-13-09',\n",
       "   datetime.datetime(2000, 1, 1, 0, 0),\n",
       "   datetime.datetime(2013, 9, 1, 0, 0))},\n",
       " '13-10': {'6-month': ('13-04-to-13-10',\n",
       "   datetime.datetime(2013, 4, 1, 0, 0),\n",
       "   datetime.datetime(2013, 10, 1, 0, 0)),\n",
       "  '12-month': ('12-10-to-13-10',\n",
       "   datetime.datetime(2012, 10, 1, 0, 0),\n",
       "   datetime.datetime(2013, 10, 1, 0, 0)),\n",
       "  'max': ('00-01-to-13-10',\n",
       "   datetime.datetime(2000, 1, 1, 0, 0),\n",
       "   datetime.datetime(2013, 10, 1, 0, 0))},\n",
       " '13-11': {'6-month': ('13-05-to-13-11',\n",
       "   datetime.datetime(2013, 5, 1, 0, 0),\n",
       "   datetime.datetime(2013, 11, 1, 0, 0)),\n",
       "  '12-month': ('12-11-to-13-11',\n",
       "   datetime.datetime(2012, 11, 1, 0, 0),\n",
       "   datetime.datetime(2013, 11, 1, 0, 0)),\n",
       "  'max': ('00-01-to-13-11',\n",
       "   datetime.datetime(2000, 1, 1, 0, 0),\n",
       "   datetime.datetime(2013, 11, 1, 0, 0))},\n",
       " '13-12': {'6-month': ('13-06-to-13-12',\n",
       "   datetime.datetime(2013, 6, 1, 0, 0),\n",
       "   datetime.datetime(2013, 12, 1, 0, 0)),\n",
       "  '12-month': ('12-12-to-13-12',\n",
       "   datetime.datetime(2012, 12, 1, 0, 0),\n",
       "   datetime.datetime(2013, 12, 1, 0, 0)),\n",
       "  'max': ('00-01-to-13-12',\n",
       "   datetime.datetime(2000, 1, 1, 0, 0),\n",
       "   datetime.datetime(2013, 12, 1, 0, 0))},\n",
       " '14-01': {'6-month': ('13-07-to-14-01',\n",
       "   datetime.datetime(2013, 7, 1, 0, 0),\n",
       "   datetime.datetime(2014, 1, 1, 0, 0)),\n",
       "  '12-month': ('13-01-to-14-01',\n",
       "   datetime.datetime(2013, 1, 1, 0, 0),\n",
       "   datetime.datetime(2014, 1, 1, 0, 0)),\n",
       "  'max': ('00-01-to-14-01',\n",
       "   datetime.datetime(2000, 1, 1, 0, 0),\n",
       "   datetime.datetime(2014, 1, 1, 0, 0))},\n",
       " '14-02': {'6-month': ('13-08-to-14-02',\n",
       "   datetime.datetime(2013, 8, 1, 0, 0),\n",
       "   datetime.datetime(2014, 2, 1, 0, 0)),\n",
       "  '12-month': ('13-02-to-14-02',\n",
       "   datetime.datetime(2013, 2, 1, 0, 0),\n",
       "   datetime.datetime(2014, 2, 1, 0, 0)),\n",
       "  'max': ('00-01-to-14-02',\n",
       "   datetime.datetime(2000, 1, 1, 0, 0),\n",
       "   datetime.datetime(2014, 2, 1, 0, 0))},\n",
       " '14-03': {'6-month': ('13-09-to-14-03',\n",
       "   datetime.datetime(2013, 9, 1, 0, 0),\n",
       "   datetime.datetime(2014, 3, 1, 0, 0)),\n",
       "  '12-month': ('13-03-to-14-03',\n",
       "   datetime.datetime(2013, 3, 1, 0, 0),\n",
       "   datetime.datetime(2014, 3, 1, 0, 0)),\n",
       "  'max': ('00-01-to-14-03',\n",
       "   datetime.datetime(2000, 1, 1, 0, 0),\n",
       "   datetime.datetime(2014, 3, 1, 0, 0))},\n",
       " '14-04': {'6-month': ('13-10-to-14-04',\n",
       "   datetime.datetime(2013, 10, 1, 0, 0),\n",
       "   datetime.datetime(2014, 4, 1, 0, 0)),\n",
       "  '12-month': ('13-04-to-14-04',\n",
       "   datetime.datetime(2013, 4, 1, 0, 0),\n",
       "   datetime.datetime(2014, 4, 1, 0, 0)),\n",
       "  'max': ('00-01-to-14-04',\n",
       "   datetime.datetime(2000, 1, 1, 0, 0),\n",
       "   datetime.datetime(2014, 4, 1, 0, 0))},\n",
       " '14-05': {'6-month': ('13-11-to-14-05',\n",
       "   datetime.datetime(2013, 11, 1, 0, 0),\n",
       "   datetime.datetime(2014, 5, 1, 0, 0)),\n",
       "  '12-month': ('13-05-to-14-05',\n",
       "   datetime.datetime(2013, 5, 1, 0, 0),\n",
       "   datetime.datetime(2014, 5, 1, 0, 0)),\n",
       "  'max': ('00-01-to-14-05',\n",
       "   datetime.datetime(2000, 1, 1, 0, 0),\n",
       "   datetime.datetime(2014, 5, 1, 0, 0))},\n",
       " '14-06': {'6-month': ('13-12-to-14-06',\n",
       "   datetime.datetime(2013, 12, 1, 0, 0),\n",
       "   datetime.datetime(2014, 6, 1, 0, 0)),\n",
       "  '12-month': ('13-06-to-14-06',\n",
       "   datetime.datetime(2013, 6, 1, 0, 0),\n",
       "   datetime.datetime(2014, 6, 1, 0, 0)),\n",
       "  'max': ('00-01-to-14-06',\n",
       "   datetime.datetime(2000, 1, 1, 0, 0),\n",
       "   datetime.datetime(2014, 6, 1, 0, 0))},\n",
       " '14-07': {'6-month': ('14-01-to-14-07',\n",
       "   datetime.datetime(2014, 1, 1, 0, 0),\n",
       "   datetime.datetime(2014, 7, 1, 0, 0)),\n",
       "  '12-month': ('13-07-to-14-07',\n",
       "   datetime.datetime(2013, 7, 1, 0, 0),\n",
       "   datetime.datetime(2014, 7, 1, 0, 0)),\n",
       "  'max': ('00-01-to-14-07',\n",
       "   datetime.datetime(2000, 1, 1, 0, 0),\n",
       "   datetime.datetime(2014, 7, 1, 0, 0))},\n",
       " '14-08': {'6-month': ('14-02-to-14-08',\n",
       "   datetime.datetime(2014, 2, 1, 0, 0),\n",
       "   datetime.datetime(2014, 8, 1, 0, 0)),\n",
       "  '12-month': ('13-08-to-14-08',\n",
       "   datetime.datetime(2013, 8, 1, 0, 0),\n",
       "   datetime.datetime(2014, 8, 1, 0, 0)),\n",
       "  'max': ('00-01-to-14-08',\n",
       "   datetime.datetime(2000, 1, 1, 0, 0),\n",
       "   datetime.datetime(2014, 8, 1, 0, 0))},\n",
       " '14-09': {'6-month': ('14-03-to-14-09',\n",
       "   datetime.datetime(2014, 3, 1, 0, 0),\n",
       "   datetime.datetime(2014, 9, 1, 0, 0)),\n",
       "  '12-month': ('13-09-to-14-09',\n",
       "   datetime.datetime(2013, 9, 1, 0, 0),\n",
       "   datetime.datetime(2014, 9, 1, 0, 0)),\n",
       "  'max': ('00-01-to-14-09',\n",
       "   datetime.datetime(2000, 1, 1, 0, 0),\n",
       "   datetime.datetime(2014, 9, 1, 0, 0))},\n",
       " '14-10': {'6-month': ('14-04-to-14-10',\n",
       "   datetime.datetime(2014, 4, 1, 0, 0),\n",
       "   datetime.datetime(2014, 10, 1, 0, 0)),\n",
       "  '12-month': ('13-10-to-14-10',\n",
       "   datetime.datetime(2013, 10, 1, 0, 0),\n",
       "   datetime.datetime(2014, 10, 1, 0, 0)),\n",
       "  'max': ('00-01-to-14-10',\n",
       "   datetime.datetime(2000, 1, 1, 0, 0),\n",
       "   datetime.datetime(2014, 10, 1, 0, 0))},\n",
       " '14-11': {'6-month': ('14-05-to-14-11',\n",
       "   datetime.datetime(2014, 5, 1, 0, 0),\n",
       "   datetime.datetime(2014, 11, 1, 0, 0)),\n",
       "  '12-month': ('13-11-to-14-11',\n",
       "   datetime.datetime(2013, 11, 1, 0, 0),\n",
       "   datetime.datetime(2014, 11, 1, 0, 0)),\n",
       "  'max': ('00-01-to-14-11',\n",
       "   datetime.datetime(2000, 1, 1, 0, 0),\n",
       "   datetime.datetime(2014, 11, 1, 0, 0))},\n",
       " '14-12': {'6-month': ('14-06-to-14-12',\n",
       "   datetime.datetime(2014, 6, 1, 0, 0),\n",
       "   datetime.datetime(2014, 12, 1, 0, 0)),\n",
       "  '12-month': ('13-12-to-14-12',\n",
       "   datetime.datetime(2013, 12, 1, 0, 0),\n",
       "   datetime.datetime(2014, 12, 1, 0, 0)),\n",
       "  'max': ('00-01-to-14-12',\n",
       "   datetime.datetime(2000, 1, 1, 0, 0),\n",
       "   datetime.datetime(2014, 12, 1, 0, 0))},\n",
       " '15-01': {'6-month': ('14-07-to-15-01',\n",
       "   datetime.datetime(2014, 7, 1, 0, 0),\n",
       "   datetime.datetime(2015, 1, 1, 0, 0)),\n",
       "  '12-month': ('14-01-to-15-01',\n",
       "   datetime.datetime(2014, 1, 1, 0, 0),\n",
       "   datetime.datetime(2015, 1, 1, 0, 0)),\n",
       "  'max': ('00-01-to-15-01',\n",
       "   datetime.datetime(2000, 1, 1, 0, 0),\n",
       "   datetime.datetime(2015, 1, 1, 0, 0))},\n",
       " '15-02': {'6-month': ('14-08-to-15-02',\n",
       "   datetime.datetime(2014, 8, 1, 0, 0),\n",
       "   datetime.datetime(2015, 2, 1, 0, 0)),\n",
       "  '12-month': ('14-02-to-15-02',\n",
       "   datetime.datetime(2014, 2, 1, 0, 0),\n",
       "   datetime.datetime(2015, 2, 1, 0, 0)),\n",
       "  'max': ('00-01-to-15-02',\n",
       "   datetime.datetime(2000, 1, 1, 0, 0),\n",
       "   datetime.datetime(2015, 2, 1, 0, 0))},\n",
       " '15-03': {'6-month': ('14-09-to-15-03',\n",
       "   datetime.datetime(2014, 9, 1, 0, 0),\n",
       "   datetime.datetime(2015, 3, 1, 0, 0)),\n",
       "  '12-month': ('14-03-to-15-03',\n",
       "   datetime.datetime(2014, 3, 1, 0, 0),\n",
       "   datetime.datetime(2015, 3, 1, 0, 0)),\n",
       "  'max': ('00-01-to-15-03',\n",
       "   datetime.datetime(2000, 1, 1, 0, 0),\n",
       "   datetime.datetime(2015, 3, 1, 0, 0))},\n",
       " '15-04': {'6-month': ('14-10-to-15-04',\n",
       "   datetime.datetime(2014, 10, 1, 0, 0),\n",
       "   datetime.datetime(2015, 4, 1, 0, 0)),\n",
       "  '12-month': ('14-04-to-15-04',\n",
       "   datetime.datetime(2014, 4, 1, 0, 0),\n",
       "   datetime.datetime(2015, 4, 1, 0, 0)),\n",
       "  'max': ('00-01-to-15-04',\n",
       "   datetime.datetime(2000, 1, 1, 0, 0),\n",
       "   datetime.datetime(2015, 4, 1, 0, 0))},\n",
       " '15-05': {'6-month': ('14-11-to-15-05',\n",
       "   datetime.datetime(2014, 11, 1, 0, 0),\n",
       "   datetime.datetime(2015, 5, 1, 0, 0)),\n",
       "  '12-month': ('14-05-to-15-05',\n",
       "   datetime.datetime(2014, 5, 1, 0, 0),\n",
       "   datetime.datetime(2015, 5, 1, 0, 0)),\n",
       "  'max': ('00-01-to-15-05',\n",
       "   datetime.datetime(2000, 1, 1, 0, 0),\n",
       "   datetime.datetime(2015, 5, 1, 0, 0))},\n",
       " '15-06': {'6-month': ('14-12-to-15-06',\n",
       "   datetime.datetime(2014, 12, 1, 0, 0),\n",
       "   datetime.datetime(2015, 6, 1, 0, 0)),\n",
       "  '12-month': ('14-06-to-15-06',\n",
       "   datetime.datetime(2014, 6, 1, 0, 0),\n",
       "   datetime.datetime(2015, 6, 1, 0, 0)),\n",
       "  'max': ('00-01-to-15-06',\n",
       "   datetime.datetime(2000, 1, 1, 0, 0),\n",
       "   datetime.datetime(2015, 6, 1, 0, 0))},\n",
       " '15-07': {'6-month': ('15-01-to-15-07',\n",
       "   datetime.datetime(2015, 1, 1, 0, 0),\n",
       "   datetime.datetime(2015, 7, 1, 0, 0)),\n",
       "  '12-month': ('14-07-to-15-07',\n",
       "   datetime.datetime(2014, 7, 1, 0, 0),\n",
       "   datetime.datetime(2015, 7, 1, 0, 0)),\n",
       "  'max': ('00-01-to-15-07',\n",
       "   datetime.datetime(2000, 1, 1, 0, 0),\n",
       "   datetime.datetime(2015, 7, 1, 0, 0))},\n",
       " '15-08': {'6-month': ('15-02-to-15-08',\n",
       "   datetime.datetime(2015, 2, 1, 0, 0),\n",
       "   datetime.datetime(2015, 8, 1, 0, 0)),\n",
       "  '12-month': ('14-08-to-15-08',\n",
       "   datetime.datetime(2014, 8, 1, 0, 0),\n",
       "   datetime.datetime(2015, 8, 1, 0, 0)),\n",
       "  'max': ('00-01-to-15-08',\n",
       "   datetime.datetime(2000, 1, 1, 0, 0),\n",
       "   datetime.datetime(2015, 8, 1, 0, 0))},\n",
       " '15-09': {'6-month': ('15-03-to-15-09',\n",
       "   datetime.datetime(2015, 3, 1, 0, 0),\n",
       "   datetime.datetime(2015, 9, 1, 0, 0)),\n",
       "  '12-month': ('14-09-to-15-09',\n",
       "   datetime.datetime(2014, 9, 1, 0, 0),\n",
       "   datetime.datetime(2015, 9, 1, 0, 0)),\n",
       "  'max': ('00-01-to-15-09',\n",
       "   datetime.datetime(2000, 1, 1, 0, 0),\n",
       "   datetime.datetime(2015, 9, 1, 0, 0))},\n",
       " '15-10': {'6-month': ('15-04-to-15-10',\n",
       "   datetime.datetime(2015, 4, 1, 0, 0),\n",
       "   datetime.datetime(2015, 10, 1, 0, 0)),\n",
       "  '12-month': ('14-10-to-15-10',\n",
       "   datetime.datetime(2014, 10, 1, 0, 0),\n",
       "   datetime.datetime(2015, 10, 1, 0, 0)),\n",
       "  'max': ('00-01-to-15-10',\n",
       "   datetime.datetime(2000, 1, 1, 0, 0),\n",
       "   datetime.datetime(2015, 10, 1, 0, 0))},\n",
       " '15-11': {'6-month': ('15-05-to-15-11',\n",
       "   datetime.datetime(2015, 5, 1, 0, 0),\n",
       "   datetime.datetime(2015, 11, 1, 0, 0)),\n",
       "  '12-month': ('14-11-to-15-11',\n",
       "   datetime.datetime(2014, 11, 1, 0, 0),\n",
       "   datetime.datetime(2015, 11, 1, 0, 0)),\n",
       "  'max': ('00-01-to-15-11',\n",
       "   datetime.datetime(2000, 1, 1, 0, 0),\n",
       "   datetime.datetime(2015, 11, 1, 0, 0))},\n",
       " '15-12': {'6-month': ('15-06-to-15-12',\n",
       "   datetime.datetime(2015, 6, 1, 0, 0),\n",
       "   datetime.datetime(2015, 12, 1, 0, 0)),\n",
       "  '12-month': ('14-12-to-15-12',\n",
       "   datetime.datetime(2014, 12, 1, 0, 0),\n",
       "   datetime.datetime(2015, 12, 1, 0, 0)),\n",
       "  'max': ('00-01-to-15-12',\n",
       "   datetime.datetime(2000, 1, 1, 0, 0),\n",
       "   datetime.datetime(2015, 12, 1, 0, 0))},\n",
       " '16-01': {'6-month': ('15-07-to-16-01',\n",
       "   datetime.datetime(2015, 7, 1, 0, 0),\n",
       "   datetime.datetime(2016, 1, 1, 0, 0)),\n",
       "  '12-month': ('15-01-to-16-01',\n",
       "   datetime.datetime(2015, 1, 1, 0, 0),\n",
       "   datetime.datetime(2016, 1, 1, 0, 0)),\n",
       "  'max': ('00-01-to-16-01',\n",
       "   datetime.datetime(2000, 1, 1, 0, 0),\n",
       "   datetime.datetime(2016, 1, 1, 0, 0))},\n",
       " '16-02': {'6-month': ('15-08-to-16-02',\n",
       "   datetime.datetime(2015, 8, 1, 0, 0),\n",
       "   datetime.datetime(2016, 2, 1, 0, 0)),\n",
       "  '12-month': ('15-02-to-16-02',\n",
       "   datetime.datetime(2015, 2, 1, 0, 0),\n",
       "   datetime.datetime(2016, 2, 1, 0, 0)),\n",
       "  'max': ('00-01-to-16-02',\n",
       "   datetime.datetime(2000, 1, 1, 0, 0),\n",
       "   datetime.datetime(2016, 2, 1, 0, 0))},\n",
       " '16-03': {'6-month': ('15-09-to-16-03',\n",
       "   datetime.datetime(2015, 9, 1, 0, 0),\n",
       "   datetime.datetime(2016, 3, 1, 0, 0)),\n",
       "  '12-month': ('15-03-to-16-03',\n",
       "   datetime.datetime(2015, 3, 1, 0, 0),\n",
       "   datetime.datetime(2016, 3, 1, 0, 0)),\n",
       "  'max': ('00-01-to-16-03',\n",
       "   datetime.datetime(2000, 1, 1, 0, 0),\n",
       "   datetime.datetime(2016, 3, 1, 0, 0))},\n",
       " '16-04': {'6-month': ('15-10-to-16-04',\n",
       "   datetime.datetime(2015, 10, 1, 0, 0),\n",
       "   datetime.datetime(2016, 4, 1, 0, 0)),\n",
       "  '12-month': ('15-04-to-16-04',\n",
       "   datetime.datetime(2015, 4, 1, 0, 0),\n",
       "   datetime.datetime(2016, 4, 1, 0, 0)),\n",
       "  'max': ('00-01-to-16-04',\n",
       "   datetime.datetime(2000, 1, 1, 0, 0),\n",
       "   datetime.datetime(2016, 4, 1, 0, 0))},\n",
       " '16-05': {'6-month': ('15-11-to-16-05',\n",
       "   datetime.datetime(2015, 11, 1, 0, 0),\n",
       "   datetime.datetime(2016, 5, 1, 0, 0)),\n",
       "  '12-month': ('15-05-to-16-05',\n",
       "   datetime.datetime(2015, 5, 1, 0, 0),\n",
       "   datetime.datetime(2016, 5, 1, 0, 0)),\n",
       "  'max': ('00-01-to-16-05',\n",
       "   datetime.datetime(2000, 1, 1, 0, 0),\n",
       "   datetime.datetime(2016, 5, 1, 0, 0))},\n",
       " '16-06': {'6-month': ('15-12-to-16-06',\n",
       "   datetime.datetime(2015, 12, 1, 0, 0),\n",
       "   datetime.datetime(2016, 6, 1, 0, 0)),\n",
       "  '12-month': ('15-06-to-16-06',\n",
       "   datetime.datetime(2015, 6, 1, 0, 0),\n",
       "   datetime.datetime(2016, 6, 1, 0, 0)),\n",
       "  'max': ('00-01-to-16-06',\n",
       "   datetime.datetime(2000, 1, 1, 0, 0),\n",
       "   datetime.datetime(2016, 6, 1, 0, 0))},\n",
       " '16-07': {'6-month': ('16-01-to-16-07',\n",
       "   datetime.datetime(2016, 1, 1, 0, 0),\n",
       "   datetime.datetime(2016, 7, 1, 0, 0)),\n",
       "  '12-month': ('15-07-to-16-07',\n",
       "   datetime.datetime(2015, 7, 1, 0, 0),\n",
       "   datetime.datetime(2016, 7, 1, 0, 0)),\n",
       "  'max': ('00-01-to-16-07',\n",
       "   datetime.datetime(2000, 1, 1, 0, 0),\n",
       "   datetime.datetime(2016, 7, 1, 0, 0))},\n",
       " '16-08': {'6-month': ('16-02-to-16-08',\n",
       "   datetime.datetime(2016, 2, 1, 0, 0),\n",
       "   datetime.datetime(2016, 8, 1, 0, 0)),\n",
       "  '12-month': ('15-08-to-16-08',\n",
       "   datetime.datetime(2015, 8, 1, 0, 0),\n",
       "   datetime.datetime(2016, 8, 1, 0, 0)),\n",
       "  'max': ('00-01-to-16-08',\n",
       "   datetime.datetime(2000, 1, 1, 0, 0),\n",
       "   datetime.datetime(2016, 8, 1, 0, 0))},\n",
       " '16-09': {'6-month': ('16-03-to-16-09',\n",
       "   datetime.datetime(2016, 3, 1, 0, 0),\n",
       "   datetime.datetime(2016, 9, 1, 0, 0)),\n",
       "  '12-month': ('15-09-to-16-09',\n",
       "   datetime.datetime(2015, 9, 1, 0, 0),\n",
       "   datetime.datetime(2016, 9, 1, 0, 0)),\n",
       "  'max': ('00-01-to-16-09',\n",
       "   datetime.datetime(2000, 1, 1, 0, 0),\n",
       "   datetime.datetime(2016, 9, 1, 0, 0))},\n",
       " '16-10': {'6-month': ('16-04-to-16-10',\n",
       "   datetime.datetime(2016, 4, 1, 0, 0),\n",
       "   datetime.datetime(2016, 10, 1, 0, 0)),\n",
       "  '12-month': ('15-10-to-16-10',\n",
       "   datetime.datetime(2015, 10, 1, 0, 0),\n",
       "   datetime.datetime(2016, 10, 1, 0, 0)),\n",
       "  'max': ('00-01-to-16-10',\n",
       "   datetime.datetime(2000, 1, 1, 0, 0),\n",
       "   datetime.datetime(2016, 10, 1, 0, 0))},\n",
       " '16-11': {'6-month': ('16-05-to-16-11',\n",
       "   datetime.datetime(2016, 5, 1, 0, 0),\n",
       "   datetime.datetime(2016, 11, 1, 0, 0)),\n",
       "  '12-month': ('15-11-to-16-11',\n",
       "   datetime.datetime(2015, 11, 1, 0, 0),\n",
       "   datetime.datetime(2016, 11, 1, 0, 0)),\n",
       "  'max': ('00-01-to-16-11',\n",
       "   datetime.datetime(2000, 1, 1, 0, 0),\n",
       "   datetime.datetime(2016, 11, 1, 0, 0))},\n",
       " '16-12': {'6-month': ('16-06-to-16-12',\n",
       "   datetime.datetime(2016, 6, 1, 0, 0),\n",
       "   datetime.datetime(2016, 12, 1, 0, 0)),\n",
       "  '12-month': ('15-12-to-16-12',\n",
       "   datetime.datetime(2015, 12, 1, 0, 0),\n",
       "   datetime.datetime(2016, 12, 1, 0, 0)),\n",
       "  'max': ('00-01-to-16-12',\n",
       "   datetime.datetime(2000, 1, 1, 0, 0),\n",
       "   datetime.datetime(2016, 12, 1, 0, 0))},\n",
       " '17-01': {'6-month': ('16-07-to-17-01',\n",
       "   datetime.datetime(2016, 7, 1, 0, 0),\n",
       "   datetime.datetime(2017, 1, 1, 0, 0)),\n",
       "  '12-month': ('16-01-to-17-01',\n",
       "   datetime.datetime(2016, 1, 1, 0, 0),\n",
       "   datetime.datetime(2017, 1, 1, 0, 0)),\n",
       "  'max': ('00-01-to-17-01',\n",
       "   datetime.datetime(2000, 1, 1, 0, 0),\n",
       "   datetime.datetime(2017, 1, 1, 0, 0))},\n",
       " '17-02': {'6-month': ('16-08-to-17-02',\n",
       "   datetime.datetime(2016, 8, 1, 0, 0),\n",
       "   datetime.datetime(2017, 2, 1, 0, 0)),\n",
       "  '12-month': ('16-02-to-17-02',\n",
       "   datetime.datetime(2016, 2, 1, 0, 0),\n",
       "   datetime.datetime(2017, 2, 1, 0, 0)),\n",
       "  'max': ('00-01-to-17-02',\n",
       "   datetime.datetime(2000, 1, 1, 0, 0),\n",
       "   datetime.datetime(2017, 2, 1, 0, 0))},\n",
       " '17-03': {'6-month': ('16-09-to-17-03',\n",
       "   datetime.datetime(2016, 9, 1, 0, 0),\n",
       "   datetime.datetime(2017, 3, 1, 0, 0)),\n",
       "  '12-month': ('16-03-to-17-03',\n",
       "   datetime.datetime(2016, 3, 1, 0, 0),\n",
       "   datetime.datetime(2017, 3, 1, 0, 0)),\n",
       "  'max': ('00-01-to-17-03',\n",
       "   datetime.datetime(2000, 1, 1, 0, 0),\n",
       "   datetime.datetime(2017, 3, 1, 0, 0))},\n",
       " '17-04': {'6-month': ('16-10-to-17-04',\n",
       "   datetime.datetime(2016, 10, 1, 0, 0),\n",
       "   datetime.datetime(2017, 4, 1, 0, 0)),\n",
       "  '12-month': ('16-04-to-17-04',\n",
       "   datetime.datetime(2016, 4, 1, 0, 0),\n",
       "   datetime.datetime(2017, 4, 1, 0, 0)),\n",
       "  'max': ('00-01-to-17-04',\n",
       "   datetime.datetime(2000, 1, 1, 0, 0),\n",
       "   datetime.datetime(2017, 4, 1, 0, 0))},\n",
       " '17-05': {'6-month': ('16-11-to-17-05',\n",
       "   datetime.datetime(2016, 11, 1, 0, 0),\n",
       "   datetime.datetime(2017, 5, 1, 0, 0)),\n",
       "  '12-month': ('16-05-to-17-05',\n",
       "   datetime.datetime(2016, 5, 1, 0, 0),\n",
       "   datetime.datetime(2017, 5, 1, 0, 0)),\n",
       "  'max': ('00-01-to-17-05',\n",
       "   datetime.datetime(2000, 1, 1, 0, 0),\n",
       "   datetime.datetime(2017, 5, 1, 0, 0))},\n",
       " '17-06': {'6-month': ('16-12-to-17-06',\n",
       "   datetime.datetime(2016, 12, 1, 0, 0),\n",
       "   datetime.datetime(2017, 6, 1, 0, 0)),\n",
       "  '12-month': ('16-06-to-17-06',\n",
       "   datetime.datetime(2016, 6, 1, 0, 0),\n",
       "   datetime.datetime(2017, 6, 1, 0, 0)),\n",
       "  'max': ('00-01-to-17-06',\n",
       "   datetime.datetime(2000, 1, 1, 0, 0),\n",
       "   datetime.datetime(2017, 6, 1, 0, 0))},\n",
       " '17-07': {'6-month': ('17-01-to-17-07',\n",
       "   datetime.datetime(2017, 1, 1, 0, 0),\n",
       "   datetime.datetime(2017, 7, 1, 0, 0)),\n",
       "  '12-month': ('16-07-to-17-07',\n",
       "   datetime.datetime(2016, 7, 1, 0, 0),\n",
       "   datetime.datetime(2017, 7, 1, 0, 0)),\n",
       "  'max': ('00-01-to-17-07',\n",
       "   datetime.datetime(2000, 1, 1, 0, 0),\n",
       "   datetime.datetime(2017, 7, 1, 0, 0))},\n",
       " '17-08': {'6-month': ('17-02-to-17-08',\n",
       "   datetime.datetime(2017, 2, 1, 0, 0),\n",
       "   datetime.datetime(2017, 8, 1, 0, 0)),\n",
       "  '12-month': ('16-08-to-17-08',\n",
       "   datetime.datetime(2016, 8, 1, 0, 0),\n",
       "   datetime.datetime(2017, 8, 1, 0, 0)),\n",
       "  'max': ('00-01-to-17-08',\n",
       "   datetime.datetime(2000, 1, 1, 0, 0),\n",
       "   datetime.datetime(2017, 8, 1, 0, 0))},\n",
       " '17-09': {'6-month': ('17-03-to-17-09',\n",
       "   datetime.datetime(2017, 3, 1, 0, 0),\n",
       "   datetime.datetime(2017, 9, 1, 0, 0)),\n",
       "  '12-month': ('16-09-to-17-09',\n",
       "   datetime.datetime(2016, 9, 1, 0, 0),\n",
       "   datetime.datetime(2017, 9, 1, 0, 0)),\n",
       "  'max': ('00-01-to-17-09',\n",
       "   datetime.datetime(2000, 1, 1, 0, 0),\n",
       "   datetime.datetime(2017, 9, 1, 0, 0))},\n",
       " '17-10': {'6-month': ('17-04-to-17-10',\n",
       "   datetime.datetime(2017, 4, 1, 0, 0),\n",
       "   datetime.datetime(2017, 10, 1, 0, 0)),\n",
       "  '12-month': ('16-10-to-17-10',\n",
       "   datetime.datetime(2016, 10, 1, 0, 0),\n",
       "   datetime.datetime(2017, 10, 1, 0, 0)),\n",
       "  'max': ('00-01-to-17-10',\n",
       "   datetime.datetime(2000, 1, 1, 0, 0),\n",
       "   datetime.datetime(2017, 10, 1, 0, 0))},\n",
       " '17-11': {'6-month': ('17-05-to-17-11',\n",
       "   datetime.datetime(2017, 5, 1, 0, 0),\n",
       "   datetime.datetime(2017, 11, 1, 0, 0)),\n",
       "  '12-month': ('16-11-to-17-11',\n",
       "   datetime.datetime(2016, 11, 1, 0, 0),\n",
       "   datetime.datetime(2017, 11, 1, 0, 0)),\n",
       "  'max': ('00-01-to-17-11',\n",
       "   datetime.datetime(2000, 1, 1, 0, 0),\n",
       "   datetime.datetime(2017, 11, 1, 0, 0))},\n",
       " '17-12': {'6-month': ('17-06-to-17-12',\n",
       "   datetime.datetime(2017, 6, 1, 0, 0),\n",
       "   datetime.datetime(2017, 12, 1, 0, 0)),\n",
       "  '12-month': ('16-12-to-17-12',\n",
       "   datetime.datetime(2016, 12, 1, 0, 0),\n",
       "   datetime.datetime(2017, 12, 1, 0, 0)),\n",
       "  'max': ('00-01-to-17-12',\n",
       "   datetime.datetime(2000, 1, 1, 0, 0),\n",
       "   datetime.datetime(2017, 12, 1, 0, 0))},\n",
       " '18-01': {'6-month': ('17-07-to-18-01',\n",
       "   datetime.datetime(2017, 7, 1, 0, 0),\n",
       "   datetime.datetime(2018, 1, 1, 0, 0)),\n",
       "  '12-month': ('17-01-to-18-01',\n",
       "   datetime.datetime(2017, 1, 1, 0, 0),\n",
       "   datetime.datetime(2018, 1, 1, 0, 0)),\n",
       "  'max': ('00-01-to-18-01',\n",
       "   datetime.datetime(2000, 1, 1, 0, 0),\n",
       "   datetime.datetime(2018, 1, 1, 0, 0))},\n",
       " '18-02': {'6-month': ('17-08-to-18-02',\n",
       "   datetime.datetime(2017, 8, 1, 0, 0),\n",
       "   datetime.datetime(2018, 2, 1, 0, 0)),\n",
       "  '12-month': ('17-02-to-18-02',\n",
       "   datetime.datetime(2017, 2, 1, 0, 0),\n",
       "   datetime.datetime(2018, 2, 1, 0, 0)),\n",
       "  'max': ('00-01-to-18-02',\n",
       "   datetime.datetime(2000, 1, 1, 0, 0),\n",
       "   datetime.datetime(2018, 2, 1, 0, 0))},\n",
       " '18-03': {'6-month': ('17-09-to-18-03',\n",
       "   datetime.datetime(2017, 9, 1, 0, 0),\n",
       "   datetime.datetime(2018, 3, 1, 0, 0)),\n",
       "  '12-month': ('17-03-to-18-03',\n",
       "   datetime.datetime(2017, 3, 1, 0, 0),\n",
       "   datetime.datetime(2018, 3, 1, 0, 0)),\n",
       "  'max': ('00-01-to-18-03',\n",
       "   datetime.datetime(2000, 1, 1, 0, 0),\n",
       "   datetime.datetime(2018, 3, 1, 0, 0))},\n",
       " '18-04': {'6-month': ('17-10-to-18-04',\n",
       "   datetime.datetime(2017, 10, 1, 0, 0),\n",
       "   datetime.datetime(2018, 4, 1, 0, 0)),\n",
       "  '12-month': ('17-04-to-18-04',\n",
       "   datetime.datetime(2017, 4, 1, 0, 0),\n",
       "   datetime.datetime(2018, 4, 1, 0, 0)),\n",
       "  'max': ('00-01-to-18-04',\n",
       "   datetime.datetime(2000, 1, 1, 0, 0),\n",
       "   datetime.datetime(2018, 4, 1, 0, 0))},\n",
       " '18-05': {'6-month': ('17-11-to-18-05',\n",
       "   datetime.datetime(2017, 11, 1, 0, 0),\n",
       "   datetime.datetime(2018, 5, 1, 0, 0)),\n",
       "  '12-month': ('17-05-to-18-05',\n",
       "   datetime.datetime(2017, 5, 1, 0, 0),\n",
       "   datetime.datetime(2018, 5, 1, 0, 0)),\n",
       "  'max': ('00-01-to-18-05',\n",
       "   datetime.datetime(2000, 1, 1, 0, 0),\n",
       "   datetime.datetime(2018, 5, 1, 0, 0))},\n",
       " '18-06': {'6-month': ('17-12-to-18-06',\n",
       "   datetime.datetime(2017, 12, 1, 0, 0),\n",
       "   datetime.datetime(2018, 6, 1, 0, 0)),\n",
       "  '12-month': ('17-06-to-18-06',\n",
       "   datetime.datetime(2017, 6, 1, 0, 0),\n",
       "   datetime.datetime(2018, 6, 1, 0, 0)),\n",
       "  'max': ('00-01-to-18-06',\n",
       "   datetime.datetime(2000, 1, 1, 0, 0),\n",
       "   datetime.datetime(2018, 6, 1, 0, 0))},\n",
       " '18-07': {'6-month': ('18-01-to-18-07',\n",
       "   datetime.datetime(2018, 1, 1, 0, 0),\n",
       "   datetime.datetime(2018, 7, 1, 0, 0)),\n",
       "  '12-month': ('17-07-to-18-07',\n",
       "   datetime.datetime(2017, 7, 1, 0, 0),\n",
       "   datetime.datetime(2018, 7, 1, 0, 0)),\n",
       "  'max': ('00-01-to-18-07',\n",
       "   datetime.datetime(2000, 1, 1, 0, 0),\n",
       "   datetime.datetime(2018, 7, 1, 0, 0))},\n",
       " '18-08': {'6-month': ('18-02-to-18-08',\n",
       "   datetime.datetime(2018, 2, 1, 0, 0),\n",
       "   datetime.datetime(2018, 8, 1, 0, 0)),\n",
       "  '12-month': ('17-08-to-18-08',\n",
       "   datetime.datetime(2017, 8, 1, 0, 0),\n",
       "   datetime.datetime(2018, 8, 1, 0, 0)),\n",
       "  'max': ('00-01-to-18-08',\n",
       "   datetime.datetime(2000, 1, 1, 0, 0),\n",
       "   datetime.datetime(2018, 8, 1, 0, 0))},\n",
       " '18-09': {'6-month': ('18-03-to-18-09',\n",
       "   datetime.datetime(2018, 3, 1, 0, 0),\n",
       "   datetime.datetime(2018, 9, 1, 0, 0)),\n",
       "  '12-month': ('17-09-to-18-09',\n",
       "   datetime.datetime(2017, 9, 1, 0, 0),\n",
       "   datetime.datetime(2018, 9, 1, 0, 0)),\n",
       "  'max': ('00-01-to-18-09',\n",
       "   datetime.datetime(2000, 1, 1, 0, 0),\n",
       "   datetime.datetime(2018, 9, 1, 0, 0))},\n",
       " '18-10': {'6-month': ('18-04-to-18-10',\n",
       "   datetime.datetime(2018, 4, 1, 0, 0),\n",
       "   datetime.datetime(2018, 10, 1, 0, 0)),\n",
       "  '12-month': ('17-10-to-18-10',\n",
       "   datetime.datetime(2017, 10, 1, 0, 0),\n",
       "   datetime.datetime(2018, 10, 1, 0, 0)),\n",
       "  'max': ('00-01-to-18-10',\n",
       "   datetime.datetime(2000, 1, 1, 0, 0),\n",
       "   datetime.datetime(2018, 10, 1, 0, 0))},\n",
       " '18-11': {'6-month': ('18-05-to-18-11',\n",
       "   datetime.datetime(2018, 5, 1, 0, 0),\n",
       "   datetime.datetime(2018, 11, 1, 0, 0)),\n",
       "  '12-month': ('17-11-to-18-11',\n",
       "   datetime.datetime(2017, 11, 1, 0, 0),\n",
       "   datetime.datetime(2018, 11, 1, 0, 0)),\n",
       "  'max': ('00-01-to-18-11',\n",
       "   datetime.datetime(2000, 1, 1, 0, 0),\n",
       "   datetime.datetime(2018, 11, 1, 0, 0))},\n",
       " '18-12': {'6-month': ('18-06-to-18-12',\n",
       "   datetime.datetime(2018, 6, 1, 0, 0),\n",
       "   datetime.datetime(2018, 12, 1, 0, 0)),\n",
       "  '12-month': ('17-12-to-18-12',\n",
       "   datetime.datetime(2017, 12, 1, 0, 0),\n",
       "   datetime.datetime(2018, 12, 1, 0, 0)),\n",
       "  'max': ('00-01-to-18-12',\n",
       "   datetime.datetime(2000, 1, 1, 0, 0),\n",
       "   datetime.datetime(2018, 12, 1, 0, 0))},\n",
       " '19-01': {'6-month': ('18-07-to-19-01',\n",
       "   datetime.datetime(2018, 7, 1, 0, 0),\n",
       "   datetime.datetime(2019, 1, 1, 0, 0)),\n",
       "  '12-month': ('18-01-to-19-01',\n",
       "   datetime.datetime(2018, 1, 1, 0, 0),\n",
       "   datetime.datetime(2019, 1, 1, 0, 0)),\n",
       "  'max': ('00-01-to-19-01',\n",
       "   datetime.datetime(2000, 1, 1, 0, 0),\n",
       "   datetime.datetime(2019, 1, 1, 0, 0))},\n",
       " '19-02': {'6-month': ('18-08-to-19-02',\n",
       "   datetime.datetime(2018, 8, 1, 0, 0),\n",
       "   datetime.datetime(2019, 2, 1, 0, 0)),\n",
       "  '12-month': ('18-02-to-19-02',\n",
       "   datetime.datetime(2018, 2, 1, 0, 0),\n",
       "   datetime.datetime(2019, 2, 1, 0, 0)),\n",
       "  'max': ('00-01-to-19-02',\n",
       "   datetime.datetime(2000, 1, 1, 0, 0),\n",
       "   datetime.datetime(2019, 2, 1, 0, 0))},\n",
       " '19-03': {'6-month': ('18-09-to-19-03',\n",
       "   datetime.datetime(2018, 9, 1, 0, 0),\n",
       "   datetime.datetime(2019, 3, 1, 0, 0)),\n",
       "  '12-month': ('18-03-to-19-03',\n",
       "   datetime.datetime(2018, 3, 1, 0, 0),\n",
       "   datetime.datetime(2019, 3, 1, 0, 0)),\n",
       "  'max': ('00-01-to-19-03',\n",
       "   datetime.datetime(2000, 1, 1, 0, 0),\n",
       "   datetime.datetime(2019, 3, 1, 0, 0))},\n",
       " '19-04': {'6-month': ('18-10-to-19-04',\n",
       "   datetime.datetime(2018, 10, 1, 0, 0),\n",
       "   datetime.datetime(2019, 4, 1, 0, 0)),\n",
       "  '12-month': ('18-04-to-19-04',\n",
       "   datetime.datetime(2018, 4, 1, 0, 0),\n",
       "   datetime.datetime(2019, 4, 1, 0, 0)),\n",
       "  'max': ('00-01-to-19-04',\n",
       "   datetime.datetime(2000, 1, 1, 0, 0),\n",
       "   datetime.datetime(2019, 4, 1, 0, 0))},\n",
       " '19-05': {'6-month': ('18-11-to-19-05',\n",
       "   datetime.datetime(2018, 11, 1, 0, 0),\n",
       "   datetime.datetime(2019, 5, 1, 0, 0)),\n",
       "  '12-month': ('18-05-to-19-05',\n",
       "   datetime.datetime(2018, 5, 1, 0, 0),\n",
       "   datetime.datetime(2019, 5, 1, 0, 0)),\n",
       "  'max': ('00-01-to-19-05',\n",
       "   datetime.datetime(2000, 1, 1, 0, 0),\n",
       "   datetime.datetime(2019, 5, 1, 0, 0))},\n",
       " '19-06': {'6-month': ('18-12-to-19-06',\n",
       "   datetime.datetime(2018, 12, 1, 0, 0),\n",
       "   datetime.datetime(2019, 6, 1, 0, 0)),\n",
       "  '12-month': ('18-06-to-19-06',\n",
       "   datetime.datetime(2018, 6, 1, 0, 0),\n",
       "   datetime.datetime(2019, 6, 1, 0, 0)),\n",
       "  'max': ('00-01-to-19-06',\n",
       "   datetime.datetime(2000, 1, 1, 0, 0),\n",
       "   datetime.datetime(2019, 6, 1, 0, 0))},\n",
       " '19-07': {'6-month': ('19-01-to-19-07',\n",
       "   datetime.datetime(2019, 1, 1, 0, 0),\n",
       "   datetime.datetime(2019, 7, 1, 0, 0)),\n",
       "  '12-month': ('18-07-to-19-07',\n",
       "   datetime.datetime(2018, 7, 1, 0, 0),\n",
       "   datetime.datetime(2019, 7, 1, 0, 0)),\n",
       "  'max': ('00-01-to-19-07',\n",
       "   datetime.datetime(2000, 1, 1, 0, 0),\n",
       "   datetime.datetime(2019, 7, 1, 0, 0))},\n",
       " '19-08': {'6-month': ('19-02-to-19-08',\n",
       "   datetime.datetime(2019, 2, 1, 0, 0),\n",
       "   datetime.datetime(2019, 8, 1, 0, 0)),\n",
       "  '12-month': ('18-08-to-19-08',\n",
       "   datetime.datetime(2018, 8, 1, 0, 0),\n",
       "   datetime.datetime(2019, 8, 1, 0, 0)),\n",
       "  'max': ('00-01-to-19-08',\n",
       "   datetime.datetime(2000, 1, 1, 0, 0),\n",
       "   datetime.datetime(2019, 8, 1, 0, 0))},\n",
       " '19-09': {'6-month': ('19-03-to-19-09',\n",
       "   datetime.datetime(2019, 3, 1, 0, 0),\n",
       "   datetime.datetime(2019, 9, 1, 0, 0)),\n",
       "  '12-month': ('18-09-to-19-09',\n",
       "   datetime.datetime(2018, 9, 1, 0, 0),\n",
       "   datetime.datetime(2019, 9, 1, 0, 0)),\n",
       "  'max': ('00-01-to-19-09',\n",
       "   datetime.datetime(2000, 1, 1, 0, 0),\n",
       "   datetime.datetime(2019, 9, 1, 0, 0))},\n",
       " '19-10': {'6-month': ('19-04-to-19-10',\n",
       "   datetime.datetime(2019, 4, 1, 0, 0),\n",
       "   datetime.datetime(2019, 10, 1, 0, 0)),\n",
       "  '12-month': ('18-10-to-19-10',\n",
       "   datetime.datetime(2018, 10, 1, 0, 0),\n",
       "   datetime.datetime(2019, 10, 1, 0, 0)),\n",
       "  'max': ('00-01-to-19-10',\n",
       "   datetime.datetime(2000, 1, 1, 0, 0),\n",
       "   datetime.datetime(2019, 10, 1, 0, 0))},\n",
       " '19-11': {'6-month': ('19-05-to-19-11',\n",
       "   datetime.datetime(2019, 5, 1, 0, 0),\n",
       "   datetime.datetime(2019, 11, 1, 0, 0)),\n",
       "  '12-month': ('18-11-to-19-11',\n",
       "   datetime.datetime(2018, 11, 1, 0, 0),\n",
       "   datetime.datetime(2019, 11, 1, 0, 0)),\n",
       "  'max': ('00-01-to-19-11',\n",
       "   datetime.datetime(2000, 1, 1, 0, 0),\n",
       "   datetime.datetime(2019, 11, 1, 0, 0))},\n",
       " '19-12': {'6-month': ('19-06-to-19-12',\n",
       "   datetime.datetime(2019, 6, 1, 0, 0),\n",
       "   datetime.datetime(2019, 12, 1, 0, 0)),\n",
       "  '12-month': ('18-12-to-19-12',\n",
       "   datetime.datetime(2018, 12, 1, 0, 0),\n",
       "   datetime.datetime(2019, 12, 1, 0, 0)),\n",
       "  'max': ('00-01-to-19-12',\n",
       "   datetime.datetime(2000, 1, 1, 0, 0),\n",
       "   datetime.datetime(2019, 12, 1, 0, 0))},\n",
       " '20-01': {'6-month': ('19-07-to-20-01',\n",
       "   datetime.datetime(2019, 7, 1, 0, 0),\n",
       "   datetime.datetime(2020, 1, 1, 0, 0)),\n",
       "  '12-month': ('19-01-to-20-01',\n",
       "   datetime.datetime(2019, 1, 1, 0, 0),\n",
       "   datetime.datetime(2020, 1, 1, 0, 0)),\n",
       "  'max': ('00-01-to-20-01',\n",
       "   datetime.datetime(2000, 1, 1, 0, 0),\n",
       "   datetime.datetime(2020, 1, 1, 0, 0))},\n",
       " '20-02': {'6-month': ('19-08-to-20-02',\n",
       "   datetime.datetime(2019, 8, 1, 0, 0),\n",
       "   datetime.datetime(2020, 2, 1, 0, 0)),\n",
       "  '12-month': ('19-02-to-20-02',\n",
       "   datetime.datetime(2019, 2, 1, 0, 0),\n",
       "   datetime.datetime(2020, 2, 1, 0, 0)),\n",
       "  'max': ('00-01-to-20-02',\n",
       "   datetime.datetime(2000, 1, 1, 0, 0),\n",
       "   datetime.datetime(2020, 2, 1, 0, 0))},\n",
       " '20-03': {'6-month': ('19-09-to-20-03',\n",
       "   datetime.datetime(2019, 9, 1, 0, 0),\n",
       "   datetime.datetime(2020, 3, 1, 0, 0)),\n",
       "  '12-month': ('19-03-to-20-03',\n",
       "   datetime.datetime(2019, 3, 1, 0, 0),\n",
       "   datetime.datetime(2020, 3, 1, 0, 0)),\n",
       "  'max': ('00-01-to-20-03',\n",
       "   datetime.datetime(2000, 1, 1, 0, 0),\n",
       "   datetime.datetime(2020, 3, 1, 0, 0))},\n",
       " '20-04': {'6-month': ('19-10-to-20-04',\n",
       "   datetime.datetime(2019, 10, 1, 0, 0),\n",
       "   datetime.datetime(2020, 4, 1, 0, 0)),\n",
       "  '12-month': ('19-04-to-20-04',\n",
       "   datetime.datetime(2019, 4, 1, 0, 0),\n",
       "   datetime.datetime(2020, 4, 1, 0, 0)),\n",
       "  'max': ('00-01-to-20-04',\n",
       "   datetime.datetime(2000, 1, 1, 0, 0),\n",
       "   datetime.datetime(2020, 4, 1, 0, 0))},\n",
       " '20-05': {'6-month': ('19-11-to-20-05',\n",
       "   datetime.datetime(2019, 11, 1, 0, 0),\n",
       "   datetime.datetime(2020, 5, 1, 0, 0)),\n",
       "  '12-month': ('19-05-to-20-05',\n",
       "   datetime.datetime(2019, 5, 1, 0, 0),\n",
       "   datetime.datetime(2020, 5, 1, 0, 0)),\n",
       "  'max': ('00-01-to-20-05',\n",
       "   datetime.datetime(2000, 1, 1, 0, 0),\n",
       "   datetime.datetime(2020, 5, 1, 0, 0))},\n",
       " '20-06': {'6-month': ('19-12-to-20-06',\n",
       "   datetime.datetime(2019, 12, 1, 0, 0),\n",
       "   datetime.datetime(2020, 6, 1, 0, 0)),\n",
       "  '12-month': ('19-06-to-20-06',\n",
       "   datetime.datetime(2019, 6, 1, 0, 0),\n",
       "   datetime.datetime(2020, 6, 1, 0, 0)),\n",
       "  'max': ('00-01-to-20-06',\n",
       "   datetime.datetime(2000, 1, 1, 0, 0),\n",
       "   datetime.datetime(2020, 6, 1, 0, 0))},\n",
       " '20-07': {'6-month': ('20-01-to-20-07',\n",
       "   datetime.datetime(2020, 1, 1, 0, 0),\n",
       "   datetime.datetime(2020, 7, 1, 0, 0)),\n",
       "  '12-month': ('19-07-to-20-07',\n",
       "   datetime.datetime(2019, 7, 1, 0, 0),\n",
       "   datetime.datetime(2020, 7, 1, 0, 0)),\n",
       "  'max': ('00-01-to-20-07',\n",
       "   datetime.datetime(2000, 1, 1, 0, 0),\n",
       "   datetime.datetime(2020, 7, 1, 0, 0))},\n",
       " '20-08': {'6-month': ('20-02-to-20-08',\n",
       "   datetime.datetime(2020, 2, 1, 0, 0),\n",
       "   datetime.datetime(2020, 8, 1, 0, 0)),\n",
       "  '12-month': ('19-08-to-20-08',\n",
       "   datetime.datetime(2019, 8, 1, 0, 0),\n",
       "   datetime.datetime(2020, 8, 1, 0, 0)),\n",
       "  'max': ('00-01-to-20-08',\n",
       "   datetime.datetime(2000, 1, 1, 0, 0),\n",
       "   datetime.datetime(2020, 8, 1, 0, 0))},\n",
       " '20-09': {'6-month': ('20-03-to-20-09',\n",
       "   datetime.datetime(2020, 3, 1, 0, 0),\n",
       "   datetime.datetime(2020, 9, 1, 0, 0)),\n",
       "  '12-month': ('19-09-to-20-09',\n",
       "   datetime.datetime(2019, 9, 1, 0, 0),\n",
       "   datetime.datetime(2020, 9, 1, 0, 0)),\n",
       "  'max': ('00-01-to-20-09',\n",
       "   datetime.datetime(2000, 1, 1, 0, 0),\n",
       "   datetime.datetime(2020, 9, 1, 0, 0))},\n",
       " '20-10': {'6-month': ('20-04-to-20-10',\n",
       "   datetime.datetime(2020, 4, 1, 0, 0),\n",
       "   datetime.datetime(2020, 10, 1, 0, 0)),\n",
       "  '12-month': ('19-10-to-20-10',\n",
       "   datetime.datetime(2019, 10, 1, 0, 0),\n",
       "   datetime.datetime(2020, 10, 1, 0, 0)),\n",
       "  'max': ('00-01-to-20-10',\n",
       "   datetime.datetime(2000, 1, 1, 0, 0),\n",
       "   datetime.datetime(2020, 10, 1, 0, 0))},\n",
       " '20-11': {'6-month': ('20-05-to-20-11',\n",
       "   datetime.datetime(2020, 5, 1, 0, 0),\n",
       "   datetime.datetime(2020, 11, 1, 0, 0)),\n",
       "  '12-month': ('19-11-to-20-11',\n",
       "   datetime.datetime(2019, 11, 1, 0, 0),\n",
       "   datetime.datetime(2020, 11, 1, 0, 0)),\n",
       "  'max': ('00-01-to-20-11',\n",
       "   datetime.datetime(2000, 1, 1, 0, 0),\n",
       "   datetime.datetime(2020, 11, 1, 0, 0))},\n",
       " '20-12': {'6-month': ('20-06-to-20-12',\n",
       "   datetime.datetime(2020, 6, 1, 0, 0),\n",
       "   datetime.datetime(2020, 12, 1, 0, 0)),\n",
       "  '12-month': ('19-12-to-20-12',\n",
       "   datetime.datetime(2019, 12, 1, 0, 0),\n",
       "   datetime.datetime(2020, 12, 1, 0, 0)),\n",
       "  'max': ('00-01-to-20-12',\n",
       "   datetime.datetime(2000, 1, 1, 0, 0),\n",
       "   datetime.datetime(2020, 12, 1, 0, 0))}}"
      ]
     },
     "execution_count": 41,
     "metadata": {},
     "output_type": "execute_result"
    }
   ],
   "source": [
    "# all_date_ranges = generate_date_ranges()\n",
    "# parsed_date_ranges = get_parsed_date_ranges()\n",
    "# unparsed_date_ranges = {k:v for k, v in all_date_ranges.items() if k not in parsed_date_ranges}\n",
    "unparsed_date_ranges"
   ]
  },
  {
   "cell_type": "code",
   "execution_count": 44,
   "metadata": {
    "scrolled": true
   },
   "outputs": [
    {
     "name": "stderr",
     "output_type": "stream",
     "text": [
      "  1%|          | 2/252 [00:00<00:13, 18.07it/s]"
     ]
    },
    {
     "name": "stdout",
     "output_type": "stream",
     "text": [
      "Empty or too small df from (size: 0) 2000-01-01 00:00:00 to 2000-01-01 00:00:00\n",
      "Parsing 1482 lines from 1999-01-01 00:00:00 to 2000-01-01 00:00:00\n",
      "Parsing 702 lines from 1999-07-01 00:00:00 to 2000-01-01 00:00:00\n",
      "00-01\n",
      "{'max': {'mean': {'maperiod': 40, 'rsi_open_period': 2, 'days_ago_close_period': 2}, 'order': {'maperiod': 40, 'rsi_open_period': 2, 'days_ago_close_period': 2}}, '12-month': {'mean': {'days_ago_close_period': 4, 'rsi_open_period': 6, 'maperiod': 50}, 'order': {'days_ago_close_period': 4, 'rsi_open_period': 2, 'maperiod': 35}}, '6-month': {'mean': {'days_ago_close_period': 3, 'rsi_open_period': 4, 'maperiod': 30}, 'order': {'days_ago_close_period': 3, 'rsi_open_period': 2, 'maperiod': 35}}}\n",
      "Empty or too small df from (size: 54) 2000-01-01 00:00:00 to 2000-02-01 00:00:00\n",
      "Parsing 1320 lines from 1999-02-01 00:00:00 to 2000-02-01 00:00:00\n",
      "Parsing 588 lines from 1999-08-01 00:00:00 to 2000-02-01 00:00:00\n",
      "00-02\n",
      "{'max': {'mean': {'maperiod': 40, 'rsi_open_period': 2, 'days_ago_close_period': 2}, 'order': {'maperiod': 40, 'rsi_open_period': 2, 'days_ago_close_period': 2}}, '12-month': {'mean': {'days_ago_close_period': 4, 'rsi_open_period': 6, 'maperiod': 45}, 'order': {'days_ago_close_period': 4, 'rsi_open_period': 2, 'maperiod': 40}}, '6-month': {'mean': {'days_ago_close_period': 3, 'rsi_open_period': 4, 'maperiod': 30}, 'order': {'days_ago_close_period': 3, 'rsi_open_period': 2, 'maperiod': 30}}}\n",
      "Parsing 108 lines from 2000-01-01 00:00:00 to 2000-03-01 00:00:00\n",
      "Parsing 1320 lines from 1999-03-01 00:00:00 to 2000-03-01 00:00:00\n",
      "Parsing 606 lines from 1999-09-01 00:00:00 to 2000-03-01 00:00:00\n",
      "00-03\n",
      "{'max': {'mean': {'days_ago_close_period': 3, 'rsi_open_period': 2, 'maperiod': 30}, 'order': {'days_ago_close_period': 3, 'rsi_open_period': 2, 'maperiod': 30}}, '12-month': {'mean': {'days_ago_close_period': 4, 'rsi_open_period': 6, 'maperiod': 45}, 'order': {'days_ago_close_period': 4, 'rsi_open_period': 2, 'maperiod': 55}}, '6-month': {'mean': {'days_ago_close_period': 3, 'rsi_open_period': 4, 'maperiod': 30}, 'order': {'days_ago_close_period': 3, 'rsi_open_period': 2, 'maperiod': 55}}}\n",
      "Parsing 216 lines from 2000-01-01 00:00:00 to 2000-04-01 00:00:00\n",
      "Parsing 1392 lines from 1999-04-01 00:00:00 to 2000-04-01 00:00:00\n"
     ]
    },
    {
     "name": "stderr",
     "output_type": "stream",
     "text": [
      "  2%|▏         | 6/252 [00:00<00:15, 15.87it/s]"
     ]
    },
    {
     "name": "stdout",
     "output_type": "stream",
     "text": [
      "Parsing 558 lines from 1999-10-01 00:00:00 to 2000-04-01 00:00:00\n",
      "00-04\n",
      "{'max': {'mean': {'days_ago_close_period': 4, 'rsi_open_period': 2, 'maperiod': 30}, 'order': {'days_ago_close_period': 4, 'rsi_open_period': 4, 'maperiod': 55}}, '12-month': {'mean': {'days_ago_close_period': 4, 'rsi_open_period': 6, 'maperiod': 45}, 'order': {'days_ago_close_period': 4, 'rsi_open_period': 2, 'maperiod': 55}}, '6-month': {'mean': {'days_ago_close_period': 3, 'rsi_open_period': 2, 'maperiod': 30}, 'order': {'days_ago_close_period': 3, 'rsi_open_period': 2, 'maperiod': 55}}}\n",
      "Parsing 276 lines from 2000-01-01 00:00:00 to 2000-05-01 00:00:00\n",
      "Parsing 1344 lines from 1999-05-01 00:00:00 to 2000-05-01 00:00:00\n",
      "Parsing 444 lines from 1999-11-01 00:00:00 to 2000-05-01 00:00:00\n",
      "00-05\n",
      "{'max': {'mean': {'days_ago_close_period': 4, 'rsi_open_period': 2, 'maperiod': 30}, 'order': {'days_ago_close_period': 4, 'rsi_open_period': 4, 'maperiod': 55}}, '12-month': {'mean': {'days_ago_close_period': 4, 'rsi_open_period': 6, 'maperiod': 45}, 'order': {'days_ago_close_period': 4, 'rsi_open_period': 2, 'maperiod': 55}}, '6-month': {'mean': {'days_ago_close_period': 4, 'rsi_open_period': 4, 'maperiod': 40}, 'order': {'days_ago_close_period': 3, 'rsi_open_period': 2, 'maperiod': 55}}}\n",
      "Parsing 456 lines from 2000-01-01 00:00:00 to 2000-06-01 00:00:00\n",
      "Parsing 1380 lines from 1999-06-01 00:00:00 to 2000-06-01 00:00:00\n",
      "Parsing 564 lines from 1999-12-01 00:00:00 to 2000-06-01 00:00:00\n",
      "00-06\n",
      "{'max': {'mean': {'days_ago_close_period': 3, 'rsi_open_period': 2, 'maperiod': 30}, 'order': {'days_ago_close_period': 3, 'rsi_open_period': 2, 'maperiod': 55}}, '12-month': {'mean': {'days_ago_close_period': 4, 'rsi_open_period': 6, 'maperiod': 45}, 'order': {'days_ago_close_period': 4, 'rsi_open_period': 2, 'maperiod': 55}}, '6-month': {'mean': {'days_ago_close_period': 3, 'rsi_open_period': 2, 'maperiod': 30}, 'order': {'days_ago_close_period': 3, 'rsi_open_period': 2, 'maperiod': 55}}}\n",
      "Parsing 624 lines from 2000-01-01 00:00:00 to 2000-07-01 00:00:00\n",
      "Parsing 1326 lines from 1999-07-01 00:00:00 to 2000-07-01 00:00:00\n",
      "Parsing 624 lines from 2000-01-01 00:00:00 to 2000-07-01 00:00:00\n"
     ]
    },
    {
     "name": "stderr",
     "output_type": "stream",
     "text": [
      "\r",
      "  3%|▎         | 8/252 [00:00<00:16, 15.05it/s]"
     ]
    },
    {
     "name": "stdout",
     "output_type": "stream",
     "text": [
      "00-07\n",
      "{'max': {'mean': {'days_ago_close_period': 4, 'rsi_open_period': 4, 'maperiod': 40}, 'order': {'days_ago_close_period': 5, 'rsi_open_period': 2, 'maperiod': 30}}, '12-month': {'mean': {'days_ago_close_period': 4, 'rsi_open_period': 4, 'maperiod': 40}, 'order': {'days_ago_close_period': 4, 'rsi_open_period': 2, 'maperiod': 35}}, '6-month': {'mean': {'days_ago_close_period': 4, 'rsi_open_period': 4, 'maperiod': 40}, 'order': {'days_ago_close_period': 5, 'rsi_open_period': 2, 'maperiod': 30}}}\n",
      "Parsing 840 lines from 2000-01-01 00:00:00 to 2000-08-01 00:00:00\n",
      "Parsing 1374 lines from 1999-08-01 00:00:00 to 2000-08-01 00:00:00\n",
      "Parsing 786 lines from 2000-02-01 00:00:00 to 2000-08-01 00:00:00\n",
      "00-08\n",
      "{'max': {'mean': {'days_ago_close_period': 4, 'rsi_open_period': 4, 'maperiod': 40}, 'order': {'days_ago_close_period': 5, 'rsi_open_period': 2, 'maperiod': 45}}, '12-month': {'mean': {'days_ago_close_period': 4, 'rsi_open_period': 4, 'maperiod': 40}, 'order': {'days_ago_close_period': 4, 'rsi_open_period': 2, 'maperiod': 45}}, '6-month': {'mean': {'days_ago_close_period': 5, 'rsi_open_period': 4, 'maperiod': 30}, 'order': {'days_ago_close_period': 5, 'rsi_open_period': 2, 'maperiod': 45}}}\n",
      "Parsing 840 lines from 2000-01-01 00:00:00 to 2000-09-01 00:00:00\n",
      "Parsing 1338 lines from 1999-09-01 00:00:00 to 2000-09-01 00:00:00\n",
      "Parsing 732 lines from 2000-03-01 00:00:00 to 2000-09-01 00:00:00\n",
      "00-09\n",
      "{'max': {'mean': {'days_ago_close_period': 4, 'rsi_open_period': 4, 'maperiod': 40}, 'order': {'days_ago_close_period': 5, 'rsi_open_period': 2, 'maperiod': 45}}, '12-month': {'mean': {'days_ago_close_period': 4, 'rsi_open_period': 4, 'maperiod': 40}, 'order': {'days_ago_close_period': 4, 'rsi_open_period': 2, 'maperiod': 45}}, '6-month': {'mean': {'days_ago_close_period': 5, 'rsi_open_period': 4, 'maperiod': 30}, 'order': {'days_ago_close_period': 5, 'rsi_open_period': 2, 'maperiod': 45}}}\n",
      "Parsing 1164 lines from 2000-01-01 00:00:00 to 2000-10-01 00:00:00\n",
      "Parsing 1506 lines from 1999-10-01 00:00:00 to 2000-10-01 00:00:00\n"
     ]
    },
    {
     "name": "stderr",
     "output_type": "stream",
     "text": [
      "\r",
      "  4%|▍         | 10/252 [00:00<00:17, 14.12it/s]"
     ]
    },
    {
     "name": "stdout",
     "output_type": "stream",
     "text": [
      "Parsing 948 lines from 2000-04-01 00:00:00 to 2000-10-01 00:00:00\n",
      "00-10\n",
      "{'max': {'mean': {'days_ago_close_period': 5, 'rsi_open_period': 4, 'maperiod': 30}, 'order': {'days_ago_close_period': 5, 'rsi_open_period': 2, 'maperiod': 30}}, '12-month': {'mean': {'days_ago_close_period': 4, 'rsi_open_period': 4, 'maperiod': 40}, 'order': {'days_ago_close_period': 5, 'rsi_open_period': 2, 'maperiod': 30}}, '6-month': {'mean': {'days_ago_close_period': 5, 'rsi_open_period': 4, 'maperiod': 30}, 'order': {'days_ago_close_period': 5, 'rsi_open_period': 2, 'maperiod': 30}}}\n",
      "Parsing 1344 lines from 2000-01-01 00:00:00 to 2000-11-01 00:00:00\n",
      "Parsing 1512 lines from 1999-11-01 00:00:00 to 2000-11-01 00:00:00\n",
      "Parsing 1068 lines from 2000-05-01 00:00:00 to 2000-11-01 00:00:00\n",
      "00-11\n",
      "{'max': {'mean': {'days_ago_close_period': 5, 'rsi_open_period': 4, 'maperiod': 30}, 'order': {'days_ago_close_period': 5, 'rsi_open_period': 2, 'maperiod': 30}}, '12-month': {'mean': {'days_ago_close_period': 5, 'rsi_open_period': 4, 'maperiod': 30}, 'order': {'days_ago_close_period': 5, 'rsi_open_period': 2, 'maperiod': 30}}, '6-month': {'mean': {'days_ago_close_period': 5, 'rsi_open_period': 2, 'maperiod': 30}, 'order': {'days_ago_close_period': 5, 'rsi_open_period': 2, 'maperiod': 30}}}\n",
      "Parsing 1482 lines from 2000-01-01 00:00:00 to 2000-12-01 00:00:00\n",
      "Parsing 1590 lines from 1999-12-01 00:00:00 to 2000-12-01 00:00:00\n",
      "Parsing 1098 lines from 2000-06-01 00:00:00 to 2000-12-01 00:00:00\n"
     ]
    },
    {
     "name": "stderr",
     "output_type": "stream",
     "text": [
      "  6%|▌         | 14/252 [00:01<00:19, 12.24it/s]"
     ]
    },
    {
     "name": "stdout",
     "output_type": "stream",
     "text": [
      "00-12\n",
      "{'max': {'mean': {'days_ago_close_period': 5, 'rsi_open_period': 2, 'maperiod': 30}, 'order': {'days_ago_close_period': 5, 'rsi_open_period': 2, 'maperiod': 30}}, '12-month': {'mean': {'days_ago_close_period': 5, 'rsi_open_period': 2, 'maperiod': 30}, 'order': {'days_ago_close_period': 5, 'rsi_open_period': 2, 'maperiod': 30}}, '6-month': {'mean': {'days_ago_close_period': 5, 'rsi_open_period': 2, 'maperiod': 30}, 'order': {'days_ago_close_period': 5, 'rsi_open_period': 2, 'maperiod': 30}}}\n",
      "Parsing 1632 lines from 2000-01-01 00:00:00 to 2001-01-01 00:00:00\n",
      "Using chache for 12-month - 2000-01-01 00:00:00 to 2001-01-01 00:00:00\n",
      "Parsing 1008 lines from 2000-07-01 00:00:00 to 2001-01-01 00:00:00\n",
      "01-01\n",
      "{'max': {'mean': {'days_ago_close_period': 5, 'rsi_open_period': 2, 'maperiod': 30}, 'order': {'days_ago_close_period': 5, 'rsi_open_period': 2, 'maperiod': 30}}, '12-month': {'mean': {'days_ago_close_period': 5, 'rsi_open_period': 2, 'maperiod': 30}, 'order': {'days_ago_close_period': 5, 'rsi_open_period': 2, 'maperiod': 30}}, '6-month': {'mean': {'days_ago_close_period': 5, 'rsi_open_period': 2, 'maperiod': 30}, 'order': {'days_ago_close_period': 1, 'rsi_open_period': 2, 'maperiod': 55}}}\n",
      "Parsing 1914 lines from 2000-01-01 00:00:00 to 2001-02-01 00:00:00\n",
      "Parsing 1860 lines from 2000-02-01 00:00:00 to 2001-02-01 00:00:00\n",
      "Parsing 1074 lines from 2000-08-01 00:00:00 to 2001-02-01 00:00:00\n",
      "01-02\n",
      "{'max': {'mean': {'days_ago_close_period': 5, 'rsi_open_period': 4, 'maperiod': 30}, 'order': {'days_ago_close_period': 5, 'rsi_open_period': 2, 'maperiod': 30}}, '12-month': {'mean': {'days_ago_close_period': 5, 'rsi_open_period': 4, 'maperiod': 30}, 'order': {'days_ago_close_period': 5, 'rsi_open_period': 2, 'maperiod': 30}}, '6-month': {'mean': {'days_ago_close_period': 5, 'rsi_open_period': 2, 'maperiod': 30}, 'order': {'days_ago_close_period': 5, 'rsi_open_period': 2, 'maperiod': 50}}}\n",
      "Parsing 1998 lines from 2000-01-01 00:00:00 to 2001-03-01 00:00:00\n"
     ]
    },
    {
     "name": "stderr",
     "output_type": "stream",
     "text": [
      "\r",
      "  6%|▋         | 16/252 [00:01<00:22, 10.60it/s]"
     ]
    },
    {
     "name": "stdout",
     "output_type": "stream",
     "text": [
      "Parsing 1890 lines from 2000-03-01 00:00:00 to 2001-03-01 00:00:00\n",
      "Parsing 1158 lines from 2000-09-01 00:00:00 to 2001-03-01 00:00:00\n",
      "01-03\n",
      "{'max': {'mean': {'days_ago_close_period': 5, 'rsi_open_period': 4, 'maperiod': 30}, 'order': {'days_ago_close_period': 5, 'rsi_open_period': 2, 'maperiod': 30}}, '12-month': {'mean': {'days_ago_close_period': 5, 'rsi_open_period': 4, 'maperiod': 30}, 'order': {'days_ago_close_period': 5, 'rsi_open_period': 2, 'maperiod': 30}}, '6-month': {'mean': {'days_ago_close_period': 5, 'rsi_open_period': 2, 'maperiod': 30}, 'order': {'days_ago_close_period': 5, 'rsi_open_period': 2, 'maperiod': 30}}}\n",
      "Parsing 2274 lines from 2000-01-01 00:00:00 to 2001-04-01 00:00:00\n",
      "Parsing 2058 lines from 2000-04-01 00:00:00 to 2001-04-01 00:00:00\n",
      "Parsing 1110 lines from 2000-10-01 00:00:00 to 2001-04-01 00:00:00\n",
      "01-04\n",
      "{'max': {'mean': {'days_ago_close_period': 5, 'rsi_open_period': 6, 'maperiod': 45}, 'order': {'days_ago_close_period': 5, 'rsi_open_period': 2, 'maperiod': 30}}, '12-month': {'mean': {'days_ago_close_period': 5, 'rsi_open_period': 6, 'maperiod': 45}, 'order': {'days_ago_close_period': 5, 'rsi_open_period': 2, 'maperiod': 30}}, '6-month': {'mean': {'days_ago_close_period': 5, 'rsi_open_period': 6, 'maperiod': 45}, 'order': {'days_ago_close_period': 5, 'rsi_open_period': 2, 'maperiod': 30}}}\n",
      "Parsing 2316 lines from 2000-01-01 00:00:00 to 2001-05-01 00:00:00\n"
     ]
    },
    {
     "name": "stderr",
     "output_type": "stream",
     "text": [
      "\r",
      "  7%|▋         | 18/252 [00:01<00:24,  9.53it/s]"
     ]
    },
    {
     "name": "stdout",
     "output_type": "stream",
     "text": [
      "Parsing 2040 lines from 2000-05-01 00:00:00 to 2001-05-01 00:00:00\n",
      "Parsing 972 lines from 2000-11-01 00:00:00 to 2001-05-01 00:00:00\n",
      "01-05\n",
      "{'max': {'mean': {'days_ago_close_period': 5, 'rsi_open_period': 6, 'maperiod': 45}, 'order': {'days_ago_close_period': 5, 'rsi_open_period': 2, 'maperiod': 30}}, '12-month': {'mean': {'days_ago_close_period': 5, 'rsi_open_period': 6, 'maperiod': 45}, 'order': {'days_ago_close_period': 5, 'rsi_open_period': 2, 'maperiod': 30}}, '6-month': {'mean': {'days_ago_close_period': 5, 'rsi_open_period': 6, 'maperiod': 45}, 'order': {'days_ago_close_period': 5, 'rsi_open_period': 2, 'maperiod': 55}}}\n",
      "Parsing 2424 lines from 2000-01-01 00:00:00 to 2001-06-01 00:00:00\n",
      "Parsing 2040 lines from 2000-06-01 00:00:00 to 2001-06-01 00:00:00\n",
      "Parsing 942 lines from 2000-12-01 00:00:00 to 2001-06-01 00:00:00\n",
      "01-06\n",
      "{'max': {'mean': {'days_ago_close_period': 5, 'rsi_open_period': 6, 'maperiod': 45}, 'order': {'days_ago_close_period': 5, 'rsi_open_period': 2, 'maperiod': 30}}, '12-month': {'mean': {'days_ago_close_period': 5, 'rsi_open_period': 6, 'maperiod': 45}, 'order': {'days_ago_close_period': 5, 'rsi_open_period': 2, 'maperiod': 30}}, '6-month': {'mean': {'days_ago_close_period': 4, 'rsi_open_period': 6, 'maperiod': 45}, 'order': {'days_ago_close_period': 4, 'rsi_open_period': 2, 'maperiod': 55}}}\n",
      "Parsing 2694 lines from 2000-01-01 00:00:00 to 2001-07-01 00:00:00\n",
      "Parsing 2070 lines from 2000-07-01 00:00:00 to 2001-07-01 00:00:00\n",
      "Parsing 1062 lines from 2001-01-01 00:00:00 to 2001-07-01 00:00:00\n",
      "01-07\n",
      "{'max': {'mean': {'days_ago_close_period': 5, 'rsi_open_period': 6, 'maperiod': 45}, 'order': {'days_ago_close_period': 5, 'rsi_open_period': 2, 'maperiod': 30}}, '12-month': {'mean': {'days_ago_close_period': 5, 'rsi_open_period': 6, 'maperiod': 45}, 'order': {'days_ago_close_period': 1, 'rsi_open_period': 4, 'maperiod': 40}}, '6-month': {'mean': {'days_ago_close_period': 3, 'rsi_open_period': 6, 'maperiod': 45}, 'order': {'days_ago_close_period': 1, 'rsi_open_period': 4, 'maperiod': 40}}}\n",
      "Parsing 2844 lines from 2000-01-01 00:00:00 to 2001-08-01 00:00:00\n",
      "Parsing 2004 lines from 2000-08-01 00:00:00 to 2001-08-01 00:00:00\n",
      "Parsing 930 lines from 2001-02-01 00:00:00 to 2001-08-01 00:00:00\n"
     ]
    },
    {
     "name": "stderr",
     "output_type": "stream",
     "text": [
      "  8%|▊         | 21/252 [00:01<00:28,  8.17it/s]"
     ]
    },
    {
     "name": "stdout",
     "output_type": "stream",
     "text": [
      "01-08\n",
      "{'max': {'mean': {'days_ago_close_period': 5, 'rsi_open_period': 6, 'maperiod': 45}, 'order': {'days_ago_close_period': 5, 'rsi_open_period': 2, 'maperiod': 30}}, '12-month': {'mean': {'days_ago_close_period': 5, 'rsi_open_period': 6, 'maperiod': 45}, 'order': {'days_ago_close_period': 1, 'rsi_open_period': 4, 'maperiod': 30}}, '6-month': {'mean': {'days_ago_close_period': 1, 'rsi_open_period': 6, 'maperiod': 45}, 'order': {'days_ago_close_period': 1, 'rsi_open_period': 6, 'maperiod': 45}}}\n",
      "Parsing 2928 lines from 2000-01-01 00:00:00 to 2001-09-01 00:00:00\n",
      "Parsing 2088 lines from 2000-09-01 00:00:00 to 2001-09-01 00:00:00\n",
      "Parsing 984 lines from 2001-03-01 00:00:00 to 2001-09-01 00:00:00\n",
      "01-09\n",
      "{'max': {'mean': {'days_ago_close_period': 5, 'rsi_open_period': 6, 'maperiod': 45}, 'order': {'days_ago_close_period': 5, 'rsi_open_period': 2, 'maperiod': 30}}, '12-month': {'mean': {'days_ago_close_period': 5, 'rsi_open_period': 6, 'maperiod': 45}, 'order': {'days_ago_close_period': 1, 'rsi_open_period': 4, 'maperiod': 30}}, '6-month': {'mean': {'days_ago_close_period': 1, 'rsi_open_period': 6, 'maperiod': 45}, 'order': {'days_ago_close_period': 1, 'rsi_open_period': 6, 'maperiod': 45}}}\n",
      "Parsing 3036 lines from 2000-01-01 00:00:00 to 2001-10-01 00:00:00\n"
     ]
    },
    {
     "name": "stderr",
     "output_type": "stream",
     "text": [
      "\r",
      "  9%|▊         | 22/252 [00:02<00:29,  7.86it/s]"
     ]
    },
    {
     "name": "stdout",
     "output_type": "stream",
     "text": [
      "Parsing 1872 lines from 2000-10-01 00:00:00 to 2001-10-01 00:00:00\n",
      "Parsing 762 lines from 2001-04-01 00:00:00 to 2001-10-01 00:00:00\n",
      "01-10\n",
      "{'max': {'mean': {'days_ago_close_period': 5, 'rsi_open_period': 6, 'maperiod': 45}, 'order': {'days_ago_close_period': 5, 'rsi_open_period': 2, 'maperiod': 30}}, '12-month': {'mean': {'days_ago_close_period': 2, 'rsi_open_period': 6, 'maperiod': 45}, 'order': {'days_ago_close_period': 2, 'rsi_open_period': 2, 'maperiod': 55}}, '6-month': {'mean': {'days_ago_close_period': 1, 'rsi_open_period': 6, 'maperiod': 50}, 'order': {'days_ago_close_period': 2, 'rsi_open_period': 2, 'maperiod': 30}}}\n",
      "Parsing 3120 lines from 2000-01-01 00:00:00 to 2001-11-01 00:00:00\n",
      "Parsing 1776 lines from 2000-11-01 00:00:00 to 2001-11-01 00:00:00\n",
      "Parsing 804 lines from 2001-05-01 00:00:00 to 2001-11-01 00:00:00\n",
      "01-11\n",
      "{'max': {'mean': {'days_ago_close_period': 5, 'rsi_open_period': 6, 'maperiod': 45}, 'order': {'days_ago_close_period': 5, 'rsi_open_period': 2, 'maperiod': 30}}, '12-month': {'mean': {'days_ago_close_period': 5, 'rsi_open_period': 6, 'maperiod': 45}, 'order': {'days_ago_close_period': 3, 'rsi_open_period': 6, 'maperiod': 55}}, '6-month': {'mean': {'days_ago_close_period': 1, 'rsi_open_period': 6, 'maperiod': 50}, 'order': {'days_ago_close_period': 2, 'rsi_open_period': 6, 'maperiod': 55}}}\n"
     ]
    },
    {
     "name": "stderr",
     "output_type": "stream",
     "text": [
      " 10%|▉         | 24/252 [00:02<00:31,  7.18it/s]"
     ]
    },
    {
     "name": "stdout",
     "output_type": "stream",
     "text": [
      "Parsing 3168 lines from 2000-01-01 00:00:00 to 2001-12-01 00:00:00\n",
      "Parsing 1686 lines from 2000-12-01 00:00:00 to 2001-12-01 00:00:00\n",
      "Parsing 744 lines from 2001-06-01 00:00:00 to 2001-12-01 00:00:00\n",
      "01-12\n",
      "{'max': {'mean': {'days_ago_close_period': 5, 'rsi_open_period': 6, 'maperiod': 45}, 'order': {'days_ago_close_period': 5, 'rsi_open_period': 2, 'maperiod': 30}}, '12-month': {'mean': {'days_ago_close_period': 5, 'rsi_open_period': 6, 'maperiod': 45}, 'order': {'days_ago_close_period': 2, 'rsi_open_period': 2, 'maperiod': 55}}, '6-month': {'mean': {'days_ago_close_period': 2, 'rsi_open_period': 6, 'maperiod': 50}, 'order': {'days_ago_close_period': 2, 'rsi_open_period': 2, 'maperiod': 45}}}\n",
      "Parsing 3168 lines from 2000-01-01 00:00:00 to 2002-01-01 00:00:00\n"
     ]
    },
    {
     "name": "stderr",
     "output_type": "stream",
     "text": [
      " 10%|█         | 26/252 [00:02<00:32,  7.04it/s]"
     ]
    },
    {
     "name": "stdout",
     "output_type": "stream",
     "text": [
      "Parsing 1536 lines from 2001-01-01 00:00:00 to 2002-01-01 00:00:00\n",
      "Parsing 474 lines from 2001-07-01 00:00:00 to 2002-01-01 00:00:00\n",
      "02-01\n",
      "{'max': {'mean': {'days_ago_close_period': 5, 'rsi_open_period': 6, 'maperiod': 45}, 'order': {'days_ago_close_period': 5, 'rsi_open_period': 2, 'maperiod': 30}}, '12-month': {'mean': {'days_ago_close_period': 3, 'rsi_open_period': 6, 'maperiod': 45}, 'order': {'days_ago_close_period': 2, 'rsi_open_period': 2, 'maperiod': 55}}, '6-month': {'mean': {'days_ago_close_period': 2, 'rsi_open_period': 6, 'maperiod': 50}, 'order': {'days_ago_close_period': 2, 'rsi_open_period': 2, 'maperiod': 45}}}\n",
      "Parsing 3348 lines from 2000-01-01 00:00:00 to 2002-02-01 00:00:00\n",
      "Parsing 1434 lines from 2001-02-01 00:00:00 to 2002-02-01 00:00:00\n",
      "Parsing 504 lines from 2001-08-01 00:00:00 to 2002-02-01 00:00:00\n",
      "02-02\n",
      "{'max': {'mean': {'days_ago_close_period': 5, 'rsi_open_period': 6, 'maperiod': 45}, 'order': {'days_ago_close_period': 5, 'rsi_open_period': 2, 'maperiod': 35}}, '12-month': {'mean': {'days_ago_close_period': 5, 'rsi_open_period': 6, 'maperiod': 45}, 'order': {'days_ago_close_period': 5, 'rsi_open_period': 2, 'maperiod': 35}}, '6-month': {'mean': {'days_ago_close_period': 5, 'rsi_open_period': 6, 'maperiod': 50}, 'order': {'days_ago_close_period': 5, 'rsi_open_period': 2, 'maperiod': 35}}}\n",
      "Parsing 3384 lines from 2000-01-01 00:00:00 to 2002-03-01 00:00:00\n"
     ]
    },
    {
     "name": "stderr",
     "output_type": "stream",
     "text": [
      " 11%|█         | 28/252 [00:03<00:33,  6.77it/s]"
     ]
    },
    {
     "name": "stdout",
     "output_type": "stream",
     "text": [
      "Parsing 1440 lines from 2001-03-01 00:00:00 to 2002-03-01 00:00:00\n",
      "Parsing 456 lines from 2001-09-01 00:00:00 to 2002-03-01 00:00:00\n",
      "02-03\n",
      "{'max': {'mean': {'days_ago_close_period': 5, 'rsi_open_period': 6, 'maperiod': 45}, 'order': {'days_ago_close_period': 5, 'rsi_open_period': 2, 'maperiod': 35}}, '12-month': {'mean': {'days_ago_close_period': 5, 'rsi_open_period': 6, 'maperiod': 45}, 'order': {'days_ago_close_period': 5, 'rsi_open_period': 4, 'maperiod': 30}}, '6-month': {'mean': {'days_ago_close_period': 5, 'rsi_open_period': 4, 'maperiod': 30}, 'order': {'days_ago_close_period': 5, 'rsi_open_period': 2, 'maperiod': 35}}}\n",
      "Parsing 3576 lines from 2000-01-01 00:00:00 to 2002-04-01 00:00:00\n",
      "Parsing 1302 lines from 2001-04-01 00:00:00 to 2002-04-01 00:00:00\n",
      "Parsing 540 lines from 2001-10-01 00:00:00 to 2002-04-01 00:00:00\n",
      "02-04\n",
      "{'max': {'mean': {'days_ago_close_period': 5, 'rsi_open_period': 6, 'maperiod': 45}, 'order': {'days_ago_close_period': 5, 'rsi_open_period': 2, 'maperiod': 35}}, '12-month': {'mean': {'days_ago_close_period': 1, 'rsi_open_period': 6, 'maperiod': 50}, 'order': {'days_ago_close_period': 5, 'rsi_open_period': 2, 'maperiod': 35}}, '6-month': {'mean': {'days_ago_close_period': 5, 'rsi_open_period': 4, 'maperiod': 30}, 'order': {'days_ago_close_period': 5, 'rsi_open_period': 2, 'maperiod': 35}}}\n",
      "Parsing 3696 lines from 2000-01-01 00:00:00 to 2002-05-01 00:00:00\n"
     ]
    },
    {
     "name": "stderr",
     "output_type": "stream",
     "text": [
      "\r",
      " 12%|█▏        | 29/252 [00:03<00:34,  6.56it/s]"
     ]
    },
    {
     "name": "stdout",
     "output_type": "stream",
     "text": [
      "Parsing 1380 lines from 2001-05-01 00:00:00 to 2002-05-01 00:00:00\n",
      "Parsing 606 lines from 2001-11-01 00:00:00 to 2002-05-01 00:00:00\n",
      "02-05\n",
      "{'max': {'mean': {'days_ago_close_period': 5, 'rsi_open_period': 6, 'maperiod': 45}, 'order': {'days_ago_close_period': 5, 'rsi_open_period': 2, 'maperiod': 35}}, '12-month': {'mean': {'days_ago_close_period': 1, 'rsi_open_period': 6, 'maperiod': 50}, 'order': {'days_ago_close_period': 4, 'rsi_open_period': 2, 'maperiod': 35}}, '6-month': {'mean': {'days_ago_close_period': 5, 'rsi_open_period': 4, 'maperiod': 30}, 'order': {'days_ago_close_period': 4, 'rsi_open_period': 2, 'maperiod': 35}}}\n",
      "Parsing 4044 lines from 2000-01-01 00:00:00 to 2002-06-01 00:00:00\n",
      "Parsing 1620 lines from 2001-06-01 00:00:00 to 2002-06-01 00:00:00\n"
     ]
    },
    {
     "name": "stderr",
     "output_type": "stream",
     "text": [
      "\r",
      " 12%|█▏        | 30/252 [00:03<00:36,  6.08it/s]"
     ]
    },
    {
     "name": "stdout",
     "output_type": "stream",
     "text": [
      "Parsing 876 lines from 2001-12-01 00:00:00 to 2002-06-01 00:00:00\n",
      "02-06\n",
      "{'max': {'mean': {'days_ago_close_period': 4, 'rsi_open_period': 6, 'maperiod': 45}, 'order': {'days_ago_close_period': 4, 'rsi_open_period': 2, 'maperiod': 30}}, '12-month': {'mean': {'days_ago_close_period': 1, 'rsi_open_period': 6, 'maperiod': 50}, 'order': {'days_ago_close_period': 1, 'rsi_open_period': 4, 'maperiod': 30}}, '6-month': {'mean': {'days_ago_close_period': 4, 'rsi_open_period': 6, 'maperiod': 55}, 'order': {'days_ago_close_period': 1, 'rsi_open_period': 4, 'maperiod': 55}}}\n",
      "Parsing 4170 lines from 2000-01-01 00:00:00 to 2002-07-01 00:00:00\n",
      "Parsing 1476 lines from 2001-07-01 00:00:00 to 2002-07-01 00:00:00\n"
     ]
    },
    {
     "name": "stderr",
     "output_type": "stream",
     "text": [
      "\r",
      " 12%|█▏        | 31/252 [00:03<00:40,  5.49it/s]"
     ]
    },
    {
     "name": "stdout",
     "output_type": "stream",
     "text": [
      "Parsing 1002 lines from 2002-01-01 00:00:00 to 2002-07-01 00:00:00\n",
      "02-07\n",
      "{'max': {'mean': {'days_ago_close_period': 4, 'rsi_open_period': 6, 'maperiod': 50}, 'order': {'days_ago_close_period': 4, 'rsi_open_period': 2, 'maperiod': 30}}, '12-month': {'mean': {'days_ago_close_period': 4, 'rsi_open_period': 2, 'maperiod': 30}, 'order': {'days_ago_close_period': 0, 'rsi_open_period': 4, 'maperiod': 35}}, '6-month': {'mean': {'days_ago_close_period': 1, 'rsi_open_period': 4, 'maperiod': 30}, 'order': {'days_ago_close_period': 0, 'rsi_open_period': 4, 'maperiod': 55}}}\n",
      "Parsing 4344 lines from 2000-01-01 00:00:00 to 2002-08-01 00:00:00\n",
      "Parsing 1500 lines from 2001-08-01 00:00:00 to 2002-08-01 00:00:00\n"
     ]
    },
    {
     "name": "stderr",
     "output_type": "stream",
     "text": [
      "\r",
      " 13%|█▎        | 32/252 [00:03<00:41,  5.29it/s]"
     ]
    },
    {
     "name": "stdout",
     "output_type": "stream",
     "text": [
      "Parsing 996 lines from 2002-02-01 00:00:00 to 2002-08-01 00:00:00\n",
      "02-08\n",
      "{'max': {'mean': {'days_ago_close_period': 4, 'rsi_open_period': 6, 'maperiod': 50}, 'order': {'days_ago_close_period': 4, 'rsi_open_period': 2, 'maperiod': 30}}, '12-month': {'mean': {'days_ago_close_period': 4, 'rsi_open_period': 6, 'maperiod': 50}, 'order': {'days_ago_close_period': 4, 'rsi_open_period': 6, 'maperiod': 55}}, '6-month': {'mean': {'days_ago_close_period': 1, 'rsi_open_period': 4, 'maperiod': 55}, 'order': {'days_ago_close_period': 4, 'rsi_open_period': 6, 'maperiod': 55}}}\n",
      "Parsing 4410 lines from 2000-01-01 00:00:00 to 2002-09-01 00:00:00\n",
      "Parsing 1482 lines from 2001-09-01 00:00:00 to 2002-09-01 00:00:00\n",
      "Parsing 1026 lines from 2002-03-01 00:00:00 to 2002-09-01 00:00:00\n"
     ]
    },
    {
     "name": "stderr",
     "output_type": "stream",
     "text": [
      " 13%|█▎        | 34/252 [00:04<00:41,  5.23it/s]"
     ]
    },
    {
     "name": "stdout",
     "output_type": "stream",
     "text": [
      "02-09\n",
      "{'max': {'mean': {'days_ago_close_period': 4, 'rsi_open_period': 6, 'maperiod': 50}, 'order': {'days_ago_close_period': 4, 'rsi_open_period': 2, 'maperiod': 30}}, '12-month': {'mean': {'days_ago_close_period': 4, 'rsi_open_period': 6, 'maperiod': 55}, 'order': {'days_ago_close_period': 5, 'rsi_open_period': 6, 'maperiod': 55}}, '6-month': {'mean': {'days_ago_close_period': 0, 'rsi_open_period': 4, 'maperiod': 35}, 'order': {'days_ago_close_period': 5, 'rsi_open_period': 6, 'maperiod': 55}}}\n",
      "Parsing 4434 lines from 2000-01-01 00:00:00 to 2002-10-01 00:00:00\n",
      "Parsing 1398 lines from 2001-10-01 00:00:00 to 2002-10-01 00:00:00\n",
      "Parsing 858 lines from 2002-04-01 00:00:00 to 2002-10-01 00:00:00\n",
      "02-10\n",
      "{'max': {'mean': {'days_ago_close_period': 4, 'rsi_open_period': 6, 'maperiod': 50}, 'order': {'days_ago_close_period': 4, 'rsi_open_period': 2, 'maperiod': 30}}, '12-month': {'mean': {'days_ago_close_period': 4, 'rsi_open_period': 6, 'maperiod': 55}, 'order': {'days_ago_close_period': 5, 'rsi_open_period': 6, 'maperiod': 55}}, '6-month': {'mean': {'days_ago_close_period': 0, 'rsi_open_period': 2, 'maperiod': 40}, 'order': {'days_ago_close_period': 5, 'rsi_open_period': 6, 'maperiod': 55}}}\n",
      "Parsing 4464 lines from 2000-01-01 00:00:00 to 2002-11-01 00:00:00\n"
     ]
    },
    {
     "name": "stderr",
     "output_type": "stream",
     "text": [
      "\r",
      " 14%|█▍        | 35/252 [00:04<00:42,  5.13it/s]"
     ]
    },
    {
     "name": "stdout",
     "output_type": "stream",
     "text": [
      "Parsing 1374 lines from 2001-11-01 00:00:00 to 2002-11-01 00:00:00\n",
      "Parsing 768 lines from 2002-05-01 00:00:00 to 2002-11-01 00:00:00\n",
      "02-11\n",
      "{'max': {'mean': {'days_ago_close_period': 4, 'rsi_open_period': 6, 'maperiod': 50}, 'order': {'days_ago_close_period': 4, 'rsi_open_period': 2, 'maperiod': 30}}, '12-month': {'mean': {'days_ago_close_period': 4, 'rsi_open_period': 6, 'maperiod': 55}, 'order': {'days_ago_close_period': 5, 'rsi_open_period': 6, 'maperiod': 55}}, '6-month': {'mean': {'days_ago_close_period': 0, 'rsi_open_period': 2, 'maperiod': 40}, 'order': {'days_ago_close_period': 5, 'rsi_open_period': 6, 'maperiod': 55}}}\n",
      "Parsing 4512 lines from 2000-01-01 00:00:00 to 2002-12-01 00:00:00\n"
     ]
    },
    {
     "name": "stderr",
     "output_type": "stream",
     "text": [
      "\r",
      " 14%|█▍        | 36/252 [00:04<00:41,  5.15it/s]"
     ]
    },
    {
     "name": "stdout",
     "output_type": "stream",
     "text": [
      "Parsing 1344 lines from 2001-12-01 00:00:00 to 2002-12-01 00:00:00\n",
      "Parsing 468 lines from 2002-06-01 00:00:00 to 2002-12-01 00:00:00\n",
      "02-12\n",
      "{'max': {'mean': {'days_ago_close_period': 4, 'rsi_open_period': 6, 'maperiod': 50}, 'order': {'days_ago_close_period': 4, 'rsi_open_period': 2, 'maperiod': 30}}, '12-month': {'mean': {'days_ago_close_period': 4, 'rsi_open_period': 6, 'maperiod': 55}, 'order': {'days_ago_close_period': 5, 'rsi_open_period': 6, 'maperiod': 55}}, '6-month': {'mean': {'days_ago_close_period': 3, 'rsi_open_period': 4, 'maperiod': 50}, 'order': {'days_ago_close_period': 5, 'rsi_open_period': 4, 'maperiod': 50}}}\n",
      "Parsing 4614 lines from 2000-01-01 00:00:00 to 2003-01-01 00:00:00\n",
      "Parsing 1446 lines from 2002-01-01 00:00:00 to 2003-01-01 00:00:00\n"
     ]
    },
    {
     "name": "stderr",
     "output_type": "stream",
     "text": [
      "\r",
      " 15%|█▍        | 37/252 [00:04<00:42,  5.09it/s]"
     ]
    },
    {
     "name": "stdout",
     "output_type": "stream",
     "text": [
      "Parsing 444 lines from 2002-07-01 00:00:00 to 2003-01-01 00:00:00\n",
      "03-01\n",
      "{'max': {'mean': {'days_ago_close_period': 4, 'rsi_open_period': 6, 'maperiod': 50}, 'order': {'days_ago_close_period': 4, 'rsi_open_period': 2, 'maperiod': 30}}, '12-month': {'mean': {'days_ago_close_period': 4, 'rsi_open_period': 6, 'maperiod': 55}, 'order': {'days_ago_close_period': 3, 'rsi_open_period': 4, 'maperiod': 55}}, '6-month': {'mean': {'days_ago_close_period': 5, 'rsi_open_period': 6, 'maperiod': 40}, 'order': {'days_ago_close_period': 3, 'rsi_open_period': 4, 'maperiod': 50}}}\n",
      "Parsing 4680 lines from 2000-01-01 00:00:00 to 2003-02-01 00:00:00\n",
      "Parsing 1332 lines from 2002-02-01 00:00:00 to 2003-02-01 00:00:00\n",
      "Parsing 336 lines from 2002-08-01 00:00:00 to 2003-02-01 00:00:00\n"
     ]
    },
    {
     "name": "stderr",
     "output_type": "stream",
     "text": [
      "\r",
      " 15%|█▌        | 38/252 [00:04<00:42,  5.06it/s]"
     ]
    },
    {
     "name": "stdout",
     "output_type": "stream",
     "text": [
      "03-02\n",
      "{'max': {'mean': {'days_ago_close_period': 4, 'rsi_open_period': 6, 'maperiod': 50}, 'order': {'days_ago_close_period': 5, 'rsi_open_period': 2, 'maperiod': 30}}, '12-month': {'mean': {'days_ago_close_period': 3, 'rsi_open_period': 6, 'maperiod': 55}, 'order': {'days_ago_close_period': 5, 'rsi_open_period': 2, 'maperiod': 55}}, '6-month': {'mean': {'days_ago_close_period': 5, 'rsi_open_period': 2, 'maperiod': 50}, 'order': {'days_ago_close_period': 3, 'rsi_open_period': 2, 'maperiod': 35}}}\n",
      "Parsing 4704 lines from 2000-01-01 00:00:00 to 2003-03-01 00:00:00\n",
      "Parsing 1320 lines from 2002-03-01 00:00:00 to 2003-03-01 00:00:00\n",
      "Parsing 294 lines from 2002-09-01 00:00:00 to 2003-03-01 00:00:00\n",
      "03-03\n",
      "{'max': {'mean': {'days_ago_close_period': 4, 'rsi_open_period': 6, 'maperiod': 50}, 'order': {'days_ago_close_period': 5, 'rsi_open_period': 2, 'maperiod': 30}}, '12-month': {'mean': {'days_ago_close_period': 3, 'rsi_open_period': 6, 'maperiod': 55}, 'order': {'days_ago_close_period': 5, 'rsi_open_period': 2, 'maperiod': 30}}, '6-month': {'mean': {'days_ago_close_period': 3, 'rsi_open_period': 2, 'maperiod': 35}, 'order': {'days_ago_close_period': 5, 'rsi_open_period': 2, 'maperiod': 35}}}\n"
     ]
    },
    {
     "name": "stderr",
     "output_type": "stream",
     "text": [
      " 16%|█▌        | 40/252 [00:05<00:42,  4.98it/s]"
     ]
    },
    {
     "name": "stdout",
     "output_type": "stream",
     "text": [
      "Parsing 4746 lines from 2000-01-01 00:00:00 to 2003-04-01 00:00:00\n",
      "Parsing 1170 lines from 2002-04-01 00:00:00 to 2003-04-01 00:00:00\n",
      "Parsing 312 lines from 2002-10-01 00:00:00 to 2003-04-01 00:00:00\n",
      "03-04\n",
      "{'max': {'mean': {'days_ago_close_period': 5, 'rsi_open_period': 6, 'maperiod': 50}, 'order': {'days_ago_close_period': 5, 'rsi_open_period': 2, 'maperiod': 40}}, '12-month': {'mean': {'days_ago_close_period': 3, 'rsi_open_period': 6, 'maperiod': 40}, 'order': {'days_ago_close_period': 5, 'rsi_open_period': 2, 'maperiod': 40}}, '6-month': {'mean': {'days_ago_close_period': 3, 'rsi_open_period': 2, 'maperiod': 40}, 'order': {'days_ago_close_period': 3, 'rsi_open_period': 2, 'maperiod': 40}}}\n"
     ]
    },
    {
     "name": "stderr",
     "output_type": "stream",
     "text": [
      "\r",
      " 16%|█▋        | 41/252 [00:05<00:42,  4.94it/s]"
     ]
    },
    {
     "name": "stdout",
     "output_type": "stream",
     "text": [
      "Parsing 4782 lines from 2000-01-01 00:00:00 to 2003-05-01 00:00:00\n",
      "Parsing 1086 lines from 2002-05-01 00:00:00 to 2003-05-01 00:00:00\n",
      "Parsing 318 lines from 2002-11-01 00:00:00 to 2003-05-01 00:00:00\n",
      "03-05\n",
      "{'max': {'mean': {'days_ago_close_period': 5, 'rsi_open_period': 6, 'maperiod': 50}, 'order': {'days_ago_close_period': 5, 'rsi_open_period': 2, 'maperiod': 40}}, '12-month': {'mean': {'days_ago_close_period': 1, 'rsi_open_period': 2, 'maperiod': 40}, 'order': {'days_ago_close_period': 5, 'rsi_open_period': 2, 'maperiod': 40}}, '6-month': {'mean': {'days_ago_close_period': 5, 'rsi_open_period': 2, 'maperiod': 40}, 'order': {'days_ago_close_period': 5, 'rsi_open_period': 2, 'maperiod': 40}}}\n",
      "Parsing 4878 lines from 2000-01-01 00:00:00 to 2003-06-01 00:00:00\n",
      "Parsing 834 lines from 2002-06-01 00:00:00 to 2003-06-01 00:00:00\n",
      "Parsing 366 lines from 2002-12-01 00:00:00 to 2003-06-01 00:00:00\n"
     ]
    },
    {
     "name": "stderr",
     "output_type": "stream",
     "text": [
      "\r",
      " 17%|█▋        | 42/252 [00:05<00:43,  4.86it/s]"
     ]
    },
    {
     "name": "stdout",
     "output_type": "stream",
     "text": [
      "03-06\n",
      "{'max': {'mean': {'days_ago_close_period': 5, 'rsi_open_period': 6, 'maperiod': 50}, 'order': {'days_ago_close_period': 5, 'rsi_open_period': 2, 'maperiod': 40}}, '12-month': {'mean': {'days_ago_close_period': 5, 'rsi_open_period': 2, 'maperiod': 40}, 'order': {'days_ago_close_period': 5, 'rsi_open_period': 2, 'maperiod': 40}}, '6-month': {'mean': {'days_ago_close_period': 5, 'rsi_open_period': 2, 'maperiod': 40}, 'order': {'days_ago_close_period': 1, 'rsi_open_period': 2, 'maperiod': 40}}}\n",
      "Parsing 5112 lines from 2000-01-01 00:00:00 to 2003-07-01 00:00:00\n"
     ]
    },
    {
     "name": "stderr",
     "output_type": "stream",
     "text": [
      "\r",
      " 17%|█▋        | 43/252 [00:06<00:45,  4.64it/s]"
     ]
    },
    {
     "name": "stdout",
     "output_type": "stream",
     "text": [
      "Parsing 942 lines from 2002-07-01 00:00:00 to 2003-07-01 00:00:00\n",
      "Parsing 498 lines from 2003-01-01 00:00:00 to 2003-07-01 00:00:00\n",
      "03-07\n",
      "{'max': {'mean': {'days_ago_close_period': 4, 'rsi_open_period': 6, 'maperiod': 50}, 'order': {'days_ago_close_period': 5, 'rsi_open_period': 2, 'maperiod': 40}}, '12-month': {'mean': {'days_ago_close_period': 5, 'rsi_open_period': 6, 'maperiod': 40}, 'order': {'days_ago_close_period': 1, 'rsi_open_period': 2, 'maperiod': 40}}, '6-month': {'mean': {'days_ago_close_period': 1, 'rsi_open_period': 4, 'maperiod': 30}, 'order': {'days_ago_close_period': 1, 'rsi_open_period': 4, 'maperiod': 55}}}\n",
      "Parsing 5580 lines from 2000-01-01 00:00:00 to 2003-08-01 00:00:00\n"
     ]
    },
    {
     "name": "stderr",
     "output_type": "stream",
     "text": [
      "\r",
      " 17%|█▋        | 44/252 [00:06<00:48,  4.26it/s]"
     ]
    },
    {
     "name": "stdout",
     "output_type": "stream",
     "text": [
      "Parsing 1236 lines from 2002-08-01 00:00:00 to 2003-08-01 00:00:00\n",
      "Parsing 900 lines from 2003-02-01 00:00:00 to 2003-08-01 00:00:00\n",
      "03-08\n",
      "{'max': {'mean': {'days_ago_close_period': 5, 'rsi_open_period': 6, 'maperiod': 50}, 'order': {'days_ago_close_period': 5, 'rsi_open_period': 2, 'maperiod': 40}}, '12-month': {'mean': {'days_ago_close_period': 5, 'rsi_open_period': 6, 'maperiod': 45}, 'order': {'days_ago_close_period': 5, 'rsi_open_period': 2, 'maperiod': 40}}, '6-month': {'mean': {'days_ago_close_period': 5, 'rsi_open_period': 6, 'maperiod': 45}, 'order': {'days_ago_close_period': 5, 'rsi_open_period': 2, 'maperiod': 40}}}\n",
      "Parsing 5598 lines from 2000-01-01 00:00:00 to 2003-09-01 00:00:00\n"
     ]
    },
    {
     "name": "stderr",
     "output_type": "stream",
     "text": [
      "\r",
      " 18%|█▊        | 45/252 [00:06<00:51,  4.03it/s]"
     ]
    },
    {
     "name": "stdout",
     "output_type": "stream",
     "text": [
      "Parsing 1188 lines from 2002-09-01 00:00:00 to 2003-09-01 00:00:00\n",
      "Parsing 894 lines from 2003-03-01 00:00:00 to 2003-09-01 00:00:00\n",
      "03-09\n",
      "{'max': {'mean': {'days_ago_close_period': 5, 'rsi_open_period': 6, 'maperiod': 50}, 'order': {'days_ago_close_period': 5, 'rsi_open_period': 2, 'maperiod': 40}}, '12-month': {'mean': {'days_ago_close_period': 5, 'rsi_open_period': 6, 'maperiod': 45}, 'order': {'days_ago_close_period': 5, 'rsi_open_period': 2, 'maperiod': 40}}, '6-month': {'mean': {'days_ago_close_period': 5, 'rsi_open_period': 6, 'maperiod': 45}, 'order': {'days_ago_close_period': 5, 'rsi_open_period': 2, 'maperiod': 40}}}\n",
      "Parsing 5766 lines from 2000-01-01 00:00:00 to 2003-10-01 00:00:00\n"
     ]
    },
    {
     "name": "stderr",
     "output_type": "stream",
     "text": [
      "\r",
      " 18%|█▊        | 46/252 [00:06<00:54,  3.81it/s]"
     ]
    },
    {
     "name": "stdout",
     "output_type": "stream",
     "text": [
      "Parsing 1332 lines from 2002-10-01 00:00:00 to 2003-10-01 00:00:00\n",
      "Parsing 1020 lines from 2003-04-01 00:00:00 to 2003-10-01 00:00:00\n",
      "03-10\n",
      "{'max': {'mean': {'days_ago_close_period': 5, 'rsi_open_period': 6, 'maperiod': 50}, 'order': {'days_ago_close_period': 5, 'rsi_open_period': 2, 'maperiod': 40}}, '12-month': {'mean': {'days_ago_close_period': 5, 'rsi_open_period': 6, 'maperiod': 45}, 'order': {'days_ago_close_period': 5, 'rsi_open_period': 2, 'maperiod': 40}}, '6-month': {'mean': {'days_ago_close_period': 5, 'rsi_open_period': 6, 'maperiod': 45}, 'order': {'days_ago_close_period': 5, 'rsi_open_period': 2, 'maperiod': 30}}}\n",
      "Parsing 5886 lines from 2000-01-01 00:00:00 to 2003-11-01 00:00:00\n"
     ]
    },
    {
     "name": "stderr",
     "output_type": "stream",
     "text": [
      "\r",
      " 19%|█▊        | 47/252 [00:07<00:56,  3.62it/s]"
     ]
    },
    {
     "name": "stdout",
     "output_type": "stream",
     "text": [
      "Parsing 1422 lines from 2002-11-01 00:00:00 to 2003-11-01 00:00:00\n",
      "Parsing 1104 lines from 2003-05-01 00:00:00 to 2003-11-01 00:00:00\n",
      "03-11\n",
      "{'max': {'mean': {'days_ago_close_period': 5, 'rsi_open_period': 6, 'maperiod': 50}, 'order': {'days_ago_close_period': 5, 'rsi_open_period': 2, 'maperiod': 40}}, '12-month': {'mean': {'days_ago_close_period': 5, 'rsi_open_period': 2, 'maperiod': 40}, 'order': {'days_ago_close_period': 5, 'rsi_open_period': 2, 'maperiod': 40}}, '6-month': {'mean': {'days_ago_close_period': 5, 'rsi_open_period': 4, 'maperiod': 45}, 'order': {'days_ago_close_period': 5, 'rsi_open_period': 2, 'maperiod': 35}}}\n",
      "Parsing 6240 lines from 2000-01-01 00:00:00 to 2003-12-01 00:00:00\n"
     ]
    },
    {
     "name": "stderr",
     "output_type": "stream",
     "text": [
      "\r",
      " 19%|█▉        | 48/252 [00:07<01:00,  3.36it/s]"
     ]
    },
    {
     "name": "stdout",
     "output_type": "stream",
     "text": [
      "Parsing 1728 lines from 2002-12-01 00:00:00 to 2003-12-01 00:00:00\n",
      "Parsing 1362 lines from 2003-06-01 00:00:00 to 2003-12-01 00:00:00\n",
      "03-12\n",
      "{'max': {'mean': {'days_ago_close_period': 5, 'rsi_open_period': 6, 'maperiod': 50}, 'order': {'days_ago_close_period': 5, 'rsi_open_period': 2, 'maperiod': 40}}, '12-month': {'mean': {'days_ago_close_period': 5, 'rsi_open_period': 6, 'maperiod': 35}, 'order': {'days_ago_close_period': 5, 'rsi_open_period': 2, 'maperiod': 40}}, '6-month': {'mean': {'days_ago_close_period': 5, 'rsi_open_period': 6, 'maperiod': 35}, 'order': {'days_ago_close_period': 5, 'rsi_open_period': 2, 'maperiod': 40}}}\n",
      "Parsing 6312 lines from 2000-01-01 00:00:00 to 2004-01-01 00:00:00\n"
     ]
    },
    {
     "name": "stderr",
     "output_type": "stream",
     "text": [
      "\r",
      " 19%|█▉        | 49/252 [00:07<01:03,  3.19it/s]"
     ]
    },
    {
     "name": "stdout",
     "output_type": "stream",
     "text": [
      "Parsing 1698 lines from 2003-01-01 00:00:00 to 2004-01-01 00:00:00\n",
      "Parsing 1200 lines from 2003-07-01 00:00:00 to 2004-01-01 00:00:00\n",
      "04-01\n",
      "{'max': {'mean': {'days_ago_close_period': 5, 'rsi_open_period': 6, 'maperiod': 50}, 'order': {'days_ago_close_period': 5, 'rsi_open_period': 2, 'maperiod': 40}}, '12-month': {'mean': {'days_ago_close_period': 5, 'rsi_open_period': 6, 'maperiod': 35}, 'order': {'days_ago_close_period': 5, 'rsi_open_period': 2, 'maperiod': 40}}, '6-month': {'mean': {'days_ago_close_period': 5, 'rsi_open_period': 2, 'maperiod': 35}, 'order': {'days_ago_close_period': 5, 'rsi_open_period': 2, 'maperiod': 35}}}\n",
      "Parsing 6708 lines from 2000-01-01 00:00:00 to 2004-02-01 00:00:00\n"
     ]
    },
    {
     "name": "stderr",
     "output_type": "stream",
     "text": [
      "\r",
      " 20%|█▉        | 50/252 [00:08<01:08,  2.97it/s]"
     ]
    },
    {
     "name": "stdout",
     "output_type": "stream",
     "text": [
      "Parsing 2028 lines from 2003-02-01 00:00:00 to 2004-02-01 00:00:00\n",
      "Parsing 1128 lines from 2003-08-01 00:00:00 to 2004-02-01 00:00:00\n",
      "04-02\n",
      "{'max': {'mean': {'days_ago_close_period': 5, 'rsi_open_period': 6, 'maperiod': 50}, 'order': {'days_ago_close_period': 5, 'rsi_open_period': 2, 'maperiod': 40}}, '12-month': {'mean': {'days_ago_close_period': 5, 'rsi_open_period': 6, 'maperiod': 35}, 'order': {'days_ago_close_period': 5, 'rsi_open_period': 2, 'maperiod': 40}}, '6-month': {'mean': {'days_ago_close_period': 5, 'rsi_open_period': 6, 'maperiod': 35}, 'order': {'days_ago_close_period': 5, 'rsi_open_period': 2, 'maperiod': 40}}}\n",
      "Parsing 6798 lines from 2000-01-01 00:00:00 to 2004-03-01 00:00:00\n"
     ]
    },
    {
     "name": "stderr",
     "output_type": "stream",
     "text": [
      "\r",
      " 20%|██        | 51/252 [00:08<01:11,  2.80it/s]"
     ]
    },
    {
     "name": "stdout",
     "output_type": "stream",
     "text": [
      "Parsing 2094 lines from 2003-03-01 00:00:00 to 2004-03-01 00:00:00\n",
      "Parsing 1200 lines from 2003-09-01 00:00:00 to 2004-03-01 00:00:00\n",
      "04-03\n",
      "{'max': {'mean': {'days_ago_close_period': 5, 'rsi_open_period': 6, 'maperiod': 50}, 'order': {'days_ago_close_period': 5, 'rsi_open_period': 2, 'maperiod': 40}}, '12-month': {'mean': {'days_ago_close_period': 5, 'rsi_open_period': 6, 'maperiod': 35}, 'order': {'days_ago_close_period': 5, 'rsi_open_period': 2, 'maperiod': 40}}, '6-month': {'mean': {'days_ago_close_period': 5, 'rsi_open_period': 6, 'maperiod': 35}, 'order': {'days_ago_close_period': 5, 'rsi_open_period': 2, 'maperiod': 40}}}\n",
      "Parsing 7152 lines from 2000-01-01 00:00:00 to 2004-04-01 00:00:00\n"
     ]
    },
    {
     "name": "stderr",
     "output_type": "stream",
     "text": [
      "\r",
      " 21%|██        | 52/252 [00:09<01:16,  2.60it/s]"
     ]
    },
    {
     "name": "stdout",
     "output_type": "stream",
     "text": [
      "Parsing 2406 lines from 2003-04-01 00:00:00 to 2004-04-01 00:00:00\n",
      "Parsing 1386 lines from 2003-10-01 00:00:00 to 2004-04-01 00:00:00\n",
      "04-04\n",
      "{'max': {'mean': {'days_ago_close_period': 5, 'rsi_open_period': 6, 'maperiod': 50}, 'order': {'days_ago_close_period': 5, 'rsi_open_period': 2, 'maperiod': 40}}, '12-month': {'mean': {'days_ago_close_period': 5, 'rsi_open_period': 6, 'maperiod': 35}, 'order': {'days_ago_close_period': 5, 'rsi_open_period': 2, 'maperiod': 40}}, '6-month': {'mean': {'days_ago_close_period': 5, 'rsi_open_period': 6, 'maperiod': 35}, 'order': {'days_ago_close_period': 5, 'rsi_open_period': 2, 'maperiod': 40}}}\n",
      "Parsing 7482 lines from 2000-01-01 00:00:00 to 2004-05-01 00:00:00\n"
     ]
    },
    {
     "name": "stderr",
     "output_type": "stream",
     "text": [
      "\r",
      " 21%|██        | 53/252 [00:09<01:24,  2.34it/s]"
     ]
    },
    {
     "name": "stdout",
     "output_type": "stream",
     "text": [
      "Parsing 2700 lines from 2003-05-01 00:00:00 to 2004-05-01 00:00:00\n",
      "Parsing 1596 lines from 2003-11-01 00:00:00 to 2004-05-01 00:00:00\n",
      "04-05\n",
      "{'max': {'mean': {'days_ago_close_period': 5, 'rsi_open_period': 6, 'maperiod': 50}, 'order': {'days_ago_close_period': 5, 'rsi_open_period': 2, 'maperiod': 40}}, '12-month': {'mean': {'days_ago_close_period': 5, 'rsi_open_period': 6, 'maperiod': 35}, 'order': {'days_ago_close_period': 5, 'rsi_open_period': 2, 'maperiod': 40}}, '6-month': {'mean': {'days_ago_close_period': 5, 'rsi_open_period': 6, 'maperiod': 35}, 'order': {'days_ago_close_period': 5, 'rsi_open_period': 2, 'maperiod': 40}}}\n",
      "Parsing 7710 lines from 2000-01-01 00:00:00 to 2004-06-01 00:00:00\n"
     ]
    },
    {
     "name": "stderr",
     "output_type": "stream",
     "text": [
      "\r",
      " 21%|██▏       | 54/252 [00:10<01:29,  2.21it/s]"
     ]
    },
    {
     "name": "stdout",
     "output_type": "stream",
     "text": [
      "Parsing 2832 lines from 2003-06-01 00:00:00 to 2004-06-01 00:00:00\n",
      "Parsing 1470 lines from 2003-12-01 00:00:00 to 2004-06-01 00:00:00\n",
      "04-06\n",
      "{'max': {'mean': {'days_ago_close_period': 5, 'rsi_open_period': 6, 'maperiod': 50}, 'order': {'days_ago_close_period': 5, 'rsi_open_period': 2, 'maperiod': 40}}, '12-month': {'mean': {'days_ago_close_period': 5, 'rsi_open_period': 6, 'maperiod': 35}, 'order': {'days_ago_close_period': 5, 'rsi_open_period': 2, 'maperiod': 40}}, '6-month': {'mean': {'days_ago_close_period': 5, 'rsi_open_period': 6, 'maperiod': 35}, 'order': {'days_ago_close_period': 5, 'rsi_open_period': 2, 'maperiod': 40}}}\n",
      "Parsing 7872 lines from 2000-01-01 00:00:00 to 2004-07-01 00:00:00\n"
     ]
    },
    {
     "name": "stderr",
     "output_type": "stream",
     "text": [
      "\r",
      " 22%|██▏       | 55/252 [00:10<01:32,  2.13it/s]"
     ]
    },
    {
     "name": "stdout",
     "output_type": "stream",
     "text": [
      "Parsing 2760 lines from 2003-07-01 00:00:00 to 2004-07-01 00:00:00\n",
      "Parsing 1560 lines from 2004-01-01 00:00:00 to 2004-07-01 00:00:00\n",
      "04-07\n",
      "{'max': {'mean': {'days_ago_close_period': 5, 'rsi_open_period': 6, 'maperiod': 50}, 'order': {'days_ago_close_period': 5, 'rsi_open_period': 2, 'maperiod': 40}}, '12-month': {'mean': {'days_ago_close_period': 5, 'rsi_open_period': 6, 'maperiod': 35}, 'order': {'days_ago_close_period': 5, 'rsi_open_period': 2, 'maperiod': 40}}, '6-month': {'mean': {'days_ago_close_period': 5, 'rsi_open_period': 6, 'maperiod': 35}, 'order': {'days_ago_close_period': 5, 'rsi_open_period': 4, 'maperiod': 50}}}\n",
      "Parsing 8118 lines from 2000-01-01 00:00:00 to 2004-08-01 00:00:00\n"
     ]
    },
    {
     "name": "stderr",
     "output_type": "stream",
     "text": [
      "\r",
      " 22%|██▏       | 56/252 [00:11<01:35,  2.06it/s]"
     ]
    },
    {
     "name": "stdout",
     "output_type": "stream",
     "text": [
      "Parsing 2538 lines from 2003-08-01 00:00:00 to 2004-08-01 00:00:00\n",
      "Parsing 1410 lines from 2004-02-01 00:00:00 to 2004-08-01 00:00:00\n",
      "04-08\n",
      "{'max': {'mean': {'days_ago_close_period': 5, 'rsi_open_period': 6, 'maperiod': 50}, 'order': {'days_ago_close_period': 5, 'rsi_open_period': 2, 'maperiod': 40}}, '12-month': {'mean': {'days_ago_close_period': 5, 'rsi_open_period': 6, 'maperiod': 35}, 'order': {'days_ago_close_period': 5, 'rsi_open_period': 2, 'maperiod': 40}}, '6-month': {'mean': {'days_ago_close_period': 5, 'rsi_open_period': 6, 'maperiod': 35}, 'order': {'days_ago_close_period': 5, 'rsi_open_period': 4, 'maperiod': 50}}}\n",
      "Parsing 8172 lines from 2000-01-01 00:00:00 to 2004-09-01 00:00:00\n"
     ]
    },
    {
     "name": "stderr",
     "output_type": "stream",
     "text": [
      "\r",
      " 23%|██▎       | 57/252 [00:11<01:37,  2.00it/s]"
     ]
    },
    {
     "name": "stdout",
     "output_type": "stream",
     "text": [
      "Parsing 2574 lines from 2003-09-01 00:00:00 to 2004-09-01 00:00:00\n",
      "Parsing 1374 lines from 2004-03-01 00:00:00 to 2004-09-01 00:00:00\n",
      "04-09\n",
      "{'max': {'mean': {'days_ago_close_period': 5, 'rsi_open_period': 6, 'maperiod': 50}, 'order': {'days_ago_close_period': 5, 'rsi_open_period': 2, 'maperiod': 40}}, '12-month': {'mean': {'days_ago_close_period': 5, 'rsi_open_period': 6, 'maperiod': 35}, 'order': {'days_ago_close_period': 5, 'rsi_open_period': 2, 'maperiod': 40}}, '6-month': {'mean': {'days_ago_close_period': 5, 'rsi_open_period': 6, 'maperiod': 35}, 'order': {'days_ago_close_period': 5, 'rsi_open_period': 2, 'maperiod': 40}}}\n",
      "Parsing 8322 lines from 2000-01-01 00:00:00 to 2004-10-01 00:00:00\n"
     ]
    },
    {
     "name": "stderr",
     "output_type": "stream",
     "text": [
      "\r",
      " 23%|██▎       | 58/252 [00:12<01:41,  1.91it/s]"
     ]
    },
    {
     "name": "stdout",
     "output_type": "stream",
     "text": [
      "Parsing 2556 lines from 2003-10-01 00:00:00 to 2004-10-01 00:00:00\n",
      "Parsing 1206 lines from 2004-04-01 00:00:00 to 2004-10-01 00:00:00\n",
      "04-10\n",
      "{'max': {'mean': {'days_ago_close_period': 5, 'rsi_open_period': 6, 'maperiod': 50}, 'order': {'days_ago_close_period': 5, 'rsi_open_period': 2, 'maperiod': 40}}, '12-month': {'mean': {'days_ago_close_period': 5, 'rsi_open_period': 6, 'maperiod': 35}, 'order': {'days_ago_close_period': 5, 'rsi_open_period': 2, 'maperiod': 40}}, '6-month': {'mean': {'days_ago_close_period': 5, 'rsi_open_period': 2, 'maperiod': 35}, 'order': {'days_ago_close_period': 5, 'rsi_open_period': 2, 'maperiod': 40}}}\n",
      "Parsing 8454 lines from 2000-01-01 00:00:00 to 2004-11-01 00:00:00\n"
     ]
    },
    {
     "name": "stderr",
     "output_type": "stream",
     "text": [
      "\r",
      " 23%|██▎       | 59/252 [00:12<01:44,  1.85it/s]"
     ]
    },
    {
     "name": "stdout",
     "output_type": "stream",
     "text": [
      "Parsing 2568 lines from 2003-11-01 00:00:00 to 2004-11-01 00:00:00\n",
      "Parsing 972 lines from 2004-05-01 00:00:00 to 2004-11-01 00:00:00\n",
      "04-11\n",
      "{'max': {'mean': {'days_ago_close_period': 5, 'rsi_open_period': 6, 'maperiod': 50}, 'order': {'days_ago_close_period': 5, 'rsi_open_period': 2, 'maperiod': 40}}, '12-month': {'mean': {'days_ago_close_period': 5, 'rsi_open_period': 6, 'maperiod': 35}, 'order': {'days_ago_close_period': 5, 'rsi_open_period': 2, 'maperiod': 40}}, '6-month': {'mean': {'days_ago_close_period': 5, 'rsi_open_period': 4, 'maperiod': 35}, 'order': {'days_ago_close_period': 5, 'rsi_open_period': 2, 'maperiod': 45}}}\n",
      "Parsing 8454 lines from 2000-01-01 00:00:00 to 2004-12-01 00:00:00\n"
     ]
    },
    {
     "name": "stderr",
     "output_type": "stream",
     "text": [
      "\r",
      " 24%|██▍       | 60/252 [00:13<01:45,  1.83it/s]"
     ]
    },
    {
     "name": "stdout",
     "output_type": "stream",
     "text": [
      "Parsing 2214 lines from 2003-12-01 00:00:00 to 2004-12-01 00:00:00\n",
      "Parsing 744 lines from 2004-06-01 00:00:00 to 2004-12-01 00:00:00\n",
      "04-12\n",
      "{'max': {'mean': {'days_ago_close_period': 5, 'rsi_open_period': 6, 'maperiod': 50}, 'order': {'days_ago_close_period': 5, 'rsi_open_period': 2, 'maperiod': 40}}, '12-month': {'mean': {'days_ago_close_period': 5, 'rsi_open_period': 6, 'maperiod': 35}, 'order': {'days_ago_close_period': 5, 'rsi_open_period': 2, 'maperiod': 40}}, '6-month': {'mean': {'days_ago_close_period': 5, 'rsi_open_period': 6, 'maperiod': 45}, 'order': {'days_ago_close_period': 5, 'rsi_open_period': 2, 'maperiod': 40}}}\n",
      "Parsing 8802 lines from 2000-01-01 00:00:00 to 2005-01-01 00:00:00\n"
     ]
    },
    {
     "name": "stderr",
     "output_type": "stream",
     "text": [
      "\r",
      " 24%|██▍       | 61/252 [00:14<01:48,  1.76it/s]"
     ]
    },
    {
     "name": "stdout",
     "output_type": "stream",
     "text": [
      "Parsing 2490 lines from 2004-01-01 00:00:00 to 2005-01-01 00:00:00\n",
      "Parsing 1032 lines from 2004-07-01 00:00:00 to 2005-01-01 00:00:00\n",
      "05-01\n",
      "{'max': {'mean': {'days_ago_close_period': 5, 'rsi_open_period': 6, 'maperiod': 50}, 'order': {'days_ago_close_period': 5, 'rsi_open_period': 2, 'maperiod': 40}}, '12-month': {'mean': {'days_ago_close_period': 5, 'rsi_open_period': 6, 'maperiod': 35}, 'order': {'days_ago_close_period': 5, 'rsi_open_period': 2, 'maperiod': 45}}, '6-month': {'mean': {'days_ago_close_period': 5, 'rsi_open_period': 6, 'maperiod': 45}, 'order': {'days_ago_close_period': 5, 'rsi_open_period': 2, 'maperiod': 40}}}\n",
      "Parsing 8946 lines from 2000-01-01 00:00:00 to 2005-02-01 00:00:00\n"
     ]
    },
    {
     "name": "stderr",
     "output_type": "stream",
     "text": [
      "\r",
      " 25%|██▍       | 62/252 [00:14<01:51,  1.71it/s]"
     ]
    },
    {
     "name": "stdout",
     "output_type": "stream",
     "text": [
      "Parsing 2238 lines from 2004-02-01 00:00:00 to 2005-02-01 00:00:00\n",
      "Parsing 828 lines from 2004-08-01 00:00:00 to 2005-02-01 00:00:00\n",
      "05-02\n",
      "{'max': {'mean': {'days_ago_close_period': 5, 'rsi_open_period': 6, 'maperiod': 50}, 'order': {'days_ago_close_period': 5, 'rsi_open_period': 2, 'maperiod': 40}}, '12-month': {'mean': {'days_ago_close_period': 5, 'rsi_open_period': 6, 'maperiod': 35}, 'order': {'days_ago_close_period': 5, 'rsi_open_period': 2, 'maperiod': 45}}, '6-month': {'mean': {'days_ago_close_period': 5, 'rsi_open_period': 6, 'maperiod': 45}, 'order': {'days_ago_close_period': 5, 'rsi_open_period': 2, 'maperiod': 35}}}\n",
      "Parsing 9138 lines from 2000-01-01 00:00:00 to 2005-03-01 00:00:00\n"
     ]
    },
    {
     "name": "stderr",
     "output_type": "stream",
     "text": [
      "\r",
      " 25%|██▌       | 63/252 [00:15<01:54,  1.65it/s]"
     ]
    },
    {
     "name": "stdout",
     "output_type": "stream",
     "text": [
      "Parsing 2340 lines from 2004-03-01 00:00:00 to 2005-03-01 00:00:00\n",
      "Parsing 966 lines from 2004-09-01 00:00:00 to 2005-03-01 00:00:00\n",
      "05-03\n",
      "{'max': {'mean': {'days_ago_close_period': 5, 'rsi_open_period': 6, 'maperiod': 50}, 'order': {'days_ago_close_period': 5, 'rsi_open_period': 2, 'maperiod': 40}}, '12-month': {'mean': {'days_ago_close_period': 5, 'rsi_open_period': 6, 'maperiod': 35}, 'order': {'days_ago_close_period': 5, 'rsi_open_period': 2, 'maperiod': 45}}, '6-month': {'mean': {'days_ago_close_period': 5, 'rsi_open_period': 4, 'maperiod': 35}, 'order': {'days_ago_close_period': 5, 'rsi_open_period': 2, 'maperiod': 40}}}\n",
      "Parsing 9426 lines from 2000-01-01 00:00:00 to 2005-04-01 00:00:00\n"
     ]
    },
    {
     "name": "stderr",
     "output_type": "stream",
     "text": [
      "\r",
      " 25%|██▌       | 64/252 [00:16<01:58,  1.59it/s]"
     ]
    },
    {
     "name": "stdout",
     "output_type": "stream",
     "text": [
      "Parsing 2310 lines from 2004-04-01 00:00:00 to 2005-04-01 00:00:00\n",
      "Parsing 1104 lines from 2004-10-01 00:00:00 to 2005-04-01 00:00:00\n",
      "05-04\n",
      "{'max': {'mean': {'days_ago_close_period': 5, 'rsi_open_period': 6, 'maperiod': 50}, 'order': {'days_ago_close_period': 5, 'rsi_open_period': 2, 'maperiod': 40}}, '12-month': {'mean': {'days_ago_close_period': 5, 'rsi_open_period': 4, 'maperiod': 35}, 'order': {'days_ago_close_period': 5, 'rsi_open_period': 4, 'maperiod': 50}}, '6-month': {'mean': {'days_ago_close_period': 5, 'rsi_open_period': 4, 'maperiod': 35}, 'order': {'days_ago_close_period': 5, 'rsi_open_period': 4, 'maperiod': 40}}}\n",
      "Parsing 9678 lines from 2000-01-01 00:00:00 to 2005-05-01 00:00:00\n"
     ]
    },
    {
     "name": "stderr",
     "output_type": "stream",
     "text": [
      "\r",
      " 26%|██▌       | 65/252 [00:16<02:00,  1.55it/s]"
     ]
    },
    {
     "name": "stdout",
     "output_type": "stream",
     "text": [
      "Parsing 2196 lines from 2004-05-01 00:00:00 to 2005-05-01 00:00:00\n",
      "Parsing 1224 lines from 2004-11-01 00:00:00 to 2005-05-01 00:00:00\n",
      "05-05\n",
      "{'max': {'mean': {'days_ago_close_period': 5, 'rsi_open_period': 6, 'maperiod': 50}, 'order': {'days_ago_close_period': 5, 'rsi_open_period': 2, 'maperiod': 40}}, '12-month': {'mean': {'days_ago_close_period': 5, 'rsi_open_period': 6, 'maperiod': 40}, 'order': {'days_ago_close_period': 5, 'rsi_open_period': 4, 'maperiod': 50}}, '6-month': {'mean': {'days_ago_close_period': 5, 'rsi_open_period': 6, 'maperiod': 40}, 'order': {'days_ago_close_period': 5, 'rsi_open_period': 4, 'maperiod': 40}}}\n",
      "Parsing 9864 lines from 2000-01-01 00:00:00 to 2005-06-01 00:00:00\n"
     ]
    },
    {
     "name": "stderr",
     "output_type": "stream",
     "text": [
      "\r",
      " 26%|██▌       | 66/252 [00:17<02:04,  1.49it/s]"
     ]
    },
    {
     "name": "stdout",
     "output_type": "stream",
     "text": [
      "Parsing 2154 lines from 2004-06-01 00:00:00 to 2005-06-01 00:00:00\n",
      "Parsing 1410 lines from 2004-12-01 00:00:00 to 2005-06-01 00:00:00\n",
      "05-06\n",
      "{'max': {'mean': {'days_ago_close_period': 5, 'rsi_open_period': 6, 'maperiod': 50}, 'order': {'days_ago_close_period': 5, 'rsi_open_period': 2, 'maperiod': 40}}, '12-month': {'mean': {'days_ago_close_period': 5, 'rsi_open_period': 6, 'maperiod': 40}, 'order': {'days_ago_close_period': 5, 'rsi_open_period': 4, 'maperiod': 50}}, '6-month': {'mean': {'days_ago_close_period': 5, 'rsi_open_period': 6, 'maperiod': 40}, 'order': {'days_ago_close_period': 5, 'rsi_open_period': 4, 'maperiod': 40}}}\n",
      "Parsing 10002 lines from 2000-01-01 00:00:00 to 2005-07-01 00:00:00\n"
     ]
    },
    {
     "name": "stderr",
     "output_type": "stream",
     "text": [
      "\r",
      " 27%|██▋       | 67/252 [00:18<02:08,  1.44it/s]"
     ]
    },
    {
     "name": "stdout",
     "output_type": "stream",
     "text": [
      "Parsing 2232 lines from 2004-07-01 00:00:00 to 2005-07-01 00:00:00\n",
      "Parsing 1200 lines from 2005-01-01 00:00:00 to 2005-07-01 00:00:00\n",
      "05-07\n",
      "{'max': {'mean': {'days_ago_close_period': 5, 'rsi_open_period': 6, 'maperiod': 50}, 'order': {'days_ago_close_period': 5, 'rsi_open_period': 2, 'maperiod': 40}}, '12-month': {'mean': {'days_ago_close_period': 5, 'rsi_open_period': 6, 'maperiod': 40}, 'order': {'days_ago_close_period': 5, 'rsi_open_period': 2, 'maperiod': 50}}, '6-month': {'mean': {'days_ago_close_period': 5, 'rsi_open_period': 6, 'maperiod': 40}, 'order': {'days_ago_close_period': 5, 'rsi_open_period': 4, 'maperiod': 40}}}\n",
      "Parsing 10170 lines from 2000-01-01 00:00:00 to 2005-08-01 00:00:00\n"
     ]
    },
    {
     "name": "stderr",
     "output_type": "stream",
     "text": [
      "\r",
      " 27%|██▋       | 68/252 [00:18<02:11,  1.40it/s]"
     ]
    },
    {
     "name": "stdout",
     "output_type": "stream",
     "text": [
      "Parsing 2052 lines from 2004-08-01 00:00:00 to 2005-08-01 00:00:00\n",
      "Parsing 1224 lines from 2005-02-01 00:00:00 to 2005-08-01 00:00:00\n",
      "05-08\n",
      "{'max': {'mean': {'days_ago_close_period': 5, 'rsi_open_period': 6, 'maperiod': 50}, 'order': {'days_ago_close_period': 5, 'rsi_open_period': 2, 'maperiod': 40}}, '12-month': {'mean': {'days_ago_close_period': 5, 'rsi_open_period': 6, 'maperiod': 35}, 'order': {'days_ago_close_period': 5, 'rsi_open_period': 4, 'maperiod': 45}}, '6-month': {'mean': {'days_ago_close_period': 5, 'rsi_open_period': 6, 'maperiod': 35}, 'order': {'days_ago_close_period': 5, 'rsi_open_period': 4, 'maperiod': 45}}}\n",
      "Parsing 10422 lines from 2000-01-01 00:00:00 to 2005-09-01 00:00:00\n"
     ]
    },
    {
     "name": "stderr",
     "output_type": "stream",
     "text": [
      "\r",
      " 27%|██▋       | 69/252 [00:19<02:14,  1.36it/s]"
     ]
    },
    {
     "name": "stdout",
     "output_type": "stream",
     "text": [
      "Parsing 2250 lines from 2004-09-01 00:00:00 to 2005-09-01 00:00:00\n",
      "Parsing 1284 lines from 2005-03-01 00:00:00 to 2005-09-01 00:00:00\n",
      "05-09\n",
      "{'max': {'mean': {'days_ago_close_period': 5, 'rsi_open_period': 6, 'maperiod': 50}, 'order': {'days_ago_close_period': 5, 'rsi_open_period': 2, 'maperiod': 40}}, '12-month': {'mean': {'days_ago_close_period': 5, 'rsi_open_period': 6, 'maperiod': 40}, 'order': {'days_ago_close_period': 5, 'rsi_open_period': 2, 'maperiod': 50}}, '6-month': {'mean': {'days_ago_close_period': 5, 'rsi_open_period': 6, 'maperiod': 40}, 'order': {'days_ago_close_period': 4, 'rsi_open_period': 2, 'maperiod': 50}}}\n",
      "Parsing 10590 lines from 2000-01-01 00:00:00 to 2005-10-01 00:00:00\n"
     ]
    },
    {
     "name": "stderr",
     "output_type": "stream",
     "text": [
      "\r",
      " 28%|██▊       | 70/252 [00:20<02:18,  1.31it/s]"
     ]
    },
    {
     "name": "stdout",
     "output_type": "stream",
     "text": [
      "Parsing 2268 lines from 2004-10-01 00:00:00 to 2005-10-01 00:00:00\n",
      "Parsing 1164 lines from 2005-04-01 00:00:00 to 2005-10-01 00:00:00\n",
      "05-10\n",
      "{'max': {'mean': {'days_ago_close_period': 5, 'rsi_open_period': 6, 'maperiod': 50}, 'order': {'days_ago_close_period': 5, 'rsi_open_period': 2, 'maperiod': 40}}, '12-month': {'mean': {'days_ago_close_period': 5, 'rsi_open_period': 6, 'maperiod': 40}, 'order': {'days_ago_close_period': 5, 'rsi_open_period': 4, 'maperiod': 45}}, '6-month': {'mean': {'days_ago_close_period': 5, 'rsi_open_period': 6, 'maperiod': 40}, 'order': {'days_ago_close_period': 4, 'rsi_open_period': 6, 'maperiod': 40}}}\n",
      "Parsing 10866 lines from 2000-01-01 00:00:00 to 2005-11-01 00:00:00\n"
     ]
    },
    {
     "name": "stderr",
     "output_type": "stream",
     "text": [
      "\r",
      " 28%|██▊       | 71/252 [00:21<02:26,  1.24it/s]"
     ]
    },
    {
     "name": "stdout",
     "output_type": "stream",
     "text": [
      "Parsing 2412 lines from 2004-11-01 00:00:00 to 2005-11-01 00:00:00\n",
      "Parsing 1188 lines from 2005-05-01 00:00:00 to 2005-11-01 00:00:00\n",
      "05-11\n",
      "{'max': {'mean': {'days_ago_close_period': 5, 'rsi_open_period': 6, 'maperiod': 50}, 'order': {'days_ago_close_period': 5, 'rsi_open_period': 2, 'maperiod': 40}}, '12-month': {'mean': {'days_ago_close_period': 5, 'rsi_open_period': 6, 'maperiod': 40}, 'order': {'days_ago_close_period': 5, 'rsi_open_period': 2, 'maperiod': 50}}, '6-month': {'mean': {'days_ago_close_period': 4, 'rsi_open_period': 2, 'maperiod': 50}, 'order': {'days_ago_close_period': 5, 'rsi_open_period': 2, 'maperiod': 50}}}\n",
      "Parsing 11082 lines from 2000-01-01 00:00:00 to 2005-12-01 00:00:00\n"
     ]
    },
    {
     "name": "stderr",
     "output_type": "stream",
     "text": [
      "\r",
      " 29%|██▊       | 72/252 [00:22<02:30,  1.19it/s]"
     ]
    },
    {
     "name": "stdout",
     "output_type": "stream",
     "text": [
      "Parsing 2628 lines from 2004-12-01 00:00:00 to 2005-12-01 00:00:00\n",
      "Parsing 1218 lines from 2005-06-01 00:00:00 to 2005-12-01 00:00:00\n",
      "05-12\n",
      "{'max': {'mean': {'days_ago_close_period': 5, 'rsi_open_period': 6, 'maperiod': 50}, 'order': {'days_ago_close_period': 5, 'rsi_open_period': 2, 'maperiod': 40}}, '12-month': {'mean': {'days_ago_close_period': 5, 'rsi_open_period': 6, 'maperiod': 40}, 'order': {'days_ago_close_period': 5, 'rsi_open_period': 2, 'maperiod': 50}}, '6-month': {'mean': {'days_ago_close_period': 4, 'rsi_open_period': 2, 'maperiod': 50}, 'order': {'days_ago_close_period': 5, 'rsi_open_period': 2, 'maperiod': 50}}}\n",
      "Parsing 11130 lines from 2000-01-01 00:00:00 to 2006-01-01 00:00:00\n"
     ]
    },
    {
     "name": "stderr",
     "output_type": "stream",
     "text": [
      "\r",
      " 29%|██▉       | 73/252 [00:23<02:34,  1.16it/s]"
     ]
    },
    {
     "name": "stdout",
     "output_type": "stream",
     "text": [
      "Parsing 2328 lines from 2005-01-01 00:00:00 to 2006-01-01 00:00:00\n",
      "Parsing 1128 lines from 2005-07-01 00:00:00 to 2006-01-01 00:00:00\n",
      "06-01\n",
      "{'max': {'mean': {'days_ago_close_period': 5, 'rsi_open_period': 6, 'maperiod': 50}, 'order': {'days_ago_close_period': 5, 'rsi_open_period': 2, 'maperiod': 40}}, '12-month': {'mean': {'days_ago_close_period': 5, 'rsi_open_period': 6, 'maperiod': 40}, 'order': {'days_ago_close_period': 5, 'rsi_open_period': 2, 'maperiod': 50}}, '6-month': {'mean': {'days_ago_close_period': 4, 'rsi_open_period': 2, 'maperiod': 30}, 'order': {'days_ago_close_period': 5, 'rsi_open_period': 2, 'maperiod': 45}}}\n",
      "Parsing 11352 lines from 2000-01-01 00:00:00 to 2006-02-01 00:00:00\n"
     ]
    },
    {
     "name": "stderr",
     "output_type": "stream",
     "text": [
      "\r",
      " 29%|██▉       | 74/252 [00:24<02:35,  1.14it/s]"
     ]
    },
    {
     "name": "stdout",
     "output_type": "stream",
     "text": [
      "Parsing 2406 lines from 2005-02-01 00:00:00 to 2006-02-01 00:00:00\n",
      "Parsing 1182 lines from 2005-08-01 00:00:00 to 2006-02-01 00:00:00\n",
      "06-02\n",
      "{'max': {'mean': {'days_ago_close_period': 5, 'rsi_open_period': 6, 'maperiod': 50}, 'order': {'days_ago_close_period': 5, 'rsi_open_period': 2, 'maperiod': 40}}, '12-month': {'mean': {'days_ago_close_period': 5, 'rsi_open_period': 6, 'maperiod': 40}, 'order': {'days_ago_close_period': 5, 'rsi_open_period': 2, 'maperiod': 50}}, '6-month': {'mean': {'days_ago_close_period': 5, 'rsi_open_period': 2, 'maperiod': 30}, 'order': {'days_ago_close_period': 5, 'rsi_open_period': 2, 'maperiod': 30}}}\n",
      "Parsing 11466 lines from 2000-01-01 00:00:00 to 2006-03-01 00:00:00\n"
     ]
    },
    {
     "name": "stderr",
     "output_type": "stream",
     "text": [
      "\r",
      " 30%|██▉       | 75/252 [00:25<02:36,  1.13it/s]"
     ]
    },
    {
     "name": "stdout",
     "output_type": "stream",
     "text": [
      "Parsing 2328 lines from 2005-03-01 00:00:00 to 2006-03-01 00:00:00\n",
      "Parsing 1044 lines from 2005-09-01 00:00:00 to 2006-03-01 00:00:00\n",
      "06-03\n",
      "{'max': {'mean': {'days_ago_close_period': 5, 'rsi_open_period': 6, 'maperiod': 45}, 'order': {'days_ago_close_period': 5, 'rsi_open_period': 2, 'maperiod': 40}}, '12-month': {'mean': {'days_ago_close_period': 5, 'rsi_open_period': 6, 'maperiod': 40}, 'order': {'days_ago_close_period': 5, 'rsi_open_period': 2, 'maperiod': 50}}, '6-month': {'mean': {'days_ago_close_period': 5, 'rsi_open_period': 4, 'maperiod': 30}, 'order': {'days_ago_close_period': 5, 'rsi_open_period': 2, 'maperiod': 30}}}\n",
      "Parsing 11796 lines from 2000-01-01 00:00:00 to 2006-04-01 00:00:00\n"
     ]
    },
    {
     "name": "stderr",
     "output_type": "stream",
     "text": [
      "\r",
      " 30%|███       | 76/252 [00:26<02:38,  1.11it/s]"
     ]
    },
    {
     "name": "stdout",
     "output_type": "stream",
     "text": [
      "Parsing 2370 lines from 2005-04-01 00:00:00 to 2006-04-01 00:00:00\n",
      "Parsing 1206 lines from 2005-10-01 00:00:00 to 2006-04-01 00:00:00\n",
      "06-04\n",
      "{'max': {'mean': {'days_ago_close_period': 5, 'rsi_open_period': 6, 'maperiod': 45}, 'order': {'days_ago_close_period': 5, 'rsi_open_period': 2, 'maperiod': 40}}, '12-month': {'mean': {'days_ago_close_period': 4, 'rsi_open_period': 6, 'maperiod': 40}, 'order': {'days_ago_close_period': 4, 'rsi_open_period': 2, 'maperiod': 50}}, '6-month': {'mean': {'days_ago_close_period': 3, 'rsi_open_period': 4, 'maperiod': 30}, 'order': {'days_ago_close_period': 3, 'rsi_open_period': 4, 'maperiod': 55}}}\n",
      "Parsing 11976 lines from 2000-01-01 00:00:00 to 2006-05-01 00:00:00\n"
     ]
    },
    {
     "name": "stderr",
     "output_type": "stream",
     "text": [
      "\r",
      " 31%|███       | 77/252 [00:27<02:41,  1.08it/s]"
     ]
    },
    {
     "name": "stdout",
     "output_type": "stream",
     "text": [
      "Parsing 2298 lines from 2005-05-01 00:00:00 to 2006-05-01 00:00:00\n",
      "Parsing 1110 lines from 2005-11-01 00:00:00 to 2006-05-01 00:00:00\n",
      "06-05\n",
      "{'max': {'mean': {'days_ago_close_period': 5, 'rsi_open_period': 6, 'maperiod': 45}, 'order': {'days_ago_close_period': 5, 'rsi_open_period': 2, 'maperiod': 40}}, '12-month': {'mean': {'days_ago_close_period': 4, 'rsi_open_period': 4, 'maperiod': 40}, 'order': {'days_ago_close_period': 3, 'rsi_open_period': 4, 'maperiod': 50}}, '6-month': {'mean': {'days_ago_close_period': 2, 'rsi_open_period': 6, 'maperiod': 50}, 'order': {'days_ago_close_period': 2, 'rsi_open_period': 2, 'maperiod': 35}}}\n",
      "Parsing 12312 lines from 2000-01-01 00:00:00 to 2006-06-01 00:00:00\n"
     ]
    },
    {
     "name": "stderr",
     "output_type": "stream",
     "text": [
      "\r",
      " 31%|███       | 78/252 [00:28<02:46,  1.05it/s]"
     ]
    },
    {
     "name": "stdout",
     "output_type": "stream",
     "text": [
      "Parsing 2448 lines from 2005-06-01 00:00:00 to 2006-06-01 00:00:00\n",
      "Parsing 1374 lines from 2005-12-01 00:00:00 to 2006-06-01 00:00:00\n",
      "06-06\n",
      "{'max': {'mean': {'days_ago_close_period': 5, 'rsi_open_period': 6, 'maperiod': 45}, 'order': {'days_ago_close_period': 5, 'rsi_open_period': 2, 'maperiod': 40}}, '12-month': {'mean': {'days_ago_close_period': 4, 'rsi_open_period': 2, 'maperiod': 35}, 'order': {'days_ago_close_period': 2, 'rsi_open_period': 2, 'maperiod': 35}}, '6-month': {'mean': {'days_ago_close_period': 1, 'rsi_open_period': 6, 'maperiod': 30}, 'order': {'days_ago_close_period': 1, 'rsi_open_period': 6, 'maperiod': 40}}}\n",
      "Parsing 12432 lines from 2000-01-01 00:00:00 to 2006-07-01 00:00:00\n"
     ]
    },
    {
     "name": "stderr",
     "output_type": "stream",
     "text": [
      "\r",
      " 31%|███▏      | 79/252 [00:29<02:49,  1.02it/s]"
     ]
    },
    {
     "name": "stdout",
     "output_type": "stream",
     "text": [
      "Parsing 2430 lines from 2005-07-01 00:00:00 to 2006-07-01 00:00:00\n",
      "Parsing 1302 lines from 2006-01-01 00:00:00 to 2006-07-01 00:00:00\n",
      "06-07\n",
      "{'max': {'mean': {'days_ago_close_period': 5, 'rsi_open_period': 6, 'maperiod': 45}, 'order': {'days_ago_close_period': 5, 'rsi_open_period': 2, 'maperiod': 40}}, '12-month': {'mean': {'days_ago_close_period': 4, 'rsi_open_period': 2, 'maperiod': 35}, 'order': {'days_ago_close_period': 2, 'rsi_open_period': 2, 'maperiod': 35}}, '6-month': {'mean': {'days_ago_close_period': 2, 'rsi_open_period': 6, 'maperiod': 30}, 'order': {'days_ago_close_period': 1, 'rsi_open_period': 2, 'maperiod': 35}}}\n",
      "Parsing 12444 lines from 2000-01-01 00:00:00 to 2006-08-01 00:00:00\n"
     ]
    },
    {
     "name": "stderr",
     "output_type": "stream",
     "text": [
      "\r",
      " 32%|███▏      | 80/252 [00:30<02:52,  1.00s/it]"
     ]
    },
    {
     "name": "stdout",
     "output_type": "stream",
     "text": [
      "Parsing 2274 lines from 2005-08-01 00:00:00 to 2006-08-01 00:00:00\n",
      "Parsing 1092 lines from 2006-02-01 00:00:00 to 2006-08-01 00:00:00\n",
      "06-08\n",
      "{'max': {'mean': {'days_ago_close_period': 5, 'rsi_open_period': 6, 'maperiod': 45}, 'order': {'days_ago_close_period': 5, 'rsi_open_period': 2, 'maperiod': 40}}, '12-month': {'mean': {'days_ago_close_period': 4, 'rsi_open_period': 2, 'maperiod': 35}, 'order': {'days_ago_close_period': 2, 'rsi_open_period': 2, 'maperiod': 35}}, '6-month': {'mean': {'days_ago_close_period': 1, 'rsi_open_period': 6, 'maperiod': 30}, 'order': {'days_ago_close_period': 1, 'rsi_open_period': 2, 'maperiod': 35}}}\n",
      "Parsing 12606 lines from 2000-01-01 00:00:00 to 2006-09-01 00:00:00\n"
     ]
    },
    {
     "name": "stderr",
     "output_type": "stream",
     "text": [
      "\r",
      " 32%|███▏      | 81/252 [00:31<02:54,  1.02s/it]"
     ]
    },
    {
     "name": "stdout",
     "output_type": "stream",
     "text": [
      "Parsing 2184 lines from 2005-09-01 00:00:00 to 2006-09-01 00:00:00\n",
      "Parsing 1140 lines from 2006-03-01 00:00:00 to 2006-09-01 00:00:00\n",
      "06-09\n",
      "{'max': {'mean': {'days_ago_close_period': 5, 'rsi_open_period': 6, 'maperiod': 45}, 'order': {'days_ago_close_period': 5, 'rsi_open_period': 2, 'maperiod': 40}}, '12-month': {'mean': {'days_ago_close_period': 2, 'rsi_open_period': 2, 'maperiod': 35}, 'order': {'days_ago_close_period': 2, 'rsi_open_period': 2, 'maperiod': 35}}, '6-month': {'mean': {'days_ago_close_period': 1, 'rsi_open_period': 2, 'maperiod': 35}, 'order': {'days_ago_close_period': 5, 'rsi_open_period': 2, 'maperiod': 35}}}\n",
      "Parsing 12714 lines from 2000-01-01 00:00:00 to 2006-10-01 00:00:00\n"
     ]
    },
    {
     "name": "stderr",
     "output_type": "stream",
     "text": [
      "\r",
      " 33%|███▎      | 82/252 [00:32<02:56,  1.04s/it]"
     ]
    },
    {
     "name": "stdout",
     "output_type": "stream",
     "text": [
      "Parsing 2124 lines from 2005-10-01 00:00:00 to 2006-10-01 00:00:00\n",
      "Parsing 918 lines from 2006-04-01 00:00:00 to 2006-10-01 00:00:00\n",
      "06-10\n",
      "{'max': {'mean': {'days_ago_close_period': 5, 'rsi_open_period': 6, 'maperiod': 45}, 'order': {'days_ago_close_period': 5, 'rsi_open_period': 2, 'maperiod': 40}}, '12-month': {'mean': {'days_ago_close_period': 4, 'rsi_open_period': 2, 'maperiod': 35}, 'order': {'days_ago_close_period': 2, 'rsi_open_period': 2, 'maperiod': 35}}, '6-month': {'mean': {'days_ago_close_period': 1, 'rsi_open_period': 2, 'maperiod': 35}, 'order': {'days_ago_close_period': 5, 'rsi_open_period': 2, 'maperiod': 35}}}\n",
      "Parsing 12786 lines from 2000-01-01 00:00:00 to 2006-11-01 00:00:00\n"
     ]
    },
    {
     "name": "stderr",
     "output_type": "stream",
     "text": [
      "\r",
      " 33%|███▎      | 83/252 [00:33<02:57,  1.05s/it]"
     ]
    },
    {
     "name": "stdout",
     "output_type": "stream",
     "text": [
      "Parsing 1920 lines from 2005-11-01 00:00:00 to 2006-11-01 00:00:00\n",
      "Parsing 810 lines from 2006-05-01 00:00:00 to 2006-11-01 00:00:00\n",
      "06-11\n",
      "{'max': {'mean': {'days_ago_close_period': 5, 'rsi_open_period': 6, 'maperiod': 45}, 'order': {'days_ago_close_period': 5, 'rsi_open_period': 2, 'maperiod': 40}}, '12-month': {'mean': {'days_ago_close_period': 2, 'rsi_open_period': 2, 'maperiod': 35}, 'order': {'days_ago_close_period': 5, 'rsi_open_period': 2, 'maperiod': 35}}, '6-month': {'mean': {'days_ago_close_period': 1, 'rsi_open_period': 2, 'maperiod': 35}, 'order': {'days_ago_close_period': 5, 'rsi_open_period': 2, 'maperiod': 45}}}\n",
      "Parsing 12984 lines from 2000-01-01 00:00:00 to 2006-12-01 00:00:00\n"
     ]
    },
    {
     "name": "stderr",
     "output_type": "stream",
     "text": [
      "\r",
      " 33%|███▎      | 84/252 [00:34<03:00,  1.07s/it]"
     ]
    },
    {
     "name": "stdout",
     "output_type": "stream",
     "text": [
      "Parsing 2046 lines from 2005-12-01 00:00:00 to 2006-12-01 00:00:00\n",
      "Parsing 726 lines from 2006-06-01 00:00:00 to 2006-12-01 00:00:00\n",
      "06-12\n",
      "{'max': {'mean': {'days_ago_close_period': 5, 'rsi_open_period': 6, 'maperiod': 45}, 'order': {'days_ago_close_period': 5, 'rsi_open_period': 2, 'maperiod': 40}}, '12-month': {'mean': {'days_ago_close_period': 2, 'rsi_open_period': 2, 'maperiod': 35}, 'order': {'days_ago_close_period': 5, 'rsi_open_period': 2, 'maperiod': 35}}, '6-month': {'mean': {'days_ago_close_period': 5, 'rsi_open_period': 2, 'maperiod': 35}, 'order': {'days_ago_close_period': 5, 'rsi_open_period': 2, 'maperiod': 45}}}\n",
      "Parsing 13104 lines from 2000-01-01 00:00:00 to 2007-01-01 00:00:00\n"
     ]
    },
    {
     "name": "stderr",
     "output_type": "stream",
     "text": [
      "\r",
      " 34%|███▎      | 85/252 [00:35<03:01,  1.09s/it]"
     ]
    },
    {
     "name": "stdout",
     "output_type": "stream",
     "text": [
      "Parsing 1974 lines from 2006-01-01 00:00:00 to 2007-01-01 00:00:00\n",
      "Parsing 672 lines from 2006-07-01 00:00:00 to 2007-01-01 00:00:00\n",
      "07-01\n",
      "{'max': {'mean': {'days_ago_close_period': 5, 'rsi_open_period': 6, 'maperiod': 45}, 'order': {'days_ago_close_period': 5, 'rsi_open_period': 2, 'maperiod': 40}}, '12-month': {'mean': {'days_ago_close_period': 1, 'rsi_open_period': 6, 'maperiod': 30}, 'order': {'days_ago_close_period': 5, 'rsi_open_period': 2, 'maperiod': 35}}, '6-month': {'mean': {'days_ago_close_period': 5, 'rsi_open_period': 4, 'maperiod': 30}, 'order': {'days_ago_close_period': 5, 'rsi_open_period': 2, 'maperiod': 45}}}\n",
      "Parsing 13626 lines from 2000-01-01 00:00:00 to 2007-02-01 00:00:00\n"
     ]
    },
    {
     "name": "stderr",
     "output_type": "stream",
     "text": [
      "\r",
      " 34%|███▍      | 86/252 [00:36<03:07,  1.13s/it]"
     ]
    },
    {
     "name": "stdout",
     "output_type": "stream",
     "text": [
      "Parsing 2274 lines from 2006-02-01 00:00:00 to 2007-02-01 00:00:00\n",
      "Parsing 1182 lines from 2006-08-01 00:00:00 to 2007-02-01 00:00:00\n",
      "07-02\n",
      "{'max': {'mean': {'days_ago_close_period': 5, 'rsi_open_period': 6, 'maperiod': 45}, 'order': {'days_ago_close_period': 5, 'rsi_open_period': 2, 'maperiod': 40}}, '12-month': {'mean': {'days_ago_close_period': 1, 'rsi_open_period': 6, 'maperiod': 30}, 'order': {'days_ago_close_period': 5, 'rsi_open_period': 2, 'maperiod': 30}}, '6-month': {'mean': {'days_ago_close_period': 5, 'rsi_open_period': 6, 'maperiod': 40}, 'order': {'days_ago_close_period': 5, 'rsi_open_period': 2, 'maperiod': 30}}}\n",
      "Parsing 13872 lines from 2000-01-01 00:00:00 to 2007-03-01 00:00:00\n"
     ]
    },
    {
     "name": "stderr",
     "output_type": "stream",
     "text": [
      "\r",
      " 35%|███▍      | 87/252 [00:38<03:13,  1.17s/it]"
     ]
    },
    {
     "name": "stdout",
     "output_type": "stream",
     "text": [
      "Parsing 2406 lines from 2006-03-01 00:00:00 to 2007-03-01 00:00:00\n",
      "Parsing 1266 lines from 2006-09-01 00:00:00 to 2007-03-01 00:00:00\n",
      "07-03\n",
      "{'max': {'mean': {'days_ago_close_period': 5, 'rsi_open_period': 6, 'maperiod': 45}, 'order': {'days_ago_close_period': 5, 'rsi_open_period': 2, 'maperiod': 40}}, '12-month': {'mean': {'days_ago_close_period': 1, 'rsi_open_period': 2, 'maperiod': 35}, 'order': {'days_ago_close_period': 5, 'rsi_open_period': 2, 'maperiod': 30}}, '6-month': {'mean': {'days_ago_close_period': 5, 'rsi_open_period': 4, 'maperiod': 30}, 'order': {'days_ago_close_period': 5, 'rsi_open_period': 4, 'maperiod': 30}}}\n",
      "Parsing 13920 lines from 2000-01-01 00:00:00 to 2007-04-01 00:00:00\n"
     ]
    },
    {
     "name": "stderr",
     "output_type": "stream",
     "text": [
      "\r",
      " 35%|███▍      | 88/252 [00:39<03:17,  1.20s/it]"
     ]
    },
    {
     "name": "stdout",
     "output_type": "stream",
     "text": [
      "Parsing 2124 lines from 2006-04-01 00:00:00 to 2007-04-01 00:00:00\n",
      "Parsing 1206 lines from 2006-10-01 00:00:00 to 2007-04-01 00:00:00\n",
      "07-04\n",
      "{'max': {'mean': {'days_ago_close_period': 5, 'rsi_open_period': 6, 'maperiod': 45}, 'order': {'days_ago_close_period': 5, 'rsi_open_period': 2, 'maperiod': 40}}, '12-month': {'mean': {'days_ago_close_period': 5, 'rsi_open_period': 2, 'maperiod': 35}, 'order': {'days_ago_close_period': 5, 'rsi_open_period': 2, 'maperiod': 30}}, '6-month': {'mean': {'days_ago_close_period': 5, 'rsi_open_period': 4, 'maperiod': 30}, 'order': {'days_ago_close_period': 5, 'rsi_open_period': 4, 'maperiod': 50}}}\n",
      "Parsing 13956 lines from 2000-01-01 00:00:00 to 2007-05-01 00:00:00\n"
     ]
    },
    {
     "name": "stderr",
     "output_type": "stream",
     "text": [
      "\r",
      " 35%|███▌      | 89/252 [00:40<03:19,  1.22s/it]"
     ]
    },
    {
     "name": "stdout",
     "output_type": "stream",
     "text": [
      "Parsing 1980 lines from 2006-05-01 00:00:00 to 2007-05-01 00:00:00\n",
      "Parsing 1170 lines from 2006-11-01 00:00:00 to 2007-05-01 00:00:00\n",
      "07-05\n",
      "{'max': {'mean': {'days_ago_close_period': 5, 'rsi_open_period': 6, 'maperiod': 45}, 'order': {'days_ago_close_period': 5, 'rsi_open_period': 2, 'maperiod': 40}}, '12-month': {'mean': {'days_ago_close_period': 5, 'rsi_open_period': 2, 'maperiod': 30}, 'order': {'days_ago_close_period': 5, 'rsi_open_period': 2, 'maperiod': 30}}, '6-month': {'mean': {'days_ago_close_period': 5, 'rsi_open_period': 4, 'maperiod': 30}, 'order': {'days_ago_close_period': 5, 'rsi_open_period': 2, 'maperiod': 30}}}\n",
      "Parsing 14208 lines from 2000-01-01 00:00:00 to 2007-06-01 00:00:00\n"
     ]
    },
    {
     "name": "stderr",
     "output_type": "stream",
     "text": [
      "\r",
      " 36%|███▌      | 90/252 [00:42<03:22,  1.25s/it]"
     ]
    },
    {
     "name": "stdout",
     "output_type": "stream",
     "text": [
      "Parsing 1950 lines from 2006-06-01 00:00:00 to 2007-06-01 00:00:00\n",
      "Parsing 1224 lines from 2006-12-01 00:00:00 to 2007-06-01 00:00:00\n",
      "07-06\n",
      "{'max': {'mean': {'days_ago_close_period': 5, 'rsi_open_period': 6, 'maperiod': 45}, 'order': {'days_ago_close_period': 5, 'rsi_open_period': 2, 'maperiod': 40}}, '12-month': {'mean': {'days_ago_close_period': 5, 'rsi_open_period': 2, 'maperiod': 30}, 'order': {'days_ago_close_period': 5, 'rsi_open_period': 2, 'maperiod': 30}}, '6-month': {'mean': {'days_ago_close_period': 5, 'rsi_open_period': 4, 'maperiod': 30}, 'order': {'days_ago_close_period': 5, 'rsi_open_period': 4, 'maperiod': 50}}}\n",
      "Parsing 14418 lines from 2000-01-01 00:00:00 to 2007-07-01 00:00:00\n"
     ]
    },
    {
     "name": "stderr",
     "output_type": "stream",
     "text": [
      "\r",
      " 36%|███▌      | 91/252 [00:43<03:26,  1.29s/it]"
     ]
    },
    {
     "name": "stdout",
     "output_type": "stream",
     "text": [
      "Parsing 1986 lines from 2006-07-01 00:00:00 to 2007-07-01 00:00:00\n",
      "Parsing 1314 lines from 2007-01-01 00:00:00 to 2007-07-01 00:00:00\n",
      "07-07\n",
      "{'max': {'mean': {'days_ago_close_period': 5, 'rsi_open_period': 6, 'maperiod': 45}, 'order': {'days_ago_close_period': 5, 'rsi_open_period': 2, 'maperiod': 40}}, '12-month': {'mean': {'days_ago_close_period': 5, 'rsi_open_period': 4, 'maperiod': 30}, 'order': {'days_ago_close_period': 5, 'rsi_open_period': 4, 'maperiod': 30}}, '6-month': {'mean': {'days_ago_close_period': 5, 'rsi_open_period': 4, 'maperiod': 30}, 'order': {'days_ago_close_period': 2, 'rsi_open_period': 4, 'maperiod': 50}}}\n",
      "Parsing 14670 lines from 2000-01-01 00:00:00 to 2007-08-01 00:00:00\n"
     ]
    },
    {
     "name": "stderr",
     "output_type": "stream",
     "text": [
      "\r",
      " 37%|███▋      | 92/252 [00:44<03:32,  1.33s/it]"
     ]
    },
    {
     "name": "stdout",
     "output_type": "stream",
     "text": [
      "Parsing 2226 lines from 2006-08-01 00:00:00 to 2007-08-01 00:00:00\n",
      "Parsing 1116 lines from 2007-02-01 00:00:00 to 2007-08-01 00:00:00\n",
      "07-08\n",
      "{'max': {'mean': {'days_ago_close_period': 5, 'rsi_open_period': 6, 'maperiod': 45}, 'order': {'days_ago_close_period': 5, 'rsi_open_period': 2, 'maperiod': 40}}, '12-month': {'mean': {'days_ago_close_period': 5, 'rsi_open_period': 4, 'maperiod': 30}, 'order': {'days_ago_close_period': 5, 'rsi_open_period': 4, 'maperiod': 30}}, '6-month': {'mean': {'days_ago_close_period': 5, 'rsi_open_period': 4, 'maperiod': 30}, 'order': {'days_ago_close_period': 3, 'rsi_open_period': 4, 'maperiod': 50}}}\n",
      "Parsing 14892 lines from 2000-01-01 00:00:00 to 2007-09-01 00:00:00\n"
     ]
    },
    {
     "name": "stderr",
     "output_type": "stream",
     "text": [
      "\r",
      " 37%|███▋      | 93/252 [00:46<03:36,  1.36s/it]"
     ]
    },
    {
     "name": "stdout",
     "output_type": "stream",
     "text": [
      "Parsing 2286 lines from 2006-09-01 00:00:00 to 2007-09-01 00:00:00\n",
      "Parsing 1020 lines from 2007-03-01 00:00:00 to 2007-09-01 00:00:00\n",
      "07-09\n",
      "{'max': {'mean': {'days_ago_close_period': 5, 'rsi_open_period': 6, 'maperiod': 45}, 'order': {'days_ago_close_period': 5, 'rsi_open_period': 2, 'maperiod': 40}}, '12-month': {'mean': {'days_ago_close_period': 5, 'rsi_open_period': 6, 'maperiod': 40}, 'order': {'days_ago_close_period': 5, 'rsi_open_period': 4, 'maperiod': 30}}, '6-month': {'mean': {'days_ago_close_period': 5, 'rsi_open_period': 6, 'maperiod': 40}, 'order': {'days_ago_close_period': 5, 'rsi_open_period': 2, 'maperiod': 50}}}\n",
      "Parsing 14892 lines from 2000-01-01 00:00:00 to 2007-10-01 00:00:00\n"
     ]
    },
    {
     "name": "stderr",
     "output_type": "stream",
     "text": [
      "\r",
      " 37%|███▋      | 94/252 [00:47<03:38,  1.38s/it]"
     ]
    },
    {
     "name": "stdout",
     "output_type": "stream",
     "text": [
      "Parsing 2178 lines from 2006-10-01 00:00:00 to 2007-10-01 00:00:00\n",
      "Parsing 972 lines from 2007-04-01 00:00:00 to 2007-10-01 00:00:00\n",
      "07-10\n",
      "{'max': {'mean': {'days_ago_close_period': 5, 'rsi_open_period': 6, 'maperiod': 45}, 'order': {'days_ago_close_period': 5, 'rsi_open_period': 2, 'maperiod': 40}}, '12-month': {'mean': {'days_ago_close_period': 5, 'rsi_open_period': 6, 'maperiod': 40}, 'order': {'days_ago_close_period': 5, 'rsi_open_period': 4, 'maperiod': 30}}, '6-month': {'mean': {'days_ago_close_period': 5, 'rsi_open_period': 6, 'maperiod': 40}, 'order': {'days_ago_close_period': 5, 'rsi_open_period': 2, 'maperiod': 50}}}\n",
      "Parsing 15108 lines from 2000-01-01 00:00:00 to 2007-11-01 00:00:00\n"
     ]
    },
    {
     "name": "stderr",
     "output_type": "stream",
     "text": [
      "\r",
      " 38%|███▊      | 95/252 [00:49<03:44,  1.43s/it]"
     ]
    },
    {
     "name": "stdout",
     "output_type": "stream",
     "text": [
      "Parsing 2322 lines from 2006-11-01 00:00:00 to 2007-11-01 00:00:00\n",
      "Parsing 1152 lines from 2007-05-01 00:00:00 to 2007-11-01 00:00:00\n",
      "07-11\n",
      "{'max': {'mean': {'days_ago_close_period': 5, 'rsi_open_period': 6, 'maperiod': 45}, 'order': {'days_ago_close_period': 5, 'rsi_open_period': 2, 'maperiod': 40}}, '12-month': {'mean': {'days_ago_close_period': 5, 'rsi_open_period': 6, 'maperiod': 40}, 'order': {'days_ago_close_period': 5, 'rsi_open_period': 4, 'maperiod': 30}}, '6-month': {'mean': {'days_ago_close_period': 5, 'rsi_open_period': 6, 'maperiod': 40}, 'order': {'days_ago_close_period': 5, 'rsi_open_period': 2, 'maperiod': 50}}}\n",
      "Parsing 15222 lines from 2000-01-01 00:00:00 to 2007-12-01 00:00:00\n"
     ]
    },
    {
     "name": "stderr",
     "output_type": "stream",
     "text": [
      "\r",
      " 38%|███▊      | 96/252 [00:50<03:50,  1.48s/it]"
     ]
    },
    {
     "name": "stdout",
     "output_type": "stream",
     "text": [
      "Parsing 2238 lines from 2006-12-01 00:00:00 to 2007-12-01 00:00:00\n",
      "Parsing 1014 lines from 2007-06-01 00:00:00 to 2007-12-01 00:00:00\n",
      "07-12\n",
      "{'max': {'mean': {'days_ago_close_period': 5, 'rsi_open_period': 6, 'maperiod': 45}, 'order': {'days_ago_close_period': 5, 'rsi_open_period': 2, 'maperiod': 40}}, '12-month': {'mean': {'days_ago_close_period': 5, 'rsi_open_period': 6, 'maperiod': 40}, 'order': {'days_ago_close_period': 5, 'rsi_open_period': 2, 'maperiod': 55}}, '6-month': {'mean': {'days_ago_close_period': 4, 'rsi_open_period': 6, 'maperiod': 40}, 'order': {'days_ago_close_period': 4, 'rsi_open_period': 2, 'maperiod': 55}}}\n",
      "Parsing 15414 lines from 2000-01-01 00:00:00 to 2008-01-01 00:00:00\n"
     ]
    },
    {
     "name": "stderr",
     "output_type": "stream",
     "text": [
      "\r",
      " 38%|███▊      | 97/252 [00:52<03:58,  1.54s/it]"
     ]
    },
    {
     "name": "stdout",
     "output_type": "stream",
     "text": [
      "Parsing 2310 lines from 2007-01-01 00:00:00 to 2008-01-01 00:00:00\n",
      "Parsing 996 lines from 2007-07-01 00:00:00 to 2008-01-01 00:00:00\n",
      "08-01\n",
      "{'max': {'mean': {'days_ago_close_period': 5, 'rsi_open_period': 6, 'maperiod': 45}, 'order': {'days_ago_close_period': 5, 'rsi_open_period': 2, 'maperiod': 40}}, '12-month': {'mean': {'days_ago_close_period': 5, 'rsi_open_period': 6, 'maperiod': 40}, 'order': {'days_ago_close_period': 4, 'rsi_open_period': 4, 'maperiod': 30}}, '6-month': {'mean': {'days_ago_close_period': 4, 'rsi_open_period': 6, 'maperiod': 40}, 'order': {'days_ago_close_period': 4, 'rsi_open_period': 4, 'maperiod': 30}}}\n",
      "Parsing 15618 lines from 2000-01-01 00:00:00 to 2008-02-01 00:00:00\n"
     ]
    },
    {
     "name": "stderr",
     "output_type": "stream",
     "text": [
      "\r",
      " 39%|███▉      | 98/252 [00:54<04:02,  1.58s/it]"
     ]
    },
    {
     "name": "stdout",
     "output_type": "stream",
     "text": [
      "Parsing 2064 lines from 2007-02-01 00:00:00 to 2008-02-01 00:00:00\n",
      "Parsing 948 lines from 2007-08-01 00:00:00 to 2008-02-01 00:00:00\n",
      "08-02\n",
      "{'max': {'mean': {'days_ago_close_period': 5, 'rsi_open_period': 6, 'maperiod': 45}, 'order': {'days_ago_close_period': 5, 'rsi_open_period': 2, 'maperiod': 40}}, '12-month': {'mean': {'days_ago_close_period': 5, 'rsi_open_period': 4, 'maperiod': 35}, 'order': {'days_ago_close_period': 4, 'rsi_open_period': 4, 'maperiod': 50}}, '6-month': {'mean': {'days_ago_close_period': 4, 'rsi_open_period': 6, 'maperiod': 40}, 'order': {'days_ago_close_period': 4, 'rsi_open_period': 4, 'maperiod': 55}}}\n",
      "Parsing 15672 lines from 2000-01-01 00:00:00 to 2008-03-01 00:00:00\n"
     ]
    },
    {
     "name": "stderr",
     "output_type": "stream",
     "text": [
      "\r",
      " 39%|███▉      | 99/252 [00:55<04:06,  1.61s/it]"
     ]
    },
    {
     "name": "stdout",
     "output_type": "stream",
     "text": [
      "Parsing 1800 lines from 2007-03-01 00:00:00 to 2008-03-01 00:00:00\n",
      "Parsing 780 lines from 2007-09-01 00:00:00 to 2008-03-01 00:00:00\n",
      "08-03\n",
      "{'max': {'mean': {'days_ago_close_period': 5, 'rsi_open_period': 6, 'maperiod': 45}, 'order': {'days_ago_close_period': 5, 'rsi_open_period': 2, 'maperiod': 40}}, '12-month': {'mean': {'days_ago_close_period': 4, 'rsi_open_period': 6, 'maperiod': 40}, 'order': {'days_ago_close_period': 4, 'rsi_open_period': 4, 'maperiod': 50}}, '6-month': {'mean': {'days_ago_close_period': 4, 'rsi_open_period': 4, 'maperiod': 45}, 'order': {'days_ago_close_period': 4, 'rsi_open_period': 4, 'maperiod': 45}}}\n",
      "Parsing 15744 lines from 2000-01-01 00:00:00 to 2008-04-01 00:00:00\n"
     ]
    },
    {
     "name": "stderr",
     "output_type": "stream",
     "text": [
      "\r",
      " 40%|███▉      | 100/252 [00:57<04:07,  1.63s/it]"
     ]
    },
    {
     "name": "stdout",
     "output_type": "stream",
     "text": [
      "Parsing 1824 lines from 2007-04-01 00:00:00 to 2008-04-01 00:00:00\n",
      "Parsing 852 lines from 2007-10-01 00:00:00 to 2008-04-01 00:00:00\n",
      "08-04\n",
      "{'max': {'mean': {'days_ago_close_period': 5, 'rsi_open_period': 6, 'maperiod': 45}, 'order': {'days_ago_close_period': 5, 'rsi_open_period': 2, 'maperiod': 40}}, '12-month': {'mean': {'days_ago_close_period': 4, 'rsi_open_period': 6, 'maperiod': 40}, 'order': {'days_ago_close_period': 4, 'rsi_open_period': 2, 'maperiod': 55}}, '6-month': {'mean': {'days_ago_close_period': 4, 'rsi_open_period': 4, 'maperiod': 45}, 'order': {'days_ago_close_period': 4, 'rsi_open_period': 2, 'maperiod': 50}}}\n",
      "Parsing 15744 lines from 2000-01-01 00:00:00 to 2008-05-01 00:00:00\n"
     ]
    },
    {
     "name": "stderr",
     "output_type": "stream",
     "text": [
      "\r",
      " 40%|████      | 101/252 [00:59<04:08,  1.65s/it]"
     ]
    },
    {
     "name": "stdout",
     "output_type": "stream",
     "text": [
      "Parsing 1788 lines from 2007-05-01 00:00:00 to 2008-05-01 00:00:00\n",
      "Parsing 690 lines from 2007-11-01 00:00:00 to 2008-05-01 00:00:00\n",
      "08-05\n",
      "{'max': {'mean': {'days_ago_close_period': 5, 'rsi_open_period': 6, 'maperiod': 45}, 'order': {'days_ago_close_period': 5, 'rsi_open_period': 2, 'maperiod': 40}}, '12-month': {'mean': {'days_ago_close_period': 4, 'rsi_open_period': 6, 'maperiod': 40}, 'order': {'days_ago_close_period': 4, 'rsi_open_period': 2, 'maperiod': 55}}, '6-month': {'mean': {'days_ago_close_period': 4, 'rsi_open_period': 4, 'maperiod': 45}, 'order': {'days_ago_close_period': 4, 'rsi_open_period': 2, 'maperiod': 50}}}\n",
      "Parsing 15780 lines from 2000-01-01 00:00:00 to 2008-06-01 00:00:00\n"
     ]
    },
    {
     "name": "stderr",
     "output_type": "stream",
     "text": [
      "\r",
      " 40%|████      | 102/252 [01:00<04:09,  1.66s/it]"
     ]
    },
    {
     "name": "stdout",
     "output_type": "stream",
     "text": [
      "Parsing 1572 lines from 2007-06-01 00:00:00 to 2008-06-01 00:00:00\n",
      "Parsing 558 lines from 2007-12-01 00:00:00 to 2008-06-01 00:00:00\n",
      "08-06\n",
      "{'max': {'mean': {'days_ago_close_period': 5, 'rsi_open_period': 6, 'maperiod': 45}, 'order': {'days_ago_close_period': 5, 'rsi_open_period': 2, 'maperiod': 40}}, '12-month': {'mean': {'days_ago_close_period': 4, 'rsi_open_period': 6, 'maperiod': 40}, 'order': {'days_ago_close_period': 4, 'rsi_open_period': 4, 'maperiod': 50}}, '6-month': {'mean': {'days_ago_close_period': 3, 'rsi_open_period': 4, 'maperiod': 45}, 'order': {'days_ago_close_period': 3, 'rsi_open_period': 2, 'maperiod': 50}}}\n",
      "Parsing 15894 lines from 2000-01-01 00:00:00 to 2008-07-01 00:00:00\n"
     ]
    },
    {
     "name": "stderr",
     "output_type": "stream",
     "text": [
      "\r",
      " 41%|████      | 103/252 [01:02<04:11,  1.69s/it]"
     ]
    },
    {
     "name": "stdout",
     "output_type": "stream",
     "text": [
      "Parsing 1476 lines from 2007-07-01 00:00:00 to 2008-07-01 00:00:00\n",
      "Parsing 480 lines from 2008-01-01 00:00:00 to 2008-07-01 00:00:00\n",
      "08-07\n",
      "{'max': {'mean': {'days_ago_close_period': 5, 'rsi_open_period': 6, 'maperiod': 45}, 'order': {'days_ago_close_period': 5, 'rsi_open_period': 2, 'maperiod': 40}}, '12-month': {'mean': {'days_ago_close_period': 4, 'rsi_open_period': 6, 'maperiod': 40}, 'order': {'days_ago_close_period': 4, 'rsi_open_period': 4, 'maperiod': 40}}, '6-month': {'mean': {'days_ago_close_period': 3, 'rsi_open_period': 4, 'maperiod': 45}, 'order': {'days_ago_close_period': 3, 'rsi_open_period': 2, 'maperiod': 50}}}\n",
      "Parsing 15990 lines from 2000-01-01 00:00:00 to 2008-08-01 00:00:00\n"
     ]
    },
    {
     "name": "stderr",
     "output_type": "stream",
     "text": [
      "\r",
      " 41%|████▏     | 104/252 [01:04<04:13,  1.71s/it]"
     ]
    },
    {
     "name": "stdout",
     "output_type": "stream",
     "text": [
      "Parsing 1320 lines from 2007-08-01 00:00:00 to 2008-08-01 00:00:00\n",
      "Parsing 372 lines from 2008-02-01 00:00:00 to 2008-08-01 00:00:00\n",
      "08-08\n",
      "{'max': {'mean': {'days_ago_close_period': 5, 'rsi_open_period': 6, 'maperiod': 45}, 'order': {'days_ago_close_period': 5, 'rsi_open_period': 2, 'maperiod': 40}}, '12-month': {'mean': {'days_ago_close_period': 4, 'rsi_open_period': 4, 'maperiod': 30}, 'order': {'days_ago_close_period': 4, 'rsi_open_period': 2, 'maperiod': 55}}, '6-month': {'mean': {'days_ago_close_period': 3, 'rsi_open_period': 2, 'maperiod': 35}, 'order': {'days_ago_close_period': 2, 'rsi_open_period': 2, 'maperiod': 55}}}\n",
      "Parsing 16068 lines from 2000-01-01 00:00:00 to 2008-09-01 00:00:00\n"
     ]
    },
    {
     "name": "stderr",
     "output_type": "stream",
     "text": [
      "\r",
      " 42%|████▏     | 105/252 [01:06<04:16,  1.74s/it]"
     ]
    },
    {
     "name": "stdout",
     "output_type": "stream",
     "text": [
      "Parsing 1176 lines from 2007-09-01 00:00:00 to 2008-09-01 00:00:00\n",
      "Parsing 396 lines from 2008-03-01 00:00:00 to 2008-09-01 00:00:00\n",
      "08-09\n",
      "{'max': {'mean': {'days_ago_close_period': 5, 'rsi_open_period': 6, 'maperiod': 45}, 'order': {'days_ago_close_period': 5, 'rsi_open_period': 2, 'maperiod': 40}}, '12-month': {'mean': {'days_ago_close_period': 3, 'rsi_open_period': 4, 'maperiod': 30}, 'order': {'days_ago_close_period': 3, 'rsi_open_period': 4, 'maperiod': 35}}, '6-month': {'mean': {'days_ago_close_period': 2, 'rsi_open_period': 2, 'maperiod': 45}, 'order': {'days_ago_close_period': 0, 'rsi_open_period': 2, 'maperiod': 55}}}\n",
      "Parsing 16236 lines from 2000-01-01 00:00:00 to 2008-10-01 00:00:00\n"
     ]
    },
    {
     "name": "stderr",
     "output_type": "stream",
     "text": [
      "\r",
      " 42%|████▏     | 106/252 [01:08<04:18,  1.77s/it]"
     ]
    },
    {
     "name": "stdout",
     "output_type": "stream",
     "text": [
      "Parsing 1344 lines from 2007-10-01 00:00:00 to 2008-10-01 00:00:00\n",
      "Parsing 492 lines from 2008-04-01 00:00:00 to 2008-10-01 00:00:00\n",
      "08-10\n",
      "{'max': {'mean': {'days_ago_close_period': 5, 'rsi_open_period': 6, 'maperiod': 45}, 'order': {'days_ago_close_period': 5, 'rsi_open_period': 2, 'maperiod': 40}}, '12-month': {'mean': {'days_ago_close_period': 0, 'rsi_open_period': 2, 'maperiod': 55}, 'order': {'days_ago_close_period': 0, 'rsi_open_period': 2, 'maperiod': 55}}, '6-month': {'mean': {'days_ago_close_period': 0, 'rsi_open_period': 2, 'maperiod': 55}, 'order': {'days_ago_close_period': 0, 'rsi_open_period': 6, 'maperiod': 40}}}\n",
      "Parsing 16302 lines from 2000-01-01 00:00:00 to 2008-11-01 00:00:00\n"
     ]
    },
    {
     "name": "stderr",
     "output_type": "stream",
     "text": [
      "\r",
      " 42%|████▏     | 107/252 [01:09<04:21,  1.80s/it]"
     ]
    },
    {
     "name": "stdout",
     "output_type": "stream",
     "text": [
      "Parsing 1248 lines from 2007-11-01 00:00:00 to 2008-11-01 00:00:00\n",
      "Parsing 558 lines from 2008-05-01 00:00:00 to 2008-11-01 00:00:00\n",
      "08-11\n",
      "{'max': {'mean': {'days_ago_close_period': 5, 'rsi_open_period': 6, 'maperiod': 45}, 'order': {'days_ago_close_period': 5, 'rsi_open_period': 2, 'maperiod': 40}}, '12-month': {'mean': {'days_ago_close_period': 0, 'rsi_open_period': 2, 'maperiod': 55}, 'order': {'days_ago_close_period': 0, 'rsi_open_period': 2, 'maperiod': 55}}, '6-month': {'mean': {'days_ago_close_period': 0, 'rsi_open_period': 2, 'maperiod': 55}, 'order': {'days_ago_close_period': 2, 'rsi_open_period': 6, 'maperiod': 30}}}\n",
      "Parsing 16338 lines from 2000-01-01 00:00:00 to 2008-12-01 00:00:00\n"
     ]
    },
    {
     "name": "stderr",
     "output_type": "stream",
     "text": [
      "\r",
      " 43%|████▎     | 108/252 [01:11<04:20,  1.81s/it]"
     ]
    },
    {
     "name": "stdout",
     "output_type": "stream",
     "text": [
      "Parsing 1116 lines from 2007-12-01 00:00:00 to 2008-12-01 00:00:00\n",
      "Parsing 558 lines from 2008-06-01 00:00:00 to 2008-12-01 00:00:00\n",
      "08-12\n",
      "{'max': {'mean': {'days_ago_close_period': 5, 'rsi_open_period': 6, 'maperiod': 45}, 'order': {'days_ago_close_period': 5, 'rsi_open_period': 2, 'maperiod': 40}}, '12-month': {'mean': {'days_ago_close_period': 0, 'rsi_open_period': 2, 'maperiod': 55}, 'order': {'days_ago_close_period': 0, 'rsi_open_period': 2, 'maperiod': 55}}, '6-month': {'mean': {'days_ago_close_period': 0, 'rsi_open_period': 2, 'maperiod': 55}, 'order': {'days_ago_close_period': 2, 'rsi_open_period': 6, 'maperiod': 30}}}\n",
      "Parsing 16338 lines from 2000-01-01 00:00:00 to 2009-01-01 00:00:00\n"
     ]
    },
    {
     "name": "stderr",
     "output_type": "stream",
     "text": [
      "\r",
      " 43%|████▎     | 109/252 [01:13<04:20,  1.82s/it]"
     ]
    },
    {
     "name": "stdout",
     "output_type": "stream",
     "text": [
      "Parsing 924 lines from 2008-01-01 00:00:00 to 2009-01-01 00:00:00\n",
      "Parsing 444 lines from 2008-07-01 00:00:00 to 2009-01-01 00:00:00\n",
      "09-01\n",
      "{'max': {'mean': {'days_ago_close_period': 5, 'rsi_open_period': 6, 'maperiod': 45}, 'order': {'days_ago_close_period': 5, 'rsi_open_period': 2, 'maperiod': 40}}, '12-month': {'mean': {'days_ago_close_period': 2, 'rsi_open_period': 6, 'maperiod': 30}, 'order': {'days_ago_close_period': 2, 'rsi_open_period': 6, 'maperiod': 50}}, '6-month': {'mean': {'days_ago_close_period': 0, 'rsi_open_period': 2, 'maperiod': 55}, 'order': {'days_ago_close_period': 3, 'rsi_open_period': 6, 'maperiod': 30}}}\n",
      "Parsing 16392 lines from 2000-01-01 00:00:00 to 2009-02-01 00:00:00\n"
     ]
    },
    {
     "name": "stderr",
     "output_type": "stream",
     "text": [
      "\r",
      " 44%|████▎     | 110/252 [01:15<04:21,  1.84s/it]"
     ]
    },
    {
     "name": "stdout",
     "output_type": "stream",
     "text": [
      "Parsing 774 lines from 2008-02-01 00:00:00 to 2009-02-01 00:00:00\n",
      "Parsing 402 lines from 2008-08-01 00:00:00 to 2009-02-01 00:00:00\n",
      "09-02\n",
      "{'max': {'mean': {'days_ago_close_period': 5, 'rsi_open_period': 6, 'maperiod': 45}, 'order': {'days_ago_close_period': 5, 'rsi_open_period': 2, 'maperiod': 40}}, '12-month': {'mean': {'days_ago_close_period': 0, 'rsi_open_period': 2, 'maperiod': 55}, 'order': {'days_ago_close_period': 2, 'rsi_open_period': 6, 'maperiod': 30}}, '6-month': {'mean': {'days_ago_close_period': 0, 'rsi_open_period': 2, 'maperiod': 35}, 'order': {'days_ago_close_period': 3, 'rsi_open_period': 6, 'maperiod': 30}}}\n",
      "Parsing 16392 lines from 2000-01-01 00:00:00 to 2009-03-01 00:00:00\n"
     ]
    },
    {
     "name": "stderr",
     "output_type": "stream",
     "text": [
      "\r",
      " 44%|████▍     | 111/252 [01:17<04:24,  1.87s/it]"
     ]
    },
    {
     "name": "stdout",
     "output_type": "stream",
     "text": [
      "Parsing 720 lines from 2008-03-01 00:00:00 to 2009-03-01 00:00:00\n",
      "Parsing 324 lines from 2008-09-01 00:00:00 to 2009-03-01 00:00:00\n",
      "09-03\n",
      "{'max': {'mean': {'days_ago_close_period': 5, 'rsi_open_period': 6, 'maperiod': 45}, 'order': {'days_ago_close_period': 5, 'rsi_open_period': 2, 'maperiod': 40}}, '12-month': {'mean': {'days_ago_close_period': 0, 'rsi_open_period': 2, 'maperiod': 55}, 'order': {'days_ago_close_period': 2, 'rsi_open_period': 6, 'maperiod': 30}}, '6-month': {'mean': {'days_ago_close_period': 0, 'rsi_open_period': 2, 'maperiod': 30}, 'order': {'days_ago_close_period': 3, 'rsi_open_period': 6, 'maperiod': 30}}}\n",
      "Parsing 16392 lines from 2000-01-01 00:00:00 to 2009-04-01 00:00:00\n"
     ]
    },
    {
     "name": "stderr",
     "output_type": "stream",
     "text": [
      "\r",
      " 44%|████▍     | 112/252 [01:19<04:19,  1.86s/it]"
     ]
    },
    {
     "name": "stdout",
     "output_type": "stream",
     "text": [
      "Parsing 648 lines from 2008-04-01 00:00:00 to 2009-04-01 00:00:00\n",
      "Parsing 156 lines from 2008-10-01 00:00:00 to 2009-04-01 00:00:00\n",
      "09-04\n",
      "{'max': {'mean': {'days_ago_close_period': 5, 'rsi_open_period': 6, 'maperiod': 45}, 'order': {'days_ago_close_period': 5, 'rsi_open_period': 2, 'maperiod': 40}}, '12-month': {'mean': {'days_ago_close_period': 0, 'rsi_open_period': 2, 'maperiod': 55}, 'order': {'days_ago_close_period': 3, 'rsi_open_period': 6, 'maperiod': 30}}, '6-month': {'mean': {'days_ago_close_period': 3, 'rsi_open_period': 6, 'maperiod': 30}, 'order': {'days_ago_close_period': 3, 'rsi_open_period': 6, 'maperiod': 30}}}\n",
      "Parsing 16392 lines from 2000-01-01 00:00:00 to 2009-05-01 00:00:00\n"
     ]
    },
    {
     "name": "stderr",
     "output_type": "stream",
     "text": [
      "\r",
      " 45%|████▍     | 113/252 [01:21<04:16,  1.84s/it]"
     ]
    },
    {
     "name": "stdout",
     "output_type": "stream",
     "text": [
      "Parsing 648 lines from 2008-05-01 00:00:00 to 2009-05-01 00:00:00\n",
      "Empty or too small df from (size: 90) 2008-11-01 00:00:00 to 2009-05-01 00:00:00\n",
      "09-05\n",
      "{'max': {'mean': {'days_ago_close_period': 5, 'rsi_open_period': 6, 'maperiod': 45}, 'order': {'days_ago_close_period': 5, 'rsi_open_period': 2, 'maperiod': 40}}, '12-month': {'mean': {'days_ago_close_period': 0, 'rsi_open_period': 2, 'maperiod': 55}, 'order': {'days_ago_close_period': 3, 'rsi_open_period': 6, 'maperiod': 30}}, '6-month': {'mean': {'days_ago_close_period': 0, 'rsi_open_period': 2, 'maperiod': 55}, 'order': {'days_ago_close_period': 3, 'rsi_open_period': 6, 'maperiod': 30}}}\n",
      "Parsing 16428 lines from 2000-01-01 00:00:00 to 2009-06-01 00:00:00\n"
     ]
    },
    {
     "name": "stderr",
     "output_type": "stream",
     "text": [
      "\r",
      " 45%|████▌     | 114/252 [01:22<04:13,  1.84s/it]"
     ]
    },
    {
     "name": "stdout",
     "output_type": "stream",
     "text": [
      "Parsing 648 lines from 2008-06-01 00:00:00 to 2009-06-01 00:00:00\n",
      "Empty or too small df from (size: 90) 2008-12-01 00:00:00 to 2009-06-01 00:00:00\n",
      "09-06\n",
      "{'max': {'mean': {'days_ago_close_period': 5, 'rsi_open_period': 6, 'maperiod': 45}, 'order': {'days_ago_close_period': 5, 'rsi_open_period': 2, 'maperiod': 40}}, '12-month': {'mean': {'days_ago_close_period': 0, 'rsi_open_period': 2, 'maperiod': 30}, 'order': {'days_ago_close_period': 2, 'rsi_open_period': 6, 'maperiod': 30}}, '6-month': {'mean': {'days_ago_close_period': 0, 'rsi_open_period': 2, 'maperiod': 30}, 'order': {'days_ago_close_period': 2, 'rsi_open_period': 6, 'maperiod': 30}}}\n",
      "Parsing 16608 lines from 2000-01-01 00:00:00 to 2009-07-01 00:00:00\n"
     ]
    },
    {
     "name": "stderr",
     "output_type": "stream",
     "text": [
      "\r",
      " 46%|████▌     | 115/252 [01:24<04:13,  1.85s/it]"
     ]
    },
    {
     "name": "stdout",
     "output_type": "stream",
     "text": [
      "Parsing 714 lines from 2008-07-01 00:00:00 to 2009-07-01 00:00:00\n",
      "Parsing 270 lines from 2009-01-01 00:00:00 to 2009-07-01 00:00:00\n",
      "09-07\n",
      "{'max': {'mean': {'days_ago_close_period': 5, 'rsi_open_period': 6, 'maperiod': 45}, 'order': {'days_ago_close_period': 5, 'rsi_open_period': 2, 'maperiod': 40}}, '12-month': {'mean': {'days_ago_close_period': 2, 'rsi_open_period': 6, 'maperiod': 30}, 'order': {'days_ago_close_period': 5, 'rsi_open_period': 2, 'maperiod': 45}}, '6-month': {'mean': {'days_ago_close_period': 5, 'rsi_open_period': 2, 'maperiod': 45}, 'order': {'days_ago_close_period': 5, 'rsi_open_period': 2, 'maperiod': 45}}}\n",
      "Parsing 16626 lines from 2000-01-01 00:00:00 to 2009-08-01 00:00:00\n"
     ]
    },
    {
     "name": "stderr",
     "output_type": "stream",
     "text": [
      "\r",
      " 46%|████▌     | 116/252 [01:26<04:12,  1.85s/it]"
     ]
    },
    {
     "name": "stdout",
     "output_type": "stream",
     "text": [
      "Parsing 636 lines from 2008-08-01 00:00:00 to 2009-08-01 00:00:00\n",
      "Parsing 234 lines from 2009-02-01 00:00:00 to 2009-08-01 00:00:00\n",
      "09-08\n",
      "{'max': {'mean': {'days_ago_close_period': 5, 'rsi_open_period': 6, 'maperiod': 45}, 'order': {'days_ago_close_period': 5, 'rsi_open_period': 2, 'maperiod': 40}}, '12-month': {'mean': {'days_ago_close_period': 2, 'rsi_open_period': 6, 'maperiod': 30}, 'order': {'days_ago_close_period': 5, 'rsi_open_period': 2, 'maperiod': 35}}, '6-month': {'mean': {'days_ago_close_period': 5, 'rsi_open_period': 2, 'maperiod': 45}, 'order': {'days_ago_close_period': 5, 'rsi_open_period': 2, 'maperiod': 35}}}\n",
      "Parsing 16836 lines from 2000-01-01 00:00:00 to 2009-09-01 00:00:00\n"
     ]
    },
    {
     "name": "stderr",
     "output_type": "stream",
     "text": [
      "\r",
      " 46%|████▋     | 117/252 [01:28<04:12,  1.87s/it]"
     ]
    },
    {
     "name": "stdout",
     "output_type": "stream",
     "text": [
      "Parsing 768 lines from 2008-09-01 00:00:00 to 2009-09-01 00:00:00\n",
      "Parsing 444 lines from 2009-03-01 00:00:00 to 2009-09-01 00:00:00\n",
      "09-09\n",
      "{'max': {'mean': {'days_ago_close_period': 5, 'rsi_open_period': 6, 'maperiod': 45}, 'order': {'days_ago_close_period': 5, 'rsi_open_period': 2, 'maperiod': 40}}, '12-month': {'mean': {'days_ago_close_period': 5, 'rsi_open_period': 2, 'maperiod': 45}, 'order': {'days_ago_close_period': 5, 'rsi_open_period': 2, 'maperiod': 35}}, '6-month': {'mean': {'days_ago_close_period': 5, 'rsi_open_period': 2, 'maperiod': 45}, 'order': {'days_ago_close_period': 5, 'rsi_open_period': 2, 'maperiod': 35}}}\n",
      "Parsing 17034 lines from 2000-01-01 00:00:00 to 2009-10-01 00:00:00\n"
     ]
    },
    {
     "name": "stderr",
     "output_type": "stream",
     "text": [
      "\r",
      " 47%|████▋     | 118/252 [01:30<04:13,  1.89s/it]"
     ]
    },
    {
     "name": "stdout",
     "output_type": "stream",
     "text": [
      "Parsing 798 lines from 2008-10-01 00:00:00 to 2009-10-01 00:00:00\n",
      "Parsing 642 lines from 2009-04-01 00:00:00 to 2009-10-01 00:00:00\n",
      "09-10\n",
      "{'max': {'mean': {'days_ago_close_period': 5, 'rsi_open_period': 6, 'maperiod': 45}, 'order': {'days_ago_close_period': 5, 'rsi_open_period': 2, 'maperiod': 40}}, '12-month': {'mean': {'days_ago_close_period': 5, 'rsi_open_period': 2, 'maperiod': 45}, 'order': {'days_ago_close_period': 5, 'rsi_open_period': 2, 'maperiod': 35}}, '6-month': {'mean': {'days_ago_close_period': 5, 'rsi_open_period': 2, 'maperiod': 45}, 'order': {'days_ago_close_period': 5, 'rsi_open_period': 2, 'maperiod': 35}}}\n",
      "Parsing 17418 lines from 2000-01-01 00:00:00 to 2009-11-01 00:00:00\n"
     ]
    },
    {
     "name": "stderr",
     "output_type": "stream",
     "text": [
      "\r",
      " 47%|████▋     | 119/252 [01:32<04:17,  1.93s/it]"
     ]
    },
    {
     "name": "stdout",
     "output_type": "stream",
     "text": [
      "Parsing 1116 lines from 2008-11-01 00:00:00 to 2009-11-01 00:00:00\n",
      "Parsing 1026 lines from 2009-05-01 00:00:00 to 2009-11-01 00:00:00\n",
      "09-11\n",
      "{'max': {'mean': {'days_ago_close_period': 5, 'rsi_open_period': 6, 'maperiod': 45}, 'order': {'days_ago_close_period': 5, 'rsi_open_period': 2, 'maperiod': 40}}, '12-month': {'mean': {'days_ago_close_period': 5, 'rsi_open_period': 2, 'maperiod': 45}, 'order': {'days_ago_close_period': 5, 'rsi_open_period': 2, 'maperiod': 35}}, '6-month': {'mean': {'days_ago_close_period': 5, 'rsi_open_period': 2, 'maperiod': 45}, 'order': {'days_ago_close_period': 5, 'rsi_open_period': 2, 'maperiod': 35}}}\n",
      "Parsing 17502 lines from 2000-01-01 00:00:00 to 2009-12-01 00:00:00\n"
     ]
    },
    {
     "name": "stderr",
     "output_type": "stream",
     "text": [
      "\r",
      " 48%|████▊     | 120/252 [01:34<04:19,  1.97s/it]"
     ]
    },
    {
     "name": "stdout",
     "output_type": "stream",
     "text": [
      "Parsing 1164 lines from 2008-12-01 00:00:00 to 2009-12-01 00:00:00\n",
      "Parsing 1074 lines from 2009-06-01 00:00:00 to 2009-12-01 00:00:00\n",
      "09-12\n",
      "{'max': {'mean': {'days_ago_close_period': 5, 'rsi_open_period': 6, 'maperiod': 45}, 'order': {'days_ago_close_period': 5, 'rsi_open_period': 2, 'maperiod': 40}}, '12-month': {'mean': {'days_ago_close_period': 5, 'rsi_open_period': 2, 'maperiod': 45}, 'order': {'days_ago_close_period': 5, 'rsi_open_period': 2, 'maperiod': 35}}, '6-month': {'mean': {'days_ago_close_period': 5, 'rsi_open_period': 2, 'maperiod': 45}, 'order': {'days_ago_close_period': 5, 'rsi_open_period': 2, 'maperiod': 30}}}\n",
      "Parsing 17700 lines from 2000-01-01 00:00:00 to 2010-01-01 00:00:00\n"
     ]
    },
    {
     "name": "stderr",
     "output_type": "stream",
     "text": [
      "\r",
      " 48%|████▊     | 121/252 [01:36<04:21,  2.00s/it]"
     ]
    },
    {
     "name": "stdout",
     "output_type": "stream",
     "text": [
      "Parsing 1362 lines from 2009-01-01 00:00:00 to 2010-01-01 00:00:00\n",
      "Parsing 1092 lines from 2009-07-01 00:00:00 to 2010-01-01 00:00:00\n",
      "10-01\n",
      "{'max': {'mean': {'days_ago_close_period': 5, 'rsi_open_period': 6, 'maperiod': 45}, 'order': {'days_ago_close_period': 5, 'rsi_open_period': 2, 'maperiod': 40}}, '12-month': {'mean': {'days_ago_close_period': 5, 'rsi_open_period': 2, 'maperiod': 45}, 'order': {'days_ago_close_period': 5, 'rsi_open_period': 2, 'maperiod': 35}}, '6-month': {'mean': {'days_ago_close_period': 5, 'rsi_open_period': 2, 'maperiod': 30}, 'order': {'days_ago_close_period': 2, 'rsi_open_period': 2, 'maperiod': 30}}}\n",
      "Parsing 18282 lines from 2000-01-01 00:00:00 to 2010-02-01 00:00:00\n"
     ]
    },
    {
     "name": "stderr",
     "output_type": "stream",
     "text": [
      "\r",
      " 48%|████▊     | 122/252 [01:38<04:28,  2.07s/it]"
     ]
    },
    {
     "name": "stdout",
     "output_type": "stream",
     "text": [
      "Parsing 1890 lines from 2009-02-01 00:00:00 to 2010-02-01 00:00:00\n",
      "Parsing 1656 lines from 2009-08-01 00:00:00 to 2010-02-01 00:00:00\n",
      "10-02\n",
      "{'max': {'mean': {'days_ago_close_period': 5, 'rsi_open_period': 6, 'maperiod': 45}, 'order': {'days_ago_close_period': 5, 'rsi_open_period': 2, 'maperiod': 40}}, '12-month': {'mean': {'days_ago_close_period': 5, 'rsi_open_period': 2, 'maperiod': 45}, 'order': {'days_ago_close_period': 5, 'rsi_open_period': 2, 'maperiod': 35}}, '6-month': {'mean': {'days_ago_close_period': 5, 'rsi_open_period': 2, 'maperiod': 50}, 'order': {'days_ago_close_period': 5, 'rsi_open_period': 2, 'maperiod': 40}}}\n",
      "Parsing 18456 lines from 2000-01-01 00:00:00 to 2010-03-01 00:00:00\n"
     ]
    },
    {
     "name": "stderr",
     "output_type": "stream",
     "text": [
      "\r",
      " 49%|████▉     | 123/252 [01:41<04:34,  2.13s/it]"
     ]
    },
    {
     "name": "stdout",
     "output_type": "stream",
     "text": [
      "Parsing 2064 lines from 2009-03-01 00:00:00 to 2010-03-01 00:00:00\n",
      "Parsing 1620 lines from 2009-09-01 00:00:00 to 2010-03-01 00:00:00\n",
      "10-03\n",
      "{'max': {'mean': {'days_ago_close_period': 5, 'rsi_open_period': 6, 'maperiod': 45}, 'order': {'days_ago_close_period': 5, 'rsi_open_period': 2, 'maperiod': 40}}, '12-month': {'mean': {'days_ago_close_period': 5, 'rsi_open_period': 2, 'maperiod': 45}, 'order': {'days_ago_close_period': 5, 'rsi_open_period': 2, 'maperiod': 35}}, '6-month': {'mean': {'days_ago_close_period': 5, 'rsi_open_period': 4, 'maperiod': 35}, 'order': {'days_ago_close_period': 5, 'rsi_open_period': 4, 'maperiod': 35}}}\n",
      "Parsing 18600 lines from 2000-01-01 00:00:00 to 2010-04-01 00:00:00\n"
     ]
    },
    {
     "name": "stderr",
     "output_type": "stream",
     "text": [
      "\r",
      " 49%|████▉     | 124/252 [01:43<04:38,  2.18s/it]"
     ]
    },
    {
     "name": "stdout",
     "output_type": "stream",
     "text": [
      "Parsing 2208 lines from 2009-04-01 00:00:00 to 2010-04-01 00:00:00\n",
      "Parsing 1638 lines from 2009-10-01 00:00:00 to 2010-04-01 00:00:00\n",
      "10-04\n",
      "{'max': {'mean': {'days_ago_close_period': 5, 'rsi_open_period': 6, 'maperiod': 45}, 'order': {'days_ago_close_period': 5, 'rsi_open_period': 2, 'maperiod': 40}}, '12-month': {'mean': {'days_ago_close_period': 5, 'rsi_open_period': 2, 'maperiod': 40}, 'order': {'days_ago_close_period': 5, 'rsi_open_period': 2, 'maperiod': 40}}, '6-month': {'mean': {'days_ago_close_period': 5, 'rsi_open_period': 4, 'maperiod': 35}, 'order': {'days_ago_close_period': 5, 'rsi_open_period': 4, 'maperiod': 35}}}\n",
      "Parsing 19002 lines from 2000-01-01 00:00:00 to 2010-05-01 00:00:00\n"
     ]
    },
    {
     "name": "stderr",
     "output_type": "stream",
     "text": [
      "\r",
      " 50%|████▉     | 125/252 [01:45<04:45,  2.25s/it]"
     ]
    },
    {
     "name": "stdout",
     "output_type": "stream",
     "text": [
      "Parsing 2610 lines from 2009-05-01 00:00:00 to 2010-05-01 00:00:00\n",
      "Parsing 1584 lines from 2009-11-01 00:00:00 to 2010-05-01 00:00:00\n",
      "10-05\n",
      "{'max': {'mean': {'days_ago_close_period': 5, 'rsi_open_period': 6, 'maperiod': 40}, 'order': {'days_ago_close_period': 5, 'rsi_open_period': 2, 'maperiod': 40}}, '12-month': {'mean': {'days_ago_close_period': 5, 'rsi_open_period': 4, 'maperiod': 35}, 'order': {'days_ago_close_period': 5, 'rsi_open_period': 2, 'maperiod': 35}}, '6-month': {'mean': {'days_ago_close_period': 0, 'rsi_open_period': 4, 'maperiod': 55}, 'order': {'days_ago_close_period': 0, 'rsi_open_period': 4, 'maperiod': 55}}}\n",
      "Parsing 19350 lines from 2000-01-01 00:00:00 to 2010-06-01 00:00:00\n"
     ]
    },
    {
     "name": "stderr",
     "output_type": "stream",
     "text": [
      "\r",
      " 50%|█████     | 126/252 [01:48<04:53,  2.33s/it]"
     ]
    },
    {
     "name": "stdout",
     "output_type": "stream",
     "text": [
      "Parsing 2922 lines from 2009-06-01 00:00:00 to 2010-06-01 00:00:00\n",
      "Parsing 1848 lines from 2009-12-01 00:00:00 to 2010-06-01 00:00:00\n",
      "10-06\n",
      "{'max': {'mean': {'days_ago_close_period': 5, 'rsi_open_period': 6, 'maperiod': 45}, 'order': {'days_ago_close_period': 5, 'rsi_open_period': 2, 'maperiod': 40}}, '12-month': {'mean': {'days_ago_close_period': 5, 'rsi_open_period': 2, 'maperiod': 40}, 'order': {'days_ago_close_period': 5, 'rsi_open_period': 2, 'maperiod': 40}}, '6-month': {'mean': {'days_ago_close_period': 0, 'rsi_open_period': 4, 'maperiod': 55}, 'order': {'days_ago_close_period': 0, 'rsi_open_period': 6, 'maperiod': 55}}}\n",
      "Parsing 19404 lines from 2000-01-01 00:00:00 to 2010-07-01 00:00:00\n"
     ]
    },
    {
     "name": "stderr",
     "output_type": "stream",
     "text": [
      "\r",
      " 50%|█████     | 127/252 [01:50<04:57,  2.38s/it]"
     ]
    },
    {
     "name": "stdout",
     "output_type": "stream",
     "text": [
      "Parsing 2796 lines from 2009-07-01 00:00:00 to 2010-07-01 00:00:00\n",
      "Parsing 1704 lines from 2010-01-01 00:00:00 to 2010-07-01 00:00:00\n",
      "10-07\n",
      "{'max': {'mean': {'days_ago_close_period': 5, 'rsi_open_period': 6, 'maperiod': 45}, 'order': {'days_ago_close_period': 5, 'rsi_open_period': 2, 'maperiod': 40}}, '12-month': {'mean': {'days_ago_close_period': 5, 'rsi_open_period': 2, 'maperiod': 40}, 'order': {'days_ago_close_period': 5, 'rsi_open_period': 2, 'maperiod': 40}}, '6-month': {'mean': {'days_ago_close_period': 0, 'rsi_open_period': 4, 'maperiod': 55}, 'order': {'days_ago_close_period': 3, 'rsi_open_period': 6, 'maperiod': 50}}}\n",
      "Parsing 19404 lines from 2000-01-01 00:00:00 to 2010-08-01 00:00:00\n"
     ]
    },
    {
     "name": "stderr",
     "output_type": "stream",
     "text": [
      "\r",
      " 51%|█████     | 128/252 [01:53<05:00,  2.42s/it]"
     ]
    },
    {
     "name": "stdout",
     "output_type": "stream",
     "text": [
      "Parsing 2778 lines from 2009-08-01 00:00:00 to 2010-08-01 00:00:00\n",
      "Parsing 1122 lines from 2010-02-01 00:00:00 to 2010-08-01 00:00:00\n",
      "10-08\n",
      "{'max': {'mean': {'days_ago_close_period': 5, 'rsi_open_period': 6, 'maperiod': 45}, 'order': {'days_ago_close_period': 5, 'rsi_open_period': 2, 'maperiod': 40}}, '12-month': {'mean': {'days_ago_close_period': 5, 'rsi_open_period': 2, 'maperiod': 40}, 'order': {'days_ago_close_period': 5, 'rsi_open_period': 4, 'maperiod': 35}}, '6-month': {'mean': {'days_ago_close_period': 0, 'rsi_open_period': 6, 'maperiod': 55}, 'order': {'days_ago_close_period': 3, 'rsi_open_period': 6, 'maperiod': 55}}}\n",
      "Parsing 19524 lines from 2000-01-01 00:00:00 to 2010-09-01 00:00:00\n"
     ]
    },
    {
     "name": "stderr",
     "output_type": "stream",
     "text": [
      "\r",
      " 51%|█████     | 129/252 [01:56<05:05,  2.48s/it]"
     ]
    },
    {
     "name": "stdout",
     "output_type": "stream",
     "text": [
      "Parsing 2688 lines from 2009-09-01 00:00:00 to 2010-09-01 00:00:00\n",
      "Parsing 1068 lines from 2010-03-01 00:00:00 to 2010-09-01 00:00:00\n",
      "10-09\n",
      "{'max': {'mean': {'days_ago_close_period': 5, 'rsi_open_period': 6, 'maperiod': 45}, 'order': {'days_ago_close_period': 5, 'rsi_open_period': 2, 'maperiod': 40}}, '12-month': {'mean': {'days_ago_close_period': 5, 'rsi_open_period': 4, 'maperiod': 35}, 'order': {'days_ago_close_period': 5, 'rsi_open_period': 4, 'maperiod': 35}}, '6-month': {'mean': {'days_ago_close_period': 0, 'rsi_open_period': 6, 'maperiod': 55}, 'order': {'days_ago_close_period': 5, 'rsi_open_period': 2, 'maperiod': 30}}}\n",
      "Parsing 19524 lines from 2000-01-01 00:00:00 to 2010-10-01 00:00:00\n"
     ]
    },
    {
     "name": "stderr",
     "output_type": "stream",
     "text": [
      "\r",
      " 52%|█████▏    | 130/252 [01:58<05:09,  2.53s/it]"
     ]
    },
    {
     "name": "stdout",
     "output_type": "stream",
     "text": [
      "Parsing 2562 lines from 2009-10-01 00:00:00 to 2010-10-01 00:00:00\n",
      "Parsing 960 lines from 2010-04-01 00:00:00 to 2010-10-01 00:00:00\n",
      "10-10\n",
      "{'max': {'mean': {'days_ago_close_period': 5, 'rsi_open_period': 6, 'maperiod': 45}, 'order': {'days_ago_close_period': 5, 'rsi_open_period': 2, 'maperiod': 40}}, '12-month': {'mean': {'days_ago_close_period': 5, 'rsi_open_period': 4, 'maperiod': 35}, 'order': {'days_ago_close_period': 5, 'rsi_open_period': 4, 'maperiod': 35}}, '6-month': {'mean': {'days_ago_close_period': 0, 'rsi_open_period': 6, 'maperiod': 55}, 'order': {'days_ago_close_period': 5, 'rsi_open_period': 2, 'maperiod': 30}}}\n",
      "Parsing 19668 lines from 2000-01-01 00:00:00 to 2010-11-01 00:00:00\n"
     ]
    },
    {
     "name": "stderr",
     "output_type": "stream",
     "text": [
      "\r",
      " 52%|█████▏    | 131/252 [02:01<05:14,  2.60s/it]"
     ]
    },
    {
     "name": "stdout",
     "output_type": "stream",
     "text": [
      "Parsing 2250 lines from 2009-11-01 00:00:00 to 2010-11-01 00:00:00\n",
      "Parsing 666 lines from 2010-05-01 00:00:00 to 2010-11-01 00:00:00\n",
      "10-11\n",
      "{'max': {'mean': {'days_ago_close_period': 5, 'rsi_open_period': 6, 'maperiod': 45}, 'order': {'days_ago_close_period': 5, 'rsi_open_period': 2, 'maperiod': 40}}, '12-month': {'mean': {'days_ago_close_period': 0, 'rsi_open_period': 4, 'maperiod': 55}, 'order': {'days_ago_close_period': 5, 'rsi_open_period': 4, 'maperiod': 40}}, '6-month': {'mean': {'days_ago_close_period': 4, 'rsi_open_period': 2, 'maperiod': 30}, 'order': {'days_ago_close_period': 5, 'rsi_open_period': 2, 'maperiod': 30}}}\n",
      "Parsing 19878 lines from 2000-01-01 00:00:00 to 2010-12-01 00:00:00\n"
     ]
    },
    {
     "name": "stderr",
     "output_type": "stream",
     "text": [
      "\r",
      " 52%|█████▏    | 132/252 [02:04<05:13,  2.61s/it]"
     ]
    },
    {
     "name": "stdout",
     "output_type": "stream",
     "text": [
      "Parsing 2376 lines from 2009-12-01 00:00:00 to 2010-12-01 00:00:00\n",
      "Parsing 528 lines from 2010-06-01 00:00:00 to 2010-12-01 00:00:00\n",
      "10-12\n",
      "{'max': {'mean': {'days_ago_close_period': 5, 'rsi_open_period': 6, 'maperiod': 45}, 'order': {'days_ago_close_period': 5, 'rsi_open_period': 2, 'maperiod': 40}}, '12-month': {'mean': {'days_ago_close_period': 5, 'rsi_open_period': 4, 'maperiod': 35}, 'order': {'days_ago_close_period': 5, 'rsi_open_period': 2, 'maperiod': 30}}, '6-month': {'mean': {'days_ago_close_period': 5, 'rsi_open_period': 2, 'maperiod': 30}, 'order': {'days_ago_close_period': 5, 'rsi_open_period': 2, 'maperiod': 30}}}\n",
      "Parsing 20022 lines from 2000-01-01 00:00:00 to 2011-01-01 00:00:00\n"
     ]
    },
    {
     "name": "stderr",
     "output_type": "stream",
     "text": [
      "\r",
      " 53%|█████▎    | 133/252 [02:06<05:11,  2.62s/it]"
     ]
    },
    {
     "name": "stdout",
     "output_type": "stream",
     "text": [
      "Parsing 2322 lines from 2010-01-01 00:00:00 to 2011-01-01 00:00:00\n",
      "Parsing 618 lines from 2010-07-01 00:00:00 to 2011-01-01 00:00:00\n",
      "11-01\n",
      "{'max': {'mean': {'days_ago_close_period': 5, 'rsi_open_period': 6, 'maperiod': 45}, 'order': {'days_ago_close_period': 5, 'rsi_open_period': 2, 'maperiod': 40}}, '12-month': {'mean': {'days_ago_close_period': 5, 'rsi_open_period': 4, 'maperiod': 35}, 'order': {'days_ago_close_period': 5, 'rsi_open_period': 2, 'maperiod': 30}}, '6-month': {'mean': {'days_ago_close_period': 5, 'rsi_open_period': 2, 'maperiod': 30}, 'order': {'days_ago_close_period': 5, 'rsi_open_period': 2, 'maperiod': 30}}}\n",
      "Parsing 20394 lines from 2000-01-01 00:00:00 to 2011-02-01 00:00:00\n"
     ]
    },
    {
     "name": "stderr",
     "output_type": "stream",
     "text": [
      "\r",
      " 53%|█████▎    | 134/252 [02:09<05:19,  2.71s/it]"
     ]
    },
    {
     "name": "stdout",
     "output_type": "stream",
     "text": [
      "Parsing 2112 lines from 2010-02-01 00:00:00 to 2011-02-01 00:00:00\n",
      "Parsing 990 lines from 2010-08-01 00:00:00 to 2011-02-01 00:00:00\n",
      "11-02\n",
      "{'max': {'mean': {'days_ago_close_period': 5, 'rsi_open_period': 6, 'maperiod': 45}, 'order': {'days_ago_close_period': 5, 'rsi_open_period': 2, 'maperiod': 40}}, '12-month': {'mean': {'days_ago_close_period': 3, 'rsi_open_period': 6, 'maperiod': 40}, 'order': {'days_ago_close_period': 4, 'rsi_open_period': 2, 'maperiod': 35}}, '6-month': {'mean': {'days_ago_close_period': 5, 'rsi_open_period': 4, 'maperiod': 35}, 'order': {'days_ago_close_period': 4, 'rsi_open_period': 2, 'maperiod': 35}}}\n",
      "Parsing 20574 lines from 2000-01-01 00:00:00 to 2011-03-01 00:00:00\n"
     ]
    },
    {
     "name": "stderr",
     "output_type": "stream",
     "text": [
      "\r",
      " 54%|█████▎    | 135/252 [02:12<05:34,  2.86s/it]"
     ]
    },
    {
     "name": "stdout",
     "output_type": "stream",
     "text": [
      "Parsing 2118 lines from 2010-03-01 00:00:00 to 2011-03-01 00:00:00\n",
      "Parsing 1050 lines from 2010-09-01 00:00:00 to 2011-03-01 00:00:00\n",
      "11-03\n",
      "{'max': {'mean': {'days_ago_close_period': 5, 'rsi_open_period': 6, 'maperiod': 45}, 'order': {'days_ago_close_period': 5, 'rsi_open_period': 2, 'maperiod': 40}}, '12-month': {'mean': {'days_ago_close_period': 5, 'rsi_open_period': 6, 'maperiod': 40}, 'order': {'days_ago_close_period': 5, 'rsi_open_period': 2, 'maperiod': 50}}, '6-month': {'mean': {'days_ago_close_period': 5, 'rsi_open_period': 6, 'maperiod': 40}, 'order': {'days_ago_close_period': 5, 'rsi_open_period': 2, 'maperiod': 40}}}\n",
      "Parsing 20880 lines from 2000-01-01 00:00:00 to 2011-04-01 00:00:00\n"
     ]
    },
    {
     "name": "stderr",
     "output_type": "stream",
     "text": [
      "\r",
      " 54%|█████▍    | 136/252 [02:16<05:47,  2.99s/it]"
     ]
    },
    {
     "name": "stdout",
     "output_type": "stream",
     "text": [
      "Parsing 2316 lines from 2010-04-01 00:00:00 to 2011-04-01 00:00:00\n",
      "Parsing 1356 lines from 2010-10-01 00:00:00 to 2011-04-01 00:00:00\n",
      "11-04\n",
      "{'max': {'mean': {'days_ago_close_period': 5, 'rsi_open_period': 6, 'maperiod': 45}, 'order': {'days_ago_close_period': 5, 'rsi_open_period': 2, 'maperiod': 40}}, '12-month': {'mean': {'days_ago_close_period': 5, 'rsi_open_period': 2, 'maperiod': 35}, 'order': {'days_ago_close_period': 5, 'rsi_open_period': 2, 'maperiod': 50}}, '6-month': {'mean': {'days_ago_close_period': 5, 'rsi_open_period': 6, 'maperiod': 40}, 'order': {'days_ago_close_period': 5, 'rsi_open_period': 2, 'maperiod': 40}}}\n",
      "Parsing 20952 lines from 2000-01-01 00:00:00 to 2011-05-01 00:00:00\n"
     ]
    },
    {
     "name": "stderr",
     "output_type": "stream",
     "text": [
      "\r",
      " 54%|█████▍    | 137/252 [02:19<05:53,  3.08s/it]"
     ]
    },
    {
     "name": "stdout",
     "output_type": "stream",
     "text": [
      "Parsing 1950 lines from 2010-05-01 00:00:00 to 2011-05-01 00:00:00\n",
      "Parsing 1284 lines from 2010-11-01 00:00:00 to 2011-05-01 00:00:00\n",
      "11-05\n",
      "{'max': {'mean': {'days_ago_close_period': 5, 'rsi_open_period': 6, 'maperiod': 45}, 'order': {'days_ago_close_period': 5, 'rsi_open_period': 2, 'maperiod': 40}}, '12-month': {'mean': {'days_ago_close_period': 5, 'rsi_open_period': 2, 'maperiod': 35}, 'order': {'days_ago_close_period': 5, 'rsi_open_period': 2, 'maperiod': 50}}, '6-month': {'mean': {'days_ago_close_period': 5, 'rsi_open_period': 6, 'maperiod': 40}, 'order': {'days_ago_close_period': 5, 'rsi_open_period': 2, 'maperiod': 40}}}\n",
      "Parsing 21276 lines from 2000-01-01 00:00:00 to 2011-06-01 00:00:00\n"
     ]
    },
    {
     "name": "stderr",
     "output_type": "stream",
     "text": [
      "\r",
      " 55%|█████▍    | 138/252 [02:22<06:07,  3.22s/it]"
     ]
    },
    {
     "name": "stdout",
     "output_type": "stream",
     "text": [
      "Parsing 1926 lines from 2010-06-01 00:00:00 to 2011-06-01 00:00:00\n",
      "Parsing 1398 lines from 2010-12-01 00:00:00 to 2011-06-01 00:00:00\n",
      "11-06\n",
      "{'max': {'mean': {'days_ago_close_period': 5, 'rsi_open_period': 6, 'maperiod': 45}, 'order': {'days_ago_close_period': 5, 'rsi_open_period': 2, 'maperiod': 40}}, '12-month': {'mean': {'days_ago_close_period': 5, 'rsi_open_period': 6, 'maperiod': 40}, 'order': {'days_ago_close_period': 5, 'rsi_open_period': 2, 'maperiod': 50}}, '6-month': {'mean': {'days_ago_close_period': 1, 'rsi_open_period': 6, 'maperiod': 40}, 'order': {'days_ago_close_period': 1, 'rsi_open_period': 2, 'maperiod': 35}}}\n",
      "Parsing 21732 lines from 2000-01-01 00:00:00 to 2011-07-01 00:00:00\n"
     ]
    },
    {
     "name": "stderr",
     "output_type": "stream",
     "text": [
      "\r",
      " 55%|█████▌    | 139/252 [02:26<06:27,  3.43s/it]"
     ]
    },
    {
     "name": "stdout",
     "output_type": "stream",
     "text": [
      "Parsing 2328 lines from 2010-07-01 00:00:00 to 2011-07-01 00:00:00\n",
      "Parsing 1710 lines from 2011-01-01 00:00:00 to 2011-07-01 00:00:00\n",
      "11-07\n",
      "{'max': {'mean': {'days_ago_close_period': 5, 'rsi_open_period': 6, 'maperiod': 45}, 'order': {'days_ago_close_period': 5, 'rsi_open_period': 2, 'maperiod': 40}}, '12-month': {'mean': {'days_ago_close_period': 5, 'rsi_open_period': 4, 'maperiod': 30}, 'order': {'days_ago_close_period': 3, 'rsi_open_period': 2, 'maperiod': 35}}, '6-month': {'mean': {'days_ago_close_period': 3, 'rsi_open_period': 4, 'maperiod': 35}, 'order': {'days_ago_close_period': 2, 'rsi_open_period': 4, 'maperiod': 55}}}\n",
      "Parsing 22110 lines from 2000-01-01 00:00:00 to 2011-08-01 00:00:00\n"
     ]
    },
    {
     "name": "stderr",
     "output_type": "stream",
     "text": [
      "\r",
      " 56%|█████▌    | 140/252 [02:30<06:38,  3.55s/it]"
     ]
    },
    {
     "name": "stdout",
     "output_type": "stream",
     "text": [
      "Parsing 2706 lines from 2010-08-01 00:00:00 to 2011-08-01 00:00:00\n",
      "Parsing 1716 lines from 2011-02-01 00:00:00 to 2011-08-01 00:00:00\n",
      "11-08\n",
      "{'max': {'mean': {'days_ago_close_period': 5, 'rsi_open_period': 6, 'maperiod': 40}, 'order': {'days_ago_close_period': 5, 'rsi_open_period': 2, 'maperiod': 40}}, '12-month': {'mean': {'days_ago_close_period': 5, 'rsi_open_period': 4, 'maperiod': 35}, 'order': {'days_ago_close_period': 4, 'rsi_open_period': 2, 'maperiod': 35}}, '6-month': {'mean': {'days_ago_close_period': 5, 'rsi_open_period': 4, 'maperiod': 30}, 'order': {'days_ago_close_period': 4, 'rsi_open_period': 4, 'maperiod': 35}}}\n",
      "Parsing 22110 lines from 2000-01-01 00:00:00 to 2011-09-01 00:00:00\n"
     ]
    },
    {
     "name": "stderr",
     "output_type": "stream",
     "text": [
      "\r",
      " 56%|█████▌    | 141/252 [02:34<06:42,  3.63s/it]"
     ]
    },
    {
     "name": "stdout",
     "output_type": "stream",
     "text": [
      "Parsing 2586 lines from 2010-09-01 00:00:00 to 2011-09-01 00:00:00\n",
      "Parsing 1536 lines from 2011-03-01 00:00:00 to 2011-09-01 00:00:00\n",
      "11-09\n",
      "{'max': {'mean': {'days_ago_close_period': 5, 'rsi_open_period': 6, 'maperiod': 40}, 'order': {'days_ago_close_period': 5, 'rsi_open_period': 2, 'maperiod': 40}}, '12-month': {'mean': {'days_ago_close_period': 5, 'rsi_open_period': 4, 'maperiod': 35}, 'order': {'days_ago_close_period': 4, 'rsi_open_period': 2, 'maperiod': 35}}, '6-month': {'mean': {'days_ago_close_period': 2, 'rsi_open_period': 6, 'maperiod': 40}, 'order': {'days_ago_close_period': 4, 'rsi_open_period': 6, 'maperiod': 40}}}\n",
      "Parsing 22254 lines from 2000-01-01 00:00:00 to 2011-10-01 00:00:00\n"
     ]
    },
    {
     "name": "stderr",
     "output_type": "stream",
     "text": [
      "\r",
      " 56%|█████▋    | 142/252 [02:38<06:51,  3.74s/it]"
     ]
    },
    {
     "name": "stdout",
     "output_type": "stream",
     "text": [
      "Parsing 2730 lines from 2010-10-01 00:00:00 to 2011-10-01 00:00:00\n",
      "Parsing 1374 lines from 2011-04-01 00:00:00 to 2011-10-01 00:00:00\n",
      "11-10\n",
      "{'max': {'mean': {'days_ago_close_period': 5, 'rsi_open_period': 6, 'maperiod': 40}, 'order': {'days_ago_close_period': 5, 'rsi_open_period': 2, 'maperiod': 40}}, '12-month': {'mean': {'days_ago_close_period': 5, 'rsi_open_period': 4, 'maperiod': 35}, 'order': {'days_ago_close_period': 4, 'rsi_open_period': 2, 'maperiod': 35}}, '6-month': {'mean': {'days_ago_close_period': 4, 'rsi_open_period': 4, 'maperiod': 30}, 'order': {'days_ago_close_period': 4, 'rsi_open_period': 2, 'maperiod': 35}}}\n",
      "Parsing 22254 lines from 2000-01-01 00:00:00 to 2011-11-01 00:00:00\n"
     ]
    },
    {
     "name": "stderr",
     "output_type": "stream",
     "text": [
      "\r",
      " 57%|█████▋    | 143/252 [02:42<06:52,  3.78s/it]"
     ]
    },
    {
     "name": "stdout",
     "output_type": "stream",
     "text": [
      "Parsing 2586 lines from 2010-11-01 00:00:00 to 2011-11-01 00:00:00\n",
      "Parsing 1302 lines from 2011-05-01 00:00:00 to 2011-11-01 00:00:00\n",
      "11-11\n",
      "{'max': {'mean': {'days_ago_close_period': 5, 'rsi_open_period': 6, 'maperiod': 40}, 'order': {'days_ago_close_period': 5, 'rsi_open_period': 2, 'maperiod': 40}}, '12-month': {'mean': {'days_ago_close_period': 5, 'rsi_open_period': 2, 'maperiod': 35}, 'order': {'days_ago_close_period': 4, 'rsi_open_period': 2, 'maperiod': 35}}, '6-month': {'mean': {'days_ago_close_period': 4, 'rsi_open_period': 4, 'maperiod': 30}, 'order': {'days_ago_close_period': 4, 'rsi_open_period': 2, 'maperiod': 35}}}\n",
      "Parsing 22386 lines from 2000-01-01 00:00:00 to 2011-12-01 00:00:00\n"
     ]
    },
    {
     "name": "stderr",
     "output_type": "stream",
     "text": [
      "\r",
      " 57%|█████▋    | 144/252 [02:45<06:37,  3.68s/it]"
     ]
    },
    {
     "name": "stdout",
     "output_type": "stream",
     "text": [
      "Parsing 2508 lines from 2010-12-01 00:00:00 to 2011-12-01 00:00:00\n",
      "Parsing 1110 lines from 2011-06-01 00:00:00 to 2011-12-01 00:00:00\n",
      "11-12\n",
      "{'max': {'mean': {'days_ago_close_period': 5, 'rsi_open_period': 6, 'maperiod': 40}, 'order': {'days_ago_close_period': 5, 'rsi_open_period': 2, 'maperiod': 40}}, '12-month': {'mean': {'days_ago_close_period': 4, 'rsi_open_period': 2, 'maperiod': 35}, 'order': {'days_ago_close_period': 4, 'rsi_open_period': 2, 'maperiod': 35}}, '6-month': {'mean': {'days_ago_close_period': 4, 'rsi_open_period': 2, 'maperiod': 30}, 'order': {'days_ago_close_period': 4, 'rsi_open_period': 2, 'maperiod': 30}}}\n",
      "Parsing 22422 lines from 2000-01-01 00:00:00 to 2012-01-01 00:00:00\n"
     ]
    },
    {
     "name": "stderr",
     "output_type": "stream",
     "text": [
      "\r",
      " 58%|█████▊    | 145/252 [02:49<06:24,  3.59s/it]"
     ]
    },
    {
     "name": "stdout",
     "output_type": "stream",
     "text": [
      "Parsing 2400 lines from 2011-01-01 00:00:00 to 2012-01-01 00:00:00\n",
      "Parsing 690 lines from 2011-07-01 00:00:00 to 2012-01-01 00:00:00\n",
      "12-01\n",
      "{'max': {'mean': {'days_ago_close_period': 5, 'rsi_open_period': 6, 'maperiod': 40}, 'order': {'days_ago_close_period': 5, 'rsi_open_period': 2, 'maperiod': 40}}, '12-month': {'mean': {'days_ago_close_period': 4, 'rsi_open_period': 2, 'maperiod': 35}, 'order': {'days_ago_close_period': 4, 'rsi_open_period': 2, 'maperiod': 35}}, '6-month': {'mean': {'days_ago_close_period': 4, 'rsi_open_period': 2, 'maperiod': 30}, 'order': {'days_ago_close_period': 4, 'rsi_open_period': 2, 'maperiod': 30}}}\n",
      "Parsing 22530 lines from 2000-01-01 00:00:00 to 2012-02-01 00:00:00\n"
     ]
    },
    {
     "name": "stderr",
     "output_type": "stream",
     "text": [
      "\r",
      " 58%|█████▊    | 146/252 [02:52<06:14,  3.53s/it]"
     ]
    },
    {
     "name": "stdout",
     "output_type": "stream",
     "text": [
      "Parsing 2136 lines from 2011-02-01 00:00:00 to 2012-02-01 00:00:00\n",
      "Parsing 420 lines from 2011-08-01 00:00:00 to 2012-02-01 00:00:00\n",
      "12-02\n",
      "{'max': {'mean': {'days_ago_close_period': 5, 'rsi_open_period': 6, 'maperiod': 40}, 'order': {'days_ago_close_period': 5, 'rsi_open_period': 2, 'maperiod': 40}}, '12-month': {'mean': {'days_ago_close_period': 5, 'rsi_open_period': 2, 'maperiod': 35}, 'order': {'days_ago_close_period': 4, 'rsi_open_period': 2, 'maperiod': 35}}, '6-month': {'mean': {'days_ago_close_period': 5, 'rsi_open_period': 2, 'maperiod': 30}, 'order': {'days_ago_close_period': 5, 'rsi_open_period': 2, 'maperiod': 30}}}\n",
      "Parsing 22794 lines from 2000-01-01 00:00:00 to 2012-03-01 00:00:00\n"
     ]
    },
    {
     "name": "stderr",
     "output_type": "stream",
     "text": [
      "\r",
      " 58%|█████▊    | 147/252 [02:56<06:08,  3.51s/it]"
     ]
    },
    {
     "name": "stdout",
     "output_type": "stream",
     "text": [
      "Parsing 2220 lines from 2011-03-01 00:00:00 to 2012-03-01 00:00:00\n",
      "Parsing 684 lines from 2011-09-01 00:00:00 to 2012-03-01 00:00:00\n",
      "12-03\n",
      "{'max': {'mean': {'days_ago_close_period': 5, 'rsi_open_period': 6, 'maperiod': 40}, 'order': {'days_ago_close_period': 5, 'rsi_open_period': 2, 'maperiod': 40}}, '12-month': {'mean': {'days_ago_close_period': 5, 'rsi_open_period': 2, 'maperiod': 35}, 'order': {'days_ago_close_period': 4, 'rsi_open_period': 2, 'maperiod': 35}}, '6-month': {'mean': {'days_ago_close_period': 5, 'rsi_open_period': 2, 'maperiod': 50}, 'order': {'days_ago_close_period': 5, 'rsi_open_period': 2, 'maperiod': 50}}}\n",
      "Parsing 22842 lines from 2000-01-01 00:00:00 to 2012-04-01 00:00:00\n"
     ]
    },
    {
     "name": "stderr",
     "output_type": "stream",
     "text": [
      "\r",
      " 59%|█████▊    | 148/252 [02:59<06:02,  3.49s/it]"
     ]
    },
    {
     "name": "stdout",
     "output_type": "stream",
     "text": [
      "Parsing 1962 lines from 2011-04-01 00:00:00 to 2012-04-01 00:00:00\n",
      "Parsing 588 lines from 2011-10-01 00:00:00 to 2012-04-01 00:00:00\n",
      "12-04\n",
      "{'max': {'mean': {'days_ago_close_period': 5, 'rsi_open_period': 6, 'maperiod': 40}, 'order': {'days_ago_close_period': 5, 'rsi_open_period': 2, 'maperiod': 40}}, '12-month': {'mean': {'days_ago_close_period': 4, 'rsi_open_period': 4, 'maperiod': 30}, 'order': {'days_ago_close_period': 4, 'rsi_open_period': 2, 'maperiod': 30}}, '6-month': {'mean': {'days_ago_close_period': 1, 'rsi_open_period': 2, 'maperiod': 50}, 'order': {'days_ago_close_period': 1, 'rsi_open_period': 2, 'maperiod': 50}}}\n",
      "Parsing 23256 lines from 2000-01-01 00:00:00 to 2012-05-01 00:00:00\n"
     ]
    },
    {
     "name": "stderr",
     "output_type": "stream",
     "text": [
      "\r",
      " 59%|█████▉    | 149/252 [03:03<06:01,  3.51s/it]"
     ]
    },
    {
     "name": "stdout",
     "output_type": "stream",
     "text": [
      "Parsing 2304 lines from 2011-05-01 00:00:00 to 2012-05-01 00:00:00\n",
      "Parsing 1002 lines from 2011-11-01 00:00:00 to 2012-05-01 00:00:00\n",
      "12-05\n",
      "{'max': {'mean': {'days_ago_close_period': 5, 'rsi_open_period': 6, 'maperiod': 40}, 'order': {'days_ago_close_period': 5, 'rsi_open_period': 2, 'maperiod': 40}}, '12-month': {'mean': {'days_ago_close_period': 2, 'rsi_open_period': 6, 'maperiod': 40}, 'order': {'days_ago_close_period': 2, 'rsi_open_period': 2, 'maperiod': 30}}, '6-month': {'mean': {'days_ago_close_period': 0, 'rsi_open_period': 2, 'maperiod': 30}, 'order': {'days_ago_close_period': 2, 'rsi_open_period': 2, 'maperiod': 50}}}\n",
      "Parsing 23676 lines from 2000-01-01 00:00:00 to 2012-06-01 00:00:00\n"
     ]
    },
    {
     "name": "stderr",
     "output_type": "stream",
     "text": [
      "\r",
      " 60%|█████▉    | 150/252 [03:06<06:02,  3.56s/it]"
     ]
    },
    {
     "name": "stdout",
     "output_type": "stream",
     "text": [
      "Parsing 2400 lines from 2011-06-01 00:00:00 to 2012-06-01 00:00:00\n",
      "Parsing 1290 lines from 2011-12-01 00:00:00 to 2012-06-01 00:00:00\n",
      "12-06\n",
      "{'max': {'mean': {'days_ago_close_period': 5, 'rsi_open_period': 6, 'maperiod': 40}, 'order': {'days_ago_close_period': 5, 'rsi_open_period': 2, 'maperiod': 40}}, '12-month': {'mean': {'days_ago_close_period': 4, 'rsi_open_period': 2, 'maperiod': 30}, 'order': {'days_ago_close_period': 2, 'rsi_open_period': 2, 'maperiod': 50}}, '6-month': {'mean': {'days_ago_close_period': 2, 'rsi_open_period': 2, 'maperiod': 50}, 'order': {'days_ago_close_period': 4, 'rsi_open_period': 4, 'maperiod': 40}}}\n",
      "Parsing 23712 lines from 2000-01-01 00:00:00 to 2012-07-01 00:00:00\n"
     ]
    },
    {
     "name": "stderr",
     "output_type": "stream",
     "text": [
      "\r",
      " 60%|█████▉    | 151/252 [03:10<06:01,  3.58s/it]"
     ]
    },
    {
     "name": "stdout",
     "output_type": "stream",
     "text": [
      "Parsing 1980 lines from 2011-07-01 00:00:00 to 2012-07-01 00:00:00\n",
      "Parsing 1290 lines from 2012-01-01 00:00:00 to 2012-07-01 00:00:00\n",
      "12-07\n",
      "{'max': {'mean': {'days_ago_close_period': 5, 'rsi_open_period': 6, 'maperiod': 40}, 'order': {'days_ago_close_period': 5, 'rsi_open_period': 2, 'maperiod': 40}}, '12-month': {'mean': {'days_ago_close_period': 4, 'rsi_open_period': 2, 'maperiod': 30}, 'order': {'days_ago_close_period': 4, 'rsi_open_period': 2, 'maperiod': 50}}, '6-month': {'mean': {'days_ago_close_period': 2, 'rsi_open_period': 2, 'maperiod': 50}, 'order': {'days_ago_close_period': 4, 'rsi_open_period': 2, 'maperiod': 50}}}\n",
      "Parsing 23820 lines from 2000-01-01 00:00:00 to 2012-08-01 00:00:00\n"
     ]
    },
    {
     "name": "stderr",
     "output_type": "stream",
     "text": [
      "\r",
      " 60%|██████    | 152/252 [03:14<06:00,  3.61s/it]"
     ]
    },
    {
     "name": "stdout",
     "output_type": "stream",
     "text": [
      "Parsing 1710 lines from 2011-08-01 00:00:00 to 2012-08-01 00:00:00\n",
      "Parsing 1290 lines from 2012-02-01 00:00:00 to 2012-08-01 00:00:00\n",
      "12-08\n",
      "{'max': {'mean': {'days_ago_close_period': 5, 'rsi_open_period': 6, 'maperiod': 40}, 'order': {'days_ago_close_period': 5, 'rsi_open_period': 2, 'maperiod': 40}}, '12-month': {'mean': {'days_ago_close_period': 4, 'rsi_open_period': 2, 'maperiod': 50}, 'order': {'days_ago_close_period': 2, 'rsi_open_period': 2, 'maperiod': 50}}, '6-month': {'mean': {'days_ago_close_period': 2, 'rsi_open_period': 2, 'maperiod': 50}, 'order': {'days_ago_close_period': 4, 'rsi_open_period': 2, 'maperiod': 50}}}\n",
      "Parsing 23892 lines from 2000-01-01 00:00:00 to 2012-09-01 00:00:00\n"
     ]
    },
    {
     "name": "stderr",
     "output_type": "stream",
     "text": [
      "\r",
      " 61%|██████    | 153/252 [03:17<05:59,  3.63s/it]"
     ]
    },
    {
     "name": "stdout",
     "output_type": "stream",
     "text": [
      "Parsing 1782 lines from 2011-09-01 00:00:00 to 2012-09-01 00:00:00\n",
      "Parsing 1230 lines from 2012-03-01 00:00:00 to 2012-09-01 00:00:00\n",
      "12-09\n",
      "{'max': {'mean': {'days_ago_close_period': 5, 'rsi_open_period': 6, 'maperiod': 40}, 'order': {'days_ago_close_period': 5, 'rsi_open_period': 2, 'maperiod': 40}}, '12-month': {'mean': {'days_ago_close_period': 4, 'rsi_open_period': 2, 'maperiod': 50}, 'order': {'days_ago_close_period': 2, 'rsi_open_period': 2, 'maperiod': 50}}, '6-month': {'mean': {'days_ago_close_period': 2, 'rsi_open_period': 2, 'maperiod': 50}, 'order': {'days_ago_close_period': 4, 'rsi_open_period': 2, 'maperiod': 50}}}\n",
      "Parsing 24090 lines from 2000-01-01 00:00:00 to 2012-10-01 00:00:00\n"
     ]
    },
    {
     "name": "stderr",
     "output_type": "stream",
     "text": [
      "\r",
      " 61%|██████    | 154/252 [03:21<05:59,  3.66s/it]"
     ]
    },
    {
     "name": "stdout",
     "output_type": "stream",
     "text": [
      "Parsing 1836 lines from 2011-10-01 00:00:00 to 2012-10-01 00:00:00\n",
      "Parsing 1248 lines from 2012-04-01 00:00:00 to 2012-10-01 00:00:00\n",
      "12-10\n",
      "{'max': {'mean': {'days_ago_close_period': 5, 'rsi_open_period': 6, 'maperiod': 40}, 'order': {'days_ago_close_period': 5, 'rsi_open_period': 2, 'maperiod': 40}}, '12-month': {'mean': {'days_ago_close_period': 2, 'rsi_open_period': 2, 'maperiod': 50}, 'order': {'days_ago_close_period': 2, 'rsi_open_period': 2, 'maperiod': 50}}, '6-month': {'mean': {'days_ago_close_period': 2, 'rsi_open_period': 2, 'maperiod': 50}, 'order': {'days_ago_close_period': 4, 'rsi_open_period': 2, 'maperiod': 50}}}\n",
      "Parsing 24522 lines from 2000-01-01 00:00:00 to 2012-11-01 00:00:00\n"
     ]
    },
    {
     "name": "stderr",
     "output_type": "stream",
     "text": [
      "\r",
      " 62%|██████▏   | 155/252 [03:25<06:01,  3.72s/it]"
     ]
    },
    {
     "name": "stdout",
     "output_type": "stream",
     "text": [
      "Parsing 2268 lines from 2011-11-01 00:00:00 to 2012-11-01 00:00:00\n",
      "Parsing 1266 lines from 2012-05-01 00:00:00 to 2012-11-01 00:00:00\n",
      "12-11\n",
      "{'max': {'mean': {'days_ago_close_period': 5, 'rsi_open_period': 6, 'maperiod': 40}, 'order': {'days_ago_close_period': 5, 'rsi_open_period': 2, 'maperiod': 40}}, '12-month': {'mean': {'days_ago_close_period': 2, 'rsi_open_period': 2, 'maperiod': 50}, 'order': {'days_ago_close_period': 4, 'rsi_open_period': 2, 'maperiod': 50}}, '6-month': {'mean': {'days_ago_close_period': 4, 'rsi_open_period': 2, 'maperiod': 30}, 'order': {'days_ago_close_period': 4, 'rsi_open_period': 2, 'maperiod': 50}}}\n",
      "Parsing 24612 lines from 2000-01-01 00:00:00 to 2012-12-01 00:00:00\n"
     ]
    },
    {
     "name": "stderr",
     "output_type": "stream",
     "text": [
      "\r",
      " 62%|██████▏   | 156/252 [03:29<06:01,  3.76s/it]"
     ]
    },
    {
     "name": "stdout",
     "output_type": "stream",
     "text": [
      "Parsing 2226 lines from 2011-12-01 00:00:00 to 2012-12-01 00:00:00\n",
      "Parsing 936 lines from 2012-06-01 00:00:00 to 2012-12-01 00:00:00\n",
      "12-12\n",
      "{'max': {'mean': {'days_ago_close_period': 5, 'rsi_open_period': 6, 'maperiod': 40}, 'order': {'days_ago_close_period': 5, 'rsi_open_period': 2, 'maperiod': 40}}, '12-month': {'mean': {'days_ago_close_period': 2, 'rsi_open_period': 2, 'maperiod': 50}, 'order': {'days_ago_close_period': 4, 'rsi_open_period': 2, 'maperiod': 50}}, '6-month': {'mean': {'days_ago_close_period': 4, 'rsi_open_period': 6, 'maperiod': 50}, 'order': {'days_ago_close_period': 4, 'rsi_open_period': 2, 'maperiod': 50}}}\n",
      "Parsing 24738 lines from 2000-01-01 00:00:00 to 2013-01-01 00:00:00\n"
     ]
    },
    {
     "name": "stderr",
     "output_type": "stream",
     "text": [
      "\r",
      " 62%|██████▏   | 157/252 [03:33<06:02,  3.82s/it]"
     ]
    },
    {
     "name": "stdout",
     "output_type": "stream",
     "text": [
      "Parsing 2316 lines from 2012-01-01 00:00:00 to 2013-01-01 00:00:00\n",
      "Parsing 1026 lines from 2012-07-01 00:00:00 to 2013-01-01 00:00:00\n",
      "13-01\n",
      "{'max': {'mean': {'days_ago_close_period': 5, 'rsi_open_period': 6, 'maperiod': 40}, 'order': {'days_ago_close_period': 5, 'rsi_open_period': 2, 'maperiod': 40}}, '12-month': {'mean': {'days_ago_close_period': 2, 'rsi_open_period': 2, 'maperiod': 50}, 'order': {'days_ago_close_period': 4, 'rsi_open_period': 2, 'maperiod': 50}}, '6-month': {'mean': {'days_ago_close_period': 4, 'rsi_open_period': 6, 'maperiod': 50}, 'order': {'days_ago_close_period': 4, 'rsi_open_period': 2, 'maperiod': 50}}}\n",
      "Parsing 24846 lines from 2000-01-01 00:00:00 to 2013-02-01 00:00:00\n"
     ]
    },
    {
     "name": "stderr",
     "output_type": "stream",
     "text": [
      "\r",
      " 63%|██████▎   | 158/252 [03:37<06:06,  3.90s/it]"
     ]
    },
    {
     "name": "stdout",
     "output_type": "stream",
     "text": [
      "Parsing 2316 lines from 2012-02-01 00:00:00 to 2013-02-01 00:00:00\n",
      "Parsing 1026 lines from 2012-08-01 00:00:00 to 2013-02-01 00:00:00\n",
      "13-02\n",
      "{'max': {'mean': {'days_ago_close_period': 5, 'rsi_open_period': 6, 'maperiod': 40}, 'order': {'days_ago_close_period': 5, 'rsi_open_period': 2, 'maperiod': 40}}, '12-month': {'mean': {'days_ago_close_period': 2, 'rsi_open_period': 2, 'maperiod': 50}, 'order': {'days_ago_close_period': 4, 'rsi_open_period': 2, 'maperiod': 50}}, '6-month': {'mean': {'days_ago_close_period': 4, 'rsi_open_period': 6, 'maperiod': 50}, 'order': {'days_ago_close_period': 5, 'rsi_open_period': 2, 'maperiod': 50}}}\n",
      "Parsing 24954 lines from 2000-01-01 00:00:00 to 2013-03-01 00:00:00\n"
     ]
    },
    {
     "name": "stderr",
     "output_type": "stream",
     "text": [
      "\r",
      " 63%|██████▎   | 159/252 [03:41<06:06,  3.94s/it]"
     ]
    },
    {
     "name": "stdout",
     "output_type": "stream",
     "text": [
      "Parsing 2292 lines from 2012-03-01 00:00:00 to 2013-03-01 00:00:00\n",
      "Parsing 1062 lines from 2012-09-01 00:00:00 to 2013-03-01 00:00:00\n",
      "13-03\n",
      "{'max': {'mean': {'days_ago_close_period': 5, 'rsi_open_period': 6, 'maperiod': 40}, 'order': {'days_ago_close_period': 5, 'rsi_open_period': 2, 'maperiod': 40}}, '12-month': {'mean': {'days_ago_close_period': 2, 'rsi_open_period': 2, 'maperiod': 50}, 'order': {'days_ago_close_period': 4, 'rsi_open_period': 2, 'maperiod': 50}}, '6-month': {'mean': {'days_ago_close_period': 4, 'rsi_open_period': 6, 'maperiod': 50}, 'order': {'days_ago_close_period': 5, 'rsi_open_period': 2, 'maperiod': 50}}}\n",
      "Parsing 25026 lines from 2000-01-01 00:00:00 to 2013-04-01 00:00:00\n"
     ]
    },
    {
     "name": "stderr",
     "output_type": "stream",
     "text": [
      "\r",
      " 63%|██████▎   | 160/252 [03:45<06:05,  3.98s/it]"
     ]
    },
    {
     "name": "stdout",
     "output_type": "stream",
     "text": [
      "Parsing 2184 lines from 2012-04-01 00:00:00 to 2013-04-01 00:00:00\n",
      "Parsing 936 lines from 2012-10-01 00:00:00 to 2013-04-01 00:00:00\n",
      "13-04\n",
      "{'max': {'mean': {'days_ago_close_period': 5, 'rsi_open_period': 6, 'maperiod': 40}, 'order': {'days_ago_close_period': 5, 'rsi_open_period': 2, 'maperiod': 40}}, '12-month': {'mean': {'days_ago_close_period': 4, 'rsi_open_period': 6, 'maperiod': 50}, 'order': {'days_ago_close_period': 4, 'rsi_open_period': 2, 'maperiod': 50}}, '6-month': {'mean': {'days_ago_close_period': 5, 'rsi_open_period': 4, 'maperiod': 40}, 'order': {'days_ago_close_period': 5, 'rsi_open_period': 2, 'maperiod': 50}}}\n",
      "Parsing 25134 lines from 2000-01-01 00:00:00 to 2013-05-01 00:00:00\n"
     ]
    },
    {
     "name": "stderr",
     "output_type": "stream",
     "text": [
      "\r",
      " 64%|██████▍   | 161/252 [03:49<06:04,  4.01s/it]"
     ]
    },
    {
     "name": "stdout",
     "output_type": "stream",
     "text": [
      "Parsing 1878 lines from 2012-05-01 00:00:00 to 2013-05-01 00:00:00\n",
      "Parsing 708 lines from 2012-11-01 00:00:00 to 2013-05-01 00:00:00\n",
      "13-05\n",
      "{'max': {'mean': {'days_ago_close_period': 5, 'rsi_open_period': 6, 'maperiod': 40}, 'order': {'days_ago_close_period': 5, 'rsi_open_period': 2, 'maperiod': 40}}, '12-month': {'mean': {'days_ago_close_period': 5, 'rsi_open_period': 2, 'maperiod': 50}, 'order': {'days_ago_close_period': 4, 'rsi_open_period': 2, 'maperiod': 50}}, '6-month': {'mean': {'days_ago_close_period': 5, 'rsi_open_period': 4, 'maperiod': 40}, 'order': {'days_ago_close_period': 5, 'rsi_open_period': 2, 'maperiod': 50}}}\n",
      "Parsing 25674 lines from 2000-01-01 00:00:00 to 2013-06-01 00:00:00\n"
     ]
    },
    {
     "name": "stderr",
     "output_type": "stream",
     "text": [
      "\r",
      " 64%|██████▍   | 162/252 [03:53<06:07,  4.09s/it]"
     ]
    },
    {
     "name": "stdout",
     "output_type": "stream",
     "text": [
      "Parsing 1998 lines from 2012-06-01 00:00:00 to 2013-06-01 00:00:00\n",
      "Parsing 1062 lines from 2012-12-01 00:00:00 to 2013-06-01 00:00:00\n",
      "13-06\n",
      "{'max': {'mean': {'days_ago_close_period': 5, 'rsi_open_period': 6, 'maperiod': 40}, 'order': {'days_ago_close_period': 5, 'rsi_open_period': 2, 'maperiod': 40}}, '12-month': {'mean': {'days_ago_close_period': 5, 'rsi_open_period': 4, 'maperiod': 30}, 'order': {'days_ago_close_period': 5, 'rsi_open_period': 2, 'maperiod': 50}}, '6-month': {'mean': {'days_ago_close_period': 5, 'rsi_open_period': 4, 'maperiod': 30}, 'order': {'days_ago_close_period': 5, 'rsi_open_period': 2, 'maperiod': 45}}}\n",
      "Parsing 25962 lines from 2000-01-01 00:00:00 to 2013-07-01 00:00:00\n"
     ]
    },
    {
     "name": "stderr",
     "output_type": "stream",
     "text": [
      "\r",
      " 65%|██████▍   | 163/252 [03:58<06:11,  4.18s/it]"
     ]
    },
    {
     "name": "stdout",
     "output_type": "stream",
     "text": [
      "Parsing 2250 lines from 2012-07-01 00:00:00 to 2013-07-01 00:00:00\n",
      "Parsing 1224 lines from 2013-01-01 00:00:00 to 2013-07-01 00:00:00\n",
      "13-07\n",
      "{'max': {'mean': {'days_ago_close_period': 5, 'rsi_open_period': 6, 'maperiod': 40}, 'order': {'days_ago_close_period': 5, 'rsi_open_period': 2, 'maperiod': 40}}, '12-month': {'mean': {'days_ago_close_period': 5, 'rsi_open_period': 6, 'maperiod': 50}, 'order': {'days_ago_close_period': 5, 'rsi_open_period': 2, 'maperiod': 50}}, '6-month': {'mean': {'days_ago_close_period': 5, 'rsi_open_period': 4, 'maperiod': 30}, 'order': {'days_ago_close_period': 5, 'rsi_open_period': 2, 'maperiod': 50}}}\n",
      "Parsing 26118 lines from 2000-01-01 00:00:00 to 2013-08-01 00:00:00\n"
     ]
    },
    {
     "name": "stderr",
     "output_type": "stream",
     "text": [
      "\r",
      " 65%|██████▌   | 164/252 [04:02<06:13,  4.24s/it]"
     ]
    },
    {
     "name": "stdout",
     "output_type": "stream",
     "text": [
      "Parsing 2298 lines from 2012-08-01 00:00:00 to 2013-08-01 00:00:00\n",
      "Parsing 1272 lines from 2013-02-01 00:00:00 to 2013-08-01 00:00:00\n",
      "13-08\n",
      "{'max': {'mean': {'days_ago_close_period': 5, 'rsi_open_period': 6, 'maperiod': 40}, 'order': {'days_ago_close_period': 5, 'rsi_open_period': 2, 'maperiod': 40}}, '12-month': {'mean': {'days_ago_close_period': 5, 'rsi_open_period': 6, 'maperiod': 50}, 'order': {'days_ago_close_period': 5, 'rsi_open_period': 2, 'maperiod': 50}}, '6-month': {'mean': {'days_ago_close_period': 5, 'rsi_open_period': 4, 'maperiod': 30}, 'order': {'days_ago_close_period': 5, 'rsi_open_period': 2, 'maperiod': 50}}}\n",
      "Parsing 26694 lines from 2000-01-01 00:00:00 to 2013-09-01 00:00:00\n"
     ]
    },
    {
     "name": "stderr",
     "output_type": "stream",
     "text": [
      "\r",
      " 65%|██████▌   | 165/252 [04:07<06:18,  4.35s/it]"
     ]
    },
    {
     "name": "stdout",
     "output_type": "stream",
     "text": [
      "Parsing 2802 lines from 2012-09-01 00:00:00 to 2013-09-01 00:00:00\n",
      "Parsing 1740 lines from 2013-03-01 00:00:00 to 2013-09-01 00:00:00\n",
      "13-09\n",
      "{'max': {'mean': {'days_ago_close_period': 5, 'rsi_open_period': 6, 'maperiod': 40}, 'order': {'days_ago_close_period': 5, 'rsi_open_period': 2, 'maperiod': 40}}, '12-month': {'mean': {'days_ago_close_period': 5, 'rsi_open_period': 6, 'maperiod': 50}, 'order': {'days_ago_close_period': 5, 'rsi_open_period': 2, 'maperiod': 50}}, '6-month': {'mean': {'days_ago_close_period': 5, 'rsi_open_period': 4, 'maperiod': 30}, 'order': {'days_ago_close_period': 5, 'rsi_open_period': 2, 'maperiod': 50}}}\n",
      "Parsing 26694 lines from 2000-01-01 00:00:00 to 2013-10-01 00:00:00\n"
     ]
    },
    {
     "name": "stderr",
     "output_type": "stream",
     "text": [
      "\r",
      " 66%|██████▌   | 166/252 [04:11<06:20,  4.42s/it]"
     ]
    },
    {
     "name": "stdout",
     "output_type": "stream",
     "text": [
      "Parsing 2604 lines from 2012-10-01 00:00:00 to 2013-10-01 00:00:00\n",
      "Parsing 1668 lines from 2013-04-01 00:00:00 to 2013-10-01 00:00:00\n",
      "13-10\n",
      "{'max': {'mean': {'days_ago_close_period': 5, 'rsi_open_period': 6, 'maperiod': 40}, 'order': {'days_ago_close_period': 5, 'rsi_open_period': 2, 'maperiod': 40}}, '12-month': {'mean': {'days_ago_close_period': 5, 'rsi_open_period': 4, 'maperiod': 30}, 'order': {'days_ago_close_period': 5, 'rsi_open_period': 2, 'maperiod': 50}}, '6-month': {'mean': {'days_ago_close_period': 5, 'rsi_open_period': 4, 'maperiod': 30}, 'order': {'days_ago_close_period': 4, 'rsi_open_period': 2, 'maperiod': 50}}}\n",
      "Parsing 26976 lines from 2000-01-01 00:00:00 to 2013-11-01 00:00:00\n"
     ]
    },
    {
     "name": "stderr",
     "output_type": "stream",
     "text": [
      "\r",
      " 66%|██████▋   | 167/252 [04:16<06:20,  4.48s/it]"
     ]
    },
    {
     "name": "stdout",
     "output_type": "stream",
     "text": [
      "Parsing 2550 lines from 2012-11-01 00:00:00 to 2013-11-01 00:00:00\n",
      "Parsing 1842 lines from 2013-05-01 00:00:00 to 2013-11-01 00:00:00\n",
      "13-11\n",
      "{'max': {'mean': {'days_ago_close_period': 5, 'rsi_open_period': 6, 'maperiod': 40}, 'order': {'days_ago_close_period': 5, 'rsi_open_period': 2, 'maperiod': 40}}, '12-month': {'mean': {'days_ago_close_period': 5, 'rsi_open_period': 4, 'maperiod': 30}, 'order': {'days_ago_close_period': 5, 'rsi_open_period': 2, 'maperiod': 55}}, '6-month': {'mean': {'days_ago_close_period': 5, 'rsi_open_period': 4, 'maperiod': 30}, 'order': {'days_ago_close_period': 4, 'rsi_open_period': 2, 'maperiod': 55}}}\n",
      "Parsing 27192 lines from 2000-01-01 00:00:00 to 2013-12-01 00:00:00\n"
     ]
    },
    {
     "name": "stderr",
     "output_type": "stream",
     "text": [
      "\r",
      " 67%|██████▋   | 168/252 [04:20<06:18,  4.51s/it]"
     ]
    },
    {
     "name": "stdout",
     "output_type": "stream",
     "text": [
      "Parsing 2580 lines from 2012-12-01 00:00:00 to 2013-12-01 00:00:00\n",
      "Parsing 1518 lines from 2013-06-01 00:00:00 to 2013-12-01 00:00:00\n",
      "13-12\n",
      "{'max': {'mean': {'days_ago_close_period': 5, 'rsi_open_period': 6, 'maperiod': 40}, 'order': {'days_ago_close_period': 5, 'rsi_open_period': 2, 'maperiod': 40}}, '12-month': {'mean': {'days_ago_close_period': 5, 'rsi_open_period': 4, 'maperiod': 30}, 'order': {'days_ago_close_period': 5, 'rsi_open_period': 2, 'maperiod': 55}}, '6-month': {'mean': {'days_ago_close_period': 4, 'rsi_open_period': 4, 'maperiod': 30}, 'order': {'days_ago_close_period': 4, 'rsi_open_period': 2, 'maperiod': 55}}}\n",
      "Parsing 27372 lines from 2000-01-01 00:00:00 to 2014-01-01 00:00:00\n"
     ]
    },
    {
     "name": "stderr",
     "output_type": "stream",
     "text": [
      "\r",
      " 67%|██████▋   | 169/252 [04:25<06:16,  4.54s/it]"
     ]
    },
    {
     "name": "stdout",
     "output_type": "stream",
     "text": [
      "Parsing 2634 lines from 2013-01-01 00:00:00 to 2014-01-01 00:00:00\n",
      "Parsing 1410 lines from 2013-07-01 00:00:00 to 2014-01-01 00:00:00\n",
      "14-01\n",
      "{'max': {'mean': {'days_ago_close_period': 5, 'rsi_open_period': 6, 'maperiod': 40}, 'order': {'days_ago_close_period': 5, 'rsi_open_period': 2, 'maperiod': 40}}, '12-month': {'mean': {'days_ago_close_period': 5, 'rsi_open_period': 4, 'maperiod': 30}, 'order': {'days_ago_close_period': 5, 'rsi_open_period': 2, 'maperiod': 55}}, '6-month': {'mean': {'days_ago_close_period': 4, 'rsi_open_period': 4, 'maperiod': 30}, 'order': {'days_ago_close_period': 4, 'rsi_open_period': 2, 'maperiod': 55}}}\n",
      "Parsing 28026 lines from 2000-01-01 00:00:00 to 2014-02-01 00:00:00\n"
     ]
    },
    {
     "name": "stderr",
     "output_type": "stream",
     "text": [
      "\r",
      " 67%|██████▋   | 170/252 [04:30<06:20,  4.64s/it]"
     ]
    },
    {
     "name": "stdout",
     "output_type": "stream",
     "text": [
      "Parsing 3180 lines from 2013-02-01 00:00:00 to 2014-02-01 00:00:00\n",
      "Parsing 1992 lines from 2013-08-01 00:00:00 to 2014-02-01 00:00:00\n",
      "14-02\n",
      "{'max': {'mean': {'days_ago_close_period': 5, 'rsi_open_period': 6, 'maperiod': 40}, 'order': {'days_ago_close_period': 5, 'rsi_open_period': 2, 'maperiod': 40}}, '12-month': {'mean': {'days_ago_close_period': 5, 'rsi_open_period': 4, 'maperiod': 30}, 'order': {'days_ago_close_period': 5, 'rsi_open_period': 2, 'maperiod': 55}}, '6-month': {'mean': {'days_ago_close_period': 4, 'rsi_open_period': 4, 'maperiod': 30}, 'order': {'days_ago_close_period': 4, 'rsi_open_period': 2, 'maperiod': 55}}}\n",
      "Parsing 28026 lines from 2000-01-01 00:00:00 to 2014-03-01 00:00:00\n"
     ]
    },
    {
     "name": "stderr",
     "output_type": "stream",
     "text": [
      "\r",
      " 68%|██████▊   | 171/252 [04:35<06:28,  4.80s/it]"
     ]
    },
    {
     "name": "stdout",
     "output_type": "stream",
     "text": [
      "Parsing 3072 lines from 2013-03-01 00:00:00 to 2014-03-01 00:00:00\n",
      "Parsing 1332 lines from 2013-09-01 00:00:00 to 2014-03-01 00:00:00\n",
      "14-03\n",
      "{'max': {'mean': {'days_ago_close_period': 5, 'rsi_open_period': 6, 'maperiod': 40}, 'order': {'days_ago_close_period': 5, 'rsi_open_period': 2, 'maperiod': 40}}, '12-month': {'mean': {'days_ago_close_period': 5, 'rsi_open_period': 4, 'maperiod': 30}, 'order': {'days_ago_close_period': 4, 'rsi_open_period': 2, 'maperiod': 55}}, '6-month': {'mean': {'days_ago_close_period': 4, 'rsi_open_period': 4, 'maperiod': 55}, 'order': {'days_ago_close_period': 4, 'rsi_open_period': 2, 'maperiod': 55}}}\n",
      "Parsing 28326 lines from 2000-01-01 00:00:00 to 2014-04-01 00:00:00\n"
     ]
    },
    {
     "name": "stderr",
     "output_type": "stream",
     "text": [
      "\r",
      " 68%|██████▊   | 172/252 [04:40<06:31,  4.90s/it]"
     ]
    },
    {
     "name": "stdout",
     "output_type": "stream",
     "text": [
      "Parsing 3300 lines from 2013-04-01 00:00:00 to 2014-04-01 00:00:00\n",
      "Parsing 1632 lines from 2013-10-01 00:00:00 to 2014-04-01 00:00:00\n",
      "14-04\n",
      "{'max': {'mean': {'days_ago_close_period': 5, 'rsi_open_period': 6, 'maperiod': 40}, 'order': {'days_ago_close_period': 5, 'rsi_open_period': 2, 'maperiod': 40}}, '12-month': {'mean': {'days_ago_close_period': 5, 'rsi_open_period': 4, 'maperiod': 30}, 'order': {'days_ago_close_period': 4, 'rsi_open_period': 2, 'maperiod': 55}}, '6-month': {'mean': {'days_ago_close_period': 5, 'rsi_open_period': 4, 'maperiod': 55}, 'order': {'days_ago_close_period': 5, 'rsi_open_period': 2, 'maperiod': 55}}}\n",
      "Parsing 28542 lines from 2000-01-01 00:00:00 to 2014-05-01 00:00:00\n"
     ]
    },
    {
     "name": "stderr",
     "output_type": "stream",
     "text": [
      "\r",
      " 69%|██████▊   | 173/252 [04:45<06:30,  4.94s/it]"
     ]
    },
    {
     "name": "stdout",
     "output_type": "stream",
     "text": [
      "Parsing 3408 lines from 2013-05-01 00:00:00 to 2014-05-01 00:00:00\n",
      "Parsing 1566 lines from 2013-11-01 00:00:00 to 2014-05-01 00:00:00\n",
      "14-05\n",
      "{'max': {'mean': {'days_ago_close_period': 5, 'rsi_open_period': 6, 'maperiod': 40}, 'order': {'days_ago_close_period': 5, 'rsi_open_period': 2, 'maperiod': 40}}, '12-month': {'mean': {'days_ago_close_period': 5, 'rsi_open_period': 6, 'maperiod': 40}, 'order': {'days_ago_close_period': 5, 'rsi_open_period': 2, 'maperiod': 55}}, '6-month': {'mean': {'days_ago_close_period': 5, 'rsi_open_period': 6, 'maperiod': 40}, 'order': {'days_ago_close_period': 5, 'rsi_open_period': 2, 'maperiod': 55}}}\n",
      "Parsing 28698 lines from 2000-01-01 00:00:00 to 2014-06-01 00:00:00\n"
     ]
    },
    {
     "name": "stderr",
     "output_type": "stream",
     "text": [
      "\r",
      " 69%|██████▉   | 174/252 [04:50<06:28,  4.99s/it]"
     ]
    },
    {
     "name": "stdout",
     "output_type": "stream",
     "text": [
      "Parsing 3024 lines from 2013-06-01 00:00:00 to 2014-06-01 00:00:00\n",
      "Parsing 1506 lines from 2013-12-01 00:00:00 to 2014-06-01 00:00:00\n",
      "14-06\n",
      "{'max': {'mean': {'days_ago_close_period': 5, 'rsi_open_period': 6, 'maperiod': 40}, 'order': {'days_ago_close_period': 5, 'rsi_open_period': 2, 'maperiod': 40}}, '12-month': {'mean': {'days_ago_close_period': 4, 'rsi_open_period': 6, 'maperiod': 40}, 'order': {'days_ago_close_period': 4, 'rsi_open_period': 2, 'maperiod': 55}}, '6-month': {'mean': {'days_ago_close_period': 5, 'rsi_open_period': 6, 'maperiod': 40}, 'order': {'days_ago_close_period': 5, 'rsi_open_period': 2, 'maperiod': 55}}}\n",
      "Parsing 28734 lines from 2000-01-01 00:00:00 to 2014-07-01 00:00:00\n"
     ]
    },
    {
     "name": "stderr",
     "output_type": "stream",
     "text": [
      "\r",
      " 69%|██████▉   | 175/252 [04:56<06:31,  5.08s/it]"
     ]
    },
    {
     "name": "stdout",
     "output_type": "stream",
     "text": [
      "Parsing 2772 lines from 2013-07-01 00:00:00 to 2014-07-01 00:00:00\n",
      "Parsing 1362 lines from 2014-01-01 00:00:00 to 2014-07-01 00:00:00\n",
      "14-07\n",
      "{'max': {'mean': {'days_ago_close_period': 5, 'rsi_open_period': 6, 'maperiod': 40}, 'order': {'days_ago_close_period': 5, 'rsi_open_period': 2, 'maperiod': 40}}, '12-month': {'mean': {'days_ago_close_period': 5, 'rsi_open_period': 6, 'maperiod': 40}, 'order': {'days_ago_close_period': 4, 'rsi_open_period': 2, 'maperiod': 55}}, '6-month': {'mean': {'days_ago_close_period': 5, 'rsi_open_period': 6, 'maperiod': 40}, 'order': {'days_ago_close_period': 5, 'rsi_open_period': 2, 'maperiod': 55}}}\n",
      "Parsing 29490 lines from 2000-01-01 00:00:00 to 2014-08-01 00:00:00\n"
     ]
    },
    {
     "name": "stderr",
     "output_type": "stream",
     "text": [
      "\r",
      " 70%|██████▉   | 176/252 [05:01<06:42,  5.30s/it]"
     ]
    },
    {
     "name": "stdout",
     "output_type": "stream",
     "text": [
      "Parsing 3456 lines from 2013-08-01 00:00:00 to 2014-08-01 00:00:00\n",
      "Parsing 1464 lines from 2014-02-01 00:00:00 to 2014-08-01 00:00:00\n",
      "14-08\n",
      "{'max': {'mean': {'days_ago_close_period': 5, 'rsi_open_period': 6, 'maperiod': 40}, 'order': {'days_ago_close_period': 5, 'rsi_open_period': 2, 'maperiod': 40}}, '12-month': {'mean': {'days_ago_close_period': 4, 'rsi_open_period': 6, 'maperiod': 40}, 'order': {'days_ago_close_period': 4, 'rsi_open_period': 2, 'maperiod': 55}}, '6-month': {'mean': {'days_ago_close_period': 5, 'rsi_open_period': 6, 'maperiod': 40}, 'order': {'days_ago_close_period': 5, 'rsi_open_period': 2, 'maperiod': 55}}}\n",
      "Parsing 29490 lines from 2000-01-01 00:00:00 to 2014-09-01 00:00:00\n"
     ]
    },
    {
     "name": "stderr",
     "output_type": "stream",
     "text": [
      "\r",
      " 70%|███████   | 177/252 [05:07<06:53,  5.51s/it]"
     ]
    },
    {
     "name": "stdout",
     "output_type": "stream",
     "text": [
      "Parsing 2796 lines from 2013-09-01 00:00:00 to 2014-09-01 00:00:00\n",
      "Parsing 1464 lines from 2014-03-01 00:00:00 to 2014-09-01 00:00:00\n",
      "14-09\n",
      "{'max': {'mean': {'days_ago_close_period': 5, 'rsi_open_period': 6, 'maperiod': 40}, 'order': {'days_ago_close_period': 5, 'rsi_open_period': 2, 'maperiod': 40}}, '12-month': {'mean': {'days_ago_close_period': 5, 'rsi_open_period': 6, 'maperiod': 40}, 'order': {'days_ago_close_period': 5, 'rsi_open_period': 2, 'maperiod': 55}}, '6-month': {'mean': {'days_ago_close_period': 5, 'rsi_open_period': 6, 'maperiod': 40}, 'order': {'days_ago_close_period': 5, 'rsi_open_period': 2, 'maperiod': 55}}}\n",
      "Parsing 30078 lines from 2000-01-01 00:00:00 to 2014-10-01 00:00:00\n"
     ]
    },
    {
     "name": "stderr",
     "output_type": "stream",
     "text": [
      "\r",
      " 71%|███████   | 178/252 [05:14<07:17,  5.92s/it]"
     ]
    },
    {
     "name": "stdout",
     "output_type": "stream",
     "text": [
      "Parsing 3384 lines from 2013-10-01 00:00:00 to 2014-10-01 00:00:00\n",
      "Parsing 1752 lines from 2014-04-01 00:00:00 to 2014-10-01 00:00:00\n",
      "14-10\n",
      "{'max': {'mean': {'days_ago_close_period': 5, 'rsi_open_period': 6, 'maperiod': 45}, 'order': {'days_ago_close_period': 5, 'rsi_open_period': 2, 'maperiod': 40}}, '12-month': {'mean': {'days_ago_close_period': 5, 'rsi_open_period': 6, 'maperiod': 55}, 'order': {'days_ago_close_period': 5, 'rsi_open_period': 2, 'maperiod': 55}}, '6-month': {'mean': {'days_ago_close_period': 5, 'rsi_open_period': 6, 'maperiod': 55}, 'order': {'days_ago_close_period': 5, 'rsi_open_period': 4, 'maperiod': 55}}}\n",
      "Parsing 30162 lines from 2000-01-01 00:00:00 to 2014-11-01 00:00:00\n"
     ]
    },
    {
     "name": "stderr",
     "output_type": "stream",
     "text": [
      "\r",
      " 71%|███████   | 179/252 [05:22<07:45,  6.38s/it]"
     ]
    },
    {
     "name": "stdout",
     "output_type": "stream",
     "text": [
      "Parsing 3186 lines from 2013-11-01 00:00:00 to 2014-11-01 00:00:00\n",
      "Parsing 1644 lines from 2014-05-01 00:00:00 to 2014-11-01 00:00:00\n",
      "14-11\n",
      "{'max': {'mean': {'days_ago_close_period': 5, 'rsi_open_period': 6, 'maperiod': 45}, 'order': {'days_ago_close_period': 5, 'rsi_open_period': 2, 'maperiod': 40}}, '12-month': {'mean': {'days_ago_close_period': 5, 'rsi_open_period': 6, 'maperiod': 55}, 'order': {'days_ago_close_period': 5, 'rsi_open_period': 2, 'maperiod': 55}}, '6-month': {'mean': {'days_ago_close_period': 5, 'rsi_open_period': 6, 'maperiod': 55}, 'order': {'days_ago_close_period': 5, 'rsi_open_period': 2, 'maperiod': 55}}}\n",
      "Parsing 30162 lines from 2000-01-01 00:00:00 to 2014-12-01 00:00:00\n"
     ]
    },
    {
     "name": "stderr",
     "output_type": "stream",
     "text": [
      "\r",
      " 71%|███████▏  | 180/252 [05:29<08:00,  6.67s/it]"
     ]
    },
    {
     "name": "stdout",
     "output_type": "stream",
     "text": [
      "Parsing 2970 lines from 2013-12-01 00:00:00 to 2014-12-01 00:00:00\n",
      "Parsing 1464 lines from 2014-06-01 00:00:00 to 2014-12-01 00:00:00\n",
      "14-12\n",
      "{'max': {'mean': {'days_ago_close_period': 5, 'rsi_open_period': 6, 'maperiod': 45}, 'order': {'days_ago_close_period': 5, 'rsi_open_period': 2, 'maperiod': 40}}, '12-month': {'mean': {'days_ago_close_period': 5, 'rsi_open_period': 6, 'maperiod': 55}, 'order': {'days_ago_close_period': 5, 'rsi_open_period': 2, 'maperiod': 55}}, '6-month': {'mean': {'days_ago_close_period': 5, 'rsi_open_period': 4, 'maperiod': 55}, 'order': {'days_ago_close_period': 5, 'rsi_open_period': 2, 'maperiod': 45}}}\n",
      "Parsing 30414 lines from 2000-01-01 00:00:00 to 2015-01-01 00:00:00\n"
     ]
    },
    {
     "name": "stderr",
     "output_type": "stream",
     "text": [
      "\r",
      " 72%|███████▏  | 181/252 [05:37<08:15,  6.98s/it]"
     ]
    },
    {
     "name": "stdout",
     "output_type": "stream",
     "text": [
      "Parsing 3042 lines from 2014-01-01 00:00:00 to 2015-01-01 00:00:00\n",
      "Parsing 1680 lines from 2014-07-01 00:00:00 to 2015-01-01 00:00:00\n",
      "15-01\n",
      "{'max': {'mean': {'days_ago_close_period': 5, 'rsi_open_period': 6, 'maperiod': 45}, 'order': {'days_ago_close_period': 5, 'rsi_open_period': 2, 'maperiod': 40}}, '12-month': {'mean': {'days_ago_close_period': 5, 'rsi_open_period': 4, 'maperiod': 55}, 'order': {'days_ago_close_period': 5, 'rsi_open_period': 4, 'maperiod': 55}}, '6-month': {'mean': {'days_ago_close_period': 5, 'rsi_open_period': 4, 'maperiod': 55}, 'order': {'days_ago_close_period': 5, 'rsi_open_period': 4, 'maperiod': 55}}}\n",
      "Parsing 30594 lines from 2000-01-01 00:00:00 to 2015-02-01 00:00:00\n"
     ]
    },
    {
     "name": "stderr",
     "output_type": "stream",
     "text": [
      "\r",
      " 72%|███████▏  | 182/252 [05:44<08:15,  7.07s/it]"
     ]
    },
    {
     "name": "stdout",
     "output_type": "stream",
     "text": [
      "Parsing 2568 lines from 2014-02-01 00:00:00 to 2015-02-01 00:00:00\n",
      "Parsing 1104 lines from 2014-08-01 00:00:00 to 2015-02-01 00:00:00\n",
      "15-02\n",
      "{'max': {'mean': {'days_ago_close_period': 5, 'rsi_open_period': 6, 'maperiod': 45}, 'order': {'days_ago_close_period': 5, 'rsi_open_period': 2, 'maperiod': 40}}, '12-month': {'mean': {'days_ago_close_period': 5, 'rsi_open_period': 6, 'maperiod': 55}, 'order': {'days_ago_close_period': 5, 'rsi_open_period': 4, 'maperiod': 55}}, '6-month': {'mean': {'days_ago_close_period': 5, 'rsi_open_period': 4, 'maperiod': 35}, 'order': {'days_ago_close_period': 5, 'rsi_open_period': 4, 'maperiod': 35}}}\n",
      "Parsing 30702 lines from 2000-01-01 00:00:00 to 2015-03-01 00:00:00\n"
     ]
    },
    {
     "name": "stderr",
     "output_type": "stream",
     "text": [
      "\r",
      " 73%|███████▎  | 183/252 [05:51<07:54,  6.88s/it]"
     ]
    },
    {
     "name": "stdout",
     "output_type": "stream",
     "text": [
      "Parsing 2676 lines from 2014-03-01 00:00:00 to 2015-03-01 00:00:00\n",
      "Parsing 1212 lines from 2014-09-01 00:00:00 to 2015-03-01 00:00:00\n",
      "15-03\n",
      "{'max': {'mean': {'days_ago_close_period': 5, 'rsi_open_period': 6, 'maperiod': 45}, 'order': {'days_ago_close_period': 5, 'rsi_open_period': 2, 'maperiod': 40}}, '12-month': {'mean': {'days_ago_close_period': 5, 'rsi_open_period': 6, 'maperiod': 55}, 'order': {'days_ago_close_period': 5, 'rsi_open_period': 4, 'maperiod': 55}}, '6-month': {'mean': {'days_ago_close_period': 5, 'rsi_open_period': 4, 'maperiod': 35}, 'order': {'days_ago_close_period': 5, 'rsi_open_period': 4, 'maperiod': 35}}}\n",
      "Parsing 31014 lines from 2000-01-01 00:00:00 to 2015-04-01 00:00:00\n"
     ]
    },
    {
     "name": "stderr",
     "output_type": "stream",
     "text": [
      "\r",
      " 73%|███████▎  | 184/252 [05:57<07:37,  6.73s/it]"
     ]
    },
    {
     "name": "stdout",
     "output_type": "stream",
     "text": [
      "Parsing 2688 lines from 2014-04-01 00:00:00 to 2015-04-01 00:00:00\n",
      "Parsing 936 lines from 2014-10-01 00:00:00 to 2015-04-01 00:00:00\n",
      "15-04\n",
      "{'max': {'mean': {'days_ago_close_period': 5, 'rsi_open_period': 6, 'maperiod': 45}, 'order': {'days_ago_close_period': 5, 'rsi_open_period': 2, 'maperiod': 40}}, '12-month': {'mean': {'days_ago_close_period': 5, 'rsi_open_period': 6, 'maperiod': 55}, 'order': {'days_ago_close_period': 5, 'rsi_open_period': 4, 'maperiod': 55}}, '6-month': {'mean': {'days_ago_close_period': 4, 'rsi_open_period': 4, 'maperiod': 30}, 'order': {'days_ago_close_period': 5, 'rsi_open_period': 2, 'maperiod': 30}}}\n",
      "Parsing 31332 lines from 2000-01-01 00:00:00 to 2015-05-01 00:00:00\n"
     ]
    },
    {
     "name": "stderr",
     "output_type": "stream",
     "text": [
      "\r",
      " 73%|███████▎  | 185/252 [06:03<07:24,  6.63s/it]"
     ]
    },
    {
     "name": "stdout",
     "output_type": "stream",
     "text": [
      "Parsing 2814 lines from 2014-05-01 00:00:00 to 2015-05-01 00:00:00\n",
      "Parsing 1170 lines from 2014-11-01 00:00:00 to 2015-05-01 00:00:00\n",
      "15-05\n",
      "{'max': {'mean': {'days_ago_close_period': 5, 'rsi_open_period': 6, 'maperiod': 45}, 'order': {'days_ago_close_period': 5, 'rsi_open_period': 2, 'maperiod': 40}}, '12-month': {'mean': {'days_ago_close_period': 5, 'rsi_open_period': 6, 'maperiod': 55}, 'order': {'days_ago_close_period': 5, 'rsi_open_period': 4, 'maperiod': 55}}, '6-month': {'mean': {'days_ago_close_period': 0, 'rsi_open_period': 6, 'maperiod': 50}, 'order': {'days_ago_close_period': 3, 'rsi_open_period': 2, 'maperiod': 35}}}\n",
      "Parsing 31350 lines from 2000-01-01 00:00:00 to 2015-06-01 00:00:00\n"
     ]
    },
    {
     "name": "stderr",
     "output_type": "stream",
     "text": [
      "\r",
      " 74%|███████▍  | 186/252 [06:10<07:12,  6.56s/it]"
     ]
    },
    {
     "name": "stdout",
     "output_type": "stream",
     "text": [
      "Parsing 2652 lines from 2014-06-01 00:00:00 to 2015-06-01 00:00:00\n",
      "Parsing 1188 lines from 2014-12-01 00:00:00 to 2015-06-01 00:00:00\n",
      "15-06\n",
      "{'max': {'mean': {'days_ago_close_period': 5, 'rsi_open_period': 6, 'maperiod': 45}, 'order': {'days_ago_close_period': 5, 'rsi_open_period': 2, 'maperiod': 40}}, '12-month': {'mean': {'days_ago_close_period': 5, 'rsi_open_period': 4, 'maperiod': 55}, 'order': {'days_ago_close_period': 5, 'rsi_open_period': 4, 'maperiod': 55}}, '6-month': {'mean': {'days_ago_close_period': 1, 'rsi_open_period': 6, 'maperiod': 50}, 'order': {'days_ago_close_period': 3, 'rsi_open_period': 2, 'maperiod': 45}}}\n",
      "Parsing 31578 lines from 2000-01-01 00:00:00 to 2015-07-01 00:00:00\n"
     ]
    },
    {
     "name": "stderr",
     "output_type": "stream",
     "text": [
      "\r",
      " 74%|███████▍  | 187/252 [06:16<07:06,  6.56s/it]"
     ]
    },
    {
     "name": "stdout",
     "output_type": "stream",
     "text": [
      "Parsing 2844 lines from 2014-07-01 00:00:00 to 2015-07-01 00:00:00\n",
      "Parsing 1236 lines from 2015-01-01 00:00:00 to 2015-07-01 00:00:00\n",
      "15-07\n",
      "{'max': {'mean': {'days_ago_close_period': 5, 'rsi_open_period': 6, 'maperiod': 45}, 'order': {'days_ago_close_period': 5, 'rsi_open_period': 2, 'maperiod': 40}}, '12-month': {'mean': {'days_ago_close_period': 5, 'rsi_open_period': 4, 'maperiod': 45}, 'order': {'days_ago_close_period': 5, 'rsi_open_period': 2, 'maperiod': 50}}, '6-month': {'mean': {'days_ago_close_period': 5, 'rsi_open_period': 6, 'maperiod': 45}, 'order': {'days_ago_close_period': 5, 'rsi_open_period': 2, 'maperiod': 50}}}\n",
      "Parsing 31662 lines from 2000-01-01 00:00:00 to 2015-08-01 00:00:00\n"
     ]
    },
    {
     "name": "stderr",
     "output_type": "stream",
     "text": [
      "\r",
      " 75%|███████▍  | 188/252 [06:23<07:02,  6.60s/it]"
     ]
    },
    {
     "name": "stdout",
     "output_type": "stream",
     "text": [
      "Parsing 2172 lines from 2014-08-01 00:00:00 to 2015-08-01 00:00:00\n",
      "Parsing 1068 lines from 2015-02-01 00:00:00 to 2015-08-01 00:00:00\n",
      "15-08\n",
      "{'max': {'mean': {'days_ago_close_period': 5, 'rsi_open_period': 6, 'maperiod': 45}, 'order': {'days_ago_close_period': 5, 'rsi_open_period': 2, 'maperiod': 40}}, '12-month': {'mean': {'days_ago_close_period': 5, 'rsi_open_period': 4, 'maperiod': 35}, 'order': {'days_ago_close_period': 5, 'rsi_open_period': 2, 'maperiod': 50}}, '6-month': {'mean': {'days_ago_close_period': 4, 'rsi_open_period': 6, 'maperiod': 50}, 'order': {'days_ago_close_period': 5, 'rsi_open_period': 2, 'maperiod': 50}}}\n",
      "Parsing 31944 lines from 2000-01-01 00:00:00 to 2015-09-01 00:00:00\n"
     ]
    },
    {
     "name": "stderr",
     "output_type": "stream",
     "text": [
      "\r",
      " 75%|███████▌  | 189/252 [06:30<06:56,  6.61s/it]"
     ]
    },
    {
     "name": "stdout",
     "output_type": "stream",
     "text": [
      "Parsing 2454 lines from 2014-09-01 00:00:00 to 2015-09-01 00:00:00\n",
      "Parsing 1242 lines from 2015-03-01 00:00:00 to 2015-09-01 00:00:00\n",
      "15-09\n",
      "{'max': {'mean': {'days_ago_close_period': 5, 'rsi_open_period': 6, 'maperiod': 45}, 'order': {'days_ago_close_period': 5, 'rsi_open_period': 2, 'maperiod': 40}}, '12-month': {'mean': {'days_ago_close_period': 5, 'rsi_open_period': 4, 'maperiod': 35}, 'order': {'days_ago_close_period': 5, 'rsi_open_period': 4, 'maperiod': 50}}, '6-month': {'mean': {'days_ago_close_period': 3, 'rsi_open_period': 4, 'maperiod': 50}, 'order': {'days_ago_close_period': 3, 'rsi_open_period': 4, 'maperiod': 50}}}\n",
      "Parsing 31944 lines from 2000-01-01 00:00:00 to 2015-10-01 00:00:00\n"
     ]
    },
    {
     "name": "stderr",
     "output_type": "stream",
     "text": [
      "\r",
      " 75%|███████▌  | 190/252 [06:36<06:45,  6.54s/it]"
     ]
    },
    {
     "name": "stdout",
     "output_type": "stream",
     "text": [
      "Parsing 1866 lines from 2014-10-01 00:00:00 to 2015-10-01 00:00:00\n",
      "Parsing 930 lines from 2015-04-01 00:00:00 to 2015-10-01 00:00:00\n",
      "15-10\n",
      "{'max': {'mean': {'days_ago_close_period': 5, 'rsi_open_period': 6, 'maperiod': 45}, 'order': {'days_ago_close_period': 5, 'rsi_open_period': 2, 'maperiod': 40}}, '12-month': {'mean': {'days_ago_close_period': 4, 'rsi_open_period': 4, 'maperiod': 35}, 'order': {'days_ago_close_period': 3, 'rsi_open_period': 4, 'maperiod': 50}}, '6-month': {'mean': {'days_ago_close_period': 3, 'rsi_open_period': 4, 'maperiod': 35}, 'order': {'days_ago_close_period': 2, 'rsi_open_period': 4, 'maperiod': 50}}}\n",
      "Parsing 31980 lines from 2000-01-01 00:00:00 to 2015-11-01 00:00:00\n"
     ]
    },
    {
     "name": "stderr",
     "output_type": "stream",
     "text": [
      "\r",
      " 76%|███████▌  | 191/252 [06:42<06:34,  6.46s/it]"
     ]
    },
    {
     "name": "stdout",
     "output_type": "stream",
     "text": [
      "Parsing 1818 lines from 2014-11-01 00:00:00 to 2015-11-01 00:00:00\n",
      "Parsing 648 lines from 2015-05-01 00:00:00 to 2015-11-01 00:00:00\n",
      "15-11\n",
      "{'max': {'mean': {'days_ago_close_period': 5, 'rsi_open_period': 6, 'maperiod': 45}, 'order': {'days_ago_close_period': 5, 'rsi_open_period': 2, 'maperiod': 40}}, '12-month': {'mean': {'days_ago_close_period': 0, 'rsi_open_period': 6, 'maperiod': 50}, 'order': {'days_ago_close_period': 3, 'rsi_open_period': 4, 'maperiod': 50}}, '6-month': {'mean': {'days_ago_close_period': 5, 'rsi_open_period': 4, 'maperiod': 45}, 'order': {'days_ago_close_period': 2, 'rsi_open_period': 4, 'maperiod': 50}}}\n",
      "Parsing 32052 lines from 2000-01-01 00:00:00 to 2015-12-01 00:00:00\n"
     ]
    },
    {
     "name": "stderr",
     "output_type": "stream",
     "text": [
      "\r",
      " 76%|███████▌  | 192/252 [06:48<06:24,  6.40s/it]"
     ]
    },
    {
     "name": "stdout",
     "output_type": "stream",
     "text": [
      "Parsing 1890 lines from 2014-12-01 00:00:00 to 2015-12-01 00:00:00\n",
      "Parsing 702 lines from 2015-06-01 00:00:00 to 2015-12-01 00:00:00\n",
      "15-12\n",
      "{'max': {'mean': {'days_ago_close_period': 5, 'rsi_open_period': 6, 'maperiod': 45}, 'order': {'days_ago_close_period': 5, 'rsi_open_period': 2, 'maperiod': 40}}, '12-month': {'mean': {'days_ago_close_period': 4, 'rsi_open_period': 4, 'maperiod': 50}, 'order': {'days_ago_close_period': 5, 'rsi_open_period': 4, 'maperiod': 50}}, '6-month': {'mean': {'days_ago_close_period': 5, 'rsi_open_period': 4, 'maperiod': 45}, 'order': {'days_ago_close_period': 5, 'rsi_open_period': 4, 'maperiod': 50}}}\n",
      "Parsing 32202 lines from 2000-01-01 00:00:00 to 2016-01-01 00:00:00\n"
     ]
    },
    {
     "name": "stderr",
     "output_type": "stream",
     "text": [
      "\r",
      " 77%|███████▋  | 193/252 [06:55<06:16,  6.38s/it]"
     ]
    },
    {
     "name": "stdout",
     "output_type": "stream",
     "text": [
      "Parsing 1860 lines from 2015-01-01 00:00:00 to 2016-01-01 00:00:00\n",
      "Parsing 624 lines from 2015-07-01 00:00:00 to 2016-01-01 00:00:00\n",
      "16-01\n",
      "{'max': {'mean': {'days_ago_close_period': 5, 'rsi_open_period': 6, 'maperiod': 45}, 'order': {'days_ago_close_period': 5, 'rsi_open_period': 2, 'maperiod': 40}}, '12-month': {'mean': {'days_ago_close_period': 5, 'rsi_open_period': 4, 'maperiod': 50}, 'order': {'days_ago_close_period': 0, 'rsi_open_period': 4, 'maperiod': 30}}, '6-month': {'mean': {'days_ago_close_period': 0, 'rsi_open_period': 4, 'maperiod': 50}, 'order': {'days_ago_close_period': 0, 'rsi_open_period': 4, 'maperiod': 50}}}\n",
      "Parsing 32430 lines from 2000-01-01 00:00:00 to 2016-02-01 00:00:00\n"
     ]
    },
    {
     "name": "stderr",
     "output_type": "stream",
     "text": [
      "\r",
      " 77%|███████▋  | 194/252 [07:01<06:11,  6.41s/it]"
     ]
    },
    {
     "name": "stdout",
     "output_type": "stream",
     "text": [
      "Parsing 1836 lines from 2015-02-01 00:00:00 to 2016-02-01 00:00:00\n",
      "Parsing 768 lines from 2015-08-01 00:00:00 to 2016-02-01 00:00:00\n",
      "16-02\n",
      "{'max': {'mean': {'days_ago_close_period': 5, 'rsi_open_period': 6, 'maperiod': 45}, 'order': {'days_ago_close_period': 5, 'rsi_open_period': 2, 'maperiod': 40}}, '12-month': {'mean': {'days_ago_close_period': 2, 'rsi_open_period': 4, 'maperiod': 50}, 'order': {'days_ago_close_period': 2, 'rsi_open_period': 4, 'maperiod': 50}}, '6-month': {'mean': {'days_ago_close_period': 2, 'rsi_open_period': 4, 'maperiod': 35}, 'order': {'days_ago_close_period': 2, 'rsi_open_period': 4, 'maperiod': 35}}}\n",
      "Parsing 32430 lines from 2000-01-01 00:00:00 to 2016-03-01 00:00:00\n"
     ]
    },
    {
     "name": "stderr",
     "output_type": "stream",
     "text": [
      "\r",
      " 77%|███████▋  | 195/252 [07:08<06:06,  6.43s/it]"
     ]
    },
    {
     "name": "stdout",
     "output_type": "stream",
     "text": [
      "Parsing 1728 lines from 2015-03-01 00:00:00 to 2016-03-01 00:00:00\n",
      "Parsing 486 lines from 2015-09-01 00:00:00 to 2016-03-01 00:00:00\n",
      "16-03\n",
      "{'max': {'mean': {'days_ago_close_period': 5, 'rsi_open_period': 6, 'maperiod': 45}, 'order': {'days_ago_close_period': 5, 'rsi_open_period': 2, 'maperiod': 40}}, '12-month': {'mean': {'days_ago_close_period': 2, 'rsi_open_period': 4, 'maperiod': 35}, 'order': {'days_ago_close_period': 2, 'rsi_open_period': 4, 'maperiod': 50}}, '6-month': {'mean': {'days_ago_close_period': 2, 'rsi_open_period': 4, 'maperiod': 30}, 'order': {'days_ago_close_period': 2, 'rsi_open_period': 2, 'maperiod': 35}}}\n",
      "Parsing 32430 lines from 2000-01-01 00:00:00 to 2016-04-01 00:00:00\n"
     ]
    },
    {
     "name": "stderr",
     "output_type": "stream",
     "text": [
      "\r",
      " 78%|███████▊  | 196/252 [07:14<05:59,  6.42s/it]"
     ]
    },
    {
     "name": "stdout",
     "output_type": "stream",
     "text": [
      "Parsing 1416 lines from 2015-04-01 00:00:00 to 2016-04-01 00:00:00\n",
      "Parsing 486 lines from 2015-10-01 00:00:00 to 2016-04-01 00:00:00\n",
      "16-04\n",
      "{'max': {'mean': {'days_ago_close_period': 5, 'rsi_open_period': 6, 'maperiod': 45}, 'order': {'days_ago_close_period': 5, 'rsi_open_period': 2, 'maperiod': 40}}, '12-month': {'mean': {'days_ago_close_period': 2, 'rsi_open_period': 4, 'maperiod': 35}, 'order': {'days_ago_close_period': 2, 'rsi_open_period': 4, 'maperiod': 50}}, '6-month': {'mean': {'days_ago_close_period': 2, 'rsi_open_period': 4, 'maperiod': 30}, 'order': {'days_ago_close_period': 2, 'rsi_open_period': 2, 'maperiod': 35}}}\n",
      "Parsing 32808 lines from 2000-01-01 00:00:00 to 2016-05-01 00:00:00\n"
     ]
    },
    {
     "name": "stderr",
     "output_type": "stream",
     "text": [
      "\r",
      " 78%|███████▊  | 197/252 [07:21<05:55,  6.47s/it]"
     ]
    },
    {
     "name": "stdout",
     "output_type": "stream",
     "text": [
      "Parsing 1476 lines from 2015-05-01 00:00:00 to 2016-05-01 00:00:00\n",
      "Parsing 828 lines from 2015-11-01 00:00:00 to 2016-05-01 00:00:00\n",
      "16-05\n",
      "{'max': {'mean': {'days_ago_close_period': 5, 'rsi_open_period': 6, 'maperiod': 45}, 'order': {'days_ago_close_period': 5, 'rsi_open_period': 2, 'maperiod': 40}}, '12-month': {'mean': {'days_ago_close_period': 2, 'rsi_open_period': 2, 'maperiod': 35}, 'order': {'days_ago_close_period': 2, 'rsi_open_period': 2, 'maperiod': 50}}, '6-month': {'mean': {'days_ago_close_period': 2, 'rsi_open_period': 4, 'maperiod': 30}, 'order': {'days_ago_close_period': 4, 'rsi_open_period': 2, 'maperiod': 45}}}\n",
      "Parsing 32808 lines from 2000-01-01 00:00:00 to 2016-06-01 00:00:00\n"
     ]
    },
    {
     "name": "stderr",
     "output_type": "stream",
     "text": [
      "\r",
      " 79%|███████▊  | 198/252 [07:27<05:51,  6.51s/it]"
     ]
    },
    {
     "name": "stdout",
     "output_type": "stream",
     "text": [
      "Parsing 1458 lines from 2015-06-01 00:00:00 to 2016-06-01 00:00:00\n",
      "Parsing 756 lines from 2015-12-01 00:00:00 to 2016-06-01 00:00:00\n",
      "16-06\n",
      "{'max': {'mean': {'days_ago_close_period': 5, 'rsi_open_period': 6, 'maperiod': 45}, 'order': {'days_ago_close_period': 5, 'rsi_open_period': 2, 'maperiod': 40}}, '12-month': {'mean': {'days_ago_close_period': 5, 'rsi_open_period': 2, 'maperiod': 50}, 'order': {'days_ago_close_period': 2, 'rsi_open_period': 2, 'maperiod': 50}}, '6-month': {'mean': {'days_ago_close_period': 2, 'rsi_open_period': 2, 'maperiod': 35}, 'order': {'days_ago_close_period': 4, 'rsi_open_period': 2, 'maperiod': 45}}}\n",
      "Parsing 33012 lines from 2000-01-01 00:00:00 to 2016-07-01 00:00:00\n"
     ]
    },
    {
     "name": "stderr",
     "output_type": "stream",
     "text": [
      "\r",
      " 79%|███████▉  | 199/252 [07:34<05:46,  6.54s/it]"
     ]
    },
    {
     "name": "stdout",
     "output_type": "stream",
     "text": [
      "Parsing 1434 lines from 2015-07-01 00:00:00 to 2016-07-01 00:00:00\n",
      "Parsing 810 lines from 2016-01-01 00:00:00 to 2016-07-01 00:00:00\n",
      "16-07\n",
      "{'max': {'mean': {'days_ago_close_period': 5, 'rsi_open_period': 6, 'maperiod': 45}, 'order': {'days_ago_close_period': 5, 'rsi_open_period': 2, 'maperiod': 40}}, '12-month': {'mean': {'days_ago_close_period': 2, 'rsi_open_period': 4, 'maperiod': 50}, 'order': {'days_ago_close_period': 4, 'rsi_open_period': 2, 'maperiod': 40}}, '6-month': {'mean': {'days_ago_close_period': 5, 'rsi_open_period': 2, 'maperiod': 45}, 'order': {'days_ago_close_period': 4, 'rsi_open_period': 2, 'maperiod': 30}}}\n",
      "Parsing 33228 lines from 2000-01-01 00:00:00 to 2016-08-01 00:00:00\n"
     ]
    },
    {
     "name": "stderr",
     "output_type": "stream",
     "text": [
      "\r",
      " 79%|███████▉  | 200/252 [07:41<05:43,  6.60s/it]"
     ]
    },
    {
     "name": "stdout",
     "output_type": "stream",
     "text": [
      "Parsing 1566 lines from 2015-08-01 00:00:00 to 2016-08-01 00:00:00\n",
      "Parsing 798 lines from 2016-02-01 00:00:00 to 2016-08-01 00:00:00\n",
      "16-08\n",
      "{'max': {'mean': {'days_ago_close_period': 5, 'rsi_open_period': 6, 'maperiod': 45}, 'order': {'days_ago_close_period': 5, 'rsi_open_period': 2, 'maperiod': 40}}, '12-month': {'mean': {'days_ago_close_period': 2, 'rsi_open_period': 4, 'maperiod': 35}, 'order': {'days_ago_close_period': 5, 'rsi_open_period': 2, 'maperiod': 35}}, '6-month': {'mean': {'days_ago_close_period': 5, 'rsi_open_period': 4, 'maperiod': 50}, 'order': {'days_ago_close_period': 4, 'rsi_open_period': 2, 'maperiod': 30}}}\n",
      "Parsing 33468 lines from 2000-01-01 00:00:00 to 2016-09-01 00:00:00\n"
     ]
    },
    {
     "name": "stderr",
     "output_type": "stream",
     "text": [
      "\r",
      " 80%|███████▉  | 201/252 [07:47<05:39,  6.66s/it]"
     ]
    },
    {
     "name": "stdout",
     "output_type": "stream",
     "text": [
      "Parsing 1524 lines from 2015-09-01 00:00:00 to 2016-09-01 00:00:00\n",
      "Parsing 1038 lines from 2016-03-01 00:00:00 to 2016-09-01 00:00:00\n",
      "16-09\n",
      "{'max': {'mean': {'days_ago_close_period': 5, 'rsi_open_period': 6, 'maperiod': 45}, 'order': {'days_ago_close_period': 5, 'rsi_open_period': 2, 'maperiod': 40}}, '12-month': {'mean': {'days_ago_close_period': 5, 'rsi_open_period': 6, 'maperiod': 35}, 'order': {'days_ago_close_period': 5, 'rsi_open_period': 2, 'maperiod': 40}}, '6-month': {'mean': {'days_ago_close_period': 5, 'rsi_open_period': 6, 'maperiod': 35}, 'order': {'days_ago_close_period': 3, 'rsi_open_period': 2, 'maperiod': 45}}}\n",
      "Parsing 33912 lines from 2000-01-01 00:00:00 to 2016-10-01 00:00:00\n"
     ]
    },
    {
     "name": "stderr",
     "output_type": "stream",
     "text": [
      "\r",
      " 80%|████████  | 202/252 [07:55<05:38,  6.77s/it]"
     ]
    },
    {
     "name": "stdout",
     "output_type": "stream",
     "text": [
      "Parsing 1968 lines from 2015-10-01 00:00:00 to 2016-10-01 00:00:00\n",
      "Parsing 1482 lines from 2016-04-01 00:00:00 to 2016-10-01 00:00:00\n",
      "16-10\n",
      "{'max': {'mean': {'days_ago_close_period': 5, 'rsi_open_period': 6, 'maperiod': 45}, 'order': {'days_ago_close_period': 5, 'rsi_open_period': 2, 'maperiod': 40}}, '12-month': {'mean': {'days_ago_close_period': 5, 'rsi_open_period': 6, 'maperiod': 35}, 'order': {'days_ago_close_period': 5, 'rsi_open_period': 2, 'maperiod': 30}}, '6-month': {'mean': {'days_ago_close_period': 5, 'rsi_open_period': 6, 'maperiod': 35}, 'order': {'days_ago_close_period': 5, 'rsi_open_period': 2, 'maperiod': 30}}}\n",
      "Parsing 34194 lines from 2000-01-01 00:00:00 to 2016-11-01 00:00:00\n"
     ]
    },
    {
     "name": "stderr",
     "output_type": "stream",
     "text": [
      "\r",
      " 81%|████████  | 203/252 [08:02<05:42,  6.98s/it]"
     ]
    },
    {
     "name": "stdout",
     "output_type": "stream",
     "text": [
      "Parsing 2214 lines from 2015-11-01 00:00:00 to 2016-11-01 00:00:00\n",
      "Parsing 1386 lines from 2016-05-01 00:00:00 to 2016-11-01 00:00:00\n",
      "16-11\n",
      "{'max': {'mean': {'days_ago_close_period': 5, 'rsi_open_period': 6, 'maperiod': 45}, 'order': {'days_ago_close_period': 5, 'rsi_open_period': 2, 'maperiod': 40}}, '12-month': {'mean': {'days_ago_close_period': 5, 'rsi_open_period': 6, 'maperiod': 35}, 'order': {'days_ago_close_period': 5, 'rsi_open_period': 2, 'maperiod': 30}}, '6-month': {'mean': {'days_ago_close_period': 5, 'rsi_open_period': 6, 'maperiod': 35}, 'order': {'days_ago_close_period': 5, 'rsi_open_period': 2, 'maperiod': 30}}}\n",
      "Parsing 34236 lines from 2000-01-01 00:00:00 to 2016-12-01 00:00:00\n"
     ]
    },
    {
     "name": "stderr",
     "output_type": "stream",
     "text": [
      "\r",
      " 81%|████████  | 204/252 [08:10<05:54,  7.38s/it]"
     ]
    },
    {
     "name": "stdout",
     "output_type": "stream",
     "text": [
      "Parsing 2184 lines from 2015-12-01 00:00:00 to 2016-12-01 00:00:00\n",
      "Parsing 1428 lines from 2016-06-01 00:00:00 to 2016-12-01 00:00:00\n",
      "16-12\n",
      "{'max': {'mean': {'days_ago_close_period': 5, 'rsi_open_period': 6, 'maperiod': 45}, 'order': {'days_ago_close_period': 5, 'rsi_open_period': 2, 'maperiod': 40}}, '12-month': {'mean': {'days_ago_close_period': 5, 'rsi_open_period': 6, 'maperiod': 35}, 'order': {'days_ago_close_period': 5, 'rsi_open_period': 2, 'maperiod': 50}}, '6-month': {'mean': {'days_ago_close_period': 5, 'rsi_open_period': 6, 'maperiod': 35}, 'order': {'days_ago_close_period': 5, 'rsi_open_period': 2, 'maperiod': 55}}}\n",
      "Parsing 34380 lines from 2000-01-01 00:00:00 to 2017-01-01 00:00:00\n"
     ]
    },
    {
     "name": "stderr",
     "output_type": "stream",
     "text": [
      "\r",
      " 81%|████████▏ | 205/252 [08:20<06:15,  7.99s/it]"
     ]
    },
    {
     "name": "stdout",
     "output_type": "stream",
     "text": [
      "Parsing 2178 lines from 2016-01-01 00:00:00 to 2017-01-01 00:00:00\n",
      "Parsing 1368 lines from 2016-07-01 00:00:00 to 2017-01-01 00:00:00\n",
      "17-01\n",
      "{'max': {'mean': {'days_ago_close_period': 5, 'rsi_open_period': 6, 'maperiod': 45}, 'order': {'days_ago_close_period': 5, 'rsi_open_period': 2, 'maperiod': 40}}, '12-month': {'mean': {'days_ago_close_period': 5, 'rsi_open_period': 6, 'maperiod': 35}, 'order': {'days_ago_close_period': 5, 'rsi_open_period': 2, 'maperiod': 55}}, '6-month': {'mean': {'days_ago_close_period': 5, 'rsi_open_period': 6, 'maperiod': 35}, 'order': {'days_ago_close_period': 1, 'rsi_open_period': 2, 'maperiod': 45}}}\n",
      "Parsing 34620 lines from 2000-01-01 00:00:00 to 2017-02-01 00:00:00\n"
     ]
    },
    {
     "name": "stderr",
     "output_type": "stream",
     "text": [
      "\r",
      " 82%|████████▏ | 206/252 [08:29<06:28,  8.44s/it]"
     ]
    },
    {
     "name": "stdout",
     "output_type": "stream",
     "text": [
      "Parsing 2190 lines from 2016-02-01 00:00:00 to 2017-02-01 00:00:00\n",
      "Parsing 1392 lines from 2016-08-01 00:00:00 to 2017-02-01 00:00:00\n",
      "17-02\n",
      "{'max': {'mean': {'days_ago_close_period': 5, 'rsi_open_period': 6, 'maperiod': 40}, 'order': {'days_ago_close_period': 5, 'rsi_open_period': 2, 'maperiod': 40}}, '12-month': {'mean': {'days_ago_close_period': 5, 'rsi_open_period': 6, 'maperiod': 35}, 'order': {'days_ago_close_period': 5, 'rsi_open_period': 2, 'maperiod': 50}}, '6-month': {'mean': {'days_ago_close_period': 5, 'rsi_open_period': 6, 'maperiod': 35}, 'order': {'days_ago_close_period': 1, 'rsi_open_period': 2, 'maperiod': 50}}}\n",
      "Parsing 34686 lines from 2000-01-01 00:00:00 to 2017-03-01 00:00:00\n"
     ]
    },
    {
     "name": "stderr",
     "output_type": "stream",
     "text": [
      "\r",
      " 82%|████████▏ | 207/252 [08:39<06:38,  8.85s/it]"
     ]
    },
    {
     "name": "stdout",
     "output_type": "stream",
     "text": [
      "Parsing 2256 lines from 2016-03-01 00:00:00 to 2017-03-01 00:00:00\n",
      "Parsing 1254 lines from 2016-09-01 00:00:00 to 2017-03-01 00:00:00\n",
      "17-03\n",
      "{'max': {'mean': {'days_ago_close_period': 5, 'rsi_open_period': 6, 'maperiod': 40}, 'order': {'days_ago_close_period': 5, 'rsi_open_period': 2, 'maperiod': 40}}, '12-month': {'mean': {'days_ago_close_period': 5, 'rsi_open_period': 6, 'maperiod': 35}, 'order': {'days_ago_close_period': 5, 'rsi_open_period': 2, 'maperiod': 50}}, '6-month': {'mean': {'days_ago_close_period': 5, 'rsi_open_period': 2, 'maperiod': 30}, 'order': {'days_ago_close_period': 1, 'rsi_open_period': 2, 'maperiod': 50}}}\n",
      "Parsing 34944 lines from 2000-01-01 00:00:00 to 2017-04-01 00:00:00\n"
     ]
    },
    {
     "name": "stderr",
     "output_type": "stream",
     "text": [
      "\r",
      " 83%|████████▎ | 208/252 [08:49<06:48,  9.28s/it]"
     ]
    },
    {
     "name": "stdout",
     "output_type": "stream",
     "text": [
      "Parsing 2514 lines from 2016-04-01 00:00:00 to 2017-04-01 00:00:00\n",
      "Parsing 1032 lines from 2016-10-01 00:00:00 to 2017-04-01 00:00:00\n",
      "17-04\n",
      "{'max': {'mean': {'days_ago_close_period': 5, 'rsi_open_period': 6, 'maperiod': 40}, 'order': {'days_ago_close_period': 5, 'rsi_open_period': 2, 'maperiod': 40}}, '12-month': {'mean': {'days_ago_close_period': 5, 'rsi_open_period': 6, 'maperiod': 35}, 'order': {'days_ago_close_period': 5, 'rsi_open_period': 2, 'maperiod': 30}}, '6-month': {'mean': {'days_ago_close_period': 3, 'rsi_open_period': 2, 'maperiod': 30}, 'order': {'days_ago_close_period': 3, 'rsi_open_period': 2, 'maperiod': 35}}}\n",
      "Parsing 35274 lines from 2000-01-01 00:00:00 to 2017-05-01 00:00:00\n"
     ]
    },
    {
     "name": "stderr",
     "output_type": "stream",
     "text": [
      "\r",
      " 83%|████████▎ | 209/252 [08:58<06:32,  9.13s/it]"
     ]
    },
    {
     "name": "stdout",
     "output_type": "stream",
     "text": [
      "Parsing 2466 lines from 2016-05-01 00:00:00 to 2017-05-01 00:00:00\n",
      "Parsing 1080 lines from 2016-11-01 00:00:00 to 2017-05-01 00:00:00\n",
      "17-05\n",
      "{'max': {'mean': {'days_ago_close_period': 5, 'rsi_open_period': 6, 'maperiod': 40}, 'order': {'days_ago_close_period': 5, 'rsi_open_period': 2, 'maperiod': 40}}, '12-month': {'mean': {'days_ago_close_period': 5, 'rsi_open_period': 6, 'maperiod': 30}, 'order': {'days_ago_close_period': 5, 'rsi_open_period': 2, 'maperiod': 50}}, '6-month': {'mean': {'days_ago_close_period': 5, 'rsi_open_period': 2, 'maperiod': 30}, 'order': {'days_ago_close_period': 4, 'rsi_open_period': 2, 'maperiod': 50}}}\n",
      "Parsing 35412 lines from 2000-01-01 00:00:00 to 2017-06-01 00:00:00\n"
     ]
    },
    {
     "name": "stderr",
     "output_type": "stream",
     "text": [
      "\r",
      " 83%|████████▎ | 210/252 [09:06<06:10,  8.83s/it]"
     ]
    },
    {
     "name": "stdout",
     "output_type": "stream",
     "text": [
      "Parsing 2604 lines from 2016-06-01 00:00:00 to 2017-06-01 00:00:00\n",
      "Parsing 1176 lines from 2016-12-01 00:00:00 to 2017-06-01 00:00:00\n",
      "17-06\n",
      "{'max': {'mean': {'days_ago_close_period': 5, 'rsi_open_period': 6, 'maperiod': 40}, 'order': {'days_ago_close_period': 5, 'rsi_open_period': 2, 'maperiod': 40}}, '12-month': {'mean': {'days_ago_close_period': 5, 'rsi_open_period': 6, 'maperiod': 30}, 'order': {'days_ago_close_period': 5, 'rsi_open_period': 2, 'maperiod': 50}}, '6-month': {'mean': {'days_ago_close_period': 5, 'rsi_open_period': 2, 'maperiod': 35}, 'order': {'days_ago_close_period': 5, 'rsi_open_period': 2, 'maperiod': 35}}}\n",
      "Parsing 35676 lines from 2000-01-01 00:00:00 to 2017-07-01 00:00:00\n"
     ]
    },
    {
     "name": "stderr",
     "output_type": "stream",
     "text": [
      "\r",
      " 84%|████████▎ | 211/252 [09:15<05:56,  8.69s/it]"
     ]
    },
    {
     "name": "stdout",
     "output_type": "stream",
     "text": [
      "Parsing 2664 lines from 2016-07-01 00:00:00 to 2017-07-01 00:00:00\n",
      "Parsing 1296 lines from 2017-01-01 00:00:00 to 2017-07-01 00:00:00\n",
      "17-07\n",
      "{'max': {'mean': {'days_ago_close_period': 5, 'rsi_open_period': 6, 'maperiod': 40}, 'order': {'days_ago_close_period': 5, 'rsi_open_period': 2, 'maperiod': 40}}, '12-month': {'mean': {'days_ago_close_period': 5, 'rsi_open_period': 6, 'maperiod': 30}, 'order': {'days_ago_close_period': 5, 'rsi_open_period': 2, 'maperiod': 50}}, '6-month': {'mean': {'days_ago_close_period': 5, 'rsi_open_period': 2, 'maperiod': 35}, 'order': {'days_ago_close_period': 5, 'rsi_open_period': 2, 'maperiod': 35}}}\n",
      "Parsing 35742 lines from 2000-01-01 00:00:00 to 2017-08-01 00:00:00\n"
     ]
    },
    {
     "name": "stderr",
     "output_type": "stream",
     "text": [
      "\r",
      " 84%|████████▍ | 212/252 [09:23<05:48,  8.72s/it]"
     ]
    },
    {
     "name": "stdout",
     "output_type": "stream",
     "text": [
      "Parsing 2514 lines from 2016-08-01 00:00:00 to 2017-08-01 00:00:00\n",
      "Parsing 1122 lines from 2017-02-01 00:00:00 to 2017-08-01 00:00:00\n",
      "17-08\n",
      "{'max': {'mean': {'days_ago_close_period': 5, 'rsi_open_period': 6, 'maperiod': 40}, 'order': {'days_ago_close_period': 5, 'rsi_open_period': 2, 'maperiod': 40}}, '12-month': {'mean': {'days_ago_close_period': 5, 'rsi_open_period': 6, 'maperiod': 30}, 'order': {'days_ago_close_period': 5, 'rsi_open_period': 2, 'maperiod': 45}}, '6-month': {'mean': {'days_ago_close_period': 5, 'rsi_open_period': 6, 'maperiod': 30}, 'order': {'days_ago_close_period': 5, 'rsi_open_period': 2, 'maperiod': 35}}}\n",
      "Parsing 35976 lines from 2000-01-01 00:00:00 to 2017-09-01 00:00:00\n"
     ]
    },
    {
     "name": "stderr",
     "output_type": "stream",
     "text": [
      "\r",
      " 85%|████████▍ | 213/252 [09:32<05:40,  8.74s/it]"
     ]
    },
    {
     "name": "stdout",
     "output_type": "stream",
     "text": [
      "Parsing 2544 lines from 2016-09-01 00:00:00 to 2017-09-01 00:00:00\n",
      "Parsing 1290 lines from 2017-03-01 00:00:00 to 2017-09-01 00:00:00\n",
      "17-09\n",
      "{'max': {'mean': {'days_ago_close_period': 5, 'rsi_open_period': 6, 'maperiod': 40}, 'order': {'days_ago_close_period': 5, 'rsi_open_period': 2, 'maperiod': 40}}, '12-month': {'mean': {'days_ago_close_period': 5, 'rsi_open_period': 6, 'maperiod': 30}, 'order': {'days_ago_close_period': 5, 'rsi_open_period': 2, 'maperiod': 45}}, '6-month': {'mean': {'days_ago_close_period': 5, 'rsi_open_period': 6, 'maperiod': 40}, 'order': {'days_ago_close_period': 5, 'rsi_open_period': 2, 'maperiod': 45}}}\n",
      "Parsing 36120 lines from 2000-01-01 00:00:00 to 2017-10-01 00:00:00\n"
     ]
    },
    {
     "name": "stderr",
     "output_type": "stream",
     "text": [
      "\r",
      " 85%|████████▍ | 214/252 [09:41<05:33,  8.77s/it]"
     ]
    },
    {
     "name": "stdout",
     "output_type": "stream",
     "text": [
      "Parsing 2208 lines from 2016-10-01 00:00:00 to 2017-10-01 00:00:00\n",
      "Parsing 1176 lines from 2017-04-01 00:00:00 to 2017-10-01 00:00:00\n",
      "17-10\n",
      "{'max': {'mean': {'days_ago_close_period': 5, 'rsi_open_period': 6, 'maperiod': 40}, 'order': {'days_ago_close_period': 5, 'rsi_open_period': 2, 'maperiod': 40}}, '12-month': {'mean': {'days_ago_close_period': 5, 'rsi_open_period': 2, 'maperiod': 50}, 'order': {'days_ago_close_period': 5, 'rsi_open_period': 2, 'maperiod': 45}}, '6-month': {'mean': {'days_ago_close_period': 5, 'rsi_open_period': 6, 'maperiod': 40}, 'order': {'days_ago_close_period': 5, 'rsi_open_period': 2, 'maperiod': 45}}}\n",
      "Parsing 36240 lines from 2000-01-01 00:00:00 to 2017-11-01 00:00:00\n"
     ]
    },
    {
     "name": "stderr",
     "output_type": "stream",
     "text": [
      "\r",
      " 85%|████████▌ | 215/252 [09:50<05:23,  8.75s/it]"
     ]
    },
    {
     "name": "stdout",
     "output_type": "stream",
     "text": [
      "Parsing 2046 lines from 2016-11-01 00:00:00 to 2017-11-01 00:00:00\n",
      "Parsing 966 lines from 2017-05-01 00:00:00 to 2017-11-01 00:00:00\n",
      "17-11\n",
      "{'max': {'mean': {'days_ago_close_period': 5, 'rsi_open_period': 6, 'maperiod': 40}, 'order': {'days_ago_close_period': 5, 'rsi_open_period': 2, 'maperiod': 40}}, '12-month': {'mean': {'days_ago_close_period': 5, 'rsi_open_period': 2, 'maperiod': 35}, 'order': {'days_ago_close_period': 5, 'rsi_open_period': 2, 'maperiod': 45}}, '6-month': {'mean': {'days_ago_close_period': 5, 'rsi_open_period': 2, 'maperiod': 35}, 'order': {'days_ago_close_period': 5, 'rsi_open_period': 2, 'maperiod': 50}}}\n",
      "Parsing 36324 lines from 2000-01-01 00:00:00 to 2017-12-01 00:00:00\n"
     ]
    },
    {
     "name": "stderr",
     "output_type": "stream",
     "text": [
      "\r",
      " 86%|████████▌ | 216/252 [09:58<05:15,  8.76s/it]"
     ]
    },
    {
     "name": "stdout",
     "output_type": "stream",
     "text": [
      "Parsing 2088 lines from 2016-12-01 00:00:00 to 2017-12-01 00:00:00\n",
      "Parsing 912 lines from 2017-06-01 00:00:00 to 2017-12-01 00:00:00\n",
      "17-12\n",
      "{'max': {'mean': {'days_ago_close_period': 5, 'rsi_open_period': 6, 'maperiod': 40}, 'order': {'days_ago_close_period': 5, 'rsi_open_period': 2, 'maperiod': 40}}, '12-month': {'mean': {'days_ago_close_period': 5, 'rsi_open_period': 2, 'maperiod': 35}, 'order': {'days_ago_close_period': 5, 'rsi_open_period': 2, 'maperiod': 45}}, '6-month': {'mean': {'days_ago_close_period': 5, 'rsi_open_period': 2, 'maperiod': 50}, 'order': {'days_ago_close_period': 5, 'rsi_open_period': 2, 'maperiod': 45}}}\n",
      "Parsing 36642 lines from 2000-01-01 00:00:00 to 2018-01-01 00:00:00\n"
     ]
    },
    {
     "name": "stderr",
     "output_type": "stream",
     "text": [
      "\r",
      " 86%|████████▌ | 217/252 [10:07<05:07,  8.80s/it]"
     ]
    },
    {
     "name": "stdout",
     "output_type": "stream",
     "text": [
      "Parsing 2262 lines from 2017-01-01 00:00:00 to 2018-01-01 00:00:00\n",
      "Parsing 966 lines from 2017-07-01 00:00:00 to 2018-01-01 00:00:00\n",
      "18-01\n",
      "{'max': {'mean': {'days_ago_close_period': 5, 'rsi_open_period': 6, 'maperiod': 40}, 'order': {'days_ago_close_period': 5, 'rsi_open_period': 2, 'maperiod': 40}}, '12-month': {'mean': {'days_ago_close_period': 5, 'rsi_open_period': 2, 'maperiod': 35}, 'order': {'days_ago_close_period': 5, 'rsi_open_period': 2, 'maperiod': 45}}, '6-month': {'mean': {'days_ago_close_period': 5, 'rsi_open_period': 2, 'maperiod': 50}, 'order': {'days_ago_close_period': 5, 'rsi_open_period': 2, 'maperiod': 45}}}\n",
      "Parsing 36936 lines from 2000-01-01 00:00:00 to 2018-02-01 00:00:00\n"
     ]
    },
    {
     "name": "stderr",
     "output_type": "stream",
     "text": [
      "\r",
      " 87%|████████▋ | 218/252 [10:16<05:01,  8.88s/it]"
     ]
    },
    {
     "name": "stdout",
     "output_type": "stream",
     "text": [
      "Parsing 2316 lines from 2017-02-01 00:00:00 to 2018-02-01 00:00:00\n",
      "Parsing 1194 lines from 2017-08-01 00:00:00 to 2018-02-01 00:00:00\n",
      "18-02\n",
      "{'max': {'mean': {'days_ago_close_period': 5, 'rsi_open_period': 6, 'maperiod': 40}, 'order': {'days_ago_close_period': 5, 'rsi_open_period': 2, 'maperiod': 40}}, '12-month': {'mean': {'days_ago_close_period': 5, 'rsi_open_period': 2, 'maperiod': 35}, 'order': {'days_ago_close_period': 5, 'rsi_open_period': 2, 'maperiod': 45}}, '6-month': {'mean': {'days_ago_close_period': 5, 'rsi_open_period': 2, 'maperiod': 50}, 'order': {'days_ago_close_period': 5, 'rsi_open_period': 2, 'maperiod': 45}}}\n",
      "Parsing 37002 lines from 2000-01-01 00:00:00 to 2018-03-01 00:00:00\n"
     ]
    },
    {
     "name": "stderr",
     "output_type": "stream",
     "text": [
      "\r",
      " 87%|████████▋ | 219/252 [10:26<04:55,  8.96s/it]"
     ]
    },
    {
     "name": "stdout",
     "output_type": "stream",
     "text": [
      "Parsing 2316 lines from 2017-03-01 00:00:00 to 2018-03-01 00:00:00\n",
      "Parsing 1026 lines from 2017-09-01 00:00:00 to 2018-03-01 00:00:00\n",
      "18-03\n",
      "{'max': {'mean': {'days_ago_close_period': 5, 'rsi_open_period': 6, 'maperiod': 45}, 'order': {'days_ago_close_period': 5, 'rsi_open_period': 2, 'maperiod': 40}}, '12-month': {'mean': {'days_ago_close_period': 5, 'rsi_open_period': 2, 'maperiod': 50}, 'order': {'days_ago_close_period': 5, 'rsi_open_period': 2, 'maperiod': 50}}, '6-month': {'mean': {'days_ago_close_period': 5, 'rsi_open_period': 2, 'maperiod': 50}, 'order': {'days_ago_close_period': 3, 'rsi_open_period': 2, 'maperiod': 50}}}\n",
      "Parsing 37164 lines from 2000-01-01 00:00:00 to 2018-04-01 00:00:00\n"
     ]
    },
    {
     "name": "stderr",
     "output_type": "stream",
     "text": [
      "\r",
      " 87%|████████▋ | 220/252 [10:34<04:45,  8.93s/it]"
     ]
    },
    {
     "name": "stdout",
     "output_type": "stream",
     "text": [
      "Parsing 2220 lines from 2017-04-01 00:00:00 to 2018-04-01 00:00:00\n",
      "Parsing 1044 lines from 2017-10-01 00:00:00 to 2018-04-01 00:00:00\n",
      "18-04\n",
      "{'max': {'mean': {'days_ago_close_period': 5, 'rsi_open_period': 6, 'maperiod': 40}, 'order': {'days_ago_close_period': 5, 'rsi_open_period': 2, 'maperiod': 40}}, '12-month': {'mean': {'days_ago_close_period': 5, 'rsi_open_period': 2, 'maperiod': 50}, 'order': {'days_ago_close_period': 5, 'rsi_open_period': 2, 'maperiod': 50}}, '6-month': {'mean': {'days_ago_close_period': 3, 'rsi_open_period': 2, 'maperiod': 50}, 'order': {'days_ago_close_period': 5, 'rsi_open_period': 2, 'maperiod': 50}}}\n",
      "Parsing 37224 lines from 2000-01-01 00:00:00 to 2018-05-01 00:00:00\n"
     ]
    },
    {
     "name": "stderr",
     "output_type": "stream",
     "text": [
      "\r",
      " 88%|████████▊ | 221/252 [10:43<04:34,  8.85s/it]"
     ]
    },
    {
     "name": "stdout",
     "output_type": "stream",
     "text": [
      "Parsing 1950 lines from 2017-05-01 00:00:00 to 2018-05-01 00:00:00\n",
      "Parsing 984 lines from 2017-11-01 00:00:00 to 2018-05-01 00:00:00\n",
      "18-05\n",
      "{'max': {'mean': {'days_ago_close_period': 5, 'rsi_open_period': 6, 'maperiod': 40}, 'order': {'days_ago_close_period': 5, 'rsi_open_period': 2, 'maperiod': 40}}, '12-month': {'mean': {'days_ago_close_period': 5, 'rsi_open_period': 2, 'maperiod': 35}, 'order': {'days_ago_close_period': 5, 'rsi_open_period': 2, 'maperiod': 45}}, '6-month': {'mean': {'days_ago_close_period': 5, 'rsi_open_period': 2, 'maperiod': 30}, 'order': {'days_ago_close_period': 5, 'rsi_open_period': 2, 'maperiod': 50}}}\n",
      "Parsing 37296 lines from 2000-01-01 00:00:00 to 2018-06-01 00:00:00\n"
     ]
    },
    {
     "name": "stderr",
     "output_type": "stream",
     "text": [
      "\r",
      " 88%|████████▊ | 222/252 [10:52<04:22,  8.74s/it]"
     ]
    },
    {
     "name": "stdout",
     "output_type": "stream",
     "text": [
      "Parsing 1884 lines from 2017-06-01 00:00:00 to 2018-06-01 00:00:00\n",
      "Parsing 972 lines from 2017-12-01 00:00:00 to 2018-06-01 00:00:00\n",
      "18-06\n",
      "{'max': {'mean': {'days_ago_close_period': 5, 'rsi_open_period': 6, 'maperiod': 40}, 'order': {'days_ago_close_period': 5, 'rsi_open_period': 2, 'maperiod': 40}}, '12-month': {'mean': {'days_ago_close_period': 5, 'rsi_open_period': 2, 'maperiod': 30}, 'order': {'days_ago_close_period': 5, 'rsi_open_period': 2, 'maperiod': 30}}, '6-month': {'mean': {'days_ago_close_period': 3, 'rsi_open_period': 2, 'maperiod': 30}, 'order': {'days_ago_close_period': 5, 'rsi_open_period': 2, 'maperiod': 30}}}\n",
      "Parsing 37416 lines from 2000-01-01 00:00:00 to 2018-07-01 00:00:00\n"
     ]
    },
    {
     "name": "stderr",
     "output_type": "stream",
     "text": [
      "\r",
      " 88%|████████▊ | 223/252 [11:00<04:14,  8.77s/it]"
     ]
    },
    {
     "name": "stdout",
     "output_type": "stream",
     "text": [
      "Parsing 1740 lines from 2017-07-01 00:00:00 to 2018-07-01 00:00:00\n",
      "Parsing 774 lines from 2018-01-01 00:00:00 to 2018-07-01 00:00:00\n",
      "18-07\n",
      "{'max': {'mean': {'days_ago_close_period': 5, 'rsi_open_period': 6, 'maperiod': 40}, 'order': {'days_ago_close_period': 5, 'rsi_open_period': 2, 'maperiod': 40}}, '12-month': {'mean': {'days_ago_close_period': 5, 'rsi_open_period': 2, 'maperiod': 30}, 'order': {'days_ago_close_period': 5, 'rsi_open_period': 2, 'maperiod': 30}}, '6-month': {'mean': {'days_ago_close_period': 5, 'rsi_open_period': 2, 'maperiod': 30}, 'order': {'days_ago_close_period': 5, 'rsi_open_period': 2, 'maperiod': 30}}}\n",
      "Parsing 37584 lines from 2000-01-01 00:00:00 to 2018-08-01 00:00:00\n"
     ]
    },
    {
     "name": "stderr",
     "output_type": "stream",
     "text": [
      "\r",
      " 89%|████████▉ | 224/252 [11:10<04:08,  8.87s/it]"
     ]
    },
    {
     "name": "stdout",
     "output_type": "stream",
     "text": [
      "Parsing 1842 lines from 2017-08-01 00:00:00 to 2018-08-01 00:00:00\n",
      "Parsing 906 lines from 2018-02-01 00:00:00 to 2018-08-01 00:00:00\n",
      "18-08\n",
      "{'max': {'mean': {'days_ago_close_period': 5, 'rsi_open_period': 6, 'maperiod': 40}, 'order': {'days_ago_close_period': 5, 'rsi_open_period': 2, 'maperiod': 40}}, '12-month': {'mean': {'days_ago_close_period': 5, 'rsi_open_period': 2, 'maperiod': 30}, 'order': {'days_ago_close_period': 5, 'rsi_open_period': 2, 'maperiod': 30}}, '6-month': {'mean': {'days_ago_close_period': 5, 'rsi_open_period': 2, 'maperiod': 30}, 'order': {'days_ago_close_period': 5, 'rsi_open_period': 2, 'maperiod': 30}}}\n",
      "Parsing 37656 lines from 2000-01-01 00:00:00 to 2018-09-01 00:00:00\n"
     ]
    },
    {
     "name": "stderr",
     "output_type": "stream",
     "text": [
      "\r",
      " 89%|████████▉ | 225/252 [11:21<04:19,  9.63s/it]"
     ]
    },
    {
     "name": "stdout",
     "output_type": "stream",
     "text": [
      "Parsing 1680 lines from 2017-09-01 00:00:00 to 2018-09-01 00:00:00\n",
      "Parsing 654 lines from 2018-03-01 00:00:00 to 2018-09-01 00:00:00\n",
      "18-09\n",
      "{'max': {'mean': {'days_ago_close_period': 5, 'rsi_open_period': 6, 'maperiod': 40}, 'order': {'days_ago_close_period': 5, 'rsi_open_period': 2, 'maperiod': 40}}, '12-month': {'mean': {'days_ago_close_period': 5, 'rsi_open_period': 2, 'maperiod': 30}, 'order': {'days_ago_close_period': 5, 'rsi_open_period': 2, 'maperiod': 30}}, '6-month': {'mean': {'days_ago_close_period': 5, 'rsi_open_period': 6, 'maperiod': 40}, 'order': {'days_ago_close_period': 5, 'rsi_open_period': 2, 'maperiod': 30}}}\n",
      "Parsing 37836 lines from 2000-01-01 00:00:00 to 2018-10-01 00:00:00\n"
     ]
    },
    {
     "name": "stderr",
     "output_type": "stream",
     "text": [
      "\r",
      " 90%|████████▉ | 226/252 [11:32<04:22, 10.08s/it]"
     ]
    },
    {
     "name": "stdout",
     "output_type": "stream",
     "text": [
      "Parsing 1716 lines from 2017-10-01 00:00:00 to 2018-10-01 00:00:00\n",
      "Parsing 672 lines from 2018-04-01 00:00:00 to 2018-10-01 00:00:00\n",
      "18-10\n",
      "{'max': {'mean': {'days_ago_close_period': 5, 'rsi_open_period': 6, 'maperiod': 40}, 'order': {'days_ago_close_period': 5, 'rsi_open_period': 2, 'maperiod': 40}}, '12-month': {'mean': {'days_ago_close_period': 5, 'rsi_open_period': 2, 'maperiod': 30}, 'order': {'days_ago_close_period': 5, 'rsi_open_period': 2, 'maperiod': 30}}, '6-month': {'mean': {'days_ago_close_period': 5, 'rsi_open_period': 4, 'maperiod': 30}, 'order': {'days_ago_close_period': 5, 'rsi_open_period': 2, 'maperiod': 30}}}\n",
      "Parsing 38076 lines from 2000-01-01 00:00:00 to 2018-11-01 00:00:00\n"
     ]
    },
    {
     "name": "stderr",
     "output_type": "stream",
     "text": [
      "\r",
      " 90%|█████████ | 227/252 [11:44<04:29, 10.76s/it]"
     ]
    },
    {
     "name": "stdout",
     "output_type": "stream",
     "text": [
      "Parsing 1836 lines from 2017-11-01 00:00:00 to 2018-11-01 00:00:00\n",
      "Parsing 852 lines from 2018-05-01 00:00:00 to 2018-11-01 00:00:00\n",
      "18-11\n",
      "{'max': {'mean': {'days_ago_close_period': 5, 'rsi_open_period': 6, 'maperiod': 40}, 'order': {'days_ago_close_period': 5, 'rsi_open_period': 2, 'maperiod': 40}}, '12-month': {'mean': {'days_ago_close_period': 5, 'rsi_open_period': 4, 'maperiod': 50}, 'order': {'days_ago_close_period': 5, 'rsi_open_period': 2, 'maperiod': 30}}, '6-month': {'mean': {'days_ago_close_period': 5, 'rsi_open_period': 4, 'maperiod': 35}, 'order': {'days_ago_close_period': 4, 'rsi_open_period': 4, 'maperiod': 50}}}\n",
      "Parsing 38124 lines from 2000-01-01 00:00:00 to 2018-12-01 00:00:00\n"
     ]
    },
    {
     "name": "stderr",
     "output_type": "stream",
     "text": [
      "\r",
      " 90%|█████████ | 228/252 [11:55<04:19, 10.80s/it]"
     ]
    },
    {
     "name": "stdout",
     "output_type": "stream",
     "text": [
      "Parsing 1800 lines from 2017-12-01 00:00:00 to 2018-12-01 00:00:00\n",
      "Parsing 828 lines from 2018-06-01 00:00:00 to 2018-12-01 00:00:00\n",
      "18-12\n",
      "{'max': {'mean': {'days_ago_close_period': 5, 'rsi_open_period': 6, 'maperiod': 40}, 'order': {'days_ago_close_period': 5, 'rsi_open_period': 2, 'maperiod': 40}}, '12-month': {'mean': {'days_ago_close_period': 5, 'rsi_open_period': 4, 'maperiod': 40}, 'order': {'days_ago_close_period': 5, 'rsi_open_period': 2, 'maperiod': 30}}, '6-month': {'mean': {'days_ago_close_period': 5, 'rsi_open_period': 4, 'maperiod': 35}, 'order': {'days_ago_close_period': 4, 'rsi_open_period': 4, 'maperiod': 50}}}\n",
      "Parsing 38442 lines from 2000-01-01 00:00:00 to 2019-01-01 00:00:00\n"
     ]
    },
    {
     "name": "stderr",
     "output_type": "stream",
     "text": [
      "\r",
      " 91%|█████████ | 229/252 [12:06<04:04, 10.65s/it]"
     ]
    },
    {
     "name": "stdout",
     "output_type": "stream",
     "text": [
      "Parsing 1800 lines from 2018-01-01 00:00:00 to 2019-01-01 00:00:00\n",
      "Parsing 1026 lines from 2018-07-01 00:00:00 to 2019-01-01 00:00:00\n",
      "19-01\n",
      "{'max': {'mean': {'days_ago_close_period': 5, 'rsi_open_period': 6, 'maperiod': 40}, 'order': {'days_ago_close_period': 5, 'rsi_open_period': 2, 'maperiod': 40}}, '12-month': {'mean': {'days_ago_close_period': 5, 'rsi_open_period': 4, 'maperiod': 45}, 'order': {'days_ago_close_period': 5, 'rsi_open_period': 2, 'maperiod': 30}}, '6-month': {'mean': {'days_ago_close_period': 5, 'rsi_open_period': 4, 'maperiod': 35}, 'order': {'days_ago_close_period': 5, 'rsi_open_period': 4, 'maperiod': 35}}}\n",
      "Parsing 38442 lines from 2000-01-01 00:00:00 to 2019-02-01 00:00:00\n"
     ]
    },
    {
     "name": "stderr",
     "output_type": "stream",
     "text": [
      "\r",
      " 91%|█████████▏| 230/252 [12:17<03:56, 10.75s/it]"
     ]
    },
    {
     "name": "stdout",
     "output_type": "stream",
     "text": [
      "Parsing 1764 lines from 2018-02-01 00:00:00 to 2019-02-01 00:00:00\n",
      "Parsing 858 lines from 2018-08-01 00:00:00 to 2019-02-01 00:00:00\n",
      "19-02\n",
      "{'max': {'mean': {'days_ago_close_period': 5, 'rsi_open_period': 6, 'maperiod': 40}, 'order': {'days_ago_close_period': 5, 'rsi_open_period': 2, 'maperiod': 40}}, '12-month': {'mean': {'days_ago_close_period': 5, 'rsi_open_period': 4, 'maperiod': 45}, 'order': {'days_ago_close_period': 5, 'rsi_open_period': 2, 'maperiod': 30}}, '6-month': {'mean': {'days_ago_close_period': 4, 'rsi_open_period': 4, 'maperiod': 35}, 'order': {'days_ago_close_period': 5, 'rsi_open_period': 4, 'maperiod': 35}}}\n",
      "Parsing 38526 lines from 2000-01-01 00:00:00 to 2019-03-01 00:00:00\n"
     ]
    },
    {
     "name": "stderr",
     "output_type": "stream",
     "text": [
      "\r",
      " 92%|█████████▏| 231/252 [12:26<03:40, 10.49s/it]"
     ]
    },
    {
     "name": "stdout",
     "output_type": "stream",
     "text": [
      "Parsing 1524 lines from 2018-03-01 00:00:00 to 2019-03-01 00:00:00\n",
      "Parsing 870 lines from 2018-09-01 00:00:00 to 2019-03-01 00:00:00\n",
      "19-03\n",
      "{'max': {'mean': {'days_ago_close_period': 5, 'rsi_open_period': 6, 'maperiod': 40}, 'order': {'days_ago_close_period': 5, 'rsi_open_period': 2, 'maperiod': 40}}, '12-month': {'mean': {'days_ago_close_period': 5, 'rsi_open_period': 4, 'maperiod': 35}, 'order': {'days_ago_close_period': 5, 'rsi_open_period': 2, 'maperiod': 45}}, '6-month': {'mean': {'days_ago_close_period': 4, 'rsi_open_period': 4, 'maperiod': 35}, 'order': {'days_ago_close_period': 5, 'rsi_open_period': 4, 'maperiod': 35}}}\n",
      "Parsing 38562 lines from 2000-01-01 00:00:00 to 2019-04-01 00:00:00\n"
     ]
    },
    {
     "name": "stderr",
     "output_type": "stream",
     "text": [
      "\r",
      " 92%|█████████▏| 232/252 [12:36<03:23, 10.18s/it]"
     ]
    },
    {
     "name": "stdout",
     "output_type": "stream",
     "text": [
      "Parsing 1398 lines from 2018-04-01 00:00:00 to 2019-04-01 00:00:00\n",
      "Parsing 726 lines from 2018-10-01 00:00:00 to 2019-04-01 00:00:00\n",
      "19-04\n",
      "{'max': {'mean': {'days_ago_close_period': 5, 'rsi_open_period': 6, 'maperiod': 40}, 'order': {'days_ago_close_period': 5, 'rsi_open_period': 2, 'maperiod': 40}}, '12-month': {'mean': {'days_ago_close_period': 5, 'rsi_open_period': 4, 'maperiod': 35}, 'order': {'days_ago_close_period': 5, 'rsi_open_period': 2, 'maperiod': 45}}, '6-month': {'mean': {'days_ago_close_period': 4, 'rsi_open_period': 4, 'maperiod': 35}, 'order': {'days_ago_close_period': 5, 'rsi_open_period': 2, 'maperiod': 45}}}\n",
      "Parsing 38784 lines from 2000-01-01 00:00:00 to 2019-05-01 00:00:00\n"
     ]
    },
    {
     "name": "stderr",
     "output_type": "stream",
     "text": [
      "\r",
      " 92%|█████████▏| 233/252 [12:45<03:09,  9.96s/it]"
     ]
    },
    {
     "name": "stdout",
     "output_type": "stream",
     "text": [
      "Parsing 1560 lines from 2018-05-01 00:00:00 to 2019-05-01 00:00:00\n",
      "Parsing 708 lines from 2018-11-01 00:00:00 to 2019-05-01 00:00:00\n",
      "19-05\n",
      "{'max': {'mean': {'days_ago_close_period': 5, 'rsi_open_period': 6, 'maperiod': 40}, 'order': {'days_ago_close_period': 5, 'rsi_open_period': 2, 'maperiod': 40}}, '12-month': {'mean': {'days_ago_close_period': 5, 'rsi_open_period': 4, 'maperiod': 35}, 'order': {'days_ago_close_period': 5, 'rsi_open_period': 2, 'maperiod': 45}}, '6-month': {'mean': {'days_ago_close_period': 5, 'rsi_open_period': 4, 'maperiod': 30}, 'order': {'days_ago_close_period': 5, 'rsi_open_period': 2, 'maperiod': 40}}}\n",
      "Parsing 38916 lines from 2000-01-01 00:00:00 to 2019-06-01 00:00:00\n"
     ]
    },
    {
     "name": "stderr",
     "output_type": "stream",
     "text": [
      "\r",
      " 93%|█████████▎| 234/252 [12:56<03:04, 10.24s/it]"
     ]
    },
    {
     "name": "stdout",
     "output_type": "stream",
     "text": [
      "Parsing 1620 lines from 2018-06-01 00:00:00 to 2019-06-01 00:00:00\n",
      "Parsing 792 lines from 2018-12-01 00:00:00 to 2019-06-01 00:00:00\n",
      "19-06\n",
      "{'max': {'mean': {'days_ago_close_period': 5, 'rsi_open_period': 6, 'maperiod': 40}, 'order': {'days_ago_close_period': 5, 'rsi_open_period': 2, 'maperiod': 40}}, '12-month': {'mean': {'days_ago_close_period': 5, 'rsi_open_period': 4, 'maperiod': 35}, 'order': {'days_ago_close_period': 5, 'rsi_open_period': 2, 'maperiod': 45}}, '6-month': {'mean': {'days_ago_close_period': 5, 'rsi_open_period': 4, 'maperiod': 30}, 'order': {'days_ago_close_period': 5, 'rsi_open_period': 2, 'maperiod': 40}}}\n",
      "Parsing 38946 lines from 2000-01-01 00:00:00 to 2019-07-01 00:00:00\n"
     ]
    },
    {
     "name": "stderr",
     "output_type": "stream",
     "text": [
      "\r",
      " 93%|█████████▎| 235/252 [13:06<02:51, 10.12s/it]"
     ]
    },
    {
     "name": "stdout",
     "output_type": "stream",
     "text": [
      "Parsing 1530 lines from 2018-07-01 00:00:00 to 2019-07-01 00:00:00\n",
      "Parsing 504 lines from 2019-01-01 00:00:00 to 2019-07-01 00:00:00\n",
      "19-07\n",
      "{'max': {'mean': {'days_ago_close_period': 5, 'rsi_open_period': 6, 'maperiod': 40}, 'order': {'days_ago_close_period': 5, 'rsi_open_period': 2, 'maperiod': 40}}, '12-month': {'mean': {'days_ago_close_period': 5, 'rsi_open_period': 4, 'maperiod': 35}, 'order': {'days_ago_close_period': 5, 'rsi_open_period': 2, 'maperiod': 45}}, '6-month': {'mean': {'days_ago_close_period': 5, 'rsi_open_period': 2, 'maperiod': 35}, 'order': {'days_ago_close_period': 5, 'rsi_open_period': 2, 'maperiod': 40}}}\n",
      "Parsing 39306 lines from 2000-01-01 00:00:00 to 2019-08-01 00:00:00\n"
     ]
    },
    {
     "name": "stderr",
     "output_type": "stream",
     "text": [
      "\r",
      " 94%|█████████▎| 236/252 [13:16<02:41, 10.11s/it]"
     ]
    },
    {
     "name": "stdout",
     "output_type": "stream",
     "text": [
      "Parsing 1722 lines from 2018-08-01 00:00:00 to 2019-08-01 00:00:00\n",
      "Parsing 864 lines from 2019-02-01 00:00:00 to 2019-08-01 00:00:00\n",
      "19-08\n",
      "{'max': {'mean': {'days_ago_close_period': 5, 'rsi_open_period': 6, 'maperiod': 40}, 'order': {'days_ago_close_period': 5, 'rsi_open_period': 2, 'maperiod': 40}}, '12-month': {'mean': {'days_ago_close_period': 5, 'rsi_open_period': 4, 'maperiod': 35}, 'order': {'days_ago_close_period': 5, 'rsi_open_period': 2, 'maperiod': 45}}, '6-month': {'mean': {'days_ago_close_period': 5, 'rsi_open_period': 2, 'maperiod': 50}, 'order': {'days_ago_close_period': 5, 'rsi_open_period': 2, 'maperiod': 40}}}\n",
      "Parsing 39366 lines from 2000-01-01 00:00:00 to 2019-09-01 00:00:00\n"
     ]
    },
    {
     "name": "stderr",
     "output_type": "stream",
     "text": [
      "\r",
      " 94%|█████████▍| 237/252 [13:27<02:33, 10.26s/it]"
     ]
    },
    {
     "name": "stdout",
     "output_type": "stream",
     "text": [
      "Parsing 1710 lines from 2018-09-01 00:00:00 to 2019-09-01 00:00:00\n",
      "Parsing 840 lines from 2019-03-01 00:00:00 to 2019-09-01 00:00:00\n",
      "19-09\n",
      "{'max': {'mean': {'days_ago_close_period': 5, 'rsi_open_period': 6, 'maperiod': 40}, 'order': {'days_ago_close_period': 5, 'rsi_open_period': 2, 'maperiod': 40}}, '12-month': {'mean': {'days_ago_close_period': 4, 'rsi_open_period': 4, 'maperiod': 35}, 'order': {'days_ago_close_period': 5, 'rsi_open_period': 2, 'maperiod': 45}}, '6-month': {'mean': {'days_ago_close_period': 5, 'rsi_open_period': 6, 'maperiod': 35}, 'order': {'days_ago_close_period': 5, 'rsi_open_period': 2, 'maperiod': 30}}}\n",
      "Parsing 39690 lines from 2000-01-01 00:00:00 to 2019-10-01 00:00:00\n"
     ]
    },
    {
     "name": "stderr",
     "output_type": "stream",
     "text": [
      "\r",
      " 94%|█████████▍| 238/252 [13:38<02:26, 10.44s/it]"
     ]
    },
    {
     "name": "stdout",
     "output_type": "stream",
     "text": [
      "Parsing 1854 lines from 2018-10-01 00:00:00 to 2019-10-01 00:00:00\n",
      "Parsing 1128 lines from 2019-04-01 00:00:00 to 2019-10-01 00:00:00\n",
      "19-10\n",
      "{'max': {'mean': {'days_ago_close_period': 5, 'rsi_open_period': 6, 'maperiod': 40}, 'order': {'days_ago_close_period': 5, 'rsi_open_period': 2, 'maperiod': 40}}, '12-month': {'mean': {'days_ago_close_period': 5, 'rsi_open_period': 4, 'maperiod': 40}, 'order': {'days_ago_close_period': 5, 'rsi_open_period': 2, 'maperiod': 45}}, '6-month': {'mean': {'days_ago_close_period': 5, 'rsi_open_period': 6, 'maperiod': 50}, 'order': {'days_ago_close_period': 5, 'rsi_open_period': 2, 'maperiod': 55}}}\n",
      "Parsing 39768 lines from 2000-01-01 00:00:00 to 2019-11-01 00:00:00\n"
     ]
    },
    {
     "name": "stderr",
     "output_type": "stream",
     "text": [
      "\r",
      " 95%|█████████▍| 239/252 [13:48<02:16, 10.50s/it]"
     ]
    },
    {
     "name": "stdout",
     "output_type": "stream",
     "text": [
      "Parsing 1692 lines from 2018-11-01 00:00:00 to 2019-11-01 00:00:00\n",
      "Parsing 984 lines from 2019-05-01 00:00:00 to 2019-11-01 00:00:00\n",
      "19-11\n",
      "{'max': {'mean': {'days_ago_close_period': 5, 'rsi_open_period': 6, 'maperiod': 40}, 'order': {'days_ago_close_period': 5, 'rsi_open_period': 2, 'maperiod': 40}}, '12-month': {'mean': {'days_ago_close_period': 5, 'rsi_open_period': 4, 'maperiod': 40}, 'order': {'days_ago_close_period': 5, 'rsi_open_period': 2, 'maperiod': 45}}, '6-month': {'mean': {'days_ago_close_period': 5, 'rsi_open_period': 4, 'maperiod': 40}, 'order': {'days_ago_close_period': 5, 'rsi_open_period': 2, 'maperiod': 55}}}\n",
      "Parsing 39948 lines from 2000-01-01 00:00:00 to 2019-12-01 00:00:00\n"
     ]
    },
    {
     "name": "stderr",
     "output_type": "stream",
     "text": [
      "\r",
      " 95%|█████████▌| 240/252 [13:59<02:08, 10.68s/it]"
     ]
    },
    {
     "name": "stdout",
     "output_type": "stream",
     "text": [
      "Parsing 1824 lines from 2018-12-01 00:00:00 to 2019-12-01 00:00:00\n",
      "Parsing 1032 lines from 2019-06-01 00:00:00 to 2019-12-01 00:00:00\n",
      "19-12\n",
      "{'max': {'mean': {'days_ago_close_period': 5, 'rsi_open_period': 6, 'maperiod': 40}, 'order': {'days_ago_close_period': 5, 'rsi_open_period': 2, 'maperiod': 40}}, '12-month': {'mean': {'days_ago_close_period': 5, 'rsi_open_period': 4, 'maperiod': 40}, 'order': {'days_ago_close_period': 5, 'rsi_open_period': 2, 'maperiod': 45}}, '6-month': {'mean': {'days_ago_close_period': 5, 'rsi_open_period': 6, 'maperiod': 50}, 'order': {'days_ago_close_period': 5, 'rsi_open_period': 2, 'maperiod': 55}}}\n",
      "Parsing 39960 lines from 2000-01-01 00:00:00 to 2020-01-01 00:00:00\n"
     ]
    },
    {
     "name": "stderr",
     "output_type": "stream",
     "text": [
      "\r",
      " 96%|█████████▌| 241/252 [14:10<01:58, 10.75s/it]"
     ]
    },
    {
     "name": "stdout",
     "output_type": "stream",
     "text": [
      "Parsing 1518 lines from 2019-01-01 00:00:00 to 2020-01-01 00:00:00\n",
      "Parsing 1014 lines from 2019-07-01 00:00:00 to 2020-01-01 00:00:00\n",
      "20-01\n",
      "{'max': {'mean': {'days_ago_close_period': 5, 'rsi_open_period': 6, 'maperiod': 40}, 'order': {'days_ago_close_period': 5, 'rsi_open_period': 2, 'maperiod': 40}}, '12-month': {'mean': {'days_ago_close_period': 5, 'rsi_open_period': 6, 'maperiod': 50}, 'order': {'days_ago_close_period': 5, 'rsi_open_period': 2, 'maperiod': 45}}, '6-month': {'mean': {'days_ago_close_period': 5, 'rsi_open_period': 6, 'maperiod': 40}, 'order': {'days_ago_close_period': 5, 'rsi_open_period': 2, 'maperiod': 55}}}\n",
      "Parsing 40092 lines from 2000-01-01 00:00:00 to 2020-02-01 00:00:00\n"
     ]
    },
    {
     "name": "stderr",
     "output_type": "stream",
     "text": [
      "\r",
      " 96%|█████████▌| 242/252 [14:23<01:52, 11.24s/it]"
     ]
    },
    {
     "name": "stdout",
     "output_type": "stream",
     "text": [
      "Parsing 1650 lines from 2019-02-01 00:00:00 to 2020-02-01 00:00:00\n",
      "Parsing 936 lines from 2019-08-01 00:00:00 to 2020-02-01 00:00:00\n",
      "20-02\n",
      "{'max': {'mean': {'days_ago_close_period': 5, 'rsi_open_period': 6, 'maperiod': 40}, 'order': {'days_ago_close_period': 5, 'rsi_open_period': 2, 'maperiod': 40}}, '12-month': {'mean': {'days_ago_close_period': 4, 'rsi_open_period': 6, 'maperiod': 35}, 'order': {'days_ago_close_period': 4, 'rsi_open_period': 2, 'maperiod': 45}}, '6-month': {'mean': {'days_ago_close_period': 4, 'rsi_open_period': 4, 'maperiod': 40}, 'order': {'days_ago_close_period': 4, 'rsi_open_period': 4, 'maperiod': 55}}}\n",
      "Parsing 40362 lines from 2000-01-01 00:00:00 to 2020-03-01 00:00:00\n"
     ]
    },
    {
     "name": "stderr",
     "output_type": "stream",
     "text": [
      "\r",
      " 96%|█████████▋| 243/252 [14:36<01:46, 11.79s/it]"
     ]
    },
    {
     "name": "stdout",
     "output_type": "stream",
     "text": [
      "Parsing 1836 lines from 2019-03-01 00:00:00 to 2020-03-01 00:00:00\n",
      "Parsing 996 lines from 2019-09-01 00:00:00 to 2020-03-01 00:00:00\n",
      "20-03\n",
      "{'max': {'mean': {'days_ago_close_period': 5, 'rsi_open_period': 4, 'maperiod': 45}, 'order': {'days_ago_close_period': 5, 'rsi_open_period': 2, 'maperiod': 40}}, '12-month': {'mean': {'days_ago_close_period': 0, 'rsi_open_period': 2, 'maperiod': 50}, 'order': {'days_ago_close_period': 0, 'rsi_open_period': 2, 'maperiod': 50}}, '6-month': {'mean': {'days_ago_close_period': 0, 'rsi_open_period': 2, 'maperiod': 50}, 'order': {'days_ago_close_period': 0, 'rsi_open_period': 2, 'maperiod': 45}}}\n",
      "Parsing 40452 lines from 2000-01-01 00:00:00 to 2020-04-01 00:00:00\n"
     ]
    },
    {
     "name": "stderr",
     "output_type": "stream",
     "text": [
      "\r",
      " 97%|█████████▋| 244/252 [14:47<01:32, 11.52s/it]"
     ]
    },
    {
     "name": "stdout",
     "output_type": "stream",
     "text": [
      "Parsing 1890 lines from 2019-04-01 00:00:00 to 2020-04-01 00:00:00\n",
      "Parsing 762 lines from 2019-10-01 00:00:00 to 2020-04-01 00:00:00\n",
      "20-04\n",
      "{'max': {'mean': {'days_ago_close_period': 5, 'rsi_open_period': 4, 'maperiod': 45}, 'order': {'days_ago_close_period': 5, 'rsi_open_period': 2, 'maperiod': 40}}, '12-month': {'mean': {'days_ago_close_period': 0, 'rsi_open_period': 4, 'maperiod': 35}, 'order': {'days_ago_close_period': 0, 'rsi_open_period': 4, 'maperiod': 35}}, '6-month': {'mean': {'days_ago_close_period': 0, 'rsi_open_period': 4, 'maperiod': 40}, 'order': {'days_ago_close_period': 4, 'rsi_open_period': 4, 'maperiod': 55}}}\n",
      "Parsing 40452 lines from 2000-01-01 00:00:00 to 2020-05-01 00:00:00\n"
     ]
    },
    {
     "name": "stderr",
     "output_type": "stream",
     "text": [
      "\r",
      " 97%|█████████▋| 245/252 [14:57<01:17, 11.07s/it]"
     ]
    },
    {
     "name": "stdout",
     "output_type": "stream",
     "text": [
      "Parsing 1668 lines from 2019-05-01 00:00:00 to 2020-05-01 00:00:00\n",
      "Parsing 684 lines from 2019-11-01 00:00:00 to 2020-05-01 00:00:00\n",
      "20-05\n",
      "{'max': {'mean': {'days_ago_close_period': 5, 'rsi_open_period': 4, 'maperiod': 45}, 'order': {'days_ago_close_period': 5, 'rsi_open_period': 2, 'maperiod': 40}}, '12-month': {'mean': {'days_ago_close_period': 0, 'rsi_open_period': 4, 'maperiod': 35}, 'order': {'days_ago_close_period': 0, 'rsi_open_period': 4, 'maperiod': 35}}, '6-month': {'mean': {'days_ago_close_period': 0, 'rsi_open_period': 4, 'maperiod': 40}, 'order': {'days_ago_close_period': 4, 'rsi_open_period': 4, 'maperiod': 55}}}\n",
      "Parsing 40452 lines from 2000-01-01 00:00:00 to 2020-06-01 00:00:00\n"
     ]
    },
    {
     "name": "stderr",
     "output_type": "stream",
     "text": [
      "\r",
      " 98%|█████████▊| 246/252 [15:07<01:04, 10.77s/it]"
     ]
    },
    {
     "name": "stdout",
     "output_type": "stream",
     "text": [
      "Parsing 1536 lines from 2019-06-01 00:00:00 to 2020-06-01 00:00:00\n",
      "Parsing 504 lines from 2019-12-01 00:00:00 to 2020-06-01 00:00:00\n",
      "20-06\n",
      "{'max': {'mean': {'days_ago_close_period': 5, 'rsi_open_period': 4, 'maperiod': 45}, 'order': {'days_ago_close_period': 5, 'rsi_open_period': 2, 'maperiod': 40}}, '12-month': {'mean': {'days_ago_close_period': 0, 'rsi_open_period': 4, 'maperiod': 35}, 'order': {'days_ago_close_period': 4, 'rsi_open_period': 4, 'maperiod': 50}}, '6-month': {'mean': {'days_ago_close_period': 0, 'rsi_open_period': 4, 'maperiod': 40}, 'order': {'days_ago_close_period': 4, 'rsi_open_period': 4, 'maperiod': 55}}}\n",
      "Parsing 40596 lines from 2000-01-01 00:00:00 to 2020-07-01 00:00:00\n"
     ]
    },
    {
     "name": "stderr",
     "output_type": "stream",
     "text": [
      "\r",
      " 98%|█████████▊| 247/252 [15:17<00:52, 10.56s/it]"
     ]
    },
    {
     "name": "stdout",
     "output_type": "stream",
     "text": [
      "Parsing 1650 lines from 2019-07-01 00:00:00 to 2020-07-01 00:00:00\n",
      "Parsing 636 lines from 2020-01-01 00:00:00 to 2020-07-01 00:00:00\n",
      "20-07\n",
      "{'max': {'mean': {'days_ago_close_period': 5, 'rsi_open_period': 4, 'maperiod': 45}, 'order': {'days_ago_close_period': 5, 'rsi_open_period': 2, 'maperiod': 40}}, '12-month': {'mean': {'days_ago_close_period': 5, 'rsi_open_period': 4, 'maperiod': 40}, 'order': {'days_ago_close_period': 5, 'rsi_open_period': 2, 'maperiod': 55}}, '6-month': {'mean': {'days_ago_close_period': 0, 'rsi_open_period': 4, 'maperiod': 40}, 'order': {'days_ago_close_period': 5, 'rsi_open_period': 2, 'maperiod': 55}}}\n",
      "Parsing 40608 lines from 2000-01-01 00:00:00 to 2020-08-01 00:00:00\n"
     ]
    },
    {
     "name": "stderr",
     "output_type": "stream",
     "text": [
      "\r",
      " 98%|█████████▊| 248/252 [15:27<00:41, 10.42s/it]"
     ]
    },
    {
     "name": "stdout",
     "output_type": "stream",
     "text": [
      "Parsing 1452 lines from 2019-08-01 00:00:00 to 2020-08-01 00:00:00\n",
      "Parsing 516 lines from 2020-02-01 00:00:00 to 2020-08-01 00:00:00\n",
      "20-08\n",
      "{'max': {'mean': {'days_ago_close_period': 5, 'rsi_open_period': 4, 'maperiod': 45}, 'order': {'days_ago_close_period': 5, 'rsi_open_period': 2, 'maperiod': 40}}, '12-month': {'mean': {'days_ago_close_period': 5, 'rsi_open_period': 4, 'maperiod': 40}, 'order': {'days_ago_close_period': 5, 'rsi_open_period': 2, 'maperiod': 30}}, '6-month': {'mean': {'days_ago_close_period': 5, 'rsi_open_period': 2, 'maperiod': 55}, 'order': {'days_ago_close_period': 5, 'rsi_open_period': 2, 'maperiod': 55}}}\n",
      "Parsing 40644 lines from 2000-01-01 00:00:00 to 2020-09-01 00:00:00\n"
     ]
    },
    {
     "name": "stderr",
     "output_type": "stream",
     "text": [
      "\r",
      " 99%|█████████▉| 249/252 [15:37<00:31, 10.38s/it]"
     ]
    },
    {
     "name": "stdout",
     "output_type": "stream",
     "text": [
      "Parsing 1278 lines from 2019-09-01 00:00:00 to 2020-09-01 00:00:00\n",
      "Parsing 282 lines from 2020-03-01 00:00:00 to 2020-09-01 00:00:00\n",
      "20-09\n",
      "{'max': {'mean': {'days_ago_close_period': 5, 'rsi_open_period': 4, 'maperiod': 45}, 'order': {'days_ago_close_period': 5, 'rsi_open_period': 2, 'maperiod': 40}}, '12-month': {'mean': {'days_ago_close_period': 5, 'rsi_open_period': 4, 'maperiod': 40}, 'order': {'days_ago_close_period': 5, 'rsi_open_period': 2, 'maperiod': 30}}, '6-month': {'mean': {'days_ago_close_period': 5, 'rsi_open_period': 4, 'maperiod': 35}, 'order': {'days_ago_close_period': 5, 'rsi_open_period': 2, 'maperiod': 55}}}\n",
      "Parsing 40836 lines from 2000-01-01 00:00:00 to 2020-10-01 00:00:00\n"
     ]
    },
    {
     "name": "stderr",
     "output_type": "stream",
     "text": [
      "\r",
      " 99%|█████████▉| 250/252 [15:47<00:20, 10.33s/it]"
     ]
    },
    {
     "name": "stdout",
     "output_type": "stream",
     "text": [
      "Parsing 1146 lines from 2019-10-01 00:00:00 to 2020-10-01 00:00:00\n",
      "Parsing 384 lines from 2020-04-01 00:00:00 to 2020-10-01 00:00:00\n",
      "20-10\n",
      "{'max': {'mean': {'days_ago_close_period': 5, 'rsi_open_period': 4, 'maperiod': 45}, 'order': {'days_ago_close_period': 5, 'rsi_open_period': 2, 'maperiod': 40}}, '12-month': {'mean': {'days_ago_close_period': 0, 'rsi_open_period': 4, 'maperiod': 40}, 'order': {'days_ago_close_period': 5, 'rsi_open_period': 2, 'maperiod': 55}}, '6-month': {'mean': {'days_ago_close_period': 5, 'rsi_open_period': 4, 'maperiod': 35}, 'order': {'days_ago_close_period': 5, 'rsi_open_period': 2, 'maperiod': 45}}}\n",
      "Parsing 40836 lines from 2000-01-01 00:00:00 to 2020-11-01 00:00:00\n"
     ]
    },
    {
     "name": "stderr",
     "output_type": "stream",
     "text": [
      "\r",
      "100%|█████████▉| 251/252 [15:58<00:10, 10.33s/it]"
     ]
    },
    {
     "name": "stdout",
     "output_type": "stream",
     "text": [
      "Parsing 1068 lines from 2019-11-01 00:00:00 to 2020-11-01 00:00:00\n",
      "Parsing 384 lines from 2020-05-01 00:00:00 to 2020-11-01 00:00:00\n",
      "20-11\n",
      "{'max': {'mean': {'days_ago_close_period': 5, 'rsi_open_period': 4, 'maperiod': 45}, 'order': {'days_ago_close_period': 5, 'rsi_open_period': 2, 'maperiod': 40}}, '12-month': {'mean': {'days_ago_close_period': 0, 'rsi_open_period': 4, 'maperiod': 40}, 'order': {'days_ago_close_period': 5, 'rsi_open_period': 2, 'maperiod': 30}}, '6-month': {'mean': {'days_ago_close_period': 5, 'rsi_open_period': 4, 'maperiod': 35}, 'order': {'days_ago_close_period': 5, 'rsi_open_period': 2, 'maperiod': 45}}}\n",
      "Parsing 40950 lines from 2000-01-01 00:00:00 to 2020-12-01 00:00:00\n"
     ]
    },
    {
     "name": "stderr",
     "output_type": "stream",
     "text": [
      "100%|██████████| 252/252 [16:08<00:00,  3.84s/it]"
     ]
    },
    {
     "name": "stdout",
     "output_type": "stream",
     "text": [
      "Parsing 1002 lines from 2019-12-01 00:00:00 to 2020-12-01 00:00:00\n",
      "Parsing 498 lines from 2020-06-01 00:00:00 to 2020-12-01 00:00:00\n",
      "20-12\n",
      "{'max': {'mean': {'days_ago_close_period': 5, 'rsi_open_period': 4, 'maperiod': 45}, 'order': {'days_ago_close_period': 5, 'rsi_open_period': 2, 'maperiod': 40}}, '12-month': {'mean': {'days_ago_close_period': 0, 'rsi_open_period': 4, 'maperiod': 40}, 'order': {'days_ago_close_period': 5, 'rsi_open_period': 2, 'maperiod': 45}}, '6-month': {'mean': {'days_ago_close_period': 5, 'rsi_open_period': 4, 'maperiod': 35}, 'order': {'days_ago_close_period': 5, 'rsi_open_period': 2, 'maperiod': 45}}}\n"
     ]
    },
    {
     "name": "stderr",
     "output_type": "stream",
     "text": [
      "\n"
     ]
    }
   ],
   "source": [
    "with tqdm.tqdm(total=len(unparsed_date_ranges)) as pbar:\n",
    "\n",
    "    # Simple caching mechanism to speed things up for a lot of computations\n",
    "    PREVIOUS_SIZE = None\n",
    "    PREVIOUS_RES = None\n",
    "    \n",
    "    for date_value, date_ranges in unparsed_date_ranges.items():\n",
    "        optimal_results = {}\n",
    "\n",
    "        def optimize_range(df, range_name, default_if_empty):\n",
    "            range_values = date_ranges[range_name]\n",
    "            _, start_date, end_date = range_values\n",
    "            \n",
    "            filtered_df = filter_df_by_dates(df, start_date, end_date)\n",
    "            size = filtered_df.shape[0] if FRAMEWORK == 'pandas' else filtered_df.shape[0].compute()\n",
    "\n",
    "            if size == globals()['PREVIOUS_SIZE']:\n",
    "                print(f'Using chache for {range_name} - {start_date} to {end_date}')\n",
    "                return globals()['PREVIOUS_RES']\n",
    "            \n",
    "            # TODO: Does this account for statistical significant results?\n",
    "            if size < 100:\n",
    "                print(f'Empty or too small df from (size: {size}) {start_date} to {end_date}')\n",
    "                res = default_if_empty\n",
    "            else:\n",
    "                print(f'Parsing {size} lines from {start_date} to {end_date}')\n",
    "                res = compute_optimal_results(filtered_df)\n",
    "\n",
    "            globals()['PREVIOUS_SIZE'] = size\n",
    "            globals()['PREVIOUS_RES'] = res\n",
    "            \n",
    "            return res\n",
    "                \n",
    "        optimal_results['max'] = optimize_range(df, 'max', DEFAULT_STRATEGY_KWARGS)\n",
    "        optimal_results['12-month'] = optimize_range(df, '12-month', optimal_results['max'])\n",
    "        optimal_results['6-month'] = optimize_range(df, '6-month', optimal_results['12-month'])\n",
    "#         optimal_results['3-month'] = optimize_range(df, '3-month', optimal_results['6-month'])\n",
    "#         optimal_results['1-month'] = optimize_range(df, '1-month', optimal_results['3-month'])\n",
    "\n",
    "        print(date_value)\n",
    "        print(optimal_results)\n",
    "        save_results(date_value, optimal_results)\n",
    "        pbar.update()\n",
    "    "
   ]
  }
 ],
 "metadata": {
  "kernelspec": {
   "display_name": "Python 3",
   "language": "python",
   "name": "python3"
  },
  "language_info": {
   "codemirror_mode": {
    "name": "ipython",
    "version": 3
   },
   "file_extension": ".py",
   "mimetype": "text/x-python",
   "name": "python",
   "nbconvert_exporter": "python",
   "pygments_lexer": "ipython3",
   "version": "3.9.5"
  }
 },
 "nbformat": 4,
 "nbformat_minor": 2
}
